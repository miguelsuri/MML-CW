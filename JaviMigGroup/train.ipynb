{
 "cells": [
  {
   "metadata": {},
   "cell_type": "markdown",
   "source": "# MML Project",
   "id": "ecaef903ba248a98"
  },
  {
   "metadata": {},
   "cell_type": "markdown",
   "source": "Import Libraries",
   "id": "78f4e512cfcd0e89"
  },
  {
   "metadata": {
    "ExecuteTime": {
     "end_time": "2024-10-31T11:50:48.131079Z",
     "start_time": "2024-10-31T11:50:48.128763Z"
    }
   },
   "cell_type": "code",
   "source": [
    "import numpy as np\n",
    "import torch\n",
    "import torch.nn as nn\n",
    "import torch.optim as optim\n",
    "from torch.utils.data import DataLoader, TensorDataset\n",
    "from sklearn.model_selection import train_test_split"
   ],
   "id": "e52f80a823479f95",
   "outputs": [],
   "execution_count": 51
  },
  {
   "metadata": {},
   "cell_type": "markdown",
   "source": "Load the dataset into tensors",
   "id": "32aa5fc265ef66c3"
  },
  {
   "metadata": {
    "ExecuteTime": {
     "end_time": "2024-10-31T11:50:48.177361Z",
     "start_time": "2024-10-31T11:50:48.174485Z"
    }
   },
   "cell_type": "code",
   "source": [
    "# dimensionality of the dataset\n",
    "n = 9"
   ],
   "id": "e178871affa79046",
   "outputs": [],
   "execution_count": 52
  },
  {
   "cell_type": "code",
   "id": "initial_id",
   "metadata": {
    "collapsed": true,
    "ExecuteTime": {
     "end_time": "2024-10-31T11:50:48.229789Z",
     "start_time": "2024-10-31T11:50:48.220399Z"
    }
   },
   "source": [
    "# Load the dataset\n",
    "train_data = np.load(f'../Kryptonite-N-main/Datasets/kryptonite-{n}-X.npy')\n",
    "train_labels = np.load(f'../Kryptonite-N-main/Datasets/kryptonite-{n}-y.npy')\n",
    "\n",
    "# Split the data into training (70%), validation (15%), and test (15%) sets\n",
    "X_train, X_temp, y_train, y_temp = train_test_split(train_data, train_labels, test_size=0.3, random_state=42)\n",
    "X_val, X_test, y_val, y_test = train_test_split(X_temp, y_temp, test_size=0.5, random_state=42)\n",
    "\n",
    "# Convert numpy arrays to PyTorch tensors\n",
    "X_train = torch.tensor(X_train, dtype=torch.float32)\n",
    "y_train = torch.tensor(y_train, dtype=torch.long)\n",
    "X_val = torch.tensor(X_val, dtype=torch.float32)\n",
    "y_val = torch.tensor(y_val, dtype=torch.long)\n",
    "X_test = torch.tensor(X_test, dtype=torch.float32)\n",
    "y_test = torch.tensor(y_test, dtype=torch.long)\n",
    "\n",
    "# Create DataLoader\n",
    "train_dataset = TensorDataset(X_train, y_train)\n",
    "val_dataset = TensorDataset(X_val, y_val)\n",
    "test_dataset = TensorDataset(X_test, y_test)\n",
    "\n",
    "train_loader = DataLoader(train_dataset, batch_size=32, shuffle=True)\n",
    "val_loader = DataLoader(val_dataset, batch_size=32, shuffle=False)\n",
    "test_loader = DataLoader(test_dataset, batch_size=32, shuffle=False)"
   ],
   "outputs": [],
   "execution_count": 53
  },
  {
   "metadata": {},
   "cell_type": "markdown",
   "source": "Get device for training:",
   "id": "e9656bcd5229a7f"
  },
  {
   "metadata": {
    "ExecuteTime": {
     "end_time": "2024-10-31T11:50:48.275119Z",
     "start_time": "2024-10-31T11:50:48.271547Z"
    }
   },
   "cell_type": "code",
   "source": [
    "device = (\n",
    "    \"cuda\"\n",
    "    if torch.cuda.is_available()\n",
    "    else \"mps\"\n",
    "    if torch.backends.mps.is_available()\n",
    "    else \"cpu\"\n",
    ")\n",
    "print(f\"Using {device} device\")"
   ],
   "id": "66a5bb8dffcb6e5",
   "outputs": [
    {
     "name": "stdout",
     "output_type": "stream",
     "text": [
      "Using cpu device\n"
     ]
    }
   ],
   "execution_count": 54
  },
  {
   "metadata": {},
   "cell_type": "markdown",
   "source": "Design the neural network:",
   "id": "c1c76e715e08d3f3"
  },
  {
   "metadata": {
    "ExecuteTime": {
     "end_time": "2024-10-31T11:50:48.326630Z",
     "start_time": "2024-10-31T11:50:48.322704Z"
    }
   },
   "cell_type": "code",
   "source": [
    "# Define a simple neural network\n",
    "class NeuralNetwork(nn.Module):\n",
    "    def __init__(self):\n",
    "        super().__init__()\n",
    "        self.model = nn.Sequential(\n",
    "            nn.Linear(train_data.shape[1], 128),\n",
    "            nn.ReLU(),\n",
    "            nn.Linear(128, 64),\n",
    "            nn.ReLU(),\n",
    "            nn.Linear(64, 1),\n",
    "            nn.Sigmoid() # Binary Classification\n",
    "        )\n",
    "\n",
    "    def forward(self, x):\n",
    "        res = self.model(x)\n",
    "        \n",
    "        return torch.round(res)"
   ],
   "id": "dadfc646fa4c50e6",
   "outputs": [],
   "execution_count": 55
  },
  {
   "metadata": {
    "ExecuteTime": {
     "end_time": "2024-10-31T11:50:48.381329Z",
     "start_time": "2024-10-31T11:50:48.372314Z"
    }
   },
   "cell_type": "code",
   "source": [
    "print(X_train.size())\n",
    "\n",
    "hidden_1 = nn.Linear(train_data.shape[1], 128)(X_train)\n",
    "print(hidden_1.size())\n",
    "\n",
    "hidden_1 = nn.ReLU()(hidden_1)\n",
    "print(hidden_1.size())\n",
    "\n",
    "hidden_2 = nn.Linear(128, 64)(hidden_1)\n",
    "print(hidden_2.size())\n",
    "\n",
    "hidden_2 = nn.ReLU()(hidden_2)\n",
    "print(hidden_2.size())\n",
    "\n",
    "hidden_3 = nn.Linear(64, 1)(hidden_2)\n",
    "print(hidden_3.size())\n",
    "\n",
    "hidden_3 = nn.Sigmoid()(hidden_3)\n",
    "print(hidden_3.size())\n",
    "\n",
    "print(torch.flatten(hidden_3).size())"
   ],
   "id": "7f7f93b1d01520d5",
   "outputs": [
    {
     "name": "stdout",
     "output_type": "stream",
     "text": [
      "torch.Size([12600, 9])\n",
      "torch.Size([12600, 128])\n",
      "torch.Size([12600, 128])\n",
      "torch.Size([12600, 64])\n",
      "torch.Size([12600, 64])\n",
      "torch.Size([12600, 1])\n",
      "torch.Size([12600, 1])\n",
      "torch.Size([12600])\n"
     ]
    }
   ],
   "execution_count": 56
  },
  {
   "metadata": {},
   "cell_type": "markdown",
   "source": "Initialize the model, loss function, and optimizer",
   "id": "7ea61f1c86fc6bf2"
  },
  {
   "metadata": {
    "ExecuteTime": {
     "end_time": "2024-10-31T11:50:48.428736Z",
     "start_time": "2024-10-31T11:50:48.425277Z"
    }
   },
   "cell_type": "code",
   "source": [
    "model = NeuralNetwork().to(device)\n",
    "print(model)\n",
    "\n",
    "learning_rate = 0.001\n",
    "batch_size = 64\n",
    "\n",
    "loss_fn = nn.BCELoss() # For Binary classification\n",
    "optimizer = optim.SGD(model.parameters(), lr=learning_rate)"
   ],
   "id": "613abf15b1ac6b65",
   "outputs": [
    {
     "name": "stdout",
     "output_type": "stream",
     "text": [
      "NeuralNetwork(\n",
      "  (model): Sequential(\n",
      "    (0): Linear(in_features=9, out_features=128, bias=True)\n",
      "    (1): ReLU()\n",
      "    (2): Linear(in_features=128, out_features=64, bias=True)\n",
      "    (3): ReLU()\n",
      "    (4): Linear(in_features=64, out_features=1, bias=True)\n",
      "    (5): Sigmoid()\n",
      "  )\n",
      ")\n"
     ]
    }
   ],
   "execution_count": 57
  },
  {
   "metadata": {},
   "cell_type": "markdown",
   "source": "Other relevant methods:",
   "id": "c30fdf90b9eba2a0"
  },
  {
   "metadata": {
    "ExecuteTime": {
     "end_time": "2024-10-31T11:50:48.478409Z",
     "start_time": "2024-10-31T11:50:48.473019Z"
    }
   },
   "cell_type": "code",
   "source": [
    "# Training function\n",
    "def train_model(dataloader, model, loss_fn, optimizer):\n",
    "    size = len(dataloader.dataset)\n",
    "    \n",
    "    # Set the model to training mode - important for batch normalization and dropout layers\n",
    "    # Unnecessary in this situation but added for best practices\n",
    "    model.train(True)\n",
    "    \n",
    "    running_loss = 0.0\n",
    "    last_loss = 0\n",
    "    \n",
    "    for batch, (inputs, labels) in enumerate(dataloader):\n",
    "        inputs, labels = inputs.to(device), labels.to(device)\n",
    "        \n",
    "        # Reset gradients of model parameters. This prevents double-counting\n",
    "        optimizer.zero_grad() \n",
    "        \n",
    "        # Compute prediction\n",
    "        pred = model(inputs)\n",
    "        \n",
    "        # Reshape labels to match the shape of pred\n",
    "        labels = labels.view(-1, 1).float()\n",
    "        \n",
    "        # Compute the loss and its gradients\n",
    "        loss = loss_fn(pred, labels)\n",
    "        loss.backward() # Backpropagate the prediction loss\n",
    "        \n",
    "        # Adjust learning weights\n",
    "        optimizer.step()\n",
    "        \n",
    "        # Gather data and report\n",
    "        running_loss += loss.item()\n",
    "\n",
    "        if batch % 100 == 999:\n",
    "            last_loss = running_loss / 1000 # loss per batch\n",
    "            print('  batch {} loss: {}'.format(batch + 1, last_loss))\n",
    "            running_loss = 0.\n",
    "            \n",
    "    return last_loss\n",
    "\n",
    "# Testing function\n",
    "def test_model(dataloader, model, loss_fn):\n",
    "    # Set the model to evaluation mode - important for batch normalization and dropout layers\n",
    "    # Unnecessary in this situation but added for best practices\n",
    "    model.eval()\n",
    "    size = len(dataloader.dataset)\n",
    "    num_batches = len(dataloader)\n",
    "    test_loss, correct = 0, 0\n",
    "    \n",
    "    # Evaluating the model with torch.no_grad() ensures that no gradients are computed during test mode\n",
    "    # also serves to reduce unnecessary gradient computations and memory usage for tensors with requires_grad=True\n",
    "    with torch.no_grad():\n",
    "        for inputs, labels in dataloader:\n",
    "            inputs, labels = inputs.to(device), labels.to(device)\n",
    "            \n",
    "            pred = model(inputs)\n",
    "            \n",
    "            # Reshape labels to match the shape of pred\n",
    "            labels = labels.view(-1, 1).float()\n",
    "            \n",
    "            test_loss += loss_fn(pred, labels).item()\n",
    "            correct += (pred == labels).type(torch.float).sum().item()\n",
    "\n",
    "    test_loss /= num_batches\n",
    "    correct /= (size * num_batches)\n",
    "    print(f\"Test Error: \\n Accuracy: {(100*correct):>0.1f}%, Avg loss: {test_loss:>8f} \\n\")\n",
    "    \n",
    "    return test_loss\n",
    "\n",
    "# Save the model\n",
    "def save_model(model, path='model.pth'):\n",
    "    torch.save(model.state_dict(), path)\n",
    "\n",
    "# Load the model\n",
    "def load_model_weights(model, path='model.pth'):\n",
    "    model.load_state_dict(torch.load(path, weights_only=True))\n",
    "    model.eval()\n",
    "    \n",
    "def load_model(path='model.pth'):\n",
    "    return torch.load(path, weights_only=True)"
   ],
   "id": "db07785c26e65a61",
   "outputs": [],
   "execution_count": 58
  },
  {
   "metadata": {},
   "cell_type": "markdown",
   "source": "We train and test the model:",
   "id": "275384fec8c4ba03"
  },
  {
   "metadata": {
    "ExecuteTime": {
     "end_time": "2024-10-31T11:50:48.524614Z",
     "start_time": "2024-10-31T11:50:48.521651Z"
    }
   },
   "cell_type": "code",
   "source": [
    "epochs = 10\n",
    "best_val_loss = 1_000_000\n",
    "# timestamp = datetime.now().strftime('%Y%m%d_%H%M%S')\n",
    "model_path = 'model'"
   ],
   "id": "2eb5d4ffc543dfad",
   "outputs": [],
   "execution_count": 59
  },
  {
   "metadata": {
    "ExecuteTime": {
     "end_time": "2024-10-31T11:50:51.742764Z",
     "start_time": "2024-10-31T11:50:48.572189Z"
    }
   },
   "cell_type": "code",
   "source": [
    "for t in range(epochs):\n",
    "    print(f\"Epoch {t+1}\\n-------------------------------\")\n",
    "    \n",
    "    avg_loss = train_model(train_loader, model, loss_fn, optimizer)\n",
    "    \n",
    "    avg_val_loss = test_model(val_loader, model, loss_fn)\n",
    "    \n",
    "    # Track best performance, and save the model's state\n",
    "    if avg_val_loss < best_val_loss:\n",
    "        best_vloss = avg_val_loss\n",
    "        # model_path = 'model_{}_{}'.format(timestamp, t)\n",
    "        torch.save(model.state_dict(), model_path)\n",
    "\n",
    "print(\"Done!\")"
   ],
   "id": "84c1147105b6be6d",
   "outputs": [
    {
     "name": "stdout",
     "output_type": "stream",
     "text": [
      "Epoch 1\n",
      "-------------------------------\n",
      "Test Error: \n",
      " Accuracy: 0.6%, Avg loss: 50.686274 \n",
      "\n",
      "Epoch 2\n",
      "-------------------------------\n",
      "Test Error: \n",
      " Accuracy: 0.6%, Avg loss: 50.686274 \n",
      "\n",
      "Epoch 3\n",
      "-------------------------------\n",
      "Test Error: \n",
      " Accuracy: 0.6%, Avg loss: 50.686274 \n",
      "\n",
      "Epoch 4\n",
      "-------------------------------\n",
      "Test Error: \n",
      " Accuracy: 0.6%, Avg loss: 50.686274 \n",
      "\n",
      "Epoch 5\n",
      "-------------------------------\n",
      "Test Error: \n",
      " Accuracy: 0.6%, Avg loss: 50.686274 \n",
      "\n",
      "Epoch 6\n",
      "-------------------------------\n",
      "Test Error: \n",
      " Accuracy: 0.6%, Avg loss: 50.686274 \n",
      "\n",
      "Epoch 7\n",
      "-------------------------------\n",
      "Test Error: \n",
      " Accuracy: 0.6%, Avg loss: 50.686274 \n",
      "\n",
      "Epoch 8\n",
      "-------------------------------\n",
      "Test Error: \n",
      " Accuracy: 0.6%, Avg loss: 50.686274 \n",
      "\n",
      "Epoch 9\n",
      "-------------------------------\n",
      "Test Error: \n",
      " Accuracy: 0.6%, Avg loss: 50.686274 \n",
      "\n",
      "Epoch 10\n",
      "-------------------------------\n",
      "Test Error: \n",
      " Accuracy: 0.6%, Avg loss: 50.686274 \n",
      "\n",
      "Done!\n"
     ]
    }
   ],
   "execution_count": 60
  },
  {
   "metadata": {
    "ExecuteTime": {
     "end_time": "2024-10-31T11:50:51.791259Z",
     "start_time": "2024-10-31T11:50:51.754760Z"
    }
   },
   "cell_type": "code",
   "source": [
    "# Load the best model\n",
    "load_model_weights(model, model_path)\n",
    "\n",
    "print(\"Test performance in test data set\")\n",
    "test_model(test_loader, model, loss_fn)\n",
    "\n",
    "# Save the model\n",
    "# save_model(model)\n",
    "\n",
    "# Load the model (example usage)\n",
    "# load_model(model)\n",
    "# test_model(test_loader, model, loss_fn)"
   ],
   "id": "9f0df544ebc75636",
   "outputs": [
    {
     "name": "stdout",
     "output_type": "stream",
     "text": [
      "Test performance in test data set\n",
      "Test Error: \n",
      " Accuracy: 0.6%, Avg loss: 51.127451 \n",
      "\n"
     ]
    },
    {
     "data": {
      "text/plain": [
       "51.12745096543256"
      ]
     },
     "execution_count": 61,
     "metadata": {},
     "output_type": "execute_result"
    }
   ],
   "execution_count": 61
  }
 ],
 "metadata": {
  "kernelspec": {
   "display_name": "Python 3",
   "language": "python",
   "name": "python3"
  },
  "language_info": {
   "codemirror_mode": {
    "name": "ipython",
    "version": 2
   },
   "file_extension": ".py",
   "mimetype": "text/x-python",
   "name": "python",
   "nbconvert_exporter": "python",
   "pygments_lexer": "ipython2",
   "version": "2.7.6"
  }
 },
 "nbformat": 4,
 "nbformat_minor": 5
}
