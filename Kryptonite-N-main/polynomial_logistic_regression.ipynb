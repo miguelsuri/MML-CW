{
 "cells": [
  {
   "cell_type": "markdown",
   "id": "de79fcc9",
   "metadata": {},
   "source": [
    "### Pred for McNemar Test"
   ]
  },
  {
   "cell_type": "code",
   "execution_count": null,
   "id": "e594dad7",
   "metadata": {},
   "outputs": [
    {
     "name": "stdout",
     "output_type": "stream",
     "text": [
      "9\n"
     ]
    },
    {
     "name": "stderr",
     "output_type": "stream",
     "text": [
      "c:\\Users\\berma\\Documents\\Mathematics for Machine Learning\\MML-CW\\.venv\\Lib\\site-packages\\sklearn\\linear_model\\_sag.py:349: ConvergenceWarning: The max_iter was reached which means the coef_ did not converge\n",
      "  warnings.warn(\n"
     ]
    },
    {
     "name": "stdout",
     "output_type": "stream",
     "text": [
      "Fit Model\n",
      "Test Accuracy: 0.5097\n",
      "12\n"
     ]
    },
    {
     "name": "stderr",
     "output_type": "stream",
     "text": [
      "c:\\Users\\berma\\Documents\\Mathematics for Machine Learning\\MML-CW\\.venv\\Lib\\site-packages\\sklearn\\linear_model\\_sag.py:349: ConvergenceWarning: The max_iter was reached which means the coef_ did not converge\n",
      "  warnings.warn(\n"
     ]
    },
    {
     "name": "stdout",
     "output_type": "stream",
     "text": [
      "Fit Model\n",
      "Test Accuracy: 0.4890\n",
      "15\n"
     ]
    },
    {
     "name": "stderr",
     "output_type": "stream",
     "text": [
      "c:\\Users\\berma\\Documents\\Mathematics for Machine Learning\\MML-CW\\.venv\\Lib\\site-packages\\sklearn\\linear_model\\_sag.py:349: ConvergenceWarning: The max_iter was reached which means the coef_ did not converge\n",
      "  warnings.warn(\n"
     ]
    },
    {
     "name": "stdout",
     "output_type": "stream",
     "text": [
      "Fit Model\n",
      "Test Accuracy: 0.5073\n",
      "18\n"
     ]
    },
    {
     "name": "stderr",
     "output_type": "stream",
     "text": [
      "c:\\Users\\berma\\Documents\\Mathematics for Machine Learning\\MML-CW\\.venv\\Lib\\site-packages\\sklearn\\linear_model\\_sag.py:349: ConvergenceWarning: The max_iter was reached which means the coef_ did not converge\n",
      "  warnings.warn(\n"
     ]
    },
    {
     "name": "stdout",
     "output_type": "stream",
     "text": [
      "Fit Model\n",
      "Test Accuracy: 0.5050\n"
     ]
    }
   ],
   "source": [
    "import numpy as np\n",
    "from sklearn.preprocessing import PolynomialFeatures\n",
    "from sklearn.linear_model import LogisticRegression\n",
    "from sklearn.metrics import accuracy_score\n",
    "\n",
    "def run_poly_logistic_regression_fixed_datasets(n, e):\n",
    "    \"\"\"\n",
    "    Run polynomial logistic regression on fixed datasets and save predictions for further evaluation.\n",
    "\n",
    "    Parameters:\n",
    "    ----------\n",
    "    n : int\n",
    "        Identifier for the dataset (e.g., 9, 12, 15, 18), which specifies the corresponding dataset files.\n",
    "    e : int\n",
    "        The degree of the polynomial features to be created from the input data.\n",
    "\n",
    "    Returns:\n",
    "    -------\n",
    "    None\n",
    "        Saves predictions (`y_test_pred`) and prediction probabilities (`y_test_pred_proba`) \n",
    "        to .npy files for further evaluation (e.g., McNemar's test). Outputs test accuracy to the console.\n",
    "\n",
    "    Notes:\n",
    "    -----\n",
    "    - Input datasets are expected to follow a specific naming convention:\n",
    "        `Datasets_Train_Test_Split/kryptonite-{n}-X_train.npy` for training features,\n",
    "        `Datasets_Train_Test_Split/kryptonite-{n}-y_train.npy` for training labels,\n",
    "        and similarly for test data.\n",
    "    - Polynomial feature transformations are applied to the input data.\n",
    "    - Logistic regression uses the 'sag' solver and regularization strength `C=0.85`.\n",
    "    \"\"\"\n",
    "    X_train = np.load('Datasets_Train_Test_Split/kryptonite-%s-X_train.npy' % (n))\n",
    "    y_train = np.load('Datasets_Train_Test_Split/kryptonite-%s-y_train.npy' % (n))\n",
    "    X_test = np.load('Datasets_Train_Test_Split/kryptonite-%s-X_test.npy' % (n))\n",
    "    y_test = np.load('Datasets_Train_Test_Split/kryptonite-%s-y_test.npy' % (n))\n",
    "\n",
    "\n",
    "    # Create polynomial features (set degree as desired)\n",
    "    degree = e\n",
    "    poly = PolynomialFeatures(degree)\n",
    "    X_train_poly = poly.fit_transform(X_train)\n",
    "    X_test_poly = poly.transform(X_test)\n",
    "\n",
    "    # Initialize and fit logistic regression\n",
    "    logreg = LogisticRegression(max_iter=100, solver='sag', C=0.85)\n",
    "    logreg.fit(X_train_poly, y_train)\n",
    "    print(\"Fit Model\")\n",
    "\n",
    "    # Evaluate on the test set\n",
    "    y_test_pred = logreg.predict(X_test_poly)\n",
    "    y_test_pred_proba = logreg.predict_proba(X_test_poly)\n",
    "    test_accuracy = accuracy_score(y_test, y_test_pred)\n",
    "    print(f\"Test Accuracy: {test_accuracy:.4f}\")\n",
    "\n",
    "    # Save predictions for mcnemar test\n",
    "    np.save('Datasets_Train_Test_Split/kryptonite_%s_pred_logreg.npy' % (n), y_test_pred)\n",
    "    np.save('Datasets_Train_Test_Split/kryptonite_%s_pred_proba_logreg.npy' % (n), y_test_pred_proba)\n",
    "\n",
    "possible_n_vals = [9, 12, 15, 18]\n",
    "\n",
    "\n",
    "for n in possible_n_vals:\n",
    "    print(n)\n",
    "    run_poly_logistic_regression_fixed_datasets(n=n, e=5)"
   ]
  }
 ],
 "metadata": {
  "kernelspec": {
   "display_name": ".venv",
   "language": "python",
   "name": "python3"
  },
  "language_info": {
   "codemirror_mode": {
    "name": "ipython",
    "version": 3
   },
   "file_extension": ".py",
   "mimetype": "text/x-python",
   "name": "python",
   "nbconvert_exporter": "python",
   "pygments_lexer": "ipython3",
   "version": "3.12.0"
  }
 },
 "nbformat": 4,
 "nbformat_minor": 5
}
