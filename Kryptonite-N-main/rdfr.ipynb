{
 "cells": [
  {
   "cell_type": "code",
   "execution_count": 1,
   "metadata": {},
   "outputs": [
    {
     "name": "stderr",
     "output_type": "stream",
     "text": [
      "  0%|          | 0/1 [00:00<?, ?it/s]"
     ]
    },
    {
     "name": "stdout",
     "output_type": "stream",
     "text": [
      "n:[15], e:[1]\n",
      "Shape of train features: (12000, 1)\n"
     ]
    },
    {
     "name": "stderr",
     "output_type": "stream",
     "text": []
    },
    {
     "name": "stdout",
     "output_type": "stream",
     "text": [
      "Fit Model\n",
      "Validation Accuracy: 0.5031\n",
      "Test Accuracy: 0.5063\n",
      "n:[15], e:[3]\n",
      "Shape of train features: (12000, 3)\n"
     ]
    },
    {
     "name": "stderr",
     "output_type": "stream",
     "text": []
    },
    {
     "name": "stdout",
     "output_type": "stream",
     "text": [
      "Fit Model\n",
      "Validation Accuracy: 0.5031\n",
      "Test Accuracy: 0.5072\n",
      "n:[15], e:[5]\n",
      "Shape of train features: (12000, 5)\n"
     ]
    },
    {
     "name": "stderr",
     "output_type": "stream",
     "text": []
    },
    {
     "name": "stdout",
     "output_type": "stream",
     "text": [
      "Fit Model\n",
      "Validation Accuracy: 0.5174\n",
      "Test Accuracy: 0.5198\n",
      "n:[15], e:[7]\n",
      "Shape of train features: (12000, 7)\n"
     ]
    },
    {
     "name": "stderr",
     "output_type": "stream",
     "text": []
    },
    {
     "name": "stdout",
     "output_type": "stream",
     "text": [
      "Fit Model\n",
      "Validation Accuracy: 0.5219\n",
      "Test Accuracy: 0.5322\n",
      "n:[15], e:[15]\n",
      "Shape of train features: (12000, 15)\n"
     ]
    },
    {
     "name": "stderr",
     "output_type": "stream",
     "text": [
      "100%|██████████| 5/5 [00:02<00:00,  2.05it/s]\n",
      "100%|██████████| 1/1 [00:02<00:00,  2.44s/it]"
     ]
    },
    {
     "name": "stdout",
     "output_type": "stream",
     "text": [
      "Fit Model\n",
      "Validation Accuracy: 0.5406\n",
      "Test Accuracy: 0.5544\n",
      "[[0.5063333333333333, 0.5072222222222222, 0.5197777777777778, 0.5322222222222223, 0.5544444444444444]]\n"
     ]
    },
    {
     "name": "stderr",
     "output_type": "stream",
     "text": [
      "\n"
     ]
    }
   ],
   "source": [
    "import numpy as np\n",
    "from sklearn.model_selection import train_test_split\n",
    "from sklearn.preprocessing import StandardScaler\n",
    "from sklearn.metrics import accuracy_score\n",
    "from sklearn.ensemble import RandomForestClassifier\n",
    "from sklearn.decomposition import PCA\n",
    "\n",
    "possible_n_vals = [9, 12, 15, 18, 24]\n",
    "possible_n_vals = [15]\n",
    "possible_e_vals = [1, 3, 5, 7, 15]\n",
    "\n",
    "\n",
    "def run_model(n, e):\n",
    "\n",
    "    X = np.load('Datasets/kryptonite-%s-X.npy'%(n))\n",
    "    y = np.load('Datasets/kryptonite-%s-y.npy'%(n))\n",
    "\n",
    "    # Shuffle and split the data\n",
    "    X_train, X_temp, y_train, y_temp = train_test_split(X, y, test_size=0.6, random_state=42)  # 60% training\n",
    "    X_val, X_test, y_val, y_test = train_test_split(X_temp, y_temp, test_size=0.5, random_state=42)  # 20% validation, 20% test\n",
    "\n",
    "\n",
    "    scaler = StandardScaler()\n",
    "    X_train_scaled = scaler.fit_transform(X_train)\n",
    "    X_val_scaled = scaler.transform(X_val)\n",
    "    x_test_scaled = scaler.transform(X_test)\n",
    "\n",
    "    # print(np.mean(X_train_scaled, axis=0))\n",
    "    # print(np.std(X_train_scaled, axis=0))\n",
    "\n",
    "    feature_creator = PCA(n_components=min(e, X_train.shape[1]))\n",
    "    X_train_features = feature_creator.fit_transform(X_train_scaled)\n",
    "    X_val_features = feature_creator.transform(X_val_scaled)\n",
    "    X_test_features = feature_creator.transform(x_test_scaled)\n",
    "    \n",
    "    \n",
    "    # print(\"Created features\")\n",
    "\n",
    "    features = X_train_features.shape[-1]\n",
    "\n",
    "    print(f'n:[{n}], e:[{e}]')\n",
    "    print('Shape of train features:', X_train_features.shape)\n",
    "\n",
    "    # Initialize and fit logistic regression\n",
    "    classifier = RandomForestClassifier(n_estimators=100, max_depth=20, random_state=42, n_jobs=-1, max_features='log2')\n",
    "    classifier.fit(X_train_features, y_train)\n",
    "    print(\"Fit Model\")\n",
    "\n",
    "    # Evaluate on the validation set\n",
    "    y_val_pred = classifier.predict(X_val_features)\n",
    "    val_accuracy = accuracy_score(y_val, y_val_pred)\n",
    "    print(f\"Validation Accuracy: {val_accuracy:.4f}\")\n",
    "\n",
    "    # Evaluate on the test set\n",
    "    y_test_pred = classifier.predict(X_test_features)\n",
    "    test_accuracy = accuracy_score(y_test, y_test_pred)\n",
    "    print(f\"Test Accuracy: {test_accuracy:.4f}\")\n",
    "    return test_accuracy, features\n",
    "        \n",
    "\n",
    "\n",
    "from tqdm import tqdm\n",
    "\n",
    "acc_by_n = []\n",
    "feat_by_n = []\n",
    "for n in tqdm(possible_n_vals):\n",
    "    single_n = []\n",
    "    single_feat = []\n",
    "    for e in tqdm(possible_e_vals):\n",
    "        acc, feat = run_model(n, e)\n",
    "        single_n.append(acc)\n",
    "        single_feat.append(feat)\n",
    "    acc_by_n.append(single_n)\n",
    "    feat_by_n.append(single_feat)\n",
    "\n",
    "print(acc_by_n)"
   ]
  },
  {
   "cell_type": "code",
   "execution_count": 9,
   "metadata": {},
   "outputs": [],
   "source": [
    "from tqdm import tqdm\n",
    "\n",
    "acc_by_n = []\n",
    "feat_by_n = []\n",
    "for n in tqdm(possible_n_vals):\n",
    "    single_n = []\n",
    "    single_feat = []\n",
    "    for e in tqdm(possible_e_vals):\n",
    "        acc, feat = run_model(n, e)\n",
    "        single_n.append(acc)\n",
    "        single_feat.append(feat)\n",
    "    acc_by_n.append(single_n)\n",
    "    feat_by_n.append(single_feat)\n",
    "\n",
    "print(acc_by_n)"
   ]
  },
  {
   "cell_type": "code",
   "execution_count": null,
   "metadata": {},
   "outputs": [],
   "source": [
    "(sees(haya, X) ∧ dog(X) ∧ owns(lucinda, X)) ∧ (sees(haya, Y) ∧ dog(Y) ∧ owns(lucinda, Y)) ∧\n",
    "(¬(X = Y)))\n"
   ]
  }
 ],
 "metadata": {
  "kernelspec": {
   "display_name": "venv",
   "language": "python",
   "name": "python3"
  },
  "language_info": {
   "codemirror_mode": {
    "name": "ipython",
    "version": 3
   },
   "file_extension": ".py",
   "mimetype": "text/x-python",
   "name": "python",
   "nbconvert_exporter": "python",
   "pygments_lexer": "ipython3",
   "version": "3.12.3"
  }
 },
 "nbformat": 4,
 "nbformat_minor": 2
}
