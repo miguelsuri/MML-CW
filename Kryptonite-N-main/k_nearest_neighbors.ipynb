{
 "cells": [
  {
   "cell_type": "code",
   "execution_count": null,
   "metadata": {},
   "outputs": [
    {
     "name": "stderr",
     "output_type": "stream",
     "text": [
      "[I 2024-11-11 19:40:38,176] A new study created in memory with name: no-name-bfc86c58-a5cf-4a55-ad84-93c5129147cd\n",
      "[I 2024-11-11 19:40:38,454] Trial 0 finished with value: 0.7525694444444444 and parameters: {'use_pca': 'False', 'pca_kernel': 'poly', 'degree_pca': 1, 'gamma_pca': 1.7691115740044365, 'n_pca_components': 9, 'n_neighbors': 36, 'weights': 'distance'}. Best is trial 0 with value: 0.7525694444444444.\n",
      "[I 2024-11-11 19:40:38,952] Trial 1 finished with value: 0.18958333333333333 and parameters: {'use_pca': 'False', 'pca_kernel': 'linear', 'n_pca_components': 5, 'n_neighbors': 25, 'weights': 'uniform'}. Best is trial 0 with value: 0.7525694444444444.\n",
      "[I 2024-11-11 19:40:39,216] Trial 2 finished with value: 0.7483333333333333 and parameters: {'use_pca': 'False', 'pca_kernel': 'rbf', 'gamma_pca': 9.211253934780128, 'n_pca_components': 6, 'n_neighbors': 32, 'weights': 'distance'}. Best is trial 0 with value: 0.7525694444444444.\n",
      "[I 2024-11-11 19:40:40,187] Trial 3 finished with value: 0.5103472222222222 and parameters: {'use_pca': 'True', 'pca_kernel': 'cosine', 'n_pca_components': 7, 'n_neighbors': 13, 'weights': 'uniform'}. Best is trial 0 with value: 0.7525694444444444.\n",
      "[I 2024-11-11 19:40:41,011] Trial 4 finished with value: 0.503125 and parameters: {'use_pca': 'True', 'pca_kernel': 'rbf', 'gamma_pca': 6.101635125883331, 'n_pca_components': 9, 'n_neighbors': 19, 'weights': 'distance'}. Best is trial 0 with value: 0.7525694444444444.\n",
      "[I 2024-11-11 19:40:41,168] Trial 5 finished with value: 0.9313888888888889 and parameters: {'use_pca': 'False', 'pca_kernel': 'rbf', 'gamma_pca': 7.467680579501304, 'n_pca_components': 2, 'n_neighbors': 9, 'weights': 'distance'}. Best is trial 5 with value: 0.9313888888888889.\n",
      "[I 2024-11-11 19:40:41,813] Trial 6 pruned. \n",
      "[I 2024-11-11 19:40:42,435] Trial 7 pruned. \n",
      "[I 2024-11-11 19:40:42,708] Trial 8 finished with value: 0.7698611111111111 and parameters: {'use_pca': 'False', 'pca_kernel': 'poly', 'degree_pca': 5, 'gamma_pca': 8.282590403338348, 'n_pca_components': 7, 'n_neighbors': 43, 'weights': 'distance'}. Best is trial 5 with value: 0.9313888888888889.\n",
      "[I 2024-11-11 19:40:43,755] Trial 9 pruned. \n",
      "[I 2024-11-11 19:40:43,836] Trial 10 finished with value: 0.9518055555555556 and parameters: {'use_pca': 'False', 'pca_kernel': 'linear', 'n_pca_components': 1, 'n_neighbors': 5, 'weights': 'distance'}. Best is trial 10 with value: 0.9518055555555556.\n",
      "[I 2024-11-11 19:40:43,939] Trial 11 finished with value: 0.9518055555555556 and parameters: {'use_pca': 'False', 'pca_kernel': 'linear', 'n_pca_components': 1, 'n_neighbors': 5, 'weights': 'distance'}. Best is trial 10 with value: 0.9518055555555556.\n",
      "[I 2024-11-11 19:40:44,036] Trial 12 finished with value: 0.9518055555555556 and parameters: {'use_pca': 'False', 'pca_kernel': 'linear', 'n_pca_components': 3, 'n_neighbors': 5, 'weights': 'distance'}. Best is trial 10 with value: 0.9518055555555556.\n",
      "[I 2024-11-11 19:40:44,134] Trial 13 finished with value: 0.9518055555555556 and parameters: {'use_pca': 'False', 'pca_kernel': 'linear', 'n_pca_components': 3, 'n_neighbors': 5, 'weights': 'distance'}. Best is trial 10 with value: 0.9518055555555556.\n",
      "[I 2024-11-11 19:40:44,368] Trial 14 finished with value: 0.8547916666666666 and parameters: {'use_pca': 'False', 'pca_kernel': 'linear', 'n_pca_components': 1, 'n_neighbors': 16, 'weights': 'distance'}. Best is trial 10 with value: 0.9518055555555556.\n",
      "[I 2024-11-11 19:40:44,542] Trial 15 finished with value: 0.9215972222222222 and parameters: {'use_pca': 'False', 'pca_kernel': 'linear', 'n_pca_components': 3, 'n_neighbors': 10, 'weights': 'distance'}. Best is trial 10 with value: 0.9518055555555556.\n",
      "[I 2024-11-11 19:40:44,795] Trial 16 pruned. \n",
      "[I 2024-11-11 19:40:45,034] Trial 17 pruned. \n",
      "[I 2024-11-11 19:40:45,445] Trial 18 pruned. \n",
      "[I 2024-11-11 19:40:45,682] Trial 19 pruned. \n",
      "[I 2024-11-11 19:40:45,781] Trial 20 finished with value: 0.9518055555555556 and parameters: {'use_pca': 'False', 'pca_kernel': 'sigmoid', 'gamma_pca': 3.2568718331596287, 'n_pca_components': 4, 'n_neighbors': 5, 'weights': 'distance'}. Best is trial 10 with value: 0.9518055555555556.\n",
      "[I 2024-11-11 19:40:45,884] Trial 21 finished with value: 0.9496527777777778 and parameters: {'use_pca': 'False', 'pca_kernel': 'linear', 'n_pca_components': 3, 'n_neighbors': 6, 'weights': 'distance'}. Best is trial 10 with value: 0.9518055555555556.\n",
      "[I 2024-11-11 19:40:46,031] Trial 22 finished with value: 0.9215972222222222 and parameters: {'use_pca': 'False', 'pca_kernel': 'linear', 'n_pca_components': 2, 'n_neighbors': 10, 'weights': 'distance'}. Best is trial 10 with value: 0.9518055555555556.\n",
      "[I 2024-11-11 19:40:46,237] Trial 23 pruned. \n",
      "[I 2024-11-11 19:40:46,540] Trial 24 pruned. \n",
      "[I 2024-11-11 19:40:46,665] Trial 25 finished with value: 0.9397916666666667 and parameters: {'use_pca': 'False', 'pca_kernel': 'poly', 'degree_pca': 10, 'gamma_pca': 0.11675992224874854, 'n_pca_components': 3, 'n_neighbors': 8, 'weights': 'distance'}. Best is trial 10 with value: 0.9518055555555556.\n",
      "[I 2024-11-11 19:40:47,293] Trial 26 pruned. \n",
      "[I 2024-11-11 19:40:47,368] Trial 27 finished with value: 0.9518055555555556 and parameters: {'use_pca': 'False', 'pca_kernel': 'linear', 'n_pca_components': 1, 'n_neighbors': 5, 'weights': 'distance'}. Best is trial 10 with value: 0.9518055555555556.\n",
      "[I 2024-11-11 19:40:47,546] Trial 28 pruned. \n",
      "[I 2024-11-11 19:40:47,692] Trial 29 finished with value: 0.9397916666666667 and parameters: {'use_pca': 'False', 'pca_kernel': 'poly', 'degree_pca': 10, 'gamma_pca': 9.90580442632135, 'n_pca_components': 3, 'n_neighbors': 8, 'weights': 'distance'}. Best is trial 10 with value: 0.9518055555555556.\n",
      "[I 2024-11-11 19:40:47,902] Trial 30 pruned. \n",
      "[I 2024-11-11 19:40:48,011] Trial 31 finished with value: 0.9496527777777778 and parameters: {'use_pca': 'False', 'pca_kernel': 'linear', 'n_pca_components': 5, 'n_neighbors': 6, 'weights': 'distance'}. Best is trial 10 with value: 0.9518055555555556.\n",
      "[I 2024-11-11 19:40:48,175] Trial 32 pruned. \n",
      "[I 2024-11-11 19:40:48,275] Trial 33 finished with value: 0.9518055555555556 and parameters: {'use_pca': 'False', 'pca_kernel': 'linear', 'n_pca_components': 5, 'n_neighbors': 5, 'weights': 'distance'}. Best is trial 10 with value: 0.9518055555555556.\n",
      "[I 2024-11-11 19:40:48,733] Trial 34 pruned. \n",
      "[I 2024-11-11 19:40:48,877] Trial 35 finished with value: 0.9397916666666667 and parameters: {'use_pca': 'False', 'pca_kernel': 'cosine', 'n_pca_components': 2, 'n_neighbors': 8, 'weights': 'distance'}. Best is trial 10 with value: 0.9518055555555556.\n",
      "[I 2024-11-11 19:40:49,443] Trial 36 pruned. \n",
      "[I 2024-11-11 19:40:49,690] Trial 37 pruned. \n",
      "[I 2024-11-11 19:40:50,302] Trial 38 pruned. \n",
      "[I 2024-11-11 19:40:50,558] Trial 39 pruned. \n",
      "[I 2024-11-11 19:40:50,666] Trial 40 finished with value: 0.9465277777777777 and parameters: {'use_pca': 'False', 'pca_kernel': 'rbf', 'gamma_pca': 5.923807247813791, 'n_pca_components': 8, 'n_neighbors': 7, 'weights': 'distance'}. Best is trial 10 with value: 0.9518055555555556.\n",
      "[I 2024-11-11 19:40:50,747] Trial 41 finished with value: 0.9518055555555556 and parameters: {'use_pca': 'False', 'pca_kernel': 'sigmoid', 'gamma_pca': 2.549271636212395, 'n_pca_components': 4, 'n_neighbors': 5, 'weights': 'distance'}. Best is trial 10 with value: 0.9518055555555556.\n",
      "[I 2024-11-11 19:40:50,890] Trial 42 finished with value: 0.9397916666666667 and parameters: {'use_pca': 'False', 'pca_kernel': 'sigmoid', 'gamma_pca': 3.7680862706511533, 'n_pca_components': 5, 'n_neighbors': 8, 'weights': 'distance'}. Best is trial 10 with value: 0.9518055555555556.\n",
      "[I 2024-11-11 19:40:50,987] Trial 43 finished with value: 0.9518055555555556 and parameters: {'use_pca': 'False', 'pca_kernel': 'sigmoid', 'gamma_pca': 4.930877446252268, 'n_pca_components': 3, 'n_neighbors': 5, 'weights': 'distance'}. Best is trial 10 with value: 0.9518055555555556.\n",
      "[I 2024-11-11 19:40:51,273] Trial 44 pruned. \n",
      "[I 2024-11-11 19:40:51,656] Trial 45 pruned. \n",
      "[I 2024-11-11 19:40:52,108] Trial 46 pruned. \n",
      "[I 2024-11-11 19:40:52,268] Trial 47 pruned. \n",
      "[I 2024-11-11 19:40:52,469] Trial 48 pruned. \n",
      "[I 2024-11-11 19:40:52,865] Trial 49 pruned. \n",
      "[I 2024-11-11 19:40:53,114] Trial 50 pruned. \n",
      "[I 2024-11-11 19:40:53,213] Trial 51 finished with value: 0.9518055555555556 and parameters: {'use_pca': 'False', 'pca_kernel': 'linear', 'n_pca_components': 1, 'n_neighbors': 5, 'weights': 'distance'}. Best is trial 10 with value: 0.9518055555555556.\n",
      "[I 2024-11-11 19:40:53,392] Trial 52 pruned. \n",
      "[I 2024-11-11 19:40:53,496] Trial 53 finished with value: 0.9465277777777777 and parameters: {'use_pca': 'False', 'pca_kernel': 'linear', 'n_pca_components': 1, 'n_neighbors': 7, 'weights': 'distance'}. Best is trial 10 with value: 0.9518055555555556.\n",
      "[I 2024-11-11 19:40:53,601] Trial 54 finished with value: 0.9518055555555556 and parameters: {'use_pca': 'False', 'pca_kernel': 'linear', 'n_pca_components': 2, 'n_neighbors': 5, 'weights': 'distance'}. Best is trial 10 with value: 0.9518055555555556.\n",
      "[I 2024-11-11 19:40:53,878] Trial 55 pruned. \n",
      "[I 2024-11-11 19:40:54,267] Trial 56 pruned. \n",
      "[I 2024-11-11 19:40:54,526] Trial 57 pruned. \n",
      "[I 2024-11-11 19:40:54,635] Trial 58 finished with value: 0.9465277777777777 and parameters: {'use_pca': 'False', 'pca_kernel': 'sigmoid', 'gamma_pca': 6.747231423027387, 'n_pca_components': 3, 'n_neighbors': 7, 'weights': 'distance'}. Best is trial 10 with value: 0.9518055555555556.\n",
      "[I 2024-11-11 19:40:54,813] Trial 59 pruned. \n",
      "[I 2024-11-11 19:40:54,908] Trial 60 finished with value: 0.9496527777777778 and parameters: {'use_pca': 'False', 'pca_kernel': 'linear', 'n_pca_components': 1, 'n_neighbors': 6, 'weights': 'distance'}. Best is trial 10 with value: 0.9518055555555556.\n",
      "[I 2024-11-11 19:40:55,013] Trial 61 finished with value: 0.9518055555555556 and parameters: {'use_pca': 'False', 'pca_kernel': 'linear', 'n_pca_components': 6, 'n_neighbors': 5, 'weights': 'distance'}. Best is trial 10 with value: 0.9518055555555556.\n",
      "[I 2024-11-11 19:40:55,171] Trial 62 pruned. \n",
      "[I 2024-11-11 19:40:55,298] Trial 63 finished with value: 0.9465277777777777 and parameters: {'use_pca': 'False', 'pca_kernel': 'linear', 'n_pca_components': 4, 'n_neighbors': 7, 'weights': 'distance'}. Best is trial 10 with value: 0.9518055555555556.\n",
      "[I 2024-11-11 19:40:55,400] Trial 64 finished with value: 0.9518055555555556 and parameters: {'use_pca': 'False', 'pca_kernel': 'linear', 'n_pca_components': 5, 'n_neighbors': 5, 'weights': 'distance'}. Best is trial 10 with value: 0.9518055555555556.\n",
      "[I 2024-11-11 19:40:55,550] Trial 65 pruned. \n",
      "[I 2024-11-11 19:40:56,460] Trial 66 pruned. \n",
      "[I 2024-11-11 19:40:56,643] Trial 67 pruned. \n",
      "[I 2024-11-11 19:40:56,761] Trial 68 finished with value: 0.9496527777777778 and parameters: {'use_pca': 'False', 'pca_kernel': 'rbf', 'gamma_pca': 5.433478041846408, 'n_pca_components': 3, 'n_neighbors': 6, 'weights': 'distance'}. Best is trial 10 with value: 0.9518055555555556.\n",
      "[I 2024-11-11 19:40:56,922] Trial 69 pruned. \n",
      "[I 2024-11-11 19:40:57,080] Trial 70 pruned. \n",
      "[I 2024-11-11 19:40:57,185] Trial 71 finished with value: 0.9518055555555556 and parameters: {'use_pca': 'False', 'pca_kernel': 'sigmoid', 'gamma_pca': 2.6100371415759342, 'n_pca_components': 4, 'n_neighbors': 5, 'weights': 'distance'}. Best is trial 10 with value: 0.9518055555555556.\n",
      "[I 2024-11-11 19:40:57,299] Trial 72 finished with value: 0.9496527777777778 and parameters: {'use_pca': 'False', 'pca_kernel': 'sigmoid', 'gamma_pca': 2.215352204239572, 'n_pca_components': 4, 'n_neighbors': 6, 'weights': 'distance'}. Best is trial 10 with value: 0.9518055555555556.\n",
      "[I 2024-11-11 19:40:57,444] Trial 73 pruned. \n",
      "[I 2024-11-11 19:40:57,565] Trial 74 pruned. \n",
      "[I 2024-11-11 19:40:57,669] Trial 75 finished with value: 0.9518055555555556 and parameters: {'use_pca': 'False', 'pca_kernel': 'sigmoid', 'gamma_pca': 0.19869022093895916, 'n_pca_components': 5, 'n_neighbors': 5, 'weights': 'distance'}. Best is trial 10 with value: 0.9518055555555556.\n",
      "[I 2024-11-11 19:40:57,826] Trial 76 pruned. \n",
      "[I 2024-11-11 19:40:58,442] Trial 77 pruned. \n",
      "[I 2024-11-11 19:40:58,757] Trial 78 pruned. \n",
      "[I 2024-11-11 19:40:59,069] Trial 79 pruned. \n",
      "[I 2024-11-11 19:40:59,261] Trial 80 pruned. \n",
      "[I 2024-11-11 19:40:59,345] Trial 81 finished with value: 0.9518055555555556 and parameters: {'use_pca': 'False', 'pca_kernel': 'sigmoid', 'gamma_pca': 4.362805357861334, 'n_pca_components': 3, 'n_neighbors': 5, 'weights': 'distance'}. Best is trial 10 with value: 0.9518055555555556.\n",
      "[I 2024-11-11 19:40:59,467] Trial 82 pruned. \n",
      "[I 2024-11-11 19:40:59,567] Trial 83 finished with value: 0.9496527777777778 and parameters: {'use_pca': 'False', 'pca_kernel': 'sigmoid', 'gamma_pca': 2.7557814875402746, 'n_pca_components': 2, 'n_neighbors': 6, 'weights': 'distance'}. Best is trial 10 with value: 0.9518055555555556.\n",
      "[I 2024-11-11 19:40:59,719] Trial 84 pruned. \n",
      "[I 2024-11-11 19:40:59,943] Trial 85 pruned. \n",
      "[I 2024-11-11 19:41:00,045] Trial 86 finished with value: 0.9518055555555556 and parameters: {'use_pca': 'False', 'pca_kernel': 'rbf', 'gamma_pca': 6.691164645592325, 'n_pca_components': 2, 'n_neighbors': 5, 'weights': 'distance'}. Best is trial 10 with value: 0.9518055555555556.\n",
      "[I 2024-11-11 19:41:00,180] Trial 87 pruned. \n",
      "[I 2024-11-11 19:41:00,618] Trial 88 pruned. \n",
      "[I 2024-11-11 19:41:00,985] Trial 89 pruned. \n",
      "[I 2024-11-11 19:41:01,244] Trial 90 pruned. \n",
      "[I 2024-11-11 19:41:01,324] Trial 91 finished with value: 0.9518055555555556 and parameters: {'use_pca': 'False', 'pca_kernel': 'linear', 'n_pca_components': 1, 'n_neighbors': 5, 'weights': 'distance'}. Best is trial 10 with value: 0.9518055555555556.\n",
      "[I 2024-11-11 19:41:01,438] Trial 92 finished with value: 0.9496527777777778 and parameters: {'use_pca': 'False', 'pca_kernel': 'linear', 'n_pca_components': 1, 'n_neighbors': 6, 'weights': 'distance'}. Best is trial 10 with value: 0.9518055555555556.\n",
      "[I 2024-11-11 19:41:01,533] Trial 93 finished with value: 0.9518055555555556 and parameters: {'use_pca': 'False', 'pca_kernel': 'linear', 'n_pca_components': 1, 'n_neighbors': 5, 'weights': 'distance'}. Best is trial 10 with value: 0.9518055555555556.\n",
      "[I 2024-11-11 19:41:01,813] Trial 94 pruned. \n",
      "[I 2024-11-11 19:41:01,910] Trial 95 finished with value: 0.9496527777777778 and parameters: {'use_pca': 'False', 'pca_kernel': 'linear', 'n_pca_components': 2, 'n_neighbors': 6, 'weights': 'distance'}. Best is trial 10 with value: 0.9518055555555556.\n",
      "[I 2024-11-11 19:41:02,068] Trial 96 pruned. \n",
      "[I 2024-11-11 19:41:02,184] Trial 97 pruned. \n",
      "[I 2024-11-11 19:41:02,326] Trial 98 pruned. \n",
      "[I 2024-11-11 19:41:02,421] Trial 99 finished with value: 0.9496527777777778 and parameters: {'use_pca': 'False', 'pca_kernel': 'linear', 'n_pca_components': 4, 'n_neighbors': 6, 'weights': 'distance'}. Best is trial 10 with value: 0.9518055555555556.\n"
     ]
    },
    {
     "name": "stdout",
     "output_type": "stream",
     "text": [
      "Best hyperparameters: {'use_pca': 'False', 'pca_kernel': 'linear', 'n_pca_components': 1, 'n_neighbors': 5, 'weights': 'distance'}\n",
      "Best value: 0.9518055555555556\n"
     ]
    },
    {
     "data": {
      "application/vnd.plotly.v1+json": {
       "config": {
        "plotlyServerURL": "https://plot.ly"
       },
       "data": [
        {
         "mode": "markers",
         "name": "Objective Value",
         "type": "scatter",
         "x": [
          0,
          1,
          2,
          3,
          4,
          5,
          8,
          10,
          11,
          12,
          13,
          14,
          15,
          20,
          21,
          22,
          25,
          27,
          29,
          31,
          33,
          35,
          40,
          41,
          42,
          43,
          51,
          53,
          54,
          58,
          60,
          61,
          63,
          64,
          68,
          71,
          72,
          75,
          81,
          83,
          86,
          91,
          92,
          93,
          95,
          99
         ],
         "y": [
          0.7525694444444444,
          0.18958333333333333,
          0.7483333333333333,
          0.5103472222222222,
          0.503125,
          0.9313888888888889,
          0.7698611111111111,
          0.9518055555555556,
          0.9518055555555556,
          0.9518055555555556,
          0.9518055555555556,
          0.8547916666666666,
          0.9215972222222222,
          0.9518055555555556,
          0.9496527777777778,
          0.9215972222222222,
          0.9397916666666667,
          0.9518055555555556,
          0.9397916666666667,
          0.9496527777777778,
          0.9518055555555556,
          0.9397916666666667,
          0.9465277777777777,
          0.9518055555555556,
          0.9397916666666667,
          0.9518055555555556,
          0.9518055555555556,
          0.9465277777777777,
          0.9518055555555556,
          0.9465277777777777,
          0.9496527777777778,
          0.9518055555555556,
          0.9465277777777777,
          0.9518055555555556,
          0.9496527777777778,
          0.9518055555555556,
          0.9496527777777778,
          0.9518055555555556,
          0.9518055555555556,
          0.9496527777777778,
          0.9518055555555556,
          0.9518055555555556,
          0.9496527777777778,
          0.9518055555555556,
          0.9496527777777778,
          0.9496527777777778
         ]
        },
        {
         "mode": "lines",
         "name": "Best Value",
         "type": "scatter",
         "x": [
          0,
          1,
          2,
          3,
          4,
          5,
          6,
          7,
          8,
          9,
          10,
          11,
          12,
          13,
          14,
          15,
          16,
          17,
          18,
          19,
          20,
          21,
          22,
          23,
          24,
          25,
          26,
          27,
          28,
          29,
          30,
          31,
          32,
          33,
          34,
          35,
          36,
          37,
          38,
          39,
          40,
          41,
          42,
          43,
          44,
          45,
          46,
          47,
          48,
          49,
          50,
          51,
          52,
          53,
          54,
          55,
          56,
          57,
          58,
          59,
          60,
          61,
          62,
          63,
          64,
          65,
          66,
          67,
          68,
          69,
          70,
          71,
          72,
          73,
          74,
          75,
          76,
          77,
          78,
          79,
          80,
          81,
          82,
          83,
          84,
          85,
          86,
          87,
          88,
          89,
          90,
          91,
          92,
          93,
          94,
          95,
          96,
          97,
          98,
          99
         ],
         "y": [
          0.7525694444444444,
          0.7525694444444444,
          0.7525694444444444,
          0.7525694444444444,
          0.7525694444444444,
          0.9313888888888889,
          0.9313888888888889,
          0.9313888888888889,
          0.9313888888888889,
          0.9313888888888889,
          0.9518055555555556,
          0.9518055555555556,
          0.9518055555555556,
          0.9518055555555556,
          0.9518055555555556,
          0.9518055555555556,
          0.9518055555555556,
          0.9518055555555556,
          0.9518055555555556,
          0.9518055555555556,
          0.9518055555555556,
          0.9518055555555556,
          0.9518055555555556,
          0.9518055555555556,
          0.9518055555555556,
          0.9518055555555556,
          0.9518055555555556,
          0.9518055555555556,
          0.9518055555555556,
          0.9518055555555556,
          0.9518055555555556,
          0.9518055555555556,
          0.9518055555555556,
          0.9518055555555556,
          0.9518055555555556,
          0.9518055555555556,
          0.9518055555555556,
          0.9518055555555556,
          0.9518055555555556,
          0.9518055555555556,
          0.9518055555555556,
          0.9518055555555556,
          0.9518055555555556,
          0.9518055555555556,
          0.9518055555555556,
          0.9518055555555556,
          0.9518055555555556,
          0.9518055555555556,
          0.9518055555555556,
          0.9518055555555556,
          0.9518055555555556,
          0.9518055555555556,
          0.9518055555555556,
          0.9518055555555556,
          0.9518055555555556,
          0.9518055555555556,
          0.9518055555555556,
          0.9518055555555556,
          0.9518055555555556,
          0.9518055555555556,
          0.9518055555555556,
          0.9518055555555556,
          0.9518055555555556,
          0.9518055555555556,
          0.9518055555555556,
          0.9518055555555556,
          0.9518055555555556,
          0.9518055555555556,
          0.9518055555555556,
          0.9518055555555556,
          0.9518055555555556,
          0.9518055555555556,
          0.9518055555555556,
          0.9518055555555556,
          0.9518055555555556,
          0.9518055555555556,
          0.9518055555555556,
          0.9518055555555556,
          0.9518055555555556,
          0.9518055555555556,
          0.9518055555555556,
          0.9518055555555556,
          0.9518055555555556,
          0.9518055555555556,
          0.9518055555555556,
          0.9518055555555556,
          0.9518055555555556,
          0.9518055555555556,
          0.9518055555555556,
          0.9518055555555556,
          0.9518055555555556,
          0.9518055555555556,
          0.9518055555555556,
          0.9518055555555556,
          0.9518055555555556,
          0.9518055555555556,
          0.9518055555555556,
          0.9518055555555556,
          0.9518055555555556,
          0.9518055555555556
         ]
        },
        {
         "marker": {
          "color": "#cccccc"
         },
         "mode": "markers",
         "name": "Infeasible Trial",
         "showlegend": false,
         "type": "scatter",
         "x": [],
         "y": []
        }
       ],
       "layout": {
        "template": {
         "data": {
          "bar": [
           {
            "error_x": {
             "color": "#2a3f5f"
            },
            "error_y": {
             "color": "#2a3f5f"
            },
            "marker": {
             "line": {
              "color": "#E5ECF6",
              "width": 0.5
             },
             "pattern": {
              "fillmode": "overlay",
              "size": 10,
              "solidity": 0.2
             }
            },
            "type": "bar"
           }
          ],
          "barpolar": [
           {
            "marker": {
             "line": {
              "color": "#E5ECF6",
              "width": 0.5
             },
             "pattern": {
              "fillmode": "overlay",
              "size": 10,
              "solidity": 0.2
             }
            },
            "type": "barpolar"
           }
          ],
          "carpet": [
           {
            "aaxis": {
             "endlinecolor": "#2a3f5f",
             "gridcolor": "white",
             "linecolor": "white",
             "minorgridcolor": "white",
             "startlinecolor": "#2a3f5f"
            },
            "baxis": {
             "endlinecolor": "#2a3f5f",
             "gridcolor": "white",
             "linecolor": "white",
             "minorgridcolor": "white",
             "startlinecolor": "#2a3f5f"
            },
            "type": "carpet"
           }
          ],
          "choropleth": [
           {
            "colorbar": {
             "outlinewidth": 0,
             "ticks": ""
            },
            "type": "choropleth"
           }
          ],
          "contour": [
           {
            "colorbar": {
             "outlinewidth": 0,
             "ticks": ""
            },
            "colorscale": [
             [
              0,
              "#0d0887"
             ],
             [
              0.1111111111111111,
              "#46039f"
             ],
             [
              0.2222222222222222,
              "#7201a8"
             ],
             [
              0.3333333333333333,
              "#9c179e"
             ],
             [
              0.4444444444444444,
              "#bd3786"
             ],
             [
              0.5555555555555556,
              "#d8576b"
             ],
             [
              0.6666666666666666,
              "#ed7953"
             ],
             [
              0.7777777777777778,
              "#fb9f3a"
             ],
             [
              0.8888888888888888,
              "#fdca26"
             ],
             [
              1,
              "#f0f921"
             ]
            ],
            "type": "contour"
           }
          ],
          "contourcarpet": [
           {
            "colorbar": {
             "outlinewidth": 0,
             "ticks": ""
            },
            "type": "contourcarpet"
           }
          ],
          "heatmap": [
           {
            "colorbar": {
             "outlinewidth": 0,
             "ticks": ""
            },
            "colorscale": [
             [
              0,
              "#0d0887"
             ],
             [
              0.1111111111111111,
              "#46039f"
             ],
             [
              0.2222222222222222,
              "#7201a8"
             ],
             [
              0.3333333333333333,
              "#9c179e"
             ],
             [
              0.4444444444444444,
              "#bd3786"
             ],
             [
              0.5555555555555556,
              "#d8576b"
             ],
             [
              0.6666666666666666,
              "#ed7953"
             ],
             [
              0.7777777777777778,
              "#fb9f3a"
             ],
             [
              0.8888888888888888,
              "#fdca26"
             ],
             [
              1,
              "#f0f921"
             ]
            ],
            "type": "heatmap"
           }
          ],
          "heatmapgl": [
           {
            "colorbar": {
             "outlinewidth": 0,
             "ticks": ""
            },
            "colorscale": [
             [
              0,
              "#0d0887"
             ],
             [
              0.1111111111111111,
              "#46039f"
             ],
             [
              0.2222222222222222,
              "#7201a8"
             ],
             [
              0.3333333333333333,
              "#9c179e"
             ],
             [
              0.4444444444444444,
              "#bd3786"
             ],
             [
              0.5555555555555556,
              "#d8576b"
             ],
             [
              0.6666666666666666,
              "#ed7953"
             ],
             [
              0.7777777777777778,
              "#fb9f3a"
             ],
             [
              0.8888888888888888,
              "#fdca26"
             ],
             [
              1,
              "#f0f921"
             ]
            ],
            "type": "heatmapgl"
           }
          ],
          "histogram": [
           {
            "marker": {
             "pattern": {
              "fillmode": "overlay",
              "size": 10,
              "solidity": 0.2
             }
            },
            "type": "histogram"
           }
          ],
          "histogram2d": [
           {
            "colorbar": {
             "outlinewidth": 0,
             "ticks": ""
            },
            "colorscale": [
             [
              0,
              "#0d0887"
             ],
             [
              0.1111111111111111,
              "#46039f"
             ],
             [
              0.2222222222222222,
              "#7201a8"
             ],
             [
              0.3333333333333333,
              "#9c179e"
             ],
             [
              0.4444444444444444,
              "#bd3786"
             ],
             [
              0.5555555555555556,
              "#d8576b"
             ],
             [
              0.6666666666666666,
              "#ed7953"
             ],
             [
              0.7777777777777778,
              "#fb9f3a"
             ],
             [
              0.8888888888888888,
              "#fdca26"
             ],
             [
              1,
              "#f0f921"
             ]
            ],
            "type": "histogram2d"
           }
          ],
          "histogram2dcontour": [
           {
            "colorbar": {
             "outlinewidth": 0,
             "ticks": ""
            },
            "colorscale": [
             [
              0,
              "#0d0887"
             ],
             [
              0.1111111111111111,
              "#46039f"
             ],
             [
              0.2222222222222222,
              "#7201a8"
             ],
             [
              0.3333333333333333,
              "#9c179e"
             ],
             [
              0.4444444444444444,
              "#bd3786"
             ],
             [
              0.5555555555555556,
              "#d8576b"
             ],
             [
              0.6666666666666666,
              "#ed7953"
             ],
             [
              0.7777777777777778,
              "#fb9f3a"
             ],
             [
              0.8888888888888888,
              "#fdca26"
             ],
             [
              1,
              "#f0f921"
             ]
            ],
            "type": "histogram2dcontour"
           }
          ],
          "mesh3d": [
           {
            "colorbar": {
             "outlinewidth": 0,
             "ticks": ""
            },
            "type": "mesh3d"
           }
          ],
          "parcoords": [
           {
            "line": {
             "colorbar": {
              "outlinewidth": 0,
              "ticks": ""
             }
            },
            "type": "parcoords"
           }
          ],
          "pie": [
           {
            "automargin": true,
            "type": "pie"
           }
          ],
          "scatter": [
           {
            "fillpattern": {
             "fillmode": "overlay",
             "size": 10,
             "solidity": 0.2
            },
            "type": "scatter"
           }
          ],
          "scatter3d": [
           {
            "line": {
             "colorbar": {
              "outlinewidth": 0,
              "ticks": ""
             }
            },
            "marker": {
             "colorbar": {
              "outlinewidth": 0,
              "ticks": ""
             }
            },
            "type": "scatter3d"
           }
          ],
          "scattercarpet": [
           {
            "marker": {
             "colorbar": {
              "outlinewidth": 0,
              "ticks": ""
             }
            },
            "type": "scattercarpet"
           }
          ],
          "scattergeo": [
           {
            "marker": {
             "colorbar": {
              "outlinewidth": 0,
              "ticks": ""
             }
            },
            "type": "scattergeo"
           }
          ],
          "scattergl": [
           {
            "marker": {
             "colorbar": {
              "outlinewidth": 0,
              "ticks": ""
             }
            },
            "type": "scattergl"
           }
          ],
          "scattermapbox": [
           {
            "marker": {
             "colorbar": {
              "outlinewidth": 0,
              "ticks": ""
             }
            },
            "type": "scattermapbox"
           }
          ],
          "scatterpolar": [
           {
            "marker": {
             "colorbar": {
              "outlinewidth": 0,
              "ticks": ""
             }
            },
            "type": "scatterpolar"
           }
          ],
          "scatterpolargl": [
           {
            "marker": {
             "colorbar": {
              "outlinewidth": 0,
              "ticks": ""
             }
            },
            "type": "scatterpolargl"
           }
          ],
          "scatterternary": [
           {
            "marker": {
             "colorbar": {
              "outlinewidth": 0,
              "ticks": ""
             }
            },
            "type": "scatterternary"
           }
          ],
          "surface": [
           {
            "colorbar": {
             "outlinewidth": 0,
             "ticks": ""
            },
            "colorscale": [
             [
              0,
              "#0d0887"
             ],
             [
              0.1111111111111111,
              "#46039f"
             ],
             [
              0.2222222222222222,
              "#7201a8"
             ],
             [
              0.3333333333333333,
              "#9c179e"
             ],
             [
              0.4444444444444444,
              "#bd3786"
             ],
             [
              0.5555555555555556,
              "#d8576b"
             ],
             [
              0.6666666666666666,
              "#ed7953"
             ],
             [
              0.7777777777777778,
              "#fb9f3a"
             ],
             [
              0.8888888888888888,
              "#fdca26"
             ],
             [
              1,
              "#f0f921"
             ]
            ],
            "type": "surface"
           }
          ],
          "table": [
           {
            "cells": {
             "fill": {
              "color": "#EBF0F8"
             },
             "line": {
              "color": "white"
             }
            },
            "header": {
             "fill": {
              "color": "#C8D4E3"
             },
             "line": {
              "color": "white"
             }
            },
            "type": "table"
           }
          ]
         },
         "layout": {
          "annotationdefaults": {
           "arrowcolor": "#2a3f5f",
           "arrowhead": 0,
           "arrowwidth": 1
          },
          "autotypenumbers": "strict",
          "coloraxis": {
           "colorbar": {
            "outlinewidth": 0,
            "ticks": ""
           }
          },
          "colorscale": {
           "diverging": [
            [
             0,
             "#8e0152"
            ],
            [
             0.1,
             "#c51b7d"
            ],
            [
             0.2,
             "#de77ae"
            ],
            [
             0.3,
             "#f1b6da"
            ],
            [
             0.4,
             "#fde0ef"
            ],
            [
             0.5,
             "#f7f7f7"
            ],
            [
             0.6,
             "#e6f5d0"
            ],
            [
             0.7,
             "#b8e186"
            ],
            [
             0.8,
             "#7fbc41"
            ],
            [
             0.9,
             "#4d9221"
            ],
            [
             1,
             "#276419"
            ]
           ],
           "sequential": [
            [
             0,
             "#0d0887"
            ],
            [
             0.1111111111111111,
             "#46039f"
            ],
            [
             0.2222222222222222,
             "#7201a8"
            ],
            [
             0.3333333333333333,
             "#9c179e"
            ],
            [
             0.4444444444444444,
             "#bd3786"
            ],
            [
             0.5555555555555556,
             "#d8576b"
            ],
            [
             0.6666666666666666,
             "#ed7953"
            ],
            [
             0.7777777777777778,
             "#fb9f3a"
            ],
            [
             0.8888888888888888,
             "#fdca26"
            ],
            [
             1,
             "#f0f921"
            ]
           ],
           "sequentialminus": [
            [
             0,
             "#0d0887"
            ],
            [
             0.1111111111111111,
             "#46039f"
            ],
            [
             0.2222222222222222,
             "#7201a8"
            ],
            [
             0.3333333333333333,
             "#9c179e"
            ],
            [
             0.4444444444444444,
             "#bd3786"
            ],
            [
             0.5555555555555556,
             "#d8576b"
            ],
            [
             0.6666666666666666,
             "#ed7953"
            ],
            [
             0.7777777777777778,
             "#fb9f3a"
            ],
            [
             0.8888888888888888,
             "#fdca26"
            ],
            [
             1,
             "#f0f921"
            ]
           ]
          },
          "colorway": [
           "#636efa",
           "#EF553B",
           "#00cc96",
           "#ab63fa",
           "#FFA15A",
           "#19d3f3",
           "#FF6692",
           "#B6E880",
           "#FF97FF",
           "#FECB52"
          ],
          "font": {
           "color": "#2a3f5f"
          },
          "geo": {
           "bgcolor": "white",
           "lakecolor": "white",
           "landcolor": "#E5ECF6",
           "showlakes": true,
           "showland": true,
           "subunitcolor": "white"
          },
          "hoverlabel": {
           "align": "left"
          },
          "hovermode": "closest",
          "mapbox": {
           "style": "light"
          },
          "paper_bgcolor": "white",
          "plot_bgcolor": "#E5ECF6",
          "polar": {
           "angularaxis": {
            "gridcolor": "white",
            "linecolor": "white",
            "ticks": ""
           },
           "bgcolor": "#E5ECF6",
           "radialaxis": {
            "gridcolor": "white",
            "linecolor": "white",
            "ticks": ""
           }
          },
          "scene": {
           "xaxis": {
            "backgroundcolor": "#E5ECF6",
            "gridcolor": "white",
            "gridwidth": 2,
            "linecolor": "white",
            "showbackground": true,
            "ticks": "",
            "zerolinecolor": "white"
           },
           "yaxis": {
            "backgroundcolor": "#E5ECF6",
            "gridcolor": "white",
            "gridwidth": 2,
            "linecolor": "white",
            "showbackground": true,
            "ticks": "",
            "zerolinecolor": "white"
           },
           "zaxis": {
            "backgroundcolor": "#E5ECF6",
            "gridcolor": "white",
            "gridwidth": 2,
            "linecolor": "white",
            "showbackground": true,
            "ticks": "",
            "zerolinecolor": "white"
           }
          },
          "shapedefaults": {
           "line": {
            "color": "#2a3f5f"
           }
          },
          "ternary": {
           "aaxis": {
            "gridcolor": "white",
            "linecolor": "white",
            "ticks": ""
           },
           "baxis": {
            "gridcolor": "white",
            "linecolor": "white",
            "ticks": ""
           },
           "bgcolor": "#E5ECF6",
           "caxis": {
            "gridcolor": "white",
            "linecolor": "white",
            "ticks": ""
           }
          },
          "title": {
           "x": 0.05
          },
          "xaxis": {
           "automargin": true,
           "gridcolor": "white",
           "linecolor": "white",
           "ticks": "",
           "title": {
            "standoff": 15
           },
           "zerolinecolor": "white",
           "zerolinewidth": 2
          },
          "yaxis": {
           "automargin": true,
           "gridcolor": "white",
           "linecolor": "white",
           "ticks": "",
           "title": {
            "standoff": 15
           },
           "zerolinecolor": "white",
           "zerolinewidth": 2
          }
         }
        },
        "title": {
         "text": "Optimization History Plot"
        },
        "xaxis": {
         "title": {
          "text": "Trial"
         }
        },
        "yaxis": {
         "title": {
          "text": "Objective Value"
         }
        }
       }
      }
     },
     "metadata": {},
     "output_type": "display_data"
    },
    {
     "data": {
      "application/vnd.plotly.v1+json": {
       "config": {
        "plotlyServerURL": "https://plot.ly"
       },
       "data": [
        {
         "cliponaxis": false,
         "hovertemplate": [
          "pca_kernel (CategoricalDistribution): 0.042261913856548275<extra></extra>",
          "n_pca_components (IntDistribution): 0.05500173731488772<extra></extra>",
          "use_pca (CategoricalDistribution): 0.1541764393060621<extra></extra>",
          "n_neighbors (IntDistribution): 0.3537473926832748<extra></extra>",
          "weights (CategoricalDistribution): 0.39481251683922713<extra></extra>"
         ],
         "name": "Objective Value",
         "orientation": "h",
         "text": [
          "0.04",
          "0.06",
          "0.15",
          "0.35",
          "0.39"
         ],
         "textposition": "outside",
         "type": "bar",
         "x": [
          0.042261913856548275,
          0.05500173731488772,
          0.1541764393060621,
          0.3537473926832748,
          0.39481251683922713
         ],
         "y": [
          "pca_kernel",
          "n_pca_components",
          "use_pca",
          "n_neighbors",
          "weights"
         ]
        }
       ],
       "layout": {
        "template": {
         "data": {
          "bar": [
           {
            "error_x": {
             "color": "#2a3f5f"
            },
            "error_y": {
             "color": "#2a3f5f"
            },
            "marker": {
             "line": {
              "color": "#E5ECF6",
              "width": 0.5
             },
             "pattern": {
              "fillmode": "overlay",
              "size": 10,
              "solidity": 0.2
             }
            },
            "type": "bar"
           }
          ],
          "barpolar": [
           {
            "marker": {
             "line": {
              "color": "#E5ECF6",
              "width": 0.5
             },
             "pattern": {
              "fillmode": "overlay",
              "size": 10,
              "solidity": 0.2
             }
            },
            "type": "barpolar"
           }
          ],
          "carpet": [
           {
            "aaxis": {
             "endlinecolor": "#2a3f5f",
             "gridcolor": "white",
             "linecolor": "white",
             "minorgridcolor": "white",
             "startlinecolor": "#2a3f5f"
            },
            "baxis": {
             "endlinecolor": "#2a3f5f",
             "gridcolor": "white",
             "linecolor": "white",
             "minorgridcolor": "white",
             "startlinecolor": "#2a3f5f"
            },
            "type": "carpet"
           }
          ],
          "choropleth": [
           {
            "colorbar": {
             "outlinewidth": 0,
             "ticks": ""
            },
            "type": "choropleth"
           }
          ],
          "contour": [
           {
            "colorbar": {
             "outlinewidth": 0,
             "ticks": ""
            },
            "colorscale": [
             [
              0,
              "#0d0887"
             ],
             [
              0.1111111111111111,
              "#46039f"
             ],
             [
              0.2222222222222222,
              "#7201a8"
             ],
             [
              0.3333333333333333,
              "#9c179e"
             ],
             [
              0.4444444444444444,
              "#bd3786"
             ],
             [
              0.5555555555555556,
              "#d8576b"
             ],
             [
              0.6666666666666666,
              "#ed7953"
             ],
             [
              0.7777777777777778,
              "#fb9f3a"
             ],
             [
              0.8888888888888888,
              "#fdca26"
             ],
             [
              1,
              "#f0f921"
             ]
            ],
            "type": "contour"
           }
          ],
          "contourcarpet": [
           {
            "colorbar": {
             "outlinewidth": 0,
             "ticks": ""
            },
            "type": "contourcarpet"
           }
          ],
          "heatmap": [
           {
            "colorbar": {
             "outlinewidth": 0,
             "ticks": ""
            },
            "colorscale": [
             [
              0,
              "#0d0887"
             ],
             [
              0.1111111111111111,
              "#46039f"
             ],
             [
              0.2222222222222222,
              "#7201a8"
             ],
             [
              0.3333333333333333,
              "#9c179e"
             ],
             [
              0.4444444444444444,
              "#bd3786"
             ],
             [
              0.5555555555555556,
              "#d8576b"
             ],
             [
              0.6666666666666666,
              "#ed7953"
             ],
             [
              0.7777777777777778,
              "#fb9f3a"
             ],
             [
              0.8888888888888888,
              "#fdca26"
             ],
             [
              1,
              "#f0f921"
             ]
            ],
            "type": "heatmap"
           }
          ],
          "heatmapgl": [
           {
            "colorbar": {
             "outlinewidth": 0,
             "ticks": ""
            },
            "colorscale": [
             [
              0,
              "#0d0887"
             ],
             [
              0.1111111111111111,
              "#46039f"
             ],
             [
              0.2222222222222222,
              "#7201a8"
             ],
             [
              0.3333333333333333,
              "#9c179e"
             ],
             [
              0.4444444444444444,
              "#bd3786"
             ],
             [
              0.5555555555555556,
              "#d8576b"
             ],
             [
              0.6666666666666666,
              "#ed7953"
             ],
             [
              0.7777777777777778,
              "#fb9f3a"
             ],
             [
              0.8888888888888888,
              "#fdca26"
             ],
             [
              1,
              "#f0f921"
             ]
            ],
            "type": "heatmapgl"
           }
          ],
          "histogram": [
           {
            "marker": {
             "pattern": {
              "fillmode": "overlay",
              "size": 10,
              "solidity": 0.2
             }
            },
            "type": "histogram"
           }
          ],
          "histogram2d": [
           {
            "colorbar": {
             "outlinewidth": 0,
             "ticks": ""
            },
            "colorscale": [
             [
              0,
              "#0d0887"
             ],
             [
              0.1111111111111111,
              "#46039f"
             ],
             [
              0.2222222222222222,
              "#7201a8"
             ],
             [
              0.3333333333333333,
              "#9c179e"
             ],
             [
              0.4444444444444444,
              "#bd3786"
             ],
             [
              0.5555555555555556,
              "#d8576b"
             ],
             [
              0.6666666666666666,
              "#ed7953"
             ],
             [
              0.7777777777777778,
              "#fb9f3a"
             ],
             [
              0.8888888888888888,
              "#fdca26"
             ],
             [
              1,
              "#f0f921"
             ]
            ],
            "type": "histogram2d"
           }
          ],
          "histogram2dcontour": [
           {
            "colorbar": {
             "outlinewidth": 0,
             "ticks": ""
            },
            "colorscale": [
             [
              0,
              "#0d0887"
             ],
             [
              0.1111111111111111,
              "#46039f"
             ],
             [
              0.2222222222222222,
              "#7201a8"
             ],
             [
              0.3333333333333333,
              "#9c179e"
             ],
             [
              0.4444444444444444,
              "#bd3786"
             ],
             [
              0.5555555555555556,
              "#d8576b"
             ],
             [
              0.6666666666666666,
              "#ed7953"
             ],
             [
              0.7777777777777778,
              "#fb9f3a"
             ],
             [
              0.8888888888888888,
              "#fdca26"
             ],
             [
              1,
              "#f0f921"
             ]
            ],
            "type": "histogram2dcontour"
           }
          ],
          "mesh3d": [
           {
            "colorbar": {
             "outlinewidth": 0,
             "ticks": ""
            },
            "type": "mesh3d"
           }
          ],
          "parcoords": [
           {
            "line": {
             "colorbar": {
              "outlinewidth": 0,
              "ticks": ""
             }
            },
            "type": "parcoords"
           }
          ],
          "pie": [
           {
            "automargin": true,
            "type": "pie"
           }
          ],
          "scatter": [
           {
            "fillpattern": {
             "fillmode": "overlay",
             "size": 10,
             "solidity": 0.2
            },
            "type": "scatter"
           }
          ],
          "scatter3d": [
           {
            "line": {
             "colorbar": {
              "outlinewidth": 0,
              "ticks": ""
             }
            },
            "marker": {
             "colorbar": {
              "outlinewidth": 0,
              "ticks": ""
             }
            },
            "type": "scatter3d"
           }
          ],
          "scattercarpet": [
           {
            "marker": {
             "colorbar": {
              "outlinewidth": 0,
              "ticks": ""
             }
            },
            "type": "scattercarpet"
           }
          ],
          "scattergeo": [
           {
            "marker": {
             "colorbar": {
              "outlinewidth": 0,
              "ticks": ""
             }
            },
            "type": "scattergeo"
           }
          ],
          "scattergl": [
           {
            "marker": {
             "colorbar": {
              "outlinewidth": 0,
              "ticks": ""
             }
            },
            "type": "scattergl"
           }
          ],
          "scattermapbox": [
           {
            "marker": {
             "colorbar": {
              "outlinewidth": 0,
              "ticks": ""
             }
            },
            "type": "scattermapbox"
           }
          ],
          "scatterpolar": [
           {
            "marker": {
             "colorbar": {
              "outlinewidth": 0,
              "ticks": ""
             }
            },
            "type": "scatterpolar"
           }
          ],
          "scatterpolargl": [
           {
            "marker": {
             "colorbar": {
              "outlinewidth": 0,
              "ticks": ""
             }
            },
            "type": "scatterpolargl"
           }
          ],
          "scatterternary": [
           {
            "marker": {
             "colorbar": {
              "outlinewidth": 0,
              "ticks": ""
             }
            },
            "type": "scatterternary"
           }
          ],
          "surface": [
           {
            "colorbar": {
             "outlinewidth": 0,
             "ticks": ""
            },
            "colorscale": [
             [
              0,
              "#0d0887"
             ],
             [
              0.1111111111111111,
              "#46039f"
             ],
             [
              0.2222222222222222,
              "#7201a8"
             ],
             [
              0.3333333333333333,
              "#9c179e"
             ],
             [
              0.4444444444444444,
              "#bd3786"
             ],
             [
              0.5555555555555556,
              "#d8576b"
             ],
             [
              0.6666666666666666,
              "#ed7953"
             ],
             [
              0.7777777777777778,
              "#fb9f3a"
             ],
             [
              0.8888888888888888,
              "#fdca26"
             ],
             [
              1,
              "#f0f921"
             ]
            ],
            "type": "surface"
           }
          ],
          "table": [
           {
            "cells": {
             "fill": {
              "color": "#EBF0F8"
             },
             "line": {
              "color": "white"
             }
            },
            "header": {
             "fill": {
              "color": "#C8D4E3"
             },
             "line": {
              "color": "white"
             }
            },
            "type": "table"
           }
          ]
         },
         "layout": {
          "annotationdefaults": {
           "arrowcolor": "#2a3f5f",
           "arrowhead": 0,
           "arrowwidth": 1
          },
          "autotypenumbers": "strict",
          "coloraxis": {
           "colorbar": {
            "outlinewidth": 0,
            "ticks": ""
           }
          },
          "colorscale": {
           "diverging": [
            [
             0,
             "#8e0152"
            ],
            [
             0.1,
             "#c51b7d"
            ],
            [
             0.2,
             "#de77ae"
            ],
            [
             0.3,
             "#f1b6da"
            ],
            [
             0.4,
             "#fde0ef"
            ],
            [
             0.5,
             "#f7f7f7"
            ],
            [
             0.6,
             "#e6f5d0"
            ],
            [
             0.7,
             "#b8e186"
            ],
            [
             0.8,
             "#7fbc41"
            ],
            [
             0.9,
             "#4d9221"
            ],
            [
             1,
             "#276419"
            ]
           ],
           "sequential": [
            [
             0,
             "#0d0887"
            ],
            [
             0.1111111111111111,
             "#46039f"
            ],
            [
             0.2222222222222222,
             "#7201a8"
            ],
            [
             0.3333333333333333,
             "#9c179e"
            ],
            [
             0.4444444444444444,
             "#bd3786"
            ],
            [
             0.5555555555555556,
             "#d8576b"
            ],
            [
             0.6666666666666666,
             "#ed7953"
            ],
            [
             0.7777777777777778,
             "#fb9f3a"
            ],
            [
             0.8888888888888888,
             "#fdca26"
            ],
            [
             1,
             "#f0f921"
            ]
           ],
           "sequentialminus": [
            [
             0,
             "#0d0887"
            ],
            [
             0.1111111111111111,
             "#46039f"
            ],
            [
             0.2222222222222222,
             "#7201a8"
            ],
            [
             0.3333333333333333,
             "#9c179e"
            ],
            [
             0.4444444444444444,
             "#bd3786"
            ],
            [
             0.5555555555555556,
             "#d8576b"
            ],
            [
             0.6666666666666666,
             "#ed7953"
            ],
            [
             0.7777777777777778,
             "#fb9f3a"
            ],
            [
             0.8888888888888888,
             "#fdca26"
            ],
            [
             1,
             "#f0f921"
            ]
           ]
          },
          "colorway": [
           "#636efa",
           "#EF553B",
           "#00cc96",
           "#ab63fa",
           "#FFA15A",
           "#19d3f3",
           "#FF6692",
           "#B6E880",
           "#FF97FF",
           "#FECB52"
          ],
          "font": {
           "color": "#2a3f5f"
          },
          "geo": {
           "bgcolor": "white",
           "lakecolor": "white",
           "landcolor": "#E5ECF6",
           "showlakes": true,
           "showland": true,
           "subunitcolor": "white"
          },
          "hoverlabel": {
           "align": "left"
          },
          "hovermode": "closest",
          "mapbox": {
           "style": "light"
          },
          "paper_bgcolor": "white",
          "plot_bgcolor": "#E5ECF6",
          "polar": {
           "angularaxis": {
            "gridcolor": "white",
            "linecolor": "white",
            "ticks": ""
           },
           "bgcolor": "#E5ECF6",
           "radialaxis": {
            "gridcolor": "white",
            "linecolor": "white",
            "ticks": ""
           }
          },
          "scene": {
           "xaxis": {
            "backgroundcolor": "#E5ECF6",
            "gridcolor": "white",
            "gridwidth": 2,
            "linecolor": "white",
            "showbackground": true,
            "ticks": "",
            "zerolinecolor": "white"
           },
           "yaxis": {
            "backgroundcolor": "#E5ECF6",
            "gridcolor": "white",
            "gridwidth": 2,
            "linecolor": "white",
            "showbackground": true,
            "ticks": "",
            "zerolinecolor": "white"
           },
           "zaxis": {
            "backgroundcolor": "#E5ECF6",
            "gridcolor": "white",
            "gridwidth": 2,
            "linecolor": "white",
            "showbackground": true,
            "ticks": "",
            "zerolinecolor": "white"
           }
          },
          "shapedefaults": {
           "line": {
            "color": "#2a3f5f"
           }
          },
          "ternary": {
           "aaxis": {
            "gridcolor": "white",
            "linecolor": "white",
            "ticks": ""
           },
           "baxis": {
            "gridcolor": "white",
            "linecolor": "white",
            "ticks": ""
           },
           "bgcolor": "#E5ECF6",
           "caxis": {
            "gridcolor": "white",
            "linecolor": "white",
            "ticks": ""
           }
          },
          "title": {
           "x": 0.05
          },
          "xaxis": {
           "automargin": true,
           "gridcolor": "white",
           "linecolor": "white",
           "ticks": "",
           "title": {
            "standoff": 15
           },
           "zerolinecolor": "white",
           "zerolinewidth": 2
          },
          "yaxis": {
           "automargin": true,
           "gridcolor": "white",
           "linecolor": "white",
           "ticks": "",
           "title": {
            "standoff": 15
           },
           "zerolinecolor": "white",
           "zerolinewidth": 2
          }
         }
        },
        "title": {
         "text": "Hyperparameter Importances"
        },
        "xaxis": {
         "title": {
          "text": "Hyperparameter Importance"
         }
        },
        "yaxis": {
         "title": {
          "text": "Hyperparameter"
         }
        }
       }
      }
     },
     "metadata": {},
     "output_type": "display_data"
    },
    {
     "data": {
      "application/vnd.plotly.v1+json": {
       "config": {
        "plotlyServerURL": "https://plot.ly"
       },
       "data": [
        {
         "marker": {
          "color": [
           0,
           8,
           25,
           29
          ],
          "colorbar": {
           "title": {
            "text": "Trial"
           },
           "x": 1,
           "xpad": 40
          },
          "colorscale": [
           [
            0,
            "rgb(247,251,255)"
           ],
           [
            0.125,
            "rgb(222,235,247)"
           ],
           [
            0.25,
            "rgb(198,219,239)"
           ],
           [
            0.375,
            "rgb(158,202,225)"
           ],
           [
            0.5,
            "rgb(107,174,214)"
           ],
           [
            0.625,
            "rgb(66,146,198)"
           ],
           [
            0.75,
            "rgb(33,113,181)"
           ],
           [
            0.875,
            "rgb(8,81,156)"
           ],
           [
            1,
            "rgb(8,48,107)"
           ]
          ],
          "line": {
           "color": "Grey",
           "width": 0.5
          },
          "showscale": true
         },
         "mode": "markers",
         "name": "Feasible Trial",
         "showlegend": false,
         "type": "scatter",
         "x": [
          1,
          5,
          10,
          10
         ],
         "xaxis": "x",
         "y": [
          0.7525694444444444,
          0.7698611111111111,
          0.9397916666666667,
          0.9397916666666667
         ],
         "yaxis": "y"
        },
        {
         "marker": {
          "color": [
           0,
           2,
           4,
           5,
           8,
           20,
           25,
           29,
           40,
           41,
           42,
           43,
           58,
           68,
           71,
           72,
           75,
           81,
           83,
           86
          ],
          "colorbar": {
           "title": {
            "text": "Trial"
           },
           "x": 1,
           "xpad": 40
          },
          "colorscale": [
           [
            0,
            "rgb(247,251,255)"
           ],
           [
            0.125,
            "rgb(222,235,247)"
           ],
           [
            0.25,
            "rgb(198,219,239)"
           ],
           [
            0.375,
            "rgb(158,202,225)"
           ],
           [
            0.5,
            "rgb(107,174,214)"
           ],
           [
            0.625,
            "rgb(66,146,198)"
           ],
           [
            0.75,
            "rgb(33,113,181)"
           ],
           [
            0.875,
            "rgb(8,81,156)"
           ],
           [
            1,
            "rgb(8,48,107)"
           ]
          ],
          "line": {
           "color": "Grey",
           "width": 0.5
          },
          "showscale": false
         },
         "mode": "markers",
         "name": "Feasible Trial",
         "showlegend": false,
         "type": "scatter",
         "x": [
          1.7691115740044365,
          9.211253934780128,
          6.101635125883331,
          7.467680579501304,
          8.282590403338348,
          3.2568718331596287,
          0.11675992224874854,
          9.90580442632135,
          5.923807247813791,
          2.549271636212395,
          3.7680862706511533,
          4.930877446252268,
          6.747231423027387,
          5.433478041846408,
          2.6100371415759342,
          2.215352204239572,
          0.19869022093895916,
          4.362805357861334,
          2.7557814875402746,
          6.691164645592325
         ],
         "xaxis": "x2",
         "y": [
          0.7525694444444444,
          0.7483333333333333,
          0.503125,
          0.9313888888888889,
          0.7698611111111111,
          0.9518055555555556,
          0.9397916666666667,
          0.9397916666666667,
          0.9465277777777777,
          0.9518055555555556,
          0.9397916666666667,
          0.9518055555555556,
          0.9465277777777777,
          0.9496527777777778,
          0.9518055555555556,
          0.9496527777777778,
          0.9518055555555556,
          0.9518055555555556,
          0.9496527777777778,
          0.9518055555555556
         ],
         "yaxis": "y2"
        },
        {
         "marker": {
          "color": [
           0,
           1,
           2,
           3,
           4,
           5,
           8,
           10,
           11,
           12,
           13,
           14,
           15,
           20,
           21,
           22,
           25,
           27,
           29,
           31,
           33,
           35,
           40,
           41,
           42,
           43,
           51,
           53,
           54,
           58,
           60,
           61,
           63,
           64,
           68,
           71,
           72,
           75,
           81,
           83,
           86,
           91,
           92,
           93,
           95,
           99
          ],
          "colorbar": {
           "title": {
            "text": "Trial"
           },
           "x": 1,
           "xpad": 40
          },
          "colorscale": [
           [
            0,
            "rgb(247,251,255)"
           ],
           [
            0.125,
            "rgb(222,235,247)"
           ],
           [
            0.25,
            "rgb(198,219,239)"
           ],
           [
            0.375,
            "rgb(158,202,225)"
           ],
           [
            0.5,
            "rgb(107,174,214)"
           ],
           [
            0.625,
            "rgb(66,146,198)"
           ],
           [
            0.75,
            "rgb(33,113,181)"
           ],
           [
            0.875,
            "rgb(8,81,156)"
           ],
           [
            1,
            "rgb(8,48,107)"
           ]
          ],
          "line": {
           "color": "Grey",
           "width": 0.5
          },
          "showscale": false
         },
         "mode": "markers",
         "name": "Feasible Trial",
         "showlegend": false,
         "type": "scatter",
         "x": [
          36,
          25,
          32,
          13,
          19,
          9,
          43,
          5,
          5,
          5,
          5,
          16,
          10,
          5,
          6,
          10,
          8,
          5,
          8,
          6,
          5,
          8,
          7,
          5,
          8,
          5,
          5,
          7,
          5,
          7,
          6,
          5,
          7,
          5,
          6,
          5,
          6,
          5,
          5,
          6,
          5,
          5,
          6,
          5,
          6,
          6
         ],
         "xaxis": "x3",
         "y": [
          0.7525694444444444,
          0.18958333333333333,
          0.7483333333333333,
          0.5103472222222222,
          0.503125,
          0.9313888888888889,
          0.7698611111111111,
          0.9518055555555556,
          0.9518055555555556,
          0.9518055555555556,
          0.9518055555555556,
          0.8547916666666666,
          0.9215972222222222,
          0.9518055555555556,
          0.9496527777777778,
          0.9215972222222222,
          0.9397916666666667,
          0.9518055555555556,
          0.9397916666666667,
          0.9496527777777778,
          0.9518055555555556,
          0.9397916666666667,
          0.9465277777777777,
          0.9518055555555556,
          0.9397916666666667,
          0.9518055555555556,
          0.9518055555555556,
          0.9465277777777777,
          0.9518055555555556,
          0.9465277777777777,
          0.9496527777777778,
          0.9518055555555556,
          0.9465277777777777,
          0.9518055555555556,
          0.9496527777777778,
          0.9518055555555556,
          0.9496527777777778,
          0.9518055555555556,
          0.9518055555555556,
          0.9496527777777778,
          0.9518055555555556,
          0.9518055555555556,
          0.9496527777777778,
          0.9518055555555556,
          0.9496527777777778,
          0.9496527777777778
         ],
         "yaxis": "y3"
        },
        {
         "marker": {
          "color": [
           0,
           1,
           2,
           3,
           4,
           5,
           8,
           10,
           11,
           12,
           13,
           14,
           15,
           20,
           21,
           22,
           25,
           27,
           29,
           31,
           33,
           35,
           40,
           41,
           42,
           43,
           51,
           53,
           54,
           58,
           60,
           61,
           63,
           64,
           68,
           71,
           72,
           75,
           81,
           83,
           86,
           91,
           92,
           93,
           95,
           99
          ],
          "colorbar": {
           "title": {
            "text": "Trial"
           },
           "x": 1,
           "xpad": 40
          },
          "colorscale": [
           [
            0,
            "rgb(247,251,255)"
           ],
           [
            0.125,
            "rgb(222,235,247)"
           ],
           [
            0.25,
            "rgb(198,219,239)"
           ],
           [
            0.375,
            "rgb(158,202,225)"
           ],
           [
            0.5,
            "rgb(107,174,214)"
           ],
           [
            0.625,
            "rgb(66,146,198)"
           ],
           [
            0.75,
            "rgb(33,113,181)"
           ],
           [
            0.875,
            "rgb(8,81,156)"
           ],
           [
            1,
            "rgb(8,48,107)"
           ]
          ],
          "line": {
           "color": "Grey",
           "width": 0.5
          },
          "showscale": false
         },
         "mode": "markers",
         "name": "Feasible Trial",
         "showlegend": false,
         "type": "scatter",
         "x": [
          9,
          5,
          6,
          7,
          9,
          2,
          7,
          1,
          1,
          3,
          3,
          1,
          3,
          4,
          3,
          2,
          3,
          1,
          3,
          5,
          5,
          2,
          8,
          4,
          5,
          3,
          1,
          1,
          2,
          3,
          1,
          6,
          4,
          5,
          3,
          4,
          4,
          5,
          3,
          2,
          2,
          1,
          1,
          1,
          2,
          4
         ],
         "xaxis": "x4",
         "y": [
          0.7525694444444444,
          0.18958333333333333,
          0.7483333333333333,
          0.5103472222222222,
          0.503125,
          0.9313888888888889,
          0.7698611111111111,
          0.9518055555555556,
          0.9518055555555556,
          0.9518055555555556,
          0.9518055555555556,
          0.8547916666666666,
          0.9215972222222222,
          0.9518055555555556,
          0.9496527777777778,
          0.9215972222222222,
          0.9397916666666667,
          0.9518055555555556,
          0.9397916666666667,
          0.9496527777777778,
          0.9518055555555556,
          0.9397916666666667,
          0.9465277777777777,
          0.9518055555555556,
          0.9397916666666667,
          0.9518055555555556,
          0.9518055555555556,
          0.9465277777777777,
          0.9518055555555556,
          0.9465277777777777,
          0.9496527777777778,
          0.9518055555555556,
          0.9465277777777777,
          0.9518055555555556,
          0.9496527777777778,
          0.9518055555555556,
          0.9496527777777778,
          0.9518055555555556,
          0.9518055555555556,
          0.9496527777777778,
          0.9518055555555556,
          0.9518055555555556,
          0.9496527777777778,
          0.9518055555555556,
          0.9496527777777778,
          0.9496527777777778
         ],
         "yaxis": "y4"
        },
        {
         "marker": {
          "color": [
           0,
           1,
           2,
           3,
           4,
           5,
           8,
           10,
           11,
           12,
           13,
           14,
           15,
           20,
           21,
           22,
           25,
           27,
           29,
           31,
           33,
           35,
           40,
           41,
           42,
           43,
           51,
           53,
           54,
           58,
           60,
           61,
           63,
           64,
           68,
           71,
           72,
           75,
           81,
           83,
           86,
           91,
           92,
           93,
           95,
           99
          ],
          "colorbar": {
           "title": {
            "text": "Trial"
           },
           "x": 1,
           "xpad": 40
          },
          "colorscale": [
           [
            0,
            "rgb(247,251,255)"
           ],
           [
            0.125,
            "rgb(222,235,247)"
           ],
           [
            0.25,
            "rgb(198,219,239)"
           ],
           [
            0.375,
            "rgb(158,202,225)"
           ],
           [
            0.5,
            "rgb(107,174,214)"
           ],
           [
            0.625,
            "rgb(66,146,198)"
           ],
           [
            0.75,
            "rgb(33,113,181)"
           ],
           [
            0.875,
            "rgb(8,81,156)"
           ],
           [
            1,
            "rgb(8,48,107)"
           ]
          ],
          "line": {
           "color": "Grey",
           "width": 0.5
          },
          "showscale": false
         },
         "mode": "markers",
         "name": "Feasible Trial",
         "showlegend": false,
         "type": "scatter",
         "x": [
          "poly",
          "linear",
          "rbf",
          "cosine",
          "rbf",
          "rbf",
          "poly",
          "linear",
          "linear",
          "linear",
          "linear",
          "linear",
          "linear",
          "sigmoid",
          "linear",
          "linear",
          "poly",
          "linear",
          "poly",
          "linear",
          "linear",
          "cosine",
          "rbf",
          "sigmoid",
          "sigmoid",
          "sigmoid",
          "linear",
          "linear",
          "linear",
          "sigmoid",
          "linear",
          "linear",
          "linear",
          "linear",
          "rbf",
          "sigmoid",
          "sigmoid",
          "sigmoid",
          "sigmoid",
          "sigmoid",
          "rbf",
          "linear",
          "linear",
          "linear",
          "linear",
          "linear"
         ],
         "xaxis": "x5",
         "y": [
          0.7525694444444444,
          0.18958333333333333,
          0.7483333333333333,
          0.5103472222222222,
          0.503125,
          0.9313888888888889,
          0.7698611111111111,
          0.9518055555555556,
          0.9518055555555556,
          0.9518055555555556,
          0.9518055555555556,
          0.8547916666666666,
          0.9215972222222222,
          0.9518055555555556,
          0.9496527777777778,
          0.9215972222222222,
          0.9397916666666667,
          0.9518055555555556,
          0.9397916666666667,
          0.9496527777777778,
          0.9518055555555556,
          0.9397916666666667,
          0.9465277777777777,
          0.9518055555555556,
          0.9397916666666667,
          0.9518055555555556,
          0.9518055555555556,
          0.9465277777777777,
          0.9518055555555556,
          0.9465277777777777,
          0.9496527777777778,
          0.9518055555555556,
          0.9465277777777777,
          0.9518055555555556,
          0.9496527777777778,
          0.9518055555555556,
          0.9496527777777778,
          0.9518055555555556,
          0.9518055555555556,
          0.9496527777777778,
          0.9518055555555556,
          0.9518055555555556,
          0.9496527777777778,
          0.9518055555555556,
          0.9496527777777778,
          0.9496527777777778
         ],
         "yaxis": "y5"
        },
        {
         "marker": {
          "color": [
           0,
           1,
           2,
           3,
           4,
           5,
           8,
           10,
           11,
           12,
           13,
           14,
           15,
           20,
           21,
           22,
           25,
           27,
           29,
           31,
           33,
           35,
           40,
           41,
           42,
           43,
           51,
           53,
           54,
           58,
           60,
           61,
           63,
           64,
           68,
           71,
           72,
           75,
           81,
           83,
           86,
           91,
           92,
           93,
           95,
           99
          ],
          "colorbar": {
           "title": {
            "text": "Trial"
           },
           "x": 1,
           "xpad": 40
          },
          "colorscale": [
           [
            0,
            "rgb(247,251,255)"
           ],
           [
            0.125,
            "rgb(222,235,247)"
           ],
           [
            0.25,
            "rgb(198,219,239)"
           ],
           [
            0.375,
            "rgb(158,202,225)"
           ],
           [
            0.5,
            "rgb(107,174,214)"
           ],
           [
            0.625,
            "rgb(66,146,198)"
           ],
           [
            0.75,
            "rgb(33,113,181)"
           ],
           [
            0.875,
            "rgb(8,81,156)"
           ],
           [
            1,
            "rgb(8,48,107)"
           ]
          ],
          "line": {
           "color": "Grey",
           "width": 0.5
          },
          "showscale": false
         },
         "mode": "markers",
         "name": "Feasible Trial",
         "showlegend": false,
         "type": "scatter",
         "x": [
          "False",
          "False",
          "False",
          "True",
          "True",
          "False",
          "False",
          "False",
          "False",
          "False",
          "False",
          "False",
          "False",
          "False",
          "False",
          "False",
          "False",
          "False",
          "False",
          "False",
          "False",
          "False",
          "False",
          "False",
          "False",
          "False",
          "False",
          "False",
          "False",
          "False",
          "False",
          "False",
          "False",
          "False",
          "False",
          "False",
          "False",
          "False",
          "False",
          "False",
          "False",
          "False",
          "False",
          "False",
          "False",
          "False"
         ],
         "xaxis": "x6",
         "y": [
          0.7525694444444444,
          0.18958333333333333,
          0.7483333333333333,
          0.5103472222222222,
          0.503125,
          0.9313888888888889,
          0.7698611111111111,
          0.9518055555555556,
          0.9518055555555556,
          0.9518055555555556,
          0.9518055555555556,
          0.8547916666666666,
          0.9215972222222222,
          0.9518055555555556,
          0.9496527777777778,
          0.9215972222222222,
          0.9397916666666667,
          0.9518055555555556,
          0.9397916666666667,
          0.9496527777777778,
          0.9518055555555556,
          0.9397916666666667,
          0.9465277777777777,
          0.9518055555555556,
          0.9397916666666667,
          0.9518055555555556,
          0.9518055555555556,
          0.9465277777777777,
          0.9518055555555556,
          0.9465277777777777,
          0.9496527777777778,
          0.9518055555555556,
          0.9465277777777777,
          0.9518055555555556,
          0.9496527777777778,
          0.9518055555555556,
          0.9496527777777778,
          0.9518055555555556,
          0.9518055555555556,
          0.9496527777777778,
          0.9518055555555556,
          0.9518055555555556,
          0.9496527777777778,
          0.9518055555555556,
          0.9496527777777778,
          0.9496527777777778
         ],
         "yaxis": "y6"
        },
        {
         "marker": {
          "color": [
           0,
           1,
           2,
           3,
           4,
           5,
           8,
           10,
           11,
           12,
           13,
           14,
           15,
           20,
           21,
           22,
           25,
           27,
           29,
           31,
           33,
           35,
           40,
           41,
           42,
           43,
           51,
           53,
           54,
           58,
           60,
           61,
           63,
           64,
           68,
           71,
           72,
           75,
           81,
           83,
           86,
           91,
           92,
           93,
           95,
           99
          ],
          "colorbar": {
           "title": {
            "text": "Trial"
           },
           "x": 1,
           "xpad": 40
          },
          "colorscale": [
           [
            0,
            "rgb(247,251,255)"
           ],
           [
            0.125,
            "rgb(222,235,247)"
           ],
           [
            0.25,
            "rgb(198,219,239)"
           ],
           [
            0.375,
            "rgb(158,202,225)"
           ],
           [
            0.5,
            "rgb(107,174,214)"
           ],
           [
            0.625,
            "rgb(66,146,198)"
           ],
           [
            0.75,
            "rgb(33,113,181)"
           ],
           [
            0.875,
            "rgb(8,81,156)"
           ],
           [
            1,
            "rgb(8,48,107)"
           ]
          ],
          "line": {
           "color": "Grey",
           "width": 0.5
          },
          "showscale": false
         },
         "mode": "markers",
         "name": "Feasible Trial",
         "showlegend": false,
         "type": "scatter",
         "x": [
          "distance",
          "uniform",
          "distance",
          "uniform",
          "distance",
          "distance",
          "distance",
          "distance",
          "distance",
          "distance",
          "distance",
          "distance",
          "distance",
          "distance",
          "distance",
          "distance",
          "distance",
          "distance",
          "distance",
          "distance",
          "distance",
          "distance",
          "distance",
          "distance",
          "distance",
          "distance",
          "distance",
          "distance",
          "distance",
          "distance",
          "distance",
          "distance",
          "distance",
          "distance",
          "distance",
          "distance",
          "distance",
          "distance",
          "distance",
          "distance",
          "distance",
          "distance",
          "distance",
          "distance",
          "distance",
          "distance"
         ],
         "xaxis": "x7",
         "y": [
          0.7525694444444444,
          0.18958333333333333,
          0.7483333333333333,
          0.5103472222222222,
          0.503125,
          0.9313888888888889,
          0.7698611111111111,
          0.9518055555555556,
          0.9518055555555556,
          0.9518055555555556,
          0.9518055555555556,
          0.8547916666666666,
          0.9215972222222222,
          0.9518055555555556,
          0.9496527777777778,
          0.9215972222222222,
          0.9397916666666667,
          0.9518055555555556,
          0.9397916666666667,
          0.9496527777777778,
          0.9518055555555556,
          0.9397916666666667,
          0.9465277777777777,
          0.9518055555555556,
          0.9397916666666667,
          0.9518055555555556,
          0.9518055555555556,
          0.9465277777777777,
          0.9518055555555556,
          0.9465277777777777,
          0.9496527777777778,
          0.9518055555555556,
          0.9465277777777777,
          0.9518055555555556,
          0.9496527777777778,
          0.9518055555555556,
          0.9496527777777778,
          0.9518055555555556,
          0.9518055555555556,
          0.9496527777777778,
          0.9518055555555556,
          0.9518055555555556,
          0.9496527777777778,
          0.9518055555555556,
          0.9496527777777778,
          0.9496527777777778
         ],
         "yaxis": "y7"
        }
       ],
       "layout": {
        "template": {
         "data": {
          "bar": [
           {
            "error_x": {
             "color": "#2a3f5f"
            },
            "error_y": {
             "color": "#2a3f5f"
            },
            "marker": {
             "line": {
              "color": "#E5ECF6",
              "width": 0.5
             },
             "pattern": {
              "fillmode": "overlay",
              "size": 10,
              "solidity": 0.2
             }
            },
            "type": "bar"
           }
          ],
          "barpolar": [
           {
            "marker": {
             "line": {
              "color": "#E5ECF6",
              "width": 0.5
             },
             "pattern": {
              "fillmode": "overlay",
              "size": 10,
              "solidity": 0.2
             }
            },
            "type": "barpolar"
           }
          ],
          "carpet": [
           {
            "aaxis": {
             "endlinecolor": "#2a3f5f",
             "gridcolor": "white",
             "linecolor": "white",
             "minorgridcolor": "white",
             "startlinecolor": "#2a3f5f"
            },
            "baxis": {
             "endlinecolor": "#2a3f5f",
             "gridcolor": "white",
             "linecolor": "white",
             "minorgridcolor": "white",
             "startlinecolor": "#2a3f5f"
            },
            "type": "carpet"
           }
          ],
          "choropleth": [
           {
            "colorbar": {
             "outlinewidth": 0,
             "ticks": ""
            },
            "type": "choropleth"
           }
          ],
          "contour": [
           {
            "colorbar": {
             "outlinewidth": 0,
             "ticks": ""
            },
            "colorscale": [
             [
              0,
              "#0d0887"
             ],
             [
              0.1111111111111111,
              "#46039f"
             ],
             [
              0.2222222222222222,
              "#7201a8"
             ],
             [
              0.3333333333333333,
              "#9c179e"
             ],
             [
              0.4444444444444444,
              "#bd3786"
             ],
             [
              0.5555555555555556,
              "#d8576b"
             ],
             [
              0.6666666666666666,
              "#ed7953"
             ],
             [
              0.7777777777777778,
              "#fb9f3a"
             ],
             [
              0.8888888888888888,
              "#fdca26"
             ],
             [
              1,
              "#f0f921"
             ]
            ],
            "type": "contour"
           }
          ],
          "contourcarpet": [
           {
            "colorbar": {
             "outlinewidth": 0,
             "ticks": ""
            },
            "type": "contourcarpet"
           }
          ],
          "heatmap": [
           {
            "colorbar": {
             "outlinewidth": 0,
             "ticks": ""
            },
            "colorscale": [
             [
              0,
              "#0d0887"
             ],
             [
              0.1111111111111111,
              "#46039f"
             ],
             [
              0.2222222222222222,
              "#7201a8"
             ],
             [
              0.3333333333333333,
              "#9c179e"
             ],
             [
              0.4444444444444444,
              "#bd3786"
             ],
             [
              0.5555555555555556,
              "#d8576b"
             ],
             [
              0.6666666666666666,
              "#ed7953"
             ],
             [
              0.7777777777777778,
              "#fb9f3a"
             ],
             [
              0.8888888888888888,
              "#fdca26"
             ],
             [
              1,
              "#f0f921"
             ]
            ],
            "type": "heatmap"
           }
          ],
          "heatmapgl": [
           {
            "colorbar": {
             "outlinewidth": 0,
             "ticks": ""
            },
            "colorscale": [
             [
              0,
              "#0d0887"
             ],
             [
              0.1111111111111111,
              "#46039f"
             ],
             [
              0.2222222222222222,
              "#7201a8"
             ],
             [
              0.3333333333333333,
              "#9c179e"
             ],
             [
              0.4444444444444444,
              "#bd3786"
             ],
             [
              0.5555555555555556,
              "#d8576b"
             ],
             [
              0.6666666666666666,
              "#ed7953"
             ],
             [
              0.7777777777777778,
              "#fb9f3a"
             ],
             [
              0.8888888888888888,
              "#fdca26"
             ],
             [
              1,
              "#f0f921"
             ]
            ],
            "type": "heatmapgl"
           }
          ],
          "histogram": [
           {
            "marker": {
             "pattern": {
              "fillmode": "overlay",
              "size": 10,
              "solidity": 0.2
             }
            },
            "type": "histogram"
           }
          ],
          "histogram2d": [
           {
            "colorbar": {
             "outlinewidth": 0,
             "ticks": ""
            },
            "colorscale": [
             [
              0,
              "#0d0887"
             ],
             [
              0.1111111111111111,
              "#46039f"
             ],
             [
              0.2222222222222222,
              "#7201a8"
             ],
             [
              0.3333333333333333,
              "#9c179e"
             ],
             [
              0.4444444444444444,
              "#bd3786"
             ],
             [
              0.5555555555555556,
              "#d8576b"
             ],
             [
              0.6666666666666666,
              "#ed7953"
             ],
             [
              0.7777777777777778,
              "#fb9f3a"
             ],
             [
              0.8888888888888888,
              "#fdca26"
             ],
             [
              1,
              "#f0f921"
             ]
            ],
            "type": "histogram2d"
           }
          ],
          "histogram2dcontour": [
           {
            "colorbar": {
             "outlinewidth": 0,
             "ticks": ""
            },
            "colorscale": [
             [
              0,
              "#0d0887"
             ],
             [
              0.1111111111111111,
              "#46039f"
             ],
             [
              0.2222222222222222,
              "#7201a8"
             ],
             [
              0.3333333333333333,
              "#9c179e"
             ],
             [
              0.4444444444444444,
              "#bd3786"
             ],
             [
              0.5555555555555556,
              "#d8576b"
             ],
             [
              0.6666666666666666,
              "#ed7953"
             ],
             [
              0.7777777777777778,
              "#fb9f3a"
             ],
             [
              0.8888888888888888,
              "#fdca26"
             ],
             [
              1,
              "#f0f921"
             ]
            ],
            "type": "histogram2dcontour"
           }
          ],
          "mesh3d": [
           {
            "colorbar": {
             "outlinewidth": 0,
             "ticks": ""
            },
            "type": "mesh3d"
           }
          ],
          "parcoords": [
           {
            "line": {
             "colorbar": {
              "outlinewidth": 0,
              "ticks": ""
             }
            },
            "type": "parcoords"
           }
          ],
          "pie": [
           {
            "automargin": true,
            "type": "pie"
           }
          ],
          "scatter": [
           {
            "fillpattern": {
             "fillmode": "overlay",
             "size": 10,
             "solidity": 0.2
            },
            "type": "scatter"
           }
          ],
          "scatter3d": [
           {
            "line": {
             "colorbar": {
              "outlinewidth": 0,
              "ticks": ""
             }
            },
            "marker": {
             "colorbar": {
              "outlinewidth": 0,
              "ticks": ""
             }
            },
            "type": "scatter3d"
           }
          ],
          "scattercarpet": [
           {
            "marker": {
             "colorbar": {
              "outlinewidth": 0,
              "ticks": ""
             }
            },
            "type": "scattercarpet"
           }
          ],
          "scattergeo": [
           {
            "marker": {
             "colorbar": {
              "outlinewidth": 0,
              "ticks": ""
             }
            },
            "type": "scattergeo"
           }
          ],
          "scattergl": [
           {
            "marker": {
             "colorbar": {
              "outlinewidth": 0,
              "ticks": ""
             }
            },
            "type": "scattergl"
           }
          ],
          "scattermapbox": [
           {
            "marker": {
             "colorbar": {
              "outlinewidth": 0,
              "ticks": ""
             }
            },
            "type": "scattermapbox"
           }
          ],
          "scatterpolar": [
           {
            "marker": {
             "colorbar": {
              "outlinewidth": 0,
              "ticks": ""
             }
            },
            "type": "scatterpolar"
           }
          ],
          "scatterpolargl": [
           {
            "marker": {
             "colorbar": {
              "outlinewidth": 0,
              "ticks": ""
             }
            },
            "type": "scatterpolargl"
           }
          ],
          "scatterternary": [
           {
            "marker": {
             "colorbar": {
              "outlinewidth": 0,
              "ticks": ""
             }
            },
            "type": "scatterternary"
           }
          ],
          "surface": [
           {
            "colorbar": {
             "outlinewidth": 0,
             "ticks": ""
            },
            "colorscale": [
             [
              0,
              "#0d0887"
             ],
             [
              0.1111111111111111,
              "#46039f"
             ],
             [
              0.2222222222222222,
              "#7201a8"
             ],
             [
              0.3333333333333333,
              "#9c179e"
             ],
             [
              0.4444444444444444,
              "#bd3786"
             ],
             [
              0.5555555555555556,
              "#d8576b"
             ],
             [
              0.6666666666666666,
              "#ed7953"
             ],
             [
              0.7777777777777778,
              "#fb9f3a"
             ],
             [
              0.8888888888888888,
              "#fdca26"
             ],
             [
              1,
              "#f0f921"
             ]
            ],
            "type": "surface"
           }
          ],
          "table": [
           {
            "cells": {
             "fill": {
              "color": "#EBF0F8"
             },
             "line": {
              "color": "white"
             }
            },
            "header": {
             "fill": {
              "color": "#C8D4E3"
             },
             "line": {
              "color": "white"
             }
            },
            "type": "table"
           }
          ]
         },
         "layout": {
          "annotationdefaults": {
           "arrowcolor": "#2a3f5f",
           "arrowhead": 0,
           "arrowwidth": 1
          },
          "autotypenumbers": "strict",
          "coloraxis": {
           "colorbar": {
            "outlinewidth": 0,
            "ticks": ""
           }
          },
          "colorscale": {
           "diverging": [
            [
             0,
             "#8e0152"
            ],
            [
             0.1,
             "#c51b7d"
            ],
            [
             0.2,
             "#de77ae"
            ],
            [
             0.3,
             "#f1b6da"
            ],
            [
             0.4,
             "#fde0ef"
            ],
            [
             0.5,
             "#f7f7f7"
            ],
            [
             0.6,
             "#e6f5d0"
            ],
            [
             0.7,
             "#b8e186"
            ],
            [
             0.8,
             "#7fbc41"
            ],
            [
             0.9,
             "#4d9221"
            ],
            [
             1,
             "#276419"
            ]
           ],
           "sequential": [
            [
             0,
             "#0d0887"
            ],
            [
             0.1111111111111111,
             "#46039f"
            ],
            [
             0.2222222222222222,
             "#7201a8"
            ],
            [
             0.3333333333333333,
             "#9c179e"
            ],
            [
             0.4444444444444444,
             "#bd3786"
            ],
            [
             0.5555555555555556,
             "#d8576b"
            ],
            [
             0.6666666666666666,
             "#ed7953"
            ],
            [
             0.7777777777777778,
             "#fb9f3a"
            ],
            [
             0.8888888888888888,
             "#fdca26"
            ],
            [
             1,
             "#f0f921"
            ]
           ],
           "sequentialminus": [
            [
             0,
             "#0d0887"
            ],
            [
             0.1111111111111111,
             "#46039f"
            ],
            [
             0.2222222222222222,
             "#7201a8"
            ],
            [
             0.3333333333333333,
             "#9c179e"
            ],
            [
             0.4444444444444444,
             "#bd3786"
            ],
            [
             0.5555555555555556,
             "#d8576b"
            ],
            [
             0.6666666666666666,
             "#ed7953"
            ],
            [
             0.7777777777777778,
             "#fb9f3a"
            ],
            [
             0.8888888888888888,
             "#fdca26"
            ],
            [
             1,
             "#f0f921"
            ]
           ]
          },
          "colorway": [
           "#636efa",
           "#EF553B",
           "#00cc96",
           "#ab63fa",
           "#FFA15A",
           "#19d3f3",
           "#FF6692",
           "#B6E880",
           "#FF97FF",
           "#FECB52"
          ],
          "font": {
           "color": "#2a3f5f"
          },
          "geo": {
           "bgcolor": "white",
           "lakecolor": "white",
           "landcolor": "#E5ECF6",
           "showlakes": true,
           "showland": true,
           "subunitcolor": "white"
          },
          "hoverlabel": {
           "align": "left"
          },
          "hovermode": "closest",
          "mapbox": {
           "style": "light"
          },
          "paper_bgcolor": "white",
          "plot_bgcolor": "#E5ECF6",
          "polar": {
           "angularaxis": {
            "gridcolor": "white",
            "linecolor": "white",
            "ticks": ""
           },
           "bgcolor": "#E5ECF6",
           "radialaxis": {
            "gridcolor": "white",
            "linecolor": "white",
            "ticks": ""
           }
          },
          "scene": {
           "xaxis": {
            "backgroundcolor": "#E5ECF6",
            "gridcolor": "white",
            "gridwidth": 2,
            "linecolor": "white",
            "showbackground": true,
            "ticks": "",
            "zerolinecolor": "white"
           },
           "yaxis": {
            "backgroundcolor": "#E5ECF6",
            "gridcolor": "white",
            "gridwidth": 2,
            "linecolor": "white",
            "showbackground": true,
            "ticks": "",
            "zerolinecolor": "white"
           },
           "zaxis": {
            "backgroundcolor": "#E5ECF6",
            "gridcolor": "white",
            "gridwidth": 2,
            "linecolor": "white",
            "showbackground": true,
            "ticks": "",
            "zerolinecolor": "white"
           }
          },
          "shapedefaults": {
           "line": {
            "color": "#2a3f5f"
           }
          },
          "ternary": {
           "aaxis": {
            "gridcolor": "white",
            "linecolor": "white",
            "ticks": ""
           },
           "baxis": {
            "gridcolor": "white",
            "linecolor": "white",
            "ticks": ""
           },
           "bgcolor": "#E5ECF6",
           "caxis": {
            "gridcolor": "white",
            "linecolor": "white",
            "ticks": ""
           }
          },
          "title": {
           "x": 0.05
          },
          "xaxis": {
           "automargin": true,
           "gridcolor": "white",
           "linecolor": "white",
           "ticks": "",
           "title": {
            "standoff": 15
           },
           "zerolinecolor": "white",
           "zerolinewidth": 2
          },
          "yaxis": {
           "automargin": true,
           "gridcolor": "white",
           "linecolor": "white",
           "ticks": "",
           "title": {
            "standoff": 15
           },
           "zerolinecolor": "white",
           "zerolinewidth": 2
          }
         }
        },
        "title": {
         "text": "Slice Plot"
        },
        "width": 2100,
        "xaxis": {
         "anchor": "y",
         "domain": [
          0,
          0.1183673469387755
         ],
         "title": {
          "text": "degree_pca"
         }
        },
        "xaxis2": {
         "anchor": "y2",
         "domain": [
          0.14693877551020407,
          0.26530612244897955
         ],
         "title": {
          "text": "gamma_pca"
         }
        },
        "xaxis3": {
         "anchor": "y3",
         "domain": [
          0.29387755102040813,
          0.4122448979591836
         ],
         "title": {
          "text": "n_neighbors"
         }
        },
        "xaxis4": {
         "anchor": "y4",
         "domain": [
          0.4408163265306122,
          0.5591836734693877
         ],
         "title": {
          "text": "n_pca_components"
         }
        },
        "xaxis5": {
         "anchor": "y5",
         "categoryarray": [
          "linear",
          "poly",
          "rbf",
          "sigmoid",
          "cosine"
         ],
         "categoryorder": "array",
         "domain": [
          0.5877551020408163,
          0.7061224489795918
         ],
         "title": {
          "text": "pca_kernel"
         },
         "type": "category"
        },
        "xaxis6": {
         "anchor": "y6",
         "categoryarray": [
          "True",
          "False"
         ],
         "categoryorder": "array",
         "domain": [
          0.7346938775510204,
          0.8530612244897959
         ],
         "title": {
          "text": "use_pca"
         },
         "type": "category"
        },
        "xaxis7": {
         "anchor": "y7",
         "categoryarray": [
          "uniform",
          "distance"
         ],
         "categoryorder": "array",
         "domain": [
          0.8816326530612244,
          0.9999999999999999
         ],
         "title": {
          "text": "weights"
         },
         "type": "category"
        },
        "yaxis": {
         "anchor": "x",
         "domain": [
          0,
          1
         ],
         "title": {
          "text": "Objective Value"
         }
        },
        "yaxis2": {
         "anchor": "x2",
         "domain": [
          0,
          1
         ],
         "matches": "y",
         "showticklabels": false
        },
        "yaxis3": {
         "anchor": "x3",
         "domain": [
          0,
          1
         ],
         "matches": "y",
         "showticklabels": false
        },
        "yaxis4": {
         "anchor": "x4",
         "domain": [
          0,
          1
         ],
         "matches": "y",
         "showticklabels": false
        },
        "yaxis5": {
         "anchor": "x5",
         "domain": [
          0,
          1
         ],
         "matches": "y",
         "showticklabels": false
        },
        "yaxis6": {
         "anchor": "x6",
         "domain": [
          0,
          1
         ],
         "matches": "y",
         "showticklabels": false
        },
        "yaxis7": {
         "anchor": "x7",
         "domain": [
          0,
          1
         ],
         "matches": "y",
         "showticklabels": false
        }
       }
      }
     },
     "metadata": {},
     "output_type": "display_data"
    }
   ],
   "source": [
    "import numpy as np\n",
    "from sklearn.model_selection import train_test_split\n",
    "from sklearn.preprocessing import StandardScaler\n",
    "from sklearn.metrics import accuracy_score\n",
    "from sklearn.decomposition import PCA, KernelPCA\n",
    "from sklearn.neighbors import KNeighborsClassifier\n",
    "import optuna\n",
    "import optuna.visualization as vis\n",
    "\n",
    "n = 12\n",
    "\n",
    "X = np.load('Datasets/kryptonite-%s-X.npy'%(n))\n",
    "y = np.load('Datasets/kryptonite-%s-y.npy'%(n))\n",
    "\n",
    "def objective(trial):\n",
    "    ### ========== Shuffle and Split Data ========== ###\n",
    "\n",
    "    X_train, X_val, y_train, y_val = train_test_split(X, y, test_size=0.8, random_state=42)\n",
    "\n",
    "    scaler = StandardScaler()\n",
    "    X_train_scaled = scaler.fit_transform(X_train)\n",
    "    X_val_scaled = scaler.transform(X_val)\n",
    "\n",
    "    # Suggest dimensionality reduction and kernel parameters\n",
    "    use_pca = trial.suggest_categorical('use_pca', ['True', 'False'])\n",
    "    \n",
    "    \n",
    "\n",
    "    if use_pca:\n",
    "        kernel_pca = trial.suggest_categorical('pca_kernel', ['linear', 'poly', 'rbf', 'sigmoid', 'cosine'])\n",
    "\n",
    "        params_pca = {}\n",
    "\n",
    "        if kernel_pca == 'poly':\n",
    "            params_pca['degree'] = trial.suggest_int('degree_pca', 1, 10)\n",
    "        if kernel_pca in ['poly', 'rbf', 'sigmoid']:\n",
    "            params_pca['gamma'] = trial.suggest_float('gamma_pca', 0.1, 10)\n",
    "\n",
    "        params_pca['n_jobs'] = -1\n",
    "        params_pca['n_components'] = trial.suggest_int('n_pca_components', 1, max(1, X_train_scaled.shape[1]))\n",
    "\n",
    "\n",
    "    ### ========== Dimensionality Reduction ========== ###\n",
    "\n",
    "    if use_pca == 'True':\n",
    "        pca = KernelPCA(\n",
    "            ** params_pca\n",
    "        )\n",
    "\n",
    "        X_train_scaled = pca.fit_transform(X_train_scaled)\n",
    "        X_val_scaled = pca.transform(X_val)\n",
    "\n",
    "    # KNN Classifier parameters\n",
    "    classifier = KNeighborsClassifier(\n",
    "        n_neighbors=trial.suggest_int('n_neighbors', 5, 50),\n",
    "        weights=trial.suggest_categorical('weights', ['uniform', 'distance']),\n",
    "        n_jobs=-1\n",
    "    )\n",
    "\n",
    "    # Train the classifier\n",
    "    classifier.fit(X_train_scaled, y_train)\n",
    "\n",
    "    # Evaluate on the val set\n",
    "    y_val_pred = classifier.predict(X_val_scaled)\n",
    "    val_accuracy = accuracy_score(y_val, y_val_pred)\n",
    "\n",
    "    # Report validation accuracy for pruning\n",
    "    trial.report(val_accuracy, step=0)\n",
    "\n",
    "    # Check if the trial should be pruned\n",
    "    if trial.should_prune():\n",
    "        raise optuna.TrialPruned()\n",
    "\n",
    "\n",
    "    return val_accuracy\n",
    "\n",
    "# Create a study object with a pruner\n",
    "pruner = optuna.pruners.MedianPruner()\n",
    "study = optuna.create_study(direction=\"maximize\", pruner=pruner)\n",
    "\n",
    "# Optimize the objective function\n",
    "study.optimize(objective, n_trials=100)\n",
    "\n",
    "print(\"Best hyperparameters:\", study.best_params)\n",
    "print(\"Best value:\", study.best_value)\n",
    "\n",
    "# Visualize the optimization history and parameter importances\n",
    "vis.plot_optimization_history(study).show()\n",
    "vis.plot_param_importances(study).show()\n",
    "vis.plot_slice(study).show()"
   ]
  }
 ],
 "metadata": {
  "kernelspec": {
   "display_name": ".venv",
   "language": "python",
   "name": "python3"
  },
  "language_info": {
   "codemirror_mode": {
    "name": "ipython",
    "version": 3
   },
   "file_extension": ".py",
   "mimetype": "text/x-python",
   "name": "python",
   "nbconvert_exporter": "python",
   "pygments_lexer": "ipython3",
   "version": "3.12.0"
  }
 },
 "nbformat": 4,
 "nbformat_minor": 2
}
