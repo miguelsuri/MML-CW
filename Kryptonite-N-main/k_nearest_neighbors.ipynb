{
 "cells": [
  {
   "cell_type": "code",
   "execution_count": null,
   "metadata": {},
   "outputs": [
    {
     "name": "stderr",
     "output_type": "stream",
     "text": [
      "[I 2024-11-07 19:52:36,658] A new study created in memory with name: no-name-62b01b31-739d-4784-9e99-ec067aa6a78b\n",
      "[I 2024-11-07 19:52:37,340] Trial 0 finished with value: 0.4612962962962963 and parameters: {'use_pca': 'False', 'n_pca_components': 19, 'n_neighbors': 29, 'weights': 'uniform'}. Best is trial 0 with value: 0.4612962962962963.\n"
     ]
    },
    {
     "name": "stdout",
     "output_type": "stream",
     "text": [
      "Test Accuracy: 0.4641\n"
     ]
    },
    {
     "name": "stderr",
     "output_type": "stream",
     "text": [
      "[I 2024-11-07 19:52:37,803] Trial 1 finished with value: 0.9572222222222222 and parameters: {'use_pca': 'False', 'n_pca_components': 5, 'n_neighbors': 9, 'weights': 'uniform'}. Best is trial 1 with value: 0.9572222222222222.\n"
     ]
    },
    {
     "name": "stdout",
     "output_type": "stream",
     "text": [
      "Test Accuracy: 0.9619\n"
     ]
    },
    {
     "name": "stderr",
     "output_type": "stream",
     "text": [
      "[I 2024-11-07 19:52:38,610] Trial 2 finished with value: 0.5175925925925926 and parameters: {'use_pca': 'True', 'n_pca_components': 16, 'n_neighbors': 46, 'weights': 'distance'}. Best is trial 1 with value: 0.9572222222222222.\n"
     ]
    },
    {
     "name": "stdout",
     "output_type": "stream",
     "text": [
      "Test Accuracy: 0.5076\n"
     ]
    },
    {
     "name": "stderr",
     "output_type": "stream",
     "text": [
      "[I 2024-11-07 19:52:38,869] Trial 3 finished with value: 0.4887037037037037 and parameters: {'use_pca': 'True', 'n_pca_components': 5, 'n_neighbors': 34, 'weights': 'distance'}. Best is trial 1 with value: 0.9572222222222222.\n"
     ]
    },
    {
     "name": "stdout",
     "output_type": "stream",
     "text": [
      "Test Accuracy: 0.4894\n"
     ]
    },
    {
     "name": "stderr",
     "output_type": "stream",
     "text": [
      "[I 2024-11-07 19:52:39,968] Trial 4 finished with value: 0.5153703703703704 and parameters: {'use_pca': 'True', 'n_pca_components': 12, 'n_neighbors': 19, 'weights': 'uniform'}. Best is trial 1 with value: 0.9572222222222222.\n",
      "[I 2024-11-07 19:52:40,052] Trial 5 finished with value: 0.9574074074074074 and parameters: {'use_pca': 'False', 'n_pca_components': 13, 'n_neighbors': 7, 'weights': 'distance'}. Best is trial 5 with value: 0.9574074074074074.\n"
     ]
    },
    {
     "name": "stdout",
     "output_type": "stream",
     "text": [
      "Test Accuracy: 0.5228\n",
      "Test Accuracy: 0.9620\n"
     ]
    },
    {
     "name": "stderr",
     "output_type": "stream",
     "text": [
      "[I 2024-11-07 19:52:40,638] Trial 6 finished with value: 0.48962962962962964 and parameters: {'use_pca': 'True', 'n_pca_components': 5, 'n_neighbors': 13, 'weights': 'uniform'}. Best is trial 5 with value: 0.9574074074074074.\n"
     ]
    },
    {
     "name": "stdout",
     "output_type": "stream",
     "text": [
      "Test Accuracy: 0.5007\n"
     ]
    },
    {
     "name": "stderr",
     "output_type": "stream",
     "text": [
      "[I 2024-11-07 19:52:40,941] Trial 7 finished with value: 0.9501851851851851 and parameters: {'use_pca': 'False', 'n_pca_components': 17, 'n_neighbors': 22, 'weights': 'distance'}. Best is trial 5 with value: 0.9574074074074074.\n"
     ]
    },
    {
     "name": "stdout",
     "output_type": "stream",
     "text": [
      "Test Accuracy: 0.9576\n"
     ]
    },
    {
     "name": "stderr",
     "output_type": "stream",
     "text": [
      "[I 2024-11-07 19:52:41,409] Trial 8 finished with value: 0.4968518518518519 and parameters: {'use_pca': 'True', 'n_pca_components': 7, 'n_neighbors': 9, 'weights': 'distance'}. Best is trial 5 with value: 0.9574074074074074.\n"
     ]
    },
    {
     "name": "stdout",
     "output_type": "stream",
     "text": [
      "Test Accuracy: 0.4885\n"
     ]
    },
    {
     "name": "stderr",
     "output_type": "stream",
     "text": [
      "[I 2024-11-07 19:52:41,932] Trial 9 finished with value: 0.4898148148148148 and parameters: {'use_pca': 'True', 'n_pca_components': 4, 'n_neighbors': 42, 'weights': 'uniform'}. Best is trial 5 with value: 0.9574074074074074.\n",
      "[I 2024-11-07 19:52:42,129] Trial 10 finished with value: 0.9561111111111111 and parameters: {'use_pca': 'False', 'n_pca_components': 11, 'n_neighbors': 17, 'weights': 'distance'}. Best is trial 5 with value: 0.9574074074074074.\n"
     ]
    },
    {
     "name": "stdout",
     "output_type": "stream",
     "text": [
      "Test Accuracy: 0.4837\n",
      "Test Accuracy: 0.9611\n"
     ]
    },
    {
     "name": "stderr",
     "output_type": "stream",
     "text": [
      "[I 2024-11-07 19:52:42,584] Trial 11 finished with value: 0.955925925925926 and parameters: {'use_pca': 'False', 'n_pca_components': 9, 'n_neighbors': 6, 'weights': 'uniform'}. Best is trial 5 with value: 0.9574074074074074.\n"
     ]
    },
    {
     "name": "stdout",
     "output_type": "stream",
     "text": [
      "Test Accuracy: 0.9615\n"
     ]
    },
    {
     "name": "stderr",
     "output_type": "stream",
     "text": [
      "[I 2024-11-07 19:52:42,996] Trial 12 finished with value: 0.9566666666666667 and parameters: {'use_pca': 'False', 'n_pca_components': 1, 'n_neighbors': 5, 'weights': 'uniform'}. Best is trial 5 with value: 0.9574074074074074.\n",
      "[I 2024-11-07 19:52:43,127] Trial 13 finished with value: 0.9572222222222222 and parameters: {'use_pca': 'False', 'n_pca_components': 14, 'n_neighbors': 13, 'weights': 'distance'}. Best is trial 5 with value: 0.9574074074074074.\n"
     ]
    },
    {
     "name": "stdout",
     "output_type": "stream",
     "text": [
      "Test Accuracy: 0.9613\n",
      "Test Accuracy: 0.9619\n"
     ]
    },
    {
     "name": "stderr",
     "output_type": "stream",
     "text": [
      "[I 2024-11-07 19:52:43,731] Trial 14 finished with value: 0.6298148148148148 and parameters: {'use_pca': 'False', 'n_pca_components': 1, 'n_neighbors': 25, 'weights': 'uniform'}. Best is trial 5 with value: 0.9574074074074074.\n",
      "[I 2024-11-07 19:52:43,852] Trial 15 finished with value: 0.9574074074074074 and parameters: {'use_pca': 'False', 'n_pca_components': 9, 'n_neighbors': 12, 'weights': 'distance'}. Best is trial 5 with value: 0.9574074074074074.\n"
     ]
    },
    {
     "name": "stdout",
     "output_type": "stream",
     "text": [
      "Test Accuracy: 0.6339\n",
      "Test Accuracy: 0.9620\n"
     ]
    },
    {
     "name": "stderr",
     "output_type": "stream",
     "text": [
      "[I 2024-11-07 19:52:44,053] Trial 16 finished with value: 0.9561111111111111 and parameters: {'use_pca': 'False', 'n_pca_components': 9, 'n_neighbors': 17, 'weights': 'distance'}. Best is trial 5 with value: 0.9574074074074074.\n"
     ]
    },
    {
     "name": "stdout",
     "output_type": "stream",
     "text": [
      "Test Accuracy: 0.9611\n"
     ]
    },
    {
     "name": "stderr",
     "output_type": "stream",
     "text": [
      "[I 2024-11-07 19:52:44,430] Trial 17 finished with value: 0.9146296296296297 and parameters: {'use_pca': 'False', 'n_pca_components': 13, 'n_neighbors': 32, 'weights': 'distance'}. Best is trial 5 with value: 0.9574074074074074.\n"
     ]
    },
    {
     "name": "stdout",
     "output_type": "stream",
     "text": [
      "Test Accuracy: 0.9285\n"
     ]
    },
    {
     "name": "stderr",
     "output_type": "stream",
     "text": [
      "[I 2024-11-07 19:52:44,766] Trial 18 finished with value: 0.8798148148148148 and parameters: {'use_pca': 'False', 'n_pca_components': 15, 'n_neighbors': 39, 'weights': 'distance'}. Best is trial 5 with value: 0.9574074074074074.\n",
      "[I 2024-11-07 19:52:44,898] Trial 19 finished with value: 0.9572222222222222 and parameters: {'use_pca': 'False', 'n_pca_components': 9, 'n_neighbors': 13, 'weights': 'distance'}. Best is trial 5 with value: 0.9574074074074074.\n"
     ]
    },
    {
     "name": "stdout",
     "output_type": "stream",
     "text": [
      "Test Accuracy: 0.8917\n",
      "Test Accuracy: 0.9619\n"
     ]
    },
    {
     "name": "stderr",
     "output_type": "stream",
     "text": [
      "[I 2024-11-07 19:52:45,156] Trial 20 finished with value: 0.9481481481481482 and parameters: {'use_pca': 'False', 'n_pca_components': 11, 'n_neighbors': 23, 'weights': 'distance'}. Best is trial 5 with value: 0.9574074074074074.\n"
     ]
    },
    {
     "name": "stdout",
     "output_type": "stream",
     "text": [
      "Test Accuracy: 0.9554\n"
     ]
    },
    {
     "name": "stderr",
     "output_type": "stream",
     "text": [
      "[I 2024-11-07 19:52:45,615] Trial 21 finished with value: 0.9572222222222222 and parameters: {'use_pca': 'False', 'n_pca_components': 7, 'n_neighbors': 9, 'weights': 'uniform'}. Best is trial 5 with value: 0.9574074074074074.\n",
      "[I 2024-11-07 19:52:45,726] Trial 22 finished with value: 0.9575925925925926 and parameters: {'use_pca': 'False', 'n_pca_components': 7, 'n_neighbors': 10, 'weights': 'distance'}. Best is trial 22 with value: 0.9575925925925926.\n"
     ]
    },
    {
     "name": "stdout",
     "output_type": "stream",
     "text": [
      "Test Accuracy: 0.9619\n",
      "Test Accuracy: 0.9622\n"
     ]
    },
    {
     "name": "stderr",
     "output_type": "stream",
     "text": [
      "[I 2024-11-07 19:52:45,880] Trial 23 finished with value: 0.9568518518518518 and parameters: {'use_pca': 'False', 'n_pca_components': 7, 'n_neighbors': 14, 'weights': 'distance'}. Best is trial 22 with value: 0.9575925925925926.\n",
      "[I 2024-11-07 19:52:45,969] Trial 24 finished with value: 0.9562962962962963 and parameters: {'use_pca': 'False', 'n_pca_components': 9, 'n_neighbors': 5, 'weights': 'distance'}. Best is trial 22 with value: 0.9575925925925926.\n",
      "[I 2024-11-07 19:52:46,059] Trial 25 finished with value: 0.9575925925925926 and parameters: {'use_pca': 'False', 'n_pca_components': 13, 'n_neighbors': 10, 'weights': 'distance'}. Best is trial 22 with value: 0.9575925925925926.\n"
     ]
    },
    {
     "name": "stdout",
     "output_type": "stream",
     "text": [
      "Test Accuracy: 0.9619\n",
      "Test Accuracy: 0.9613\n",
      "Test Accuracy: 0.9622\n"
     ]
    },
    {
     "name": "stderr",
     "output_type": "stream",
     "text": [
      "[I 2024-11-07 19:52:46,255] Trial 26 finished with value: 0.9527777777777777 and parameters: {'use_pca': 'False', 'n_pca_components': 20, 'n_neighbors': 20, 'weights': 'distance'}. Best is trial 22 with value: 0.9575925925925926.\n",
      "[I 2024-11-07 19:52:46,409] Trial 27 finished with value: 0.955925925925926 and parameters: {'use_pca': 'False', 'n_pca_components': 13, 'n_neighbors': 16, 'weights': 'distance'}. Best is trial 22 with value: 0.9575925925925926.\n"
     ]
    },
    {
     "name": "stdout",
     "output_type": "stream",
     "text": [
      "Test Accuracy: 0.9596\n",
      "Test Accuracy: 0.9611\n"
     ]
    },
    {
     "name": "stderr",
     "output_type": "stream",
     "text": [
      "[I 2024-11-07 19:52:46,497] Trial 28 finished with value: 0.9575925925925926 and parameters: {'use_pca': 'False', 'n_pca_components': 16, 'n_neighbors': 9, 'weights': 'distance'}. Best is trial 22 with value: 0.9575925925925926.\n",
      "[I 2024-11-07 19:52:46,608] Trial 29 finished with value: 0.9575925925925926 and parameters: {'use_pca': 'False', 'n_pca_components': 17, 'n_neighbors': 10, 'weights': 'distance'}. Best is trial 22 with value: 0.9575925925925926.\n"
     ]
    },
    {
     "name": "stdout",
     "output_type": "stream",
     "text": [
      "Test Accuracy: 0.9622\n",
      "Test Accuracy: 0.9622\n"
     ]
    },
    {
     "name": "stderr",
     "output_type": "stream",
     "text": [
      "[I 2024-11-07 19:52:46,926] Trial 30 finished with value: 0.9362962962962963 and parameters: {'use_pca': 'False', 'n_pca_components': 18, 'n_neighbors': 27, 'weights': 'distance'}. Best is trial 22 with value: 0.9575925925925926.\n"
     ]
    },
    {
     "name": "stdout",
     "output_type": "stream",
     "text": [
      "Test Accuracy: 0.9457\n"
     ]
    },
    {
     "name": "stderr",
     "output_type": "stream",
     "text": [
      "[I 2024-11-07 19:52:47,131] Trial 31 finished with value: 0.9575925925925926 and parameters: {'use_pca': 'False', 'n_pca_components': 18, 'n_neighbors': 10, 'weights': 'distance'}. Best is trial 22 with value: 0.9575925925925926.\n",
      "[I 2024-11-07 19:52:47,243] Trial 32 finished with value: 0.9575925925925926 and parameters: {'use_pca': 'False', 'n_pca_components': 16, 'n_neighbors': 10, 'weights': 'distance'}. Best is trial 22 with value: 0.9575925925925926.\n",
      "[I 2024-11-07 19:52:47,330] Trial 33 finished with value: 0.9575925925925926 and parameters: {'use_pca': 'False', 'n_pca_components': 15, 'n_neighbors': 8, 'weights': 'distance'}. Best is trial 22 with value: 0.9575925925925926.\n"
     ]
    },
    {
     "name": "stdout",
     "output_type": "stream",
     "text": [
      "Test Accuracy: 0.9622\n",
      "Test Accuracy: 0.9622\n",
      "Test Accuracy: 0.9620\n"
     ]
    },
    {
     "name": "stderr",
     "output_type": "stream",
     "text": [
      "[I 2024-11-07 19:52:47,718] Trial 34 finished with value: 0.8181481481481482 and parameters: {'use_pca': 'False', 'n_pca_components': 19, 'n_neighbors': 50, 'weights': 'distance'}. Best is trial 22 with value: 0.9575925925925926.\n"
     ]
    },
    {
     "name": "stdout",
     "output_type": "stream",
     "text": [
      "Test Accuracy: 0.8311\n"
     ]
    },
    {
     "name": "stderr",
     "output_type": "stream",
     "text": [
      "[I 2024-11-07 19:52:48,531] Trial 35 finished with value: 0.515 and parameters: {'use_pca': 'True', 'n_pca_components': 16, 'n_neighbors': 16, 'weights': 'distance'}. Best is trial 22 with value: 0.9575925925925926.\n",
      "[I 2024-11-07 19:52:48,653] Trial 36 finished with value: 0.9575925925925926 and parameters: {'use_pca': 'False', 'n_pca_components': 17, 'n_neighbors': 11, 'weights': 'distance'}. Best is trial 22 with value: 0.9575925925925926.\n"
     ]
    },
    {
     "name": "stdout",
     "output_type": "stream",
     "text": [
      "Test Accuracy: 0.5206\n",
      "Test Accuracy: 0.9620\n"
     ]
    },
    {
     "name": "stderr",
     "output_type": "stream",
     "text": [
      "[I 2024-11-07 19:52:49,491] Trial 37 finished with value: 0.5166666666666667 and parameters: {'use_pca': 'True', 'n_pca_components': 14, 'n_neighbors': 20, 'weights': 'distance'}. Best is trial 22 with value: 0.9575925925925926.\n",
      "[I 2024-11-07 19:52:49,627] Trial 38 finished with value: 0.9574074074074074 and parameters: {'use_pca': 'False', 'n_pca_components': 12, 'n_neighbors': 7, 'weights': 'distance'}. Best is trial 22 with value: 0.9575925925925926.\n"
     ]
    },
    {
     "name": "stdout",
     "output_type": "stream",
     "text": [
      "Test Accuracy: 0.5191\n",
      "Test Accuracy: 0.9620\n"
     ]
    },
    {
     "name": "stderr",
     "output_type": "stream",
     "text": [
      "[I 2024-11-07 19:52:50,200] Trial 39 finished with value: 0.51 and parameters: {'use_pca': 'True', 'n_pca_components': 20, 'n_neighbors': 15, 'weights': 'distance'}. Best is trial 22 with value: 0.9575925925925926.\n"
     ]
    },
    {
     "name": "stdout",
     "output_type": "stream",
     "text": [
      "Test Accuracy: 0.5170\n"
     ]
    },
    {
     "name": "stderr",
     "output_type": "stream",
     "text": [
      "[I 2024-11-07 19:52:50,436] Trial 40 finished with value: 0.9537037037037037 and parameters: {'use_pca': 'False', 'n_pca_components': 4, 'n_neighbors': 19, 'weights': 'distance'}. Best is trial 22 with value: 0.9575925925925926.\n",
      "[I 2024-11-07 19:52:50,556] Trial 41 finished with value: 0.9575925925925926 and parameters: {'use_pca': 'False', 'n_pca_components': 18, 'n_neighbors': 11, 'weights': 'distance'}. Best is trial 22 with value: 0.9575925925925926.\n",
      "[I 2024-11-07 19:52:50,636] Trial 42 finished with value: 0.9575925925925926 and parameters: {'use_pca': 'False', 'n_pca_components': 18, 'n_neighbors': 8, 'weights': 'distance'}. Best is trial 22 with value: 0.9575925925925926.\n"
     ]
    },
    {
     "name": "stdout",
     "output_type": "stream",
     "text": [
      "Test Accuracy: 0.9604\n",
      "Test Accuracy: 0.9620\n",
      "Test Accuracy: 0.9620\n"
     ]
    },
    {
     "name": "stderr",
     "output_type": "stream",
     "text": [
      "[I 2024-11-07 19:52:50,729] Trial 43 finished with value: 0.9575925925925926 and parameters: {'use_pca': 'False', 'n_pca_components': 17, 'n_neighbors': 10, 'weights': 'distance'}. Best is trial 22 with value: 0.9575925925925926.\n",
      "[I 2024-11-07 19:52:50,797] Trial 44 finished with value: 0.9562962962962963 and parameters: {'use_pca': 'False', 'n_pca_components': 15, 'n_neighbors': 5, 'weights': 'distance'}. Best is trial 22 with value: 0.9575925925925926.\n"
     ]
    },
    {
     "name": "stdout",
     "output_type": "stream",
     "text": [
      "Test Accuracy: 0.9622\n",
      "Test Accuracy: 0.9613\n"
     ]
    },
    {
     "name": "stderr",
     "output_type": "stream",
     "text": [
      "[I 2024-11-07 19:52:51,263] Trial 45 finished with value: 0.9446296296296296 and parameters: {'use_pca': 'False', 'n_pca_components': 19, 'n_neighbors': 12, 'weights': 'uniform'}. Best is trial 22 with value: 0.9575925925925926.\n"
     ]
    },
    {
     "name": "stdout",
     "output_type": "stream",
     "text": [
      "Test Accuracy: 0.9520\n"
     ]
    },
    {
     "name": "stderr",
     "output_type": "stream",
     "text": [
      "[I 2024-11-07 19:52:52,056] Trial 46 finished with value: 0.5072222222222222 and parameters: {'use_pca': 'True', 'n_pca_components': 14, 'n_neighbors': 7, 'weights': 'distance'}. Best is trial 22 with value: 0.9575925925925926.\n",
      "[I 2024-11-07 19:52:52,207] Trial 47 finished with value: 0.9568518518518518 and parameters: {'use_pca': 'False', 'n_pca_components': 16, 'n_neighbors': 14, 'weights': 'distance'}. Best is trial 22 with value: 0.9575925925925926.\n"
     ]
    },
    {
     "name": "stdout",
     "output_type": "stream",
     "text": [
      "Test Accuracy: 0.5180\n",
      "Test Accuracy: 0.9619\n"
     ]
    },
    {
     "name": "stderr",
     "output_type": "stream",
     "text": [
      "[I 2024-11-07 19:52:52,766] Trial 48 finished with value: 0.8583333333333333 and parameters: {'use_pca': 'False', 'n_pca_components': 17, 'n_neighbors': 18, 'weights': 'uniform'}. Best is trial 22 with value: 0.9575925925925926.\n"
     ]
    },
    {
     "name": "stdout",
     "output_type": "stream",
     "text": [
      "Test Accuracy: 0.8739\n"
     ]
    },
    {
     "name": "stderr",
     "output_type": "stream",
     "text": [
      "[I 2024-11-07 19:52:53,029] Trial 49 finished with value: 0.9501851851851851 and parameters: {'use_pca': 'False', 'n_pca_components': 12, 'n_neighbors': 22, 'weights': 'distance'}. Best is trial 22 with value: 0.9575925925925926.\n"
     ]
    },
    {
     "name": "stdout",
     "output_type": "stream",
     "text": [
      "Test Accuracy: 0.9576\n"
     ]
    },
    {
     "name": "stderr",
     "output_type": "stream",
     "text": [
      "[I 2024-11-07 19:52:53,430] Trial 50 finished with value: 0.48685185185185187 and parameters: {'use_pca': 'True', 'n_pca_components': 6, 'n_neighbors': 31, 'weights': 'distance'}. Best is trial 22 with value: 0.9575925925925926.\n",
      "[I 2024-11-07 19:52:53,543] Trial 51 finished with value: 0.9575925925925926 and parameters: {'use_pca': 'False', 'n_pca_components': 16, 'n_neighbors': 10, 'weights': 'distance'}. Best is trial 22 with value: 0.9575925925925926.\n"
     ]
    },
    {
     "name": "stdout",
     "output_type": "stream",
     "text": [
      "Test Accuracy: 0.4900\n",
      "Test Accuracy: 0.9622\n"
     ]
    },
    {
     "name": "stderr",
     "output_type": "stream",
     "text": [
      "[I 2024-11-07 19:52:53,644] Trial 52 finished with value: 0.9575925925925926 and parameters: {'use_pca': 'False', 'n_pca_components': 18, 'n_neighbors': 9, 'weights': 'distance'}. Best is trial 22 with value: 0.9575925925925926.\n",
      "[I 2024-11-07 19:52:53,769] Trial 53 finished with value: 0.9574074074074074 and parameters: {'use_pca': 'False', 'n_pca_components': 15, 'n_neighbors': 12, 'weights': 'distance'}. Best is trial 22 with value: 0.9575925925925926.\n"
     ]
    },
    {
     "name": "stdout",
     "output_type": "stream",
     "text": [
      "Test Accuracy: 0.9622\n",
      "Test Accuracy: 0.9620\n"
     ]
    },
    {
     "name": "stderr",
     "output_type": "stream",
     "text": [
      "[I 2024-11-07 19:52:53,973] Trial 54 finished with value: 0.8798148148148148 and parameters: {'use_pca': 'False', 'n_pca_components': 10, 'n_neighbors': 39, 'weights': 'distance'}. Best is trial 22 with value: 0.9575925925925926.\n",
      "[I 2024-11-07 19:52:54,040] Trial 55 finished with value: 0.9574074074074074 and parameters: {'use_pca': 'False', 'n_pca_components': 19, 'n_neighbors': 7, 'weights': 'distance'}. Best is trial 22 with value: 0.9575925925925926.\n"
     ]
    },
    {
     "name": "stdout",
     "output_type": "stream",
     "text": [
      "Test Accuracy: 0.8917\n",
      "Test Accuracy: 0.9620\n"
     ]
    },
    {
     "name": "stderr",
     "output_type": "stream",
     "text": [
      "[I 2024-11-07 19:52:54,501] Trial 56 finished with value: 0.9535185185185185 and parameters: {'use_pca': 'False', 'n_pca_components': 16, 'n_neighbors': 10, 'weights': 'uniform'}. Best is trial 22 with value: 0.9575925925925926.\n",
      "[I 2024-11-07 19:52:54,614] Trial 57 finished with value: 0.9568518518518518 and parameters: {'use_pca': 'False', 'n_pca_components': 2, 'n_neighbors': 14, 'weights': 'distance'}. Best is trial 22 with value: 0.9575925925925926.\n",
      "[I 2024-11-07 19:52:54,686] Trial 58 finished with value: 0.9564814814814815 and parameters: {'use_pca': 'False', 'n_pca_components': 17, 'n_neighbors': 6, 'weights': 'distance'}. Best is trial 22 with value: 0.9575925925925926.\n"
     ]
    },
    {
     "name": "stdout",
     "output_type": "stream",
     "text": [
      "Test Accuracy: 0.9583\n",
      "Test Accuracy: 0.9619\n",
      "Test Accuracy: 0.9615\n"
     ]
    },
    {
     "name": "stderr",
     "output_type": "stream",
     "text": [
      "[I 2024-11-07 19:52:54,776] Trial 59 finished with value: 0.9575925925925926 and parameters: {'use_pca': 'False', 'n_pca_components': 13, 'n_neighbors': 11, 'weights': 'distance'}. Best is trial 22 with value: 0.9575925925925926.\n",
      "[I 2024-11-07 19:52:54,910] Trial 60 finished with value: 0.955925925925926 and parameters: {'use_pca': 'False', 'n_pca_components': 14, 'n_neighbors': 16, 'weights': 'distance'}. Best is trial 22 with value: 0.9575925925925926.\n"
     ]
    },
    {
     "name": "stdout",
     "output_type": "stream",
     "text": [
      "Test Accuracy: 0.9620\n",
      "Test Accuracy: 0.9611\n"
     ]
    },
    {
     "name": "stderr",
     "output_type": "stream",
     "text": [
      "[I 2024-11-07 19:52:54,982] Trial 61 finished with value: 0.9575925925925926 and parameters: {'use_pca': 'False', 'n_pca_components': 15, 'n_neighbors': 8, 'weights': 'distance'}. Best is trial 22 with value: 0.9575925925925926.\n",
      "[I 2024-11-07 19:52:55,057] Trial 62 finished with value: 0.9575925925925926 and parameters: {'use_pca': 'False', 'n_pca_components': 16, 'n_neighbors': 8, 'weights': 'distance'}. Best is trial 22 with value: 0.9575925925925926.\n",
      "[I 2024-11-07 19:52:55,146] Trial 63 finished with value: 0.9572222222222222 and parameters: {'use_pca': 'False', 'n_pca_components': 14, 'n_neighbors': 13, 'weights': 'distance'}. Best is trial 22 with value: 0.9575925925925926.\n"
     ]
    },
    {
     "name": "stdout",
     "output_type": "stream",
     "text": [
      "Test Accuracy: 0.9620\n",
      "Test Accuracy: 0.9620\n",
      "Test Accuracy: 0.9619\n"
     ]
    },
    {
     "name": "stderr",
     "output_type": "stream",
     "text": [
      "[I 2024-11-07 19:52:55,216] Trial 64 finished with value: 0.9562962962962963 and parameters: {'use_pca': 'False', 'n_pca_components': 15, 'n_neighbors': 5, 'weights': 'distance'}. Best is trial 22 with value: 0.9575925925925926.\n",
      "[I 2024-11-07 19:52:55,297] Trial 65 finished with value: 0.9575925925925926 and parameters: {'use_pca': 'False', 'n_pca_components': 8, 'n_neighbors': 9, 'weights': 'distance'}. Best is trial 22 with value: 0.9575925925925926.\n"
     ]
    },
    {
     "name": "stdout",
     "output_type": "stream",
     "text": [
      "Test Accuracy: 0.9613\n",
      "Test Accuracy: 0.9622\n"
     ]
    },
    {
     "name": "stderr",
     "output_type": "stream",
     "text": [
      "[I 2024-11-07 19:52:55,749] Trial 66 finished with value: 0.9516666666666667 and parameters: {'use_pca': 'False', 'n_pca_components': 12, 'n_neighbors': 11, 'weights': 'uniform'}. Best is trial 22 with value: 0.9575925925925926.\n",
      "[I 2024-11-07 19:52:55,823] Trial 67 finished with value: 0.9564814814814815 and parameters: {'use_pca': 'False', 'n_pca_components': 13, 'n_neighbors': 6, 'weights': 'distance'}. Best is trial 22 with value: 0.9575925925925926.\n"
     ]
    },
    {
     "name": "stdout",
     "output_type": "stream",
     "text": [
      "Test Accuracy: 0.9570\n",
      "Test Accuracy: 0.9615\n"
     ]
    },
    {
     "name": "stderr",
     "output_type": "stream",
     "text": [
      "[I 2024-11-07 19:52:56,290] Trial 68 finished with value: 0.5114814814814815 and parameters: {'use_pca': 'True', 'n_pca_components': 17, 'n_neighbors': 13, 'weights': 'distance'}. Best is trial 22 with value: 0.9575925925925926.\n",
      "[I 2024-11-07 19:52:56,413] Trial 69 finished with value: 0.9566666666666667 and parameters: {'use_pca': 'False', 'n_pca_components': 19, 'n_neighbors': 15, 'weights': 'distance'}. Best is trial 22 with value: 0.9575925925925926.\n"
     ]
    },
    {
     "name": "stdout",
     "output_type": "stream",
     "text": [
      "Test Accuracy: 0.5122\n",
      "Test Accuracy: 0.9617\n"
     ]
    },
    {
     "name": "stderr",
     "output_type": "stream",
     "text": [
      "[I 2024-11-07 19:52:56,542] Trial 70 finished with value: 0.9575925925925926 and parameters: {'use_pca': 'False', 'n_pca_components': 18, 'n_neighbors': 10, 'weights': 'distance'}. Best is trial 22 with value: 0.9575925925925926.\n",
      "[I 2024-11-07 19:52:56,624] Trial 71 finished with value: 0.9575925925925926 and parameters: {'use_pca': 'False', 'n_pca_components': 16, 'n_neighbors': 8, 'weights': 'distance'}. Best is trial 22 with value: 0.9575925925925926.\n"
     ]
    },
    {
     "name": "stdout",
     "output_type": "stream",
     "text": [
      "Test Accuracy: 0.9622\n",
      "Test Accuracy: 0.9620\n"
     ]
    },
    {
     "name": "stderr",
     "output_type": "stream",
     "text": [
      "[I 2024-11-07 19:52:56,786] Trial 72 finished with value: 0.9575925925925926 and parameters: {'use_pca': 'False', 'n_pca_components': 17, 'n_neighbors': 11, 'weights': 'distance'}. Best is trial 22 with value: 0.9575925925925926.\n",
      "[I 2024-11-07 19:52:56,904] Trial 73 finished with value: 0.9574074074074074 and parameters: {'use_pca': 'False', 'n_pca_components': 15, 'n_neighbors': 12, 'weights': 'distance'}. Best is trial 22 with value: 0.9575925925925926.\n",
      "[I 2024-11-07 19:52:56,984] Trial 74 finished with value: 0.9574074074074074 and parameters: {'use_pca': 'False', 'n_pca_components': 11, 'n_neighbors': 7, 'weights': 'distance'}. Best is trial 22 with value: 0.9575925925925926.\n"
     ]
    },
    {
     "name": "stdout",
     "output_type": "stream",
     "text": [
      "Test Accuracy: 0.9620\n",
      "Test Accuracy: 0.9620\n",
      "Test Accuracy: 0.9620\n"
     ]
    },
    {
     "name": "stderr",
     "output_type": "stream",
     "text": [
      "[I 2024-11-07 19:52:57,091] Trial 75 finished with value: 0.9575925925925926 and parameters: {'use_pca': 'False', 'n_pca_components': 18, 'n_neighbors': 9, 'weights': 'distance'}. Best is trial 22 with value: 0.9575925925925926.\n",
      "[I 2024-11-07 19:52:57,250] Trial 76 finished with value: 0.9566666666666667 and parameters: {'use_pca': 'False', 'n_pca_components': 20, 'n_neighbors': 15, 'weights': 'distance'}. Best is trial 22 with value: 0.9575925925925926.\n"
     ]
    },
    {
     "name": "stdout",
     "output_type": "stream",
     "text": [
      "Test Accuracy: 0.9622\n",
      "Test Accuracy: 0.9617\n"
     ]
    },
    {
     "name": "stderr",
     "output_type": "stream",
     "text": [
      "[I 2024-11-07 19:52:57,362] Trial 77 finished with value: 0.9574074074074074 and parameters: {'use_pca': 'False', 'n_pca_components': 17, 'n_neighbors': 12, 'weights': 'distance'}. Best is trial 22 with value: 0.9575925925925926.\n"
     ]
    },
    {
     "name": "stdout",
     "output_type": "stream",
     "text": [
      "Test Accuracy: 0.9620\n"
     ]
    },
    {
     "name": "stderr",
     "output_type": "stream",
     "text": [
      "[I 2024-11-07 19:52:58,363] Trial 78 finished with value: 0.5072222222222222 and parameters: {'use_pca': 'True', 'n_pca_components': 15, 'n_neighbors': 6, 'weights': 'uniform'}. Best is trial 22 with value: 0.9575925925925926.\n",
      "[I 2024-11-07 19:52:58,463] Trial 79 finished with value: 0.9575925925925926 and parameters: {'use_pca': 'False', 'n_pca_components': 16, 'n_neighbors': 10, 'weights': 'distance'}. Best is trial 22 with value: 0.9575925925925926.\n"
     ]
    },
    {
     "name": "stdout",
     "output_type": "stream",
     "text": [
      "Test Accuracy: 0.5137\n",
      "Test Accuracy: 0.9622\n"
     ]
    },
    {
     "name": "stderr",
     "output_type": "stream",
     "text": [
      "[I 2024-11-07 19:52:58,792] Trial 80 finished with value: 0.8988888888888888 and parameters: {'use_pca': 'False', 'n_pca_components': 18, 'n_neighbors': 36, 'weights': 'distance'}. Best is trial 22 with value: 0.9575925925925926.\n",
      "[I 2024-11-07 19:52:58,895] Trial 81 finished with value: 0.9575925925925926 and parameters: {'use_pca': 'False', 'n_pca_components': 17, 'n_neighbors': 11, 'weights': 'distance'}. Best is trial 22 with value: 0.9575925925925926.\n"
     ]
    },
    {
     "name": "stdout",
     "output_type": "stream",
     "text": [
      "Test Accuracy: 0.9056\n",
      "Test Accuracy: 0.9620\n"
     ]
    },
    {
     "name": "stderr",
     "output_type": "stream",
     "text": [
      "[I 2024-11-07 19:52:59,030] Trial 82 finished with value: 0.9568518518518518 and parameters: {'use_pca': 'False', 'n_pca_components': 19, 'n_neighbors': 14, 'weights': 'distance'}. Best is trial 22 with value: 0.9575925925925926.\n",
      "[I 2024-11-07 19:52:59,120] Trial 83 finished with value: 0.9575925925925926 and parameters: {'use_pca': 'False', 'n_pca_components': 18, 'n_neighbors': 8, 'weights': 'distance'}. Best is trial 22 with value: 0.9575925925925926.\n"
     ]
    },
    {
     "name": "stdout",
     "output_type": "stream",
     "text": [
      "Test Accuracy: 0.9619\n",
      "Test Accuracy: 0.9620\n"
     ]
    },
    {
     "name": "stderr",
     "output_type": "stream",
     "text": [
      "[I 2024-11-07 19:52:59,361] Trial 84 finished with value: 0.9433333333333334 and parameters: {'use_pca': 'False', 'n_pca_components': 16, 'n_neighbors': 25, 'weights': 'distance'}. Best is trial 22 with value: 0.9575925925925926.\n",
      "[I 2024-11-07 19:52:59,539] Trial 85 finished with value: 0.9561111111111111 and parameters: {'use_pca': 'False', 'n_pca_components': 3, 'n_neighbors': 17, 'weights': 'distance'}. Best is trial 22 with value: 0.9575925925925926.\n"
     ]
    },
    {
     "name": "stdout",
     "output_type": "stream",
     "text": [
      "Test Accuracy: 0.9515\n",
      "Test Accuracy: 0.9611\n"
     ]
    },
    {
     "name": "stderr",
     "output_type": "stream",
     "text": [
      "[I 2024-11-07 19:52:59,848] Trial 86 finished with value: 0.8422222222222222 and parameters: {'use_pca': 'False', 'n_pca_components': 14, 'n_neighbors': 45, 'weights': 'distance'}. Best is trial 22 with value: 0.9575925925925926.\n",
      "[I 2024-11-07 19:52:59,949] Trial 87 finished with value: 0.9575925925925926 and parameters: {'use_pca': 'False', 'n_pca_components': 17, 'n_neighbors': 11, 'weights': 'distance'}. Best is trial 22 with value: 0.9575925925925926.\n",
      "[I 2024-11-07 19:53:00,042] Trial 88 finished with value: 0.9575925925925926 and parameters: {'use_pca': 'False', 'n_pca_components': 10, 'n_neighbors': 9, 'weights': 'distance'}. Best is trial 22 with value: 0.9575925925925926.\n"
     ]
    },
    {
     "name": "stdout",
     "output_type": "stream",
     "text": [
      "Test Accuracy: 0.8559\n",
      "Test Accuracy: 0.9620\n",
      "Test Accuracy: 0.9622\n"
     ]
    },
    {
     "name": "stderr",
     "output_type": "stream",
     "text": [
      "[I 2024-11-07 19:53:00,134] Trial 89 finished with value: 0.9574074074074074 and parameters: {'use_pca': 'False', 'n_pca_components': 8, 'n_neighbors': 7, 'weights': 'distance'}. Best is trial 22 with value: 0.9575925925925926.\n"
     ]
    },
    {
     "name": "stdout",
     "output_type": "stream",
     "text": [
      "Test Accuracy: 0.9620\n"
     ]
    },
    {
     "name": "stderr",
     "output_type": "stream",
     "text": [
      "[I 2024-11-07 19:53:01,238] Trial 90 finished with value: 0.5111111111111111 and parameters: {'use_pca': 'True', 'n_pca_components': 19, 'n_neighbors': 13, 'weights': 'uniform'}. Best is trial 22 with value: 0.9575925925925926.\n",
      "[I 2024-11-07 19:53:01,354] Trial 91 finished with value: 0.9575925925925926 and parameters: {'use_pca': 'False', 'n_pca_components': 18, 'n_neighbors': 10, 'weights': 'distance'}. Best is trial 22 with value: 0.9575925925925926.\n"
     ]
    },
    {
     "name": "stdout",
     "output_type": "stream",
     "text": [
      "Test Accuracy: 0.5122\n",
      "Test Accuracy: 0.9622\n"
     ]
    },
    {
     "name": "stderr",
     "output_type": "stream",
     "text": [
      "[I 2024-11-07 19:53:01,443] Trial 92 finished with value: 0.9564814814814815 and parameters: {'use_pca': 'False', 'n_pca_components': 17, 'n_neighbors': 6, 'weights': 'distance'}. Best is trial 22 with value: 0.9575925925925926.\n",
      "[I 2024-11-07 19:53:01,539] Trial 93 finished with value: 0.9575925925925926 and parameters: {'use_pca': 'False', 'n_pca_components': 6, 'n_neighbors': 8, 'weights': 'distance'}. Best is trial 22 with value: 0.9575925925925926.\n",
      "[I 2024-11-07 19:53:01,630] Trial 94 finished with value: 0.9562962962962963 and parameters: {'use_pca': 'False', 'n_pca_components': 18, 'n_neighbors': 5, 'weights': 'distance'}. Best is trial 22 with value: 0.9575925925925926.\n"
     ]
    },
    {
     "name": "stdout",
     "output_type": "stream",
     "text": [
      "Test Accuracy: 0.9615\n",
      "Test Accuracy: 0.9620\n",
      "Test Accuracy: 0.9613\n"
     ]
    },
    {
     "name": "stderr",
     "output_type": "stream",
     "text": [
      "[I 2024-11-07 19:53:01,731] Trial 95 finished with value: 0.9575925925925926 and parameters: {'use_pca': 'False', 'n_pca_components': 18, 'n_neighbors': 9, 'weights': 'distance'}. Best is trial 22 with value: 0.9575925925925926.\n",
      "[I 2024-11-07 19:53:01,846] Trial 96 finished with value: 0.9574074074074074 and parameters: {'use_pca': 'False', 'n_pca_components': 20, 'n_neighbors': 12, 'weights': 'distance'}. Best is trial 22 with value: 0.9575925925925926.\n"
     ]
    },
    {
     "name": "stdout",
     "output_type": "stream",
     "text": [
      "Test Accuracy: 0.9622\n",
      "Test Accuracy: 0.9620\n"
     ]
    },
    {
     "name": "stderr",
     "output_type": "stream",
     "text": [
      "[I 2024-11-07 19:53:01,946] Trial 97 finished with value: 0.9575925925925926 and parameters: {'use_pca': 'False', 'n_pca_components': 16, 'n_neighbors': 8, 'weights': 'distance'}. Best is trial 22 with value: 0.9575925925925926.\n"
     ]
    },
    {
     "name": "stdout",
     "output_type": "stream",
     "text": [
      "Test Accuracy: 0.9620\n"
     ]
    },
    {
     "name": "stderr",
     "output_type": "stream",
     "text": [
      "[I 2024-11-07 19:53:02,151] Trial 98 finished with value: 0.9568518518518518 and parameters: {'use_pca': 'False', 'n_pca_components': 19, 'n_neighbors': 14, 'weights': 'distance'}. Best is trial 22 with value: 0.9575925925925926.\n",
      "[I 2024-11-07 19:53:02,259] Trial 99 finished with value: 0.9575925925925926 and parameters: {'use_pca': 'False', 'n_pca_components': 17, 'n_neighbors': 10, 'weights': 'distance'}. Best is trial 22 with value: 0.9575925925925926.\n"
     ]
    },
    {
     "name": "stdout",
     "output_type": "stream",
     "text": [
      "Test Accuracy: 0.9619\n",
      "Test Accuracy: 0.9622\n",
      "Best hyperparameters: {'use_pca': 'False', 'n_pca_components': 7, 'n_neighbors': 10, 'weights': 'distance'}\n",
      "Best value: 0.9575925925925926\n"
     ]
    },
    {
     "data": {
      "application/vnd.plotly.v1+json": {
       "config": {
        "plotlyServerURL": "https://plot.ly"
       },
       "data": [
        {
         "mode": "markers",
         "name": "Objective Value",
         "type": "scatter",
         "x": [
          0,
          1,
          2,
          3,
          4,
          5,
          6,
          7,
          8,
          9,
          10,
          11,
          12,
          13,
          14,
          15,
          16,
          17,
          18,
          19,
          20,
          21,
          22,
          23,
          24,
          25,
          26,
          27,
          28,
          29,
          30,
          31,
          32,
          33,
          34,
          35,
          36,
          37,
          38,
          39,
          40,
          41,
          42,
          43,
          44,
          45,
          46,
          47,
          48,
          49,
          50,
          51,
          52,
          53,
          54,
          55,
          56,
          57,
          58,
          59,
          60,
          61,
          62,
          63,
          64,
          65,
          66,
          67,
          68,
          69,
          70,
          71,
          72,
          73,
          74,
          75,
          76,
          77,
          78,
          79,
          80,
          81,
          82,
          83,
          84,
          85,
          86,
          87,
          88,
          89,
          90,
          91,
          92,
          93,
          94,
          95,
          96,
          97,
          98,
          99
         ],
         "y": [
          0.4612962962962963,
          0.9572222222222222,
          0.5175925925925926,
          0.4887037037037037,
          0.5153703703703704,
          0.9574074074074074,
          0.48962962962962964,
          0.9501851851851851,
          0.4968518518518519,
          0.4898148148148148,
          0.9561111111111111,
          0.955925925925926,
          0.9566666666666667,
          0.9572222222222222,
          0.6298148148148148,
          0.9574074074074074,
          0.9561111111111111,
          0.9146296296296297,
          0.8798148148148148,
          0.9572222222222222,
          0.9481481481481482,
          0.9572222222222222,
          0.9575925925925926,
          0.9568518518518518,
          0.9562962962962963,
          0.9575925925925926,
          0.9527777777777777,
          0.955925925925926,
          0.9575925925925926,
          0.9575925925925926,
          0.9362962962962963,
          0.9575925925925926,
          0.9575925925925926,
          0.9575925925925926,
          0.8181481481481482,
          0.515,
          0.9575925925925926,
          0.5166666666666667,
          0.9574074074074074,
          0.51,
          0.9537037037037037,
          0.9575925925925926,
          0.9575925925925926,
          0.9575925925925926,
          0.9562962962962963,
          0.9446296296296296,
          0.5072222222222222,
          0.9568518518518518,
          0.8583333333333333,
          0.9501851851851851,
          0.48685185185185187,
          0.9575925925925926,
          0.9575925925925926,
          0.9574074074074074,
          0.8798148148148148,
          0.9574074074074074,
          0.9535185185185185,
          0.9568518518518518,
          0.9564814814814815,
          0.9575925925925926,
          0.955925925925926,
          0.9575925925925926,
          0.9575925925925926,
          0.9572222222222222,
          0.9562962962962963,
          0.9575925925925926,
          0.9516666666666667,
          0.9564814814814815,
          0.5114814814814815,
          0.9566666666666667,
          0.9575925925925926,
          0.9575925925925926,
          0.9575925925925926,
          0.9574074074074074,
          0.9574074074074074,
          0.9575925925925926,
          0.9566666666666667,
          0.9574074074074074,
          0.5072222222222222,
          0.9575925925925926,
          0.8988888888888888,
          0.9575925925925926,
          0.9568518518518518,
          0.9575925925925926,
          0.9433333333333334,
          0.9561111111111111,
          0.8422222222222222,
          0.9575925925925926,
          0.9575925925925926,
          0.9574074074074074,
          0.5111111111111111,
          0.9575925925925926,
          0.9564814814814815,
          0.9575925925925926,
          0.9562962962962963,
          0.9575925925925926,
          0.9574074074074074,
          0.9575925925925926,
          0.9568518518518518,
          0.9575925925925926
         ]
        },
        {
         "mode": "lines",
         "name": "Best Value",
         "type": "scatter",
         "x": [
          0,
          1,
          2,
          3,
          4,
          5,
          6,
          7,
          8,
          9,
          10,
          11,
          12,
          13,
          14,
          15,
          16,
          17,
          18,
          19,
          20,
          21,
          22,
          23,
          24,
          25,
          26,
          27,
          28,
          29,
          30,
          31,
          32,
          33,
          34,
          35,
          36,
          37,
          38,
          39,
          40,
          41,
          42,
          43,
          44,
          45,
          46,
          47,
          48,
          49,
          50,
          51,
          52,
          53,
          54,
          55,
          56,
          57,
          58,
          59,
          60,
          61,
          62,
          63,
          64,
          65,
          66,
          67,
          68,
          69,
          70,
          71,
          72,
          73,
          74,
          75,
          76,
          77,
          78,
          79,
          80,
          81,
          82,
          83,
          84,
          85,
          86,
          87,
          88,
          89,
          90,
          91,
          92,
          93,
          94,
          95,
          96,
          97,
          98,
          99
         ],
         "y": [
          0.4612962962962963,
          0.9572222222222222,
          0.9572222222222222,
          0.9572222222222222,
          0.9572222222222222,
          0.9574074074074074,
          0.9574074074074074,
          0.9574074074074074,
          0.9574074074074074,
          0.9574074074074074,
          0.9574074074074074,
          0.9574074074074074,
          0.9574074074074074,
          0.9574074074074074,
          0.9574074074074074,
          0.9574074074074074,
          0.9574074074074074,
          0.9574074074074074,
          0.9574074074074074,
          0.9574074074074074,
          0.9574074074074074,
          0.9574074074074074,
          0.9575925925925926,
          0.9575925925925926,
          0.9575925925925926,
          0.9575925925925926,
          0.9575925925925926,
          0.9575925925925926,
          0.9575925925925926,
          0.9575925925925926,
          0.9575925925925926,
          0.9575925925925926,
          0.9575925925925926,
          0.9575925925925926,
          0.9575925925925926,
          0.9575925925925926,
          0.9575925925925926,
          0.9575925925925926,
          0.9575925925925926,
          0.9575925925925926,
          0.9575925925925926,
          0.9575925925925926,
          0.9575925925925926,
          0.9575925925925926,
          0.9575925925925926,
          0.9575925925925926,
          0.9575925925925926,
          0.9575925925925926,
          0.9575925925925926,
          0.9575925925925926,
          0.9575925925925926,
          0.9575925925925926,
          0.9575925925925926,
          0.9575925925925926,
          0.9575925925925926,
          0.9575925925925926,
          0.9575925925925926,
          0.9575925925925926,
          0.9575925925925926,
          0.9575925925925926,
          0.9575925925925926,
          0.9575925925925926,
          0.9575925925925926,
          0.9575925925925926,
          0.9575925925925926,
          0.9575925925925926,
          0.9575925925925926,
          0.9575925925925926,
          0.9575925925925926,
          0.9575925925925926,
          0.9575925925925926,
          0.9575925925925926,
          0.9575925925925926,
          0.9575925925925926,
          0.9575925925925926,
          0.9575925925925926,
          0.9575925925925926,
          0.9575925925925926,
          0.9575925925925926,
          0.9575925925925926,
          0.9575925925925926,
          0.9575925925925926,
          0.9575925925925926,
          0.9575925925925926,
          0.9575925925925926,
          0.9575925925925926,
          0.9575925925925926,
          0.9575925925925926,
          0.9575925925925926,
          0.9575925925925926,
          0.9575925925925926,
          0.9575925925925926,
          0.9575925925925926,
          0.9575925925925926,
          0.9575925925925926,
          0.9575925925925926,
          0.9575925925925926,
          0.9575925925925926,
          0.9575925925925926,
          0.9575925925925926
         ]
        },
        {
         "marker": {
          "color": "#cccccc"
         },
         "mode": "markers",
         "name": "Infeasible Trial",
         "showlegend": false,
         "type": "scatter",
         "x": [],
         "y": []
        }
       ],
       "layout": {
        "template": {
         "data": {
          "bar": [
           {
            "error_x": {
             "color": "#2a3f5f"
            },
            "error_y": {
             "color": "#2a3f5f"
            },
            "marker": {
             "line": {
              "color": "#E5ECF6",
              "width": 0.5
             },
             "pattern": {
              "fillmode": "overlay",
              "size": 10,
              "solidity": 0.2
             }
            },
            "type": "bar"
           }
          ],
          "barpolar": [
           {
            "marker": {
             "line": {
              "color": "#E5ECF6",
              "width": 0.5
             },
             "pattern": {
              "fillmode": "overlay",
              "size": 10,
              "solidity": 0.2
             }
            },
            "type": "barpolar"
           }
          ],
          "carpet": [
           {
            "aaxis": {
             "endlinecolor": "#2a3f5f",
             "gridcolor": "white",
             "linecolor": "white",
             "minorgridcolor": "white",
             "startlinecolor": "#2a3f5f"
            },
            "baxis": {
             "endlinecolor": "#2a3f5f",
             "gridcolor": "white",
             "linecolor": "white",
             "minorgridcolor": "white",
             "startlinecolor": "#2a3f5f"
            },
            "type": "carpet"
           }
          ],
          "choropleth": [
           {
            "colorbar": {
             "outlinewidth": 0,
             "ticks": ""
            },
            "type": "choropleth"
           }
          ],
          "contour": [
           {
            "colorbar": {
             "outlinewidth": 0,
             "ticks": ""
            },
            "colorscale": [
             [
              0,
              "#0d0887"
             ],
             [
              0.1111111111111111,
              "#46039f"
             ],
             [
              0.2222222222222222,
              "#7201a8"
             ],
             [
              0.3333333333333333,
              "#9c179e"
             ],
             [
              0.4444444444444444,
              "#bd3786"
             ],
             [
              0.5555555555555556,
              "#d8576b"
             ],
             [
              0.6666666666666666,
              "#ed7953"
             ],
             [
              0.7777777777777778,
              "#fb9f3a"
             ],
             [
              0.8888888888888888,
              "#fdca26"
             ],
             [
              1,
              "#f0f921"
             ]
            ],
            "type": "contour"
           }
          ],
          "contourcarpet": [
           {
            "colorbar": {
             "outlinewidth": 0,
             "ticks": ""
            },
            "type": "contourcarpet"
           }
          ],
          "heatmap": [
           {
            "colorbar": {
             "outlinewidth": 0,
             "ticks": ""
            },
            "colorscale": [
             [
              0,
              "#0d0887"
             ],
             [
              0.1111111111111111,
              "#46039f"
             ],
             [
              0.2222222222222222,
              "#7201a8"
             ],
             [
              0.3333333333333333,
              "#9c179e"
             ],
             [
              0.4444444444444444,
              "#bd3786"
             ],
             [
              0.5555555555555556,
              "#d8576b"
             ],
             [
              0.6666666666666666,
              "#ed7953"
             ],
             [
              0.7777777777777778,
              "#fb9f3a"
             ],
             [
              0.8888888888888888,
              "#fdca26"
             ],
             [
              1,
              "#f0f921"
             ]
            ],
            "type": "heatmap"
           }
          ],
          "heatmapgl": [
           {
            "colorbar": {
             "outlinewidth": 0,
             "ticks": ""
            },
            "colorscale": [
             [
              0,
              "#0d0887"
             ],
             [
              0.1111111111111111,
              "#46039f"
             ],
             [
              0.2222222222222222,
              "#7201a8"
             ],
             [
              0.3333333333333333,
              "#9c179e"
             ],
             [
              0.4444444444444444,
              "#bd3786"
             ],
             [
              0.5555555555555556,
              "#d8576b"
             ],
             [
              0.6666666666666666,
              "#ed7953"
             ],
             [
              0.7777777777777778,
              "#fb9f3a"
             ],
             [
              0.8888888888888888,
              "#fdca26"
             ],
             [
              1,
              "#f0f921"
             ]
            ],
            "type": "heatmapgl"
           }
          ],
          "histogram": [
           {
            "marker": {
             "pattern": {
              "fillmode": "overlay",
              "size": 10,
              "solidity": 0.2
             }
            },
            "type": "histogram"
           }
          ],
          "histogram2d": [
           {
            "colorbar": {
             "outlinewidth": 0,
             "ticks": ""
            },
            "colorscale": [
             [
              0,
              "#0d0887"
             ],
             [
              0.1111111111111111,
              "#46039f"
             ],
             [
              0.2222222222222222,
              "#7201a8"
             ],
             [
              0.3333333333333333,
              "#9c179e"
             ],
             [
              0.4444444444444444,
              "#bd3786"
             ],
             [
              0.5555555555555556,
              "#d8576b"
             ],
             [
              0.6666666666666666,
              "#ed7953"
             ],
             [
              0.7777777777777778,
              "#fb9f3a"
             ],
             [
              0.8888888888888888,
              "#fdca26"
             ],
             [
              1,
              "#f0f921"
             ]
            ],
            "type": "histogram2d"
           }
          ],
          "histogram2dcontour": [
           {
            "colorbar": {
             "outlinewidth": 0,
             "ticks": ""
            },
            "colorscale": [
             [
              0,
              "#0d0887"
             ],
             [
              0.1111111111111111,
              "#46039f"
             ],
             [
              0.2222222222222222,
              "#7201a8"
             ],
             [
              0.3333333333333333,
              "#9c179e"
             ],
             [
              0.4444444444444444,
              "#bd3786"
             ],
             [
              0.5555555555555556,
              "#d8576b"
             ],
             [
              0.6666666666666666,
              "#ed7953"
             ],
             [
              0.7777777777777778,
              "#fb9f3a"
             ],
             [
              0.8888888888888888,
              "#fdca26"
             ],
             [
              1,
              "#f0f921"
             ]
            ],
            "type": "histogram2dcontour"
           }
          ],
          "mesh3d": [
           {
            "colorbar": {
             "outlinewidth": 0,
             "ticks": ""
            },
            "type": "mesh3d"
           }
          ],
          "parcoords": [
           {
            "line": {
             "colorbar": {
              "outlinewidth": 0,
              "ticks": ""
             }
            },
            "type": "parcoords"
           }
          ],
          "pie": [
           {
            "automargin": true,
            "type": "pie"
           }
          ],
          "scatter": [
           {
            "fillpattern": {
             "fillmode": "overlay",
             "size": 10,
             "solidity": 0.2
            },
            "type": "scatter"
           }
          ],
          "scatter3d": [
           {
            "line": {
             "colorbar": {
              "outlinewidth": 0,
              "ticks": ""
             }
            },
            "marker": {
             "colorbar": {
              "outlinewidth": 0,
              "ticks": ""
             }
            },
            "type": "scatter3d"
           }
          ],
          "scattercarpet": [
           {
            "marker": {
             "colorbar": {
              "outlinewidth": 0,
              "ticks": ""
             }
            },
            "type": "scattercarpet"
           }
          ],
          "scattergeo": [
           {
            "marker": {
             "colorbar": {
              "outlinewidth": 0,
              "ticks": ""
             }
            },
            "type": "scattergeo"
           }
          ],
          "scattergl": [
           {
            "marker": {
             "colorbar": {
              "outlinewidth": 0,
              "ticks": ""
             }
            },
            "type": "scattergl"
           }
          ],
          "scattermapbox": [
           {
            "marker": {
             "colorbar": {
              "outlinewidth": 0,
              "ticks": ""
             }
            },
            "type": "scattermapbox"
           }
          ],
          "scatterpolar": [
           {
            "marker": {
             "colorbar": {
              "outlinewidth": 0,
              "ticks": ""
             }
            },
            "type": "scatterpolar"
           }
          ],
          "scatterpolargl": [
           {
            "marker": {
             "colorbar": {
              "outlinewidth": 0,
              "ticks": ""
             }
            },
            "type": "scatterpolargl"
           }
          ],
          "scatterternary": [
           {
            "marker": {
             "colorbar": {
              "outlinewidth": 0,
              "ticks": ""
             }
            },
            "type": "scatterternary"
           }
          ],
          "surface": [
           {
            "colorbar": {
             "outlinewidth": 0,
             "ticks": ""
            },
            "colorscale": [
             [
              0,
              "#0d0887"
             ],
             [
              0.1111111111111111,
              "#46039f"
             ],
             [
              0.2222222222222222,
              "#7201a8"
             ],
             [
              0.3333333333333333,
              "#9c179e"
             ],
             [
              0.4444444444444444,
              "#bd3786"
             ],
             [
              0.5555555555555556,
              "#d8576b"
             ],
             [
              0.6666666666666666,
              "#ed7953"
             ],
             [
              0.7777777777777778,
              "#fb9f3a"
             ],
             [
              0.8888888888888888,
              "#fdca26"
             ],
             [
              1,
              "#f0f921"
             ]
            ],
            "type": "surface"
           }
          ],
          "table": [
           {
            "cells": {
             "fill": {
              "color": "#EBF0F8"
             },
             "line": {
              "color": "white"
             }
            },
            "header": {
             "fill": {
              "color": "#C8D4E3"
             },
             "line": {
              "color": "white"
             }
            },
            "type": "table"
           }
          ]
         },
         "layout": {
          "annotationdefaults": {
           "arrowcolor": "#2a3f5f",
           "arrowhead": 0,
           "arrowwidth": 1
          },
          "autotypenumbers": "strict",
          "coloraxis": {
           "colorbar": {
            "outlinewidth": 0,
            "ticks": ""
           }
          },
          "colorscale": {
           "diverging": [
            [
             0,
             "#8e0152"
            ],
            [
             0.1,
             "#c51b7d"
            ],
            [
             0.2,
             "#de77ae"
            ],
            [
             0.3,
             "#f1b6da"
            ],
            [
             0.4,
             "#fde0ef"
            ],
            [
             0.5,
             "#f7f7f7"
            ],
            [
             0.6,
             "#e6f5d0"
            ],
            [
             0.7,
             "#b8e186"
            ],
            [
             0.8,
             "#7fbc41"
            ],
            [
             0.9,
             "#4d9221"
            ],
            [
             1,
             "#276419"
            ]
           ],
           "sequential": [
            [
             0,
             "#0d0887"
            ],
            [
             0.1111111111111111,
             "#46039f"
            ],
            [
             0.2222222222222222,
             "#7201a8"
            ],
            [
             0.3333333333333333,
             "#9c179e"
            ],
            [
             0.4444444444444444,
             "#bd3786"
            ],
            [
             0.5555555555555556,
             "#d8576b"
            ],
            [
             0.6666666666666666,
             "#ed7953"
            ],
            [
             0.7777777777777778,
             "#fb9f3a"
            ],
            [
             0.8888888888888888,
             "#fdca26"
            ],
            [
             1,
             "#f0f921"
            ]
           ],
           "sequentialminus": [
            [
             0,
             "#0d0887"
            ],
            [
             0.1111111111111111,
             "#46039f"
            ],
            [
             0.2222222222222222,
             "#7201a8"
            ],
            [
             0.3333333333333333,
             "#9c179e"
            ],
            [
             0.4444444444444444,
             "#bd3786"
            ],
            [
             0.5555555555555556,
             "#d8576b"
            ],
            [
             0.6666666666666666,
             "#ed7953"
            ],
            [
             0.7777777777777778,
             "#fb9f3a"
            ],
            [
             0.8888888888888888,
             "#fdca26"
            ],
            [
             1,
             "#f0f921"
            ]
           ]
          },
          "colorway": [
           "#636efa",
           "#EF553B",
           "#00cc96",
           "#ab63fa",
           "#FFA15A",
           "#19d3f3",
           "#FF6692",
           "#B6E880",
           "#FF97FF",
           "#FECB52"
          ],
          "font": {
           "color": "#2a3f5f"
          },
          "geo": {
           "bgcolor": "white",
           "lakecolor": "white",
           "landcolor": "#E5ECF6",
           "showlakes": true,
           "showland": true,
           "subunitcolor": "white"
          },
          "hoverlabel": {
           "align": "left"
          },
          "hovermode": "closest",
          "mapbox": {
           "style": "light"
          },
          "paper_bgcolor": "white",
          "plot_bgcolor": "#E5ECF6",
          "polar": {
           "angularaxis": {
            "gridcolor": "white",
            "linecolor": "white",
            "ticks": ""
           },
           "bgcolor": "#E5ECF6",
           "radialaxis": {
            "gridcolor": "white",
            "linecolor": "white",
            "ticks": ""
           }
          },
          "scene": {
           "xaxis": {
            "backgroundcolor": "#E5ECF6",
            "gridcolor": "white",
            "gridwidth": 2,
            "linecolor": "white",
            "showbackground": true,
            "ticks": "",
            "zerolinecolor": "white"
           },
           "yaxis": {
            "backgroundcolor": "#E5ECF6",
            "gridcolor": "white",
            "gridwidth": 2,
            "linecolor": "white",
            "showbackground": true,
            "ticks": "",
            "zerolinecolor": "white"
           },
           "zaxis": {
            "backgroundcolor": "#E5ECF6",
            "gridcolor": "white",
            "gridwidth": 2,
            "linecolor": "white",
            "showbackground": true,
            "ticks": "",
            "zerolinecolor": "white"
           }
          },
          "shapedefaults": {
           "line": {
            "color": "#2a3f5f"
           }
          },
          "ternary": {
           "aaxis": {
            "gridcolor": "white",
            "linecolor": "white",
            "ticks": ""
           },
           "baxis": {
            "gridcolor": "white",
            "linecolor": "white",
            "ticks": ""
           },
           "bgcolor": "#E5ECF6",
           "caxis": {
            "gridcolor": "white",
            "linecolor": "white",
            "ticks": ""
           }
          },
          "title": {
           "x": 0.05
          },
          "xaxis": {
           "automargin": true,
           "gridcolor": "white",
           "linecolor": "white",
           "ticks": "",
           "title": {
            "standoff": 15
           },
           "zerolinecolor": "white",
           "zerolinewidth": 2
          },
          "yaxis": {
           "automargin": true,
           "gridcolor": "white",
           "linecolor": "white",
           "ticks": "",
           "title": {
            "standoff": 15
           },
           "zerolinecolor": "white",
           "zerolinewidth": 2
          }
         }
        },
        "title": {
         "text": "Optimization History Plot"
        },
        "xaxis": {
         "title": {
          "text": "Trial"
         }
        },
        "yaxis": {
         "title": {
          "text": "Objective Value"
         }
        }
       }
      }
     },
     "metadata": {},
     "output_type": "display_data"
    },
    {
     "data": {
      "application/vnd.plotly.v1+json": {
       "config": {
        "plotlyServerURL": "https://plot.ly"
       },
       "data": [
        {
         "cliponaxis": false,
         "hovertemplate": [
          "n_pca_components (IntDistribution): 0.0044604759479967004<extra></extra>",
          "weights (CategoricalDistribution): 0.057991176148951946<extra></extra>",
          "n_neighbors (IntDistribution): 0.0913918223587451<extra></extra>",
          "use_pca (CategoricalDistribution): 0.8461565255443063<extra></extra>"
         ],
         "name": "Objective Value",
         "orientation": "h",
         "text": [
          "<0.01",
          "0.06",
          "0.09",
          "0.85"
         ],
         "textposition": "outside",
         "type": "bar",
         "x": [
          0.0044604759479967004,
          0.057991176148951946,
          0.0913918223587451,
          0.8461565255443063
         ],
         "y": [
          "n_pca_components",
          "weights",
          "n_neighbors",
          "use_pca"
         ]
        }
       ],
       "layout": {
        "template": {
         "data": {
          "bar": [
           {
            "error_x": {
             "color": "#2a3f5f"
            },
            "error_y": {
             "color": "#2a3f5f"
            },
            "marker": {
             "line": {
              "color": "#E5ECF6",
              "width": 0.5
             },
             "pattern": {
              "fillmode": "overlay",
              "size": 10,
              "solidity": 0.2
             }
            },
            "type": "bar"
           }
          ],
          "barpolar": [
           {
            "marker": {
             "line": {
              "color": "#E5ECF6",
              "width": 0.5
             },
             "pattern": {
              "fillmode": "overlay",
              "size": 10,
              "solidity": 0.2
             }
            },
            "type": "barpolar"
           }
          ],
          "carpet": [
           {
            "aaxis": {
             "endlinecolor": "#2a3f5f",
             "gridcolor": "white",
             "linecolor": "white",
             "minorgridcolor": "white",
             "startlinecolor": "#2a3f5f"
            },
            "baxis": {
             "endlinecolor": "#2a3f5f",
             "gridcolor": "white",
             "linecolor": "white",
             "minorgridcolor": "white",
             "startlinecolor": "#2a3f5f"
            },
            "type": "carpet"
           }
          ],
          "choropleth": [
           {
            "colorbar": {
             "outlinewidth": 0,
             "ticks": ""
            },
            "type": "choropleth"
           }
          ],
          "contour": [
           {
            "colorbar": {
             "outlinewidth": 0,
             "ticks": ""
            },
            "colorscale": [
             [
              0,
              "#0d0887"
             ],
             [
              0.1111111111111111,
              "#46039f"
             ],
             [
              0.2222222222222222,
              "#7201a8"
             ],
             [
              0.3333333333333333,
              "#9c179e"
             ],
             [
              0.4444444444444444,
              "#bd3786"
             ],
             [
              0.5555555555555556,
              "#d8576b"
             ],
             [
              0.6666666666666666,
              "#ed7953"
             ],
             [
              0.7777777777777778,
              "#fb9f3a"
             ],
             [
              0.8888888888888888,
              "#fdca26"
             ],
             [
              1,
              "#f0f921"
             ]
            ],
            "type": "contour"
           }
          ],
          "contourcarpet": [
           {
            "colorbar": {
             "outlinewidth": 0,
             "ticks": ""
            },
            "type": "contourcarpet"
           }
          ],
          "heatmap": [
           {
            "colorbar": {
             "outlinewidth": 0,
             "ticks": ""
            },
            "colorscale": [
             [
              0,
              "#0d0887"
             ],
             [
              0.1111111111111111,
              "#46039f"
             ],
             [
              0.2222222222222222,
              "#7201a8"
             ],
             [
              0.3333333333333333,
              "#9c179e"
             ],
             [
              0.4444444444444444,
              "#bd3786"
             ],
             [
              0.5555555555555556,
              "#d8576b"
             ],
             [
              0.6666666666666666,
              "#ed7953"
             ],
             [
              0.7777777777777778,
              "#fb9f3a"
             ],
             [
              0.8888888888888888,
              "#fdca26"
             ],
             [
              1,
              "#f0f921"
             ]
            ],
            "type": "heatmap"
           }
          ],
          "heatmapgl": [
           {
            "colorbar": {
             "outlinewidth": 0,
             "ticks": ""
            },
            "colorscale": [
             [
              0,
              "#0d0887"
             ],
             [
              0.1111111111111111,
              "#46039f"
             ],
             [
              0.2222222222222222,
              "#7201a8"
             ],
             [
              0.3333333333333333,
              "#9c179e"
             ],
             [
              0.4444444444444444,
              "#bd3786"
             ],
             [
              0.5555555555555556,
              "#d8576b"
             ],
             [
              0.6666666666666666,
              "#ed7953"
             ],
             [
              0.7777777777777778,
              "#fb9f3a"
             ],
             [
              0.8888888888888888,
              "#fdca26"
             ],
             [
              1,
              "#f0f921"
             ]
            ],
            "type": "heatmapgl"
           }
          ],
          "histogram": [
           {
            "marker": {
             "pattern": {
              "fillmode": "overlay",
              "size": 10,
              "solidity": 0.2
             }
            },
            "type": "histogram"
           }
          ],
          "histogram2d": [
           {
            "colorbar": {
             "outlinewidth": 0,
             "ticks": ""
            },
            "colorscale": [
             [
              0,
              "#0d0887"
             ],
             [
              0.1111111111111111,
              "#46039f"
             ],
             [
              0.2222222222222222,
              "#7201a8"
             ],
             [
              0.3333333333333333,
              "#9c179e"
             ],
             [
              0.4444444444444444,
              "#bd3786"
             ],
             [
              0.5555555555555556,
              "#d8576b"
             ],
             [
              0.6666666666666666,
              "#ed7953"
             ],
             [
              0.7777777777777778,
              "#fb9f3a"
             ],
             [
              0.8888888888888888,
              "#fdca26"
             ],
             [
              1,
              "#f0f921"
             ]
            ],
            "type": "histogram2d"
           }
          ],
          "histogram2dcontour": [
           {
            "colorbar": {
             "outlinewidth": 0,
             "ticks": ""
            },
            "colorscale": [
             [
              0,
              "#0d0887"
             ],
             [
              0.1111111111111111,
              "#46039f"
             ],
             [
              0.2222222222222222,
              "#7201a8"
             ],
             [
              0.3333333333333333,
              "#9c179e"
             ],
             [
              0.4444444444444444,
              "#bd3786"
             ],
             [
              0.5555555555555556,
              "#d8576b"
             ],
             [
              0.6666666666666666,
              "#ed7953"
             ],
             [
              0.7777777777777778,
              "#fb9f3a"
             ],
             [
              0.8888888888888888,
              "#fdca26"
             ],
             [
              1,
              "#f0f921"
             ]
            ],
            "type": "histogram2dcontour"
           }
          ],
          "mesh3d": [
           {
            "colorbar": {
             "outlinewidth": 0,
             "ticks": ""
            },
            "type": "mesh3d"
           }
          ],
          "parcoords": [
           {
            "line": {
             "colorbar": {
              "outlinewidth": 0,
              "ticks": ""
             }
            },
            "type": "parcoords"
           }
          ],
          "pie": [
           {
            "automargin": true,
            "type": "pie"
           }
          ],
          "scatter": [
           {
            "fillpattern": {
             "fillmode": "overlay",
             "size": 10,
             "solidity": 0.2
            },
            "type": "scatter"
           }
          ],
          "scatter3d": [
           {
            "line": {
             "colorbar": {
              "outlinewidth": 0,
              "ticks": ""
             }
            },
            "marker": {
             "colorbar": {
              "outlinewidth": 0,
              "ticks": ""
             }
            },
            "type": "scatter3d"
           }
          ],
          "scattercarpet": [
           {
            "marker": {
             "colorbar": {
              "outlinewidth": 0,
              "ticks": ""
             }
            },
            "type": "scattercarpet"
           }
          ],
          "scattergeo": [
           {
            "marker": {
             "colorbar": {
              "outlinewidth": 0,
              "ticks": ""
             }
            },
            "type": "scattergeo"
           }
          ],
          "scattergl": [
           {
            "marker": {
             "colorbar": {
              "outlinewidth": 0,
              "ticks": ""
             }
            },
            "type": "scattergl"
           }
          ],
          "scattermapbox": [
           {
            "marker": {
             "colorbar": {
              "outlinewidth": 0,
              "ticks": ""
             }
            },
            "type": "scattermapbox"
           }
          ],
          "scatterpolar": [
           {
            "marker": {
             "colorbar": {
              "outlinewidth": 0,
              "ticks": ""
             }
            },
            "type": "scatterpolar"
           }
          ],
          "scatterpolargl": [
           {
            "marker": {
             "colorbar": {
              "outlinewidth": 0,
              "ticks": ""
             }
            },
            "type": "scatterpolargl"
           }
          ],
          "scatterternary": [
           {
            "marker": {
             "colorbar": {
              "outlinewidth": 0,
              "ticks": ""
             }
            },
            "type": "scatterternary"
           }
          ],
          "surface": [
           {
            "colorbar": {
             "outlinewidth": 0,
             "ticks": ""
            },
            "colorscale": [
             [
              0,
              "#0d0887"
             ],
             [
              0.1111111111111111,
              "#46039f"
             ],
             [
              0.2222222222222222,
              "#7201a8"
             ],
             [
              0.3333333333333333,
              "#9c179e"
             ],
             [
              0.4444444444444444,
              "#bd3786"
             ],
             [
              0.5555555555555556,
              "#d8576b"
             ],
             [
              0.6666666666666666,
              "#ed7953"
             ],
             [
              0.7777777777777778,
              "#fb9f3a"
             ],
             [
              0.8888888888888888,
              "#fdca26"
             ],
             [
              1,
              "#f0f921"
             ]
            ],
            "type": "surface"
           }
          ],
          "table": [
           {
            "cells": {
             "fill": {
              "color": "#EBF0F8"
             },
             "line": {
              "color": "white"
             }
            },
            "header": {
             "fill": {
              "color": "#C8D4E3"
             },
             "line": {
              "color": "white"
             }
            },
            "type": "table"
           }
          ]
         },
         "layout": {
          "annotationdefaults": {
           "arrowcolor": "#2a3f5f",
           "arrowhead": 0,
           "arrowwidth": 1
          },
          "autotypenumbers": "strict",
          "coloraxis": {
           "colorbar": {
            "outlinewidth": 0,
            "ticks": ""
           }
          },
          "colorscale": {
           "diverging": [
            [
             0,
             "#8e0152"
            ],
            [
             0.1,
             "#c51b7d"
            ],
            [
             0.2,
             "#de77ae"
            ],
            [
             0.3,
             "#f1b6da"
            ],
            [
             0.4,
             "#fde0ef"
            ],
            [
             0.5,
             "#f7f7f7"
            ],
            [
             0.6,
             "#e6f5d0"
            ],
            [
             0.7,
             "#b8e186"
            ],
            [
             0.8,
             "#7fbc41"
            ],
            [
             0.9,
             "#4d9221"
            ],
            [
             1,
             "#276419"
            ]
           ],
           "sequential": [
            [
             0,
             "#0d0887"
            ],
            [
             0.1111111111111111,
             "#46039f"
            ],
            [
             0.2222222222222222,
             "#7201a8"
            ],
            [
             0.3333333333333333,
             "#9c179e"
            ],
            [
             0.4444444444444444,
             "#bd3786"
            ],
            [
             0.5555555555555556,
             "#d8576b"
            ],
            [
             0.6666666666666666,
             "#ed7953"
            ],
            [
             0.7777777777777778,
             "#fb9f3a"
            ],
            [
             0.8888888888888888,
             "#fdca26"
            ],
            [
             1,
             "#f0f921"
            ]
           ],
           "sequentialminus": [
            [
             0,
             "#0d0887"
            ],
            [
             0.1111111111111111,
             "#46039f"
            ],
            [
             0.2222222222222222,
             "#7201a8"
            ],
            [
             0.3333333333333333,
             "#9c179e"
            ],
            [
             0.4444444444444444,
             "#bd3786"
            ],
            [
             0.5555555555555556,
             "#d8576b"
            ],
            [
             0.6666666666666666,
             "#ed7953"
            ],
            [
             0.7777777777777778,
             "#fb9f3a"
            ],
            [
             0.8888888888888888,
             "#fdca26"
            ],
            [
             1,
             "#f0f921"
            ]
           ]
          },
          "colorway": [
           "#636efa",
           "#EF553B",
           "#00cc96",
           "#ab63fa",
           "#FFA15A",
           "#19d3f3",
           "#FF6692",
           "#B6E880",
           "#FF97FF",
           "#FECB52"
          ],
          "font": {
           "color": "#2a3f5f"
          },
          "geo": {
           "bgcolor": "white",
           "lakecolor": "white",
           "landcolor": "#E5ECF6",
           "showlakes": true,
           "showland": true,
           "subunitcolor": "white"
          },
          "hoverlabel": {
           "align": "left"
          },
          "hovermode": "closest",
          "mapbox": {
           "style": "light"
          },
          "paper_bgcolor": "white",
          "plot_bgcolor": "#E5ECF6",
          "polar": {
           "angularaxis": {
            "gridcolor": "white",
            "linecolor": "white",
            "ticks": ""
           },
           "bgcolor": "#E5ECF6",
           "radialaxis": {
            "gridcolor": "white",
            "linecolor": "white",
            "ticks": ""
           }
          },
          "scene": {
           "xaxis": {
            "backgroundcolor": "#E5ECF6",
            "gridcolor": "white",
            "gridwidth": 2,
            "linecolor": "white",
            "showbackground": true,
            "ticks": "",
            "zerolinecolor": "white"
           },
           "yaxis": {
            "backgroundcolor": "#E5ECF6",
            "gridcolor": "white",
            "gridwidth": 2,
            "linecolor": "white",
            "showbackground": true,
            "ticks": "",
            "zerolinecolor": "white"
           },
           "zaxis": {
            "backgroundcolor": "#E5ECF6",
            "gridcolor": "white",
            "gridwidth": 2,
            "linecolor": "white",
            "showbackground": true,
            "ticks": "",
            "zerolinecolor": "white"
           }
          },
          "shapedefaults": {
           "line": {
            "color": "#2a3f5f"
           }
          },
          "ternary": {
           "aaxis": {
            "gridcolor": "white",
            "linecolor": "white",
            "ticks": ""
           },
           "baxis": {
            "gridcolor": "white",
            "linecolor": "white",
            "ticks": ""
           },
           "bgcolor": "#E5ECF6",
           "caxis": {
            "gridcolor": "white",
            "linecolor": "white",
            "ticks": ""
           }
          },
          "title": {
           "x": 0.05
          },
          "xaxis": {
           "automargin": true,
           "gridcolor": "white",
           "linecolor": "white",
           "ticks": "",
           "title": {
            "standoff": 15
           },
           "zerolinecolor": "white",
           "zerolinewidth": 2
          },
          "yaxis": {
           "automargin": true,
           "gridcolor": "white",
           "linecolor": "white",
           "ticks": "",
           "title": {
            "standoff": 15
           },
           "zerolinecolor": "white",
           "zerolinewidth": 2
          }
         }
        },
        "title": {
         "text": "Hyperparameter Importances"
        },
        "xaxis": {
         "title": {
          "text": "Hyperparameter Importance"
         }
        },
        "yaxis": {
         "title": {
          "text": "Hyperparameter"
         }
        }
       }
      }
     },
     "metadata": {},
     "output_type": "display_data"
    },
    {
     "data": {
      "application/vnd.plotly.v1+json": {
       "config": {
        "plotlyServerURL": "https://plot.ly"
       },
       "data": [
        {
         "marker": {
          "color": [
           0,
           1,
           2,
           3,
           4,
           5,
           6,
           7,
           8,
           9,
           10,
           11,
           12,
           13,
           14,
           15,
           16,
           17,
           18,
           19,
           20,
           21,
           22,
           23,
           24,
           25,
           26,
           27,
           28,
           29,
           30,
           31,
           32,
           33,
           34,
           35,
           36,
           37,
           38,
           39,
           40,
           41,
           42,
           43,
           44,
           45,
           46,
           47,
           48,
           49,
           50,
           51,
           52,
           53,
           54,
           55,
           56,
           57,
           58,
           59,
           60,
           61,
           62,
           63,
           64,
           65,
           66,
           67,
           68,
           69,
           70,
           71,
           72,
           73,
           74,
           75,
           76,
           77,
           78,
           79,
           80,
           81,
           82,
           83,
           84,
           85,
           86,
           87,
           88,
           89,
           90,
           91,
           92,
           93,
           94,
           95,
           96,
           97,
           98,
           99
          ],
          "colorbar": {
           "title": {
            "text": "Trial"
           },
           "x": 1,
           "xpad": 40
          },
          "colorscale": [
           [
            0,
            "rgb(247,251,255)"
           ],
           [
            0.125,
            "rgb(222,235,247)"
           ],
           [
            0.25,
            "rgb(198,219,239)"
           ],
           [
            0.375,
            "rgb(158,202,225)"
           ],
           [
            0.5,
            "rgb(107,174,214)"
           ],
           [
            0.625,
            "rgb(66,146,198)"
           ],
           [
            0.75,
            "rgb(33,113,181)"
           ],
           [
            0.875,
            "rgb(8,81,156)"
           ],
           [
            1,
            "rgb(8,48,107)"
           ]
          ],
          "line": {
           "color": "Grey",
           "width": 0.5
          },
          "showscale": true
         },
         "mode": "markers",
         "name": "Feasible Trial",
         "showlegend": false,
         "type": "scatter",
         "x": [
          29,
          9,
          46,
          34,
          19,
          7,
          13,
          22,
          9,
          42,
          17,
          6,
          5,
          13,
          25,
          12,
          17,
          32,
          39,
          13,
          23,
          9,
          10,
          14,
          5,
          10,
          20,
          16,
          9,
          10,
          27,
          10,
          10,
          8,
          50,
          16,
          11,
          20,
          7,
          15,
          19,
          11,
          8,
          10,
          5,
          12,
          7,
          14,
          18,
          22,
          31,
          10,
          9,
          12,
          39,
          7,
          10,
          14,
          6,
          11,
          16,
          8,
          8,
          13,
          5,
          9,
          11,
          6,
          13,
          15,
          10,
          8,
          11,
          12,
          7,
          9,
          15,
          12,
          6,
          10,
          36,
          11,
          14,
          8,
          25,
          17,
          45,
          11,
          9,
          7,
          13,
          10,
          6,
          8,
          5,
          9,
          12,
          8,
          14,
          10
         ],
         "xaxis": "x",
         "y": [
          0.4612962962962963,
          0.9572222222222222,
          0.5175925925925926,
          0.4887037037037037,
          0.5153703703703704,
          0.9574074074074074,
          0.48962962962962964,
          0.9501851851851851,
          0.4968518518518519,
          0.4898148148148148,
          0.9561111111111111,
          0.955925925925926,
          0.9566666666666667,
          0.9572222222222222,
          0.6298148148148148,
          0.9574074074074074,
          0.9561111111111111,
          0.9146296296296297,
          0.8798148148148148,
          0.9572222222222222,
          0.9481481481481482,
          0.9572222222222222,
          0.9575925925925926,
          0.9568518518518518,
          0.9562962962962963,
          0.9575925925925926,
          0.9527777777777777,
          0.955925925925926,
          0.9575925925925926,
          0.9575925925925926,
          0.9362962962962963,
          0.9575925925925926,
          0.9575925925925926,
          0.9575925925925926,
          0.8181481481481482,
          0.515,
          0.9575925925925926,
          0.5166666666666667,
          0.9574074074074074,
          0.51,
          0.9537037037037037,
          0.9575925925925926,
          0.9575925925925926,
          0.9575925925925926,
          0.9562962962962963,
          0.9446296296296296,
          0.5072222222222222,
          0.9568518518518518,
          0.8583333333333333,
          0.9501851851851851,
          0.48685185185185187,
          0.9575925925925926,
          0.9575925925925926,
          0.9574074074074074,
          0.8798148148148148,
          0.9574074074074074,
          0.9535185185185185,
          0.9568518518518518,
          0.9564814814814815,
          0.9575925925925926,
          0.955925925925926,
          0.9575925925925926,
          0.9575925925925926,
          0.9572222222222222,
          0.9562962962962963,
          0.9575925925925926,
          0.9516666666666667,
          0.9564814814814815,
          0.5114814814814815,
          0.9566666666666667,
          0.9575925925925926,
          0.9575925925925926,
          0.9575925925925926,
          0.9574074074074074,
          0.9574074074074074,
          0.9575925925925926,
          0.9566666666666667,
          0.9574074074074074,
          0.5072222222222222,
          0.9575925925925926,
          0.8988888888888888,
          0.9575925925925926,
          0.9568518518518518,
          0.9575925925925926,
          0.9433333333333334,
          0.9561111111111111,
          0.8422222222222222,
          0.9575925925925926,
          0.9575925925925926,
          0.9574074074074074,
          0.5111111111111111,
          0.9575925925925926,
          0.9564814814814815,
          0.9575925925925926,
          0.9562962962962963,
          0.9575925925925926,
          0.9574074074074074,
          0.9575925925925926,
          0.9568518518518518,
          0.9575925925925926
         ],
         "yaxis": "y"
        },
        {
         "marker": {
          "color": [
           0,
           1,
           2,
           3,
           4,
           5,
           6,
           7,
           8,
           9,
           10,
           11,
           12,
           13,
           14,
           15,
           16,
           17,
           18,
           19,
           20,
           21,
           22,
           23,
           24,
           25,
           26,
           27,
           28,
           29,
           30,
           31,
           32,
           33,
           34,
           35,
           36,
           37,
           38,
           39,
           40,
           41,
           42,
           43,
           44,
           45,
           46,
           47,
           48,
           49,
           50,
           51,
           52,
           53,
           54,
           55,
           56,
           57,
           58,
           59,
           60,
           61,
           62,
           63,
           64,
           65,
           66,
           67,
           68,
           69,
           70,
           71,
           72,
           73,
           74,
           75,
           76,
           77,
           78,
           79,
           80,
           81,
           82,
           83,
           84,
           85,
           86,
           87,
           88,
           89,
           90,
           91,
           92,
           93,
           94,
           95,
           96,
           97,
           98,
           99
          ],
          "colorbar": {
           "title": {
            "text": "Trial"
           },
           "x": 1,
           "xpad": 40
          },
          "colorscale": [
           [
            0,
            "rgb(247,251,255)"
           ],
           [
            0.125,
            "rgb(222,235,247)"
           ],
           [
            0.25,
            "rgb(198,219,239)"
           ],
           [
            0.375,
            "rgb(158,202,225)"
           ],
           [
            0.5,
            "rgb(107,174,214)"
           ],
           [
            0.625,
            "rgb(66,146,198)"
           ],
           [
            0.75,
            "rgb(33,113,181)"
           ],
           [
            0.875,
            "rgb(8,81,156)"
           ],
           [
            1,
            "rgb(8,48,107)"
           ]
          ],
          "line": {
           "color": "Grey",
           "width": 0.5
          },
          "showscale": false
         },
         "mode": "markers",
         "name": "Feasible Trial",
         "showlegend": false,
         "type": "scatter",
         "x": [
          19,
          5,
          16,
          5,
          12,
          13,
          5,
          17,
          7,
          4,
          11,
          9,
          1,
          14,
          1,
          9,
          9,
          13,
          15,
          9,
          11,
          7,
          7,
          7,
          9,
          13,
          20,
          13,
          16,
          17,
          18,
          18,
          16,
          15,
          19,
          16,
          17,
          14,
          12,
          20,
          4,
          18,
          18,
          17,
          15,
          19,
          14,
          16,
          17,
          12,
          6,
          16,
          18,
          15,
          10,
          19,
          16,
          2,
          17,
          13,
          14,
          15,
          16,
          14,
          15,
          8,
          12,
          13,
          17,
          19,
          18,
          16,
          17,
          15,
          11,
          18,
          20,
          17,
          15,
          16,
          18,
          17,
          19,
          18,
          16,
          3,
          14,
          17,
          10,
          8,
          19,
          18,
          17,
          6,
          18,
          18,
          20,
          16,
          19,
          17
         ],
         "xaxis": "x2",
         "y": [
          0.4612962962962963,
          0.9572222222222222,
          0.5175925925925926,
          0.4887037037037037,
          0.5153703703703704,
          0.9574074074074074,
          0.48962962962962964,
          0.9501851851851851,
          0.4968518518518519,
          0.4898148148148148,
          0.9561111111111111,
          0.955925925925926,
          0.9566666666666667,
          0.9572222222222222,
          0.6298148148148148,
          0.9574074074074074,
          0.9561111111111111,
          0.9146296296296297,
          0.8798148148148148,
          0.9572222222222222,
          0.9481481481481482,
          0.9572222222222222,
          0.9575925925925926,
          0.9568518518518518,
          0.9562962962962963,
          0.9575925925925926,
          0.9527777777777777,
          0.955925925925926,
          0.9575925925925926,
          0.9575925925925926,
          0.9362962962962963,
          0.9575925925925926,
          0.9575925925925926,
          0.9575925925925926,
          0.8181481481481482,
          0.515,
          0.9575925925925926,
          0.5166666666666667,
          0.9574074074074074,
          0.51,
          0.9537037037037037,
          0.9575925925925926,
          0.9575925925925926,
          0.9575925925925926,
          0.9562962962962963,
          0.9446296296296296,
          0.5072222222222222,
          0.9568518518518518,
          0.8583333333333333,
          0.9501851851851851,
          0.48685185185185187,
          0.9575925925925926,
          0.9575925925925926,
          0.9574074074074074,
          0.8798148148148148,
          0.9574074074074074,
          0.9535185185185185,
          0.9568518518518518,
          0.9564814814814815,
          0.9575925925925926,
          0.955925925925926,
          0.9575925925925926,
          0.9575925925925926,
          0.9572222222222222,
          0.9562962962962963,
          0.9575925925925926,
          0.9516666666666667,
          0.9564814814814815,
          0.5114814814814815,
          0.9566666666666667,
          0.9575925925925926,
          0.9575925925925926,
          0.9575925925925926,
          0.9574074074074074,
          0.9574074074074074,
          0.9575925925925926,
          0.9566666666666667,
          0.9574074074074074,
          0.5072222222222222,
          0.9575925925925926,
          0.8988888888888888,
          0.9575925925925926,
          0.9568518518518518,
          0.9575925925925926,
          0.9433333333333334,
          0.9561111111111111,
          0.8422222222222222,
          0.9575925925925926,
          0.9575925925925926,
          0.9574074074074074,
          0.5111111111111111,
          0.9575925925925926,
          0.9564814814814815,
          0.9575925925925926,
          0.9562962962962963,
          0.9575925925925926,
          0.9574074074074074,
          0.9575925925925926,
          0.9568518518518518,
          0.9575925925925926
         ],
         "yaxis": "y2"
        },
        {
         "marker": {
          "color": [
           0,
           1,
           2,
           3,
           4,
           5,
           6,
           7,
           8,
           9,
           10,
           11,
           12,
           13,
           14,
           15,
           16,
           17,
           18,
           19,
           20,
           21,
           22,
           23,
           24,
           25,
           26,
           27,
           28,
           29,
           30,
           31,
           32,
           33,
           34,
           35,
           36,
           37,
           38,
           39,
           40,
           41,
           42,
           43,
           44,
           45,
           46,
           47,
           48,
           49,
           50,
           51,
           52,
           53,
           54,
           55,
           56,
           57,
           58,
           59,
           60,
           61,
           62,
           63,
           64,
           65,
           66,
           67,
           68,
           69,
           70,
           71,
           72,
           73,
           74,
           75,
           76,
           77,
           78,
           79,
           80,
           81,
           82,
           83,
           84,
           85,
           86,
           87,
           88,
           89,
           90,
           91,
           92,
           93,
           94,
           95,
           96,
           97,
           98,
           99
          ],
          "colorbar": {
           "title": {
            "text": "Trial"
           },
           "x": 1,
           "xpad": 40
          },
          "colorscale": [
           [
            0,
            "rgb(247,251,255)"
           ],
           [
            0.125,
            "rgb(222,235,247)"
           ],
           [
            0.25,
            "rgb(198,219,239)"
           ],
           [
            0.375,
            "rgb(158,202,225)"
           ],
           [
            0.5,
            "rgb(107,174,214)"
           ],
           [
            0.625,
            "rgb(66,146,198)"
           ],
           [
            0.75,
            "rgb(33,113,181)"
           ],
           [
            0.875,
            "rgb(8,81,156)"
           ],
           [
            1,
            "rgb(8,48,107)"
           ]
          ],
          "line": {
           "color": "Grey",
           "width": 0.5
          },
          "showscale": false
         },
         "mode": "markers",
         "name": "Feasible Trial",
         "showlegend": false,
         "type": "scatter",
         "x": [
          "False",
          "False",
          "True",
          "True",
          "True",
          "False",
          "True",
          "False",
          "True",
          "True",
          "False",
          "False",
          "False",
          "False",
          "False",
          "False",
          "False",
          "False",
          "False",
          "False",
          "False",
          "False",
          "False",
          "False",
          "False",
          "False",
          "False",
          "False",
          "False",
          "False",
          "False",
          "False",
          "False",
          "False",
          "False",
          "True",
          "False",
          "True",
          "False",
          "True",
          "False",
          "False",
          "False",
          "False",
          "False",
          "False",
          "True",
          "False",
          "False",
          "False",
          "True",
          "False",
          "False",
          "False",
          "False",
          "False",
          "False",
          "False",
          "False",
          "False",
          "False",
          "False",
          "False",
          "False",
          "False",
          "False",
          "False",
          "False",
          "True",
          "False",
          "False",
          "False",
          "False",
          "False",
          "False",
          "False",
          "False",
          "False",
          "True",
          "False",
          "False",
          "False",
          "False",
          "False",
          "False",
          "False",
          "False",
          "False",
          "False",
          "False",
          "True",
          "False",
          "False",
          "False",
          "False",
          "False",
          "False",
          "False",
          "False",
          "False"
         ],
         "xaxis": "x3",
         "y": [
          0.4612962962962963,
          0.9572222222222222,
          0.5175925925925926,
          0.4887037037037037,
          0.5153703703703704,
          0.9574074074074074,
          0.48962962962962964,
          0.9501851851851851,
          0.4968518518518519,
          0.4898148148148148,
          0.9561111111111111,
          0.955925925925926,
          0.9566666666666667,
          0.9572222222222222,
          0.6298148148148148,
          0.9574074074074074,
          0.9561111111111111,
          0.9146296296296297,
          0.8798148148148148,
          0.9572222222222222,
          0.9481481481481482,
          0.9572222222222222,
          0.9575925925925926,
          0.9568518518518518,
          0.9562962962962963,
          0.9575925925925926,
          0.9527777777777777,
          0.955925925925926,
          0.9575925925925926,
          0.9575925925925926,
          0.9362962962962963,
          0.9575925925925926,
          0.9575925925925926,
          0.9575925925925926,
          0.8181481481481482,
          0.515,
          0.9575925925925926,
          0.5166666666666667,
          0.9574074074074074,
          0.51,
          0.9537037037037037,
          0.9575925925925926,
          0.9575925925925926,
          0.9575925925925926,
          0.9562962962962963,
          0.9446296296296296,
          0.5072222222222222,
          0.9568518518518518,
          0.8583333333333333,
          0.9501851851851851,
          0.48685185185185187,
          0.9575925925925926,
          0.9575925925925926,
          0.9574074074074074,
          0.8798148148148148,
          0.9574074074074074,
          0.9535185185185185,
          0.9568518518518518,
          0.9564814814814815,
          0.9575925925925926,
          0.955925925925926,
          0.9575925925925926,
          0.9575925925925926,
          0.9572222222222222,
          0.9562962962962963,
          0.9575925925925926,
          0.9516666666666667,
          0.9564814814814815,
          0.5114814814814815,
          0.9566666666666667,
          0.9575925925925926,
          0.9575925925925926,
          0.9575925925925926,
          0.9574074074074074,
          0.9574074074074074,
          0.9575925925925926,
          0.9566666666666667,
          0.9574074074074074,
          0.5072222222222222,
          0.9575925925925926,
          0.8988888888888888,
          0.9575925925925926,
          0.9568518518518518,
          0.9575925925925926,
          0.9433333333333334,
          0.9561111111111111,
          0.8422222222222222,
          0.9575925925925926,
          0.9575925925925926,
          0.9574074074074074,
          0.5111111111111111,
          0.9575925925925926,
          0.9564814814814815,
          0.9575925925925926,
          0.9562962962962963,
          0.9575925925925926,
          0.9574074074074074,
          0.9575925925925926,
          0.9568518518518518,
          0.9575925925925926
         ],
         "yaxis": "y3"
        },
        {
         "marker": {
          "color": [
           0,
           1,
           2,
           3,
           4,
           5,
           6,
           7,
           8,
           9,
           10,
           11,
           12,
           13,
           14,
           15,
           16,
           17,
           18,
           19,
           20,
           21,
           22,
           23,
           24,
           25,
           26,
           27,
           28,
           29,
           30,
           31,
           32,
           33,
           34,
           35,
           36,
           37,
           38,
           39,
           40,
           41,
           42,
           43,
           44,
           45,
           46,
           47,
           48,
           49,
           50,
           51,
           52,
           53,
           54,
           55,
           56,
           57,
           58,
           59,
           60,
           61,
           62,
           63,
           64,
           65,
           66,
           67,
           68,
           69,
           70,
           71,
           72,
           73,
           74,
           75,
           76,
           77,
           78,
           79,
           80,
           81,
           82,
           83,
           84,
           85,
           86,
           87,
           88,
           89,
           90,
           91,
           92,
           93,
           94,
           95,
           96,
           97,
           98,
           99
          ],
          "colorbar": {
           "title": {
            "text": "Trial"
           },
           "x": 1,
           "xpad": 40
          },
          "colorscale": [
           [
            0,
            "rgb(247,251,255)"
           ],
           [
            0.125,
            "rgb(222,235,247)"
           ],
           [
            0.25,
            "rgb(198,219,239)"
           ],
           [
            0.375,
            "rgb(158,202,225)"
           ],
           [
            0.5,
            "rgb(107,174,214)"
           ],
           [
            0.625,
            "rgb(66,146,198)"
           ],
           [
            0.75,
            "rgb(33,113,181)"
           ],
           [
            0.875,
            "rgb(8,81,156)"
           ],
           [
            1,
            "rgb(8,48,107)"
           ]
          ],
          "line": {
           "color": "Grey",
           "width": 0.5
          },
          "showscale": false
         },
         "mode": "markers",
         "name": "Feasible Trial",
         "showlegend": false,
         "type": "scatter",
         "x": [
          "uniform",
          "uniform",
          "distance",
          "distance",
          "uniform",
          "distance",
          "uniform",
          "distance",
          "distance",
          "uniform",
          "distance",
          "uniform",
          "uniform",
          "distance",
          "uniform",
          "distance",
          "distance",
          "distance",
          "distance",
          "distance",
          "distance",
          "uniform",
          "distance",
          "distance",
          "distance",
          "distance",
          "distance",
          "distance",
          "distance",
          "distance",
          "distance",
          "distance",
          "distance",
          "distance",
          "distance",
          "distance",
          "distance",
          "distance",
          "distance",
          "distance",
          "distance",
          "distance",
          "distance",
          "distance",
          "distance",
          "uniform",
          "distance",
          "distance",
          "uniform",
          "distance",
          "distance",
          "distance",
          "distance",
          "distance",
          "distance",
          "distance",
          "uniform",
          "distance",
          "distance",
          "distance",
          "distance",
          "distance",
          "distance",
          "distance",
          "distance",
          "distance",
          "uniform",
          "distance",
          "distance",
          "distance",
          "distance",
          "distance",
          "distance",
          "distance",
          "distance",
          "distance",
          "distance",
          "distance",
          "uniform",
          "distance",
          "distance",
          "distance",
          "distance",
          "distance",
          "distance",
          "distance",
          "distance",
          "distance",
          "distance",
          "distance",
          "uniform",
          "distance",
          "distance",
          "distance",
          "distance",
          "distance",
          "distance",
          "distance",
          "distance",
          "distance"
         ],
         "xaxis": "x4",
         "y": [
          0.4612962962962963,
          0.9572222222222222,
          0.5175925925925926,
          0.4887037037037037,
          0.5153703703703704,
          0.9574074074074074,
          0.48962962962962964,
          0.9501851851851851,
          0.4968518518518519,
          0.4898148148148148,
          0.9561111111111111,
          0.955925925925926,
          0.9566666666666667,
          0.9572222222222222,
          0.6298148148148148,
          0.9574074074074074,
          0.9561111111111111,
          0.9146296296296297,
          0.8798148148148148,
          0.9572222222222222,
          0.9481481481481482,
          0.9572222222222222,
          0.9575925925925926,
          0.9568518518518518,
          0.9562962962962963,
          0.9575925925925926,
          0.9527777777777777,
          0.955925925925926,
          0.9575925925925926,
          0.9575925925925926,
          0.9362962962962963,
          0.9575925925925926,
          0.9575925925925926,
          0.9575925925925926,
          0.8181481481481482,
          0.515,
          0.9575925925925926,
          0.5166666666666667,
          0.9574074074074074,
          0.51,
          0.9537037037037037,
          0.9575925925925926,
          0.9575925925925926,
          0.9575925925925926,
          0.9562962962962963,
          0.9446296296296296,
          0.5072222222222222,
          0.9568518518518518,
          0.8583333333333333,
          0.9501851851851851,
          0.48685185185185187,
          0.9575925925925926,
          0.9575925925925926,
          0.9574074074074074,
          0.8798148148148148,
          0.9574074074074074,
          0.9535185185185185,
          0.9568518518518518,
          0.9564814814814815,
          0.9575925925925926,
          0.955925925925926,
          0.9575925925925926,
          0.9575925925925926,
          0.9572222222222222,
          0.9562962962962963,
          0.9575925925925926,
          0.9516666666666667,
          0.9564814814814815,
          0.5114814814814815,
          0.9566666666666667,
          0.9575925925925926,
          0.9575925925925926,
          0.9575925925925926,
          0.9574074074074074,
          0.9574074074074074,
          0.9575925925925926,
          0.9566666666666667,
          0.9574074074074074,
          0.5072222222222222,
          0.9575925925925926,
          0.8988888888888888,
          0.9575925925925926,
          0.9568518518518518,
          0.9575925925925926,
          0.9433333333333334,
          0.9561111111111111,
          0.8422222222222222,
          0.9575925925925926,
          0.9575925925925926,
          0.9574074074074074,
          0.5111111111111111,
          0.9575925925925926,
          0.9564814814814815,
          0.9575925925925926,
          0.9562962962962963,
          0.9575925925925926,
          0.9574074074074074,
          0.9575925925925926,
          0.9568518518518518,
          0.9575925925925926
         ],
         "yaxis": "y4"
        }
       ],
       "layout": {
        "template": {
         "data": {
          "bar": [
           {
            "error_x": {
             "color": "#2a3f5f"
            },
            "error_y": {
             "color": "#2a3f5f"
            },
            "marker": {
             "line": {
              "color": "#E5ECF6",
              "width": 0.5
             },
             "pattern": {
              "fillmode": "overlay",
              "size": 10,
              "solidity": 0.2
             }
            },
            "type": "bar"
           }
          ],
          "barpolar": [
           {
            "marker": {
             "line": {
              "color": "#E5ECF6",
              "width": 0.5
             },
             "pattern": {
              "fillmode": "overlay",
              "size": 10,
              "solidity": 0.2
             }
            },
            "type": "barpolar"
           }
          ],
          "carpet": [
           {
            "aaxis": {
             "endlinecolor": "#2a3f5f",
             "gridcolor": "white",
             "linecolor": "white",
             "minorgridcolor": "white",
             "startlinecolor": "#2a3f5f"
            },
            "baxis": {
             "endlinecolor": "#2a3f5f",
             "gridcolor": "white",
             "linecolor": "white",
             "minorgridcolor": "white",
             "startlinecolor": "#2a3f5f"
            },
            "type": "carpet"
           }
          ],
          "choropleth": [
           {
            "colorbar": {
             "outlinewidth": 0,
             "ticks": ""
            },
            "type": "choropleth"
           }
          ],
          "contour": [
           {
            "colorbar": {
             "outlinewidth": 0,
             "ticks": ""
            },
            "colorscale": [
             [
              0,
              "#0d0887"
             ],
             [
              0.1111111111111111,
              "#46039f"
             ],
             [
              0.2222222222222222,
              "#7201a8"
             ],
             [
              0.3333333333333333,
              "#9c179e"
             ],
             [
              0.4444444444444444,
              "#bd3786"
             ],
             [
              0.5555555555555556,
              "#d8576b"
             ],
             [
              0.6666666666666666,
              "#ed7953"
             ],
             [
              0.7777777777777778,
              "#fb9f3a"
             ],
             [
              0.8888888888888888,
              "#fdca26"
             ],
             [
              1,
              "#f0f921"
             ]
            ],
            "type": "contour"
           }
          ],
          "contourcarpet": [
           {
            "colorbar": {
             "outlinewidth": 0,
             "ticks": ""
            },
            "type": "contourcarpet"
           }
          ],
          "heatmap": [
           {
            "colorbar": {
             "outlinewidth": 0,
             "ticks": ""
            },
            "colorscale": [
             [
              0,
              "#0d0887"
             ],
             [
              0.1111111111111111,
              "#46039f"
             ],
             [
              0.2222222222222222,
              "#7201a8"
             ],
             [
              0.3333333333333333,
              "#9c179e"
             ],
             [
              0.4444444444444444,
              "#bd3786"
             ],
             [
              0.5555555555555556,
              "#d8576b"
             ],
             [
              0.6666666666666666,
              "#ed7953"
             ],
             [
              0.7777777777777778,
              "#fb9f3a"
             ],
             [
              0.8888888888888888,
              "#fdca26"
             ],
             [
              1,
              "#f0f921"
             ]
            ],
            "type": "heatmap"
           }
          ],
          "heatmapgl": [
           {
            "colorbar": {
             "outlinewidth": 0,
             "ticks": ""
            },
            "colorscale": [
             [
              0,
              "#0d0887"
             ],
             [
              0.1111111111111111,
              "#46039f"
             ],
             [
              0.2222222222222222,
              "#7201a8"
             ],
             [
              0.3333333333333333,
              "#9c179e"
             ],
             [
              0.4444444444444444,
              "#bd3786"
             ],
             [
              0.5555555555555556,
              "#d8576b"
             ],
             [
              0.6666666666666666,
              "#ed7953"
             ],
             [
              0.7777777777777778,
              "#fb9f3a"
             ],
             [
              0.8888888888888888,
              "#fdca26"
             ],
             [
              1,
              "#f0f921"
             ]
            ],
            "type": "heatmapgl"
           }
          ],
          "histogram": [
           {
            "marker": {
             "pattern": {
              "fillmode": "overlay",
              "size": 10,
              "solidity": 0.2
             }
            },
            "type": "histogram"
           }
          ],
          "histogram2d": [
           {
            "colorbar": {
             "outlinewidth": 0,
             "ticks": ""
            },
            "colorscale": [
             [
              0,
              "#0d0887"
             ],
             [
              0.1111111111111111,
              "#46039f"
             ],
             [
              0.2222222222222222,
              "#7201a8"
             ],
             [
              0.3333333333333333,
              "#9c179e"
             ],
             [
              0.4444444444444444,
              "#bd3786"
             ],
             [
              0.5555555555555556,
              "#d8576b"
             ],
             [
              0.6666666666666666,
              "#ed7953"
             ],
             [
              0.7777777777777778,
              "#fb9f3a"
             ],
             [
              0.8888888888888888,
              "#fdca26"
             ],
             [
              1,
              "#f0f921"
             ]
            ],
            "type": "histogram2d"
           }
          ],
          "histogram2dcontour": [
           {
            "colorbar": {
             "outlinewidth": 0,
             "ticks": ""
            },
            "colorscale": [
             [
              0,
              "#0d0887"
             ],
             [
              0.1111111111111111,
              "#46039f"
             ],
             [
              0.2222222222222222,
              "#7201a8"
             ],
             [
              0.3333333333333333,
              "#9c179e"
             ],
             [
              0.4444444444444444,
              "#bd3786"
             ],
             [
              0.5555555555555556,
              "#d8576b"
             ],
             [
              0.6666666666666666,
              "#ed7953"
             ],
             [
              0.7777777777777778,
              "#fb9f3a"
             ],
             [
              0.8888888888888888,
              "#fdca26"
             ],
             [
              1,
              "#f0f921"
             ]
            ],
            "type": "histogram2dcontour"
           }
          ],
          "mesh3d": [
           {
            "colorbar": {
             "outlinewidth": 0,
             "ticks": ""
            },
            "type": "mesh3d"
           }
          ],
          "parcoords": [
           {
            "line": {
             "colorbar": {
              "outlinewidth": 0,
              "ticks": ""
             }
            },
            "type": "parcoords"
           }
          ],
          "pie": [
           {
            "automargin": true,
            "type": "pie"
           }
          ],
          "scatter": [
           {
            "fillpattern": {
             "fillmode": "overlay",
             "size": 10,
             "solidity": 0.2
            },
            "type": "scatter"
           }
          ],
          "scatter3d": [
           {
            "line": {
             "colorbar": {
              "outlinewidth": 0,
              "ticks": ""
             }
            },
            "marker": {
             "colorbar": {
              "outlinewidth": 0,
              "ticks": ""
             }
            },
            "type": "scatter3d"
           }
          ],
          "scattercarpet": [
           {
            "marker": {
             "colorbar": {
              "outlinewidth": 0,
              "ticks": ""
             }
            },
            "type": "scattercarpet"
           }
          ],
          "scattergeo": [
           {
            "marker": {
             "colorbar": {
              "outlinewidth": 0,
              "ticks": ""
             }
            },
            "type": "scattergeo"
           }
          ],
          "scattergl": [
           {
            "marker": {
             "colorbar": {
              "outlinewidth": 0,
              "ticks": ""
             }
            },
            "type": "scattergl"
           }
          ],
          "scattermapbox": [
           {
            "marker": {
             "colorbar": {
              "outlinewidth": 0,
              "ticks": ""
             }
            },
            "type": "scattermapbox"
           }
          ],
          "scatterpolar": [
           {
            "marker": {
             "colorbar": {
              "outlinewidth": 0,
              "ticks": ""
             }
            },
            "type": "scatterpolar"
           }
          ],
          "scatterpolargl": [
           {
            "marker": {
             "colorbar": {
              "outlinewidth": 0,
              "ticks": ""
             }
            },
            "type": "scatterpolargl"
           }
          ],
          "scatterternary": [
           {
            "marker": {
             "colorbar": {
              "outlinewidth": 0,
              "ticks": ""
             }
            },
            "type": "scatterternary"
           }
          ],
          "surface": [
           {
            "colorbar": {
             "outlinewidth": 0,
             "ticks": ""
            },
            "colorscale": [
             [
              0,
              "#0d0887"
             ],
             [
              0.1111111111111111,
              "#46039f"
             ],
             [
              0.2222222222222222,
              "#7201a8"
             ],
             [
              0.3333333333333333,
              "#9c179e"
             ],
             [
              0.4444444444444444,
              "#bd3786"
             ],
             [
              0.5555555555555556,
              "#d8576b"
             ],
             [
              0.6666666666666666,
              "#ed7953"
             ],
             [
              0.7777777777777778,
              "#fb9f3a"
             ],
             [
              0.8888888888888888,
              "#fdca26"
             ],
             [
              1,
              "#f0f921"
             ]
            ],
            "type": "surface"
           }
          ],
          "table": [
           {
            "cells": {
             "fill": {
              "color": "#EBF0F8"
             },
             "line": {
              "color": "white"
             }
            },
            "header": {
             "fill": {
              "color": "#C8D4E3"
             },
             "line": {
              "color": "white"
             }
            },
            "type": "table"
           }
          ]
         },
         "layout": {
          "annotationdefaults": {
           "arrowcolor": "#2a3f5f",
           "arrowhead": 0,
           "arrowwidth": 1
          },
          "autotypenumbers": "strict",
          "coloraxis": {
           "colorbar": {
            "outlinewidth": 0,
            "ticks": ""
           }
          },
          "colorscale": {
           "diverging": [
            [
             0,
             "#8e0152"
            ],
            [
             0.1,
             "#c51b7d"
            ],
            [
             0.2,
             "#de77ae"
            ],
            [
             0.3,
             "#f1b6da"
            ],
            [
             0.4,
             "#fde0ef"
            ],
            [
             0.5,
             "#f7f7f7"
            ],
            [
             0.6,
             "#e6f5d0"
            ],
            [
             0.7,
             "#b8e186"
            ],
            [
             0.8,
             "#7fbc41"
            ],
            [
             0.9,
             "#4d9221"
            ],
            [
             1,
             "#276419"
            ]
           ],
           "sequential": [
            [
             0,
             "#0d0887"
            ],
            [
             0.1111111111111111,
             "#46039f"
            ],
            [
             0.2222222222222222,
             "#7201a8"
            ],
            [
             0.3333333333333333,
             "#9c179e"
            ],
            [
             0.4444444444444444,
             "#bd3786"
            ],
            [
             0.5555555555555556,
             "#d8576b"
            ],
            [
             0.6666666666666666,
             "#ed7953"
            ],
            [
             0.7777777777777778,
             "#fb9f3a"
            ],
            [
             0.8888888888888888,
             "#fdca26"
            ],
            [
             1,
             "#f0f921"
            ]
           ],
           "sequentialminus": [
            [
             0,
             "#0d0887"
            ],
            [
             0.1111111111111111,
             "#46039f"
            ],
            [
             0.2222222222222222,
             "#7201a8"
            ],
            [
             0.3333333333333333,
             "#9c179e"
            ],
            [
             0.4444444444444444,
             "#bd3786"
            ],
            [
             0.5555555555555556,
             "#d8576b"
            ],
            [
             0.6666666666666666,
             "#ed7953"
            ],
            [
             0.7777777777777778,
             "#fb9f3a"
            ],
            [
             0.8888888888888888,
             "#fdca26"
            ],
            [
             1,
             "#f0f921"
            ]
           ]
          },
          "colorway": [
           "#636efa",
           "#EF553B",
           "#00cc96",
           "#ab63fa",
           "#FFA15A",
           "#19d3f3",
           "#FF6692",
           "#B6E880",
           "#FF97FF",
           "#FECB52"
          ],
          "font": {
           "color": "#2a3f5f"
          },
          "geo": {
           "bgcolor": "white",
           "lakecolor": "white",
           "landcolor": "#E5ECF6",
           "showlakes": true,
           "showland": true,
           "subunitcolor": "white"
          },
          "hoverlabel": {
           "align": "left"
          },
          "hovermode": "closest",
          "mapbox": {
           "style": "light"
          },
          "paper_bgcolor": "white",
          "plot_bgcolor": "#E5ECF6",
          "polar": {
           "angularaxis": {
            "gridcolor": "white",
            "linecolor": "white",
            "ticks": ""
           },
           "bgcolor": "#E5ECF6",
           "radialaxis": {
            "gridcolor": "white",
            "linecolor": "white",
            "ticks": ""
           }
          },
          "scene": {
           "xaxis": {
            "backgroundcolor": "#E5ECF6",
            "gridcolor": "white",
            "gridwidth": 2,
            "linecolor": "white",
            "showbackground": true,
            "ticks": "",
            "zerolinecolor": "white"
           },
           "yaxis": {
            "backgroundcolor": "#E5ECF6",
            "gridcolor": "white",
            "gridwidth": 2,
            "linecolor": "white",
            "showbackground": true,
            "ticks": "",
            "zerolinecolor": "white"
           },
           "zaxis": {
            "backgroundcolor": "#E5ECF6",
            "gridcolor": "white",
            "gridwidth": 2,
            "linecolor": "white",
            "showbackground": true,
            "ticks": "",
            "zerolinecolor": "white"
           }
          },
          "shapedefaults": {
           "line": {
            "color": "#2a3f5f"
           }
          },
          "ternary": {
           "aaxis": {
            "gridcolor": "white",
            "linecolor": "white",
            "ticks": ""
           },
           "baxis": {
            "gridcolor": "white",
            "linecolor": "white",
            "ticks": ""
           },
           "bgcolor": "#E5ECF6",
           "caxis": {
            "gridcolor": "white",
            "linecolor": "white",
            "ticks": ""
           }
          },
          "title": {
           "x": 0.05
          },
          "xaxis": {
           "automargin": true,
           "gridcolor": "white",
           "linecolor": "white",
           "ticks": "",
           "title": {
            "standoff": 15
           },
           "zerolinecolor": "white",
           "zerolinewidth": 2
          },
          "yaxis": {
           "automargin": true,
           "gridcolor": "white",
           "linecolor": "white",
           "ticks": "",
           "title": {
            "standoff": 15
           },
           "zerolinecolor": "white",
           "zerolinewidth": 2
          }
         }
        },
        "title": {
         "text": "Slice Plot"
        },
        "width": 1200,
        "xaxis": {
         "anchor": "y",
         "domain": [
          0,
          0.2125
         ],
         "title": {
          "text": "n_neighbors"
         }
        },
        "xaxis2": {
         "anchor": "y2",
         "domain": [
          0.2625,
          0.475
         ],
         "title": {
          "text": "n_pca_components"
         }
        },
        "xaxis3": {
         "anchor": "y3",
         "categoryarray": [
          "True",
          "False"
         ],
         "categoryorder": "array",
         "domain": [
          0.525,
          0.7375
         ],
         "title": {
          "text": "use_pca"
         },
         "type": "category"
        },
        "xaxis4": {
         "anchor": "y4",
         "categoryarray": [
          "uniform",
          "distance"
         ],
         "categoryorder": "array",
         "domain": [
          0.7875,
          1
         ],
         "title": {
          "text": "weights"
         },
         "type": "category"
        },
        "yaxis": {
         "anchor": "x",
         "domain": [
          0,
          1
         ],
         "title": {
          "text": "Objective Value"
         }
        },
        "yaxis2": {
         "anchor": "x2",
         "domain": [
          0,
          1
         ],
         "matches": "y",
         "showticklabels": false
        },
        "yaxis3": {
         "anchor": "x3",
         "domain": [
          0,
          1
         ],
         "matches": "y",
         "showticklabels": false
        },
        "yaxis4": {
         "anchor": "x4",
         "domain": [
          0,
          1
         ],
         "matches": "y",
         "showticklabels": false
        }
       }
      }
     },
     "metadata": {},
     "output_type": "display_data"
    }
   ],
   "source": [
    "import numpy as np\n",
    "from sklearn.model_selection import train_test_split\n",
    "from sklearn.preprocessing import StandardScaler\n",
    "from sklearn.metrics import accuracy_score\n",
    "from sklearn.neighbors import KNeighborsClassifier\n",
    "from sklearn.decomposition import PCA\n",
    "import optuna\n",
    "import optuna.visualization as vis\n",
    "    \n",
    "n = 15\n",
    "    \n",
    "X = np.load('Datasets/kryptonite-%s-X.npy'%(n))\n",
    "y = np.load('Datasets/kryptonite-%s-y.npy'%(n))\n",
    "\n",
    "def objective(trial):\n",
    "\n",
    "    if trial.should_prune():\n",
    "        raise optuna.TrialPruned()\n",
    "\n",
    "    ### ========== Shuffle and Split Data ========== ###\n",
    "\n",
    "    X_train, X_temp, y_train, y_temp = train_test_split(X, y, test_size=0.6, random_state=42)  # 60% training\n",
    "    X_val, X_test, y_val, y_test = train_test_split(X_temp, y_temp, test_size=0.5, random_state=42)  # 20% validation, 20% test\n",
    "\n",
    "    scaler = StandardScaler()\n",
    "    X_train_scaled = scaler.fit_transform(X_train)\n",
    "    X_val_scaled = scaler.transform(X_val)\n",
    "    X_test_scaled = scaler.transform(X_test)\n",
    "\n",
    "    use_pca = trial.suggest_categorical('use_pca', ['True', 'False'])\n",
    "    n_components_pca = trial.suggest_int('n_pca_components', 1, 20)\n",
    "\n",
    "\n",
    "    ### ========== Train and Evaluate Model ========== ###\n",
    "\n",
    "    if use_pca == 'True':\n",
    "        pca = PCA(\n",
    "            n_components=min(\n",
    "                X.shape[1],\n",
    "                n_components_pca\n",
    "            )\n",
    "        )\n",
    "        X_train_scaled = pca.fit_transform(X_train_scaled)\n",
    "        X_val_scaled = pca.transform(X_val)\n",
    "        X_test_scaled = pca.transform(X_test)\n",
    "\n",
    "    classifier = KNeighborsClassifier(\n",
    "        n_neighbors=trial.suggest_int('n_neighbors', 5, 50),\n",
    "        weights=trial.suggest_categorical('weights', ['uniform', 'distance']),\n",
    "        n_jobs=-1\n",
    "    )\n",
    "\n",
    "    # classifier = KNeighborsClassifier(\n",
    "    #     n_neighbors=20,\n",
    "    #     weights='distance',\n",
    "    #     n_jobs=-1\n",
    "    # )\n",
    "\n",
    "    classifier.fit(X_train_scaled, y_train)\n",
    "    # print(\"Fit Model\")\n",
    "\n",
    "    # Evaluate on the validation set\n",
    "    y_val_pred = classifier.predict(X_val_scaled)\n",
    "    val_accuracy = accuracy_score(y_val, y_val_pred)\n",
    "    # print(f\"Validation Accuracy: {val_accuracy:.4f}\")\n",
    "\n",
    "    # Evaluate on the test set\n",
    "    y_test_pred = classifier.predict(X_test_scaled)\n",
    "    test_accuracy = accuracy_score(y_test, y_test_pred)\n",
    "    print(f\"Test Accuracy: {test_accuracy:.4f}\")\n",
    "\n",
    "    return val_accuracy\n",
    "\n",
    "\n",
    "# Create a study object\n",
    "pruner = optuna.pruners.MedianPruner()\n",
    "study = optuna.create_study(direction=\"maximize\", pruner=pruner)\n",
    "\n",
    "# Optimize the objective function\n",
    "study.optimize(objective, n_trials=100)\n",
    "\n",
    "print(\"Best hyperparameters:\", study.best_params)\n",
    "print(\"Best value:\", study.best_value)\n",
    "\n",
    "vis.plot_optimization_history(study).show()\n",
    "vis.plot_param_importances(study).show()\n",
    "vis.plot_slice(study).show()\n",
    "\n",
    "# vis.plot_intermediate_values(study)"
   ]
  }
 ],
 "metadata": {
  "kernelspec": {
   "display_name": "venv",
   "language": "python",
   "name": "python3"
  },
  "language_info": {
   "codemirror_mode": {
    "name": "ipython",
    "version": 3
   },
   "file_extension": ".py",
   "mimetype": "text/x-python",
   "name": "python",
   "nbconvert_exporter": "python",
   "pygments_lexer": "ipython3",
   "version": "3.12.3"
  }
 },
 "nbformat": 4,
 "nbformat_minor": 2
}
