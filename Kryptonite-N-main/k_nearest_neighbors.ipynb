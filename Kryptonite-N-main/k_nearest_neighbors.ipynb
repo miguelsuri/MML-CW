{
 "cells": [
  {
   "cell_type": "code",
   "execution_count": 1,
   "metadata": {},
   "outputs": [
    {
     "name": "stderr",
     "output_type": "stream",
     "text": [
      "c:\\Users\\berma\\Documents\\Mathematics for Machine Learning\\MML-CW\\.venv\\Lib\\site-packages\\tqdm\\auto.py:21: TqdmWarning: IProgress not found. Please update jupyter and ipywidgets. See https://ipywidgets.readthedocs.io/en/stable/user_install.html\n",
      "  from .autonotebook import tqdm as notebook_tqdm\n",
      "[I 2024-11-11 19:27:25,517] A new study created in memory with name: no-name-3fa964d8-b00f-4179-83c4-1a9fe8bcda10\n",
      "[I 2024-11-11 19:27:25,998] Trial 0 finished with value: 0.5069444444444444 and parameters: {'use_pca': 'True', 'n_pca_components': 2, 'pca_kernel': 'sigmoid', 'n_neighbors': 17, 'weights': 'distance'}. Best is trial 0 with value: 0.5069444444444444.\n"
     ]
    },
    {
     "name": "stdout",
     "output_type": "stream",
     "text": [
      "Test Accuracy: 0.5087\n"
     ]
    },
    {
     "name": "stderr",
     "output_type": "stream",
     "text": [
      "[I 2024-11-11 19:27:26,707] Trial 1 finished with value: 0.5215277777777778 and parameters: {'use_pca': 'True', 'n_pca_components': 5, 'pca_kernel': 'cosine', 'n_neighbors': 9, 'weights': 'uniform'}. Best is trial 1 with value: 0.5215277777777778.\n"
     ]
    },
    {
     "name": "stdout",
     "output_type": "stream",
     "text": [
      "Test Accuracy: 0.5293\n"
     ]
    },
    {
     "name": "stderr",
     "output_type": "stream",
     "text": [
      "[I 2024-11-11 19:27:27,810] Trial 2 finished with value: 0.48194444444444445 and parameters: {'use_pca': 'True', 'n_pca_components': 9, 'pca_kernel': 'sigmoid', 'n_neighbors': 38, 'weights': 'uniform'}. Best is trial 1 with value: 0.5215277777777778.\n"
     ]
    },
    {
     "name": "stdout",
     "output_type": "stream",
     "text": [
      "Test Accuracy: 0.4998\n"
     ]
    },
    {
     "name": "stderr",
     "output_type": "stream",
     "text": [
      "[I 2024-11-11 19:27:28,215] Trial 3 finished with value: 0.7402777777777778 and parameters: {'use_pca': 'False', 'n_pca_components': 7, 'pca_kernel': 'poly', 'n_neighbors': 10, 'weights': 'uniform'}. Best is trial 3 with value: 0.7402777777777778.\n"
     ]
    },
    {
     "name": "stdout",
     "output_type": "stream",
     "text": [
      "Test Accuracy: 0.7428\n"
     ]
    },
    {
     "name": "stderr",
     "output_type": "stream",
     "text": [
      "[I 2024-11-11 19:27:28,748] Trial 4 finished with value: 0.284375 and parameters: {'use_pca': 'False', 'n_pca_components': 2, 'pca_kernel': 'poly', 'n_neighbors': 40, 'weights': 'uniform'}. Best is trial 3 with value: 0.7402777777777778.\n"
     ]
    },
    {
     "name": "stdout",
     "output_type": "stream",
     "text": [
      "Test Accuracy: 0.2778\n"
     ]
    },
    {
     "name": "stderr",
     "output_type": "stream",
     "text": [
      "[I 2024-11-11 19:27:29,478] Trial 5 finished with value: 0.5253472222222222 and parameters: {'use_pca': 'True', 'n_pca_components': 5, 'pca_kernel': 'cosine', 'n_neighbors': 23, 'weights': 'uniform'}. Best is trial 3 with value: 0.7402777777777778.\n"
     ]
    },
    {
     "name": "stdout",
     "output_type": "stream",
     "text": [
      "Test Accuracy: 0.5239\n"
     ]
    },
    {
     "name": "stderr",
     "output_type": "stream",
     "text": [
      "[I 2024-11-11 19:27:30,365] Trial 6 finished with value: 0.5222222222222223 and parameters: {'use_pca': 'True', 'n_pca_components': 4, 'pca_kernel': 'poly', 'n_neighbors': 20, 'weights': 'uniform'}. Best is trial 3 with value: 0.7402777777777778.\n",
      "[I 2024-11-11 19:27:30,463] Trial 7 pruned. \n"
     ]
    },
    {
     "name": "stdout",
     "output_type": "stream",
     "text": [
      "Test Accuracy: 0.5145\n"
     ]
    },
    {
     "name": "stderr",
     "output_type": "stream",
     "text": [
      "[I 2024-11-11 19:27:31,091] Trial 8 pruned. \n",
      "[I 2024-11-11 19:27:31,838] Trial 9 finished with value: 0.5357638888888889 and parameters: {'use_pca': 'True', 'n_pca_components': 5, 'pca_kernel': 'rbf', 'n_neighbors': 24, 'weights': 'distance'}. Best is trial 3 with value: 0.7402777777777778.\n",
      "[I 2024-11-11 19:27:31,942] Trial 10 finished with value: 0.9486111111111111 and parameters: {'use_pca': 'False', 'n_pca_components': 7, 'pca_kernel': 'linear', 'n_neighbors': 6, 'weights': 'distance'}. Best is trial 10 with value: 0.9486111111111111.\n"
     ]
    },
    {
     "name": "stdout",
     "output_type": "stream",
     "text": [
      "Test Accuracy: 0.5443\n",
      "Test Accuracy: 0.9499\n"
     ]
    },
    {
     "name": "stderr",
     "output_type": "stream",
     "text": [
      "[I 2024-11-11 19:27:32,084] Trial 11 finished with value: 0.9506944444444444 and parameters: {'use_pca': 'False', 'n_pca_components': 7, 'pca_kernel': 'linear', 'n_neighbors': 5, 'weights': 'distance'}. Best is trial 11 with value: 0.9506944444444444.\n",
      "[I 2024-11-11 19:27:32,213] Trial 12 finished with value: 0.9399305555555556 and parameters: {'use_pca': 'False', 'n_pca_components': 7, 'pca_kernel': 'linear', 'n_neighbors': 8, 'weights': 'distance'}. Best is trial 11 with value: 0.9506944444444444.\n"
     ]
    },
    {
     "name": "stdout",
     "output_type": "stream",
     "text": [
      "Test Accuracy: 0.9521\n",
      "Test Accuracy: 0.9398\n"
     ]
    },
    {
     "name": "stderr",
     "output_type": "stream",
     "text": [
      "[I 2024-11-11 19:27:32,316] Trial 13 finished with value: 0.9506944444444444 and parameters: {'use_pca': 'False', 'n_pca_components': 7, 'pca_kernel': 'linear', 'n_neighbors': 5, 'weights': 'distance'}. Best is trial 11 with value: 0.9506944444444444.\n"
     ]
    },
    {
     "name": "stdout",
     "output_type": "stream",
     "text": [
      "Test Accuracy: 0.9521\n"
     ]
    },
    {
     "name": "stderr",
     "output_type": "stream",
     "text": [
      "[I 2024-11-11 19:27:32,559] Trial 14 finished with value: 0.7548611111111111 and parameters: {'use_pca': 'False', 'n_pca_components': 9, 'pca_kernel': 'linear', 'n_neighbors': 33, 'weights': 'distance'}. Best is trial 11 with value: 0.9506944444444444.\n"
     ]
    },
    {
     "name": "stdout",
     "output_type": "stream",
     "text": [
      "Test Accuracy: 0.7457\n",
      "Test Accuracy: 0.8659\n"
     ]
    },
    {
     "name": "stderr",
     "output_type": "stream",
     "text": [
      "[I 2024-11-11 19:27:32,758] Trial 15 finished with value: 0.8722222222222222 and parameters: {'use_pca': 'False', 'n_pca_components': 7, 'pca_kernel': 'linear', 'n_neighbors': 15, 'weights': 'distance'}. Best is trial 11 with value: 0.9506944444444444.\n",
      "[I 2024-11-11 19:27:32,975] Trial 16 finished with value: 0.8836805555555556 and parameters: {'use_pca': 'False', 'n_pca_components': 6, 'pca_kernel': 'linear', 'n_neighbors': 14, 'weights': 'distance'}. Best is trial 11 with value: 0.9506944444444444.\n"
     ]
    },
    {
     "name": "stdout",
     "output_type": "stream",
     "text": [
      "Test Accuracy: 0.8812\n"
     ]
    },
    {
     "name": "stderr",
     "output_type": "stream",
     "text": [
      "[I 2024-11-11 19:27:33,229] Trial 17 finished with value: 0.7753472222222222 and parameters: {'use_pca': 'False', 'n_pca_components': 3, 'pca_kernel': 'linear', 'n_neighbors': 47, 'weights': 'distance'}. Best is trial 11 with value: 0.9506944444444444.\n"
     ]
    },
    {
     "name": "stdout",
     "output_type": "stream",
     "text": [
      "Test Accuracy: 0.7770\n"
     ]
    },
    {
     "name": "stderr",
     "output_type": "stream",
     "text": [
      "[I 2024-11-11 19:27:33,479] Trial 18 finished with value: 0.7576388888888889 and parameters: {'use_pca': 'False', 'n_pca_components': 8, 'pca_kernel': 'linear', 'n_neighbors': 31, 'weights': 'distance'}. Best is trial 11 with value: 0.9506944444444444.\n",
      "[I 2024-11-11 19:27:33,582] Trial 19 finished with value: 0.9506944444444444 and parameters: {'use_pca': 'False', 'n_pca_components': 6, 'pca_kernel': 'linear', 'n_neighbors': 5, 'weights': 'distance'}. Best is trial 11 with value: 0.9506944444444444.\n"
     ]
    },
    {
     "name": "stdout",
     "output_type": "stream",
     "text": [
      "Test Accuracy: 0.7479\n",
      "Test Accuracy: 0.9521\n"
     ]
    },
    {
     "name": "stderr",
     "output_type": "stream",
     "text": [
      "[I 2024-11-11 19:27:33,761] Trial 20 finished with value: 0.9041666666666667 and parameters: {'use_pca': 'False', 'n_pca_components': 8, 'pca_kernel': 'sigmoid', 'n_neighbors': 12, 'weights': 'distance'}. Best is trial 11 with value: 0.9506944444444444.\n",
      "[I 2024-11-11 19:27:33,856] Trial 21 finished with value: 0.9506944444444444 and parameters: {'use_pca': 'False', 'n_pca_components': 6, 'pca_kernel': 'linear', 'n_neighbors': 5, 'weights': 'distance'}. Best is trial 11 with value: 0.9506944444444444.\n"
     ]
    },
    {
     "name": "stdout",
     "output_type": "stream",
     "text": [
      "Test Accuracy: 0.9010\n",
      "Test Accuracy: 0.9521\n",
      "Test Accuracy: 0.9521\n"
     ]
    },
    {
     "name": "stderr",
     "output_type": "stream",
     "text": [
      "[I 2024-11-11 19:27:33,960] Trial 22 finished with value: 0.9506944444444444 and parameters: {'use_pca': 'False', 'n_pca_components': 6, 'pca_kernel': 'linear', 'n_neighbors': 5, 'weights': 'distance'}. Best is trial 11 with value: 0.9506944444444444.\n",
      "[I 2024-11-11 19:27:34,173] Trial 23 finished with value: 0.828125 and parameters: {'use_pca': 'False', 'n_pca_components': 4, 'pca_kernel': 'linear', 'n_neighbors': 18, 'weights': 'distance'}. Best is trial 11 with value: 0.9506944444444444.\n",
      "[I 2024-11-11 19:27:34,346] Trial 24 finished with value: 0.9041666666666667 and parameters: {'use_pca': 'False', 'n_pca_components': 6, 'pca_kernel': 'linear', 'n_neighbors': 12, 'weights': 'distance'}. Best is trial 11 with value: 0.9506944444444444.\n"
     ]
    },
    {
     "name": "stdout",
     "output_type": "stream",
     "text": [
      "Test Accuracy: 0.8303\n",
      "Test Accuracy: 0.9010\n"
     ]
    },
    {
     "name": "stderr",
     "output_type": "stream",
     "text": [
      "[I 2024-11-11 19:27:34,492] Trial 25 finished with value: 0.9305555555555556 and parameters: {'use_pca': 'False', 'n_pca_components': 8, 'pca_kernel': 'cosine', 'n_neighbors': 9, 'weights': 'distance'}. Best is trial 11 with value: 0.9506944444444444.\n",
      "[I 2024-11-11 19:27:34,591] Trial 26 finished with value: 0.9506944444444444 and parameters: {'use_pca': 'False', 'n_pca_components': 7, 'pca_kernel': 'rbf', 'n_neighbors': 5, 'weights': 'distance'}. Best is trial 11 with value: 0.9506944444444444.\n"
     ]
    },
    {
     "name": "stdout",
     "output_type": "stream",
     "text": [
      "Test Accuracy: 0.9316\n",
      "Test Accuracy: 0.9521\n"
     ]
    },
    {
     "name": "stderr",
     "output_type": "stream",
     "text": [
      "[I 2024-11-11 19:27:34,772] Trial 27 finished with value: 0.9041666666666667 and parameters: {'use_pca': 'False', 'n_pca_components': 4, 'pca_kernel': 'linear', 'n_neighbors': 12, 'weights': 'distance'}. Best is trial 11 with value: 0.9506944444444444.\n",
      "[I 2024-11-11 19:27:34,840] Trial 28 pruned. \n",
      "[I 2024-11-11 19:27:34,900] Trial 29 pruned. \n"
     ]
    },
    {
     "name": "stdout",
     "output_type": "stream",
     "text": [
      "Test Accuracy: 0.9010\n"
     ]
    },
    {
     "name": "stderr",
     "output_type": "stream",
     "text": [
      "[I 2024-11-11 19:27:34,961] Trial 30 pruned. \n",
      "[I 2024-11-11 19:27:35,062] Trial 31 finished with value: 0.9506944444444444 and parameters: {'use_pca': 'False', 'n_pca_components': 6, 'pca_kernel': 'linear', 'n_neighbors': 5, 'weights': 'distance'}. Best is trial 11 with value: 0.9506944444444444.\n",
      "[I 2024-11-11 19:27:35,209] Trial 32 finished with value: 0.9305555555555556 and parameters: {'use_pca': 'False', 'n_pca_components': 6, 'pca_kernel': 'linear', 'n_neighbors': 9, 'weights': 'distance'}. Best is trial 11 with value: 0.9506944444444444.\n"
     ]
    },
    {
     "name": "stdout",
     "output_type": "stream",
     "text": [
      "Test Accuracy: 0.9521\n",
      "Test Accuracy: 0.9316\n"
     ]
    },
    {
     "name": "stderr",
     "output_type": "stream",
     "text": [
      "[I 2024-11-11 19:27:35,350] Trial 33 finished with value: 0.9399305555555556 and parameters: {'use_pca': 'False', 'n_pca_components': 7, 'pca_kernel': 'linear', 'n_neighbors': 8, 'weights': 'distance'}. Best is trial 11 with value: 0.9506944444444444.\n"
     ]
    },
    {
     "name": "stdout",
     "output_type": "stream",
     "text": [
      "Test Accuracy: 0.9398\n"
     ]
    },
    {
     "name": "stderr",
     "output_type": "stream",
     "text": [
      "[I 2024-11-11 19:27:35,746] Trial 34 pruned. \n",
      "[I 2024-11-11 19:27:35,941] Trial 35 finished with value: 0.9149305555555556 and parameters: {'use_pca': 'False', 'n_pca_components': 8, 'pca_kernel': 'sigmoid', 'n_neighbors': 11, 'weights': 'distance'}. Best is trial 11 with value: 0.9506944444444444.\n"
     ]
    },
    {
     "name": "stdout",
     "output_type": "stream",
     "text": [
      "Test Accuracy: 0.9127\n",
      "Test Accuracy: 0.9214\n"
     ]
    },
    {
     "name": "stderr",
     "output_type": "stream",
     "text": [
      "[I 2024-11-11 19:27:36,138] Trial 36 finished with value: 0.9222222222222223 and parameters: {'use_pca': 'False', 'n_pca_components': 7, 'pca_kernel': 'linear', 'n_neighbors': 10, 'weights': 'distance'}. Best is trial 11 with value: 0.9506944444444444.\n",
      "[I 2024-11-11 19:27:36,597] Trial 37 pruned. \n",
      "[I 2024-11-11 19:27:36,669] Trial 38 pruned. \n",
      "[I 2024-11-11 19:27:37,365] Trial 39 pruned. \n",
      "[I 2024-11-11 19:27:37,484] Trial 40 pruned. \n",
      "[I 2024-11-11 19:27:37,589] Trial 41 finished with value: 0.9506944444444444 and parameters: {'use_pca': 'False', 'n_pca_components': 6, 'pca_kernel': 'linear', 'n_neighbors': 5, 'weights': 'distance'}. Best is trial 11 with value: 0.9506944444444444.\n",
      "[I 2024-11-11 19:27:37,685] Trial 42 finished with value: 0.9506944444444444 and parameters: {'use_pca': 'False', 'n_pca_components': 7, 'pca_kernel': 'linear', 'n_neighbors': 5, 'weights': 'distance'}. Best is trial 11 with value: 0.9506944444444444.\n"
     ]
    },
    {
     "name": "stdout",
     "output_type": "stream",
     "text": [
      "Test Accuracy: 0.9521\n",
      "Test Accuracy: 0.9521\n"
     ]
    },
    {
     "name": "stderr",
     "output_type": "stream",
     "text": [
      "[I 2024-11-11 19:27:37,816] Trial 43 finished with value: 0.9399305555555556 and parameters: {'use_pca': 'False', 'n_pca_components': 5, 'pca_kernel': 'linear', 'n_neighbors': 8, 'weights': 'distance'}. Best is trial 11 with value: 0.9506944444444444.\n",
      "[I 2024-11-11 19:27:37,979] Trial 44 finished with value: 0.9222222222222223 and parameters: {'use_pca': 'False', 'n_pca_components': 6, 'pca_kernel': 'poly', 'n_neighbors': 10, 'weights': 'distance'}. Best is trial 11 with value: 0.9506944444444444.\n"
     ]
    },
    {
     "name": "stdout",
     "output_type": "stream",
     "text": [
      "Test Accuracy: 0.9398\n",
      "Test Accuracy: 0.9214\n"
     ]
    },
    {
     "name": "stderr",
     "output_type": "stream",
     "text": [
      "[I 2024-11-11 19:27:38,123] Trial 45 finished with value: 0.9475694444444445 and parameters: {'use_pca': 'False', 'n_pca_components': 7, 'pca_kernel': 'linear', 'n_neighbors': 7, 'weights': 'distance'}. Best is trial 11 with value: 0.9506944444444444.\n"
     ]
    },
    {
     "name": "stdout",
     "output_type": "stream",
     "text": [
      "Test Accuracy: 0.9463\n"
     ]
    },
    {
     "name": "stderr",
     "output_type": "stream",
     "text": [
      "[I 2024-11-11 19:27:38,508] Trial 46 pruned. \n",
      "[I 2024-11-11 19:27:38,626] Trial 47 pruned. \n",
      "[I 2024-11-11 19:27:38,813] Trial 48 finished with value: 0.9222222222222223 and parameters: {'use_pca': 'False', 'n_pca_components': 7, 'pca_kernel': 'linear', 'n_neighbors': 10, 'weights': 'distance'}. Best is trial 11 with value: 0.9506944444444444.\n",
      "[I 2024-11-11 19:27:38,940] Trial 49 finished with value: 0.9475694444444445 and parameters: {'use_pca': 'False', 'n_pca_components': 7, 'pca_kernel': 'sigmoid', 'n_neighbors': 7, 'weights': 'distance'}. Best is trial 11 with value: 0.9506944444444444.\n"
     ]
    },
    {
     "name": "stdout",
     "output_type": "stream",
     "text": [
      "Test Accuracy: 0.9214\n",
      "Test Accuracy: 0.9463\n"
     ]
    },
    {
     "name": "stderr",
     "output_type": "stream",
     "text": [
      "[I 2024-11-11 19:27:39,480] Trial 50 pruned. \n",
      "[I 2024-11-11 19:27:39,579] Trial 51 finished with value: 0.9506944444444444 and parameters: {'use_pca': 'False', 'n_pca_components': 7, 'pca_kernel': 'rbf', 'n_neighbors': 5, 'weights': 'distance'}. Best is trial 11 with value: 0.9506944444444444.\n",
      "[I 2024-11-11 19:27:39,704] Trial 52 finished with value: 0.9475694444444445 and parameters: {'use_pca': 'False', 'n_pca_components': 7, 'pca_kernel': 'rbf', 'n_neighbors': 7, 'weights': 'distance'}. Best is trial 11 with value: 0.9506944444444444.\n"
     ]
    },
    {
     "name": "stdout",
     "output_type": "stream",
     "text": [
      "Test Accuracy: 0.9521\n",
      "Test Accuracy: 0.9463\n"
     ]
    },
    {
     "name": "stderr",
     "output_type": "stream",
     "text": [
      "[I 2024-11-11 19:27:39,853] Trial 53 finished with value: 0.9305555555555556 and parameters: {'use_pca': 'False', 'n_pca_components': 8, 'pca_kernel': 'rbf', 'n_neighbors': 9, 'weights': 'distance'}. Best is trial 11 with value: 0.9506944444444444.\n",
      "[I 2024-11-11 19:27:39,962] Trial 54 finished with value: 0.9506944444444444 and parameters: {'use_pca': 'False', 'n_pca_components': 6, 'pca_kernel': 'rbf', 'n_neighbors': 5, 'weights': 'distance'}. Best is trial 11 with value: 0.9506944444444444.\n",
      "[I 2024-11-11 19:27:40,031] Trial 55 pruned. \n"
     ]
    },
    {
     "name": "stdout",
     "output_type": "stream",
     "text": [
      "Test Accuracy: 0.9316\n",
      "Test Accuracy: 0.9521\n"
     ]
    },
    {
     "name": "stderr",
     "output_type": "stream",
     "text": [
      "[I 2024-11-11 19:27:40,090] Trial 56 pruned. \n",
      "[I 2024-11-11 19:27:40,147] Trial 57 pruned. \n",
      "[I 2024-11-11 19:27:40,250] Trial 58 pruned. \n",
      "[I 2024-11-11 19:27:40,325] Trial 59 pruned. \n",
      "[I 2024-11-11 19:27:40,445] Trial 60 finished with value: 0.9486111111111111 and parameters: {'use_pca': 'False', 'n_pca_components': 8, 'pca_kernel': 'linear', 'n_neighbors': 6, 'weights': 'distance'}. Best is trial 11 with value: 0.9506944444444444.\n",
      "[I 2024-11-11 19:27:40,559] Trial 61 finished with value: 0.9486111111111111 and parameters: {'use_pca': 'False', 'n_pca_components': 6, 'pca_kernel': 'linear', 'n_neighbors': 6, 'weights': 'distance'}. Best is trial 11 with value: 0.9506944444444444.\n"
     ]
    },
    {
     "name": "stdout",
     "output_type": "stream",
     "text": [
      "Test Accuracy: 0.9499\n",
      "Test Accuracy: 0.9499\n",
      "Test Accuracy: 0.9521\n"
     ]
    },
    {
     "name": "stderr",
     "output_type": "stream",
     "text": [
      "[I 2024-11-11 19:27:40,651] Trial 62 finished with value: 0.9506944444444444 and parameters: {'use_pca': 'False', 'n_pca_components': 6, 'pca_kernel': 'linear', 'n_neighbors': 5, 'weights': 'distance'}. Best is trial 11 with value: 0.9506944444444444.\n",
      "[I 2024-11-11 19:27:40,806] Trial 63 finished with value: 0.9305555555555556 and parameters: {'use_pca': 'False', 'n_pca_components': 7, 'pca_kernel': 'linear', 'n_neighbors': 9, 'weights': 'distance'}. Best is trial 11 with value: 0.9506944444444444.\n",
      "[I 2024-11-11 19:27:40,887] Trial 64 pruned. \n"
     ]
    },
    {
     "name": "stdout",
     "output_type": "stream",
     "text": [
      "Test Accuracy: 0.9316\n",
      "Test Accuracy: 0.9463\n"
     ]
    },
    {
     "name": "stderr",
     "output_type": "stream",
     "text": [
      "[I 2024-11-11 19:27:41,008] Trial 65 finished with value: 0.9475694444444445 and parameters: {'use_pca': 'False', 'n_pca_components': 7, 'pca_kernel': 'linear', 'n_neighbors': 7, 'weights': 'distance'}. Best is trial 11 with value: 0.9506944444444444.\n",
      "[I 2024-11-11 19:27:41,068] Trial 66 pruned. \n",
      "[I 2024-11-11 19:27:41,126] Trial 67 pruned. \n",
      "[I 2024-11-11 19:27:41,513] Trial 68 pruned. \n",
      "[I 2024-11-11 19:27:41,581] Trial 69 pruned. \n",
      "[I 2024-11-11 19:27:41,680] Trial 70 pruned. \n",
      "[I 2024-11-11 19:27:41,774] Trial 71 finished with value: 0.9506944444444444 and parameters: {'use_pca': 'False', 'n_pca_components': 6, 'pca_kernel': 'linear', 'n_neighbors': 5, 'weights': 'distance'}. Best is trial 11 with value: 0.9506944444444444.\n",
      "[I 2024-11-11 19:27:41,886] Trial 72 finished with value: 0.9486111111111111 and parameters: {'use_pca': 'False', 'n_pca_components': 7, 'pca_kernel': 'linear', 'n_neighbors': 6, 'weights': 'distance'}. Best is trial 11 with value: 0.9506944444444444.\n"
     ]
    },
    {
     "name": "stdout",
     "output_type": "stream",
     "text": [
      "Test Accuracy: 0.9521\n",
      "Test Accuracy: 0.9499\n"
     ]
    },
    {
     "name": "stderr",
     "output_type": "stream",
     "text": [
      "[I 2024-11-11 19:27:42,017] Trial 73 finished with value: 0.9399305555555556 and parameters: {'use_pca': 'False', 'n_pca_components': 5, 'pca_kernel': 'linear', 'n_neighbors': 8, 'weights': 'distance'}. Best is trial 11 with value: 0.9506944444444444.\n",
      "[I 2024-11-11 19:27:42,073] Trial 74 pruned. \n",
      "[I 2024-11-11 19:27:42,165] Trial 75 finished with value: 0.9506944444444444 and parameters: {'use_pca': 'False', 'n_pca_components': 6, 'pca_kernel': 'poly', 'n_neighbors': 5, 'weights': 'distance'}. Best is trial 11 with value: 0.9506944444444444.\n"
     ]
    },
    {
     "name": "stdout",
     "output_type": "stream",
     "text": [
      "Test Accuracy: 0.9398\n",
      "Test Accuracy: 0.9521\n"
     ]
    },
    {
     "name": "stderr",
     "output_type": "stream",
     "text": [
      "[I 2024-11-11 19:27:42,218] Trial 76 pruned. \n",
      "[I 2024-11-11 19:27:42,337] Trial 77 finished with value: 0.9475694444444445 and parameters: {'use_pca': 'False', 'n_pca_components': 8, 'pca_kernel': 'linear', 'n_neighbors': 7, 'weights': 'distance'}. Best is trial 11 with value: 0.9506944444444444.\n"
     ]
    },
    {
     "name": "stdout",
     "output_type": "stream",
     "text": [
      "Test Accuracy: 0.9463\n"
     ]
    },
    {
     "name": "stderr",
     "output_type": "stream",
     "text": [
      "[I 2024-11-11 19:27:42,955] Trial 78 pruned. \n",
      "[I 2024-11-11 19:27:43,122] Trial 79 finished with value: 0.9399305555555556 and parameters: {'use_pca': 'False', 'n_pca_components': 5, 'pca_kernel': 'linear', 'n_neighbors': 8, 'weights': 'distance'}. Best is trial 11 with value: 0.9506944444444444.\n",
      "[I 2024-11-11 19:27:43,186] Trial 80 pruned. \n",
      "[I 2024-11-11 19:27:43,286] Trial 81 finished with value: 0.9506944444444444 and parameters: {'use_pca': 'False', 'n_pca_components': 7, 'pca_kernel': 'linear', 'n_neighbors': 5, 'weights': 'distance'}. Best is trial 11 with value: 0.9506944444444444.\n"
     ]
    },
    {
     "name": "stdout",
     "output_type": "stream",
     "text": [
      "Test Accuracy: 0.9398\n",
      "Test Accuracy: 0.9521\n"
     ]
    },
    {
     "name": "stderr",
     "output_type": "stream",
     "text": [
      "[I 2024-11-11 19:27:43,393] Trial 82 finished with value: 0.9506944444444444 and parameters: {'use_pca': 'False', 'n_pca_components': 7, 'pca_kernel': 'linear', 'n_neighbors': 5, 'weights': 'distance'}. Best is trial 11 with value: 0.9506944444444444.\n",
      "[I 2024-11-11 19:27:43,442] Trial 83 pruned. \n",
      "[I 2024-11-11 19:27:43,563] Trial 84 finished with value: 0.9475694444444445 and parameters: {'use_pca': 'False', 'n_pca_components': 7, 'pca_kernel': 'linear', 'n_neighbors': 7, 'weights': 'distance'}. Best is trial 11 with value: 0.9506944444444444.\n"
     ]
    },
    {
     "name": "stdout",
     "output_type": "stream",
     "text": [
      "Test Accuracy: 0.9521\n",
      "Test Accuracy: 0.9463\n"
     ]
    },
    {
     "name": "stderr",
     "output_type": "stream",
     "text": [
      "[I 2024-11-11 19:27:43,678] Trial 85 pruned. \n",
      "[I 2024-11-11 19:27:43,791] Trial 86 finished with value: 0.9486111111111111 and parameters: {'use_pca': 'False', 'n_pca_components': 6, 'pca_kernel': 'rbf', 'n_neighbors': 6, 'weights': 'distance'}. Best is trial 11 with value: 0.9506944444444444.\n",
      "[I 2024-11-11 19:27:43,930] Trial 87 finished with value: 0.9399305555555556 and parameters: {'use_pca': 'False', 'n_pca_components': 7, 'pca_kernel': 'linear', 'n_neighbors': 8, 'weights': 'distance'}. Best is trial 11 with value: 0.9506944444444444.\n"
     ]
    },
    {
     "name": "stdout",
     "output_type": "stream",
     "text": [
      "Test Accuracy: 0.9499\n",
      "Test Accuracy: 0.9398\n"
     ]
    },
    {
     "name": "stderr",
     "output_type": "stream",
     "text": [
      "[I 2024-11-11 19:27:43,986] Trial 88 pruned. \n",
      "[I 2024-11-11 19:27:44,099] Trial 89 finished with value: 0.9486111111111111 and parameters: {'use_pca': 'False', 'n_pca_components': 5, 'pca_kernel': 'poly', 'n_neighbors': 6, 'weights': 'distance'}. Best is trial 11 with value: 0.9506944444444444.\n"
     ]
    },
    {
     "name": "stdout",
     "output_type": "stream",
     "text": [
      "Test Accuracy: 0.9499\n"
     ]
    },
    {
     "name": "stderr",
     "output_type": "stream",
     "text": [
      "[I 2024-11-11 19:27:44,489] Trial 90 pruned. \n",
      "[I 2024-11-11 19:27:44,605] Trial 91 finished with value: 0.9475694444444445 and parameters: {'use_pca': 'False', 'n_pca_components': 7, 'pca_kernel': 'rbf', 'n_neighbors': 7, 'weights': 'distance'}. Best is trial 11 with value: 0.9506944444444444.\n",
      "[I 2024-11-11 19:27:44,703] Trial 92 finished with value: 0.9506944444444444 and parameters: {'use_pca': 'False', 'n_pca_components': 7, 'pca_kernel': 'rbf', 'n_neighbors': 5, 'weights': 'distance'}. Best is trial 11 with value: 0.9506944444444444.\n"
     ]
    },
    {
     "name": "stdout",
     "output_type": "stream",
     "text": [
      "Test Accuracy: 0.9463\n",
      "Test Accuracy: 0.9521\n"
     ]
    },
    {
     "name": "stderr",
     "output_type": "stream",
     "text": [
      "[I 2024-11-11 19:27:44,810] Trial 93 finished with value: 0.9486111111111111 and parameters: {'use_pca': 'False', 'n_pca_components': 8, 'pca_kernel': 'rbf', 'n_neighbors': 6, 'weights': 'distance'}. Best is trial 11 with value: 0.9506944444444444.\n",
      "[I 2024-11-11 19:27:44,885] Trial 94 pruned. \n",
      "[I 2024-11-11 19:27:44,940] Trial 95 pruned. \n"
     ]
    },
    {
     "name": "stdout",
     "output_type": "stream",
     "text": [
      "Test Accuracy: 0.9499\n"
     ]
    },
    {
     "name": "stderr",
     "output_type": "stream",
     "text": [
      "[I 2024-11-11 19:27:45,037] Trial 96 finished with value: 0.9506944444444444 and parameters: {'use_pca': 'False', 'n_pca_components': 7, 'pca_kernel': 'linear', 'n_neighbors': 5, 'weights': 'distance'}. Best is trial 11 with value: 0.9506944444444444.\n",
      "[I 2024-11-11 19:27:45,088] Trial 97 pruned. \n",
      "[I 2024-11-11 19:27:45,188] Trial 98 pruned. \n"
     ]
    },
    {
     "name": "stdout",
     "output_type": "stream",
     "text": [
      "Test Accuracy: 0.9521\n"
     ]
    },
    {
     "name": "stderr",
     "output_type": "stream",
     "text": [
      "[I 2024-11-11 19:27:45,305] Trial 99 finished with value: 0.9486111111111111 and parameters: {'use_pca': 'False', 'n_pca_components': 8, 'pca_kernel': 'rbf', 'n_neighbors': 6, 'weights': 'distance'}. Best is trial 11 with value: 0.9506944444444444.\n"
     ]
    },
    {
     "name": "stdout",
     "output_type": "stream",
     "text": [
      "Test Accuracy: 0.9499\n",
      "Best hyperparameters: {'use_pca': 'False', 'n_pca_components': 7, 'pca_kernel': 'linear', 'n_neighbors': 5, 'weights': 'distance'}\n",
      "Best value: 0.9506944444444444\n"
     ]
    },
    {
     "data": {
      "application/vnd.plotly.v1+json": {
       "config": {
        "plotlyServerURL": "https://plot.ly"
       },
       "data": [
        {
         "mode": "markers",
         "name": "Objective Value",
         "type": "scatter",
         "x": [
          0,
          1,
          2,
          3,
          4,
          5,
          6,
          9,
          10,
          11,
          12,
          13,
          14,
          15,
          16,
          17,
          18,
          19,
          20,
          21,
          22,
          23,
          24,
          25,
          26,
          27,
          31,
          32,
          33,
          35,
          36,
          41,
          42,
          43,
          44,
          45,
          48,
          49,
          51,
          52,
          53,
          54,
          60,
          61,
          62,
          63,
          65,
          71,
          72,
          73,
          75,
          77,
          79,
          81,
          82,
          84,
          86,
          87,
          89,
          91,
          92,
          93,
          96,
          99
         ],
         "y": [
          0.5069444444444444,
          0.5215277777777778,
          0.48194444444444445,
          0.7402777777777778,
          0.284375,
          0.5253472222222222,
          0.5222222222222223,
          0.5357638888888889,
          0.9486111111111111,
          0.9506944444444444,
          0.9399305555555556,
          0.9506944444444444,
          0.7548611111111111,
          0.8722222222222222,
          0.8836805555555556,
          0.7753472222222222,
          0.7576388888888889,
          0.9506944444444444,
          0.9041666666666667,
          0.9506944444444444,
          0.9506944444444444,
          0.828125,
          0.9041666666666667,
          0.9305555555555556,
          0.9506944444444444,
          0.9041666666666667,
          0.9506944444444444,
          0.9305555555555556,
          0.9399305555555556,
          0.9149305555555556,
          0.9222222222222223,
          0.9506944444444444,
          0.9506944444444444,
          0.9399305555555556,
          0.9222222222222223,
          0.9475694444444445,
          0.9222222222222223,
          0.9475694444444445,
          0.9506944444444444,
          0.9475694444444445,
          0.9305555555555556,
          0.9506944444444444,
          0.9486111111111111,
          0.9486111111111111,
          0.9506944444444444,
          0.9305555555555556,
          0.9475694444444445,
          0.9506944444444444,
          0.9486111111111111,
          0.9399305555555556,
          0.9506944444444444,
          0.9475694444444445,
          0.9399305555555556,
          0.9506944444444444,
          0.9506944444444444,
          0.9475694444444445,
          0.9486111111111111,
          0.9399305555555556,
          0.9486111111111111,
          0.9475694444444445,
          0.9506944444444444,
          0.9486111111111111,
          0.9506944444444444,
          0.9486111111111111
         ]
        },
        {
         "mode": "lines",
         "name": "Best Value",
         "type": "scatter",
         "x": [
          0,
          1,
          2,
          3,
          4,
          5,
          6,
          7,
          8,
          9,
          10,
          11,
          12,
          13,
          14,
          15,
          16,
          17,
          18,
          19,
          20,
          21,
          22,
          23,
          24,
          25,
          26,
          27,
          28,
          29,
          30,
          31,
          32,
          33,
          34,
          35,
          36,
          37,
          38,
          39,
          40,
          41,
          42,
          43,
          44,
          45,
          46,
          47,
          48,
          49,
          50,
          51,
          52,
          53,
          54,
          55,
          56,
          57,
          58,
          59,
          60,
          61,
          62,
          63,
          64,
          65,
          66,
          67,
          68,
          69,
          70,
          71,
          72,
          73,
          74,
          75,
          76,
          77,
          78,
          79,
          80,
          81,
          82,
          83,
          84,
          85,
          86,
          87,
          88,
          89,
          90,
          91,
          92,
          93,
          94,
          95,
          96,
          97,
          98,
          99
         ],
         "y": [
          0.5069444444444444,
          0.5215277777777778,
          0.5215277777777778,
          0.7402777777777778,
          0.7402777777777778,
          0.7402777777777778,
          0.7402777777777778,
          0.7402777777777778,
          0.7402777777777778,
          0.7402777777777778,
          0.9486111111111111,
          0.9506944444444444,
          0.9506944444444444,
          0.9506944444444444,
          0.9506944444444444,
          0.9506944444444444,
          0.9506944444444444,
          0.9506944444444444,
          0.9506944444444444,
          0.9506944444444444,
          0.9506944444444444,
          0.9506944444444444,
          0.9506944444444444,
          0.9506944444444444,
          0.9506944444444444,
          0.9506944444444444,
          0.9506944444444444,
          0.9506944444444444,
          0.9506944444444444,
          0.9506944444444444,
          0.9506944444444444,
          0.9506944444444444,
          0.9506944444444444,
          0.9506944444444444,
          0.9506944444444444,
          0.9506944444444444,
          0.9506944444444444,
          0.9506944444444444,
          0.9506944444444444,
          0.9506944444444444,
          0.9506944444444444,
          0.9506944444444444,
          0.9506944444444444,
          0.9506944444444444,
          0.9506944444444444,
          0.9506944444444444,
          0.9506944444444444,
          0.9506944444444444,
          0.9506944444444444,
          0.9506944444444444,
          0.9506944444444444,
          0.9506944444444444,
          0.9506944444444444,
          0.9506944444444444,
          0.9506944444444444,
          0.9506944444444444,
          0.9506944444444444,
          0.9506944444444444,
          0.9506944444444444,
          0.9506944444444444,
          0.9506944444444444,
          0.9506944444444444,
          0.9506944444444444,
          0.9506944444444444,
          0.9506944444444444,
          0.9506944444444444,
          0.9506944444444444,
          0.9506944444444444,
          0.9506944444444444,
          0.9506944444444444,
          0.9506944444444444,
          0.9506944444444444,
          0.9506944444444444,
          0.9506944444444444,
          0.9506944444444444,
          0.9506944444444444,
          0.9506944444444444,
          0.9506944444444444,
          0.9506944444444444,
          0.9506944444444444,
          0.9506944444444444,
          0.9506944444444444,
          0.9506944444444444,
          0.9506944444444444,
          0.9506944444444444,
          0.9506944444444444,
          0.9506944444444444,
          0.9506944444444444,
          0.9506944444444444,
          0.9506944444444444,
          0.9506944444444444,
          0.9506944444444444,
          0.9506944444444444,
          0.9506944444444444,
          0.9506944444444444,
          0.9506944444444444,
          0.9506944444444444,
          0.9506944444444444,
          0.9506944444444444,
          0.9506944444444444
         ]
        },
        {
         "marker": {
          "color": "#cccccc"
         },
         "mode": "markers",
         "name": "Infeasible Trial",
         "showlegend": false,
         "type": "scatter",
         "x": [],
         "y": []
        }
       ],
       "layout": {
        "template": {
         "data": {
          "bar": [
           {
            "error_x": {
             "color": "#2a3f5f"
            },
            "error_y": {
             "color": "#2a3f5f"
            },
            "marker": {
             "line": {
              "color": "#E5ECF6",
              "width": 0.5
             },
             "pattern": {
              "fillmode": "overlay",
              "size": 10,
              "solidity": 0.2
             }
            },
            "type": "bar"
           }
          ],
          "barpolar": [
           {
            "marker": {
             "line": {
              "color": "#E5ECF6",
              "width": 0.5
             },
             "pattern": {
              "fillmode": "overlay",
              "size": 10,
              "solidity": 0.2
             }
            },
            "type": "barpolar"
           }
          ],
          "carpet": [
           {
            "aaxis": {
             "endlinecolor": "#2a3f5f",
             "gridcolor": "white",
             "linecolor": "white",
             "minorgridcolor": "white",
             "startlinecolor": "#2a3f5f"
            },
            "baxis": {
             "endlinecolor": "#2a3f5f",
             "gridcolor": "white",
             "linecolor": "white",
             "minorgridcolor": "white",
             "startlinecolor": "#2a3f5f"
            },
            "type": "carpet"
           }
          ],
          "choropleth": [
           {
            "colorbar": {
             "outlinewidth": 0,
             "ticks": ""
            },
            "type": "choropleth"
           }
          ],
          "contour": [
           {
            "colorbar": {
             "outlinewidth": 0,
             "ticks": ""
            },
            "colorscale": [
             [
              0,
              "#0d0887"
             ],
             [
              0.1111111111111111,
              "#46039f"
             ],
             [
              0.2222222222222222,
              "#7201a8"
             ],
             [
              0.3333333333333333,
              "#9c179e"
             ],
             [
              0.4444444444444444,
              "#bd3786"
             ],
             [
              0.5555555555555556,
              "#d8576b"
             ],
             [
              0.6666666666666666,
              "#ed7953"
             ],
             [
              0.7777777777777778,
              "#fb9f3a"
             ],
             [
              0.8888888888888888,
              "#fdca26"
             ],
             [
              1,
              "#f0f921"
             ]
            ],
            "type": "contour"
           }
          ],
          "contourcarpet": [
           {
            "colorbar": {
             "outlinewidth": 0,
             "ticks": ""
            },
            "type": "contourcarpet"
           }
          ],
          "heatmap": [
           {
            "colorbar": {
             "outlinewidth": 0,
             "ticks": ""
            },
            "colorscale": [
             [
              0,
              "#0d0887"
             ],
             [
              0.1111111111111111,
              "#46039f"
             ],
             [
              0.2222222222222222,
              "#7201a8"
             ],
             [
              0.3333333333333333,
              "#9c179e"
             ],
             [
              0.4444444444444444,
              "#bd3786"
             ],
             [
              0.5555555555555556,
              "#d8576b"
             ],
             [
              0.6666666666666666,
              "#ed7953"
             ],
             [
              0.7777777777777778,
              "#fb9f3a"
             ],
             [
              0.8888888888888888,
              "#fdca26"
             ],
             [
              1,
              "#f0f921"
             ]
            ],
            "type": "heatmap"
           }
          ],
          "heatmapgl": [
           {
            "colorbar": {
             "outlinewidth": 0,
             "ticks": ""
            },
            "colorscale": [
             [
              0,
              "#0d0887"
             ],
             [
              0.1111111111111111,
              "#46039f"
             ],
             [
              0.2222222222222222,
              "#7201a8"
             ],
             [
              0.3333333333333333,
              "#9c179e"
             ],
             [
              0.4444444444444444,
              "#bd3786"
             ],
             [
              0.5555555555555556,
              "#d8576b"
             ],
             [
              0.6666666666666666,
              "#ed7953"
             ],
             [
              0.7777777777777778,
              "#fb9f3a"
             ],
             [
              0.8888888888888888,
              "#fdca26"
             ],
             [
              1,
              "#f0f921"
             ]
            ],
            "type": "heatmapgl"
           }
          ],
          "histogram": [
           {
            "marker": {
             "pattern": {
              "fillmode": "overlay",
              "size": 10,
              "solidity": 0.2
             }
            },
            "type": "histogram"
           }
          ],
          "histogram2d": [
           {
            "colorbar": {
             "outlinewidth": 0,
             "ticks": ""
            },
            "colorscale": [
             [
              0,
              "#0d0887"
             ],
             [
              0.1111111111111111,
              "#46039f"
             ],
             [
              0.2222222222222222,
              "#7201a8"
             ],
             [
              0.3333333333333333,
              "#9c179e"
             ],
             [
              0.4444444444444444,
              "#bd3786"
             ],
             [
              0.5555555555555556,
              "#d8576b"
             ],
             [
              0.6666666666666666,
              "#ed7953"
             ],
             [
              0.7777777777777778,
              "#fb9f3a"
             ],
             [
              0.8888888888888888,
              "#fdca26"
             ],
             [
              1,
              "#f0f921"
             ]
            ],
            "type": "histogram2d"
           }
          ],
          "histogram2dcontour": [
           {
            "colorbar": {
             "outlinewidth": 0,
             "ticks": ""
            },
            "colorscale": [
             [
              0,
              "#0d0887"
             ],
             [
              0.1111111111111111,
              "#46039f"
             ],
             [
              0.2222222222222222,
              "#7201a8"
             ],
             [
              0.3333333333333333,
              "#9c179e"
             ],
             [
              0.4444444444444444,
              "#bd3786"
             ],
             [
              0.5555555555555556,
              "#d8576b"
             ],
             [
              0.6666666666666666,
              "#ed7953"
             ],
             [
              0.7777777777777778,
              "#fb9f3a"
             ],
             [
              0.8888888888888888,
              "#fdca26"
             ],
             [
              1,
              "#f0f921"
             ]
            ],
            "type": "histogram2dcontour"
           }
          ],
          "mesh3d": [
           {
            "colorbar": {
             "outlinewidth": 0,
             "ticks": ""
            },
            "type": "mesh3d"
           }
          ],
          "parcoords": [
           {
            "line": {
             "colorbar": {
              "outlinewidth": 0,
              "ticks": ""
             }
            },
            "type": "parcoords"
           }
          ],
          "pie": [
           {
            "automargin": true,
            "type": "pie"
           }
          ],
          "scatter": [
           {
            "fillpattern": {
             "fillmode": "overlay",
             "size": 10,
             "solidity": 0.2
            },
            "type": "scatter"
           }
          ],
          "scatter3d": [
           {
            "line": {
             "colorbar": {
              "outlinewidth": 0,
              "ticks": ""
             }
            },
            "marker": {
             "colorbar": {
              "outlinewidth": 0,
              "ticks": ""
             }
            },
            "type": "scatter3d"
           }
          ],
          "scattercarpet": [
           {
            "marker": {
             "colorbar": {
              "outlinewidth": 0,
              "ticks": ""
             }
            },
            "type": "scattercarpet"
           }
          ],
          "scattergeo": [
           {
            "marker": {
             "colorbar": {
              "outlinewidth": 0,
              "ticks": ""
             }
            },
            "type": "scattergeo"
           }
          ],
          "scattergl": [
           {
            "marker": {
             "colorbar": {
              "outlinewidth": 0,
              "ticks": ""
             }
            },
            "type": "scattergl"
           }
          ],
          "scattermapbox": [
           {
            "marker": {
             "colorbar": {
              "outlinewidth": 0,
              "ticks": ""
             }
            },
            "type": "scattermapbox"
           }
          ],
          "scatterpolar": [
           {
            "marker": {
             "colorbar": {
              "outlinewidth": 0,
              "ticks": ""
             }
            },
            "type": "scatterpolar"
           }
          ],
          "scatterpolargl": [
           {
            "marker": {
             "colorbar": {
              "outlinewidth": 0,
              "ticks": ""
             }
            },
            "type": "scatterpolargl"
           }
          ],
          "scatterternary": [
           {
            "marker": {
             "colorbar": {
              "outlinewidth": 0,
              "ticks": ""
             }
            },
            "type": "scatterternary"
           }
          ],
          "surface": [
           {
            "colorbar": {
             "outlinewidth": 0,
             "ticks": ""
            },
            "colorscale": [
             [
              0,
              "#0d0887"
             ],
             [
              0.1111111111111111,
              "#46039f"
             ],
             [
              0.2222222222222222,
              "#7201a8"
             ],
             [
              0.3333333333333333,
              "#9c179e"
             ],
             [
              0.4444444444444444,
              "#bd3786"
             ],
             [
              0.5555555555555556,
              "#d8576b"
             ],
             [
              0.6666666666666666,
              "#ed7953"
             ],
             [
              0.7777777777777778,
              "#fb9f3a"
             ],
             [
              0.8888888888888888,
              "#fdca26"
             ],
             [
              1,
              "#f0f921"
             ]
            ],
            "type": "surface"
           }
          ],
          "table": [
           {
            "cells": {
             "fill": {
              "color": "#EBF0F8"
             },
             "line": {
              "color": "white"
             }
            },
            "header": {
             "fill": {
              "color": "#C8D4E3"
             },
             "line": {
              "color": "white"
             }
            },
            "type": "table"
           }
          ]
         },
         "layout": {
          "annotationdefaults": {
           "arrowcolor": "#2a3f5f",
           "arrowhead": 0,
           "arrowwidth": 1
          },
          "autotypenumbers": "strict",
          "coloraxis": {
           "colorbar": {
            "outlinewidth": 0,
            "ticks": ""
           }
          },
          "colorscale": {
           "diverging": [
            [
             0,
             "#8e0152"
            ],
            [
             0.1,
             "#c51b7d"
            ],
            [
             0.2,
             "#de77ae"
            ],
            [
             0.3,
             "#f1b6da"
            ],
            [
             0.4,
             "#fde0ef"
            ],
            [
             0.5,
             "#f7f7f7"
            ],
            [
             0.6,
             "#e6f5d0"
            ],
            [
             0.7,
             "#b8e186"
            ],
            [
             0.8,
             "#7fbc41"
            ],
            [
             0.9,
             "#4d9221"
            ],
            [
             1,
             "#276419"
            ]
           ],
           "sequential": [
            [
             0,
             "#0d0887"
            ],
            [
             0.1111111111111111,
             "#46039f"
            ],
            [
             0.2222222222222222,
             "#7201a8"
            ],
            [
             0.3333333333333333,
             "#9c179e"
            ],
            [
             0.4444444444444444,
             "#bd3786"
            ],
            [
             0.5555555555555556,
             "#d8576b"
            ],
            [
             0.6666666666666666,
             "#ed7953"
            ],
            [
             0.7777777777777778,
             "#fb9f3a"
            ],
            [
             0.8888888888888888,
             "#fdca26"
            ],
            [
             1,
             "#f0f921"
            ]
           ],
           "sequentialminus": [
            [
             0,
             "#0d0887"
            ],
            [
             0.1111111111111111,
             "#46039f"
            ],
            [
             0.2222222222222222,
             "#7201a8"
            ],
            [
             0.3333333333333333,
             "#9c179e"
            ],
            [
             0.4444444444444444,
             "#bd3786"
            ],
            [
             0.5555555555555556,
             "#d8576b"
            ],
            [
             0.6666666666666666,
             "#ed7953"
            ],
            [
             0.7777777777777778,
             "#fb9f3a"
            ],
            [
             0.8888888888888888,
             "#fdca26"
            ],
            [
             1,
             "#f0f921"
            ]
           ]
          },
          "colorway": [
           "#636efa",
           "#EF553B",
           "#00cc96",
           "#ab63fa",
           "#FFA15A",
           "#19d3f3",
           "#FF6692",
           "#B6E880",
           "#FF97FF",
           "#FECB52"
          ],
          "font": {
           "color": "#2a3f5f"
          },
          "geo": {
           "bgcolor": "white",
           "lakecolor": "white",
           "landcolor": "#E5ECF6",
           "showlakes": true,
           "showland": true,
           "subunitcolor": "white"
          },
          "hoverlabel": {
           "align": "left"
          },
          "hovermode": "closest",
          "mapbox": {
           "style": "light"
          },
          "paper_bgcolor": "white",
          "plot_bgcolor": "#E5ECF6",
          "polar": {
           "angularaxis": {
            "gridcolor": "white",
            "linecolor": "white",
            "ticks": ""
           },
           "bgcolor": "#E5ECF6",
           "radialaxis": {
            "gridcolor": "white",
            "linecolor": "white",
            "ticks": ""
           }
          },
          "scene": {
           "xaxis": {
            "backgroundcolor": "#E5ECF6",
            "gridcolor": "white",
            "gridwidth": 2,
            "linecolor": "white",
            "showbackground": true,
            "ticks": "",
            "zerolinecolor": "white"
           },
           "yaxis": {
            "backgroundcolor": "#E5ECF6",
            "gridcolor": "white",
            "gridwidth": 2,
            "linecolor": "white",
            "showbackground": true,
            "ticks": "",
            "zerolinecolor": "white"
           },
           "zaxis": {
            "backgroundcolor": "#E5ECF6",
            "gridcolor": "white",
            "gridwidth": 2,
            "linecolor": "white",
            "showbackground": true,
            "ticks": "",
            "zerolinecolor": "white"
           }
          },
          "shapedefaults": {
           "line": {
            "color": "#2a3f5f"
           }
          },
          "ternary": {
           "aaxis": {
            "gridcolor": "white",
            "linecolor": "white",
            "ticks": ""
           },
           "baxis": {
            "gridcolor": "white",
            "linecolor": "white",
            "ticks": ""
           },
           "bgcolor": "#E5ECF6",
           "caxis": {
            "gridcolor": "white",
            "linecolor": "white",
            "ticks": ""
           }
          },
          "title": {
           "x": 0.05
          },
          "xaxis": {
           "automargin": true,
           "gridcolor": "white",
           "linecolor": "white",
           "ticks": "",
           "title": {
            "standoff": 15
           },
           "zerolinecolor": "white",
           "zerolinewidth": 2
          },
          "yaxis": {
           "automargin": true,
           "gridcolor": "white",
           "linecolor": "white",
           "ticks": "",
           "title": {
            "standoff": 15
           },
           "zerolinecolor": "white",
           "zerolinewidth": 2
          }
         }
        },
        "title": {
         "text": "Optimization History Plot"
        },
        "xaxis": {
         "title": {
          "text": "Trial"
         }
        },
        "yaxis": {
         "title": {
          "text": "Objective Value"
         }
        }
       }
      }
     },
     "metadata": {},
     "output_type": "display_data"
    },
    {
     "data": {
      "application/vnd.plotly.v1+json": {
       "config": {
        "plotlyServerURL": "https://plot.ly"
       },
       "data": [
        {
         "cliponaxis": false,
         "hovertemplate": [
          "n_pca_components (IntDistribution): 0.03756637545500561<extra></extra>",
          "pca_kernel (CategoricalDistribution): 0.15132301670833362<extra></extra>",
          "n_neighbors (IntDistribution): 0.19259105973849872<extra></extra>",
          "weights (CategoricalDistribution): 0.20819592540906934<extra></extra>",
          "use_pca (CategoricalDistribution): 0.41032362268909267<extra></extra>"
         ],
         "name": "Objective Value",
         "orientation": "h",
         "text": [
          "0.04",
          "0.15",
          "0.19",
          "0.21",
          "0.41"
         ],
         "textposition": "outside",
         "type": "bar",
         "x": [
          0.03756637545500561,
          0.15132301670833362,
          0.19259105973849872,
          0.20819592540906934,
          0.41032362268909267
         ],
         "y": [
          "n_pca_components",
          "pca_kernel",
          "n_neighbors",
          "weights",
          "use_pca"
         ]
        }
       ],
       "layout": {
        "template": {
         "data": {
          "bar": [
           {
            "error_x": {
             "color": "#2a3f5f"
            },
            "error_y": {
             "color": "#2a3f5f"
            },
            "marker": {
             "line": {
              "color": "#E5ECF6",
              "width": 0.5
             },
             "pattern": {
              "fillmode": "overlay",
              "size": 10,
              "solidity": 0.2
             }
            },
            "type": "bar"
           }
          ],
          "barpolar": [
           {
            "marker": {
             "line": {
              "color": "#E5ECF6",
              "width": 0.5
             },
             "pattern": {
              "fillmode": "overlay",
              "size": 10,
              "solidity": 0.2
             }
            },
            "type": "barpolar"
           }
          ],
          "carpet": [
           {
            "aaxis": {
             "endlinecolor": "#2a3f5f",
             "gridcolor": "white",
             "linecolor": "white",
             "minorgridcolor": "white",
             "startlinecolor": "#2a3f5f"
            },
            "baxis": {
             "endlinecolor": "#2a3f5f",
             "gridcolor": "white",
             "linecolor": "white",
             "minorgridcolor": "white",
             "startlinecolor": "#2a3f5f"
            },
            "type": "carpet"
           }
          ],
          "choropleth": [
           {
            "colorbar": {
             "outlinewidth": 0,
             "ticks": ""
            },
            "type": "choropleth"
           }
          ],
          "contour": [
           {
            "colorbar": {
             "outlinewidth": 0,
             "ticks": ""
            },
            "colorscale": [
             [
              0,
              "#0d0887"
             ],
             [
              0.1111111111111111,
              "#46039f"
             ],
             [
              0.2222222222222222,
              "#7201a8"
             ],
             [
              0.3333333333333333,
              "#9c179e"
             ],
             [
              0.4444444444444444,
              "#bd3786"
             ],
             [
              0.5555555555555556,
              "#d8576b"
             ],
             [
              0.6666666666666666,
              "#ed7953"
             ],
             [
              0.7777777777777778,
              "#fb9f3a"
             ],
             [
              0.8888888888888888,
              "#fdca26"
             ],
             [
              1,
              "#f0f921"
             ]
            ],
            "type": "contour"
           }
          ],
          "contourcarpet": [
           {
            "colorbar": {
             "outlinewidth": 0,
             "ticks": ""
            },
            "type": "contourcarpet"
           }
          ],
          "heatmap": [
           {
            "colorbar": {
             "outlinewidth": 0,
             "ticks": ""
            },
            "colorscale": [
             [
              0,
              "#0d0887"
             ],
             [
              0.1111111111111111,
              "#46039f"
             ],
             [
              0.2222222222222222,
              "#7201a8"
             ],
             [
              0.3333333333333333,
              "#9c179e"
             ],
             [
              0.4444444444444444,
              "#bd3786"
             ],
             [
              0.5555555555555556,
              "#d8576b"
             ],
             [
              0.6666666666666666,
              "#ed7953"
             ],
             [
              0.7777777777777778,
              "#fb9f3a"
             ],
             [
              0.8888888888888888,
              "#fdca26"
             ],
             [
              1,
              "#f0f921"
             ]
            ],
            "type": "heatmap"
           }
          ],
          "heatmapgl": [
           {
            "colorbar": {
             "outlinewidth": 0,
             "ticks": ""
            },
            "colorscale": [
             [
              0,
              "#0d0887"
             ],
             [
              0.1111111111111111,
              "#46039f"
             ],
             [
              0.2222222222222222,
              "#7201a8"
             ],
             [
              0.3333333333333333,
              "#9c179e"
             ],
             [
              0.4444444444444444,
              "#bd3786"
             ],
             [
              0.5555555555555556,
              "#d8576b"
             ],
             [
              0.6666666666666666,
              "#ed7953"
             ],
             [
              0.7777777777777778,
              "#fb9f3a"
             ],
             [
              0.8888888888888888,
              "#fdca26"
             ],
             [
              1,
              "#f0f921"
             ]
            ],
            "type": "heatmapgl"
           }
          ],
          "histogram": [
           {
            "marker": {
             "pattern": {
              "fillmode": "overlay",
              "size": 10,
              "solidity": 0.2
             }
            },
            "type": "histogram"
           }
          ],
          "histogram2d": [
           {
            "colorbar": {
             "outlinewidth": 0,
             "ticks": ""
            },
            "colorscale": [
             [
              0,
              "#0d0887"
             ],
             [
              0.1111111111111111,
              "#46039f"
             ],
             [
              0.2222222222222222,
              "#7201a8"
             ],
             [
              0.3333333333333333,
              "#9c179e"
             ],
             [
              0.4444444444444444,
              "#bd3786"
             ],
             [
              0.5555555555555556,
              "#d8576b"
             ],
             [
              0.6666666666666666,
              "#ed7953"
             ],
             [
              0.7777777777777778,
              "#fb9f3a"
             ],
             [
              0.8888888888888888,
              "#fdca26"
             ],
             [
              1,
              "#f0f921"
             ]
            ],
            "type": "histogram2d"
           }
          ],
          "histogram2dcontour": [
           {
            "colorbar": {
             "outlinewidth": 0,
             "ticks": ""
            },
            "colorscale": [
             [
              0,
              "#0d0887"
             ],
             [
              0.1111111111111111,
              "#46039f"
             ],
             [
              0.2222222222222222,
              "#7201a8"
             ],
             [
              0.3333333333333333,
              "#9c179e"
             ],
             [
              0.4444444444444444,
              "#bd3786"
             ],
             [
              0.5555555555555556,
              "#d8576b"
             ],
             [
              0.6666666666666666,
              "#ed7953"
             ],
             [
              0.7777777777777778,
              "#fb9f3a"
             ],
             [
              0.8888888888888888,
              "#fdca26"
             ],
             [
              1,
              "#f0f921"
             ]
            ],
            "type": "histogram2dcontour"
           }
          ],
          "mesh3d": [
           {
            "colorbar": {
             "outlinewidth": 0,
             "ticks": ""
            },
            "type": "mesh3d"
           }
          ],
          "parcoords": [
           {
            "line": {
             "colorbar": {
              "outlinewidth": 0,
              "ticks": ""
             }
            },
            "type": "parcoords"
           }
          ],
          "pie": [
           {
            "automargin": true,
            "type": "pie"
           }
          ],
          "scatter": [
           {
            "fillpattern": {
             "fillmode": "overlay",
             "size": 10,
             "solidity": 0.2
            },
            "type": "scatter"
           }
          ],
          "scatter3d": [
           {
            "line": {
             "colorbar": {
              "outlinewidth": 0,
              "ticks": ""
             }
            },
            "marker": {
             "colorbar": {
              "outlinewidth": 0,
              "ticks": ""
             }
            },
            "type": "scatter3d"
           }
          ],
          "scattercarpet": [
           {
            "marker": {
             "colorbar": {
              "outlinewidth": 0,
              "ticks": ""
             }
            },
            "type": "scattercarpet"
           }
          ],
          "scattergeo": [
           {
            "marker": {
             "colorbar": {
              "outlinewidth": 0,
              "ticks": ""
             }
            },
            "type": "scattergeo"
           }
          ],
          "scattergl": [
           {
            "marker": {
             "colorbar": {
              "outlinewidth": 0,
              "ticks": ""
             }
            },
            "type": "scattergl"
           }
          ],
          "scattermapbox": [
           {
            "marker": {
             "colorbar": {
              "outlinewidth": 0,
              "ticks": ""
             }
            },
            "type": "scattermapbox"
           }
          ],
          "scatterpolar": [
           {
            "marker": {
             "colorbar": {
              "outlinewidth": 0,
              "ticks": ""
             }
            },
            "type": "scatterpolar"
           }
          ],
          "scatterpolargl": [
           {
            "marker": {
             "colorbar": {
              "outlinewidth": 0,
              "ticks": ""
             }
            },
            "type": "scatterpolargl"
           }
          ],
          "scatterternary": [
           {
            "marker": {
             "colorbar": {
              "outlinewidth": 0,
              "ticks": ""
             }
            },
            "type": "scatterternary"
           }
          ],
          "surface": [
           {
            "colorbar": {
             "outlinewidth": 0,
             "ticks": ""
            },
            "colorscale": [
             [
              0,
              "#0d0887"
             ],
             [
              0.1111111111111111,
              "#46039f"
             ],
             [
              0.2222222222222222,
              "#7201a8"
             ],
             [
              0.3333333333333333,
              "#9c179e"
             ],
             [
              0.4444444444444444,
              "#bd3786"
             ],
             [
              0.5555555555555556,
              "#d8576b"
             ],
             [
              0.6666666666666666,
              "#ed7953"
             ],
             [
              0.7777777777777778,
              "#fb9f3a"
             ],
             [
              0.8888888888888888,
              "#fdca26"
             ],
             [
              1,
              "#f0f921"
             ]
            ],
            "type": "surface"
           }
          ],
          "table": [
           {
            "cells": {
             "fill": {
              "color": "#EBF0F8"
             },
             "line": {
              "color": "white"
             }
            },
            "header": {
             "fill": {
              "color": "#C8D4E3"
             },
             "line": {
              "color": "white"
             }
            },
            "type": "table"
           }
          ]
         },
         "layout": {
          "annotationdefaults": {
           "arrowcolor": "#2a3f5f",
           "arrowhead": 0,
           "arrowwidth": 1
          },
          "autotypenumbers": "strict",
          "coloraxis": {
           "colorbar": {
            "outlinewidth": 0,
            "ticks": ""
           }
          },
          "colorscale": {
           "diverging": [
            [
             0,
             "#8e0152"
            ],
            [
             0.1,
             "#c51b7d"
            ],
            [
             0.2,
             "#de77ae"
            ],
            [
             0.3,
             "#f1b6da"
            ],
            [
             0.4,
             "#fde0ef"
            ],
            [
             0.5,
             "#f7f7f7"
            ],
            [
             0.6,
             "#e6f5d0"
            ],
            [
             0.7,
             "#b8e186"
            ],
            [
             0.8,
             "#7fbc41"
            ],
            [
             0.9,
             "#4d9221"
            ],
            [
             1,
             "#276419"
            ]
           ],
           "sequential": [
            [
             0,
             "#0d0887"
            ],
            [
             0.1111111111111111,
             "#46039f"
            ],
            [
             0.2222222222222222,
             "#7201a8"
            ],
            [
             0.3333333333333333,
             "#9c179e"
            ],
            [
             0.4444444444444444,
             "#bd3786"
            ],
            [
             0.5555555555555556,
             "#d8576b"
            ],
            [
             0.6666666666666666,
             "#ed7953"
            ],
            [
             0.7777777777777778,
             "#fb9f3a"
            ],
            [
             0.8888888888888888,
             "#fdca26"
            ],
            [
             1,
             "#f0f921"
            ]
           ],
           "sequentialminus": [
            [
             0,
             "#0d0887"
            ],
            [
             0.1111111111111111,
             "#46039f"
            ],
            [
             0.2222222222222222,
             "#7201a8"
            ],
            [
             0.3333333333333333,
             "#9c179e"
            ],
            [
             0.4444444444444444,
             "#bd3786"
            ],
            [
             0.5555555555555556,
             "#d8576b"
            ],
            [
             0.6666666666666666,
             "#ed7953"
            ],
            [
             0.7777777777777778,
             "#fb9f3a"
            ],
            [
             0.8888888888888888,
             "#fdca26"
            ],
            [
             1,
             "#f0f921"
            ]
           ]
          },
          "colorway": [
           "#636efa",
           "#EF553B",
           "#00cc96",
           "#ab63fa",
           "#FFA15A",
           "#19d3f3",
           "#FF6692",
           "#B6E880",
           "#FF97FF",
           "#FECB52"
          ],
          "font": {
           "color": "#2a3f5f"
          },
          "geo": {
           "bgcolor": "white",
           "lakecolor": "white",
           "landcolor": "#E5ECF6",
           "showlakes": true,
           "showland": true,
           "subunitcolor": "white"
          },
          "hoverlabel": {
           "align": "left"
          },
          "hovermode": "closest",
          "mapbox": {
           "style": "light"
          },
          "paper_bgcolor": "white",
          "plot_bgcolor": "#E5ECF6",
          "polar": {
           "angularaxis": {
            "gridcolor": "white",
            "linecolor": "white",
            "ticks": ""
           },
           "bgcolor": "#E5ECF6",
           "radialaxis": {
            "gridcolor": "white",
            "linecolor": "white",
            "ticks": ""
           }
          },
          "scene": {
           "xaxis": {
            "backgroundcolor": "#E5ECF6",
            "gridcolor": "white",
            "gridwidth": 2,
            "linecolor": "white",
            "showbackground": true,
            "ticks": "",
            "zerolinecolor": "white"
           },
           "yaxis": {
            "backgroundcolor": "#E5ECF6",
            "gridcolor": "white",
            "gridwidth": 2,
            "linecolor": "white",
            "showbackground": true,
            "ticks": "",
            "zerolinecolor": "white"
           },
           "zaxis": {
            "backgroundcolor": "#E5ECF6",
            "gridcolor": "white",
            "gridwidth": 2,
            "linecolor": "white",
            "showbackground": true,
            "ticks": "",
            "zerolinecolor": "white"
           }
          },
          "shapedefaults": {
           "line": {
            "color": "#2a3f5f"
           }
          },
          "ternary": {
           "aaxis": {
            "gridcolor": "white",
            "linecolor": "white",
            "ticks": ""
           },
           "baxis": {
            "gridcolor": "white",
            "linecolor": "white",
            "ticks": ""
           },
           "bgcolor": "#E5ECF6",
           "caxis": {
            "gridcolor": "white",
            "linecolor": "white",
            "ticks": ""
           }
          },
          "title": {
           "x": 0.05
          },
          "xaxis": {
           "automargin": true,
           "gridcolor": "white",
           "linecolor": "white",
           "ticks": "",
           "title": {
            "standoff": 15
           },
           "zerolinecolor": "white",
           "zerolinewidth": 2
          },
          "yaxis": {
           "automargin": true,
           "gridcolor": "white",
           "linecolor": "white",
           "ticks": "",
           "title": {
            "standoff": 15
           },
           "zerolinecolor": "white",
           "zerolinewidth": 2
          }
         }
        },
        "title": {
         "text": "Hyperparameter Importances"
        },
        "xaxis": {
         "title": {
          "text": "Hyperparameter Importance"
         }
        },
        "yaxis": {
         "title": {
          "text": "Hyperparameter"
         }
        }
       }
      }
     },
     "metadata": {},
     "output_type": "display_data"
    },
    {
     "data": {
      "application/vnd.plotly.v1+json": {
       "config": {
        "plotlyServerURL": "https://plot.ly"
       },
       "data": [
        {
         "marker": {
          "color": [
           0,
           1,
           2,
           3,
           4,
           5,
           6,
           9,
           10,
           11,
           12,
           13,
           14,
           15,
           16,
           17,
           18,
           19,
           20,
           21,
           22,
           23,
           24,
           25,
           26,
           27,
           31,
           32,
           33,
           35,
           36,
           41,
           42,
           43,
           44,
           45,
           48,
           49,
           51,
           52,
           53,
           54,
           60,
           61,
           62,
           63,
           65,
           71,
           72,
           73,
           75,
           77,
           79,
           81,
           82,
           84,
           86,
           87,
           89,
           91,
           92,
           93,
           96,
           99
          ],
          "colorbar": {
           "title": {
            "text": "Trial"
           },
           "x": 1,
           "xpad": 40
          },
          "colorscale": [
           [
            0,
            "rgb(247,251,255)"
           ],
           [
            0.125,
            "rgb(222,235,247)"
           ],
           [
            0.25,
            "rgb(198,219,239)"
           ],
           [
            0.375,
            "rgb(158,202,225)"
           ],
           [
            0.5,
            "rgb(107,174,214)"
           ],
           [
            0.625,
            "rgb(66,146,198)"
           ],
           [
            0.75,
            "rgb(33,113,181)"
           ],
           [
            0.875,
            "rgb(8,81,156)"
           ],
           [
            1,
            "rgb(8,48,107)"
           ]
          ],
          "line": {
           "color": "Grey",
           "width": 0.5
          },
          "showscale": true
         },
         "mode": "markers",
         "name": "Feasible Trial",
         "showlegend": false,
         "type": "scatter",
         "x": [
          17,
          9,
          38,
          10,
          40,
          23,
          20,
          24,
          6,
          5,
          8,
          5,
          33,
          15,
          14,
          47,
          31,
          5,
          12,
          5,
          5,
          18,
          12,
          9,
          5,
          12,
          5,
          9,
          8,
          11,
          10,
          5,
          5,
          8,
          10,
          7,
          10,
          7,
          5,
          7,
          9,
          5,
          6,
          6,
          5,
          9,
          7,
          5,
          6,
          8,
          5,
          7,
          8,
          5,
          5,
          7,
          6,
          8,
          6,
          7,
          5,
          6,
          5,
          6
         ],
         "xaxis": "x",
         "y": [
          0.5069444444444444,
          0.5215277777777778,
          0.48194444444444445,
          0.7402777777777778,
          0.284375,
          0.5253472222222222,
          0.5222222222222223,
          0.5357638888888889,
          0.9486111111111111,
          0.9506944444444444,
          0.9399305555555556,
          0.9506944444444444,
          0.7548611111111111,
          0.8722222222222222,
          0.8836805555555556,
          0.7753472222222222,
          0.7576388888888889,
          0.9506944444444444,
          0.9041666666666667,
          0.9506944444444444,
          0.9506944444444444,
          0.828125,
          0.9041666666666667,
          0.9305555555555556,
          0.9506944444444444,
          0.9041666666666667,
          0.9506944444444444,
          0.9305555555555556,
          0.9399305555555556,
          0.9149305555555556,
          0.9222222222222223,
          0.9506944444444444,
          0.9506944444444444,
          0.9399305555555556,
          0.9222222222222223,
          0.9475694444444445,
          0.9222222222222223,
          0.9475694444444445,
          0.9506944444444444,
          0.9475694444444445,
          0.9305555555555556,
          0.9506944444444444,
          0.9486111111111111,
          0.9486111111111111,
          0.9506944444444444,
          0.9305555555555556,
          0.9475694444444445,
          0.9506944444444444,
          0.9486111111111111,
          0.9399305555555556,
          0.9506944444444444,
          0.9475694444444445,
          0.9399305555555556,
          0.9506944444444444,
          0.9506944444444444,
          0.9475694444444445,
          0.9486111111111111,
          0.9399305555555556,
          0.9486111111111111,
          0.9475694444444445,
          0.9506944444444444,
          0.9486111111111111,
          0.9506944444444444,
          0.9486111111111111
         ],
         "yaxis": "y"
        },
        {
         "marker": {
          "color": [
           0,
           1,
           2,
           3,
           4,
           5,
           6,
           9,
           10,
           11,
           12,
           13,
           14,
           15,
           16,
           17,
           18,
           19,
           20,
           21,
           22,
           23,
           24,
           25,
           26,
           27,
           31,
           32,
           33,
           35,
           36,
           41,
           42,
           43,
           44,
           45,
           48,
           49,
           51,
           52,
           53,
           54,
           60,
           61,
           62,
           63,
           65,
           71,
           72,
           73,
           75,
           77,
           79,
           81,
           82,
           84,
           86,
           87,
           89,
           91,
           92,
           93,
           96,
           99
          ],
          "colorbar": {
           "title": {
            "text": "Trial"
           },
           "x": 1,
           "xpad": 40
          },
          "colorscale": [
           [
            0,
            "rgb(247,251,255)"
           ],
           [
            0.125,
            "rgb(222,235,247)"
           ],
           [
            0.25,
            "rgb(198,219,239)"
           ],
           [
            0.375,
            "rgb(158,202,225)"
           ],
           [
            0.5,
            "rgb(107,174,214)"
           ],
           [
            0.625,
            "rgb(66,146,198)"
           ],
           [
            0.75,
            "rgb(33,113,181)"
           ],
           [
            0.875,
            "rgb(8,81,156)"
           ],
           [
            1,
            "rgb(8,48,107)"
           ]
          ],
          "line": {
           "color": "Grey",
           "width": 0.5
          },
          "showscale": false
         },
         "mode": "markers",
         "name": "Feasible Trial",
         "showlegend": false,
         "type": "scatter",
         "x": [
          2,
          5,
          9,
          7,
          2,
          5,
          4,
          5,
          7,
          7,
          7,
          7,
          9,
          7,
          6,
          3,
          8,
          6,
          8,
          6,
          6,
          4,
          6,
          8,
          7,
          4,
          6,
          6,
          7,
          8,
          7,
          6,
          7,
          5,
          6,
          7,
          7,
          7,
          7,
          7,
          8,
          6,
          8,
          6,
          6,
          7,
          7,
          6,
          7,
          5,
          6,
          8,
          5,
          7,
          7,
          7,
          6,
          7,
          5,
          7,
          7,
          8,
          7,
          8
         ],
         "xaxis": "x2",
         "y": [
          0.5069444444444444,
          0.5215277777777778,
          0.48194444444444445,
          0.7402777777777778,
          0.284375,
          0.5253472222222222,
          0.5222222222222223,
          0.5357638888888889,
          0.9486111111111111,
          0.9506944444444444,
          0.9399305555555556,
          0.9506944444444444,
          0.7548611111111111,
          0.8722222222222222,
          0.8836805555555556,
          0.7753472222222222,
          0.7576388888888889,
          0.9506944444444444,
          0.9041666666666667,
          0.9506944444444444,
          0.9506944444444444,
          0.828125,
          0.9041666666666667,
          0.9305555555555556,
          0.9506944444444444,
          0.9041666666666667,
          0.9506944444444444,
          0.9305555555555556,
          0.9399305555555556,
          0.9149305555555556,
          0.9222222222222223,
          0.9506944444444444,
          0.9506944444444444,
          0.9399305555555556,
          0.9222222222222223,
          0.9475694444444445,
          0.9222222222222223,
          0.9475694444444445,
          0.9506944444444444,
          0.9475694444444445,
          0.9305555555555556,
          0.9506944444444444,
          0.9486111111111111,
          0.9486111111111111,
          0.9506944444444444,
          0.9305555555555556,
          0.9475694444444445,
          0.9506944444444444,
          0.9486111111111111,
          0.9399305555555556,
          0.9506944444444444,
          0.9475694444444445,
          0.9399305555555556,
          0.9506944444444444,
          0.9506944444444444,
          0.9475694444444445,
          0.9486111111111111,
          0.9399305555555556,
          0.9486111111111111,
          0.9475694444444445,
          0.9506944444444444,
          0.9486111111111111,
          0.9506944444444444,
          0.9486111111111111
         ],
         "yaxis": "y2"
        },
        {
         "marker": {
          "color": [
           0,
           1,
           2,
           3,
           4,
           5,
           6,
           9,
           10,
           11,
           12,
           13,
           14,
           15,
           16,
           17,
           18,
           19,
           20,
           21,
           22,
           23,
           24,
           25,
           26,
           27,
           31,
           32,
           33,
           35,
           36,
           41,
           42,
           43,
           44,
           45,
           48,
           49,
           51,
           52,
           53,
           54,
           60,
           61,
           62,
           63,
           65,
           71,
           72,
           73,
           75,
           77,
           79,
           81,
           82,
           84,
           86,
           87,
           89,
           91,
           92,
           93,
           96,
           99
          ],
          "colorbar": {
           "title": {
            "text": "Trial"
           },
           "x": 1,
           "xpad": 40
          },
          "colorscale": [
           [
            0,
            "rgb(247,251,255)"
           ],
           [
            0.125,
            "rgb(222,235,247)"
           ],
           [
            0.25,
            "rgb(198,219,239)"
           ],
           [
            0.375,
            "rgb(158,202,225)"
           ],
           [
            0.5,
            "rgb(107,174,214)"
           ],
           [
            0.625,
            "rgb(66,146,198)"
           ],
           [
            0.75,
            "rgb(33,113,181)"
           ],
           [
            0.875,
            "rgb(8,81,156)"
           ],
           [
            1,
            "rgb(8,48,107)"
           ]
          ],
          "line": {
           "color": "Grey",
           "width": 0.5
          },
          "showscale": false
         },
         "mode": "markers",
         "name": "Feasible Trial",
         "showlegend": false,
         "type": "scatter",
         "x": [
          "sigmoid",
          "cosine",
          "sigmoid",
          "poly",
          "poly",
          "cosine",
          "poly",
          "rbf",
          "linear",
          "linear",
          "linear",
          "linear",
          "linear",
          "linear",
          "linear",
          "linear",
          "linear",
          "linear",
          "sigmoid",
          "linear",
          "linear",
          "linear",
          "linear",
          "cosine",
          "rbf",
          "linear",
          "linear",
          "linear",
          "linear",
          "sigmoid",
          "linear",
          "linear",
          "linear",
          "linear",
          "poly",
          "linear",
          "linear",
          "sigmoid",
          "rbf",
          "rbf",
          "rbf",
          "rbf",
          "linear",
          "linear",
          "linear",
          "linear",
          "linear",
          "linear",
          "linear",
          "linear",
          "poly",
          "linear",
          "linear",
          "linear",
          "linear",
          "linear",
          "rbf",
          "linear",
          "poly",
          "rbf",
          "rbf",
          "rbf",
          "linear",
          "rbf"
         ],
         "xaxis": "x3",
         "y": [
          0.5069444444444444,
          0.5215277777777778,
          0.48194444444444445,
          0.7402777777777778,
          0.284375,
          0.5253472222222222,
          0.5222222222222223,
          0.5357638888888889,
          0.9486111111111111,
          0.9506944444444444,
          0.9399305555555556,
          0.9506944444444444,
          0.7548611111111111,
          0.8722222222222222,
          0.8836805555555556,
          0.7753472222222222,
          0.7576388888888889,
          0.9506944444444444,
          0.9041666666666667,
          0.9506944444444444,
          0.9506944444444444,
          0.828125,
          0.9041666666666667,
          0.9305555555555556,
          0.9506944444444444,
          0.9041666666666667,
          0.9506944444444444,
          0.9305555555555556,
          0.9399305555555556,
          0.9149305555555556,
          0.9222222222222223,
          0.9506944444444444,
          0.9506944444444444,
          0.9399305555555556,
          0.9222222222222223,
          0.9475694444444445,
          0.9222222222222223,
          0.9475694444444445,
          0.9506944444444444,
          0.9475694444444445,
          0.9305555555555556,
          0.9506944444444444,
          0.9486111111111111,
          0.9486111111111111,
          0.9506944444444444,
          0.9305555555555556,
          0.9475694444444445,
          0.9506944444444444,
          0.9486111111111111,
          0.9399305555555556,
          0.9506944444444444,
          0.9475694444444445,
          0.9399305555555556,
          0.9506944444444444,
          0.9506944444444444,
          0.9475694444444445,
          0.9486111111111111,
          0.9399305555555556,
          0.9486111111111111,
          0.9475694444444445,
          0.9506944444444444,
          0.9486111111111111,
          0.9506944444444444,
          0.9486111111111111
         ],
         "yaxis": "y3"
        },
        {
         "marker": {
          "color": [
           0,
           1,
           2,
           3,
           4,
           5,
           6,
           9,
           10,
           11,
           12,
           13,
           14,
           15,
           16,
           17,
           18,
           19,
           20,
           21,
           22,
           23,
           24,
           25,
           26,
           27,
           31,
           32,
           33,
           35,
           36,
           41,
           42,
           43,
           44,
           45,
           48,
           49,
           51,
           52,
           53,
           54,
           60,
           61,
           62,
           63,
           65,
           71,
           72,
           73,
           75,
           77,
           79,
           81,
           82,
           84,
           86,
           87,
           89,
           91,
           92,
           93,
           96,
           99
          ],
          "colorbar": {
           "title": {
            "text": "Trial"
           },
           "x": 1,
           "xpad": 40
          },
          "colorscale": [
           [
            0,
            "rgb(247,251,255)"
           ],
           [
            0.125,
            "rgb(222,235,247)"
           ],
           [
            0.25,
            "rgb(198,219,239)"
           ],
           [
            0.375,
            "rgb(158,202,225)"
           ],
           [
            0.5,
            "rgb(107,174,214)"
           ],
           [
            0.625,
            "rgb(66,146,198)"
           ],
           [
            0.75,
            "rgb(33,113,181)"
           ],
           [
            0.875,
            "rgb(8,81,156)"
           ],
           [
            1,
            "rgb(8,48,107)"
           ]
          ],
          "line": {
           "color": "Grey",
           "width": 0.5
          },
          "showscale": false
         },
         "mode": "markers",
         "name": "Feasible Trial",
         "showlegend": false,
         "type": "scatter",
         "x": [
          "True",
          "True",
          "True",
          "False",
          "False",
          "True",
          "True",
          "True",
          "False",
          "False",
          "False",
          "False",
          "False",
          "False",
          "False",
          "False",
          "False",
          "False",
          "False",
          "False",
          "False",
          "False",
          "False",
          "False",
          "False",
          "False",
          "False",
          "False",
          "False",
          "False",
          "False",
          "False",
          "False",
          "False",
          "False",
          "False",
          "False",
          "False",
          "False",
          "False",
          "False",
          "False",
          "False",
          "False",
          "False",
          "False",
          "False",
          "False",
          "False",
          "False",
          "False",
          "False",
          "False",
          "False",
          "False",
          "False",
          "False",
          "False",
          "False",
          "False",
          "False",
          "False",
          "False",
          "False"
         ],
         "xaxis": "x4",
         "y": [
          0.5069444444444444,
          0.5215277777777778,
          0.48194444444444445,
          0.7402777777777778,
          0.284375,
          0.5253472222222222,
          0.5222222222222223,
          0.5357638888888889,
          0.9486111111111111,
          0.9506944444444444,
          0.9399305555555556,
          0.9506944444444444,
          0.7548611111111111,
          0.8722222222222222,
          0.8836805555555556,
          0.7753472222222222,
          0.7576388888888889,
          0.9506944444444444,
          0.9041666666666667,
          0.9506944444444444,
          0.9506944444444444,
          0.828125,
          0.9041666666666667,
          0.9305555555555556,
          0.9506944444444444,
          0.9041666666666667,
          0.9506944444444444,
          0.9305555555555556,
          0.9399305555555556,
          0.9149305555555556,
          0.9222222222222223,
          0.9506944444444444,
          0.9506944444444444,
          0.9399305555555556,
          0.9222222222222223,
          0.9475694444444445,
          0.9222222222222223,
          0.9475694444444445,
          0.9506944444444444,
          0.9475694444444445,
          0.9305555555555556,
          0.9506944444444444,
          0.9486111111111111,
          0.9486111111111111,
          0.9506944444444444,
          0.9305555555555556,
          0.9475694444444445,
          0.9506944444444444,
          0.9486111111111111,
          0.9399305555555556,
          0.9506944444444444,
          0.9475694444444445,
          0.9399305555555556,
          0.9506944444444444,
          0.9506944444444444,
          0.9475694444444445,
          0.9486111111111111,
          0.9399305555555556,
          0.9486111111111111,
          0.9475694444444445,
          0.9506944444444444,
          0.9486111111111111,
          0.9506944444444444,
          0.9486111111111111
         ],
         "yaxis": "y4"
        },
        {
         "marker": {
          "color": [
           0,
           1,
           2,
           3,
           4,
           5,
           6,
           9,
           10,
           11,
           12,
           13,
           14,
           15,
           16,
           17,
           18,
           19,
           20,
           21,
           22,
           23,
           24,
           25,
           26,
           27,
           31,
           32,
           33,
           35,
           36,
           41,
           42,
           43,
           44,
           45,
           48,
           49,
           51,
           52,
           53,
           54,
           60,
           61,
           62,
           63,
           65,
           71,
           72,
           73,
           75,
           77,
           79,
           81,
           82,
           84,
           86,
           87,
           89,
           91,
           92,
           93,
           96,
           99
          ],
          "colorbar": {
           "title": {
            "text": "Trial"
           },
           "x": 1,
           "xpad": 40
          },
          "colorscale": [
           [
            0,
            "rgb(247,251,255)"
           ],
           [
            0.125,
            "rgb(222,235,247)"
           ],
           [
            0.25,
            "rgb(198,219,239)"
           ],
           [
            0.375,
            "rgb(158,202,225)"
           ],
           [
            0.5,
            "rgb(107,174,214)"
           ],
           [
            0.625,
            "rgb(66,146,198)"
           ],
           [
            0.75,
            "rgb(33,113,181)"
           ],
           [
            0.875,
            "rgb(8,81,156)"
           ],
           [
            1,
            "rgb(8,48,107)"
           ]
          ],
          "line": {
           "color": "Grey",
           "width": 0.5
          },
          "showscale": false
         },
         "mode": "markers",
         "name": "Feasible Trial",
         "showlegend": false,
         "type": "scatter",
         "x": [
          "distance",
          "uniform",
          "uniform",
          "uniform",
          "uniform",
          "uniform",
          "uniform",
          "distance",
          "distance",
          "distance",
          "distance",
          "distance",
          "distance",
          "distance",
          "distance",
          "distance",
          "distance",
          "distance",
          "distance",
          "distance",
          "distance",
          "distance",
          "distance",
          "distance",
          "distance",
          "distance",
          "distance",
          "distance",
          "distance",
          "distance",
          "distance",
          "distance",
          "distance",
          "distance",
          "distance",
          "distance",
          "distance",
          "distance",
          "distance",
          "distance",
          "distance",
          "distance",
          "distance",
          "distance",
          "distance",
          "distance",
          "distance",
          "distance",
          "distance",
          "distance",
          "distance",
          "distance",
          "distance",
          "distance",
          "distance",
          "distance",
          "distance",
          "distance",
          "distance",
          "distance",
          "distance",
          "distance",
          "distance",
          "distance"
         ],
         "xaxis": "x5",
         "y": [
          0.5069444444444444,
          0.5215277777777778,
          0.48194444444444445,
          0.7402777777777778,
          0.284375,
          0.5253472222222222,
          0.5222222222222223,
          0.5357638888888889,
          0.9486111111111111,
          0.9506944444444444,
          0.9399305555555556,
          0.9506944444444444,
          0.7548611111111111,
          0.8722222222222222,
          0.8836805555555556,
          0.7753472222222222,
          0.7576388888888889,
          0.9506944444444444,
          0.9041666666666667,
          0.9506944444444444,
          0.9506944444444444,
          0.828125,
          0.9041666666666667,
          0.9305555555555556,
          0.9506944444444444,
          0.9041666666666667,
          0.9506944444444444,
          0.9305555555555556,
          0.9399305555555556,
          0.9149305555555556,
          0.9222222222222223,
          0.9506944444444444,
          0.9506944444444444,
          0.9399305555555556,
          0.9222222222222223,
          0.9475694444444445,
          0.9222222222222223,
          0.9475694444444445,
          0.9506944444444444,
          0.9475694444444445,
          0.9305555555555556,
          0.9506944444444444,
          0.9486111111111111,
          0.9486111111111111,
          0.9506944444444444,
          0.9305555555555556,
          0.9475694444444445,
          0.9506944444444444,
          0.9486111111111111,
          0.9399305555555556,
          0.9506944444444444,
          0.9475694444444445,
          0.9399305555555556,
          0.9506944444444444,
          0.9506944444444444,
          0.9475694444444445,
          0.9486111111111111,
          0.9399305555555556,
          0.9486111111111111,
          0.9475694444444445,
          0.9506944444444444,
          0.9486111111111111,
          0.9506944444444444,
          0.9486111111111111
         ],
         "yaxis": "y5"
        }
       ],
       "layout": {
        "template": {
         "data": {
          "bar": [
           {
            "error_x": {
             "color": "#2a3f5f"
            },
            "error_y": {
             "color": "#2a3f5f"
            },
            "marker": {
             "line": {
              "color": "#E5ECF6",
              "width": 0.5
             },
             "pattern": {
              "fillmode": "overlay",
              "size": 10,
              "solidity": 0.2
             }
            },
            "type": "bar"
           }
          ],
          "barpolar": [
           {
            "marker": {
             "line": {
              "color": "#E5ECF6",
              "width": 0.5
             },
             "pattern": {
              "fillmode": "overlay",
              "size": 10,
              "solidity": 0.2
             }
            },
            "type": "barpolar"
           }
          ],
          "carpet": [
           {
            "aaxis": {
             "endlinecolor": "#2a3f5f",
             "gridcolor": "white",
             "linecolor": "white",
             "minorgridcolor": "white",
             "startlinecolor": "#2a3f5f"
            },
            "baxis": {
             "endlinecolor": "#2a3f5f",
             "gridcolor": "white",
             "linecolor": "white",
             "minorgridcolor": "white",
             "startlinecolor": "#2a3f5f"
            },
            "type": "carpet"
           }
          ],
          "choropleth": [
           {
            "colorbar": {
             "outlinewidth": 0,
             "ticks": ""
            },
            "type": "choropleth"
           }
          ],
          "contour": [
           {
            "colorbar": {
             "outlinewidth": 0,
             "ticks": ""
            },
            "colorscale": [
             [
              0,
              "#0d0887"
             ],
             [
              0.1111111111111111,
              "#46039f"
             ],
             [
              0.2222222222222222,
              "#7201a8"
             ],
             [
              0.3333333333333333,
              "#9c179e"
             ],
             [
              0.4444444444444444,
              "#bd3786"
             ],
             [
              0.5555555555555556,
              "#d8576b"
             ],
             [
              0.6666666666666666,
              "#ed7953"
             ],
             [
              0.7777777777777778,
              "#fb9f3a"
             ],
             [
              0.8888888888888888,
              "#fdca26"
             ],
             [
              1,
              "#f0f921"
             ]
            ],
            "type": "contour"
           }
          ],
          "contourcarpet": [
           {
            "colorbar": {
             "outlinewidth": 0,
             "ticks": ""
            },
            "type": "contourcarpet"
           }
          ],
          "heatmap": [
           {
            "colorbar": {
             "outlinewidth": 0,
             "ticks": ""
            },
            "colorscale": [
             [
              0,
              "#0d0887"
             ],
             [
              0.1111111111111111,
              "#46039f"
             ],
             [
              0.2222222222222222,
              "#7201a8"
             ],
             [
              0.3333333333333333,
              "#9c179e"
             ],
             [
              0.4444444444444444,
              "#bd3786"
             ],
             [
              0.5555555555555556,
              "#d8576b"
             ],
             [
              0.6666666666666666,
              "#ed7953"
             ],
             [
              0.7777777777777778,
              "#fb9f3a"
             ],
             [
              0.8888888888888888,
              "#fdca26"
             ],
             [
              1,
              "#f0f921"
             ]
            ],
            "type": "heatmap"
           }
          ],
          "heatmapgl": [
           {
            "colorbar": {
             "outlinewidth": 0,
             "ticks": ""
            },
            "colorscale": [
             [
              0,
              "#0d0887"
             ],
             [
              0.1111111111111111,
              "#46039f"
             ],
             [
              0.2222222222222222,
              "#7201a8"
             ],
             [
              0.3333333333333333,
              "#9c179e"
             ],
             [
              0.4444444444444444,
              "#bd3786"
             ],
             [
              0.5555555555555556,
              "#d8576b"
             ],
             [
              0.6666666666666666,
              "#ed7953"
             ],
             [
              0.7777777777777778,
              "#fb9f3a"
             ],
             [
              0.8888888888888888,
              "#fdca26"
             ],
             [
              1,
              "#f0f921"
             ]
            ],
            "type": "heatmapgl"
           }
          ],
          "histogram": [
           {
            "marker": {
             "pattern": {
              "fillmode": "overlay",
              "size": 10,
              "solidity": 0.2
             }
            },
            "type": "histogram"
           }
          ],
          "histogram2d": [
           {
            "colorbar": {
             "outlinewidth": 0,
             "ticks": ""
            },
            "colorscale": [
             [
              0,
              "#0d0887"
             ],
             [
              0.1111111111111111,
              "#46039f"
             ],
             [
              0.2222222222222222,
              "#7201a8"
             ],
             [
              0.3333333333333333,
              "#9c179e"
             ],
             [
              0.4444444444444444,
              "#bd3786"
             ],
             [
              0.5555555555555556,
              "#d8576b"
             ],
             [
              0.6666666666666666,
              "#ed7953"
             ],
             [
              0.7777777777777778,
              "#fb9f3a"
             ],
             [
              0.8888888888888888,
              "#fdca26"
             ],
             [
              1,
              "#f0f921"
             ]
            ],
            "type": "histogram2d"
           }
          ],
          "histogram2dcontour": [
           {
            "colorbar": {
             "outlinewidth": 0,
             "ticks": ""
            },
            "colorscale": [
             [
              0,
              "#0d0887"
             ],
             [
              0.1111111111111111,
              "#46039f"
             ],
             [
              0.2222222222222222,
              "#7201a8"
             ],
             [
              0.3333333333333333,
              "#9c179e"
             ],
             [
              0.4444444444444444,
              "#bd3786"
             ],
             [
              0.5555555555555556,
              "#d8576b"
             ],
             [
              0.6666666666666666,
              "#ed7953"
             ],
             [
              0.7777777777777778,
              "#fb9f3a"
             ],
             [
              0.8888888888888888,
              "#fdca26"
             ],
             [
              1,
              "#f0f921"
             ]
            ],
            "type": "histogram2dcontour"
           }
          ],
          "mesh3d": [
           {
            "colorbar": {
             "outlinewidth": 0,
             "ticks": ""
            },
            "type": "mesh3d"
           }
          ],
          "parcoords": [
           {
            "line": {
             "colorbar": {
              "outlinewidth": 0,
              "ticks": ""
             }
            },
            "type": "parcoords"
           }
          ],
          "pie": [
           {
            "automargin": true,
            "type": "pie"
           }
          ],
          "scatter": [
           {
            "fillpattern": {
             "fillmode": "overlay",
             "size": 10,
             "solidity": 0.2
            },
            "type": "scatter"
           }
          ],
          "scatter3d": [
           {
            "line": {
             "colorbar": {
              "outlinewidth": 0,
              "ticks": ""
             }
            },
            "marker": {
             "colorbar": {
              "outlinewidth": 0,
              "ticks": ""
             }
            },
            "type": "scatter3d"
           }
          ],
          "scattercarpet": [
           {
            "marker": {
             "colorbar": {
              "outlinewidth": 0,
              "ticks": ""
             }
            },
            "type": "scattercarpet"
           }
          ],
          "scattergeo": [
           {
            "marker": {
             "colorbar": {
              "outlinewidth": 0,
              "ticks": ""
             }
            },
            "type": "scattergeo"
           }
          ],
          "scattergl": [
           {
            "marker": {
             "colorbar": {
              "outlinewidth": 0,
              "ticks": ""
             }
            },
            "type": "scattergl"
           }
          ],
          "scattermapbox": [
           {
            "marker": {
             "colorbar": {
              "outlinewidth": 0,
              "ticks": ""
             }
            },
            "type": "scattermapbox"
           }
          ],
          "scatterpolar": [
           {
            "marker": {
             "colorbar": {
              "outlinewidth": 0,
              "ticks": ""
             }
            },
            "type": "scatterpolar"
           }
          ],
          "scatterpolargl": [
           {
            "marker": {
             "colorbar": {
              "outlinewidth": 0,
              "ticks": ""
             }
            },
            "type": "scatterpolargl"
           }
          ],
          "scatterternary": [
           {
            "marker": {
             "colorbar": {
              "outlinewidth": 0,
              "ticks": ""
             }
            },
            "type": "scatterternary"
           }
          ],
          "surface": [
           {
            "colorbar": {
             "outlinewidth": 0,
             "ticks": ""
            },
            "colorscale": [
             [
              0,
              "#0d0887"
             ],
             [
              0.1111111111111111,
              "#46039f"
             ],
             [
              0.2222222222222222,
              "#7201a8"
             ],
             [
              0.3333333333333333,
              "#9c179e"
             ],
             [
              0.4444444444444444,
              "#bd3786"
             ],
             [
              0.5555555555555556,
              "#d8576b"
             ],
             [
              0.6666666666666666,
              "#ed7953"
             ],
             [
              0.7777777777777778,
              "#fb9f3a"
             ],
             [
              0.8888888888888888,
              "#fdca26"
             ],
             [
              1,
              "#f0f921"
             ]
            ],
            "type": "surface"
           }
          ],
          "table": [
           {
            "cells": {
             "fill": {
              "color": "#EBF0F8"
             },
             "line": {
              "color": "white"
             }
            },
            "header": {
             "fill": {
              "color": "#C8D4E3"
             },
             "line": {
              "color": "white"
             }
            },
            "type": "table"
           }
          ]
         },
         "layout": {
          "annotationdefaults": {
           "arrowcolor": "#2a3f5f",
           "arrowhead": 0,
           "arrowwidth": 1
          },
          "autotypenumbers": "strict",
          "coloraxis": {
           "colorbar": {
            "outlinewidth": 0,
            "ticks": ""
           }
          },
          "colorscale": {
           "diverging": [
            [
             0,
             "#8e0152"
            ],
            [
             0.1,
             "#c51b7d"
            ],
            [
             0.2,
             "#de77ae"
            ],
            [
             0.3,
             "#f1b6da"
            ],
            [
             0.4,
             "#fde0ef"
            ],
            [
             0.5,
             "#f7f7f7"
            ],
            [
             0.6,
             "#e6f5d0"
            ],
            [
             0.7,
             "#b8e186"
            ],
            [
             0.8,
             "#7fbc41"
            ],
            [
             0.9,
             "#4d9221"
            ],
            [
             1,
             "#276419"
            ]
           ],
           "sequential": [
            [
             0,
             "#0d0887"
            ],
            [
             0.1111111111111111,
             "#46039f"
            ],
            [
             0.2222222222222222,
             "#7201a8"
            ],
            [
             0.3333333333333333,
             "#9c179e"
            ],
            [
             0.4444444444444444,
             "#bd3786"
            ],
            [
             0.5555555555555556,
             "#d8576b"
            ],
            [
             0.6666666666666666,
             "#ed7953"
            ],
            [
             0.7777777777777778,
             "#fb9f3a"
            ],
            [
             0.8888888888888888,
             "#fdca26"
            ],
            [
             1,
             "#f0f921"
            ]
           ],
           "sequentialminus": [
            [
             0,
             "#0d0887"
            ],
            [
             0.1111111111111111,
             "#46039f"
            ],
            [
             0.2222222222222222,
             "#7201a8"
            ],
            [
             0.3333333333333333,
             "#9c179e"
            ],
            [
             0.4444444444444444,
             "#bd3786"
            ],
            [
             0.5555555555555556,
             "#d8576b"
            ],
            [
             0.6666666666666666,
             "#ed7953"
            ],
            [
             0.7777777777777778,
             "#fb9f3a"
            ],
            [
             0.8888888888888888,
             "#fdca26"
            ],
            [
             1,
             "#f0f921"
            ]
           ]
          },
          "colorway": [
           "#636efa",
           "#EF553B",
           "#00cc96",
           "#ab63fa",
           "#FFA15A",
           "#19d3f3",
           "#FF6692",
           "#B6E880",
           "#FF97FF",
           "#FECB52"
          ],
          "font": {
           "color": "#2a3f5f"
          },
          "geo": {
           "bgcolor": "white",
           "lakecolor": "white",
           "landcolor": "#E5ECF6",
           "showlakes": true,
           "showland": true,
           "subunitcolor": "white"
          },
          "hoverlabel": {
           "align": "left"
          },
          "hovermode": "closest",
          "mapbox": {
           "style": "light"
          },
          "paper_bgcolor": "white",
          "plot_bgcolor": "#E5ECF6",
          "polar": {
           "angularaxis": {
            "gridcolor": "white",
            "linecolor": "white",
            "ticks": ""
           },
           "bgcolor": "#E5ECF6",
           "radialaxis": {
            "gridcolor": "white",
            "linecolor": "white",
            "ticks": ""
           }
          },
          "scene": {
           "xaxis": {
            "backgroundcolor": "#E5ECF6",
            "gridcolor": "white",
            "gridwidth": 2,
            "linecolor": "white",
            "showbackground": true,
            "ticks": "",
            "zerolinecolor": "white"
           },
           "yaxis": {
            "backgroundcolor": "#E5ECF6",
            "gridcolor": "white",
            "gridwidth": 2,
            "linecolor": "white",
            "showbackground": true,
            "ticks": "",
            "zerolinecolor": "white"
           },
           "zaxis": {
            "backgroundcolor": "#E5ECF6",
            "gridcolor": "white",
            "gridwidth": 2,
            "linecolor": "white",
            "showbackground": true,
            "ticks": "",
            "zerolinecolor": "white"
           }
          },
          "shapedefaults": {
           "line": {
            "color": "#2a3f5f"
           }
          },
          "ternary": {
           "aaxis": {
            "gridcolor": "white",
            "linecolor": "white",
            "ticks": ""
           },
           "baxis": {
            "gridcolor": "white",
            "linecolor": "white",
            "ticks": ""
           },
           "bgcolor": "#E5ECF6",
           "caxis": {
            "gridcolor": "white",
            "linecolor": "white",
            "ticks": ""
           }
          },
          "title": {
           "x": 0.05
          },
          "xaxis": {
           "automargin": true,
           "gridcolor": "white",
           "linecolor": "white",
           "ticks": "",
           "title": {
            "standoff": 15
           },
           "zerolinecolor": "white",
           "zerolinewidth": 2
          },
          "yaxis": {
           "automargin": true,
           "gridcolor": "white",
           "linecolor": "white",
           "ticks": "",
           "title": {
            "standoff": 15
           },
           "zerolinecolor": "white",
           "zerolinewidth": 2
          }
         }
        },
        "title": {
         "text": "Slice Plot"
        },
        "width": 1500,
        "xaxis": {
         "anchor": "y",
         "domain": [
          0,
          0.16799999999999998
         ],
         "title": {
          "text": "n_neighbors"
         }
        },
        "xaxis2": {
         "anchor": "y2",
         "domain": [
          0.208,
          0.376
         ],
         "title": {
          "text": "n_pca_components"
         }
        },
        "xaxis3": {
         "anchor": "y3",
         "categoryarray": [
          "linear",
          "poly",
          "rbf",
          "sigmoid",
          "cosine"
         ],
         "categoryorder": "array",
         "domain": [
          0.416,
          0.584
         ],
         "title": {
          "text": "pca_kernel"
         },
         "type": "category"
        },
        "xaxis4": {
         "anchor": "y4",
         "categoryarray": [
          "True",
          "False"
         ],
         "categoryorder": "array",
         "domain": [
          0.624,
          0.792
         ],
         "title": {
          "text": "use_pca"
         },
         "type": "category"
        },
        "xaxis5": {
         "anchor": "y5",
         "categoryarray": [
          "uniform",
          "distance"
         ],
         "categoryorder": "array",
         "domain": [
          0.832,
          1
         ],
         "title": {
          "text": "weights"
         },
         "type": "category"
        },
        "yaxis": {
         "anchor": "x",
         "domain": [
          0,
          1
         ],
         "title": {
          "text": "Objective Value"
         }
        },
        "yaxis2": {
         "anchor": "x2",
         "domain": [
          0,
          1
         ],
         "matches": "y",
         "showticklabels": false
        },
        "yaxis3": {
         "anchor": "x3",
         "domain": [
          0,
          1
         ],
         "matches": "y",
         "showticklabels": false
        },
        "yaxis4": {
         "anchor": "x4",
         "domain": [
          0,
          1
         ],
         "matches": "y",
         "showticklabels": false
        },
        "yaxis5": {
         "anchor": "x5",
         "domain": [
          0,
          1
         ],
         "matches": "y",
         "showticklabels": false
        }
       }
      }
     },
     "metadata": {},
     "output_type": "display_data"
    }
   ],
   "source": [
    "import numpy as np\n",
    "from sklearn.model_selection import train_test_split\n",
    "from sklearn.preprocessing import StandardScaler\n",
    "from sklearn.metrics import accuracy_score\n",
    "from sklearn.decomposition import PCA, KernelPCA\n",
    "from sklearn.neighbors import KNeighborsClassifier\n",
    "import optuna\n",
    "import optuna.visualization as vis\n",
    "\n",
    "n = 9\n",
    "\n",
    "X = np.load('Datasets/kryptonite-%s-X.npy'%(n))\n",
    "y = np.load('Datasets/kryptonite-%s-y.npy'%(n))\n",
    "\n",
    "def objective(trial):\n",
    "    ### ========== Shuffle and Split Data ========== ###\n",
    "\n",
    "    X_train, X_temp, y_train, y_temp = train_test_split(X, y, test_size=0.8, random_state=42)  # 60% training\n",
    "    X_val, X_test, y_val, y_test = train_test_split(X_temp, y_temp, test_size=0.8, random_state=42)  # 20% validation, 20% test\n",
    "\n",
    "    scaler = StandardScaler()\n",
    "    X_train_scaled = scaler.fit_transform(X_train)\n",
    "    X_val_scaled = scaler.transform(X_val)\n",
    "    X_test_scaled = scaler.transform(X_test)\n",
    "\n",
    "    # Suggest dimensionality reduction and kernel parameters\n",
    "    use_pca = trial.suggest_categorical('use_pca', ['True', 'False'])\n",
    "    n_components_pca = trial.suggest_int('n_pca_components', 1, max(1, X_train_scaled.shape[1]))\n",
    "    kernel_pca = trial.suggest_categorical('pca_kernel', ['linear', 'poly', 'rbf', 'sigmoid', 'cosine'])\n",
    "\n",
    "    ### ========== Dimensionality Reduction ========== ###\n",
    "\n",
    "    if use_pca == 'True':\n",
    "        pca = KernelPCA(\n",
    "            kernel=kernel_pca,\n",
    "            n_components=n_components_pca,\n",
    "            n_jobs=-1\n",
    "        )\n",
    "        X_train_scaled = pca.fit_transform(X_train_scaled)\n",
    "        X_val_scaled = pca.transform(X_val)\n",
    "        X_test_scaled = pca.transform(X_test)\n",
    "\n",
    "    # KNN Classifier parameters\n",
    "    classifier = KNeighborsClassifier(\n",
    "        n_neighbors=trial.suggest_int('n_neighbors', 5, 50),\n",
    "        weights=trial.suggest_categorical('weights', ['uniform', 'distance']),\n",
    "        n_jobs=-1\n",
    "    )\n",
    "\n",
    "    # Train the classifier\n",
    "    classifier.fit(X_train_scaled, y_train)\n",
    "\n",
    "    # Evaluate on the validation set\n",
    "    y_val_pred = classifier.predict(X_val_scaled)\n",
    "    val_accuracy = accuracy_score(y_val, y_val_pred)\n",
    "\n",
    "    # Report validation accuracy for pruning\n",
    "    trial.report(val_accuracy, step=0)\n",
    "\n",
    "    # Check if the trial should be pruned\n",
    "    if trial.should_prune():\n",
    "        raise optuna.TrialPruned()\n",
    "\n",
    "    # Evaluate on the test set\n",
    "    y_test_pred = classifier.predict(X_test_scaled)\n",
    "    test_accuracy = accuracy_score(y_test, y_test_pred)\n",
    "    print(f\"Test Accuracy: {test_accuracy:.4f}\")\n",
    "\n",
    "    return val_accuracy\n",
    "\n",
    "# Create a study object with a pruner\n",
    "pruner = optuna.pruners.MedianPruner()\n",
    "study = optuna.create_study(direction=\"maximize\", pruner=pruner)\n",
    "\n",
    "# Optimize the objective function\n",
    "study.optimize(objective, n_trials=100)\n",
    "\n",
    "print(\"Best hyperparameters:\", study.best_params)\n",
    "print(\"Best value:\", study.best_value)\n",
    "\n",
    "# Visualize the optimization history and parameter importances\n",
    "vis.plot_optimization_history(study).show()\n",
    "vis.plot_param_importances(study).show()\n",
    "vis.plot_slice(study).show()"
   ]
  }
 ],
 "metadata": {
  "kernelspec": {
   "display_name": ".venv",
   "language": "python",
   "name": "python3"
  },
  "language_info": {
   "codemirror_mode": {
    "name": "ipython",
    "version": 3
   },
   "file_extension": ".py",
   "mimetype": "text/x-python",
   "name": "python",
   "nbconvert_exporter": "python",
   "pygments_lexer": "ipython3",
   "version": "3.12.0"
  }
 },
 "nbformat": 4,
 "nbformat_minor": 2
}
