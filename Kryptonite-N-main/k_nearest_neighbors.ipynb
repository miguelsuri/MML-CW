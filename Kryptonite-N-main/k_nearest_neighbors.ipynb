{
 "cells": [
  {
   "cell_type": "code",
   "execution_count": null,
   "metadata": {},
   "outputs": [
    {
     "name": "stderr",
     "output_type": "stream",
     "text": [
      "[I 2024-11-12 19:10:06,658] A new study created in memory with name: no-name-587c3cf7-90e9-4094-9f40-1788a8ccbd50\n",
      "[I 2024-11-12 19:10:07,180] Trial 0 finished with value: 0.6910493827160494 and parameters: {'n_components': 3, 'n_neighbors': 15, 'weights': 'uniform'}. Best is trial 0 with value: 0.6910493827160494.\n",
      "[I 2024-11-12 19:10:07,220] Trial 1 finished with value: 0.5084104938271605 and parameters: {'n_components': 1, 'n_neighbors': 31, 'weights': 'distance'}. Best is trial 0 with value: 0.6910493827160494.\n",
      "[I 2024-11-12 19:10:07,268] Trial 2 finished with value: 0.508641975308642 and parameters: {'n_components': 1, 'n_neighbors': 40, 'weights': 'distance'}. Best is trial 0 with value: 0.6910493827160494.\n"
     ]
    },
    {
     "name": "stdout",
     "output_type": "stream",
     "text": [
      "New best model saved with accuracy: 0.6910\n"
     ]
    },
    {
     "name": "stderr",
     "output_type": "stream",
     "text": [
      "[I 2024-11-12 19:10:07,910] Trial 3 finished with value: 0.5515432098765433 and parameters: {'n_components': 6, 'n_neighbors': 28, 'weights': 'uniform'}. Best is trial 0 with value: 0.6910493827160494.\n",
      "[I 2024-11-12 19:10:07,959] Trial 4 finished with value: 0.55625 and parameters: {'n_components': 2, 'n_neighbors': 17, 'weights': 'distance'}. Best is trial 0 with value: 0.6910493827160494.\n",
      "[I 2024-11-12 19:10:08,475] Trial 5 finished with value: 0.6345679012345679 and parameters: {'n_components': 3, 'n_neighbors': 41, 'weights': 'uniform'}. Best is trial 0 with value: 0.6910493827160494.\n",
      "[I 2024-11-12 19:10:09,139] Trial 6 finished with value: 0.4613425925925926 and parameters: {'n_components': 7, 'n_neighbors': 18, 'weights': 'uniform'}. Best is trial 0 with value: 0.6910493827160494.\n",
      "[I 2024-11-12 19:10:09,581] Trial 7 finished with value: 0.5511574074074074 and parameters: {'n_components': 2, 'n_neighbors': 8, 'weights': 'uniform'}. Best is trial 0 with value: 0.6910493827160494.\n",
      "[I 2024-11-12 19:10:09,714] Trial 8 finished with value: 0.758641975308642 and parameters: {'n_components': 4, 'n_neighbors': 35, 'weights': 'distance'}. Best is trial 8 with value: 0.758641975308642.\n",
      "[I 2024-11-12 19:10:09,807] Trial 9 finished with value: 0.9313271604938271 and parameters: {'n_components': 6, 'n_neighbors': 5, 'weights': 'distance'}. Best is trial 9 with value: 0.9313271604938271.\n",
      "[I 2024-11-12 19:10:09,877] Trial 10 finished with value: 0.9232253086419753 and parameters: {'n_components': 9, 'n_neighbors': 1, 'weights': 'distance'}. Best is trial 9 with value: 0.9313271604938271.\n"
     ]
    },
    {
     "name": "stdout",
     "output_type": "stream",
     "text": [
      "New best model saved with accuracy: 0.7586\n",
      "New best model saved with accuracy: 0.9313\n"
     ]
    },
    {
     "name": "stderr",
     "output_type": "stream",
     "text": [
      "[I 2024-11-12 19:10:09,947] Trial 11 finished with value: 0.9232253086419753 and parameters: {'n_components': 9, 'n_neighbors': 1, 'weights': 'distance'}. Best is trial 9 with value: 0.9313271604938271.\n",
      "[I 2024-11-12 19:10:10,011] Trial 12 finished with value: 0.9232253086419753 and parameters: {'n_components': 9, 'n_neighbors': 1, 'weights': 'distance'}. Best is trial 9 with value: 0.9313271604938271.\n",
      "[I 2024-11-12 19:10:10,192] Trial 13 finished with value: 0.9155092592592593 and parameters: {'n_components': 7, 'n_neighbors': 9, 'weights': 'distance'}. Best is trial 9 with value: 0.9313271604938271.\n",
      "[I 2024-11-12 19:10:10,386] Trial 14 finished with value: 0.9202160493827161 and parameters: {'n_components': 8, 'n_neighbors': 8, 'weights': 'distance'}. Best is trial 9 with value: 0.9313271604938271.\n",
      "[I 2024-11-12 19:10:10,606] Trial 15 finished with value: 0.7787808641975309 and parameters: {'n_components': 5, 'n_neighbors': 49, 'weights': 'distance'}. Best is trial 9 with value: 0.9313271604938271.\n",
      "[I 2024-11-12 19:10:10,821] Trial 16 finished with value: 0.8593364197530864 and parameters: {'n_components': 6, 'n_neighbors': 21, 'weights': 'distance'}. Best is trial 9 with value: 0.9313271604938271.\n",
      "[I 2024-11-12 19:10:11,085] Trial 17 finished with value: 0.8857253086419753 and parameters: {'n_components': 8, 'n_neighbors': 12, 'weights': 'distance'}. Best is trial 9 with value: 0.9313271604938271.\n",
      "[I 2024-11-12 19:10:11,143] Trial 18 finished with value: 0.9004629629629629 and parameters: {'n_components': 5, 'n_neighbors': 3, 'weights': 'distance'}. Best is trial 9 with value: 0.9313271604938271.\n",
      "[I 2024-11-12 19:10:11,463] Trial 19 pruned. \n",
      "[I 2024-11-12 19:10:11,564] Trial 20 finished with value: 0.9330246913580247 and parameters: {'n_components': 7, 'n_neighbors': 6, 'weights': 'distance'}. Best is trial 20 with value: 0.9330246913580247.\n",
      "[I 2024-11-12 19:10:11,678] Trial 21 finished with value: 0.937037037037037 and parameters: {'n_components': 7, 'n_neighbors': 5, 'weights': 'distance'}. Best is trial 21 with value: 0.937037037037037.\n",
      "[I 2024-11-12 19:10:11,748] Trial 22 finished with value: 0.9313271604938271 and parameters: {'n_components': 6, 'n_neighbors': 5, 'weights': 'distance'}. Best is trial 21 with value: 0.937037037037037.\n"
     ]
    },
    {
     "name": "stdout",
     "output_type": "stream",
     "text": [
      "New best model saved with accuracy: 0.9330\n",
      "New best model saved with accuracy: 0.9370\n"
     ]
    },
    {
     "name": "stderr",
     "output_type": "stream",
     "text": [
      "[I 2024-11-12 19:10:11,894] Trial 23 finished with value: 0.8921296296296296 and parameters: {'n_components': 7, 'n_neighbors': 13, 'weights': 'distance'}. Best is trial 21 with value: 0.937037037037037.\n",
      "[I 2024-11-12 19:10:11,986] Trial 24 pruned. \n",
      "[I 2024-11-12 19:10:12,199] Trial 25 finished with value: 0.8963734567901235 and parameters: {'n_components': 7, 'n_neighbors': 12, 'weights': 'distance'}. Best is trial 21 with value: 0.937037037037037.\n",
      "[I 2024-11-12 19:10:12,717] Trial 26 finished with value: 0.8959876543209877 and parameters: {'n_components': 6, 'n_neighbors': 6, 'weights': 'uniform'}. Best is trial 21 with value: 0.937037037037037.\n",
      "[I 2024-11-12 19:10:13,042] Trial 27 pruned. \n",
      "[I 2024-11-12 19:10:13,143] Trial 28 pruned. \n",
      "[I 2024-11-12 19:10:13,814] Trial 29 pruned. \n",
      "[I 2024-11-12 19:10:13,886] Trial 30 finished with value: 0.9010802469135802 and parameters: {'n_components': 5, 'n_neighbors': 4, 'weights': 'distance'}. Best is trial 21 with value: 0.937037037037037.\n",
      "[I 2024-11-12 19:10:13,980] Trial 31 finished with value: 0.9313271604938271 and parameters: {'n_components': 6, 'n_neighbors': 5, 'weights': 'distance'}. Best is trial 21 with value: 0.937037037037037.\n",
      "[I 2024-11-12 19:10:14,073] Trial 32 finished with value: 0.9313271604938271 and parameters: {'n_components': 6, 'n_neighbors': 5, 'weights': 'distance'}. Best is trial 21 with value: 0.937037037037037.\n",
      "[I 2024-11-12 19:10:14,277] Trial 33 finished with value: 0.908641975308642 and parameters: {'n_components': 7, 'n_neighbors': 10, 'weights': 'distance'}. Best is trial 21 with value: 0.937037037037037.\n",
      "[I 2024-11-12 19:10:14,472] Trial 34 pruned. \n",
      "[I 2024-11-12 19:10:14,570] Trial 35 pruned. \n",
      "[I 2024-11-12 19:10:14,768] Trial 36 pruned. \n",
      "[I 2024-11-12 19:10:15,418] Trial 37 pruned. \n",
      "[I 2024-11-12 19:10:15,515] Trial 38 finished with value: 0.939429012345679 and parameters: {'n_components': 7, 'n_neighbors': 3, 'weights': 'distance'}. Best is trial 38 with value: 0.939429012345679.\n"
     ]
    },
    {
     "name": "stdout",
     "output_type": "stream",
     "text": [
      "New best model saved with accuracy: 0.9394\n"
     ]
    },
    {
     "name": "stderr",
     "output_type": "stream",
     "text": [
      "[I 2024-11-12 19:10:16,024] Trial 39 finished with value: 0.9113425925925925 and parameters: {'n_components': 7, 'n_neighbors': 2, 'weights': 'uniform'}. Best is trial 38 with value: 0.939429012345679.\n",
      "[I 2024-11-12 19:10:16,293] Trial 40 pruned. \n",
      "[I 2024-11-12 19:10:16,372] Trial 41 finished with value: 0.9342592592592592 and parameters: {'n_components': 6, 'n_neighbors': 4, 'weights': 'distance'}. Best is trial 38 with value: 0.939429012345679.\n",
      "[I 2024-11-12 19:10:16,493] Trial 42 finished with value: 0.9277006172839506 and parameters: {'n_components': 7, 'n_neighbors': 7, 'weights': 'distance'}. Best is trial 38 with value: 0.939429012345679.\n",
      "[I 2024-11-12 19:10:16,562] Trial 43 pruned. \n",
      "[I 2024-11-12 19:10:16,736] Trial 44 finished with value: 0.9215277777777777 and parameters: {'n_components': 7, 'n_neighbors': 8, 'weights': 'distance'}. Best is trial 38 with value: 0.939429012345679.\n",
      "[I 2024-11-12 19:10:16,785] Trial 45 finished with value: 0.9195216049382716 and parameters: {'n_components': 6, 'n_neighbors': 1, 'weights': 'distance'}. Best is trial 38 with value: 0.939429012345679.\n",
      "[I 2024-11-12 19:10:16,834] Trial 46 pruned. \n",
      "[I 2024-11-12 19:10:17,365] Trial 47 finished with value: 0.9097222222222222 and parameters: {'n_components': 9, 'n_neighbors': 4, 'weights': 'uniform'}. Best is trial 38 with value: 0.939429012345679.\n",
      "[I 2024-11-12 19:10:17,702] Trial 48 pruned. \n",
      "[I 2024-11-12 19:10:17,927] Trial 49 finished with value: 0.9128858024691358 and parameters: {'n_components': 8, 'n_neighbors': 9, 'weights': 'distance'}. Best is trial 38 with value: 0.939429012345679.\n",
      "[I 2024-11-12 19:10:18,087] Trial 50 pruned. \n",
      "[I 2024-11-12 19:10:18,209] Trial 51 finished with value: 0.9277006172839506 and parameters: {'n_components': 6, 'n_neighbors': 6, 'weights': 'distance'}. Best is trial 38 with value: 0.939429012345679.\n",
      "[I 2024-11-12 19:10:18,283] Trial 52 finished with value: 0.9339506172839506 and parameters: {'n_components': 6, 'n_neighbors': 3, 'weights': 'distance'}. Best is trial 38 with value: 0.939429012345679.\n",
      "[I 2024-11-12 19:10:18,353] Trial 53 finished with value: 0.9339506172839506 and parameters: {'n_components': 6, 'n_neighbors': 3, 'weights': 'distance'}. Best is trial 38 with value: 0.939429012345679.\n",
      "[I 2024-11-12 19:10:18,403] Trial 54 finished with value: 0.9339506172839506 and parameters: {'n_components': 6, 'n_neighbors': 3, 'weights': 'distance'}. Best is trial 38 with value: 0.939429012345679.\n",
      "[I 2024-11-12 19:10:18,474] Trial 55 finished with value: 0.9339506172839506 and parameters: {'n_components': 6, 'n_neighbors': 3, 'weights': 'distance'}. Best is trial 38 with value: 0.939429012345679.\n",
      "[I 2024-11-12 19:10:18,525] Trial 56 pruned. \n",
      "[I 2024-11-12 19:10:18,734] Trial 57 pruned. \n",
      "[I 2024-11-12 19:10:18,808] Trial 58 finished with value: 0.9339506172839506 and parameters: {'n_components': 6, 'n_neighbors': 3, 'weights': 'distance'}. Best is trial 38 with value: 0.939429012345679.\n",
      "[I 2024-11-12 19:10:18,972] Trial 59 finished with value: 0.9277006172839506 and parameters: {'n_components': 7, 'n_neighbors': 7, 'weights': 'distance'}. Best is trial 38 with value: 0.939429012345679.\n",
      "[I 2024-11-12 19:10:19,412] Trial 60 pruned. \n",
      "[I 2024-11-12 19:10:19,483] Trial 61 finished with value: 0.9339506172839506 and parameters: {'n_components': 6, 'n_neighbors': 3, 'weights': 'distance'}. Best is trial 38 with value: 0.939429012345679.\n",
      "[I 2024-11-12 19:10:19,555] Trial 62 finished with value: 0.9339506172839506 and parameters: {'n_components': 6, 'n_neighbors': 3, 'weights': 'distance'}. Best is trial 38 with value: 0.939429012345679.\n",
      "[I 2024-11-12 19:10:19,689] Trial 63 pruned. \n",
      "[I 2024-11-12 19:10:19,786] Trial 64 finished with value: 0.9368827160493827 and parameters: {'n_components': 7, 'n_neighbors': 4, 'weights': 'distance'}. Best is trial 38 with value: 0.939429012345679.\n",
      "[I 2024-11-12 19:10:19,893] Trial 65 finished with value: 0.937037037037037 and parameters: {'n_components': 7, 'n_neighbors': 5, 'weights': 'distance'}. Best is trial 38 with value: 0.939429012345679.\n",
      "[I 2024-11-12 19:10:20,098] Trial 66 pruned. \n",
      "[I 2024-11-12 19:10:20,225] Trial 67 finished with value: 0.9368055555555556 and parameters: {'n_components': 8, 'n_neighbors': 5, 'weights': 'distance'}. Best is trial 38 with value: 0.939429012345679.\n",
      "[I 2024-11-12 19:10:20,349] Trial 68 finished with value: 0.9368055555555556 and parameters: {'n_components': 8, 'n_neighbors': 5, 'weights': 'distance'}. Best is trial 38 with value: 0.939429012345679.\n",
      "[I 2024-11-12 19:10:20,496] Trial 69 finished with value: 0.9305555555555556 and parameters: {'n_components': 8, 'n_neighbors': 6, 'weights': 'distance'}. Best is trial 38 with value: 0.939429012345679.\n",
      "[I 2024-11-12 19:10:20,807] Trial 70 pruned. \n",
      "[I 2024-11-12 19:10:20,929] Trial 71 finished with value: 0.9368055555555556 and parameters: {'n_components': 8, 'n_neighbors': 5, 'weights': 'distance'}. Best is trial 38 with value: 0.939429012345679.\n",
      "[I 2024-11-12 19:10:21,057] Trial 72 finished with value: 0.9368055555555556 and parameters: {'n_components': 8, 'n_neighbors': 5, 'weights': 'distance'}. Best is trial 38 with value: 0.939429012345679.\n",
      "[I 2024-11-12 19:10:21,182] Trial 73 finished with value: 0.9368055555555556 and parameters: {'n_components': 8, 'n_neighbors': 5, 'weights': 'distance'}. Best is trial 38 with value: 0.939429012345679.\n",
      "[I 2024-11-12 19:10:21,448] Trial 74 pruned. \n",
      "[I 2024-11-12 19:10:21,615] Trial 75 finished with value: 0.9255401234567902 and parameters: {'n_components': 8, 'n_neighbors': 7, 'weights': 'distance'}. Best is trial 38 with value: 0.939429012345679.\n",
      "[I 2024-11-12 19:10:21,748] Trial 76 finished with value: 0.9368055555555556 and parameters: {'n_components': 8, 'n_neighbors': 5, 'weights': 'distance'}. Best is trial 38 with value: 0.939429012345679.\n",
      "[I 2024-11-12 19:10:22,477] Trial 77 pruned. \n",
      "[I 2024-11-12 19:10:22,642] Trial 78 finished with value: 0.9255401234567902 and parameters: {'n_components': 8, 'n_neighbors': 7, 'weights': 'distance'}. Best is trial 38 with value: 0.939429012345679.\n",
      "[I 2024-11-12 19:10:22,849] Trial 79 pruned. \n",
      "[I 2024-11-12 19:10:23,160] Trial 80 pruned. \n",
      "[I 2024-11-12 19:10:23,302] Trial 81 finished with value: 0.9305555555555556 and parameters: {'n_components': 8, 'n_neighbors': 6, 'weights': 'distance'}. Best is trial 38 with value: 0.939429012345679.\n",
      "[I 2024-11-12 19:10:23,417] Trial 82 finished with value: 0.9368055555555556 and parameters: {'n_components': 8, 'n_neighbors': 5, 'weights': 'distance'}. Best is trial 38 with value: 0.939429012345679.\n",
      "[I 2024-11-12 19:10:23,564] Trial 83 finished with value: 0.9362654320987654 and parameters: {'n_components': 9, 'n_neighbors': 5, 'weights': 'distance'}. Best is trial 38 with value: 0.939429012345679.\n",
      "[I 2024-11-12 19:10:23,635] Trial 84 pruned. \n",
      "[I 2024-11-12 19:10:23,811] Trial 85 pruned. \n",
      "[I 2024-11-12 19:10:23,917] Trial 86 finished with value: 0.9368827160493827 and parameters: {'n_components': 8, 'n_neighbors': 4, 'weights': 'distance'}. Best is trial 38 with value: 0.939429012345679.\n",
      "[I 2024-11-12 19:10:23,976] Trial 87 pruned. \n",
      "[I 2024-11-12 19:10:24,041] Trial 88 pruned. \n",
      "[I 2024-11-12 19:10:24,564] Trial 89 pruned. \n",
      "[I 2024-11-12 19:10:24,641] Trial 90 pruned. \n",
      "[I 2024-11-12 19:10:24,764] Trial 91 finished with value: 0.9368055555555556 and parameters: {'n_components': 8, 'n_neighbors': 5, 'weights': 'distance'}. Best is trial 38 with value: 0.939429012345679.\n",
      "[I 2024-11-12 19:10:24,908] Trial 92 finished with value: 0.9305555555555556 and parameters: {'n_components': 8, 'n_neighbors': 6, 'weights': 'distance'}. Best is trial 38 with value: 0.939429012345679.\n",
      "[I 2024-11-12 19:10:25,002] Trial 93 finished with value: 0.9368827160493827 and parameters: {'n_components': 7, 'n_neighbors': 4, 'weights': 'distance'}. Best is trial 38 with value: 0.939429012345679.\n",
      "[I 2024-11-12 19:10:25,102] Trial 94 finished with value: 0.9368827160493827 and parameters: {'n_components': 7, 'n_neighbors': 4, 'weights': 'distance'}. Best is trial 38 with value: 0.939429012345679.\n",
      "[I 2024-11-12 19:10:25,280] Trial 95 pruned. \n",
      "[I 2024-11-12 19:10:25,368] Trial 96 pruned. \n",
      "[I 2024-11-12 19:10:25,472] Trial 97 finished with value: 0.9368827160493827 and parameters: {'n_components': 7, 'n_neighbors': 4, 'weights': 'distance'}. Best is trial 38 with value: 0.939429012345679.\n",
      "[I 2024-11-12 19:10:25,567] Trial 98 finished with value: 0.9368827160493827 and parameters: {'n_components': 7, 'n_neighbors': 4, 'weights': 'distance'}. Best is trial 38 with value: 0.939429012345679.\n",
      "[I 2024-11-12 19:10:25,640] Trial 99 finished with value: 0.9368827160493827 and parameters: {'n_components': 7, 'n_neighbors': 4, 'weights': 'distance'}. Best is trial 38 with value: 0.939429012345679.\n"
     ]
    },
    {
     "name": "stdout",
     "output_type": "stream",
     "text": [
      "Best hyperparameters: {'n_components': 7, 'n_neighbors': 3, 'weights': 'distance'}\n",
      "Best value: 0.939429012345679\n",
      "Best model saved as 'best_knn_model.joblib'.\n"
     ]
    },
    {
     "data": {
      "application/vnd.plotly.v1+json": {
       "config": {
        "plotlyServerURL": "https://plot.ly"
       },
       "data": [
        {
         "mode": "markers",
         "name": "Objective Value",
         "type": "scatter",
         "x": [
          0,
          1,
          2,
          3,
          4,
          5,
          6,
          7,
          8,
          9,
          10,
          11,
          12,
          13,
          14,
          15,
          16,
          17,
          18,
          20,
          21,
          22,
          23,
          25,
          26,
          30,
          31,
          32,
          33,
          38,
          39,
          41,
          42,
          44,
          45,
          47,
          49,
          51,
          52,
          53,
          54,
          55,
          58,
          59,
          61,
          62,
          64,
          65,
          67,
          68,
          69,
          71,
          72,
          73,
          75,
          76,
          78,
          81,
          82,
          83,
          86,
          91,
          92,
          93,
          94,
          97,
          98,
          99
         ],
         "y": [
          0.6910493827160494,
          0.5084104938271605,
          0.508641975308642,
          0.5515432098765433,
          0.55625,
          0.6345679012345679,
          0.4613425925925926,
          0.5511574074074074,
          0.758641975308642,
          0.9313271604938271,
          0.9232253086419753,
          0.9232253086419753,
          0.9232253086419753,
          0.9155092592592593,
          0.9202160493827161,
          0.7787808641975309,
          0.8593364197530864,
          0.8857253086419753,
          0.9004629629629629,
          0.9330246913580247,
          0.937037037037037,
          0.9313271604938271,
          0.8921296296296296,
          0.8963734567901235,
          0.8959876543209877,
          0.9010802469135802,
          0.9313271604938271,
          0.9313271604938271,
          0.908641975308642,
          0.939429012345679,
          0.9113425925925925,
          0.9342592592592592,
          0.9277006172839506,
          0.9215277777777777,
          0.9195216049382716,
          0.9097222222222222,
          0.9128858024691358,
          0.9277006172839506,
          0.9339506172839506,
          0.9339506172839506,
          0.9339506172839506,
          0.9339506172839506,
          0.9339506172839506,
          0.9277006172839506,
          0.9339506172839506,
          0.9339506172839506,
          0.9368827160493827,
          0.937037037037037,
          0.9368055555555556,
          0.9368055555555556,
          0.9305555555555556,
          0.9368055555555556,
          0.9368055555555556,
          0.9368055555555556,
          0.9255401234567902,
          0.9368055555555556,
          0.9255401234567902,
          0.9305555555555556,
          0.9368055555555556,
          0.9362654320987654,
          0.9368827160493827,
          0.9368055555555556,
          0.9305555555555556,
          0.9368827160493827,
          0.9368827160493827,
          0.9368827160493827,
          0.9368827160493827,
          0.9368827160493827
         ]
        },
        {
         "mode": "lines",
         "name": "Best Value",
         "type": "scatter",
         "x": [
          0,
          1,
          2,
          3,
          4,
          5,
          6,
          7,
          8,
          9,
          10,
          11,
          12,
          13,
          14,
          15,
          16,
          17,
          18,
          19,
          20,
          21,
          22,
          23,
          24,
          25,
          26,
          27,
          28,
          29,
          30,
          31,
          32,
          33,
          34,
          35,
          36,
          37,
          38,
          39,
          40,
          41,
          42,
          43,
          44,
          45,
          46,
          47,
          48,
          49,
          50,
          51,
          52,
          53,
          54,
          55,
          56,
          57,
          58,
          59,
          60,
          61,
          62,
          63,
          64,
          65,
          66,
          67,
          68,
          69,
          70,
          71,
          72,
          73,
          74,
          75,
          76,
          77,
          78,
          79,
          80,
          81,
          82,
          83,
          84,
          85,
          86,
          87,
          88,
          89,
          90,
          91,
          92,
          93,
          94,
          95,
          96,
          97,
          98,
          99
         ],
         "y": [
          0.6910493827160494,
          0.6910493827160494,
          0.6910493827160494,
          0.6910493827160494,
          0.6910493827160494,
          0.6910493827160494,
          0.6910493827160494,
          0.6910493827160494,
          0.758641975308642,
          0.9313271604938271,
          0.9313271604938271,
          0.9313271604938271,
          0.9313271604938271,
          0.9313271604938271,
          0.9313271604938271,
          0.9313271604938271,
          0.9313271604938271,
          0.9313271604938271,
          0.9313271604938271,
          0.9313271604938271,
          0.9330246913580247,
          0.937037037037037,
          0.937037037037037,
          0.937037037037037,
          0.937037037037037,
          0.937037037037037,
          0.937037037037037,
          0.937037037037037,
          0.937037037037037,
          0.937037037037037,
          0.937037037037037,
          0.937037037037037,
          0.937037037037037,
          0.937037037037037,
          0.937037037037037,
          0.937037037037037,
          0.937037037037037,
          0.937037037037037,
          0.939429012345679,
          0.939429012345679,
          0.939429012345679,
          0.939429012345679,
          0.939429012345679,
          0.939429012345679,
          0.939429012345679,
          0.939429012345679,
          0.939429012345679,
          0.939429012345679,
          0.939429012345679,
          0.939429012345679,
          0.939429012345679,
          0.939429012345679,
          0.939429012345679,
          0.939429012345679,
          0.939429012345679,
          0.939429012345679,
          0.939429012345679,
          0.939429012345679,
          0.939429012345679,
          0.939429012345679,
          0.939429012345679,
          0.939429012345679,
          0.939429012345679,
          0.939429012345679,
          0.939429012345679,
          0.939429012345679,
          0.939429012345679,
          0.939429012345679,
          0.939429012345679,
          0.939429012345679,
          0.939429012345679,
          0.939429012345679,
          0.939429012345679,
          0.939429012345679,
          0.939429012345679,
          0.939429012345679,
          0.939429012345679,
          0.939429012345679,
          0.939429012345679,
          0.939429012345679,
          0.939429012345679,
          0.939429012345679,
          0.939429012345679,
          0.939429012345679,
          0.939429012345679,
          0.939429012345679,
          0.939429012345679,
          0.939429012345679,
          0.939429012345679,
          0.939429012345679,
          0.939429012345679,
          0.939429012345679,
          0.939429012345679,
          0.939429012345679,
          0.939429012345679,
          0.939429012345679,
          0.939429012345679,
          0.939429012345679,
          0.939429012345679,
          0.939429012345679
         ]
        },
        {
         "marker": {
          "color": "#cccccc"
         },
         "mode": "markers",
         "name": "Infeasible Trial",
         "showlegend": false,
         "type": "scatter",
         "x": [],
         "y": []
        }
       ],
       "layout": {
        "template": {
         "data": {
          "bar": [
           {
            "error_x": {
             "color": "#2a3f5f"
            },
            "error_y": {
             "color": "#2a3f5f"
            },
            "marker": {
             "line": {
              "color": "#E5ECF6",
              "width": 0.5
             },
             "pattern": {
              "fillmode": "overlay",
              "size": 10,
              "solidity": 0.2
             }
            },
            "type": "bar"
           }
          ],
          "barpolar": [
           {
            "marker": {
             "line": {
              "color": "#E5ECF6",
              "width": 0.5
             },
             "pattern": {
              "fillmode": "overlay",
              "size": 10,
              "solidity": 0.2
             }
            },
            "type": "barpolar"
           }
          ],
          "carpet": [
           {
            "aaxis": {
             "endlinecolor": "#2a3f5f",
             "gridcolor": "white",
             "linecolor": "white",
             "minorgridcolor": "white",
             "startlinecolor": "#2a3f5f"
            },
            "baxis": {
             "endlinecolor": "#2a3f5f",
             "gridcolor": "white",
             "linecolor": "white",
             "minorgridcolor": "white",
             "startlinecolor": "#2a3f5f"
            },
            "type": "carpet"
           }
          ],
          "choropleth": [
           {
            "colorbar": {
             "outlinewidth": 0,
             "ticks": ""
            },
            "type": "choropleth"
           }
          ],
          "contour": [
           {
            "colorbar": {
             "outlinewidth": 0,
             "ticks": ""
            },
            "colorscale": [
             [
              0,
              "#0d0887"
             ],
             [
              0.1111111111111111,
              "#46039f"
             ],
             [
              0.2222222222222222,
              "#7201a8"
             ],
             [
              0.3333333333333333,
              "#9c179e"
             ],
             [
              0.4444444444444444,
              "#bd3786"
             ],
             [
              0.5555555555555556,
              "#d8576b"
             ],
             [
              0.6666666666666666,
              "#ed7953"
             ],
             [
              0.7777777777777778,
              "#fb9f3a"
             ],
             [
              0.8888888888888888,
              "#fdca26"
             ],
             [
              1,
              "#f0f921"
             ]
            ],
            "type": "contour"
           }
          ],
          "contourcarpet": [
           {
            "colorbar": {
             "outlinewidth": 0,
             "ticks": ""
            },
            "type": "contourcarpet"
           }
          ],
          "heatmap": [
           {
            "colorbar": {
             "outlinewidth": 0,
             "ticks": ""
            },
            "colorscale": [
             [
              0,
              "#0d0887"
             ],
             [
              0.1111111111111111,
              "#46039f"
             ],
             [
              0.2222222222222222,
              "#7201a8"
             ],
             [
              0.3333333333333333,
              "#9c179e"
             ],
             [
              0.4444444444444444,
              "#bd3786"
             ],
             [
              0.5555555555555556,
              "#d8576b"
             ],
             [
              0.6666666666666666,
              "#ed7953"
             ],
             [
              0.7777777777777778,
              "#fb9f3a"
             ],
             [
              0.8888888888888888,
              "#fdca26"
             ],
             [
              1,
              "#f0f921"
             ]
            ],
            "type": "heatmap"
           }
          ],
          "heatmapgl": [
           {
            "colorbar": {
             "outlinewidth": 0,
             "ticks": ""
            },
            "colorscale": [
             [
              0,
              "#0d0887"
             ],
             [
              0.1111111111111111,
              "#46039f"
             ],
             [
              0.2222222222222222,
              "#7201a8"
             ],
             [
              0.3333333333333333,
              "#9c179e"
             ],
             [
              0.4444444444444444,
              "#bd3786"
             ],
             [
              0.5555555555555556,
              "#d8576b"
             ],
             [
              0.6666666666666666,
              "#ed7953"
             ],
             [
              0.7777777777777778,
              "#fb9f3a"
             ],
             [
              0.8888888888888888,
              "#fdca26"
             ],
             [
              1,
              "#f0f921"
             ]
            ],
            "type": "heatmapgl"
           }
          ],
          "histogram": [
           {
            "marker": {
             "pattern": {
              "fillmode": "overlay",
              "size": 10,
              "solidity": 0.2
             }
            },
            "type": "histogram"
           }
          ],
          "histogram2d": [
           {
            "colorbar": {
             "outlinewidth": 0,
             "ticks": ""
            },
            "colorscale": [
             [
              0,
              "#0d0887"
             ],
             [
              0.1111111111111111,
              "#46039f"
             ],
             [
              0.2222222222222222,
              "#7201a8"
             ],
             [
              0.3333333333333333,
              "#9c179e"
             ],
             [
              0.4444444444444444,
              "#bd3786"
             ],
             [
              0.5555555555555556,
              "#d8576b"
             ],
             [
              0.6666666666666666,
              "#ed7953"
             ],
             [
              0.7777777777777778,
              "#fb9f3a"
             ],
             [
              0.8888888888888888,
              "#fdca26"
             ],
             [
              1,
              "#f0f921"
             ]
            ],
            "type": "histogram2d"
           }
          ],
          "histogram2dcontour": [
           {
            "colorbar": {
             "outlinewidth": 0,
             "ticks": ""
            },
            "colorscale": [
             [
              0,
              "#0d0887"
             ],
             [
              0.1111111111111111,
              "#46039f"
             ],
             [
              0.2222222222222222,
              "#7201a8"
             ],
             [
              0.3333333333333333,
              "#9c179e"
             ],
             [
              0.4444444444444444,
              "#bd3786"
             ],
             [
              0.5555555555555556,
              "#d8576b"
             ],
             [
              0.6666666666666666,
              "#ed7953"
             ],
             [
              0.7777777777777778,
              "#fb9f3a"
             ],
             [
              0.8888888888888888,
              "#fdca26"
             ],
             [
              1,
              "#f0f921"
             ]
            ],
            "type": "histogram2dcontour"
           }
          ],
          "mesh3d": [
           {
            "colorbar": {
             "outlinewidth": 0,
             "ticks": ""
            },
            "type": "mesh3d"
           }
          ],
          "parcoords": [
           {
            "line": {
             "colorbar": {
              "outlinewidth": 0,
              "ticks": ""
             }
            },
            "type": "parcoords"
           }
          ],
          "pie": [
           {
            "automargin": true,
            "type": "pie"
           }
          ],
          "scatter": [
           {
            "fillpattern": {
             "fillmode": "overlay",
             "size": 10,
             "solidity": 0.2
            },
            "type": "scatter"
           }
          ],
          "scatter3d": [
           {
            "line": {
             "colorbar": {
              "outlinewidth": 0,
              "ticks": ""
             }
            },
            "marker": {
             "colorbar": {
              "outlinewidth": 0,
              "ticks": ""
             }
            },
            "type": "scatter3d"
           }
          ],
          "scattercarpet": [
           {
            "marker": {
             "colorbar": {
              "outlinewidth": 0,
              "ticks": ""
             }
            },
            "type": "scattercarpet"
           }
          ],
          "scattergeo": [
           {
            "marker": {
             "colorbar": {
              "outlinewidth": 0,
              "ticks": ""
             }
            },
            "type": "scattergeo"
           }
          ],
          "scattergl": [
           {
            "marker": {
             "colorbar": {
              "outlinewidth": 0,
              "ticks": ""
             }
            },
            "type": "scattergl"
           }
          ],
          "scattermapbox": [
           {
            "marker": {
             "colorbar": {
              "outlinewidth": 0,
              "ticks": ""
             }
            },
            "type": "scattermapbox"
           }
          ],
          "scatterpolar": [
           {
            "marker": {
             "colorbar": {
              "outlinewidth": 0,
              "ticks": ""
             }
            },
            "type": "scatterpolar"
           }
          ],
          "scatterpolargl": [
           {
            "marker": {
             "colorbar": {
              "outlinewidth": 0,
              "ticks": ""
             }
            },
            "type": "scatterpolargl"
           }
          ],
          "scatterternary": [
           {
            "marker": {
             "colorbar": {
              "outlinewidth": 0,
              "ticks": ""
             }
            },
            "type": "scatterternary"
           }
          ],
          "surface": [
           {
            "colorbar": {
             "outlinewidth": 0,
             "ticks": ""
            },
            "colorscale": [
             [
              0,
              "#0d0887"
             ],
             [
              0.1111111111111111,
              "#46039f"
             ],
             [
              0.2222222222222222,
              "#7201a8"
             ],
             [
              0.3333333333333333,
              "#9c179e"
             ],
             [
              0.4444444444444444,
              "#bd3786"
             ],
             [
              0.5555555555555556,
              "#d8576b"
             ],
             [
              0.6666666666666666,
              "#ed7953"
             ],
             [
              0.7777777777777778,
              "#fb9f3a"
             ],
             [
              0.8888888888888888,
              "#fdca26"
             ],
             [
              1,
              "#f0f921"
             ]
            ],
            "type": "surface"
           }
          ],
          "table": [
           {
            "cells": {
             "fill": {
              "color": "#EBF0F8"
             },
             "line": {
              "color": "white"
             }
            },
            "header": {
             "fill": {
              "color": "#C8D4E3"
             },
             "line": {
              "color": "white"
             }
            },
            "type": "table"
           }
          ]
         },
         "layout": {
          "annotationdefaults": {
           "arrowcolor": "#2a3f5f",
           "arrowhead": 0,
           "arrowwidth": 1
          },
          "autotypenumbers": "strict",
          "coloraxis": {
           "colorbar": {
            "outlinewidth": 0,
            "ticks": ""
           }
          },
          "colorscale": {
           "diverging": [
            [
             0,
             "#8e0152"
            ],
            [
             0.1,
             "#c51b7d"
            ],
            [
             0.2,
             "#de77ae"
            ],
            [
             0.3,
             "#f1b6da"
            ],
            [
             0.4,
             "#fde0ef"
            ],
            [
             0.5,
             "#f7f7f7"
            ],
            [
             0.6,
             "#e6f5d0"
            ],
            [
             0.7,
             "#b8e186"
            ],
            [
             0.8,
             "#7fbc41"
            ],
            [
             0.9,
             "#4d9221"
            ],
            [
             1,
             "#276419"
            ]
           ],
           "sequential": [
            [
             0,
             "#0d0887"
            ],
            [
             0.1111111111111111,
             "#46039f"
            ],
            [
             0.2222222222222222,
             "#7201a8"
            ],
            [
             0.3333333333333333,
             "#9c179e"
            ],
            [
             0.4444444444444444,
             "#bd3786"
            ],
            [
             0.5555555555555556,
             "#d8576b"
            ],
            [
             0.6666666666666666,
             "#ed7953"
            ],
            [
             0.7777777777777778,
             "#fb9f3a"
            ],
            [
             0.8888888888888888,
             "#fdca26"
            ],
            [
             1,
             "#f0f921"
            ]
           ],
           "sequentialminus": [
            [
             0,
             "#0d0887"
            ],
            [
             0.1111111111111111,
             "#46039f"
            ],
            [
             0.2222222222222222,
             "#7201a8"
            ],
            [
             0.3333333333333333,
             "#9c179e"
            ],
            [
             0.4444444444444444,
             "#bd3786"
            ],
            [
             0.5555555555555556,
             "#d8576b"
            ],
            [
             0.6666666666666666,
             "#ed7953"
            ],
            [
             0.7777777777777778,
             "#fb9f3a"
            ],
            [
             0.8888888888888888,
             "#fdca26"
            ],
            [
             1,
             "#f0f921"
            ]
           ]
          },
          "colorway": [
           "#636efa",
           "#EF553B",
           "#00cc96",
           "#ab63fa",
           "#FFA15A",
           "#19d3f3",
           "#FF6692",
           "#B6E880",
           "#FF97FF",
           "#FECB52"
          ],
          "font": {
           "color": "#2a3f5f"
          },
          "geo": {
           "bgcolor": "white",
           "lakecolor": "white",
           "landcolor": "#E5ECF6",
           "showlakes": true,
           "showland": true,
           "subunitcolor": "white"
          },
          "hoverlabel": {
           "align": "left"
          },
          "hovermode": "closest",
          "mapbox": {
           "style": "light"
          },
          "paper_bgcolor": "white",
          "plot_bgcolor": "#E5ECF6",
          "polar": {
           "angularaxis": {
            "gridcolor": "white",
            "linecolor": "white",
            "ticks": ""
           },
           "bgcolor": "#E5ECF6",
           "radialaxis": {
            "gridcolor": "white",
            "linecolor": "white",
            "ticks": ""
           }
          },
          "scene": {
           "xaxis": {
            "backgroundcolor": "#E5ECF6",
            "gridcolor": "white",
            "gridwidth": 2,
            "linecolor": "white",
            "showbackground": true,
            "ticks": "",
            "zerolinecolor": "white"
           },
           "yaxis": {
            "backgroundcolor": "#E5ECF6",
            "gridcolor": "white",
            "gridwidth": 2,
            "linecolor": "white",
            "showbackground": true,
            "ticks": "",
            "zerolinecolor": "white"
           },
           "zaxis": {
            "backgroundcolor": "#E5ECF6",
            "gridcolor": "white",
            "gridwidth": 2,
            "linecolor": "white",
            "showbackground": true,
            "ticks": "",
            "zerolinecolor": "white"
           }
          },
          "shapedefaults": {
           "line": {
            "color": "#2a3f5f"
           }
          },
          "ternary": {
           "aaxis": {
            "gridcolor": "white",
            "linecolor": "white",
            "ticks": ""
           },
           "baxis": {
            "gridcolor": "white",
            "linecolor": "white",
            "ticks": ""
           },
           "bgcolor": "#E5ECF6",
           "caxis": {
            "gridcolor": "white",
            "linecolor": "white",
            "ticks": ""
           }
          },
          "title": {
           "x": 0.05
          },
          "xaxis": {
           "automargin": true,
           "gridcolor": "white",
           "linecolor": "white",
           "ticks": "",
           "title": {
            "standoff": 15
           },
           "zerolinecolor": "white",
           "zerolinewidth": 2
          },
          "yaxis": {
           "automargin": true,
           "gridcolor": "white",
           "linecolor": "white",
           "ticks": "",
           "title": {
            "standoff": 15
           },
           "zerolinecolor": "white",
           "zerolinewidth": 2
          }
         }
        },
        "title": {
         "text": "Optimization History Plot"
        },
        "xaxis": {
         "title": {
          "text": "Trial"
         }
        },
        "yaxis": {
         "title": {
          "text": "Objective Value"
         }
        }
       }
      }
     },
     "metadata": {},
     "output_type": "display_data"
    },
    {
     "data": {
      "application/vnd.plotly.v1+json": {
       "config": {
        "plotlyServerURL": "https://plot.ly"
       },
       "data": [
        {
         "cliponaxis": false,
         "hovertemplate": [
          "weights (CategoricalDistribution): 0.14110109922411757<extra></extra>",
          "n_components (IntDistribution): 0.32996988248105985<extra></extra>",
          "n_neighbors (IntDistribution): 0.5289290182948226<extra></extra>"
         ],
         "name": "Objective Value",
         "orientation": "h",
         "text": [
          "0.14",
          "0.33",
          "0.53"
         ],
         "textposition": "outside",
         "type": "bar",
         "x": [
          0.14110109922411757,
          0.32996988248105985,
          0.5289290182948226
         ],
         "y": [
          "weights",
          "n_components",
          "n_neighbors"
         ]
        }
       ],
       "layout": {
        "template": {
         "data": {
          "bar": [
           {
            "error_x": {
             "color": "#2a3f5f"
            },
            "error_y": {
             "color": "#2a3f5f"
            },
            "marker": {
             "line": {
              "color": "#E5ECF6",
              "width": 0.5
             },
             "pattern": {
              "fillmode": "overlay",
              "size": 10,
              "solidity": 0.2
             }
            },
            "type": "bar"
           }
          ],
          "barpolar": [
           {
            "marker": {
             "line": {
              "color": "#E5ECF6",
              "width": 0.5
             },
             "pattern": {
              "fillmode": "overlay",
              "size": 10,
              "solidity": 0.2
             }
            },
            "type": "barpolar"
           }
          ],
          "carpet": [
           {
            "aaxis": {
             "endlinecolor": "#2a3f5f",
             "gridcolor": "white",
             "linecolor": "white",
             "minorgridcolor": "white",
             "startlinecolor": "#2a3f5f"
            },
            "baxis": {
             "endlinecolor": "#2a3f5f",
             "gridcolor": "white",
             "linecolor": "white",
             "minorgridcolor": "white",
             "startlinecolor": "#2a3f5f"
            },
            "type": "carpet"
           }
          ],
          "choropleth": [
           {
            "colorbar": {
             "outlinewidth": 0,
             "ticks": ""
            },
            "type": "choropleth"
           }
          ],
          "contour": [
           {
            "colorbar": {
             "outlinewidth": 0,
             "ticks": ""
            },
            "colorscale": [
             [
              0,
              "#0d0887"
             ],
             [
              0.1111111111111111,
              "#46039f"
             ],
             [
              0.2222222222222222,
              "#7201a8"
             ],
             [
              0.3333333333333333,
              "#9c179e"
             ],
             [
              0.4444444444444444,
              "#bd3786"
             ],
             [
              0.5555555555555556,
              "#d8576b"
             ],
             [
              0.6666666666666666,
              "#ed7953"
             ],
             [
              0.7777777777777778,
              "#fb9f3a"
             ],
             [
              0.8888888888888888,
              "#fdca26"
             ],
             [
              1,
              "#f0f921"
             ]
            ],
            "type": "contour"
           }
          ],
          "contourcarpet": [
           {
            "colorbar": {
             "outlinewidth": 0,
             "ticks": ""
            },
            "type": "contourcarpet"
           }
          ],
          "heatmap": [
           {
            "colorbar": {
             "outlinewidth": 0,
             "ticks": ""
            },
            "colorscale": [
             [
              0,
              "#0d0887"
             ],
             [
              0.1111111111111111,
              "#46039f"
             ],
             [
              0.2222222222222222,
              "#7201a8"
             ],
             [
              0.3333333333333333,
              "#9c179e"
             ],
             [
              0.4444444444444444,
              "#bd3786"
             ],
             [
              0.5555555555555556,
              "#d8576b"
             ],
             [
              0.6666666666666666,
              "#ed7953"
             ],
             [
              0.7777777777777778,
              "#fb9f3a"
             ],
             [
              0.8888888888888888,
              "#fdca26"
             ],
             [
              1,
              "#f0f921"
             ]
            ],
            "type": "heatmap"
           }
          ],
          "heatmapgl": [
           {
            "colorbar": {
             "outlinewidth": 0,
             "ticks": ""
            },
            "colorscale": [
             [
              0,
              "#0d0887"
             ],
             [
              0.1111111111111111,
              "#46039f"
             ],
             [
              0.2222222222222222,
              "#7201a8"
             ],
             [
              0.3333333333333333,
              "#9c179e"
             ],
             [
              0.4444444444444444,
              "#bd3786"
             ],
             [
              0.5555555555555556,
              "#d8576b"
             ],
             [
              0.6666666666666666,
              "#ed7953"
             ],
             [
              0.7777777777777778,
              "#fb9f3a"
             ],
             [
              0.8888888888888888,
              "#fdca26"
             ],
             [
              1,
              "#f0f921"
             ]
            ],
            "type": "heatmapgl"
           }
          ],
          "histogram": [
           {
            "marker": {
             "pattern": {
              "fillmode": "overlay",
              "size": 10,
              "solidity": 0.2
             }
            },
            "type": "histogram"
           }
          ],
          "histogram2d": [
           {
            "colorbar": {
             "outlinewidth": 0,
             "ticks": ""
            },
            "colorscale": [
             [
              0,
              "#0d0887"
             ],
             [
              0.1111111111111111,
              "#46039f"
             ],
             [
              0.2222222222222222,
              "#7201a8"
             ],
             [
              0.3333333333333333,
              "#9c179e"
             ],
             [
              0.4444444444444444,
              "#bd3786"
             ],
             [
              0.5555555555555556,
              "#d8576b"
             ],
             [
              0.6666666666666666,
              "#ed7953"
             ],
             [
              0.7777777777777778,
              "#fb9f3a"
             ],
             [
              0.8888888888888888,
              "#fdca26"
             ],
             [
              1,
              "#f0f921"
             ]
            ],
            "type": "histogram2d"
           }
          ],
          "histogram2dcontour": [
           {
            "colorbar": {
             "outlinewidth": 0,
             "ticks": ""
            },
            "colorscale": [
             [
              0,
              "#0d0887"
             ],
             [
              0.1111111111111111,
              "#46039f"
             ],
             [
              0.2222222222222222,
              "#7201a8"
             ],
             [
              0.3333333333333333,
              "#9c179e"
             ],
             [
              0.4444444444444444,
              "#bd3786"
             ],
             [
              0.5555555555555556,
              "#d8576b"
             ],
             [
              0.6666666666666666,
              "#ed7953"
             ],
             [
              0.7777777777777778,
              "#fb9f3a"
             ],
             [
              0.8888888888888888,
              "#fdca26"
             ],
             [
              1,
              "#f0f921"
             ]
            ],
            "type": "histogram2dcontour"
           }
          ],
          "mesh3d": [
           {
            "colorbar": {
             "outlinewidth": 0,
             "ticks": ""
            },
            "type": "mesh3d"
           }
          ],
          "parcoords": [
           {
            "line": {
             "colorbar": {
              "outlinewidth": 0,
              "ticks": ""
             }
            },
            "type": "parcoords"
           }
          ],
          "pie": [
           {
            "automargin": true,
            "type": "pie"
           }
          ],
          "scatter": [
           {
            "fillpattern": {
             "fillmode": "overlay",
             "size": 10,
             "solidity": 0.2
            },
            "type": "scatter"
           }
          ],
          "scatter3d": [
           {
            "line": {
             "colorbar": {
              "outlinewidth": 0,
              "ticks": ""
             }
            },
            "marker": {
             "colorbar": {
              "outlinewidth": 0,
              "ticks": ""
             }
            },
            "type": "scatter3d"
           }
          ],
          "scattercarpet": [
           {
            "marker": {
             "colorbar": {
              "outlinewidth": 0,
              "ticks": ""
             }
            },
            "type": "scattercarpet"
           }
          ],
          "scattergeo": [
           {
            "marker": {
             "colorbar": {
              "outlinewidth": 0,
              "ticks": ""
             }
            },
            "type": "scattergeo"
           }
          ],
          "scattergl": [
           {
            "marker": {
             "colorbar": {
              "outlinewidth": 0,
              "ticks": ""
             }
            },
            "type": "scattergl"
           }
          ],
          "scattermapbox": [
           {
            "marker": {
             "colorbar": {
              "outlinewidth": 0,
              "ticks": ""
             }
            },
            "type": "scattermapbox"
           }
          ],
          "scatterpolar": [
           {
            "marker": {
             "colorbar": {
              "outlinewidth": 0,
              "ticks": ""
             }
            },
            "type": "scatterpolar"
           }
          ],
          "scatterpolargl": [
           {
            "marker": {
             "colorbar": {
              "outlinewidth": 0,
              "ticks": ""
             }
            },
            "type": "scatterpolargl"
           }
          ],
          "scatterternary": [
           {
            "marker": {
             "colorbar": {
              "outlinewidth": 0,
              "ticks": ""
             }
            },
            "type": "scatterternary"
           }
          ],
          "surface": [
           {
            "colorbar": {
             "outlinewidth": 0,
             "ticks": ""
            },
            "colorscale": [
             [
              0,
              "#0d0887"
             ],
             [
              0.1111111111111111,
              "#46039f"
             ],
             [
              0.2222222222222222,
              "#7201a8"
             ],
             [
              0.3333333333333333,
              "#9c179e"
             ],
             [
              0.4444444444444444,
              "#bd3786"
             ],
             [
              0.5555555555555556,
              "#d8576b"
             ],
             [
              0.6666666666666666,
              "#ed7953"
             ],
             [
              0.7777777777777778,
              "#fb9f3a"
             ],
             [
              0.8888888888888888,
              "#fdca26"
             ],
             [
              1,
              "#f0f921"
             ]
            ],
            "type": "surface"
           }
          ],
          "table": [
           {
            "cells": {
             "fill": {
              "color": "#EBF0F8"
             },
             "line": {
              "color": "white"
             }
            },
            "header": {
             "fill": {
              "color": "#C8D4E3"
             },
             "line": {
              "color": "white"
             }
            },
            "type": "table"
           }
          ]
         },
         "layout": {
          "annotationdefaults": {
           "arrowcolor": "#2a3f5f",
           "arrowhead": 0,
           "arrowwidth": 1
          },
          "autotypenumbers": "strict",
          "coloraxis": {
           "colorbar": {
            "outlinewidth": 0,
            "ticks": ""
           }
          },
          "colorscale": {
           "diverging": [
            [
             0,
             "#8e0152"
            ],
            [
             0.1,
             "#c51b7d"
            ],
            [
             0.2,
             "#de77ae"
            ],
            [
             0.3,
             "#f1b6da"
            ],
            [
             0.4,
             "#fde0ef"
            ],
            [
             0.5,
             "#f7f7f7"
            ],
            [
             0.6,
             "#e6f5d0"
            ],
            [
             0.7,
             "#b8e186"
            ],
            [
             0.8,
             "#7fbc41"
            ],
            [
             0.9,
             "#4d9221"
            ],
            [
             1,
             "#276419"
            ]
           ],
           "sequential": [
            [
             0,
             "#0d0887"
            ],
            [
             0.1111111111111111,
             "#46039f"
            ],
            [
             0.2222222222222222,
             "#7201a8"
            ],
            [
             0.3333333333333333,
             "#9c179e"
            ],
            [
             0.4444444444444444,
             "#bd3786"
            ],
            [
             0.5555555555555556,
             "#d8576b"
            ],
            [
             0.6666666666666666,
             "#ed7953"
            ],
            [
             0.7777777777777778,
             "#fb9f3a"
            ],
            [
             0.8888888888888888,
             "#fdca26"
            ],
            [
             1,
             "#f0f921"
            ]
           ],
           "sequentialminus": [
            [
             0,
             "#0d0887"
            ],
            [
             0.1111111111111111,
             "#46039f"
            ],
            [
             0.2222222222222222,
             "#7201a8"
            ],
            [
             0.3333333333333333,
             "#9c179e"
            ],
            [
             0.4444444444444444,
             "#bd3786"
            ],
            [
             0.5555555555555556,
             "#d8576b"
            ],
            [
             0.6666666666666666,
             "#ed7953"
            ],
            [
             0.7777777777777778,
             "#fb9f3a"
            ],
            [
             0.8888888888888888,
             "#fdca26"
            ],
            [
             1,
             "#f0f921"
            ]
           ]
          },
          "colorway": [
           "#636efa",
           "#EF553B",
           "#00cc96",
           "#ab63fa",
           "#FFA15A",
           "#19d3f3",
           "#FF6692",
           "#B6E880",
           "#FF97FF",
           "#FECB52"
          ],
          "font": {
           "color": "#2a3f5f"
          },
          "geo": {
           "bgcolor": "white",
           "lakecolor": "white",
           "landcolor": "#E5ECF6",
           "showlakes": true,
           "showland": true,
           "subunitcolor": "white"
          },
          "hoverlabel": {
           "align": "left"
          },
          "hovermode": "closest",
          "mapbox": {
           "style": "light"
          },
          "paper_bgcolor": "white",
          "plot_bgcolor": "#E5ECF6",
          "polar": {
           "angularaxis": {
            "gridcolor": "white",
            "linecolor": "white",
            "ticks": ""
           },
           "bgcolor": "#E5ECF6",
           "radialaxis": {
            "gridcolor": "white",
            "linecolor": "white",
            "ticks": ""
           }
          },
          "scene": {
           "xaxis": {
            "backgroundcolor": "#E5ECF6",
            "gridcolor": "white",
            "gridwidth": 2,
            "linecolor": "white",
            "showbackground": true,
            "ticks": "",
            "zerolinecolor": "white"
           },
           "yaxis": {
            "backgroundcolor": "#E5ECF6",
            "gridcolor": "white",
            "gridwidth": 2,
            "linecolor": "white",
            "showbackground": true,
            "ticks": "",
            "zerolinecolor": "white"
           },
           "zaxis": {
            "backgroundcolor": "#E5ECF6",
            "gridcolor": "white",
            "gridwidth": 2,
            "linecolor": "white",
            "showbackground": true,
            "ticks": "",
            "zerolinecolor": "white"
           }
          },
          "shapedefaults": {
           "line": {
            "color": "#2a3f5f"
           }
          },
          "ternary": {
           "aaxis": {
            "gridcolor": "white",
            "linecolor": "white",
            "ticks": ""
           },
           "baxis": {
            "gridcolor": "white",
            "linecolor": "white",
            "ticks": ""
           },
           "bgcolor": "#E5ECF6",
           "caxis": {
            "gridcolor": "white",
            "linecolor": "white",
            "ticks": ""
           }
          },
          "title": {
           "x": 0.05
          },
          "xaxis": {
           "automargin": true,
           "gridcolor": "white",
           "linecolor": "white",
           "ticks": "",
           "title": {
            "standoff": 15
           },
           "zerolinecolor": "white",
           "zerolinewidth": 2
          },
          "yaxis": {
           "automargin": true,
           "gridcolor": "white",
           "linecolor": "white",
           "ticks": "",
           "title": {
            "standoff": 15
           },
           "zerolinecolor": "white",
           "zerolinewidth": 2
          }
         }
        },
        "title": {
         "text": "Hyperparameter Importances"
        },
        "xaxis": {
         "title": {
          "text": "Hyperparameter Importance"
         }
        },
        "yaxis": {
         "title": {
          "text": "Hyperparameter"
         }
        }
       }
      }
     },
     "metadata": {},
     "output_type": "display_data"
    },
    {
     "data": {
      "application/vnd.plotly.v1+json": {
       "config": {
        "plotlyServerURL": "https://plot.ly"
       },
       "data": [
        {
         "marker": {
          "color": [
           0,
           1,
           2,
           3,
           4,
           5,
           6,
           7,
           8,
           9,
           10,
           11,
           12,
           13,
           14,
           15,
           16,
           17,
           18,
           20,
           21,
           22,
           23,
           25,
           26,
           30,
           31,
           32,
           33,
           38,
           39,
           41,
           42,
           44,
           45,
           47,
           49,
           51,
           52,
           53,
           54,
           55,
           58,
           59,
           61,
           62,
           64,
           65,
           67,
           68,
           69,
           71,
           72,
           73,
           75,
           76,
           78,
           81,
           82,
           83,
           86,
           91,
           92,
           93,
           94,
           97,
           98,
           99
          ],
          "colorbar": {
           "title": {
            "text": "Trial"
           },
           "x": 1,
           "xpad": 40
          },
          "colorscale": [
           [
            0,
            "rgb(247,251,255)"
           ],
           [
            0.125,
            "rgb(222,235,247)"
           ],
           [
            0.25,
            "rgb(198,219,239)"
           ],
           [
            0.375,
            "rgb(158,202,225)"
           ],
           [
            0.5,
            "rgb(107,174,214)"
           ],
           [
            0.625,
            "rgb(66,146,198)"
           ],
           [
            0.75,
            "rgb(33,113,181)"
           ],
           [
            0.875,
            "rgb(8,81,156)"
           ],
           [
            1,
            "rgb(8,48,107)"
           ]
          ],
          "line": {
           "color": "Grey",
           "width": 0.5
          },
          "showscale": true
         },
         "mode": "markers",
         "name": "Feasible Trial",
         "showlegend": false,
         "type": "scatter",
         "x": [
          3,
          1,
          1,
          6,
          2,
          3,
          7,
          2,
          4,
          6,
          9,
          9,
          9,
          7,
          8,
          5,
          6,
          8,
          5,
          7,
          7,
          6,
          7,
          7,
          6,
          5,
          6,
          6,
          7,
          7,
          7,
          6,
          7,
          7,
          6,
          9,
          8,
          6,
          6,
          6,
          6,
          6,
          6,
          7,
          6,
          6,
          7,
          7,
          8,
          8,
          8,
          8,
          8,
          8,
          8,
          8,
          8,
          8,
          8,
          9,
          8,
          8,
          8,
          7,
          7,
          7,
          7,
          7
         ],
         "xaxis": "x",
         "y": [
          0.6910493827160494,
          0.5084104938271605,
          0.508641975308642,
          0.5515432098765433,
          0.55625,
          0.6345679012345679,
          0.4613425925925926,
          0.5511574074074074,
          0.758641975308642,
          0.9313271604938271,
          0.9232253086419753,
          0.9232253086419753,
          0.9232253086419753,
          0.9155092592592593,
          0.9202160493827161,
          0.7787808641975309,
          0.8593364197530864,
          0.8857253086419753,
          0.9004629629629629,
          0.9330246913580247,
          0.937037037037037,
          0.9313271604938271,
          0.8921296296296296,
          0.8963734567901235,
          0.8959876543209877,
          0.9010802469135802,
          0.9313271604938271,
          0.9313271604938271,
          0.908641975308642,
          0.939429012345679,
          0.9113425925925925,
          0.9342592592592592,
          0.9277006172839506,
          0.9215277777777777,
          0.9195216049382716,
          0.9097222222222222,
          0.9128858024691358,
          0.9277006172839506,
          0.9339506172839506,
          0.9339506172839506,
          0.9339506172839506,
          0.9339506172839506,
          0.9339506172839506,
          0.9277006172839506,
          0.9339506172839506,
          0.9339506172839506,
          0.9368827160493827,
          0.937037037037037,
          0.9368055555555556,
          0.9368055555555556,
          0.9305555555555556,
          0.9368055555555556,
          0.9368055555555556,
          0.9368055555555556,
          0.9255401234567902,
          0.9368055555555556,
          0.9255401234567902,
          0.9305555555555556,
          0.9368055555555556,
          0.9362654320987654,
          0.9368827160493827,
          0.9368055555555556,
          0.9305555555555556,
          0.9368827160493827,
          0.9368827160493827,
          0.9368827160493827,
          0.9368827160493827,
          0.9368827160493827
         ],
         "yaxis": "y"
        },
        {
         "marker": {
          "color": [
           0,
           1,
           2,
           3,
           4,
           5,
           6,
           7,
           8,
           9,
           10,
           11,
           12,
           13,
           14,
           15,
           16,
           17,
           18,
           20,
           21,
           22,
           23,
           25,
           26,
           30,
           31,
           32,
           33,
           38,
           39,
           41,
           42,
           44,
           45,
           47,
           49,
           51,
           52,
           53,
           54,
           55,
           58,
           59,
           61,
           62,
           64,
           65,
           67,
           68,
           69,
           71,
           72,
           73,
           75,
           76,
           78,
           81,
           82,
           83,
           86,
           91,
           92,
           93,
           94,
           97,
           98,
           99
          ],
          "colorbar": {
           "title": {
            "text": "Trial"
           },
           "x": 1,
           "xpad": 40
          },
          "colorscale": [
           [
            0,
            "rgb(247,251,255)"
           ],
           [
            0.125,
            "rgb(222,235,247)"
           ],
           [
            0.25,
            "rgb(198,219,239)"
           ],
           [
            0.375,
            "rgb(158,202,225)"
           ],
           [
            0.5,
            "rgb(107,174,214)"
           ],
           [
            0.625,
            "rgb(66,146,198)"
           ],
           [
            0.75,
            "rgb(33,113,181)"
           ],
           [
            0.875,
            "rgb(8,81,156)"
           ],
           [
            1,
            "rgb(8,48,107)"
           ]
          ],
          "line": {
           "color": "Grey",
           "width": 0.5
          },
          "showscale": false
         },
         "mode": "markers",
         "name": "Feasible Trial",
         "showlegend": false,
         "type": "scatter",
         "x": [
          15,
          31,
          40,
          28,
          17,
          41,
          18,
          8,
          35,
          5,
          1,
          1,
          1,
          9,
          8,
          49,
          21,
          12,
          3,
          6,
          5,
          5,
          13,
          12,
          6,
          4,
          5,
          5,
          10,
          3,
          2,
          4,
          7,
          8,
          1,
          4,
          9,
          6,
          3,
          3,
          3,
          3,
          3,
          7,
          3,
          3,
          4,
          5,
          5,
          5,
          6,
          5,
          5,
          5,
          7,
          5,
          7,
          6,
          5,
          5,
          4,
          5,
          6,
          4,
          4,
          4,
          4,
          4
         ],
         "xaxis": "x2",
         "y": [
          0.6910493827160494,
          0.5084104938271605,
          0.508641975308642,
          0.5515432098765433,
          0.55625,
          0.6345679012345679,
          0.4613425925925926,
          0.5511574074074074,
          0.758641975308642,
          0.9313271604938271,
          0.9232253086419753,
          0.9232253086419753,
          0.9232253086419753,
          0.9155092592592593,
          0.9202160493827161,
          0.7787808641975309,
          0.8593364197530864,
          0.8857253086419753,
          0.9004629629629629,
          0.9330246913580247,
          0.937037037037037,
          0.9313271604938271,
          0.8921296296296296,
          0.8963734567901235,
          0.8959876543209877,
          0.9010802469135802,
          0.9313271604938271,
          0.9313271604938271,
          0.908641975308642,
          0.939429012345679,
          0.9113425925925925,
          0.9342592592592592,
          0.9277006172839506,
          0.9215277777777777,
          0.9195216049382716,
          0.9097222222222222,
          0.9128858024691358,
          0.9277006172839506,
          0.9339506172839506,
          0.9339506172839506,
          0.9339506172839506,
          0.9339506172839506,
          0.9339506172839506,
          0.9277006172839506,
          0.9339506172839506,
          0.9339506172839506,
          0.9368827160493827,
          0.937037037037037,
          0.9368055555555556,
          0.9368055555555556,
          0.9305555555555556,
          0.9368055555555556,
          0.9368055555555556,
          0.9368055555555556,
          0.9255401234567902,
          0.9368055555555556,
          0.9255401234567902,
          0.9305555555555556,
          0.9368055555555556,
          0.9362654320987654,
          0.9368827160493827,
          0.9368055555555556,
          0.9305555555555556,
          0.9368827160493827,
          0.9368827160493827,
          0.9368827160493827,
          0.9368827160493827,
          0.9368827160493827
         ],
         "yaxis": "y2"
        },
        {
         "marker": {
          "color": [
           0,
           1,
           2,
           3,
           4,
           5,
           6,
           7,
           8,
           9,
           10,
           11,
           12,
           13,
           14,
           15,
           16,
           17,
           18,
           20,
           21,
           22,
           23,
           25,
           26,
           30,
           31,
           32,
           33,
           38,
           39,
           41,
           42,
           44,
           45,
           47,
           49,
           51,
           52,
           53,
           54,
           55,
           58,
           59,
           61,
           62,
           64,
           65,
           67,
           68,
           69,
           71,
           72,
           73,
           75,
           76,
           78,
           81,
           82,
           83,
           86,
           91,
           92,
           93,
           94,
           97,
           98,
           99
          ],
          "colorbar": {
           "title": {
            "text": "Trial"
           },
           "x": 1,
           "xpad": 40
          },
          "colorscale": [
           [
            0,
            "rgb(247,251,255)"
           ],
           [
            0.125,
            "rgb(222,235,247)"
           ],
           [
            0.25,
            "rgb(198,219,239)"
           ],
           [
            0.375,
            "rgb(158,202,225)"
           ],
           [
            0.5,
            "rgb(107,174,214)"
           ],
           [
            0.625,
            "rgb(66,146,198)"
           ],
           [
            0.75,
            "rgb(33,113,181)"
           ],
           [
            0.875,
            "rgb(8,81,156)"
           ],
           [
            1,
            "rgb(8,48,107)"
           ]
          ],
          "line": {
           "color": "Grey",
           "width": 0.5
          },
          "showscale": false
         },
         "mode": "markers",
         "name": "Feasible Trial",
         "showlegend": false,
         "type": "scatter",
         "x": [
          "uniform",
          "distance",
          "distance",
          "uniform",
          "distance",
          "uniform",
          "uniform",
          "uniform",
          "distance",
          "distance",
          "distance",
          "distance",
          "distance",
          "distance",
          "distance",
          "distance",
          "distance",
          "distance",
          "distance",
          "distance",
          "distance",
          "distance",
          "distance",
          "distance",
          "uniform",
          "distance",
          "distance",
          "distance",
          "distance",
          "distance",
          "uniform",
          "distance",
          "distance",
          "distance",
          "distance",
          "uniform",
          "distance",
          "distance",
          "distance",
          "distance",
          "distance",
          "distance",
          "distance",
          "distance",
          "distance",
          "distance",
          "distance",
          "distance",
          "distance",
          "distance",
          "distance",
          "distance",
          "distance",
          "distance",
          "distance",
          "distance",
          "distance",
          "distance",
          "distance",
          "distance",
          "distance",
          "distance",
          "distance",
          "distance",
          "distance",
          "distance",
          "distance",
          "distance"
         ],
         "xaxis": "x3",
         "y": [
          0.6910493827160494,
          0.5084104938271605,
          0.508641975308642,
          0.5515432098765433,
          0.55625,
          0.6345679012345679,
          0.4613425925925926,
          0.5511574074074074,
          0.758641975308642,
          0.9313271604938271,
          0.9232253086419753,
          0.9232253086419753,
          0.9232253086419753,
          0.9155092592592593,
          0.9202160493827161,
          0.7787808641975309,
          0.8593364197530864,
          0.8857253086419753,
          0.9004629629629629,
          0.9330246913580247,
          0.937037037037037,
          0.9313271604938271,
          0.8921296296296296,
          0.8963734567901235,
          0.8959876543209877,
          0.9010802469135802,
          0.9313271604938271,
          0.9313271604938271,
          0.908641975308642,
          0.939429012345679,
          0.9113425925925925,
          0.9342592592592592,
          0.9277006172839506,
          0.9215277777777777,
          0.9195216049382716,
          0.9097222222222222,
          0.9128858024691358,
          0.9277006172839506,
          0.9339506172839506,
          0.9339506172839506,
          0.9339506172839506,
          0.9339506172839506,
          0.9339506172839506,
          0.9277006172839506,
          0.9339506172839506,
          0.9339506172839506,
          0.9368827160493827,
          0.937037037037037,
          0.9368055555555556,
          0.9368055555555556,
          0.9305555555555556,
          0.9368055555555556,
          0.9368055555555556,
          0.9368055555555556,
          0.9255401234567902,
          0.9368055555555556,
          0.9255401234567902,
          0.9305555555555556,
          0.9368055555555556,
          0.9362654320987654,
          0.9368827160493827,
          0.9368055555555556,
          0.9305555555555556,
          0.9368827160493827,
          0.9368827160493827,
          0.9368827160493827,
          0.9368827160493827,
          0.9368827160493827
         ],
         "yaxis": "y3"
        }
       ],
       "layout": {
        "template": {
         "data": {
          "bar": [
           {
            "error_x": {
             "color": "#2a3f5f"
            },
            "error_y": {
             "color": "#2a3f5f"
            },
            "marker": {
             "line": {
              "color": "#E5ECF6",
              "width": 0.5
             },
             "pattern": {
              "fillmode": "overlay",
              "size": 10,
              "solidity": 0.2
             }
            },
            "type": "bar"
           }
          ],
          "barpolar": [
           {
            "marker": {
             "line": {
              "color": "#E5ECF6",
              "width": 0.5
             },
             "pattern": {
              "fillmode": "overlay",
              "size": 10,
              "solidity": 0.2
             }
            },
            "type": "barpolar"
           }
          ],
          "carpet": [
           {
            "aaxis": {
             "endlinecolor": "#2a3f5f",
             "gridcolor": "white",
             "linecolor": "white",
             "minorgridcolor": "white",
             "startlinecolor": "#2a3f5f"
            },
            "baxis": {
             "endlinecolor": "#2a3f5f",
             "gridcolor": "white",
             "linecolor": "white",
             "minorgridcolor": "white",
             "startlinecolor": "#2a3f5f"
            },
            "type": "carpet"
           }
          ],
          "choropleth": [
           {
            "colorbar": {
             "outlinewidth": 0,
             "ticks": ""
            },
            "type": "choropleth"
           }
          ],
          "contour": [
           {
            "colorbar": {
             "outlinewidth": 0,
             "ticks": ""
            },
            "colorscale": [
             [
              0,
              "#0d0887"
             ],
             [
              0.1111111111111111,
              "#46039f"
             ],
             [
              0.2222222222222222,
              "#7201a8"
             ],
             [
              0.3333333333333333,
              "#9c179e"
             ],
             [
              0.4444444444444444,
              "#bd3786"
             ],
             [
              0.5555555555555556,
              "#d8576b"
             ],
             [
              0.6666666666666666,
              "#ed7953"
             ],
             [
              0.7777777777777778,
              "#fb9f3a"
             ],
             [
              0.8888888888888888,
              "#fdca26"
             ],
             [
              1,
              "#f0f921"
             ]
            ],
            "type": "contour"
           }
          ],
          "contourcarpet": [
           {
            "colorbar": {
             "outlinewidth": 0,
             "ticks": ""
            },
            "type": "contourcarpet"
           }
          ],
          "heatmap": [
           {
            "colorbar": {
             "outlinewidth": 0,
             "ticks": ""
            },
            "colorscale": [
             [
              0,
              "#0d0887"
             ],
             [
              0.1111111111111111,
              "#46039f"
             ],
             [
              0.2222222222222222,
              "#7201a8"
             ],
             [
              0.3333333333333333,
              "#9c179e"
             ],
             [
              0.4444444444444444,
              "#bd3786"
             ],
             [
              0.5555555555555556,
              "#d8576b"
             ],
             [
              0.6666666666666666,
              "#ed7953"
             ],
             [
              0.7777777777777778,
              "#fb9f3a"
             ],
             [
              0.8888888888888888,
              "#fdca26"
             ],
             [
              1,
              "#f0f921"
             ]
            ],
            "type": "heatmap"
           }
          ],
          "heatmapgl": [
           {
            "colorbar": {
             "outlinewidth": 0,
             "ticks": ""
            },
            "colorscale": [
             [
              0,
              "#0d0887"
             ],
             [
              0.1111111111111111,
              "#46039f"
             ],
             [
              0.2222222222222222,
              "#7201a8"
             ],
             [
              0.3333333333333333,
              "#9c179e"
             ],
             [
              0.4444444444444444,
              "#bd3786"
             ],
             [
              0.5555555555555556,
              "#d8576b"
             ],
             [
              0.6666666666666666,
              "#ed7953"
             ],
             [
              0.7777777777777778,
              "#fb9f3a"
             ],
             [
              0.8888888888888888,
              "#fdca26"
             ],
             [
              1,
              "#f0f921"
             ]
            ],
            "type": "heatmapgl"
           }
          ],
          "histogram": [
           {
            "marker": {
             "pattern": {
              "fillmode": "overlay",
              "size": 10,
              "solidity": 0.2
             }
            },
            "type": "histogram"
           }
          ],
          "histogram2d": [
           {
            "colorbar": {
             "outlinewidth": 0,
             "ticks": ""
            },
            "colorscale": [
             [
              0,
              "#0d0887"
             ],
             [
              0.1111111111111111,
              "#46039f"
             ],
             [
              0.2222222222222222,
              "#7201a8"
             ],
             [
              0.3333333333333333,
              "#9c179e"
             ],
             [
              0.4444444444444444,
              "#bd3786"
             ],
             [
              0.5555555555555556,
              "#d8576b"
             ],
             [
              0.6666666666666666,
              "#ed7953"
             ],
             [
              0.7777777777777778,
              "#fb9f3a"
             ],
             [
              0.8888888888888888,
              "#fdca26"
             ],
             [
              1,
              "#f0f921"
             ]
            ],
            "type": "histogram2d"
           }
          ],
          "histogram2dcontour": [
           {
            "colorbar": {
             "outlinewidth": 0,
             "ticks": ""
            },
            "colorscale": [
             [
              0,
              "#0d0887"
             ],
             [
              0.1111111111111111,
              "#46039f"
             ],
             [
              0.2222222222222222,
              "#7201a8"
             ],
             [
              0.3333333333333333,
              "#9c179e"
             ],
             [
              0.4444444444444444,
              "#bd3786"
             ],
             [
              0.5555555555555556,
              "#d8576b"
             ],
             [
              0.6666666666666666,
              "#ed7953"
             ],
             [
              0.7777777777777778,
              "#fb9f3a"
             ],
             [
              0.8888888888888888,
              "#fdca26"
             ],
             [
              1,
              "#f0f921"
             ]
            ],
            "type": "histogram2dcontour"
           }
          ],
          "mesh3d": [
           {
            "colorbar": {
             "outlinewidth": 0,
             "ticks": ""
            },
            "type": "mesh3d"
           }
          ],
          "parcoords": [
           {
            "line": {
             "colorbar": {
              "outlinewidth": 0,
              "ticks": ""
             }
            },
            "type": "parcoords"
           }
          ],
          "pie": [
           {
            "automargin": true,
            "type": "pie"
           }
          ],
          "scatter": [
           {
            "fillpattern": {
             "fillmode": "overlay",
             "size": 10,
             "solidity": 0.2
            },
            "type": "scatter"
           }
          ],
          "scatter3d": [
           {
            "line": {
             "colorbar": {
              "outlinewidth": 0,
              "ticks": ""
             }
            },
            "marker": {
             "colorbar": {
              "outlinewidth": 0,
              "ticks": ""
             }
            },
            "type": "scatter3d"
           }
          ],
          "scattercarpet": [
           {
            "marker": {
             "colorbar": {
              "outlinewidth": 0,
              "ticks": ""
             }
            },
            "type": "scattercarpet"
           }
          ],
          "scattergeo": [
           {
            "marker": {
             "colorbar": {
              "outlinewidth": 0,
              "ticks": ""
             }
            },
            "type": "scattergeo"
           }
          ],
          "scattergl": [
           {
            "marker": {
             "colorbar": {
              "outlinewidth": 0,
              "ticks": ""
             }
            },
            "type": "scattergl"
           }
          ],
          "scattermapbox": [
           {
            "marker": {
             "colorbar": {
              "outlinewidth": 0,
              "ticks": ""
             }
            },
            "type": "scattermapbox"
           }
          ],
          "scatterpolar": [
           {
            "marker": {
             "colorbar": {
              "outlinewidth": 0,
              "ticks": ""
             }
            },
            "type": "scatterpolar"
           }
          ],
          "scatterpolargl": [
           {
            "marker": {
             "colorbar": {
              "outlinewidth": 0,
              "ticks": ""
             }
            },
            "type": "scatterpolargl"
           }
          ],
          "scatterternary": [
           {
            "marker": {
             "colorbar": {
              "outlinewidth": 0,
              "ticks": ""
             }
            },
            "type": "scatterternary"
           }
          ],
          "surface": [
           {
            "colorbar": {
             "outlinewidth": 0,
             "ticks": ""
            },
            "colorscale": [
             [
              0,
              "#0d0887"
             ],
             [
              0.1111111111111111,
              "#46039f"
             ],
             [
              0.2222222222222222,
              "#7201a8"
             ],
             [
              0.3333333333333333,
              "#9c179e"
             ],
             [
              0.4444444444444444,
              "#bd3786"
             ],
             [
              0.5555555555555556,
              "#d8576b"
             ],
             [
              0.6666666666666666,
              "#ed7953"
             ],
             [
              0.7777777777777778,
              "#fb9f3a"
             ],
             [
              0.8888888888888888,
              "#fdca26"
             ],
             [
              1,
              "#f0f921"
             ]
            ],
            "type": "surface"
           }
          ],
          "table": [
           {
            "cells": {
             "fill": {
              "color": "#EBF0F8"
             },
             "line": {
              "color": "white"
             }
            },
            "header": {
             "fill": {
              "color": "#C8D4E3"
             },
             "line": {
              "color": "white"
             }
            },
            "type": "table"
           }
          ]
         },
         "layout": {
          "annotationdefaults": {
           "arrowcolor": "#2a3f5f",
           "arrowhead": 0,
           "arrowwidth": 1
          },
          "autotypenumbers": "strict",
          "coloraxis": {
           "colorbar": {
            "outlinewidth": 0,
            "ticks": ""
           }
          },
          "colorscale": {
           "diverging": [
            [
             0,
             "#8e0152"
            ],
            [
             0.1,
             "#c51b7d"
            ],
            [
             0.2,
             "#de77ae"
            ],
            [
             0.3,
             "#f1b6da"
            ],
            [
             0.4,
             "#fde0ef"
            ],
            [
             0.5,
             "#f7f7f7"
            ],
            [
             0.6,
             "#e6f5d0"
            ],
            [
             0.7,
             "#b8e186"
            ],
            [
             0.8,
             "#7fbc41"
            ],
            [
             0.9,
             "#4d9221"
            ],
            [
             1,
             "#276419"
            ]
           ],
           "sequential": [
            [
             0,
             "#0d0887"
            ],
            [
             0.1111111111111111,
             "#46039f"
            ],
            [
             0.2222222222222222,
             "#7201a8"
            ],
            [
             0.3333333333333333,
             "#9c179e"
            ],
            [
             0.4444444444444444,
             "#bd3786"
            ],
            [
             0.5555555555555556,
             "#d8576b"
            ],
            [
             0.6666666666666666,
             "#ed7953"
            ],
            [
             0.7777777777777778,
             "#fb9f3a"
            ],
            [
             0.8888888888888888,
             "#fdca26"
            ],
            [
             1,
             "#f0f921"
            ]
           ],
           "sequentialminus": [
            [
             0,
             "#0d0887"
            ],
            [
             0.1111111111111111,
             "#46039f"
            ],
            [
             0.2222222222222222,
             "#7201a8"
            ],
            [
             0.3333333333333333,
             "#9c179e"
            ],
            [
             0.4444444444444444,
             "#bd3786"
            ],
            [
             0.5555555555555556,
             "#d8576b"
            ],
            [
             0.6666666666666666,
             "#ed7953"
            ],
            [
             0.7777777777777778,
             "#fb9f3a"
            ],
            [
             0.8888888888888888,
             "#fdca26"
            ],
            [
             1,
             "#f0f921"
            ]
           ]
          },
          "colorway": [
           "#636efa",
           "#EF553B",
           "#00cc96",
           "#ab63fa",
           "#FFA15A",
           "#19d3f3",
           "#FF6692",
           "#B6E880",
           "#FF97FF",
           "#FECB52"
          ],
          "font": {
           "color": "#2a3f5f"
          },
          "geo": {
           "bgcolor": "white",
           "lakecolor": "white",
           "landcolor": "#E5ECF6",
           "showlakes": true,
           "showland": true,
           "subunitcolor": "white"
          },
          "hoverlabel": {
           "align": "left"
          },
          "hovermode": "closest",
          "mapbox": {
           "style": "light"
          },
          "paper_bgcolor": "white",
          "plot_bgcolor": "#E5ECF6",
          "polar": {
           "angularaxis": {
            "gridcolor": "white",
            "linecolor": "white",
            "ticks": ""
           },
           "bgcolor": "#E5ECF6",
           "radialaxis": {
            "gridcolor": "white",
            "linecolor": "white",
            "ticks": ""
           }
          },
          "scene": {
           "xaxis": {
            "backgroundcolor": "#E5ECF6",
            "gridcolor": "white",
            "gridwidth": 2,
            "linecolor": "white",
            "showbackground": true,
            "ticks": "",
            "zerolinecolor": "white"
           },
           "yaxis": {
            "backgroundcolor": "#E5ECF6",
            "gridcolor": "white",
            "gridwidth": 2,
            "linecolor": "white",
            "showbackground": true,
            "ticks": "",
            "zerolinecolor": "white"
           },
           "zaxis": {
            "backgroundcolor": "#E5ECF6",
            "gridcolor": "white",
            "gridwidth": 2,
            "linecolor": "white",
            "showbackground": true,
            "ticks": "",
            "zerolinecolor": "white"
           }
          },
          "shapedefaults": {
           "line": {
            "color": "#2a3f5f"
           }
          },
          "ternary": {
           "aaxis": {
            "gridcolor": "white",
            "linecolor": "white",
            "ticks": ""
           },
           "baxis": {
            "gridcolor": "white",
            "linecolor": "white",
            "ticks": ""
           },
           "bgcolor": "#E5ECF6",
           "caxis": {
            "gridcolor": "white",
            "linecolor": "white",
            "ticks": ""
           }
          },
          "title": {
           "x": 0.05
          },
          "xaxis": {
           "automargin": true,
           "gridcolor": "white",
           "linecolor": "white",
           "ticks": "",
           "title": {
            "standoff": 15
           },
           "zerolinecolor": "white",
           "zerolinewidth": 2
          },
          "yaxis": {
           "automargin": true,
           "gridcolor": "white",
           "linecolor": "white",
           "ticks": "",
           "title": {
            "standoff": 15
           },
           "zerolinecolor": "white",
           "zerolinewidth": 2
          }
         }
        },
        "title": {
         "text": "Slice Plot"
        },
        "xaxis": {
         "anchor": "y",
         "domain": [
          0,
          0.2888888888888889
         ],
         "title": {
          "text": "n_components"
         }
        },
        "xaxis2": {
         "anchor": "y2",
         "domain": [
          0.35555555555555557,
          0.6444444444444445
         ],
         "title": {
          "text": "n_neighbors"
         }
        },
        "xaxis3": {
         "anchor": "y3",
         "categoryarray": [
          "uniform",
          "distance"
         ],
         "categoryorder": "array",
         "domain": [
          0.7111111111111111,
          1
         ],
         "title": {
          "text": "weights"
         },
         "type": "category"
        },
        "yaxis": {
         "anchor": "x",
         "domain": [
          0,
          1
         ],
         "title": {
          "text": "Objective Value"
         }
        },
        "yaxis2": {
         "anchor": "x2",
         "domain": [
          0,
          1
         ],
         "matches": "y",
         "showticklabels": false
        },
        "yaxis3": {
         "anchor": "x3",
         "domain": [
          0,
          1
         ],
         "matches": "y",
         "showticklabels": false
        }
       }
      }
     },
     "metadata": {},
     "output_type": "display_data"
    },
    {
     "ename": "ValueError",
     "evalue": "X has 9 features, but KNeighborsClassifier is expecting 7 features as input.",
     "output_type": "error",
     "traceback": [
      "\u001b[0;31m---------------------------------------------------------------------------\u001b[0m",
      "\u001b[0;31mValueError\u001b[0m                                Traceback (most recent call last)",
      "Cell \u001b[0;32mIn[26], line 87\u001b[0m\n\u001b[1;32m     85\u001b[0m \u001b[38;5;66;03m# Evaluate on the validation set\u001b[39;00m\n\u001b[1;32m     86\u001b[0m X_test_scaled \u001b[38;5;241m=\u001b[39m best_scaler\u001b[38;5;241m.\u001b[39mtransform(X_test)\n\u001b[0;32m---> 87\u001b[0m y_test_pred \u001b[38;5;241m=\u001b[39m \u001b[43mbest_model\u001b[49m\u001b[38;5;241;43m.\u001b[39;49m\u001b[43mpredict\u001b[49m\u001b[43m(\u001b[49m\u001b[43mX_test_scaled\u001b[49m\u001b[43m)\u001b[49m\n\u001b[1;32m     88\u001b[0m val_accuracy \u001b[38;5;241m=\u001b[39m accuracy_score(y_test, y_test_pred)\n",
      "File \u001b[0;32m~/fb224/MML-CW/venv/lib/python3.12/site-packages/sklearn/neighbors/_classification.py:274\u001b[0m, in \u001b[0;36mKNeighborsClassifier.predict\u001b[0;34m(self, X)\u001b[0m\n\u001b[1;32m    272\u001b[0m     neigh_dist \u001b[38;5;241m=\u001b[39m \u001b[38;5;28;01mNone\u001b[39;00m\n\u001b[1;32m    273\u001b[0m \u001b[38;5;28;01melse\u001b[39;00m:\n\u001b[0;32m--> 274\u001b[0m     neigh_dist, neigh_ind \u001b[38;5;241m=\u001b[39m \u001b[38;5;28;43mself\u001b[39;49m\u001b[38;5;241;43m.\u001b[39;49m\u001b[43mkneighbors\u001b[49m\u001b[43m(\u001b[49m\u001b[43mX\u001b[49m\u001b[43m)\u001b[49m\n\u001b[1;32m    276\u001b[0m classes_ \u001b[38;5;241m=\u001b[39m \u001b[38;5;28mself\u001b[39m\u001b[38;5;241m.\u001b[39mclasses_\n\u001b[1;32m    277\u001b[0m _y \u001b[38;5;241m=\u001b[39m \u001b[38;5;28mself\u001b[39m\u001b[38;5;241m.\u001b[39m_y\n",
      "File \u001b[0;32m~/fb224/MML-CW/venv/lib/python3.12/site-packages/sklearn/neighbors/_base.py:825\u001b[0m, in \u001b[0;36mKNeighborsMixin.kneighbors\u001b[0;34m(self, X, n_neighbors, return_distance)\u001b[0m\n\u001b[1;32m    823\u001b[0m         X \u001b[38;5;241m=\u001b[39m _check_precomputed(X)\n\u001b[1;32m    824\u001b[0m     \u001b[38;5;28;01melse\u001b[39;00m:\n\u001b[0;32m--> 825\u001b[0m         X \u001b[38;5;241m=\u001b[39m \u001b[38;5;28;43mself\u001b[39;49m\u001b[38;5;241;43m.\u001b[39;49m\u001b[43m_validate_data\u001b[49m\u001b[43m(\u001b[49m\u001b[43mX\u001b[49m\u001b[43m,\u001b[49m\u001b[43m \u001b[49m\u001b[43maccept_sparse\u001b[49m\u001b[38;5;241;43m=\u001b[39;49m\u001b[38;5;124;43m\"\u001b[39;49m\u001b[38;5;124;43mcsr\u001b[39;49m\u001b[38;5;124;43m\"\u001b[39;49m\u001b[43m,\u001b[49m\u001b[43m \u001b[49m\u001b[43mreset\u001b[49m\u001b[38;5;241;43m=\u001b[39;49m\u001b[38;5;28;43;01mFalse\u001b[39;49;00m\u001b[43m,\u001b[49m\u001b[43m \u001b[49m\u001b[43morder\u001b[49m\u001b[38;5;241;43m=\u001b[39;49m\u001b[38;5;124;43m\"\u001b[39;49m\u001b[38;5;124;43mC\u001b[39;49m\u001b[38;5;124;43m\"\u001b[39;49m\u001b[43m)\u001b[49m\n\u001b[1;32m    827\u001b[0m n_samples_fit \u001b[38;5;241m=\u001b[39m \u001b[38;5;28mself\u001b[39m\u001b[38;5;241m.\u001b[39mn_samples_fit_\n\u001b[1;32m    828\u001b[0m \u001b[38;5;28;01mif\u001b[39;00m n_neighbors \u001b[38;5;241m>\u001b[39m n_samples_fit:\n",
      "File \u001b[0;32m~/fb224/MML-CW/venv/lib/python3.12/site-packages/sklearn/base.py:654\u001b[0m, in \u001b[0;36mBaseEstimator._validate_data\u001b[0;34m(self, X, y, reset, validate_separately, cast_to_ndarray, **check_params)\u001b[0m\n\u001b[1;32m    651\u001b[0m     out \u001b[38;5;241m=\u001b[39m X, y\n\u001b[1;32m    653\u001b[0m \u001b[38;5;28;01mif\u001b[39;00m \u001b[38;5;129;01mnot\u001b[39;00m no_val_X \u001b[38;5;129;01mand\u001b[39;00m check_params\u001b[38;5;241m.\u001b[39mget(\u001b[38;5;124m\"\u001b[39m\u001b[38;5;124mensure_2d\u001b[39m\u001b[38;5;124m\"\u001b[39m, \u001b[38;5;28;01mTrue\u001b[39;00m):\n\u001b[0;32m--> 654\u001b[0m     \u001b[38;5;28;43mself\u001b[39;49m\u001b[38;5;241;43m.\u001b[39;49m\u001b[43m_check_n_features\u001b[49m\u001b[43m(\u001b[49m\u001b[43mX\u001b[49m\u001b[43m,\u001b[49m\u001b[43m \u001b[49m\u001b[43mreset\u001b[49m\u001b[38;5;241;43m=\u001b[39;49m\u001b[43mreset\u001b[49m\u001b[43m)\u001b[49m\n\u001b[1;32m    656\u001b[0m \u001b[38;5;28;01mreturn\u001b[39;00m out\n",
      "File \u001b[0;32m~/fb224/MML-CW/venv/lib/python3.12/site-packages/sklearn/base.py:443\u001b[0m, in \u001b[0;36mBaseEstimator._check_n_features\u001b[0;34m(self, X, reset)\u001b[0m\n\u001b[1;32m    440\u001b[0m     \u001b[38;5;28;01mreturn\u001b[39;00m\n\u001b[1;32m    442\u001b[0m \u001b[38;5;28;01mif\u001b[39;00m n_features \u001b[38;5;241m!=\u001b[39m \u001b[38;5;28mself\u001b[39m\u001b[38;5;241m.\u001b[39mn_features_in_:\n\u001b[0;32m--> 443\u001b[0m     \u001b[38;5;28;01mraise\u001b[39;00m \u001b[38;5;167;01mValueError\u001b[39;00m(\n\u001b[1;32m    444\u001b[0m         \u001b[38;5;124mf\u001b[39m\u001b[38;5;124m\"\u001b[39m\u001b[38;5;124mX has \u001b[39m\u001b[38;5;132;01m{\u001b[39;00mn_features\u001b[38;5;132;01m}\u001b[39;00m\u001b[38;5;124m features, but \u001b[39m\u001b[38;5;132;01m{\u001b[39;00m\u001b[38;5;28mself\u001b[39m\u001b[38;5;241m.\u001b[39m\u001b[38;5;18m__class__\u001b[39m\u001b[38;5;241m.\u001b[39m\u001b[38;5;18m__name__\u001b[39m\u001b[38;5;132;01m}\u001b[39;00m\u001b[38;5;124m \u001b[39m\u001b[38;5;124m\"\u001b[39m\n\u001b[1;32m    445\u001b[0m         \u001b[38;5;124mf\u001b[39m\u001b[38;5;124m\"\u001b[39m\u001b[38;5;124mis expecting \u001b[39m\u001b[38;5;132;01m{\u001b[39;00m\u001b[38;5;28mself\u001b[39m\u001b[38;5;241m.\u001b[39mn_features_in_\u001b[38;5;132;01m}\u001b[39;00m\u001b[38;5;124m features as input.\u001b[39m\u001b[38;5;124m\"\u001b[39m\n\u001b[1;32m    446\u001b[0m     )\n",
      "\u001b[0;31mValueError\u001b[0m: X has 9 features, but KNeighborsClassifier is expecting 7 features as input."
     ]
    }
   ],
   "source": [
    "import numpy as np\n",
    "import joblib  # for saving the model\n",
    "from sklearn.model_selection import train_test_split\n",
    "from sklearn.preprocessing import StandardScaler\n",
    "from sklearn.metrics import accuracy_score\n",
    "from sklearn.decomposition import KernelPCA, PCA\n",
    "from sklearn.neighbors import KNeighborsClassifier\n",
    "import optuna\n",
    "import optuna.visualization as vis\n",
    "\n",
    "n = 9\n",
    "\n",
    "X = np.load('Datasets/kryptonite-%s-X.npy' % (n))\n",
    "y = np.load('Datasets/kryptonite-%s-y.npy' % (n))\n",
    "\n",
    "X_train_total, X_test, y_train_total, y_test = train_test_split(X, y, test_size=0.1, random_state=42)  # 10% of all data for final model evaluation\n",
    "\n",
    "# To hold the best model and accuracy score\n",
    "best_model = None\n",
    "best_accuracy = -1\n",
    "\n",
    "def objective(trial):\n",
    "    global best_model, best_scaler, best_accuracy, best_pca\n",
    "\n",
    "    # Shuffle and split data\n",
    "    X_train, X_val, y_train, y_val = train_test_split(X_train_total, y_train_total, test_size=0.8, random_state=42)\n",
    "\n",
    "    scaler = StandardScaler()\n",
    "    X_train_scaled = scaler.fit_transform(X_train)\n",
    "    X_val_scaled = scaler.transform(X_val)\n",
    "\n",
    "    pca = PCA(n_components=trial.suggest_int('n_components', 1, X_train_scaled.shape[1]))\n",
    "    X_train_scaled = pca.fit_transform(X_train_scaled)\n",
    "    X_val_scaled = pca.transform(X_val_scaled)\n",
    "\n",
    "    # KNN Classifier parameters\n",
    "    classifier = KNeighborsClassifier(\n",
    "        n_neighbors=trial.suggest_int('n_neighbors', 1, 50),\n",
    "        weights=trial.suggest_categorical('weights', ['uniform', 'distance']),\n",
    "        n_jobs=-1\n",
    "    )\n",
    "\n",
    "    # Train the classifier\n",
    "    classifier.fit(X_train_scaled, y_train)\n",
    "\n",
    "    # Evaluate on the validation set\n",
    "    y_val_pred = classifier.predict(X_val_scaled)\n",
    "    val_accuracy = accuracy_score(y_val, y_val_pred)\n",
    "\n",
    "    # Report validation accuracy for pruning\n",
    "    trial.report(val_accuracy, step=0)\n",
    "\n",
    "    # Check if the trial should be pruned\n",
    "    if trial.should_prune():\n",
    "        raise optuna.TrialPruned()\n",
    "\n",
    "    # If this is the best model so far, save it\n",
    "    if val_accuracy > best_accuracy:\n",
    "        best_accuracy = val_accuracy\n",
    "        best_model = classifier  # Update the best model\n",
    "        best_scaler = scaler\n",
    "        best_pca = pca\n",
    "        # Save the best model\n",
    "        joblib.dump(best_model, 'best_knn_model.joblib')\n",
    "        print(f\"New best model saved with accuracy: {best_accuracy:.4f}\")\n",
    "\n",
    "    return val_accuracy\n",
    "\n",
    "# Create a study object with a pruner\n",
    "pruner = optuna.pruners.MedianPruner(n_startup_trials=10)\n",
    "study = optuna.create_study(direction=\"maximize\", pruner=pruner)\n",
    "\n",
    "# Optimize the objective function\n",
    "study.optimize(objective, n_trials=100)\n",
    "\n",
    "print(\"Best hyperparameters:\", study.best_params)\n",
    "print(\"Best value:\", study.best_value)\n",
    "print(\"Best model saved as 'best_knn_model.joblib'.\")\n",
    "\n",
    "# Optional: Visualize optimization results\n",
    "vis.plot_optimization_history(study).show()\n",
    "vis.plot_param_importances(study).show()\n",
    "vis.plot_slice(study).show()\n",
    "\n",
    "# Evaluate on the validation set\n",
    "X_test_scaled = best_scaler.transform(X_test)\n",
    "X_test_scaled = best_pca.transform(X_test_scaled)\n",
    "y_test_pred = best_model.predict(X_test_scaled)\n",
    "val_accuracy = accuracy_score(y_test, y_test_pred)\n"
   ]
  }
 ],
 "metadata": {
  "kernelspec": {
   "display_name": "venv",
   "language": "python",
   "name": "python3"
  },
  "language_info": {
   "codemirror_mode": {
    "name": "ipython",
    "version": 3
   },
   "file_extension": ".py",
   "mimetype": "text/x-python",
   "name": "python",
   "nbconvert_exporter": "python",
   "pygments_lexer": "ipython3",
   "version": "3.12.3"
  }
 },
 "nbformat": 4,
 "nbformat_minor": 2
}
