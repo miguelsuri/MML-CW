{
 "cells": [
  {
   "cell_type": "code",
   "execution_count": 10,
   "metadata": {},
   "outputs": [
    {
     "name": "stderr",
     "output_type": "stream",
     "text": [
      "[I 2024-11-11 19:52:30,045] A new study created in memory with name: no-name-093dad15-1092-465e-aea7-eb6cf16ae285\n",
      "[I 2024-11-11 19:52:30,331] Trial 0 finished with value: 0.7672916666666667 and parameters: {'use_pca': 'False', 'n_neighbors': 42, 'weights': 'distance'}. Best is trial 0 with value: 0.7672916666666667.\n",
      "[I 2024-11-11 19:52:30,811] Trial 1 finished with value: 0.5110416666666666 and parameters: {'use_pca': 'True', 'pca_kernel': 'sigmoid', 'gamma_pca': 0.9491388988479436, 'n_pca_components': 4, 'n_neighbors': 27, 'weights': 'distance'}. Best is trial 0 with value: 0.7672916666666667.\n",
      "[I 2024-11-11 19:52:31,406] Trial 2 finished with value: 0.49805555555555553 and parameters: {'use_pca': 'True', 'pca_kernel': 'cosine', 'n_pca_components': 1, 'n_neighbors': 20, 'weights': 'uniform'}. Best is trial 0 with value: 0.7672916666666667.\n",
      "[I 2024-11-11 19:52:31,838] Trial 3 finished with value: 0.7422916666666667 and parameters: {'use_pca': 'False', 'n_neighbors': 10, 'weights': 'uniform'}. Best is trial 0 with value: 0.7672916666666667.\n",
      "[I 2024-11-11 19:52:32,361] Trial 4 finished with value: 0.25381944444444443 and parameters: {'use_pca': 'False', 'n_neighbors': 37, 'weights': 'uniform'}. Best is trial 0 with value: 0.7672916666666667.\n",
      "[I 2024-11-11 19:52:33,221] Trial 5 pruned. \n",
      "[I 2024-11-11 19:52:33,805] Trial 6 pruned. \n",
      "[I 2024-11-11 19:52:34,245] Trial 7 finished with value: 0.7863194444444445 and parameters: {'use_pca': 'False', 'n_neighbors': 9, 'weights': 'uniform'}. Best is trial 7 with value: 0.7863194444444445.\n",
      "[I 2024-11-11 19:52:34,506] Trial 8 finished with value: 0.7734027777777778 and parameters: {'use_pca': 'False', 'n_neighbors': 24, 'weights': 'distance'}. Best is trial 7 with value: 0.7863194444444445.\n",
      "[I 2024-11-11 19:52:35,339] Trial 9 pruned. \n",
      "[I 2024-11-11 19:52:35,728] Trial 10 finished with value: 0.8232638888888889 and parameters: {'use_pca': 'False', 'n_neighbors': 8, 'weights': 'uniform'}. Best is trial 10 with value: 0.8232638888888889.\n",
      "[I 2024-11-11 19:52:36,081] Trial 11 finished with value: 0.9338888888888889 and parameters: {'use_pca': 'False', 'n_neighbors': 5, 'weights': 'uniform'}. Best is trial 11 with value: 0.9338888888888889.\n",
      "[I 2024-11-11 19:52:36,429] Trial 12 finished with value: 0.8919444444444444 and parameters: {'use_pca': 'False', 'n_neighbors': 6, 'weights': 'uniform'}. Best is trial 11 with value: 0.9338888888888889.\n",
      "[I 2024-11-11 19:52:36,914] Trial 13 pruned. \n",
      "[I 2024-11-11 19:52:37,247] Trial 14 finished with value: 0.9338888888888889 and parameters: {'use_pca': 'False', 'n_neighbors': 5, 'weights': 'uniform'}. Best is trial 11 with value: 0.9338888888888889.\n",
      "[I 2024-11-11 19:52:37,718] Trial 15 pruned. \n",
      "[I 2024-11-11 19:52:38,188] Trial 16 pruned. \n",
      "[I 2024-11-11 19:52:38,520] Trial 17 finished with value: 0.9338888888888889 and parameters: {'use_pca': 'False', 'n_neighbors': 5, 'weights': 'uniform'}. Best is trial 11 with value: 0.9338888888888889.\n",
      "[I 2024-11-11 19:52:38,785] Trial 18 pruned. \n",
      "[I 2024-11-11 19:52:39,241] Trial 19 pruned. \n",
      "[I 2024-11-11 19:52:39,701] Trial 20 pruned. \n",
      "[I 2024-11-11 19:52:40,029] Trial 21 finished with value: 0.9338888888888889 and parameters: {'use_pca': 'False', 'n_neighbors': 5, 'weights': 'uniform'}. Best is trial 11 with value: 0.9338888888888889.\n",
      "[I 2024-11-11 19:52:40,376] Trial 22 finished with value: 0.9338888888888889 and parameters: {'use_pca': 'False', 'n_neighbors': 5, 'weights': 'uniform'}. Best is trial 11 with value: 0.9338888888888889.\n",
      "[I 2024-11-11 19:52:40,824] Trial 23 pruned. \n",
      "[I 2024-11-11 19:52:41,330] Trial 24 pruned. \n",
      "[I 2024-11-11 19:52:41,755] Trial 25 pruned. \n",
      "[I 2024-11-11 19:52:42,467] Trial 26 pruned. \n",
      "[I 2024-11-11 19:52:42,920] Trial 27 pruned. \n",
      "[I 2024-11-11 19:52:43,252] Trial 28 finished with value: 0.9338888888888889 and parameters: {'use_pca': 'False', 'n_neighbors': 5, 'weights': 'uniform'}. Best is trial 11 with value: 0.9338888888888889.\n",
      "[I 2024-11-11 19:52:43,542] Trial 29 pruned. \n",
      "[I 2024-11-11 19:52:44,039] Trial 30 pruned. \n",
      "[I 2024-11-11 19:52:44,402] Trial 31 finished with value: 0.9338888888888889 and parameters: {'use_pca': 'False', 'n_neighbors': 5, 'weights': 'uniform'}. Best is trial 11 with value: 0.9338888888888889.\n",
      "[I 2024-11-11 19:52:44,784] Trial 32 pruned. \n",
      "[I 2024-11-11 19:52:45,238] Trial 33 pruned. \n",
      "[I 2024-11-11 19:52:46,268] Trial 34 pruned. \n",
      "[I 2024-11-11 19:52:46,665] Trial 35 pruned. \n",
      "[I 2024-11-11 19:52:46,908] Trial 36 pruned. \n",
      "[I 2024-11-11 19:52:47,518] Trial 37 pruned. \n",
      "[I 2024-11-11 19:52:47,973] Trial 38 pruned. \n",
      "[I 2024-11-11 19:52:48,616] Trial 39 pruned. \n",
      "[I 2024-11-11 19:52:48,755] Trial 40 finished with value: 0.9215972222222222 and parameters: {'use_pca': 'False', 'n_neighbors': 10, 'weights': 'distance'}. Best is trial 11 with value: 0.9338888888888889.\n",
      "[I 2024-11-11 19:52:49,130] Trial 41 pruned. \n",
      "[I 2024-11-11 19:52:49,476] Trial 42 finished with value: 0.9338888888888889 and parameters: {'use_pca': 'False', 'n_neighbors': 5, 'weights': 'uniform'}. Best is trial 11 with value: 0.9338888888888889.\n",
      "[I 2024-11-11 19:52:49,855] Trial 43 pruned. \n",
      "[I 2024-11-11 19:52:50,362] Trial 44 pruned. \n",
      "[I 2024-11-11 19:52:50,766] Trial 45 pruned. \n",
      "[I 2024-11-11 19:52:51,220] Trial 46 pruned. \n",
      "[I 2024-11-11 19:52:51,674] Trial 47 pruned. \n",
      "[I 2024-11-11 19:52:52,603] Trial 48 pruned. \n",
      "[I 2024-11-11 19:52:53,074] Trial 49 pruned. \n",
      "[I 2024-11-11 19:52:53,247] Trial 50 finished with value: 0.9215972222222222 and parameters: {'use_pca': 'False', 'n_neighbors': 10, 'weights': 'distance'}. Best is trial 11 with value: 0.9338888888888889.\n",
      "[I 2024-11-11 19:52:53,572] Trial 51 finished with value: 0.9338888888888889 and parameters: {'use_pca': 'False', 'n_neighbors': 5, 'weights': 'uniform'}. Best is trial 11 with value: 0.9338888888888889.\n",
      "[I 2024-11-11 19:52:53,911] Trial 52 finished with value: 0.9338888888888889 and parameters: {'use_pca': 'False', 'n_neighbors': 5, 'weights': 'uniform'}. Best is trial 11 with value: 0.9338888888888889.\n",
      "[I 2024-11-11 19:52:54,301] Trial 53 pruned. \n",
      "[I 2024-11-11 19:52:54,626] Trial 54 pruned. \n",
      "[I 2024-11-11 19:52:55,044] Trial 55 pruned. \n",
      "[I 2024-11-11 19:52:55,408] Trial 56 pruned. \n",
      "[I 2024-11-11 19:52:55,853] Trial 57 pruned. \n",
      "[I 2024-11-11 19:52:56,258] Trial 58 pruned. \n",
      "[I 2024-11-11 19:52:56,915] Trial 59 pruned. \n",
      "[I 2024-11-11 19:52:57,015] Trial 60 finished with value: 0.9496527777777778 and parameters: {'use_pca': 'False', 'n_neighbors': 6, 'weights': 'distance'}. Best is trial 60 with value: 0.9496527777777778.\n",
      "[I 2024-11-11 19:52:57,104] Trial 61 finished with value: 0.9496527777777778 and parameters: {'use_pca': 'False', 'n_neighbors': 6, 'weights': 'distance'}. Best is trial 60 with value: 0.9496527777777778.\n",
      "[I 2024-11-11 19:52:57,209] Trial 62 finished with value: 0.9465277777777777 and parameters: {'use_pca': 'False', 'n_neighbors': 7, 'weights': 'distance'}. Best is trial 60 with value: 0.9496527777777778.\n",
      "[I 2024-11-11 19:52:57,319] Trial 63 finished with value: 0.9465277777777777 and parameters: {'use_pca': 'False', 'n_neighbors': 7, 'weights': 'distance'}. Best is trial 60 with value: 0.9496527777777778.\n",
      "[I 2024-11-11 19:52:57,447] Trial 64 pruned. \n",
      "[I 2024-11-11 19:52:57,572] Trial 65 finished with value: 0.9465277777777777 and parameters: {'use_pca': 'False', 'n_neighbors': 7, 'weights': 'distance'}. Best is trial 60 with value: 0.9496527777777778.\n",
      "[I 2024-11-11 19:52:57,770] Trial 66 pruned. \n",
      "[I 2024-11-11 19:52:57,899] Trial 67 finished with value: 0.9465277777777777 and parameters: {'use_pca': 'False', 'n_neighbors': 7, 'weights': 'distance'}. Best is trial 60 with value: 0.9496527777777778.\n",
      "[I 2024-11-11 19:52:58,023] Trial 68 finished with value: 0.9465277777777777 and parameters: {'use_pca': 'False', 'n_neighbors': 7, 'weights': 'distance'}. Best is trial 60 with value: 0.9496527777777778.\n",
      "[I 2024-11-11 19:52:58,202] Trial 69 pruned. \n",
      "[I 2024-11-11 19:52:58,332] Trial 70 finished with value: 0.9465277777777777 and parameters: {'use_pca': 'False', 'n_neighbors': 7, 'weights': 'distance'}. Best is trial 60 with value: 0.9496527777777778.\n",
      "[I 2024-11-11 19:52:58,432] Trial 71 finished with value: 0.9465277777777777 and parameters: {'use_pca': 'False', 'n_neighbors': 7, 'weights': 'distance'}. Best is trial 60 with value: 0.9496527777777778.\n",
      "[I 2024-11-11 19:52:58,558] Trial 72 pruned. \n",
      "[I 2024-11-11 19:52:58,670] Trial 73 finished with value: 0.9465277777777777 and parameters: {'use_pca': 'False', 'n_neighbors': 7, 'weights': 'distance'}. Best is trial 60 with value: 0.9496527777777778.\n",
      "[I 2024-11-11 19:52:58,839] Trial 74 pruned. \n",
      "[I 2024-11-11 19:52:58,989] Trial 75 pruned. \n",
      "[I 2024-11-11 19:52:59,078] Trial 76 finished with value: 0.9496527777777778 and parameters: {'use_pca': 'False', 'n_neighbors': 6, 'weights': 'distance'}. Best is trial 60 with value: 0.9496527777777778.\n",
      "[I 2024-11-11 19:52:59,211] Trial 77 pruned. \n",
      "[I 2024-11-11 19:52:59,309] Trial 78 finished with value: 0.9496527777777778 and parameters: {'use_pca': 'False', 'n_neighbors': 6, 'weights': 'distance'}. Best is trial 60 with value: 0.9496527777777778.\n",
      "[I 2024-11-11 19:52:59,889] Trial 79 pruned. \n",
      "[I 2024-11-11 19:53:00,077] Trial 80 pruned. \n",
      "[I 2024-11-11 19:53:00,172] Trial 81 finished with value: 0.9496527777777778 and parameters: {'use_pca': 'False', 'n_neighbors': 6, 'weights': 'distance'}. Best is trial 60 with value: 0.9496527777777778.\n",
      "[I 2024-11-11 19:53:00,279] Trial 82 finished with value: 0.9496527777777778 and parameters: {'use_pca': 'False', 'n_neighbors': 6, 'weights': 'distance'}. Best is trial 60 with value: 0.9496527777777778.\n",
      "[I 2024-11-11 19:53:00,374] Trial 83 finished with value: 0.9496527777777778 and parameters: {'use_pca': 'False', 'n_neighbors': 6, 'weights': 'distance'}. Best is trial 60 with value: 0.9496527777777778.\n",
      "[I 2024-11-11 19:53:00,469] Trial 84 finished with value: 0.9496527777777778 and parameters: {'use_pca': 'False', 'n_neighbors': 6, 'weights': 'distance'}. Best is trial 60 with value: 0.9496527777777778.\n",
      "[I 2024-11-11 19:53:00,564] Trial 85 finished with value: 0.9496527777777778 and parameters: {'use_pca': 'False', 'n_neighbors': 6, 'weights': 'distance'}. Best is trial 60 with value: 0.9496527777777778.\n",
      "[I 2024-11-11 19:53:00,692] Trial 86 pruned. \n",
      "[I 2024-11-11 19:53:00,796] Trial 87 finished with value: 0.9496527777777778 and parameters: {'use_pca': 'False', 'n_neighbors': 6, 'weights': 'distance'}. Best is trial 60 with value: 0.9496527777777778.\n",
      "[I 2024-11-11 19:53:01,033] Trial 88 pruned. \n",
      "[I 2024-11-11 19:53:01,137] Trial 89 finished with value: 0.9496527777777778 and parameters: {'use_pca': 'False', 'n_neighbors': 6, 'weights': 'distance'}. Best is trial 60 with value: 0.9496527777777778.\n",
      "[I 2024-11-11 19:53:01,265] Trial 90 pruned. \n",
      "[I 2024-11-11 19:53:01,368] Trial 91 finished with value: 0.9496527777777778 and parameters: {'use_pca': 'False', 'n_neighbors': 6, 'weights': 'distance'}. Best is trial 60 with value: 0.9496527777777778.\n",
      "[I 2024-11-11 19:53:01,440] Trial 92 finished with value: 0.9518055555555556 and parameters: {'use_pca': 'False', 'n_neighbors': 5, 'weights': 'distance'}. Best is trial 92 with value: 0.9518055555555556.\n",
      "[I 2024-11-11 19:53:01,524] Trial 93 finished with value: 0.9518055555555556 and parameters: {'use_pca': 'False', 'n_neighbors': 5, 'weights': 'distance'}. Best is trial 92 with value: 0.9518055555555556.\n",
      "[I 2024-11-11 19:53:01,595] Trial 94 finished with value: 0.9518055555555556 and parameters: {'use_pca': 'False', 'n_neighbors': 5, 'weights': 'distance'}. Best is trial 92 with value: 0.9518055555555556.\n",
      "[I 2024-11-11 19:53:01,678] Trial 95 finished with value: 0.9518055555555556 and parameters: {'use_pca': 'False', 'n_neighbors': 5, 'weights': 'distance'}. Best is trial 92 with value: 0.9518055555555556.\n",
      "[I 2024-11-11 19:53:02,305] Trial 96 pruned. \n",
      "[I 2024-11-11 19:53:02,440] Trial 97 pruned. \n",
      "[I 2024-11-11 19:53:02,536] Trial 98 finished with value: 0.9518055555555556 and parameters: {'use_pca': 'False', 'n_neighbors': 5, 'weights': 'distance'}. Best is trial 92 with value: 0.9518055555555556.\n",
      "[I 2024-11-11 19:53:02,630] Trial 99 finished with value: 0.9518055555555556 and parameters: {'use_pca': 'False', 'n_neighbors': 5, 'weights': 'distance'}. Best is trial 92 with value: 0.9518055555555556.\n"
     ]
    },
    {
     "name": "stdout",
     "output_type": "stream",
     "text": [
      "Best hyperparameters: {'use_pca': 'False', 'n_neighbors': 5, 'weights': 'distance'}\n",
      "Best value: 0.9518055555555556\n"
     ]
    },
    {
     "data": {
      "application/vnd.plotly.v1+json": {
       "config": {
        "plotlyServerURL": "https://plot.ly"
       },
       "data": [
        {
         "mode": "markers",
         "name": "Objective Value",
         "type": "scatter",
         "x": [
          0,
          1,
          2,
          3,
          4,
          7,
          8,
          10,
          11,
          12,
          14,
          17,
          21,
          22,
          28,
          31,
          40,
          42,
          50,
          51,
          52,
          60,
          61,
          62,
          63,
          65,
          67,
          68,
          70,
          71,
          73,
          76,
          78,
          81,
          82,
          83,
          84,
          85,
          87,
          89,
          91,
          92,
          93,
          94,
          95,
          98,
          99
         ],
         "y": [
          0.7672916666666667,
          0.5110416666666666,
          0.49805555555555553,
          0.7422916666666667,
          0.25381944444444443,
          0.7863194444444445,
          0.7734027777777778,
          0.8232638888888889,
          0.9338888888888889,
          0.8919444444444444,
          0.9338888888888889,
          0.9338888888888889,
          0.9338888888888889,
          0.9338888888888889,
          0.9338888888888889,
          0.9338888888888889,
          0.9215972222222222,
          0.9338888888888889,
          0.9215972222222222,
          0.9338888888888889,
          0.9338888888888889,
          0.9496527777777778,
          0.9496527777777778,
          0.9465277777777777,
          0.9465277777777777,
          0.9465277777777777,
          0.9465277777777777,
          0.9465277777777777,
          0.9465277777777777,
          0.9465277777777777,
          0.9465277777777777,
          0.9496527777777778,
          0.9496527777777778,
          0.9496527777777778,
          0.9496527777777778,
          0.9496527777777778,
          0.9496527777777778,
          0.9496527777777778,
          0.9496527777777778,
          0.9496527777777778,
          0.9496527777777778,
          0.9518055555555556,
          0.9518055555555556,
          0.9518055555555556,
          0.9518055555555556,
          0.9518055555555556,
          0.9518055555555556
         ]
        },
        {
         "mode": "lines",
         "name": "Best Value",
         "type": "scatter",
         "x": [
          0,
          1,
          2,
          3,
          4,
          5,
          6,
          7,
          8,
          9,
          10,
          11,
          12,
          13,
          14,
          15,
          16,
          17,
          18,
          19,
          20,
          21,
          22,
          23,
          24,
          25,
          26,
          27,
          28,
          29,
          30,
          31,
          32,
          33,
          34,
          35,
          36,
          37,
          38,
          39,
          40,
          41,
          42,
          43,
          44,
          45,
          46,
          47,
          48,
          49,
          50,
          51,
          52,
          53,
          54,
          55,
          56,
          57,
          58,
          59,
          60,
          61,
          62,
          63,
          64,
          65,
          66,
          67,
          68,
          69,
          70,
          71,
          72,
          73,
          74,
          75,
          76,
          77,
          78,
          79,
          80,
          81,
          82,
          83,
          84,
          85,
          86,
          87,
          88,
          89,
          90,
          91,
          92,
          93,
          94,
          95,
          96,
          97,
          98,
          99
         ],
         "y": [
          0.7672916666666667,
          0.7672916666666667,
          0.7672916666666667,
          0.7672916666666667,
          0.7672916666666667,
          0.7672916666666667,
          0.7672916666666667,
          0.7863194444444445,
          0.7863194444444445,
          0.7863194444444445,
          0.8232638888888889,
          0.9338888888888889,
          0.9338888888888889,
          0.9338888888888889,
          0.9338888888888889,
          0.9338888888888889,
          0.9338888888888889,
          0.9338888888888889,
          0.9338888888888889,
          0.9338888888888889,
          0.9338888888888889,
          0.9338888888888889,
          0.9338888888888889,
          0.9338888888888889,
          0.9338888888888889,
          0.9338888888888889,
          0.9338888888888889,
          0.9338888888888889,
          0.9338888888888889,
          0.9338888888888889,
          0.9338888888888889,
          0.9338888888888889,
          0.9338888888888889,
          0.9338888888888889,
          0.9338888888888889,
          0.9338888888888889,
          0.9338888888888889,
          0.9338888888888889,
          0.9338888888888889,
          0.9338888888888889,
          0.9338888888888889,
          0.9338888888888889,
          0.9338888888888889,
          0.9338888888888889,
          0.9338888888888889,
          0.9338888888888889,
          0.9338888888888889,
          0.9338888888888889,
          0.9338888888888889,
          0.9338888888888889,
          0.9338888888888889,
          0.9338888888888889,
          0.9338888888888889,
          0.9338888888888889,
          0.9338888888888889,
          0.9338888888888889,
          0.9338888888888889,
          0.9338888888888889,
          0.9338888888888889,
          0.9338888888888889,
          0.9496527777777778,
          0.9496527777777778,
          0.9496527777777778,
          0.9496527777777778,
          0.9496527777777778,
          0.9496527777777778,
          0.9496527777777778,
          0.9496527777777778,
          0.9496527777777778,
          0.9496527777777778,
          0.9496527777777778,
          0.9496527777777778,
          0.9496527777777778,
          0.9496527777777778,
          0.9496527777777778,
          0.9496527777777778,
          0.9496527777777778,
          0.9496527777777778,
          0.9496527777777778,
          0.9496527777777778,
          0.9496527777777778,
          0.9496527777777778,
          0.9496527777777778,
          0.9496527777777778,
          0.9496527777777778,
          0.9496527777777778,
          0.9496527777777778,
          0.9496527777777778,
          0.9496527777777778,
          0.9496527777777778,
          0.9496527777777778,
          0.9496527777777778,
          0.9518055555555556,
          0.9518055555555556,
          0.9518055555555556,
          0.9518055555555556,
          0.9518055555555556,
          0.9518055555555556,
          0.9518055555555556,
          0.9518055555555556
         ]
        },
        {
         "marker": {
          "color": "#cccccc"
         },
         "mode": "markers",
         "name": "Infeasible Trial",
         "showlegend": false,
         "type": "scatter",
         "x": [],
         "y": []
        }
       ],
       "layout": {
        "template": {
         "data": {
          "bar": [
           {
            "error_x": {
             "color": "#2a3f5f"
            },
            "error_y": {
             "color": "#2a3f5f"
            },
            "marker": {
             "line": {
              "color": "#E5ECF6",
              "width": 0.5
             },
             "pattern": {
              "fillmode": "overlay",
              "size": 10,
              "solidity": 0.2
             }
            },
            "type": "bar"
           }
          ],
          "barpolar": [
           {
            "marker": {
             "line": {
              "color": "#E5ECF6",
              "width": 0.5
             },
             "pattern": {
              "fillmode": "overlay",
              "size": 10,
              "solidity": 0.2
             }
            },
            "type": "barpolar"
           }
          ],
          "carpet": [
           {
            "aaxis": {
             "endlinecolor": "#2a3f5f",
             "gridcolor": "white",
             "linecolor": "white",
             "minorgridcolor": "white",
             "startlinecolor": "#2a3f5f"
            },
            "baxis": {
             "endlinecolor": "#2a3f5f",
             "gridcolor": "white",
             "linecolor": "white",
             "minorgridcolor": "white",
             "startlinecolor": "#2a3f5f"
            },
            "type": "carpet"
           }
          ],
          "choropleth": [
           {
            "colorbar": {
             "outlinewidth": 0,
             "ticks": ""
            },
            "type": "choropleth"
           }
          ],
          "contour": [
           {
            "colorbar": {
             "outlinewidth": 0,
             "ticks": ""
            },
            "colorscale": [
             [
              0,
              "#0d0887"
             ],
             [
              0.1111111111111111,
              "#46039f"
             ],
             [
              0.2222222222222222,
              "#7201a8"
             ],
             [
              0.3333333333333333,
              "#9c179e"
             ],
             [
              0.4444444444444444,
              "#bd3786"
             ],
             [
              0.5555555555555556,
              "#d8576b"
             ],
             [
              0.6666666666666666,
              "#ed7953"
             ],
             [
              0.7777777777777778,
              "#fb9f3a"
             ],
             [
              0.8888888888888888,
              "#fdca26"
             ],
             [
              1,
              "#f0f921"
             ]
            ],
            "type": "contour"
           }
          ],
          "contourcarpet": [
           {
            "colorbar": {
             "outlinewidth": 0,
             "ticks": ""
            },
            "type": "contourcarpet"
           }
          ],
          "heatmap": [
           {
            "colorbar": {
             "outlinewidth": 0,
             "ticks": ""
            },
            "colorscale": [
             [
              0,
              "#0d0887"
             ],
             [
              0.1111111111111111,
              "#46039f"
             ],
             [
              0.2222222222222222,
              "#7201a8"
             ],
             [
              0.3333333333333333,
              "#9c179e"
             ],
             [
              0.4444444444444444,
              "#bd3786"
             ],
             [
              0.5555555555555556,
              "#d8576b"
             ],
             [
              0.6666666666666666,
              "#ed7953"
             ],
             [
              0.7777777777777778,
              "#fb9f3a"
             ],
             [
              0.8888888888888888,
              "#fdca26"
             ],
             [
              1,
              "#f0f921"
             ]
            ],
            "type": "heatmap"
           }
          ],
          "heatmapgl": [
           {
            "colorbar": {
             "outlinewidth": 0,
             "ticks": ""
            },
            "colorscale": [
             [
              0,
              "#0d0887"
             ],
             [
              0.1111111111111111,
              "#46039f"
             ],
             [
              0.2222222222222222,
              "#7201a8"
             ],
             [
              0.3333333333333333,
              "#9c179e"
             ],
             [
              0.4444444444444444,
              "#bd3786"
             ],
             [
              0.5555555555555556,
              "#d8576b"
             ],
             [
              0.6666666666666666,
              "#ed7953"
             ],
             [
              0.7777777777777778,
              "#fb9f3a"
             ],
             [
              0.8888888888888888,
              "#fdca26"
             ],
             [
              1,
              "#f0f921"
             ]
            ],
            "type": "heatmapgl"
           }
          ],
          "histogram": [
           {
            "marker": {
             "pattern": {
              "fillmode": "overlay",
              "size": 10,
              "solidity": 0.2
             }
            },
            "type": "histogram"
           }
          ],
          "histogram2d": [
           {
            "colorbar": {
             "outlinewidth": 0,
             "ticks": ""
            },
            "colorscale": [
             [
              0,
              "#0d0887"
             ],
             [
              0.1111111111111111,
              "#46039f"
             ],
             [
              0.2222222222222222,
              "#7201a8"
             ],
             [
              0.3333333333333333,
              "#9c179e"
             ],
             [
              0.4444444444444444,
              "#bd3786"
             ],
             [
              0.5555555555555556,
              "#d8576b"
             ],
             [
              0.6666666666666666,
              "#ed7953"
             ],
             [
              0.7777777777777778,
              "#fb9f3a"
             ],
             [
              0.8888888888888888,
              "#fdca26"
             ],
             [
              1,
              "#f0f921"
             ]
            ],
            "type": "histogram2d"
           }
          ],
          "histogram2dcontour": [
           {
            "colorbar": {
             "outlinewidth": 0,
             "ticks": ""
            },
            "colorscale": [
             [
              0,
              "#0d0887"
             ],
             [
              0.1111111111111111,
              "#46039f"
             ],
             [
              0.2222222222222222,
              "#7201a8"
             ],
             [
              0.3333333333333333,
              "#9c179e"
             ],
             [
              0.4444444444444444,
              "#bd3786"
             ],
             [
              0.5555555555555556,
              "#d8576b"
             ],
             [
              0.6666666666666666,
              "#ed7953"
             ],
             [
              0.7777777777777778,
              "#fb9f3a"
             ],
             [
              0.8888888888888888,
              "#fdca26"
             ],
             [
              1,
              "#f0f921"
             ]
            ],
            "type": "histogram2dcontour"
           }
          ],
          "mesh3d": [
           {
            "colorbar": {
             "outlinewidth": 0,
             "ticks": ""
            },
            "type": "mesh3d"
           }
          ],
          "parcoords": [
           {
            "line": {
             "colorbar": {
              "outlinewidth": 0,
              "ticks": ""
             }
            },
            "type": "parcoords"
           }
          ],
          "pie": [
           {
            "automargin": true,
            "type": "pie"
           }
          ],
          "scatter": [
           {
            "fillpattern": {
             "fillmode": "overlay",
             "size": 10,
             "solidity": 0.2
            },
            "type": "scatter"
           }
          ],
          "scatter3d": [
           {
            "line": {
             "colorbar": {
              "outlinewidth": 0,
              "ticks": ""
             }
            },
            "marker": {
             "colorbar": {
              "outlinewidth": 0,
              "ticks": ""
             }
            },
            "type": "scatter3d"
           }
          ],
          "scattercarpet": [
           {
            "marker": {
             "colorbar": {
              "outlinewidth": 0,
              "ticks": ""
             }
            },
            "type": "scattercarpet"
           }
          ],
          "scattergeo": [
           {
            "marker": {
             "colorbar": {
              "outlinewidth": 0,
              "ticks": ""
             }
            },
            "type": "scattergeo"
           }
          ],
          "scattergl": [
           {
            "marker": {
             "colorbar": {
              "outlinewidth": 0,
              "ticks": ""
             }
            },
            "type": "scattergl"
           }
          ],
          "scattermapbox": [
           {
            "marker": {
             "colorbar": {
              "outlinewidth": 0,
              "ticks": ""
             }
            },
            "type": "scattermapbox"
           }
          ],
          "scatterpolar": [
           {
            "marker": {
             "colorbar": {
              "outlinewidth": 0,
              "ticks": ""
             }
            },
            "type": "scatterpolar"
           }
          ],
          "scatterpolargl": [
           {
            "marker": {
             "colorbar": {
              "outlinewidth": 0,
              "ticks": ""
             }
            },
            "type": "scatterpolargl"
           }
          ],
          "scatterternary": [
           {
            "marker": {
             "colorbar": {
              "outlinewidth": 0,
              "ticks": ""
             }
            },
            "type": "scatterternary"
           }
          ],
          "surface": [
           {
            "colorbar": {
             "outlinewidth": 0,
             "ticks": ""
            },
            "colorscale": [
             [
              0,
              "#0d0887"
             ],
             [
              0.1111111111111111,
              "#46039f"
             ],
             [
              0.2222222222222222,
              "#7201a8"
             ],
             [
              0.3333333333333333,
              "#9c179e"
             ],
             [
              0.4444444444444444,
              "#bd3786"
             ],
             [
              0.5555555555555556,
              "#d8576b"
             ],
             [
              0.6666666666666666,
              "#ed7953"
             ],
             [
              0.7777777777777778,
              "#fb9f3a"
             ],
             [
              0.8888888888888888,
              "#fdca26"
             ],
             [
              1,
              "#f0f921"
             ]
            ],
            "type": "surface"
           }
          ],
          "table": [
           {
            "cells": {
             "fill": {
              "color": "#EBF0F8"
             },
             "line": {
              "color": "white"
             }
            },
            "header": {
             "fill": {
              "color": "#C8D4E3"
             },
             "line": {
              "color": "white"
             }
            },
            "type": "table"
           }
          ]
         },
         "layout": {
          "annotationdefaults": {
           "arrowcolor": "#2a3f5f",
           "arrowhead": 0,
           "arrowwidth": 1
          },
          "autotypenumbers": "strict",
          "coloraxis": {
           "colorbar": {
            "outlinewidth": 0,
            "ticks": ""
           }
          },
          "colorscale": {
           "diverging": [
            [
             0,
             "#8e0152"
            ],
            [
             0.1,
             "#c51b7d"
            ],
            [
             0.2,
             "#de77ae"
            ],
            [
             0.3,
             "#f1b6da"
            ],
            [
             0.4,
             "#fde0ef"
            ],
            [
             0.5,
             "#f7f7f7"
            ],
            [
             0.6,
             "#e6f5d0"
            ],
            [
             0.7,
             "#b8e186"
            ],
            [
             0.8,
             "#7fbc41"
            ],
            [
             0.9,
             "#4d9221"
            ],
            [
             1,
             "#276419"
            ]
           ],
           "sequential": [
            [
             0,
             "#0d0887"
            ],
            [
             0.1111111111111111,
             "#46039f"
            ],
            [
             0.2222222222222222,
             "#7201a8"
            ],
            [
             0.3333333333333333,
             "#9c179e"
            ],
            [
             0.4444444444444444,
             "#bd3786"
            ],
            [
             0.5555555555555556,
             "#d8576b"
            ],
            [
             0.6666666666666666,
             "#ed7953"
            ],
            [
             0.7777777777777778,
             "#fb9f3a"
            ],
            [
             0.8888888888888888,
             "#fdca26"
            ],
            [
             1,
             "#f0f921"
            ]
           ],
           "sequentialminus": [
            [
             0,
             "#0d0887"
            ],
            [
             0.1111111111111111,
             "#46039f"
            ],
            [
             0.2222222222222222,
             "#7201a8"
            ],
            [
             0.3333333333333333,
             "#9c179e"
            ],
            [
             0.4444444444444444,
             "#bd3786"
            ],
            [
             0.5555555555555556,
             "#d8576b"
            ],
            [
             0.6666666666666666,
             "#ed7953"
            ],
            [
             0.7777777777777778,
             "#fb9f3a"
            ],
            [
             0.8888888888888888,
             "#fdca26"
            ],
            [
             1,
             "#f0f921"
            ]
           ]
          },
          "colorway": [
           "#636efa",
           "#EF553B",
           "#00cc96",
           "#ab63fa",
           "#FFA15A",
           "#19d3f3",
           "#FF6692",
           "#B6E880",
           "#FF97FF",
           "#FECB52"
          ],
          "font": {
           "color": "#2a3f5f"
          },
          "geo": {
           "bgcolor": "white",
           "lakecolor": "white",
           "landcolor": "#E5ECF6",
           "showlakes": true,
           "showland": true,
           "subunitcolor": "white"
          },
          "hoverlabel": {
           "align": "left"
          },
          "hovermode": "closest",
          "mapbox": {
           "style": "light"
          },
          "paper_bgcolor": "white",
          "plot_bgcolor": "#E5ECF6",
          "polar": {
           "angularaxis": {
            "gridcolor": "white",
            "linecolor": "white",
            "ticks": ""
           },
           "bgcolor": "#E5ECF6",
           "radialaxis": {
            "gridcolor": "white",
            "linecolor": "white",
            "ticks": ""
           }
          },
          "scene": {
           "xaxis": {
            "backgroundcolor": "#E5ECF6",
            "gridcolor": "white",
            "gridwidth": 2,
            "linecolor": "white",
            "showbackground": true,
            "ticks": "",
            "zerolinecolor": "white"
           },
           "yaxis": {
            "backgroundcolor": "#E5ECF6",
            "gridcolor": "white",
            "gridwidth": 2,
            "linecolor": "white",
            "showbackground": true,
            "ticks": "",
            "zerolinecolor": "white"
           },
           "zaxis": {
            "backgroundcolor": "#E5ECF6",
            "gridcolor": "white",
            "gridwidth": 2,
            "linecolor": "white",
            "showbackground": true,
            "ticks": "",
            "zerolinecolor": "white"
           }
          },
          "shapedefaults": {
           "line": {
            "color": "#2a3f5f"
           }
          },
          "ternary": {
           "aaxis": {
            "gridcolor": "white",
            "linecolor": "white",
            "ticks": ""
           },
           "baxis": {
            "gridcolor": "white",
            "linecolor": "white",
            "ticks": ""
           },
           "bgcolor": "#E5ECF6",
           "caxis": {
            "gridcolor": "white",
            "linecolor": "white",
            "ticks": ""
           }
          },
          "title": {
           "x": 0.05
          },
          "xaxis": {
           "automargin": true,
           "gridcolor": "white",
           "linecolor": "white",
           "ticks": "",
           "title": {
            "standoff": 15
           },
           "zerolinecolor": "white",
           "zerolinewidth": 2
          },
          "yaxis": {
           "automargin": true,
           "gridcolor": "white",
           "linecolor": "white",
           "ticks": "",
           "title": {
            "standoff": 15
           },
           "zerolinecolor": "white",
           "zerolinewidth": 2
          }
         }
        },
        "title": {
         "text": "Optimization History Plot"
        },
        "xaxis": {
         "title": {
          "text": "Trial"
         }
        },
        "yaxis": {
         "title": {
          "text": "Objective Value"
         }
        }
       }
      }
     },
     "metadata": {},
     "output_type": "display_data"
    },
    {
     "data": {
      "application/vnd.plotly.v1+json": {
       "config": {
        "plotlyServerURL": "https://plot.ly"
       },
       "data": [
        {
         "cliponaxis": false,
         "hovertemplate": [
          "weights (CategoricalDistribution): 0.16943254729930302<extra></extra>",
          "use_pca (CategoricalDistribution): 0.33087807307596667<extra></extra>",
          "n_neighbors (IntDistribution): 0.49968937962473037<extra></extra>"
         ],
         "name": "Objective Value",
         "orientation": "h",
         "text": [
          "0.17",
          "0.33",
          "0.50"
         ],
         "textposition": "outside",
         "type": "bar",
         "x": [
          0.16943254729930302,
          0.33087807307596667,
          0.49968937962473037
         ],
         "y": [
          "weights",
          "use_pca",
          "n_neighbors"
         ]
        }
       ],
       "layout": {
        "template": {
         "data": {
          "bar": [
           {
            "error_x": {
             "color": "#2a3f5f"
            },
            "error_y": {
             "color": "#2a3f5f"
            },
            "marker": {
             "line": {
              "color": "#E5ECF6",
              "width": 0.5
             },
             "pattern": {
              "fillmode": "overlay",
              "size": 10,
              "solidity": 0.2
             }
            },
            "type": "bar"
           }
          ],
          "barpolar": [
           {
            "marker": {
             "line": {
              "color": "#E5ECF6",
              "width": 0.5
             },
             "pattern": {
              "fillmode": "overlay",
              "size": 10,
              "solidity": 0.2
             }
            },
            "type": "barpolar"
           }
          ],
          "carpet": [
           {
            "aaxis": {
             "endlinecolor": "#2a3f5f",
             "gridcolor": "white",
             "linecolor": "white",
             "minorgridcolor": "white",
             "startlinecolor": "#2a3f5f"
            },
            "baxis": {
             "endlinecolor": "#2a3f5f",
             "gridcolor": "white",
             "linecolor": "white",
             "minorgridcolor": "white",
             "startlinecolor": "#2a3f5f"
            },
            "type": "carpet"
           }
          ],
          "choropleth": [
           {
            "colorbar": {
             "outlinewidth": 0,
             "ticks": ""
            },
            "type": "choropleth"
           }
          ],
          "contour": [
           {
            "colorbar": {
             "outlinewidth": 0,
             "ticks": ""
            },
            "colorscale": [
             [
              0,
              "#0d0887"
             ],
             [
              0.1111111111111111,
              "#46039f"
             ],
             [
              0.2222222222222222,
              "#7201a8"
             ],
             [
              0.3333333333333333,
              "#9c179e"
             ],
             [
              0.4444444444444444,
              "#bd3786"
             ],
             [
              0.5555555555555556,
              "#d8576b"
             ],
             [
              0.6666666666666666,
              "#ed7953"
             ],
             [
              0.7777777777777778,
              "#fb9f3a"
             ],
             [
              0.8888888888888888,
              "#fdca26"
             ],
             [
              1,
              "#f0f921"
             ]
            ],
            "type": "contour"
           }
          ],
          "contourcarpet": [
           {
            "colorbar": {
             "outlinewidth": 0,
             "ticks": ""
            },
            "type": "contourcarpet"
           }
          ],
          "heatmap": [
           {
            "colorbar": {
             "outlinewidth": 0,
             "ticks": ""
            },
            "colorscale": [
             [
              0,
              "#0d0887"
             ],
             [
              0.1111111111111111,
              "#46039f"
             ],
             [
              0.2222222222222222,
              "#7201a8"
             ],
             [
              0.3333333333333333,
              "#9c179e"
             ],
             [
              0.4444444444444444,
              "#bd3786"
             ],
             [
              0.5555555555555556,
              "#d8576b"
             ],
             [
              0.6666666666666666,
              "#ed7953"
             ],
             [
              0.7777777777777778,
              "#fb9f3a"
             ],
             [
              0.8888888888888888,
              "#fdca26"
             ],
             [
              1,
              "#f0f921"
             ]
            ],
            "type": "heatmap"
           }
          ],
          "heatmapgl": [
           {
            "colorbar": {
             "outlinewidth": 0,
             "ticks": ""
            },
            "colorscale": [
             [
              0,
              "#0d0887"
             ],
             [
              0.1111111111111111,
              "#46039f"
             ],
             [
              0.2222222222222222,
              "#7201a8"
             ],
             [
              0.3333333333333333,
              "#9c179e"
             ],
             [
              0.4444444444444444,
              "#bd3786"
             ],
             [
              0.5555555555555556,
              "#d8576b"
             ],
             [
              0.6666666666666666,
              "#ed7953"
             ],
             [
              0.7777777777777778,
              "#fb9f3a"
             ],
             [
              0.8888888888888888,
              "#fdca26"
             ],
             [
              1,
              "#f0f921"
             ]
            ],
            "type": "heatmapgl"
           }
          ],
          "histogram": [
           {
            "marker": {
             "pattern": {
              "fillmode": "overlay",
              "size": 10,
              "solidity": 0.2
             }
            },
            "type": "histogram"
           }
          ],
          "histogram2d": [
           {
            "colorbar": {
             "outlinewidth": 0,
             "ticks": ""
            },
            "colorscale": [
             [
              0,
              "#0d0887"
             ],
             [
              0.1111111111111111,
              "#46039f"
             ],
             [
              0.2222222222222222,
              "#7201a8"
             ],
             [
              0.3333333333333333,
              "#9c179e"
             ],
             [
              0.4444444444444444,
              "#bd3786"
             ],
             [
              0.5555555555555556,
              "#d8576b"
             ],
             [
              0.6666666666666666,
              "#ed7953"
             ],
             [
              0.7777777777777778,
              "#fb9f3a"
             ],
             [
              0.8888888888888888,
              "#fdca26"
             ],
             [
              1,
              "#f0f921"
             ]
            ],
            "type": "histogram2d"
           }
          ],
          "histogram2dcontour": [
           {
            "colorbar": {
             "outlinewidth": 0,
             "ticks": ""
            },
            "colorscale": [
             [
              0,
              "#0d0887"
             ],
             [
              0.1111111111111111,
              "#46039f"
             ],
             [
              0.2222222222222222,
              "#7201a8"
             ],
             [
              0.3333333333333333,
              "#9c179e"
             ],
             [
              0.4444444444444444,
              "#bd3786"
             ],
             [
              0.5555555555555556,
              "#d8576b"
             ],
             [
              0.6666666666666666,
              "#ed7953"
             ],
             [
              0.7777777777777778,
              "#fb9f3a"
             ],
             [
              0.8888888888888888,
              "#fdca26"
             ],
             [
              1,
              "#f0f921"
             ]
            ],
            "type": "histogram2dcontour"
           }
          ],
          "mesh3d": [
           {
            "colorbar": {
             "outlinewidth": 0,
             "ticks": ""
            },
            "type": "mesh3d"
           }
          ],
          "parcoords": [
           {
            "line": {
             "colorbar": {
              "outlinewidth": 0,
              "ticks": ""
             }
            },
            "type": "parcoords"
           }
          ],
          "pie": [
           {
            "automargin": true,
            "type": "pie"
           }
          ],
          "scatter": [
           {
            "fillpattern": {
             "fillmode": "overlay",
             "size": 10,
             "solidity": 0.2
            },
            "type": "scatter"
           }
          ],
          "scatter3d": [
           {
            "line": {
             "colorbar": {
              "outlinewidth": 0,
              "ticks": ""
             }
            },
            "marker": {
             "colorbar": {
              "outlinewidth": 0,
              "ticks": ""
             }
            },
            "type": "scatter3d"
           }
          ],
          "scattercarpet": [
           {
            "marker": {
             "colorbar": {
              "outlinewidth": 0,
              "ticks": ""
             }
            },
            "type": "scattercarpet"
           }
          ],
          "scattergeo": [
           {
            "marker": {
             "colorbar": {
              "outlinewidth": 0,
              "ticks": ""
             }
            },
            "type": "scattergeo"
           }
          ],
          "scattergl": [
           {
            "marker": {
             "colorbar": {
              "outlinewidth": 0,
              "ticks": ""
             }
            },
            "type": "scattergl"
           }
          ],
          "scattermapbox": [
           {
            "marker": {
             "colorbar": {
              "outlinewidth": 0,
              "ticks": ""
             }
            },
            "type": "scattermapbox"
           }
          ],
          "scatterpolar": [
           {
            "marker": {
             "colorbar": {
              "outlinewidth": 0,
              "ticks": ""
             }
            },
            "type": "scatterpolar"
           }
          ],
          "scatterpolargl": [
           {
            "marker": {
             "colorbar": {
              "outlinewidth": 0,
              "ticks": ""
             }
            },
            "type": "scatterpolargl"
           }
          ],
          "scatterternary": [
           {
            "marker": {
             "colorbar": {
              "outlinewidth": 0,
              "ticks": ""
             }
            },
            "type": "scatterternary"
           }
          ],
          "surface": [
           {
            "colorbar": {
             "outlinewidth": 0,
             "ticks": ""
            },
            "colorscale": [
             [
              0,
              "#0d0887"
             ],
             [
              0.1111111111111111,
              "#46039f"
             ],
             [
              0.2222222222222222,
              "#7201a8"
             ],
             [
              0.3333333333333333,
              "#9c179e"
             ],
             [
              0.4444444444444444,
              "#bd3786"
             ],
             [
              0.5555555555555556,
              "#d8576b"
             ],
             [
              0.6666666666666666,
              "#ed7953"
             ],
             [
              0.7777777777777778,
              "#fb9f3a"
             ],
             [
              0.8888888888888888,
              "#fdca26"
             ],
             [
              1,
              "#f0f921"
             ]
            ],
            "type": "surface"
           }
          ],
          "table": [
           {
            "cells": {
             "fill": {
              "color": "#EBF0F8"
             },
             "line": {
              "color": "white"
             }
            },
            "header": {
             "fill": {
              "color": "#C8D4E3"
             },
             "line": {
              "color": "white"
             }
            },
            "type": "table"
           }
          ]
         },
         "layout": {
          "annotationdefaults": {
           "arrowcolor": "#2a3f5f",
           "arrowhead": 0,
           "arrowwidth": 1
          },
          "autotypenumbers": "strict",
          "coloraxis": {
           "colorbar": {
            "outlinewidth": 0,
            "ticks": ""
           }
          },
          "colorscale": {
           "diverging": [
            [
             0,
             "#8e0152"
            ],
            [
             0.1,
             "#c51b7d"
            ],
            [
             0.2,
             "#de77ae"
            ],
            [
             0.3,
             "#f1b6da"
            ],
            [
             0.4,
             "#fde0ef"
            ],
            [
             0.5,
             "#f7f7f7"
            ],
            [
             0.6,
             "#e6f5d0"
            ],
            [
             0.7,
             "#b8e186"
            ],
            [
             0.8,
             "#7fbc41"
            ],
            [
             0.9,
             "#4d9221"
            ],
            [
             1,
             "#276419"
            ]
           ],
           "sequential": [
            [
             0,
             "#0d0887"
            ],
            [
             0.1111111111111111,
             "#46039f"
            ],
            [
             0.2222222222222222,
             "#7201a8"
            ],
            [
             0.3333333333333333,
             "#9c179e"
            ],
            [
             0.4444444444444444,
             "#bd3786"
            ],
            [
             0.5555555555555556,
             "#d8576b"
            ],
            [
             0.6666666666666666,
             "#ed7953"
            ],
            [
             0.7777777777777778,
             "#fb9f3a"
            ],
            [
             0.8888888888888888,
             "#fdca26"
            ],
            [
             1,
             "#f0f921"
            ]
           ],
           "sequentialminus": [
            [
             0,
             "#0d0887"
            ],
            [
             0.1111111111111111,
             "#46039f"
            ],
            [
             0.2222222222222222,
             "#7201a8"
            ],
            [
             0.3333333333333333,
             "#9c179e"
            ],
            [
             0.4444444444444444,
             "#bd3786"
            ],
            [
             0.5555555555555556,
             "#d8576b"
            ],
            [
             0.6666666666666666,
             "#ed7953"
            ],
            [
             0.7777777777777778,
             "#fb9f3a"
            ],
            [
             0.8888888888888888,
             "#fdca26"
            ],
            [
             1,
             "#f0f921"
            ]
           ]
          },
          "colorway": [
           "#636efa",
           "#EF553B",
           "#00cc96",
           "#ab63fa",
           "#FFA15A",
           "#19d3f3",
           "#FF6692",
           "#B6E880",
           "#FF97FF",
           "#FECB52"
          ],
          "font": {
           "color": "#2a3f5f"
          },
          "geo": {
           "bgcolor": "white",
           "lakecolor": "white",
           "landcolor": "#E5ECF6",
           "showlakes": true,
           "showland": true,
           "subunitcolor": "white"
          },
          "hoverlabel": {
           "align": "left"
          },
          "hovermode": "closest",
          "mapbox": {
           "style": "light"
          },
          "paper_bgcolor": "white",
          "plot_bgcolor": "#E5ECF6",
          "polar": {
           "angularaxis": {
            "gridcolor": "white",
            "linecolor": "white",
            "ticks": ""
           },
           "bgcolor": "#E5ECF6",
           "radialaxis": {
            "gridcolor": "white",
            "linecolor": "white",
            "ticks": ""
           }
          },
          "scene": {
           "xaxis": {
            "backgroundcolor": "#E5ECF6",
            "gridcolor": "white",
            "gridwidth": 2,
            "linecolor": "white",
            "showbackground": true,
            "ticks": "",
            "zerolinecolor": "white"
           },
           "yaxis": {
            "backgroundcolor": "#E5ECF6",
            "gridcolor": "white",
            "gridwidth": 2,
            "linecolor": "white",
            "showbackground": true,
            "ticks": "",
            "zerolinecolor": "white"
           },
           "zaxis": {
            "backgroundcolor": "#E5ECF6",
            "gridcolor": "white",
            "gridwidth": 2,
            "linecolor": "white",
            "showbackground": true,
            "ticks": "",
            "zerolinecolor": "white"
           }
          },
          "shapedefaults": {
           "line": {
            "color": "#2a3f5f"
           }
          },
          "ternary": {
           "aaxis": {
            "gridcolor": "white",
            "linecolor": "white",
            "ticks": ""
           },
           "baxis": {
            "gridcolor": "white",
            "linecolor": "white",
            "ticks": ""
           },
           "bgcolor": "#E5ECF6",
           "caxis": {
            "gridcolor": "white",
            "linecolor": "white",
            "ticks": ""
           }
          },
          "title": {
           "x": 0.05
          },
          "xaxis": {
           "automargin": true,
           "gridcolor": "white",
           "linecolor": "white",
           "ticks": "",
           "title": {
            "standoff": 15
           },
           "zerolinecolor": "white",
           "zerolinewidth": 2
          },
          "yaxis": {
           "automargin": true,
           "gridcolor": "white",
           "linecolor": "white",
           "ticks": "",
           "title": {
            "standoff": 15
           },
           "zerolinecolor": "white",
           "zerolinewidth": 2
          }
         }
        },
        "title": {
         "text": "Hyperparameter Importances"
        },
        "xaxis": {
         "title": {
          "text": "Hyperparameter Importance"
         }
        },
        "yaxis": {
         "title": {
          "text": "Hyperparameter"
         }
        }
       }
      }
     },
     "metadata": {},
     "output_type": "display_data"
    },
    {
     "data": {
      "application/vnd.plotly.v1+json": {
       "config": {
        "plotlyServerURL": "https://plot.ly"
       },
       "data": [
        {
         "marker": {
          "color": [
           1
          ],
          "colorbar": {
           "title": {
            "text": "Trial"
           },
           "x": 1,
           "xpad": 40
          },
          "colorscale": [
           [
            0,
            "rgb(247,251,255)"
           ],
           [
            0.125,
            "rgb(222,235,247)"
           ],
           [
            0.25,
            "rgb(198,219,239)"
           ],
           [
            0.375,
            "rgb(158,202,225)"
           ],
           [
            0.5,
            "rgb(107,174,214)"
           ],
           [
            0.625,
            "rgb(66,146,198)"
           ],
           [
            0.75,
            "rgb(33,113,181)"
           ],
           [
            0.875,
            "rgb(8,81,156)"
           ],
           [
            1,
            "rgb(8,48,107)"
           ]
          ],
          "line": {
           "color": "Grey",
           "width": 0.5
          },
          "showscale": true
         },
         "mode": "markers",
         "name": "Feasible Trial",
         "showlegend": false,
         "type": "scatter",
         "x": [
          0.9491388988479436
         ],
         "xaxis": "x",
         "y": [
          0.5110416666666666
         ],
         "yaxis": "y"
        },
        {
         "marker": {
          "color": [
           0,
           1,
           2,
           3,
           4,
           7,
           8,
           10,
           11,
           12,
           14,
           17,
           21,
           22,
           28,
           31,
           40,
           42,
           50,
           51,
           52,
           60,
           61,
           62,
           63,
           65,
           67,
           68,
           70,
           71,
           73,
           76,
           78,
           81,
           82,
           83,
           84,
           85,
           87,
           89,
           91,
           92,
           93,
           94,
           95,
           98,
           99
          ],
          "colorbar": {
           "title": {
            "text": "Trial"
           },
           "x": 1,
           "xpad": 40
          },
          "colorscale": [
           [
            0,
            "rgb(247,251,255)"
           ],
           [
            0.125,
            "rgb(222,235,247)"
           ],
           [
            0.25,
            "rgb(198,219,239)"
           ],
           [
            0.375,
            "rgb(158,202,225)"
           ],
           [
            0.5,
            "rgb(107,174,214)"
           ],
           [
            0.625,
            "rgb(66,146,198)"
           ],
           [
            0.75,
            "rgb(33,113,181)"
           ],
           [
            0.875,
            "rgb(8,81,156)"
           ],
           [
            1,
            "rgb(8,48,107)"
           ]
          ],
          "line": {
           "color": "Grey",
           "width": 0.5
          },
          "showscale": false
         },
         "mode": "markers",
         "name": "Feasible Trial",
         "showlegend": false,
         "type": "scatter",
         "x": [
          42,
          27,
          20,
          10,
          37,
          9,
          24,
          8,
          5,
          6,
          5,
          5,
          5,
          5,
          5,
          5,
          10,
          5,
          10,
          5,
          5,
          6,
          6,
          7,
          7,
          7,
          7,
          7,
          7,
          7,
          7,
          6,
          6,
          6,
          6,
          6,
          6,
          6,
          6,
          6,
          6,
          5,
          5,
          5,
          5,
          5,
          5
         ],
         "xaxis": "x2",
         "y": [
          0.7672916666666667,
          0.5110416666666666,
          0.49805555555555553,
          0.7422916666666667,
          0.25381944444444443,
          0.7863194444444445,
          0.7734027777777778,
          0.8232638888888889,
          0.9338888888888889,
          0.8919444444444444,
          0.9338888888888889,
          0.9338888888888889,
          0.9338888888888889,
          0.9338888888888889,
          0.9338888888888889,
          0.9338888888888889,
          0.9215972222222222,
          0.9338888888888889,
          0.9215972222222222,
          0.9338888888888889,
          0.9338888888888889,
          0.9496527777777778,
          0.9496527777777778,
          0.9465277777777777,
          0.9465277777777777,
          0.9465277777777777,
          0.9465277777777777,
          0.9465277777777777,
          0.9465277777777777,
          0.9465277777777777,
          0.9465277777777777,
          0.9496527777777778,
          0.9496527777777778,
          0.9496527777777778,
          0.9496527777777778,
          0.9496527777777778,
          0.9496527777777778,
          0.9496527777777778,
          0.9496527777777778,
          0.9496527777777778,
          0.9496527777777778,
          0.9518055555555556,
          0.9518055555555556,
          0.9518055555555556,
          0.9518055555555556,
          0.9518055555555556,
          0.9518055555555556
         ],
         "yaxis": "y2"
        },
        {
         "marker": {
          "color": [
           1,
           2
          ],
          "colorbar": {
           "title": {
            "text": "Trial"
           },
           "x": 1,
           "xpad": 40
          },
          "colorscale": [
           [
            0,
            "rgb(247,251,255)"
           ],
           [
            0.125,
            "rgb(222,235,247)"
           ],
           [
            0.25,
            "rgb(198,219,239)"
           ],
           [
            0.375,
            "rgb(158,202,225)"
           ],
           [
            0.5,
            "rgb(107,174,214)"
           ],
           [
            0.625,
            "rgb(66,146,198)"
           ],
           [
            0.75,
            "rgb(33,113,181)"
           ],
           [
            0.875,
            "rgb(8,81,156)"
           ],
           [
            1,
            "rgb(8,48,107)"
           ]
          ],
          "line": {
           "color": "Grey",
           "width": 0.5
          },
          "showscale": false
         },
         "mode": "markers",
         "name": "Feasible Trial",
         "showlegend": false,
         "type": "scatter",
         "x": [
          4,
          1
         ],
         "xaxis": "x3",
         "y": [
          0.5110416666666666,
          0.49805555555555553
         ],
         "yaxis": "y3"
        },
        {
         "marker": {
          "color": [
           1,
           2
          ],
          "colorbar": {
           "title": {
            "text": "Trial"
           },
           "x": 1,
           "xpad": 40
          },
          "colorscale": [
           [
            0,
            "rgb(247,251,255)"
           ],
           [
            0.125,
            "rgb(222,235,247)"
           ],
           [
            0.25,
            "rgb(198,219,239)"
           ],
           [
            0.375,
            "rgb(158,202,225)"
           ],
           [
            0.5,
            "rgb(107,174,214)"
           ],
           [
            0.625,
            "rgb(66,146,198)"
           ],
           [
            0.75,
            "rgb(33,113,181)"
           ],
           [
            0.875,
            "rgb(8,81,156)"
           ],
           [
            1,
            "rgb(8,48,107)"
           ]
          ],
          "line": {
           "color": "Grey",
           "width": 0.5
          },
          "showscale": false
         },
         "mode": "markers",
         "name": "Feasible Trial",
         "showlegend": false,
         "type": "scatter",
         "x": [
          "sigmoid",
          "cosine"
         ],
         "xaxis": "x4",
         "y": [
          0.5110416666666666,
          0.49805555555555553
         ],
         "yaxis": "y4"
        },
        {
         "marker": {
          "color": [
           0,
           1,
           2,
           3,
           4,
           7,
           8,
           10,
           11,
           12,
           14,
           17,
           21,
           22,
           28,
           31,
           40,
           42,
           50,
           51,
           52,
           60,
           61,
           62,
           63,
           65,
           67,
           68,
           70,
           71,
           73,
           76,
           78,
           81,
           82,
           83,
           84,
           85,
           87,
           89,
           91,
           92,
           93,
           94,
           95,
           98,
           99
          ],
          "colorbar": {
           "title": {
            "text": "Trial"
           },
           "x": 1,
           "xpad": 40
          },
          "colorscale": [
           [
            0,
            "rgb(247,251,255)"
           ],
           [
            0.125,
            "rgb(222,235,247)"
           ],
           [
            0.25,
            "rgb(198,219,239)"
           ],
           [
            0.375,
            "rgb(158,202,225)"
           ],
           [
            0.5,
            "rgb(107,174,214)"
           ],
           [
            0.625,
            "rgb(66,146,198)"
           ],
           [
            0.75,
            "rgb(33,113,181)"
           ],
           [
            0.875,
            "rgb(8,81,156)"
           ],
           [
            1,
            "rgb(8,48,107)"
           ]
          ],
          "line": {
           "color": "Grey",
           "width": 0.5
          },
          "showscale": false
         },
         "mode": "markers",
         "name": "Feasible Trial",
         "showlegend": false,
         "type": "scatter",
         "x": [
          "False",
          "True",
          "True",
          "False",
          "False",
          "False",
          "False",
          "False",
          "False",
          "False",
          "False",
          "False",
          "False",
          "False",
          "False",
          "False",
          "False",
          "False",
          "False",
          "False",
          "False",
          "False",
          "False",
          "False",
          "False",
          "False",
          "False",
          "False",
          "False",
          "False",
          "False",
          "False",
          "False",
          "False",
          "False",
          "False",
          "False",
          "False",
          "False",
          "False",
          "False",
          "False",
          "False",
          "False",
          "False",
          "False",
          "False"
         ],
         "xaxis": "x5",
         "y": [
          0.7672916666666667,
          0.5110416666666666,
          0.49805555555555553,
          0.7422916666666667,
          0.25381944444444443,
          0.7863194444444445,
          0.7734027777777778,
          0.8232638888888889,
          0.9338888888888889,
          0.8919444444444444,
          0.9338888888888889,
          0.9338888888888889,
          0.9338888888888889,
          0.9338888888888889,
          0.9338888888888889,
          0.9338888888888889,
          0.9215972222222222,
          0.9338888888888889,
          0.9215972222222222,
          0.9338888888888889,
          0.9338888888888889,
          0.9496527777777778,
          0.9496527777777778,
          0.9465277777777777,
          0.9465277777777777,
          0.9465277777777777,
          0.9465277777777777,
          0.9465277777777777,
          0.9465277777777777,
          0.9465277777777777,
          0.9465277777777777,
          0.9496527777777778,
          0.9496527777777778,
          0.9496527777777778,
          0.9496527777777778,
          0.9496527777777778,
          0.9496527777777778,
          0.9496527777777778,
          0.9496527777777778,
          0.9496527777777778,
          0.9496527777777778,
          0.9518055555555556,
          0.9518055555555556,
          0.9518055555555556,
          0.9518055555555556,
          0.9518055555555556,
          0.9518055555555556
         ],
         "yaxis": "y5"
        },
        {
         "marker": {
          "color": [
           0,
           1,
           2,
           3,
           4,
           7,
           8,
           10,
           11,
           12,
           14,
           17,
           21,
           22,
           28,
           31,
           40,
           42,
           50,
           51,
           52,
           60,
           61,
           62,
           63,
           65,
           67,
           68,
           70,
           71,
           73,
           76,
           78,
           81,
           82,
           83,
           84,
           85,
           87,
           89,
           91,
           92,
           93,
           94,
           95,
           98,
           99
          ],
          "colorbar": {
           "title": {
            "text": "Trial"
           },
           "x": 1,
           "xpad": 40
          },
          "colorscale": [
           [
            0,
            "rgb(247,251,255)"
           ],
           [
            0.125,
            "rgb(222,235,247)"
           ],
           [
            0.25,
            "rgb(198,219,239)"
           ],
           [
            0.375,
            "rgb(158,202,225)"
           ],
           [
            0.5,
            "rgb(107,174,214)"
           ],
           [
            0.625,
            "rgb(66,146,198)"
           ],
           [
            0.75,
            "rgb(33,113,181)"
           ],
           [
            0.875,
            "rgb(8,81,156)"
           ],
           [
            1,
            "rgb(8,48,107)"
           ]
          ],
          "line": {
           "color": "Grey",
           "width": 0.5
          },
          "showscale": false
         },
         "mode": "markers",
         "name": "Feasible Trial",
         "showlegend": false,
         "type": "scatter",
         "x": [
          "distance",
          "distance",
          "uniform",
          "uniform",
          "uniform",
          "uniform",
          "distance",
          "uniform",
          "uniform",
          "uniform",
          "uniform",
          "uniform",
          "uniform",
          "uniform",
          "uniform",
          "uniform",
          "distance",
          "uniform",
          "distance",
          "uniform",
          "uniform",
          "distance",
          "distance",
          "distance",
          "distance",
          "distance",
          "distance",
          "distance",
          "distance",
          "distance",
          "distance",
          "distance",
          "distance",
          "distance",
          "distance",
          "distance",
          "distance",
          "distance",
          "distance",
          "distance",
          "distance",
          "distance",
          "distance",
          "distance",
          "distance",
          "distance",
          "distance"
         ],
         "xaxis": "x6",
         "y": [
          0.7672916666666667,
          0.5110416666666666,
          0.49805555555555553,
          0.7422916666666667,
          0.25381944444444443,
          0.7863194444444445,
          0.7734027777777778,
          0.8232638888888889,
          0.9338888888888889,
          0.8919444444444444,
          0.9338888888888889,
          0.9338888888888889,
          0.9338888888888889,
          0.9338888888888889,
          0.9338888888888889,
          0.9338888888888889,
          0.9215972222222222,
          0.9338888888888889,
          0.9215972222222222,
          0.9338888888888889,
          0.9338888888888889,
          0.9496527777777778,
          0.9496527777777778,
          0.9465277777777777,
          0.9465277777777777,
          0.9465277777777777,
          0.9465277777777777,
          0.9465277777777777,
          0.9465277777777777,
          0.9465277777777777,
          0.9465277777777777,
          0.9496527777777778,
          0.9496527777777778,
          0.9496527777777778,
          0.9496527777777778,
          0.9496527777777778,
          0.9496527777777778,
          0.9496527777777778,
          0.9496527777777778,
          0.9496527777777778,
          0.9496527777777778,
          0.9518055555555556,
          0.9518055555555556,
          0.9518055555555556,
          0.9518055555555556,
          0.9518055555555556,
          0.9518055555555556
         ],
         "yaxis": "y6"
        }
       ],
       "layout": {
        "template": {
         "data": {
          "bar": [
           {
            "error_x": {
             "color": "#2a3f5f"
            },
            "error_y": {
             "color": "#2a3f5f"
            },
            "marker": {
             "line": {
              "color": "#E5ECF6",
              "width": 0.5
             },
             "pattern": {
              "fillmode": "overlay",
              "size": 10,
              "solidity": 0.2
             }
            },
            "type": "bar"
           }
          ],
          "barpolar": [
           {
            "marker": {
             "line": {
              "color": "#E5ECF6",
              "width": 0.5
             },
             "pattern": {
              "fillmode": "overlay",
              "size": 10,
              "solidity": 0.2
             }
            },
            "type": "barpolar"
           }
          ],
          "carpet": [
           {
            "aaxis": {
             "endlinecolor": "#2a3f5f",
             "gridcolor": "white",
             "linecolor": "white",
             "minorgridcolor": "white",
             "startlinecolor": "#2a3f5f"
            },
            "baxis": {
             "endlinecolor": "#2a3f5f",
             "gridcolor": "white",
             "linecolor": "white",
             "minorgridcolor": "white",
             "startlinecolor": "#2a3f5f"
            },
            "type": "carpet"
           }
          ],
          "choropleth": [
           {
            "colorbar": {
             "outlinewidth": 0,
             "ticks": ""
            },
            "type": "choropleth"
           }
          ],
          "contour": [
           {
            "colorbar": {
             "outlinewidth": 0,
             "ticks": ""
            },
            "colorscale": [
             [
              0,
              "#0d0887"
             ],
             [
              0.1111111111111111,
              "#46039f"
             ],
             [
              0.2222222222222222,
              "#7201a8"
             ],
             [
              0.3333333333333333,
              "#9c179e"
             ],
             [
              0.4444444444444444,
              "#bd3786"
             ],
             [
              0.5555555555555556,
              "#d8576b"
             ],
             [
              0.6666666666666666,
              "#ed7953"
             ],
             [
              0.7777777777777778,
              "#fb9f3a"
             ],
             [
              0.8888888888888888,
              "#fdca26"
             ],
             [
              1,
              "#f0f921"
             ]
            ],
            "type": "contour"
           }
          ],
          "contourcarpet": [
           {
            "colorbar": {
             "outlinewidth": 0,
             "ticks": ""
            },
            "type": "contourcarpet"
           }
          ],
          "heatmap": [
           {
            "colorbar": {
             "outlinewidth": 0,
             "ticks": ""
            },
            "colorscale": [
             [
              0,
              "#0d0887"
             ],
             [
              0.1111111111111111,
              "#46039f"
             ],
             [
              0.2222222222222222,
              "#7201a8"
             ],
             [
              0.3333333333333333,
              "#9c179e"
             ],
             [
              0.4444444444444444,
              "#bd3786"
             ],
             [
              0.5555555555555556,
              "#d8576b"
             ],
             [
              0.6666666666666666,
              "#ed7953"
             ],
             [
              0.7777777777777778,
              "#fb9f3a"
             ],
             [
              0.8888888888888888,
              "#fdca26"
             ],
             [
              1,
              "#f0f921"
             ]
            ],
            "type": "heatmap"
           }
          ],
          "heatmapgl": [
           {
            "colorbar": {
             "outlinewidth": 0,
             "ticks": ""
            },
            "colorscale": [
             [
              0,
              "#0d0887"
             ],
             [
              0.1111111111111111,
              "#46039f"
             ],
             [
              0.2222222222222222,
              "#7201a8"
             ],
             [
              0.3333333333333333,
              "#9c179e"
             ],
             [
              0.4444444444444444,
              "#bd3786"
             ],
             [
              0.5555555555555556,
              "#d8576b"
             ],
             [
              0.6666666666666666,
              "#ed7953"
             ],
             [
              0.7777777777777778,
              "#fb9f3a"
             ],
             [
              0.8888888888888888,
              "#fdca26"
             ],
             [
              1,
              "#f0f921"
             ]
            ],
            "type": "heatmapgl"
           }
          ],
          "histogram": [
           {
            "marker": {
             "pattern": {
              "fillmode": "overlay",
              "size": 10,
              "solidity": 0.2
             }
            },
            "type": "histogram"
           }
          ],
          "histogram2d": [
           {
            "colorbar": {
             "outlinewidth": 0,
             "ticks": ""
            },
            "colorscale": [
             [
              0,
              "#0d0887"
             ],
             [
              0.1111111111111111,
              "#46039f"
             ],
             [
              0.2222222222222222,
              "#7201a8"
             ],
             [
              0.3333333333333333,
              "#9c179e"
             ],
             [
              0.4444444444444444,
              "#bd3786"
             ],
             [
              0.5555555555555556,
              "#d8576b"
             ],
             [
              0.6666666666666666,
              "#ed7953"
             ],
             [
              0.7777777777777778,
              "#fb9f3a"
             ],
             [
              0.8888888888888888,
              "#fdca26"
             ],
             [
              1,
              "#f0f921"
             ]
            ],
            "type": "histogram2d"
           }
          ],
          "histogram2dcontour": [
           {
            "colorbar": {
             "outlinewidth": 0,
             "ticks": ""
            },
            "colorscale": [
             [
              0,
              "#0d0887"
             ],
             [
              0.1111111111111111,
              "#46039f"
             ],
             [
              0.2222222222222222,
              "#7201a8"
             ],
             [
              0.3333333333333333,
              "#9c179e"
             ],
             [
              0.4444444444444444,
              "#bd3786"
             ],
             [
              0.5555555555555556,
              "#d8576b"
             ],
             [
              0.6666666666666666,
              "#ed7953"
             ],
             [
              0.7777777777777778,
              "#fb9f3a"
             ],
             [
              0.8888888888888888,
              "#fdca26"
             ],
             [
              1,
              "#f0f921"
             ]
            ],
            "type": "histogram2dcontour"
           }
          ],
          "mesh3d": [
           {
            "colorbar": {
             "outlinewidth": 0,
             "ticks": ""
            },
            "type": "mesh3d"
           }
          ],
          "parcoords": [
           {
            "line": {
             "colorbar": {
              "outlinewidth": 0,
              "ticks": ""
             }
            },
            "type": "parcoords"
           }
          ],
          "pie": [
           {
            "automargin": true,
            "type": "pie"
           }
          ],
          "scatter": [
           {
            "fillpattern": {
             "fillmode": "overlay",
             "size": 10,
             "solidity": 0.2
            },
            "type": "scatter"
           }
          ],
          "scatter3d": [
           {
            "line": {
             "colorbar": {
              "outlinewidth": 0,
              "ticks": ""
             }
            },
            "marker": {
             "colorbar": {
              "outlinewidth": 0,
              "ticks": ""
             }
            },
            "type": "scatter3d"
           }
          ],
          "scattercarpet": [
           {
            "marker": {
             "colorbar": {
              "outlinewidth": 0,
              "ticks": ""
             }
            },
            "type": "scattercarpet"
           }
          ],
          "scattergeo": [
           {
            "marker": {
             "colorbar": {
              "outlinewidth": 0,
              "ticks": ""
             }
            },
            "type": "scattergeo"
           }
          ],
          "scattergl": [
           {
            "marker": {
             "colorbar": {
              "outlinewidth": 0,
              "ticks": ""
             }
            },
            "type": "scattergl"
           }
          ],
          "scattermapbox": [
           {
            "marker": {
             "colorbar": {
              "outlinewidth": 0,
              "ticks": ""
             }
            },
            "type": "scattermapbox"
           }
          ],
          "scatterpolar": [
           {
            "marker": {
             "colorbar": {
              "outlinewidth": 0,
              "ticks": ""
             }
            },
            "type": "scatterpolar"
           }
          ],
          "scatterpolargl": [
           {
            "marker": {
             "colorbar": {
              "outlinewidth": 0,
              "ticks": ""
             }
            },
            "type": "scatterpolargl"
           }
          ],
          "scatterternary": [
           {
            "marker": {
             "colorbar": {
              "outlinewidth": 0,
              "ticks": ""
             }
            },
            "type": "scatterternary"
           }
          ],
          "surface": [
           {
            "colorbar": {
             "outlinewidth": 0,
             "ticks": ""
            },
            "colorscale": [
             [
              0,
              "#0d0887"
             ],
             [
              0.1111111111111111,
              "#46039f"
             ],
             [
              0.2222222222222222,
              "#7201a8"
             ],
             [
              0.3333333333333333,
              "#9c179e"
             ],
             [
              0.4444444444444444,
              "#bd3786"
             ],
             [
              0.5555555555555556,
              "#d8576b"
             ],
             [
              0.6666666666666666,
              "#ed7953"
             ],
             [
              0.7777777777777778,
              "#fb9f3a"
             ],
             [
              0.8888888888888888,
              "#fdca26"
             ],
             [
              1,
              "#f0f921"
             ]
            ],
            "type": "surface"
           }
          ],
          "table": [
           {
            "cells": {
             "fill": {
              "color": "#EBF0F8"
             },
             "line": {
              "color": "white"
             }
            },
            "header": {
             "fill": {
              "color": "#C8D4E3"
             },
             "line": {
              "color": "white"
             }
            },
            "type": "table"
           }
          ]
         },
         "layout": {
          "annotationdefaults": {
           "arrowcolor": "#2a3f5f",
           "arrowhead": 0,
           "arrowwidth": 1
          },
          "autotypenumbers": "strict",
          "coloraxis": {
           "colorbar": {
            "outlinewidth": 0,
            "ticks": ""
           }
          },
          "colorscale": {
           "diverging": [
            [
             0,
             "#8e0152"
            ],
            [
             0.1,
             "#c51b7d"
            ],
            [
             0.2,
             "#de77ae"
            ],
            [
             0.3,
             "#f1b6da"
            ],
            [
             0.4,
             "#fde0ef"
            ],
            [
             0.5,
             "#f7f7f7"
            ],
            [
             0.6,
             "#e6f5d0"
            ],
            [
             0.7,
             "#b8e186"
            ],
            [
             0.8,
             "#7fbc41"
            ],
            [
             0.9,
             "#4d9221"
            ],
            [
             1,
             "#276419"
            ]
           ],
           "sequential": [
            [
             0,
             "#0d0887"
            ],
            [
             0.1111111111111111,
             "#46039f"
            ],
            [
             0.2222222222222222,
             "#7201a8"
            ],
            [
             0.3333333333333333,
             "#9c179e"
            ],
            [
             0.4444444444444444,
             "#bd3786"
            ],
            [
             0.5555555555555556,
             "#d8576b"
            ],
            [
             0.6666666666666666,
             "#ed7953"
            ],
            [
             0.7777777777777778,
             "#fb9f3a"
            ],
            [
             0.8888888888888888,
             "#fdca26"
            ],
            [
             1,
             "#f0f921"
            ]
           ],
           "sequentialminus": [
            [
             0,
             "#0d0887"
            ],
            [
             0.1111111111111111,
             "#46039f"
            ],
            [
             0.2222222222222222,
             "#7201a8"
            ],
            [
             0.3333333333333333,
             "#9c179e"
            ],
            [
             0.4444444444444444,
             "#bd3786"
            ],
            [
             0.5555555555555556,
             "#d8576b"
            ],
            [
             0.6666666666666666,
             "#ed7953"
            ],
            [
             0.7777777777777778,
             "#fb9f3a"
            ],
            [
             0.8888888888888888,
             "#fdca26"
            ],
            [
             1,
             "#f0f921"
            ]
           ]
          },
          "colorway": [
           "#636efa",
           "#EF553B",
           "#00cc96",
           "#ab63fa",
           "#FFA15A",
           "#19d3f3",
           "#FF6692",
           "#B6E880",
           "#FF97FF",
           "#FECB52"
          ],
          "font": {
           "color": "#2a3f5f"
          },
          "geo": {
           "bgcolor": "white",
           "lakecolor": "white",
           "landcolor": "#E5ECF6",
           "showlakes": true,
           "showland": true,
           "subunitcolor": "white"
          },
          "hoverlabel": {
           "align": "left"
          },
          "hovermode": "closest",
          "mapbox": {
           "style": "light"
          },
          "paper_bgcolor": "white",
          "plot_bgcolor": "#E5ECF6",
          "polar": {
           "angularaxis": {
            "gridcolor": "white",
            "linecolor": "white",
            "ticks": ""
           },
           "bgcolor": "#E5ECF6",
           "radialaxis": {
            "gridcolor": "white",
            "linecolor": "white",
            "ticks": ""
           }
          },
          "scene": {
           "xaxis": {
            "backgroundcolor": "#E5ECF6",
            "gridcolor": "white",
            "gridwidth": 2,
            "linecolor": "white",
            "showbackground": true,
            "ticks": "",
            "zerolinecolor": "white"
           },
           "yaxis": {
            "backgroundcolor": "#E5ECF6",
            "gridcolor": "white",
            "gridwidth": 2,
            "linecolor": "white",
            "showbackground": true,
            "ticks": "",
            "zerolinecolor": "white"
           },
           "zaxis": {
            "backgroundcolor": "#E5ECF6",
            "gridcolor": "white",
            "gridwidth": 2,
            "linecolor": "white",
            "showbackground": true,
            "ticks": "",
            "zerolinecolor": "white"
           }
          },
          "shapedefaults": {
           "line": {
            "color": "#2a3f5f"
           }
          },
          "ternary": {
           "aaxis": {
            "gridcolor": "white",
            "linecolor": "white",
            "ticks": ""
           },
           "baxis": {
            "gridcolor": "white",
            "linecolor": "white",
            "ticks": ""
           },
           "bgcolor": "#E5ECF6",
           "caxis": {
            "gridcolor": "white",
            "linecolor": "white",
            "ticks": ""
           }
          },
          "title": {
           "x": 0.05
          },
          "xaxis": {
           "automargin": true,
           "gridcolor": "white",
           "linecolor": "white",
           "ticks": "",
           "title": {
            "standoff": 15
           },
           "zerolinecolor": "white",
           "zerolinewidth": 2
          },
          "yaxis": {
           "automargin": true,
           "gridcolor": "white",
           "linecolor": "white",
           "ticks": "",
           "title": {
            "standoff": 15
           },
           "zerolinecolor": "white",
           "zerolinewidth": 2
          }
         }
        },
        "title": {
         "text": "Slice Plot"
        },
        "width": 1800,
        "xaxis": {
         "anchor": "y",
         "domain": [
          0,
          0.1388888888888889
         ],
         "title": {
          "text": "gamma_pca"
         }
        },
        "xaxis2": {
         "anchor": "y2",
         "domain": [
          0.17222222222222222,
          0.3111111111111111
         ],
         "title": {
          "text": "n_neighbors"
         }
        },
        "xaxis3": {
         "anchor": "y3",
         "domain": [
          0.34444444444444444,
          0.48333333333333334
         ],
         "title": {
          "text": "n_pca_components"
         }
        },
        "xaxis4": {
         "anchor": "y4",
         "categoryarray": [
          "linear",
          "poly",
          "rbf",
          "sigmoid",
          "cosine"
         ],
         "categoryorder": "array",
         "domain": [
          0.5166666666666667,
          0.6555555555555557
         ],
         "title": {
          "text": "pca_kernel"
         },
         "type": "category"
        },
        "xaxis5": {
         "anchor": "y5",
         "categoryarray": [
          "True",
          "False"
         ],
         "categoryorder": "array",
         "domain": [
          0.6888888888888889,
          0.8277777777777777
         ],
         "title": {
          "text": "use_pca"
         },
         "type": "category"
        },
        "xaxis6": {
         "anchor": "y6",
         "categoryarray": [
          "uniform",
          "distance"
         ],
         "categoryorder": "array",
         "domain": [
          0.861111111111111,
          1
         ],
         "title": {
          "text": "weights"
         },
         "type": "category"
        },
        "yaxis": {
         "anchor": "x",
         "domain": [
          0,
          1
         ],
         "title": {
          "text": "Objective Value"
         }
        },
        "yaxis2": {
         "anchor": "x2",
         "domain": [
          0,
          1
         ],
         "matches": "y",
         "showticklabels": false
        },
        "yaxis3": {
         "anchor": "x3",
         "domain": [
          0,
          1
         ],
         "matches": "y",
         "showticklabels": false
        },
        "yaxis4": {
         "anchor": "x4",
         "domain": [
          0,
          1
         ],
         "matches": "y",
         "showticklabels": false
        },
        "yaxis5": {
         "anchor": "x5",
         "domain": [
          0,
          1
         ],
         "matches": "y",
         "showticklabels": false
        },
        "yaxis6": {
         "anchor": "x6",
         "domain": [
          0,
          1
         ],
         "matches": "y",
         "showticklabels": false
        }
       }
      }
     },
     "metadata": {},
     "output_type": "display_data"
    }
   ],
   "source": [
    "import numpy as np\n",
    "from sklearn.model_selection import train_test_split\n",
    "from sklearn.preprocessing import StandardScaler\n",
    "from sklearn.metrics import accuracy_score\n",
    "from sklearn.decomposition import PCA, KernelPCA\n",
    "from sklearn.neighbors import KNeighborsClassifier\n",
    "import optuna\n",
    "import optuna.visualization as vis\n",
    "\n",
    "n = 9\n",
    "\n",
    "X = np.load('Datasets/kryptonite-%s-X.npy'%(n))\n",
    "y = np.load('Datasets/kryptonite-%s-y.npy'%(n))\n",
    "\n",
    "def objective(trial):\n",
    "    ### ========== Shuffle and Split Data ========== ###\n",
    "\n",
    "    X_train, X_val, y_train, y_val = train_test_split(X, y, test_size=0.8, random_state=42)\n",
    "\n",
    "    scaler = StandardScaler()\n",
    "    X_train_scaled = scaler.fit_transform(X_train)\n",
    "    X_val_scaled = scaler.transform(X_val)\n",
    "\n",
    "    # Suggest dimensionality reduction and kernel parameters\n",
    "    use_pca = trial.suggest_categorical('use_pca', ['True', 'False'])\n",
    "    \n",
    "    if use_pca == 'True':\n",
    "        kernel_pca = trial.suggest_categorical('pca_kernel', ['linear', 'poly', 'rbf', 'sigmoid', 'cosine'])\n",
    "        # kernel_pca = 'linear'\n",
    "\n",
    "        params_pca = {}\n",
    "\n",
    "        if kernel_pca == 'poly':\n",
    "            params_pca['degree'] = trial.suggest_int('degree_pca', 1, 10)\n",
    "        if kernel_pca in ['poly', 'rbf', 'sigmoid']:\n",
    "            params_pca['gamma'] = trial.suggest_float('gamma_pca', 0.1, 10)\n",
    "\n",
    "        params_pca['n_jobs'] = -1\n",
    "        params_pca['n_components'] = trial.suggest_int('n_pca_components', 1, max(1, X_train_scaled.shape[1]))\n",
    "\n",
    "\n",
    "    ### ========== Dimensionality Reduction ========== ###\n",
    "\n",
    "    if use_pca == 'True':\n",
    "        pca = KernelPCA(**params_pca)\n",
    "\n",
    "        X_train_scaled = pca.fit_transform(X_train_scaled)\n",
    "        X_val_scaled = pca.transform(X_val)\n",
    "\n",
    "    # KNN Classifier parameters\n",
    "    classifier = KNeighborsClassifier(\n",
    "        n_neighbors=trial.suggest_int('n_neighbors', 5, 50),\n",
    "        weights=trial.suggest_categorical('weights', ['uniform', 'distance']),\n",
    "        n_jobs=-1\n",
    "    )\n",
    "\n",
    "    # Train the classifier\n",
    "    classifier.fit(X_train_scaled, y_train)\n",
    "\n",
    "    # Evaluate on the val set\n",
    "    y_val_pred = classifier.predict(X_val_scaled)\n",
    "    val_accuracy = accuracy_score(y_val, y_val_pred)\n",
    "\n",
    "    # Report validation accuracy for pruning\n",
    "    trial.report(val_accuracy, step=0)\n",
    "\n",
    "    # Check if the trial should be pruned\n",
    "    if trial.should_prune():\n",
    "        raise optuna.TrialPruned()\n",
    "\n",
    "\n",
    "    return val_accuracy\n",
    "\n",
    "# Create a study object with a pruner\n",
    "pruner = optuna.pruners.MedianPruner()\n",
    "study = optuna.create_study(direction=\"maximize\", pruner=pruner)\n",
    "\n",
    "# Optimize the objective function\n",
    "study.optimize(objective, n_trials=100)\n",
    "\n",
    "print(\"Best hyperparameters:\", study.best_params)\n",
    "print(\"Best value:\", study.best_value)\n",
    "\n",
    "# Visualize the optimization history and parameter importances\n",
    "vis.plot_optimization_history(study).show()\n",
    "vis.plot_param_importances(study).show()\n",
    "vis.plot_slice(study).show()"
   ]
  }
 ],
 "metadata": {
  "kernelspec": {
   "display_name": ".venv",
   "language": "python",
   "name": "python3"
  },
  "language_info": {
   "codemirror_mode": {
    "name": "ipython",
    "version": 3
   },
   "file_extension": ".py",
   "mimetype": "text/x-python",
   "name": "python",
   "nbconvert_exporter": "python",
   "pygments_lexer": "ipython3",
   "version": "3.12.0"
  }
 },
 "nbformat": 4,
 "nbformat_minor": 2
}
