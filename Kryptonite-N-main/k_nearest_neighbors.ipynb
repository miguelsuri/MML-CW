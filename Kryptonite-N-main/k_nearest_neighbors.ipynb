{
 "cells": [
  {
   "cell_type": "code",
   "execution_count": 17,
   "metadata": {},
   "outputs": [
    {
     "name": "stderr",
     "output_type": "stream",
     "text": [
      "[I 2024-11-12 18:57:22,475] A new study created in memory with name: no-name-89367883-5d49-4b42-a7cd-90fe849b3569\n",
      "[I 2024-11-12 18:57:23,167] Trial 0 finished with value: 0.25887345679012347 and parameters: {'n_neighbors': 33, 'weights': 'uniform'}. Best is trial 0 with value: 0.25887345679012347.\n"
     ]
    },
    {
     "name": "stdout",
     "output_type": "stream",
     "text": [
      "New best model saved with accuracy: 0.2589\n"
     ]
    },
    {
     "name": "stderr",
     "output_type": "stream",
     "text": [
      "[I 2024-11-12 18:57:23,786] Trial 1 finished with value: 0.49691358024691357 and parameters: {'n_neighbors': 13, 'weights': 'uniform'}. Best is trial 1 with value: 0.49691358024691357.\n"
     ]
    },
    {
     "name": "stdout",
     "output_type": "stream",
     "text": [
      "New best model saved with accuracy: 0.4969\n"
     ]
    },
    {
     "name": "stderr",
     "output_type": "stream",
     "text": [
      "[I 2024-11-12 18:57:24,503] Trial 2 finished with value: 0.2740740740740741 and parameters: {'n_neighbors': 35, 'weights': 'uniform'}. Best is trial 1 with value: 0.49691358024691357.\n",
      "[I 2024-11-12 18:57:24,642] Trial 3 finished with value: 0.9238425925925926 and parameters: {'n_neighbors': 7, 'weights': 'distance'}. Best is trial 3 with value: 0.9238425925925926.\n"
     ]
    },
    {
     "name": "stdout",
     "output_type": "stream",
     "text": [
      "New best model saved with accuracy: 0.9238\n"
     ]
    },
    {
     "name": "stderr",
     "output_type": "stream",
     "text": [
      "[I 2024-11-12 18:57:25,280] Trial 4 finished with value: 0.3358024691358025 and parameters: {'n_neighbors': 16, 'weights': 'uniform'}. Best is trial 3 with value: 0.9238425925925926.\n",
      "[I 2024-11-12 18:57:25,901] Trial 5 pruned. \n",
      "[I 2024-11-12 18:57:26,501] Trial 6 finished with value: 0.6261574074074074 and parameters: {'n_neighbors': 11, 'weights': 'uniform'}. Best is trial 3 with value: 0.9238425925925926.\n",
      "[I 2024-11-12 18:57:26,628] Trial 7 finished with value: 0.9238425925925926 and parameters: {'n_neighbors': 7, 'weights': 'distance'}. Best is trial 3 with value: 0.9238425925925926.\n",
      "[I 2024-11-12 18:57:26,785] Trial 8 finished with value: 0.8006944444444445 and parameters: {'n_neighbors': 19, 'weights': 'distance'}. Best is trial 3 with value: 0.9238425925925926.\n",
      "[I 2024-11-12 18:57:26,944] Trial 9 finished with value: 0.7631944444444444 and parameters: {'n_neighbors': 23, 'weights': 'distance'}. Best is trial 3 with value: 0.9238425925925926.\n",
      "[I 2024-11-12 18:57:27,157] Trial 10 finished with value: 0.772608024691358 and parameters: {'n_neighbors': 48, 'weights': 'distance'}. Best is trial 3 with value: 0.9238425925925926.\n",
      "[I 2024-11-12 18:57:27,200] Trial 11 finished with value: 0.9232253086419753 and parameters: {'n_neighbors': 1, 'weights': 'distance'}. Best is trial 3 with value: 0.9238425925925926.\n",
      "[I 2024-11-12 18:57:27,245] Trial 12 finished with value: 0.9232253086419753 and parameters: {'n_neighbors': 1, 'weights': 'distance'}. Best is trial 3 with value: 0.9238425925925926.\n",
      "[I 2024-11-12 18:57:27,353] Trial 13 finished with value: 0.9176697530864197 and parameters: {'n_neighbors': 8, 'weights': 'distance'}. Best is trial 3 with value: 0.9238425925925926.\n",
      "[I 2024-11-12 18:57:27,452] Trial 14 finished with value: 0.9238425925925926 and parameters: {'n_neighbors': 7, 'weights': 'distance'}. Best is trial 3 with value: 0.9238425925925926.\n",
      "[I 2024-11-12 18:57:27,637] Trial 15 pruned. \n",
      "[I 2024-11-12 18:57:27,725] Trial 16 finished with value: 0.9300925925925926 and parameters: {'n_neighbors': 6, 'weights': 'distance'}. Best is trial 16 with value: 0.9300925925925926.\n",
      "[I 2024-11-12 18:57:27,896] Trial 17 pruned. \n"
     ]
    },
    {
     "name": "stdout",
     "output_type": "stream",
     "text": [
      "New best model saved with accuracy: 0.9301\n"
     ]
    },
    {
     "name": "stderr",
     "output_type": "stream",
     "text": [
      "[I 2024-11-12 18:57:27,986] Trial 18 finished with value: 0.9361882716049382 and parameters: {'n_neighbors': 4, 'weights': 'distance'}. Best is trial 18 with value: 0.9361882716049382.\n"
     ]
    },
    {
     "name": "stdout",
     "output_type": "stream",
     "text": [
      "New best model saved with accuracy: 0.9362\n"
     ]
    },
    {
     "name": "stderr",
     "output_type": "stream",
     "text": [
      "[I 2024-11-12 18:57:28,188] Trial 19 pruned. \n",
      "[I 2024-11-12 18:57:28,232] Trial 20 finished with value: 0.9232253086419753 and parameters: {'n_neighbors': 1, 'weights': 'distance'}. Best is trial 18 with value: 0.9361882716049382.\n",
      "[I 2024-11-12 18:57:28,421] Trial 21 pruned. \n",
      "[I 2024-11-12 18:57:28,519] Trial 22 finished with value: 0.9362654320987654 and parameters: {'n_neighbors': 5, 'weights': 'distance'}. Best is trial 22 with value: 0.9362654320987654.\n",
      "[I 2024-11-12 18:57:28,585] Trial 23 finished with value: 0.9361882716049382 and parameters: {'n_neighbors': 4, 'weights': 'distance'}. Best is trial 22 with value: 0.9362654320987654.\n"
     ]
    },
    {
     "name": "stdout",
     "output_type": "stream",
     "text": [
      "New best model saved with accuracy: 0.9363\n"
     ]
    },
    {
     "name": "stderr",
     "output_type": "stream",
     "text": [
      "[I 2024-11-12 18:57:28,737] Trial 24 pruned. \n",
      "[I 2024-11-12 18:57:28,816] Trial 25 finished with value: 0.9398148148148148 and parameters: {'n_neighbors': 3, 'weights': 'distance'}. Best is trial 25 with value: 0.9398148148148148.\n",
      "[I 2024-11-12 18:57:28,956] Trial 26 pruned. \n"
     ]
    },
    {
     "name": "stdout",
     "output_type": "stream",
     "text": [
      "New best model saved with accuracy: 0.9398\n"
     ]
    },
    {
     "name": "stderr",
     "output_type": "stream",
     "text": [
      "[I 2024-11-12 18:57:29,021] Trial 27 finished with value: 0.9361882716049382 and parameters: {'n_neighbors': 4, 'weights': 'distance'}. Best is trial 25 with value: 0.9398148148148148.\n",
      "[I 2024-11-12 18:57:29,207] Trial 28 pruned. \n",
      "[I 2024-11-12 18:57:29,844] Trial 29 pruned. \n",
      "[I 2024-11-12 18:57:30,042] Trial 30 pruned. \n",
      "[I 2024-11-12 18:57:30,109] Trial 31 finished with value: 0.9361882716049382 and parameters: {'n_neighbors': 4, 'weights': 'distance'}. Best is trial 25 with value: 0.9398148148148148.\n",
      "[I 2024-11-12 18:57:30,176] Trial 32 finished with value: 0.9361882716049382 and parameters: {'n_neighbors': 4, 'weights': 'distance'}. Best is trial 25 with value: 0.9398148148148148.\n",
      "[I 2024-11-12 18:57:30,307] Trial 33 pruned. \n",
      "[I 2024-11-12 18:57:30,899] Trial 34 pruned. \n",
      "[I 2024-11-12 18:57:30,955] Trial 35 finished with value: 0.9361882716049382 and parameters: {'n_neighbors': 4, 'weights': 'distance'}. Best is trial 25 with value: 0.9398148148148148.\n",
      "[I 2024-11-12 18:57:31,509] Trial 36 pruned. \n",
      "[I 2024-11-12 18:57:31,655] Trial 37 pruned. \n",
      "[I 2024-11-12 18:57:32,212] Trial 38 pruned. \n",
      "[I 2024-11-12 18:57:32,372] Trial 39 pruned. \n",
      "[I 2024-11-12 18:57:32,462] Trial 40 finished with value: 0.9362654320987654 and parameters: {'n_neighbors': 5, 'weights': 'distance'}. Best is trial 25 with value: 0.9398148148148148.\n",
      "[I 2024-11-12 18:57:32,544] Trial 41 finished with value: 0.9362654320987654 and parameters: {'n_neighbors': 5, 'weights': 'distance'}. Best is trial 25 with value: 0.9398148148148148.\n",
      "[I 2024-11-12 18:57:32,623] Trial 42 finished with value: 0.9300925925925926 and parameters: {'n_neighbors': 6, 'weights': 'distance'}. Best is trial 25 with value: 0.9398148148148148.\n",
      "[I 2024-11-12 18:57:32,668] Trial 43 pruned. \n",
      "[I 2024-11-12 18:57:32,825] Trial 44 pruned. \n",
      "[I 2024-11-12 18:57:32,883] Trial 45 finished with value: 0.9398148148148148 and parameters: {'n_neighbors': 3, 'weights': 'distance'}. Best is trial 25 with value: 0.9398148148148148.\n",
      "[I 2024-11-12 18:57:33,437] Trial 46 pruned. \n",
      "[I 2024-11-12 18:57:33,492] Trial 47 pruned. \n",
      "[I 2024-11-12 18:57:33,560] Trial 48 finished with value: 0.9300925925925926 and parameters: {'n_neighbors': 6, 'weights': 'distance'}. Best is trial 25 with value: 0.9398148148148148.\n",
      "[I 2024-11-12 18:57:33,658] Trial 49 pruned. \n",
      "[I 2024-11-12 18:57:33,812] Trial 50 pruned. \n",
      "[I 2024-11-12 18:57:33,871] Trial 51 finished with value: 0.9398148148148148 and parameters: {'n_neighbors': 3, 'weights': 'distance'}. Best is trial 25 with value: 0.9398148148148148.\n",
      "[I 2024-11-12 18:57:33,928] Trial 52 finished with value: 0.9398148148148148 and parameters: {'n_neighbors': 3, 'weights': 'distance'}. Best is trial 25 with value: 0.9398148148148148.\n",
      "[I 2024-11-12 18:57:33,973] Trial 53 pruned. \n",
      "[I 2024-11-12 18:57:34,030] Trial 54 finished with value: 0.9398148148148148 and parameters: {'n_neighbors': 3, 'weights': 'distance'}. Best is trial 25 with value: 0.9398148148148148.\n",
      "[I 2024-11-12 18:57:34,075] Trial 55 pruned. \n",
      "[I 2024-11-12 18:57:34,166] Trial 56 pruned. \n",
      "[I 2024-11-12 18:57:34,221] Trial 57 finished with value: 0.9398148148148148 and parameters: {'n_neighbors': 3, 'weights': 'distance'}. Best is trial 25 with value: 0.9398148148148148.\n",
      "[I 2024-11-12 18:57:34,280] Trial 58 finished with value: 0.9398148148148148 and parameters: {'n_neighbors': 3, 'weights': 'distance'}. Best is trial 25 with value: 0.9398148148148148.\n",
      "[I 2024-11-12 18:57:34,399] Trial 59 pruned. \n",
      "[I 2024-11-12 18:57:34,859] Trial 60 pruned. \n",
      "[I 2024-11-12 18:57:34,916] Trial 61 finished with value: 0.9398148148148148 and parameters: {'n_neighbors': 3, 'weights': 'distance'}. Best is trial 25 with value: 0.9398148148148148.\n",
      "[I 2024-11-12 18:57:34,971] Trial 62 finished with value: 0.9398148148148148 and parameters: {'n_neighbors': 3, 'weights': 'distance'}. Best is trial 25 with value: 0.9398148148148148.\n",
      "[I 2024-11-12 18:57:35,060] Trial 63 pruned. \n",
      "[I 2024-11-12 18:57:35,146] Trial 64 pruned. \n",
      "[I 2024-11-12 18:57:35,202] Trial 65 finished with value: 0.9398148148148148 and parameters: {'n_neighbors': 3, 'weights': 'distance'}. Best is trial 25 with value: 0.9398148148148148.\n",
      "[I 2024-11-12 18:57:35,341] Trial 66 pruned. \n",
      "[I 2024-11-12 18:57:35,375] Trial 67 pruned. \n",
      "[I 2024-11-12 18:57:35,485] Trial 68 pruned. \n",
      "[I 2024-11-12 18:57:35,543] Trial 69 finished with value: 0.9398148148148148 and parameters: {'n_neighbors': 3, 'weights': 'distance'}. Best is trial 25 with value: 0.9398148148148148.\n",
      "[I 2024-11-12 18:57:35,618] Trial 70 finished with value: 0.9362654320987654 and parameters: {'n_neighbors': 5, 'weights': 'distance'}. Best is trial 25 with value: 0.9398148148148148.\n",
      "[I 2024-11-12 18:57:35,675] Trial 71 finished with value: 0.9398148148148148 and parameters: {'n_neighbors': 3, 'weights': 'distance'}. Best is trial 25 with value: 0.9398148148148148.\n",
      "[I 2024-11-12 18:57:35,732] Trial 72 pruned. \n",
      "[I 2024-11-12 18:57:35,800] Trial 73 pruned. \n",
      "[I 2024-11-12 18:57:35,845] Trial 74 pruned. \n",
      "[I 2024-11-12 18:57:35,954] Trial 75 pruned. \n",
      "[I 2024-11-12 18:57:36,012] Trial 76 finished with value: 0.9362654320987654 and parameters: {'n_neighbors': 5, 'weights': 'distance'}. Best is trial 25 with value: 0.9398148148148148.\n",
      "[I 2024-11-12 18:57:36,061] Trial 77 finished with value: 0.9398148148148148 and parameters: {'n_neighbors': 3, 'weights': 'distance'}. Best is trial 25 with value: 0.9398148148148148.\n",
      "[I 2024-11-12 18:57:36,603] Trial 78 pruned. \n",
      "[I 2024-11-12 18:57:36,671] Trial 79 finished with value: 0.9362654320987654 and parameters: {'n_neighbors': 5, 'weights': 'distance'}. Best is trial 25 with value: 0.9398148148148148.\n",
      "[I 2024-11-12 18:57:36,758] Trial 80 pruned. \n",
      "[I 2024-11-12 18:57:36,815] Trial 81 finished with value: 0.9398148148148148 and parameters: {'n_neighbors': 3, 'weights': 'distance'}. Best is trial 25 with value: 0.9398148148148148.\n",
      "[I 2024-11-12 18:57:36,872] Trial 82 finished with value: 0.9398148148148148 and parameters: {'n_neighbors': 3, 'weights': 'distance'}. Best is trial 25 with value: 0.9398148148148148.\n",
      "[I 2024-11-12 18:57:36,939] Trial 83 finished with value: 0.9361882716049382 and parameters: {'n_neighbors': 4, 'weights': 'distance'}. Best is trial 25 with value: 0.9398148148148148.\n",
      "[I 2024-11-12 18:57:36,984] Trial 84 pruned. \n",
      "[I 2024-11-12 18:57:37,040] Trial 85 finished with value: 0.9361882716049382 and parameters: {'n_neighbors': 4, 'weights': 'distance'}. Best is trial 25 with value: 0.9398148148148148.\n",
      "[I 2024-11-12 18:57:37,227] Trial 86 pruned. \n",
      "[I 2024-11-12 18:57:37,411] Trial 87 pruned. \n",
      "[I 2024-11-12 18:57:37,466] Trial 88 pruned. \n",
      "[I 2024-11-12 18:57:38,077] Trial 89 pruned. \n",
      "[I 2024-11-12 18:57:38,186] Trial 90 pruned. \n",
      "[I 2024-11-12 18:57:38,253] Trial 91 finished with value: 0.9398148148148148 and parameters: {'n_neighbors': 3, 'weights': 'distance'}. Best is trial 25 with value: 0.9398148148148148.\n",
      "[I 2024-11-12 18:57:38,360] Trial 92 pruned. \n",
      "[I 2024-11-12 18:57:38,416] Trial 93 pruned. \n",
      "[I 2024-11-12 18:57:38,502] Trial 94 finished with value: 0.9362654320987654 and parameters: {'n_neighbors': 5, 'weights': 'distance'}. Best is trial 25 with value: 0.9398148148148148.\n",
      "[I 2024-11-12 18:57:38,643] Trial 95 pruned. \n",
      "[I 2024-11-12 18:57:38,691] Trial 96 finished with value: 0.9361882716049382 and parameters: {'n_neighbors': 4, 'weights': 'distance'}. Best is trial 25 with value: 0.9398148148148148.\n",
      "[I 2024-11-12 18:57:38,814] Trial 97 pruned. \n",
      "[I 2024-11-12 18:57:38,848] Trial 98 pruned. \n",
      "[I 2024-11-12 18:57:38,936] Trial 99 pruned. \n"
     ]
    },
    {
     "name": "stdout",
     "output_type": "stream",
     "text": [
      "Best hyperparameters: {'n_neighbors': 3, 'weights': 'distance'}\n",
      "Best value: 0.9398148148148148\n",
      "Best model saved as 'best_knn_model.joblib'.\n"
     ]
    },
    {
     "data": {
      "application/vnd.plotly.v1+json": {
       "config": {
        "plotlyServerURL": "https://plot.ly"
       },
       "data": [
        {
         "mode": "markers",
         "name": "Objective Value",
         "type": "scatter",
         "x": [
          0,
          1,
          2,
          3,
          4,
          6,
          7,
          8,
          9,
          10,
          11,
          12,
          13,
          14,
          16,
          18,
          20,
          22,
          23,
          25,
          27,
          31,
          32,
          35,
          40,
          41,
          42,
          45,
          48,
          51,
          52,
          54,
          57,
          58,
          61,
          62,
          65,
          69,
          70,
          71,
          76,
          77,
          79,
          81,
          82,
          83,
          85,
          91,
          94,
          96
         ],
         "y": [
          0.25887345679012347,
          0.49691358024691357,
          0.2740740740740741,
          0.9238425925925926,
          0.3358024691358025,
          0.6261574074074074,
          0.9238425925925926,
          0.8006944444444445,
          0.7631944444444444,
          0.772608024691358,
          0.9232253086419753,
          0.9232253086419753,
          0.9176697530864197,
          0.9238425925925926,
          0.9300925925925926,
          0.9361882716049382,
          0.9232253086419753,
          0.9362654320987654,
          0.9361882716049382,
          0.9398148148148148,
          0.9361882716049382,
          0.9361882716049382,
          0.9361882716049382,
          0.9361882716049382,
          0.9362654320987654,
          0.9362654320987654,
          0.9300925925925926,
          0.9398148148148148,
          0.9300925925925926,
          0.9398148148148148,
          0.9398148148148148,
          0.9398148148148148,
          0.9398148148148148,
          0.9398148148148148,
          0.9398148148148148,
          0.9398148148148148,
          0.9398148148148148,
          0.9398148148148148,
          0.9362654320987654,
          0.9398148148148148,
          0.9362654320987654,
          0.9398148148148148,
          0.9362654320987654,
          0.9398148148148148,
          0.9398148148148148,
          0.9361882716049382,
          0.9361882716049382,
          0.9398148148148148,
          0.9362654320987654,
          0.9361882716049382
         ]
        },
        {
         "mode": "lines",
         "name": "Best Value",
         "type": "scatter",
         "x": [
          0,
          1,
          2,
          3,
          4,
          5,
          6,
          7,
          8,
          9,
          10,
          11,
          12,
          13,
          14,
          15,
          16,
          17,
          18,
          19,
          20,
          21,
          22,
          23,
          24,
          25,
          26,
          27,
          28,
          29,
          30,
          31,
          32,
          33,
          34,
          35,
          36,
          37,
          38,
          39,
          40,
          41,
          42,
          43,
          44,
          45,
          46,
          47,
          48,
          49,
          50,
          51,
          52,
          53,
          54,
          55,
          56,
          57,
          58,
          59,
          60,
          61,
          62,
          63,
          64,
          65,
          66,
          67,
          68,
          69,
          70,
          71,
          72,
          73,
          74,
          75,
          76,
          77,
          78,
          79,
          80,
          81,
          82,
          83,
          84,
          85,
          86,
          87,
          88,
          89,
          90,
          91,
          92,
          93,
          94,
          95,
          96,
          97,
          98,
          99
         ],
         "y": [
          0.25887345679012347,
          0.49691358024691357,
          0.49691358024691357,
          0.9238425925925926,
          0.9238425925925926,
          0.9238425925925926,
          0.9238425925925926,
          0.9238425925925926,
          0.9238425925925926,
          0.9238425925925926,
          0.9238425925925926,
          0.9238425925925926,
          0.9238425925925926,
          0.9238425925925926,
          0.9238425925925926,
          0.9238425925925926,
          0.9300925925925926,
          0.9300925925925926,
          0.9361882716049382,
          0.9361882716049382,
          0.9361882716049382,
          0.9361882716049382,
          0.9362654320987654,
          0.9362654320987654,
          0.9362654320987654,
          0.9398148148148148,
          0.9398148148148148,
          0.9398148148148148,
          0.9398148148148148,
          0.9398148148148148,
          0.9398148148148148,
          0.9398148148148148,
          0.9398148148148148,
          0.9398148148148148,
          0.9398148148148148,
          0.9398148148148148,
          0.9398148148148148,
          0.9398148148148148,
          0.9398148148148148,
          0.9398148148148148,
          0.9398148148148148,
          0.9398148148148148,
          0.9398148148148148,
          0.9398148148148148,
          0.9398148148148148,
          0.9398148148148148,
          0.9398148148148148,
          0.9398148148148148,
          0.9398148148148148,
          0.9398148148148148,
          0.9398148148148148,
          0.9398148148148148,
          0.9398148148148148,
          0.9398148148148148,
          0.9398148148148148,
          0.9398148148148148,
          0.9398148148148148,
          0.9398148148148148,
          0.9398148148148148,
          0.9398148148148148,
          0.9398148148148148,
          0.9398148148148148,
          0.9398148148148148,
          0.9398148148148148,
          0.9398148148148148,
          0.9398148148148148,
          0.9398148148148148,
          0.9398148148148148,
          0.9398148148148148,
          0.9398148148148148,
          0.9398148148148148,
          0.9398148148148148,
          0.9398148148148148,
          0.9398148148148148,
          0.9398148148148148,
          0.9398148148148148,
          0.9398148148148148,
          0.9398148148148148,
          0.9398148148148148,
          0.9398148148148148,
          0.9398148148148148,
          0.9398148148148148,
          0.9398148148148148,
          0.9398148148148148,
          0.9398148148148148,
          0.9398148148148148,
          0.9398148148148148,
          0.9398148148148148,
          0.9398148148148148,
          0.9398148148148148,
          0.9398148148148148,
          0.9398148148148148,
          0.9398148148148148,
          0.9398148148148148,
          0.9398148148148148,
          0.9398148148148148,
          0.9398148148148148,
          0.9398148148148148,
          0.9398148148148148,
          0.9398148148148148
         ]
        },
        {
         "marker": {
          "color": "#cccccc"
         },
         "mode": "markers",
         "name": "Infeasible Trial",
         "showlegend": false,
         "type": "scatter",
         "x": [],
         "y": []
        }
       ],
       "layout": {
        "template": {
         "data": {
          "bar": [
           {
            "error_x": {
             "color": "#2a3f5f"
            },
            "error_y": {
             "color": "#2a3f5f"
            },
            "marker": {
             "line": {
              "color": "#E5ECF6",
              "width": 0.5
             },
             "pattern": {
              "fillmode": "overlay",
              "size": 10,
              "solidity": 0.2
             }
            },
            "type": "bar"
           }
          ],
          "barpolar": [
           {
            "marker": {
             "line": {
              "color": "#E5ECF6",
              "width": 0.5
             },
             "pattern": {
              "fillmode": "overlay",
              "size": 10,
              "solidity": 0.2
             }
            },
            "type": "barpolar"
           }
          ],
          "carpet": [
           {
            "aaxis": {
             "endlinecolor": "#2a3f5f",
             "gridcolor": "white",
             "linecolor": "white",
             "minorgridcolor": "white",
             "startlinecolor": "#2a3f5f"
            },
            "baxis": {
             "endlinecolor": "#2a3f5f",
             "gridcolor": "white",
             "linecolor": "white",
             "minorgridcolor": "white",
             "startlinecolor": "#2a3f5f"
            },
            "type": "carpet"
           }
          ],
          "choropleth": [
           {
            "colorbar": {
             "outlinewidth": 0,
             "ticks": ""
            },
            "type": "choropleth"
           }
          ],
          "contour": [
           {
            "colorbar": {
             "outlinewidth": 0,
             "ticks": ""
            },
            "colorscale": [
             [
              0,
              "#0d0887"
             ],
             [
              0.1111111111111111,
              "#46039f"
             ],
             [
              0.2222222222222222,
              "#7201a8"
             ],
             [
              0.3333333333333333,
              "#9c179e"
             ],
             [
              0.4444444444444444,
              "#bd3786"
             ],
             [
              0.5555555555555556,
              "#d8576b"
             ],
             [
              0.6666666666666666,
              "#ed7953"
             ],
             [
              0.7777777777777778,
              "#fb9f3a"
             ],
             [
              0.8888888888888888,
              "#fdca26"
             ],
             [
              1,
              "#f0f921"
             ]
            ],
            "type": "contour"
           }
          ],
          "contourcarpet": [
           {
            "colorbar": {
             "outlinewidth": 0,
             "ticks": ""
            },
            "type": "contourcarpet"
           }
          ],
          "heatmap": [
           {
            "colorbar": {
             "outlinewidth": 0,
             "ticks": ""
            },
            "colorscale": [
             [
              0,
              "#0d0887"
             ],
             [
              0.1111111111111111,
              "#46039f"
             ],
             [
              0.2222222222222222,
              "#7201a8"
             ],
             [
              0.3333333333333333,
              "#9c179e"
             ],
             [
              0.4444444444444444,
              "#bd3786"
             ],
             [
              0.5555555555555556,
              "#d8576b"
             ],
             [
              0.6666666666666666,
              "#ed7953"
             ],
             [
              0.7777777777777778,
              "#fb9f3a"
             ],
             [
              0.8888888888888888,
              "#fdca26"
             ],
             [
              1,
              "#f0f921"
             ]
            ],
            "type": "heatmap"
           }
          ],
          "heatmapgl": [
           {
            "colorbar": {
             "outlinewidth": 0,
             "ticks": ""
            },
            "colorscale": [
             [
              0,
              "#0d0887"
             ],
             [
              0.1111111111111111,
              "#46039f"
             ],
             [
              0.2222222222222222,
              "#7201a8"
             ],
             [
              0.3333333333333333,
              "#9c179e"
             ],
             [
              0.4444444444444444,
              "#bd3786"
             ],
             [
              0.5555555555555556,
              "#d8576b"
             ],
             [
              0.6666666666666666,
              "#ed7953"
             ],
             [
              0.7777777777777778,
              "#fb9f3a"
             ],
             [
              0.8888888888888888,
              "#fdca26"
             ],
             [
              1,
              "#f0f921"
             ]
            ],
            "type": "heatmapgl"
           }
          ],
          "histogram": [
           {
            "marker": {
             "pattern": {
              "fillmode": "overlay",
              "size": 10,
              "solidity": 0.2
             }
            },
            "type": "histogram"
           }
          ],
          "histogram2d": [
           {
            "colorbar": {
             "outlinewidth": 0,
             "ticks": ""
            },
            "colorscale": [
             [
              0,
              "#0d0887"
             ],
             [
              0.1111111111111111,
              "#46039f"
             ],
             [
              0.2222222222222222,
              "#7201a8"
             ],
             [
              0.3333333333333333,
              "#9c179e"
             ],
             [
              0.4444444444444444,
              "#bd3786"
             ],
             [
              0.5555555555555556,
              "#d8576b"
             ],
             [
              0.6666666666666666,
              "#ed7953"
             ],
             [
              0.7777777777777778,
              "#fb9f3a"
             ],
             [
              0.8888888888888888,
              "#fdca26"
             ],
             [
              1,
              "#f0f921"
             ]
            ],
            "type": "histogram2d"
           }
          ],
          "histogram2dcontour": [
           {
            "colorbar": {
             "outlinewidth": 0,
             "ticks": ""
            },
            "colorscale": [
             [
              0,
              "#0d0887"
             ],
             [
              0.1111111111111111,
              "#46039f"
             ],
             [
              0.2222222222222222,
              "#7201a8"
             ],
             [
              0.3333333333333333,
              "#9c179e"
             ],
             [
              0.4444444444444444,
              "#bd3786"
             ],
             [
              0.5555555555555556,
              "#d8576b"
             ],
             [
              0.6666666666666666,
              "#ed7953"
             ],
             [
              0.7777777777777778,
              "#fb9f3a"
             ],
             [
              0.8888888888888888,
              "#fdca26"
             ],
             [
              1,
              "#f0f921"
             ]
            ],
            "type": "histogram2dcontour"
           }
          ],
          "mesh3d": [
           {
            "colorbar": {
             "outlinewidth": 0,
             "ticks": ""
            },
            "type": "mesh3d"
           }
          ],
          "parcoords": [
           {
            "line": {
             "colorbar": {
              "outlinewidth": 0,
              "ticks": ""
             }
            },
            "type": "parcoords"
           }
          ],
          "pie": [
           {
            "automargin": true,
            "type": "pie"
           }
          ],
          "scatter": [
           {
            "fillpattern": {
             "fillmode": "overlay",
             "size": 10,
             "solidity": 0.2
            },
            "type": "scatter"
           }
          ],
          "scatter3d": [
           {
            "line": {
             "colorbar": {
              "outlinewidth": 0,
              "ticks": ""
             }
            },
            "marker": {
             "colorbar": {
              "outlinewidth": 0,
              "ticks": ""
             }
            },
            "type": "scatter3d"
           }
          ],
          "scattercarpet": [
           {
            "marker": {
             "colorbar": {
              "outlinewidth": 0,
              "ticks": ""
             }
            },
            "type": "scattercarpet"
           }
          ],
          "scattergeo": [
           {
            "marker": {
             "colorbar": {
              "outlinewidth": 0,
              "ticks": ""
             }
            },
            "type": "scattergeo"
           }
          ],
          "scattergl": [
           {
            "marker": {
             "colorbar": {
              "outlinewidth": 0,
              "ticks": ""
             }
            },
            "type": "scattergl"
           }
          ],
          "scattermapbox": [
           {
            "marker": {
             "colorbar": {
              "outlinewidth": 0,
              "ticks": ""
             }
            },
            "type": "scattermapbox"
           }
          ],
          "scatterpolar": [
           {
            "marker": {
             "colorbar": {
              "outlinewidth": 0,
              "ticks": ""
             }
            },
            "type": "scatterpolar"
           }
          ],
          "scatterpolargl": [
           {
            "marker": {
             "colorbar": {
              "outlinewidth": 0,
              "ticks": ""
             }
            },
            "type": "scatterpolargl"
           }
          ],
          "scatterternary": [
           {
            "marker": {
             "colorbar": {
              "outlinewidth": 0,
              "ticks": ""
             }
            },
            "type": "scatterternary"
           }
          ],
          "surface": [
           {
            "colorbar": {
             "outlinewidth": 0,
             "ticks": ""
            },
            "colorscale": [
             [
              0,
              "#0d0887"
             ],
             [
              0.1111111111111111,
              "#46039f"
             ],
             [
              0.2222222222222222,
              "#7201a8"
             ],
             [
              0.3333333333333333,
              "#9c179e"
             ],
             [
              0.4444444444444444,
              "#bd3786"
             ],
             [
              0.5555555555555556,
              "#d8576b"
             ],
             [
              0.6666666666666666,
              "#ed7953"
             ],
             [
              0.7777777777777778,
              "#fb9f3a"
             ],
             [
              0.8888888888888888,
              "#fdca26"
             ],
             [
              1,
              "#f0f921"
             ]
            ],
            "type": "surface"
           }
          ],
          "table": [
           {
            "cells": {
             "fill": {
              "color": "#EBF0F8"
             },
             "line": {
              "color": "white"
             }
            },
            "header": {
             "fill": {
              "color": "#C8D4E3"
             },
             "line": {
              "color": "white"
             }
            },
            "type": "table"
           }
          ]
         },
         "layout": {
          "annotationdefaults": {
           "arrowcolor": "#2a3f5f",
           "arrowhead": 0,
           "arrowwidth": 1
          },
          "autotypenumbers": "strict",
          "coloraxis": {
           "colorbar": {
            "outlinewidth": 0,
            "ticks": ""
           }
          },
          "colorscale": {
           "diverging": [
            [
             0,
             "#8e0152"
            ],
            [
             0.1,
             "#c51b7d"
            ],
            [
             0.2,
             "#de77ae"
            ],
            [
             0.3,
             "#f1b6da"
            ],
            [
             0.4,
             "#fde0ef"
            ],
            [
             0.5,
             "#f7f7f7"
            ],
            [
             0.6,
             "#e6f5d0"
            ],
            [
             0.7,
             "#b8e186"
            ],
            [
             0.8,
             "#7fbc41"
            ],
            [
             0.9,
             "#4d9221"
            ],
            [
             1,
             "#276419"
            ]
           ],
           "sequential": [
            [
             0,
             "#0d0887"
            ],
            [
             0.1111111111111111,
             "#46039f"
            ],
            [
             0.2222222222222222,
             "#7201a8"
            ],
            [
             0.3333333333333333,
             "#9c179e"
            ],
            [
             0.4444444444444444,
             "#bd3786"
            ],
            [
             0.5555555555555556,
             "#d8576b"
            ],
            [
             0.6666666666666666,
             "#ed7953"
            ],
            [
             0.7777777777777778,
             "#fb9f3a"
            ],
            [
             0.8888888888888888,
             "#fdca26"
            ],
            [
             1,
             "#f0f921"
            ]
           ],
           "sequentialminus": [
            [
             0,
             "#0d0887"
            ],
            [
             0.1111111111111111,
             "#46039f"
            ],
            [
             0.2222222222222222,
             "#7201a8"
            ],
            [
             0.3333333333333333,
             "#9c179e"
            ],
            [
             0.4444444444444444,
             "#bd3786"
            ],
            [
             0.5555555555555556,
             "#d8576b"
            ],
            [
             0.6666666666666666,
             "#ed7953"
            ],
            [
             0.7777777777777778,
             "#fb9f3a"
            ],
            [
             0.8888888888888888,
             "#fdca26"
            ],
            [
             1,
             "#f0f921"
            ]
           ]
          },
          "colorway": [
           "#636efa",
           "#EF553B",
           "#00cc96",
           "#ab63fa",
           "#FFA15A",
           "#19d3f3",
           "#FF6692",
           "#B6E880",
           "#FF97FF",
           "#FECB52"
          ],
          "font": {
           "color": "#2a3f5f"
          },
          "geo": {
           "bgcolor": "white",
           "lakecolor": "white",
           "landcolor": "#E5ECF6",
           "showlakes": true,
           "showland": true,
           "subunitcolor": "white"
          },
          "hoverlabel": {
           "align": "left"
          },
          "hovermode": "closest",
          "mapbox": {
           "style": "light"
          },
          "paper_bgcolor": "white",
          "plot_bgcolor": "#E5ECF6",
          "polar": {
           "angularaxis": {
            "gridcolor": "white",
            "linecolor": "white",
            "ticks": ""
           },
           "bgcolor": "#E5ECF6",
           "radialaxis": {
            "gridcolor": "white",
            "linecolor": "white",
            "ticks": ""
           }
          },
          "scene": {
           "xaxis": {
            "backgroundcolor": "#E5ECF6",
            "gridcolor": "white",
            "gridwidth": 2,
            "linecolor": "white",
            "showbackground": true,
            "ticks": "",
            "zerolinecolor": "white"
           },
           "yaxis": {
            "backgroundcolor": "#E5ECF6",
            "gridcolor": "white",
            "gridwidth": 2,
            "linecolor": "white",
            "showbackground": true,
            "ticks": "",
            "zerolinecolor": "white"
           },
           "zaxis": {
            "backgroundcolor": "#E5ECF6",
            "gridcolor": "white",
            "gridwidth": 2,
            "linecolor": "white",
            "showbackground": true,
            "ticks": "",
            "zerolinecolor": "white"
           }
          },
          "shapedefaults": {
           "line": {
            "color": "#2a3f5f"
           }
          },
          "ternary": {
           "aaxis": {
            "gridcolor": "white",
            "linecolor": "white",
            "ticks": ""
           },
           "baxis": {
            "gridcolor": "white",
            "linecolor": "white",
            "ticks": ""
           },
           "bgcolor": "#E5ECF6",
           "caxis": {
            "gridcolor": "white",
            "linecolor": "white",
            "ticks": ""
           }
          },
          "title": {
           "x": 0.05
          },
          "xaxis": {
           "automargin": true,
           "gridcolor": "white",
           "linecolor": "white",
           "ticks": "",
           "title": {
            "standoff": 15
           },
           "zerolinecolor": "white",
           "zerolinewidth": 2
          },
          "yaxis": {
           "automargin": true,
           "gridcolor": "white",
           "linecolor": "white",
           "ticks": "",
           "title": {
            "standoff": 15
           },
           "zerolinecolor": "white",
           "zerolinewidth": 2
          }
         }
        },
        "title": {
         "text": "Optimization History Plot"
        },
        "xaxis": {
         "title": {
          "text": "Trial"
         }
        },
        "yaxis": {
         "title": {
          "text": "Objective Value"
         }
        }
       }
      }
     },
     "metadata": {},
     "output_type": "display_data"
    },
    {
     "data": {
      "application/vnd.plotly.v1+json": {
       "config": {
        "plotlyServerURL": "https://plot.ly"
       },
       "data": [
        {
         "cliponaxis": false,
         "hovertemplate": [
          "n_neighbors (IntDistribution): 0.1915821567535082<extra></extra>",
          "weights (CategoricalDistribution): 0.8084178432464918<extra></extra>"
         ],
         "name": "Objective Value",
         "orientation": "h",
         "text": [
          "0.19",
          "0.81"
         ],
         "textposition": "outside",
         "type": "bar",
         "x": [
          0.1915821567535082,
          0.8084178432464918
         ],
         "y": [
          "n_neighbors",
          "weights"
         ]
        }
       ],
       "layout": {
        "template": {
         "data": {
          "bar": [
           {
            "error_x": {
             "color": "#2a3f5f"
            },
            "error_y": {
             "color": "#2a3f5f"
            },
            "marker": {
             "line": {
              "color": "#E5ECF6",
              "width": 0.5
             },
             "pattern": {
              "fillmode": "overlay",
              "size": 10,
              "solidity": 0.2
             }
            },
            "type": "bar"
           }
          ],
          "barpolar": [
           {
            "marker": {
             "line": {
              "color": "#E5ECF6",
              "width": 0.5
             },
             "pattern": {
              "fillmode": "overlay",
              "size": 10,
              "solidity": 0.2
             }
            },
            "type": "barpolar"
           }
          ],
          "carpet": [
           {
            "aaxis": {
             "endlinecolor": "#2a3f5f",
             "gridcolor": "white",
             "linecolor": "white",
             "minorgridcolor": "white",
             "startlinecolor": "#2a3f5f"
            },
            "baxis": {
             "endlinecolor": "#2a3f5f",
             "gridcolor": "white",
             "linecolor": "white",
             "minorgridcolor": "white",
             "startlinecolor": "#2a3f5f"
            },
            "type": "carpet"
           }
          ],
          "choropleth": [
           {
            "colorbar": {
             "outlinewidth": 0,
             "ticks": ""
            },
            "type": "choropleth"
           }
          ],
          "contour": [
           {
            "colorbar": {
             "outlinewidth": 0,
             "ticks": ""
            },
            "colorscale": [
             [
              0,
              "#0d0887"
             ],
             [
              0.1111111111111111,
              "#46039f"
             ],
             [
              0.2222222222222222,
              "#7201a8"
             ],
             [
              0.3333333333333333,
              "#9c179e"
             ],
             [
              0.4444444444444444,
              "#bd3786"
             ],
             [
              0.5555555555555556,
              "#d8576b"
             ],
             [
              0.6666666666666666,
              "#ed7953"
             ],
             [
              0.7777777777777778,
              "#fb9f3a"
             ],
             [
              0.8888888888888888,
              "#fdca26"
             ],
             [
              1,
              "#f0f921"
             ]
            ],
            "type": "contour"
           }
          ],
          "contourcarpet": [
           {
            "colorbar": {
             "outlinewidth": 0,
             "ticks": ""
            },
            "type": "contourcarpet"
           }
          ],
          "heatmap": [
           {
            "colorbar": {
             "outlinewidth": 0,
             "ticks": ""
            },
            "colorscale": [
             [
              0,
              "#0d0887"
             ],
             [
              0.1111111111111111,
              "#46039f"
             ],
             [
              0.2222222222222222,
              "#7201a8"
             ],
             [
              0.3333333333333333,
              "#9c179e"
             ],
             [
              0.4444444444444444,
              "#bd3786"
             ],
             [
              0.5555555555555556,
              "#d8576b"
             ],
             [
              0.6666666666666666,
              "#ed7953"
             ],
             [
              0.7777777777777778,
              "#fb9f3a"
             ],
             [
              0.8888888888888888,
              "#fdca26"
             ],
             [
              1,
              "#f0f921"
             ]
            ],
            "type": "heatmap"
           }
          ],
          "heatmapgl": [
           {
            "colorbar": {
             "outlinewidth": 0,
             "ticks": ""
            },
            "colorscale": [
             [
              0,
              "#0d0887"
             ],
             [
              0.1111111111111111,
              "#46039f"
             ],
             [
              0.2222222222222222,
              "#7201a8"
             ],
             [
              0.3333333333333333,
              "#9c179e"
             ],
             [
              0.4444444444444444,
              "#bd3786"
             ],
             [
              0.5555555555555556,
              "#d8576b"
             ],
             [
              0.6666666666666666,
              "#ed7953"
             ],
             [
              0.7777777777777778,
              "#fb9f3a"
             ],
             [
              0.8888888888888888,
              "#fdca26"
             ],
             [
              1,
              "#f0f921"
             ]
            ],
            "type": "heatmapgl"
           }
          ],
          "histogram": [
           {
            "marker": {
             "pattern": {
              "fillmode": "overlay",
              "size": 10,
              "solidity": 0.2
             }
            },
            "type": "histogram"
           }
          ],
          "histogram2d": [
           {
            "colorbar": {
             "outlinewidth": 0,
             "ticks": ""
            },
            "colorscale": [
             [
              0,
              "#0d0887"
             ],
             [
              0.1111111111111111,
              "#46039f"
             ],
             [
              0.2222222222222222,
              "#7201a8"
             ],
             [
              0.3333333333333333,
              "#9c179e"
             ],
             [
              0.4444444444444444,
              "#bd3786"
             ],
             [
              0.5555555555555556,
              "#d8576b"
             ],
             [
              0.6666666666666666,
              "#ed7953"
             ],
             [
              0.7777777777777778,
              "#fb9f3a"
             ],
             [
              0.8888888888888888,
              "#fdca26"
             ],
             [
              1,
              "#f0f921"
             ]
            ],
            "type": "histogram2d"
           }
          ],
          "histogram2dcontour": [
           {
            "colorbar": {
             "outlinewidth": 0,
             "ticks": ""
            },
            "colorscale": [
             [
              0,
              "#0d0887"
             ],
             [
              0.1111111111111111,
              "#46039f"
             ],
             [
              0.2222222222222222,
              "#7201a8"
             ],
             [
              0.3333333333333333,
              "#9c179e"
             ],
             [
              0.4444444444444444,
              "#bd3786"
             ],
             [
              0.5555555555555556,
              "#d8576b"
             ],
             [
              0.6666666666666666,
              "#ed7953"
             ],
             [
              0.7777777777777778,
              "#fb9f3a"
             ],
             [
              0.8888888888888888,
              "#fdca26"
             ],
             [
              1,
              "#f0f921"
             ]
            ],
            "type": "histogram2dcontour"
           }
          ],
          "mesh3d": [
           {
            "colorbar": {
             "outlinewidth": 0,
             "ticks": ""
            },
            "type": "mesh3d"
           }
          ],
          "parcoords": [
           {
            "line": {
             "colorbar": {
              "outlinewidth": 0,
              "ticks": ""
             }
            },
            "type": "parcoords"
           }
          ],
          "pie": [
           {
            "automargin": true,
            "type": "pie"
           }
          ],
          "scatter": [
           {
            "fillpattern": {
             "fillmode": "overlay",
             "size": 10,
             "solidity": 0.2
            },
            "type": "scatter"
           }
          ],
          "scatter3d": [
           {
            "line": {
             "colorbar": {
              "outlinewidth": 0,
              "ticks": ""
             }
            },
            "marker": {
             "colorbar": {
              "outlinewidth": 0,
              "ticks": ""
             }
            },
            "type": "scatter3d"
           }
          ],
          "scattercarpet": [
           {
            "marker": {
             "colorbar": {
              "outlinewidth": 0,
              "ticks": ""
             }
            },
            "type": "scattercarpet"
           }
          ],
          "scattergeo": [
           {
            "marker": {
             "colorbar": {
              "outlinewidth": 0,
              "ticks": ""
             }
            },
            "type": "scattergeo"
           }
          ],
          "scattergl": [
           {
            "marker": {
             "colorbar": {
              "outlinewidth": 0,
              "ticks": ""
             }
            },
            "type": "scattergl"
           }
          ],
          "scattermapbox": [
           {
            "marker": {
             "colorbar": {
              "outlinewidth": 0,
              "ticks": ""
             }
            },
            "type": "scattermapbox"
           }
          ],
          "scatterpolar": [
           {
            "marker": {
             "colorbar": {
              "outlinewidth": 0,
              "ticks": ""
             }
            },
            "type": "scatterpolar"
           }
          ],
          "scatterpolargl": [
           {
            "marker": {
             "colorbar": {
              "outlinewidth": 0,
              "ticks": ""
             }
            },
            "type": "scatterpolargl"
           }
          ],
          "scatterternary": [
           {
            "marker": {
             "colorbar": {
              "outlinewidth": 0,
              "ticks": ""
             }
            },
            "type": "scatterternary"
           }
          ],
          "surface": [
           {
            "colorbar": {
             "outlinewidth": 0,
             "ticks": ""
            },
            "colorscale": [
             [
              0,
              "#0d0887"
             ],
             [
              0.1111111111111111,
              "#46039f"
             ],
             [
              0.2222222222222222,
              "#7201a8"
             ],
             [
              0.3333333333333333,
              "#9c179e"
             ],
             [
              0.4444444444444444,
              "#bd3786"
             ],
             [
              0.5555555555555556,
              "#d8576b"
             ],
             [
              0.6666666666666666,
              "#ed7953"
             ],
             [
              0.7777777777777778,
              "#fb9f3a"
             ],
             [
              0.8888888888888888,
              "#fdca26"
             ],
             [
              1,
              "#f0f921"
             ]
            ],
            "type": "surface"
           }
          ],
          "table": [
           {
            "cells": {
             "fill": {
              "color": "#EBF0F8"
             },
             "line": {
              "color": "white"
             }
            },
            "header": {
             "fill": {
              "color": "#C8D4E3"
             },
             "line": {
              "color": "white"
             }
            },
            "type": "table"
           }
          ]
         },
         "layout": {
          "annotationdefaults": {
           "arrowcolor": "#2a3f5f",
           "arrowhead": 0,
           "arrowwidth": 1
          },
          "autotypenumbers": "strict",
          "coloraxis": {
           "colorbar": {
            "outlinewidth": 0,
            "ticks": ""
           }
          },
          "colorscale": {
           "diverging": [
            [
             0,
             "#8e0152"
            ],
            [
             0.1,
             "#c51b7d"
            ],
            [
             0.2,
             "#de77ae"
            ],
            [
             0.3,
             "#f1b6da"
            ],
            [
             0.4,
             "#fde0ef"
            ],
            [
             0.5,
             "#f7f7f7"
            ],
            [
             0.6,
             "#e6f5d0"
            ],
            [
             0.7,
             "#b8e186"
            ],
            [
             0.8,
             "#7fbc41"
            ],
            [
             0.9,
             "#4d9221"
            ],
            [
             1,
             "#276419"
            ]
           ],
           "sequential": [
            [
             0,
             "#0d0887"
            ],
            [
             0.1111111111111111,
             "#46039f"
            ],
            [
             0.2222222222222222,
             "#7201a8"
            ],
            [
             0.3333333333333333,
             "#9c179e"
            ],
            [
             0.4444444444444444,
             "#bd3786"
            ],
            [
             0.5555555555555556,
             "#d8576b"
            ],
            [
             0.6666666666666666,
             "#ed7953"
            ],
            [
             0.7777777777777778,
             "#fb9f3a"
            ],
            [
             0.8888888888888888,
             "#fdca26"
            ],
            [
             1,
             "#f0f921"
            ]
           ],
           "sequentialminus": [
            [
             0,
             "#0d0887"
            ],
            [
             0.1111111111111111,
             "#46039f"
            ],
            [
             0.2222222222222222,
             "#7201a8"
            ],
            [
             0.3333333333333333,
             "#9c179e"
            ],
            [
             0.4444444444444444,
             "#bd3786"
            ],
            [
             0.5555555555555556,
             "#d8576b"
            ],
            [
             0.6666666666666666,
             "#ed7953"
            ],
            [
             0.7777777777777778,
             "#fb9f3a"
            ],
            [
             0.8888888888888888,
             "#fdca26"
            ],
            [
             1,
             "#f0f921"
            ]
           ]
          },
          "colorway": [
           "#636efa",
           "#EF553B",
           "#00cc96",
           "#ab63fa",
           "#FFA15A",
           "#19d3f3",
           "#FF6692",
           "#B6E880",
           "#FF97FF",
           "#FECB52"
          ],
          "font": {
           "color": "#2a3f5f"
          },
          "geo": {
           "bgcolor": "white",
           "lakecolor": "white",
           "landcolor": "#E5ECF6",
           "showlakes": true,
           "showland": true,
           "subunitcolor": "white"
          },
          "hoverlabel": {
           "align": "left"
          },
          "hovermode": "closest",
          "mapbox": {
           "style": "light"
          },
          "paper_bgcolor": "white",
          "plot_bgcolor": "#E5ECF6",
          "polar": {
           "angularaxis": {
            "gridcolor": "white",
            "linecolor": "white",
            "ticks": ""
           },
           "bgcolor": "#E5ECF6",
           "radialaxis": {
            "gridcolor": "white",
            "linecolor": "white",
            "ticks": ""
           }
          },
          "scene": {
           "xaxis": {
            "backgroundcolor": "#E5ECF6",
            "gridcolor": "white",
            "gridwidth": 2,
            "linecolor": "white",
            "showbackground": true,
            "ticks": "",
            "zerolinecolor": "white"
           },
           "yaxis": {
            "backgroundcolor": "#E5ECF6",
            "gridcolor": "white",
            "gridwidth": 2,
            "linecolor": "white",
            "showbackground": true,
            "ticks": "",
            "zerolinecolor": "white"
           },
           "zaxis": {
            "backgroundcolor": "#E5ECF6",
            "gridcolor": "white",
            "gridwidth": 2,
            "linecolor": "white",
            "showbackground": true,
            "ticks": "",
            "zerolinecolor": "white"
           }
          },
          "shapedefaults": {
           "line": {
            "color": "#2a3f5f"
           }
          },
          "ternary": {
           "aaxis": {
            "gridcolor": "white",
            "linecolor": "white",
            "ticks": ""
           },
           "baxis": {
            "gridcolor": "white",
            "linecolor": "white",
            "ticks": ""
           },
           "bgcolor": "#E5ECF6",
           "caxis": {
            "gridcolor": "white",
            "linecolor": "white",
            "ticks": ""
           }
          },
          "title": {
           "x": 0.05
          },
          "xaxis": {
           "automargin": true,
           "gridcolor": "white",
           "linecolor": "white",
           "ticks": "",
           "title": {
            "standoff": 15
           },
           "zerolinecolor": "white",
           "zerolinewidth": 2
          },
          "yaxis": {
           "automargin": true,
           "gridcolor": "white",
           "linecolor": "white",
           "ticks": "",
           "title": {
            "standoff": 15
           },
           "zerolinecolor": "white",
           "zerolinewidth": 2
          }
         }
        },
        "title": {
         "text": "Hyperparameter Importances"
        },
        "xaxis": {
         "title": {
          "text": "Hyperparameter Importance"
         }
        },
        "yaxis": {
         "title": {
          "text": "Hyperparameter"
         }
        }
       }
      }
     },
     "metadata": {},
     "output_type": "display_data"
    },
    {
     "data": {
      "application/vnd.plotly.v1+json": {
       "config": {
        "plotlyServerURL": "https://plot.ly"
       },
       "data": [
        {
         "marker": {
          "color": [
           0,
           1,
           2,
           3,
           4,
           6,
           7,
           8,
           9,
           10,
           11,
           12,
           13,
           14,
           16,
           18,
           20,
           22,
           23,
           25,
           27,
           31,
           32,
           35,
           40,
           41,
           42,
           45,
           48,
           51,
           52,
           54,
           57,
           58,
           61,
           62,
           65,
           69,
           70,
           71,
           76,
           77,
           79,
           81,
           82,
           83,
           85,
           91,
           94,
           96
          ],
          "colorbar": {
           "title": {
            "text": "Trial"
           },
           "x": 1,
           "xpad": 40
          },
          "colorscale": [
           [
            0,
            "rgb(247,251,255)"
           ],
           [
            0.125,
            "rgb(222,235,247)"
           ],
           [
            0.25,
            "rgb(198,219,239)"
           ],
           [
            0.375,
            "rgb(158,202,225)"
           ],
           [
            0.5,
            "rgb(107,174,214)"
           ],
           [
            0.625,
            "rgb(66,146,198)"
           ],
           [
            0.75,
            "rgb(33,113,181)"
           ],
           [
            0.875,
            "rgb(8,81,156)"
           ],
           [
            1,
            "rgb(8,48,107)"
           ]
          ],
          "line": {
           "color": "Grey",
           "width": 0.5
          },
          "showscale": true
         },
         "mode": "markers",
         "name": "Feasible Trial",
         "showlegend": false,
         "type": "scatter",
         "x": [
          33,
          13,
          35,
          7,
          16,
          11,
          7,
          19,
          23,
          48,
          1,
          1,
          8,
          7,
          6,
          4,
          1,
          5,
          4,
          3,
          4,
          4,
          4,
          4,
          5,
          5,
          6,
          3,
          6,
          3,
          3,
          3,
          3,
          3,
          3,
          3,
          3,
          3,
          5,
          3,
          5,
          3,
          5,
          3,
          3,
          4,
          4,
          3,
          5,
          4
         ],
         "xaxis": "x",
         "y": [
          0.25887345679012347,
          0.49691358024691357,
          0.2740740740740741,
          0.9238425925925926,
          0.3358024691358025,
          0.6261574074074074,
          0.9238425925925926,
          0.8006944444444445,
          0.7631944444444444,
          0.772608024691358,
          0.9232253086419753,
          0.9232253086419753,
          0.9176697530864197,
          0.9238425925925926,
          0.9300925925925926,
          0.9361882716049382,
          0.9232253086419753,
          0.9362654320987654,
          0.9361882716049382,
          0.9398148148148148,
          0.9361882716049382,
          0.9361882716049382,
          0.9361882716049382,
          0.9361882716049382,
          0.9362654320987654,
          0.9362654320987654,
          0.9300925925925926,
          0.9398148148148148,
          0.9300925925925926,
          0.9398148148148148,
          0.9398148148148148,
          0.9398148148148148,
          0.9398148148148148,
          0.9398148148148148,
          0.9398148148148148,
          0.9398148148148148,
          0.9398148148148148,
          0.9398148148148148,
          0.9362654320987654,
          0.9398148148148148,
          0.9362654320987654,
          0.9398148148148148,
          0.9362654320987654,
          0.9398148148148148,
          0.9398148148148148,
          0.9361882716049382,
          0.9361882716049382,
          0.9398148148148148,
          0.9362654320987654,
          0.9361882716049382
         ],
         "yaxis": "y"
        },
        {
         "marker": {
          "color": [
           0,
           1,
           2,
           3,
           4,
           6,
           7,
           8,
           9,
           10,
           11,
           12,
           13,
           14,
           16,
           18,
           20,
           22,
           23,
           25,
           27,
           31,
           32,
           35,
           40,
           41,
           42,
           45,
           48,
           51,
           52,
           54,
           57,
           58,
           61,
           62,
           65,
           69,
           70,
           71,
           76,
           77,
           79,
           81,
           82,
           83,
           85,
           91,
           94,
           96
          ],
          "colorbar": {
           "title": {
            "text": "Trial"
           },
           "x": 1,
           "xpad": 40
          },
          "colorscale": [
           [
            0,
            "rgb(247,251,255)"
           ],
           [
            0.125,
            "rgb(222,235,247)"
           ],
           [
            0.25,
            "rgb(198,219,239)"
           ],
           [
            0.375,
            "rgb(158,202,225)"
           ],
           [
            0.5,
            "rgb(107,174,214)"
           ],
           [
            0.625,
            "rgb(66,146,198)"
           ],
           [
            0.75,
            "rgb(33,113,181)"
           ],
           [
            0.875,
            "rgb(8,81,156)"
           ],
           [
            1,
            "rgb(8,48,107)"
           ]
          ],
          "line": {
           "color": "Grey",
           "width": 0.5
          },
          "showscale": false
         },
         "mode": "markers",
         "name": "Feasible Trial",
         "showlegend": false,
         "type": "scatter",
         "x": [
          "uniform",
          "uniform",
          "uniform",
          "distance",
          "uniform",
          "uniform",
          "distance",
          "distance",
          "distance",
          "distance",
          "distance",
          "distance",
          "distance",
          "distance",
          "distance",
          "distance",
          "distance",
          "distance",
          "distance",
          "distance",
          "distance",
          "distance",
          "distance",
          "distance",
          "distance",
          "distance",
          "distance",
          "distance",
          "distance",
          "distance",
          "distance",
          "distance",
          "distance",
          "distance",
          "distance",
          "distance",
          "distance",
          "distance",
          "distance",
          "distance",
          "distance",
          "distance",
          "distance",
          "distance",
          "distance",
          "distance",
          "distance",
          "distance",
          "distance",
          "distance"
         ],
         "xaxis": "x2",
         "y": [
          0.25887345679012347,
          0.49691358024691357,
          0.2740740740740741,
          0.9238425925925926,
          0.3358024691358025,
          0.6261574074074074,
          0.9238425925925926,
          0.8006944444444445,
          0.7631944444444444,
          0.772608024691358,
          0.9232253086419753,
          0.9232253086419753,
          0.9176697530864197,
          0.9238425925925926,
          0.9300925925925926,
          0.9361882716049382,
          0.9232253086419753,
          0.9362654320987654,
          0.9361882716049382,
          0.9398148148148148,
          0.9361882716049382,
          0.9361882716049382,
          0.9361882716049382,
          0.9361882716049382,
          0.9362654320987654,
          0.9362654320987654,
          0.9300925925925926,
          0.9398148148148148,
          0.9300925925925926,
          0.9398148148148148,
          0.9398148148148148,
          0.9398148148148148,
          0.9398148148148148,
          0.9398148148148148,
          0.9398148148148148,
          0.9398148148148148,
          0.9398148148148148,
          0.9398148148148148,
          0.9362654320987654,
          0.9398148148148148,
          0.9362654320987654,
          0.9398148148148148,
          0.9362654320987654,
          0.9398148148148148,
          0.9398148148148148,
          0.9361882716049382,
          0.9361882716049382,
          0.9398148148148148,
          0.9362654320987654,
          0.9361882716049382
         ],
         "yaxis": "y2"
        }
       ],
       "layout": {
        "template": {
         "data": {
          "bar": [
           {
            "error_x": {
             "color": "#2a3f5f"
            },
            "error_y": {
             "color": "#2a3f5f"
            },
            "marker": {
             "line": {
              "color": "#E5ECF6",
              "width": 0.5
             },
             "pattern": {
              "fillmode": "overlay",
              "size": 10,
              "solidity": 0.2
             }
            },
            "type": "bar"
           }
          ],
          "barpolar": [
           {
            "marker": {
             "line": {
              "color": "#E5ECF6",
              "width": 0.5
             },
             "pattern": {
              "fillmode": "overlay",
              "size": 10,
              "solidity": 0.2
             }
            },
            "type": "barpolar"
           }
          ],
          "carpet": [
           {
            "aaxis": {
             "endlinecolor": "#2a3f5f",
             "gridcolor": "white",
             "linecolor": "white",
             "minorgridcolor": "white",
             "startlinecolor": "#2a3f5f"
            },
            "baxis": {
             "endlinecolor": "#2a3f5f",
             "gridcolor": "white",
             "linecolor": "white",
             "minorgridcolor": "white",
             "startlinecolor": "#2a3f5f"
            },
            "type": "carpet"
           }
          ],
          "choropleth": [
           {
            "colorbar": {
             "outlinewidth": 0,
             "ticks": ""
            },
            "type": "choropleth"
           }
          ],
          "contour": [
           {
            "colorbar": {
             "outlinewidth": 0,
             "ticks": ""
            },
            "colorscale": [
             [
              0,
              "#0d0887"
             ],
             [
              0.1111111111111111,
              "#46039f"
             ],
             [
              0.2222222222222222,
              "#7201a8"
             ],
             [
              0.3333333333333333,
              "#9c179e"
             ],
             [
              0.4444444444444444,
              "#bd3786"
             ],
             [
              0.5555555555555556,
              "#d8576b"
             ],
             [
              0.6666666666666666,
              "#ed7953"
             ],
             [
              0.7777777777777778,
              "#fb9f3a"
             ],
             [
              0.8888888888888888,
              "#fdca26"
             ],
             [
              1,
              "#f0f921"
             ]
            ],
            "type": "contour"
           }
          ],
          "contourcarpet": [
           {
            "colorbar": {
             "outlinewidth": 0,
             "ticks": ""
            },
            "type": "contourcarpet"
           }
          ],
          "heatmap": [
           {
            "colorbar": {
             "outlinewidth": 0,
             "ticks": ""
            },
            "colorscale": [
             [
              0,
              "#0d0887"
             ],
             [
              0.1111111111111111,
              "#46039f"
             ],
             [
              0.2222222222222222,
              "#7201a8"
             ],
             [
              0.3333333333333333,
              "#9c179e"
             ],
             [
              0.4444444444444444,
              "#bd3786"
             ],
             [
              0.5555555555555556,
              "#d8576b"
             ],
             [
              0.6666666666666666,
              "#ed7953"
             ],
             [
              0.7777777777777778,
              "#fb9f3a"
             ],
             [
              0.8888888888888888,
              "#fdca26"
             ],
             [
              1,
              "#f0f921"
             ]
            ],
            "type": "heatmap"
           }
          ],
          "heatmapgl": [
           {
            "colorbar": {
             "outlinewidth": 0,
             "ticks": ""
            },
            "colorscale": [
             [
              0,
              "#0d0887"
             ],
             [
              0.1111111111111111,
              "#46039f"
             ],
             [
              0.2222222222222222,
              "#7201a8"
             ],
             [
              0.3333333333333333,
              "#9c179e"
             ],
             [
              0.4444444444444444,
              "#bd3786"
             ],
             [
              0.5555555555555556,
              "#d8576b"
             ],
             [
              0.6666666666666666,
              "#ed7953"
             ],
             [
              0.7777777777777778,
              "#fb9f3a"
             ],
             [
              0.8888888888888888,
              "#fdca26"
             ],
             [
              1,
              "#f0f921"
             ]
            ],
            "type": "heatmapgl"
           }
          ],
          "histogram": [
           {
            "marker": {
             "pattern": {
              "fillmode": "overlay",
              "size": 10,
              "solidity": 0.2
             }
            },
            "type": "histogram"
           }
          ],
          "histogram2d": [
           {
            "colorbar": {
             "outlinewidth": 0,
             "ticks": ""
            },
            "colorscale": [
             [
              0,
              "#0d0887"
             ],
             [
              0.1111111111111111,
              "#46039f"
             ],
             [
              0.2222222222222222,
              "#7201a8"
             ],
             [
              0.3333333333333333,
              "#9c179e"
             ],
             [
              0.4444444444444444,
              "#bd3786"
             ],
             [
              0.5555555555555556,
              "#d8576b"
             ],
             [
              0.6666666666666666,
              "#ed7953"
             ],
             [
              0.7777777777777778,
              "#fb9f3a"
             ],
             [
              0.8888888888888888,
              "#fdca26"
             ],
             [
              1,
              "#f0f921"
             ]
            ],
            "type": "histogram2d"
           }
          ],
          "histogram2dcontour": [
           {
            "colorbar": {
             "outlinewidth": 0,
             "ticks": ""
            },
            "colorscale": [
             [
              0,
              "#0d0887"
             ],
             [
              0.1111111111111111,
              "#46039f"
             ],
             [
              0.2222222222222222,
              "#7201a8"
             ],
             [
              0.3333333333333333,
              "#9c179e"
             ],
             [
              0.4444444444444444,
              "#bd3786"
             ],
             [
              0.5555555555555556,
              "#d8576b"
             ],
             [
              0.6666666666666666,
              "#ed7953"
             ],
             [
              0.7777777777777778,
              "#fb9f3a"
             ],
             [
              0.8888888888888888,
              "#fdca26"
             ],
             [
              1,
              "#f0f921"
             ]
            ],
            "type": "histogram2dcontour"
           }
          ],
          "mesh3d": [
           {
            "colorbar": {
             "outlinewidth": 0,
             "ticks": ""
            },
            "type": "mesh3d"
           }
          ],
          "parcoords": [
           {
            "line": {
             "colorbar": {
              "outlinewidth": 0,
              "ticks": ""
             }
            },
            "type": "parcoords"
           }
          ],
          "pie": [
           {
            "automargin": true,
            "type": "pie"
           }
          ],
          "scatter": [
           {
            "fillpattern": {
             "fillmode": "overlay",
             "size": 10,
             "solidity": 0.2
            },
            "type": "scatter"
           }
          ],
          "scatter3d": [
           {
            "line": {
             "colorbar": {
              "outlinewidth": 0,
              "ticks": ""
             }
            },
            "marker": {
             "colorbar": {
              "outlinewidth": 0,
              "ticks": ""
             }
            },
            "type": "scatter3d"
           }
          ],
          "scattercarpet": [
           {
            "marker": {
             "colorbar": {
              "outlinewidth": 0,
              "ticks": ""
             }
            },
            "type": "scattercarpet"
           }
          ],
          "scattergeo": [
           {
            "marker": {
             "colorbar": {
              "outlinewidth": 0,
              "ticks": ""
             }
            },
            "type": "scattergeo"
           }
          ],
          "scattergl": [
           {
            "marker": {
             "colorbar": {
              "outlinewidth": 0,
              "ticks": ""
             }
            },
            "type": "scattergl"
           }
          ],
          "scattermapbox": [
           {
            "marker": {
             "colorbar": {
              "outlinewidth": 0,
              "ticks": ""
             }
            },
            "type": "scattermapbox"
           }
          ],
          "scatterpolar": [
           {
            "marker": {
             "colorbar": {
              "outlinewidth": 0,
              "ticks": ""
             }
            },
            "type": "scatterpolar"
           }
          ],
          "scatterpolargl": [
           {
            "marker": {
             "colorbar": {
              "outlinewidth": 0,
              "ticks": ""
             }
            },
            "type": "scatterpolargl"
           }
          ],
          "scatterternary": [
           {
            "marker": {
             "colorbar": {
              "outlinewidth": 0,
              "ticks": ""
             }
            },
            "type": "scatterternary"
           }
          ],
          "surface": [
           {
            "colorbar": {
             "outlinewidth": 0,
             "ticks": ""
            },
            "colorscale": [
             [
              0,
              "#0d0887"
             ],
             [
              0.1111111111111111,
              "#46039f"
             ],
             [
              0.2222222222222222,
              "#7201a8"
             ],
             [
              0.3333333333333333,
              "#9c179e"
             ],
             [
              0.4444444444444444,
              "#bd3786"
             ],
             [
              0.5555555555555556,
              "#d8576b"
             ],
             [
              0.6666666666666666,
              "#ed7953"
             ],
             [
              0.7777777777777778,
              "#fb9f3a"
             ],
             [
              0.8888888888888888,
              "#fdca26"
             ],
             [
              1,
              "#f0f921"
             ]
            ],
            "type": "surface"
           }
          ],
          "table": [
           {
            "cells": {
             "fill": {
              "color": "#EBF0F8"
             },
             "line": {
              "color": "white"
             }
            },
            "header": {
             "fill": {
              "color": "#C8D4E3"
             },
             "line": {
              "color": "white"
             }
            },
            "type": "table"
           }
          ]
         },
         "layout": {
          "annotationdefaults": {
           "arrowcolor": "#2a3f5f",
           "arrowhead": 0,
           "arrowwidth": 1
          },
          "autotypenumbers": "strict",
          "coloraxis": {
           "colorbar": {
            "outlinewidth": 0,
            "ticks": ""
           }
          },
          "colorscale": {
           "diverging": [
            [
             0,
             "#8e0152"
            ],
            [
             0.1,
             "#c51b7d"
            ],
            [
             0.2,
             "#de77ae"
            ],
            [
             0.3,
             "#f1b6da"
            ],
            [
             0.4,
             "#fde0ef"
            ],
            [
             0.5,
             "#f7f7f7"
            ],
            [
             0.6,
             "#e6f5d0"
            ],
            [
             0.7,
             "#b8e186"
            ],
            [
             0.8,
             "#7fbc41"
            ],
            [
             0.9,
             "#4d9221"
            ],
            [
             1,
             "#276419"
            ]
           ],
           "sequential": [
            [
             0,
             "#0d0887"
            ],
            [
             0.1111111111111111,
             "#46039f"
            ],
            [
             0.2222222222222222,
             "#7201a8"
            ],
            [
             0.3333333333333333,
             "#9c179e"
            ],
            [
             0.4444444444444444,
             "#bd3786"
            ],
            [
             0.5555555555555556,
             "#d8576b"
            ],
            [
             0.6666666666666666,
             "#ed7953"
            ],
            [
             0.7777777777777778,
             "#fb9f3a"
            ],
            [
             0.8888888888888888,
             "#fdca26"
            ],
            [
             1,
             "#f0f921"
            ]
           ],
           "sequentialminus": [
            [
             0,
             "#0d0887"
            ],
            [
             0.1111111111111111,
             "#46039f"
            ],
            [
             0.2222222222222222,
             "#7201a8"
            ],
            [
             0.3333333333333333,
             "#9c179e"
            ],
            [
             0.4444444444444444,
             "#bd3786"
            ],
            [
             0.5555555555555556,
             "#d8576b"
            ],
            [
             0.6666666666666666,
             "#ed7953"
            ],
            [
             0.7777777777777778,
             "#fb9f3a"
            ],
            [
             0.8888888888888888,
             "#fdca26"
            ],
            [
             1,
             "#f0f921"
            ]
           ]
          },
          "colorway": [
           "#636efa",
           "#EF553B",
           "#00cc96",
           "#ab63fa",
           "#FFA15A",
           "#19d3f3",
           "#FF6692",
           "#B6E880",
           "#FF97FF",
           "#FECB52"
          ],
          "font": {
           "color": "#2a3f5f"
          },
          "geo": {
           "bgcolor": "white",
           "lakecolor": "white",
           "landcolor": "#E5ECF6",
           "showlakes": true,
           "showland": true,
           "subunitcolor": "white"
          },
          "hoverlabel": {
           "align": "left"
          },
          "hovermode": "closest",
          "mapbox": {
           "style": "light"
          },
          "paper_bgcolor": "white",
          "plot_bgcolor": "#E5ECF6",
          "polar": {
           "angularaxis": {
            "gridcolor": "white",
            "linecolor": "white",
            "ticks": ""
           },
           "bgcolor": "#E5ECF6",
           "radialaxis": {
            "gridcolor": "white",
            "linecolor": "white",
            "ticks": ""
           }
          },
          "scene": {
           "xaxis": {
            "backgroundcolor": "#E5ECF6",
            "gridcolor": "white",
            "gridwidth": 2,
            "linecolor": "white",
            "showbackground": true,
            "ticks": "",
            "zerolinecolor": "white"
           },
           "yaxis": {
            "backgroundcolor": "#E5ECF6",
            "gridcolor": "white",
            "gridwidth": 2,
            "linecolor": "white",
            "showbackground": true,
            "ticks": "",
            "zerolinecolor": "white"
           },
           "zaxis": {
            "backgroundcolor": "#E5ECF6",
            "gridcolor": "white",
            "gridwidth": 2,
            "linecolor": "white",
            "showbackground": true,
            "ticks": "",
            "zerolinecolor": "white"
           }
          },
          "shapedefaults": {
           "line": {
            "color": "#2a3f5f"
           }
          },
          "ternary": {
           "aaxis": {
            "gridcolor": "white",
            "linecolor": "white",
            "ticks": ""
           },
           "baxis": {
            "gridcolor": "white",
            "linecolor": "white",
            "ticks": ""
           },
           "bgcolor": "#E5ECF6",
           "caxis": {
            "gridcolor": "white",
            "linecolor": "white",
            "ticks": ""
           }
          },
          "title": {
           "x": 0.05
          },
          "xaxis": {
           "automargin": true,
           "gridcolor": "white",
           "linecolor": "white",
           "ticks": "",
           "title": {
            "standoff": 15
           },
           "zerolinecolor": "white",
           "zerolinewidth": 2
          },
          "yaxis": {
           "automargin": true,
           "gridcolor": "white",
           "linecolor": "white",
           "ticks": "",
           "title": {
            "standoff": 15
           },
           "zerolinecolor": "white",
           "zerolinewidth": 2
          }
         }
        },
        "title": {
         "text": "Slice Plot"
        },
        "xaxis": {
         "anchor": "y",
         "domain": [
          0,
          0.45
         ],
         "title": {
          "text": "n_neighbors"
         }
        },
        "xaxis2": {
         "anchor": "y2",
         "categoryarray": [
          "uniform",
          "distance"
         ],
         "categoryorder": "array",
         "domain": [
          0.55,
          1
         ],
         "title": {
          "text": "weights"
         },
         "type": "category"
        },
        "yaxis": {
         "anchor": "x",
         "domain": [
          0,
          1
         ],
         "title": {
          "text": "Objective Value"
         }
        },
        "yaxis2": {
         "anchor": "x2",
         "domain": [
          0,
          1
         ],
         "matches": "y",
         "showticklabels": false
        }
       }
      }
     },
     "metadata": {},
     "output_type": "display_data"
    }
   ],
   "source": [
    "import numpy as np\n",
    "import joblib  # for saving the model\n",
    "from sklearn.model_selection import train_test_split\n",
    "from sklearn.preprocessing import StandardScaler\n",
    "from sklearn.metrics import accuracy_score\n",
    "from sklearn.decomposition import KernelPCA\n",
    "from sklearn.neighbors import KNeighborsClassifier\n",
    "import optuna\n",
    "import optuna.visualization as vis\n",
    "\n",
    "n = 9\n",
    "\n",
    "X = np.load('Datasets/kryptonite-%s-X.npy' % (n))\n",
    "y = np.load('Datasets/kryptonite-%s-y.npy' % (n))\n",
    "\n",
    "X_train_total, X_test, y_train_total, y_test = train_test_split(X, y, test_size=0.1, random_state=42)  # 10% of all data for final model evaluation\n",
    "\n",
    "# To hold the best model and accuracy score\n",
    "best_model = None\n",
    "best_accuracy = -1\n",
    "\n",
    "def objective(trial):\n",
    "    global best_model, best_scaler, best_accuracy\n",
    "\n",
    "    # Shuffle and split data\n",
    "    X_train, X_val, y_train, y_val = train_test_split(X_train_total, y_train_total, test_size=0.8, random_state=42)\n",
    "\n",
    "    scaler = StandardScaler()\n",
    "    X_train_scaled = scaler.fit_transform(X_train)\n",
    "    X_val_scaled = scaler.transform(X_val)\n",
    "\n",
    "    # # Suggest dimensionality reduction and kernel parameters\n",
    "    # use_pca = trial.suggest_categorical('use_pca', ['True', 'False'])\n",
    "\n",
    "    # if use_pca == 'True':\n",
    "    #     kernel_pca = trial.suggest_categorical('pca_kernel', ['linear', 'poly', 'rbf', 'sigmoid', 'cosine'])\n",
    "    #     params_pca = {}\n",
    "\n",
    "    #     if kernel_pca == 'poly':\n",
    "    #         params_pca['degree'] = trial.suggest_int('degree_pca', 1, 10)\n",
    "    #     if kernel_pca in ['poly', 'rbf', 'sigmoid']:\n",
    "    #         params_pca['gamma'] = trial.suggest_float('gamma_pca', 0.1, 10)\n",
    "\n",
    "    #     params_pca['n_jobs'] = -1\n",
    "    #     params_pca['n_components'] = trial.suggest_int('n_pca_components', 1, max(1, X_train_scaled.shape[1]))\n",
    "\n",
    "    #     pca = KernelPCA(kernel=kernel_pca, **params_pca)\n",
    "    #     X_train_scaled = pca.fit_transform(X_train_scaled)\n",
    "    #     X_val_scaled = pca.transform(X_val_scaled)\n",
    "\n",
    "    # KNN Classifier parameters\n",
    "    classifier = KNeighborsClassifier(\n",
    "        n_neighbors=trial.suggest_int('n_neighbors', 1, 50),\n",
    "        weights=trial.suggest_categorical('weights', ['uniform', 'distance']),\n",
    "        n_jobs=-1\n",
    "    )\n",
    "\n",
    "    # Train the classifier\n",
    "    classifier.fit(X_train_scaled, y_train)\n",
    "\n",
    "    # Evaluate on the validation set\n",
    "    y_val_pred = classifier.predict(X_val_scaled)\n",
    "    val_accuracy = accuracy_score(y_val, y_val_pred)\n",
    "\n",
    "    # Report validation accuracy for pruning\n",
    "    trial.report(val_accuracy, step=0)\n",
    "\n",
    "    # Check if the trial should be pruned\n",
    "    if trial.should_prune():\n",
    "        raise optuna.TrialPruned()\n",
    "\n",
    "    # If this is the best model so far, save it\n",
    "    if val_accuracy > best_accuracy:\n",
    "        best_accuracy = val_accuracy\n",
    "        best_model = classifier  # Update the best model\n",
    "        best_scaler = scaler\n",
    "        # Save the best model\n",
    "        joblib.dump(best_model, 'best_knn_model.joblib')\n",
    "        print(f\"New best model saved with accuracy: {best_accuracy:.4f}\")\n",
    "\n",
    "    return val_accuracy\n",
    "\n",
    "# Create a study object with a pruner\n",
    "pruner = optuna.pruners.MedianPruner()\n",
    "study = optuna.create_study(direction=\"maximize\", pruner=pruner)\n",
    "\n",
    "# Optimize the objective function\n",
    "study.optimize(objective, n_trials=100)\n",
    "\n",
    "print(\"Best hyperparameters:\", study.best_params)\n",
    "print(\"Best value:\", study.best_value)\n",
    "print(\"Best model saved as 'best_knn_model.joblib'.\")\n",
    "\n",
    "# Optional: Visualize optimization results\n",
    "vis.plot_optimization_history(study).show()\n",
    "vis.plot_param_importances(study).show()\n",
    "vis.plot_slice(study).show()\n",
    "\n",
    "# Evaluate on the validation set\n",
    "X_test_scaled = best_scaler.transform(X_test)\n",
    "y_test_pred = best_model.predict(X_test_scaled)\n",
    "val_accuracy = accuracy_score(y_test, y_test_pred)\n"
   ]
  }
 ],
 "metadata": {
  "kernelspec": {
   "display_name": "venv",
   "language": "python",
   "name": "python3"
  },
  "language_info": {
   "codemirror_mode": {
    "name": "ipython",
    "version": 3
   },
   "file_extension": ".py",
   "mimetype": "text/x-python",
   "name": "python",
   "nbconvert_exporter": "python",
   "pygments_lexer": "ipython3",
   "version": "3.12.3"
  }
 },
 "nbformat": 4,
 "nbformat_minor": 2
}
