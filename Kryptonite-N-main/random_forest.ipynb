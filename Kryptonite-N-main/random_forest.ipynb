{
 "cells": [
  {
   "cell_type": "code",
   "execution_count": null,
   "metadata": {},
   "outputs": [],
   "source": [
    "import numpy as np\n",
    "import joblib  # for saving the model\n",
    "from sklearn.model_selection import train_test_split\n",
    "from sklearn.metrics import accuracy_score\n",
    "import optuna\n",
    "import optuna.visualization as vis\n",
    "from sklearn.decomposition import PCA\n",
    "from sklearn.metrics import precision_score, recall_score, f1_score\n",
    "from sklearn.preprocessing import StandardScaler, PolynomialFeatures\n",
    "from sklearn.ensemble import RandomForestClassifier"
   ]
  },
  {
   "cell_type": "code",
   "execution_count": null,
   "metadata": {},
   "outputs": [],
   "source": [
    "# Dimensionality\n",
    "n = 18"
   ]
  },
  {
   "cell_type": "code",
   "execution_count": null,
   "metadata": {},
   "outputs": [],
   "source": [
    "X_train_total = np.load('Datasets_Train_Test_Split/kryptonite-%s-X_train.npy' % n)\n",
    "y_train_total = np.load('Datasets_Train_Test_Split/kryptonite-%s-y_train.npy' % n)\n",
    "X_test = np.load('Datasets_Train_Test_Split/kryptonite-%s-X_test.npy' % n)\n",
    "y_test = np.load('Datasets_Train_Test_Split/kryptonite-%s-y_test.npy' % n)\n",
    "\n",
    "# To hold the best model and accuracy score\n",
    "best_model = None\n",
    "best_accuracy = -1"
   ]
  },
  {
   "cell_type": "code",
   "execution_count": null,
   "metadata": {},
   "outputs": [],
   "source": [
    "def objective(trial):\n",
    "    \"\"\"\n",
    "    Objective function for Optuna to optimize the hyperparameters of a Random Forest Classifier.\n",
    "\n",
    "    Parameters:\n",
    "    ----------\n",
    "    trial : optuna.trial.Trial\n",
    "        A trial object containing the current set of hyperparameters to test.\n",
    "\n",
    "    Returns:\n",
    "    -------\n",
    "    float\n",
    "        Validation accuracy for the current trial.\n",
    "\n",
    "    Notes:\n",
    "    -----\n",
    "    - The function implements data scaling, PCA, and model training.\n",
    "    - It supports pruning of underperforming trials.\n",
    "    - The best model, scaler, and PCA instance are saved globally.\n",
    "    \"\"\"\n",
    "    global best_model, best_scaler, best_accuracy, best_pca\n",
    "\n",
    "    # Shuffle and split data\n",
    "    X_train, X_val, y_train, y_val = train_test_split(X_train_total, y_train_total, test_size=0.8, random_state=42)\n",
    "\n",
    "    # Feature scaling\n",
    "    scaler = StandardScaler()\n",
    "    X_train_scaled = scaler.fit_transform(X_train)\n",
    "    X_val_scaled = scaler.transform(X_val)\n",
    "\n",
    "    # PCA dimensionality reduction\n",
    "    pca = PCA(n_components=trial.suggest_int('n_components', 1, X_train_scaled.shape[1]))\n",
    "    X_train_scaled = pca.fit_transform(X_train_scaled)\n",
    "    X_val_scaled = pca.transform(X_val_scaled)\n",
    "\n",
    "    # Random Forest Classifier parameters\n",
    "    classifier = RandomForestClassifier(\n",
    "        n_estimators=500,\n",
    "        max_depth=trial.suggest_int('max_depth', 1, 30),\n",
    "        min_samples_split=trial.suggest_int('min_samples_split', 2, 20),\n",
    "        min_samples_leaf=trial.suggest_int('min_samples_leaf', 1, 20),\n",
    "        max_features=trial.suggest_categorical('max_features', ['sqrt', 'log2']),\n",
    "        random_state=42,\n",
    "        n_jobs=-1\n",
    "    )\n",
    "\n",
    "    # Train the classifier\n",
    "    classifier.fit(X_train_scaled, y_train)\n",
    "\n",
    "    # Evaluate on the validation set\n",
    "    y_val_pred = classifier.predict(X_val_scaled)\n",
    "    val_accuracy = accuracy_score(y_val, y_val_pred)\n",
    "\n",
    "    # Report validation accuracy for pruning\n",
    "    trial.report(val_accuracy, step=0)\n",
    "\n",
    "    # Check if the trial should be pruned\n",
    "    if trial.should_prune():\n",
    "        raise optuna.TrialPruned()\n",
    "\n",
    "    # If this is the best model so far, save it\n",
    "    if val_accuracy > best_accuracy:\n",
    "        best_accuracy = val_accuracy\n",
    "        best_model = classifier  # Update the best model\n",
    "        best_scaler = scaler\n",
    "        best_pca = pca\n",
    "\n",
    "        # Save the best model\n",
    "        joblib.dump(best_model, 'best_rf_model.joblib')\n",
    "        print(f\"New best model saved with accuracy: {best_accuracy:.4f}\")\n",
    "\n",
    "    return val_accuracy"
   ]
  },
  {
   "cell_type": "code",
   "execution_count": null,
   "metadata": {},
   "outputs": [
    {
     "name": "stderr",
     "output_type": "stream",
     "text": [
      "[I 2024-11-15 18:03:58,577] A new study created in memory with name: no-name-dd59aee3-7b03-4543-bb4d-1918de08718a\n"
     ]
    },
    {
     "name": "stderr",
     "output_type": "stream",
     "text": [
      "[I 2024-11-15 18:03:59,923] Trial 0 finished with value: 0.5015817901234568 and parameters: {'n_components': 13, 'max_depth': 21, 'min_samples_split': 19, 'min_samples_leaf': 12, 'max_features': 'log2'}. Best is trial 0 with value: 0.5015817901234568.\n"
     ]
    },
    {
     "name": "stdout",
     "output_type": "stream",
     "text": [
      "New best model saved with accuracy: 0.5016\n"
     ]
    },
    {
     "name": "stderr",
     "output_type": "stream",
     "text": [
      "[I 2024-11-15 18:04:00,769] Trial 1 finished with value: 0.4997685185185185 and parameters: {'n_components': 2, 'max_depth': 3, 'min_samples_split': 15, 'min_samples_leaf': 4, 'max_features': 'log2'}. Best is trial 0 with value: 0.5015817901234568.\n",
      "[I 2024-11-15 18:04:02,042] Trial 2 finished with value: 0.4993827160493827 and parameters: {'n_components': 4, 'max_depth': 28, 'min_samples_split': 18, 'min_samples_leaf': 9, 'max_features': 'log2'}. Best is trial 0 with value: 0.5015817901234568.\n",
      "[I 2024-11-15 18:04:03,041] Trial 3 finished with value: 0.5010416666666667 and parameters: {'n_components': 14, 'max_depth': 9, 'min_samples_split': 9, 'min_samples_leaf': 14, 'max_features': 'sqrt'}. Best is trial 0 with value: 0.5015817901234568.\n",
      "[I 2024-11-15 18:04:04,036] Trial 4 finished with value: 0.500733024691358 and parameters: {'n_components': 2, 'max_depth': 30, 'min_samples_split': 18, 'min_samples_leaf': 4, 'max_features': 'sqrt'}. Best is trial 0 with value: 0.5015817901234568.\n",
      "[I 2024-11-15 18:04:05,192] Trial 5 finished with value: 0.4977237654320988 and parameters: {'n_components': 5, 'max_depth': 27, 'min_samples_split': 20, 'min_samples_leaf': 7, 'max_features': 'log2'}. Best is trial 0 with value: 0.5015817901234568.\n",
      "[I 2024-11-15 18:04:06,200] Trial 6 finished with value: 0.4995756172839506 and parameters: {'n_components': 3, 'max_depth': 26, 'min_samples_split': 18, 'min_samples_leaf': 7, 'max_features': 'sqrt'}. Best is trial 0 with value: 0.5015817901234568.\n",
      "[I 2024-11-15 18:04:07,371] Trial 7 finished with value: 0.49679783950617284 and parameters: {'n_components': 6, 'max_depth': 26, 'min_samples_split': 3, 'min_samples_leaf': 18, 'max_features': 'sqrt'}. Best is trial 0 with value: 0.5015817901234568.\n",
      "[I 2024-11-15 18:04:08,621] Trial 8 finished with value: 0.5013503086419753 and parameters: {'n_components': 13, 'max_depth': 21, 'min_samples_split': 9, 'min_samples_leaf': 13, 'max_features': 'log2'}. Best is trial 0 with value: 0.5015817901234568.\n",
      "[I 2024-11-15 18:04:09,586] Trial 9 finished with value: 0.5008873456790124 and parameters: {'n_components': 18, 'max_depth': 4, 'min_samples_split': 10, 'min_samples_leaf': 11, 'max_features': 'log2'}. Best is trial 0 with value: 0.5015817901234568.\n",
      "[I 2024-11-15 18:04:10,883] Trial 10 finished with value: 0.5022376543209877 and parameters: {'n_components': 11, 'max_depth': 16, 'min_samples_split': 14, 'min_samples_leaf': 20, 'max_features': 'log2'}. Best is trial 10 with value: 0.5022376543209877.\n"
     ]
    },
    {
     "name": "stdout",
     "output_type": "stream",
     "text": [
      "New best model saved with accuracy: 0.5022\n"
     ]
    },
    {
     "name": "stderr",
     "output_type": "stream",
     "text": [
      "[I 2024-11-15 18:04:12,146] Trial 11 pruned. \n",
      "[I 2024-11-15 18:04:13,514] Trial 12 finished with value: 0.5040895061728395 and parameters: {'n_components': 10, 'max_depth': 17, 'min_samples_split': 14, 'min_samples_leaf': 16, 'max_features': 'log2'}. Best is trial 12 with value: 0.5040895061728395.\n"
     ]
    },
    {
     "name": "stdout",
     "output_type": "stream",
     "text": [
      "New best model saved with accuracy: 0.5041\n"
     ]
    },
    {
     "name": "stderr",
     "output_type": "stream",
     "text": [
      "[I 2024-11-15 18:04:14,726] Trial 13 pruned. \n",
      "[I 2024-11-15 18:04:15,991] Trial 14 pruned. \n",
      "[I 2024-11-15 18:04:17,139] Trial 15 pruned. \n",
      "[I 2024-11-15 18:04:18,576] Trial 16 finished with value: 0.5034336419753086 and parameters: {'n_components': 17, 'max_depth': 20, 'min_samples_split': 15, 'min_samples_leaf': 15, 'max_features': 'log2'}. Best is trial 12 with value: 0.5040895061728395.\n",
      "[I 2024-11-15 18:04:20,041] Trial 17 pruned. \n",
      "[I 2024-11-15 18:04:21,717] Trial 18 finished with value: 0.5008873456790124 and parameters: {'n_components': 16, 'max_depth': 19, 'min_samples_split': 16, 'min_samples_leaf': 1, 'max_features': 'sqrt'}. Best is trial 12 with value: 0.5040895061728395.\n",
      "[I 2024-11-15 18:04:22,800] Trial 19 pruned. \n",
      "[I 2024-11-15 18:04:24,138] Trial 20 finished with value: 0.5025848765432098 and parameters: {'n_components': 15, 'max_depth': 18, 'min_samples_split': 11, 'min_samples_leaf': 10, 'max_features': 'log2'}. Best is trial 12 with value: 0.5040895061728395.\n",
      "[I 2024-11-15 18:04:25,416] Trial 21 finished with value: 0.5020447530864197 and parameters: {'n_components': 14, 'max_depth': 18, 'min_samples_split': 11, 'min_samples_leaf': 9, 'max_features': 'log2'}. Best is trial 12 with value: 0.5040895061728395.\n",
      "[I 2024-11-15 18:04:26,848] Trial 22 finished with value: 0.5032793209876543 and parameters: {'n_components': 16, 'max_depth': 23, 'min_samples_split': 12, 'min_samples_leaf': 14, 'max_features': 'log2'}. Best is trial 12 with value: 0.5040895061728395.\n",
      "[I 2024-11-15 18:04:28,321] Trial 23 finished with value: 0.5032793209876543 and parameters: {'n_components': 16, 'max_depth': 23, 'min_samples_split': 16, 'min_samples_leaf': 14, 'max_features': 'log2'}. Best is trial 12 with value: 0.5040895061728395.\n",
      "[I 2024-11-15 18:04:29,802] Trial 24 pruned. \n",
      "[I 2024-11-15 18:04:31,052] Trial 25 pruned. \n",
      "[I 2024-11-15 18:04:32,523] Trial 26 finished with value: 0.5032793209876543 and parameters: {'n_components': 16, 'max_depth': 19, 'min_samples_split': 13, 'min_samples_leaf': 15, 'max_features': 'sqrt'}. Best is trial 12 with value: 0.5040895061728395.\n",
      "[I 2024-11-15 18:04:33,942] Trial 27 finished with value: 0.5021219135802469 and parameters: {'n_components': 18, 'max_depth': 24, 'min_samples_split': 15, 'min_samples_leaf': 18, 'max_features': 'log2'}. Best is trial 12 with value: 0.5040895061728395.\n",
      "[I 2024-11-15 18:04:34,983] Trial 28 finished with value: 0.5027391975308642 and parameters: {'n_components': 15, 'max_depth': 6, 'min_samples_split': 17, 'min_samples_leaf': 13, 'max_features': 'log2'}. Best is trial 12 with value: 0.5040895061728395.\n",
      "[I 2024-11-15 18:04:36,324] Trial 29 finished with value: 0.5015817901234568 and parameters: {'n_components': 13, 'max_depth': 20, 'min_samples_split': 20, 'min_samples_leaf': 12, 'max_features': 'log2'}. Best is trial 12 with value: 0.5040895061728395.\n",
      "[I 2024-11-15 18:04:37,583] Trial 30 pruned. \n",
      "[I 2024-11-15 18:04:39,095] Trial 31 finished with value: 0.5032793209876543 and parameters: {'n_components': 16, 'max_depth': 23, 'min_samples_split': 16, 'min_samples_leaf': 14, 'max_features': 'log2'}. Best is trial 12 with value: 0.5040895061728395.\n",
      "[I 2024-11-15 18:04:40,536] Trial 32 finished with value: 0.5020833333333333 and parameters: {'n_components': 17, 'max_depth': 22, 'min_samples_split': 15, 'min_samples_leaf': 14, 'max_features': 'log2'}. Best is trial 12 with value: 0.5040895061728395.\n",
      "[I 2024-11-15 18:04:41,909] Trial 33 finished with value: 0.5055555555555555 and parameters: {'n_components': 15, 'max_depth': 17, 'min_samples_split': 14, 'min_samples_leaf': 17, 'max_features': 'log2'}. Best is trial 33 with value: 0.5055555555555555.\n"
     ]
    },
    {
     "name": "stdout",
     "output_type": "stream",
     "text": [
      "New best model saved with accuracy: 0.5056\n"
     ]
    },
    {
     "name": "stderr",
     "output_type": "stream",
     "text": [
      "[I 2024-11-15 18:04:43,271] Trial 34 finished with value: 0.504783950617284 and parameters: {'n_components': 14, 'max_depth': 17, 'min_samples_split': 14, 'min_samples_leaf': 17, 'max_features': 'log2'}. Best is trial 33 with value: 0.5055555555555555.\n",
      "[I 2024-11-15 18:04:44,558] Trial 35 pruned. \n",
      "[I 2024-11-15 18:04:45,784] Trial 36 finished with value: 0.5033564814814815 and parameters: {'n_components': 10, 'max_depth': 13, 'min_samples_split': 17, 'min_samples_leaf': 17, 'max_features': 'sqrt'}. Best is trial 33 with value: 0.5055555555555555.\n",
      "[I 2024-11-15 18:04:47,008] Trial 37 pruned. \n",
      "[I 2024-11-15 18:04:48,023] Trial 38 pruned. \n",
      "[I 2024-11-15 18:04:49,024] Trial 39 pruned. \n",
      "[I 2024-11-15 18:04:50,342] Trial 40 pruned. \n",
      "[I 2024-11-15 18:04:51,513] Trial 41 pruned. \n",
      "[I 2024-11-15 18:04:52,582] Trial 42 pruned. \n",
      "[I 2024-11-15 18:04:53,668] Trial 43 pruned. \n",
      "[I 2024-11-15 18:04:54,846] Trial 44 pruned. \n",
      "[I 2024-11-15 18:04:55,933] Trial 45 pruned. \n",
      "[I 2024-11-15 18:04:57,002] Trial 46 pruned. \n",
      "[I 2024-11-15 18:04:58,300] Trial 47 pruned. \n",
      "[I 2024-11-15 18:04:59,801] Trial 48 finished with value: 0.5044367283950617 and parameters: {'n_components': 17, 'max_depth': 30, 'min_samples_split': 19, 'min_samples_leaf': 13, 'max_features': 'sqrt'}. Best is trial 33 with value: 0.5055555555555555.\n",
      "[I 2024-11-15 18:05:01,277] Trial 49 finished with value: 0.5044367283950617 and parameters: {'n_components': 17, 'max_depth': 30, 'min_samples_split': 19, 'min_samples_leaf': 13, 'max_features': 'log2'}. Best is trial 33 with value: 0.5055555555555555.\n",
      "[I 2024-11-15 18:05:02,830] Trial 50 finished with value: 0.504128086419753 and parameters: {'n_components': 17, 'max_depth': 30, 'min_samples_split': 20, 'min_samples_leaf': 12, 'max_features': 'log2'}. Best is trial 33 with value: 0.5055555555555555.\n",
      "[I 2024-11-15 18:05:04,406] Trial 51 finished with value: 0.5023148148148148 and parameters: {'n_components': 17, 'max_depth': 30, 'min_samples_split': 20, 'min_samples_leaf': 11, 'max_features': 'log2'}. Best is trial 33 with value: 0.5055555555555555.\n",
      "[I 2024-11-15 18:05:05,995] Trial 52 finished with value: 0.5024305555555556 and parameters: {'n_components': 18, 'max_depth': 28, 'min_samples_split': 19, 'min_samples_leaf': 10, 'max_features': 'log2'}. Best is trial 33 with value: 0.5055555555555555.\n",
      "[I 2024-11-15 18:05:07,313] Trial 53 finished with value: 0.5042052469135803 and parameters: {'n_components': 15, 'max_depth': 29, 'min_samples_split': 19, 'min_samples_leaf': 13, 'max_features': 'log2'}. Best is trial 33 with value: 0.5055555555555555.\n",
      "[I 2024-11-15 18:05:08,713] Trial 54 pruned. \n",
      "[I 2024-11-15 18:05:10,189] Trial 55 finished with value: 0.5032793209876543 and parameters: {'n_components': 17, 'max_depth': 29, 'min_samples_split': 20, 'min_samples_leaf': 13, 'max_features': 'log2'}. Best is trial 33 with value: 0.5055555555555555.\n",
      "[I 2024-11-15 18:05:11,640] Trial 56 pruned. \n",
      "[I 2024-11-15 18:05:13,235] Trial 57 finished with value: 0.5054398148148148 and parameters: {'n_components': 18, 'max_depth': 30, 'min_samples_split': 20, 'min_samples_leaf': 11, 'max_features': 'log2'}. Best is trial 33 with value: 0.5055555555555555.\n",
      "[I 2024-11-15 18:05:14,903] Trial 58 finished with value: 0.5047067901234568 and parameters: {'n_components': 18, 'max_depth': 27, 'min_samples_split': 18, 'min_samples_leaf': 11, 'max_features': 'log2'}. Best is trial 33 with value: 0.5055555555555555.\n",
      "[I 2024-11-15 18:05:16,630] Trial 59 finished with value: 0.5033950617283951 and parameters: {'n_components': 18, 'max_depth': 27, 'min_samples_split': 18, 'min_samples_leaf': 5, 'max_features': 'log2'}. Best is trial 33 with value: 0.5055555555555555.\n",
      "[I 2024-11-15 18:05:18,169] Trial 60 finished with value: 0.5027391975308642 and parameters: {'n_components': 18, 'max_depth': 25, 'min_samples_split': 17, 'min_samples_leaf': 11, 'max_features': 'sqrt'}. Best is trial 33 with value: 0.5055555555555555.\n",
      "[I 2024-11-15 18:05:19,862] Trial 61 pruned. \n",
      "[I 2024-11-15 18:05:21,463] Trial 62 pruned. \n",
      "[I 2024-11-15 18:05:22,781] Trial 63 pruned. \n",
      "[I 2024-11-15 18:05:24,345] Trial 64 finished with value: 0.5054398148148148 and parameters: {'n_components': 18, 'max_depth': 30, 'min_samples_split': 10, 'min_samples_leaf': 11, 'max_features': 'log2'}. Best is trial 33 with value: 0.5055555555555555.\n",
      "[I 2024-11-15 18:05:26,051] Trial 65 pruned. \n",
      "[I 2024-11-15 18:05:27,689] Trial 66 finished with value: 0.5038194444444445 and parameters: {'n_components': 18, 'max_depth': 26, 'min_samples_split': 11, 'min_samples_leaf': 11, 'max_features': 'log2'}. Best is trial 33 with value: 0.5055555555555555.\n",
      "[I 2024-11-15 18:05:29,240] Trial 67 finished with value: 0.5041666666666667 and parameters: {'n_components': 17, 'max_depth': 25, 'min_samples_split': 10, 'min_samples_leaf': 12, 'max_features': 'log2'}. Best is trial 33 with value: 0.5055555555555555.\n",
      "[I 2024-11-15 18:05:30,887] Trial 68 finished with value: 0.5029706790123457 and parameters: {'n_components': 16, 'max_depth': 28, 'min_samples_split': 18, 'min_samples_leaf': 10, 'max_features': 'log2'}. Best is trial 33 with value: 0.5055555555555555.\n",
      "[I 2024-11-15 18:05:32,508] Trial 69 pruned. \n",
      "[I 2024-11-15 18:05:34,041] Trial 70 finished with value: 0.5044753086419753 and parameters: {'n_components': 18, 'max_depth': 28, 'min_samples_split': 16, 'min_samples_leaf': 11, 'max_features': 'log2'}. Best is trial 33 with value: 0.5055555555555555.\n",
      "[I 2024-11-15 18:05:35,695] Trial 71 finished with value: 0.5044753086419753 and parameters: {'n_components': 18, 'max_depth': 28, 'min_samples_split': 16, 'min_samples_leaf': 11, 'max_features': 'log2'}. Best is trial 33 with value: 0.5055555555555555.\n",
      "[I 2024-11-15 18:05:37,243] Trial 72 finished with value: 0.5044753086419753 and parameters: {'n_components': 18, 'max_depth': 28, 'min_samples_split': 16, 'min_samples_leaf': 11, 'max_features': 'log2'}. Best is trial 33 with value: 0.5055555555555555.\n",
      "[I 2024-11-15 18:05:38,917] Trial 73 pruned. \n",
      "[I 2024-11-15 18:05:40,816] Trial 74 pruned. \n",
      "[I 2024-11-15 18:05:42,506] Trial 75 finished with value: 0.5036265432098765 and parameters: {'n_components': 16, 'max_depth': 27, 'min_samples_split': 13, 'min_samples_leaf': 11, 'max_features': 'log2'}. Best is trial 33 with value: 0.5055555555555555.\n",
      "[I 2024-11-15 18:05:44,219] Trial 76 pruned. \n",
      "[I 2024-11-15 18:05:45,827] Trial 77 pruned. \n",
      "[I 2024-11-15 18:05:47,533] Trial 78 pruned. \n",
      "[I 2024-11-15 18:05:49,076] Trial 79 pruned. \n",
      "[I 2024-11-15 18:05:50,615] Trial 80 finished with value: 0.5048225308641975 and parameters: {'n_components': 18, 'max_depth': 28, 'min_samples_split': 4, 'min_samples_leaf': 12, 'max_features': 'log2'}. Best is trial 33 with value: 0.5055555555555555.\n",
      "[I 2024-11-15 18:05:52,207] Trial 81 finished with value: 0.5048225308641975 and parameters: {'n_components': 18, 'max_depth': 28, 'min_samples_split': 5, 'min_samples_leaf': 12, 'max_features': 'log2'}. Best is trial 33 with value: 0.5055555555555555.\n",
      "[I 2024-11-15 18:05:53,757] Trial 82 pruned. \n",
      "[I 2024-11-15 18:05:55,268] Trial 83 finished with value: 0.5044753086419753 and parameters: {'n_components': 18, 'max_depth': 29, 'min_samples_split': 4, 'min_samples_leaf': 12, 'max_features': 'log2'}. Best is trial 33 with value: 0.5055555555555555.\n",
      "[I 2024-11-15 18:05:56,891] Trial 84 pruned. \n",
      "[I 2024-11-15 18:05:58,389] Trial 85 pruned. \n",
      "[I 2024-11-15 18:06:00,056] Trial 86 pruned. \n",
      "[I 2024-11-15 18:06:01,653] Trial 87 pruned. \n",
      "[I 2024-11-15 18:06:03,128] Trial 88 pruned. \n",
      "[I 2024-11-15 18:06:04,711] Trial 89 pruned. \n",
      "[I 2024-11-15 18:06:05,884] Trial 90 finished with value: 0.5033179012345679 and parameters: {'n_components': 18, 'max_depth': 7, 'min_samples_split': 7, 'min_samples_leaf': 12, 'max_features': 'log2'}. Best is trial 33 with value: 0.5055555555555555.\n",
      "[I 2024-11-15 18:06:07,438] Trial 91 finished with value: 0.5044753086419753 and parameters: {'n_components': 18, 'max_depth': 28, 'min_samples_split': 16, 'min_samples_leaf': 11, 'max_features': 'log2'}. Best is trial 33 with value: 0.5055555555555555.\n",
      "[I 2024-11-15 18:06:08,933] Trial 92 pruned. \n",
      "[I 2024-11-15 18:06:10,536] Trial 93 finished with value: 0.5047067901234568 and parameters: {'n_components': 18, 'max_depth': 27, 'min_samples_split': 15, 'min_samples_leaf': 11, 'max_features': 'log2'}. Best is trial 33 with value: 0.5055555555555555.\n",
      "[I 2024-11-15 18:06:11,971] Trial 94 finished with value: 0.5033564814814815 and parameters: {'n_components': 12, 'max_depth': 22, 'min_samples_split': 15, 'min_samples_leaf': 10, 'max_features': 'log2'}. Best is trial 33 with value: 0.5055555555555555.\n",
      "[I 2024-11-15 18:06:13,419] Trial 95 finished with value: 0.5035108024691358 and parameters: {'n_components': 17, 'max_depth': 24, 'min_samples_split': 14, 'min_samples_leaf': 18, 'max_features': 'log2'}. Best is trial 33 with value: 0.5055555555555555.\n",
      "[I 2024-11-15 18:06:14,425] Trial 96 pruned. \n",
      "[I 2024-11-15 18:06:15,995] Trial 97 pruned. \n",
      "[I 2024-11-15 18:06:17,619] Trial 98 pruned. \n",
      "[I 2024-11-15 18:06:18,935] Trial 99 pruned. \n"
     ]
    },
    {
     "name": "stdout",
     "output_type": "stream",
     "text": [
      "Best hyperparameters: {'n_components': 15, 'max_depth': 17, 'min_samples_split': 14, 'min_samples_leaf': 17, 'max_features': 'log2'}\n",
      "Best value: 0.5055555555555555\n",
      "accuracy on test set:0.4886111111111111\n"
     ]
    },
    {
     "data": {
      "application/vnd.plotly.v1+json": {
       "config": {
        "plotlyServerURL": "https://plot.ly"
       },
       "data": [
        {
         "mode": "markers",
         "name": "Objective Value",
         "type": "scatter",
         "x": [
          0,
          1,
          2,
          3,
          4,
          5,
          6,
          7,
          8,
          9,
          10,
          12,
          16,
          18,
          20,
          21,
          22,
          23,
          26,
          27,
          28,
          29,
          31,
          32,
          33,
          34,
          36,
          48,
          49,
          50,
          51,
          52,
          53,
          55,
          57,
          58,
          59,
          60,
          64,
          66,
          67,
          68,
          70,
          71,
          72,
          75,
          80,
          81,
          83,
          90,
          91,
          93,
          94,
          95
         ],
         "y": [
          0.5015817901234568,
          0.4997685185185185,
          0.4993827160493827,
          0.5010416666666667,
          0.500733024691358,
          0.4977237654320988,
          0.4995756172839506,
          0.49679783950617284,
          0.5013503086419753,
          0.5008873456790124,
          0.5022376543209877,
          0.5040895061728395,
          0.5034336419753086,
          0.5008873456790124,
          0.5025848765432098,
          0.5020447530864197,
          0.5032793209876543,
          0.5032793209876543,
          0.5032793209876543,
          0.5021219135802469,
          0.5027391975308642,
          0.5015817901234568,
          0.5032793209876543,
          0.5020833333333333,
          0.5055555555555555,
          0.504783950617284,
          0.5033564814814815,
          0.5044367283950617,
          0.5044367283950617,
          0.504128086419753,
          0.5023148148148148,
          0.5024305555555556,
          0.5042052469135803,
          0.5032793209876543,
          0.5054398148148148,
          0.5047067901234568,
          0.5033950617283951,
          0.5027391975308642,
          0.5054398148148148,
          0.5038194444444445,
          0.5041666666666667,
          0.5029706790123457,
          0.5044753086419753,
          0.5044753086419753,
          0.5044753086419753,
          0.5036265432098765,
          0.5048225308641975,
          0.5048225308641975,
          0.5044753086419753,
          0.5033179012345679,
          0.5044753086419753,
          0.5047067901234568,
          0.5033564814814815,
          0.5035108024691358
         ]
        },
        {
         "mode": "lines",
         "name": "Best Value",
         "type": "scatter",
         "x": [
          0,
          1,
          2,
          3,
          4,
          5,
          6,
          7,
          8,
          9,
          10,
          11,
          12,
          13,
          14,
          15,
          16,
          17,
          18,
          19,
          20,
          21,
          22,
          23,
          24,
          25,
          26,
          27,
          28,
          29,
          30,
          31,
          32,
          33,
          34,
          35,
          36,
          37,
          38,
          39,
          40,
          41,
          42,
          43,
          44,
          45,
          46,
          47,
          48,
          49,
          50,
          51,
          52,
          53,
          54,
          55,
          56,
          57,
          58,
          59,
          60,
          61,
          62,
          63,
          64,
          65,
          66,
          67,
          68,
          69,
          70,
          71,
          72,
          73,
          74,
          75,
          76,
          77,
          78,
          79,
          80,
          81,
          82,
          83,
          84,
          85,
          86,
          87,
          88,
          89,
          90,
          91,
          92,
          93,
          94,
          95,
          96,
          97,
          98,
          99
         ],
         "y": [
          0.5015817901234568,
          0.5015817901234568,
          0.5015817901234568,
          0.5015817901234568,
          0.5015817901234568,
          0.5015817901234568,
          0.5015817901234568,
          0.5015817901234568,
          0.5015817901234568,
          0.5015817901234568,
          0.5022376543209877,
          0.5022376543209877,
          0.5040895061728395,
          0.5040895061728395,
          0.5040895061728395,
          0.5040895061728395,
          0.5040895061728395,
          0.5040895061728395,
          0.5040895061728395,
          0.5040895061728395,
          0.5040895061728395,
          0.5040895061728395,
          0.5040895061728395,
          0.5040895061728395,
          0.5040895061728395,
          0.5040895061728395,
          0.5040895061728395,
          0.5040895061728395,
          0.5040895061728395,
          0.5040895061728395,
          0.5040895061728395,
          0.5040895061728395,
          0.5040895061728395,
          0.5055555555555555,
          0.5055555555555555,
          0.5055555555555555,
          0.5055555555555555,
          0.5055555555555555,
          0.5055555555555555,
          0.5055555555555555,
          0.5055555555555555,
          0.5055555555555555,
          0.5055555555555555,
          0.5055555555555555,
          0.5055555555555555,
          0.5055555555555555,
          0.5055555555555555,
          0.5055555555555555,
          0.5055555555555555,
          0.5055555555555555,
          0.5055555555555555,
          0.5055555555555555,
          0.5055555555555555,
          0.5055555555555555,
          0.5055555555555555,
          0.5055555555555555,
          0.5055555555555555,
          0.5055555555555555,
          0.5055555555555555,
          0.5055555555555555,
          0.5055555555555555,
          0.5055555555555555,
          0.5055555555555555,
          0.5055555555555555,
          0.5055555555555555,
          0.5055555555555555,
          0.5055555555555555,
          0.5055555555555555,
          0.5055555555555555,
          0.5055555555555555,
          0.5055555555555555,
          0.5055555555555555,
          0.5055555555555555,
          0.5055555555555555,
          0.5055555555555555,
          0.5055555555555555,
          0.5055555555555555,
          0.5055555555555555,
          0.5055555555555555,
          0.5055555555555555,
          0.5055555555555555,
          0.5055555555555555,
          0.5055555555555555,
          0.5055555555555555,
          0.5055555555555555,
          0.5055555555555555,
          0.5055555555555555,
          0.5055555555555555,
          0.5055555555555555,
          0.5055555555555555,
          0.5055555555555555,
          0.5055555555555555,
          0.5055555555555555,
          0.5055555555555555,
          0.5055555555555555,
          0.5055555555555555,
          0.5055555555555555,
          0.5055555555555555,
          0.5055555555555555,
          0.5055555555555555
         ]
        },
        {
         "marker": {
          "color": "#cccccc"
         },
         "mode": "markers",
         "name": "Infeasible Trial",
         "showlegend": false,
         "type": "scatter",
         "x": [],
         "y": []
        }
       ],
       "layout": {
        "template": {
         "data": {
          "bar": [
           {
            "error_x": {
             "color": "#2a3f5f"
            },
            "error_y": {
             "color": "#2a3f5f"
            },
            "marker": {
             "line": {
              "color": "#E5ECF6",
              "width": 0.5
             },
             "pattern": {
              "fillmode": "overlay",
              "size": 10,
              "solidity": 0.2
             }
            },
            "type": "bar"
           }
          ],
          "barpolar": [
           {
            "marker": {
             "line": {
              "color": "#E5ECF6",
              "width": 0.5
             },
             "pattern": {
              "fillmode": "overlay",
              "size": 10,
              "solidity": 0.2
             }
            },
            "type": "barpolar"
           }
          ],
          "carpet": [
           {
            "aaxis": {
             "endlinecolor": "#2a3f5f",
             "gridcolor": "white",
             "linecolor": "white",
             "minorgridcolor": "white",
             "startlinecolor": "#2a3f5f"
            },
            "baxis": {
             "endlinecolor": "#2a3f5f",
             "gridcolor": "white",
             "linecolor": "white",
             "minorgridcolor": "white",
             "startlinecolor": "#2a3f5f"
            },
            "type": "carpet"
           }
          ],
          "choropleth": [
           {
            "colorbar": {
             "outlinewidth": 0,
             "ticks": ""
            },
            "type": "choropleth"
           }
          ],
          "contour": [
           {
            "colorbar": {
             "outlinewidth": 0,
             "ticks": ""
            },
            "colorscale": [
             [
              0,
              "#0d0887"
             ],
             [
              0.1111111111111111,
              "#46039f"
             ],
             [
              0.2222222222222222,
              "#7201a8"
             ],
             [
              0.3333333333333333,
              "#9c179e"
             ],
             [
              0.4444444444444444,
              "#bd3786"
             ],
             [
              0.5555555555555556,
              "#d8576b"
             ],
             [
              0.6666666666666666,
              "#ed7953"
             ],
             [
              0.7777777777777778,
              "#fb9f3a"
             ],
             [
              0.8888888888888888,
              "#fdca26"
             ],
             [
              1,
              "#f0f921"
             ]
            ],
            "type": "contour"
           }
          ],
          "contourcarpet": [
           {
            "colorbar": {
             "outlinewidth": 0,
             "ticks": ""
            },
            "type": "contourcarpet"
           }
          ],
          "heatmap": [
           {
            "colorbar": {
             "outlinewidth": 0,
             "ticks": ""
            },
            "colorscale": [
             [
              0,
              "#0d0887"
             ],
             [
              0.1111111111111111,
              "#46039f"
             ],
             [
              0.2222222222222222,
              "#7201a8"
             ],
             [
              0.3333333333333333,
              "#9c179e"
             ],
             [
              0.4444444444444444,
              "#bd3786"
             ],
             [
              0.5555555555555556,
              "#d8576b"
             ],
             [
              0.6666666666666666,
              "#ed7953"
             ],
             [
              0.7777777777777778,
              "#fb9f3a"
             ],
             [
              0.8888888888888888,
              "#fdca26"
             ],
             [
              1,
              "#f0f921"
             ]
            ],
            "type": "heatmap"
           }
          ],
          "heatmapgl": [
           {
            "colorbar": {
             "outlinewidth": 0,
             "ticks": ""
            },
            "colorscale": [
             [
              0,
              "#0d0887"
             ],
             [
              0.1111111111111111,
              "#46039f"
             ],
             [
              0.2222222222222222,
              "#7201a8"
             ],
             [
              0.3333333333333333,
              "#9c179e"
             ],
             [
              0.4444444444444444,
              "#bd3786"
             ],
             [
              0.5555555555555556,
              "#d8576b"
             ],
             [
              0.6666666666666666,
              "#ed7953"
             ],
             [
              0.7777777777777778,
              "#fb9f3a"
             ],
             [
              0.8888888888888888,
              "#fdca26"
             ],
             [
              1,
              "#f0f921"
             ]
            ],
            "type": "heatmapgl"
           }
          ],
          "histogram": [
           {
            "marker": {
             "pattern": {
              "fillmode": "overlay",
              "size": 10,
              "solidity": 0.2
             }
            },
            "type": "histogram"
           }
          ],
          "histogram2d": [
           {
            "colorbar": {
             "outlinewidth": 0,
             "ticks": ""
            },
            "colorscale": [
             [
              0,
              "#0d0887"
             ],
             [
              0.1111111111111111,
              "#46039f"
             ],
             [
              0.2222222222222222,
              "#7201a8"
             ],
             [
              0.3333333333333333,
              "#9c179e"
             ],
             [
              0.4444444444444444,
              "#bd3786"
             ],
             [
              0.5555555555555556,
              "#d8576b"
             ],
             [
              0.6666666666666666,
              "#ed7953"
             ],
             [
              0.7777777777777778,
              "#fb9f3a"
             ],
             [
              0.8888888888888888,
              "#fdca26"
             ],
             [
              1,
              "#f0f921"
             ]
            ],
            "type": "histogram2d"
           }
          ],
          "histogram2dcontour": [
           {
            "colorbar": {
             "outlinewidth": 0,
             "ticks": ""
            },
            "colorscale": [
             [
              0,
              "#0d0887"
             ],
             [
              0.1111111111111111,
              "#46039f"
             ],
             [
              0.2222222222222222,
              "#7201a8"
             ],
             [
              0.3333333333333333,
              "#9c179e"
             ],
             [
              0.4444444444444444,
              "#bd3786"
             ],
             [
              0.5555555555555556,
              "#d8576b"
             ],
             [
              0.6666666666666666,
              "#ed7953"
             ],
             [
              0.7777777777777778,
              "#fb9f3a"
             ],
             [
              0.8888888888888888,
              "#fdca26"
             ],
             [
              1,
              "#f0f921"
             ]
            ],
            "type": "histogram2dcontour"
           }
          ],
          "mesh3d": [
           {
            "colorbar": {
             "outlinewidth": 0,
             "ticks": ""
            },
            "type": "mesh3d"
           }
          ],
          "parcoords": [
           {
            "line": {
             "colorbar": {
              "outlinewidth": 0,
              "ticks": ""
             }
            },
            "type": "parcoords"
           }
          ],
          "pie": [
           {
            "automargin": true,
            "type": "pie"
           }
          ],
          "scatter": [
           {
            "fillpattern": {
             "fillmode": "overlay",
             "size": 10,
             "solidity": 0.2
            },
            "type": "scatter"
           }
          ],
          "scatter3d": [
           {
            "line": {
             "colorbar": {
              "outlinewidth": 0,
              "ticks": ""
             }
            },
            "marker": {
             "colorbar": {
              "outlinewidth": 0,
              "ticks": ""
             }
            },
            "type": "scatter3d"
           }
          ],
          "scattercarpet": [
           {
            "marker": {
             "colorbar": {
              "outlinewidth": 0,
              "ticks": ""
             }
            },
            "type": "scattercarpet"
           }
          ],
          "scattergeo": [
           {
            "marker": {
             "colorbar": {
              "outlinewidth": 0,
              "ticks": ""
             }
            },
            "type": "scattergeo"
           }
          ],
          "scattergl": [
           {
            "marker": {
             "colorbar": {
              "outlinewidth": 0,
              "ticks": ""
             }
            },
            "type": "scattergl"
           }
          ],
          "scattermapbox": [
           {
            "marker": {
             "colorbar": {
              "outlinewidth": 0,
              "ticks": ""
             }
            },
            "type": "scattermapbox"
           }
          ],
          "scatterpolar": [
           {
            "marker": {
             "colorbar": {
              "outlinewidth": 0,
              "ticks": ""
             }
            },
            "type": "scatterpolar"
           }
          ],
          "scatterpolargl": [
           {
            "marker": {
             "colorbar": {
              "outlinewidth": 0,
              "ticks": ""
             }
            },
            "type": "scatterpolargl"
           }
          ],
          "scatterternary": [
           {
            "marker": {
             "colorbar": {
              "outlinewidth": 0,
              "ticks": ""
             }
            },
            "type": "scatterternary"
           }
          ],
          "surface": [
           {
            "colorbar": {
             "outlinewidth": 0,
             "ticks": ""
            },
            "colorscale": [
             [
              0,
              "#0d0887"
             ],
             [
              0.1111111111111111,
              "#46039f"
             ],
             [
              0.2222222222222222,
              "#7201a8"
             ],
             [
              0.3333333333333333,
              "#9c179e"
             ],
             [
              0.4444444444444444,
              "#bd3786"
             ],
             [
              0.5555555555555556,
              "#d8576b"
             ],
             [
              0.6666666666666666,
              "#ed7953"
             ],
             [
              0.7777777777777778,
              "#fb9f3a"
             ],
             [
              0.8888888888888888,
              "#fdca26"
             ],
             [
              1,
              "#f0f921"
             ]
            ],
            "type": "surface"
           }
          ],
          "table": [
           {
            "cells": {
             "fill": {
              "color": "#EBF0F8"
             },
             "line": {
              "color": "white"
             }
            },
            "header": {
             "fill": {
              "color": "#C8D4E3"
             },
             "line": {
              "color": "white"
             }
            },
            "type": "table"
           }
          ]
         },
         "layout": {
          "annotationdefaults": {
           "arrowcolor": "#2a3f5f",
           "arrowhead": 0,
           "arrowwidth": 1
          },
          "autotypenumbers": "strict",
          "coloraxis": {
           "colorbar": {
            "outlinewidth": 0,
            "ticks": ""
           }
          },
          "colorscale": {
           "diverging": [
            [
             0,
             "#8e0152"
            ],
            [
             0.1,
             "#c51b7d"
            ],
            [
             0.2,
             "#de77ae"
            ],
            [
             0.3,
             "#f1b6da"
            ],
            [
             0.4,
             "#fde0ef"
            ],
            [
             0.5,
             "#f7f7f7"
            ],
            [
             0.6,
             "#e6f5d0"
            ],
            [
             0.7,
             "#b8e186"
            ],
            [
             0.8,
             "#7fbc41"
            ],
            [
             0.9,
             "#4d9221"
            ],
            [
             1,
             "#276419"
            ]
           ],
           "sequential": [
            [
             0,
             "#0d0887"
            ],
            [
             0.1111111111111111,
             "#46039f"
            ],
            [
             0.2222222222222222,
             "#7201a8"
            ],
            [
             0.3333333333333333,
             "#9c179e"
            ],
            [
             0.4444444444444444,
             "#bd3786"
            ],
            [
             0.5555555555555556,
             "#d8576b"
            ],
            [
             0.6666666666666666,
             "#ed7953"
            ],
            [
             0.7777777777777778,
             "#fb9f3a"
            ],
            [
             0.8888888888888888,
             "#fdca26"
            ],
            [
             1,
             "#f0f921"
            ]
           ],
           "sequentialminus": [
            [
             0,
             "#0d0887"
            ],
            [
             0.1111111111111111,
             "#46039f"
            ],
            [
             0.2222222222222222,
             "#7201a8"
            ],
            [
             0.3333333333333333,
             "#9c179e"
            ],
            [
             0.4444444444444444,
             "#bd3786"
            ],
            [
             0.5555555555555556,
             "#d8576b"
            ],
            [
             0.6666666666666666,
             "#ed7953"
            ],
            [
             0.7777777777777778,
             "#fb9f3a"
            ],
            [
             0.8888888888888888,
             "#fdca26"
            ],
            [
             1,
             "#f0f921"
            ]
           ]
          },
          "colorway": [
           "#636efa",
           "#EF553B",
           "#00cc96",
           "#ab63fa",
           "#FFA15A",
           "#19d3f3",
           "#FF6692",
           "#B6E880",
           "#FF97FF",
           "#FECB52"
          ],
          "font": {
           "color": "#2a3f5f"
          },
          "geo": {
           "bgcolor": "white",
           "lakecolor": "white",
           "landcolor": "#E5ECF6",
           "showlakes": true,
           "showland": true,
           "subunitcolor": "white"
          },
          "hoverlabel": {
           "align": "left"
          },
          "hovermode": "closest",
          "mapbox": {
           "style": "light"
          },
          "paper_bgcolor": "white",
          "plot_bgcolor": "#E5ECF6",
          "polar": {
           "angularaxis": {
            "gridcolor": "white",
            "linecolor": "white",
            "ticks": ""
           },
           "bgcolor": "#E5ECF6",
           "radialaxis": {
            "gridcolor": "white",
            "linecolor": "white",
            "ticks": ""
           }
          },
          "scene": {
           "xaxis": {
            "backgroundcolor": "#E5ECF6",
            "gridcolor": "white",
            "gridwidth": 2,
            "linecolor": "white",
            "showbackground": true,
            "ticks": "",
            "zerolinecolor": "white"
           },
           "yaxis": {
            "backgroundcolor": "#E5ECF6",
            "gridcolor": "white",
            "gridwidth": 2,
            "linecolor": "white",
            "showbackground": true,
            "ticks": "",
            "zerolinecolor": "white"
           },
           "zaxis": {
            "backgroundcolor": "#E5ECF6",
            "gridcolor": "white",
            "gridwidth": 2,
            "linecolor": "white",
            "showbackground": true,
            "ticks": "",
            "zerolinecolor": "white"
           }
          },
          "shapedefaults": {
           "line": {
            "color": "#2a3f5f"
           }
          },
          "ternary": {
           "aaxis": {
            "gridcolor": "white",
            "linecolor": "white",
            "ticks": ""
           },
           "baxis": {
            "gridcolor": "white",
            "linecolor": "white",
            "ticks": ""
           },
           "bgcolor": "#E5ECF6",
           "caxis": {
            "gridcolor": "white",
            "linecolor": "white",
            "ticks": ""
           }
          },
          "title": {
           "x": 0.05
          },
          "xaxis": {
           "automargin": true,
           "gridcolor": "white",
           "linecolor": "white",
           "ticks": "",
           "title": {
            "standoff": 15
           },
           "zerolinecolor": "white",
           "zerolinewidth": 2
          },
          "yaxis": {
           "automargin": true,
           "gridcolor": "white",
           "linecolor": "white",
           "ticks": "",
           "title": {
            "standoff": 15
           },
           "zerolinecolor": "white",
           "zerolinewidth": 2
          }
         }
        },
        "title": {
         "text": "Optimization History Plot"
        },
        "xaxis": {
         "title": {
          "text": "Trial"
         }
        },
        "yaxis": {
         "title": {
          "text": "Objective Value"
         }
        }
       }
      }
     },
     "metadata": {},
     "output_type": "display_data"
    },
    {
     "data": {
      "application/vnd.plotly.v1+json": {
       "config": {
        "plotlyServerURL": "https://plot.ly"
       },
       "data": [
        {
         "cliponaxis": false,
         "hovertemplate": [
          "max_features (CategoricalDistribution): 0.00848221639523652<extra></extra>",
          "min_samples_split (IntDistribution): 0.020177689526791043<extra></extra>",
          "max_depth (IntDistribution): 0.04495211741937648<extra></extra>",
          "min_samples_leaf (IntDistribution): 0.0862028153591394<extra></extra>",
          "n_components (IntDistribution): 0.8401851612994565<extra></extra>"
         ],
         "name": "Objective Value",
         "orientation": "h",
         "text": [
          "<0.01",
          "0.02",
          "0.04",
          "0.09",
          "0.84"
         ],
         "textposition": "outside",
         "type": "bar",
         "x": [
          0.00848221639523652,
          0.020177689526791043,
          0.04495211741937648,
          0.0862028153591394,
          0.8401851612994565
         ],
         "y": [
          "max_features",
          "min_samples_split",
          "max_depth",
          "min_samples_leaf",
          "n_components"
         ]
        }
       ],
       "layout": {
        "template": {
         "data": {
          "bar": [
           {
            "error_x": {
             "color": "#2a3f5f"
            },
            "error_y": {
             "color": "#2a3f5f"
            },
            "marker": {
             "line": {
              "color": "#E5ECF6",
              "width": 0.5
             },
             "pattern": {
              "fillmode": "overlay",
              "size": 10,
              "solidity": 0.2
             }
            },
            "type": "bar"
           }
          ],
          "barpolar": [
           {
            "marker": {
             "line": {
              "color": "#E5ECF6",
              "width": 0.5
             },
             "pattern": {
              "fillmode": "overlay",
              "size": 10,
              "solidity": 0.2
             }
            },
            "type": "barpolar"
           }
          ],
          "carpet": [
           {
            "aaxis": {
             "endlinecolor": "#2a3f5f",
             "gridcolor": "white",
             "linecolor": "white",
             "minorgridcolor": "white",
             "startlinecolor": "#2a3f5f"
            },
            "baxis": {
             "endlinecolor": "#2a3f5f",
             "gridcolor": "white",
             "linecolor": "white",
             "minorgridcolor": "white",
             "startlinecolor": "#2a3f5f"
            },
            "type": "carpet"
           }
          ],
          "choropleth": [
           {
            "colorbar": {
             "outlinewidth": 0,
             "ticks": ""
            },
            "type": "choropleth"
           }
          ],
          "contour": [
           {
            "colorbar": {
             "outlinewidth": 0,
             "ticks": ""
            },
            "colorscale": [
             [
              0,
              "#0d0887"
             ],
             [
              0.1111111111111111,
              "#46039f"
             ],
             [
              0.2222222222222222,
              "#7201a8"
             ],
             [
              0.3333333333333333,
              "#9c179e"
             ],
             [
              0.4444444444444444,
              "#bd3786"
             ],
             [
              0.5555555555555556,
              "#d8576b"
             ],
             [
              0.6666666666666666,
              "#ed7953"
             ],
             [
              0.7777777777777778,
              "#fb9f3a"
             ],
             [
              0.8888888888888888,
              "#fdca26"
             ],
             [
              1,
              "#f0f921"
             ]
            ],
            "type": "contour"
           }
          ],
          "contourcarpet": [
           {
            "colorbar": {
             "outlinewidth": 0,
             "ticks": ""
            },
            "type": "contourcarpet"
           }
          ],
          "heatmap": [
           {
            "colorbar": {
             "outlinewidth": 0,
             "ticks": ""
            },
            "colorscale": [
             [
              0,
              "#0d0887"
             ],
             [
              0.1111111111111111,
              "#46039f"
             ],
             [
              0.2222222222222222,
              "#7201a8"
             ],
             [
              0.3333333333333333,
              "#9c179e"
             ],
             [
              0.4444444444444444,
              "#bd3786"
             ],
             [
              0.5555555555555556,
              "#d8576b"
             ],
             [
              0.6666666666666666,
              "#ed7953"
             ],
             [
              0.7777777777777778,
              "#fb9f3a"
             ],
             [
              0.8888888888888888,
              "#fdca26"
             ],
             [
              1,
              "#f0f921"
             ]
            ],
            "type": "heatmap"
           }
          ],
          "heatmapgl": [
           {
            "colorbar": {
             "outlinewidth": 0,
             "ticks": ""
            },
            "colorscale": [
             [
              0,
              "#0d0887"
             ],
             [
              0.1111111111111111,
              "#46039f"
             ],
             [
              0.2222222222222222,
              "#7201a8"
             ],
             [
              0.3333333333333333,
              "#9c179e"
             ],
             [
              0.4444444444444444,
              "#bd3786"
             ],
             [
              0.5555555555555556,
              "#d8576b"
             ],
             [
              0.6666666666666666,
              "#ed7953"
             ],
             [
              0.7777777777777778,
              "#fb9f3a"
             ],
             [
              0.8888888888888888,
              "#fdca26"
             ],
             [
              1,
              "#f0f921"
             ]
            ],
            "type": "heatmapgl"
           }
          ],
          "histogram": [
           {
            "marker": {
             "pattern": {
              "fillmode": "overlay",
              "size": 10,
              "solidity": 0.2
             }
            },
            "type": "histogram"
           }
          ],
          "histogram2d": [
           {
            "colorbar": {
             "outlinewidth": 0,
             "ticks": ""
            },
            "colorscale": [
             [
              0,
              "#0d0887"
             ],
             [
              0.1111111111111111,
              "#46039f"
             ],
             [
              0.2222222222222222,
              "#7201a8"
             ],
             [
              0.3333333333333333,
              "#9c179e"
             ],
             [
              0.4444444444444444,
              "#bd3786"
             ],
             [
              0.5555555555555556,
              "#d8576b"
             ],
             [
              0.6666666666666666,
              "#ed7953"
             ],
             [
              0.7777777777777778,
              "#fb9f3a"
             ],
             [
              0.8888888888888888,
              "#fdca26"
             ],
             [
              1,
              "#f0f921"
             ]
            ],
            "type": "histogram2d"
           }
          ],
          "histogram2dcontour": [
           {
            "colorbar": {
             "outlinewidth": 0,
             "ticks": ""
            },
            "colorscale": [
             [
              0,
              "#0d0887"
             ],
             [
              0.1111111111111111,
              "#46039f"
             ],
             [
              0.2222222222222222,
              "#7201a8"
             ],
             [
              0.3333333333333333,
              "#9c179e"
             ],
             [
              0.4444444444444444,
              "#bd3786"
             ],
             [
              0.5555555555555556,
              "#d8576b"
             ],
             [
              0.6666666666666666,
              "#ed7953"
             ],
             [
              0.7777777777777778,
              "#fb9f3a"
             ],
             [
              0.8888888888888888,
              "#fdca26"
             ],
             [
              1,
              "#f0f921"
             ]
            ],
            "type": "histogram2dcontour"
           }
          ],
          "mesh3d": [
           {
            "colorbar": {
             "outlinewidth": 0,
             "ticks": ""
            },
            "type": "mesh3d"
           }
          ],
          "parcoords": [
           {
            "line": {
             "colorbar": {
              "outlinewidth": 0,
              "ticks": ""
             }
            },
            "type": "parcoords"
           }
          ],
          "pie": [
           {
            "automargin": true,
            "type": "pie"
           }
          ],
          "scatter": [
           {
            "fillpattern": {
             "fillmode": "overlay",
             "size": 10,
             "solidity": 0.2
            },
            "type": "scatter"
           }
          ],
          "scatter3d": [
           {
            "line": {
             "colorbar": {
              "outlinewidth": 0,
              "ticks": ""
             }
            },
            "marker": {
             "colorbar": {
              "outlinewidth": 0,
              "ticks": ""
             }
            },
            "type": "scatter3d"
           }
          ],
          "scattercarpet": [
           {
            "marker": {
             "colorbar": {
              "outlinewidth": 0,
              "ticks": ""
             }
            },
            "type": "scattercarpet"
           }
          ],
          "scattergeo": [
           {
            "marker": {
             "colorbar": {
              "outlinewidth": 0,
              "ticks": ""
             }
            },
            "type": "scattergeo"
           }
          ],
          "scattergl": [
           {
            "marker": {
             "colorbar": {
              "outlinewidth": 0,
              "ticks": ""
             }
            },
            "type": "scattergl"
           }
          ],
          "scattermapbox": [
           {
            "marker": {
             "colorbar": {
              "outlinewidth": 0,
              "ticks": ""
             }
            },
            "type": "scattermapbox"
           }
          ],
          "scatterpolar": [
           {
            "marker": {
             "colorbar": {
              "outlinewidth": 0,
              "ticks": ""
             }
            },
            "type": "scatterpolar"
           }
          ],
          "scatterpolargl": [
           {
            "marker": {
             "colorbar": {
              "outlinewidth": 0,
              "ticks": ""
             }
            },
            "type": "scatterpolargl"
           }
          ],
          "scatterternary": [
           {
            "marker": {
             "colorbar": {
              "outlinewidth": 0,
              "ticks": ""
             }
            },
            "type": "scatterternary"
           }
          ],
          "surface": [
           {
            "colorbar": {
             "outlinewidth": 0,
             "ticks": ""
            },
            "colorscale": [
             [
              0,
              "#0d0887"
             ],
             [
              0.1111111111111111,
              "#46039f"
             ],
             [
              0.2222222222222222,
              "#7201a8"
             ],
             [
              0.3333333333333333,
              "#9c179e"
             ],
             [
              0.4444444444444444,
              "#bd3786"
             ],
             [
              0.5555555555555556,
              "#d8576b"
             ],
             [
              0.6666666666666666,
              "#ed7953"
             ],
             [
              0.7777777777777778,
              "#fb9f3a"
             ],
             [
              0.8888888888888888,
              "#fdca26"
             ],
             [
              1,
              "#f0f921"
             ]
            ],
            "type": "surface"
           }
          ],
          "table": [
           {
            "cells": {
             "fill": {
              "color": "#EBF0F8"
             },
             "line": {
              "color": "white"
             }
            },
            "header": {
             "fill": {
              "color": "#C8D4E3"
             },
             "line": {
              "color": "white"
             }
            },
            "type": "table"
           }
          ]
         },
         "layout": {
          "annotationdefaults": {
           "arrowcolor": "#2a3f5f",
           "arrowhead": 0,
           "arrowwidth": 1
          },
          "autotypenumbers": "strict",
          "coloraxis": {
           "colorbar": {
            "outlinewidth": 0,
            "ticks": ""
           }
          },
          "colorscale": {
           "diverging": [
            [
             0,
             "#8e0152"
            ],
            [
             0.1,
             "#c51b7d"
            ],
            [
             0.2,
             "#de77ae"
            ],
            [
             0.3,
             "#f1b6da"
            ],
            [
             0.4,
             "#fde0ef"
            ],
            [
             0.5,
             "#f7f7f7"
            ],
            [
             0.6,
             "#e6f5d0"
            ],
            [
             0.7,
             "#b8e186"
            ],
            [
             0.8,
             "#7fbc41"
            ],
            [
             0.9,
             "#4d9221"
            ],
            [
             1,
             "#276419"
            ]
           ],
           "sequential": [
            [
             0,
             "#0d0887"
            ],
            [
             0.1111111111111111,
             "#46039f"
            ],
            [
             0.2222222222222222,
             "#7201a8"
            ],
            [
             0.3333333333333333,
             "#9c179e"
            ],
            [
             0.4444444444444444,
             "#bd3786"
            ],
            [
             0.5555555555555556,
             "#d8576b"
            ],
            [
             0.6666666666666666,
             "#ed7953"
            ],
            [
             0.7777777777777778,
             "#fb9f3a"
            ],
            [
             0.8888888888888888,
             "#fdca26"
            ],
            [
             1,
             "#f0f921"
            ]
           ],
           "sequentialminus": [
            [
             0,
             "#0d0887"
            ],
            [
             0.1111111111111111,
             "#46039f"
            ],
            [
             0.2222222222222222,
             "#7201a8"
            ],
            [
             0.3333333333333333,
             "#9c179e"
            ],
            [
             0.4444444444444444,
             "#bd3786"
            ],
            [
             0.5555555555555556,
             "#d8576b"
            ],
            [
             0.6666666666666666,
             "#ed7953"
            ],
            [
             0.7777777777777778,
             "#fb9f3a"
            ],
            [
             0.8888888888888888,
             "#fdca26"
            ],
            [
             1,
             "#f0f921"
            ]
           ]
          },
          "colorway": [
           "#636efa",
           "#EF553B",
           "#00cc96",
           "#ab63fa",
           "#FFA15A",
           "#19d3f3",
           "#FF6692",
           "#B6E880",
           "#FF97FF",
           "#FECB52"
          ],
          "font": {
           "color": "#2a3f5f"
          },
          "geo": {
           "bgcolor": "white",
           "lakecolor": "white",
           "landcolor": "#E5ECF6",
           "showlakes": true,
           "showland": true,
           "subunitcolor": "white"
          },
          "hoverlabel": {
           "align": "left"
          },
          "hovermode": "closest",
          "mapbox": {
           "style": "light"
          },
          "paper_bgcolor": "white",
          "plot_bgcolor": "#E5ECF6",
          "polar": {
           "angularaxis": {
            "gridcolor": "white",
            "linecolor": "white",
            "ticks": ""
           },
           "bgcolor": "#E5ECF6",
           "radialaxis": {
            "gridcolor": "white",
            "linecolor": "white",
            "ticks": ""
           }
          },
          "scene": {
           "xaxis": {
            "backgroundcolor": "#E5ECF6",
            "gridcolor": "white",
            "gridwidth": 2,
            "linecolor": "white",
            "showbackground": true,
            "ticks": "",
            "zerolinecolor": "white"
           },
           "yaxis": {
            "backgroundcolor": "#E5ECF6",
            "gridcolor": "white",
            "gridwidth": 2,
            "linecolor": "white",
            "showbackground": true,
            "ticks": "",
            "zerolinecolor": "white"
           },
           "zaxis": {
            "backgroundcolor": "#E5ECF6",
            "gridcolor": "white",
            "gridwidth": 2,
            "linecolor": "white",
            "showbackground": true,
            "ticks": "",
            "zerolinecolor": "white"
           }
          },
          "shapedefaults": {
           "line": {
            "color": "#2a3f5f"
           }
          },
          "ternary": {
           "aaxis": {
            "gridcolor": "white",
            "linecolor": "white",
            "ticks": ""
           },
           "baxis": {
            "gridcolor": "white",
            "linecolor": "white",
            "ticks": ""
           },
           "bgcolor": "#E5ECF6",
           "caxis": {
            "gridcolor": "white",
            "linecolor": "white",
            "ticks": ""
           }
          },
          "title": {
           "x": 0.05
          },
          "xaxis": {
           "automargin": true,
           "gridcolor": "white",
           "linecolor": "white",
           "ticks": "",
           "title": {
            "standoff": 15
           },
           "zerolinecolor": "white",
           "zerolinewidth": 2
          },
          "yaxis": {
           "automargin": true,
           "gridcolor": "white",
           "linecolor": "white",
           "ticks": "",
           "title": {
            "standoff": 15
           },
           "zerolinecolor": "white",
           "zerolinewidth": 2
          }
         }
        },
        "title": {
         "text": "Hyperparameter Importances"
        },
        "xaxis": {
         "title": {
          "text": "Hyperparameter Importance"
         }
        },
        "yaxis": {
         "title": {
          "text": "Hyperparameter"
         }
        }
       }
      }
     },
     "metadata": {},
     "output_type": "display_data"
    },
    {
     "data": {
      "application/vnd.plotly.v1+json": {
       "config": {
        "plotlyServerURL": "https://plot.ly"
       },
       "data": [
        {
         "marker": {
          "color": [
           0,
           1,
           2,
           3,
           4,
           5,
           6,
           7,
           8,
           9,
           10,
           12,
           16,
           18,
           20,
           21,
           22,
           23,
           26,
           27,
           28,
           29,
           31,
           32,
           33,
           34,
           36,
           48,
           49,
           50,
           51,
           52,
           53,
           55,
           57,
           58,
           59,
           60,
           64,
           66,
           67,
           68,
           70,
           71,
           72,
           75,
           80,
           81,
           83,
           90,
           91,
           93,
           94,
           95
          ],
          "colorbar": {
           "title": {
            "text": "Trial"
           },
           "x": 1,
           "xpad": 40
          },
          "colorscale": [
           [
            0,
            "rgb(247,251,255)"
           ],
           [
            0.125,
            "rgb(222,235,247)"
           ],
           [
            0.25,
            "rgb(198,219,239)"
           ],
           [
            0.375,
            "rgb(158,202,225)"
           ],
           [
            0.5,
            "rgb(107,174,214)"
           ],
           [
            0.625,
            "rgb(66,146,198)"
           ],
           [
            0.75,
            "rgb(33,113,181)"
           ],
           [
            0.875,
            "rgb(8,81,156)"
           ],
           [
            1,
            "rgb(8,48,107)"
           ]
          ],
          "line": {
           "color": "Grey",
           "width": 0.5
          },
          "showscale": true
         },
         "mode": "markers",
         "name": "Feasible Trial",
         "showlegend": false,
         "type": "scatter",
         "x": [
          21,
          3,
          28,
          9,
          30,
          27,
          26,
          26,
          21,
          4,
          16,
          17,
          20,
          19,
          18,
          18,
          23,
          23,
          19,
          24,
          6,
          20,
          23,
          22,
          17,
          17,
          13,
          30,
          30,
          30,
          30,
          28,
          29,
          29,
          30,
          27,
          27,
          25,
          30,
          26,
          25,
          28,
          28,
          28,
          28,
          27,
          28,
          28,
          29,
          7,
          28,
          27,
          22,
          24
         ],
         "xaxis": "x",
         "y": [
          0.5015817901234568,
          0.4997685185185185,
          0.4993827160493827,
          0.5010416666666667,
          0.500733024691358,
          0.4977237654320988,
          0.4995756172839506,
          0.49679783950617284,
          0.5013503086419753,
          0.5008873456790124,
          0.5022376543209877,
          0.5040895061728395,
          0.5034336419753086,
          0.5008873456790124,
          0.5025848765432098,
          0.5020447530864197,
          0.5032793209876543,
          0.5032793209876543,
          0.5032793209876543,
          0.5021219135802469,
          0.5027391975308642,
          0.5015817901234568,
          0.5032793209876543,
          0.5020833333333333,
          0.5055555555555555,
          0.504783950617284,
          0.5033564814814815,
          0.5044367283950617,
          0.5044367283950617,
          0.504128086419753,
          0.5023148148148148,
          0.5024305555555556,
          0.5042052469135803,
          0.5032793209876543,
          0.5054398148148148,
          0.5047067901234568,
          0.5033950617283951,
          0.5027391975308642,
          0.5054398148148148,
          0.5038194444444445,
          0.5041666666666667,
          0.5029706790123457,
          0.5044753086419753,
          0.5044753086419753,
          0.5044753086419753,
          0.5036265432098765,
          0.5048225308641975,
          0.5048225308641975,
          0.5044753086419753,
          0.5033179012345679,
          0.5044753086419753,
          0.5047067901234568,
          0.5033564814814815,
          0.5035108024691358
         ],
         "yaxis": "y"
        },
        {
         "marker": {
          "color": [
           0,
           1,
           2,
           3,
           4,
           5,
           6,
           7,
           8,
           9,
           10,
           12,
           16,
           18,
           20,
           21,
           22,
           23,
           26,
           27,
           28,
           29,
           31,
           32,
           33,
           34,
           36,
           48,
           49,
           50,
           51,
           52,
           53,
           55,
           57,
           58,
           59,
           60,
           64,
           66,
           67,
           68,
           70,
           71,
           72,
           75,
           80,
           81,
           83,
           90,
           91,
           93,
           94,
           95
          ],
          "colorbar": {
           "title": {
            "text": "Trial"
           },
           "x": 1,
           "xpad": 40
          },
          "colorscale": [
           [
            0,
            "rgb(247,251,255)"
           ],
           [
            0.125,
            "rgb(222,235,247)"
           ],
           [
            0.25,
            "rgb(198,219,239)"
           ],
           [
            0.375,
            "rgb(158,202,225)"
           ],
           [
            0.5,
            "rgb(107,174,214)"
           ],
           [
            0.625,
            "rgb(66,146,198)"
           ],
           [
            0.75,
            "rgb(33,113,181)"
           ],
           [
            0.875,
            "rgb(8,81,156)"
           ],
           [
            1,
            "rgb(8,48,107)"
           ]
          ],
          "line": {
           "color": "Grey",
           "width": 0.5
          },
          "showscale": false
         },
         "mode": "markers",
         "name": "Feasible Trial",
         "showlegend": false,
         "type": "scatter",
         "x": [
          "log2",
          "log2",
          "log2",
          "sqrt",
          "sqrt",
          "log2",
          "sqrt",
          "sqrt",
          "log2",
          "log2",
          "log2",
          "log2",
          "log2",
          "sqrt",
          "log2",
          "log2",
          "log2",
          "log2",
          "sqrt",
          "log2",
          "log2",
          "log2",
          "log2",
          "log2",
          "log2",
          "log2",
          "sqrt",
          "sqrt",
          "log2",
          "log2",
          "log2",
          "log2",
          "log2",
          "log2",
          "log2",
          "log2",
          "log2",
          "sqrt",
          "log2",
          "log2",
          "log2",
          "log2",
          "log2",
          "log2",
          "log2",
          "log2",
          "log2",
          "log2",
          "log2",
          "log2",
          "log2",
          "log2",
          "log2",
          "log2"
         ],
         "xaxis": "x2",
         "y": [
          0.5015817901234568,
          0.4997685185185185,
          0.4993827160493827,
          0.5010416666666667,
          0.500733024691358,
          0.4977237654320988,
          0.4995756172839506,
          0.49679783950617284,
          0.5013503086419753,
          0.5008873456790124,
          0.5022376543209877,
          0.5040895061728395,
          0.5034336419753086,
          0.5008873456790124,
          0.5025848765432098,
          0.5020447530864197,
          0.5032793209876543,
          0.5032793209876543,
          0.5032793209876543,
          0.5021219135802469,
          0.5027391975308642,
          0.5015817901234568,
          0.5032793209876543,
          0.5020833333333333,
          0.5055555555555555,
          0.504783950617284,
          0.5033564814814815,
          0.5044367283950617,
          0.5044367283950617,
          0.504128086419753,
          0.5023148148148148,
          0.5024305555555556,
          0.5042052469135803,
          0.5032793209876543,
          0.5054398148148148,
          0.5047067901234568,
          0.5033950617283951,
          0.5027391975308642,
          0.5054398148148148,
          0.5038194444444445,
          0.5041666666666667,
          0.5029706790123457,
          0.5044753086419753,
          0.5044753086419753,
          0.5044753086419753,
          0.5036265432098765,
          0.5048225308641975,
          0.5048225308641975,
          0.5044753086419753,
          0.5033179012345679,
          0.5044753086419753,
          0.5047067901234568,
          0.5033564814814815,
          0.5035108024691358
         ],
         "yaxis": "y2"
        },
        {
         "marker": {
          "color": [
           0,
           1,
           2,
           3,
           4,
           5,
           6,
           7,
           8,
           9,
           10,
           12,
           16,
           18,
           20,
           21,
           22,
           23,
           26,
           27,
           28,
           29,
           31,
           32,
           33,
           34,
           36,
           48,
           49,
           50,
           51,
           52,
           53,
           55,
           57,
           58,
           59,
           60,
           64,
           66,
           67,
           68,
           70,
           71,
           72,
           75,
           80,
           81,
           83,
           90,
           91,
           93,
           94,
           95
          ],
          "colorbar": {
           "title": {
            "text": "Trial"
           },
           "x": 1,
           "xpad": 40
          },
          "colorscale": [
           [
            0,
            "rgb(247,251,255)"
           ],
           [
            0.125,
            "rgb(222,235,247)"
           ],
           [
            0.25,
            "rgb(198,219,239)"
           ],
           [
            0.375,
            "rgb(158,202,225)"
           ],
           [
            0.5,
            "rgb(107,174,214)"
           ],
           [
            0.625,
            "rgb(66,146,198)"
           ],
           [
            0.75,
            "rgb(33,113,181)"
           ],
           [
            0.875,
            "rgb(8,81,156)"
           ],
           [
            1,
            "rgb(8,48,107)"
           ]
          ],
          "line": {
           "color": "Grey",
           "width": 0.5
          },
          "showscale": false
         },
         "mode": "markers",
         "name": "Feasible Trial",
         "showlegend": false,
         "type": "scatter",
         "x": [
          12,
          4,
          9,
          14,
          4,
          7,
          7,
          18,
          13,
          11,
          20,
          16,
          15,
          1,
          10,
          9,
          14,
          14,
          15,
          18,
          13,
          12,
          14,
          14,
          17,
          17,
          17,
          13,
          13,
          12,
          11,
          10,
          13,
          13,
          11,
          11,
          5,
          11,
          11,
          11,
          12,
          10,
          11,
          11,
          11,
          11,
          12,
          12,
          12,
          12,
          11,
          11,
          10,
          18
         ],
         "xaxis": "x3",
         "y": [
          0.5015817901234568,
          0.4997685185185185,
          0.4993827160493827,
          0.5010416666666667,
          0.500733024691358,
          0.4977237654320988,
          0.4995756172839506,
          0.49679783950617284,
          0.5013503086419753,
          0.5008873456790124,
          0.5022376543209877,
          0.5040895061728395,
          0.5034336419753086,
          0.5008873456790124,
          0.5025848765432098,
          0.5020447530864197,
          0.5032793209876543,
          0.5032793209876543,
          0.5032793209876543,
          0.5021219135802469,
          0.5027391975308642,
          0.5015817901234568,
          0.5032793209876543,
          0.5020833333333333,
          0.5055555555555555,
          0.504783950617284,
          0.5033564814814815,
          0.5044367283950617,
          0.5044367283950617,
          0.504128086419753,
          0.5023148148148148,
          0.5024305555555556,
          0.5042052469135803,
          0.5032793209876543,
          0.5054398148148148,
          0.5047067901234568,
          0.5033950617283951,
          0.5027391975308642,
          0.5054398148148148,
          0.5038194444444445,
          0.5041666666666667,
          0.5029706790123457,
          0.5044753086419753,
          0.5044753086419753,
          0.5044753086419753,
          0.5036265432098765,
          0.5048225308641975,
          0.5048225308641975,
          0.5044753086419753,
          0.5033179012345679,
          0.5044753086419753,
          0.5047067901234568,
          0.5033564814814815,
          0.5035108024691358
         ],
         "yaxis": "y3"
        },
        {
         "marker": {
          "color": [
           0,
           1,
           2,
           3,
           4,
           5,
           6,
           7,
           8,
           9,
           10,
           12,
           16,
           18,
           20,
           21,
           22,
           23,
           26,
           27,
           28,
           29,
           31,
           32,
           33,
           34,
           36,
           48,
           49,
           50,
           51,
           52,
           53,
           55,
           57,
           58,
           59,
           60,
           64,
           66,
           67,
           68,
           70,
           71,
           72,
           75,
           80,
           81,
           83,
           90,
           91,
           93,
           94,
           95
          ],
          "colorbar": {
           "title": {
            "text": "Trial"
           },
           "x": 1,
           "xpad": 40
          },
          "colorscale": [
           [
            0,
            "rgb(247,251,255)"
           ],
           [
            0.125,
            "rgb(222,235,247)"
           ],
           [
            0.25,
            "rgb(198,219,239)"
           ],
           [
            0.375,
            "rgb(158,202,225)"
           ],
           [
            0.5,
            "rgb(107,174,214)"
           ],
           [
            0.625,
            "rgb(66,146,198)"
           ],
           [
            0.75,
            "rgb(33,113,181)"
           ],
           [
            0.875,
            "rgb(8,81,156)"
           ],
           [
            1,
            "rgb(8,48,107)"
           ]
          ],
          "line": {
           "color": "Grey",
           "width": 0.5
          },
          "showscale": false
         },
         "mode": "markers",
         "name": "Feasible Trial",
         "showlegend": false,
         "type": "scatter",
         "x": [
          19,
          15,
          18,
          9,
          18,
          20,
          18,
          3,
          9,
          10,
          14,
          14,
          15,
          16,
          11,
          11,
          12,
          16,
          13,
          15,
          17,
          20,
          16,
          15,
          14,
          14,
          17,
          19,
          19,
          20,
          20,
          19,
          19,
          20,
          20,
          18,
          18,
          17,
          10,
          11,
          10,
          18,
          16,
          16,
          16,
          13,
          4,
          5,
          4,
          7,
          16,
          15,
          15,
          14
         ],
         "xaxis": "x4",
         "y": [
          0.5015817901234568,
          0.4997685185185185,
          0.4993827160493827,
          0.5010416666666667,
          0.500733024691358,
          0.4977237654320988,
          0.4995756172839506,
          0.49679783950617284,
          0.5013503086419753,
          0.5008873456790124,
          0.5022376543209877,
          0.5040895061728395,
          0.5034336419753086,
          0.5008873456790124,
          0.5025848765432098,
          0.5020447530864197,
          0.5032793209876543,
          0.5032793209876543,
          0.5032793209876543,
          0.5021219135802469,
          0.5027391975308642,
          0.5015817901234568,
          0.5032793209876543,
          0.5020833333333333,
          0.5055555555555555,
          0.504783950617284,
          0.5033564814814815,
          0.5044367283950617,
          0.5044367283950617,
          0.504128086419753,
          0.5023148148148148,
          0.5024305555555556,
          0.5042052469135803,
          0.5032793209876543,
          0.5054398148148148,
          0.5047067901234568,
          0.5033950617283951,
          0.5027391975308642,
          0.5054398148148148,
          0.5038194444444445,
          0.5041666666666667,
          0.5029706790123457,
          0.5044753086419753,
          0.5044753086419753,
          0.5044753086419753,
          0.5036265432098765,
          0.5048225308641975,
          0.5048225308641975,
          0.5044753086419753,
          0.5033179012345679,
          0.5044753086419753,
          0.5047067901234568,
          0.5033564814814815,
          0.5035108024691358
         ],
         "yaxis": "y4"
        },
        {
         "marker": {
          "color": [
           0,
           1,
           2,
           3,
           4,
           5,
           6,
           7,
           8,
           9,
           10,
           12,
           16,
           18,
           20,
           21,
           22,
           23,
           26,
           27,
           28,
           29,
           31,
           32,
           33,
           34,
           36,
           48,
           49,
           50,
           51,
           52,
           53,
           55,
           57,
           58,
           59,
           60,
           64,
           66,
           67,
           68,
           70,
           71,
           72,
           75,
           80,
           81,
           83,
           90,
           91,
           93,
           94,
           95
          ],
          "colorbar": {
           "title": {
            "text": "Trial"
           },
           "x": 1,
           "xpad": 40
          },
          "colorscale": [
           [
            0,
            "rgb(247,251,255)"
           ],
           [
            0.125,
            "rgb(222,235,247)"
           ],
           [
            0.25,
            "rgb(198,219,239)"
           ],
           [
            0.375,
            "rgb(158,202,225)"
           ],
           [
            0.5,
            "rgb(107,174,214)"
           ],
           [
            0.625,
            "rgb(66,146,198)"
           ],
           [
            0.75,
            "rgb(33,113,181)"
           ],
           [
            0.875,
            "rgb(8,81,156)"
           ],
           [
            1,
            "rgb(8,48,107)"
           ]
          ],
          "line": {
           "color": "Grey",
           "width": 0.5
          },
          "showscale": false
         },
         "mode": "markers",
         "name": "Feasible Trial",
         "showlegend": false,
         "type": "scatter",
         "x": [
          13,
          2,
          4,
          14,
          2,
          5,
          3,
          6,
          13,
          18,
          11,
          10,
          17,
          16,
          15,
          14,
          16,
          16,
          16,
          18,
          15,
          13,
          16,
          17,
          15,
          14,
          10,
          17,
          17,
          17,
          17,
          18,
          15,
          17,
          18,
          18,
          18,
          18,
          18,
          18,
          17,
          16,
          18,
          18,
          18,
          16,
          18,
          18,
          18,
          18,
          18,
          18,
          12,
          17
         ],
         "xaxis": "x5",
         "y": [
          0.5015817901234568,
          0.4997685185185185,
          0.4993827160493827,
          0.5010416666666667,
          0.500733024691358,
          0.4977237654320988,
          0.4995756172839506,
          0.49679783950617284,
          0.5013503086419753,
          0.5008873456790124,
          0.5022376543209877,
          0.5040895061728395,
          0.5034336419753086,
          0.5008873456790124,
          0.5025848765432098,
          0.5020447530864197,
          0.5032793209876543,
          0.5032793209876543,
          0.5032793209876543,
          0.5021219135802469,
          0.5027391975308642,
          0.5015817901234568,
          0.5032793209876543,
          0.5020833333333333,
          0.5055555555555555,
          0.504783950617284,
          0.5033564814814815,
          0.5044367283950617,
          0.5044367283950617,
          0.504128086419753,
          0.5023148148148148,
          0.5024305555555556,
          0.5042052469135803,
          0.5032793209876543,
          0.5054398148148148,
          0.5047067901234568,
          0.5033950617283951,
          0.5027391975308642,
          0.5054398148148148,
          0.5038194444444445,
          0.5041666666666667,
          0.5029706790123457,
          0.5044753086419753,
          0.5044753086419753,
          0.5044753086419753,
          0.5036265432098765,
          0.5048225308641975,
          0.5048225308641975,
          0.5044753086419753,
          0.5033179012345679,
          0.5044753086419753,
          0.5047067901234568,
          0.5033564814814815,
          0.5035108024691358
         ],
         "yaxis": "y5"
        }
       ],
       "layout": {
        "template": {
         "data": {
          "bar": [
           {
            "error_x": {
             "color": "#2a3f5f"
            },
            "error_y": {
             "color": "#2a3f5f"
            },
            "marker": {
             "line": {
              "color": "#E5ECF6",
              "width": 0.5
             },
             "pattern": {
              "fillmode": "overlay",
              "size": 10,
              "solidity": 0.2
             }
            },
            "type": "bar"
           }
          ],
          "barpolar": [
           {
            "marker": {
             "line": {
              "color": "#E5ECF6",
              "width": 0.5
             },
             "pattern": {
              "fillmode": "overlay",
              "size": 10,
              "solidity": 0.2
             }
            },
            "type": "barpolar"
           }
          ],
          "carpet": [
           {
            "aaxis": {
             "endlinecolor": "#2a3f5f",
             "gridcolor": "white",
             "linecolor": "white",
             "minorgridcolor": "white",
             "startlinecolor": "#2a3f5f"
            },
            "baxis": {
             "endlinecolor": "#2a3f5f",
             "gridcolor": "white",
             "linecolor": "white",
             "minorgridcolor": "white",
             "startlinecolor": "#2a3f5f"
            },
            "type": "carpet"
           }
          ],
          "choropleth": [
           {
            "colorbar": {
             "outlinewidth": 0,
             "ticks": ""
            },
            "type": "choropleth"
           }
          ],
          "contour": [
           {
            "colorbar": {
             "outlinewidth": 0,
             "ticks": ""
            },
            "colorscale": [
             [
              0,
              "#0d0887"
             ],
             [
              0.1111111111111111,
              "#46039f"
             ],
             [
              0.2222222222222222,
              "#7201a8"
             ],
             [
              0.3333333333333333,
              "#9c179e"
             ],
             [
              0.4444444444444444,
              "#bd3786"
             ],
             [
              0.5555555555555556,
              "#d8576b"
             ],
             [
              0.6666666666666666,
              "#ed7953"
             ],
             [
              0.7777777777777778,
              "#fb9f3a"
             ],
             [
              0.8888888888888888,
              "#fdca26"
             ],
             [
              1,
              "#f0f921"
             ]
            ],
            "type": "contour"
           }
          ],
          "contourcarpet": [
           {
            "colorbar": {
             "outlinewidth": 0,
             "ticks": ""
            },
            "type": "contourcarpet"
           }
          ],
          "heatmap": [
           {
            "colorbar": {
             "outlinewidth": 0,
             "ticks": ""
            },
            "colorscale": [
             [
              0,
              "#0d0887"
             ],
             [
              0.1111111111111111,
              "#46039f"
             ],
             [
              0.2222222222222222,
              "#7201a8"
             ],
             [
              0.3333333333333333,
              "#9c179e"
             ],
             [
              0.4444444444444444,
              "#bd3786"
             ],
             [
              0.5555555555555556,
              "#d8576b"
             ],
             [
              0.6666666666666666,
              "#ed7953"
             ],
             [
              0.7777777777777778,
              "#fb9f3a"
             ],
             [
              0.8888888888888888,
              "#fdca26"
             ],
             [
              1,
              "#f0f921"
             ]
            ],
            "type": "heatmap"
           }
          ],
          "heatmapgl": [
           {
            "colorbar": {
             "outlinewidth": 0,
             "ticks": ""
            },
            "colorscale": [
             [
              0,
              "#0d0887"
             ],
             [
              0.1111111111111111,
              "#46039f"
             ],
             [
              0.2222222222222222,
              "#7201a8"
             ],
             [
              0.3333333333333333,
              "#9c179e"
             ],
             [
              0.4444444444444444,
              "#bd3786"
             ],
             [
              0.5555555555555556,
              "#d8576b"
             ],
             [
              0.6666666666666666,
              "#ed7953"
             ],
             [
              0.7777777777777778,
              "#fb9f3a"
             ],
             [
              0.8888888888888888,
              "#fdca26"
             ],
             [
              1,
              "#f0f921"
             ]
            ],
            "type": "heatmapgl"
           }
          ],
          "histogram": [
           {
            "marker": {
             "pattern": {
              "fillmode": "overlay",
              "size": 10,
              "solidity": 0.2
             }
            },
            "type": "histogram"
           }
          ],
          "histogram2d": [
           {
            "colorbar": {
             "outlinewidth": 0,
             "ticks": ""
            },
            "colorscale": [
             [
              0,
              "#0d0887"
             ],
             [
              0.1111111111111111,
              "#46039f"
             ],
             [
              0.2222222222222222,
              "#7201a8"
             ],
             [
              0.3333333333333333,
              "#9c179e"
             ],
             [
              0.4444444444444444,
              "#bd3786"
             ],
             [
              0.5555555555555556,
              "#d8576b"
             ],
             [
              0.6666666666666666,
              "#ed7953"
             ],
             [
              0.7777777777777778,
              "#fb9f3a"
             ],
             [
              0.8888888888888888,
              "#fdca26"
             ],
             [
              1,
              "#f0f921"
             ]
            ],
            "type": "histogram2d"
           }
          ],
          "histogram2dcontour": [
           {
            "colorbar": {
             "outlinewidth": 0,
             "ticks": ""
            },
            "colorscale": [
             [
              0,
              "#0d0887"
             ],
             [
              0.1111111111111111,
              "#46039f"
             ],
             [
              0.2222222222222222,
              "#7201a8"
             ],
             [
              0.3333333333333333,
              "#9c179e"
             ],
             [
              0.4444444444444444,
              "#bd3786"
             ],
             [
              0.5555555555555556,
              "#d8576b"
             ],
             [
              0.6666666666666666,
              "#ed7953"
             ],
             [
              0.7777777777777778,
              "#fb9f3a"
             ],
             [
              0.8888888888888888,
              "#fdca26"
             ],
             [
              1,
              "#f0f921"
             ]
            ],
            "type": "histogram2dcontour"
           }
          ],
          "mesh3d": [
           {
            "colorbar": {
             "outlinewidth": 0,
             "ticks": ""
            },
            "type": "mesh3d"
           }
          ],
          "parcoords": [
           {
            "line": {
             "colorbar": {
              "outlinewidth": 0,
              "ticks": ""
             }
            },
            "type": "parcoords"
           }
          ],
          "pie": [
           {
            "automargin": true,
            "type": "pie"
           }
          ],
          "scatter": [
           {
            "fillpattern": {
             "fillmode": "overlay",
             "size": 10,
             "solidity": 0.2
            },
            "type": "scatter"
           }
          ],
          "scatter3d": [
           {
            "line": {
             "colorbar": {
              "outlinewidth": 0,
              "ticks": ""
             }
            },
            "marker": {
             "colorbar": {
              "outlinewidth": 0,
              "ticks": ""
             }
            },
            "type": "scatter3d"
           }
          ],
          "scattercarpet": [
           {
            "marker": {
             "colorbar": {
              "outlinewidth": 0,
              "ticks": ""
             }
            },
            "type": "scattercarpet"
           }
          ],
          "scattergeo": [
           {
            "marker": {
             "colorbar": {
              "outlinewidth": 0,
              "ticks": ""
             }
            },
            "type": "scattergeo"
           }
          ],
          "scattergl": [
           {
            "marker": {
             "colorbar": {
              "outlinewidth": 0,
              "ticks": ""
             }
            },
            "type": "scattergl"
           }
          ],
          "scattermapbox": [
           {
            "marker": {
             "colorbar": {
              "outlinewidth": 0,
              "ticks": ""
             }
            },
            "type": "scattermapbox"
           }
          ],
          "scatterpolar": [
           {
            "marker": {
             "colorbar": {
              "outlinewidth": 0,
              "ticks": ""
             }
            },
            "type": "scatterpolar"
           }
          ],
          "scatterpolargl": [
           {
            "marker": {
             "colorbar": {
              "outlinewidth": 0,
              "ticks": ""
             }
            },
            "type": "scatterpolargl"
           }
          ],
          "scatterternary": [
           {
            "marker": {
             "colorbar": {
              "outlinewidth": 0,
              "ticks": ""
             }
            },
            "type": "scatterternary"
           }
          ],
          "surface": [
           {
            "colorbar": {
             "outlinewidth": 0,
             "ticks": ""
            },
            "colorscale": [
             [
              0,
              "#0d0887"
             ],
             [
              0.1111111111111111,
              "#46039f"
             ],
             [
              0.2222222222222222,
              "#7201a8"
             ],
             [
              0.3333333333333333,
              "#9c179e"
             ],
             [
              0.4444444444444444,
              "#bd3786"
             ],
             [
              0.5555555555555556,
              "#d8576b"
             ],
             [
              0.6666666666666666,
              "#ed7953"
             ],
             [
              0.7777777777777778,
              "#fb9f3a"
             ],
             [
              0.8888888888888888,
              "#fdca26"
             ],
             [
              1,
              "#f0f921"
             ]
            ],
            "type": "surface"
           }
          ],
          "table": [
           {
            "cells": {
             "fill": {
              "color": "#EBF0F8"
             },
             "line": {
              "color": "white"
             }
            },
            "header": {
             "fill": {
              "color": "#C8D4E3"
             },
             "line": {
              "color": "white"
             }
            },
            "type": "table"
           }
          ]
         },
         "layout": {
          "annotationdefaults": {
           "arrowcolor": "#2a3f5f",
           "arrowhead": 0,
           "arrowwidth": 1
          },
          "autotypenumbers": "strict",
          "coloraxis": {
           "colorbar": {
            "outlinewidth": 0,
            "ticks": ""
           }
          },
          "colorscale": {
           "diverging": [
            [
             0,
             "#8e0152"
            ],
            [
             0.1,
             "#c51b7d"
            ],
            [
             0.2,
             "#de77ae"
            ],
            [
             0.3,
             "#f1b6da"
            ],
            [
             0.4,
             "#fde0ef"
            ],
            [
             0.5,
             "#f7f7f7"
            ],
            [
             0.6,
             "#e6f5d0"
            ],
            [
             0.7,
             "#b8e186"
            ],
            [
             0.8,
             "#7fbc41"
            ],
            [
             0.9,
             "#4d9221"
            ],
            [
             1,
             "#276419"
            ]
           ],
           "sequential": [
            [
             0,
             "#0d0887"
            ],
            [
             0.1111111111111111,
             "#46039f"
            ],
            [
             0.2222222222222222,
             "#7201a8"
            ],
            [
             0.3333333333333333,
             "#9c179e"
            ],
            [
             0.4444444444444444,
             "#bd3786"
            ],
            [
             0.5555555555555556,
             "#d8576b"
            ],
            [
             0.6666666666666666,
             "#ed7953"
            ],
            [
             0.7777777777777778,
             "#fb9f3a"
            ],
            [
             0.8888888888888888,
             "#fdca26"
            ],
            [
             1,
             "#f0f921"
            ]
           ],
           "sequentialminus": [
            [
             0,
             "#0d0887"
            ],
            [
             0.1111111111111111,
             "#46039f"
            ],
            [
             0.2222222222222222,
             "#7201a8"
            ],
            [
             0.3333333333333333,
             "#9c179e"
            ],
            [
             0.4444444444444444,
             "#bd3786"
            ],
            [
             0.5555555555555556,
             "#d8576b"
            ],
            [
             0.6666666666666666,
             "#ed7953"
            ],
            [
             0.7777777777777778,
             "#fb9f3a"
            ],
            [
             0.8888888888888888,
             "#fdca26"
            ],
            [
             1,
             "#f0f921"
            ]
           ]
          },
          "colorway": [
           "#636efa",
           "#EF553B",
           "#00cc96",
           "#ab63fa",
           "#FFA15A",
           "#19d3f3",
           "#FF6692",
           "#B6E880",
           "#FF97FF",
           "#FECB52"
          ],
          "font": {
           "color": "#2a3f5f"
          },
          "geo": {
           "bgcolor": "white",
           "lakecolor": "white",
           "landcolor": "#E5ECF6",
           "showlakes": true,
           "showland": true,
           "subunitcolor": "white"
          },
          "hoverlabel": {
           "align": "left"
          },
          "hovermode": "closest",
          "mapbox": {
           "style": "light"
          },
          "paper_bgcolor": "white",
          "plot_bgcolor": "#E5ECF6",
          "polar": {
           "angularaxis": {
            "gridcolor": "white",
            "linecolor": "white",
            "ticks": ""
           },
           "bgcolor": "#E5ECF6",
           "radialaxis": {
            "gridcolor": "white",
            "linecolor": "white",
            "ticks": ""
           }
          },
          "scene": {
           "xaxis": {
            "backgroundcolor": "#E5ECF6",
            "gridcolor": "white",
            "gridwidth": 2,
            "linecolor": "white",
            "showbackground": true,
            "ticks": "",
            "zerolinecolor": "white"
           },
           "yaxis": {
            "backgroundcolor": "#E5ECF6",
            "gridcolor": "white",
            "gridwidth": 2,
            "linecolor": "white",
            "showbackground": true,
            "ticks": "",
            "zerolinecolor": "white"
           },
           "zaxis": {
            "backgroundcolor": "#E5ECF6",
            "gridcolor": "white",
            "gridwidth": 2,
            "linecolor": "white",
            "showbackground": true,
            "ticks": "",
            "zerolinecolor": "white"
           }
          },
          "shapedefaults": {
           "line": {
            "color": "#2a3f5f"
           }
          },
          "ternary": {
           "aaxis": {
            "gridcolor": "white",
            "linecolor": "white",
            "ticks": ""
           },
           "baxis": {
            "gridcolor": "white",
            "linecolor": "white",
            "ticks": ""
           },
           "bgcolor": "#E5ECF6",
           "caxis": {
            "gridcolor": "white",
            "linecolor": "white",
            "ticks": ""
           }
          },
          "title": {
           "x": 0.05
          },
          "xaxis": {
           "automargin": true,
           "gridcolor": "white",
           "linecolor": "white",
           "ticks": "",
           "title": {
            "standoff": 15
           },
           "zerolinecolor": "white",
           "zerolinewidth": 2
          },
          "yaxis": {
           "automargin": true,
           "gridcolor": "white",
           "linecolor": "white",
           "ticks": "",
           "title": {
            "standoff": 15
           },
           "zerolinecolor": "white",
           "zerolinewidth": 2
          }
         }
        },
        "title": {
         "text": "Slice Plot"
        },
        "width": 1500,
        "xaxis": {
         "anchor": "y",
         "domain": [
          0,
          0.16799999999999998
         ],
         "title": {
          "text": "max_depth"
         }
        },
        "xaxis2": {
         "anchor": "y2",
         "categoryarray": [
          "sqrt",
          "log2"
         ],
         "categoryorder": "array",
         "domain": [
          0.208,
          0.376
         ],
         "title": {
          "text": "max_features"
         },
         "type": "category"
        },
        "xaxis3": {
         "anchor": "y3",
         "domain": [
          0.416,
          0.584
         ],
         "title": {
          "text": "min_samples_leaf"
         }
        },
        "xaxis4": {
         "anchor": "y4",
         "domain": [
          0.624,
          0.792
         ],
         "title": {
          "text": "min_samples_split"
         }
        },
        "xaxis5": {
         "anchor": "y5",
         "domain": [
          0.832,
          1
         ],
         "title": {
          "text": "n_components"
         }
        },
        "yaxis": {
         "anchor": "x",
         "domain": [
          0,
          1
         ],
         "title": {
          "text": "Objective Value"
         }
        },
        "yaxis2": {
         "anchor": "x2",
         "domain": [
          0,
          1
         ],
         "matches": "y",
         "showticklabels": false
        },
        "yaxis3": {
         "anchor": "x3",
         "domain": [
          0,
          1
         ],
         "matches": "y",
         "showticklabels": false
        },
        "yaxis4": {
         "anchor": "x4",
         "domain": [
          0,
          1
         ],
         "matches": "y",
         "showticklabels": false
        },
        "yaxis5": {
         "anchor": "x5",
         "domain": [
          0,
          1
         ],
         "matches": "y",
         "showticklabels": false
        }
       }
      }
     },
     "metadata": {},
     "output_type": "display_data"
    }
   ],
   "source": [
    "# Create a study object with a pruner\n",
    "pruner = optuna.pruners.MedianPruner(n_startup_trials=10)\n",
    "study = optuna.create_study(direction=\"maximize\", pruner=pruner)\n",
    "\n",
    "# Optimize the objective function\n",
    "study.optimize(objective, n_trials=100)\n",
    "\n",
    "print(\"Best hyperparameters:\", study.best_params)\n",
    "print(\"Best value:\", study.best_value)\n",
    "\n",
    "# Evaluate on the validation set\n",
    "X_test_scaled = best_scaler.transform(X_test)\n",
    "X_test_scaled = best_pca.transform(X_test_scaled)\n",
    "y_test_pred = best_model.predict(X_test_scaled)\n",
    "test_accuracy = accuracy_score(y_test, y_test_pred)\n",
    "print(f'accuracy on test set:{test_accuracy}')\n",
    "\n",
    "# Optional: Visualize optimization results\n",
    "vis.plot_optimization_history(study).show()\n",
    "vis.plot_param_importances(study).show()\n",
    "vis.plot_slice(study).show()"
   ]
  },
  {
   "cell_type": "code",
   "execution_count": 9,
   "metadata": {},
   "outputs": [],
   "source": [
    "optimal_params_9: dict = {'n_estimators': 500, 'max_depth': 20, 'min_samples_split': 4, 'min_samples_leaf': 1, 'max_features': 'log2', 'n_components': 9}\n",
    "optimal_params_12: dict = {'n_estimators': 500, 'max_depth': 25, 'min_samples_split': 2, 'min_samples_leaf': 1, 'max_features': 'sqrt', 'n_components': 11}\n",
    "optimal_params_15: dict = {'n_estimators': 500, 'n_components': 4, 'max_depth': 29, 'min_samples_split': 2, 'min_samples_leaf': 1, 'max_features': 'sqrt'}\n",
    "optimal_params_18: dict = {'n_estimators': 500, 'n_components': 15, 'max_depth': 17, 'min_samples_split': 14, 'min_samples_leaf': 17, 'max_features': 'log2'}\n",
    "\n",
    "optimal_params: dict[int, dict] = {9: optimal_params_9, 12: optimal_params_12, 15: optimal_params_15, 18: optimal_params_18}"
   ]
  },
  {
   "cell_type": "markdown",
   "metadata": {},
   "source": [
    "### Prediction for McNemar Test"
   ]
  },
  {
   "cell_type": "code",
   "execution_count": null,
   "metadata": {},
   "outputs": [],
   "source": [
    "def run_random_forest_fixed_datasets(n, optimal_params):\n",
    "    \"\"\"\n",
    "    Runs a Random Forest classifier on fixed datasets, applies scaling, PCA, and evaluates the model's performance.\n",
    "\n",
    "    Parameters:\n",
    "    ----------\n",
    "    n : int\n",
    "        Dataset identifier to load the corresponding train and test datasets.\n",
    "    optimal_params : dict\n",
    "        Dictionary of hyperparameters for the Random Forest and PCA. Expected keys:\n",
    "            - 'n_components': int, number of PCA components.\n",
    "            - 'n_estimators': int, number of trees in the Random Forest.\n",
    "            - 'max_depth': int, maximum depth of the trees.\n",
    "            - 'min_samples_split': int, minimum samples required to split a node.\n",
    "            - 'min_samples_leaf': int, minimum samples required at a leaf node.\n",
    "            - 'max_features': int or str, number of features to consider for best split.\n",
    "\n",
    "    Returns:\n",
    "    -------\n",
    "    None\n",
    "        Outputs model predictions and probabilities to `.npy` files for future use.\n",
    "        Print test accuracy to the console.\n",
    "\n",
    "    Notes:\n",
    "    -----\n",
    "    - Datasets are expected to be stored in `Datasets_Train_Test_Split/` directory.\n",
    "    - Predictions and probabilities are saved in `.npy` format for use in McNemar's test.\n",
    "    \"\"\"\n",
    "    X_train = np.load('Datasets_Train_Test_Split/kryptonite-%s-X_train.npy' % n)\n",
    "    y_train = np.load('Datasets_Train_Test_Split/kryptonite-%s-y_train.npy' % n)\n",
    "    X_test = np.load('Datasets_Train_Test_Split/kryptonite-%s-X_test.npy' % n)\n",
    "    y_test = np.load('Datasets_Train_Test_Split/kryptonite-%s-y_test.npy' % n)\n",
    "\n",
    "    print(X_train.shape, X_test.shape)\n",
    "\n",
    "    optimal_params = optimal_params\n",
    "\n",
    "    # Feature scaling\n",
    "    scaler = StandardScaler()\n",
    "    X_train_scaled = scaler.fit_transform(X_train)\n",
    "    X_test_scaled = scaler.transform(X_test)\n",
    "\n",
    "    # PCA dimensionality reduction\n",
    "    pca = PCA(n_components=optimal_params['n_components'])\n",
    "    X_train_scaled = pca.fit_transform(X_train_scaled)\n",
    "    X_test_scaled = pca.transform(X_test_scaled)\n",
    "\n",
    "    # Random Forest Classifier parameters\n",
    "    classifier = RandomForestClassifier(\n",
    "        n_estimators=optimal_params['n_estimators'],\n",
    "        max_depth=optimal_params['max_depth'],\n",
    "        min_samples_split=optimal_params['min_samples_split'],\n",
    "        min_samples_leaf=optimal_params['min_samples_leaf'],\n",
    "        max_features=optimal_params['max_features'],\n",
    "        random_state=42,\n",
    "        n_jobs=-1\n",
    "    )\n",
    "\n",
    "    # Train the classifier\n",
    "    classifier.fit(X_train_scaled, y_train)\n",
    "\n",
    "    # Evaluate on the test\n",
    "    y_test_pred = classifier.predict(X_test_scaled)\n",
    "    y_test_pred_proba = classifier.predict_proba(X_test_scaled)\n",
    "    test_accuracy = accuracy_score(y_test, y_test_pred)\n",
    "    print(f'accuracy on test set: {test_accuracy}')\n",
    "\n",
    "    # Save predictions for McNemar test\n",
    "    np.save('Datasets_Train_Test_Split/kryptonite_%s_pred_rf.npy' % n, y_test_pred)\n",
    "    np.save('Datasets_Train_Test_Split/kryptonite_%s_pred_proba_rf.npy' % n, y_test_pred_proba)"
   ]
  },
  {
   "cell_type": "code",
   "execution_count": null,
   "metadata": {},
   "outputs": [
    {
     "name": "stdout",
     "output_type": "stream",
     "text": [
      "(14400, 9) (3600, 9)\n",
      "accuracy on test set: 0.9572222222222222\n",
      "(19200, 12) (4800, 12)\n",
      "accuracy on test set: 0.9195833333333333\n",
      "(24000, 15) (6000, 15)\n",
      "accuracy on test set: 0.5185\n",
      "(28800, 18) (7200, 18)\n",
      "accuracy on test set: 0.5047222222222222\n"
     ]
    }
   ],
   "source": [
    "list_n: list = [9, 12, 15, 18]\n",
    "\n",
    "for n in list_n:\n",
    "    run_random_forest_fixed_datasets(n=n, optimal_params=optimal_params[n])"
   ]
  },
  {
   "cell_type": "markdown",
   "metadata": {},
   "source": [
    "### K-Fold Cross-Validation\n"
   ]
  },
  {
   "cell_type": "code",
   "execution_count": null,
   "metadata": {},
   "outputs": [],
   "source": [
    "def run_k_fold_random_forest(n, optimal_params):\n",
    "    \"\"\"\n",
    "    Performs k-fold cross-validation with a Random Forest Classifier on the given dataset.\n",
    "\n",
    "    Parameters:\n",
    "    ----------\n",
    "    n : int\n",
    "        Identifier for the dataset to load (e.g. 9, 12, 15, 18).\n",
    "    optimal_params : dict\n",
    "        Dictionary of hyperparameters for the Random Forest and PCA. Expected keys:\n",
    "            - 'n_components': int, number of PCA components.\n",
    "            - 'n_estimators': int, number of trees in the Random Forest.\n",
    "            - 'max_depth': int, maximum depth of the trees.\n",
    "            - 'min_samples_split': int, minimum samples required to split a node.\n",
    "            - 'min_samples_leaf': int, minimum samples required at a leaf node.\n",
    "            - 'max_features': str, method to select the number of features for splits ('sqrt' or 'log2').\n",
    "\n",
    "    Returns:\n",
    "    -------\n",
    "    None\n",
    "        Prints the mean accuracy, precision, recall, and F1 score across k folds.\n",
    "\n",
    "    Notes:\n",
    "    -----\n",
    "    - The dataset is expected to be stored in the `Datasets/` directory in `.npy` format.\n",
    "    - Performs shuffling of the dataset before splitting it into folds.\n",
    "    - Applies feature scaling using `StandardScaler` and dimensionality reduction using `PCA`.\n",
    "    - Evaluation metrics include accuracy, precision, recall, and F1 score for each fold.\n",
    "    - Uses weighted averaging for precision, recall, and F1 to handle class imbalance.\n",
    "    \"\"\"\n",
    "    # Load the data\n",
    "    X = np.load('Datasets/kryptonite-%s-X.npy' % n)\n",
    "    y = np.load('Datasets/kryptonite-%s-y.npy' % n)\n",
    "\n",
    "    print(X.shape, y.shape)\n",
    "\n",
    "    # Hyperparameters\n",
    "    optimal_params = optimal_params_9\n",
    "    random_seed = 42\n",
    "    k = 4  # Number of folds\n",
    "\n",
    "    # Shuffle data\n",
    "    np.random.seed(random_seed)\n",
    "    indices = np.arange(X.shape[0])\n",
    "    np.random.shuffle(indices)\n",
    "    X = X[indices]\n",
    "    y = y[indices]\n",
    "\n",
    "    # Split indices into k folds\n",
    "    fold_sizes = np.full(k, len(X) // k)\n",
    "    fold_starts = np.cumsum(fold_sizes)\n",
    "    folds = [indices[fold_starts[i - 1] if i > 0 else 0:fold_starts[i]] for i in range(k)]\n",
    "\n",
    "    print(X.shape, folds[0])\n",
    "\n",
    "    # k-Fold Cross-Validation\n",
    "    accuracies = []\n",
    "    precisions = []\n",
    "    recalls = []\n",
    "    f1_scores = []\n",
    "\n",
    "    for i in range(k):\n",
    "        # Create train/test splits\n",
    "        test_idx = folds[i]\n",
    "        train_idx = np.setdiff1d(indices, test_idx)\n",
    "        X_train, X_test = X[train_idx], X[test_idx]\n",
    "        y_train, y_test = y[train_idx], y[test_idx]\n",
    "\n",
    "        # Feature scaling\n",
    "        scaler = StandardScaler()\n",
    "        X_train_scaled = scaler.fit_transform(X_train)\n",
    "        X_test_scaled = scaler.transform(X_test)\n",
    "\n",
    "        # PCA dimensionality reduction\n",
    "        pca = PCA(n_components=optimal_params['n_components'])\n",
    "        X_train_scaled = pca.fit_transform(X_train_scaled)\n",
    "        X_test_scaled = pca.transform(X_test_scaled)\n",
    "\n",
    "        # Train the Random Forest Classifier\n",
    "        classifier = RandomForestClassifier(\n",
    "            n_estimators=optimal_params['n_estimators'],\n",
    "            max_depth=optimal_params['max_depth'],\n",
    "            min_samples_split=optimal_params['min_samples_split'],\n",
    "            min_samples_leaf=optimal_params['min_samples_leaf'],\n",
    "            max_features=optimal_params['max_features'],\n",
    "            random_state=random_seed,\n",
    "            n_jobs=-1\n",
    "        )\n",
    "        classifier.fit(X_train_scaled, y_train)\n",
    "\n",
    "        # Evaluate on the test set\n",
    "        y_test_pred = classifier.predict(X_test_scaled)\n",
    "        accuracy = accuracy_score(y_test, y_test_pred)\n",
    "        precision = precision_score(y_test, y_test_pred, average='weighted', zero_division=0)\n",
    "        recall = recall_score(y_test, y_test_pred, average='weighted', zero_division=0)\n",
    "        f1 = f1_score(y_test, y_test_pred, average='weighted', zero_division=0)\n",
    "\n",
    "        # Store results for each fold\n",
    "        accuracies.append(accuracy)\n",
    "        precisions.append(precision)\n",
    "        recalls.append(recall)\n",
    "        f1_scores.append(f1)\n",
    "\n",
    "    # Compute average metrics\n",
    "    mean_accuracy = np.mean(accuracies)\n",
    "    mean_precision = np.mean(precisions)\n",
    "    mean_recall = np.mean(recalls)\n",
    "    mean_f1 = np.mean(f1_scores)\n",
    "\n",
    "    print(f'Mean Accuracy over {k} folds: {mean_accuracy:.4f}')\n",
    "    print(f'Mean Precision over {k} folds: {mean_precision:.4f}')\n",
    "    print(f'Mean Recall over {k} folds: {mean_recall:.4f}')\n",
    "    print(f'Mean F1 Score over {k} folds: {mean_f1:.4f}')"
   ]
  },
  {
   "cell_type": "code",
   "execution_count": null,
   "metadata": {},
   "outputs": [
    {
     "name": "stdout",
     "output_type": "stream",
     "text": [
      "(18000, 9) (18000,)\n",
      "(18000, 9) [ 2574  7496  9210 ... 10260  4915 10423]\n",
      "Mean Accuracy over 4 folds: 0.9519\n",
      "Mean Precision over 4 folds: 0.9520\n",
      "Mean Recall over 4 folds: 0.9519\n",
      "Mean F1 Score over 4 folds: 0.9519\n",
      "(24000, 12) (24000,)\n",
      "(24000, 12) [ 3111 18679 17472 ... 20866 23445  9529]\n",
      "Mean Accuracy over 4 folds: 0.8658\n",
      "Mean Precision over 4 folds: 0.8661\n",
      "Mean Recall over 4 folds: 0.8658\n",
      "Mean F1 Score over 4 folds: 0.8658\n",
      "(30000, 15) (30000,)\n",
      "(30000, 15) [ 2308 22404 23397 ... 28201 19705 28313]\n",
      "Mean Accuracy over 4 folds: 0.5952\n",
      "Mean Precision over 4 folds: 0.5962\n",
      "Mean Recall over 4 folds: 0.5952\n",
      "Mean F1 Score over 4 folds: 0.5948\n",
      "(36000, 18) (36000,)\n",
      "(36000, 18) [16461 23579 23640 ...  8910 34919  7671]\n",
      "Mean Accuracy over 4 folds: 0.5097\n",
      "Mean Precision over 4 folds: 0.5099\n",
      "Mean Recall over 4 folds: 0.5097\n",
      "Mean F1 Score over 4 folds: 0.5094\n"
     ]
    }
   ],
   "source": [
    "list_n: list = [9, 12, 15, 18]\n",
    "\n",
    "for n in list_n:\n",
    "    run_k_fold_random_forest(n=n, optimal_params=optimal_params[n])"
   ]
  },
  {
   "cell_type": "code",
   "execution_count": null,
   "metadata": {},
   "outputs": [],
   "source": [
    "def run_random_forest_fixed_datasets(n, optimal_params):\n",
    "    \"\"\"\n",
    "    Runs a Random Forest classifier on fixed datasets, applies scaling and polynomial expansion, and evaluates the model's performance.\n",
    "\n",
    "    Parameters:\n",
    "    ----------\n",
    "    n : int\n",
    "        Dataset identifier to load the corresponding train and test datasets.\n",
    "    optimal_params : dict\n",
    "        Dictionary of hyperparameters for the Random Forest and PolynomialFeatures. Expected keys:\n",
    "            - 'degree': int, degree of the polynomial features.\n",
    "            - 'n_estimators': int, number of trees in the Random Forest.\n",
    "            - 'max_depth': int, maximum depth of the trees.\n",
    "            - 'min_samples_split': int, minimum samples required to split a node.\n",
    "            - 'min_samples_leaf': int, minimum samples required at a leaf node.\n",
    "            - 'max_features': int or str, number of features to consider for best split.\n",
    "\n",
    "    Returns:\n",
    "    -------\n",
    "    None\n",
    "        Outputs model predictions and probabilities to `.npy` files for future use.\n",
    "        Print test accuracy to the console.\n",
    "\n",
    "    Notes:\n",
    "    -----\n",
    "    - Datasets are expected to be stored in `Datasets_Train_Test_Split/` directory.\n",
    "    - Predictions and probabilities are saved in `.npy` format for use in McNemar's test.\n",
    "    \"\"\"\n",
    "    # Load datasets\n",
    "    X_train = np.load('Datasets_Train_Test_Split/kryptonite-%s-X_train.npy' % n)\n",
    "    y_train = np.load('Datasets_Train_Test_Split/kryptonite-%s-y_train.npy' % n)\n",
    "    X_test = np.load('Datasets_Train_Test_Split/kryptonite-%s-X_test.npy' % n)\n",
    "    y_test = np.load('Datasets_Train_Test_Split/kryptonite-%s-y_test.npy' % n)\n",
    "\n",
    "    print(X_train.shape, X_test.shape)\n",
    "\n",
    "    # Extract optimal parameters\n",
    "    optimal_params = optimal_params\n",
    "\n",
    "    # Feature scaling\n",
    "    scaler = StandardScaler()\n",
    "    X_train_scaled = scaler.fit_transform(X_train)\n",
    "    X_test_scaled = scaler.transform(X_test)\n",
    "\n",
    "    # Polynomial feature expansion (replacing PCA)\n",
    "    poly = PolynomialFeatures(degree=optimal_params['degree'])\n",
    "    X_train_poly = poly.fit_transform(X_train_scaled)\n",
    "    X_test_poly = poly.transform(X_test_scaled)\n",
    "\n",
    "    # Random Forest Classifier parameters\n",
    "    classifier = RandomForestClassifier(\n",
    "        n_estimators=optimal_params['n_estimators'],\n",
    "        max_depth=optimal_params['max_depth'],\n",
    "        min_samples_split=optimal_params['min_samples_split'],\n",
    "        min_samples_leaf=optimal_params['min_samples_leaf'],\n",
    "        max_features=optimal_params['max_features'],\n",
    "        random_state=42,\n",
    "        n_jobs=-1\n",
    "    )\n",
    "\n",
    "    # Train the classifier\n",
    "    classifier.fit(X_train_poly, y_train)\n",
    "\n",
    "    # Evaluate on the test set\n",
    "    y_test_pred = classifier.predict(X_test_poly)\n",
    "    y_test_pred_proba = classifier.predict_proba(X_test_poly)\n",
    "    test_accuracy = accuracy_score(y_test, y_test_pred)\n",
    "    print(f'Accuracy on test set: {test_accuracy:.4f}')\n",
    "\n",
    "    # Save predictions for McNemar test\n",
    "    np.save('Datasets_Train_Test_Split/kryptonite_%s_pred_rf.npy' % n, y_test_pred)\n",
    "    np.save('Datasets_Train_Test_Split/kryptonite_%s_pred_proba_rf.npy' % n, y_test_pred_proba)"
   ]
  },
  {
   "cell_type": "code",
   "execution_count": null,
   "metadata": {},
   "outputs": [
    {
     "name": "stdout",
     "output_type": "stream",
     "text": [
      "(14400, 9) (3600, 9)\n",
      "Accuracy on test set: 0.9572\n",
      "(19200, 12) (4800, 12)\n",
      "Accuracy on test set: 0.9500\n",
      "(24000, 15) (6000, 15)\n",
      "Accuracy on test set: 0.6603\n",
      "(28800, 18) (7200, 18)\n",
      "Accuracy on test set: 0.4990\n"
     ]
    }
   ],
   "source": [
    "# Example: List of dataset identifiers\n",
    "list_n = [9, 12, 15, 18]\n",
    "\n",
    "optimal_params_9: dict = {'n_estimators': 500, 'max_depth': 20, 'min_samples_split': 4, 'min_samples_leaf': 1, 'max_features': 'log2', 'degree': 4}\n",
    "optimal_params_12: dict = {'n_estimators': 500, 'max_depth': 25, 'min_samples_split': 2, 'min_samples_leaf': 1, 'max_features': 'sqrt', 'degree': 4}\n",
    "optimal_params_15: dict = {'n_estimators': 500, 'max_depth': 29, 'min_samples_split': 2, 'min_samples_leaf': 1, 'max_features': 'sqrt', 'degree': 4}\n",
    "optimal_params_18: dict = {'n_estimators': 500, 'max_depth': 17, 'min_samples_split': 14, 'min_samples_leaf': 17, 'max_features': 'log2', 'degree': 4}\n",
    "\n",
    "optimal_params: dict[int, dict] = {9: optimal_params_9, 12: optimal_params_12, 15: optimal_params_15, 18: optimal_params_18}\n",
    " \n",
    "for n in list_n:\n",
    "    run_random_forest_fixed_datasets(n=n, optimal_params=optimal_params[n])"
   ]
  }
 ],
 "metadata": {
  "kernelspec": {
   "display_name": ".venv",
   "language": "python",
   "name": "python3"
  },
  "language_info": {
   "codemirror_mode": {
    "name": "ipython",
    "version": 3
   },
   "file_extension": ".py",
   "mimetype": "text/x-python",
   "name": "python",
   "nbconvert_exporter": "python",
   "pygments_lexer": "ipython3",
   "version": "3.12.0"
  }
 },
 "nbformat": 4,
 "nbformat_minor": 2
}
