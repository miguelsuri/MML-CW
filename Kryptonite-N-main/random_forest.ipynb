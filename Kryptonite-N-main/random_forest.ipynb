{
 "cells": [
  {
   "cell_type": "code",
   "execution_count": null,
   "metadata": {},
   "outputs": [
    {
     "name": "stderr",
     "output_type": "stream",
     "text": [
      "[I 2024-11-07 19:19:49,273] A new study created in memory with name: no-name-b4508d6f-2b99-4934-81d7-f393a2ee8130\n"
     ]
    },
    {
     "name": "stdout",
     "output_type": "stream",
     "text": [
      "RandomForestClassifier(criterion='log_loss', max_depth=27, max_features='log2',\n",
      "                       n_jobs=-1)\n"
     ]
    },
    {
     "name": "stderr",
     "output_type": "stream",
     "text": [
      "[I 2024-11-07 19:19:50,152] Trial 0 finished with value: 0.5042592592592593 and parameters: {'max_depth': 27, 'max_features': 'log2', 'criterion': 'log_loss'}. Best is trial 0 with value: 0.5042592592592593.\n"
     ]
    },
    {
     "name": "stdout",
     "output_type": "stream",
     "text": [
      "RandomForestClassifier(criterion='log_loss', max_depth=33, max_features='log2',\n",
      "                       n_jobs=-1)\n"
     ]
    },
    {
     "name": "stderr",
     "output_type": "stream",
     "text": [
      "[I 2024-11-07 19:19:51,045] Trial 1 finished with value: 0.5057407407407407 and parameters: {'max_depth': 33, 'max_features': 'log2', 'criterion': 'log_loss'}. Best is trial 0 with value: 0.5042592592592593.\n"
     ]
    },
    {
     "name": "stdout",
     "output_type": "stream",
     "text": [
      "RandomForestClassifier(criterion='log_loss', max_depth=44, n_jobs=-1)\n"
     ]
    },
    {
     "name": "stderr",
     "output_type": "stream",
     "text": [
      "[I 2024-11-07 19:19:52,051] Trial 2 finished with value: 0.5120370370370371 and parameters: {'max_depth': 44, 'max_features': 'sqrt', 'criterion': 'log_loss'}. Best is trial 0 with value: 0.5042592592592593.\n"
     ]
    },
    {
     "name": "stdout",
     "output_type": "stream",
     "text": [
      "RandomForestClassifier(criterion='entropy', max_depth=34, n_jobs=-1)\n"
     ]
    },
    {
     "name": "stderr",
     "output_type": "stream",
     "text": [
      "[I 2024-11-07 19:19:52,950] Trial 3 finished with value: 0.5048148148148148 and parameters: {'max_depth': 34, 'max_features': 'sqrt', 'criterion': 'entropy'}. Best is trial 0 with value: 0.5042592592592593.\n"
     ]
    },
    {
     "name": "stdout",
     "output_type": "stream",
     "text": [
      "RandomForestClassifier(criterion='entropy', max_depth=32, max_features='log2',\n",
      "                       n_jobs=-1)\n"
     ]
    },
    {
     "name": "stderr",
     "output_type": "stream",
     "text": [
      "[I 2024-11-07 19:19:53,801] Trial 4 finished with value: 0.5090740740740741 and parameters: {'max_depth': 32, 'max_features': 'log2', 'criterion': 'entropy'}. Best is trial 0 with value: 0.5042592592592593.\n"
     ]
    },
    {
     "name": "stdout",
     "output_type": "stream",
     "text": [
      "RandomForestClassifier(criterion='log_loss', max_depth=35, n_jobs=-1)\n"
     ]
    },
    {
     "name": "stderr",
     "output_type": "stream",
     "text": [
      "[I 2024-11-07 19:19:54,664] Trial 5 finished with value: 0.5133333333333333 and parameters: {'max_depth': 35, 'max_features': 'sqrt', 'criterion': 'log_loss'}. Best is trial 0 with value: 0.5042592592592593.\n"
     ]
    },
    {
     "name": "stdout",
     "output_type": "stream",
     "text": [
      "RandomForestClassifier(criterion='log_loss', max_depth=46, max_features='log2',\n",
      "                       n_jobs=-1)\n"
     ]
    },
    {
     "name": "stderr",
     "output_type": "stream",
     "text": [
      "[I 2024-11-07 19:19:55,508] Trial 6 finished with value: 0.5087037037037037 and parameters: {'max_depth': 46, 'max_features': 'log2', 'criterion': 'log_loss'}. Best is trial 0 with value: 0.5042592592592593.\n"
     ]
    },
    {
     "name": "stdout",
     "output_type": "stream",
     "text": [
      "RandomForestClassifier(criterion='log_loss', max_depth=22, max_features='log2',\n",
      "                       n_jobs=-1)\n"
     ]
    },
    {
     "name": "stderr",
     "output_type": "stream",
     "text": [
      "[I 2024-11-07 19:19:56,300] Trial 7 finished with value: 0.5124074074074074 and parameters: {'max_depth': 22, 'max_features': 'log2', 'criterion': 'log_loss'}. Best is trial 0 with value: 0.5042592592592593.\n"
     ]
    },
    {
     "name": "stdout",
     "output_type": "stream",
     "text": [
      "RandomForestClassifier(criterion='log_loss', max_depth=31, n_jobs=-1)\n"
     ]
    },
    {
     "name": "stderr",
     "output_type": "stream",
     "text": [
      "[I 2024-11-07 19:19:57,167] Trial 8 finished with value: 0.5109259259259259 and parameters: {'max_depth': 31, 'max_features': 'sqrt', 'criterion': 'log_loss'}. Best is trial 0 with value: 0.5042592592592593.\n"
     ]
    },
    {
     "name": "stdout",
     "output_type": "stream",
     "text": [
      "RandomForestClassifier(criterion='entropy', max_depth=40, max_features='log2',\n",
      "                       n_jobs=-1)\n"
     ]
    },
    {
     "name": "stderr",
     "output_type": "stream",
     "text": [
      "[I 2024-11-07 19:19:58,027] Trial 9 finished with value: 0.5066666666666667 and parameters: {'max_depth': 40, 'max_features': 'log2', 'criterion': 'entropy'}. Best is trial 0 with value: 0.5042592592592593.\n"
     ]
    },
    {
     "name": "stdout",
     "output_type": "stream",
     "text": [
      "RandomForestClassifier(criterion='entropy', max_depth=23, max_features='log2',\n",
      "                       n_jobs=-1)\n"
     ]
    },
    {
     "name": "stderr",
     "output_type": "stream",
     "text": [
      "[I 2024-11-07 19:19:58,817] Trial 10 finished with value: 0.5009259259259259 and parameters: {'max_depth': 23, 'max_features': 'log2', 'criterion': 'entropy'}. Best is trial 10 with value: 0.5009259259259259.\n"
     ]
    },
    {
     "name": "stdout",
     "output_type": "stream",
     "text": [
      "RandomForestClassifier(criterion='entropy', max_depth=22, max_features='log2',\n",
      "                       n_jobs=-1)\n"
     ]
    },
    {
     "name": "stderr",
     "output_type": "stream",
     "text": [
      "[I 2024-11-07 19:19:59,596] Trial 11 finished with value: 0.5161111111111111 and parameters: {'max_depth': 22, 'max_features': 'log2', 'criterion': 'entropy'}. Best is trial 10 with value: 0.5009259259259259.\n"
     ]
    },
    {
     "name": "stdout",
     "output_type": "stream",
     "text": [
      "RandomForestClassifier(criterion='entropy', max_depth=26, max_features='log2',\n",
      "                       n_jobs=-1)\n"
     ]
    },
    {
     "name": "stderr",
     "output_type": "stream",
     "text": [
      "[I 2024-11-07 19:20:00,582] Trial 12 finished with value: 0.5037037037037037 and parameters: {'max_depth': 26, 'max_features': 'log2', 'criterion': 'entropy'}. Best is trial 10 with value: 0.5009259259259259.\n"
     ]
    },
    {
     "name": "stdout",
     "output_type": "stream",
     "text": [
      "RandomForestClassifier(criterion='entropy', max_depth=26, max_features='log2',\n",
      "                       n_jobs=-1)\n"
     ]
    },
    {
     "name": "stderr",
     "output_type": "stream",
     "text": [
      "[I 2024-11-07 19:20:01,432] Trial 13 finished with value: 0.5135185185185185 and parameters: {'max_depth': 26, 'max_features': 'log2', 'criterion': 'entropy'}. Best is trial 10 with value: 0.5009259259259259.\n"
     ]
    },
    {
     "name": "stdout",
     "output_type": "stream",
     "text": [
      "RandomForestClassifier(criterion='entropy', max_depth=20, max_features='log2',\n",
      "                       n_jobs=-1)\n"
     ]
    },
    {
     "name": "stderr",
     "output_type": "stream",
     "text": [
      "[I 2024-11-07 19:20:02,185] Trial 14 finished with value: 0.5081481481481481 and parameters: {'max_depth': 20, 'max_features': 'log2', 'criterion': 'entropy'}. Best is trial 10 with value: 0.5009259259259259.\n"
     ]
    },
    {
     "name": "stdout",
     "output_type": "stream",
     "text": [
      "RandomForestClassifier(criterion='entropy', max_depth=28, max_features='log2',\n",
      "                       n_jobs=-1)\n"
     ]
    },
    {
     "name": "stderr",
     "output_type": "stream",
     "text": [
      "[I 2024-11-07 19:20:03,035] Trial 15 finished with value: 0.5103703703703704 and parameters: {'max_depth': 28, 'max_features': 'log2', 'criterion': 'entropy'}. Best is trial 10 with value: 0.5009259259259259.\n"
     ]
    },
    {
     "name": "stdout",
     "output_type": "stream",
     "text": [
      "RandomForestClassifier(criterion='entropy', max_depth=39, max_features='log2',\n",
      "                       n_jobs=-1)\n"
     ]
    },
    {
     "name": "stderr",
     "output_type": "stream",
     "text": [
      "[I 2024-11-07 19:20:03,919] Trial 16 finished with value: 0.49592592592592594 and parameters: {'max_depth': 39, 'max_features': 'log2', 'criterion': 'entropy'}. Best is trial 16 with value: 0.49592592592592594.\n"
     ]
    },
    {
     "name": "stdout",
     "output_type": "stream",
     "text": [
      "RandomForestClassifier(criterion='entropy', max_depth=39, max_features='log2',\n",
      "                       n_jobs=-1)\n"
     ]
    },
    {
     "name": "stderr",
     "output_type": "stream",
     "text": [
      "[I 2024-11-07 19:20:04,792] Trial 17 finished with value: 0.5053703703703704 and parameters: {'max_depth': 39, 'max_features': 'log2', 'criterion': 'entropy'}. Best is trial 16 with value: 0.49592592592592594.\n"
     ]
    },
    {
     "name": "stdout",
     "output_type": "stream",
     "text": [
      "RandomForestClassifier(criterion='entropy', max_depth=39, n_jobs=-1)\n"
     ]
    },
    {
     "name": "stderr",
     "output_type": "stream",
     "text": [
      "[I 2024-11-07 19:20:05,750] Trial 18 finished with value: 0.5053703703703704 and parameters: {'max_depth': 39, 'max_features': 'sqrt', 'criterion': 'entropy'}. Best is trial 16 with value: 0.49592592592592594.\n"
     ]
    },
    {
     "name": "stdout",
     "output_type": "stream",
     "text": [
      "RandomForestClassifier(criterion='entropy', max_depth=50, max_features='log2',\n",
      "                       n_jobs=-1)\n"
     ]
    },
    {
     "name": "stderr",
     "output_type": "stream",
     "text": [
      "[I 2024-11-07 19:20:06,684] Trial 19 finished with value: 0.5094444444444445 and parameters: {'max_depth': 50, 'max_features': 'log2', 'criterion': 'entropy'}. Best is trial 16 with value: 0.49592592592592594.\n"
     ]
    },
    {
     "name": "stdout",
     "output_type": "stream",
     "text": [
      "RandomForestClassifier(criterion='entropy', max_depth=43, max_features='log2',\n",
      "                       n_jobs=-1)\n"
     ]
    },
    {
     "name": "stderr",
     "output_type": "stream",
     "text": [
      "[I 2024-11-07 19:20:07,566] Trial 20 finished with value: 0.51 and parameters: {'max_depth': 43, 'max_features': 'log2', 'criterion': 'entropy'}. Best is trial 16 with value: 0.49592592592592594.\n"
     ]
    },
    {
     "name": "stdout",
     "output_type": "stream",
     "text": [
      "RandomForestClassifier(criterion='entropy', max_depth=24, max_features='log2',\n",
      "                       n_jobs=-1)\n"
     ]
    },
    {
     "name": "stderr",
     "output_type": "stream",
     "text": [
      "[I 2024-11-07 19:20:08,377] Trial 21 finished with value: 0.5037037037037037 and parameters: {'max_depth': 24, 'max_features': 'log2', 'criterion': 'entropy'}. Best is trial 16 with value: 0.49592592592592594.\n"
     ]
    },
    {
     "name": "stdout",
     "output_type": "stream",
     "text": [
      "RandomForestClassifier(criterion='entropy', max_depth=29, max_features='log2',\n",
      "                       n_jobs=-1)\n"
     ]
    },
    {
     "name": "stderr",
     "output_type": "stream",
     "text": [
      "[I 2024-11-07 19:20:09,218] Trial 22 finished with value: 0.5031481481481481 and parameters: {'max_depth': 29, 'max_features': 'log2', 'criterion': 'entropy'}. Best is trial 16 with value: 0.49592592592592594.\n"
     ]
    },
    {
     "name": "stdout",
     "output_type": "stream",
     "text": [
      "RandomForestClassifier(criterion='entropy', max_depth=31, max_features='log2',\n",
      "                       n_jobs=-1)\n"
     ]
    },
    {
     "name": "stderr",
     "output_type": "stream",
     "text": [
      "[I 2024-11-07 19:20:10,073] Trial 23 finished with value: 0.5053703703703704 and parameters: {'max_depth': 31, 'max_features': 'log2', 'criterion': 'entropy'}. Best is trial 16 with value: 0.49592592592592594.\n"
     ]
    },
    {
     "name": "stdout",
     "output_type": "stream",
     "text": [
      "RandomForestClassifier(criterion='entropy', max_depth=36, max_features='log2',\n",
      "                       n_jobs=-1)\n"
     ]
    },
    {
     "name": "stderr",
     "output_type": "stream",
     "text": [
      "[I 2024-11-07 19:20:10,967] Trial 24 finished with value: 0.5009259259259259 and parameters: {'max_depth': 36, 'max_features': 'log2', 'criterion': 'entropy'}. Best is trial 16 with value: 0.49592592592592594.\n"
     ]
    },
    {
     "name": "stdout",
     "output_type": "stream",
     "text": [
      "RandomForestClassifier(criterion='entropy', max_depth=36, max_features='log2',\n",
      "                       n_jobs=-1)\n"
     ]
    },
    {
     "name": "stderr",
     "output_type": "stream",
     "text": [
      "[I 2024-11-07 19:20:11,854] Trial 25 finished with value: 0.5098148148148148 and parameters: {'max_depth': 36, 'max_features': 'log2', 'criterion': 'entropy'}. Best is trial 16 with value: 0.49592592592592594.\n"
     ]
    },
    {
     "name": "stdout",
     "output_type": "stream",
     "text": [
      "RandomForestClassifier(criterion='entropy', max_depth=38, n_jobs=-1)\n"
     ]
    },
    {
     "name": "stderr",
     "output_type": "stream",
     "text": [
      "[I 2024-11-07 19:20:12,780] Trial 26 finished with value: 0.5109259259259259 and parameters: {'max_depth': 38, 'max_features': 'sqrt', 'criterion': 'entropy'}. Best is trial 16 with value: 0.49592592592592594.\n"
     ]
    },
    {
     "name": "stdout",
     "output_type": "stream",
     "text": [
      "RandomForestClassifier(criterion='entropy', max_depth=42, max_features='log2',\n",
      "                       n_jobs=-1)\n"
     ]
    },
    {
     "name": "stderr",
     "output_type": "stream",
     "text": [
      "[I 2024-11-07 19:20:13,664] Trial 27 finished with value: 0.5068518518518519 and parameters: {'max_depth': 42, 'max_features': 'log2', 'criterion': 'entropy'}. Best is trial 16 with value: 0.49592592592592594.\n"
     ]
    },
    {
     "name": "stdout",
     "output_type": "stream",
     "text": [
      "RandomForestClassifier(criterion='entropy', max_depth=36, max_features='log2',\n",
      "                       n_jobs=-1)\n"
     ]
    },
    {
     "name": "stderr",
     "output_type": "stream",
     "text": [
      "[I 2024-11-07 19:20:14,527] Trial 28 finished with value: 0.505 and parameters: {'max_depth': 36, 'max_features': 'log2', 'criterion': 'entropy'}. Best is trial 16 with value: 0.49592592592592594.\n"
     ]
    },
    {
     "name": "stdout",
     "output_type": "stream",
     "text": [
      "RandomForestClassifier(criterion='entropy', max_depth=47, max_features='log2',\n",
      "                       n_jobs=-1)\n"
     ]
    },
    {
     "name": "stderr",
     "output_type": "stream",
     "text": [
      "[I 2024-11-07 19:20:15,419] Trial 29 finished with value: 0.5077777777777778 and parameters: {'max_depth': 47, 'max_features': 'log2', 'criterion': 'entropy'}. Best is trial 16 with value: 0.49592592592592594.\n"
     ]
    },
    {
     "name": "stdout",
     "output_type": "stream",
     "text": [
      "RandomForestClassifier(criterion='entropy', max_depth=37, max_features='log2',\n",
      "                       n_jobs=-1)\n"
     ]
    },
    {
     "name": "stderr",
     "output_type": "stream",
     "text": [
      "[I 2024-11-07 19:20:16,299] Trial 30 finished with value: 0.5175925925925926 and parameters: {'max_depth': 37, 'max_features': 'log2', 'criterion': 'entropy'}. Best is trial 16 with value: 0.49592592592592594.\n"
     ]
    },
    {
     "name": "stdout",
     "output_type": "stream",
     "text": [
      "RandomForestClassifier(criterion='entropy', max_depth=29, max_features='log2',\n",
      "                       n_jobs=-1)\n"
     ]
    },
    {
     "name": "stderr",
     "output_type": "stream",
     "text": [
      "[I 2024-11-07 19:20:17,171] Trial 31 finished with value: 0.5075925925925926 and parameters: {'max_depth': 29, 'max_features': 'log2', 'criterion': 'entropy'}. Best is trial 16 with value: 0.49592592592592594.\n"
     ]
    },
    {
     "name": "stdout",
     "output_type": "stream",
     "text": [
      "RandomForestClassifier(criterion='entropy', max_depth=30, max_features='log2',\n",
      "                       n_jobs=-1)\n"
     ]
    },
    {
     "name": "stderr",
     "output_type": "stream",
     "text": [
      "[I 2024-11-07 19:20:18,007] Trial 32 finished with value: 0.5007407407407407 and parameters: {'max_depth': 30, 'max_features': 'log2', 'criterion': 'entropy'}. Best is trial 16 with value: 0.49592592592592594.\n"
     ]
    },
    {
     "name": "stdout",
     "output_type": "stream",
     "text": [
      "RandomForestClassifier(criterion='entropy', max_depth=41, max_features='log2',\n",
      "                       n_jobs=-1)\n"
     ]
    },
    {
     "name": "stderr",
     "output_type": "stream",
     "text": [
      "[I 2024-11-07 19:20:18,866] Trial 33 finished with value: 0.515 and parameters: {'max_depth': 41, 'max_features': 'log2', 'criterion': 'entropy'}. Best is trial 16 with value: 0.49592592592592594.\n"
     ]
    },
    {
     "name": "stdout",
     "output_type": "stream",
     "text": [
      "RandomForestClassifier(criterion='log_loss', max_depth=33, max_features='log2',\n",
      "                       n_jobs=-1)\n"
     ]
    },
    {
     "name": "stderr",
     "output_type": "stream",
     "text": [
      "[I 2024-11-07 19:20:19,718] Trial 34 finished with value: 0.5068518518518519 and parameters: {'max_depth': 33, 'max_features': 'log2', 'criterion': 'log_loss'}. Best is trial 16 with value: 0.49592592592592594.\n"
     ]
    },
    {
     "name": "stdout",
     "output_type": "stream",
     "text": [
      "RandomForestClassifier(criterion='entropy', max_depth=34, n_jobs=-1)\n"
     ]
    },
    {
     "name": "stderr",
     "output_type": "stream",
     "text": [
      "[I 2024-11-07 19:20:20,623] Trial 35 finished with value: 0.5096296296296297 and parameters: {'max_depth': 34, 'max_features': 'sqrt', 'criterion': 'entropy'}. Best is trial 16 with value: 0.49592592592592594.\n"
     ]
    },
    {
     "name": "stdout",
     "output_type": "stream",
     "text": [
      "RandomForestClassifier(criterion='entropy', max_depth=24, max_features='log2',\n",
      "                       n_jobs=-1)\n"
     ]
    },
    {
     "name": "stderr",
     "output_type": "stream",
     "text": [
      "[I 2024-11-07 19:20:21,442] Trial 36 finished with value: 0.5025925925925926 and parameters: {'max_depth': 24, 'max_features': 'log2', 'criterion': 'entropy'}. Best is trial 16 with value: 0.49592592592592594.\n"
     ]
    },
    {
     "name": "stdout",
     "output_type": "stream",
     "text": [
      "RandomForestClassifier(criterion='log_loss', max_depth=30, max_features='log2',\n",
      "                       n_jobs=-1)\n"
     ]
    },
    {
     "name": "stderr",
     "output_type": "stream",
     "text": [
      "[I 2024-11-07 19:20:22,320] Trial 37 finished with value: 0.5077777777777778 and parameters: {'max_depth': 30, 'max_features': 'log2', 'criterion': 'log_loss'}. Best is trial 16 with value: 0.49592592592592594.\n"
     ]
    },
    {
     "name": "stdout",
     "output_type": "stream",
     "text": [
      "RandomForestClassifier(criterion='entropy', max_depth=33, n_jobs=-1)\n"
     ]
    },
    {
     "name": "stderr",
     "output_type": "stream",
     "text": [
      "[I 2024-11-07 19:20:23,166] Trial 38 finished with value: 0.5070370370370371 and parameters: {'max_depth': 33, 'max_features': 'sqrt', 'criterion': 'entropy'}. Best is trial 16 with value: 0.49592592592592594.\n"
     ]
    },
    {
     "name": "stdout",
     "output_type": "stream",
     "text": [
      "RandomForestClassifier(criterion='log_loss', max_depth=20, max_features='log2',\n",
      "                       n_jobs=-1)\n"
     ]
    },
    {
     "name": "stderr",
     "output_type": "stream",
     "text": [
      "[I 2024-11-07 19:20:23,915] Trial 39 finished with value: 0.5116666666666667 and parameters: {'max_depth': 20, 'max_features': 'log2', 'criterion': 'log_loss'}. Best is trial 16 with value: 0.49592592592592594.\n"
     ]
    },
    {
     "name": "stdout",
     "output_type": "stream",
     "text": [
      "RandomForestClassifier(criterion='entropy', max_depth=45, max_features='log2',\n",
      "                       n_jobs=-1)\n"
     ]
    },
    {
     "name": "stderr",
     "output_type": "stream",
     "text": [
      "[I 2024-11-07 19:20:24,778] Trial 40 finished with value: 0.5088888888888888 and parameters: {'max_depth': 45, 'max_features': 'log2', 'criterion': 'entropy'}. Best is trial 16 with value: 0.49592592592592594.\n"
     ]
    },
    {
     "name": "stdout",
     "output_type": "stream",
     "text": [
      "RandomForestClassifier(criterion='entropy', max_depth=25, max_features='log2',\n",
      "                       n_jobs=-1)\n"
     ]
    },
    {
     "name": "stderr",
     "output_type": "stream",
     "text": [
      "[I 2024-11-07 19:20:25,597] Trial 41 finished with value: 0.49796296296296294 and parameters: {'max_depth': 25, 'max_features': 'log2', 'criterion': 'entropy'}. Best is trial 16 with value: 0.49592592592592594.\n"
     ]
    },
    {
     "name": "stdout",
     "output_type": "stream",
     "text": [
      "RandomForestClassifier(criterion='entropy', max_depth=23, max_features='log2',\n",
      "                       n_jobs=-1)\n"
     ]
    },
    {
     "name": "stderr",
     "output_type": "stream",
     "text": [
      "[I 2024-11-07 19:20:26,397] Trial 42 finished with value: 0.5098148148148148 and parameters: {'max_depth': 23, 'max_features': 'log2', 'criterion': 'entropy'}. Best is trial 16 with value: 0.49592592592592594.\n"
     ]
    },
    {
     "name": "stdout",
     "output_type": "stream",
     "text": [
      "RandomForestClassifier(criterion='entropy', max_depth=26, max_features='log2',\n",
      "                       n_jobs=-1)\n"
     ]
    },
    {
     "name": "stderr",
     "output_type": "stream",
     "text": [
      "[I 2024-11-07 19:20:27,305] Trial 43 finished with value: 0.5007407407407407 and parameters: {'max_depth': 26, 'max_features': 'log2', 'criterion': 'entropy'}. Best is trial 16 with value: 0.49592592592592594.\n"
     ]
    },
    {
     "name": "stdout",
     "output_type": "stream",
     "text": [
      "RandomForestClassifier(criterion='entropy', max_depth=25, max_features='log2',\n",
      "                       n_jobs=-1)\n"
     ]
    },
    {
     "name": "stderr",
     "output_type": "stream",
     "text": [
      "[I 2024-11-07 19:20:28,097] Trial 44 finished with value: 0.5018518518518519 and parameters: {'max_depth': 25, 'max_features': 'log2', 'criterion': 'entropy'}. Best is trial 16 with value: 0.49592592592592594.\n"
     ]
    },
    {
     "name": "stdout",
     "output_type": "stream",
     "text": [
      "RandomForestClassifier(criterion='log_loss', max_depth=27, max_features='log2',\n",
      "                       n_jobs=-1)\n"
     ]
    },
    {
     "name": "stderr",
     "output_type": "stream",
     "text": [
      "[I 2024-11-07 19:20:28,939] Trial 45 finished with value: 0.5020370370370371 and parameters: {'max_depth': 27, 'max_features': 'log2', 'criterion': 'log_loss'}. Best is trial 16 with value: 0.49592592592592594.\n"
     ]
    },
    {
     "name": "stdout",
     "output_type": "stream",
     "text": [
      "RandomForestClassifier(criterion='entropy', max_depth=22, n_jobs=-1)\n"
     ]
    },
    {
     "name": "stderr",
     "output_type": "stream",
     "text": [
      "[I 2024-11-07 19:20:29,715] Trial 46 finished with value: 0.5090740740740741 and parameters: {'max_depth': 22, 'max_features': 'sqrt', 'criterion': 'entropy'}. Best is trial 16 with value: 0.49592592592592594.\n"
     ]
    },
    {
     "name": "stdout",
     "output_type": "stream",
     "text": [
      "RandomForestClassifier(criterion='entropy', max_depth=27, max_features='log2',\n",
      "                       n_jobs=-1)\n"
     ]
    },
    {
     "name": "stderr",
     "output_type": "stream",
     "text": [
      "[I 2024-11-07 19:20:30,584] Trial 47 finished with value: 0.5159259259259259 and parameters: {'max_depth': 27, 'max_features': 'log2', 'criterion': 'entropy'}. Best is trial 16 with value: 0.49592592592592594.\n"
     ]
    },
    {
     "name": "stdout",
     "output_type": "stream",
     "text": [
      "RandomForestClassifier(criterion='entropy', max_depth=25, max_features='log2',\n",
      "                       n_jobs=-1)\n"
     ]
    },
    {
     "name": "stderr",
     "output_type": "stream",
     "text": [
      "[I 2024-11-07 19:20:31,409] Trial 48 finished with value: 0.5148148148148148 and parameters: {'max_depth': 25, 'max_features': 'log2', 'criterion': 'entropy'}. Best is trial 16 with value: 0.49592592592592594.\n"
     ]
    },
    {
     "name": "stdout",
     "output_type": "stream",
     "text": [
      "RandomForestClassifier(criterion='entropy', max_depth=21, max_features='log2',\n",
      "                       n_jobs=-1)\n"
     ]
    },
    {
     "name": "stderr",
     "output_type": "stream",
     "text": [
      "[I 2024-11-07 19:20:32,175] Trial 49 finished with value: 0.5038888888888889 and parameters: {'max_depth': 21, 'max_features': 'log2', 'criterion': 'entropy'}. Best is trial 16 with value: 0.49592592592592594.\n"
     ]
    },
    {
     "name": "stdout",
     "output_type": "stream",
     "text": [
      "RandomForestClassifier(criterion='log_loss', max_depth=28, max_features='log2',\n",
      "                       n_jobs=-1)\n"
     ]
    },
    {
     "name": "stderr",
     "output_type": "stream",
     "text": [
      "[I 2024-11-07 19:20:33,025] Trial 50 finished with value: 0.5127777777777778 and parameters: {'max_depth': 28, 'max_features': 'log2', 'criterion': 'log_loss'}. Best is trial 16 with value: 0.49592592592592594.\n"
     ]
    },
    {
     "name": "stdout",
     "output_type": "stream",
     "text": [
      "RandomForestClassifier(criterion='entropy', max_depth=23, max_features='log2',\n",
      "                       n_jobs=-1)\n"
     ]
    },
    {
     "name": "stderr",
     "output_type": "stream",
     "text": [
      "[I 2024-11-07 19:20:33,811] Trial 51 finished with value: 0.5055555555555555 and parameters: {'max_depth': 23, 'max_features': 'log2', 'criterion': 'entropy'}. Best is trial 16 with value: 0.49592592592592594.\n"
     ]
    },
    {
     "name": "stdout",
     "output_type": "stream",
     "text": [
      "RandomForestClassifier(criterion='entropy', max_depth=31, max_features='log2',\n",
      "                       n_jobs=-1)\n"
     ]
    },
    {
     "name": "stderr",
     "output_type": "stream",
     "text": [
      "[I 2024-11-07 19:20:34,652] Trial 52 finished with value: 0.5118518518518519 and parameters: {'max_depth': 31, 'max_features': 'log2', 'criterion': 'entropy'}. Best is trial 16 with value: 0.49592592592592594.\n"
     ]
    },
    {
     "name": "stdout",
     "output_type": "stream",
     "text": [
      "RandomForestClassifier(criterion='entropy', max_depth=26, max_features='log2',\n",
      "                       n_jobs=-1)\n"
     ]
    },
    {
     "name": "stderr",
     "output_type": "stream",
     "text": [
      "[I 2024-11-07 19:20:35,478] Trial 53 finished with value: 0.5137037037037037 and parameters: {'max_depth': 26, 'max_features': 'log2', 'criterion': 'entropy'}. Best is trial 16 with value: 0.49592592592592594.\n"
     ]
    },
    {
     "name": "stdout",
     "output_type": "stream",
     "text": [
      "RandomForestClassifier(criterion='entropy', max_depth=35, max_features='log2',\n",
      "                       n_jobs=-1)\n"
     ]
    },
    {
     "name": "stderr",
     "output_type": "stream",
     "text": [
      "[I 2024-11-07 19:20:36,375] Trial 54 finished with value: 0.5098148148148148 and parameters: {'max_depth': 35, 'max_features': 'log2', 'criterion': 'entropy'}. Best is trial 16 with value: 0.49592592592592594.\n"
     ]
    },
    {
     "name": "stdout",
     "output_type": "stream",
     "text": [
      "RandomForestClassifier(criterion='entropy', max_depth=25, max_features='log2',\n",
      "                       n_jobs=-1)\n"
     ]
    },
    {
     "name": "stderr",
     "output_type": "stream",
     "text": [
      "[I 2024-11-07 19:20:37,208] Trial 55 finished with value: 0.51 and parameters: {'max_depth': 25, 'max_features': 'log2', 'criterion': 'entropy'}. Best is trial 16 with value: 0.49592592592592594.\n"
     ]
    },
    {
     "name": "stdout",
     "output_type": "stream",
     "text": [
      "RandomForestClassifier(criterion='entropy', max_depth=38, n_jobs=-1)\n"
     ]
    },
    {
     "name": "stderr",
     "output_type": "stream",
     "text": [
      "[I 2024-11-07 19:20:38,090] Trial 56 finished with value: 0.5122222222222222 and parameters: {'max_depth': 38, 'max_features': 'sqrt', 'criterion': 'entropy'}. Best is trial 16 with value: 0.49592592592592594.\n"
     ]
    },
    {
     "name": "stdout",
     "output_type": "stream",
     "text": [
      "RandomForestClassifier(criterion='entropy', max_depth=40, max_features='log2',\n",
      "                       n_jobs=-1)\n"
     ]
    },
    {
     "name": "stderr",
     "output_type": "stream",
     "text": [
      "[I 2024-11-07 19:20:38,947] Trial 57 finished with value: 0.5077777777777778 and parameters: {'max_depth': 40, 'max_features': 'log2', 'criterion': 'entropy'}. Best is trial 16 with value: 0.49592592592592594.\n"
     ]
    },
    {
     "name": "stdout",
     "output_type": "stream",
     "text": [
      "RandomForestClassifier(criterion='entropy', max_depth=29, max_features='log2',\n",
      "                       n_jobs=-1)\n"
     ]
    },
    {
     "name": "stderr",
     "output_type": "stream",
     "text": [
      "[I 2024-11-07 19:20:39,836] Trial 58 finished with value: 0.5170370370370371 and parameters: {'max_depth': 29, 'max_features': 'log2', 'criterion': 'entropy'}. Best is trial 16 with value: 0.49592592592592594.\n"
     ]
    },
    {
     "name": "stdout",
     "output_type": "stream",
     "text": [
      "RandomForestClassifier(criterion='entropy', max_depth=32, max_features='log2',\n",
      "                       n_jobs=-1)\n"
     ]
    },
    {
     "name": "stderr",
     "output_type": "stream",
     "text": [
      "[I 2024-11-07 19:20:40,677] Trial 59 finished with value: 0.4988888888888889 and parameters: {'max_depth': 32, 'max_features': 'log2', 'criterion': 'entropy'}. Best is trial 16 with value: 0.49592592592592594.\n"
     ]
    },
    {
     "name": "stdout",
     "output_type": "stream",
     "text": [
      "RandomForestClassifier(criterion='entropy', max_depth=28, max_features='log2',\n",
      "                       n_jobs=-1)\n"
     ]
    },
    {
     "name": "stderr",
     "output_type": "stream",
     "text": [
      "[I 2024-11-07 19:20:41,535] Trial 60 finished with value: 0.5092592592592593 and parameters: {'max_depth': 28, 'max_features': 'log2', 'criterion': 'entropy'}. Best is trial 16 with value: 0.49592592592592594.\n"
     ]
    },
    {
     "name": "stdout",
     "output_type": "stream",
     "text": [
      "RandomForestClassifier(criterion='entropy', max_depth=33, max_features='log2',\n",
      "                       n_jobs=-1)\n"
     ]
    },
    {
     "name": "stderr",
     "output_type": "stream",
     "text": [
      "[I 2024-11-07 19:20:42,430] Trial 61 finished with value: 0.5083333333333333 and parameters: {'max_depth': 33, 'max_features': 'log2', 'criterion': 'entropy'}. Best is trial 16 with value: 0.49592592592592594.\n"
     ]
    },
    {
     "name": "stdout",
     "output_type": "stream",
     "text": [
      "RandomForestClassifier(criterion='entropy', max_depth=32, max_features='log2',\n",
      "                       n_jobs=-1)\n"
     ]
    },
    {
     "name": "stderr",
     "output_type": "stream",
     "text": [
      "[I 2024-11-07 19:20:43,304] Trial 62 finished with value: 0.5014814814814815 and parameters: {'max_depth': 32, 'max_features': 'log2', 'criterion': 'entropy'}. Best is trial 16 with value: 0.49592592592592594.\n"
     ]
    },
    {
     "name": "stdout",
     "output_type": "stream",
     "text": [
      "RandomForestClassifier(criterion='entropy', max_depth=35, max_features='log2',\n",
      "                       n_jobs=-1)\n"
     ]
    },
    {
     "name": "stderr",
     "output_type": "stream",
     "text": [
      "[I 2024-11-07 19:20:44,164] Trial 63 finished with value: 0.49574074074074076 and parameters: {'max_depth': 35, 'max_features': 'log2', 'criterion': 'entropy'}. Best is trial 63 with value: 0.49574074074074076.\n"
     ]
    },
    {
     "name": "stdout",
     "output_type": "stream",
     "text": [
      "RandomForestClassifier(criterion='entropy', max_depth=31, max_features='log2',\n",
      "                       n_jobs=-1)\n"
     ]
    },
    {
     "name": "stderr",
     "output_type": "stream",
     "text": [
      "[I 2024-11-07 19:20:45,034] Trial 64 finished with value: 0.51 and parameters: {'max_depth': 31, 'max_features': 'log2', 'criterion': 'entropy'}. Best is trial 63 with value: 0.49574074074074076.\n"
     ]
    },
    {
     "name": "stdout",
     "output_type": "stream",
     "text": [
      "RandomForestClassifier(criterion='entropy', max_depth=24, max_features='log2',\n",
      "                       n_jobs=-1)\n"
     ]
    },
    {
     "name": "stderr",
     "output_type": "stream",
     "text": [
      "[I 2024-11-07 19:20:45,859] Trial 65 finished with value: 0.5090740740740741 and parameters: {'max_depth': 24, 'max_features': 'log2', 'criterion': 'entropy'}. Best is trial 63 with value: 0.49574074074074076.\n"
     ]
    },
    {
     "name": "stdout",
     "output_type": "stream",
     "text": [
      "RandomForestClassifier(criterion='entropy', max_depth=35, max_features='log2',\n",
      "                       n_jobs=-1)\n"
     ]
    },
    {
     "name": "stderr",
     "output_type": "stream",
     "text": [
      "[I 2024-11-07 19:20:46,745] Trial 66 finished with value: 0.5024074074074074 and parameters: {'max_depth': 35, 'max_features': 'log2', 'criterion': 'entropy'}. Best is trial 63 with value: 0.49574074074074076.\n"
     ]
    },
    {
     "name": "stdout",
     "output_type": "stream",
     "text": [
      "RandomForestClassifier(criterion='entropy', max_depth=30, max_features='log2',\n",
      "                       n_jobs=-1)\n"
     ]
    },
    {
     "name": "stderr",
     "output_type": "stream",
     "text": [
      "[I 2024-11-07 19:20:47,619] Trial 67 finished with value: 0.5146296296296297 and parameters: {'max_depth': 30, 'max_features': 'log2', 'criterion': 'entropy'}. Best is trial 63 with value: 0.49574074074074076.\n"
     ]
    },
    {
     "name": "stdout",
     "output_type": "stream",
     "text": [
      "RandomForestClassifier(criterion='entropy', max_depth=34, n_jobs=-1)\n"
     ]
    },
    {
     "name": "stderr",
     "output_type": "stream",
     "text": [
      "[I 2024-11-07 19:20:48,476] Trial 68 finished with value: 0.5053703703703704 and parameters: {'max_depth': 34, 'max_features': 'sqrt', 'criterion': 'entropy'}. Best is trial 63 with value: 0.49574074074074076.\n"
     ]
    },
    {
     "name": "stdout",
     "output_type": "stream",
     "text": [
      "RandomForestClassifier(criterion='log_loss', max_depth=37, max_features='log2',\n",
      "                       n_jobs=-1)\n"
     ]
    },
    {
     "name": "stderr",
     "output_type": "stream",
     "text": [
      "[I 2024-11-07 19:20:49,404] Trial 69 finished with value: 0.5083333333333333 and parameters: {'max_depth': 37, 'max_features': 'log2', 'criterion': 'log_loss'}. Best is trial 63 with value: 0.49574074074074076.\n"
     ]
    },
    {
     "name": "stdout",
     "output_type": "stream",
     "text": [
      "RandomForestClassifier(criterion='entropy', max_depth=32, max_features='log2',\n",
      "                       n_jobs=-1)\n"
     ]
    },
    {
     "name": "stderr",
     "output_type": "stream",
     "text": [
      "[I 2024-11-07 19:20:50,251] Trial 70 finished with value: 0.51 and parameters: {'max_depth': 32, 'max_features': 'log2', 'criterion': 'entropy'}. Best is trial 63 with value: 0.49574074074074076.\n"
     ]
    },
    {
     "name": "stdout",
     "output_type": "stream",
     "text": [
      "RandomForestClassifier(criterion='entropy', max_depth=36, max_features='log2',\n",
      "                       n_jobs=-1)\n"
     ]
    },
    {
     "name": "stderr",
     "output_type": "stream",
     "text": [
      "[I 2024-11-07 19:20:51,113] Trial 71 finished with value: 0.5144444444444445 and parameters: {'max_depth': 36, 'max_features': 'log2', 'criterion': 'entropy'}. Best is trial 63 with value: 0.49574074074074076.\n"
     ]
    },
    {
     "name": "stdout",
     "output_type": "stream",
     "text": [
      "RandomForestClassifier(criterion='entropy', max_depth=39, max_features='log2',\n",
      "                       n_jobs=-1)\n"
     ]
    },
    {
     "name": "stderr",
     "output_type": "stream",
     "text": [
      "[I 2024-11-07 19:20:51,980] Trial 72 finished with value: 0.5070370370370371 and parameters: {'max_depth': 39, 'max_features': 'log2', 'criterion': 'entropy'}. Best is trial 63 with value: 0.49574074074074076.\n"
     ]
    },
    {
     "name": "stdout",
     "output_type": "stream",
     "text": [
      "RandomForestClassifier(criterion='entropy', max_depth=27, max_features='log2',\n",
      "                       n_jobs=-1)\n"
     ]
    },
    {
     "name": "stderr",
     "output_type": "stream",
     "text": [
      "[I 2024-11-07 19:20:52,809] Trial 73 finished with value: 0.5116666666666667 and parameters: {'max_depth': 27, 'max_features': 'log2', 'criterion': 'entropy'}. Best is trial 63 with value: 0.49574074074074076.\n"
     ]
    },
    {
     "name": "stdout",
     "output_type": "stream",
     "text": [
      "RandomForestClassifier(criterion='entropy', max_depth=37, max_features='log2',\n",
      "                       n_jobs=-1)\n"
     ]
    },
    {
     "name": "stderr",
     "output_type": "stream",
     "text": [
      "[I 2024-11-07 19:20:53,682] Trial 74 finished with value: 0.5038888888888889 and parameters: {'max_depth': 37, 'max_features': 'log2', 'criterion': 'entropy'}. Best is trial 63 with value: 0.49574074074074076.\n"
     ]
    },
    {
     "name": "stdout",
     "output_type": "stream",
     "text": [
      "RandomForestClassifier(criterion='entropy', max_depth=41, max_features='log2',\n",
      "                       n_jobs=-1)\n"
     ]
    },
    {
     "name": "stderr",
     "output_type": "stream",
     "text": [
      "[I 2024-11-07 19:20:54,564] Trial 75 finished with value: 0.507962962962963 and parameters: {'max_depth': 41, 'max_features': 'log2', 'criterion': 'entropy'}. Best is trial 63 with value: 0.49574074074074076.\n"
     ]
    },
    {
     "name": "stdout",
     "output_type": "stream",
     "text": [
      "RandomForestClassifier(criterion='entropy', max_depth=23, max_features='log2',\n",
      "                       n_jobs=-1)\n"
     ]
    },
    {
     "name": "stderr",
     "output_type": "stream",
     "text": [
      "[I 2024-11-07 19:20:55,373] Trial 76 finished with value: 0.5038888888888889 and parameters: {'max_depth': 23, 'max_features': 'log2', 'criterion': 'entropy'}. Best is trial 63 with value: 0.49574074074074076.\n"
     ]
    },
    {
     "name": "stdout",
     "output_type": "stream",
     "text": [
      "RandomForestClassifier(criterion='entropy', max_depth=30, max_features='log2',\n",
      "                       n_jobs=-1)\n"
     ]
    },
    {
     "name": "stderr",
     "output_type": "stream",
     "text": [
      "[I 2024-11-07 19:20:56,210] Trial 77 finished with value: 0.5068518518518519 and parameters: {'max_depth': 30, 'max_features': 'log2', 'criterion': 'entropy'}. Best is trial 63 with value: 0.49574074074074076.\n"
     ]
    },
    {
     "name": "stdout",
     "output_type": "stream",
     "text": [
      "RandomForestClassifier(criterion='entropy', max_depth=21, max_features='log2',\n",
      "                       n_jobs=-1)\n"
     ]
    },
    {
     "name": "stderr",
     "output_type": "stream",
     "text": [
      "[I 2024-11-07 19:20:56,974] Trial 78 finished with value: 0.5048148148148148 and parameters: {'max_depth': 21, 'max_features': 'log2', 'criterion': 'entropy'}. Best is trial 63 with value: 0.49574074074074076.\n"
     ]
    },
    {
     "name": "stdout",
     "output_type": "stream",
     "text": [
      "RandomForestClassifier(criterion='entropy', max_depth=38, n_jobs=-1)\n"
     ]
    },
    {
     "name": "stderr",
     "output_type": "stream",
     "text": [
      "[I 2024-11-07 19:20:57,877] Trial 79 finished with value: 0.5009259259259259 and parameters: {'max_depth': 38, 'max_features': 'sqrt', 'criterion': 'entropy'}. Best is trial 63 with value: 0.49574074074074076.\n"
     ]
    },
    {
     "name": "stdout",
     "output_type": "stream",
     "text": [
      "RandomForestClassifier(criterion='entropy', max_depth=26, max_features='log2',\n",
      "                       n_jobs=-1)\n"
     ]
    },
    {
     "name": "stderr",
     "output_type": "stream",
     "text": [
      "[I 2024-11-07 19:20:58,721] Trial 80 finished with value: 0.51 and parameters: {'max_depth': 26, 'max_features': 'log2', 'criterion': 'entropy'}. Best is trial 63 with value: 0.49574074074074076.\n"
     ]
    },
    {
     "name": "stdout",
     "output_type": "stream",
     "text": [
      "RandomForestClassifier(criterion='entropy', max_depth=38, n_jobs=-1)\n"
     ]
    },
    {
     "name": "stderr",
     "output_type": "stream",
     "text": [
      "[I 2024-11-07 19:20:59,609] Trial 81 finished with value: 0.5116666666666667 and parameters: {'max_depth': 38, 'max_features': 'sqrt', 'criterion': 'entropy'}. Best is trial 63 with value: 0.49574074074074076.\n"
     ]
    },
    {
     "name": "stdout",
     "output_type": "stream",
     "text": [
      "RandomForestClassifier(criterion='entropy', max_depth=36, n_jobs=-1)\n"
     ]
    },
    {
     "name": "stderr",
     "output_type": "stream",
     "text": [
      "[I 2024-11-07 19:21:00,483] Trial 82 finished with value: 0.5175925925925926 and parameters: {'max_depth': 36, 'max_features': 'sqrt', 'criterion': 'entropy'}. Best is trial 63 with value: 0.49574074074074076.\n"
     ]
    },
    {
     "name": "stdout",
     "output_type": "stream",
     "text": [
      "RandomForestClassifier(criterion='entropy', max_depth=40, n_jobs=-1)\n"
     ]
    },
    {
     "name": "stderr",
     "output_type": "stream",
     "text": [
      "[I 2024-11-07 19:21:01,359] Trial 83 finished with value: 0.5174074074074074 and parameters: {'max_depth': 40, 'max_features': 'sqrt', 'criterion': 'entropy'}. Best is trial 63 with value: 0.49574074074074076.\n"
     ]
    },
    {
     "name": "stdout",
     "output_type": "stream",
     "text": [
      "RandomForestClassifier(criterion='log_loss', max_depth=34, n_jobs=-1)\n"
     ]
    },
    {
     "name": "stderr",
     "output_type": "stream",
     "text": [
      "[I 2024-11-07 19:21:02,256] Trial 84 finished with value: 0.5048148148148148 and parameters: {'max_depth': 34, 'max_features': 'sqrt', 'criterion': 'log_loss'}. Best is trial 63 with value: 0.49574074074074076.\n"
     ]
    },
    {
     "name": "stdout",
     "output_type": "stream",
     "text": [
      "RandomForestClassifier(criterion='entropy', max_depth=43, n_jobs=-1)\n"
     ]
    },
    {
     "name": "stderr",
     "output_type": "stream",
     "text": [
      "[I 2024-11-07 19:21:03,110] Trial 85 finished with value: 0.5053703703703704 and parameters: {'max_depth': 43, 'max_features': 'sqrt', 'criterion': 'entropy'}. Best is trial 63 with value: 0.49574074074074076.\n"
     ]
    },
    {
     "name": "stdout",
     "output_type": "stream",
     "text": [
      "RandomForestClassifier(criterion='entropy', max_depth=32, max_features='log2',\n",
      "                       n_jobs=-1)\n"
     ]
    },
    {
     "name": "stderr",
     "output_type": "stream",
     "text": [
      "[I 2024-11-07 19:21:03,986] Trial 86 finished with value: 0.49944444444444447 and parameters: {'max_depth': 32, 'max_features': 'log2', 'criterion': 'entropy'}. Best is trial 63 with value: 0.49574074074074076.\n"
     ]
    },
    {
     "name": "stdout",
     "output_type": "stream",
     "text": [
      "RandomForestClassifier(criterion='entropy', max_depth=32, max_features='log2',\n",
      "                       n_jobs=-1)\n"
     ]
    },
    {
     "name": "stderr",
     "output_type": "stream",
     "text": [
      "[I 2024-11-07 19:21:04,848] Trial 87 finished with value: 0.5088888888888888 and parameters: {'max_depth': 32, 'max_features': 'log2', 'criterion': 'entropy'}. Best is trial 63 with value: 0.49574074074074076.\n"
     ]
    },
    {
     "name": "stdout",
     "output_type": "stream",
     "text": [
      "RandomForestClassifier(criterion='entropy', max_depth=33, max_features='log2',\n",
      "                       n_jobs=-1)\n"
     ]
    },
    {
     "name": "stderr",
     "output_type": "stream",
     "text": [
      "[I 2024-11-07 19:21:05,725] Trial 88 finished with value: 0.5057407407407407 and parameters: {'max_depth': 33, 'max_features': 'log2', 'criterion': 'entropy'}. Best is trial 63 with value: 0.49574074074074076.\n"
     ]
    },
    {
     "name": "stdout",
     "output_type": "stream",
     "text": [
      "RandomForestClassifier(criterion='entropy', max_depth=29, max_features='log2',\n",
      "                       n_jobs=-1)\n"
     ]
    },
    {
     "name": "stderr",
     "output_type": "stream",
     "text": [
      "[I 2024-11-07 19:21:06,573] Trial 89 finished with value: 0.4968518518518519 and parameters: {'max_depth': 29, 'max_features': 'log2', 'criterion': 'entropy'}. Best is trial 63 with value: 0.49574074074074076.\n"
     ]
    },
    {
     "name": "stdout",
     "output_type": "stream",
     "text": [
      "RandomForestClassifier(criterion='entropy', max_depth=29, max_features='log2',\n",
      "                       n_jobs=-1)\n"
     ]
    },
    {
     "name": "stderr",
     "output_type": "stream",
     "text": [
      "[I 2024-11-07 19:21:07,444] Trial 90 finished with value: 0.5014814814814815 and parameters: {'max_depth': 29, 'max_features': 'log2', 'criterion': 'entropy'}. Best is trial 63 with value: 0.49574074074074076.\n"
     ]
    },
    {
     "name": "stdout",
     "output_type": "stream",
     "text": [
      "RandomForestClassifier(criterion='entropy', max_depth=30, max_features='log2',\n",
      "                       n_jobs=-1)\n"
     ]
    },
    {
     "name": "stderr",
     "output_type": "stream",
     "text": [
      "[I 2024-11-07 19:21:08,328] Trial 91 finished with value: 0.5012962962962964 and parameters: {'max_depth': 30, 'max_features': 'log2', 'criterion': 'entropy'}. Best is trial 63 with value: 0.49574074074074076.\n"
     ]
    },
    {
     "name": "stdout",
     "output_type": "stream",
     "text": [
      "RandomForestClassifier(criterion='entropy', max_depth=31, max_features='log2',\n",
      "                       n_jobs=-1)\n"
     ]
    },
    {
     "name": "stderr",
     "output_type": "stream",
     "text": [
      "[I 2024-11-07 19:21:09,245] Trial 92 finished with value: 0.5112962962962962 and parameters: {'max_depth': 31, 'max_features': 'log2', 'criterion': 'entropy'}. Best is trial 63 with value: 0.49574074074074076.\n"
     ]
    },
    {
     "name": "stdout",
     "output_type": "stream",
     "text": [
      "RandomForestClassifier(criterion='entropy', max_depth=28, max_features='log2',\n",
      "                       n_jobs=-1)\n"
     ]
    },
    {
     "name": "stderr",
     "output_type": "stream",
     "text": [
      "[I 2024-11-07 19:21:10,093] Trial 93 finished with value: 0.5068518518518519 and parameters: {'max_depth': 28, 'max_features': 'log2', 'criterion': 'entropy'}. Best is trial 63 with value: 0.49574074074074076.\n"
     ]
    },
    {
     "name": "stdout",
     "output_type": "stream",
     "text": [
      "RandomForestClassifier(criterion='entropy', max_depth=27, max_features='log2',\n",
      "                       n_jobs=-1)\n"
     ]
    },
    {
     "name": "stderr",
     "output_type": "stream",
     "text": [
      "[I 2024-11-07 19:21:10,921] Trial 94 finished with value: 0.5033333333333333 and parameters: {'max_depth': 27, 'max_features': 'log2', 'criterion': 'entropy'}. Best is trial 63 with value: 0.49574074074074076.\n"
     ]
    },
    {
     "name": "stdout",
     "output_type": "stream",
     "text": [
      "RandomForestClassifier(criterion='entropy', max_depth=32, max_features='log2',\n",
      "                       n_jobs=-1)\n"
     ]
    },
    {
     "name": "stderr",
     "output_type": "stream",
     "text": [
      "[I 2024-11-07 19:21:11,787] Trial 95 finished with value: 0.5024074074074074 and parameters: {'max_depth': 32, 'max_features': 'log2', 'criterion': 'entropy'}. Best is trial 63 with value: 0.49574074074074076.\n"
     ]
    },
    {
     "name": "stdout",
     "output_type": "stream",
     "text": [
      "RandomForestClassifier(criterion='entropy', max_depth=24, max_features='log2',\n",
      "                       n_jobs=-1)\n"
     ]
    },
    {
     "name": "stderr",
     "output_type": "stream",
     "text": [
      "[I 2024-11-07 19:21:12,607] Trial 96 finished with value: 0.5009259259259259 and parameters: {'max_depth': 24, 'max_features': 'log2', 'criterion': 'entropy'}. Best is trial 63 with value: 0.49574074074074076.\n"
     ]
    },
    {
     "name": "stdout",
     "output_type": "stream",
     "text": [
      "RandomForestClassifier(criterion='log_loss', max_depth=34, max_features='log2',\n",
      "                       n_jobs=-1)\n"
     ]
    },
    {
     "name": "stderr",
     "output_type": "stream",
     "text": [
      "[I 2024-11-07 19:21:13,476] Trial 97 finished with value: 0.5046296296296297 and parameters: {'max_depth': 34, 'max_features': 'log2', 'criterion': 'log_loss'}. Best is trial 63 with value: 0.49574074074074076.\n"
     ]
    },
    {
     "name": "stdout",
     "output_type": "stream",
     "text": [
      "RandomForestClassifier(criterion='entropy', max_depth=26, max_features='log2',\n",
      "                       n_jobs=-1)\n"
     ]
    },
    {
     "name": "stderr",
     "output_type": "stream",
     "text": [
      "[I 2024-11-07 19:21:14,307] Trial 98 finished with value: 0.5027777777777778 and parameters: {'max_depth': 26, 'max_features': 'log2', 'criterion': 'entropy'}. Best is trial 63 with value: 0.49574074074074076.\n"
     ]
    },
    {
     "name": "stdout",
     "output_type": "stream",
     "text": [
      "RandomForestClassifier(criterion='entropy', max_depth=29, max_features='log2',\n",
      "                       n_jobs=-1)\n"
     ]
    },
    {
     "name": "stderr",
     "output_type": "stream",
     "text": [
      "[I 2024-11-07 19:21:15,162] Trial 99 finished with value: 0.5012962962962964 and parameters: {'max_depth': 29, 'max_features': 'log2', 'criterion': 'entropy'}. Best is trial 63 with value: 0.49574074074074076.\n"
     ]
    },
    {
     "name": "stdout",
     "output_type": "stream",
     "text": [
      "Best hyperparameters: {'max_depth': 35, 'max_features': 'log2', 'criterion': 'entropy'}\n",
      "Best value: 0.49574074074074076\n"
     ]
    },
    {
     "data": {
      "application/vnd.plotly.v1+json": {
       "config": {
        "plotlyServerURL": "https://plot.ly"
       },
       "data": [
        {
         "marker": {
          "color": [
           0,
           1,
           2,
           3,
           4,
           5,
           6,
           7,
           8,
           9,
           10,
           11,
           12,
           13,
           14,
           15,
           16,
           17,
           18,
           19,
           20,
           21,
           22,
           23,
           24,
           25,
           26,
           27,
           28,
           29,
           30,
           31,
           32,
           33,
           34,
           35,
           36,
           37,
           38,
           39,
           40,
           41,
           42,
           43,
           44,
           45,
           46,
           47,
           48,
           49,
           50,
           51,
           52,
           53,
           54,
           55,
           56,
           57,
           58,
           59,
           60,
           61,
           62,
           63,
           64,
           65,
           66,
           67,
           68,
           69,
           70,
           71,
           72,
           73,
           74,
           75,
           76,
           77,
           78,
           79,
           80,
           81,
           82,
           83,
           84,
           85,
           86,
           87,
           88,
           89,
           90,
           91,
           92,
           93,
           94,
           95,
           96,
           97,
           98,
           99
          ],
          "colorbar": {
           "title": {
            "text": "Trial"
           },
           "x": 1,
           "xpad": 40
          },
          "colorscale": [
           [
            0,
            "rgb(247,251,255)"
           ],
           [
            0.125,
            "rgb(222,235,247)"
           ],
           [
            0.25,
            "rgb(198,219,239)"
           ],
           [
            0.375,
            "rgb(158,202,225)"
           ],
           [
            0.5,
            "rgb(107,174,214)"
           ],
           [
            0.625,
            "rgb(66,146,198)"
           ],
           [
            0.75,
            "rgb(33,113,181)"
           ],
           [
            0.875,
            "rgb(8,81,156)"
           ],
           [
            1,
            "rgb(8,48,107)"
           ]
          ],
          "line": {
           "color": "Grey",
           "width": 0.5
          },
          "showscale": true
         },
         "mode": "markers",
         "name": "Feasible Trial",
         "showlegend": false,
         "type": "scatter",
         "x": [
          "log_loss",
          "log_loss",
          "log_loss",
          "entropy",
          "entropy",
          "log_loss",
          "log_loss",
          "log_loss",
          "log_loss",
          "entropy",
          "entropy",
          "entropy",
          "entropy",
          "entropy",
          "entropy",
          "entropy",
          "entropy",
          "entropy",
          "entropy",
          "entropy",
          "entropy",
          "entropy",
          "entropy",
          "entropy",
          "entropy",
          "entropy",
          "entropy",
          "entropy",
          "entropy",
          "entropy",
          "entropy",
          "entropy",
          "entropy",
          "entropy",
          "log_loss",
          "entropy",
          "entropy",
          "log_loss",
          "entropy",
          "log_loss",
          "entropy",
          "entropy",
          "entropy",
          "entropy",
          "entropy",
          "log_loss",
          "entropy",
          "entropy",
          "entropy",
          "entropy",
          "log_loss",
          "entropy",
          "entropy",
          "entropy",
          "entropy",
          "entropy",
          "entropy",
          "entropy",
          "entropy",
          "entropy",
          "entropy",
          "entropy",
          "entropy",
          "entropy",
          "entropy",
          "entropy",
          "entropy",
          "entropy",
          "entropy",
          "log_loss",
          "entropy",
          "entropy",
          "entropy",
          "entropy",
          "entropy",
          "entropy",
          "entropy",
          "entropy",
          "entropy",
          "entropy",
          "entropy",
          "entropy",
          "entropy",
          "entropy",
          "log_loss",
          "entropy",
          "entropy",
          "entropy",
          "entropy",
          "entropy",
          "entropy",
          "entropy",
          "entropy",
          "entropy",
          "entropy",
          "entropy",
          "entropy",
          "log_loss",
          "entropy",
          "entropy"
         ],
         "xaxis": "x",
         "y": [
          0.5042592592592593,
          0.5057407407407407,
          0.5120370370370371,
          0.5048148148148148,
          0.5090740740740741,
          0.5133333333333333,
          0.5087037037037037,
          0.5124074074074074,
          0.5109259259259259,
          0.5066666666666667,
          0.5009259259259259,
          0.5161111111111111,
          0.5037037037037037,
          0.5135185185185185,
          0.5081481481481481,
          0.5103703703703704,
          0.49592592592592594,
          0.5053703703703704,
          0.5053703703703704,
          0.5094444444444445,
          0.51,
          0.5037037037037037,
          0.5031481481481481,
          0.5053703703703704,
          0.5009259259259259,
          0.5098148148148148,
          0.5109259259259259,
          0.5068518518518519,
          0.505,
          0.5077777777777778,
          0.5175925925925926,
          0.5075925925925926,
          0.5007407407407407,
          0.515,
          0.5068518518518519,
          0.5096296296296297,
          0.5025925925925926,
          0.5077777777777778,
          0.5070370370370371,
          0.5116666666666667,
          0.5088888888888888,
          0.49796296296296294,
          0.5098148148148148,
          0.5007407407407407,
          0.5018518518518519,
          0.5020370370370371,
          0.5090740740740741,
          0.5159259259259259,
          0.5148148148148148,
          0.5038888888888889,
          0.5127777777777778,
          0.5055555555555555,
          0.5118518518518519,
          0.5137037037037037,
          0.5098148148148148,
          0.51,
          0.5122222222222222,
          0.5077777777777778,
          0.5170370370370371,
          0.4988888888888889,
          0.5092592592592593,
          0.5083333333333333,
          0.5014814814814815,
          0.49574074074074076,
          0.51,
          0.5090740740740741,
          0.5024074074074074,
          0.5146296296296297,
          0.5053703703703704,
          0.5083333333333333,
          0.51,
          0.5144444444444445,
          0.5070370370370371,
          0.5116666666666667,
          0.5038888888888889,
          0.507962962962963,
          0.5038888888888889,
          0.5068518518518519,
          0.5048148148148148,
          0.5009259259259259,
          0.51,
          0.5116666666666667,
          0.5175925925925926,
          0.5174074074074074,
          0.5048148148148148,
          0.5053703703703704,
          0.49944444444444447,
          0.5088888888888888,
          0.5057407407407407,
          0.4968518518518519,
          0.5014814814814815,
          0.5012962962962964,
          0.5112962962962962,
          0.5068518518518519,
          0.5033333333333333,
          0.5024074074074074,
          0.5009259259259259,
          0.5046296296296297,
          0.5027777777777778,
          0.5012962962962964
         ],
         "yaxis": "y"
        },
        {
         "marker": {
          "color": [
           0,
           1,
           2,
           3,
           4,
           5,
           6,
           7,
           8,
           9,
           10,
           11,
           12,
           13,
           14,
           15,
           16,
           17,
           18,
           19,
           20,
           21,
           22,
           23,
           24,
           25,
           26,
           27,
           28,
           29,
           30,
           31,
           32,
           33,
           34,
           35,
           36,
           37,
           38,
           39,
           40,
           41,
           42,
           43,
           44,
           45,
           46,
           47,
           48,
           49,
           50,
           51,
           52,
           53,
           54,
           55,
           56,
           57,
           58,
           59,
           60,
           61,
           62,
           63,
           64,
           65,
           66,
           67,
           68,
           69,
           70,
           71,
           72,
           73,
           74,
           75,
           76,
           77,
           78,
           79,
           80,
           81,
           82,
           83,
           84,
           85,
           86,
           87,
           88,
           89,
           90,
           91,
           92,
           93,
           94,
           95,
           96,
           97,
           98,
           99
          ],
          "colorbar": {
           "title": {
            "text": "Trial"
           },
           "x": 1,
           "xpad": 40
          },
          "colorscale": [
           [
            0,
            "rgb(247,251,255)"
           ],
           [
            0.125,
            "rgb(222,235,247)"
           ],
           [
            0.25,
            "rgb(198,219,239)"
           ],
           [
            0.375,
            "rgb(158,202,225)"
           ],
           [
            0.5,
            "rgb(107,174,214)"
           ],
           [
            0.625,
            "rgb(66,146,198)"
           ],
           [
            0.75,
            "rgb(33,113,181)"
           ],
           [
            0.875,
            "rgb(8,81,156)"
           ],
           [
            1,
            "rgb(8,48,107)"
           ]
          ],
          "line": {
           "color": "Grey",
           "width": 0.5
          },
          "showscale": false
         },
         "mode": "markers",
         "name": "Feasible Trial",
         "showlegend": false,
         "type": "scatter",
         "x": [
          27,
          33,
          44,
          34,
          32,
          35,
          46,
          22,
          31,
          40,
          23,
          22,
          26,
          26,
          20,
          28,
          39,
          39,
          39,
          50,
          43,
          24,
          29,
          31,
          36,
          36,
          38,
          42,
          36,
          47,
          37,
          29,
          30,
          41,
          33,
          34,
          24,
          30,
          33,
          20,
          45,
          25,
          23,
          26,
          25,
          27,
          22,
          27,
          25,
          21,
          28,
          23,
          31,
          26,
          35,
          25,
          38,
          40,
          29,
          32,
          28,
          33,
          32,
          35,
          31,
          24,
          35,
          30,
          34,
          37,
          32,
          36,
          39,
          27,
          37,
          41,
          23,
          30,
          21,
          38,
          26,
          38,
          36,
          40,
          34,
          43,
          32,
          32,
          33,
          29,
          29,
          30,
          31,
          28,
          27,
          32,
          24,
          34,
          26,
          29
         ],
         "xaxis": "x2",
         "y": [
          0.5042592592592593,
          0.5057407407407407,
          0.5120370370370371,
          0.5048148148148148,
          0.5090740740740741,
          0.5133333333333333,
          0.5087037037037037,
          0.5124074074074074,
          0.5109259259259259,
          0.5066666666666667,
          0.5009259259259259,
          0.5161111111111111,
          0.5037037037037037,
          0.5135185185185185,
          0.5081481481481481,
          0.5103703703703704,
          0.49592592592592594,
          0.5053703703703704,
          0.5053703703703704,
          0.5094444444444445,
          0.51,
          0.5037037037037037,
          0.5031481481481481,
          0.5053703703703704,
          0.5009259259259259,
          0.5098148148148148,
          0.5109259259259259,
          0.5068518518518519,
          0.505,
          0.5077777777777778,
          0.5175925925925926,
          0.5075925925925926,
          0.5007407407407407,
          0.515,
          0.5068518518518519,
          0.5096296296296297,
          0.5025925925925926,
          0.5077777777777778,
          0.5070370370370371,
          0.5116666666666667,
          0.5088888888888888,
          0.49796296296296294,
          0.5098148148148148,
          0.5007407407407407,
          0.5018518518518519,
          0.5020370370370371,
          0.5090740740740741,
          0.5159259259259259,
          0.5148148148148148,
          0.5038888888888889,
          0.5127777777777778,
          0.5055555555555555,
          0.5118518518518519,
          0.5137037037037037,
          0.5098148148148148,
          0.51,
          0.5122222222222222,
          0.5077777777777778,
          0.5170370370370371,
          0.4988888888888889,
          0.5092592592592593,
          0.5083333333333333,
          0.5014814814814815,
          0.49574074074074076,
          0.51,
          0.5090740740740741,
          0.5024074074074074,
          0.5146296296296297,
          0.5053703703703704,
          0.5083333333333333,
          0.51,
          0.5144444444444445,
          0.5070370370370371,
          0.5116666666666667,
          0.5038888888888889,
          0.507962962962963,
          0.5038888888888889,
          0.5068518518518519,
          0.5048148148148148,
          0.5009259259259259,
          0.51,
          0.5116666666666667,
          0.5175925925925926,
          0.5174074074074074,
          0.5048148148148148,
          0.5053703703703704,
          0.49944444444444447,
          0.5088888888888888,
          0.5057407407407407,
          0.4968518518518519,
          0.5014814814814815,
          0.5012962962962964,
          0.5112962962962962,
          0.5068518518518519,
          0.5033333333333333,
          0.5024074074074074,
          0.5009259259259259,
          0.5046296296296297,
          0.5027777777777778,
          0.5012962962962964
         ],
         "yaxis": "y2"
        },
        {
         "marker": {
          "color": [
           0,
           1,
           2,
           3,
           4,
           5,
           6,
           7,
           8,
           9,
           10,
           11,
           12,
           13,
           14,
           15,
           16,
           17,
           18,
           19,
           20,
           21,
           22,
           23,
           24,
           25,
           26,
           27,
           28,
           29,
           30,
           31,
           32,
           33,
           34,
           35,
           36,
           37,
           38,
           39,
           40,
           41,
           42,
           43,
           44,
           45,
           46,
           47,
           48,
           49,
           50,
           51,
           52,
           53,
           54,
           55,
           56,
           57,
           58,
           59,
           60,
           61,
           62,
           63,
           64,
           65,
           66,
           67,
           68,
           69,
           70,
           71,
           72,
           73,
           74,
           75,
           76,
           77,
           78,
           79,
           80,
           81,
           82,
           83,
           84,
           85,
           86,
           87,
           88,
           89,
           90,
           91,
           92,
           93,
           94,
           95,
           96,
           97,
           98,
           99
          ],
          "colorbar": {
           "title": {
            "text": "Trial"
           },
           "x": 1,
           "xpad": 40
          },
          "colorscale": [
           [
            0,
            "rgb(247,251,255)"
           ],
           [
            0.125,
            "rgb(222,235,247)"
           ],
           [
            0.25,
            "rgb(198,219,239)"
           ],
           [
            0.375,
            "rgb(158,202,225)"
           ],
           [
            0.5,
            "rgb(107,174,214)"
           ],
           [
            0.625,
            "rgb(66,146,198)"
           ],
           [
            0.75,
            "rgb(33,113,181)"
           ],
           [
            0.875,
            "rgb(8,81,156)"
           ],
           [
            1,
            "rgb(8,48,107)"
           ]
          ],
          "line": {
           "color": "Grey",
           "width": 0.5
          },
          "showscale": false
         },
         "mode": "markers",
         "name": "Feasible Trial",
         "showlegend": false,
         "type": "scatter",
         "x": [
          "log2",
          "log2",
          "sqrt",
          "sqrt",
          "log2",
          "sqrt",
          "log2",
          "log2",
          "sqrt",
          "log2",
          "log2",
          "log2",
          "log2",
          "log2",
          "log2",
          "log2",
          "log2",
          "log2",
          "sqrt",
          "log2",
          "log2",
          "log2",
          "log2",
          "log2",
          "log2",
          "log2",
          "sqrt",
          "log2",
          "log2",
          "log2",
          "log2",
          "log2",
          "log2",
          "log2",
          "log2",
          "sqrt",
          "log2",
          "log2",
          "sqrt",
          "log2",
          "log2",
          "log2",
          "log2",
          "log2",
          "log2",
          "log2",
          "sqrt",
          "log2",
          "log2",
          "log2",
          "log2",
          "log2",
          "log2",
          "log2",
          "log2",
          "log2",
          "sqrt",
          "log2",
          "log2",
          "log2",
          "log2",
          "log2",
          "log2",
          "log2",
          "log2",
          "log2",
          "log2",
          "log2",
          "sqrt",
          "log2",
          "log2",
          "log2",
          "log2",
          "log2",
          "log2",
          "log2",
          "log2",
          "log2",
          "log2",
          "sqrt",
          "log2",
          "sqrt",
          "sqrt",
          "sqrt",
          "sqrt",
          "sqrt",
          "log2",
          "log2",
          "log2",
          "log2",
          "log2",
          "log2",
          "log2",
          "log2",
          "log2",
          "log2",
          "log2",
          "log2",
          "log2",
          "log2"
         ],
         "xaxis": "x3",
         "y": [
          0.5042592592592593,
          0.5057407407407407,
          0.5120370370370371,
          0.5048148148148148,
          0.5090740740740741,
          0.5133333333333333,
          0.5087037037037037,
          0.5124074074074074,
          0.5109259259259259,
          0.5066666666666667,
          0.5009259259259259,
          0.5161111111111111,
          0.5037037037037037,
          0.5135185185185185,
          0.5081481481481481,
          0.5103703703703704,
          0.49592592592592594,
          0.5053703703703704,
          0.5053703703703704,
          0.5094444444444445,
          0.51,
          0.5037037037037037,
          0.5031481481481481,
          0.5053703703703704,
          0.5009259259259259,
          0.5098148148148148,
          0.5109259259259259,
          0.5068518518518519,
          0.505,
          0.5077777777777778,
          0.5175925925925926,
          0.5075925925925926,
          0.5007407407407407,
          0.515,
          0.5068518518518519,
          0.5096296296296297,
          0.5025925925925926,
          0.5077777777777778,
          0.5070370370370371,
          0.5116666666666667,
          0.5088888888888888,
          0.49796296296296294,
          0.5098148148148148,
          0.5007407407407407,
          0.5018518518518519,
          0.5020370370370371,
          0.5090740740740741,
          0.5159259259259259,
          0.5148148148148148,
          0.5038888888888889,
          0.5127777777777778,
          0.5055555555555555,
          0.5118518518518519,
          0.5137037037037037,
          0.5098148148148148,
          0.51,
          0.5122222222222222,
          0.5077777777777778,
          0.5170370370370371,
          0.4988888888888889,
          0.5092592592592593,
          0.5083333333333333,
          0.5014814814814815,
          0.49574074074074076,
          0.51,
          0.5090740740740741,
          0.5024074074074074,
          0.5146296296296297,
          0.5053703703703704,
          0.5083333333333333,
          0.51,
          0.5144444444444445,
          0.5070370370370371,
          0.5116666666666667,
          0.5038888888888889,
          0.507962962962963,
          0.5038888888888889,
          0.5068518518518519,
          0.5048148148148148,
          0.5009259259259259,
          0.51,
          0.5116666666666667,
          0.5175925925925926,
          0.5174074074074074,
          0.5048148148148148,
          0.5053703703703704,
          0.49944444444444447,
          0.5088888888888888,
          0.5057407407407407,
          0.4968518518518519,
          0.5014814814814815,
          0.5012962962962964,
          0.5112962962962962,
          0.5068518518518519,
          0.5033333333333333,
          0.5024074074074074,
          0.5009259259259259,
          0.5046296296296297,
          0.5027777777777778,
          0.5012962962962964
         ],
         "yaxis": "y3"
        }
       ],
       "layout": {
        "template": {
         "data": {
          "bar": [
           {
            "error_x": {
             "color": "#2a3f5f"
            },
            "error_y": {
             "color": "#2a3f5f"
            },
            "marker": {
             "line": {
              "color": "#E5ECF6",
              "width": 0.5
             },
             "pattern": {
              "fillmode": "overlay",
              "size": 10,
              "solidity": 0.2
             }
            },
            "type": "bar"
           }
          ],
          "barpolar": [
           {
            "marker": {
             "line": {
              "color": "#E5ECF6",
              "width": 0.5
             },
             "pattern": {
              "fillmode": "overlay",
              "size": 10,
              "solidity": 0.2
             }
            },
            "type": "barpolar"
           }
          ],
          "carpet": [
           {
            "aaxis": {
             "endlinecolor": "#2a3f5f",
             "gridcolor": "white",
             "linecolor": "white",
             "minorgridcolor": "white",
             "startlinecolor": "#2a3f5f"
            },
            "baxis": {
             "endlinecolor": "#2a3f5f",
             "gridcolor": "white",
             "linecolor": "white",
             "minorgridcolor": "white",
             "startlinecolor": "#2a3f5f"
            },
            "type": "carpet"
           }
          ],
          "choropleth": [
           {
            "colorbar": {
             "outlinewidth": 0,
             "ticks": ""
            },
            "type": "choropleth"
           }
          ],
          "contour": [
           {
            "colorbar": {
             "outlinewidth": 0,
             "ticks": ""
            },
            "colorscale": [
             [
              0,
              "#0d0887"
             ],
             [
              0.1111111111111111,
              "#46039f"
             ],
             [
              0.2222222222222222,
              "#7201a8"
             ],
             [
              0.3333333333333333,
              "#9c179e"
             ],
             [
              0.4444444444444444,
              "#bd3786"
             ],
             [
              0.5555555555555556,
              "#d8576b"
             ],
             [
              0.6666666666666666,
              "#ed7953"
             ],
             [
              0.7777777777777778,
              "#fb9f3a"
             ],
             [
              0.8888888888888888,
              "#fdca26"
             ],
             [
              1,
              "#f0f921"
             ]
            ],
            "type": "contour"
           }
          ],
          "contourcarpet": [
           {
            "colorbar": {
             "outlinewidth": 0,
             "ticks": ""
            },
            "type": "contourcarpet"
           }
          ],
          "heatmap": [
           {
            "colorbar": {
             "outlinewidth": 0,
             "ticks": ""
            },
            "colorscale": [
             [
              0,
              "#0d0887"
             ],
             [
              0.1111111111111111,
              "#46039f"
             ],
             [
              0.2222222222222222,
              "#7201a8"
             ],
             [
              0.3333333333333333,
              "#9c179e"
             ],
             [
              0.4444444444444444,
              "#bd3786"
             ],
             [
              0.5555555555555556,
              "#d8576b"
             ],
             [
              0.6666666666666666,
              "#ed7953"
             ],
             [
              0.7777777777777778,
              "#fb9f3a"
             ],
             [
              0.8888888888888888,
              "#fdca26"
             ],
             [
              1,
              "#f0f921"
             ]
            ],
            "type": "heatmap"
           }
          ],
          "heatmapgl": [
           {
            "colorbar": {
             "outlinewidth": 0,
             "ticks": ""
            },
            "colorscale": [
             [
              0,
              "#0d0887"
             ],
             [
              0.1111111111111111,
              "#46039f"
             ],
             [
              0.2222222222222222,
              "#7201a8"
             ],
             [
              0.3333333333333333,
              "#9c179e"
             ],
             [
              0.4444444444444444,
              "#bd3786"
             ],
             [
              0.5555555555555556,
              "#d8576b"
             ],
             [
              0.6666666666666666,
              "#ed7953"
             ],
             [
              0.7777777777777778,
              "#fb9f3a"
             ],
             [
              0.8888888888888888,
              "#fdca26"
             ],
             [
              1,
              "#f0f921"
             ]
            ],
            "type": "heatmapgl"
           }
          ],
          "histogram": [
           {
            "marker": {
             "pattern": {
              "fillmode": "overlay",
              "size": 10,
              "solidity": 0.2
             }
            },
            "type": "histogram"
           }
          ],
          "histogram2d": [
           {
            "colorbar": {
             "outlinewidth": 0,
             "ticks": ""
            },
            "colorscale": [
             [
              0,
              "#0d0887"
             ],
             [
              0.1111111111111111,
              "#46039f"
             ],
             [
              0.2222222222222222,
              "#7201a8"
             ],
             [
              0.3333333333333333,
              "#9c179e"
             ],
             [
              0.4444444444444444,
              "#bd3786"
             ],
             [
              0.5555555555555556,
              "#d8576b"
             ],
             [
              0.6666666666666666,
              "#ed7953"
             ],
             [
              0.7777777777777778,
              "#fb9f3a"
             ],
             [
              0.8888888888888888,
              "#fdca26"
             ],
             [
              1,
              "#f0f921"
             ]
            ],
            "type": "histogram2d"
           }
          ],
          "histogram2dcontour": [
           {
            "colorbar": {
             "outlinewidth": 0,
             "ticks": ""
            },
            "colorscale": [
             [
              0,
              "#0d0887"
             ],
             [
              0.1111111111111111,
              "#46039f"
             ],
             [
              0.2222222222222222,
              "#7201a8"
             ],
             [
              0.3333333333333333,
              "#9c179e"
             ],
             [
              0.4444444444444444,
              "#bd3786"
             ],
             [
              0.5555555555555556,
              "#d8576b"
             ],
             [
              0.6666666666666666,
              "#ed7953"
             ],
             [
              0.7777777777777778,
              "#fb9f3a"
             ],
             [
              0.8888888888888888,
              "#fdca26"
             ],
             [
              1,
              "#f0f921"
             ]
            ],
            "type": "histogram2dcontour"
           }
          ],
          "mesh3d": [
           {
            "colorbar": {
             "outlinewidth": 0,
             "ticks": ""
            },
            "type": "mesh3d"
           }
          ],
          "parcoords": [
           {
            "line": {
             "colorbar": {
              "outlinewidth": 0,
              "ticks": ""
             }
            },
            "type": "parcoords"
           }
          ],
          "pie": [
           {
            "automargin": true,
            "type": "pie"
           }
          ],
          "scatter": [
           {
            "fillpattern": {
             "fillmode": "overlay",
             "size": 10,
             "solidity": 0.2
            },
            "type": "scatter"
           }
          ],
          "scatter3d": [
           {
            "line": {
             "colorbar": {
              "outlinewidth": 0,
              "ticks": ""
             }
            },
            "marker": {
             "colorbar": {
              "outlinewidth": 0,
              "ticks": ""
             }
            },
            "type": "scatter3d"
           }
          ],
          "scattercarpet": [
           {
            "marker": {
             "colorbar": {
              "outlinewidth": 0,
              "ticks": ""
             }
            },
            "type": "scattercarpet"
           }
          ],
          "scattergeo": [
           {
            "marker": {
             "colorbar": {
              "outlinewidth": 0,
              "ticks": ""
             }
            },
            "type": "scattergeo"
           }
          ],
          "scattergl": [
           {
            "marker": {
             "colorbar": {
              "outlinewidth": 0,
              "ticks": ""
             }
            },
            "type": "scattergl"
           }
          ],
          "scattermapbox": [
           {
            "marker": {
             "colorbar": {
              "outlinewidth": 0,
              "ticks": ""
             }
            },
            "type": "scattermapbox"
           }
          ],
          "scatterpolar": [
           {
            "marker": {
             "colorbar": {
              "outlinewidth": 0,
              "ticks": ""
             }
            },
            "type": "scatterpolar"
           }
          ],
          "scatterpolargl": [
           {
            "marker": {
             "colorbar": {
              "outlinewidth": 0,
              "ticks": ""
             }
            },
            "type": "scatterpolargl"
           }
          ],
          "scatterternary": [
           {
            "marker": {
             "colorbar": {
              "outlinewidth": 0,
              "ticks": ""
             }
            },
            "type": "scatterternary"
           }
          ],
          "surface": [
           {
            "colorbar": {
             "outlinewidth": 0,
             "ticks": ""
            },
            "colorscale": [
             [
              0,
              "#0d0887"
             ],
             [
              0.1111111111111111,
              "#46039f"
             ],
             [
              0.2222222222222222,
              "#7201a8"
             ],
             [
              0.3333333333333333,
              "#9c179e"
             ],
             [
              0.4444444444444444,
              "#bd3786"
             ],
             [
              0.5555555555555556,
              "#d8576b"
             ],
             [
              0.6666666666666666,
              "#ed7953"
             ],
             [
              0.7777777777777778,
              "#fb9f3a"
             ],
             [
              0.8888888888888888,
              "#fdca26"
             ],
             [
              1,
              "#f0f921"
             ]
            ],
            "type": "surface"
           }
          ],
          "table": [
           {
            "cells": {
             "fill": {
              "color": "#EBF0F8"
             },
             "line": {
              "color": "white"
             }
            },
            "header": {
             "fill": {
              "color": "#C8D4E3"
             },
             "line": {
              "color": "white"
             }
            },
            "type": "table"
           }
          ]
         },
         "layout": {
          "annotationdefaults": {
           "arrowcolor": "#2a3f5f",
           "arrowhead": 0,
           "arrowwidth": 1
          },
          "autotypenumbers": "strict",
          "coloraxis": {
           "colorbar": {
            "outlinewidth": 0,
            "ticks": ""
           }
          },
          "colorscale": {
           "diverging": [
            [
             0,
             "#8e0152"
            ],
            [
             0.1,
             "#c51b7d"
            ],
            [
             0.2,
             "#de77ae"
            ],
            [
             0.3,
             "#f1b6da"
            ],
            [
             0.4,
             "#fde0ef"
            ],
            [
             0.5,
             "#f7f7f7"
            ],
            [
             0.6,
             "#e6f5d0"
            ],
            [
             0.7,
             "#b8e186"
            ],
            [
             0.8,
             "#7fbc41"
            ],
            [
             0.9,
             "#4d9221"
            ],
            [
             1,
             "#276419"
            ]
           ],
           "sequential": [
            [
             0,
             "#0d0887"
            ],
            [
             0.1111111111111111,
             "#46039f"
            ],
            [
             0.2222222222222222,
             "#7201a8"
            ],
            [
             0.3333333333333333,
             "#9c179e"
            ],
            [
             0.4444444444444444,
             "#bd3786"
            ],
            [
             0.5555555555555556,
             "#d8576b"
            ],
            [
             0.6666666666666666,
             "#ed7953"
            ],
            [
             0.7777777777777778,
             "#fb9f3a"
            ],
            [
             0.8888888888888888,
             "#fdca26"
            ],
            [
             1,
             "#f0f921"
            ]
           ],
           "sequentialminus": [
            [
             0,
             "#0d0887"
            ],
            [
             0.1111111111111111,
             "#46039f"
            ],
            [
             0.2222222222222222,
             "#7201a8"
            ],
            [
             0.3333333333333333,
             "#9c179e"
            ],
            [
             0.4444444444444444,
             "#bd3786"
            ],
            [
             0.5555555555555556,
             "#d8576b"
            ],
            [
             0.6666666666666666,
             "#ed7953"
            ],
            [
             0.7777777777777778,
             "#fb9f3a"
            ],
            [
             0.8888888888888888,
             "#fdca26"
            ],
            [
             1,
             "#f0f921"
            ]
           ]
          },
          "colorway": [
           "#636efa",
           "#EF553B",
           "#00cc96",
           "#ab63fa",
           "#FFA15A",
           "#19d3f3",
           "#FF6692",
           "#B6E880",
           "#FF97FF",
           "#FECB52"
          ],
          "font": {
           "color": "#2a3f5f"
          },
          "geo": {
           "bgcolor": "white",
           "lakecolor": "white",
           "landcolor": "#E5ECF6",
           "showlakes": true,
           "showland": true,
           "subunitcolor": "white"
          },
          "hoverlabel": {
           "align": "left"
          },
          "hovermode": "closest",
          "mapbox": {
           "style": "light"
          },
          "paper_bgcolor": "white",
          "plot_bgcolor": "#E5ECF6",
          "polar": {
           "angularaxis": {
            "gridcolor": "white",
            "linecolor": "white",
            "ticks": ""
           },
           "bgcolor": "#E5ECF6",
           "radialaxis": {
            "gridcolor": "white",
            "linecolor": "white",
            "ticks": ""
           }
          },
          "scene": {
           "xaxis": {
            "backgroundcolor": "#E5ECF6",
            "gridcolor": "white",
            "gridwidth": 2,
            "linecolor": "white",
            "showbackground": true,
            "ticks": "",
            "zerolinecolor": "white"
           },
           "yaxis": {
            "backgroundcolor": "#E5ECF6",
            "gridcolor": "white",
            "gridwidth": 2,
            "linecolor": "white",
            "showbackground": true,
            "ticks": "",
            "zerolinecolor": "white"
           },
           "zaxis": {
            "backgroundcolor": "#E5ECF6",
            "gridcolor": "white",
            "gridwidth": 2,
            "linecolor": "white",
            "showbackground": true,
            "ticks": "",
            "zerolinecolor": "white"
           }
          },
          "shapedefaults": {
           "line": {
            "color": "#2a3f5f"
           }
          },
          "ternary": {
           "aaxis": {
            "gridcolor": "white",
            "linecolor": "white",
            "ticks": ""
           },
           "baxis": {
            "gridcolor": "white",
            "linecolor": "white",
            "ticks": ""
           },
           "bgcolor": "#E5ECF6",
           "caxis": {
            "gridcolor": "white",
            "linecolor": "white",
            "ticks": ""
           }
          },
          "title": {
           "x": 0.05
          },
          "xaxis": {
           "automargin": true,
           "gridcolor": "white",
           "linecolor": "white",
           "ticks": "",
           "title": {
            "standoff": 15
           },
           "zerolinecolor": "white",
           "zerolinewidth": 2
          },
          "yaxis": {
           "automargin": true,
           "gridcolor": "white",
           "linecolor": "white",
           "ticks": "",
           "title": {
            "standoff": 15
           },
           "zerolinecolor": "white",
           "zerolinewidth": 2
          }
         }
        },
        "title": {
         "text": "Slice Plot"
        },
        "xaxis": {
         "anchor": "y",
         "categoryarray": [
          "entropy",
          "log_loss"
         ],
         "categoryorder": "array",
         "domain": [
          0,
          0.2888888888888889
         ],
         "title": {
          "text": "criterion"
         },
         "type": "category"
        },
        "xaxis2": {
         "anchor": "y2",
         "domain": [
          0.35555555555555557,
          0.6444444444444445
         ],
         "title": {
          "text": "max_depth"
         }
        },
        "xaxis3": {
         "anchor": "y3",
         "categoryarray": [
          "sqrt",
          "log2"
         ],
         "categoryorder": "array",
         "domain": [
          0.7111111111111111,
          1
         ],
         "title": {
          "text": "max_features"
         },
         "type": "category"
        },
        "yaxis": {
         "anchor": "x",
         "domain": [
          0,
          1
         ],
         "title": {
          "text": "Objective Value"
         }
        },
        "yaxis2": {
         "anchor": "x2",
         "domain": [
          0,
          1
         ],
         "matches": "y",
         "showticklabels": false
        },
        "yaxis3": {
         "anchor": "x3",
         "domain": [
          0,
          1
         ],
         "matches": "y",
         "showticklabels": false
        }
       }
      }
     },
     "metadata": {},
     "output_type": "display_data"
    }
   ],
   "source": [
    "import numpy as np\n",
    "from sklearn.model_selection import train_test_split\n",
    "from sklearn.preprocessing import StandardScaler\n",
    "from sklearn.metrics import accuracy_score\n",
    "from sklearn.ensemble import RandomForestClassifier\n",
    "import optuna\n",
    "import optuna.visualization as vis\n",
    "    \n",
    "n = 9\n",
    "    \n",
    "X = np.load('Datasets/kryptonite-%s-X.npy'%(n))\n",
    "y = np.load('Datasets/kryptonite-%s-y.npy'%(n))\n",
    "\n",
    "def objective(trial):\n",
    "\n",
    "    ### ========== Shuffle and Split Data ========== ###\n",
    "\n",
    "    X_train, X_temp, y_train, y_temp = train_test_split(X, y, test_size=0.6, random_state=42)  # 60% training\n",
    "    X_val, X_test, y_val, y_test = train_test_split(X_temp, y_temp, test_size=0.5, random_state=42)  # 20% validation, 20% test\n",
    "\n",
    "    scaler = StandardScaler()\n",
    "    X_train_scaled = scaler.fit_transform(X_train)\n",
    "    X_val_scaled = scaler.transform(X_val)\n",
    "    x_test_scaled = scaler.transform(X_test)\n",
    "\n",
    "\n",
    "    ### ========== Train and Evaluate Model ========== ###\n",
    "\n",
    "    classifier = RandomForestClassifier(\n",
    "        n_estimators=100, \n",
    "        max_depth=trial.suggest_int('max_depth', 20, 50),\n",
    "        max_features=trial.suggest_categorical('max_features', ['sqrt', 'log2']),\n",
    "        criterion=trial.suggest_categorical('criterion', ['entropy', 'log_loss']),\n",
    "        n_jobs=-1\n",
    "    )\n",
    "\n",
    "    print(classifier)\n",
    "    classifier.fit(X_train_scaled, y_train)\n",
    "    # print(\"Fit Model\")\n",
    "\n",
    "    # Evaluate on the validation set\n",
    "    y_val_pred = classifier.predict(X_val_scaled)\n",
    "    val_accuracy = accuracy_score(y_val, y_val_pred)\n",
    "    # print(f\"Validation Accuracy: {val_accuracy:.4f}\")\n",
    "\n",
    "    # Evaluate on the test set\n",
    "    y_test_pred = classifier.predict(x_test_scaled)\n",
    "    test_accuracy = accuracy_score(y_test, y_test_pred)\n",
    "    # print(f\"Test Accuracy: {test_accuracy:.4f}\")\n",
    "\n",
    "    return val_accuracy\n",
    "\n",
    "\n",
    "# Create a study object\n",
    "pruner = optuna.pruners.MedianPruner()\n",
    "study = optuna.create_study(direction=\"maximize\", pruner=pruner)\n",
    "\n",
    "# Optimize the objective function\n",
    "study.optimize(objective, n_trials=100)\n",
    "\n",
    "print(\"Best hyperparameters:\", study.best_params)\n",
    "print(\"Best value:\", study.best_value)\n",
    "\n",
    "vis.plot_optimization_history(study)\n",
    "vis.plot_param_importances(study)\n",
    "vis.plot_slice(study)"
   ]
  }
 ],
 "metadata": {
  "kernelspec": {
   "display_name": "venv",
   "language": "python",
   "name": "python3"
  },
  "language_info": {
   "codemirror_mode": {
    "name": "ipython",
    "version": 3
   },
   "file_extension": ".py",
   "mimetype": "text/x-python",
   "name": "python",
   "nbconvert_exporter": "python",
   "pygments_lexer": "ipython3",
   "version": "3.12.3"
  }
 },
 "nbformat": 4,
 "nbformat_minor": 2
}
