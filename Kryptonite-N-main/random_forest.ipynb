{
 "cells": [
  {
   "cell_type": "code",
   "execution_count": null,
   "metadata": {},
   "outputs": [
    {
     "name": "stderr",
     "output_type": "stream",
     "text": [
      "[I 2024-11-11 19:28:32,034] A new study created in memory with name: no-name-f578082f-1ddb-4143-a996-44dda66ac9fa\n",
      "[I 2024-11-11 19:28:32,715] Trial 0 finished with value: 0.49895833333333334 and parameters: {'use_pca': 'True', 'n_pca_components': 1, 'pca_kernel': 'poly', 'n_estimators': 100, 'max_depth': 29, 'max_features': 'sqrt', 'criterion': 'log_loss'}. Best is trial 0 with value: 0.49895833333333334.\n"
     ]
    },
    {
     "name": "stdout",
     "output_type": "stream",
     "text": [
      "Test Accuracy: 0.5007\n"
     ]
    },
    {
     "name": "stderr",
     "output_type": "stream",
     "text": [
      "[I 2024-11-11 19:28:33,858] Trial 1 finished with value: 0.49166666666666664 and parameters: {'use_pca': 'True', 'n_pca_components': 2, 'pca_kernel': 'rbf', 'n_estimators': 300, 'max_depth': 24, 'max_features': 'log2', 'criterion': 'log_loss'}. Best is trial 0 with value: 0.49895833333333334.\n"
     ]
    },
    {
     "name": "stdout",
     "output_type": "stream",
     "text": [
      "Test Accuracy: 0.4905\n"
     ]
    },
    {
     "name": "stderr",
     "output_type": "stream",
     "text": [
      "[I 2024-11-11 19:28:34,322] Trial 2 finished with value: 0.5100694444444445 and parameters: {'use_pca': 'False', 'n_pca_components': 2, 'pca_kernel': 'cosine', 'n_estimators': 175, 'max_depth': 41, 'max_features': 'log2', 'criterion': 'entropy'}. Best is trial 2 with value: 0.5100694444444445.\n"
     ]
    },
    {
     "name": "stdout",
     "output_type": "stream",
     "text": [
      "Test Accuracy: 0.5110\n"
     ]
    },
    {
     "name": "stderr",
     "output_type": "stream",
     "text": [
      "[I 2024-11-11 19:28:35,360] Trial 3 finished with value: 0.4951388888888889 and parameters: {'use_pca': 'True', 'n_pca_components': 4, 'pca_kernel': 'poly', 'n_estimators': 300, 'max_depth': 20, 'max_features': 'sqrt', 'criterion': 'log_loss'}. Best is trial 2 with value: 0.5100694444444445.\n"
     ]
    },
    {
     "name": "stdout",
     "output_type": "stream",
     "text": [
      "Test Accuracy: 0.4825\n"
     ]
    },
    {
     "name": "stderr",
     "output_type": "stream",
     "text": [
      "[I 2024-11-11 19:28:35,659] Trial 4 finished with value: 0.5079861111111111 and parameters: {'use_pca': 'False', 'n_pca_components': 1, 'pca_kernel': 'poly', 'n_estimators': 100, 'max_depth': 48, 'max_features': 'sqrt', 'criterion': 'entropy'}. Best is trial 2 with value: 0.5100694444444445.\n"
     ]
    },
    {
     "name": "stdout",
     "output_type": "stream",
     "text": [
      "Test Accuracy: 0.5129\n"
     ]
    },
    {
     "name": "stderr",
     "output_type": "stream",
     "text": [
      "[I 2024-11-11 19:28:36,063] Trial 5 finished with value: 0.5097222222222222 and parameters: {'use_pca': 'False', 'n_pca_components': 8, 'pca_kernel': 'cosine', 'n_estimators': 150, 'max_depth': 33, 'max_features': 'log2', 'criterion': 'entropy'}. Best is trial 2 with value: 0.5100694444444445.\n"
     ]
    },
    {
     "name": "stdout",
     "output_type": "stream",
     "text": [
      "Test Accuracy: 0.5072\n"
     ]
    },
    {
     "name": "stderr",
     "output_type": "stream",
     "text": [
      "[I 2024-11-11 19:28:36,400] Trial 6 finished with value: 0.5163194444444444 and parameters: {'use_pca': 'False', 'n_pca_components': 4, 'pca_kernel': 'poly', 'n_estimators': 125, 'max_depth': 45, 'max_features': 'log2', 'criterion': 'entropy'}. Best is trial 6 with value: 0.5163194444444444.\n"
     ]
    },
    {
     "name": "stdout",
     "output_type": "stream",
     "text": [
      "Test Accuracy: 0.5061\n"
     ]
    },
    {
     "name": "stderr",
     "output_type": "stream",
     "text": [
      "[I 2024-11-11 19:28:36,693] Trial 7 pruned. \n",
      "[I 2024-11-11 19:28:37,209] Trial 8 pruned. \n",
      "[I 2024-11-11 19:28:38,203] Trial 9 finished with value: 0.7003472222222222 and parameters: {'use_pca': 'True', 'n_pca_components': 9, 'pca_kernel': 'rbf', 'n_estimators': 200, 'max_depth': 35, 'max_features': 'sqrt', 'criterion': 'log_loss'}. Best is trial 9 with value: 0.7003472222222222.\n"
     ]
    },
    {
     "name": "stdout",
     "output_type": "stream",
     "text": [
      "Test Accuracy: 0.7108\n"
     ]
    },
    {
     "name": "stderr",
     "output_type": "stream",
     "text": [
      "[I 2024-11-11 19:28:39,047] Trial 10 pruned. \n",
      "[I 2024-11-11 19:28:39,924] Trial 11 finished with value: 0.5131944444444444 and parameters: {'use_pca': 'True', 'n_pca_components': 5, 'pca_kernel': 'sigmoid', 'n_estimators': 200, 'max_depth': 39, 'max_features': 'log2', 'criterion': 'entropy'}. Best is trial 9 with value: 0.7003472222222222.\n"
     ]
    },
    {
     "name": "stdout",
     "output_type": "stream",
     "text": [
      "Test Accuracy: 0.5036\n"
     ]
    },
    {
     "name": "stderr",
     "output_type": "stream",
     "text": [
      "[I 2024-11-11 19:28:40,856] Trial 12 finished with value: 0.5194444444444445 and parameters: {'use_pca': 'True', 'n_pca_components': 5, 'pca_kernel': 'sigmoid', 'n_estimators': 250, 'max_depth': 48, 'max_features': 'sqrt', 'criterion': 'log_loss'}. Best is trial 9 with value: 0.7003472222222222.\n"
     ]
    },
    {
     "name": "stdout",
     "output_type": "stream",
     "text": [
      "Test Accuracy: 0.5023\n"
     ]
    },
    {
     "name": "stderr",
     "output_type": "stream",
     "text": [
      "[I 2024-11-11 19:28:41,731] Trial 13 pruned. \n",
      "[I 2024-11-11 19:28:42,595] Trial 14 pruned. \n",
      "[I 2024-11-11 19:28:43,519] Trial 15 pruned. \n",
      "[I 2024-11-11 19:28:44,278] Trial 16 pruned. \n",
      "[I 2024-11-11 19:28:45,244] Trial 17 finished with value: 0.7017361111111111 and parameters: {'use_pca': 'True', 'n_pca_components': 9, 'pca_kernel': 'rbf', 'n_estimators': 175, 'max_depth': 33, 'max_features': 'sqrt', 'criterion': 'log_loss'}. Best is trial 17 with value: 0.7017361111111111.\n"
     ]
    },
    {
     "name": "stdout",
     "output_type": "stream",
     "text": [
      "Test Accuracy: 0.7115\n"
     ]
    },
    {
     "name": "stderr",
     "output_type": "stream",
     "text": [
      "[I 2024-11-11 19:28:46,240] Trial 18 finished with value: 0.6940972222222223 and parameters: {'use_pca': 'True', 'n_pca_components': 9, 'pca_kernel': 'rbf', 'n_estimators': 175, 'max_depth': 32, 'max_features': 'sqrt', 'criterion': 'log_loss'}. Best is trial 17 with value: 0.7017361111111111.\n"
     ]
    },
    {
     "name": "stdout",
     "output_type": "stream",
     "text": [
      "Test Accuracy: 0.7039\n"
     ]
    },
    {
     "name": "stderr",
     "output_type": "stream",
     "text": [
      "[I 2024-11-11 19:28:47,171] Trial 19 finished with value: 0.6385416666666667 and parameters: {'use_pca': 'True', 'n_pca_components': 8, 'pca_kernel': 'rbf', 'n_estimators': 175, 'max_depth': 26, 'max_features': 'sqrt', 'criterion': 'log_loss'}. Best is trial 17 with value: 0.7017361111111111.\n"
     ]
    },
    {
     "name": "stdout",
     "output_type": "stream",
     "text": [
      "Test Accuracy: 0.6479\n"
     ]
    },
    {
     "name": "stderr",
     "output_type": "stream",
     "text": [
      "[I 2024-11-11 19:28:48,150] Trial 20 finished with value: 0.6954861111111111 and parameters: {'use_pca': 'True', 'n_pca_components': 9, 'pca_kernel': 'rbf', 'n_estimators': 150, 'max_depth': 33, 'max_features': 'sqrt', 'criterion': 'log_loss'}. Best is trial 17 with value: 0.7017361111111111.\n"
     ]
    },
    {
     "name": "stdout",
     "output_type": "stream",
     "text": [
      "Test Accuracy: 0.7009\n"
     ]
    },
    {
     "name": "stderr",
     "output_type": "stream",
     "text": [
      "[I 2024-11-11 19:28:49,149] Trial 21 finished with value: 0.7010416666666667 and parameters: {'use_pca': 'True', 'n_pca_components': 9, 'pca_kernel': 'rbf', 'n_estimators': 150, 'max_depth': 33, 'max_features': 'sqrt', 'criterion': 'log_loss'}. Best is trial 17 with value: 0.7017361111111111.\n"
     ]
    },
    {
     "name": "stdout",
     "output_type": "stream",
     "text": [
      "Test Accuracy: 0.7074\n"
     ]
    },
    {
     "name": "stderr",
     "output_type": "stream",
     "text": [
      "[I 2024-11-11 19:28:50,027] Trial 22 pruned. \n",
      "[I 2024-11-11 19:28:51,054] Trial 23 finished with value: 0.6940972222222223 and parameters: {'use_pca': 'True', 'n_pca_components': 9, 'pca_kernel': 'rbf', 'n_estimators': 200, 'max_depth': 35, 'max_features': 'sqrt', 'criterion': 'log_loss'}. Best is trial 17 with value: 0.7017361111111111.\n"
     ]
    },
    {
     "name": "stdout",
     "output_type": "stream",
     "text": [
      "Test Accuracy: 0.7128\n"
     ]
    },
    {
     "name": "stderr",
     "output_type": "stream",
     "text": [
      "[I 2024-11-11 19:28:52,007] Trial 24 pruned. \n",
      "[I 2024-11-11 19:28:52,867] Trial 25 finished with value: 0.6347222222222222 and parameters: {'use_pca': 'True', 'n_pca_components': 8, 'pca_kernel': 'rbf', 'n_estimators': 125, 'max_depth': 33, 'max_features': 'sqrt', 'criterion': 'log_loss'}. Best is trial 17 with value: 0.7017361111111111.\n"
     ]
    },
    {
     "name": "stdout",
     "output_type": "stream",
     "text": [
      "Test Accuracy: 0.6455\n"
     ]
    },
    {
     "name": "stderr",
     "output_type": "stream",
     "text": [
      "[I 2024-11-11 19:28:53,692] Trial 26 pruned. \n",
      "[I 2024-11-11 19:28:54,568] Trial 27 finished with value: 0.6541666666666667 and parameters: {'use_pca': 'True', 'n_pca_components': 8, 'pca_kernel': 'rbf', 'n_estimators': 150, 'max_depth': 26, 'max_features': 'sqrt', 'criterion': 'log_loss'}. Best is trial 17 with value: 0.7017361111111111.\n"
     ]
    },
    {
     "name": "stdout",
     "output_type": "stream",
     "text": [
      "Test Accuracy: 0.6567\n"
     ]
    },
    {
     "name": "stderr",
     "output_type": "stream",
     "text": [
      "[I 2024-11-11 19:28:55,277] Trial 28 pruned. \n",
      "[I 2024-11-11 19:28:56,129] Trial 29 pruned. \n",
      "[I 2024-11-11 19:28:57,161] Trial 30 finished with value: 0.6958333333333333 and parameters: {'use_pca': 'True', 'n_pca_components': 9, 'pca_kernel': 'rbf', 'n_estimators': 200, 'max_depth': 28, 'max_features': 'sqrt', 'criterion': 'log_loss'}. Best is trial 17 with value: 0.7017361111111111.\n"
     ]
    },
    {
     "name": "stdout",
     "output_type": "stream",
     "text": [
      "Test Accuracy: 0.7028\n"
     ]
    },
    {
     "name": "stderr",
     "output_type": "stream",
     "text": [
      "[I 2024-11-11 19:28:58,161] Trial 31 finished with value: 0.7038194444444444 and parameters: {'use_pca': 'True', 'n_pca_components': 9, 'pca_kernel': 'rbf', 'n_estimators': 200, 'max_depth': 28, 'max_features': 'sqrt', 'criterion': 'log_loss'}. Best is trial 31 with value: 0.7038194444444444.\n"
     ]
    },
    {
     "name": "stdout",
     "output_type": "stream",
     "text": [
      "Test Accuracy: 0.7109\n"
     ]
    },
    {
     "name": "stderr",
     "output_type": "stream",
     "text": [
      "[I 2024-11-11 19:28:59,192] Trial 32 finished with value: 0.6392361111111111 and parameters: {'use_pca': 'True', 'n_pca_components': 8, 'pca_kernel': 'rbf', 'n_estimators': 200, 'max_depth': 23, 'max_features': 'sqrt', 'criterion': 'log_loss'}. Best is trial 31 with value: 0.7038194444444444.\n"
     ]
    },
    {
     "name": "stdout",
     "output_type": "stream",
     "text": [
      "Test Accuracy: 0.6460\n"
     ]
    },
    {
     "name": "stderr",
     "output_type": "stream",
     "text": [
      "[I 2024-11-11 19:29:00,260] Trial 33 finished with value: 0.6982638888888889 and parameters: {'use_pca': 'True', 'n_pca_components': 9, 'pca_kernel': 'rbf', 'n_estimators': 225, 'max_depth': 29, 'max_features': 'sqrt', 'criterion': 'log_loss'}. Best is trial 31 with value: 0.7038194444444444.\n"
     ]
    },
    {
     "name": "stdout",
     "output_type": "stream",
     "text": [
      "Test Accuracy: 0.7089\n"
     ]
    },
    {
     "name": "stderr",
     "output_type": "stream",
     "text": [
      "[I 2024-11-11 19:29:01,246] Trial 34 finished with value: 0.6763888888888889 and parameters: {'use_pca': 'True', 'n_pca_components': 8, 'pca_kernel': 'rbf', 'n_estimators': 175, 'max_depth': 26, 'max_features': 'log2', 'criterion': 'log_loss'}. Best is trial 31 with value: 0.7038194444444444.\n"
     ]
    },
    {
     "name": "stdout",
     "output_type": "stream",
     "text": [
      "Test Accuracy: 0.6927\n"
     ]
    },
    {
     "name": "stderr",
     "output_type": "stream",
     "text": [
      "[I 2024-11-11 19:29:01,917] Trial 35 pruned. \n",
      "[I 2024-11-11 19:29:02,721] Trial 36 pruned. \n",
      "[I 2024-11-11 19:29:03,171] Trial 37 pruned. \n",
      "[I 2024-11-11 19:29:03,500] Trial 38 pruned. \n",
      "[I 2024-11-11 19:29:04,021] Trial 39 pruned. \n",
      "[I 2024-11-11 19:29:04,879] Trial 40 pruned. \n",
      "[I 2024-11-11 19:29:05,937] Trial 41 finished with value: 0.6979166666666666 and parameters: {'use_pca': 'True', 'n_pca_components': 9, 'pca_kernel': 'rbf', 'n_estimators': 225, 'max_depth': 27, 'max_features': 'sqrt', 'criterion': 'log_loss'}. Best is trial 31 with value: 0.7038194444444444.\n"
     ]
    },
    {
     "name": "stdout",
     "output_type": "stream",
     "text": [
      "Test Accuracy: 0.7009\n"
     ]
    },
    {
     "name": "stderr",
     "output_type": "stream",
     "text": [
      "[I 2024-11-11 19:29:06,941] Trial 42 finished with value: 0.6895833333333333 and parameters: {'use_pca': 'True', 'n_pca_components': 9, 'pca_kernel': 'rbf', 'n_estimators': 200, 'max_depth': 31, 'max_features': 'sqrt', 'criterion': 'log_loss'}. Best is trial 31 with value: 0.7038194444444444.\n"
     ]
    },
    {
     "name": "stdout",
     "output_type": "stream",
     "text": [
      "Test Accuracy: 0.6962\n"
     ]
    },
    {
     "name": "stderr",
     "output_type": "stream",
     "text": [
      "[I 2024-11-11 19:29:07,877] Trial 43 pruned. \n",
      "[I 2024-11-11 19:29:08,765] Trial 44 pruned. \n",
      "[I 2024-11-11 19:29:09,817] Trial 45 pruned. \n",
      "[I 2024-11-11 19:29:10,363] Trial 46 pruned. \n",
      "[I 2024-11-11 19:29:11,201] Trial 47 pruned. \n",
      "[I 2024-11-11 19:29:12,215] Trial 48 finished with value: 0.6944444444444444 and parameters: {'use_pca': 'True', 'n_pca_components': 9, 'pca_kernel': 'rbf', 'n_estimators': 200, 'max_depth': 32, 'max_features': 'sqrt', 'criterion': 'log_loss'}. Best is trial 31 with value: 0.7038194444444444.\n"
     ]
    },
    {
     "name": "stdout",
     "output_type": "stream",
     "text": [
      "Test Accuracy: 0.7010\n"
     ]
    },
    {
     "name": "stderr",
     "output_type": "stream",
     "text": [
      "[I 2024-11-11 19:29:13,261] Trial 49 pruned. \n",
      "[I 2024-11-11 19:29:13,739] Trial 50 pruned. \n",
      "[I 2024-11-11 19:29:14,810] Trial 51 finished with value: 0.7086805555555555 and parameters: {'use_pca': 'True', 'n_pca_components': 9, 'pca_kernel': 'rbf', 'n_estimators': 225, 'max_depth': 27, 'max_features': 'sqrt', 'criterion': 'log_loss'}. Best is trial 51 with value: 0.7086805555555555.\n"
     ]
    },
    {
     "name": "stdout",
     "output_type": "stream",
     "text": [
      "Test Accuracy: 0.7102\n"
     ]
    },
    {
     "name": "stderr",
     "output_type": "stream",
     "text": [
      "[I 2024-11-11 19:29:15,957] Trial 52 finished with value: 0.6972222222222222 and parameters: {'use_pca': 'True', 'n_pca_components': 9, 'pca_kernel': 'rbf', 'n_estimators': 275, 'max_depth': 25, 'max_features': 'sqrt', 'criterion': 'log_loss'}. Best is trial 51 with value: 0.7086805555555555.\n"
     ]
    },
    {
     "name": "stdout",
     "output_type": "stream",
     "text": [
      "Test Accuracy: 0.7099\n"
     ]
    },
    {
     "name": "stderr",
     "output_type": "stream",
     "text": [
      "[I 2024-11-11 19:29:16,933] Trial 53 pruned. \n",
      "[I 2024-11-11 19:29:17,952] Trial 54 finished with value: 0.6923611111111111 and parameters: {'use_pca': 'True', 'n_pca_components': 9, 'pca_kernel': 'rbf', 'n_estimators': 200, 'max_depth': 32, 'max_features': 'sqrt', 'criterion': 'log_loss'}. Best is trial 51 with value: 0.7086805555555555.\n"
     ]
    },
    {
     "name": "stdout",
     "output_type": "stream",
     "text": [
      "Test Accuracy: 0.7117\n"
     ]
    },
    {
     "name": "stderr",
     "output_type": "stream",
     "text": [
      "[I 2024-11-11 19:29:18,697] Trial 55 pruned. \n",
      "[I 2024-11-11 19:29:19,640] Trial 56 pruned. \n",
      "[I 2024-11-11 19:29:20,659] Trial 57 finished with value: 0.7135416666666666 and parameters: {'use_pca': 'True', 'n_pca_components': 9, 'pca_kernel': 'rbf', 'n_estimators': 225, 'max_depth': 27, 'max_features': 'sqrt', 'criterion': 'entropy'}. Best is trial 57 with value: 0.7135416666666666.\n"
     ]
    },
    {
     "name": "stdout",
     "output_type": "stream",
     "text": [
      "Test Accuracy: 0.7161\n"
     ]
    },
    {
     "name": "stderr",
     "output_type": "stream",
     "text": [
      "[I 2024-11-11 19:29:21,268] Trial 58 pruned. \n",
      "[I 2024-11-11 19:29:21,957] Trial 59 pruned. \n",
      "[I 2024-11-11 19:29:22,754] Trial 60 pruned. \n",
      "[I 2024-11-11 19:29:23,800] Trial 61 finished with value: 0.6996527777777778 and parameters: {'use_pca': 'True', 'n_pca_components': 9, 'pca_kernel': 'rbf', 'n_estimators': 225, 'max_depth': 27, 'max_features': 'sqrt', 'criterion': 'entropy'}. Best is trial 57 with value: 0.7135416666666666.\n"
     ]
    },
    {
     "name": "stdout",
     "output_type": "stream",
     "text": [
      "Test Accuracy: 0.7121\n"
     ]
    },
    {
     "name": "stderr",
     "output_type": "stream",
     "text": [
      "[I 2024-11-11 19:29:24,798] Trial 62 finished with value: 0.6944444444444444 and parameters: {'use_pca': 'True', 'n_pca_components': 9, 'pca_kernel': 'rbf', 'n_estimators': 225, 'max_depth': 25, 'max_features': 'sqrt', 'criterion': 'entropy'}. Best is trial 57 with value: 0.7135416666666666.\n"
     ]
    },
    {
     "name": "stdout",
     "output_type": "stream",
     "text": [
      "Test Accuracy: 0.7076\n"
     ]
    },
    {
     "name": "stderr",
     "output_type": "stream",
     "text": [
      "[I 2024-11-11 19:29:25,788] Trial 63 finished with value: 0.6989583333333333 and parameters: {'use_pca': 'True', 'n_pca_components': 9, 'pca_kernel': 'rbf', 'n_estimators': 225, 'max_depth': 28, 'max_features': 'sqrt', 'criterion': 'entropy'}. Best is trial 57 with value: 0.7135416666666666.\n"
     ]
    },
    {
     "name": "stdout",
     "output_type": "stream",
     "text": [
      "Test Accuracy: 0.7049\n"
     ]
    },
    {
     "name": "stderr",
     "output_type": "stream",
     "text": [
      "[I 2024-11-11 19:29:26,668] Trial 64 pruned. \n",
      "[I 2024-11-11 19:29:27,746] Trial 65 finished with value: 0.7111111111111111 and parameters: {'use_pca': 'True', 'n_pca_components': 9, 'pca_kernel': 'rbf', 'n_estimators': 250, 'max_depth': 25, 'max_features': 'sqrt', 'criterion': 'entropy'}. Best is trial 57 with value: 0.7135416666666666.\n"
     ]
    },
    {
     "name": "stdout",
     "output_type": "stream",
     "text": [
      "Test Accuracy: 0.7134\n"
     ]
    },
    {
     "name": "stderr",
     "output_type": "stream",
     "text": [
      "[I 2024-11-11 19:29:28,796] Trial 66 finished with value: 0.7055555555555556 and parameters: {'use_pca': 'True', 'n_pca_components': 9, 'pca_kernel': 'rbf', 'n_estimators': 250, 'max_depth': 23, 'max_features': 'sqrt', 'criterion': 'entropy'}. Best is trial 57 with value: 0.7135416666666666.\n"
     ]
    },
    {
     "name": "stdout",
     "output_type": "stream",
     "text": [
      "Test Accuracy: 0.7152\n"
     ]
    },
    {
     "name": "stderr",
     "output_type": "stream",
     "text": [
      "[I 2024-11-11 19:29:29,830] Trial 67 pruned. \n",
      "[I 2024-11-11 19:29:30,848] Trial 68 pruned. \n",
      "[I 2024-11-11 19:29:32,111] Trial 69 finished with value: 0.7100694444444444 and parameters: {'use_pca': 'True', 'n_pca_components': 9, 'pca_kernel': 'rbf', 'n_estimators': 300, 'max_depth': 25, 'max_features': 'sqrt', 'criterion': 'entropy'}. Best is trial 57 with value: 0.7135416666666666.\n"
     ]
    },
    {
     "name": "stdout",
     "output_type": "stream",
     "text": [
      "Test Accuracy: 0.7148\n"
     ]
    },
    {
     "name": "stderr",
     "output_type": "stream",
     "text": [
      "[I 2024-11-11 19:29:33,099] Trial 70 pruned. \n",
      "[I 2024-11-11 19:29:34,326] Trial 71 finished with value: 0.6947916666666667 and parameters: {'use_pca': 'True', 'n_pca_components': 9, 'pca_kernel': 'rbf', 'n_estimators': 275, 'max_depth': 23, 'max_features': 'sqrt', 'criterion': 'entropy'}. Best is trial 57 with value: 0.7135416666666666.\n"
     ]
    },
    {
     "name": "stdout",
     "output_type": "stream",
     "text": [
      "Test Accuracy: 0.7092\n"
     ]
    },
    {
     "name": "stderr",
     "output_type": "stream",
     "text": [
      "[I 2024-11-11 19:29:35,569] Trial 72 finished with value: 0.7104166666666667 and parameters: {'use_pca': 'True', 'n_pca_components': 9, 'pca_kernel': 'rbf', 'n_estimators': 300, 'max_depth': 26, 'max_features': 'sqrt', 'criterion': 'entropy'}. Best is trial 57 with value: 0.7135416666666666.\n"
     ]
    },
    {
     "name": "stdout",
     "output_type": "stream",
     "text": [
      "Test Accuracy: 0.7169\n"
     ]
    },
    {
     "name": "stderr",
     "output_type": "stream",
     "text": [
      "[I 2024-11-11 19:29:36,798] Trial 73 finished with value: 0.7006944444444444 and parameters: {'use_pca': 'True', 'n_pca_components': 9, 'pca_kernel': 'rbf', 'n_estimators': 300, 'max_depth': 20, 'max_features': 'sqrt', 'criterion': 'entropy'}. Best is trial 57 with value: 0.7135416666666666.\n"
     ]
    },
    {
     "name": "stdout",
     "output_type": "stream",
     "text": [
      "Test Accuracy: 0.7089\n"
     ]
    },
    {
     "name": "stderr",
     "output_type": "stream",
     "text": [
      "[I 2024-11-11 19:29:38,063] Trial 74 finished with value: 0.7083333333333334 and parameters: {'use_pca': 'True', 'n_pca_components': 9, 'pca_kernel': 'rbf', 'n_estimators': 300, 'max_depth': 25, 'max_features': 'sqrt', 'criterion': 'entropy'}. Best is trial 57 with value: 0.7135416666666666.\n"
     ]
    },
    {
     "name": "stdout",
     "output_type": "stream",
     "text": [
      "Test Accuracy: 0.7194\n"
     ]
    },
    {
     "name": "stderr",
     "output_type": "stream",
     "text": [
      "[I 2024-11-11 19:29:39,353] Trial 75 finished with value: 0.7045138888888889 and parameters: {'use_pca': 'True', 'n_pca_components': 9, 'pca_kernel': 'rbf', 'n_estimators': 300, 'max_depth': 25, 'max_features': 'sqrt', 'criterion': 'entropy'}. Best is trial 57 with value: 0.7135416666666666.\n"
     ]
    },
    {
     "name": "stdout",
     "output_type": "stream",
     "text": [
      "Test Accuracy: 0.7039\n"
     ]
    },
    {
     "name": "stderr",
     "output_type": "stream",
     "text": [
      "[I 2024-11-11 19:29:40,562] Trial 76 pruned. \n",
      "[I 2024-11-11 19:29:41,275] Trial 77 pruned. \n",
      "[I 2024-11-11 19:29:42,638] Trial 78 pruned. \n",
      "[I 2024-11-11 19:29:43,610] Trial 79 pruned. \n",
      "[I 2024-11-11 19:29:44,738] Trial 80 pruned. \n",
      "[I 2024-11-11 19:29:46,020] Trial 81 pruned. \n",
      "[I 2024-11-11 19:29:47,180] Trial 82 finished with value: 0.7024305555555556 and parameters: {'use_pca': 'True', 'n_pca_components': 9, 'pca_kernel': 'rbf', 'n_estimators': 275, 'max_depth': 23, 'max_features': 'sqrt', 'criterion': 'entropy'}. Best is trial 57 with value: 0.7135416666666666.\n"
     ]
    },
    {
     "name": "stdout",
     "output_type": "stream",
     "text": [
      "Test Accuracy: 0.7149\n"
     ]
    },
    {
     "name": "stderr",
     "output_type": "stream",
     "text": [
      "[I 2024-11-11 19:29:48,452] Trial 83 finished with value: 0.7013888888888888 and parameters: {'use_pca': 'True', 'n_pca_components': 9, 'pca_kernel': 'rbf', 'n_estimators': 300, 'max_depth': 25, 'max_features': 'sqrt', 'criterion': 'entropy'}. Best is trial 57 with value: 0.7135416666666666.\n"
     ]
    },
    {
     "name": "stdout",
     "output_type": "stream",
     "text": [
      "Test Accuracy: 0.7108\n"
     ]
    },
    {
     "name": "stderr",
     "output_type": "stream",
     "text": [
      "[I 2024-11-11 19:29:49,680] Trial 84 finished with value: 0.7052083333333333 and parameters: {'use_pca': 'True', 'n_pca_components': 9, 'pca_kernel': 'rbf', 'n_estimators': 275, 'max_depth': 21, 'max_features': 'sqrt', 'criterion': 'entropy'}. Best is trial 57 with value: 0.7135416666666666.\n"
     ]
    },
    {
     "name": "stdout",
     "output_type": "stream",
     "text": [
      "Test Accuracy: 0.7063\n"
     ]
    },
    {
     "name": "stderr",
     "output_type": "stream",
     "text": [
      "[I 2024-11-11 19:29:50,889] Trial 85 finished with value: 0.7038194444444444 and parameters: {'use_pca': 'True', 'n_pca_components': 9, 'pca_kernel': 'rbf', 'n_estimators': 275, 'max_depth': 21, 'max_features': 'sqrt', 'criterion': 'entropy'}. Best is trial 57 with value: 0.7135416666666666.\n"
     ]
    },
    {
     "name": "stdout",
     "output_type": "stream",
     "text": [
      "Test Accuracy: 0.7048\n"
     ]
    },
    {
     "name": "stderr",
     "output_type": "stream",
     "text": [
      "[I 2024-11-11 19:29:51,967] Trial 86 pruned. \n",
      "[I 2024-11-11 19:29:53,244] Trial 87 finished with value: 0.6958333333333333 and parameters: {'use_pca': 'True', 'n_pca_components': 9, 'pca_kernel': 'rbf', 'n_estimators': 300, 'max_depth': 20, 'max_features': 'sqrt', 'criterion': 'entropy'}. Best is trial 57 with value: 0.7135416666666666.\n"
     ]
    },
    {
     "name": "stdout",
     "output_type": "stream",
     "text": [
      "Test Accuracy: 0.7064\n"
     ]
    },
    {
     "name": "stderr",
     "output_type": "stream",
     "text": [
      "[I 2024-11-11 19:29:53,810] Trial 88 pruned. \n",
      "[I 2024-11-11 19:29:54,956] Trial 89 pruned. \n",
      "[I 2024-11-11 19:29:56,072] Trial 90 pruned. \n",
      "[I 2024-11-11 19:29:57,323] Trial 91 finished with value: 0.7072916666666667 and parameters: {'use_pca': 'True', 'n_pca_components': 9, 'pca_kernel': 'rbf', 'n_estimators': 300, 'max_depth': 27, 'max_features': 'sqrt', 'criterion': 'entropy'}. Best is trial 57 with value: 0.7135416666666666.\n"
     ]
    },
    {
     "name": "stdout",
     "output_type": "stream",
     "text": [
      "Test Accuracy: 0.7153\n"
     ]
    },
    {
     "name": "stderr",
     "output_type": "stream",
     "text": [
      "[I 2024-11-11 19:29:58,549] Trial 92 finished with value: 0.7006944444444444 and parameters: {'use_pca': 'True', 'n_pca_components': 9, 'pca_kernel': 'rbf', 'n_estimators': 300, 'max_depth': 24, 'max_features': 'sqrt', 'criterion': 'entropy'}. Best is trial 57 with value: 0.7135416666666666.\n"
     ]
    },
    {
     "name": "stdout",
     "output_type": "stream",
     "text": [
      "Test Accuracy: 0.7071\n"
     ]
    },
    {
     "name": "stderr",
     "output_type": "stream",
     "text": [
      "[I 2024-11-11 19:29:59,769] Trial 93 finished with value: 0.6996527777777778 and parameters: {'use_pca': 'True', 'n_pca_components': 9, 'pca_kernel': 'rbf', 'n_estimators': 300, 'max_depth': 27, 'max_features': 'sqrt', 'criterion': 'entropy'}. Best is trial 57 with value: 0.7135416666666666.\n"
     ]
    },
    {
     "name": "stdout",
     "output_type": "stream",
     "text": [
      "Test Accuracy: 0.7082\n"
     ]
    },
    {
     "name": "stderr",
     "output_type": "stream",
     "text": [
      "[I 2024-11-11 19:30:00,946] Trial 94 finished with value: 0.70625 and parameters: {'use_pca': 'True', 'n_pca_components': 9, 'pca_kernel': 'rbf', 'n_estimators': 275, 'max_depth': 29, 'max_features': 'sqrt', 'criterion': 'entropy'}. Best is trial 57 with value: 0.7135416666666666.\n"
     ]
    },
    {
     "name": "stdout",
     "output_type": "stream",
     "text": [
      "Test Accuracy: 0.7135\n"
     ]
    },
    {
     "name": "stderr",
     "output_type": "stream",
     "text": [
      "[I 2024-11-11 19:30:02,143] Trial 95 finished with value: 0.6982638888888889 and parameters: {'use_pca': 'True', 'n_pca_components': 9, 'pca_kernel': 'rbf', 'n_estimators': 275, 'max_depth': 28, 'max_features': 'sqrt', 'criterion': 'entropy'}. Best is trial 57 with value: 0.7135416666666666.\n"
     ]
    },
    {
     "name": "stdout",
     "output_type": "stream",
     "text": [
      "Test Accuracy: 0.7017\n"
     ]
    },
    {
     "name": "stderr",
     "output_type": "stream",
     "text": [
      "[I 2024-11-11 19:30:03,161] Trial 96 pruned. \n",
      "[I 2024-11-11 19:30:04,221] Trial 97 pruned. \n",
      "[I 2024-11-11 19:30:05,172] Trial 98 pruned. \n",
      "[I 2024-11-11 19:30:06,054] Trial 99 pruned. \n"
     ]
    },
    {
     "name": "stdout",
     "output_type": "stream",
     "text": [
      "Best hyperparameters: {'use_pca': 'True', 'n_pca_components': 9, 'pca_kernel': 'rbf', 'n_estimators': 225, 'max_depth': 27, 'max_features': 'sqrt', 'criterion': 'entropy'}\n",
      "Best value: 0.7135416666666666\n"
     ]
    },
    {
     "data": {
      "application/vnd.plotly.v1+json": {
       "config": {
        "plotlyServerURL": "https://plot.ly"
       },
       "data": [
        {
         "mode": "markers",
         "name": "Objective Value",
         "type": "scatter",
         "x": [
          0,
          1,
          2,
          3,
          4,
          5,
          6,
          9,
          11,
          12,
          17,
          18,
          19,
          20,
          21,
          23,
          25,
          27,
          30,
          31,
          32,
          33,
          34,
          41,
          42,
          48,
          51,
          52,
          54,
          57,
          61,
          62,
          63,
          65,
          66,
          69,
          71,
          72,
          73,
          74,
          75,
          82,
          83,
          84,
          85,
          87,
          91,
          92,
          93,
          94,
          95
         ],
         "y": [
          0.49895833333333334,
          0.49166666666666664,
          0.5100694444444445,
          0.4951388888888889,
          0.5079861111111111,
          0.5097222222222222,
          0.5163194444444444,
          0.7003472222222222,
          0.5131944444444444,
          0.5194444444444445,
          0.7017361111111111,
          0.6940972222222223,
          0.6385416666666667,
          0.6954861111111111,
          0.7010416666666667,
          0.6940972222222223,
          0.6347222222222222,
          0.6541666666666667,
          0.6958333333333333,
          0.7038194444444444,
          0.6392361111111111,
          0.6982638888888889,
          0.6763888888888889,
          0.6979166666666666,
          0.6895833333333333,
          0.6944444444444444,
          0.7086805555555555,
          0.6972222222222222,
          0.6923611111111111,
          0.7135416666666666,
          0.6996527777777778,
          0.6944444444444444,
          0.6989583333333333,
          0.7111111111111111,
          0.7055555555555556,
          0.7100694444444444,
          0.6947916666666667,
          0.7104166666666667,
          0.7006944444444444,
          0.7083333333333334,
          0.7045138888888889,
          0.7024305555555556,
          0.7013888888888888,
          0.7052083333333333,
          0.7038194444444444,
          0.6958333333333333,
          0.7072916666666667,
          0.7006944444444444,
          0.6996527777777778,
          0.70625,
          0.6982638888888889
         ]
        },
        {
         "mode": "lines",
         "name": "Best Value",
         "type": "scatter",
         "x": [
          0,
          1,
          2,
          3,
          4,
          5,
          6,
          7,
          8,
          9,
          10,
          11,
          12,
          13,
          14,
          15,
          16,
          17,
          18,
          19,
          20,
          21,
          22,
          23,
          24,
          25,
          26,
          27,
          28,
          29,
          30,
          31,
          32,
          33,
          34,
          35,
          36,
          37,
          38,
          39,
          40,
          41,
          42,
          43,
          44,
          45,
          46,
          47,
          48,
          49,
          50,
          51,
          52,
          53,
          54,
          55,
          56,
          57,
          58,
          59,
          60,
          61,
          62,
          63,
          64,
          65,
          66,
          67,
          68,
          69,
          70,
          71,
          72,
          73,
          74,
          75,
          76,
          77,
          78,
          79,
          80,
          81,
          82,
          83,
          84,
          85,
          86,
          87,
          88,
          89,
          90,
          91,
          92,
          93,
          94,
          95,
          96,
          97,
          98,
          99
         ],
         "y": [
          0.49895833333333334,
          0.49895833333333334,
          0.5100694444444445,
          0.5100694444444445,
          0.5100694444444445,
          0.5100694444444445,
          0.5163194444444444,
          0.5163194444444444,
          0.5163194444444444,
          0.7003472222222222,
          0.7003472222222222,
          0.7003472222222222,
          0.7003472222222222,
          0.7003472222222222,
          0.7003472222222222,
          0.7003472222222222,
          0.7003472222222222,
          0.7017361111111111,
          0.7017361111111111,
          0.7017361111111111,
          0.7017361111111111,
          0.7017361111111111,
          0.7017361111111111,
          0.7017361111111111,
          0.7017361111111111,
          0.7017361111111111,
          0.7017361111111111,
          0.7017361111111111,
          0.7017361111111111,
          0.7017361111111111,
          0.7017361111111111,
          0.7038194444444444,
          0.7038194444444444,
          0.7038194444444444,
          0.7038194444444444,
          0.7038194444444444,
          0.7038194444444444,
          0.7038194444444444,
          0.7038194444444444,
          0.7038194444444444,
          0.7038194444444444,
          0.7038194444444444,
          0.7038194444444444,
          0.7038194444444444,
          0.7038194444444444,
          0.7038194444444444,
          0.7038194444444444,
          0.7038194444444444,
          0.7038194444444444,
          0.7038194444444444,
          0.7038194444444444,
          0.7086805555555555,
          0.7086805555555555,
          0.7086805555555555,
          0.7086805555555555,
          0.7086805555555555,
          0.7086805555555555,
          0.7135416666666666,
          0.7135416666666666,
          0.7135416666666666,
          0.7135416666666666,
          0.7135416666666666,
          0.7135416666666666,
          0.7135416666666666,
          0.7135416666666666,
          0.7135416666666666,
          0.7135416666666666,
          0.7135416666666666,
          0.7135416666666666,
          0.7135416666666666,
          0.7135416666666666,
          0.7135416666666666,
          0.7135416666666666,
          0.7135416666666666,
          0.7135416666666666,
          0.7135416666666666,
          0.7135416666666666,
          0.7135416666666666,
          0.7135416666666666,
          0.7135416666666666,
          0.7135416666666666,
          0.7135416666666666,
          0.7135416666666666,
          0.7135416666666666,
          0.7135416666666666,
          0.7135416666666666,
          0.7135416666666666,
          0.7135416666666666,
          0.7135416666666666,
          0.7135416666666666,
          0.7135416666666666,
          0.7135416666666666,
          0.7135416666666666,
          0.7135416666666666,
          0.7135416666666666,
          0.7135416666666666,
          0.7135416666666666,
          0.7135416666666666,
          0.7135416666666666,
          0.7135416666666666
         ]
        },
        {
         "marker": {
          "color": "#cccccc"
         },
         "mode": "markers",
         "name": "Infeasible Trial",
         "showlegend": false,
         "type": "scatter",
         "x": [],
         "y": []
        }
       ],
       "layout": {
        "template": {
         "data": {
          "bar": [
           {
            "error_x": {
             "color": "#2a3f5f"
            },
            "error_y": {
             "color": "#2a3f5f"
            },
            "marker": {
             "line": {
              "color": "#E5ECF6",
              "width": 0.5
             },
             "pattern": {
              "fillmode": "overlay",
              "size": 10,
              "solidity": 0.2
             }
            },
            "type": "bar"
           }
          ],
          "barpolar": [
           {
            "marker": {
             "line": {
              "color": "#E5ECF6",
              "width": 0.5
             },
             "pattern": {
              "fillmode": "overlay",
              "size": 10,
              "solidity": 0.2
             }
            },
            "type": "barpolar"
           }
          ],
          "carpet": [
           {
            "aaxis": {
             "endlinecolor": "#2a3f5f",
             "gridcolor": "white",
             "linecolor": "white",
             "minorgridcolor": "white",
             "startlinecolor": "#2a3f5f"
            },
            "baxis": {
             "endlinecolor": "#2a3f5f",
             "gridcolor": "white",
             "linecolor": "white",
             "minorgridcolor": "white",
             "startlinecolor": "#2a3f5f"
            },
            "type": "carpet"
           }
          ],
          "choropleth": [
           {
            "colorbar": {
             "outlinewidth": 0,
             "ticks": ""
            },
            "type": "choropleth"
           }
          ],
          "contour": [
           {
            "colorbar": {
             "outlinewidth": 0,
             "ticks": ""
            },
            "colorscale": [
             [
              0,
              "#0d0887"
             ],
             [
              0.1111111111111111,
              "#46039f"
             ],
             [
              0.2222222222222222,
              "#7201a8"
             ],
             [
              0.3333333333333333,
              "#9c179e"
             ],
             [
              0.4444444444444444,
              "#bd3786"
             ],
             [
              0.5555555555555556,
              "#d8576b"
             ],
             [
              0.6666666666666666,
              "#ed7953"
             ],
             [
              0.7777777777777778,
              "#fb9f3a"
             ],
             [
              0.8888888888888888,
              "#fdca26"
             ],
             [
              1,
              "#f0f921"
             ]
            ],
            "type": "contour"
           }
          ],
          "contourcarpet": [
           {
            "colorbar": {
             "outlinewidth": 0,
             "ticks": ""
            },
            "type": "contourcarpet"
           }
          ],
          "heatmap": [
           {
            "colorbar": {
             "outlinewidth": 0,
             "ticks": ""
            },
            "colorscale": [
             [
              0,
              "#0d0887"
             ],
             [
              0.1111111111111111,
              "#46039f"
             ],
             [
              0.2222222222222222,
              "#7201a8"
             ],
             [
              0.3333333333333333,
              "#9c179e"
             ],
             [
              0.4444444444444444,
              "#bd3786"
             ],
             [
              0.5555555555555556,
              "#d8576b"
             ],
             [
              0.6666666666666666,
              "#ed7953"
             ],
             [
              0.7777777777777778,
              "#fb9f3a"
             ],
             [
              0.8888888888888888,
              "#fdca26"
             ],
             [
              1,
              "#f0f921"
             ]
            ],
            "type": "heatmap"
           }
          ],
          "heatmapgl": [
           {
            "colorbar": {
             "outlinewidth": 0,
             "ticks": ""
            },
            "colorscale": [
             [
              0,
              "#0d0887"
             ],
             [
              0.1111111111111111,
              "#46039f"
             ],
             [
              0.2222222222222222,
              "#7201a8"
             ],
             [
              0.3333333333333333,
              "#9c179e"
             ],
             [
              0.4444444444444444,
              "#bd3786"
             ],
             [
              0.5555555555555556,
              "#d8576b"
             ],
             [
              0.6666666666666666,
              "#ed7953"
             ],
             [
              0.7777777777777778,
              "#fb9f3a"
             ],
             [
              0.8888888888888888,
              "#fdca26"
             ],
             [
              1,
              "#f0f921"
             ]
            ],
            "type": "heatmapgl"
           }
          ],
          "histogram": [
           {
            "marker": {
             "pattern": {
              "fillmode": "overlay",
              "size": 10,
              "solidity": 0.2
             }
            },
            "type": "histogram"
           }
          ],
          "histogram2d": [
           {
            "colorbar": {
             "outlinewidth": 0,
             "ticks": ""
            },
            "colorscale": [
             [
              0,
              "#0d0887"
             ],
             [
              0.1111111111111111,
              "#46039f"
             ],
             [
              0.2222222222222222,
              "#7201a8"
             ],
             [
              0.3333333333333333,
              "#9c179e"
             ],
             [
              0.4444444444444444,
              "#bd3786"
             ],
             [
              0.5555555555555556,
              "#d8576b"
             ],
             [
              0.6666666666666666,
              "#ed7953"
             ],
             [
              0.7777777777777778,
              "#fb9f3a"
             ],
             [
              0.8888888888888888,
              "#fdca26"
             ],
             [
              1,
              "#f0f921"
             ]
            ],
            "type": "histogram2d"
           }
          ],
          "histogram2dcontour": [
           {
            "colorbar": {
             "outlinewidth": 0,
             "ticks": ""
            },
            "colorscale": [
             [
              0,
              "#0d0887"
             ],
             [
              0.1111111111111111,
              "#46039f"
             ],
             [
              0.2222222222222222,
              "#7201a8"
             ],
             [
              0.3333333333333333,
              "#9c179e"
             ],
             [
              0.4444444444444444,
              "#bd3786"
             ],
             [
              0.5555555555555556,
              "#d8576b"
             ],
             [
              0.6666666666666666,
              "#ed7953"
             ],
             [
              0.7777777777777778,
              "#fb9f3a"
             ],
             [
              0.8888888888888888,
              "#fdca26"
             ],
             [
              1,
              "#f0f921"
             ]
            ],
            "type": "histogram2dcontour"
           }
          ],
          "mesh3d": [
           {
            "colorbar": {
             "outlinewidth": 0,
             "ticks": ""
            },
            "type": "mesh3d"
           }
          ],
          "parcoords": [
           {
            "line": {
             "colorbar": {
              "outlinewidth": 0,
              "ticks": ""
             }
            },
            "type": "parcoords"
           }
          ],
          "pie": [
           {
            "automargin": true,
            "type": "pie"
           }
          ],
          "scatter": [
           {
            "fillpattern": {
             "fillmode": "overlay",
             "size": 10,
             "solidity": 0.2
            },
            "type": "scatter"
           }
          ],
          "scatter3d": [
           {
            "line": {
             "colorbar": {
              "outlinewidth": 0,
              "ticks": ""
             }
            },
            "marker": {
             "colorbar": {
              "outlinewidth": 0,
              "ticks": ""
             }
            },
            "type": "scatter3d"
           }
          ],
          "scattercarpet": [
           {
            "marker": {
             "colorbar": {
              "outlinewidth": 0,
              "ticks": ""
             }
            },
            "type": "scattercarpet"
           }
          ],
          "scattergeo": [
           {
            "marker": {
             "colorbar": {
              "outlinewidth": 0,
              "ticks": ""
             }
            },
            "type": "scattergeo"
           }
          ],
          "scattergl": [
           {
            "marker": {
             "colorbar": {
              "outlinewidth": 0,
              "ticks": ""
             }
            },
            "type": "scattergl"
           }
          ],
          "scattermapbox": [
           {
            "marker": {
             "colorbar": {
              "outlinewidth": 0,
              "ticks": ""
             }
            },
            "type": "scattermapbox"
           }
          ],
          "scatterpolar": [
           {
            "marker": {
             "colorbar": {
              "outlinewidth": 0,
              "ticks": ""
             }
            },
            "type": "scatterpolar"
           }
          ],
          "scatterpolargl": [
           {
            "marker": {
             "colorbar": {
              "outlinewidth": 0,
              "ticks": ""
             }
            },
            "type": "scatterpolargl"
           }
          ],
          "scatterternary": [
           {
            "marker": {
             "colorbar": {
              "outlinewidth": 0,
              "ticks": ""
             }
            },
            "type": "scatterternary"
           }
          ],
          "surface": [
           {
            "colorbar": {
             "outlinewidth": 0,
             "ticks": ""
            },
            "colorscale": [
             [
              0,
              "#0d0887"
             ],
             [
              0.1111111111111111,
              "#46039f"
             ],
             [
              0.2222222222222222,
              "#7201a8"
             ],
             [
              0.3333333333333333,
              "#9c179e"
             ],
             [
              0.4444444444444444,
              "#bd3786"
             ],
             [
              0.5555555555555556,
              "#d8576b"
             ],
             [
              0.6666666666666666,
              "#ed7953"
             ],
             [
              0.7777777777777778,
              "#fb9f3a"
             ],
             [
              0.8888888888888888,
              "#fdca26"
             ],
             [
              1,
              "#f0f921"
             ]
            ],
            "type": "surface"
           }
          ],
          "table": [
           {
            "cells": {
             "fill": {
              "color": "#EBF0F8"
             },
             "line": {
              "color": "white"
             }
            },
            "header": {
             "fill": {
              "color": "#C8D4E3"
             },
             "line": {
              "color": "white"
             }
            },
            "type": "table"
           }
          ]
         },
         "layout": {
          "annotationdefaults": {
           "arrowcolor": "#2a3f5f",
           "arrowhead": 0,
           "arrowwidth": 1
          },
          "autotypenumbers": "strict",
          "coloraxis": {
           "colorbar": {
            "outlinewidth": 0,
            "ticks": ""
           }
          },
          "colorscale": {
           "diverging": [
            [
             0,
             "#8e0152"
            ],
            [
             0.1,
             "#c51b7d"
            ],
            [
             0.2,
             "#de77ae"
            ],
            [
             0.3,
             "#f1b6da"
            ],
            [
             0.4,
             "#fde0ef"
            ],
            [
             0.5,
             "#f7f7f7"
            ],
            [
             0.6,
             "#e6f5d0"
            ],
            [
             0.7,
             "#b8e186"
            ],
            [
             0.8,
             "#7fbc41"
            ],
            [
             0.9,
             "#4d9221"
            ],
            [
             1,
             "#276419"
            ]
           ],
           "sequential": [
            [
             0,
             "#0d0887"
            ],
            [
             0.1111111111111111,
             "#46039f"
            ],
            [
             0.2222222222222222,
             "#7201a8"
            ],
            [
             0.3333333333333333,
             "#9c179e"
            ],
            [
             0.4444444444444444,
             "#bd3786"
            ],
            [
             0.5555555555555556,
             "#d8576b"
            ],
            [
             0.6666666666666666,
             "#ed7953"
            ],
            [
             0.7777777777777778,
             "#fb9f3a"
            ],
            [
             0.8888888888888888,
             "#fdca26"
            ],
            [
             1,
             "#f0f921"
            ]
           ],
           "sequentialminus": [
            [
             0,
             "#0d0887"
            ],
            [
             0.1111111111111111,
             "#46039f"
            ],
            [
             0.2222222222222222,
             "#7201a8"
            ],
            [
             0.3333333333333333,
             "#9c179e"
            ],
            [
             0.4444444444444444,
             "#bd3786"
            ],
            [
             0.5555555555555556,
             "#d8576b"
            ],
            [
             0.6666666666666666,
             "#ed7953"
            ],
            [
             0.7777777777777778,
             "#fb9f3a"
            ],
            [
             0.8888888888888888,
             "#fdca26"
            ],
            [
             1,
             "#f0f921"
            ]
           ]
          },
          "colorway": [
           "#636efa",
           "#EF553B",
           "#00cc96",
           "#ab63fa",
           "#FFA15A",
           "#19d3f3",
           "#FF6692",
           "#B6E880",
           "#FF97FF",
           "#FECB52"
          ],
          "font": {
           "color": "#2a3f5f"
          },
          "geo": {
           "bgcolor": "white",
           "lakecolor": "white",
           "landcolor": "#E5ECF6",
           "showlakes": true,
           "showland": true,
           "subunitcolor": "white"
          },
          "hoverlabel": {
           "align": "left"
          },
          "hovermode": "closest",
          "mapbox": {
           "style": "light"
          },
          "paper_bgcolor": "white",
          "plot_bgcolor": "#E5ECF6",
          "polar": {
           "angularaxis": {
            "gridcolor": "white",
            "linecolor": "white",
            "ticks": ""
           },
           "bgcolor": "#E5ECF6",
           "radialaxis": {
            "gridcolor": "white",
            "linecolor": "white",
            "ticks": ""
           }
          },
          "scene": {
           "xaxis": {
            "backgroundcolor": "#E5ECF6",
            "gridcolor": "white",
            "gridwidth": 2,
            "linecolor": "white",
            "showbackground": true,
            "ticks": "",
            "zerolinecolor": "white"
           },
           "yaxis": {
            "backgroundcolor": "#E5ECF6",
            "gridcolor": "white",
            "gridwidth": 2,
            "linecolor": "white",
            "showbackground": true,
            "ticks": "",
            "zerolinecolor": "white"
           },
           "zaxis": {
            "backgroundcolor": "#E5ECF6",
            "gridcolor": "white",
            "gridwidth": 2,
            "linecolor": "white",
            "showbackground": true,
            "ticks": "",
            "zerolinecolor": "white"
           }
          },
          "shapedefaults": {
           "line": {
            "color": "#2a3f5f"
           }
          },
          "ternary": {
           "aaxis": {
            "gridcolor": "white",
            "linecolor": "white",
            "ticks": ""
           },
           "baxis": {
            "gridcolor": "white",
            "linecolor": "white",
            "ticks": ""
           },
           "bgcolor": "#E5ECF6",
           "caxis": {
            "gridcolor": "white",
            "linecolor": "white",
            "ticks": ""
           }
          },
          "title": {
           "x": 0.05
          },
          "xaxis": {
           "automargin": true,
           "gridcolor": "white",
           "linecolor": "white",
           "ticks": "",
           "title": {
            "standoff": 15
           },
           "zerolinecolor": "white",
           "zerolinewidth": 2
          },
          "yaxis": {
           "automargin": true,
           "gridcolor": "white",
           "linecolor": "white",
           "ticks": "",
           "title": {
            "standoff": 15
           },
           "zerolinecolor": "white",
           "zerolinewidth": 2
          }
         }
        },
        "title": {
         "text": "Optimization History Plot"
        },
        "xaxis": {
         "title": {
          "text": "Trial"
         }
        },
        "yaxis": {
         "title": {
          "text": "Objective Value"
         }
        }
       }
      }
     },
     "metadata": {},
     "output_type": "display_data"
    },
    {
     "data": {
      "application/vnd.plotly.v1+json": {
       "config": {
        "plotlyServerURL": "https://plot.ly"
       },
       "data": [
        {
         "cliponaxis": false,
         "hovertemplate": [
          "n_estimators (IntDistribution): 0.0049884529104392275<extra></extra>",
          "criterion (CategoricalDistribution): 0.00627927807592078<extra></extra>",
          "use_pca (CategoricalDistribution): 0.014180047660531768<extra></extra>",
          "max_features (CategoricalDistribution): 0.024451328238585434<extra></extra>",
          "max_depth (IntDistribution): 0.04499556614034726<extra></extra>",
          "pca_kernel (CategoricalDistribution): 0.40303913457652774<extra></extra>",
          "n_pca_components (IntDistribution): 0.5020661923976477<extra></extra>"
         ],
         "name": "Objective Value",
         "orientation": "h",
         "text": [
          "<0.01",
          "<0.01",
          "0.01",
          "0.02",
          "0.04",
          "0.40",
          "0.50"
         ],
         "textposition": "outside",
         "type": "bar",
         "x": [
          0.0049884529104392275,
          0.00627927807592078,
          0.014180047660531768,
          0.024451328238585434,
          0.04499556614034726,
          0.40303913457652774,
          0.5020661923976477
         ],
         "y": [
          "n_estimators",
          "criterion",
          "use_pca",
          "max_features",
          "max_depth",
          "pca_kernel",
          "n_pca_components"
         ]
        }
       ],
       "layout": {
        "template": {
         "data": {
          "bar": [
           {
            "error_x": {
             "color": "#2a3f5f"
            },
            "error_y": {
             "color": "#2a3f5f"
            },
            "marker": {
             "line": {
              "color": "#E5ECF6",
              "width": 0.5
             },
             "pattern": {
              "fillmode": "overlay",
              "size": 10,
              "solidity": 0.2
             }
            },
            "type": "bar"
           }
          ],
          "barpolar": [
           {
            "marker": {
             "line": {
              "color": "#E5ECF6",
              "width": 0.5
             },
             "pattern": {
              "fillmode": "overlay",
              "size": 10,
              "solidity": 0.2
             }
            },
            "type": "barpolar"
           }
          ],
          "carpet": [
           {
            "aaxis": {
             "endlinecolor": "#2a3f5f",
             "gridcolor": "white",
             "linecolor": "white",
             "minorgridcolor": "white",
             "startlinecolor": "#2a3f5f"
            },
            "baxis": {
             "endlinecolor": "#2a3f5f",
             "gridcolor": "white",
             "linecolor": "white",
             "minorgridcolor": "white",
             "startlinecolor": "#2a3f5f"
            },
            "type": "carpet"
           }
          ],
          "choropleth": [
           {
            "colorbar": {
             "outlinewidth": 0,
             "ticks": ""
            },
            "type": "choropleth"
           }
          ],
          "contour": [
           {
            "colorbar": {
             "outlinewidth": 0,
             "ticks": ""
            },
            "colorscale": [
             [
              0,
              "#0d0887"
             ],
             [
              0.1111111111111111,
              "#46039f"
             ],
             [
              0.2222222222222222,
              "#7201a8"
             ],
             [
              0.3333333333333333,
              "#9c179e"
             ],
             [
              0.4444444444444444,
              "#bd3786"
             ],
             [
              0.5555555555555556,
              "#d8576b"
             ],
             [
              0.6666666666666666,
              "#ed7953"
             ],
             [
              0.7777777777777778,
              "#fb9f3a"
             ],
             [
              0.8888888888888888,
              "#fdca26"
             ],
             [
              1,
              "#f0f921"
             ]
            ],
            "type": "contour"
           }
          ],
          "contourcarpet": [
           {
            "colorbar": {
             "outlinewidth": 0,
             "ticks": ""
            },
            "type": "contourcarpet"
           }
          ],
          "heatmap": [
           {
            "colorbar": {
             "outlinewidth": 0,
             "ticks": ""
            },
            "colorscale": [
             [
              0,
              "#0d0887"
             ],
             [
              0.1111111111111111,
              "#46039f"
             ],
             [
              0.2222222222222222,
              "#7201a8"
             ],
             [
              0.3333333333333333,
              "#9c179e"
             ],
             [
              0.4444444444444444,
              "#bd3786"
             ],
             [
              0.5555555555555556,
              "#d8576b"
             ],
             [
              0.6666666666666666,
              "#ed7953"
             ],
             [
              0.7777777777777778,
              "#fb9f3a"
             ],
             [
              0.8888888888888888,
              "#fdca26"
             ],
             [
              1,
              "#f0f921"
             ]
            ],
            "type": "heatmap"
           }
          ],
          "heatmapgl": [
           {
            "colorbar": {
             "outlinewidth": 0,
             "ticks": ""
            },
            "colorscale": [
             [
              0,
              "#0d0887"
             ],
             [
              0.1111111111111111,
              "#46039f"
             ],
             [
              0.2222222222222222,
              "#7201a8"
             ],
             [
              0.3333333333333333,
              "#9c179e"
             ],
             [
              0.4444444444444444,
              "#bd3786"
             ],
             [
              0.5555555555555556,
              "#d8576b"
             ],
             [
              0.6666666666666666,
              "#ed7953"
             ],
             [
              0.7777777777777778,
              "#fb9f3a"
             ],
             [
              0.8888888888888888,
              "#fdca26"
             ],
             [
              1,
              "#f0f921"
             ]
            ],
            "type": "heatmapgl"
           }
          ],
          "histogram": [
           {
            "marker": {
             "pattern": {
              "fillmode": "overlay",
              "size": 10,
              "solidity": 0.2
             }
            },
            "type": "histogram"
           }
          ],
          "histogram2d": [
           {
            "colorbar": {
             "outlinewidth": 0,
             "ticks": ""
            },
            "colorscale": [
             [
              0,
              "#0d0887"
             ],
             [
              0.1111111111111111,
              "#46039f"
             ],
             [
              0.2222222222222222,
              "#7201a8"
             ],
             [
              0.3333333333333333,
              "#9c179e"
             ],
             [
              0.4444444444444444,
              "#bd3786"
             ],
             [
              0.5555555555555556,
              "#d8576b"
             ],
             [
              0.6666666666666666,
              "#ed7953"
             ],
             [
              0.7777777777777778,
              "#fb9f3a"
             ],
             [
              0.8888888888888888,
              "#fdca26"
             ],
             [
              1,
              "#f0f921"
             ]
            ],
            "type": "histogram2d"
           }
          ],
          "histogram2dcontour": [
           {
            "colorbar": {
             "outlinewidth": 0,
             "ticks": ""
            },
            "colorscale": [
             [
              0,
              "#0d0887"
             ],
             [
              0.1111111111111111,
              "#46039f"
             ],
             [
              0.2222222222222222,
              "#7201a8"
             ],
             [
              0.3333333333333333,
              "#9c179e"
             ],
             [
              0.4444444444444444,
              "#bd3786"
             ],
             [
              0.5555555555555556,
              "#d8576b"
             ],
             [
              0.6666666666666666,
              "#ed7953"
             ],
             [
              0.7777777777777778,
              "#fb9f3a"
             ],
             [
              0.8888888888888888,
              "#fdca26"
             ],
             [
              1,
              "#f0f921"
             ]
            ],
            "type": "histogram2dcontour"
           }
          ],
          "mesh3d": [
           {
            "colorbar": {
             "outlinewidth": 0,
             "ticks": ""
            },
            "type": "mesh3d"
           }
          ],
          "parcoords": [
           {
            "line": {
             "colorbar": {
              "outlinewidth": 0,
              "ticks": ""
             }
            },
            "type": "parcoords"
           }
          ],
          "pie": [
           {
            "automargin": true,
            "type": "pie"
           }
          ],
          "scatter": [
           {
            "fillpattern": {
             "fillmode": "overlay",
             "size": 10,
             "solidity": 0.2
            },
            "type": "scatter"
           }
          ],
          "scatter3d": [
           {
            "line": {
             "colorbar": {
              "outlinewidth": 0,
              "ticks": ""
             }
            },
            "marker": {
             "colorbar": {
              "outlinewidth": 0,
              "ticks": ""
             }
            },
            "type": "scatter3d"
           }
          ],
          "scattercarpet": [
           {
            "marker": {
             "colorbar": {
              "outlinewidth": 0,
              "ticks": ""
             }
            },
            "type": "scattercarpet"
           }
          ],
          "scattergeo": [
           {
            "marker": {
             "colorbar": {
              "outlinewidth": 0,
              "ticks": ""
             }
            },
            "type": "scattergeo"
           }
          ],
          "scattergl": [
           {
            "marker": {
             "colorbar": {
              "outlinewidth": 0,
              "ticks": ""
             }
            },
            "type": "scattergl"
           }
          ],
          "scattermapbox": [
           {
            "marker": {
             "colorbar": {
              "outlinewidth": 0,
              "ticks": ""
             }
            },
            "type": "scattermapbox"
           }
          ],
          "scatterpolar": [
           {
            "marker": {
             "colorbar": {
              "outlinewidth": 0,
              "ticks": ""
             }
            },
            "type": "scatterpolar"
           }
          ],
          "scatterpolargl": [
           {
            "marker": {
             "colorbar": {
              "outlinewidth": 0,
              "ticks": ""
             }
            },
            "type": "scatterpolargl"
           }
          ],
          "scatterternary": [
           {
            "marker": {
             "colorbar": {
              "outlinewidth": 0,
              "ticks": ""
             }
            },
            "type": "scatterternary"
           }
          ],
          "surface": [
           {
            "colorbar": {
             "outlinewidth": 0,
             "ticks": ""
            },
            "colorscale": [
             [
              0,
              "#0d0887"
             ],
             [
              0.1111111111111111,
              "#46039f"
             ],
             [
              0.2222222222222222,
              "#7201a8"
             ],
             [
              0.3333333333333333,
              "#9c179e"
             ],
             [
              0.4444444444444444,
              "#bd3786"
             ],
             [
              0.5555555555555556,
              "#d8576b"
             ],
             [
              0.6666666666666666,
              "#ed7953"
             ],
             [
              0.7777777777777778,
              "#fb9f3a"
             ],
             [
              0.8888888888888888,
              "#fdca26"
             ],
             [
              1,
              "#f0f921"
             ]
            ],
            "type": "surface"
           }
          ],
          "table": [
           {
            "cells": {
             "fill": {
              "color": "#EBF0F8"
             },
             "line": {
              "color": "white"
             }
            },
            "header": {
             "fill": {
              "color": "#C8D4E3"
             },
             "line": {
              "color": "white"
             }
            },
            "type": "table"
           }
          ]
         },
         "layout": {
          "annotationdefaults": {
           "arrowcolor": "#2a3f5f",
           "arrowhead": 0,
           "arrowwidth": 1
          },
          "autotypenumbers": "strict",
          "coloraxis": {
           "colorbar": {
            "outlinewidth": 0,
            "ticks": ""
           }
          },
          "colorscale": {
           "diverging": [
            [
             0,
             "#8e0152"
            ],
            [
             0.1,
             "#c51b7d"
            ],
            [
             0.2,
             "#de77ae"
            ],
            [
             0.3,
             "#f1b6da"
            ],
            [
             0.4,
             "#fde0ef"
            ],
            [
             0.5,
             "#f7f7f7"
            ],
            [
             0.6,
             "#e6f5d0"
            ],
            [
             0.7,
             "#b8e186"
            ],
            [
             0.8,
             "#7fbc41"
            ],
            [
             0.9,
             "#4d9221"
            ],
            [
             1,
             "#276419"
            ]
           ],
           "sequential": [
            [
             0,
             "#0d0887"
            ],
            [
             0.1111111111111111,
             "#46039f"
            ],
            [
             0.2222222222222222,
             "#7201a8"
            ],
            [
             0.3333333333333333,
             "#9c179e"
            ],
            [
             0.4444444444444444,
             "#bd3786"
            ],
            [
             0.5555555555555556,
             "#d8576b"
            ],
            [
             0.6666666666666666,
             "#ed7953"
            ],
            [
             0.7777777777777778,
             "#fb9f3a"
            ],
            [
             0.8888888888888888,
             "#fdca26"
            ],
            [
             1,
             "#f0f921"
            ]
           ],
           "sequentialminus": [
            [
             0,
             "#0d0887"
            ],
            [
             0.1111111111111111,
             "#46039f"
            ],
            [
             0.2222222222222222,
             "#7201a8"
            ],
            [
             0.3333333333333333,
             "#9c179e"
            ],
            [
             0.4444444444444444,
             "#bd3786"
            ],
            [
             0.5555555555555556,
             "#d8576b"
            ],
            [
             0.6666666666666666,
             "#ed7953"
            ],
            [
             0.7777777777777778,
             "#fb9f3a"
            ],
            [
             0.8888888888888888,
             "#fdca26"
            ],
            [
             1,
             "#f0f921"
            ]
           ]
          },
          "colorway": [
           "#636efa",
           "#EF553B",
           "#00cc96",
           "#ab63fa",
           "#FFA15A",
           "#19d3f3",
           "#FF6692",
           "#B6E880",
           "#FF97FF",
           "#FECB52"
          ],
          "font": {
           "color": "#2a3f5f"
          },
          "geo": {
           "bgcolor": "white",
           "lakecolor": "white",
           "landcolor": "#E5ECF6",
           "showlakes": true,
           "showland": true,
           "subunitcolor": "white"
          },
          "hoverlabel": {
           "align": "left"
          },
          "hovermode": "closest",
          "mapbox": {
           "style": "light"
          },
          "paper_bgcolor": "white",
          "plot_bgcolor": "#E5ECF6",
          "polar": {
           "angularaxis": {
            "gridcolor": "white",
            "linecolor": "white",
            "ticks": ""
           },
           "bgcolor": "#E5ECF6",
           "radialaxis": {
            "gridcolor": "white",
            "linecolor": "white",
            "ticks": ""
           }
          },
          "scene": {
           "xaxis": {
            "backgroundcolor": "#E5ECF6",
            "gridcolor": "white",
            "gridwidth": 2,
            "linecolor": "white",
            "showbackground": true,
            "ticks": "",
            "zerolinecolor": "white"
           },
           "yaxis": {
            "backgroundcolor": "#E5ECF6",
            "gridcolor": "white",
            "gridwidth": 2,
            "linecolor": "white",
            "showbackground": true,
            "ticks": "",
            "zerolinecolor": "white"
           },
           "zaxis": {
            "backgroundcolor": "#E5ECF6",
            "gridcolor": "white",
            "gridwidth": 2,
            "linecolor": "white",
            "showbackground": true,
            "ticks": "",
            "zerolinecolor": "white"
           }
          },
          "shapedefaults": {
           "line": {
            "color": "#2a3f5f"
           }
          },
          "ternary": {
           "aaxis": {
            "gridcolor": "white",
            "linecolor": "white",
            "ticks": ""
           },
           "baxis": {
            "gridcolor": "white",
            "linecolor": "white",
            "ticks": ""
           },
           "bgcolor": "#E5ECF6",
           "caxis": {
            "gridcolor": "white",
            "linecolor": "white",
            "ticks": ""
           }
          },
          "title": {
           "x": 0.05
          },
          "xaxis": {
           "automargin": true,
           "gridcolor": "white",
           "linecolor": "white",
           "ticks": "",
           "title": {
            "standoff": 15
           },
           "zerolinecolor": "white",
           "zerolinewidth": 2
          },
          "yaxis": {
           "automargin": true,
           "gridcolor": "white",
           "linecolor": "white",
           "ticks": "",
           "title": {
            "standoff": 15
           },
           "zerolinecolor": "white",
           "zerolinewidth": 2
          }
         }
        },
        "title": {
         "text": "Hyperparameter Importances"
        },
        "xaxis": {
         "title": {
          "text": "Hyperparameter Importance"
         }
        },
        "yaxis": {
         "title": {
          "text": "Hyperparameter"
         }
        }
       }
      }
     },
     "metadata": {},
     "output_type": "display_data"
    },
    {
     "data": {
      "application/vnd.plotly.v1+json": {
       "config": {
        "plotlyServerURL": "https://plot.ly"
       },
       "data": [
        {
         "marker": {
          "color": [
           0,
           1,
           2,
           3,
           4,
           5,
           6,
           9,
           11,
           12,
           17,
           18,
           19,
           20,
           21,
           23,
           25,
           27,
           30,
           31,
           32,
           33,
           34,
           41,
           42,
           48,
           51,
           52,
           54,
           57,
           61,
           62,
           63,
           65,
           66,
           69,
           71,
           72,
           73,
           74,
           75,
           82,
           83,
           84,
           85,
           87,
           91,
           92,
           93,
           94,
           95
          ],
          "colorbar": {
           "title": {
            "text": "Trial"
           },
           "x": 1,
           "xpad": 40
          },
          "colorscale": [
           [
            0,
            "rgb(247,251,255)"
           ],
           [
            0.125,
            "rgb(222,235,247)"
           ],
           [
            0.25,
            "rgb(198,219,239)"
           ],
           [
            0.375,
            "rgb(158,202,225)"
           ],
           [
            0.5,
            "rgb(107,174,214)"
           ],
           [
            0.625,
            "rgb(66,146,198)"
           ],
           [
            0.75,
            "rgb(33,113,181)"
           ],
           [
            0.875,
            "rgb(8,81,156)"
           ],
           [
            1,
            "rgb(8,48,107)"
           ]
          ],
          "line": {
           "color": "Grey",
           "width": 0.5
          },
          "showscale": true
         },
         "mode": "markers",
         "name": "Feasible Trial",
         "showlegend": false,
         "type": "scatter",
         "x": [
          "log_loss",
          "log_loss",
          "entropy",
          "log_loss",
          "entropy",
          "entropy",
          "entropy",
          "log_loss",
          "entropy",
          "log_loss",
          "log_loss",
          "log_loss",
          "log_loss",
          "log_loss",
          "log_loss",
          "log_loss",
          "log_loss",
          "log_loss",
          "log_loss",
          "log_loss",
          "log_loss",
          "log_loss",
          "log_loss",
          "log_loss",
          "log_loss",
          "log_loss",
          "log_loss",
          "log_loss",
          "log_loss",
          "entropy",
          "entropy",
          "entropy",
          "entropy",
          "entropy",
          "entropy",
          "entropy",
          "entropy",
          "entropy",
          "entropy",
          "entropy",
          "entropy",
          "entropy",
          "entropy",
          "entropy",
          "entropy",
          "entropy",
          "entropy",
          "entropy",
          "entropy",
          "entropy",
          "entropy"
         ],
         "xaxis": "x",
         "y": [
          0.49895833333333334,
          0.49166666666666664,
          0.5100694444444445,
          0.4951388888888889,
          0.5079861111111111,
          0.5097222222222222,
          0.5163194444444444,
          0.7003472222222222,
          0.5131944444444444,
          0.5194444444444445,
          0.7017361111111111,
          0.6940972222222223,
          0.6385416666666667,
          0.6954861111111111,
          0.7010416666666667,
          0.6940972222222223,
          0.6347222222222222,
          0.6541666666666667,
          0.6958333333333333,
          0.7038194444444444,
          0.6392361111111111,
          0.6982638888888889,
          0.6763888888888889,
          0.6979166666666666,
          0.6895833333333333,
          0.6944444444444444,
          0.7086805555555555,
          0.6972222222222222,
          0.6923611111111111,
          0.7135416666666666,
          0.6996527777777778,
          0.6944444444444444,
          0.6989583333333333,
          0.7111111111111111,
          0.7055555555555556,
          0.7100694444444444,
          0.6947916666666667,
          0.7104166666666667,
          0.7006944444444444,
          0.7083333333333334,
          0.7045138888888889,
          0.7024305555555556,
          0.7013888888888888,
          0.7052083333333333,
          0.7038194444444444,
          0.6958333333333333,
          0.7072916666666667,
          0.7006944444444444,
          0.6996527777777778,
          0.70625,
          0.6982638888888889
         ],
         "yaxis": "y"
        },
        {
         "marker": {
          "color": [
           0,
           1,
           2,
           3,
           4,
           5,
           6,
           9,
           11,
           12,
           17,
           18,
           19,
           20,
           21,
           23,
           25,
           27,
           30,
           31,
           32,
           33,
           34,
           41,
           42,
           48,
           51,
           52,
           54,
           57,
           61,
           62,
           63,
           65,
           66,
           69,
           71,
           72,
           73,
           74,
           75,
           82,
           83,
           84,
           85,
           87,
           91,
           92,
           93,
           94,
           95
          ],
          "colorbar": {
           "title": {
            "text": "Trial"
           },
           "x": 1,
           "xpad": 40
          },
          "colorscale": [
           [
            0,
            "rgb(247,251,255)"
           ],
           [
            0.125,
            "rgb(222,235,247)"
           ],
           [
            0.25,
            "rgb(198,219,239)"
           ],
           [
            0.375,
            "rgb(158,202,225)"
           ],
           [
            0.5,
            "rgb(107,174,214)"
           ],
           [
            0.625,
            "rgb(66,146,198)"
           ],
           [
            0.75,
            "rgb(33,113,181)"
           ],
           [
            0.875,
            "rgb(8,81,156)"
           ],
           [
            1,
            "rgb(8,48,107)"
           ]
          ],
          "line": {
           "color": "Grey",
           "width": 0.5
          },
          "showscale": false
         },
         "mode": "markers",
         "name": "Feasible Trial",
         "showlegend": false,
         "type": "scatter",
         "x": [
          29,
          24,
          41,
          20,
          48,
          33,
          45,
          35,
          39,
          48,
          33,
          32,
          26,
          33,
          33,
          35,
          33,
          26,
          28,
          28,
          23,
          29,
          26,
          27,
          31,
          32,
          27,
          25,
          32,
          27,
          27,
          25,
          28,
          25,
          23,
          25,
          23,
          26,
          20,
          25,
          25,
          23,
          25,
          21,
          21,
          20,
          27,
          24,
          27,
          29,
          28
         ],
         "xaxis": "x2",
         "y": [
          0.49895833333333334,
          0.49166666666666664,
          0.5100694444444445,
          0.4951388888888889,
          0.5079861111111111,
          0.5097222222222222,
          0.5163194444444444,
          0.7003472222222222,
          0.5131944444444444,
          0.5194444444444445,
          0.7017361111111111,
          0.6940972222222223,
          0.6385416666666667,
          0.6954861111111111,
          0.7010416666666667,
          0.6940972222222223,
          0.6347222222222222,
          0.6541666666666667,
          0.6958333333333333,
          0.7038194444444444,
          0.6392361111111111,
          0.6982638888888889,
          0.6763888888888889,
          0.6979166666666666,
          0.6895833333333333,
          0.6944444444444444,
          0.7086805555555555,
          0.6972222222222222,
          0.6923611111111111,
          0.7135416666666666,
          0.6996527777777778,
          0.6944444444444444,
          0.6989583333333333,
          0.7111111111111111,
          0.7055555555555556,
          0.7100694444444444,
          0.6947916666666667,
          0.7104166666666667,
          0.7006944444444444,
          0.7083333333333334,
          0.7045138888888889,
          0.7024305555555556,
          0.7013888888888888,
          0.7052083333333333,
          0.7038194444444444,
          0.6958333333333333,
          0.7072916666666667,
          0.7006944444444444,
          0.6996527777777778,
          0.70625,
          0.6982638888888889
         ],
         "yaxis": "y2"
        },
        {
         "marker": {
          "color": [
           0,
           1,
           2,
           3,
           4,
           5,
           6,
           9,
           11,
           12,
           17,
           18,
           19,
           20,
           21,
           23,
           25,
           27,
           30,
           31,
           32,
           33,
           34,
           41,
           42,
           48,
           51,
           52,
           54,
           57,
           61,
           62,
           63,
           65,
           66,
           69,
           71,
           72,
           73,
           74,
           75,
           82,
           83,
           84,
           85,
           87,
           91,
           92,
           93,
           94,
           95
          ],
          "colorbar": {
           "title": {
            "text": "Trial"
           },
           "x": 1,
           "xpad": 40
          },
          "colorscale": [
           [
            0,
            "rgb(247,251,255)"
           ],
           [
            0.125,
            "rgb(222,235,247)"
           ],
           [
            0.25,
            "rgb(198,219,239)"
           ],
           [
            0.375,
            "rgb(158,202,225)"
           ],
           [
            0.5,
            "rgb(107,174,214)"
           ],
           [
            0.625,
            "rgb(66,146,198)"
           ],
           [
            0.75,
            "rgb(33,113,181)"
           ],
           [
            0.875,
            "rgb(8,81,156)"
           ],
           [
            1,
            "rgb(8,48,107)"
           ]
          ],
          "line": {
           "color": "Grey",
           "width": 0.5
          },
          "showscale": false
         },
         "mode": "markers",
         "name": "Feasible Trial",
         "showlegend": false,
         "type": "scatter",
         "x": [
          "sqrt",
          "log2",
          "log2",
          "sqrt",
          "sqrt",
          "log2",
          "log2",
          "sqrt",
          "log2",
          "sqrt",
          "sqrt",
          "sqrt",
          "sqrt",
          "sqrt",
          "sqrt",
          "sqrt",
          "sqrt",
          "sqrt",
          "sqrt",
          "sqrt",
          "sqrt",
          "sqrt",
          "log2",
          "sqrt",
          "sqrt",
          "sqrt",
          "sqrt",
          "sqrt",
          "sqrt",
          "sqrt",
          "sqrt",
          "sqrt",
          "sqrt",
          "sqrt",
          "sqrt",
          "sqrt",
          "sqrt",
          "sqrt",
          "sqrt",
          "sqrt",
          "sqrt",
          "sqrt",
          "sqrt",
          "sqrt",
          "sqrt",
          "sqrt",
          "sqrt",
          "sqrt",
          "sqrt",
          "sqrt",
          "sqrt"
         ],
         "xaxis": "x3",
         "y": [
          0.49895833333333334,
          0.49166666666666664,
          0.5100694444444445,
          0.4951388888888889,
          0.5079861111111111,
          0.5097222222222222,
          0.5163194444444444,
          0.7003472222222222,
          0.5131944444444444,
          0.5194444444444445,
          0.7017361111111111,
          0.6940972222222223,
          0.6385416666666667,
          0.6954861111111111,
          0.7010416666666667,
          0.6940972222222223,
          0.6347222222222222,
          0.6541666666666667,
          0.6958333333333333,
          0.7038194444444444,
          0.6392361111111111,
          0.6982638888888889,
          0.6763888888888889,
          0.6979166666666666,
          0.6895833333333333,
          0.6944444444444444,
          0.7086805555555555,
          0.6972222222222222,
          0.6923611111111111,
          0.7135416666666666,
          0.6996527777777778,
          0.6944444444444444,
          0.6989583333333333,
          0.7111111111111111,
          0.7055555555555556,
          0.7100694444444444,
          0.6947916666666667,
          0.7104166666666667,
          0.7006944444444444,
          0.7083333333333334,
          0.7045138888888889,
          0.7024305555555556,
          0.7013888888888888,
          0.7052083333333333,
          0.7038194444444444,
          0.6958333333333333,
          0.7072916666666667,
          0.7006944444444444,
          0.6996527777777778,
          0.70625,
          0.6982638888888889
         ],
         "yaxis": "y3"
        },
        {
         "marker": {
          "color": [
           0,
           1,
           2,
           3,
           4,
           5,
           6,
           9,
           11,
           12,
           17,
           18,
           19,
           20,
           21,
           23,
           25,
           27,
           30,
           31,
           32,
           33,
           34,
           41,
           42,
           48,
           51,
           52,
           54,
           57,
           61,
           62,
           63,
           65,
           66,
           69,
           71,
           72,
           73,
           74,
           75,
           82,
           83,
           84,
           85,
           87,
           91,
           92,
           93,
           94,
           95
          ],
          "colorbar": {
           "title": {
            "text": "Trial"
           },
           "x": 1,
           "xpad": 40
          },
          "colorscale": [
           [
            0,
            "rgb(247,251,255)"
           ],
           [
            0.125,
            "rgb(222,235,247)"
           ],
           [
            0.25,
            "rgb(198,219,239)"
           ],
           [
            0.375,
            "rgb(158,202,225)"
           ],
           [
            0.5,
            "rgb(107,174,214)"
           ],
           [
            0.625,
            "rgb(66,146,198)"
           ],
           [
            0.75,
            "rgb(33,113,181)"
           ],
           [
            0.875,
            "rgb(8,81,156)"
           ],
           [
            1,
            "rgb(8,48,107)"
           ]
          ],
          "line": {
           "color": "Grey",
           "width": 0.5
          },
          "showscale": false
         },
         "mode": "markers",
         "name": "Feasible Trial",
         "showlegend": false,
         "type": "scatter",
         "x": [
          100,
          300,
          175,
          300,
          100,
          150,
          125,
          200,
          200,
          250,
          175,
          175,
          175,
          150,
          150,
          200,
          125,
          150,
          200,
          200,
          200,
          225,
          175,
          225,
          200,
          200,
          225,
          275,
          200,
          225,
          225,
          225,
          225,
          250,
          250,
          300,
          275,
          300,
          300,
          300,
          300,
          275,
          300,
          275,
          275,
          300,
          300,
          300,
          300,
          275,
          275
         ],
         "xaxis": "x4",
         "y": [
          0.49895833333333334,
          0.49166666666666664,
          0.5100694444444445,
          0.4951388888888889,
          0.5079861111111111,
          0.5097222222222222,
          0.5163194444444444,
          0.7003472222222222,
          0.5131944444444444,
          0.5194444444444445,
          0.7017361111111111,
          0.6940972222222223,
          0.6385416666666667,
          0.6954861111111111,
          0.7010416666666667,
          0.6940972222222223,
          0.6347222222222222,
          0.6541666666666667,
          0.6958333333333333,
          0.7038194444444444,
          0.6392361111111111,
          0.6982638888888889,
          0.6763888888888889,
          0.6979166666666666,
          0.6895833333333333,
          0.6944444444444444,
          0.7086805555555555,
          0.6972222222222222,
          0.6923611111111111,
          0.7135416666666666,
          0.6996527777777778,
          0.6944444444444444,
          0.6989583333333333,
          0.7111111111111111,
          0.7055555555555556,
          0.7100694444444444,
          0.6947916666666667,
          0.7104166666666667,
          0.7006944444444444,
          0.7083333333333334,
          0.7045138888888889,
          0.7024305555555556,
          0.7013888888888888,
          0.7052083333333333,
          0.7038194444444444,
          0.6958333333333333,
          0.7072916666666667,
          0.7006944444444444,
          0.6996527777777778,
          0.70625,
          0.6982638888888889
         ],
         "yaxis": "y4"
        },
        {
         "marker": {
          "color": [
           0,
           1,
           2,
           3,
           4,
           5,
           6,
           9,
           11,
           12,
           17,
           18,
           19,
           20,
           21,
           23,
           25,
           27,
           30,
           31,
           32,
           33,
           34,
           41,
           42,
           48,
           51,
           52,
           54,
           57,
           61,
           62,
           63,
           65,
           66,
           69,
           71,
           72,
           73,
           74,
           75,
           82,
           83,
           84,
           85,
           87,
           91,
           92,
           93,
           94,
           95
          ],
          "colorbar": {
           "title": {
            "text": "Trial"
           },
           "x": 1,
           "xpad": 40
          },
          "colorscale": [
           [
            0,
            "rgb(247,251,255)"
           ],
           [
            0.125,
            "rgb(222,235,247)"
           ],
           [
            0.25,
            "rgb(198,219,239)"
           ],
           [
            0.375,
            "rgb(158,202,225)"
           ],
           [
            0.5,
            "rgb(107,174,214)"
           ],
           [
            0.625,
            "rgb(66,146,198)"
           ],
           [
            0.75,
            "rgb(33,113,181)"
           ],
           [
            0.875,
            "rgb(8,81,156)"
           ],
           [
            1,
            "rgb(8,48,107)"
           ]
          ],
          "line": {
           "color": "Grey",
           "width": 0.5
          },
          "showscale": false
         },
         "mode": "markers",
         "name": "Feasible Trial",
         "showlegend": false,
         "type": "scatter",
         "x": [
          1,
          2,
          2,
          4,
          1,
          8,
          4,
          9,
          5,
          5,
          9,
          9,
          8,
          9,
          9,
          9,
          8,
          8,
          9,
          9,
          8,
          9,
          8,
          9,
          9,
          9,
          9,
          9,
          9,
          9,
          9,
          9,
          9,
          9,
          9,
          9,
          9,
          9,
          9,
          9,
          9,
          9,
          9,
          9,
          9,
          9,
          9,
          9,
          9,
          9,
          9
         ],
         "xaxis": "x5",
         "y": [
          0.49895833333333334,
          0.49166666666666664,
          0.5100694444444445,
          0.4951388888888889,
          0.5079861111111111,
          0.5097222222222222,
          0.5163194444444444,
          0.7003472222222222,
          0.5131944444444444,
          0.5194444444444445,
          0.7017361111111111,
          0.6940972222222223,
          0.6385416666666667,
          0.6954861111111111,
          0.7010416666666667,
          0.6940972222222223,
          0.6347222222222222,
          0.6541666666666667,
          0.6958333333333333,
          0.7038194444444444,
          0.6392361111111111,
          0.6982638888888889,
          0.6763888888888889,
          0.6979166666666666,
          0.6895833333333333,
          0.6944444444444444,
          0.7086805555555555,
          0.6972222222222222,
          0.6923611111111111,
          0.7135416666666666,
          0.6996527777777778,
          0.6944444444444444,
          0.6989583333333333,
          0.7111111111111111,
          0.7055555555555556,
          0.7100694444444444,
          0.6947916666666667,
          0.7104166666666667,
          0.7006944444444444,
          0.7083333333333334,
          0.7045138888888889,
          0.7024305555555556,
          0.7013888888888888,
          0.7052083333333333,
          0.7038194444444444,
          0.6958333333333333,
          0.7072916666666667,
          0.7006944444444444,
          0.6996527777777778,
          0.70625,
          0.6982638888888889
         ],
         "yaxis": "y5"
        },
        {
         "marker": {
          "color": [
           0,
           1,
           2,
           3,
           4,
           5,
           6,
           9,
           11,
           12,
           17,
           18,
           19,
           20,
           21,
           23,
           25,
           27,
           30,
           31,
           32,
           33,
           34,
           41,
           42,
           48,
           51,
           52,
           54,
           57,
           61,
           62,
           63,
           65,
           66,
           69,
           71,
           72,
           73,
           74,
           75,
           82,
           83,
           84,
           85,
           87,
           91,
           92,
           93,
           94,
           95
          ],
          "colorbar": {
           "title": {
            "text": "Trial"
           },
           "x": 1,
           "xpad": 40
          },
          "colorscale": [
           [
            0,
            "rgb(247,251,255)"
           ],
           [
            0.125,
            "rgb(222,235,247)"
           ],
           [
            0.25,
            "rgb(198,219,239)"
           ],
           [
            0.375,
            "rgb(158,202,225)"
           ],
           [
            0.5,
            "rgb(107,174,214)"
           ],
           [
            0.625,
            "rgb(66,146,198)"
           ],
           [
            0.75,
            "rgb(33,113,181)"
           ],
           [
            0.875,
            "rgb(8,81,156)"
           ],
           [
            1,
            "rgb(8,48,107)"
           ]
          ],
          "line": {
           "color": "Grey",
           "width": 0.5
          },
          "showscale": false
         },
         "mode": "markers",
         "name": "Feasible Trial",
         "showlegend": false,
         "type": "scatter",
         "x": [
          "poly",
          "rbf",
          "cosine",
          "poly",
          "poly",
          "cosine",
          "poly",
          "rbf",
          "sigmoid",
          "sigmoid",
          "rbf",
          "rbf",
          "rbf",
          "rbf",
          "rbf",
          "rbf",
          "rbf",
          "rbf",
          "rbf",
          "rbf",
          "rbf",
          "rbf",
          "rbf",
          "rbf",
          "rbf",
          "rbf",
          "rbf",
          "rbf",
          "rbf",
          "rbf",
          "rbf",
          "rbf",
          "rbf",
          "rbf",
          "rbf",
          "rbf",
          "rbf",
          "rbf",
          "rbf",
          "rbf",
          "rbf",
          "rbf",
          "rbf",
          "rbf",
          "rbf",
          "rbf",
          "rbf",
          "rbf",
          "rbf",
          "rbf",
          "rbf"
         ],
         "xaxis": "x6",
         "y": [
          0.49895833333333334,
          0.49166666666666664,
          0.5100694444444445,
          0.4951388888888889,
          0.5079861111111111,
          0.5097222222222222,
          0.5163194444444444,
          0.7003472222222222,
          0.5131944444444444,
          0.5194444444444445,
          0.7017361111111111,
          0.6940972222222223,
          0.6385416666666667,
          0.6954861111111111,
          0.7010416666666667,
          0.6940972222222223,
          0.6347222222222222,
          0.6541666666666667,
          0.6958333333333333,
          0.7038194444444444,
          0.6392361111111111,
          0.6982638888888889,
          0.6763888888888889,
          0.6979166666666666,
          0.6895833333333333,
          0.6944444444444444,
          0.7086805555555555,
          0.6972222222222222,
          0.6923611111111111,
          0.7135416666666666,
          0.6996527777777778,
          0.6944444444444444,
          0.6989583333333333,
          0.7111111111111111,
          0.7055555555555556,
          0.7100694444444444,
          0.6947916666666667,
          0.7104166666666667,
          0.7006944444444444,
          0.7083333333333334,
          0.7045138888888889,
          0.7024305555555556,
          0.7013888888888888,
          0.7052083333333333,
          0.7038194444444444,
          0.6958333333333333,
          0.7072916666666667,
          0.7006944444444444,
          0.6996527777777778,
          0.70625,
          0.6982638888888889
         ],
         "yaxis": "y6"
        },
        {
         "marker": {
          "color": [
           0,
           1,
           2,
           3,
           4,
           5,
           6,
           9,
           11,
           12,
           17,
           18,
           19,
           20,
           21,
           23,
           25,
           27,
           30,
           31,
           32,
           33,
           34,
           41,
           42,
           48,
           51,
           52,
           54,
           57,
           61,
           62,
           63,
           65,
           66,
           69,
           71,
           72,
           73,
           74,
           75,
           82,
           83,
           84,
           85,
           87,
           91,
           92,
           93,
           94,
           95
          ],
          "colorbar": {
           "title": {
            "text": "Trial"
           },
           "x": 1,
           "xpad": 40
          },
          "colorscale": [
           [
            0,
            "rgb(247,251,255)"
           ],
           [
            0.125,
            "rgb(222,235,247)"
           ],
           [
            0.25,
            "rgb(198,219,239)"
           ],
           [
            0.375,
            "rgb(158,202,225)"
           ],
           [
            0.5,
            "rgb(107,174,214)"
           ],
           [
            0.625,
            "rgb(66,146,198)"
           ],
           [
            0.75,
            "rgb(33,113,181)"
           ],
           [
            0.875,
            "rgb(8,81,156)"
           ],
           [
            1,
            "rgb(8,48,107)"
           ]
          ],
          "line": {
           "color": "Grey",
           "width": 0.5
          },
          "showscale": false
         },
         "mode": "markers",
         "name": "Feasible Trial",
         "showlegend": false,
         "type": "scatter",
         "x": [
          "True",
          "True",
          "False",
          "True",
          "False",
          "False",
          "False",
          "True",
          "True",
          "True",
          "True",
          "True",
          "True",
          "True",
          "True",
          "True",
          "True",
          "True",
          "True",
          "True",
          "True",
          "True",
          "True",
          "True",
          "True",
          "True",
          "True",
          "True",
          "True",
          "True",
          "True",
          "True",
          "True",
          "True",
          "True",
          "True",
          "True",
          "True",
          "True",
          "True",
          "True",
          "True",
          "True",
          "True",
          "True",
          "True",
          "True",
          "True",
          "True",
          "True",
          "True"
         ],
         "xaxis": "x7",
         "y": [
          0.49895833333333334,
          0.49166666666666664,
          0.5100694444444445,
          0.4951388888888889,
          0.5079861111111111,
          0.5097222222222222,
          0.5163194444444444,
          0.7003472222222222,
          0.5131944444444444,
          0.5194444444444445,
          0.7017361111111111,
          0.6940972222222223,
          0.6385416666666667,
          0.6954861111111111,
          0.7010416666666667,
          0.6940972222222223,
          0.6347222222222222,
          0.6541666666666667,
          0.6958333333333333,
          0.7038194444444444,
          0.6392361111111111,
          0.6982638888888889,
          0.6763888888888889,
          0.6979166666666666,
          0.6895833333333333,
          0.6944444444444444,
          0.7086805555555555,
          0.6972222222222222,
          0.6923611111111111,
          0.7135416666666666,
          0.6996527777777778,
          0.6944444444444444,
          0.6989583333333333,
          0.7111111111111111,
          0.7055555555555556,
          0.7100694444444444,
          0.6947916666666667,
          0.7104166666666667,
          0.7006944444444444,
          0.7083333333333334,
          0.7045138888888889,
          0.7024305555555556,
          0.7013888888888888,
          0.7052083333333333,
          0.7038194444444444,
          0.6958333333333333,
          0.7072916666666667,
          0.7006944444444444,
          0.6996527777777778,
          0.70625,
          0.6982638888888889
         ],
         "yaxis": "y7"
        }
       ],
       "layout": {
        "template": {
         "data": {
          "bar": [
           {
            "error_x": {
             "color": "#2a3f5f"
            },
            "error_y": {
             "color": "#2a3f5f"
            },
            "marker": {
             "line": {
              "color": "#E5ECF6",
              "width": 0.5
             },
             "pattern": {
              "fillmode": "overlay",
              "size": 10,
              "solidity": 0.2
             }
            },
            "type": "bar"
           }
          ],
          "barpolar": [
           {
            "marker": {
             "line": {
              "color": "#E5ECF6",
              "width": 0.5
             },
             "pattern": {
              "fillmode": "overlay",
              "size": 10,
              "solidity": 0.2
             }
            },
            "type": "barpolar"
           }
          ],
          "carpet": [
           {
            "aaxis": {
             "endlinecolor": "#2a3f5f",
             "gridcolor": "white",
             "linecolor": "white",
             "minorgridcolor": "white",
             "startlinecolor": "#2a3f5f"
            },
            "baxis": {
             "endlinecolor": "#2a3f5f",
             "gridcolor": "white",
             "linecolor": "white",
             "minorgridcolor": "white",
             "startlinecolor": "#2a3f5f"
            },
            "type": "carpet"
           }
          ],
          "choropleth": [
           {
            "colorbar": {
             "outlinewidth": 0,
             "ticks": ""
            },
            "type": "choropleth"
           }
          ],
          "contour": [
           {
            "colorbar": {
             "outlinewidth": 0,
             "ticks": ""
            },
            "colorscale": [
             [
              0,
              "#0d0887"
             ],
             [
              0.1111111111111111,
              "#46039f"
             ],
             [
              0.2222222222222222,
              "#7201a8"
             ],
             [
              0.3333333333333333,
              "#9c179e"
             ],
             [
              0.4444444444444444,
              "#bd3786"
             ],
             [
              0.5555555555555556,
              "#d8576b"
             ],
             [
              0.6666666666666666,
              "#ed7953"
             ],
             [
              0.7777777777777778,
              "#fb9f3a"
             ],
             [
              0.8888888888888888,
              "#fdca26"
             ],
             [
              1,
              "#f0f921"
             ]
            ],
            "type": "contour"
           }
          ],
          "contourcarpet": [
           {
            "colorbar": {
             "outlinewidth": 0,
             "ticks": ""
            },
            "type": "contourcarpet"
           }
          ],
          "heatmap": [
           {
            "colorbar": {
             "outlinewidth": 0,
             "ticks": ""
            },
            "colorscale": [
             [
              0,
              "#0d0887"
             ],
             [
              0.1111111111111111,
              "#46039f"
             ],
             [
              0.2222222222222222,
              "#7201a8"
             ],
             [
              0.3333333333333333,
              "#9c179e"
             ],
             [
              0.4444444444444444,
              "#bd3786"
             ],
             [
              0.5555555555555556,
              "#d8576b"
             ],
             [
              0.6666666666666666,
              "#ed7953"
             ],
             [
              0.7777777777777778,
              "#fb9f3a"
             ],
             [
              0.8888888888888888,
              "#fdca26"
             ],
             [
              1,
              "#f0f921"
             ]
            ],
            "type": "heatmap"
           }
          ],
          "heatmapgl": [
           {
            "colorbar": {
             "outlinewidth": 0,
             "ticks": ""
            },
            "colorscale": [
             [
              0,
              "#0d0887"
             ],
             [
              0.1111111111111111,
              "#46039f"
             ],
             [
              0.2222222222222222,
              "#7201a8"
             ],
             [
              0.3333333333333333,
              "#9c179e"
             ],
             [
              0.4444444444444444,
              "#bd3786"
             ],
             [
              0.5555555555555556,
              "#d8576b"
             ],
             [
              0.6666666666666666,
              "#ed7953"
             ],
             [
              0.7777777777777778,
              "#fb9f3a"
             ],
             [
              0.8888888888888888,
              "#fdca26"
             ],
             [
              1,
              "#f0f921"
             ]
            ],
            "type": "heatmapgl"
           }
          ],
          "histogram": [
           {
            "marker": {
             "pattern": {
              "fillmode": "overlay",
              "size": 10,
              "solidity": 0.2
             }
            },
            "type": "histogram"
           }
          ],
          "histogram2d": [
           {
            "colorbar": {
             "outlinewidth": 0,
             "ticks": ""
            },
            "colorscale": [
             [
              0,
              "#0d0887"
             ],
             [
              0.1111111111111111,
              "#46039f"
             ],
             [
              0.2222222222222222,
              "#7201a8"
             ],
             [
              0.3333333333333333,
              "#9c179e"
             ],
             [
              0.4444444444444444,
              "#bd3786"
             ],
             [
              0.5555555555555556,
              "#d8576b"
             ],
             [
              0.6666666666666666,
              "#ed7953"
             ],
             [
              0.7777777777777778,
              "#fb9f3a"
             ],
             [
              0.8888888888888888,
              "#fdca26"
             ],
             [
              1,
              "#f0f921"
             ]
            ],
            "type": "histogram2d"
           }
          ],
          "histogram2dcontour": [
           {
            "colorbar": {
             "outlinewidth": 0,
             "ticks": ""
            },
            "colorscale": [
             [
              0,
              "#0d0887"
             ],
             [
              0.1111111111111111,
              "#46039f"
             ],
             [
              0.2222222222222222,
              "#7201a8"
             ],
             [
              0.3333333333333333,
              "#9c179e"
             ],
             [
              0.4444444444444444,
              "#bd3786"
             ],
             [
              0.5555555555555556,
              "#d8576b"
             ],
             [
              0.6666666666666666,
              "#ed7953"
             ],
             [
              0.7777777777777778,
              "#fb9f3a"
             ],
             [
              0.8888888888888888,
              "#fdca26"
             ],
             [
              1,
              "#f0f921"
             ]
            ],
            "type": "histogram2dcontour"
           }
          ],
          "mesh3d": [
           {
            "colorbar": {
             "outlinewidth": 0,
             "ticks": ""
            },
            "type": "mesh3d"
           }
          ],
          "parcoords": [
           {
            "line": {
             "colorbar": {
              "outlinewidth": 0,
              "ticks": ""
             }
            },
            "type": "parcoords"
           }
          ],
          "pie": [
           {
            "automargin": true,
            "type": "pie"
           }
          ],
          "scatter": [
           {
            "fillpattern": {
             "fillmode": "overlay",
             "size": 10,
             "solidity": 0.2
            },
            "type": "scatter"
           }
          ],
          "scatter3d": [
           {
            "line": {
             "colorbar": {
              "outlinewidth": 0,
              "ticks": ""
             }
            },
            "marker": {
             "colorbar": {
              "outlinewidth": 0,
              "ticks": ""
             }
            },
            "type": "scatter3d"
           }
          ],
          "scattercarpet": [
           {
            "marker": {
             "colorbar": {
              "outlinewidth": 0,
              "ticks": ""
             }
            },
            "type": "scattercarpet"
           }
          ],
          "scattergeo": [
           {
            "marker": {
             "colorbar": {
              "outlinewidth": 0,
              "ticks": ""
             }
            },
            "type": "scattergeo"
           }
          ],
          "scattergl": [
           {
            "marker": {
             "colorbar": {
              "outlinewidth": 0,
              "ticks": ""
             }
            },
            "type": "scattergl"
           }
          ],
          "scattermapbox": [
           {
            "marker": {
             "colorbar": {
              "outlinewidth": 0,
              "ticks": ""
             }
            },
            "type": "scattermapbox"
           }
          ],
          "scatterpolar": [
           {
            "marker": {
             "colorbar": {
              "outlinewidth": 0,
              "ticks": ""
             }
            },
            "type": "scatterpolar"
           }
          ],
          "scatterpolargl": [
           {
            "marker": {
             "colorbar": {
              "outlinewidth": 0,
              "ticks": ""
             }
            },
            "type": "scatterpolargl"
           }
          ],
          "scatterternary": [
           {
            "marker": {
             "colorbar": {
              "outlinewidth": 0,
              "ticks": ""
             }
            },
            "type": "scatterternary"
           }
          ],
          "surface": [
           {
            "colorbar": {
             "outlinewidth": 0,
             "ticks": ""
            },
            "colorscale": [
             [
              0,
              "#0d0887"
             ],
             [
              0.1111111111111111,
              "#46039f"
             ],
             [
              0.2222222222222222,
              "#7201a8"
             ],
             [
              0.3333333333333333,
              "#9c179e"
             ],
             [
              0.4444444444444444,
              "#bd3786"
             ],
             [
              0.5555555555555556,
              "#d8576b"
             ],
             [
              0.6666666666666666,
              "#ed7953"
             ],
             [
              0.7777777777777778,
              "#fb9f3a"
             ],
             [
              0.8888888888888888,
              "#fdca26"
             ],
             [
              1,
              "#f0f921"
             ]
            ],
            "type": "surface"
           }
          ],
          "table": [
           {
            "cells": {
             "fill": {
              "color": "#EBF0F8"
             },
             "line": {
              "color": "white"
             }
            },
            "header": {
             "fill": {
              "color": "#C8D4E3"
             },
             "line": {
              "color": "white"
             }
            },
            "type": "table"
           }
          ]
         },
         "layout": {
          "annotationdefaults": {
           "arrowcolor": "#2a3f5f",
           "arrowhead": 0,
           "arrowwidth": 1
          },
          "autotypenumbers": "strict",
          "coloraxis": {
           "colorbar": {
            "outlinewidth": 0,
            "ticks": ""
           }
          },
          "colorscale": {
           "diverging": [
            [
             0,
             "#8e0152"
            ],
            [
             0.1,
             "#c51b7d"
            ],
            [
             0.2,
             "#de77ae"
            ],
            [
             0.3,
             "#f1b6da"
            ],
            [
             0.4,
             "#fde0ef"
            ],
            [
             0.5,
             "#f7f7f7"
            ],
            [
             0.6,
             "#e6f5d0"
            ],
            [
             0.7,
             "#b8e186"
            ],
            [
             0.8,
             "#7fbc41"
            ],
            [
             0.9,
             "#4d9221"
            ],
            [
             1,
             "#276419"
            ]
           ],
           "sequential": [
            [
             0,
             "#0d0887"
            ],
            [
             0.1111111111111111,
             "#46039f"
            ],
            [
             0.2222222222222222,
             "#7201a8"
            ],
            [
             0.3333333333333333,
             "#9c179e"
            ],
            [
             0.4444444444444444,
             "#bd3786"
            ],
            [
             0.5555555555555556,
             "#d8576b"
            ],
            [
             0.6666666666666666,
             "#ed7953"
            ],
            [
             0.7777777777777778,
             "#fb9f3a"
            ],
            [
             0.8888888888888888,
             "#fdca26"
            ],
            [
             1,
             "#f0f921"
            ]
           ],
           "sequentialminus": [
            [
             0,
             "#0d0887"
            ],
            [
             0.1111111111111111,
             "#46039f"
            ],
            [
             0.2222222222222222,
             "#7201a8"
            ],
            [
             0.3333333333333333,
             "#9c179e"
            ],
            [
             0.4444444444444444,
             "#bd3786"
            ],
            [
             0.5555555555555556,
             "#d8576b"
            ],
            [
             0.6666666666666666,
             "#ed7953"
            ],
            [
             0.7777777777777778,
             "#fb9f3a"
            ],
            [
             0.8888888888888888,
             "#fdca26"
            ],
            [
             1,
             "#f0f921"
            ]
           ]
          },
          "colorway": [
           "#636efa",
           "#EF553B",
           "#00cc96",
           "#ab63fa",
           "#FFA15A",
           "#19d3f3",
           "#FF6692",
           "#B6E880",
           "#FF97FF",
           "#FECB52"
          ],
          "font": {
           "color": "#2a3f5f"
          },
          "geo": {
           "bgcolor": "white",
           "lakecolor": "white",
           "landcolor": "#E5ECF6",
           "showlakes": true,
           "showland": true,
           "subunitcolor": "white"
          },
          "hoverlabel": {
           "align": "left"
          },
          "hovermode": "closest",
          "mapbox": {
           "style": "light"
          },
          "paper_bgcolor": "white",
          "plot_bgcolor": "#E5ECF6",
          "polar": {
           "angularaxis": {
            "gridcolor": "white",
            "linecolor": "white",
            "ticks": ""
           },
           "bgcolor": "#E5ECF6",
           "radialaxis": {
            "gridcolor": "white",
            "linecolor": "white",
            "ticks": ""
           }
          },
          "scene": {
           "xaxis": {
            "backgroundcolor": "#E5ECF6",
            "gridcolor": "white",
            "gridwidth": 2,
            "linecolor": "white",
            "showbackground": true,
            "ticks": "",
            "zerolinecolor": "white"
           },
           "yaxis": {
            "backgroundcolor": "#E5ECF6",
            "gridcolor": "white",
            "gridwidth": 2,
            "linecolor": "white",
            "showbackground": true,
            "ticks": "",
            "zerolinecolor": "white"
           },
           "zaxis": {
            "backgroundcolor": "#E5ECF6",
            "gridcolor": "white",
            "gridwidth": 2,
            "linecolor": "white",
            "showbackground": true,
            "ticks": "",
            "zerolinecolor": "white"
           }
          },
          "shapedefaults": {
           "line": {
            "color": "#2a3f5f"
           }
          },
          "ternary": {
           "aaxis": {
            "gridcolor": "white",
            "linecolor": "white",
            "ticks": ""
           },
           "baxis": {
            "gridcolor": "white",
            "linecolor": "white",
            "ticks": ""
           },
           "bgcolor": "#E5ECF6",
           "caxis": {
            "gridcolor": "white",
            "linecolor": "white",
            "ticks": ""
           }
          },
          "title": {
           "x": 0.05
          },
          "xaxis": {
           "automargin": true,
           "gridcolor": "white",
           "linecolor": "white",
           "ticks": "",
           "title": {
            "standoff": 15
           },
           "zerolinecolor": "white",
           "zerolinewidth": 2
          },
          "yaxis": {
           "automargin": true,
           "gridcolor": "white",
           "linecolor": "white",
           "ticks": "",
           "title": {
            "standoff": 15
           },
           "zerolinecolor": "white",
           "zerolinewidth": 2
          }
         }
        },
        "title": {
         "text": "Slice Plot"
        },
        "width": 2100,
        "xaxis": {
         "anchor": "y",
         "categoryarray": [
          "entropy",
          "log_loss"
         ],
         "categoryorder": "array",
         "domain": [
          0,
          0.1183673469387755
         ],
         "title": {
          "text": "criterion"
         },
         "type": "category"
        },
        "xaxis2": {
         "anchor": "y2",
         "domain": [
          0.14693877551020407,
          0.26530612244897955
         ],
         "title": {
          "text": "max_depth"
         }
        },
        "xaxis3": {
         "anchor": "y3",
         "categoryarray": [
          "sqrt",
          "log2"
         ],
         "categoryorder": "array",
         "domain": [
          0.29387755102040813,
          0.4122448979591836
         ],
         "title": {
          "text": "max_features"
         },
         "type": "category"
        },
        "xaxis4": {
         "anchor": "y4",
         "domain": [
          0.4408163265306122,
          0.5591836734693877
         ],
         "title": {
          "text": "n_estimators"
         }
        },
        "xaxis5": {
         "anchor": "y5",
         "domain": [
          0.5877551020408163,
          0.7061224489795918
         ],
         "title": {
          "text": "n_pca_components"
         }
        },
        "xaxis6": {
         "anchor": "y6",
         "categoryarray": [
          "linear",
          "poly",
          "rbf",
          "sigmoid",
          "cosine"
         ],
         "categoryorder": "array",
         "domain": [
          0.7346938775510204,
          0.8530612244897959
         ],
         "title": {
          "text": "pca_kernel"
         },
         "type": "category"
        },
        "xaxis7": {
         "anchor": "y7",
         "categoryarray": [
          "True",
          "False"
         ],
         "categoryorder": "array",
         "domain": [
          0.8816326530612244,
          0.9999999999999999
         ],
         "title": {
          "text": "use_pca"
         },
         "type": "category"
        },
        "yaxis": {
         "anchor": "x",
         "domain": [
          0,
          1
         ],
         "title": {
          "text": "Objective Value"
         }
        },
        "yaxis2": {
         "anchor": "x2",
         "domain": [
          0,
          1
         ],
         "matches": "y",
         "showticklabels": false
        },
        "yaxis3": {
         "anchor": "x3",
         "domain": [
          0,
          1
         ],
         "matches": "y",
         "showticklabels": false
        },
        "yaxis4": {
         "anchor": "x4",
         "domain": [
          0,
          1
         ],
         "matches": "y",
         "showticklabels": false
        },
        "yaxis5": {
         "anchor": "x5",
         "domain": [
          0,
          1
         ],
         "matches": "y",
         "showticklabels": false
        },
        "yaxis6": {
         "anchor": "x6",
         "domain": [
          0,
          1
         ],
         "matches": "y",
         "showticklabels": false
        },
        "yaxis7": {
         "anchor": "x7",
         "domain": [
          0,
          1
         ],
         "matches": "y",
         "showticklabels": false
        }
       }
      }
     },
     "metadata": {},
     "output_type": "display_data"
    }
   ],
   "source": [
    "import numpy as np\n",
    "from sklearn.model_selection import train_test_split\n",
    "from sklearn.preprocessing import StandardScaler\n",
    "from sklearn.metrics import accuracy_score\n",
    "from sklearn.decomposition import PCA, KernelPCA\n",
    "from sklearn.ensemble import RandomForestClassifier\n",
    "import optuna\n",
    "import optuna.visualization as vis\n",
    "\n",
    "n = 9\n",
    "\n",
    "X = np.load('Datasets/kryptonite-%s-X.npy'%(n))\n",
    "y = np.load('Datasets/kryptonite-%s-y.npy'%(n))\n",
    "\n",
    "def objective(trial):\n",
    "    ### ========== Shuffle and Split Data ========== ###\n",
    "\n",
    "    X_train, X_val, y_train, y_val = train_test_split(X, y, test_size=0.8, random_state=42)\n",
    "\n",
    "    scaler = StandardScaler()\n",
    "    X_train_scaled = scaler.fit_transform(X_train)\n",
    "    X_val_scaled = scaler.transform(X_val)\n",
    "\n",
    "    # Suggest dimensionality reduction and kernel parameters\n",
    "    use_pca = trial.suggest_categorical('use_pca', ['True', 'False'])\n",
    "    \n",
    "    if use_pca == 'True':\n",
    "        kernel_pca = trial.suggest_categorical('pca_kernel', ['linear', 'poly', 'rbf', 'sigmoid', 'cosine'])\n",
    "        # kernel_pca = 'linear'\n",
    "\n",
    "        params_pca = {}\n",
    "\n",
    "        if kernel_pca == 'poly':\n",
    "            params_pca['degree'] = trial.suggest_int('degree_pca', 1, 10)\n",
    "        if kernel_pca in ['poly', 'rbf', 'sigmoid']:\n",
    "            params_pca['gamma'] = trial.suggest_float('gamma_pca', 0.1, 10)\n",
    "\n",
    "        params_pca['n_jobs'] = -1\n",
    "        params_pca['n_components'] = trial.suggest_int('n_pca_components', 1, max(1, X_train_scaled.shape[1]))\n",
    "\n",
    "\n",
    "    ### ========== Dimensionality Reduction ========== ###\n",
    "\n",
    "    if use_pca == 'True':\n",
    "        pca = KernelPCA(**params_pca)\n",
    "\n",
    "        X_train_scaled = pca.fit_transform(X_train_scaled)\n",
    "        X_val_scaled = pca.transform(X_val)\n",
    "\n",
    "    # KNN Classifier parameters\n",
    "    classifier = RandomForestClassifier(\n",
    "        n_estimators=trial.suggest_int('n_estimators', 100, 300, step=25),\n",
    "        n_jobs=-1\n",
    "    )\n",
    "\n",
    "    # Train the classifier\n",
    "    classifier.fit(X_train_scaled, y_train)\n",
    "\n",
    "    # Evaluate on the val set\n",
    "    y_val_pred = classifier.predict(X_val_scaled)\n",
    "    val_accuracy = accuracy_score(y_val, y_val_pred)\n",
    "\n",
    "    # Report validation accuracy for pruning\n",
    "    trial.report(val_accuracy, step=0)\n",
    "\n",
    "    # Check if the trial should be pruned\n",
    "    if trial.should_prune():\n",
    "        raise optuna.TrialPruned()\n",
    "\n",
    "\n",
    "    return val_accuracy\n",
    "\n",
    "# Create a study object with a pruner\n",
    "pruner = optuna.pruners.MedianPruner()\n",
    "study = optuna.create_study(direction=\"maximize\", pruner=pruner)\n",
    "\n",
    "# Optimize the objective function\n",
    "study.optimize(objective, n_trials=100)\n",
    "\n",
    "print(\"Best hyperparameters:\", study.best_params)\n",
    "print(\"Best value:\", study.best_value)\n",
    "\n",
    "# Visualize the optimization history and parameter importances\n",
    "vis.plot_optimization_history(study).show()\n",
    "vis.plot_param_importances(study).show()\n",
    "vis.plot_slice(study).show()"
   ]
  }
 ],
 "metadata": {
  "kernelspec": {
   "display_name": ".venv",
   "language": "python",
   "name": "python3"
  },
  "language_info": {
   "codemirror_mode": {
    "name": "ipython",
    "version": 3
   },
   "file_extension": ".py",
   "mimetype": "text/x-python",
   "name": "python",
   "nbconvert_exporter": "python",
   "pygments_lexer": "ipython3",
   "version": "3.12.0"
  }
 },
 "nbformat": 4,
 "nbformat_minor": 2
}
