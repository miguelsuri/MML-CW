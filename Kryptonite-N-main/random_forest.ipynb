{
 "cells": [
  {
   "cell_type": "code",
   "execution_count": 9,
   "metadata": {},
   "outputs": [
    {
     "name": "stderr",
     "output_type": "stream",
     "text": [
      "[I 2024-11-13 22:34:02,613] A new study created in memory with name: no-name-c6d46762-4dfb-4f7b-9b2e-bf567e656b5f\n",
      "[I 2024-11-13 22:34:03,508] Trial 0 finished with value: 0.8425154320987654 and parameters: {'n_components': 5, 'max_depth': 26, 'min_samples_split': 19, 'min_samples_leaf': 4, 'max_features': 'log2'}. Best is trial 0 with value: 0.8425154320987654.\n"
     ]
    },
    {
     "name": "stdout",
     "output_type": "stream",
     "text": [
      "New best model saved with accuracy: 0.8425\n"
     ]
    },
    {
     "name": "stderr",
     "output_type": "stream",
     "text": [
      "[I 2024-11-13 22:34:04,425] Trial 1 finished with value: 0.8758487654320988 and parameters: {'n_components': 9, 'max_depth': 24, 'min_samples_split': 16, 'min_samples_leaf': 15, 'max_features': 'log2'}. Best is trial 1 with value: 0.8758487654320988.\n"
     ]
    },
    {
     "name": "stdout",
     "output_type": "stream",
     "text": [
      "New best model saved with accuracy: 0.8758\n"
     ]
    },
    {
     "name": "stderr",
     "output_type": "stream",
     "text": [
      "[I 2024-11-13 22:34:05,136] Trial 2 finished with value: 0.7908950617283951 and parameters: {'n_components': 6, 'max_depth': 8, 'min_samples_split': 14, 'min_samples_leaf': 12, 'max_features': 'log2'}. Best is trial 1 with value: 0.8758487654320988.\n",
      "[I 2024-11-13 22:34:05,830] Trial 3 finished with value: 0.7876543209876543 and parameters: {'n_components': 7, 'max_depth': 9, 'min_samples_split': 8, 'min_samples_leaf': 16, 'max_features': 'log2'}. Best is trial 1 with value: 0.8758487654320988.\n",
      "[I 2024-11-13 22:34:06,541] Trial 4 finished with value: 0.837037037037037 and parameters: {'n_components': 5, 'max_depth': 13, 'min_samples_split': 9, 'min_samples_leaf': 4, 'max_features': 'sqrt'}. Best is trial 1 with value: 0.8758487654320988.\n",
      "[I 2024-11-13 22:34:07,231] Trial 5 finished with value: 0.6833333333333333 and parameters: {'n_components': 4, 'max_depth': 7, 'min_samples_split': 18, 'min_samples_leaf': 7, 'max_features': 'sqrt'}. Best is trial 1 with value: 0.8758487654320988.\n",
      "[I 2024-11-13 22:34:07,895] Trial 6 finished with value: 0.5555555555555556 and parameters: {'n_components': 3, 'max_depth': 3, 'min_samples_split': 15, 'min_samples_leaf': 15, 'max_features': 'sqrt'}. Best is trial 1 with value: 0.8758487654320988.\n",
      "[I 2024-11-13 22:34:08,585] Trial 7 finished with value: 0.647608024691358 and parameters: {'n_components': 3, 'max_depth': 10, 'min_samples_split': 8, 'min_samples_leaf': 6, 'max_features': 'sqrt'}. Best is trial 1 with value: 0.8758487654320988.\n",
      "[I 2024-11-13 22:34:09,275] Trial 8 finished with value: 0.7058641975308642 and parameters: {'n_components': 6, 'max_depth': 5, 'min_samples_split': 10, 'min_samples_leaf': 2, 'max_features': 'sqrt'}. Best is trial 1 with value: 0.8758487654320988.\n",
      "[I 2024-11-13 22:34:10,133] Trial 9 finished with value: 0.8966820987654321 and parameters: {'n_components': 8, 'max_depth': 21, 'min_samples_split': 16, 'min_samples_leaf': 5, 'max_features': 'sqrt'}. Best is trial 9 with value: 0.8966820987654321.\n"
     ]
    },
    {
     "name": "stdout",
     "output_type": "stream",
     "text": [
      "New best model saved with accuracy: 0.8967\n"
     ]
    },
    {
     "name": "stderr",
     "output_type": "stream",
     "text": [
      "[I 2024-11-13 22:34:10,859] Trial 10 pruned. \n",
      "[I 2024-11-13 22:34:11,818] Trial 11 finished with value: 0.9053240740740741 and parameters: {'n_components': 9, 'max_depth': 22, 'min_samples_split': 15, 'min_samples_leaf': 10, 'max_features': 'log2'}. Best is trial 11 with value: 0.9053240740740741.\n"
     ]
    },
    {
     "name": "stdout",
     "output_type": "stream",
     "text": [
      "New best model saved with accuracy: 0.9053\n"
     ]
    },
    {
     "name": "stderr",
     "output_type": "stream",
     "text": [
      "[I 2024-11-13 22:34:12,758] Trial 12 finished with value: 0.9056327160493827 and parameters: {'n_components': 9, 'max_depth': 30, 'min_samples_split': 13, 'min_samples_leaf': 10, 'max_features': 'log2'}. Best is trial 12 with value: 0.9056327160493827.\n"
     ]
    },
    {
     "name": "stdout",
     "output_type": "stream",
     "text": [
      "New best model saved with accuracy: 0.9056\n"
     ]
    },
    {
     "name": "stderr",
     "output_type": "stream",
     "text": [
      "[I 2024-11-13 22:34:13,629] Trial 13 finished with value: 0.9056327160493827 and parameters: {'n_components': 9, 'max_depth': 29, 'min_samples_split': 12, 'min_samples_leaf': 10, 'max_features': 'log2'}. Best is trial 12 with value: 0.9056327160493827.\n",
      "[I 2024-11-13 22:34:14,484] Trial 14 finished with value: 0.8873456790123457 and parameters: {'n_components': 8, 'max_depth': 30, 'min_samples_split': 12, 'min_samples_leaf': 10, 'max_features': 'log2'}. Best is trial 12 with value: 0.9056327160493827.\n",
      "[I 2024-11-13 22:34:15,447] Trial 15 finished with value: 0.9097993827160494 and parameters: {'n_components': 9, 'max_depth': 30, 'min_samples_split': 5, 'min_samples_leaf': 9, 'max_features': 'log2'}. Best is trial 15 with value: 0.9097993827160494.\n"
     ]
    },
    {
     "name": "stdout",
     "output_type": "stream",
     "text": [
      "New best model saved with accuracy: 0.9098\n"
     ]
    },
    {
     "name": "stderr",
     "output_type": "stream",
     "text": [
      "[I 2024-11-13 22:34:16,231] Trial 16 finished with value: 0.8749228395061729 and parameters: {'n_components': 7, 'max_depth': 17, 'min_samples_split': 2, 'min_samples_leaf': 8, 'max_features': 'log2'}. Best is trial 15 with value: 0.9097993827160494.\n",
      "[I 2024-11-13 22:34:17,063] Trial 17 finished with value: 0.8733024691358025 and parameters: {'n_components': 8, 'max_depth': 27, 'min_samples_split': 6, 'min_samples_leaf': 12, 'max_features': 'log2'}. Best is trial 15 with value: 0.9097993827160494.\n",
      "[I 2024-11-13 22:34:17,864] Trial 18 finished with value: 0.9094907407407408 and parameters: {'n_components': 7, 'max_depth': 17, 'min_samples_split': 6, 'min_samples_leaf': 1, 'max_features': 'log2'}. Best is trial 15 with value: 0.9097993827160494.\n",
      "[I 2024-11-13 22:34:18,677] Trial 19 finished with value: 0.9087191358024691 and parameters: {'n_components': 7, 'max_depth': 16, 'min_samples_split': 5, 'min_samples_leaf': 1, 'max_features': 'log2'}. Best is trial 15 with value: 0.9097993827160494.\n",
      "[I 2024-11-13 22:34:19,421] Trial 20 pruned. \n",
      "[I 2024-11-13 22:34:20,200] Trial 21 finished with value: 0.9004629629629629 and parameters: {'n_components': 6, 'max_depth': 16, 'min_samples_split': 5, 'min_samples_leaf': 1, 'max_features': 'log2'}. Best is trial 15 with value: 0.9097993827160494.\n",
      "[I 2024-11-13 22:34:21,221] Trial 22 finished with value: 0.9192901234567902 and parameters: {'n_components': 8, 'max_depth': 18, 'min_samples_split': 6, 'min_samples_leaf': 2, 'max_features': 'log2'}. Best is trial 22 with value: 0.9192901234567902.\n"
     ]
    },
    {
     "name": "stdout",
     "output_type": "stream",
     "text": [
      "New best model saved with accuracy: 0.9193\n"
     ]
    },
    {
     "name": "stderr",
     "output_type": "stream",
     "text": [
      "[I 2024-11-13 22:34:22,166] Trial 23 finished with value: 0.9172067901234567 and parameters: {'n_components': 8, 'max_depth': 18, 'min_samples_split': 7, 'min_samples_leaf': 3, 'max_features': 'log2'}. Best is trial 22 with value: 0.9192901234567902.\n",
      "[I 2024-11-13 22:34:23,095] Trial 24 finished with value: 0.9165123456790123 and parameters: {'n_components': 8, 'max_depth': 19, 'min_samples_split': 7, 'min_samples_leaf': 3, 'max_features': 'log2'}. Best is trial 22 with value: 0.9192901234567902.\n",
      "[I 2024-11-13 22:34:23,982] Trial 25 finished with value: 0.9168981481481482 and parameters: {'n_components': 8, 'max_depth': 19, 'min_samples_split': 8, 'min_samples_leaf': 3, 'max_features': 'log2'}. Best is trial 22 with value: 0.9192901234567902.\n",
      "[I 2024-11-13 22:34:24,831] Trial 26 finished with value: 0.8966820987654321 and parameters: {'n_components': 8, 'max_depth': 13, 'min_samples_split': 10, 'min_samples_leaf': 3, 'max_features': 'log2'}. Best is trial 22 with value: 0.9192901234567902.\n",
      "[I 2024-11-13 22:34:25,582] Trial 27 pruned. \n",
      "[I 2024-11-13 22:34:26,319] Trial 28 pruned. \n",
      "[I 2024-11-13 22:34:27,099] Trial 29 pruned. \n",
      "[I 2024-11-13 22:34:27,983] Trial 30 finished with value: 0.914891975308642 and parameters: {'n_components': 8, 'max_depth': 26, 'min_samples_split': 7, 'min_samples_leaf': 4, 'max_features': 'log2'}. Best is trial 22 with value: 0.9192901234567902.\n",
      "[I 2024-11-13 22:34:28,857] Trial 31 finished with value: 0.9165123456790123 and parameters: {'n_components': 8, 'max_depth': 19, 'min_samples_split': 7, 'min_samples_leaf': 3, 'max_features': 'log2'}. Best is trial 22 with value: 0.9192901234567902.\n",
      "[I 2024-11-13 22:34:29,861] Trial 32 finished with value: 0.9334104938271605 and parameters: {'n_components': 9, 'max_depth': 18, 'min_samples_split': 7, 'min_samples_leaf': 2, 'max_features': 'log2'}. Best is trial 32 with value: 0.9334104938271605.\n"
     ]
    },
    {
     "name": "stdout",
     "output_type": "stream",
     "text": [
      "New best model saved with accuracy: 0.9334\n"
     ]
    },
    {
     "name": "stderr",
     "output_type": "stream",
     "text": [
      "[I 2024-11-13 22:34:30,726] Trial 33 finished with value: 0.926466049382716 and parameters: {'n_components': 9, 'max_depth': 14, 'min_samples_split': 9, 'min_samples_leaf': 2, 'max_features': 'log2'}. Best is trial 32 with value: 0.9334104938271605.\n",
      "[I 2024-11-13 22:34:31,578] Trial 34 finished with value: 0.9248456790123457 and parameters: {'n_components': 9, 'max_depth': 14, 'min_samples_split': 11, 'min_samples_leaf': 2, 'max_features': 'log2'}. Best is trial 32 with value: 0.9334104938271605.\n",
      "[I 2024-11-13 22:34:32,425] Trial 35 finished with value: 0.9247685185185185 and parameters: {'n_components': 9, 'max_depth': 13, 'min_samples_split': 11, 'min_samples_leaf': 1, 'max_features': 'log2'}. Best is trial 32 with value: 0.9334104938271605.\n",
      "[I 2024-11-13 22:34:33,260] Trial 36 finished with value: 0.9151234567901234 and parameters: {'n_components': 9, 'max_depth': 14, 'min_samples_split': 11, 'min_samples_leaf': 5, 'max_features': 'log2'}. Best is trial 32 with value: 0.9334104938271605.\n",
      "[I 2024-11-13 22:34:34,053] Trial 37 pruned. \n",
      "[I 2024-11-13 22:34:34,860] Trial 38 pruned. \n",
      "[I 2024-11-13 22:34:35,643] Trial 39 pruned. \n",
      "[I 2024-11-13 22:34:36,375] Trial 40 pruned. \n",
      "[I 2024-11-13 22:34:37,229] Trial 41 finished with value: 0.9238425925925926 and parameters: {'n_components': 9, 'max_depth': 15, 'min_samples_split': 9, 'min_samples_leaf': 4, 'max_features': 'log2'}. Best is trial 32 with value: 0.9334104938271605.\n",
      "[I 2024-11-13 22:34:38,047] Trial 42 finished with value: 0.9238425925925926 and parameters: {'n_components': 9, 'max_depth': 15, 'min_samples_split': 9, 'min_samples_leaf': 4, 'max_features': 'log2'}. Best is trial 32 with value: 0.9334104938271605.\n",
      "[I 2024-11-13 22:34:38,865] Trial 43 finished with value: 0.9198302469135803 and parameters: {'n_components': 9, 'max_depth': 13, 'min_samples_split': 12, 'min_samples_leaf': 2, 'max_features': 'log2'}. Best is trial 32 with value: 0.9334104938271605.\n",
      "[I 2024-11-13 22:34:39,603] Trial 44 pruned. \n",
      "[I 2024-11-13 22:34:40,407] Trial 45 finished with value: 0.9213734567901235 and parameters: {'n_components': 9, 'max_depth': 15, 'min_samples_split': 11, 'min_samples_leaf': 4, 'max_features': 'log2'}. Best is trial 32 with value: 0.9334104938271605.\n",
      "[I 2024-11-13 22:34:41,147] Trial 46 pruned. \n",
      "[I 2024-11-13 22:34:41,866] Trial 47 pruned. \n",
      "[I 2024-11-13 22:34:42,657] Trial 48 pruned. \n",
      "[I 2024-11-13 22:34:43,379] Trial 49 pruned. \n",
      "[I 2024-11-13 22:34:44,187] Trial 50 pruned. \n",
      "[I 2024-11-13 22:34:45,054] Trial 51 finished with value: 0.9238425925925926 and parameters: {'n_components': 9, 'max_depth': 15, 'min_samples_split': 9, 'min_samples_leaf': 4, 'max_features': 'log2'}. Best is trial 32 with value: 0.9334104938271605.\n",
      "[I 2024-11-13 22:34:45,944] Trial 52 finished with value: 0.9271604938271605 and parameters: {'n_components': 9, 'max_depth': 14, 'min_samples_split': 8, 'min_samples_leaf': 2, 'max_features': 'log2'}. Best is trial 32 with value: 0.9334104938271605.\n",
      "[I 2024-11-13 22:34:46,983] Trial 53 finished with value: 0.9179783950617284 and parameters: {'n_components': 8, 'max_depth': 17, 'min_samples_split': 8, 'min_samples_leaf': 2, 'max_features': 'log2'}. Best is trial 32 with value: 0.9334104938271605.\n",
      "[I 2024-11-13 22:34:47,927] Trial 54 finished with value: 0.926466049382716 and parameters: {'n_components': 9, 'max_depth': 14, 'min_samples_split': 12, 'min_samples_leaf': 1, 'max_features': 'log2'}. Best is trial 32 with value: 0.9334104938271605.\n",
      "[I 2024-11-13 22:34:48,893] Trial 55 pruned. \n",
      "[I 2024-11-13 22:34:49,741] Trial 56 finished with value: 0.9248456790123457 and parameters: {'n_components': 9, 'max_depth': 14, 'min_samples_split': 11, 'min_samples_leaf': 2, 'max_features': 'log2'}. Best is trial 32 with value: 0.9334104938271605.\n",
      "[I 2024-11-13 22:34:50,469] Trial 57 pruned. \n",
      "[I 2024-11-13 22:34:51,288] Trial 58 pruned. \n",
      "[I 2024-11-13 22:34:52,167] Trial 59 pruned. \n",
      "[I 2024-11-13 22:34:52,993] Trial 60 pruned. \n",
      "[I 2024-11-13 22:34:53,931] Trial 61 finished with value: 0.9247685185185185 and parameters: {'n_components': 9, 'max_depth': 13, 'min_samples_split': 11, 'min_samples_leaf': 1, 'max_features': 'log2'}. Best is trial 32 with value: 0.9334104938271605.\n",
      "[I 2024-11-13 22:34:54,864] Trial 62 finished with value: 0.9137345679012345 and parameters: {'n_components': 9, 'max_depth': 11, 'min_samples_split': 10, 'min_samples_leaf': 1, 'max_features': 'log2'}. Best is trial 32 with value: 0.9334104938271605.\n",
      "[I 2024-11-13 22:34:55,805] Trial 63 finished with value: 0.9271604938271605 and parameters: {'n_components': 9, 'max_depth': 14, 'min_samples_split': 8, 'min_samples_leaf': 2, 'max_features': 'log2'}. Best is trial 32 with value: 0.9334104938271605.\n",
      "[I 2024-11-13 22:34:56,741] Trial 64 pruned. \n",
      "[I 2024-11-13 22:34:57,669] Trial 65 finished with value: 0.9322530864197531 and parameters: {'n_components': 9, 'max_depth': 16, 'min_samples_split': 7, 'min_samples_leaf': 2, 'max_features': 'log2'}. Best is trial 32 with value: 0.9334104938271605.\n",
      "[I 2024-11-13 22:34:58,622] Trial 66 finished with value: 0.9172067901234567 and parameters: {'n_components': 8, 'max_depth': 18, 'min_samples_split': 7, 'min_samples_leaf': 3, 'max_features': 'log2'}. Best is trial 32 with value: 0.9334104938271605.\n",
      "[I 2024-11-13 22:34:59,615] Trial 67 finished with value: 0.9274691358024691 and parameters: {'n_components': 9, 'max_depth': 16, 'min_samples_split': 8, 'min_samples_leaf': 3, 'max_features': 'sqrt'}. Best is trial 32 with value: 0.9334104938271605.\n",
      "[I 2024-11-13 22:35:00,476] Trial 68 pruned. \n",
      "[I 2024-11-13 22:35:01,427] Trial 69 finished with value: 0.9216820987654321 and parameters: {'n_components': 9, 'max_depth': 16, 'min_samples_split': 4, 'min_samples_leaf': 5, 'max_features': 'sqrt'}. Best is trial 32 with value: 0.9334104938271605.\n",
      "[I 2024-11-13 22:35:02,300] Trial 70 pruned. \n",
      "[I 2024-11-13 22:35:03,260] Trial 71 finished with value: 0.9324845679012346 and parameters: {'n_components': 9, 'max_depth': 17, 'min_samples_split': 6, 'min_samples_leaf': 2, 'max_features': 'sqrt'}. Best is trial 32 with value: 0.9334104938271605.\n",
      "[I 2024-11-13 22:35:04,221] Trial 72 finished with value: 0.9326388888888889 and parameters: {'n_components': 9, 'max_depth': 16, 'min_samples_split': 6, 'min_samples_leaf': 1, 'max_features': 'sqrt'}. Best is trial 32 with value: 0.9334104938271605.\n",
      "[I 2024-11-13 22:35:05,174] Trial 73 finished with value: 0.93125 and parameters: {'n_components': 9, 'max_depth': 16, 'min_samples_split': 6, 'min_samples_leaf': 2, 'max_features': 'sqrt'}. Best is trial 32 with value: 0.9334104938271605.\n",
      "[I 2024-11-13 22:35:06,118] Trial 74 finished with value: 0.9317901234567901 and parameters: {'n_components': 9, 'max_depth': 20, 'min_samples_split': 6, 'min_samples_leaf': 3, 'max_features': 'sqrt'}. Best is trial 32 with value: 0.9334104938271605.\n",
      "[I 2024-11-13 22:35:06,973] Trial 75 pruned. \n",
      "[I 2024-11-13 22:35:07,857] Trial 76 pruned. \n",
      "[I 2024-11-13 22:35:08,823] Trial 77 finished with value: 0.9300925925925926 and parameters: {'n_components': 9, 'max_depth': 17, 'min_samples_split': 5, 'min_samples_leaf': 3, 'max_features': 'sqrt'}. Best is trial 32 with value: 0.9334104938271605.\n",
      "[I 2024-11-13 22:35:09,656] Trial 78 pruned. \n",
      "[I 2024-11-13 22:35:10,509] Trial 79 pruned. \n",
      "[I 2024-11-13 22:35:11,466] Trial 80 finished with value: 0.9300925925925926 and parameters: {'n_components': 9, 'max_depth': 17, 'min_samples_split': 6, 'min_samples_leaf': 3, 'max_features': 'sqrt'}. Best is trial 32 with value: 0.9334104938271605.\n",
      "[I 2024-11-13 22:35:12,405] Trial 81 finished with value: 0.9300925925925926 and parameters: {'n_components': 9, 'max_depth': 17, 'min_samples_split': 6, 'min_samples_leaf': 3, 'max_features': 'sqrt'}. Best is trial 32 with value: 0.9334104938271605.\n",
      "[I 2024-11-13 22:35:13,349] Trial 82 finished with value: 0.9228395061728395 and parameters: {'n_components': 9, 'max_depth': 17, 'min_samples_split': 6, 'min_samples_leaf': 5, 'max_features': 'sqrt'}. Best is trial 32 with value: 0.9334104938271605.\n",
      "[I 2024-11-13 22:35:14,305] Trial 83 finished with value: 0.9305555555555556 and parameters: {'n_components': 9, 'max_depth': 19, 'min_samples_split': 5, 'min_samples_leaf': 3, 'max_features': 'sqrt'}. Best is trial 32 with value: 0.9334104938271605.\n",
      "[I 2024-11-13 22:35:15,470] Trial 84 finished with value: 0.9361882716049382 and parameters: {'n_components': 9, 'max_depth': 19, 'min_samples_split': 5, 'min_samples_leaf': 1, 'max_features': 'sqrt'}. Best is trial 84 with value: 0.9361882716049382.\n"
     ]
    },
    {
     "name": "stdout",
     "output_type": "stream",
     "text": [
      "New best model saved with accuracy: 0.9362\n"
     ]
    },
    {
     "name": "stderr",
     "output_type": "stream",
     "text": [
      "[I 2024-11-13 22:35:16,639] Trial 85 finished with value: 0.9380401234567901 and parameters: {'n_components': 9, 'max_depth': 21, 'min_samples_split': 3, 'min_samples_leaf': 1, 'max_features': 'sqrt'}. Best is trial 85 with value: 0.9380401234567901.\n"
     ]
    },
    {
     "name": "stdout",
     "output_type": "stream",
     "text": [
      "New best model saved with accuracy: 0.9380\n"
     ]
    },
    {
     "name": "stderr",
     "output_type": "stream",
     "text": [
      "[I 2024-11-13 22:35:17,586] Trial 86 finished with value: 0.9256172839506173 and parameters: {'n_components': 8, 'max_depth': 20, 'min_samples_split': 3, 'min_samples_leaf': 1, 'max_features': 'sqrt'}. Best is trial 85 with value: 0.9380401234567901.\n",
      "[I 2024-11-13 22:35:18,675] Trial 87 finished with value: 0.9374228395061729 and parameters: {'n_components': 9, 'max_depth': 22, 'min_samples_split': 4, 'min_samples_leaf': 1, 'max_features': 'sqrt'}. Best is trial 85 with value: 0.9380401234567901.\n",
      "[I 2024-11-13 22:35:19,709] Trial 88 finished with value: 0.9374228395061729 and parameters: {'n_components': 9, 'max_depth': 22, 'min_samples_split': 4, 'min_samples_leaf': 1, 'max_features': 'sqrt'}. Best is trial 85 with value: 0.9380401234567901.\n",
      "[I 2024-11-13 22:35:20,644] Trial 89 finished with value: 0.928858024691358 and parameters: {'n_components': 8, 'max_depth': 22, 'min_samples_split': 2, 'min_samples_leaf': 1, 'max_features': 'sqrt'}. Best is trial 85 with value: 0.9380401234567901.\n",
      "[I 2024-11-13 22:35:21,695] Trial 90 finished with value: 0.9375 and parameters: {'n_components': 9, 'max_depth': 25, 'min_samples_split': 4, 'min_samples_leaf': 1, 'max_features': 'sqrt'}. Best is trial 85 with value: 0.9380401234567901.\n",
      "[I 2024-11-13 22:35:22,743] Trial 91 finished with value: 0.9374228395061729 and parameters: {'n_components': 9, 'max_depth': 22, 'min_samples_split': 4, 'min_samples_leaf': 1, 'max_features': 'sqrt'}. Best is trial 85 with value: 0.9380401234567901.\n",
      "[I 2024-11-13 22:35:23,797] Trial 92 finished with value: 0.9371141975308642 and parameters: {'n_components': 9, 'max_depth': 27, 'min_samples_split': 4, 'min_samples_leaf': 1, 'max_features': 'sqrt'}. Best is trial 85 with value: 0.9380401234567901.\n",
      "[I 2024-11-13 22:35:24,862] Trial 93 finished with value: 0.9372685185185186 and parameters: {'n_components': 9, 'max_depth': 28, 'min_samples_split': 4, 'min_samples_leaf': 1, 'max_features': 'sqrt'}. Best is trial 85 with value: 0.9380401234567901.\n",
      "[I 2024-11-13 22:35:25,916] Trial 94 finished with value: 0.9372685185185186 and parameters: {'n_components': 9, 'max_depth': 28, 'min_samples_split': 4, 'min_samples_leaf': 1, 'max_features': 'sqrt'}. Best is trial 85 with value: 0.9380401234567901.\n",
      "[I 2024-11-13 22:35:26,844] Trial 95 pruned. \n",
      "[I 2024-11-13 22:35:27,911] Trial 96 finished with value: 0.937962962962963 and parameters: {'n_components': 9, 'max_depth': 25, 'min_samples_split': 3, 'min_samples_leaf': 1, 'max_features': 'sqrt'}. Best is trial 85 with value: 0.9380401234567901.\n",
      "[I 2024-11-13 22:35:28,892] Trial 97 pruned. \n",
      "[I 2024-11-13 22:35:29,934] Trial 98 finished with value: 0.9361111111111111 and parameters: {'n_components': 9, 'max_depth': 27, 'min_samples_split': 2, 'min_samples_leaf': 1, 'max_features': 'sqrt'}. Best is trial 85 with value: 0.9380401234567901.\n",
      "[I 2024-11-13 22:35:30,867] Trial 99 finished with value: 0.926466049382716 and parameters: {'n_components': 8, 'max_depth': 25, 'min_samples_split': 3, 'min_samples_leaf': 1, 'max_features': 'sqrt'}. Best is trial 85 with value: 0.9380401234567901.\n"
     ]
    },
    {
     "name": "stdout",
     "output_type": "stream",
     "text": [
      "Best hyperparameters: {'n_components': 9, 'max_depth': 21, 'min_samples_split': 3, 'min_samples_leaf': 1, 'max_features': 'sqrt'}\n",
      "Best value: 0.9380401234567901\n",
      "accuracy on test set:0.9366666666666666\n"
     ]
    },
    {
     "data": {
      "application/vnd.plotly.v1+json": {
       "config": {
        "plotlyServerURL": "https://plot.ly"
       },
       "data": [
        {
         "mode": "markers",
         "name": "Objective Value",
         "type": "scatter",
         "x": [
          0,
          1,
          2,
          3,
          4,
          5,
          6,
          7,
          8,
          9,
          11,
          12,
          13,
          14,
          15,
          16,
          17,
          18,
          19,
          21,
          22,
          23,
          24,
          25,
          26,
          30,
          31,
          32,
          33,
          34,
          35,
          36,
          41,
          42,
          43,
          45,
          51,
          52,
          53,
          54,
          56,
          61,
          62,
          63,
          65,
          66,
          67,
          69,
          71,
          72,
          73,
          74,
          77,
          80,
          81,
          82,
          83,
          84,
          85,
          86,
          87,
          88,
          89,
          90,
          91,
          92,
          93,
          94,
          96,
          98,
          99
         ],
         "y": [
          0.8425154320987654,
          0.8758487654320988,
          0.7908950617283951,
          0.7876543209876543,
          0.837037037037037,
          0.6833333333333333,
          0.5555555555555556,
          0.647608024691358,
          0.7058641975308642,
          0.8966820987654321,
          0.9053240740740741,
          0.9056327160493827,
          0.9056327160493827,
          0.8873456790123457,
          0.9097993827160494,
          0.8749228395061729,
          0.8733024691358025,
          0.9094907407407408,
          0.9087191358024691,
          0.9004629629629629,
          0.9192901234567902,
          0.9172067901234567,
          0.9165123456790123,
          0.9168981481481482,
          0.8966820987654321,
          0.914891975308642,
          0.9165123456790123,
          0.9334104938271605,
          0.926466049382716,
          0.9248456790123457,
          0.9247685185185185,
          0.9151234567901234,
          0.9238425925925926,
          0.9238425925925926,
          0.9198302469135803,
          0.9213734567901235,
          0.9238425925925926,
          0.9271604938271605,
          0.9179783950617284,
          0.926466049382716,
          0.9248456790123457,
          0.9247685185185185,
          0.9137345679012345,
          0.9271604938271605,
          0.9322530864197531,
          0.9172067901234567,
          0.9274691358024691,
          0.9216820987654321,
          0.9324845679012346,
          0.9326388888888889,
          0.93125,
          0.9317901234567901,
          0.9300925925925926,
          0.9300925925925926,
          0.9300925925925926,
          0.9228395061728395,
          0.9305555555555556,
          0.9361882716049382,
          0.9380401234567901,
          0.9256172839506173,
          0.9374228395061729,
          0.9374228395061729,
          0.928858024691358,
          0.9375,
          0.9374228395061729,
          0.9371141975308642,
          0.9372685185185186,
          0.9372685185185186,
          0.937962962962963,
          0.9361111111111111,
          0.926466049382716
         ]
        },
        {
         "mode": "lines",
         "name": "Best Value",
         "type": "scatter",
         "x": [
          0,
          1,
          2,
          3,
          4,
          5,
          6,
          7,
          8,
          9,
          10,
          11,
          12,
          13,
          14,
          15,
          16,
          17,
          18,
          19,
          20,
          21,
          22,
          23,
          24,
          25,
          26,
          27,
          28,
          29,
          30,
          31,
          32,
          33,
          34,
          35,
          36,
          37,
          38,
          39,
          40,
          41,
          42,
          43,
          44,
          45,
          46,
          47,
          48,
          49,
          50,
          51,
          52,
          53,
          54,
          55,
          56,
          57,
          58,
          59,
          60,
          61,
          62,
          63,
          64,
          65,
          66,
          67,
          68,
          69,
          70,
          71,
          72,
          73,
          74,
          75,
          76,
          77,
          78,
          79,
          80,
          81,
          82,
          83,
          84,
          85,
          86,
          87,
          88,
          89,
          90,
          91,
          92,
          93,
          94,
          95,
          96,
          97,
          98,
          99
         ],
         "y": [
          0.8425154320987654,
          0.8758487654320988,
          0.8758487654320988,
          0.8758487654320988,
          0.8758487654320988,
          0.8758487654320988,
          0.8758487654320988,
          0.8758487654320988,
          0.8758487654320988,
          0.8966820987654321,
          0.8966820987654321,
          0.9053240740740741,
          0.9056327160493827,
          0.9056327160493827,
          0.9056327160493827,
          0.9097993827160494,
          0.9097993827160494,
          0.9097993827160494,
          0.9097993827160494,
          0.9097993827160494,
          0.9097993827160494,
          0.9097993827160494,
          0.9192901234567902,
          0.9192901234567902,
          0.9192901234567902,
          0.9192901234567902,
          0.9192901234567902,
          0.9192901234567902,
          0.9192901234567902,
          0.9192901234567902,
          0.9192901234567902,
          0.9192901234567902,
          0.9334104938271605,
          0.9334104938271605,
          0.9334104938271605,
          0.9334104938271605,
          0.9334104938271605,
          0.9334104938271605,
          0.9334104938271605,
          0.9334104938271605,
          0.9334104938271605,
          0.9334104938271605,
          0.9334104938271605,
          0.9334104938271605,
          0.9334104938271605,
          0.9334104938271605,
          0.9334104938271605,
          0.9334104938271605,
          0.9334104938271605,
          0.9334104938271605,
          0.9334104938271605,
          0.9334104938271605,
          0.9334104938271605,
          0.9334104938271605,
          0.9334104938271605,
          0.9334104938271605,
          0.9334104938271605,
          0.9334104938271605,
          0.9334104938271605,
          0.9334104938271605,
          0.9334104938271605,
          0.9334104938271605,
          0.9334104938271605,
          0.9334104938271605,
          0.9334104938271605,
          0.9334104938271605,
          0.9334104938271605,
          0.9334104938271605,
          0.9334104938271605,
          0.9334104938271605,
          0.9334104938271605,
          0.9334104938271605,
          0.9334104938271605,
          0.9334104938271605,
          0.9334104938271605,
          0.9334104938271605,
          0.9334104938271605,
          0.9334104938271605,
          0.9334104938271605,
          0.9334104938271605,
          0.9334104938271605,
          0.9334104938271605,
          0.9334104938271605,
          0.9334104938271605,
          0.9361882716049382,
          0.9380401234567901,
          0.9380401234567901,
          0.9380401234567901,
          0.9380401234567901,
          0.9380401234567901,
          0.9380401234567901,
          0.9380401234567901,
          0.9380401234567901,
          0.9380401234567901,
          0.9380401234567901,
          0.9380401234567901,
          0.9380401234567901,
          0.9380401234567901,
          0.9380401234567901,
          0.9380401234567901
         ]
        },
        {
         "marker": {
          "color": "#cccccc"
         },
         "mode": "markers",
         "name": "Infeasible Trial",
         "showlegend": false,
         "type": "scatter",
         "x": [],
         "y": []
        }
       ],
       "layout": {
        "template": {
         "data": {
          "bar": [
           {
            "error_x": {
             "color": "#2a3f5f"
            },
            "error_y": {
             "color": "#2a3f5f"
            },
            "marker": {
             "line": {
              "color": "#E5ECF6",
              "width": 0.5
             },
             "pattern": {
              "fillmode": "overlay",
              "size": 10,
              "solidity": 0.2
             }
            },
            "type": "bar"
           }
          ],
          "barpolar": [
           {
            "marker": {
             "line": {
              "color": "#E5ECF6",
              "width": 0.5
             },
             "pattern": {
              "fillmode": "overlay",
              "size": 10,
              "solidity": 0.2
             }
            },
            "type": "barpolar"
           }
          ],
          "carpet": [
           {
            "aaxis": {
             "endlinecolor": "#2a3f5f",
             "gridcolor": "white",
             "linecolor": "white",
             "minorgridcolor": "white",
             "startlinecolor": "#2a3f5f"
            },
            "baxis": {
             "endlinecolor": "#2a3f5f",
             "gridcolor": "white",
             "linecolor": "white",
             "minorgridcolor": "white",
             "startlinecolor": "#2a3f5f"
            },
            "type": "carpet"
           }
          ],
          "choropleth": [
           {
            "colorbar": {
             "outlinewidth": 0,
             "ticks": ""
            },
            "type": "choropleth"
           }
          ],
          "contour": [
           {
            "colorbar": {
             "outlinewidth": 0,
             "ticks": ""
            },
            "colorscale": [
             [
              0,
              "#0d0887"
             ],
             [
              0.1111111111111111,
              "#46039f"
             ],
             [
              0.2222222222222222,
              "#7201a8"
             ],
             [
              0.3333333333333333,
              "#9c179e"
             ],
             [
              0.4444444444444444,
              "#bd3786"
             ],
             [
              0.5555555555555556,
              "#d8576b"
             ],
             [
              0.6666666666666666,
              "#ed7953"
             ],
             [
              0.7777777777777778,
              "#fb9f3a"
             ],
             [
              0.8888888888888888,
              "#fdca26"
             ],
             [
              1,
              "#f0f921"
             ]
            ],
            "type": "contour"
           }
          ],
          "contourcarpet": [
           {
            "colorbar": {
             "outlinewidth": 0,
             "ticks": ""
            },
            "type": "contourcarpet"
           }
          ],
          "heatmap": [
           {
            "colorbar": {
             "outlinewidth": 0,
             "ticks": ""
            },
            "colorscale": [
             [
              0,
              "#0d0887"
             ],
             [
              0.1111111111111111,
              "#46039f"
             ],
             [
              0.2222222222222222,
              "#7201a8"
             ],
             [
              0.3333333333333333,
              "#9c179e"
             ],
             [
              0.4444444444444444,
              "#bd3786"
             ],
             [
              0.5555555555555556,
              "#d8576b"
             ],
             [
              0.6666666666666666,
              "#ed7953"
             ],
             [
              0.7777777777777778,
              "#fb9f3a"
             ],
             [
              0.8888888888888888,
              "#fdca26"
             ],
             [
              1,
              "#f0f921"
             ]
            ],
            "type": "heatmap"
           }
          ],
          "heatmapgl": [
           {
            "colorbar": {
             "outlinewidth": 0,
             "ticks": ""
            },
            "colorscale": [
             [
              0,
              "#0d0887"
             ],
             [
              0.1111111111111111,
              "#46039f"
             ],
             [
              0.2222222222222222,
              "#7201a8"
             ],
             [
              0.3333333333333333,
              "#9c179e"
             ],
             [
              0.4444444444444444,
              "#bd3786"
             ],
             [
              0.5555555555555556,
              "#d8576b"
             ],
             [
              0.6666666666666666,
              "#ed7953"
             ],
             [
              0.7777777777777778,
              "#fb9f3a"
             ],
             [
              0.8888888888888888,
              "#fdca26"
             ],
             [
              1,
              "#f0f921"
             ]
            ],
            "type": "heatmapgl"
           }
          ],
          "histogram": [
           {
            "marker": {
             "pattern": {
              "fillmode": "overlay",
              "size": 10,
              "solidity": 0.2
             }
            },
            "type": "histogram"
           }
          ],
          "histogram2d": [
           {
            "colorbar": {
             "outlinewidth": 0,
             "ticks": ""
            },
            "colorscale": [
             [
              0,
              "#0d0887"
             ],
             [
              0.1111111111111111,
              "#46039f"
             ],
             [
              0.2222222222222222,
              "#7201a8"
             ],
             [
              0.3333333333333333,
              "#9c179e"
             ],
             [
              0.4444444444444444,
              "#bd3786"
             ],
             [
              0.5555555555555556,
              "#d8576b"
             ],
             [
              0.6666666666666666,
              "#ed7953"
             ],
             [
              0.7777777777777778,
              "#fb9f3a"
             ],
             [
              0.8888888888888888,
              "#fdca26"
             ],
             [
              1,
              "#f0f921"
             ]
            ],
            "type": "histogram2d"
           }
          ],
          "histogram2dcontour": [
           {
            "colorbar": {
             "outlinewidth": 0,
             "ticks": ""
            },
            "colorscale": [
             [
              0,
              "#0d0887"
             ],
             [
              0.1111111111111111,
              "#46039f"
             ],
             [
              0.2222222222222222,
              "#7201a8"
             ],
             [
              0.3333333333333333,
              "#9c179e"
             ],
             [
              0.4444444444444444,
              "#bd3786"
             ],
             [
              0.5555555555555556,
              "#d8576b"
             ],
             [
              0.6666666666666666,
              "#ed7953"
             ],
             [
              0.7777777777777778,
              "#fb9f3a"
             ],
             [
              0.8888888888888888,
              "#fdca26"
             ],
             [
              1,
              "#f0f921"
             ]
            ],
            "type": "histogram2dcontour"
           }
          ],
          "mesh3d": [
           {
            "colorbar": {
             "outlinewidth": 0,
             "ticks": ""
            },
            "type": "mesh3d"
           }
          ],
          "parcoords": [
           {
            "line": {
             "colorbar": {
              "outlinewidth": 0,
              "ticks": ""
             }
            },
            "type": "parcoords"
           }
          ],
          "pie": [
           {
            "automargin": true,
            "type": "pie"
           }
          ],
          "scatter": [
           {
            "fillpattern": {
             "fillmode": "overlay",
             "size": 10,
             "solidity": 0.2
            },
            "type": "scatter"
           }
          ],
          "scatter3d": [
           {
            "line": {
             "colorbar": {
              "outlinewidth": 0,
              "ticks": ""
             }
            },
            "marker": {
             "colorbar": {
              "outlinewidth": 0,
              "ticks": ""
             }
            },
            "type": "scatter3d"
           }
          ],
          "scattercarpet": [
           {
            "marker": {
             "colorbar": {
              "outlinewidth": 0,
              "ticks": ""
             }
            },
            "type": "scattercarpet"
           }
          ],
          "scattergeo": [
           {
            "marker": {
             "colorbar": {
              "outlinewidth": 0,
              "ticks": ""
             }
            },
            "type": "scattergeo"
           }
          ],
          "scattergl": [
           {
            "marker": {
             "colorbar": {
              "outlinewidth": 0,
              "ticks": ""
             }
            },
            "type": "scattergl"
           }
          ],
          "scattermapbox": [
           {
            "marker": {
             "colorbar": {
              "outlinewidth": 0,
              "ticks": ""
             }
            },
            "type": "scattermapbox"
           }
          ],
          "scatterpolar": [
           {
            "marker": {
             "colorbar": {
              "outlinewidth": 0,
              "ticks": ""
             }
            },
            "type": "scatterpolar"
           }
          ],
          "scatterpolargl": [
           {
            "marker": {
             "colorbar": {
              "outlinewidth": 0,
              "ticks": ""
             }
            },
            "type": "scatterpolargl"
           }
          ],
          "scatterternary": [
           {
            "marker": {
             "colorbar": {
              "outlinewidth": 0,
              "ticks": ""
             }
            },
            "type": "scatterternary"
           }
          ],
          "surface": [
           {
            "colorbar": {
             "outlinewidth": 0,
             "ticks": ""
            },
            "colorscale": [
             [
              0,
              "#0d0887"
             ],
             [
              0.1111111111111111,
              "#46039f"
             ],
             [
              0.2222222222222222,
              "#7201a8"
             ],
             [
              0.3333333333333333,
              "#9c179e"
             ],
             [
              0.4444444444444444,
              "#bd3786"
             ],
             [
              0.5555555555555556,
              "#d8576b"
             ],
             [
              0.6666666666666666,
              "#ed7953"
             ],
             [
              0.7777777777777778,
              "#fb9f3a"
             ],
             [
              0.8888888888888888,
              "#fdca26"
             ],
             [
              1,
              "#f0f921"
             ]
            ],
            "type": "surface"
           }
          ],
          "table": [
           {
            "cells": {
             "fill": {
              "color": "#EBF0F8"
             },
             "line": {
              "color": "white"
             }
            },
            "header": {
             "fill": {
              "color": "#C8D4E3"
             },
             "line": {
              "color": "white"
             }
            },
            "type": "table"
           }
          ]
         },
         "layout": {
          "annotationdefaults": {
           "arrowcolor": "#2a3f5f",
           "arrowhead": 0,
           "arrowwidth": 1
          },
          "autotypenumbers": "strict",
          "coloraxis": {
           "colorbar": {
            "outlinewidth": 0,
            "ticks": ""
           }
          },
          "colorscale": {
           "diverging": [
            [
             0,
             "#8e0152"
            ],
            [
             0.1,
             "#c51b7d"
            ],
            [
             0.2,
             "#de77ae"
            ],
            [
             0.3,
             "#f1b6da"
            ],
            [
             0.4,
             "#fde0ef"
            ],
            [
             0.5,
             "#f7f7f7"
            ],
            [
             0.6,
             "#e6f5d0"
            ],
            [
             0.7,
             "#b8e186"
            ],
            [
             0.8,
             "#7fbc41"
            ],
            [
             0.9,
             "#4d9221"
            ],
            [
             1,
             "#276419"
            ]
           ],
           "sequential": [
            [
             0,
             "#0d0887"
            ],
            [
             0.1111111111111111,
             "#46039f"
            ],
            [
             0.2222222222222222,
             "#7201a8"
            ],
            [
             0.3333333333333333,
             "#9c179e"
            ],
            [
             0.4444444444444444,
             "#bd3786"
            ],
            [
             0.5555555555555556,
             "#d8576b"
            ],
            [
             0.6666666666666666,
             "#ed7953"
            ],
            [
             0.7777777777777778,
             "#fb9f3a"
            ],
            [
             0.8888888888888888,
             "#fdca26"
            ],
            [
             1,
             "#f0f921"
            ]
           ],
           "sequentialminus": [
            [
             0,
             "#0d0887"
            ],
            [
             0.1111111111111111,
             "#46039f"
            ],
            [
             0.2222222222222222,
             "#7201a8"
            ],
            [
             0.3333333333333333,
             "#9c179e"
            ],
            [
             0.4444444444444444,
             "#bd3786"
            ],
            [
             0.5555555555555556,
             "#d8576b"
            ],
            [
             0.6666666666666666,
             "#ed7953"
            ],
            [
             0.7777777777777778,
             "#fb9f3a"
            ],
            [
             0.8888888888888888,
             "#fdca26"
            ],
            [
             1,
             "#f0f921"
            ]
           ]
          },
          "colorway": [
           "#636efa",
           "#EF553B",
           "#00cc96",
           "#ab63fa",
           "#FFA15A",
           "#19d3f3",
           "#FF6692",
           "#B6E880",
           "#FF97FF",
           "#FECB52"
          ],
          "font": {
           "color": "#2a3f5f"
          },
          "geo": {
           "bgcolor": "white",
           "lakecolor": "white",
           "landcolor": "#E5ECF6",
           "showlakes": true,
           "showland": true,
           "subunitcolor": "white"
          },
          "hoverlabel": {
           "align": "left"
          },
          "hovermode": "closest",
          "mapbox": {
           "style": "light"
          },
          "paper_bgcolor": "white",
          "plot_bgcolor": "#E5ECF6",
          "polar": {
           "angularaxis": {
            "gridcolor": "white",
            "linecolor": "white",
            "ticks": ""
           },
           "bgcolor": "#E5ECF6",
           "radialaxis": {
            "gridcolor": "white",
            "linecolor": "white",
            "ticks": ""
           }
          },
          "scene": {
           "xaxis": {
            "backgroundcolor": "#E5ECF6",
            "gridcolor": "white",
            "gridwidth": 2,
            "linecolor": "white",
            "showbackground": true,
            "ticks": "",
            "zerolinecolor": "white"
           },
           "yaxis": {
            "backgroundcolor": "#E5ECF6",
            "gridcolor": "white",
            "gridwidth": 2,
            "linecolor": "white",
            "showbackground": true,
            "ticks": "",
            "zerolinecolor": "white"
           },
           "zaxis": {
            "backgroundcolor": "#E5ECF6",
            "gridcolor": "white",
            "gridwidth": 2,
            "linecolor": "white",
            "showbackground": true,
            "ticks": "",
            "zerolinecolor": "white"
           }
          },
          "shapedefaults": {
           "line": {
            "color": "#2a3f5f"
           }
          },
          "ternary": {
           "aaxis": {
            "gridcolor": "white",
            "linecolor": "white",
            "ticks": ""
           },
           "baxis": {
            "gridcolor": "white",
            "linecolor": "white",
            "ticks": ""
           },
           "bgcolor": "#E5ECF6",
           "caxis": {
            "gridcolor": "white",
            "linecolor": "white",
            "ticks": ""
           }
          },
          "title": {
           "x": 0.05
          },
          "xaxis": {
           "automargin": true,
           "gridcolor": "white",
           "linecolor": "white",
           "ticks": "",
           "title": {
            "standoff": 15
           },
           "zerolinecolor": "white",
           "zerolinewidth": 2
          },
          "yaxis": {
           "automargin": true,
           "gridcolor": "white",
           "linecolor": "white",
           "ticks": "",
           "title": {
            "standoff": 15
           },
           "zerolinecolor": "white",
           "zerolinewidth": 2
          }
         }
        },
        "title": {
         "text": "Optimization History Plot"
        },
        "xaxis": {
         "title": {
          "text": "Trial"
         }
        },
        "yaxis": {
         "title": {
          "text": "Objective Value"
         }
        }
       }
      }
     },
     "metadata": {},
     "output_type": "display_data"
    },
    {
     "data": {
      "application/vnd.plotly.v1+json": {
       "config": {
        "plotlyServerURL": "https://plot.ly"
       },
       "data": [
        {
         "cliponaxis": false,
         "hovertemplate": [
          "min_samples_split (IntDistribution): 0.012165837792357498<extra></extra>",
          "max_features (CategoricalDistribution): 0.0211858018829414<extra></extra>",
          "min_samples_leaf (IntDistribution): 0.021493866645994057<extra></extra>",
          "n_components (IntDistribution): 0.21958485806294215<extra></extra>",
          "max_depth (IntDistribution): 0.7255696356157648<extra></extra>"
         ],
         "name": "Objective Value",
         "orientation": "h",
         "text": [
          "0.01",
          "0.02",
          "0.02",
          "0.22",
          "0.73"
         ],
         "textposition": "outside",
         "type": "bar",
         "x": [
          0.012165837792357498,
          0.0211858018829414,
          0.021493866645994057,
          0.21958485806294215,
          0.7255696356157648
         ],
         "y": [
          "min_samples_split",
          "max_features",
          "min_samples_leaf",
          "n_components",
          "max_depth"
         ]
        }
       ],
       "layout": {
        "template": {
         "data": {
          "bar": [
           {
            "error_x": {
             "color": "#2a3f5f"
            },
            "error_y": {
             "color": "#2a3f5f"
            },
            "marker": {
             "line": {
              "color": "#E5ECF6",
              "width": 0.5
             },
             "pattern": {
              "fillmode": "overlay",
              "size": 10,
              "solidity": 0.2
             }
            },
            "type": "bar"
           }
          ],
          "barpolar": [
           {
            "marker": {
             "line": {
              "color": "#E5ECF6",
              "width": 0.5
             },
             "pattern": {
              "fillmode": "overlay",
              "size": 10,
              "solidity": 0.2
             }
            },
            "type": "barpolar"
           }
          ],
          "carpet": [
           {
            "aaxis": {
             "endlinecolor": "#2a3f5f",
             "gridcolor": "white",
             "linecolor": "white",
             "minorgridcolor": "white",
             "startlinecolor": "#2a3f5f"
            },
            "baxis": {
             "endlinecolor": "#2a3f5f",
             "gridcolor": "white",
             "linecolor": "white",
             "minorgridcolor": "white",
             "startlinecolor": "#2a3f5f"
            },
            "type": "carpet"
           }
          ],
          "choropleth": [
           {
            "colorbar": {
             "outlinewidth": 0,
             "ticks": ""
            },
            "type": "choropleth"
           }
          ],
          "contour": [
           {
            "colorbar": {
             "outlinewidth": 0,
             "ticks": ""
            },
            "colorscale": [
             [
              0,
              "#0d0887"
             ],
             [
              0.1111111111111111,
              "#46039f"
             ],
             [
              0.2222222222222222,
              "#7201a8"
             ],
             [
              0.3333333333333333,
              "#9c179e"
             ],
             [
              0.4444444444444444,
              "#bd3786"
             ],
             [
              0.5555555555555556,
              "#d8576b"
             ],
             [
              0.6666666666666666,
              "#ed7953"
             ],
             [
              0.7777777777777778,
              "#fb9f3a"
             ],
             [
              0.8888888888888888,
              "#fdca26"
             ],
             [
              1,
              "#f0f921"
             ]
            ],
            "type": "contour"
           }
          ],
          "contourcarpet": [
           {
            "colorbar": {
             "outlinewidth": 0,
             "ticks": ""
            },
            "type": "contourcarpet"
           }
          ],
          "heatmap": [
           {
            "colorbar": {
             "outlinewidth": 0,
             "ticks": ""
            },
            "colorscale": [
             [
              0,
              "#0d0887"
             ],
             [
              0.1111111111111111,
              "#46039f"
             ],
             [
              0.2222222222222222,
              "#7201a8"
             ],
             [
              0.3333333333333333,
              "#9c179e"
             ],
             [
              0.4444444444444444,
              "#bd3786"
             ],
             [
              0.5555555555555556,
              "#d8576b"
             ],
             [
              0.6666666666666666,
              "#ed7953"
             ],
             [
              0.7777777777777778,
              "#fb9f3a"
             ],
             [
              0.8888888888888888,
              "#fdca26"
             ],
             [
              1,
              "#f0f921"
             ]
            ],
            "type": "heatmap"
           }
          ],
          "heatmapgl": [
           {
            "colorbar": {
             "outlinewidth": 0,
             "ticks": ""
            },
            "colorscale": [
             [
              0,
              "#0d0887"
             ],
             [
              0.1111111111111111,
              "#46039f"
             ],
             [
              0.2222222222222222,
              "#7201a8"
             ],
             [
              0.3333333333333333,
              "#9c179e"
             ],
             [
              0.4444444444444444,
              "#bd3786"
             ],
             [
              0.5555555555555556,
              "#d8576b"
             ],
             [
              0.6666666666666666,
              "#ed7953"
             ],
             [
              0.7777777777777778,
              "#fb9f3a"
             ],
             [
              0.8888888888888888,
              "#fdca26"
             ],
             [
              1,
              "#f0f921"
             ]
            ],
            "type": "heatmapgl"
           }
          ],
          "histogram": [
           {
            "marker": {
             "pattern": {
              "fillmode": "overlay",
              "size": 10,
              "solidity": 0.2
             }
            },
            "type": "histogram"
           }
          ],
          "histogram2d": [
           {
            "colorbar": {
             "outlinewidth": 0,
             "ticks": ""
            },
            "colorscale": [
             [
              0,
              "#0d0887"
             ],
             [
              0.1111111111111111,
              "#46039f"
             ],
             [
              0.2222222222222222,
              "#7201a8"
             ],
             [
              0.3333333333333333,
              "#9c179e"
             ],
             [
              0.4444444444444444,
              "#bd3786"
             ],
             [
              0.5555555555555556,
              "#d8576b"
             ],
             [
              0.6666666666666666,
              "#ed7953"
             ],
             [
              0.7777777777777778,
              "#fb9f3a"
             ],
             [
              0.8888888888888888,
              "#fdca26"
             ],
             [
              1,
              "#f0f921"
             ]
            ],
            "type": "histogram2d"
           }
          ],
          "histogram2dcontour": [
           {
            "colorbar": {
             "outlinewidth": 0,
             "ticks": ""
            },
            "colorscale": [
             [
              0,
              "#0d0887"
             ],
             [
              0.1111111111111111,
              "#46039f"
             ],
             [
              0.2222222222222222,
              "#7201a8"
             ],
             [
              0.3333333333333333,
              "#9c179e"
             ],
             [
              0.4444444444444444,
              "#bd3786"
             ],
             [
              0.5555555555555556,
              "#d8576b"
             ],
             [
              0.6666666666666666,
              "#ed7953"
             ],
             [
              0.7777777777777778,
              "#fb9f3a"
             ],
             [
              0.8888888888888888,
              "#fdca26"
             ],
             [
              1,
              "#f0f921"
             ]
            ],
            "type": "histogram2dcontour"
           }
          ],
          "mesh3d": [
           {
            "colorbar": {
             "outlinewidth": 0,
             "ticks": ""
            },
            "type": "mesh3d"
           }
          ],
          "parcoords": [
           {
            "line": {
             "colorbar": {
              "outlinewidth": 0,
              "ticks": ""
             }
            },
            "type": "parcoords"
           }
          ],
          "pie": [
           {
            "automargin": true,
            "type": "pie"
           }
          ],
          "scatter": [
           {
            "fillpattern": {
             "fillmode": "overlay",
             "size": 10,
             "solidity": 0.2
            },
            "type": "scatter"
           }
          ],
          "scatter3d": [
           {
            "line": {
             "colorbar": {
              "outlinewidth": 0,
              "ticks": ""
             }
            },
            "marker": {
             "colorbar": {
              "outlinewidth": 0,
              "ticks": ""
             }
            },
            "type": "scatter3d"
           }
          ],
          "scattercarpet": [
           {
            "marker": {
             "colorbar": {
              "outlinewidth": 0,
              "ticks": ""
             }
            },
            "type": "scattercarpet"
           }
          ],
          "scattergeo": [
           {
            "marker": {
             "colorbar": {
              "outlinewidth": 0,
              "ticks": ""
             }
            },
            "type": "scattergeo"
           }
          ],
          "scattergl": [
           {
            "marker": {
             "colorbar": {
              "outlinewidth": 0,
              "ticks": ""
             }
            },
            "type": "scattergl"
           }
          ],
          "scattermapbox": [
           {
            "marker": {
             "colorbar": {
              "outlinewidth": 0,
              "ticks": ""
             }
            },
            "type": "scattermapbox"
           }
          ],
          "scatterpolar": [
           {
            "marker": {
             "colorbar": {
              "outlinewidth": 0,
              "ticks": ""
             }
            },
            "type": "scatterpolar"
           }
          ],
          "scatterpolargl": [
           {
            "marker": {
             "colorbar": {
              "outlinewidth": 0,
              "ticks": ""
             }
            },
            "type": "scatterpolargl"
           }
          ],
          "scatterternary": [
           {
            "marker": {
             "colorbar": {
              "outlinewidth": 0,
              "ticks": ""
             }
            },
            "type": "scatterternary"
           }
          ],
          "surface": [
           {
            "colorbar": {
             "outlinewidth": 0,
             "ticks": ""
            },
            "colorscale": [
             [
              0,
              "#0d0887"
             ],
             [
              0.1111111111111111,
              "#46039f"
             ],
             [
              0.2222222222222222,
              "#7201a8"
             ],
             [
              0.3333333333333333,
              "#9c179e"
             ],
             [
              0.4444444444444444,
              "#bd3786"
             ],
             [
              0.5555555555555556,
              "#d8576b"
             ],
             [
              0.6666666666666666,
              "#ed7953"
             ],
             [
              0.7777777777777778,
              "#fb9f3a"
             ],
             [
              0.8888888888888888,
              "#fdca26"
             ],
             [
              1,
              "#f0f921"
             ]
            ],
            "type": "surface"
           }
          ],
          "table": [
           {
            "cells": {
             "fill": {
              "color": "#EBF0F8"
             },
             "line": {
              "color": "white"
             }
            },
            "header": {
             "fill": {
              "color": "#C8D4E3"
             },
             "line": {
              "color": "white"
             }
            },
            "type": "table"
           }
          ]
         },
         "layout": {
          "annotationdefaults": {
           "arrowcolor": "#2a3f5f",
           "arrowhead": 0,
           "arrowwidth": 1
          },
          "autotypenumbers": "strict",
          "coloraxis": {
           "colorbar": {
            "outlinewidth": 0,
            "ticks": ""
           }
          },
          "colorscale": {
           "diverging": [
            [
             0,
             "#8e0152"
            ],
            [
             0.1,
             "#c51b7d"
            ],
            [
             0.2,
             "#de77ae"
            ],
            [
             0.3,
             "#f1b6da"
            ],
            [
             0.4,
             "#fde0ef"
            ],
            [
             0.5,
             "#f7f7f7"
            ],
            [
             0.6,
             "#e6f5d0"
            ],
            [
             0.7,
             "#b8e186"
            ],
            [
             0.8,
             "#7fbc41"
            ],
            [
             0.9,
             "#4d9221"
            ],
            [
             1,
             "#276419"
            ]
           ],
           "sequential": [
            [
             0,
             "#0d0887"
            ],
            [
             0.1111111111111111,
             "#46039f"
            ],
            [
             0.2222222222222222,
             "#7201a8"
            ],
            [
             0.3333333333333333,
             "#9c179e"
            ],
            [
             0.4444444444444444,
             "#bd3786"
            ],
            [
             0.5555555555555556,
             "#d8576b"
            ],
            [
             0.6666666666666666,
             "#ed7953"
            ],
            [
             0.7777777777777778,
             "#fb9f3a"
            ],
            [
             0.8888888888888888,
             "#fdca26"
            ],
            [
             1,
             "#f0f921"
            ]
           ],
           "sequentialminus": [
            [
             0,
             "#0d0887"
            ],
            [
             0.1111111111111111,
             "#46039f"
            ],
            [
             0.2222222222222222,
             "#7201a8"
            ],
            [
             0.3333333333333333,
             "#9c179e"
            ],
            [
             0.4444444444444444,
             "#bd3786"
            ],
            [
             0.5555555555555556,
             "#d8576b"
            ],
            [
             0.6666666666666666,
             "#ed7953"
            ],
            [
             0.7777777777777778,
             "#fb9f3a"
            ],
            [
             0.8888888888888888,
             "#fdca26"
            ],
            [
             1,
             "#f0f921"
            ]
           ]
          },
          "colorway": [
           "#636efa",
           "#EF553B",
           "#00cc96",
           "#ab63fa",
           "#FFA15A",
           "#19d3f3",
           "#FF6692",
           "#B6E880",
           "#FF97FF",
           "#FECB52"
          ],
          "font": {
           "color": "#2a3f5f"
          },
          "geo": {
           "bgcolor": "white",
           "lakecolor": "white",
           "landcolor": "#E5ECF6",
           "showlakes": true,
           "showland": true,
           "subunitcolor": "white"
          },
          "hoverlabel": {
           "align": "left"
          },
          "hovermode": "closest",
          "mapbox": {
           "style": "light"
          },
          "paper_bgcolor": "white",
          "plot_bgcolor": "#E5ECF6",
          "polar": {
           "angularaxis": {
            "gridcolor": "white",
            "linecolor": "white",
            "ticks": ""
           },
           "bgcolor": "#E5ECF6",
           "radialaxis": {
            "gridcolor": "white",
            "linecolor": "white",
            "ticks": ""
           }
          },
          "scene": {
           "xaxis": {
            "backgroundcolor": "#E5ECF6",
            "gridcolor": "white",
            "gridwidth": 2,
            "linecolor": "white",
            "showbackground": true,
            "ticks": "",
            "zerolinecolor": "white"
           },
           "yaxis": {
            "backgroundcolor": "#E5ECF6",
            "gridcolor": "white",
            "gridwidth": 2,
            "linecolor": "white",
            "showbackground": true,
            "ticks": "",
            "zerolinecolor": "white"
           },
           "zaxis": {
            "backgroundcolor": "#E5ECF6",
            "gridcolor": "white",
            "gridwidth": 2,
            "linecolor": "white",
            "showbackground": true,
            "ticks": "",
            "zerolinecolor": "white"
           }
          },
          "shapedefaults": {
           "line": {
            "color": "#2a3f5f"
           }
          },
          "ternary": {
           "aaxis": {
            "gridcolor": "white",
            "linecolor": "white",
            "ticks": ""
           },
           "baxis": {
            "gridcolor": "white",
            "linecolor": "white",
            "ticks": ""
           },
           "bgcolor": "#E5ECF6",
           "caxis": {
            "gridcolor": "white",
            "linecolor": "white",
            "ticks": ""
           }
          },
          "title": {
           "x": 0.05
          },
          "xaxis": {
           "automargin": true,
           "gridcolor": "white",
           "linecolor": "white",
           "ticks": "",
           "title": {
            "standoff": 15
           },
           "zerolinecolor": "white",
           "zerolinewidth": 2
          },
          "yaxis": {
           "automargin": true,
           "gridcolor": "white",
           "linecolor": "white",
           "ticks": "",
           "title": {
            "standoff": 15
           },
           "zerolinecolor": "white",
           "zerolinewidth": 2
          }
         }
        },
        "title": {
         "text": "Hyperparameter Importances"
        },
        "xaxis": {
         "title": {
          "text": "Hyperparameter Importance"
         }
        },
        "yaxis": {
         "title": {
          "text": "Hyperparameter"
         }
        }
       }
      }
     },
     "metadata": {},
     "output_type": "display_data"
    },
    {
     "data": {
      "application/vnd.plotly.v1+json": {
       "config": {
        "plotlyServerURL": "https://plot.ly"
       },
       "data": [
        {
         "marker": {
          "color": [
           0,
           1,
           2,
           3,
           4,
           5,
           6,
           7,
           8,
           9,
           11,
           12,
           13,
           14,
           15,
           16,
           17,
           18,
           19,
           21,
           22,
           23,
           24,
           25,
           26,
           30,
           31,
           32,
           33,
           34,
           35,
           36,
           41,
           42,
           43,
           45,
           51,
           52,
           53,
           54,
           56,
           61,
           62,
           63,
           65,
           66,
           67,
           69,
           71,
           72,
           73,
           74,
           77,
           80,
           81,
           82,
           83,
           84,
           85,
           86,
           87,
           88,
           89,
           90,
           91,
           92,
           93,
           94,
           96,
           98,
           99
          ],
          "colorbar": {
           "title": {
            "text": "Trial"
           },
           "x": 1,
           "xpad": 40
          },
          "colorscale": [
           [
            0,
            "rgb(247,251,255)"
           ],
           [
            0.125,
            "rgb(222,235,247)"
           ],
           [
            0.25,
            "rgb(198,219,239)"
           ],
           [
            0.375,
            "rgb(158,202,225)"
           ],
           [
            0.5,
            "rgb(107,174,214)"
           ],
           [
            0.625,
            "rgb(66,146,198)"
           ],
           [
            0.75,
            "rgb(33,113,181)"
           ],
           [
            0.875,
            "rgb(8,81,156)"
           ],
           [
            1,
            "rgb(8,48,107)"
           ]
          ],
          "line": {
           "color": "Grey",
           "width": 0.5
          },
          "showscale": true
         },
         "mode": "markers",
         "name": "Feasible Trial",
         "showlegend": false,
         "type": "scatter",
         "x": [
          26,
          24,
          8,
          9,
          13,
          7,
          3,
          10,
          5,
          21,
          22,
          30,
          29,
          30,
          30,
          17,
          27,
          17,
          16,
          16,
          18,
          18,
          19,
          19,
          13,
          26,
          19,
          18,
          14,
          14,
          13,
          14,
          15,
          15,
          13,
          15,
          15,
          14,
          17,
          14,
          14,
          13,
          11,
          14,
          16,
          18,
          16,
          16,
          17,
          16,
          16,
          20,
          17,
          17,
          17,
          17,
          19,
          19,
          21,
          20,
          22,
          22,
          22,
          25,
          22,
          27,
          28,
          28,
          25,
          27,
          25
         ],
         "xaxis": "x",
         "y": [
          0.8425154320987654,
          0.8758487654320988,
          0.7908950617283951,
          0.7876543209876543,
          0.837037037037037,
          0.6833333333333333,
          0.5555555555555556,
          0.647608024691358,
          0.7058641975308642,
          0.8966820987654321,
          0.9053240740740741,
          0.9056327160493827,
          0.9056327160493827,
          0.8873456790123457,
          0.9097993827160494,
          0.8749228395061729,
          0.8733024691358025,
          0.9094907407407408,
          0.9087191358024691,
          0.9004629629629629,
          0.9192901234567902,
          0.9172067901234567,
          0.9165123456790123,
          0.9168981481481482,
          0.8966820987654321,
          0.914891975308642,
          0.9165123456790123,
          0.9334104938271605,
          0.926466049382716,
          0.9248456790123457,
          0.9247685185185185,
          0.9151234567901234,
          0.9238425925925926,
          0.9238425925925926,
          0.9198302469135803,
          0.9213734567901235,
          0.9238425925925926,
          0.9271604938271605,
          0.9179783950617284,
          0.926466049382716,
          0.9248456790123457,
          0.9247685185185185,
          0.9137345679012345,
          0.9271604938271605,
          0.9322530864197531,
          0.9172067901234567,
          0.9274691358024691,
          0.9216820987654321,
          0.9324845679012346,
          0.9326388888888889,
          0.93125,
          0.9317901234567901,
          0.9300925925925926,
          0.9300925925925926,
          0.9300925925925926,
          0.9228395061728395,
          0.9305555555555556,
          0.9361882716049382,
          0.9380401234567901,
          0.9256172839506173,
          0.9374228395061729,
          0.9374228395061729,
          0.928858024691358,
          0.9375,
          0.9374228395061729,
          0.9371141975308642,
          0.9372685185185186,
          0.9372685185185186,
          0.937962962962963,
          0.9361111111111111,
          0.926466049382716
         ],
         "yaxis": "y"
        },
        {
         "marker": {
          "color": [
           0,
           1,
           2,
           3,
           4,
           5,
           6,
           7,
           8,
           9,
           11,
           12,
           13,
           14,
           15,
           16,
           17,
           18,
           19,
           21,
           22,
           23,
           24,
           25,
           26,
           30,
           31,
           32,
           33,
           34,
           35,
           36,
           41,
           42,
           43,
           45,
           51,
           52,
           53,
           54,
           56,
           61,
           62,
           63,
           65,
           66,
           67,
           69,
           71,
           72,
           73,
           74,
           77,
           80,
           81,
           82,
           83,
           84,
           85,
           86,
           87,
           88,
           89,
           90,
           91,
           92,
           93,
           94,
           96,
           98,
           99
          ],
          "colorbar": {
           "title": {
            "text": "Trial"
           },
           "x": 1,
           "xpad": 40
          },
          "colorscale": [
           [
            0,
            "rgb(247,251,255)"
           ],
           [
            0.125,
            "rgb(222,235,247)"
           ],
           [
            0.25,
            "rgb(198,219,239)"
           ],
           [
            0.375,
            "rgb(158,202,225)"
           ],
           [
            0.5,
            "rgb(107,174,214)"
           ],
           [
            0.625,
            "rgb(66,146,198)"
           ],
           [
            0.75,
            "rgb(33,113,181)"
           ],
           [
            0.875,
            "rgb(8,81,156)"
           ],
           [
            1,
            "rgb(8,48,107)"
           ]
          ],
          "line": {
           "color": "Grey",
           "width": 0.5
          },
          "showscale": false
         },
         "mode": "markers",
         "name": "Feasible Trial",
         "showlegend": false,
         "type": "scatter",
         "x": [
          "log2",
          "log2",
          "log2",
          "log2",
          "sqrt",
          "sqrt",
          "sqrt",
          "sqrt",
          "sqrt",
          "sqrt",
          "log2",
          "log2",
          "log2",
          "log2",
          "log2",
          "log2",
          "log2",
          "log2",
          "log2",
          "log2",
          "log2",
          "log2",
          "log2",
          "log2",
          "log2",
          "log2",
          "log2",
          "log2",
          "log2",
          "log2",
          "log2",
          "log2",
          "log2",
          "log2",
          "log2",
          "log2",
          "log2",
          "log2",
          "log2",
          "log2",
          "log2",
          "log2",
          "log2",
          "log2",
          "log2",
          "log2",
          "sqrt",
          "sqrt",
          "sqrt",
          "sqrt",
          "sqrt",
          "sqrt",
          "sqrt",
          "sqrt",
          "sqrt",
          "sqrt",
          "sqrt",
          "sqrt",
          "sqrt",
          "sqrt",
          "sqrt",
          "sqrt",
          "sqrt",
          "sqrt",
          "sqrt",
          "sqrt",
          "sqrt",
          "sqrt",
          "sqrt",
          "sqrt",
          "sqrt"
         ],
         "xaxis": "x2",
         "y": [
          0.8425154320987654,
          0.8758487654320988,
          0.7908950617283951,
          0.7876543209876543,
          0.837037037037037,
          0.6833333333333333,
          0.5555555555555556,
          0.647608024691358,
          0.7058641975308642,
          0.8966820987654321,
          0.9053240740740741,
          0.9056327160493827,
          0.9056327160493827,
          0.8873456790123457,
          0.9097993827160494,
          0.8749228395061729,
          0.8733024691358025,
          0.9094907407407408,
          0.9087191358024691,
          0.9004629629629629,
          0.9192901234567902,
          0.9172067901234567,
          0.9165123456790123,
          0.9168981481481482,
          0.8966820987654321,
          0.914891975308642,
          0.9165123456790123,
          0.9334104938271605,
          0.926466049382716,
          0.9248456790123457,
          0.9247685185185185,
          0.9151234567901234,
          0.9238425925925926,
          0.9238425925925926,
          0.9198302469135803,
          0.9213734567901235,
          0.9238425925925926,
          0.9271604938271605,
          0.9179783950617284,
          0.926466049382716,
          0.9248456790123457,
          0.9247685185185185,
          0.9137345679012345,
          0.9271604938271605,
          0.9322530864197531,
          0.9172067901234567,
          0.9274691358024691,
          0.9216820987654321,
          0.9324845679012346,
          0.9326388888888889,
          0.93125,
          0.9317901234567901,
          0.9300925925925926,
          0.9300925925925926,
          0.9300925925925926,
          0.9228395061728395,
          0.9305555555555556,
          0.9361882716049382,
          0.9380401234567901,
          0.9256172839506173,
          0.9374228395061729,
          0.9374228395061729,
          0.928858024691358,
          0.9375,
          0.9374228395061729,
          0.9371141975308642,
          0.9372685185185186,
          0.9372685185185186,
          0.937962962962963,
          0.9361111111111111,
          0.926466049382716
         ],
         "yaxis": "y2"
        },
        {
         "marker": {
          "color": [
           0,
           1,
           2,
           3,
           4,
           5,
           6,
           7,
           8,
           9,
           11,
           12,
           13,
           14,
           15,
           16,
           17,
           18,
           19,
           21,
           22,
           23,
           24,
           25,
           26,
           30,
           31,
           32,
           33,
           34,
           35,
           36,
           41,
           42,
           43,
           45,
           51,
           52,
           53,
           54,
           56,
           61,
           62,
           63,
           65,
           66,
           67,
           69,
           71,
           72,
           73,
           74,
           77,
           80,
           81,
           82,
           83,
           84,
           85,
           86,
           87,
           88,
           89,
           90,
           91,
           92,
           93,
           94,
           96,
           98,
           99
          ],
          "colorbar": {
           "title": {
            "text": "Trial"
           },
           "x": 1,
           "xpad": 40
          },
          "colorscale": [
           [
            0,
            "rgb(247,251,255)"
           ],
           [
            0.125,
            "rgb(222,235,247)"
           ],
           [
            0.25,
            "rgb(198,219,239)"
           ],
           [
            0.375,
            "rgb(158,202,225)"
           ],
           [
            0.5,
            "rgb(107,174,214)"
           ],
           [
            0.625,
            "rgb(66,146,198)"
           ],
           [
            0.75,
            "rgb(33,113,181)"
           ],
           [
            0.875,
            "rgb(8,81,156)"
           ],
           [
            1,
            "rgb(8,48,107)"
           ]
          ],
          "line": {
           "color": "Grey",
           "width": 0.5
          },
          "showscale": false
         },
         "mode": "markers",
         "name": "Feasible Trial",
         "showlegend": false,
         "type": "scatter",
         "x": [
          4,
          15,
          12,
          16,
          4,
          7,
          15,
          6,
          2,
          5,
          10,
          10,
          10,
          10,
          9,
          8,
          12,
          1,
          1,
          1,
          2,
          3,
          3,
          3,
          3,
          4,
          3,
          2,
          2,
          2,
          1,
          5,
          4,
          4,
          2,
          4,
          4,
          2,
          2,
          1,
          2,
          1,
          1,
          2,
          2,
          3,
          3,
          5,
          2,
          1,
          2,
          3,
          3,
          3,
          3,
          5,
          3,
          1,
          1,
          1,
          1,
          1,
          1,
          1,
          1,
          1,
          1,
          1,
          1,
          1,
          1
         ],
         "xaxis": "x3",
         "y": [
          0.8425154320987654,
          0.8758487654320988,
          0.7908950617283951,
          0.7876543209876543,
          0.837037037037037,
          0.6833333333333333,
          0.5555555555555556,
          0.647608024691358,
          0.7058641975308642,
          0.8966820987654321,
          0.9053240740740741,
          0.9056327160493827,
          0.9056327160493827,
          0.8873456790123457,
          0.9097993827160494,
          0.8749228395061729,
          0.8733024691358025,
          0.9094907407407408,
          0.9087191358024691,
          0.9004629629629629,
          0.9192901234567902,
          0.9172067901234567,
          0.9165123456790123,
          0.9168981481481482,
          0.8966820987654321,
          0.914891975308642,
          0.9165123456790123,
          0.9334104938271605,
          0.926466049382716,
          0.9248456790123457,
          0.9247685185185185,
          0.9151234567901234,
          0.9238425925925926,
          0.9238425925925926,
          0.9198302469135803,
          0.9213734567901235,
          0.9238425925925926,
          0.9271604938271605,
          0.9179783950617284,
          0.926466049382716,
          0.9248456790123457,
          0.9247685185185185,
          0.9137345679012345,
          0.9271604938271605,
          0.9322530864197531,
          0.9172067901234567,
          0.9274691358024691,
          0.9216820987654321,
          0.9324845679012346,
          0.9326388888888889,
          0.93125,
          0.9317901234567901,
          0.9300925925925926,
          0.9300925925925926,
          0.9300925925925926,
          0.9228395061728395,
          0.9305555555555556,
          0.9361882716049382,
          0.9380401234567901,
          0.9256172839506173,
          0.9374228395061729,
          0.9374228395061729,
          0.928858024691358,
          0.9375,
          0.9374228395061729,
          0.9371141975308642,
          0.9372685185185186,
          0.9372685185185186,
          0.937962962962963,
          0.9361111111111111,
          0.926466049382716
         ],
         "yaxis": "y3"
        },
        {
         "marker": {
          "color": [
           0,
           1,
           2,
           3,
           4,
           5,
           6,
           7,
           8,
           9,
           11,
           12,
           13,
           14,
           15,
           16,
           17,
           18,
           19,
           21,
           22,
           23,
           24,
           25,
           26,
           30,
           31,
           32,
           33,
           34,
           35,
           36,
           41,
           42,
           43,
           45,
           51,
           52,
           53,
           54,
           56,
           61,
           62,
           63,
           65,
           66,
           67,
           69,
           71,
           72,
           73,
           74,
           77,
           80,
           81,
           82,
           83,
           84,
           85,
           86,
           87,
           88,
           89,
           90,
           91,
           92,
           93,
           94,
           96,
           98,
           99
          ],
          "colorbar": {
           "title": {
            "text": "Trial"
           },
           "x": 1,
           "xpad": 40
          },
          "colorscale": [
           [
            0,
            "rgb(247,251,255)"
           ],
           [
            0.125,
            "rgb(222,235,247)"
           ],
           [
            0.25,
            "rgb(198,219,239)"
           ],
           [
            0.375,
            "rgb(158,202,225)"
           ],
           [
            0.5,
            "rgb(107,174,214)"
           ],
           [
            0.625,
            "rgb(66,146,198)"
           ],
           [
            0.75,
            "rgb(33,113,181)"
           ],
           [
            0.875,
            "rgb(8,81,156)"
           ],
           [
            1,
            "rgb(8,48,107)"
           ]
          ],
          "line": {
           "color": "Grey",
           "width": 0.5
          },
          "showscale": false
         },
         "mode": "markers",
         "name": "Feasible Trial",
         "showlegend": false,
         "type": "scatter",
         "x": [
          19,
          16,
          14,
          8,
          9,
          18,
          15,
          8,
          10,
          16,
          15,
          13,
          12,
          12,
          5,
          2,
          6,
          6,
          5,
          5,
          6,
          7,
          7,
          8,
          10,
          7,
          7,
          7,
          9,
          11,
          11,
          11,
          9,
          9,
          12,
          11,
          9,
          8,
          8,
          12,
          11,
          11,
          10,
          8,
          7,
          7,
          8,
          4,
          6,
          6,
          6,
          6,
          5,
          6,
          6,
          6,
          5,
          5,
          3,
          3,
          4,
          4,
          2,
          4,
          4,
          4,
          4,
          4,
          3,
          2,
          3
         ],
         "xaxis": "x4",
         "y": [
          0.8425154320987654,
          0.8758487654320988,
          0.7908950617283951,
          0.7876543209876543,
          0.837037037037037,
          0.6833333333333333,
          0.5555555555555556,
          0.647608024691358,
          0.7058641975308642,
          0.8966820987654321,
          0.9053240740740741,
          0.9056327160493827,
          0.9056327160493827,
          0.8873456790123457,
          0.9097993827160494,
          0.8749228395061729,
          0.8733024691358025,
          0.9094907407407408,
          0.9087191358024691,
          0.9004629629629629,
          0.9192901234567902,
          0.9172067901234567,
          0.9165123456790123,
          0.9168981481481482,
          0.8966820987654321,
          0.914891975308642,
          0.9165123456790123,
          0.9334104938271605,
          0.926466049382716,
          0.9248456790123457,
          0.9247685185185185,
          0.9151234567901234,
          0.9238425925925926,
          0.9238425925925926,
          0.9198302469135803,
          0.9213734567901235,
          0.9238425925925926,
          0.9271604938271605,
          0.9179783950617284,
          0.926466049382716,
          0.9248456790123457,
          0.9247685185185185,
          0.9137345679012345,
          0.9271604938271605,
          0.9322530864197531,
          0.9172067901234567,
          0.9274691358024691,
          0.9216820987654321,
          0.9324845679012346,
          0.9326388888888889,
          0.93125,
          0.9317901234567901,
          0.9300925925925926,
          0.9300925925925926,
          0.9300925925925926,
          0.9228395061728395,
          0.9305555555555556,
          0.9361882716049382,
          0.9380401234567901,
          0.9256172839506173,
          0.9374228395061729,
          0.9374228395061729,
          0.928858024691358,
          0.9375,
          0.9374228395061729,
          0.9371141975308642,
          0.9372685185185186,
          0.9372685185185186,
          0.937962962962963,
          0.9361111111111111,
          0.926466049382716
         ],
         "yaxis": "y4"
        },
        {
         "marker": {
          "color": [
           0,
           1,
           2,
           3,
           4,
           5,
           6,
           7,
           8,
           9,
           11,
           12,
           13,
           14,
           15,
           16,
           17,
           18,
           19,
           21,
           22,
           23,
           24,
           25,
           26,
           30,
           31,
           32,
           33,
           34,
           35,
           36,
           41,
           42,
           43,
           45,
           51,
           52,
           53,
           54,
           56,
           61,
           62,
           63,
           65,
           66,
           67,
           69,
           71,
           72,
           73,
           74,
           77,
           80,
           81,
           82,
           83,
           84,
           85,
           86,
           87,
           88,
           89,
           90,
           91,
           92,
           93,
           94,
           96,
           98,
           99
          ],
          "colorbar": {
           "title": {
            "text": "Trial"
           },
           "x": 1,
           "xpad": 40
          },
          "colorscale": [
           [
            0,
            "rgb(247,251,255)"
           ],
           [
            0.125,
            "rgb(222,235,247)"
           ],
           [
            0.25,
            "rgb(198,219,239)"
           ],
           [
            0.375,
            "rgb(158,202,225)"
           ],
           [
            0.5,
            "rgb(107,174,214)"
           ],
           [
            0.625,
            "rgb(66,146,198)"
           ],
           [
            0.75,
            "rgb(33,113,181)"
           ],
           [
            0.875,
            "rgb(8,81,156)"
           ],
           [
            1,
            "rgb(8,48,107)"
           ]
          ],
          "line": {
           "color": "Grey",
           "width": 0.5
          },
          "showscale": false
         },
         "mode": "markers",
         "name": "Feasible Trial",
         "showlegend": false,
         "type": "scatter",
         "x": [
          5,
          9,
          6,
          7,
          5,
          4,
          3,
          3,
          6,
          8,
          9,
          9,
          9,
          8,
          9,
          7,
          8,
          7,
          7,
          6,
          8,
          8,
          8,
          8,
          8,
          8,
          8,
          9,
          9,
          9,
          9,
          9,
          9,
          9,
          9,
          9,
          9,
          9,
          8,
          9,
          9,
          9,
          9,
          9,
          9,
          8,
          9,
          9,
          9,
          9,
          9,
          9,
          9,
          9,
          9,
          9,
          9,
          9,
          9,
          8,
          9,
          9,
          8,
          9,
          9,
          9,
          9,
          9,
          9,
          9,
          8
         ],
         "xaxis": "x5",
         "y": [
          0.8425154320987654,
          0.8758487654320988,
          0.7908950617283951,
          0.7876543209876543,
          0.837037037037037,
          0.6833333333333333,
          0.5555555555555556,
          0.647608024691358,
          0.7058641975308642,
          0.8966820987654321,
          0.9053240740740741,
          0.9056327160493827,
          0.9056327160493827,
          0.8873456790123457,
          0.9097993827160494,
          0.8749228395061729,
          0.8733024691358025,
          0.9094907407407408,
          0.9087191358024691,
          0.9004629629629629,
          0.9192901234567902,
          0.9172067901234567,
          0.9165123456790123,
          0.9168981481481482,
          0.8966820987654321,
          0.914891975308642,
          0.9165123456790123,
          0.9334104938271605,
          0.926466049382716,
          0.9248456790123457,
          0.9247685185185185,
          0.9151234567901234,
          0.9238425925925926,
          0.9238425925925926,
          0.9198302469135803,
          0.9213734567901235,
          0.9238425925925926,
          0.9271604938271605,
          0.9179783950617284,
          0.926466049382716,
          0.9248456790123457,
          0.9247685185185185,
          0.9137345679012345,
          0.9271604938271605,
          0.9322530864197531,
          0.9172067901234567,
          0.9274691358024691,
          0.9216820987654321,
          0.9324845679012346,
          0.9326388888888889,
          0.93125,
          0.9317901234567901,
          0.9300925925925926,
          0.9300925925925926,
          0.9300925925925926,
          0.9228395061728395,
          0.9305555555555556,
          0.9361882716049382,
          0.9380401234567901,
          0.9256172839506173,
          0.9374228395061729,
          0.9374228395061729,
          0.928858024691358,
          0.9375,
          0.9374228395061729,
          0.9371141975308642,
          0.9372685185185186,
          0.9372685185185186,
          0.937962962962963,
          0.9361111111111111,
          0.926466049382716
         ],
         "yaxis": "y5"
        }
       ],
       "layout": {
        "template": {
         "data": {
          "bar": [
           {
            "error_x": {
             "color": "#2a3f5f"
            },
            "error_y": {
             "color": "#2a3f5f"
            },
            "marker": {
             "line": {
              "color": "#E5ECF6",
              "width": 0.5
             },
             "pattern": {
              "fillmode": "overlay",
              "size": 10,
              "solidity": 0.2
             }
            },
            "type": "bar"
           }
          ],
          "barpolar": [
           {
            "marker": {
             "line": {
              "color": "#E5ECF6",
              "width": 0.5
             },
             "pattern": {
              "fillmode": "overlay",
              "size": 10,
              "solidity": 0.2
             }
            },
            "type": "barpolar"
           }
          ],
          "carpet": [
           {
            "aaxis": {
             "endlinecolor": "#2a3f5f",
             "gridcolor": "white",
             "linecolor": "white",
             "minorgridcolor": "white",
             "startlinecolor": "#2a3f5f"
            },
            "baxis": {
             "endlinecolor": "#2a3f5f",
             "gridcolor": "white",
             "linecolor": "white",
             "minorgridcolor": "white",
             "startlinecolor": "#2a3f5f"
            },
            "type": "carpet"
           }
          ],
          "choropleth": [
           {
            "colorbar": {
             "outlinewidth": 0,
             "ticks": ""
            },
            "type": "choropleth"
           }
          ],
          "contour": [
           {
            "colorbar": {
             "outlinewidth": 0,
             "ticks": ""
            },
            "colorscale": [
             [
              0,
              "#0d0887"
             ],
             [
              0.1111111111111111,
              "#46039f"
             ],
             [
              0.2222222222222222,
              "#7201a8"
             ],
             [
              0.3333333333333333,
              "#9c179e"
             ],
             [
              0.4444444444444444,
              "#bd3786"
             ],
             [
              0.5555555555555556,
              "#d8576b"
             ],
             [
              0.6666666666666666,
              "#ed7953"
             ],
             [
              0.7777777777777778,
              "#fb9f3a"
             ],
             [
              0.8888888888888888,
              "#fdca26"
             ],
             [
              1,
              "#f0f921"
             ]
            ],
            "type": "contour"
           }
          ],
          "contourcarpet": [
           {
            "colorbar": {
             "outlinewidth": 0,
             "ticks": ""
            },
            "type": "contourcarpet"
           }
          ],
          "heatmap": [
           {
            "colorbar": {
             "outlinewidth": 0,
             "ticks": ""
            },
            "colorscale": [
             [
              0,
              "#0d0887"
             ],
             [
              0.1111111111111111,
              "#46039f"
             ],
             [
              0.2222222222222222,
              "#7201a8"
             ],
             [
              0.3333333333333333,
              "#9c179e"
             ],
             [
              0.4444444444444444,
              "#bd3786"
             ],
             [
              0.5555555555555556,
              "#d8576b"
             ],
             [
              0.6666666666666666,
              "#ed7953"
             ],
             [
              0.7777777777777778,
              "#fb9f3a"
             ],
             [
              0.8888888888888888,
              "#fdca26"
             ],
             [
              1,
              "#f0f921"
             ]
            ],
            "type": "heatmap"
           }
          ],
          "heatmapgl": [
           {
            "colorbar": {
             "outlinewidth": 0,
             "ticks": ""
            },
            "colorscale": [
             [
              0,
              "#0d0887"
             ],
             [
              0.1111111111111111,
              "#46039f"
             ],
             [
              0.2222222222222222,
              "#7201a8"
             ],
             [
              0.3333333333333333,
              "#9c179e"
             ],
             [
              0.4444444444444444,
              "#bd3786"
             ],
             [
              0.5555555555555556,
              "#d8576b"
             ],
             [
              0.6666666666666666,
              "#ed7953"
             ],
             [
              0.7777777777777778,
              "#fb9f3a"
             ],
             [
              0.8888888888888888,
              "#fdca26"
             ],
             [
              1,
              "#f0f921"
             ]
            ],
            "type": "heatmapgl"
           }
          ],
          "histogram": [
           {
            "marker": {
             "pattern": {
              "fillmode": "overlay",
              "size": 10,
              "solidity": 0.2
             }
            },
            "type": "histogram"
           }
          ],
          "histogram2d": [
           {
            "colorbar": {
             "outlinewidth": 0,
             "ticks": ""
            },
            "colorscale": [
             [
              0,
              "#0d0887"
             ],
             [
              0.1111111111111111,
              "#46039f"
             ],
             [
              0.2222222222222222,
              "#7201a8"
             ],
             [
              0.3333333333333333,
              "#9c179e"
             ],
             [
              0.4444444444444444,
              "#bd3786"
             ],
             [
              0.5555555555555556,
              "#d8576b"
             ],
             [
              0.6666666666666666,
              "#ed7953"
             ],
             [
              0.7777777777777778,
              "#fb9f3a"
             ],
             [
              0.8888888888888888,
              "#fdca26"
             ],
             [
              1,
              "#f0f921"
             ]
            ],
            "type": "histogram2d"
           }
          ],
          "histogram2dcontour": [
           {
            "colorbar": {
             "outlinewidth": 0,
             "ticks": ""
            },
            "colorscale": [
             [
              0,
              "#0d0887"
             ],
             [
              0.1111111111111111,
              "#46039f"
             ],
             [
              0.2222222222222222,
              "#7201a8"
             ],
             [
              0.3333333333333333,
              "#9c179e"
             ],
             [
              0.4444444444444444,
              "#bd3786"
             ],
             [
              0.5555555555555556,
              "#d8576b"
             ],
             [
              0.6666666666666666,
              "#ed7953"
             ],
             [
              0.7777777777777778,
              "#fb9f3a"
             ],
             [
              0.8888888888888888,
              "#fdca26"
             ],
             [
              1,
              "#f0f921"
             ]
            ],
            "type": "histogram2dcontour"
           }
          ],
          "mesh3d": [
           {
            "colorbar": {
             "outlinewidth": 0,
             "ticks": ""
            },
            "type": "mesh3d"
           }
          ],
          "parcoords": [
           {
            "line": {
             "colorbar": {
              "outlinewidth": 0,
              "ticks": ""
             }
            },
            "type": "parcoords"
           }
          ],
          "pie": [
           {
            "automargin": true,
            "type": "pie"
           }
          ],
          "scatter": [
           {
            "fillpattern": {
             "fillmode": "overlay",
             "size": 10,
             "solidity": 0.2
            },
            "type": "scatter"
           }
          ],
          "scatter3d": [
           {
            "line": {
             "colorbar": {
              "outlinewidth": 0,
              "ticks": ""
             }
            },
            "marker": {
             "colorbar": {
              "outlinewidth": 0,
              "ticks": ""
             }
            },
            "type": "scatter3d"
           }
          ],
          "scattercarpet": [
           {
            "marker": {
             "colorbar": {
              "outlinewidth": 0,
              "ticks": ""
             }
            },
            "type": "scattercarpet"
           }
          ],
          "scattergeo": [
           {
            "marker": {
             "colorbar": {
              "outlinewidth": 0,
              "ticks": ""
             }
            },
            "type": "scattergeo"
           }
          ],
          "scattergl": [
           {
            "marker": {
             "colorbar": {
              "outlinewidth": 0,
              "ticks": ""
             }
            },
            "type": "scattergl"
           }
          ],
          "scattermapbox": [
           {
            "marker": {
             "colorbar": {
              "outlinewidth": 0,
              "ticks": ""
             }
            },
            "type": "scattermapbox"
           }
          ],
          "scatterpolar": [
           {
            "marker": {
             "colorbar": {
              "outlinewidth": 0,
              "ticks": ""
             }
            },
            "type": "scatterpolar"
           }
          ],
          "scatterpolargl": [
           {
            "marker": {
             "colorbar": {
              "outlinewidth": 0,
              "ticks": ""
             }
            },
            "type": "scatterpolargl"
           }
          ],
          "scatterternary": [
           {
            "marker": {
             "colorbar": {
              "outlinewidth": 0,
              "ticks": ""
             }
            },
            "type": "scatterternary"
           }
          ],
          "surface": [
           {
            "colorbar": {
             "outlinewidth": 0,
             "ticks": ""
            },
            "colorscale": [
             [
              0,
              "#0d0887"
             ],
             [
              0.1111111111111111,
              "#46039f"
             ],
             [
              0.2222222222222222,
              "#7201a8"
             ],
             [
              0.3333333333333333,
              "#9c179e"
             ],
             [
              0.4444444444444444,
              "#bd3786"
             ],
             [
              0.5555555555555556,
              "#d8576b"
             ],
             [
              0.6666666666666666,
              "#ed7953"
             ],
             [
              0.7777777777777778,
              "#fb9f3a"
             ],
             [
              0.8888888888888888,
              "#fdca26"
             ],
             [
              1,
              "#f0f921"
             ]
            ],
            "type": "surface"
           }
          ],
          "table": [
           {
            "cells": {
             "fill": {
              "color": "#EBF0F8"
             },
             "line": {
              "color": "white"
             }
            },
            "header": {
             "fill": {
              "color": "#C8D4E3"
             },
             "line": {
              "color": "white"
             }
            },
            "type": "table"
           }
          ]
         },
         "layout": {
          "annotationdefaults": {
           "arrowcolor": "#2a3f5f",
           "arrowhead": 0,
           "arrowwidth": 1
          },
          "autotypenumbers": "strict",
          "coloraxis": {
           "colorbar": {
            "outlinewidth": 0,
            "ticks": ""
           }
          },
          "colorscale": {
           "diverging": [
            [
             0,
             "#8e0152"
            ],
            [
             0.1,
             "#c51b7d"
            ],
            [
             0.2,
             "#de77ae"
            ],
            [
             0.3,
             "#f1b6da"
            ],
            [
             0.4,
             "#fde0ef"
            ],
            [
             0.5,
             "#f7f7f7"
            ],
            [
             0.6,
             "#e6f5d0"
            ],
            [
             0.7,
             "#b8e186"
            ],
            [
             0.8,
             "#7fbc41"
            ],
            [
             0.9,
             "#4d9221"
            ],
            [
             1,
             "#276419"
            ]
           ],
           "sequential": [
            [
             0,
             "#0d0887"
            ],
            [
             0.1111111111111111,
             "#46039f"
            ],
            [
             0.2222222222222222,
             "#7201a8"
            ],
            [
             0.3333333333333333,
             "#9c179e"
            ],
            [
             0.4444444444444444,
             "#bd3786"
            ],
            [
             0.5555555555555556,
             "#d8576b"
            ],
            [
             0.6666666666666666,
             "#ed7953"
            ],
            [
             0.7777777777777778,
             "#fb9f3a"
            ],
            [
             0.8888888888888888,
             "#fdca26"
            ],
            [
             1,
             "#f0f921"
            ]
           ],
           "sequentialminus": [
            [
             0,
             "#0d0887"
            ],
            [
             0.1111111111111111,
             "#46039f"
            ],
            [
             0.2222222222222222,
             "#7201a8"
            ],
            [
             0.3333333333333333,
             "#9c179e"
            ],
            [
             0.4444444444444444,
             "#bd3786"
            ],
            [
             0.5555555555555556,
             "#d8576b"
            ],
            [
             0.6666666666666666,
             "#ed7953"
            ],
            [
             0.7777777777777778,
             "#fb9f3a"
            ],
            [
             0.8888888888888888,
             "#fdca26"
            ],
            [
             1,
             "#f0f921"
            ]
           ]
          },
          "colorway": [
           "#636efa",
           "#EF553B",
           "#00cc96",
           "#ab63fa",
           "#FFA15A",
           "#19d3f3",
           "#FF6692",
           "#B6E880",
           "#FF97FF",
           "#FECB52"
          ],
          "font": {
           "color": "#2a3f5f"
          },
          "geo": {
           "bgcolor": "white",
           "lakecolor": "white",
           "landcolor": "#E5ECF6",
           "showlakes": true,
           "showland": true,
           "subunitcolor": "white"
          },
          "hoverlabel": {
           "align": "left"
          },
          "hovermode": "closest",
          "mapbox": {
           "style": "light"
          },
          "paper_bgcolor": "white",
          "plot_bgcolor": "#E5ECF6",
          "polar": {
           "angularaxis": {
            "gridcolor": "white",
            "linecolor": "white",
            "ticks": ""
           },
           "bgcolor": "#E5ECF6",
           "radialaxis": {
            "gridcolor": "white",
            "linecolor": "white",
            "ticks": ""
           }
          },
          "scene": {
           "xaxis": {
            "backgroundcolor": "#E5ECF6",
            "gridcolor": "white",
            "gridwidth": 2,
            "linecolor": "white",
            "showbackground": true,
            "ticks": "",
            "zerolinecolor": "white"
           },
           "yaxis": {
            "backgroundcolor": "#E5ECF6",
            "gridcolor": "white",
            "gridwidth": 2,
            "linecolor": "white",
            "showbackground": true,
            "ticks": "",
            "zerolinecolor": "white"
           },
           "zaxis": {
            "backgroundcolor": "#E5ECF6",
            "gridcolor": "white",
            "gridwidth": 2,
            "linecolor": "white",
            "showbackground": true,
            "ticks": "",
            "zerolinecolor": "white"
           }
          },
          "shapedefaults": {
           "line": {
            "color": "#2a3f5f"
           }
          },
          "ternary": {
           "aaxis": {
            "gridcolor": "white",
            "linecolor": "white",
            "ticks": ""
           },
           "baxis": {
            "gridcolor": "white",
            "linecolor": "white",
            "ticks": ""
           },
           "bgcolor": "#E5ECF6",
           "caxis": {
            "gridcolor": "white",
            "linecolor": "white",
            "ticks": ""
           }
          },
          "title": {
           "x": 0.05
          },
          "xaxis": {
           "automargin": true,
           "gridcolor": "white",
           "linecolor": "white",
           "ticks": "",
           "title": {
            "standoff": 15
           },
           "zerolinecolor": "white",
           "zerolinewidth": 2
          },
          "yaxis": {
           "automargin": true,
           "gridcolor": "white",
           "linecolor": "white",
           "ticks": "",
           "title": {
            "standoff": 15
           },
           "zerolinecolor": "white",
           "zerolinewidth": 2
          }
         }
        },
        "title": {
         "text": "Slice Plot"
        },
        "width": 1500,
        "xaxis": {
         "anchor": "y",
         "domain": [
          0,
          0.16799999999999998
         ],
         "title": {
          "text": "max_depth"
         }
        },
        "xaxis2": {
         "anchor": "y2",
         "categoryarray": [
          "sqrt",
          "log2"
         ],
         "categoryorder": "array",
         "domain": [
          0.208,
          0.376
         ],
         "title": {
          "text": "max_features"
         },
         "type": "category"
        },
        "xaxis3": {
         "anchor": "y3",
         "domain": [
          0.416,
          0.584
         ],
         "title": {
          "text": "min_samples_leaf"
         }
        },
        "xaxis4": {
         "anchor": "y4",
         "domain": [
          0.624,
          0.792
         ],
         "title": {
          "text": "min_samples_split"
         }
        },
        "xaxis5": {
         "anchor": "y5",
         "domain": [
          0.832,
          1
         ],
         "title": {
          "text": "n_components"
         }
        },
        "yaxis": {
         "anchor": "x",
         "domain": [
          0,
          1
         ],
         "title": {
          "text": "Objective Value"
         }
        },
        "yaxis2": {
         "anchor": "x2",
         "domain": [
          0,
          1
         ],
         "matches": "y",
         "showticklabels": false
        },
        "yaxis3": {
         "anchor": "x3",
         "domain": [
          0,
          1
         ],
         "matches": "y",
         "showticklabels": false
        },
        "yaxis4": {
         "anchor": "x4",
         "domain": [
          0,
          1
         ],
         "matches": "y",
         "showticklabels": false
        },
        "yaxis5": {
         "anchor": "x5",
         "domain": [
          0,
          1
         ],
         "matches": "y",
         "showticklabels": false
        }
       }
      }
     },
     "metadata": {},
     "output_type": "display_data"
    }
   ],
   "source": [
    "import numpy as np\n",
    "import joblib  # for saving the model\n",
    "from sklearn.model_selection import train_test_split\n",
    "from sklearn.preprocessing import StandardScaler\n",
    "from sklearn.metrics import accuracy_score\n",
    "from sklearn.decomposition import PCA\n",
    "from sklearn.ensemble import RandomForestClassifier\n",
    "import optuna\n",
    "import optuna.visualization as vis\n",
    "\n",
    "n = 9\n",
    "\n",
    "X = np.load('Datasets/kryptonite-%s-X.npy' % (n))\n",
    "y = np.load('Datasets/kryptonite-%s-y.npy' % (n))\n",
    "\n",
    "X_train_total, X_test, y_train_total, y_test = train_test_split(X, y, test_size=0.1, random_state=42)  # 10% of all data for final model evaluation\n",
    "\n",
    "# To hold the best model and accuracy score\n",
    "best_model = None\n",
    "best_accuracy = -1\n",
    "\n",
    "def objective(trial):\n",
    "    global best_model, best_scaler, best_accuracy, best_pca\n",
    "\n",
    "    # Shuffle and split data\n",
    "    X_train, X_val, y_train, y_val = train_test_split(X_train_total, y_train_total, test_size=0.8, random_state=42)\n",
    "\n",
    "    # Feature scaling\n",
    "    scaler = StandardScaler()\n",
    "    X_train_scaled = scaler.fit_transform(X_train)\n",
    "    X_val_scaled = scaler.transform(X_val)\n",
    "\n",
    "    # PCA dimensionality reduction\n",
    "    pca = PCA(n_components=trial.suggest_int('n_components', 1, X_train_scaled.shape[1]))\n",
    "    X_train_scaled = pca.fit_transform(X_train_scaled)\n",
    "    X_val_scaled = pca.transform(X_val_scaled)\n",
    "\n",
    "    # Random Forest Classifier parameters\n",
    "    classifier = RandomForestClassifier(\n",
    "        n_estimators=500,\n",
    "        max_depth=trial.suggest_int('max_depth', 1, 30),\n",
    "        min_samples_split=trial.suggest_int('min_samples_split', 2, 20),\n",
    "        min_samples_leaf=trial.suggest_int('min_samples_leaf', 1, 20),\n",
    "        max_features=trial.suggest_categorical('max_features', ['sqrt', 'log2']),\n",
    "        random_state=42,\n",
    "        n_jobs=-1\n",
    "    )\n",
    "\n",
    "    # Train the classifier\n",
    "    classifier.fit(X_train_scaled, y_train)\n",
    "\n",
    "    # Evaluate on the validation set\n",
    "    y_val_pred = classifier.predict(X_val_scaled)\n",
    "    val_accuracy = accuracy_score(y_val, y_val_pred)\n",
    "\n",
    "    # Report validation accuracy for pruning\n",
    "    trial.report(val_accuracy, step=0)\n",
    "\n",
    "    # Check if the trial should be pruned\n",
    "    if trial.should_prune():\n",
    "        raise optuna.TrialPruned()\n",
    "\n",
    "    # If this is the best model so far, save it\n",
    "    if val_accuracy > best_accuracy:\n",
    "        best_accuracy = val_accuracy\n",
    "        best_model = classifier  # Update the best model\n",
    "        best_scaler = scaler\n",
    "        best_pca = pca\n",
    "        # Save the best model\n",
    "        joblib.dump(best_model, 'best_rf_model.joblib')\n",
    "        print(f\"New best model saved with accuracy: {best_accuracy:.4f}\")\n",
    "\n",
    "    return val_accuracy\n",
    "\n",
    "# Create a study object with a pruner\n",
    "pruner = optuna.pruners.MedianPruner(n_startup_trials=10)\n",
    "study = optuna.create_study(direction=\"maximize\", pruner=pruner)\n",
    "\n",
    "# Optimize the objective function\n",
    "study.optimize(objective, n_trials=100)\n",
    "\n",
    "print(\"Best hyperparameters:\", study.best_params)\n",
    "print(\"Best value:\", study.best_value)\n",
    "# print(\"Best model saved as 'best_rf_model_dim_{n}.joblib'.\")\n",
    "\n",
    "# Evaluate on the validation set\n",
    "X_test_scaled = best_scaler.transform(X_test)\n",
    "X_test_scaled = best_pca.transform(X_test_scaled)\n",
    "y_test_pred = best_model.predict(X_test_scaled)\n",
    "test_accuracy = accuracy_score(y_test, y_test_pred)\n",
    "print(f'accuracy on test set:{test_accuracy}')\n",
    "\n",
    "# Optional: Visualize optimization results\n",
    "vis.plot_optimization_history(study).show()\n",
    "vis.plot_param_importances(study).show()\n",
    "vis.plot_slice(study).show()\n"
   ]
  }
 ],
 "metadata": {
  "kernelspec": {
   "display_name": ".venv",
   "language": "python",
   "name": "python3"
  },
  "language_info": {
   "codemirror_mode": {
    "name": "ipython",
    "version": 3
   },
   "file_extension": ".py",
   "mimetype": "text/x-python",
   "name": "python",
   "nbconvert_exporter": "python",
   "pygments_lexer": "ipython3",
   "version": "3.12.0"
  }
 },
 "nbformat": 4,
 "nbformat_minor": 2
}
