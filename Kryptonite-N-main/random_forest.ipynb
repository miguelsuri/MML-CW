{
 "cells": [
  {
   "cell_type": "code",
   "execution_count": null,
   "metadata": {},
   "outputs": [
    {
     "name": "stderr",
     "output_type": "stream",
     "text": [
      "[I 2024-11-13 22:25:27,562] A new study created in memory with name: no-name-848b6859-0e3c-43bb-aa51-ea009a014181\n",
      "[I 2024-11-13 22:25:28,034] Trial 0 finished with value: 0.4979166666666667 and parameters: {'n_components': 3, 'n_estimators': 193, 'max_depth': 17, 'min_samples_split': 12, 'min_samples_leaf': 5, 'max_features': 'log2'}. Best is trial 0 with value: 0.4979166666666667.\n"
     ]
    },
    {
     "name": "stdout",
     "output_type": "stream",
     "text": [
      "New best model saved with accuracy: 0.4979\n"
     ]
    },
    {
     "name": "stderr",
     "output_type": "stream",
     "text": [
      "[I 2024-11-13 22:25:28,631] Trial 1 finished with value: 0.5008873456790124 and parameters: {'n_components': 18, 'n_estimators': 166, 'max_depth': 25, 'min_samples_split': 16, 'min_samples_leaf': 8, 'max_features': 'sqrt'}. Best is trial 1 with value: 0.5008873456790124.\n"
     ]
    },
    {
     "name": "stdout",
     "output_type": "stream",
     "text": [
      "New best model saved with accuracy: 0.5009\n"
     ]
    },
    {
     "name": "stderr",
     "output_type": "stream",
     "text": [
      "[I 2024-11-13 22:25:28,991] Trial 2 finished with value: 0.5010030864197531 and parameters: {'n_components': 3, 'n_estimators': 160, 'max_depth': 30, 'min_samples_split': 7, 'min_samples_leaf': 16, 'max_features': 'log2'}. Best is trial 2 with value: 0.5010030864197531.\n"
     ]
    },
    {
     "name": "stdout",
     "output_type": "stream",
     "text": [
      "New best model saved with accuracy: 0.5010\n"
     ]
    },
    {
     "name": "stderr",
     "output_type": "stream",
     "text": [
      "[I 2024-11-13 22:25:29,385] Trial 3 finished with value: 0.49753086419753084 and parameters: {'n_components': 8, 'n_estimators': 154, 'max_depth': 10, 'min_samples_split': 9, 'min_samples_leaf': 19, 'max_features': 'log2'}. Best is trial 2 with value: 0.5010030864197531.\n",
      "[I 2024-11-13 22:25:29,558] Trial 4 finished with value: 0.5038966049382716 and parameters: {'n_components': 17, 'n_estimators': 38, 'max_depth': 14, 'min_samples_split': 19, 'min_samples_leaf': 10, 'max_features': 'sqrt'}. Best is trial 4 with value: 0.5038966049382716.\n",
      "[I 2024-11-13 22:25:29,702] Trial 5 finished with value: 0.49888117283950617 and parameters: {'n_components': 7, 'n_estimators': 50, 'max_depth': 26, 'min_samples_split': 18, 'min_samples_leaf': 18, 'max_features': 'sqrt'}. Best is trial 4 with value: 0.5038966049382716.\n"
     ]
    },
    {
     "name": "stdout",
     "output_type": "stream",
     "text": [
      "New best model saved with accuracy: 0.5039\n"
     ]
    },
    {
     "name": "stderr",
     "output_type": "stream",
     "text": [
      "[I 2024-11-13 22:25:29,837] Trial 6 finished with value: 0.4977237654320988 and parameters: {'n_components': 4, 'n_estimators': 68, 'max_depth': 2, 'min_samples_split': 15, 'min_samples_leaf': 15, 'max_features': 'log2'}. Best is trial 4 with value: 0.5038966049382716.\n",
      "[I 2024-11-13 22:25:30,252] Trial 7 finished with value: 0.5006172839506173 and parameters: {'n_components': 17, 'n_estimators': 172, 'max_depth': 8, 'min_samples_split': 13, 'min_samples_leaf': 18, 'max_features': 'log2'}. Best is trial 4 with value: 0.5038966049382716.\n",
      "[I 2024-11-13 22:25:30,318] Trial 8 finished with value: 0.5034722222222222 and parameters: {'n_components': 4, 'n_estimators': 10, 'max_depth': 27, 'min_samples_split': 14, 'min_samples_leaf': 12, 'max_features': 'sqrt'}. Best is trial 4 with value: 0.5038966049382716.\n",
      "[I 2024-11-13 22:25:30,466] Trial 9 finished with value: 0.49930555555555556 and parameters: {'n_components': 10, 'n_estimators': 78, 'max_depth': 2, 'min_samples_split': 7, 'min_samples_leaf': 15, 'max_features': 'log2'}. Best is trial 4 with value: 0.5038966049382716.\n",
      "[I 2024-11-13 22:25:30,888] Trial 10 finished with value: 0.5005401234567901 and parameters: {'n_components': 14, 'n_estimators': 115, 'max_depth': 19, 'min_samples_split': 2, 'min_samples_leaf': 3, 'max_features': 'sqrt'}. Best is trial 4 with value: 0.5038966049382716.\n",
      "[I 2024-11-13 22:25:31,003] Trial 11 finished with value: 0.5010802469135802 and parameters: {'n_components': 12, 'n_estimators': 20, 'max_depth': 13, 'min_samples_split': 20, 'min_samples_leaf': 11, 'max_features': 'sqrt'}. Best is trial 4 with value: 0.5038966049382716.\n",
      "[I 2024-11-13 22:25:31,074] Trial 12 finished with value: 0.5011574074074074 and parameters: {'n_components': 1, 'n_estimators': 10, 'max_depth': 21, 'min_samples_split': 20, 'min_samples_leaf': 10, 'max_features': 'sqrt'}. Best is trial 4 with value: 0.5038966049382716.\n",
      "[I 2024-11-13 22:25:31,231] Trial 13 finished with value: 0.5019675925925926 and parameters: {'n_components': 15, 'n_estimators': 38, 'max_depth': 14, 'min_samples_split': 16, 'min_samples_leaf': 12, 'max_features': 'sqrt'}. Best is trial 4 with value: 0.5038966049382716.\n",
      "[I 2024-11-13 22:25:31,506] Trial 14 pruned. \n",
      "[I 2024-11-13 22:25:31,640] Trial 15 pruned. \n",
      "[I 2024-11-13 22:25:31,836] Trial 16 pruned. \n",
      "[I 2024-11-13 22:25:32,151] Trial 17 finished with value: 0.5020833333333333 and parameters: {'n_components': 12, 'n_estimators': 99, 'max_depth': 24, 'min_samples_split': 18, 'min_samples_leaf': 9, 'max_features': 'sqrt'}. Best is trial 4 with value: 0.5038966049382716.\n",
      "[I 2024-11-13 22:25:32,281] Trial 18 pruned. \n",
      "[I 2024-11-13 22:25:32,543] Trial 19 finished with value: 0.5012731481481482 and parameters: {'n_components': 1, 'n_estimators': 120, 'max_depth': 16, 'min_samples_split': 17, 'min_samples_leaf': 6, 'max_features': 'sqrt'}. Best is trial 4 with value: 0.5038966049382716.\n",
      "[I 2024-11-13 22:25:32,625] Trial 20 pruned. \n",
      "[I 2024-11-13 22:25:32,908] Trial 21 pruned. \n",
      "[I 2024-11-13 22:25:33,341] Trial 22 finished with value: 0.5031635802469135 and parameters: {'n_components': 17, 'n_estimators': 134, 'max_depth': 27, 'min_samples_split': 14, 'min_samples_leaf': 10, 'max_features': 'sqrt'}. Best is trial 4 with value: 0.5038966049382716.\n",
      "[I 2024-11-13 22:25:33,790] Trial 23 finished with value: 0.5030864197530864 and parameters: {'n_components': 16, 'n_estimators': 143, 'max_depth': 28, 'min_samples_split': 14, 'min_samples_leaf': 11, 'max_features': 'sqrt'}. Best is trial 4 with value: 0.5038966049382716.\n",
      "[I 2024-11-13 22:25:34,062] Trial 24 finished with value: 0.5041666666666667 and parameters: {'n_components': 18, 'n_estimators': 56, 'max_depth': 22, 'min_samples_split': 13, 'min_samples_leaf': 4, 'max_features': 'sqrt'}. Best is trial 24 with value: 0.5041666666666667.\n"
     ]
    },
    {
     "name": "stdout",
     "output_type": "stream",
     "text": [
      "New best model saved with accuracy: 0.5042\n"
     ]
    },
    {
     "name": "stderr",
     "output_type": "stream",
     "text": [
      "[I 2024-11-13 22:25:34,324] Trial 25 finished with value: 0.504591049382716 and parameters: {'n_components': 18, 'n_estimators': 53, 'max_depth': 23, 'min_samples_split': 8, 'min_samples_leaf': 4, 'max_features': 'sqrt'}. Best is trial 25 with value: 0.504591049382716.\n"
     ]
    },
    {
     "name": "stdout",
     "output_type": "stream",
     "text": [
      "New best model saved with accuracy: 0.5046\n"
     ]
    },
    {
     "name": "stderr",
     "output_type": "stream",
     "text": [
      "[I 2024-11-13 22:25:34,583] Trial 26 finished with value: 0.5054783950617284 and parameters: {'n_components': 18, 'n_estimators': 54, 'max_depth': 22, 'min_samples_split': 5, 'min_samples_leaf': 4, 'max_features': 'sqrt'}. Best is trial 26 with value: 0.5054783950617284.\n"
     ]
    },
    {
     "name": "stdout",
     "output_type": "stream",
     "text": [
      "New best model saved with accuracy: 0.5055\n"
     ]
    },
    {
     "name": "stderr",
     "output_type": "stream",
     "text": [
      "[I 2024-11-13 22:25:34,839] Trial 27 finished with value: 0.5047453703703704 and parameters: {'n_components': 18, 'n_estimators': 56, 'max_depth': 22, 'min_samples_split': 4, 'min_samples_leaf': 4, 'max_features': 'sqrt'}. Best is trial 26 with value: 0.5054783950617284.\n",
      "[I 2024-11-13 22:25:35,132] Trial 28 finished with value: 0.5032793209876543 and parameters: {'n_components': 15, 'n_estimators': 82, 'max_depth': 19, 'min_samples_split': 4, 'min_samples_leaf': 1, 'max_features': 'sqrt'}. Best is trial 26 with value: 0.5054783950617284.\n",
      "[I 2024-11-13 22:25:35,366] Trial 29 pruned. \n",
      "[I 2024-11-13 22:25:35,664] Trial 30 finished with value: 0.5020447530864197 and parameters: {'n_components': 16, 'n_estimators': 71, 'max_depth': 23, 'min_samples_split': 5, 'min_samples_leaf': 5, 'max_features': 'sqrt'}. Best is trial 26 with value: 0.5054783950617284.\n",
      "[I 2024-11-13 22:25:35,921] Trial 31 pruned. \n",
      "[I 2024-11-13 22:25:36,171] Trial 32 finished with value: 0.5018518518518519 and parameters: {'n_components': 18, 'n_estimators': 56, 'max_depth': 20, 'min_samples_split': 4, 'min_samples_leaf': 5, 'max_features': 'sqrt'}. Best is trial 26 with value: 0.5054783950617284.\n",
      "[I 2024-11-13 22:25:36,841] Trial 33 finished with value: 0.5044753086419753 and parameters: {'n_components': 16, 'n_estimators': 194, 'max_depth': 17, 'min_samples_split': 12, 'min_samples_leaf': 4, 'max_features': 'sqrt'}. Best is trial 26 with value: 0.5054783950617284.\n",
      "[I 2024-11-13 22:25:37,436] Trial 34 finished with value: 0.5040895061728395 and parameters: {'n_components': 16, 'n_estimators': 178, 'max_depth': 17, 'min_samples_split': 7, 'min_samples_leaf': 6, 'max_features': 'sqrt'}. Best is trial 26 with value: 0.5054783950617284.\n",
      "[I 2024-11-13 22:25:38,016] Trial 35 pruned. \n",
      "[I 2024-11-13 22:25:38,282] Trial 36 pruned. \n",
      "[I 2024-11-13 22:25:38,452] Trial 37 finished with value: 0.506520061728395 and parameters: {'n_components': 17, 'n_estimators': 25, 'max_depth': 23, 'min_samples_split': 11, 'min_samples_leaf': 4, 'max_features': 'sqrt'}. Best is trial 37 with value: 0.506520061728395.\n",
      "[I 2024-11-13 22:25:38,621] Trial 38 finished with value: 0.5096064814814815 and parameters: {'n_components': 17, 'n_estimators': 31, 'max_depth': 28, 'min_samples_split': 3, 'min_samples_leaf': 7, 'max_features': 'log2'}. Best is trial 38 with value: 0.5096064814814815.\n"
     ]
    },
    {
     "name": "stdout",
     "output_type": "stream",
     "text": [
      "New best model saved with accuracy: 0.5065\n",
      "New best model saved with accuracy: 0.5096\n"
     ]
    },
    {
     "name": "stderr",
     "output_type": "stream",
     "text": [
      "[I 2024-11-13 22:25:38,797] Trial 39 finished with value: 0.5100308641975309 and parameters: {'n_components': 17, 'n_estimators': 29, 'max_depth': 29, 'min_samples_split': 3, 'min_samples_leaf': 7, 'max_features': 'log2'}. Best is trial 39 with value: 0.5100308641975309.\n",
      "[I 2024-11-13 22:25:38,933] Trial 40 pruned. \n"
     ]
    },
    {
     "name": "stdout",
     "output_type": "stream",
     "text": [
      "New best model saved with accuracy: 0.5100\n"
     ]
    },
    {
     "name": "stderr",
     "output_type": "stream",
     "text": [
      "[I 2024-11-13 22:25:39,155] Trial 41 pruned. \n",
      "[I 2024-11-13 22:25:39,320] Trial 42 finished with value: 0.5066743827160494 and parameters: {'n_components': 17, 'n_estimators': 25, 'max_depth': 28, 'min_samples_split': 5, 'min_samples_leaf': 5, 'max_features': 'log2'}. Best is trial 39 with value: 0.5100308641975309.\n",
      "[I 2024-11-13 22:25:39,481] Trial 43 finished with value: 0.503125 and parameters: {'n_components': 17, 'n_estimators': 25, 'max_depth': 29, 'min_samples_split': 6, 'min_samples_leaf': 8, 'max_features': 'log2'}. Best is trial 39 with value: 0.5100308641975309.\n",
      "[I 2024-11-13 22:25:39,640] Trial 44 finished with value: 0.5058641975308642 and parameters: {'n_components': 17, 'n_estimators': 20, 'max_depth': 30, 'min_samples_split': 3, 'min_samples_leaf': 7, 'max_features': 'log2'}. Best is trial 39 with value: 0.5100308641975309.\n",
      "[I 2024-11-13 22:25:39,760] Trial 45 finished with value: 0.504128086419753 and parameters: {'n_components': 15, 'n_estimators': 19, 'max_depth': 30, 'min_samples_split': 2, 'min_samples_leaf': 7, 'max_features': 'log2'}. Best is trial 39 with value: 0.5100308641975309.\n",
      "[I 2024-11-13 22:25:39,914] Trial 46 pruned. \n",
      "[I 2024-11-13 22:25:40,114] Trial 47 finished with value: 0.5039351851851852 and parameters: {'n_components': 16, 'n_estimators': 43, 'max_depth': 28, 'min_samples_split': 3, 'min_samples_leaf': 9, 'max_features': 'log2'}. Best is trial 39 with value: 0.5100308641975309.\n",
      "[I 2024-11-13 22:25:40,260] Trial 48 finished with value: 0.5063271604938272 and parameters: {'n_components': 17, 'n_estimators': 18, 'max_depth': 26, 'min_samples_split': 2, 'min_samples_leaf': 7, 'max_features': 'log2'}. Best is trial 39 with value: 0.5100308641975309.\n",
      "[I 2024-11-13 22:25:40,399] Trial 49 finished with value: 0.5040895061728395 and parameters: {'n_components': 15, 'n_estimators': 34, 'max_depth': 26, 'min_samples_split': 2, 'min_samples_leaf': 20, 'max_features': 'log2'}. Best is trial 39 with value: 0.5100308641975309.\n",
      "[I 2024-11-13 22:25:40,584] Trial 50 pruned. \n",
      "[I 2024-11-13 22:25:40,718] Trial 51 finished with value: 0.508912037037037 and parameters: {'n_components': 17, 'n_estimators': 19, 'max_depth': 29, 'min_samples_split': 4, 'min_samples_leaf': 7, 'max_features': 'log2'}. Best is trial 39 with value: 0.5100308641975309.\n",
      "[I 2024-11-13 22:25:40,849] Trial 52 finished with value: 0.5033950617283951 and parameters: {'n_components': 17, 'n_estimators': 16, 'max_depth': 28, 'min_samples_split': 4, 'min_samples_leaf': 8, 'max_features': 'log2'}. Best is trial 39 with value: 0.5100308641975309.\n",
      "[I 2024-11-13 22:25:41,019] Trial 53 finished with value: 0.5054012345679012 and parameters: {'n_components': 16, 'n_estimators': 27, 'max_depth': 29, 'min_samples_split': 5, 'min_samples_leaf': 2, 'max_features': 'log2'}. Best is trial 39 with value: 0.5100308641975309.\n",
      "[I 2024-11-13 22:25:41,124] Trial 54 pruned. \n",
      "[I 2024-11-13 22:25:41,319] Trial 55 finished with value: 0.5070987654320988 and parameters: {'n_components': 17, 'n_estimators': 36, 'max_depth': 27, 'min_samples_split': 4, 'min_samples_leaf': 5, 'max_features': 'log2'}. Best is trial 39 with value: 0.5100308641975309.\n",
      "[I 2024-11-13 22:25:41,530] Trial 56 finished with value: 0.5101851851851852 and parameters: {'n_components': 17, 'n_estimators': 38, 'max_depth': 28, 'min_samples_split': 4, 'min_samples_leaf': 5, 'max_features': 'log2'}. Best is trial 56 with value: 0.5101851851851852.\n"
     ]
    },
    {
     "name": "stdout",
     "output_type": "stream",
     "text": [
      "New best model saved with accuracy: 0.5102\n"
     ]
    },
    {
     "name": "stderr",
     "output_type": "stream",
     "text": [
      "[I 2024-11-13 22:25:41,917] Trial 57 finished with value: 0.5058256172839506 and parameters: {'n_components': 11, 'n_estimators': 38, 'max_depth': 27, 'min_samples_split': 4, 'min_samples_leaf': 5, 'max_features': 'log2'}. Best is trial 56 with value: 0.5101851851851852.\n",
      "[I 2024-11-13 22:25:42,082] Trial 58 pruned. \n",
      "[I 2024-11-13 22:25:42,393] Trial 59 pruned. \n",
      "[I 2024-11-13 22:25:42,619] Trial 60 finished with value: 0.5080632716049382 and parameters: {'n_components': 17, 'n_estimators': 45, 'max_depth': 30, 'min_samples_split': 5, 'min_samples_leaf': 5, 'max_features': 'log2'}. Best is trial 56 with value: 0.5101851851851852.\n",
      "[I 2024-11-13 22:25:42,854] Trial 61 finished with value: 0.5095293209876544 and parameters: {'n_components': 17, 'n_estimators': 39, 'max_depth': 30, 'min_samples_split': 5, 'min_samples_leaf': 5, 'max_features': 'log2'}. Best is trial 56 with value: 0.5101851851851852.\n",
      "[I 2024-11-13 22:25:43,094] Trial 62 finished with value: 0.5074074074074074 and parameters: {'n_components': 16, 'n_estimators': 46, 'max_depth': 30, 'min_samples_split': 4, 'min_samples_leaf': 3, 'max_features': 'log2'}. Best is trial 56 with value: 0.5101851851851852.\n",
      "[I 2024-11-13 22:25:43,366] Trial 63 pruned. \n",
      "[I 2024-11-13 22:25:43,629] Trial 64 finished with value: 0.5040509259259259 and parameters: {'n_components': 18, 'n_estimators': 41, 'max_depth': 30, 'min_samples_split': 5, 'min_samples_leaf': 2, 'max_features': 'log2'}. Best is trial 56 with value: 0.5101851851851852.\n",
      "[I 2024-11-13 22:25:43,971] Trial 65 finished with value: 0.5041666666666667 and parameters: {'n_components': 16, 'n_estimators': 72, 'max_depth': 29, 'min_samples_split': 8, 'min_samples_leaf': 3, 'max_features': 'log2'}. Best is trial 56 with value: 0.5101851851851852.\n",
      "[I 2024-11-13 22:25:44,180] Trial 66 pruned. \n",
      "[I 2024-11-13 22:25:44,461] Trial 67 pruned. \n",
      "[I 2024-11-13 22:25:44,611] Trial 68 finished with value: 0.504320987654321 and parameters: {'n_components': 15, 'n_estimators': 31, 'max_depth': 30, 'min_samples_split': 3, 'min_samples_leaf': 10, 'max_features': 'log2'}. Best is trial 56 with value: 0.5101851851851852.\n",
      "[I 2024-11-13 22:25:44,903] Trial 69 pruned. \n",
      "[I 2024-11-13 22:25:45,194] Trial 70 finished with value: 0.5048611111111111 and parameters: {'n_components': 14, 'n_estimators': 112, 'max_depth': 4, 'min_samples_split': 5, 'min_samples_leaf': 7, 'max_features': 'log2'}. Best is trial 56 with value: 0.5101851851851852.\n",
      "[I 2024-11-13 22:25:45,557] Trial 71 finished with value: 0.5089891975308642 and parameters: {'n_components': 17, 'n_estimators': 39, 'max_depth': 27, 'min_samples_split': 4, 'min_samples_leaf': 5, 'max_features': 'log2'}. Best is trial 56 with value: 0.5101851851851852.\n",
      "[I 2024-11-13 22:25:45,981] Trial 72 pruned. \n",
      "[I 2024-11-13 22:25:46,239] Trial 73 pruned. \n",
      "[I 2024-11-13 22:25:46,398] Trial 74 pruned. \n",
      "[I 2024-11-13 22:25:46,716] Trial 75 finished with value: 0.5075617283950618 and parameters: {'n_components': 17, 'n_estimators': 32, 'max_depth': 24, 'min_samples_split': 4, 'min_samples_leaf': 5, 'max_features': 'log2'}. Best is trial 56 with value: 0.5101851851851852.\n",
      "[I 2024-11-13 22:25:46,878] Trial 76 pruned. \n",
      "[I 2024-11-13 22:25:47,060] Trial 77 finished with value: 0.5083719135802469 and parameters: {'n_components': 17, 'n_estimators': 31, 'max_depth': 24, 'min_samples_split': 6, 'min_samples_leaf': 7, 'max_features': 'log2'}. Best is trial 56 with value: 0.5101851851851852.\n",
      "[I 2024-11-13 22:25:47,312] Trial 78 pruned. \n",
      "[I 2024-11-13 22:25:47,526] Trial 79 pruned. \n",
      "[I 2024-11-13 22:25:47,681] Trial 80 pruned. \n",
      "[I 2024-11-13 22:25:48,011] Trial 81 finished with value: 0.5075617283950618 and parameters: {'n_components': 17, 'n_estimators': 32, 'max_depth': 24, 'min_samples_split': 3, 'min_samples_leaf': 5, 'max_features': 'log2'}. Best is trial 56 with value: 0.5101851851851852.\n",
      "[I 2024-11-13 22:25:48,186] Trial 82 finished with value: 0.5077546296296296 and parameters: {'n_components': 17, 'n_estimators': 30, 'max_depth': 24, 'min_samples_split': 4, 'min_samples_leaf': 7, 'max_features': 'log2'}. Best is trial 56 with value: 0.5101851851851852.\n",
      "[I 2024-11-13 22:25:48,416] Trial 83 pruned. \n",
      "[I 2024-11-13 22:25:48,667] Trial 84 pruned. \n",
      "[I 2024-11-13 22:25:49,037] Trial 85 finished with value: 0.50625 and parameters: {'n_components': 18, 'n_estimators': 36, 'max_depth': 28, 'min_samples_split': 6, 'min_samples_leaf': 7, 'max_features': 'log2'}. Best is trial 56 with value: 0.5101851851851852.\n",
      "[I 2024-11-13 22:25:49,272] Trial 86 pruned. \n",
      "[I 2024-11-13 22:25:49,620] Trial 87 finished with value: 0.5051311728395061 and parameters: {'n_components': 18, 'n_estimators': 28, 'max_depth': 11, 'min_samples_split': 3, 'min_samples_leaf': 7, 'max_features': 'log2'}. Best is trial 56 with value: 0.5101851851851852.\n",
      "[I 2024-11-13 22:25:49,733] Trial 88 pruned. \n",
      "[I 2024-11-13 22:25:50,326] Trial 89 pruned. \n",
      "[I 2024-11-13 22:25:50,515] Trial 90 pruned. \n",
      "[I 2024-11-13 22:25:50,853] Trial 91 finished with value: 0.506983024691358 and parameters: {'n_components': 17, 'n_estimators': 31, 'max_depth': 24, 'min_samples_split': 4, 'min_samples_leaf': 5, 'max_features': 'log2'}. Best is trial 56 with value: 0.5101851851851852.\n",
      "[I 2024-11-13 22:25:51,166] Trial 92 finished with value: 0.5070987654320988 and parameters: {'n_components': 17, 'n_estimators': 35, 'max_depth': 23, 'min_samples_split': 3, 'min_samples_leaf': 4, 'max_features': 'log2'}. Best is trial 56 with value: 0.5101851851851852.\n",
      "[I 2024-11-13 22:25:51,545] Trial 93 pruned. \n",
      "[I 2024-11-13 22:25:51,760] Trial 94 pruned. \n",
      "[I 2024-11-13 22:25:51,951] Trial 95 finished with value: 0.5048996913580247 and parameters: {'n_components': 17, 'n_estimators': 17, 'max_depth': 20, 'min_samples_split': 5, 'min_samples_leaf': 6, 'max_features': 'log2'}. Best is trial 56 with value: 0.5101851851851852.\n",
      "[I 2024-11-13 22:25:52,358] Trial 96 finished with value: 0.5047453703703704 and parameters: {'n_components': 16, 'n_estimators': 51, 'max_depth': 24, 'min_samples_split': 2, 'min_samples_leaf': 7, 'max_features': 'log2'}. Best is trial 56 with value: 0.5101851851851852.\n",
      "[I 2024-11-13 22:25:53,108] Trial 97 finished with value: 0.5059027777777778 and parameters: {'n_components': 17, 'n_estimators': 156, 'max_depth': 29, 'min_samples_split': 4, 'min_samples_leaf': 4, 'max_features': 'log2'}. Best is trial 56 with value: 0.5101851851851852.\n",
      "[I 2024-11-13 22:25:53,351] Trial 98 pruned. \n",
      "[I 2024-11-13 22:25:53,664] Trial 99 pruned. \n"
     ]
    },
    {
     "name": "stdout",
     "output_type": "stream",
     "text": [
      "Best hyperparameters: {'n_components': 17, 'n_estimators': 38, 'max_depth': 28, 'min_samples_split': 4, 'min_samples_leaf': 5, 'max_features': 'log2'}\n",
      "Best value: 0.5101851851851852\n",
      "Best model saved as 'best_rf_model_dim_{n}.joblib'.\n"
     ]
    },
    {
     "data": {
      "application/vnd.plotly.v1+json": {
       "config": {
        "plotlyServerURL": "https://plot.ly"
       },
       "data": [
        {
         "mode": "markers",
         "name": "Objective Value",
         "type": "scatter",
         "x": [
          0,
          1,
          2,
          3,
          4,
          5,
          6,
          7,
          8,
          9,
          10,
          11,
          12,
          13,
          17,
          19,
          22,
          23,
          24,
          25,
          26,
          27,
          28,
          30,
          32,
          33,
          34,
          37,
          38,
          39,
          42,
          43,
          44,
          45,
          47,
          48,
          49,
          51,
          52,
          53,
          55,
          56,
          57,
          60,
          61,
          62,
          64,
          65,
          68,
          70,
          71,
          75,
          77,
          81,
          82,
          85,
          87,
          91,
          92,
          95,
          96,
          97
         ],
         "y": [
          0.4979166666666667,
          0.5008873456790124,
          0.5010030864197531,
          0.49753086419753084,
          0.5038966049382716,
          0.49888117283950617,
          0.4977237654320988,
          0.5006172839506173,
          0.5034722222222222,
          0.49930555555555556,
          0.5005401234567901,
          0.5010802469135802,
          0.5011574074074074,
          0.5019675925925926,
          0.5020833333333333,
          0.5012731481481482,
          0.5031635802469135,
          0.5030864197530864,
          0.5041666666666667,
          0.504591049382716,
          0.5054783950617284,
          0.5047453703703704,
          0.5032793209876543,
          0.5020447530864197,
          0.5018518518518519,
          0.5044753086419753,
          0.5040895061728395,
          0.506520061728395,
          0.5096064814814815,
          0.5100308641975309,
          0.5066743827160494,
          0.503125,
          0.5058641975308642,
          0.504128086419753,
          0.5039351851851852,
          0.5063271604938272,
          0.5040895061728395,
          0.508912037037037,
          0.5033950617283951,
          0.5054012345679012,
          0.5070987654320988,
          0.5101851851851852,
          0.5058256172839506,
          0.5080632716049382,
          0.5095293209876544,
          0.5074074074074074,
          0.5040509259259259,
          0.5041666666666667,
          0.504320987654321,
          0.5048611111111111,
          0.5089891975308642,
          0.5075617283950618,
          0.5083719135802469,
          0.5075617283950618,
          0.5077546296296296,
          0.50625,
          0.5051311728395061,
          0.506983024691358,
          0.5070987654320988,
          0.5048996913580247,
          0.5047453703703704,
          0.5059027777777778
         ]
        },
        {
         "mode": "lines",
         "name": "Best Value",
         "type": "scatter",
         "x": [
          0,
          1,
          2,
          3,
          4,
          5,
          6,
          7,
          8,
          9,
          10,
          11,
          12,
          13,
          14,
          15,
          16,
          17,
          18,
          19,
          20,
          21,
          22,
          23,
          24,
          25,
          26,
          27,
          28,
          29,
          30,
          31,
          32,
          33,
          34,
          35,
          36,
          37,
          38,
          39,
          40,
          41,
          42,
          43,
          44,
          45,
          46,
          47,
          48,
          49,
          50,
          51,
          52,
          53,
          54,
          55,
          56,
          57,
          58,
          59,
          60,
          61,
          62,
          63,
          64,
          65,
          66,
          67,
          68,
          69,
          70,
          71,
          72,
          73,
          74,
          75,
          76,
          77,
          78,
          79,
          80,
          81,
          82,
          83,
          84,
          85,
          86,
          87,
          88,
          89,
          90,
          91,
          92,
          93,
          94,
          95,
          96,
          97,
          98,
          99
         ],
         "y": [
          0.4979166666666667,
          0.5008873456790124,
          0.5010030864197531,
          0.5010030864197531,
          0.5038966049382716,
          0.5038966049382716,
          0.5038966049382716,
          0.5038966049382716,
          0.5038966049382716,
          0.5038966049382716,
          0.5038966049382716,
          0.5038966049382716,
          0.5038966049382716,
          0.5038966049382716,
          0.5038966049382716,
          0.5038966049382716,
          0.5038966049382716,
          0.5038966049382716,
          0.5038966049382716,
          0.5038966049382716,
          0.5038966049382716,
          0.5038966049382716,
          0.5038966049382716,
          0.5038966049382716,
          0.5041666666666667,
          0.504591049382716,
          0.5054783950617284,
          0.5054783950617284,
          0.5054783950617284,
          0.5054783950617284,
          0.5054783950617284,
          0.5054783950617284,
          0.5054783950617284,
          0.5054783950617284,
          0.5054783950617284,
          0.5054783950617284,
          0.5054783950617284,
          0.506520061728395,
          0.5096064814814815,
          0.5100308641975309,
          0.5100308641975309,
          0.5100308641975309,
          0.5100308641975309,
          0.5100308641975309,
          0.5100308641975309,
          0.5100308641975309,
          0.5100308641975309,
          0.5100308641975309,
          0.5100308641975309,
          0.5100308641975309,
          0.5100308641975309,
          0.5100308641975309,
          0.5100308641975309,
          0.5100308641975309,
          0.5100308641975309,
          0.5100308641975309,
          0.5101851851851852,
          0.5101851851851852,
          0.5101851851851852,
          0.5101851851851852,
          0.5101851851851852,
          0.5101851851851852,
          0.5101851851851852,
          0.5101851851851852,
          0.5101851851851852,
          0.5101851851851852,
          0.5101851851851852,
          0.5101851851851852,
          0.5101851851851852,
          0.5101851851851852,
          0.5101851851851852,
          0.5101851851851852,
          0.5101851851851852,
          0.5101851851851852,
          0.5101851851851852,
          0.5101851851851852,
          0.5101851851851852,
          0.5101851851851852,
          0.5101851851851852,
          0.5101851851851852,
          0.5101851851851852,
          0.5101851851851852,
          0.5101851851851852,
          0.5101851851851852,
          0.5101851851851852,
          0.5101851851851852,
          0.5101851851851852,
          0.5101851851851852,
          0.5101851851851852,
          0.5101851851851852,
          0.5101851851851852,
          0.5101851851851852,
          0.5101851851851852,
          0.5101851851851852,
          0.5101851851851852,
          0.5101851851851852,
          0.5101851851851852,
          0.5101851851851852,
          0.5101851851851852,
          0.5101851851851852
         ]
        },
        {
         "marker": {
          "color": "#cccccc"
         },
         "mode": "markers",
         "name": "Infeasible Trial",
         "showlegend": false,
         "type": "scatter",
         "x": [],
         "y": []
        }
       ],
       "layout": {
        "template": {
         "data": {
          "bar": [
           {
            "error_x": {
             "color": "#2a3f5f"
            },
            "error_y": {
             "color": "#2a3f5f"
            },
            "marker": {
             "line": {
              "color": "#E5ECF6",
              "width": 0.5
             },
             "pattern": {
              "fillmode": "overlay",
              "size": 10,
              "solidity": 0.2
             }
            },
            "type": "bar"
           }
          ],
          "barpolar": [
           {
            "marker": {
             "line": {
              "color": "#E5ECF6",
              "width": 0.5
             },
             "pattern": {
              "fillmode": "overlay",
              "size": 10,
              "solidity": 0.2
             }
            },
            "type": "barpolar"
           }
          ],
          "carpet": [
           {
            "aaxis": {
             "endlinecolor": "#2a3f5f",
             "gridcolor": "white",
             "linecolor": "white",
             "minorgridcolor": "white",
             "startlinecolor": "#2a3f5f"
            },
            "baxis": {
             "endlinecolor": "#2a3f5f",
             "gridcolor": "white",
             "linecolor": "white",
             "minorgridcolor": "white",
             "startlinecolor": "#2a3f5f"
            },
            "type": "carpet"
           }
          ],
          "choropleth": [
           {
            "colorbar": {
             "outlinewidth": 0,
             "ticks": ""
            },
            "type": "choropleth"
           }
          ],
          "contour": [
           {
            "colorbar": {
             "outlinewidth": 0,
             "ticks": ""
            },
            "colorscale": [
             [
              0,
              "#0d0887"
             ],
             [
              0.1111111111111111,
              "#46039f"
             ],
             [
              0.2222222222222222,
              "#7201a8"
             ],
             [
              0.3333333333333333,
              "#9c179e"
             ],
             [
              0.4444444444444444,
              "#bd3786"
             ],
             [
              0.5555555555555556,
              "#d8576b"
             ],
             [
              0.6666666666666666,
              "#ed7953"
             ],
             [
              0.7777777777777778,
              "#fb9f3a"
             ],
             [
              0.8888888888888888,
              "#fdca26"
             ],
             [
              1,
              "#f0f921"
             ]
            ],
            "type": "contour"
           }
          ],
          "contourcarpet": [
           {
            "colorbar": {
             "outlinewidth": 0,
             "ticks": ""
            },
            "type": "contourcarpet"
           }
          ],
          "heatmap": [
           {
            "colorbar": {
             "outlinewidth": 0,
             "ticks": ""
            },
            "colorscale": [
             [
              0,
              "#0d0887"
             ],
             [
              0.1111111111111111,
              "#46039f"
             ],
             [
              0.2222222222222222,
              "#7201a8"
             ],
             [
              0.3333333333333333,
              "#9c179e"
             ],
             [
              0.4444444444444444,
              "#bd3786"
             ],
             [
              0.5555555555555556,
              "#d8576b"
             ],
             [
              0.6666666666666666,
              "#ed7953"
             ],
             [
              0.7777777777777778,
              "#fb9f3a"
             ],
             [
              0.8888888888888888,
              "#fdca26"
             ],
             [
              1,
              "#f0f921"
             ]
            ],
            "type": "heatmap"
           }
          ],
          "heatmapgl": [
           {
            "colorbar": {
             "outlinewidth": 0,
             "ticks": ""
            },
            "colorscale": [
             [
              0,
              "#0d0887"
             ],
             [
              0.1111111111111111,
              "#46039f"
             ],
             [
              0.2222222222222222,
              "#7201a8"
             ],
             [
              0.3333333333333333,
              "#9c179e"
             ],
             [
              0.4444444444444444,
              "#bd3786"
             ],
             [
              0.5555555555555556,
              "#d8576b"
             ],
             [
              0.6666666666666666,
              "#ed7953"
             ],
             [
              0.7777777777777778,
              "#fb9f3a"
             ],
             [
              0.8888888888888888,
              "#fdca26"
             ],
             [
              1,
              "#f0f921"
             ]
            ],
            "type": "heatmapgl"
           }
          ],
          "histogram": [
           {
            "marker": {
             "pattern": {
              "fillmode": "overlay",
              "size": 10,
              "solidity": 0.2
             }
            },
            "type": "histogram"
           }
          ],
          "histogram2d": [
           {
            "colorbar": {
             "outlinewidth": 0,
             "ticks": ""
            },
            "colorscale": [
             [
              0,
              "#0d0887"
             ],
             [
              0.1111111111111111,
              "#46039f"
             ],
             [
              0.2222222222222222,
              "#7201a8"
             ],
             [
              0.3333333333333333,
              "#9c179e"
             ],
             [
              0.4444444444444444,
              "#bd3786"
             ],
             [
              0.5555555555555556,
              "#d8576b"
             ],
             [
              0.6666666666666666,
              "#ed7953"
             ],
             [
              0.7777777777777778,
              "#fb9f3a"
             ],
             [
              0.8888888888888888,
              "#fdca26"
             ],
             [
              1,
              "#f0f921"
             ]
            ],
            "type": "histogram2d"
           }
          ],
          "histogram2dcontour": [
           {
            "colorbar": {
             "outlinewidth": 0,
             "ticks": ""
            },
            "colorscale": [
             [
              0,
              "#0d0887"
             ],
             [
              0.1111111111111111,
              "#46039f"
             ],
             [
              0.2222222222222222,
              "#7201a8"
             ],
             [
              0.3333333333333333,
              "#9c179e"
             ],
             [
              0.4444444444444444,
              "#bd3786"
             ],
             [
              0.5555555555555556,
              "#d8576b"
             ],
             [
              0.6666666666666666,
              "#ed7953"
             ],
             [
              0.7777777777777778,
              "#fb9f3a"
             ],
             [
              0.8888888888888888,
              "#fdca26"
             ],
             [
              1,
              "#f0f921"
             ]
            ],
            "type": "histogram2dcontour"
           }
          ],
          "mesh3d": [
           {
            "colorbar": {
             "outlinewidth": 0,
             "ticks": ""
            },
            "type": "mesh3d"
           }
          ],
          "parcoords": [
           {
            "line": {
             "colorbar": {
              "outlinewidth": 0,
              "ticks": ""
             }
            },
            "type": "parcoords"
           }
          ],
          "pie": [
           {
            "automargin": true,
            "type": "pie"
           }
          ],
          "scatter": [
           {
            "fillpattern": {
             "fillmode": "overlay",
             "size": 10,
             "solidity": 0.2
            },
            "type": "scatter"
           }
          ],
          "scatter3d": [
           {
            "line": {
             "colorbar": {
              "outlinewidth": 0,
              "ticks": ""
             }
            },
            "marker": {
             "colorbar": {
              "outlinewidth": 0,
              "ticks": ""
             }
            },
            "type": "scatter3d"
           }
          ],
          "scattercarpet": [
           {
            "marker": {
             "colorbar": {
              "outlinewidth": 0,
              "ticks": ""
             }
            },
            "type": "scattercarpet"
           }
          ],
          "scattergeo": [
           {
            "marker": {
             "colorbar": {
              "outlinewidth": 0,
              "ticks": ""
             }
            },
            "type": "scattergeo"
           }
          ],
          "scattergl": [
           {
            "marker": {
             "colorbar": {
              "outlinewidth": 0,
              "ticks": ""
             }
            },
            "type": "scattergl"
           }
          ],
          "scattermapbox": [
           {
            "marker": {
             "colorbar": {
              "outlinewidth": 0,
              "ticks": ""
             }
            },
            "type": "scattermapbox"
           }
          ],
          "scatterpolar": [
           {
            "marker": {
             "colorbar": {
              "outlinewidth": 0,
              "ticks": ""
             }
            },
            "type": "scatterpolar"
           }
          ],
          "scatterpolargl": [
           {
            "marker": {
             "colorbar": {
              "outlinewidth": 0,
              "ticks": ""
             }
            },
            "type": "scatterpolargl"
           }
          ],
          "scatterternary": [
           {
            "marker": {
             "colorbar": {
              "outlinewidth": 0,
              "ticks": ""
             }
            },
            "type": "scatterternary"
           }
          ],
          "surface": [
           {
            "colorbar": {
             "outlinewidth": 0,
             "ticks": ""
            },
            "colorscale": [
             [
              0,
              "#0d0887"
             ],
             [
              0.1111111111111111,
              "#46039f"
             ],
             [
              0.2222222222222222,
              "#7201a8"
             ],
             [
              0.3333333333333333,
              "#9c179e"
             ],
             [
              0.4444444444444444,
              "#bd3786"
             ],
             [
              0.5555555555555556,
              "#d8576b"
             ],
             [
              0.6666666666666666,
              "#ed7953"
             ],
             [
              0.7777777777777778,
              "#fb9f3a"
             ],
             [
              0.8888888888888888,
              "#fdca26"
             ],
             [
              1,
              "#f0f921"
             ]
            ],
            "type": "surface"
           }
          ],
          "table": [
           {
            "cells": {
             "fill": {
              "color": "#EBF0F8"
             },
             "line": {
              "color": "white"
             }
            },
            "header": {
             "fill": {
              "color": "#C8D4E3"
             },
             "line": {
              "color": "white"
             }
            },
            "type": "table"
           }
          ]
         },
         "layout": {
          "annotationdefaults": {
           "arrowcolor": "#2a3f5f",
           "arrowhead": 0,
           "arrowwidth": 1
          },
          "autotypenumbers": "strict",
          "coloraxis": {
           "colorbar": {
            "outlinewidth": 0,
            "ticks": ""
           }
          },
          "colorscale": {
           "diverging": [
            [
             0,
             "#8e0152"
            ],
            [
             0.1,
             "#c51b7d"
            ],
            [
             0.2,
             "#de77ae"
            ],
            [
             0.3,
             "#f1b6da"
            ],
            [
             0.4,
             "#fde0ef"
            ],
            [
             0.5,
             "#f7f7f7"
            ],
            [
             0.6,
             "#e6f5d0"
            ],
            [
             0.7,
             "#b8e186"
            ],
            [
             0.8,
             "#7fbc41"
            ],
            [
             0.9,
             "#4d9221"
            ],
            [
             1,
             "#276419"
            ]
           ],
           "sequential": [
            [
             0,
             "#0d0887"
            ],
            [
             0.1111111111111111,
             "#46039f"
            ],
            [
             0.2222222222222222,
             "#7201a8"
            ],
            [
             0.3333333333333333,
             "#9c179e"
            ],
            [
             0.4444444444444444,
             "#bd3786"
            ],
            [
             0.5555555555555556,
             "#d8576b"
            ],
            [
             0.6666666666666666,
             "#ed7953"
            ],
            [
             0.7777777777777778,
             "#fb9f3a"
            ],
            [
             0.8888888888888888,
             "#fdca26"
            ],
            [
             1,
             "#f0f921"
            ]
           ],
           "sequentialminus": [
            [
             0,
             "#0d0887"
            ],
            [
             0.1111111111111111,
             "#46039f"
            ],
            [
             0.2222222222222222,
             "#7201a8"
            ],
            [
             0.3333333333333333,
             "#9c179e"
            ],
            [
             0.4444444444444444,
             "#bd3786"
            ],
            [
             0.5555555555555556,
             "#d8576b"
            ],
            [
             0.6666666666666666,
             "#ed7953"
            ],
            [
             0.7777777777777778,
             "#fb9f3a"
            ],
            [
             0.8888888888888888,
             "#fdca26"
            ],
            [
             1,
             "#f0f921"
            ]
           ]
          },
          "colorway": [
           "#636efa",
           "#EF553B",
           "#00cc96",
           "#ab63fa",
           "#FFA15A",
           "#19d3f3",
           "#FF6692",
           "#B6E880",
           "#FF97FF",
           "#FECB52"
          ],
          "font": {
           "color": "#2a3f5f"
          },
          "geo": {
           "bgcolor": "white",
           "lakecolor": "white",
           "landcolor": "#E5ECF6",
           "showlakes": true,
           "showland": true,
           "subunitcolor": "white"
          },
          "hoverlabel": {
           "align": "left"
          },
          "hovermode": "closest",
          "mapbox": {
           "style": "light"
          },
          "paper_bgcolor": "white",
          "plot_bgcolor": "#E5ECF6",
          "polar": {
           "angularaxis": {
            "gridcolor": "white",
            "linecolor": "white",
            "ticks": ""
           },
           "bgcolor": "#E5ECF6",
           "radialaxis": {
            "gridcolor": "white",
            "linecolor": "white",
            "ticks": ""
           }
          },
          "scene": {
           "xaxis": {
            "backgroundcolor": "#E5ECF6",
            "gridcolor": "white",
            "gridwidth": 2,
            "linecolor": "white",
            "showbackground": true,
            "ticks": "",
            "zerolinecolor": "white"
           },
           "yaxis": {
            "backgroundcolor": "#E5ECF6",
            "gridcolor": "white",
            "gridwidth": 2,
            "linecolor": "white",
            "showbackground": true,
            "ticks": "",
            "zerolinecolor": "white"
           },
           "zaxis": {
            "backgroundcolor": "#E5ECF6",
            "gridcolor": "white",
            "gridwidth": 2,
            "linecolor": "white",
            "showbackground": true,
            "ticks": "",
            "zerolinecolor": "white"
           }
          },
          "shapedefaults": {
           "line": {
            "color": "#2a3f5f"
           }
          },
          "ternary": {
           "aaxis": {
            "gridcolor": "white",
            "linecolor": "white",
            "ticks": ""
           },
           "baxis": {
            "gridcolor": "white",
            "linecolor": "white",
            "ticks": ""
           },
           "bgcolor": "#E5ECF6",
           "caxis": {
            "gridcolor": "white",
            "linecolor": "white",
            "ticks": ""
           }
          },
          "title": {
           "x": 0.05
          },
          "xaxis": {
           "automargin": true,
           "gridcolor": "white",
           "linecolor": "white",
           "ticks": "",
           "title": {
            "standoff": 15
           },
           "zerolinecolor": "white",
           "zerolinewidth": 2
          },
          "yaxis": {
           "automargin": true,
           "gridcolor": "white",
           "linecolor": "white",
           "ticks": "",
           "title": {
            "standoff": 15
           },
           "zerolinecolor": "white",
           "zerolinewidth": 2
          }
         }
        },
        "title": {
         "text": "Optimization History Plot"
        },
        "xaxis": {
         "title": {
          "text": "Trial"
         }
        },
        "yaxis": {
         "title": {
          "text": "Objective Value"
         }
        }
       }
      }
     },
     "metadata": {},
     "output_type": "display_data"
    },
    {
     "data": {
      "application/vnd.plotly.v1+json": {
       "config": {
        "plotlyServerURL": "https://plot.ly"
       },
       "data": [
        {
         "cliponaxis": false,
         "hovertemplate": [
          "max_features (CategoricalDistribution): 0.06612506597412476<extra></extra>",
          "min_samples_split (IntDistribution): 0.08775908622224517<extra></extra>",
          "max_depth (IntDistribution): 0.10389381548099647<extra></extra>",
          "n_estimators (IntDistribution): 0.15211164037719857<extra></extra>",
          "min_samples_leaf (IntDistribution): 0.24324902575462531<extra></extra>",
          "n_components (IntDistribution): 0.34686136619080987<extra></extra>"
         ],
         "name": "Objective Value",
         "orientation": "h",
         "text": [
          "0.07",
          "0.09",
          "0.10",
          "0.15",
          "0.24",
          "0.35"
         ],
         "textposition": "outside",
         "type": "bar",
         "x": [
          0.06612506597412476,
          0.08775908622224517,
          0.10389381548099647,
          0.15211164037719857,
          0.24324902575462531,
          0.34686136619080987
         ],
         "y": [
          "max_features",
          "min_samples_split",
          "max_depth",
          "n_estimators",
          "min_samples_leaf",
          "n_components"
         ]
        }
       ],
       "layout": {
        "template": {
         "data": {
          "bar": [
           {
            "error_x": {
             "color": "#2a3f5f"
            },
            "error_y": {
             "color": "#2a3f5f"
            },
            "marker": {
             "line": {
              "color": "#E5ECF6",
              "width": 0.5
             },
             "pattern": {
              "fillmode": "overlay",
              "size": 10,
              "solidity": 0.2
             }
            },
            "type": "bar"
           }
          ],
          "barpolar": [
           {
            "marker": {
             "line": {
              "color": "#E5ECF6",
              "width": 0.5
             },
             "pattern": {
              "fillmode": "overlay",
              "size": 10,
              "solidity": 0.2
             }
            },
            "type": "barpolar"
           }
          ],
          "carpet": [
           {
            "aaxis": {
             "endlinecolor": "#2a3f5f",
             "gridcolor": "white",
             "linecolor": "white",
             "minorgridcolor": "white",
             "startlinecolor": "#2a3f5f"
            },
            "baxis": {
             "endlinecolor": "#2a3f5f",
             "gridcolor": "white",
             "linecolor": "white",
             "minorgridcolor": "white",
             "startlinecolor": "#2a3f5f"
            },
            "type": "carpet"
           }
          ],
          "choropleth": [
           {
            "colorbar": {
             "outlinewidth": 0,
             "ticks": ""
            },
            "type": "choropleth"
           }
          ],
          "contour": [
           {
            "colorbar": {
             "outlinewidth": 0,
             "ticks": ""
            },
            "colorscale": [
             [
              0,
              "#0d0887"
             ],
             [
              0.1111111111111111,
              "#46039f"
             ],
             [
              0.2222222222222222,
              "#7201a8"
             ],
             [
              0.3333333333333333,
              "#9c179e"
             ],
             [
              0.4444444444444444,
              "#bd3786"
             ],
             [
              0.5555555555555556,
              "#d8576b"
             ],
             [
              0.6666666666666666,
              "#ed7953"
             ],
             [
              0.7777777777777778,
              "#fb9f3a"
             ],
             [
              0.8888888888888888,
              "#fdca26"
             ],
             [
              1,
              "#f0f921"
             ]
            ],
            "type": "contour"
           }
          ],
          "contourcarpet": [
           {
            "colorbar": {
             "outlinewidth": 0,
             "ticks": ""
            },
            "type": "contourcarpet"
           }
          ],
          "heatmap": [
           {
            "colorbar": {
             "outlinewidth": 0,
             "ticks": ""
            },
            "colorscale": [
             [
              0,
              "#0d0887"
             ],
             [
              0.1111111111111111,
              "#46039f"
             ],
             [
              0.2222222222222222,
              "#7201a8"
             ],
             [
              0.3333333333333333,
              "#9c179e"
             ],
             [
              0.4444444444444444,
              "#bd3786"
             ],
             [
              0.5555555555555556,
              "#d8576b"
             ],
             [
              0.6666666666666666,
              "#ed7953"
             ],
             [
              0.7777777777777778,
              "#fb9f3a"
             ],
             [
              0.8888888888888888,
              "#fdca26"
             ],
             [
              1,
              "#f0f921"
             ]
            ],
            "type": "heatmap"
           }
          ],
          "heatmapgl": [
           {
            "colorbar": {
             "outlinewidth": 0,
             "ticks": ""
            },
            "colorscale": [
             [
              0,
              "#0d0887"
             ],
             [
              0.1111111111111111,
              "#46039f"
             ],
             [
              0.2222222222222222,
              "#7201a8"
             ],
             [
              0.3333333333333333,
              "#9c179e"
             ],
             [
              0.4444444444444444,
              "#bd3786"
             ],
             [
              0.5555555555555556,
              "#d8576b"
             ],
             [
              0.6666666666666666,
              "#ed7953"
             ],
             [
              0.7777777777777778,
              "#fb9f3a"
             ],
             [
              0.8888888888888888,
              "#fdca26"
             ],
             [
              1,
              "#f0f921"
             ]
            ],
            "type": "heatmapgl"
           }
          ],
          "histogram": [
           {
            "marker": {
             "pattern": {
              "fillmode": "overlay",
              "size": 10,
              "solidity": 0.2
             }
            },
            "type": "histogram"
           }
          ],
          "histogram2d": [
           {
            "colorbar": {
             "outlinewidth": 0,
             "ticks": ""
            },
            "colorscale": [
             [
              0,
              "#0d0887"
             ],
             [
              0.1111111111111111,
              "#46039f"
             ],
             [
              0.2222222222222222,
              "#7201a8"
             ],
             [
              0.3333333333333333,
              "#9c179e"
             ],
             [
              0.4444444444444444,
              "#bd3786"
             ],
             [
              0.5555555555555556,
              "#d8576b"
             ],
             [
              0.6666666666666666,
              "#ed7953"
             ],
             [
              0.7777777777777778,
              "#fb9f3a"
             ],
             [
              0.8888888888888888,
              "#fdca26"
             ],
             [
              1,
              "#f0f921"
             ]
            ],
            "type": "histogram2d"
           }
          ],
          "histogram2dcontour": [
           {
            "colorbar": {
             "outlinewidth": 0,
             "ticks": ""
            },
            "colorscale": [
             [
              0,
              "#0d0887"
             ],
             [
              0.1111111111111111,
              "#46039f"
             ],
             [
              0.2222222222222222,
              "#7201a8"
             ],
             [
              0.3333333333333333,
              "#9c179e"
             ],
             [
              0.4444444444444444,
              "#bd3786"
             ],
             [
              0.5555555555555556,
              "#d8576b"
             ],
             [
              0.6666666666666666,
              "#ed7953"
             ],
             [
              0.7777777777777778,
              "#fb9f3a"
             ],
             [
              0.8888888888888888,
              "#fdca26"
             ],
             [
              1,
              "#f0f921"
             ]
            ],
            "type": "histogram2dcontour"
           }
          ],
          "mesh3d": [
           {
            "colorbar": {
             "outlinewidth": 0,
             "ticks": ""
            },
            "type": "mesh3d"
           }
          ],
          "parcoords": [
           {
            "line": {
             "colorbar": {
              "outlinewidth": 0,
              "ticks": ""
             }
            },
            "type": "parcoords"
           }
          ],
          "pie": [
           {
            "automargin": true,
            "type": "pie"
           }
          ],
          "scatter": [
           {
            "fillpattern": {
             "fillmode": "overlay",
             "size": 10,
             "solidity": 0.2
            },
            "type": "scatter"
           }
          ],
          "scatter3d": [
           {
            "line": {
             "colorbar": {
              "outlinewidth": 0,
              "ticks": ""
             }
            },
            "marker": {
             "colorbar": {
              "outlinewidth": 0,
              "ticks": ""
             }
            },
            "type": "scatter3d"
           }
          ],
          "scattercarpet": [
           {
            "marker": {
             "colorbar": {
              "outlinewidth": 0,
              "ticks": ""
             }
            },
            "type": "scattercarpet"
           }
          ],
          "scattergeo": [
           {
            "marker": {
             "colorbar": {
              "outlinewidth": 0,
              "ticks": ""
             }
            },
            "type": "scattergeo"
           }
          ],
          "scattergl": [
           {
            "marker": {
             "colorbar": {
              "outlinewidth": 0,
              "ticks": ""
             }
            },
            "type": "scattergl"
           }
          ],
          "scattermapbox": [
           {
            "marker": {
             "colorbar": {
              "outlinewidth": 0,
              "ticks": ""
             }
            },
            "type": "scattermapbox"
           }
          ],
          "scatterpolar": [
           {
            "marker": {
             "colorbar": {
              "outlinewidth": 0,
              "ticks": ""
             }
            },
            "type": "scatterpolar"
           }
          ],
          "scatterpolargl": [
           {
            "marker": {
             "colorbar": {
              "outlinewidth": 0,
              "ticks": ""
             }
            },
            "type": "scatterpolargl"
           }
          ],
          "scatterternary": [
           {
            "marker": {
             "colorbar": {
              "outlinewidth": 0,
              "ticks": ""
             }
            },
            "type": "scatterternary"
           }
          ],
          "surface": [
           {
            "colorbar": {
             "outlinewidth": 0,
             "ticks": ""
            },
            "colorscale": [
             [
              0,
              "#0d0887"
             ],
             [
              0.1111111111111111,
              "#46039f"
             ],
             [
              0.2222222222222222,
              "#7201a8"
             ],
             [
              0.3333333333333333,
              "#9c179e"
             ],
             [
              0.4444444444444444,
              "#bd3786"
             ],
             [
              0.5555555555555556,
              "#d8576b"
             ],
             [
              0.6666666666666666,
              "#ed7953"
             ],
             [
              0.7777777777777778,
              "#fb9f3a"
             ],
             [
              0.8888888888888888,
              "#fdca26"
             ],
             [
              1,
              "#f0f921"
             ]
            ],
            "type": "surface"
           }
          ],
          "table": [
           {
            "cells": {
             "fill": {
              "color": "#EBF0F8"
             },
             "line": {
              "color": "white"
             }
            },
            "header": {
             "fill": {
              "color": "#C8D4E3"
             },
             "line": {
              "color": "white"
             }
            },
            "type": "table"
           }
          ]
         },
         "layout": {
          "annotationdefaults": {
           "arrowcolor": "#2a3f5f",
           "arrowhead": 0,
           "arrowwidth": 1
          },
          "autotypenumbers": "strict",
          "coloraxis": {
           "colorbar": {
            "outlinewidth": 0,
            "ticks": ""
           }
          },
          "colorscale": {
           "diverging": [
            [
             0,
             "#8e0152"
            ],
            [
             0.1,
             "#c51b7d"
            ],
            [
             0.2,
             "#de77ae"
            ],
            [
             0.3,
             "#f1b6da"
            ],
            [
             0.4,
             "#fde0ef"
            ],
            [
             0.5,
             "#f7f7f7"
            ],
            [
             0.6,
             "#e6f5d0"
            ],
            [
             0.7,
             "#b8e186"
            ],
            [
             0.8,
             "#7fbc41"
            ],
            [
             0.9,
             "#4d9221"
            ],
            [
             1,
             "#276419"
            ]
           ],
           "sequential": [
            [
             0,
             "#0d0887"
            ],
            [
             0.1111111111111111,
             "#46039f"
            ],
            [
             0.2222222222222222,
             "#7201a8"
            ],
            [
             0.3333333333333333,
             "#9c179e"
            ],
            [
             0.4444444444444444,
             "#bd3786"
            ],
            [
             0.5555555555555556,
             "#d8576b"
            ],
            [
             0.6666666666666666,
             "#ed7953"
            ],
            [
             0.7777777777777778,
             "#fb9f3a"
            ],
            [
             0.8888888888888888,
             "#fdca26"
            ],
            [
             1,
             "#f0f921"
            ]
           ],
           "sequentialminus": [
            [
             0,
             "#0d0887"
            ],
            [
             0.1111111111111111,
             "#46039f"
            ],
            [
             0.2222222222222222,
             "#7201a8"
            ],
            [
             0.3333333333333333,
             "#9c179e"
            ],
            [
             0.4444444444444444,
             "#bd3786"
            ],
            [
             0.5555555555555556,
             "#d8576b"
            ],
            [
             0.6666666666666666,
             "#ed7953"
            ],
            [
             0.7777777777777778,
             "#fb9f3a"
            ],
            [
             0.8888888888888888,
             "#fdca26"
            ],
            [
             1,
             "#f0f921"
            ]
           ]
          },
          "colorway": [
           "#636efa",
           "#EF553B",
           "#00cc96",
           "#ab63fa",
           "#FFA15A",
           "#19d3f3",
           "#FF6692",
           "#B6E880",
           "#FF97FF",
           "#FECB52"
          ],
          "font": {
           "color": "#2a3f5f"
          },
          "geo": {
           "bgcolor": "white",
           "lakecolor": "white",
           "landcolor": "#E5ECF6",
           "showlakes": true,
           "showland": true,
           "subunitcolor": "white"
          },
          "hoverlabel": {
           "align": "left"
          },
          "hovermode": "closest",
          "mapbox": {
           "style": "light"
          },
          "paper_bgcolor": "white",
          "plot_bgcolor": "#E5ECF6",
          "polar": {
           "angularaxis": {
            "gridcolor": "white",
            "linecolor": "white",
            "ticks": ""
           },
           "bgcolor": "#E5ECF6",
           "radialaxis": {
            "gridcolor": "white",
            "linecolor": "white",
            "ticks": ""
           }
          },
          "scene": {
           "xaxis": {
            "backgroundcolor": "#E5ECF6",
            "gridcolor": "white",
            "gridwidth": 2,
            "linecolor": "white",
            "showbackground": true,
            "ticks": "",
            "zerolinecolor": "white"
           },
           "yaxis": {
            "backgroundcolor": "#E5ECF6",
            "gridcolor": "white",
            "gridwidth": 2,
            "linecolor": "white",
            "showbackground": true,
            "ticks": "",
            "zerolinecolor": "white"
           },
           "zaxis": {
            "backgroundcolor": "#E5ECF6",
            "gridcolor": "white",
            "gridwidth": 2,
            "linecolor": "white",
            "showbackground": true,
            "ticks": "",
            "zerolinecolor": "white"
           }
          },
          "shapedefaults": {
           "line": {
            "color": "#2a3f5f"
           }
          },
          "ternary": {
           "aaxis": {
            "gridcolor": "white",
            "linecolor": "white",
            "ticks": ""
           },
           "baxis": {
            "gridcolor": "white",
            "linecolor": "white",
            "ticks": ""
           },
           "bgcolor": "#E5ECF6",
           "caxis": {
            "gridcolor": "white",
            "linecolor": "white",
            "ticks": ""
           }
          },
          "title": {
           "x": 0.05
          },
          "xaxis": {
           "automargin": true,
           "gridcolor": "white",
           "linecolor": "white",
           "ticks": "",
           "title": {
            "standoff": 15
           },
           "zerolinecolor": "white",
           "zerolinewidth": 2
          },
          "yaxis": {
           "automargin": true,
           "gridcolor": "white",
           "linecolor": "white",
           "ticks": "",
           "title": {
            "standoff": 15
           },
           "zerolinecolor": "white",
           "zerolinewidth": 2
          }
         }
        },
        "title": {
         "text": "Hyperparameter Importances"
        },
        "xaxis": {
         "title": {
          "text": "Hyperparameter Importance"
         }
        },
        "yaxis": {
         "title": {
          "text": "Hyperparameter"
         }
        }
       }
      }
     },
     "metadata": {},
     "output_type": "display_data"
    },
    {
     "data": {
      "application/vnd.plotly.v1+json": {
       "config": {
        "plotlyServerURL": "https://plot.ly"
       },
       "data": [
        {
         "marker": {
          "color": [
           0,
           1,
           2,
           3,
           4,
           5,
           6,
           7,
           8,
           9,
           10,
           11,
           12,
           13,
           17,
           19,
           22,
           23,
           24,
           25,
           26,
           27,
           28,
           30,
           32,
           33,
           34,
           37,
           38,
           39,
           42,
           43,
           44,
           45,
           47,
           48,
           49,
           51,
           52,
           53,
           55,
           56,
           57,
           60,
           61,
           62,
           64,
           65,
           68,
           70,
           71,
           75,
           77,
           81,
           82,
           85,
           87,
           91,
           92,
           95,
           96,
           97
          ],
          "colorbar": {
           "title": {
            "text": "Trial"
           },
           "x": 1,
           "xpad": 40
          },
          "colorscale": [
           [
            0,
            "rgb(247,251,255)"
           ],
           [
            0.125,
            "rgb(222,235,247)"
           ],
           [
            0.25,
            "rgb(198,219,239)"
           ],
           [
            0.375,
            "rgb(158,202,225)"
           ],
           [
            0.5,
            "rgb(107,174,214)"
           ],
           [
            0.625,
            "rgb(66,146,198)"
           ],
           [
            0.75,
            "rgb(33,113,181)"
           ],
           [
            0.875,
            "rgb(8,81,156)"
           ],
           [
            1,
            "rgb(8,48,107)"
           ]
          ],
          "line": {
           "color": "Grey",
           "width": 0.5
          },
          "showscale": true
         },
         "mode": "markers",
         "name": "Feasible Trial",
         "showlegend": false,
         "type": "scatter",
         "x": [
          17,
          25,
          30,
          10,
          14,
          26,
          2,
          8,
          27,
          2,
          19,
          13,
          21,
          14,
          24,
          16,
          27,
          28,
          22,
          23,
          22,
          22,
          19,
          23,
          20,
          17,
          17,
          23,
          28,
          29,
          28,
          29,
          30,
          30,
          28,
          26,
          26,
          29,
          28,
          29,
          27,
          28,
          27,
          30,
          30,
          30,
          30,
          29,
          30,
          4,
          27,
          24,
          24,
          24,
          24,
          28,
          11,
          24,
          23,
          20,
          24,
          29
         ],
         "xaxis": "x",
         "y": [
          0.4979166666666667,
          0.5008873456790124,
          0.5010030864197531,
          0.49753086419753084,
          0.5038966049382716,
          0.49888117283950617,
          0.4977237654320988,
          0.5006172839506173,
          0.5034722222222222,
          0.49930555555555556,
          0.5005401234567901,
          0.5010802469135802,
          0.5011574074074074,
          0.5019675925925926,
          0.5020833333333333,
          0.5012731481481482,
          0.5031635802469135,
          0.5030864197530864,
          0.5041666666666667,
          0.504591049382716,
          0.5054783950617284,
          0.5047453703703704,
          0.5032793209876543,
          0.5020447530864197,
          0.5018518518518519,
          0.5044753086419753,
          0.5040895061728395,
          0.506520061728395,
          0.5096064814814815,
          0.5100308641975309,
          0.5066743827160494,
          0.503125,
          0.5058641975308642,
          0.504128086419753,
          0.5039351851851852,
          0.5063271604938272,
          0.5040895061728395,
          0.508912037037037,
          0.5033950617283951,
          0.5054012345679012,
          0.5070987654320988,
          0.5101851851851852,
          0.5058256172839506,
          0.5080632716049382,
          0.5095293209876544,
          0.5074074074074074,
          0.5040509259259259,
          0.5041666666666667,
          0.504320987654321,
          0.5048611111111111,
          0.5089891975308642,
          0.5075617283950618,
          0.5083719135802469,
          0.5075617283950618,
          0.5077546296296296,
          0.50625,
          0.5051311728395061,
          0.506983024691358,
          0.5070987654320988,
          0.5048996913580247,
          0.5047453703703704,
          0.5059027777777778
         ],
         "yaxis": "y"
        },
        {
         "marker": {
          "color": [
           0,
           1,
           2,
           3,
           4,
           5,
           6,
           7,
           8,
           9,
           10,
           11,
           12,
           13,
           17,
           19,
           22,
           23,
           24,
           25,
           26,
           27,
           28,
           30,
           32,
           33,
           34,
           37,
           38,
           39,
           42,
           43,
           44,
           45,
           47,
           48,
           49,
           51,
           52,
           53,
           55,
           56,
           57,
           60,
           61,
           62,
           64,
           65,
           68,
           70,
           71,
           75,
           77,
           81,
           82,
           85,
           87,
           91,
           92,
           95,
           96,
           97
          ],
          "colorbar": {
           "title": {
            "text": "Trial"
           },
           "x": 1,
           "xpad": 40
          },
          "colorscale": [
           [
            0,
            "rgb(247,251,255)"
           ],
           [
            0.125,
            "rgb(222,235,247)"
           ],
           [
            0.25,
            "rgb(198,219,239)"
           ],
           [
            0.375,
            "rgb(158,202,225)"
           ],
           [
            0.5,
            "rgb(107,174,214)"
           ],
           [
            0.625,
            "rgb(66,146,198)"
           ],
           [
            0.75,
            "rgb(33,113,181)"
           ],
           [
            0.875,
            "rgb(8,81,156)"
           ],
           [
            1,
            "rgb(8,48,107)"
           ]
          ],
          "line": {
           "color": "Grey",
           "width": 0.5
          },
          "showscale": false
         },
         "mode": "markers",
         "name": "Feasible Trial",
         "showlegend": false,
         "type": "scatter",
         "x": [
          "log2",
          "sqrt",
          "log2",
          "log2",
          "sqrt",
          "sqrt",
          "log2",
          "log2",
          "sqrt",
          "log2",
          "sqrt",
          "sqrt",
          "sqrt",
          "sqrt",
          "sqrt",
          "sqrt",
          "sqrt",
          "sqrt",
          "sqrt",
          "sqrt",
          "sqrt",
          "sqrt",
          "sqrt",
          "sqrt",
          "sqrt",
          "sqrt",
          "sqrt",
          "sqrt",
          "log2",
          "log2",
          "log2",
          "log2",
          "log2",
          "log2",
          "log2",
          "log2",
          "log2",
          "log2",
          "log2",
          "log2",
          "log2",
          "log2",
          "log2",
          "log2",
          "log2",
          "log2",
          "log2",
          "log2",
          "log2",
          "log2",
          "log2",
          "log2",
          "log2",
          "log2",
          "log2",
          "log2",
          "log2",
          "log2",
          "log2",
          "log2",
          "log2",
          "log2"
         ],
         "xaxis": "x2",
         "y": [
          0.4979166666666667,
          0.5008873456790124,
          0.5010030864197531,
          0.49753086419753084,
          0.5038966049382716,
          0.49888117283950617,
          0.4977237654320988,
          0.5006172839506173,
          0.5034722222222222,
          0.49930555555555556,
          0.5005401234567901,
          0.5010802469135802,
          0.5011574074074074,
          0.5019675925925926,
          0.5020833333333333,
          0.5012731481481482,
          0.5031635802469135,
          0.5030864197530864,
          0.5041666666666667,
          0.504591049382716,
          0.5054783950617284,
          0.5047453703703704,
          0.5032793209876543,
          0.5020447530864197,
          0.5018518518518519,
          0.5044753086419753,
          0.5040895061728395,
          0.506520061728395,
          0.5096064814814815,
          0.5100308641975309,
          0.5066743827160494,
          0.503125,
          0.5058641975308642,
          0.504128086419753,
          0.5039351851851852,
          0.5063271604938272,
          0.5040895061728395,
          0.508912037037037,
          0.5033950617283951,
          0.5054012345679012,
          0.5070987654320988,
          0.5101851851851852,
          0.5058256172839506,
          0.5080632716049382,
          0.5095293209876544,
          0.5074074074074074,
          0.5040509259259259,
          0.5041666666666667,
          0.504320987654321,
          0.5048611111111111,
          0.5089891975308642,
          0.5075617283950618,
          0.5083719135802469,
          0.5075617283950618,
          0.5077546296296296,
          0.50625,
          0.5051311728395061,
          0.506983024691358,
          0.5070987654320988,
          0.5048996913580247,
          0.5047453703703704,
          0.5059027777777778
         ],
         "yaxis": "y2"
        },
        {
         "marker": {
          "color": [
           0,
           1,
           2,
           3,
           4,
           5,
           6,
           7,
           8,
           9,
           10,
           11,
           12,
           13,
           17,
           19,
           22,
           23,
           24,
           25,
           26,
           27,
           28,
           30,
           32,
           33,
           34,
           37,
           38,
           39,
           42,
           43,
           44,
           45,
           47,
           48,
           49,
           51,
           52,
           53,
           55,
           56,
           57,
           60,
           61,
           62,
           64,
           65,
           68,
           70,
           71,
           75,
           77,
           81,
           82,
           85,
           87,
           91,
           92,
           95,
           96,
           97
          ],
          "colorbar": {
           "title": {
            "text": "Trial"
           },
           "x": 1,
           "xpad": 40
          },
          "colorscale": [
           [
            0,
            "rgb(247,251,255)"
           ],
           [
            0.125,
            "rgb(222,235,247)"
           ],
           [
            0.25,
            "rgb(198,219,239)"
           ],
           [
            0.375,
            "rgb(158,202,225)"
           ],
           [
            0.5,
            "rgb(107,174,214)"
           ],
           [
            0.625,
            "rgb(66,146,198)"
           ],
           [
            0.75,
            "rgb(33,113,181)"
           ],
           [
            0.875,
            "rgb(8,81,156)"
           ],
           [
            1,
            "rgb(8,48,107)"
           ]
          ],
          "line": {
           "color": "Grey",
           "width": 0.5
          },
          "showscale": false
         },
         "mode": "markers",
         "name": "Feasible Trial",
         "showlegend": false,
         "type": "scatter",
         "x": [
          5,
          8,
          16,
          19,
          10,
          18,
          15,
          18,
          12,
          15,
          3,
          11,
          10,
          12,
          9,
          6,
          10,
          11,
          4,
          4,
          4,
          4,
          1,
          5,
          5,
          4,
          6,
          4,
          7,
          7,
          5,
          8,
          7,
          7,
          9,
          7,
          20,
          7,
          8,
          2,
          5,
          5,
          5,
          5,
          5,
          3,
          2,
          3,
          10,
          7,
          5,
          5,
          7,
          5,
          7,
          7,
          7,
          5,
          4,
          6,
          7,
          4
         ],
         "xaxis": "x3",
         "y": [
          0.4979166666666667,
          0.5008873456790124,
          0.5010030864197531,
          0.49753086419753084,
          0.5038966049382716,
          0.49888117283950617,
          0.4977237654320988,
          0.5006172839506173,
          0.5034722222222222,
          0.49930555555555556,
          0.5005401234567901,
          0.5010802469135802,
          0.5011574074074074,
          0.5019675925925926,
          0.5020833333333333,
          0.5012731481481482,
          0.5031635802469135,
          0.5030864197530864,
          0.5041666666666667,
          0.504591049382716,
          0.5054783950617284,
          0.5047453703703704,
          0.5032793209876543,
          0.5020447530864197,
          0.5018518518518519,
          0.5044753086419753,
          0.5040895061728395,
          0.506520061728395,
          0.5096064814814815,
          0.5100308641975309,
          0.5066743827160494,
          0.503125,
          0.5058641975308642,
          0.504128086419753,
          0.5039351851851852,
          0.5063271604938272,
          0.5040895061728395,
          0.508912037037037,
          0.5033950617283951,
          0.5054012345679012,
          0.5070987654320988,
          0.5101851851851852,
          0.5058256172839506,
          0.5080632716049382,
          0.5095293209876544,
          0.5074074074074074,
          0.5040509259259259,
          0.5041666666666667,
          0.504320987654321,
          0.5048611111111111,
          0.5089891975308642,
          0.5075617283950618,
          0.5083719135802469,
          0.5075617283950618,
          0.5077546296296296,
          0.50625,
          0.5051311728395061,
          0.506983024691358,
          0.5070987654320988,
          0.5048996913580247,
          0.5047453703703704,
          0.5059027777777778
         ],
         "yaxis": "y3"
        },
        {
         "marker": {
          "color": [
           0,
           1,
           2,
           3,
           4,
           5,
           6,
           7,
           8,
           9,
           10,
           11,
           12,
           13,
           17,
           19,
           22,
           23,
           24,
           25,
           26,
           27,
           28,
           30,
           32,
           33,
           34,
           37,
           38,
           39,
           42,
           43,
           44,
           45,
           47,
           48,
           49,
           51,
           52,
           53,
           55,
           56,
           57,
           60,
           61,
           62,
           64,
           65,
           68,
           70,
           71,
           75,
           77,
           81,
           82,
           85,
           87,
           91,
           92,
           95,
           96,
           97
          ],
          "colorbar": {
           "title": {
            "text": "Trial"
           },
           "x": 1,
           "xpad": 40
          },
          "colorscale": [
           [
            0,
            "rgb(247,251,255)"
           ],
           [
            0.125,
            "rgb(222,235,247)"
           ],
           [
            0.25,
            "rgb(198,219,239)"
           ],
           [
            0.375,
            "rgb(158,202,225)"
           ],
           [
            0.5,
            "rgb(107,174,214)"
           ],
           [
            0.625,
            "rgb(66,146,198)"
           ],
           [
            0.75,
            "rgb(33,113,181)"
           ],
           [
            0.875,
            "rgb(8,81,156)"
           ],
           [
            1,
            "rgb(8,48,107)"
           ]
          ],
          "line": {
           "color": "Grey",
           "width": 0.5
          },
          "showscale": false
         },
         "mode": "markers",
         "name": "Feasible Trial",
         "showlegend": false,
         "type": "scatter",
         "x": [
          12,
          16,
          7,
          9,
          19,
          18,
          15,
          13,
          14,
          7,
          2,
          20,
          20,
          16,
          18,
          17,
          14,
          14,
          13,
          8,
          5,
          4,
          4,
          5,
          4,
          12,
          7,
          11,
          3,
          3,
          5,
          6,
          3,
          2,
          3,
          2,
          2,
          4,
          4,
          5,
          4,
          4,
          4,
          5,
          5,
          4,
          5,
          8,
          3,
          5,
          4,
          4,
          6,
          3,
          4,
          6,
          3,
          4,
          3,
          5,
          2,
          4
         ],
         "xaxis": "x4",
         "y": [
          0.4979166666666667,
          0.5008873456790124,
          0.5010030864197531,
          0.49753086419753084,
          0.5038966049382716,
          0.49888117283950617,
          0.4977237654320988,
          0.5006172839506173,
          0.5034722222222222,
          0.49930555555555556,
          0.5005401234567901,
          0.5010802469135802,
          0.5011574074074074,
          0.5019675925925926,
          0.5020833333333333,
          0.5012731481481482,
          0.5031635802469135,
          0.5030864197530864,
          0.5041666666666667,
          0.504591049382716,
          0.5054783950617284,
          0.5047453703703704,
          0.5032793209876543,
          0.5020447530864197,
          0.5018518518518519,
          0.5044753086419753,
          0.5040895061728395,
          0.506520061728395,
          0.5096064814814815,
          0.5100308641975309,
          0.5066743827160494,
          0.503125,
          0.5058641975308642,
          0.504128086419753,
          0.5039351851851852,
          0.5063271604938272,
          0.5040895061728395,
          0.508912037037037,
          0.5033950617283951,
          0.5054012345679012,
          0.5070987654320988,
          0.5101851851851852,
          0.5058256172839506,
          0.5080632716049382,
          0.5095293209876544,
          0.5074074074074074,
          0.5040509259259259,
          0.5041666666666667,
          0.504320987654321,
          0.5048611111111111,
          0.5089891975308642,
          0.5075617283950618,
          0.5083719135802469,
          0.5075617283950618,
          0.5077546296296296,
          0.50625,
          0.5051311728395061,
          0.506983024691358,
          0.5070987654320988,
          0.5048996913580247,
          0.5047453703703704,
          0.5059027777777778
         ],
         "yaxis": "y4"
        },
        {
         "marker": {
          "color": [
           0,
           1,
           2,
           3,
           4,
           5,
           6,
           7,
           8,
           9,
           10,
           11,
           12,
           13,
           17,
           19,
           22,
           23,
           24,
           25,
           26,
           27,
           28,
           30,
           32,
           33,
           34,
           37,
           38,
           39,
           42,
           43,
           44,
           45,
           47,
           48,
           49,
           51,
           52,
           53,
           55,
           56,
           57,
           60,
           61,
           62,
           64,
           65,
           68,
           70,
           71,
           75,
           77,
           81,
           82,
           85,
           87,
           91,
           92,
           95,
           96,
           97
          ],
          "colorbar": {
           "title": {
            "text": "Trial"
           },
           "x": 1,
           "xpad": 40
          },
          "colorscale": [
           [
            0,
            "rgb(247,251,255)"
           ],
           [
            0.125,
            "rgb(222,235,247)"
           ],
           [
            0.25,
            "rgb(198,219,239)"
           ],
           [
            0.375,
            "rgb(158,202,225)"
           ],
           [
            0.5,
            "rgb(107,174,214)"
           ],
           [
            0.625,
            "rgb(66,146,198)"
           ],
           [
            0.75,
            "rgb(33,113,181)"
           ],
           [
            0.875,
            "rgb(8,81,156)"
           ],
           [
            1,
            "rgb(8,48,107)"
           ]
          ],
          "line": {
           "color": "Grey",
           "width": 0.5
          },
          "showscale": false
         },
         "mode": "markers",
         "name": "Feasible Trial",
         "showlegend": false,
         "type": "scatter",
         "x": [
          3,
          18,
          3,
          8,
          17,
          7,
          4,
          17,
          4,
          10,
          14,
          12,
          1,
          15,
          12,
          1,
          17,
          16,
          18,
          18,
          18,
          18,
          15,
          16,
          18,
          16,
          16,
          17,
          17,
          17,
          17,
          17,
          17,
          15,
          16,
          17,
          15,
          17,
          17,
          16,
          17,
          17,
          11,
          17,
          17,
          16,
          18,
          16,
          15,
          14,
          17,
          17,
          17,
          17,
          17,
          18,
          18,
          17,
          17,
          17,
          16,
          17
         ],
         "xaxis": "x5",
         "y": [
          0.4979166666666667,
          0.5008873456790124,
          0.5010030864197531,
          0.49753086419753084,
          0.5038966049382716,
          0.49888117283950617,
          0.4977237654320988,
          0.5006172839506173,
          0.5034722222222222,
          0.49930555555555556,
          0.5005401234567901,
          0.5010802469135802,
          0.5011574074074074,
          0.5019675925925926,
          0.5020833333333333,
          0.5012731481481482,
          0.5031635802469135,
          0.5030864197530864,
          0.5041666666666667,
          0.504591049382716,
          0.5054783950617284,
          0.5047453703703704,
          0.5032793209876543,
          0.5020447530864197,
          0.5018518518518519,
          0.5044753086419753,
          0.5040895061728395,
          0.506520061728395,
          0.5096064814814815,
          0.5100308641975309,
          0.5066743827160494,
          0.503125,
          0.5058641975308642,
          0.504128086419753,
          0.5039351851851852,
          0.5063271604938272,
          0.5040895061728395,
          0.508912037037037,
          0.5033950617283951,
          0.5054012345679012,
          0.5070987654320988,
          0.5101851851851852,
          0.5058256172839506,
          0.5080632716049382,
          0.5095293209876544,
          0.5074074074074074,
          0.5040509259259259,
          0.5041666666666667,
          0.504320987654321,
          0.5048611111111111,
          0.5089891975308642,
          0.5075617283950618,
          0.5083719135802469,
          0.5075617283950618,
          0.5077546296296296,
          0.50625,
          0.5051311728395061,
          0.506983024691358,
          0.5070987654320988,
          0.5048996913580247,
          0.5047453703703704,
          0.5059027777777778
         ],
         "yaxis": "y5"
        },
        {
         "marker": {
          "color": [
           0,
           1,
           2,
           3,
           4,
           5,
           6,
           7,
           8,
           9,
           10,
           11,
           12,
           13,
           17,
           19,
           22,
           23,
           24,
           25,
           26,
           27,
           28,
           30,
           32,
           33,
           34,
           37,
           38,
           39,
           42,
           43,
           44,
           45,
           47,
           48,
           49,
           51,
           52,
           53,
           55,
           56,
           57,
           60,
           61,
           62,
           64,
           65,
           68,
           70,
           71,
           75,
           77,
           81,
           82,
           85,
           87,
           91,
           92,
           95,
           96,
           97
          ],
          "colorbar": {
           "title": {
            "text": "Trial"
           },
           "x": 1,
           "xpad": 40
          },
          "colorscale": [
           [
            0,
            "rgb(247,251,255)"
           ],
           [
            0.125,
            "rgb(222,235,247)"
           ],
           [
            0.25,
            "rgb(198,219,239)"
           ],
           [
            0.375,
            "rgb(158,202,225)"
           ],
           [
            0.5,
            "rgb(107,174,214)"
           ],
           [
            0.625,
            "rgb(66,146,198)"
           ],
           [
            0.75,
            "rgb(33,113,181)"
           ],
           [
            0.875,
            "rgb(8,81,156)"
           ],
           [
            1,
            "rgb(8,48,107)"
           ]
          ],
          "line": {
           "color": "Grey",
           "width": 0.5
          },
          "showscale": false
         },
         "mode": "markers",
         "name": "Feasible Trial",
         "showlegend": false,
         "type": "scatter",
         "x": [
          193,
          166,
          160,
          154,
          38,
          50,
          68,
          172,
          10,
          78,
          115,
          20,
          10,
          38,
          99,
          120,
          134,
          143,
          56,
          53,
          54,
          56,
          82,
          71,
          56,
          194,
          178,
          25,
          31,
          29,
          25,
          25,
          20,
          19,
          43,
          18,
          34,
          19,
          16,
          27,
          36,
          38,
          38,
          45,
          39,
          46,
          41,
          72,
          31,
          112,
          39,
          32,
          31,
          32,
          30,
          36,
          28,
          31,
          35,
          17,
          51,
          156
         ],
         "xaxis": "x6",
         "y": [
          0.4979166666666667,
          0.5008873456790124,
          0.5010030864197531,
          0.49753086419753084,
          0.5038966049382716,
          0.49888117283950617,
          0.4977237654320988,
          0.5006172839506173,
          0.5034722222222222,
          0.49930555555555556,
          0.5005401234567901,
          0.5010802469135802,
          0.5011574074074074,
          0.5019675925925926,
          0.5020833333333333,
          0.5012731481481482,
          0.5031635802469135,
          0.5030864197530864,
          0.5041666666666667,
          0.504591049382716,
          0.5054783950617284,
          0.5047453703703704,
          0.5032793209876543,
          0.5020447530864197,
          0.5018518518518519,
          0.5044753086419753,
          0.5040895061728395,
          0.506520061728395,
          0.5096064814814815,
          0.5100308641975309,
          0.5066743827160494,
          0.503125,
          0.5058641975308642,
          0.504128086419753,
          0.5039351851851852,
          0.5063271604938272,
          0.5040895061728395,
          0.508912037037037,
          0.5033950617283951,
          0.5054012345679012,
          0.5070987654320988,
          0.5101851851851852,
          0.5058256172839506,
          0.5080632716049382,
          0.5095293209876544,
          0.5074074074074074,
          0.5040509259259259,
          0.5041666666666667,
          0.504320987654321,
          0.5048611111111111,
          0.5089891975308642,
          0.5075617283950618,
          0.5083719135802469,
          0.5075617283950618,
          0.5077546296296296,
          0.50625,
          0.5051311728395061,
          0.506983024691358,
          0.5070987654320988,
          0.5048996913580247,
          0.5047453703703704,
          0.5059027777777778
         ],
         "yaxis": "y6"
        }
       ],
       "layout": {
        "template": {
         "data": {
          "bar": [
           {
            "error_x": {
             "color": "#2a3f5f"
            },
            "error_y": {
             "color": "#2a3f5f"
            },
            "marker": {
             "line": {
              "color": "#E5ECF6",
              "width": 0.5
             },
             "pattern": {
              "fillmode": "overlay",
              "size": 10,
              "solidity": 0.2
             }
            },
            "type": "bar"
           }
          ],
          "barpolar": [
           {
            "marker": {
             "line": {
              "color": "#E5ECF6",
              "width": 0.5
             },
             "pattern": {
              "fillmode": "overlay",
              "size": 10,
              "solidity": 0.2
             }
            },
            "type": "barpolar"
           }
          ],
          "carpet": [
           {
            "aaxis": {
             "endlinecolor": "#2a3f5f",
             "gridcolor": "white",
             "linecolor": "white",
             "minorgridcolor": "white",
             "startlinecolor": "#2a3f5f"
            },
            "baxis": {
             "endlinecolor": "#2a3f5f",
             "gridcolor": "white",
             "linecolor": "white",
             "minorgridcolor": "white",
             "startlinecolor": "#2a3f5f"
            },
            "type": "carpet"
           }
          ],
          "choropleth": [
           {
            "colorbar": {
             "outlinewidth": 0,
             "ticks": ""
            },
            "type": "choropleth"
           }
          ],
          "contour": [
           {
            "colorbar": {
             "outlinewidth": 0,
             "ticks": ""
            },
            "colorscale": [
             [
              0,
              "#0d0887"
             ],
             [
              0.1111111111111111,
              "#46039f"
             ],
             [
              0.2222222222222222,
              "#7201a8"
             ],
             [
              0.3333333333333333,
              "#9c179e"
             ],
             [
              0.4444444444444444,
              "#bd3786"
             ],
             [
              0.5555555555555556,
              "#d8576b"
             ],
             [
              0.6666666666666666,
              "#ed7953"
             ],
             [
              0.7777777777777778,
              "#fb9f3a"
             ],
             [
              0.8888888888888888,
              "#fdca26"
             ],
             [
              1,
              "#f0f921"
             ]
            ],
            "type": "contour"
           }
          ],
          "contourcarpet": [
           {
            "colorbar": {
             "outlinewidth": 0,
             "ticks": ""
            },
            "type": "contourcarpet"
           }
          ],
          "heatmap": [
           {
            "colorbar": {
             "outlinewidth": 0,
             "ticks": ""
            },
            "colorscale": [
             [
              0,
              "#0d0887"
             ],
             [
              0.1111111111111111,
              "#46039f"
             ],
             [
              0.2222222222222222,
              "#7201a8"
             ],
             [
              0.3333333333333333,
              "#9c179e"
             ],
             [
              0.4444444444444444,
              "#bd3786"
             ],
             [
              0.5555555555555556,
              "#d8576b"
             ],
             [
              0.6666666666666666,
              "#ed7953"
             ],
             [
              0.7777777777777778,
              "#fb9f3a"
             ],
             [
              0.8888888888888888,
              "#fdca26"
             ],
             [
              1,
              "#f0f921"
             ]
            ],
            "type": "heatmap"
           }
          ],
          "heatmapgl": [
           {
            "colorbar": {
             "outlinewidth": 0,
             "ticks": ""
            },
            "colorscale": [
             [
              0,
              "#0d0887"
             ],
             [
              0.1111111111111111,
              "#46039f"
             ],
             [
              0.2222222222222222,
              "#7201a8"
             ],
             [
              0.3333333333333333,
              "#9c179e"
             ],
             [
              0.4444444444444444,
              "#bd3786"
             ],
             [
              0.5555555555555556,
              "#d8576b"
             ],
             [
              0.6666666666666666,
              "#ed7953"
             ],
             [
              0.7777777777777778,
              "#fb9f3a"
             ],
             [
              0.8888888888888888,
              "#fdca26"
             ],
             [
              1,
              "#f0f921"
             ]
            ],
            "type": "heatmapgl"
           }
          ],
          "histogram": [
           {
            "marker": {
             "pattern": {
              "fillmode": "overlay",
              "size": 10,
              "solidity": 0.2
             }
            },
            "type": "histogram"
           }
          ],
          "histogram2d": [
           {
            "colorbar": {
             "outlinewidth": 0,
             "ticks": ""
            },
            "colorscale": [
             [
              0,
              "#0d0887"
             ],
             [
              0.1111111111111111,
              "#46039f"
             ],
             [
              0.2222222222222222,
              "#7201a8"
             ],
             [
              0.3333333333333333,
              "#9c179e"
             ],
             [
              0.4444444444444444,
              "#bd3786"
             ],
             [
              0.5555555555555556,
              "#d8576b"
             ],
             [
              0.6666666666666666,
              "#ed7953"
             ],
             [
              0.7777777777777778,
              "#fb9f3a"
             ],
             [
              0.8888888888888888,
              "#fdca26"
             ],
             [
              1,
              "#f0f921"
             ]
            ],
            "type": "histogram2d"
           }
          ],
          "histogram2dcontour": [
           {
            "colorbar": {
             "outlinewidth": 0,
             "ticks": ""
            },
            "colorscale": [
             [
              0,
              "#0d0887"
             ],
             [
              0.1111111111111111,
              "#46039f"
             ],
             [
              0.2222222222222222,
              "#7201a8"
             ],
             [
              0.3333333333333333,
              "#9c179e"
             ],
             [
              0.4444444444444444,
              "#bd3786"
             ],
             [
              0.5555555555555556,
              "#d8576b"
             ],
             [
              0.6666666666666666,
              "#ed7953"
             ],
             [
              0.7777777777777778,
              "#fb9f3a"
             ],
             [
              0.8888888888888888,
              "#fdca26"
             ],
             [
              1,
              "#f0f921"
             ]
            ],
            "type": "histogram2dcontour"
           }
          ],
          "mesh3d": [
           {
            "colorbar": {
             "outlinewidth": 0,
             "ticks": ""
            },
            "type": "mesh3d"
           }
          ],
          "parcoords": [
           {
            "line": {
             "colorbar": {
              "outlinewidth": 0,
              "ticks": ""
             }
            },
            "type": "parcoords"
           }
          ],
          "pie": [
           {
            "automargin": true,
            "type": "pie"
           }
          ],
          "scatter": [
           {
            "fillpattern": {
             "fillmode": "overlay",
             "size": 10,
             "solidity": 0.2
            },
            "type": "scatter"
           }
          ],
          "scatter3d": [
           {
            "line": {
             "colorbar": {
              "outlinewidth": 0,
              "ticks": ""
             }
            },
            "marker": {
             "colorbar": {
              "outlinewidth": 0,
              "ticks": ""
             }
            },
            "type": "scatter3d"
           }
          ],
          "scattercarpet": [
           {
            "marker": {
             "colorbar": {
              "outlinewidth": 0,
              "ticks": ""
             }
            },
            "type": "scattercarpet"
           }
          ],
          "scattergeo": [
           {
            "marker": {
             "colorbar": {
              "outlinewidth": 0,
              "ticks": ""
             }
            },
            "type": "scattergeo"
           }
          ],
          "scattergl": [
           {
            "marker": {
             "colorbar": {
              "outlinewidth": 0,
              "ticks": ""
             }
            },
            "type": "scattergl"
           }
          ],
          "scattermapbox": [
           {
            "marker": {
             "colorbar": {
              "outlinewidth": 0,
              "ticks": ""
             }
            },
            "type": "scattermapbox"
           }
          ],
          "scatterpolar": [
           {
            "marker": {
             "colorbar": {
              "outlinewidth": 0,
              "ticks": ""
             }
            },
            "type": "scatterpolar"
           }
          ],
          "scatterpolargl": [
           {
            "marker": {
             "colorbar": {
              "outlinewidth": 0,
              "ticks": ""
             }
            },
            "type": "scatterpolargl"
           }
          ],
          "scatterternary": [
           {
            "marker": {
             "colorbar": {
              "outlinewidth": 0,
              "ticks": ""
             }
            },
            "type": "scatterternary"
           }
          ],
          "surface": [
           {
            "colorbar": {
             "outlinewidth": 0,
             "ticks": ""
            },
            "colorscale": [
             [
              0,
              "#0d0887"
             ],
             [
              0.1111111111111111,
              "#46039f"
             ],
             [
              0.2222222222222222,
              "#7201a8"
             ],
             [
              0.3333333333333333,
              "#9c179e"
             ],
             [
              0.4444444444444444,
              "#bd3786"
             ],
             [
              0.5555555555555556,
              "#d8576b"
             ],
             [
              0.6666666666666666,
              "#ed7953"
             ],
             [
              0.7777777777777778,
              "#fb9f3a"
             ],
             [
              0.8888888888888888,
              "#fdca26"
             ],
             [
              1,
              "#f0f921"
             ]
            ],
            "type": "surface"
           }
          ],
          "table": [
           {
            "cells": {
             "fill": {
              "color": "#EBF0F8"
             },
             "line": {
              "color": "white"
             }
            },
            "header": {
             "fill": {
              "color": "#C8D4E3"
             },
             "line": {
              "color": "white"
             }
            },
            "type": "table"
           }
          ]
         },
         "layout": {
          "annotationdefaults": {
           "arrowcolor": "#2a3f5f",
           "arrowhead": 0,
           "arrowwidth": 1
          },
          "autotypenumbers": "strict",
          "coloraxis": {
           "colorbar": {
            "outlinewidth": 0,
            "ticks": ""
           }
          },
          "colorscale": {
           "diverging": [
            [
             0,
             "#8e0152"
            ],
            [
             0.1,
             "#c51b7d"
            ],
            [
             0.2,
             "#de77ae"
            ],
            [
             0.3,
             "#f1b6da"
            ],
            [
             0.4,
             "#fde0ef"
            ],
            [
             0.5,
             "#f7f7f7"
            ],
            [
             0.6,
             "#e6f5d0"
            ],
            [
             0.7,
             "#b8e186"
            ],
            [
             0.8,
             "#7fbc41"
            ],
            [
             0.9,
             "#4d9221"
            ],
            [
             1,
             "#276419"
            ]
           ],
           "sequential": [
            [
             0,
             "#0d0887"
            ],
            [
             0.1111111111111111,
             "#46039f"
            ],
            [
             0.2222222222222222,
             "#7201a8"
            ],
            [
             0.3333333333333333,
             "#9c179e"
            ],
            [
             0.4444444444444444,
             "#bd3786"
            ],
            [
             0.5555555555555556,
             "#d8576b"
            ],
            [
             0.6666666666666666,
             "#ed7953"
            ],
            [
             0.7777777777777778,
             "#fb9f3a"
            ],
            [
             0.8888888888888888,
             "#fdca26"
            ],
            [
             1,
             "#f0f921"
            ]
           ],
           "sequentialminus": [
            [
             0,
             "#0d0887"
            ],
            [
             0.1111111111111111,
             "#46039f"
            ],
            [
             0.2222222222222222,
             "#7201a8"
            ],
            [
             0.3333333333333333,
             "#9c179e"
            ],
            [
             0.4444444444444444,
             "#bd3786"
            ],
            [
             0.5555555555555556,
             "#d8576b"
            ],
            [
             0.6666666666666666,
             "#ed7953"
            ],
            [
             0.7777777777777778,
             "#fb9f3a"
            ],
            [
             0.8888888888888888,
             "#fdca26"
            ],
            [
             1,
             "#f0f921"
            ]
           ]
          },
          "colorway": [
           "#636efa",
           "#EF553B",
           "#00cc96",
           "#ab63fa",
           "#FFA15A",
           "#19d3f3",
           "#FF6692",
           "#B6E880",
           "#FF97FF",
           "#FECB52"
          ],
          "font": {
           "color": "#2a3f5f"
          },
          "geo": {
           "bgcolor": "white",
           "lakecolor": "white",
           "landcolor": "#E5ECF6",
           "showlakes": true,
           "showland": true,
           "subunitcolor": "white"
          },
          "hoverlabel": {
           "align": "left"
          },
          "hovermode": "closest",
          "mapbox": {
           "style": "light"
          },
          "paper_bgcolor": "white",
          "plot_bgcolor": "#E5ECF6",
          "polar": {
           "angularaxis": {
            "gridcolor": "white",
            "linecolor": "white",
            "ticks": ""
           },
           "bgcolor": "#E5ECF6",
           "radialaxis": {
            "gridcolor": "white",
            "linecolor": "white",
            "ticks": ""
           }
          },
          "scene": {
           "xaxis": {
            "backgroundcolor": "#E5ECF6",
            "gridcolor": "white",
            "gridwidth": 2,
            "linecolor": "white",
            "showbackground": true,
            "ticks": "",
            "zerolinecolor": "white"
           },
           "yaxis": {
            "backgroundcolor": "#E5ECF6",
            "gridcolor": "white",
            "gridwidth": 2,
            "linecolor": "white",
            "showbackground": true,
            "ticks": "",
            "zerolinecolor": "white"
           },
           "zaxis": {
            "backgroundcolor": "#E5ECF6",
            "gridcolor": "white",
            "gridwidth": 2,
            "linecolor": "white",
            "showbackground": true,
            "ticks": "",
            "zerolinecolor": "white"
           }
          },
          "shapedefaults": {
           "line": {
            "color": "#2a3f5f"
           }
          },
          "ternary": {
           "aaxis": {
            "gridcolor": "white",
            "linecolor": "white",
            "ticks": ""
           },
           "baxis": {
            "gridcolor": "white",
            "linecolor": "white",
            "ticks": ""
           },
           "bgcolor": "#E5ECF6",
           "caxis": {
            "gridcolor": "white",
            "linecolor": "white",
            "ticks": ""
           }
          },
          "title": {
           "x": 0.05
          },
          "xaxis": {
           "automargin": true,
           "gridcolor": "white",
           "linecolor": "white",
           "ticks": "",
           "title": {
            "standoff": 15
           },
           "zerolinecolor": "white",
           "zerolinewidth": 2
          },
          "yaxis": {
           "automargin": true,
           "gridcolor": "white",
           "linecolor": "white",
           "ticks": "",
           "title": {
            "standoff": 15
           },
           "zerolinecolor": "white",
           "zerolinewidth": 2
          }
         }
        },
        "title": {
         "text": "Slice Plot"
        },
        "width": 1800,
        "xaxis": {
         "anchor": "y",
         "domain": [
          0,
          0.1388888888888889
         ],
         "title": {
          "text": "max_depth"
         }
        },
        "xaxis2": {
         "anchor": "y2",
         "categoryarray": [
          "sqrt",
          "log2"
         ],
         "categoryorder": "array",
         "domain": [
          0.17222222222222222,
          0.3111111111111111
         ],
         "title": {
          "text": "max_features"
         },
         "type": "category"
        },
        "xaxis3": {
         "anchor": "y3",
         "domain": [
          0.34444444444444444,
          0.48333333333333334
         ],
         "title": {
          "text": "min_samples_leaf"
         }
        },
        "xaxis4": {
         "anchor": "y4",
         "domain": [
          0.5166666666666667,
          0.6555555555555557
         ],
         "title": {
          "text": "min_samples_split"
         }
        },
        "xaxis5": {
         "anchor": "y5",
         "domain": [
          0.6888888888888889,
          0.8277777777777777
         ],
         "title": {
          "text": "n_components"
         }
        },
        "xaxis6": {
         "anchor": "y6",
         "domain": [
          0.861111111111111,
          1
         ],
         "title": {
          "text": "n_estimators"
         }
        },
        "yaxis": {
         "anchor": "x",
         "domain": [
          0,
          1
         ],
         "title": {
          "text": "Objective Value"
         }
        },
        "yaxis2": {
         "anchor": "x2",
         "domain": [
          0,
          1
         ],
         "matches": "y",
         "showticklabels": false
        },
        "yaxis3": {
         "anchor": "x3",
         "domain": [
          0,
          1
         ],
         "matches": "y",
         "showticklabels": false
        },
        "yaxis4": {
         "anchor": "x4",
         "domain": [
          0,
          1
         ],
         "matches": "y",
         "showticklabels": false
        },
        "yaxis5": {
         "anchor": "x5",
         "domain": [
          0,
          1
         ],
         "matches": "y",
         "showticklabels": false
        },
        "yaxis6": {
         "anchor": "x6",
         "domain": [
          0,
          1
         ],
         "matches": "y",
         "showticklabels": false
        }
       }
      }
     },
     "metadata": {},
     "output_type": "display_data"
    },
    {
     "name": "stdout",
     "output_type": "stream",
     "text": [
      "Test Accuracy: 0.4939\n"
     ]
    }
   ],
   "source": [
    "import numpy as np\n",
    "import joblib  # for saving the model\n",
    "from sklearn.model_selection import train_test_split\n",
    "from sklearn.preprocessing import StandardScaler\n",
    "from sklearn.metrics import accuracy_score\n",
    "from sklearn.decomposition import PCA\n",
    "from sklearn.ensemble import RandomForestClassifier\n",
    "import optuna\n",
    "import optuna.visualization as vis\n",
    "\n",
    "n = 18\n",
    "\n",
    "X = np.load('Datasets/kryptonite-%s-X.npy' % (n))\n",
    "y = np.load('Datasets/kryptonite-%s-y.npy' % (n))\n",
    "\n",
    "X_train_total, X_test, y_train_total, y_test = train_test_split(X, y, test_size=0.1, random_state=42)  # 10% of all data for final model evaluation\n",
    "\n",
    "# To hold the best model and accuracy score\n",
    "best_model = None\n",
    "best_accuracy = -1\n",
    "\n",
    "def objective(trial):\n",
    "    global best_model, best_scaler, best_accuracy, best_pca\n",
    "\n",
    "    # Shuffle and split data\n",
    "    X_train, X_val, y_train, y_val = train_test_split(X_train_total, y_train_total, test_size=0.8, random_state=42)\n",
    "\n",
    "    # Feature scaling\n",
    "    scaler = StandardScaler()\n",
    "    X_train_scaled = scaler.fit_transform(X_train)\n",
    "    X_val_scaled = scaler.transform(X_val)\n",
    "\n",
    "    # PCA dimensionality reduction\n",
    "    pca = PCA(n_components=trial.suggest_int('n_components', 1, X_train_scaled.shape[1]))\n",
    "    X_train_scaled = pca.fit_transform(X_train_scaled)\n",
    "    X_val_scaled = pca.transform(X_val_scaled)\n",
    "\n",
    "    # Random Forest Classifier parameters\n",
    "    classifier = RandomForestClassifier(\n",
    "        n_estimators=trial.suggest_int('n_estimators', 10, 200),\n",
    "        max_depth=trial.suggest_int('max_depth', 1, 30),\n",
    "        min_samples_split=trial.suggest_int('min_samples_split', 2, 20),\n",
    "        min_samples_leaf=trial.suggest_int('min_samples_leaf', 1, 20),\n",
    "        max_features=trial.suggest_categorical('max_features', ['sqrt', 'log2']),\n",
    "        random_state=42,\n",
    "        n_jobs=-1\n",
    "    )\n",
    "\n",
    "    # Train the classifier\n",
    "    classifier.fit(X_train_scaled, y_train)\n",
    "\n",
    "    # Evaluate on the validation set\n",
    "    y_val_pred = classifier.predict(X_val_scaled)\n",
    "    val_accuracy = accuracy_score(y_val, y_val_pred)\n",
    "\n",
    "    # Report validation accuracy for pruning\n",
    "    trial.report(val_accuracy, step=0)\n",
    "\n",
    "    # Check if the trial should be pruned\n",
    "    if trial.should_prune():\n",
    "        raise optuna.TrialPruned()\n",
    "\n",
    "    # If this is the best model so far, save it\n",
    "    if val_accuracy > best_accuracy:\n",
    "        best_accuracy = val_accuracy\n",
    "        best_model = classifier  # Update the best model\n",
    "        best_scaler = scaler\n",
    "        best_pca = pca\n",
    "        # Save the best model\n",
    "        joblib.dump(best_model, 'best_rf_model.joblib')\n",
    "        print(f\"New best model saved with accuracy: {best_accuracy:.4f}\")\n",
    "\n",
    "    return val_accuracy\n",
    "\n",
    "# Create a study object with a pruner\n",
    "pruner = optuna.pruners.MedianPruner(n_startup_trials=10)\n",
    "study = optuna.create_study(direction=\"maximize\", pruner=pruner)\n",
    "\n",
    "# Optimize the objective function\n",
    "study.optimize(objective, n_trials=100)\n",
    "\n",
    "print(\"Best hyperparameters:\", study.best_params)\n",
    "print(\"Best value:\", study.best_value)\n",
    "# print(\"Best model saved as 'best_rf_model_dim_{n}.joblib'.\")\n",
    "\n",
    "# Optional: Visualize optimization results\n",
    "vis.plot_optimization_history(study).show()\n",
    "vis.plot_param_importances(study).show()\n",
    "vis.plot_slice(study).show()\n",
    "\n",
    "# Evaluate on the test set\n",
    "X_test_scaled = best_scaler.transform(X_test)\n",
    "X_test_scaled = best_pca.transform(X_test_scaled)\n",
    "y_test_pred = best_model.predict(X_test_scaled)\n",
    "test_accuracy = accuracy_score(y_test, y_test_pred)\n",
    "print(f\"Test Accuracy: {test_accuracy:.4f}\")"
   ]
  }
 ],
 "metadata": {
  "kernelspec": {
   "display_name": ".venv",
   "language": "python",
   "name": "python3"
  },
  "language_info": {
   "codemirror_mode": {
    "name": "ipython",
    "version": 3
   },
   "file_extension": ".py",
   "mimetype": "text/x-python",
   "name": "python",
   "nbconvert_exporter": "python",
   "pygments_lexer": "ipython3",
   "version": "3.12.0"
  }
 },
 "nbformat": 4,
 "nbformat_minor": 2
}
