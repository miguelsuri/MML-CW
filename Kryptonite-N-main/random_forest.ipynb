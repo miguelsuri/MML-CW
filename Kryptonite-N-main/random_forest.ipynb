{
 "cells": [
  {
   "cell_type": "code",
   "execution_count": null,
   "metadata": {},
   "outputs": [
    {
     "name": "stderr",
     "output_type": "stream",
     "text": [
      "[I 2024-11-12 09:49:28,485] A new study created in memory with name: no-name-b19b546a-b4bd-4ea9-8b7a-abd8ddcd02ce\n",
      "[I 2024-11-12 09:49:28,987] Trial 0 finished with value: 0.5038194444444445 and parameters: {'use_pca': 'False', 'n_estimators': 250, 'max_depth': 5, 'min_samples_split': 15, 'min_samples_leaf': 3, 'max_features': 'sqrt'}. Best is trial 0 with value: 0.5038194444444445.\n",
      "[I 2024-11-12 09:49:29,293] Trial 1 finished with value: 0.5022222222222222 and parameters: {'use_pca': 'False', 'n_estimators': 100, 'max_depth': 20, 'min_samples_split': 4, 'min_samples_leaf': 3, 'max_features': 'log2'}. Best is trial 0 with value: 0.5038194444444445.\n",
      "[I 2024-11-12 09:49:29,748] Trial 2 finished with value: 0.5070138888888889 and parameters: {'use_pca': 'False', 'n_estimators': 200, 'max_depth': 10, 'min_samples_split': 9, 'min_samples_leaf': 8, 'max_features': 'log2'}. Best is trial 2 with value: 0.5070138888888889.\n",
      "[I 2024-11-12 09:49:30,345] Trial 3 finished with value: 0.5038194444444445 and parameters: {'use_pca': 'False', 'n_estimators': 250, 'max_depth': 10, 'min_samples_split': 4, 'min_samples_leaf': 1, 'max_features': 'log2'}. Best is trial 2 with value: 0.5070138888888889.\n",
      "[I 2024-11-12 09:49:30,910] Trial 4 finished with value: 0.4897916666666667 and parameters: {'use_pca': 'True', 'n_pca_components': 7, 'n_estimators': 250, 'max_depth': 20, 'min_samples_split': 14, 'min_samples_leaf': 9, 'max_features': 'sqrt'}. Best is trial 2 with value: 0.5070138888888889.\n",
      "[I 2024-11-12 09:49:31,380] Trial 5 finished with value: 0.5042361111111111 and parameters: {'use_pca': 'False', 'n_estimators': 250, 'max_depth': 5, 'min_samples_split': 14, 'min_samples_leaf': 6, 'max_features': 'log2'}. Best is trial 2 with value: 0.5070138888888889.\n",
      "[I 2024-11-12 09:49:31,792] Trial 6 pruned. \n",
      "[I 2024-11-12 09:49:32,057] Trial 7 pruned. \n",
      "[I 2024-11-12 09:49:32,718] Trial 8 finished with value: 0.5063194444444444 and parameters: {'use_pca': 'False', 'n_estimators': 300, 'max_depth': 10, 'min_samples_split': 13, 'min_samples_leaf': 7, 'max_features': 'log2'}. Best is trial 2 with value: 0.5070138888888889.\n",
      "[I 2024-11-12 09:49:33,165] Trial 9 pruned. \n",
      "[I 2024-11-12 09:49:33,577] Trial 10 finished with value: 0.5066666666666667 and parameters: {'use_pca': 'False', 'n_estimators': 150, 'max_depth': 30, 'min_samples_split': 9, 'min_samples_leaf': 10, 'max_features': 'log2'}. Best is trial 2 with value: 0.5070138888888889.\n",
      "[I 2024-11-12 09:49:33,981] Trial 11 finished with value: 0.5070138888888889 and parameters: {'use_pca': 'False', 'n_estimators': 150, 'max_depth': 30, 'min_samples_split': 20, 'min_samples_leaf': 10, 'max_features': 'log2'}. Best is trial 2 with value: 0.5070138888888889.\n",
      "[I 2024-11-12 09:49:34,405] Trial 12 finished with value: 0.5060416666666666 and parameters: {'use_pca': 'False', 'n_estimators': 150, 'max_depth': 30, 'min_samples_split': 20, 'min_samples_leaf': 9, 'max_features': 'log2'}. Best is trial 2 with value: 0.5070138888888889.\n",
      "[I 2024-11-12 09:49:34,809] Trial 13 pruned. \n",
      "[I 2024-11-12 09:49:35,347] Trial 14 finished with value: 0.5077777777777778 and parameters: {'use_pca': 'False', 'n_estimators': 200, 'max_depth': 15, 'min_samples_split': 8, 'min_samples_leaf': 8, 'max_features': 'log2'}. Best is trial 14 with value: 0.5077777777777778.\n",
      "[I 2024-11-12 09:49:35,891] Trial 15 pruned. \n",
      "[I 2024-11-12 09:49:36,436] Trial 16 pruned. \n",
      "[I 2024-11-12 09:49:36,909] Trial 17 finished with value: 0.5097916666666666 and parameters: {'use_pca': 'False', 'n_estimators': 200, 'max_depth': 10, 'min_samples_split': 11, 'min_samples_leaf': 8, 'max_features': 'log2'}. Best is trial 17 with value: 0.5097916666666666.\n",
      "[I 2024-11-12 09:49:37,495] Trial 18 pruned. \n",
      "[I 2024-11-12 09:49:37,914] Trial 19 finished with value: 0.506875 and parameters: {'use_pca': 'False', 'n_estimators': 150, 'max_depth': 25, 'min_samples_split': 6, 'min_samples_leaf': 6, 'max_features': 'log2'}. Best is trial 17 with value: 0.5097916666666666.\n",
      "[I 2024-11-12 09:49:38,415] Trial 20 finished with value: 0.506875 and parameters: {'use_pca': 'False', 'n_estimators': 200, 'max_depth': 15, 'min_samples_split': 2, 'min_samples_leaf': 8, 'max_features': 'log2'}. Best is trial 17 with value: 0.5097916666666666.\n",
      "[I 2024-11-12 09:49:38,905] Trial 21 pruned. \n",
      "[I 2024-11-12 09:49:39,451] Trial 22 pruned. \n",
      "[I 2024-11-12 09:49:39,987] Trial 23 pruned. \n",
      "[I 2024-11-12 09:49:40,554] Trial 24 pruned. \n",
      "[I 2024-11-12 09:49:41,061] Trial 25 pruned. \n",
      "[I 2024-11-12 09:49:41,453] Trial 26 pruned. \n",
      "[I 2024-11-12 09:49:42,150] Trial 27 finished with value: 0.5091666666666667 and parameters: {'use_pca': 'False', 'n_estimators': 250, 'max_depth': 15, 'min_samples_split': 8, 'min_samples_leaf': 4, 'max_features': 'log2'}. Best is trial 17 with value: 0.5097916666666666.\n",
      "[I 2024-11-12 09:49:43,291] Trial 28 finished with value: 0.5068055555555555 and parameters: {'use_pca': 'False', 'n_estimators': 300, 'max_depth': 20, 'min_samples_split': 7, 'min_samples_leaf': 4, 'max_features': 'log2'}. Best is trial 17 with value: 0.5097916666666666.\n",
      "[I 2024-11-12 09:49:44,036] Trial 29 finished with value: 0.5075 and parameters: {'use_pca': 'False', 'n_estimators': 250, 'max_depth': 15, 'min_samples_split': 12, 'min_samples_leaf': 1, 'max_features': 'sqrt'}. Best is trial 17 with value: 0.5097916666666666.\n",
      "[I 2024-11-12 09:49:44,787] Trial 30 pruned. \n",
      "[I 2024-11-12 09:49:45,521] Trial 31 pruned. \n",
      "[I 2024-11-12 09:49:46,387] Trial 32 pruned. \n",
      "[I 2024-11-12 09:49:47,203] Trial 33 pruned. \n",
      "[I 2024-11-12 09:49:47,989] Trial 34 pruned. \n",
      "[I 2024-11-12 09:49:48,609] Trial 35 pruned. \n",
      "[I 2024-11-12 09:49:49,288] Trial 36 finished with value: 0.5084722222222222 and parameters: {'use_pca': 'False', 'n_estimators': 250, 'max_depth': 10, 'min_samples_split': 10, 'min_samples_leaf': 1, 'max_features': 'sqrt'}. Best is trial 17 with value: 0.5097916666666666.\n",
      "[I 2024-11-12 09:49:49,789] Trial 37 pruned. \n",
      "[I 2024-11-12 09:49:50,096] Trial 38 pruned. \n",
      "[I 2024-11-12 09:49:50,754] Trial 39 pruned. \n",
      "[I 2024-11-12 09:49:51,200] Trial 40 finished with value: 0.5084027777777778 and parameters: {'use_pca': 'True', 'n_pca_components': 3, 'n_estimators': 200, 'max_depth': 10, 'min_samples_split': 8, 'min_samples_leaf': 6, 'max_features': 'log2'}. Best is trial 17 with value: 0.5097916666666666.\n",
      "[I 2024-11-12 09:49:51,618] Trial 41 finished with value: 0.5119444444444444 and parameters: {'use_pca': 'True', 'n_pca_components': 3, 'n_estimators': 200, 'max_depth': 10, 'min_samples_split': 8, 'min_samples_leaf': 6, 'max_features': 'log2'}. Best is trial 41 with value: 0.5119444444444444.\n",
      "[I 2024-11-12 09:49:52,157] Trial 42 finished with value: 0.5101388888888889 and parameters: {'use_pca': 'True', 'n_pca_components': 3, 'n_estimators': 200, 'max_depth': 10, 'min_samples_split': 10, 'min_samples_leaf': 6, 'max_features': 'log2'}. Best is trial 41 with value: 0.5119444444444444.\n",
      "[I 2024-11-12 09:49:52,657] Trial 43 pruned. \n",
      "[I 2024-11-12 09:49:53,166] Trial 44 finished with value: 0.5147916666666666 and parameters: {'use_pca': 'True', 'n_pca_components': 3, 'n_estimators': 250, 'max_depth': 10, 'min_samples_split': 9, 'min_samples_leaf': 4, 'max_features': 'log2'}. Best is trial 44 with value: 0.5147916666666666.\n",
      "[I 2024-11-12 09:49:53,593] Trial 45 pruned. \n",
      "[I 2024-11-12 09:49:53,924] Trial 46 pruned. \n",
      "[I 2024-11-12 09:49:54,418] Trial 47 pruned. \n",
      "[I 2024-11-12 09:49:54,865] Trial 48 pruned. \n",
      "[I 2024-11-12 09:49:55,466] Trial 49 pruned. \n",
      "[I 2024-11-12 09:49:55,857] Trial 50 pruned. \n",
      "[I 2024-11-12 09:49:56,443] Trial 51 pruned. \n",
      "[I 2024-11-12 09:49:56,971] Trial 52 pruned. \n",
      "[I 2024-11-12 09:49:57,587] Trial 53 pruned. \n",
      "[I 2024-11-12 09:49:58,207] Trial 54 finished with value: 0.5091666666666667 and parameters: {'use_pca': 'True', 'n_pca_components': 2, 'n_estimators': 300, 'max_depth': 10, 'min_samples_split': 8, 'min_samples_leaf': 3, 'max_features': 'log2'}. Best is trial 44 with value: 0.5147916666666666.\n",
      "[I 2024-11-12 09:49:58,865] Trial 55 pruned. \n",
      "[I 2024-11-12 09:49:59,468] Trial 56 pruned. \n",
      "[I 2024-11-12 09:50:00,162] Trial 57 pruned. \n",
      "[I 2024-11-12 09:50:00,508] Trial 58 finished with value: 0.514375 and parameters: {'use_pca': 'True', 'n_pca_components': 3, 'n_estimators': 150, 'max_depth': 15, 'min_samples_split': 7, 'min_samples_leaf': 3, 'max_features': 'log2'}. Best is trial 44 with value: 0.5147916666666666.\n",
      "[I 2024-11-12 09:50:00,802] Trial 59 finished with value: 0.5155555555555555 and parameters: {'use_pca': 'True', 'n_pca_components': 3, 'n_estimators': 100, 'max_depth': 15, 'min_samples_split': 7, 'min_samples_leaf': 3, 'max_features': 'log2'}. Best is trial 59 with value: 0.5155555555555555.\n",
      "[I 2024-11-12 09:50:01,078] Trial 60 finished with value: 0.5233333333333333 and parameters: {'use_pca': 'True', 'n_pca_components': 3, 'n_estimators': 100, 'max_depth': 15, 'min_samples_split': 5, 'min_samples_leaf': 3, 'max_features': 'log2'}. Best is trial 60 with value: 0.5233333333333333.\n",
      "[I 2024-11-12 09:50:01,330] Trial 61 pruned. \n",
      "[I 2024-11-12 09:50:01,584] Trial 62 finished with value: 0.5181944444444444 and parameters: {'use_pca': 'True', 'n_pca_components': 3, 'n_estimators': 100, 'max_depth': 15, 'min_samples_split': 5, 'min_samples_leaf': 3, 'max_features': 'log2'}. Best is trial 60 with value: 0.5233333333333333.\n",
      "[I 2024-11-12 09:50:01,830] Trial 63 finished with value: 0.513125 and parameters: {'use_pca': 'True', 'n_pca_components': 3, 'n_estimators': 100, 'max_depth': 15, 'min_samples_split': 5, 'min_samples_leaf': 3, 'max_features': 'log2'}. Best is trial 60 with value: 0.5233333333333333.\n",
      "[I 2024-11-12 09:50:02,127] Trial 64 finished with value: 0.5161805555555555 and parameters: {'use_pca': 'True', 'n_pca_components': 3, 'n_estimators': 100, 'max_depth': 20, 'min_samples_split': 5, 'min_samples_leaf': 3, 'max_features': 'log2'}. Best is trial 60 with value: 0.5233333333333333.\n",
      "[I 2024-11-12 09:50:02,447] Trial 65 pruned. \n",
      "[I 2024-11-12 09:50:02,707] Trial 66 finished with value: 0.5140972222222222 and parameters: {'use_pca': 'True', 'n_pca_components': 3, 'n_estimators': 100, 'max_depth': 20, 'min_samples_split': 3, 'min_samples_leaf': 2, 'max_features': 'log2'}. Best is trial 60 with value: 0.5233333333333333.\n",
      "[I 2024-11-12 09:50:03,014] Trial 67 pruned. \n",
      "[I 2024-11-12 09:50:03,289] Trial 68 finished with value: 0.5092361111111111 and parameters: {'use_pca': 'True', 'n_pca_components': 2, 'n_estimators': 100, 'max_depth': 20, 'min_samples_split': 4, 'min_samples_leaf': 2, 'max_features': 'log2'}. Best is trial 60 with value: 0.5233333333333333.\n",
      "[I 2024-11-12 09:50:03,567] Trial 69 finished with value: 0.5202777777777777 and parameters: {'use_pca': 'True', 'n_pca_components': 3, 'n_estimators': 100, 'max_depth': 20, 'min_samples_split': 6, 'min_samples_leaf': 3, 'max_features': 'log2'}. Best is trial 60 with value: 0.5233333333333333.\n",
      "[I 2024-11-12 09:50:03,866] Trial 70 pruned. \n",
      "[I 2024-11-12 09:50:04,119] Trial 71 finished with value: 0.5200694444444445 and parameters: {'use_pca': 'True', 'n_pca_components': 3, 'n_estimators': 100, 'max_depth': 20, 'min_samples_split': 6, 'min_samples_leaf': 2, 'max_features': 'log2'}. Best is trial 60 with value: 0.5233333333333333.\n",
      "[I 2024-11-12 09:50:04,403] Trial 72 finished with value: 0.5165972222222223 and parameters: {'use_pca': 'True', 'n_pca_components': 3, 'n_estimators': 100, 'max_depth': 25, 'min_samples_split': 6, 'min_samples_leaf': 3, 'max_features': 'log2'}. Best is trial 60 with value: 0.5233333333333333.\n",
      "[I 2024-11-12 09:50:04,675] Trial 73 finished with value: 0.5127777777777778 and parameters: {'use_pca': 'True', 'n_pca_components': 2, 'n_estimators': 100, 'max_depth': 25, 'min_samples_split': 6, 'min_samples_leaf': 2, 'max_features': 'log2'}. Best is trial 60 with value: 0.5233333333333333.\n",
      "[I 2024-11-12 09:50:04,990] Trial 74 pruned. \n",
      "[I 2024-11-12 09:50:05,354] Trial 75 pruned. \n",
      "[I 2024-11-12 09:50:05,626] Trial 76 finished with value: 0.5180555555555556 and parameters: {'use_pca': 'True', 'n_pca_components': 3, 'n_estimators': 100, 'max_depth': 20, 'min_samples_split': 6, 'min_samples_leaf': 2, 'max_features': 'log2'}. Best is trial 60 with value: 0.5233333333333333.\n",
      "[I 2024-11-12 09:50:05,904] Trial 77 finished with value: 0.5228472222222222 and parameters: {'use_pca': 'True', 'n_pca_components': 3, 'n_estimators': 100, 'max_depth': 20, 'min_samples_split': 4, 'min_samples_leaf': 1, 'max_features': 'log2'}. Best is trial 60 with value: 0.5233333333333333.\n",
      "[I 2024-11-12 09:50:06,171] Trial 78 finished with value: 0.5220833333333333 and parameters: {'use_pca': 'True', 'n_pca_components': 3, 'n_estimators': 100, 'max_depth': 20, 'min_samples_split': 4, 'min_samples_leaf': 1, 'max_features': 'log2'}. Best is trial 60 with value: 0.5233333333333333.\n",
      "[I 2024-11-12 09:50:06,492] Trial 79 pruned. \n",
      "[I 2024-11-12 09:50:06,942] Trial 80 pruned. \n",
      "[I 2024-11-12 09:50:07,228] Trial 81 finished with value: 0.5159722222222223 and parameters: {'use_pca': 'True', 'n_pca_components': 3, 'n_estimators': 100, 'max_depth': 20, 'min_samples_split': 5, 'min_samples_leaf': 1, 'max_features': 'log2'}. Best is trial 60 with value: 0.5233333333333333.\n",
      "[I 2024-11-12 09:50:07,491] Trial 82 finished with value: 0.5182638888888889 and parameters: {'use_pca': 'True', 'n_pca_components': 3, 'n_estimators': 100, 'max_depth': 20, 'min_samples_split': 6, 'min_samples_leaf': 1, 'max_features': 'log2'}. Best is trial 60 with value: 0.5233333333333333.\n",
      "[I 2024-11-12 09:50:07,766] Trial 83 finished with value: 0.5124305555555555 and parameters: {'use_pca': 'True', 'n_pca_components': 3, 'n_estimators': 100, 'max_depth': 20, 'min_samples_split': 6, 'min_samples_leaf': 1, 'max_features': 'log2'}. Best is trial 60 with value: 0.5233333333333333.\n",
      "[I 2024-11-12 09:50:08,028] Trial 84 finished with value: 0.5127083333333333 and parameters: {'use_pca': 'True', 'n_pca_components': 2, 'n_estimators': 100, 'max_depth': 20, 'min_samples_split': 4, 'min_samples_leaf': 1, 'max_features': 'log2'}. Best is trial 60 with value: 0.5233333333333333.\n",
      "[I 2024-11-12 09:50:08,313] Trial 85 finished with value: 0.524375 and parameters: {'use_pca': 'True', 'n_pca_components': 3, 'n_estimators': 100, 'max_depth': 25, 'min_samples_split': 2, 'min_samples_leaf': 2, 'max_features': 'log2'}. Best is trial 85 with value: 0.524375.\n",
      "[I 2024-11-12 09:50:08,586] Trial 86 finished with value: 0.5196527777777777 and parameters: {'use_pca': 'True', 'n_pca_components': 3, 'n_estimators': 100, 'max_depth': 20, 'min_samples_split': 2, 'min_samples_leaf': 2, 'max_features': 'log2'}. Best is trial 85 with value: 0.524375.\n",
      "[I 2024-11-12 09:50:08,889] Trial 87 pruned. \n",
      "[I 2024-11-12 09:50:09,272] Trial 88 finished with value: 0.516875 and parameters: {'use_pca': 'True', 'n_pca_components': 3, 'n_estimators': 150, 'max_depth': 20, 'min_samples_split': 2, 'min_samples_leaf': 2, 'max_features': 'log2'}. Best is trial 85 with value: 0.524375.\n",
      "[I 2024-11-12 09:50:09,556] Trial 89 finished with value: 0.5135416666666667 and parameters: {'use_pca': 'True', 'n_pca_components': 2, 'n_estimators': 100, 'max_depth': 20, 'min_samples_split': 3, 'min_samples_leaf': 2, 'max_features': 'log2'}. Best is trial 85 with value: 0.524375.\n",
      "[I 2024-11-12 09:50:09,849] Trial 90 pruned. \n",
      "[I 2024-11-12 09:50:10,188] Trial 91 finished with value: 0.5197916666666667 and parameters: {'use_pca': 'True', 'n_pca_components': 3, 'n_estimators': 100, 'max_depth': 20, 'min_samples_split': 2, 'min_samples_leaf': 2, 'max_features': 'log2'}. Best is trial 85 with value: 0.524375.\n",
      "[I 2024-11-12 09:50:10,449] Trial 92 finished with value: 0.5245833333333333 and parameters: {'use_pca': 'True', 'n_pca_components': 3, 'n_estimators': 100, 'max_depth': 20, 'min_samples_split': 2, 'min_samples_leaf': 2, 'max_features': 'log2'}. Best is trial 92 with value: 0.5245833333333333.\n",
      "[I 2024-11-12 09:50:10,700] Trial 93 finished with value: 0.52125 and parameters: {'use_pca': 'True', 'n_pca_components': 3, 'n_estimators': 100, 'max_depth': 20, 'min_samples_split': 2, 'min_samples_leaf': 2, 'max_features': 'log2'}. Best is trial 92 with value: 0.5245833333333333.\n",
      "[I 2024-11-12 09:50:10,974] Trial 94 finished with value: 0.5128472222222222 and parameters: {'use_pca': 'True', 'n_pca_components': 2, 'n_estimators': 100, 'max_depth': 20, 'min_samples_split': 2, 'min_samples_leaf': 2, 'max_features': 'log2'}. Best is trial 92 with value: 0.5245833333333333.\n",
      "[I 2024-11-12 09:50:11,289] Trial 95 pruned. \n",
      "[I 2024-11-12 09:50:11,550] Trial 96 finished with value: 0.5186805555555556 and parameters: {'use_pca': 'True', 'n_pca_components': 3, 'n_estimators': 100, 'max_depth': 20, 'min_samples_split': 3, 'min_samples_leaf': 2, 'max_features': 'log2'}. Best is trial 92 with value: 0.5245833333333333.\n",
      "[I 2024-11-12 09:50:11,873] Trial 97 pruned. \n",
      "[I 2024-11-12 09:50:12,267] Trial 98 finished with value: 0.51375 and parameters: {'use_pca': 'True', 'n_pca_components': 3, 'n_estimators': 150, 'max_depth': 20, 'min_samples_split': 3, 'min_samples_leaf': 1, 'max_features': 'sqrt'}. Best is trial 92 with value: 0.5245833333333333.\n",
      "[I 2024-11-12 09:50:12,535] Trial 99 finished with value: 0.5148611111111111 and parameters: {'use_pca': 'True', 'n_pca_components': 2, 'n_estimators': 100, 'max_depth': 20, 'min_samples_split': 2, 'min_samples_leaf': 2, 'max_features': 'log2'}. Best is trial 92 with value: 0.5245833333333333.\n"
     ]
    },
    {
     "name": "stdout",
     "output_type": "stream",
     "text": [
      "Best hyperparameters: {'use_pca': 'True', 'n_pca_components': 3, 'n_estimators': 100, 'max_depth': 20, 'min_samples_split': 2, 'min_samples_leaf': 2, 'max_features': 'log2'}\n",
      "Best value: 0.5245833333333333\n"
     ]
    },
    {
     "data": {
      "application/vnd.plotly.v1+json": {
       "config": {
        "plotlyServerURL": "https://plot.ly"
       },
       "data": [
        {
         "mode": "markers",
         "name": "Objective Value",
         "type": "scatter",
         "x": [
          0,
          1,
          2,
          3,
          4,
          5,
          8,
          10,
          11,
          12,
          14,
          17,
          19,
          20,
          27,
          28,
          29,
          36,
          40,
          41,
          42,
          44,
          54,
          58,
          59,
          60,
          62,
          63,
          64,
          66,
          68,
          69,
          71,
          72,
          73,
          76,
          77,
          78,
          81,
          82,
          83,
          84,
          85,
          86,
          88,
          89,
          91,
          92,
          93,
          94,
          96,
          98,
          99
         ],
         "y": [
          0.5038194444444445,
          0.5022222222222222,
          0.5070138888888889,
          0.5038194444444445,
          0.4897916666666667,
          0.5042361111111111,
          0.5063194444444444,
          0.5066666666666667,
          0.5070138888888889,
          0.5060416666666666,
          0.5077777777777778,
          0.5097916666666666,
          0.506875,
          0.506875,
          0.5091666666666667,
          0.5068055555555555,
          0.5075,
          0.5084722222222222,
          0.5084027777777778,
          0.5119444444444444,
          0.5101388888888889,
          0.5147916666666666,
          0.5091666666666667,
          0.514375,
          0.5155555555555555,
          0.5233333333333333,
          0.5181944444444444,
          0.513125,
          0.5161805555555555,
          0.5140972222222222,
          0.5092361111111111,
          0.5202777777777777,
          0.5200694444444445,
          0.5165972222222223,
          0.5127777777777778,
          0.5180555555555556,
          0.5228472222222222,
          0.5220833333333333,
          0.5159722222222223,
          0.5182638888888889,
          0.5124305555555555,
          0.5127083333333333,
          0.524375,
          0.5196527777777777,
          0.516875,
          0.5135416666666667,
          0.5197916666666667,
          0.5245833333333333,
          0.52125,
          0.5128472222222222,
          0.5186805555555556,
          0.51375,
          0.5148611111111111
         ]
        },
        {
         "mode": "lines",
         "name": "Best Value",
         "type": "scatter",
         "x": [
          0,
          1,
          2,
          3,
          4,
          5,
          6,
          7,
          8,
          9,
          10,
          11,
          12,
          13,
          14,
          15,
          16,
          17,
          18,
          19,
          20,
          21,
          22,
          23,
          24,
          25,
          26,
          27,
          28,
          29,
          30,
          31,
          32,
          33,
          34,
          35,
          36,
          37,
          38,
          39,
          40,
          41,
          42,
          43,
          44,
          45,
          46,
          47,
          48,
          49,
          50,
          51,
          52,
          53,
          54,
          55,
          56,
          57,
          58,
          59,
          60,
          61,
          62,
          63,
          64,
          65,
          66,
          67,
          68,
          69,
          70,
          71,
          72,
          73,
          74,
          75,
          76,
          77,
          78,
          79,
          80,
          81,
          82,
          83,
          84,
          85,
          86,
          87,
          88,
          89,
          90,
          91,
          92,
          93,
          94,
          95,
          96,
          97,
          98,
          99
         ],
         "y": [
          0.5038194444444445,
          0.5038194444444445,
          0.5070138888888889,
          0.5070138888888889,
          0.5070138888888889,
          0.5070138888888889,
          0.5070138888888889,
          0.5070138888888889,
          0.5070138888888889,
          0.5070138888888889,
          0.5070138888888889,
          0.5070138888888889,
          0.5070138888888889,
          0.5070138888888889,
          0.5077777777777778,
          0.5077777777777778,
          0.5077777777777778,
          0.5097916666666666,
          0.5097916666666666,
          0.5097916666666666,
          0.5097916666666666,
          0.5097916666666666,
          0.5097916666666666,
          0.5097916666666666,
          0.5097916666666666,
          0.5097916666666666,
          0.5097916666666666,
          0.5097916666666666,
          0.5097916666666666,
          0.5097916666666666,
          0.5097916666666666,
          0.5097916666666666,
          0.5097916666666666,
          0.5097916666666666,
          0.5097916666666666,
          0.5097916666666666,
          0.5097916666666666,
          0.5097916666666666,
          0.5097916666666666,
          0.5097916666666666,
          0.5097916666666666,
          0.5119444444444444,
          0.5119444444444444,
          0.5119444444444444,
          0.5147916666666666,
          0.5147916666666666,
          0.5147916666666666,
          0.5147916666666666,
          0.5147916666666666,
          0.5147916666666666,
          0.5147916666666666,
          0.5147916666666666,
          0.5147916666666666,
          0.5147916666666666,
          0.5147916666666666,
          0.5147916666666666,
          0.5147916666666666,
          0.5147916666666666,
          0.5147916666666666,
          0.5155555555555555,
          0.5233333333333333,
          0.5233333333333333,
          0.5233333333333333,
          0.5233333333333333,
          0.5233333333333333,
          0.5233333333333333,
          0.5233333333333333,
          0.5233333333333333,
          0.5233333333333333,
          0.5233333333333333,
          0.5233333333333333,
          0.5233333333333333,
          0.5233333333333333,
          0.5233333333333333,
          0.5233333333333333,
          0.5233333333333333,
          0.5233333333333333,
          0.5233333333333333,
          0.5233333333333333,
          0.5233333333333333,
          0.5233333333333333,
          0.5233333333333333,
          0.5233333333333333,
          0.5233333333333333,
          0.5233333333333333,
          0.524375,
          0.524375,
          0.524375,
          0.524375,
          0.524375,
          0.524375,
          0.524375,
          0.5245833333333333,
          0.5245833333333333,
          0.5245833333333333,
          0.5245833333333333,
          0.5245833333333333,
          0.5245833333333333,
          0.5245833333333333,
          0.5245833333333333
         ]
        },
        {
         "marker": {
          "color": "#cccccc"
         },
         "mode": "markers",
         "name": "Infeasible Trial",
         "showlegend": false,
         "type": "scatter",
         "x": [],
         "y": []
        }
       ],
       "layout": {
        "template": {
         "data": {
          "bar": [
           {
            "error_x": {
             "color": "#2a3f5f"
            },
            "error_y": {
             "color": "#2a3f5f"
            },
            "marker": {
             "line": {
              "color": "#E5ECF6",
              "width": 0.5
             },
             "pattern": {
              "fillmode": "overlay",
              "size": 10,
              "solidity": 0.2
             }
            },
            "type": "bar"
           }
          ],
          "barpolar": [
           {
            "marker": {
             "line": {
              "color": "#E5ECF6",
              "width": 0.5
             },
             "pattern": {
              "fillmode": "overlay",
              "size": 10,
              "solidity": 0.2
             }
            },
            "type": "barpolar"
           }
          ],
          "carpet": [
           {
            "aaxis": {
             "endlinecolor": "#2a3f5f",
             "gridcolor": "white",
             "linecolor": "white",
             "minorgridcolor": "white",
             "startlinecolor": "#2a3f5f"
            },
            "baxis": {
             "endlinecolor": "#2a3f5f",
             "gridcolor": "white",
             "linecolor": "white",
             "minorgridcolor": "white",
             "startlinecolor": "#2a3f5f"
            },
            "type": "carpet"
           }
          ],
          "choropleth": [
           {
            "colorbar": {
             "outlinewidth": 0,
             "ticks": ""
            },
            "type": "choropleth"
           }
          ],
          "contour": [
           {
            "colorbar": {
             "outlinewidth": 0,
             "ticks": ""
            },
            "colorscale": [
             [
              0,
              "#0d0887"
             ],
             [
              0.1111111111111111,
              "#46039f"
             ],
             [
              0.2222222222222222,
              "#7201a8"
             ],
             [
              0.3333333333333333,
              "#9c179e"
             ],
             [
              0.4444444444444444,
              "#bd3786"
             ],
             [
              0.5555555555555556,
              "#d8576b"
             ],
             [
              0.6666666666666666,
              "#ed7953"
             ],
             [
              0.7777777777777778,
              "#fb9f3a"
             ],
             [
              0.8888888888888888,
              "#fdca26"
             ],
             [
              1,
              "#f0f921"
             ]
            ],
            "type": "contour"
           }
          ],
          "contourcarpet": [
           {
            "colorbar": {
             "outlinewidth": 0,
             "ticks": ""
            },
            "type": "contourcarpet"
           }
          ],
          "heatmap": [
           {
            "colorbar": {
             "outlinewidth": 0,
             "ticks": ""
            },
            "colorscale": [
             [
              0,
              "#0d0887"
             ],
             [
              0.1111111111111111,
              "#46039f"
             ],
             [
              0.2222222222222222,
              "#7201a8"
             ],
             [
              0.3333333333333333,
              "#9c179e"
             ],
             [
              0.4444444444444444,
              "#bd3786"
             ],
             [
              0.5555555555555556,
              "#d8576b"
             ],
             [
              0.6666666666666666,
              "#ed7953"
             ],
             [
              0.7777777777777778,
              "#fb9f3a"
             ],
             [
              0.8888888888888888,
              "#fdca26"
             ],
             [
              1,
              "#f0f921"
             ]
            ],
            "type": "heatmap"
           }
          ],
          "heatmapgl": [
           {
            "colorbar": {
             "outlinewidth": 0,
             "ticks": ""
            },
            "colorscale": [
             [
              0,
              "#0d0887"
             ],
             [
              0.1111111111111111,
              "#46039f"
             ],
             [
              0.2222222222222222,
              "#7201a8"
             ],
             [
              0.3333333333333333,
              "#9c179e"
             ],
             [
              0.4444444444444444,
              "#bd3786"
             ],
             [
              0.5555555555555556,
              "#d8576b"
             ],
             [
              0.6666666666666666,
              "#ed7953"
             ],
             [
              0.7777777777777778,
              "#fb9f3a"
             ],
             [
              0.8888888888888888,
              "#fdca26"
             ],
             [
              1,
              "#f0f921"
             ]
            ],
            "type": "heatmapgl"
           }
          ],
          "histogram": [
           {
            "marker": {
             "pattern": {
              "fillmode": "overlay",
              "size": 10,
              "solidity": 0.2
             }
            },
            "type": "histogram"
           }
          ],
          "histogram2d": [
           {
            "colorbar": {
             "outlinewidth": 0,
             "ticks": ""
            },
            "colorscale": [
             [
              0,
              "#0d0887"
             ],
             [
              0.1111111111111111,
              "#46039f"
             ],
             [
              0.2222222222222222,
              "#7201a8"
             ],
             [
              0.3333333333333333,
              "#9c179e"
             ],
             [
              0.4444444444444444,
              "#bd3786"
             ],
             [
              0.5555555555555556,
              "#d8576b"
             ],
             [
              0.6666666666666666,
              "#ed7953"
             ],
             [
              0.7777777777777778,
              "#fb9f3a"
             ],
             [
              0.8888888888888888,
              "#fdca26"
             ],
             [
              1,
              "#f0f921"
             ]
            ],
            "type": "histogram2d"
           }
          ],
          "histogram2dcontour": [
           {
            "colorbar": {
             "outlinewidth": 0,
             "ticks": ""
            },
            "colorscale": [
             [
              0,
              "#0d0887"
             ],
             [
              0.1111111111111111,
              "#46039f"
             ],
             [
              0.2222222222222222,
              "#7201a8"
             ],
             [
              0.3333333333333333,
              "#9c179e"
             ],
             [
              0.4444444444444444,
              "#bd3786"
             ],
             [
              0.5555555555555556,
              "#d8576b"
             ],
             [
              0.6666666666666666,
              "#ed7953"
             ],
             [
              0.7777777777777778,
              "#fb9f3a"
             ],
             [
              0.8888888888888888,
              "#fdca26"
             ],
             [
              1,
              "#f0f921"
             ]
            ],
            "type": "histogram2dcontour"
           }
          ],
          "mesh3d": [
           {
            "colorbar": {
             "outlinewidth": 0,
             "ticks": ""
            },
            "type": "mesh3d"
           }
          ],
          "parcoords": [
           {
            "line": {
             "colorbar": {
              "outlinewidth": 0,
              "ticks": ""
             }
            },
            "type": "parcoords"
           }
          ],
          "pie": [
           {
            "automargin": true,
            "type": "pie"
           }
          ],
          "scatter": [
           {
            "fillpattern": {
             "fillmode": "overlay",
             "size": 10,
             "solidity": 0.2
            },
            "type": "scatter"
           }
          ],
          "scatter3d": [
           {
            "line": {
             "colorbar": {
              "outlinewidth": 0,
              "ticks": ""
             }
            },
            "marker": {
             "colorbar": {
              "outlinewidth": 0,
              "ticks": ""
             }
            },
            "type": "scatter3d"
           }
          ],
          "scattercarpet": [
           {
            "marker": {
             "colorbar": {
              "outlinewidth": 0,
              "ticks": ""
             }
            },
            "type": "scattercarpet"
           }
          ],
          "scattergeo": [
           {
            "marker": {
             "colorbar": {
              "outlinewidth": 0,
              "ticks": ""
             }
            },
            "type": "scattergeo"
           }
          ],
          "scattergl": [
           {
            "marker": {
             "colorbar": {
              "outlinewidth": 0,
              "ticks": ""
             }
            },
            "type": "scattergl"
           }
          ],
          "scattermapbox": [
           {
            "marker": {
             "colorbar": {
              "outlinewidth": 0,
              "ticks": ""
             }
            },
            "type": "scattermapbox"
           }
          ],
          "scatterpolar": [
           {
            "marker": {
             "colorbar": {
              "outlinewidth": 0,
              "ticks": ""
             }
            },
            "type": "scatterpolar"
           }
          ],
          "scatterpolargl": [
           {
            "marker": {
             "colorbar": {
              "outlinewidth": 0,
              "ticks": ""
             }
            },
            "type": "scatterpolargl"
           }
          ],
          "scatterternary": [
           {
            "marker": {
             "colorbar": {
              "outlinewidth": 0,
              "ticks": ""
             }
            },
            "type": "scatterternary"
           }
          ],
          "surface": [
           {
            "colorbar": {
             "outlinewidth": 0,
             "ticks": ""
            },
            "colorscale": [
             [
              0,
              "#0d0887"
             ],
             [
              0.1111111111111111,
              "#46039f"
             ],
             [
              0.2222222222222222,
              "#7201a8"
             ],
             [
              0.3333333333333333,
              "#9c179e"
             ],
             [
              0.4444444444444444,
              "#bd3786"
             ],
             [
              0.5555555555555556,
              "#d8576b"
             ],
             [
              0.6666666666666666,
              "#ed7953"
             ],
             [
              0.7777777777777778,
              "#fb9f3a"
             ],
             [
              0.8888888888888888,
              "#fdca26"
             ],
             [
              1,
              "#f0f921"
             ]
            ],
            "type": "surface"
           }
          ],
          "table": [
           {
            "cells": {
             "fill": {
              "color": "#EBF0F8"
             },
             "line": {
              "color": "white"
             }
            },
            "header": {
             "fill": {
              "color": "#C8D4E3"
             },
             "line": {
              "color": "white"
             }
            },
            "type": "table"
           }
          ]
         },
         "layout": {
          "annotationdefaults": {
           "arrowcolor": "#2a3f5f",
           "arrowhead": 0,
           "arrowwidth": 1
          },
          "autotypenumbers": "strict",
          "coloraxis": {
           "colorbar": {
            "outlinewidth": 0,
            "ticks": ""
           }
          },
          "colorscale": {
           "diverging": [
            [
             0,
             "#8e0152"
            ],
            [
             0.1,
             "#c51b7d"
            ],
            [
             0.2,
             "#de77ae"
            ],
            [
             0.3,
             "#f1b6da"
            ],
            [
             0.4,
             "#fde0ef"
            ],
            [
             0.5,
             "#f7f7f7"
            ],
            [
             0.6,
             "#e6f5d0"
            ],
            [
             0.7,
             "#b8e186"
            ],
            [
             0.8,
             "#7fbc41"
            ],
            [
             0.9,
             "#4d9221"
            ],
            [
             1,
             "#276419"
            ]
           ],
           "sequential": [
            [
             0,
             "#0d0887"
            ],
            [
             0.1111111111111111,
             "#46039f"
            ],
            [
             0.2222222222222222,
             "#7201a8"
            ],
            [
             0.3333333333333333,
             "#9c179e"
            ],
            [
             0.4444444444444444,
             "#bd3786"
            ],
            [
             0.5555555555555556,
             "#d8576b"
            ],
            [
             0.6666666666666666,
             "#ed7953"
            ],
            [
             0.7777777777777778,
             "#fb9f3a"
            ],
            [
             0.8888888888888888,
             "#fdca26"
            ],
            [
             1,
             "#f0f921"
            ]
           ],
           "sequentialminus": [
            [
             0,
             "#0d0887"
            ],
            [
             0.1111111111111111,
             "#46039f"
            ],
            [
             0.2222222222222222,
             "#7201a8"
            ],
            [
             0.3333333333333333,
             "#9c179e"
            ],
            [
             0.4444444444444444,
             "#bd3786"
            ],
            [
             0.5555555555555556,
             "#d8576b"
            ],
            [
             0.6666666666666666,
             "#ed7953"
            ],
            [
             0.7777777777777778,
             "#fb9f3a"
            ],
            [
             0.8888888888888888,
             "#fdca26"
            ],
            [
             1,
             "#f0f921"
            ]
           ]
          },
          "colorway": [
           "#636efa",
           "#EF553B",
           "#00cc96",
           "#ab63fa",
           "#FFA15A",
           "#19d3f3",
           "#FF6692",
           "#B6E880",
           "#FF97FF",
           "#FECB52"
          ],
          "font": {
           "color": "#2a3f5f"
          },
          "geo": {
           "bgcolor": "white",
           "lakecolor": "white",
           "landcolor": "#E5ECF6",
           "showlakes": true,
           "showland": true,
           "subunitcolor": "white"
          },
          "hoverlabel": {
           "align": "left"
          },
          "hovermode": "closest",
          "mapbox": {
           "style": "light"
          },
          "paper_bgcolor": "white",
          "plot_bgcolor": "#E5ECF6",
          "polar": {
           "angularaxis": {
            "gridcolor": "white",
            "linecolor": "white",
            "ticks": ""
           },
           "bgcolor": "#E5ECF6",
           "radialaxis": {
            "gridcolor": "white",
            "linecolor": "white",
            "ticks": ""
           }
          },
          "scene": {
           "xaxis": {
            "backgroundcolor": "#E5ECF6",
            "gridcolor": "white",
            "gridwidth": 2,
            "linecolor": "white",
            "showbackground": true,
            "ticks": "",
            "zerolinecolor": "white"
           },
           "yaxis": {
            "backgroundcolor": "#E5ECF6",
            "gridcolor": "white",
            "gridwidth": 2,
            "linecolor": "white",
            "showbackground": true,
            "ticks": "",
            "zerolinecolor": "white"
           },
           "zaxis": {
            "backgroundcolor": "#E5ECF6",
            "gridcolor": "white",
            "gridwidth": 2,
            "linecolor": "white",
            "showbackground": true,
            "ticks": "",
            "zerolinecolor": "white"
           }
          },
          "shapedefaults": {
           "line": {
            "color": "#2a3f5f"
           }
          },
          "ternary": {
           "aaxis": {
            "gridcolor": "white",
            "linecolor": "white",
            "ticks": ""
           },
           "baxis": {
            "gridcolor": "white",
            "linecolor": "white",
            "ticks": ""
           },
           "bgcolor": "#E5ECF6",
           "caxis": {
            "gridcolor": "white",
            "linecolor": "white",
            "ticks": ""
           }
          },
          "title": {
           "x": 0.05
          },
          "xaxis": {
           "automargin": true,
           "gridcolor": "white",
           "linecolor": "white",
           "ticks": "",
           "title": {
            "standoff": 15
           },
           "zerolinecolor": "white",
           "zerolinewidth": 2
          },
          "yaxis": {
           "automargin": true,
           "gridcolor": "white",
           "linecolor": "white",
           "ticks": "",
           "title": {
            "standoff": 15
           },
           "zerolinecolor": "white",
           "zerolinewidth": 2
          }
         }
        },
        "title": {
         "text": "Optimization History Plot"
        },
        "xaxis": {
         "title": {
          "text": "Trial"
         }
        },
        "yaxis": {
         "title": {
          "text": "Objective Value"
         }
        }
       }
      }
     },
     "metadata": {},
     "output_type": "display_data"
    },
    {
     "data": {
      "application/vnd.plotly.v1+json": {
       "config": {
        "plotlyServerURL": "https://plot.ly"
       },
       "data": [
        {
         "cliponaxis": false,
         "hovertemplate": [
          "max_depth (IntDistribution): 0.01547508004964574<extra></extra>",
          "max_features (CategoricalDistribution): 0.06457517838959977<extra></extra>",
          "min_samples_leaf (IntDistribution): 0.09170141231233483<extra></extra>",
          "n_estimators (IntDistribution): 0.13176682168353362<extra></extra>",
          "min_samples_split (IntDistribution): 0.2975983250524668<extra></extra>",
          "use_pca (CategoricalDistribution): 0.3988831825124193<extra></extra>"
         ],
         "name": "Objective Value",
         "orientation": "h",
         "text": [
          "0.02",
          "0.06",
          "0.09",
          "0.13",
          "0.30",
          "0.40"
         ],
         "textposition": "outside",
         "type": "bar",
         "x": [
          0.01547508004964574,
          0.06457517838959977,
          0.09170141231233483,
          0.13176682168353362,
          0.2975983250524668,
          0.3988831825124193
         ],
         "y": [
          "max_depth",
          "max_features",
          "min_samples_leaf",
          "n_estimators",
          "min_samples_split",
          "use_pca"
         ]
        }
       ],
       "layout": {
        "template": {
         "data": {
          "bar": [
           {
            "error_x": {
             "color": "#2a3f5f"
            },
            "error_y": {
             "color": "#2a3f5f"
            },
            "marker": {
             "line": {
              "color": "#E5ECF6",
              "width": 0.5
             },
             "pattern": {
              "fillmode": "overlay",
              "size": 10,
              "solidity": 0.2
             }
            },
            "type": "bar"
           }
          ],
          "barpolar": [
           {
            "marker": {
             "line": {
              "color": "#E5ECF6",
              "width": 0.5
             },
             "pattern": {
              "fillmode": "overlay",
              "size": 10,
              "solidity": 0.2
             }
            },
            "type": "barpolar"
           }
          ],
          "carpet": [
           {
            "aaxis": {
             "endlinecolor": "#2a3f5f",
             "gridcolor": "white",
             "linecolor": "white",
             "minorgridcolor": "white",
             "startlinecolor": "#2a3f5f"
            },
            "baxis": {
             "endlinecolor": "#2a3f5f",
             "gridcolor": "white",
             "linecolor": "white",
             "minorgridcolor": "white",
             "startlinecolor": "#2a3f5f"
            },
            "type": "carpet"
           }
          ],
          "choropleth": [
           {
            "colorbar": {
             "outlinewidth": 0,
             "ticks": ""
            },
            "type": "choropleth"
           }
          ],
          "contour": [
           {
            "colorbar": {
             "outlinewidth": 0,
             "ticks": ""
            },
            "colorscale": [
             [
              0,
              "#0d0887"
             ],
             [
              0.1111111111111111,
              "#46039f"
             ],
             [
              0.2222222222222222,
              "#7201a8"
             ],
             [
              0.3333333333333333,
              "#9c179e"
             ],
             [
              0.4444444444444444,
              "#bd3786"
             ],
             [
              0.5555555555555556,
              "#d8576b"
             ],
             [
              0.6666666666666666,
              "#ed7953"
             ],
             [
              0.7777777777777778,
              "#fb9f3a"
             ],
             [
              0.8888888888888888,
              "#fdca26"
             ],
             [
              1,
              "#f0f921"
             ]
            ],
            "type": "contour"
           }
          ],
          "contourcarpet": [
           {
            "colorbar": {
             "outlinewidth": 0,
             "ticks": ""
            },
            "type": "contourcarpet"
           }
          ],
          "heatmap": [
           {
            "colorbar": {
             "outlinewidth": 0,
             "ticks": ""
            },
            "colorscale": [
             [
              0,
              "#0d0887"
             ],
             [
              0.1111111111111111,
              "#46039f"
             ],
             [
              0.2222222222222222,
              "#7201a8"
             ],
             [
              0.3333333333333333,
              "#9c179e"
             ],
             [
              0.4444444444444444,
              "#bd3786"
             ],
             [
              0.5555555555555556,
              "#d8576b"
             ],
             [
              0.6666666666666666,
              "#ed7953"
             ],
             [
              0.7777777777777778,
              "#fb9f3a"
             ],
             [
              0.8888888888888888,
              "#fdca26"
             ],
             [
              1,
              "#f0f921"
             ]
            ],
            "type": "heatmap"
           }
          ],
          "heatmapgl": [
           {
            "colorbar": {
             "outlinewidth": 0,
             "ticks": ""
            },
            "colorscale": [
             [
              0,
              "#0d0887"
             ],
             [
              0.1111111111111111,
              "#46039f"
             ],
             [
              0.2222222222222222,
              "#7201a8"
             ],
             [
              0.3333333333333333,
              "#9c179e"
             ],
             [
              0.4444444444444444,
              "#bd3786"
             ],
             [
              0.5555555555555556,
              "#d8576b"
             ],
             [
              0.6666666666666666,
              "#ed7953"
             ],
             [
              0.7777777777777778,
              "#fb9f3a"
             ],
             [
              0.8888888888888888,
              "#fdca26"
             ],
             [
              1,
              "#f0f921"
             ]
            ],
            "type": "heatmapgl"
           }
          ],
          "histogram": [
           {
            "marker": {
             "pattern": {
              "fillmode": "overlay",
              "size": 10,
              "solidity": 0.2
             }
            },
            "type": "histogram"
           }
          ],
          "histogram2d": [
           {
            "colorbar": {
             "outlinewidth": 0,
             "ticks": ""
            },
            "colorscale": [
             [
              0,
              "#0d0887"
             ],
             [
              0.1111111111111111,
              "#46039f"
             ],
             [
              0.2222222222222222,
              "#7201a8"
             ],
             [
              0.3333333333333333,
              "#9c179e"
             ],
             [
              0.4444444444444444,
              "#bd3786"
             ],
             [
              0.5555555555555556,
              "#d8576b"
             ],
             [
              0.6666666666666666,
              "#ed7953"
             ],
             [
              0.7777777777777778,
              "#fb9f3a"
             ],
             [
              0.8888888888888888,
              "#fdca26"
             ],
             [
              1,
              "#f0f921"
             ]
            ],
            "type": "histogram2d"
           }
          ],
          "histogram2dcontour": [
           {
            "colorbar": {
             "outlinewidth": 0,
             "ticks": ""
            },
            "colorscale": [
             [
              0,
              "#0d0887"
             ],
             [
              0.1111111111111111,
              "#46039f"
             ],
             [
              0.2222222222222222,
              "#7201a8"
             ],
             [
              0.3333333333333333,
              "#9c179e"
             ],
             [
              0.4444444444444444,
              "#bd3786"
             ],
             [
              0.5555555555555556,
              "#d8576b"
             ],
             [
              0.6666666666666666,
              "#ed7953"
             ],
             [
              0.7777777777777778,
              "#fb9f3a"
             ],
             [
              0.8888888888888888,
              "#fdca26"
             ],
             [
              1,
              "#f0f921"
             ]
            ],
            "type": "histogram2dcontour"
           }
          ],
          "mesh3d": [
           {
            "colorbar": {
             "outlinewidth": 0,
             "ticks": ""
            },
            "type": "mesh3d"
           }
          ],
          "parcoords": [
           {
            "line": {
             "colorbar": {
              "outlinewidth": 0,
              "ticks": ""
             }
            },
            "type": "parcoords"
           }
          ],
          "pie": [
           {
            "automargin": true,
            "type": "pie"
           }
          ],
          "scatter": [
           {
            "fillpattern": {
             "fillmode": "overlay",
             "size": 10,
             "solidity": 0.2
            },
            "type": "scatter"
           }
          ],
          "scatter3d": [
           {
            "line": {
             "colorbar": {
              "outlinewidth": 0,
              "ticks": ""
             }
            },
            "marker": {
             "colorbar": {
              "outlinewidth": 0,
              "ticks": ""
             }
            },
            "type": "scatter3d"
           }
          ],
          "scattercarpet": [
           {
            "marker": {
             "colorbar": {
              "outlinewidth": 0,
              "ticks": ""
             }
            },
            "type": "scattercarpet"
           }
          ],
          "scattergeo": [
           {
            "marker": {
             "colorbar": {
              "outlinewidth": 0,
              "ticks": ""
             }
            },
            "type": "scattergeo"
           }
          ],
          "scattergl": [
           {
            "marker": {
             "colorbar": {
              "outlinewidth": 0,
              "ticks": ""
             }
            },
            "type": "scattergl"
           }
          ],
          "scattermapbox": [
           {
            "marker": {
             "colorbar": {
              "outlinewidth": 0,
              "ticks": ""
             }
            },
            "type": "scattermapbox"
           }
          ],
          "scatterpolar": [
           {
            "marker": {
             "colorbar": {
              "outlinewidth": 0,
              "ticks": ""
             }
            },
            "type": "scatterpolar"
           }
          ],
          "scatterpolargl": [
           {
            "marker": {
             "colorbar": {
              "outlinewidth": 0,
              "ticks": ""
             }
            },
            "type": "scatterpolargl"
           }
          ],
          "scatterternary": [
           {
            "marker": {
             "colorbar": {
              "outlinewidth": 0,
              "ticks": ""
             }
            },
            "type": "scatterternary"
           }
          ],
          "surface": [
           {
            "colorbar": {
             "outlinewidth": 0,
             "ticks": ""
            },
            "colorscale": [
             [
              0,
              "#0d0887"
             ],
             [
              0.1111111111111111,
              "#46039f"
             ],
             [
              0.2222222222222222,
              "#7201a8"
             ],
             [
              0.3333333333333333,
              "#9c179e"
             ],
             [
              0.4444444444444444,
              "#bd3786"
             ],
             [
              0.5555555555555556,
              "#d8576b"
             ],
             [
              0.6666666666666666,
              "#ed7953"
             ],
             [
              0.7777777777777778,
              "#fb9f3a"
             ],
             [
              0.8888888888888888,
              "#fdca26"
             ],
             [
              1,
              "#f0f921"
             ]
            ],
            "type": "surface"
           }
          ],
          "table": [
           {
            "cells": {
             "fill": {
              "color": "#EBF0F8"
             },
             "line": {
              "color": "white"
             }
            },
            "header": {
             "fill": {
              "color": "#C8D4E3"
             },
             "line": {
              "color": "white"
             }
            },
            "type": "table"
           }
          ]
         },
         "layout": {
          "annotationdefaults": {
           "arrowcolor": "#2a3f5f",
           "arrowhead": 0,
           "arrowwidth": 1
          },
          "autotypenumbers": "strict",
          "coloraxis": {
           "colorbar": {
            "outlinewidth": 0,
            "ticks": ""
           }
          },
          "colorscale": {
           "diverging": [
            [
             0,
             "#8e0152"
            ],
            [
             0.1,
             "#c51b7d"
            ],
            [
             0.2,
             "#de77ae"
            ],
            [
             0.3,
             "#f1b6da"
            ],
            [
             0.4,
             "#fde0ef"
            ],
            [
             0.5,
             "#f7f7f7"
            ],
            [
             0.6,
             "#e6f5d0"
            ],
            [
             0.7,
             "#b8e186"
            ],
            [
             0.8,
             "#7fbc41"
            ],
            [
             0.9,
             "#4d9221"
            ],
            [
             1,
             "#276419"
            ]
           ],
           "sequential": [
            [
             0,
             "#0d0887"
            ],
            [
             0.1111111111111111,
             "#46039f"
            ],
            [
             0.2222222222222222,
             "#7201a8"
            ],
            [
             0.3333333333333333,
             "#9c179e"
            ],
            [
             0.4444444444444444,
             "#bd3786"
            ],
            [
             0.5555555555555556,
             "#d8576b"
            ],
            [
             0.6666666666666666,
             "#ed7953"
            ],
            [
             0.7777777777777778,
             "#fb9f3a"
            ],
            [
             0.8888888888888888,
             "#fdca26"
            ],
            [
             1,
             "#f0f921"
            ]
           ],
           "sequentialminus": [
            [
             0,
             "#0d0887"
            ],
            [
             0.1111111111111111,
             "#46039f"
            ],
            [
             0.2222222222222222,
             "#7201a8"
            ],
            [
             0.3333333333333333,
             "#9c179e"
            ],
            [
             0.4444444444444444,
             "#bd3786"
            ],
            [
             0.5555555555555556,
             "#d8576b"
            ],
            [
             0.6666666666666666,
             "#ed7953"
            ],
            [
             0.7777777777777778,
             "#fb9f3a"
            ],
            [
             0.8888888888888888,
             "#fdca26"
            ],
            [
             1,
             "#f0f921"
            ]
           ]
          },
          "colorway": [
           "#636efa",
           "#EF553B",
           "#00cc96",
           "#ab63fa",
           "#FFA15A",
           "#19d3f3",
           "#FF6692",
           "#B6E880",
           "#FF97FF",
           "#FECB52"
          ],
          "font": {
           "color": "#2a3f5f"
          },
          "geo": {
           "bgcolor": "white",
           "lakecolor": "white",
           "landcolor": "#E5ECF6",
           "showlakes": true,
           "showland": true,
           "subunitcolor": "white"
          },
          "hoverlabel": {
           "align": "left"
          },
          "hovermode": "closest",
          "mapbox": {
           "style": "light"
          },
          "paper_bgcolor": "white",
          "plot_bgcolor": "#E5ECF6",
          "polar": {
           "angularaxis": {
            "gridcolor": "white",
            "linecolor": "white",
            "ticks": ""
           },
           "bgcolor": "#E5ECF6",
           "radialaxis": {
            "gridcolor": "white",
            "linecolor": "white",
            "ticks": ""
           }
          },
          "scene": {
           "xaxis": {
            "backgroundcolor": "#E5ECF6",
            "gridcolor": "white",
            "gridwidth": 2,
            "linecolor": "white",
            "showbackground": true,
            "ticks": "",
            "zerolinecolor": "white"
           },
           "yaxis": {
            "backgroundcolor": "#E5ECF6",
            "gridcolor": "white",
            "gridwidth": 2,
            "linecolor": "white",
            "showbackground": true,
            "ticks": "",
            "zerolinecolor": "white"
           },
           "zaxis": {
            "backgroundcolor": "#E5ECF6",
            "gridcolor": "white",
            "gridwidth": 2,
            "linecolor": "white",
            "showbackground": true,
            "ticks": "",
            "zerolinecolor": "white"
           }
          },
          "shapedefaults": {
           "line": {
            "color": "#2a3f5f"
           }
          },
          "ternary": {
           "aaxis": {
            "gridcolor": "white",
            "linecolor": "white",
            "ticks": ""
           },
           "baxis": {
            "gridcolor": "white",
            "linecolor": "white",
            "ticks": ""
           },
           "bgcolor": "#E5ECF6",
           "caxis": {
            "gridcolor": "white",
            "linecolor": "white",
            "ticks": ""
           }
          },
          "title": {
           "x": 0.05
          },
          "xaxis": {
           "automargin": true,
           "gridcolor": "white",
           "linecolor": "white",
           "ticks": "",
           "title": {
            "standoff": 15
           },
           "zerolinecolor": "white",
           "zerolinewidth": 2
          },
          "yaxis": {
           "automargin": true,
           "gridcolor": "white",
           "linecolor": "white",
           "ticks": "",
           "title": {
            "standoff": 15
           },
           "zerolinecolor": "white",
           "zerolinewidth": 2
          }
         }
        },
        "title": {
         "text": "Hyperparameter Importances"
        },
        "xaxis": {
         "title": {
          "text": "Hyperparameter Importance"
         }
        },
        "yaxis": {
         "title": {
          "text": "Hyperparameter"
         }
        }
       }
      }
     },
     "metadata": {},
     "output_type": "display_data"
    },
    {
     "data": {
      "application/vnd.plotly.v1+json": {
       "config": {
        "plotlyServerURL": "https://plot.ly"
       },
       "data": [
        {
         "marker": {
          "color": [
           0,
           1,
           2,
           3,
           4,
           5,
           8,
           10,
           11,
           12,
           14,
           17,
           19,
           20,
           27,
           28,
           29,
           36,
           40,
           41,
           42,
           44,
           54,
           58,
           59,
           60,
           62,
           63,
           64,
           66,
           68,
           69,
           71,
           72,
           73,
           76,
           77,
           78,
           81,
           82,
           83,
           84,
           85,
           86,
           88,
           89,
           91,
           92,
           93,
           94,
           96,
           98,
           99
          ],
          "colorbar": {
           "title": {
            "text": "Trial"
           },
           "x": 1,
           "xpad": 40
          },
          "colorscale": [
           [
            0,
            "rgb(247,251,255)"
           ],
           [
            0.125,
            "rgb(222,235,247)"
           ],
           [
            0.25,
            "rgb(198,219,239)"
           ],
           [
            0.375,
            "rgb(158,202,225)"
           ],
           [
            0.5,
            "rgb(107,174,214)"
           ],
           [
            0.625,
            "rgb(66,146,198)"
           ],
           [
            0.75,
            "rgb(33,113,181)"
           ],
           [
            0.875,
            "rgb(8,81,156)"
           ],
           [
            1,
            "rgb(8,48,107)"
           ]
          ],
          "line": {
           "color": "Grey",
           "width": 0.5
          },
          "showscale": true
         },
         "mode": "markers",
         "name": "Feasible Trial",
         "showlegend": false,
         "type": "scatter",
         "x": [
          5,
          20,
          10,
          10,
          20,
          5,
          10,
          30,
          30,
          30,
          15,
          10,
          25,
          15,
          15,
          20,
          15,
          10,
          10,
          10,
          10,
          10,
          10,
          15,
          15,
          15,
          15,
          15,
          20,
          20,
          20,
          20,
          20,
          25,
          25,
          20,
          20,
          20,
          20,
          20,
          20,
          20,
          25,
          20,
          20,
          20,
          20,
          20,
          20,
          20,
          20,
          20,
          20
         ],
         "xaxis": "x",
         "y": [
          0.5038194444444445,
          0.5022222222222222,
          0.5070138888888889,
          0.5038194444444445,
          0.4897916666666667,
          0.5042361111111111,
          0.5063194444444444,
          0.5066666666666667,
          0.5070138888888889,
          0.5060416666666666,
          0.5077777777777778,
          0.5097916666666666,
          0.506875,
          0.506875,
          0.5091666666666667,
          0.5068055555555555,
          0.5075,
          0.5084722222222222,
          0.5084027777777778,
          0.5119444444444444,
          0.5101388888888889,
          0.5147916666666666,
          0.5091666666666667,
          0.514375,
          0.5155555555555555,
          0.5233333333333333,
          0.5181944444444444,
          0.513125,
          0.5161805555555555,
          0.5140972222222222,
          0.5092361111111111,
          0.5202777777777777,
          0.5200694444444445,
          0.5165972222222223,
          0.5127777777777778,
          0.5180555555555556,
          0.5228472222222222,
          0.5220833333333333,
          0.5159722222222223,
          0.5182638888888889,
          0.5124305555555555,
          0.5127083333333333,
          0.524375,
          0.5196527777777777,
          0.516875,
          0.5135416666666667,
          0.5197916666666667,
          0.5245833333333333,
          0.52125,
          0.5128472222222222,
          0.5186805555555556,
          0.51375,
          0.5148611111111111
         ],
         "yaxis": "y"
        },
        {
         "marker": {
          "color": [
           0,
           1,
           2,
           3,
           4,
           5,
           8,
           10,
           11,
           12,
           14,
           17,
           19,
           20,
           27,
           28,
           29,
           36,
           40,
           41,
           42,
           44,
           54,
           58,
           59,
           60,
           62,
           63,
           64,
           66,
           68,
           69,
           71,
           72,
           73,
           76,
           77,
           78,
           81,
           82,
           83,
           84,
           85,
           86,
           88,
           89,
           91,
           92,
           93,
           94,
           96,
           98,
           99
          ],
          "colorbar": {
           "title": {
            "text": "Trial"
           },
           "x": 1,
           "xpad": 40
          },
          "colorscale": [
           [
            0,
            "rgb(247,251,255)"
           ],
           [
            0.125,
            "rgb(222,235,247)"
           ],
           [
            0.25,
            "rgb(198,219,239)"
           ],
           [
            0.375,
            "rgb(158,202,225)"
           ],
           [
            0.5,
            "rgb(107,174,214)"
           ],
           [
            0.625,
            "rgb(66,146,198)"
           ],
           [
            0.75,
            "rgb(33,113,181)"
           ],
           [
            0.875,
            "rgb(8,81,156)"
           ],
           [
            1,
            "rgb(8,48,107)"
           ]
          ],
          "line": {
           "color": "Grey",
           "width": 0.5
          },
          "showscale": false
         },
         "mode": "markers",
         "name": "Feasible Trial",
         "showlegend": false,
         "type": "scatter",
         "x": [
          "sqrt",
          "log2",
          "log2",
          "log2",
          "sqrt",
          "log2",
          "log2",
          "log2",
          "log2",
          "log2",
          "log2",
          "log2",
          "log2",
          "log2",
          "log2",
          "log2",
          "sqrt",
          "sqrt",
          "log2",
          "log2",
          "log2",
          "log2",
          "log2",
          "log2",
          "log2",
          "log2",
          "log2",
          "log2",
          "log2",
          "log2",
          "log2",
          "log2",
          "log2",
          "log2",
          "log2",
          "log2",
          "log2",
          "log2",
          "log2",
          "log2",
          "log2",
          "log2",
          "log2",
          "log2",
          "log2",
          "log2",
          "log2",
          "log2",
          "log2",
          "log2",
          "log2",
          "sqrt",
          "log2"
         ],
         "xaxis": "x2",
         "y": [
          0.5038194444444445,
          0.5022222222222222,
          0.5070138888888889,
          0.5038194444444445,
          0.4897916666666667,
          0.5042361111111111,
          0.5063194444444444,
          0.5066666666666667,
          0.5070138888888889,
          0.5060416666666666,
          0.5077777777777778,
          0.5097916666666666,
          0.506875,
          0.506875,
          0.5091666666666667,
          0.5068055555555555,
          0.5075,
          0.5084722222222222,
          0.5084027777777778,
          0.5119444444444444,
          0.5101388888888889,
          0.5147916666666666,
          0.5091666666666667,
          0.514375,
          0.5155555555555555,
          0.5233333333333333,
          0.5181944444444444,
          0.513125,
          0.5161805555555555,
          0.5140972222222222,
          0.5092361111111111,
          0.5202777777777777,
          0.5200694444444445,
          0.5165972222222223,
          0.5127777777777778,
          0.5180555555555556,
          0.5228472222222222,
          0.5220833333333333,
          0.5159722222222223,
          0.5182638888888889,
          0.5124305555555555,
          0.5127083333333333,
          0.524375,
          0.5196527777777777,
          0.516875,
          0.5135416666666667,
          0.5197916666666667,
          0.5245833333333333,
          0.52125,
          0.5128472222222222,
          0.5186805555555556,
          0.51375,
          0.5148611111111111
         ],
         "yaxis": "y2"
        },
        {
         "marker": {
          "color": [
           0,
           1,
           2,
           3,
           4,
           5,
           8,
           10,
           11,
           12,
           14,
           17,
           19,
           20,
           27,
           28,
           29,
           36,
           40,
           41,
           42,
           44,
           54,
           58,
           59,
           60,
           62,
           63,
           64,
           66,
           68,
           69,
           71,
           72,
           73,
           76,
           77,
           78,
           81,
           82,
           83,
           84,
           85,
           86,
           88,
           89,
           91,
           92,
           93,
           94,
           96,
           98,
           99
          ],
          "colorbar": {
           "title": {
            "text": "Trial"
           },
           "x": 1,
           "xpad": 40
          },
          "colorscale": [
           [
            0,
            "rgb(247,251,255)"
           ],
           [
            0.125,
            "rgb(222,235,247)"
           ],
           [
            0.25,
            "rgb(198,219,239)"
           ],
           [
            0.375,
            "rgb(158,202,225)"
           ],
           [
            0.5,
            "rgb(107,174,214)"
           ],
           [
            0.625,
            "rgb(66,146,198)"
           ],
           [
            0.75,
            "rgb(33,113,181)"
           ],
           [
            0.875,
            "rgb(8,81,156)"
           ],
           [
            1,
            "rgb(8,48,107)"
           ]
          ],
          "line": {
           "color": "Grey",
           "width": 0.5
          },
          "showscale": false
         },
         "mode": "markers",
         "name": "Feasible Trial",
         "showlegend": false,
         "type": "scatter",
         "x": [
          3,
          3,
          8,
          1,
          9,
          6,
          7,
          10,
          10,
          9,
          8,
          8,
          6,
          8,
          4,
          4,
          1,
          1,
          6,
          6,
          6,
          4,
          3,
          3,
          3,
          3,
          3,
          3,
          3,
          2,
          2,
          3,
          2,
          3,
          2,
          2,
          1,
          1,
          1,
          1,
          1,
          1,
          2,
          2,
          2,
          2,
          2,
          2,
          2,
          2,
          2,
          1,
          2
         ],
         "xaxis": "x3",
         "y": [
          0.5038194444444445,
          0.5022222222222222,
          0.5070138888888889,
          0.5038194444444445,
          0.4897916666666667,
          0.5042361111111111,
          0.5063194444444444,
          0.5066666666666667,
          0.5070138888888889,
          0.5060416666666666,
          0.5077777777777778,
          0.5097916666666666,
          0.506875,
          0.506875,
          0.5091666666666667,
          0.5068055555555555,
          0.5075,
          0.5084722222222222,
          0.5084027777777778,
          0.5119444444444444,
          0.5101388888888889,
          0.5147916666666666,
          0.5091666666666667,
          0.514375,
          0.5155555555555555,
          0.5233333333333333,
          0.5181944444444444,
          0.513125,
          0.5161805555555555,
          0.5140972222222222,
          0.5092361111111111,
          0.5202777777777777,
          0.5200694444444445,
          0.5165972222222223,
          0.5127777777777778,
          0.5180555555555556,
          0.5228472222222222,
          0.5220833333333333,
          0.5159722222222223,
          0.5182638888888889,
          0.5124305555555555,
          0.5127083333333333,
          0.524375,
          0.5196527777777777,
          0.516875,
          0.5135416666666667,
          0.5197916666666667,
          0.5245833333333333,
          0.52125,
          0.5128472222222222,
          0.5186805555555556,
          0.51375,
          0.5148611111111111
         ],
         "yaxis": "y3"
        },
        {
         "marker": {
          "color": [
           0,
           1,
           2,
           3,
           4,
           5,
           8,
           10,
           11,
           12,
           14,
           17,
           19,
           20,
           27,
           28,
           29,
           36,
           40,
           41,
           42,
           44,
           54,
           58,
           59,
           60,
           62,
           63,
           64,
           66,
           68,
           69,
           71,
           72,
           73,
           76,
           77,
           78,
           81,
           82,
           83,
           84,
           85,
           86,
           88,
           89,
           91,
           92,
           93,
           94,
           96,
           98,
           99
          ],
          "colorbar": {
           "title": {
            "text": "Trial"
           },
           "x": 1,
           "xpad": 40
          },
          "colorscale": [
           [
            0,
            "rgb(247,251,255)"
           ],
           [
            0.125,
            "rgb(222,235,247)"
           ],
           [
            0.25,
            "rgb(198,219,239)"
           ],
           [
            0.375,
            "rgb(158,202,225)"
           ],
           [
            0.5,
            "rgb(107,174,214)"
           ],
           [
            0.625,
            "rgb(66,146,198)"
           ],
           [
            0.75,
            "rgb(33,113,181)"
           ],
           [
            0.875,
            "rgb(8,81,156)"
           ],
           [
            1,
            "rgb(8,48,107)"
           ]
          ],
          "line": {
           "color": "Grey",
           "width": 0.5
          },
          "showscale": false
         },
         "mode": "markers",
         "name": "Feasible Trial",
         "showlegend": false,
         "type": "scatter",
         "x": [
          15,
          4,
          9,
          4,
          14,
          14,
          13,
          9,
          20,
          20,
          8,
          11,
          6,
          2,
          8,
          7,
          12,
          10,
          8,
          8,
          10,
          9,
          8,
          7,
          7,
          5,
          5,
          5,
          5,
          3,
          4,
          6,
          6,
          6,
          6,
          6,
          4,
          4,
          5,
          6,
          6,
          4,
          2,
          2,
          2,
          3,
          2,
          2,
          2,
          2,
          3,
          3,
          2
         ],
         "xaxis": "x4",
         "y": [
          0.5038194444444445,
          0.5022222222222222,
          0.5070138888888889,
          0.5038194444444445,
          0.4897916666666667,
          0.5042361111111111,
          0.5063194444444444,
          0.5066666666666667,
          0.5070138888888889,
          0.5060416666666666,
          0.5077777777777778,
          0.5097916666666666,
          0.506875,
          0.506875,
          0.5091666666666667,
          0.5068055555555555,
          0.5075,
          0.5084722222222222,
          0.5084027777777778,
          0.5119444444444444,
          0.5101388888888889,
          0.5147916666666666,
          0.5091666666666667,
          0.514375,
          0.5155555555555555,
          0.5233333333333333,
          0.5181944444444444,
          0.513125,
          0.5161805555555555,
          0.5140972222222222,
          0.5092361111111111,
          0.5202777777777777,
          0.5200694444444445,
          0.5165972222222223,
          0.5127777777777778,
          0.5180555555555556,
          0.5228472222222222,
          0.5220833333333333,
          0.5159722222222223,
          0.5182638888888889,
          0.5124305555555555,
          0.5127083333333333,
          0.524375,
          0.5196527777777777,
          0.516875,
          0.5135416666666667,
          0.5197916666666667,
          0.5245833333333333,
          0.52125,
          0.5128472222222222,
          0.5186805555555556,
          0.51375,
          0.5148611111111111
         ],
         "yaxis": "y4"
        },
        {
         "marker": {
          "color": [
           0,
           1,
           2,
           3,
           4,
           5,
           8,
           10,
           11,
           12,
           14,
           17,
           19,
           20,
           27,
           28,
           29,
           36,
           40,
           41,
           42,
           44,
           54,
           58,
           59,
           60,
           62,
           63,
           64,
           66,
           68,
           69,
           71,
           72,
           73,
           76,
           77,
           78,
           81,
           82,
           83,
           84,
           85,
           86,
           88,
           89,
           91,
           92,
           93,
           94,
           96,
           98,
           99
          ],
          "colorbar": {
           "title": {
            "text": "Trial"
           },
           "x": 1,
           "xpad": 40
          },
          "colorscale": [
           [
            0,
            "rgb(247,251,255)"
           ],
           [
            0.125,
            "rgb(222,235,247)"
           ],
           [
            0.25,
            "rgb(198,219,239)"
           ],
           [
            0.375,
            "rgb(158,202,225)"
           ],
           [
            0.5,
            "rgb(107,174,214)"
           ],
           [
            0.625,
            "rgb(66,146,198)"
           ],
           [
            0.75,
            "rgb(33,113,181)"
           ],
           [
            0.875,
            "rgb(8,81,156)"
           ],
           [
            1,
            "rgb(8,48,107)"
           ]
          ],
          "line": {
           "color": "Grey",
           "width": 0.5
          },
          "showscale": false
         },
         "mode": "markers",
         "name": "Feasible Trial",
         "showlegend": false,
         "type": "scatter",
         "x": [
          250,
          100,
          200,
          250,
          250,
          250,
          300,
          150,
          150,
          150,
          200,
          200,
          150,
          200,
          250,
          300,
          250,
          250,
          200,
          200,
          200,
          250,
          300,
          150,
          100,
          100,
          100,
          100,
          100,
          100,
          100,
          100,
          100,
          100,
          100,
          100,
          100,
          100,
          100,
          100,
          100,
          100,
          100,
          100,
          150,
          100,
          100,
          100,
          100,
          100,
          100,
          150,
          100
         ],
         "xaxis": "x5",
         "y": [
          0.5038194444444445,
          0.5022222222222222,
          0.5070138888888889,
          0.5038194444444445,
          0.4897916666666667,
          0.5042361111111111,
          0.5063194444444444,
          0.5066666666666667,
          0.5070138888888889,
          0.5060416666666666,
          0.5077777777777778,
          0.5097916666666666,
          0.506875,
          0.506875,
          0.5091666666666667,
          0.5068055555555555,
          0.5075,
          0.5084722222222222,
          0.5084027777777778,
          0.5119444444444444,
          0.5101388888888889,
          0.5147916666666666,
          0.5091666666666667,
          0.514375,
          0.5155555555555555,
          0.5233333333333333,
          0.5181944444444444,
          0.513125,
          0.5161805555555555,
          0.5140972222222222,
          0.5092361111111111,
          0.5202777777777777,
          0.5200694444444445,
          0.5165972222222223,
          0.5127777777777778,
          0.5180555555555556,
          0.5228472222222222,
          0.5220833333333333,
          0.5159722222222223,
          0.5182638888888889,
          0.5124305555555555,
          0.5127083333333333,
          0.524375,
          0.5196527777777777,
          0.516875,
          0.5135416666666667,
          0.5197916666666667,
          0.5245833333333333,
          0.52125,
          0.5128472222222222,
          0.5186805555555556,
          0.51375,
          0.5148611111111111
         ],
         "yaxis": "y5"
        },
        {
         "marker": {
          "color": [
           4,
           40,
           41,
           42,
           44,
           54,
           58,
           59,
           60,
           62,
           63,
           64,
           66,
           68,
           69,
           71,
           72,
           73,
           76,
           77,
           78,
           81,
           82,
           83,
           84,
           85,
           86,
           88,
           89,
           91,
           92,
           93,
           94,
           96,
           98,
           99
          ],
          "colorbar": {
           "title": {
            "text": "Trial"
           },
           "x": 1,
           "xpad": 40
          },
          "colorscale": [
           [
            0,
            "rgb(247,251,255)"
           ],
           [
            0.125,
            "rgb(222,235,247)"
           ],
           [
            0.25,
            "rgb(198,219,239)"
           ],
           [
            0.375,
            "rgb(158,202,225)"
           ],
           [
            0.5,
            "rgb(107,174,214)"
           ],
           [
            0.625,
            "rgb(66,146,198)"
           ],
           [
            0.75,
            "rgb(33,113,181)"
           ],
           [
            0.875,
            "rgb(8,81,156)"
           ],
           [
            1,
            "rgb(8,48,107)"
           ]
          ],
          "line": {
           "color": "Grey",
           "width": 0.5
          },
          "showscale": false
         },
         "mode": "markers",
         "name": "Feasible Trial",
         "showlegend": false,
         "type": "scatter",
         "x": [
          7,
          3,
          3,
          3,
          3,
          2,
          3,
          3,
          3,
          3,
          3,
          3,
          3,
          2,
          3,
          3,
          3,
          2,
          3,
          3,
          3,
          3,
          3,
          3,
          2,
          3,
          3,
          3,
          2,
          3,
          3,
          3,
          2,
          3,
          3,
          2
         ],
         "xaxis": "x6",
         "y": [
          0.4897916666666667,
          0.5084027777777778,
          0.5119444444444444,
          0.5101388888888889,
          0.5147916666666666,
          0.5091666666666667,
          0.514375,
          0.5155555555555555,
          0.5233333333333333,
          0.5181944444444444,
          0.513125,
          0.5161805555555555,
          0.5140972222222222,
          0.5092361111111111,
          0.5202777777777777,
          0.5200694444444445,
          0.5165972222222223,
          0.5127777777777778,
          0.5180555555555556,
          0.5228472222222222,
          0.5220833333333333,
          0.5159722222222223,
          0.5182638888888889,
          0.5124305555555555,
          0.5127083333333333,
          0.524375,
          0.5196527777777777,
          0.516875,
          0.5135416666666667,
          0.5197916666666667,
          0.5245833333333333,
          0.52125,
          0.5128472222222222,
          0.5186805555555556,
          0.51375,
          0.5148611111111111
         ],
         "yaxis": "y6"
        },
        {
         "marker": {
          "color": [
           0,
           1,
           2,
           3,
           4,
           5,
           8,
           10,
           11,
           12,
           14,
           17,
           19,
           20,
           27,
           28,
           29,
           36,
           40,
           41,
           42,
           44,
           54,
           58,
           59,
           60,
           62,
           63,
           64,
           66,
           68,
           69,
           71,
           72,
           73,
           76,
           77,
           78,
           81,
           82,
           83,
           84,
           85,
           86,
           88,
           89,
           91,
           92,
           93,
           94,
           96,
           98,
           99
          ],
          "colorbar": {
           "title": {
            "text": "Trial"
           },
           "x": 1,
           "xpad": 40
          },
          "colorscale": [
           [
            0,
            "rgb(247,251,255)"
           ],
           [
            0.125,
            "rgb(222,235,247)"
           ],
           [
            0.25,
            "rgb(198,219,239)"
           ],
           [
            0.375,
            "rgb(158,202,225)"
           ],
           [
            0.5,
            "rgb(107,174,214)"
           ],
           [
            0.625,
            "rgb(66,146,198)"
           ],
           [
            0.75,
            "rgb(33,113,181)"
           ],
           [
            0.875,
            "rgb(8,81,156)"
           ],
           [
            1,
            "rgb(8,48,107)"
           ]
          ],
          "line": {
           "color": "Grey",
           "width": 0.5
          },
          "showscale": false
         },
         "mode": "markers",
         "name": "Feasible Trial",
         "showlegend": false,
         "type": "scatter",
         "x": [
          "False",
          "False",
          "False",
          "False",
          "True",
          "False",
          "False",
          "False",
          "False",
          "False",
          "False",
          "False",
          "False",
          "False",
          "False",
          "False",
          "False",
          "False",
          "True",
          "True",
          "True",
          "True",
          "True",
          "True",
          "True",
          "True",
          "True",
          "True",
          "True",
          "True",
          "True",
          "True",
          "True",
          "True",
          "True",
          "True",
          "True",
          "True",
          "True",
          "True",
          "True",
          "True",
          "True",
          "True",
          "True",
          "True",
          "True",
          "True",
          "True",
          "True",
          "True",
          "True",
          "True"
         ],
         "xaxis": "x7",
         "y": [
          0.5038194444444445,
          0.5022222222222222,
          0.5070138888888889,
          0.5038194444444445,
          0.4897916666666667,
          0.5042361111111111,
          0.5063194444444444,
          0.5066666666666667,
          0.5070138888888889,
          0.5060416666666666,
          0.5077777777777778,
          0.5097916666666666,
          0.506875,
          0.506875,
          0.5091666666666667,
          0.5068055555555555,
          0.5075,
          0.5084722222222222,
          0.5084027777777778,
          0.5119444444444444,
          0.5101388888888889,
          0.5147916666666666,
          0.5091666666666667,
          0.514375,
          0.5155555555555555,
          0.5233333333333333,
          0.5181944444444444,
          0.513125,
          0.5161805555555555,
          0.5140972222222222,
          0.5092361111111111,
          0.5202777777777777,
          0.5200694444444445,
          0.5165972222222223,
          0.5127777777777778,
          0.5180555555555556,
          0.5228472222222222,
          0.5220833333333333,
          0.5159722222222223,
          0.5182638888888889,
          0.5124305555555555,
          0.5127083333333333,
          0.524375,
          0.5196527777777777,
          0.516875,
          0.5135416666666667,
          0.5197916666666667,
          0.5245833333333333,
          0.52125,
          0.5128472222222222,
          0.5186805555555556,
          0.51375,
          0.5148611111111111
         ],
         "yaxis": "y7"
        }
       ],
       "layout": {
        "template": {
         "data": {
          "bar": [
           {
            "error_x": {
             "color": "#2a3f5f"
            },
            "error_y": {
             "color": "#2a3f5f"
            },
            "marker": {
             "line": {
              "color": "#E5ECF6",
              "width": 0.5
             },
             "pattern": {
              "fillmode": "overlay",
              "size": 10,
              "solidity": 0.2
             }
            },
            "type": "bar"
           }
          ],
          "barpolar": [
           {
            "marker": {
             "line": {
              "color": "#E5ECF6",
              "width": 0.5
             },
             "pattern": {
              "fillmode": "overlay",
              "size": 10,
              "solidity": 0.2
             }
            },
            "type": "barpolar"
           }
          ],
          "carpet": [
           {
            "aaxis": {
             "endlinecolor": "#2a3f5f",
             "gridcolor": "white",
             "linecolor": "white",
             "minorgridcolor": "white",
             "startlinecolor": "#2a3f5f"
            },
            "baxis": {
             "endlinecolor": "#2a3f5f",
             "gridcolor": "white",
             "linecolor": "white",
             "minorgridcolor": "white",
             "startlinecolor": "#2a3f5f"
            },
            "type": "carpet"
           }
          ],
          "choropleth": [
           {
            "colorbar": {
             "outlinewidth": 0,
             "ticks": ""
            },
            "type": "choropleth"
           }
          ],
          "contour": [
           {
            "colorbar": {
             "outlinewidth": 0,
             "ticks": ""
            },
            "colorscale": [
             [
              0,
              "#0d0887"
             ],
             [
              0.1111111111111111,
              "#46039f"
             ],
             [
              0.2222222222222222,
              "#7201a8"
             ],
             [
              0.3333333333333333,
              "#9c179e"
             ],
             [
              0.4444444444444444,
              "#bd3786"
             ],
             [
              0.5555555555555556,
              "#d8576b"
             ],
             [
              0.6666666666666666,
              "#ed7953"
             ],
             [
              0.7777777777777778,
              "#fb9f3a"
             ],
             [
              0.8888888888888888,
              "#fdca26"
             ],
             [
              1,
              "#f0f921"
             ]
            ],
            "type": "contour"
           }
          ],
          "contourcarpet": [
           {
            "colorbar": {
             "outlinewidth": 0,
             "ticks": ""
            },
            "type": "contourcarpet"
           }
          ],
          "heatmap": [
           {
            "colorbar": {
             "outlinewidth": 0,
             "ticks": ""
            },
            "colorscale": [
             [
              0,
              "#0d0887"
             ],
             [
              0.1111111111111111,
              "#46039f"
             ],
             [
              0.2222222222222222,
              "#7201a8"
             ],
             [
              0.3333333333333333,
              "#9c179e"
             ],
             [
              0.4444444444444444,
              "#bd3786"
             ],
             [
              0.5555555555555556,
              "#d8576b"
             ],
             [
              0.6666666666666666,
              "#ed7953"
             ],
             [
              0.7777777777777778,
              "#fb9f3a"
             ],
             [
              0.8888888888888888,
              "#fdca26"
             ],
             [
              1,
              "#f0f921"
             ]
            ],
            "type": "heatmap"
           }
          ],
          "heatmapgl": [
           {
            "colorbar": {
             "outlinewidth": 0,
             "ticks": ""
            },
            "colorscale": [
             [
              0,
              "#0d0887"
             ],
             [
              0.1111111111111111,
              "#46039f"
             ],
             [
              0.2222222222222222,
              "#7201a8"
             ],
             [
              0.3333333333333333,
              "#9c179e"
             ],
             [
              0.4444444444444444,
              "#bd3786"
             ],
             [
              0.5555555555555556,
              "#d8576b"
             ],
             [
              0.6666666666666666,
              "#ed7953"
             ],
             [
              0.7777777777777778,
              "#fb9f3a"
             ],
             [
              0.8888888888888888,
              "#fdca26"
             ],
             [
              1,
              "#f0f921"
             ]
            ],
            "type": "heatmapgl"
           }
          ],
          "histogram": [
           {
            "marker": {
             "pattern": {
              "fillmode": "overlay",
              "size": 10,
              "solidity": 0.2
             }
            },
            "type": "histogram"
           }
          ],
          "histogram2d": [
           {
            "colorbar": {
             "outlinewidth": 0,
             "ticks": ""
            },
            "colorscale": [
             [
              0,
              "#0d0887"
             ],
             [
              0.1111111111111111,
              "#46039f"
             ],
             [
              0.2222222222222222,
              "#7201a8"
             ],
             [
              0.3333333333333333,
              "#9c179e"
             ],
             [
              0.4444444444444444,
              "#bd3786"
             ],
             [
              0.5555555555555556,
              "#d8576b"
             ],
             [
              0.6666666666666666,
              "#ed7953"
             ],
             [
              0.7777777777777778,
              "#fb9f3a"
             ],
             [
              0.8888888888888888,
              "#fdca26"
             ],
             [
              1,
              "#f0f921"
             ]
            ],
            "type": "histogram2d"
           }
          ],
          "histogram2dcontour": [
           {
            "colorbar": {
             "outlinewidth": 0,
             "ticks": ""
            },
            "colorscale": [
             [
              0,
              "#0d0887"
             ],
             [
              0.1111111111111111,
              "#46039f"
             ],
             [
              0.2222222222222222,
              "#7201a8"
             ],
             [
              0.3333333333333333,
              "#9c179e"
             ],
             [
              0.4444444444444444,
              "#bd3786"
             ],
             [
              0.5555555555555556,
              "#d8576b"
             ],
             [
              0.6666666666666666,
              "#ed7953"
             ],
             [
              0.7777777777777778,
              "#fb9f3a"
             ],
             [
              0.8888888888888888,
              "#fdca26"
             ],
             [
              1,
              "#f0f921"
             ]
            ],
            "type": "histogram2dcontour"
           }
          ],
          "mesh3d": [
           {
            "colorbar": {
             "outlinewidth": 0,
             "ticks": ""
            },
            "type": "mesh3d"
           }
          ],
          "parcoords": [
           {
            "line": {
             "colorbar": {
              "outlinewidth": 0,
              "ticks": ""
             }
            },
            "type": "parcoords"
           }
          ],
          "pie": [
           {
            "automargin": true,
            "type": "pie"
           }
          ],
          "scatter": [
           {
            "fillpattern": {
             "fillmode": "overlay",
             "size": 10,
             "solidity": 0.2
            },
            "type": "scatter"
           }
          ],
          "scatter3d": [
           {
            "line": {
             "colorbar": {
              "outlinewidth": 0,
              "ticks": ""
             }
            },
            "marker": {
             "colorbar": {
              "outlinewidth": 0,
              "ticks": ""
             }
            },
            "type": "scatter3d"
           }
          ],
          "scattercarpet": [
           {
            "marker": {
             "colorbar": {
              "outlinewidth": 0,
              "ticks": ""
             }
            },
            "type": "scattercarpet"
           }
          ],
          "scattergeo": [
           {
            "marker": {
             "colorbar": {
              "outlinewidth": 0,
              "ticks": ""
             }
            },
            "type": "scattergeo"
           }
          ],
          "scattergl": [
           {
            "marker": {
             "colorbar": {
              "outlinewidth": 0,
              "ticks": ""
             }
            },
            "type": "scattergl"
           }
          ],
          "scattermapbox": [
           {
            "marker": {
             "colorbar": {
              "outlinewidth": 0,
              "ticks": ""
             }
            },
            "type": "scattermapbox"
           }
          ],
          "scatterpolar": [
           {
            "marker": {
             "colorbar": {
              "outlinewidth": 0,
              "ticks": ""
             }
            },
            "type": "scatterpolar"
           }
          ],
          "scatterpolargl": [
           {
            "marker": {
             "colorbar": {
              "outlinewidth": 0,
              "ticks": ""
             }
            },
            "type": "scatterpolargl"
           }
          ],
          "scatterternary": [
           {
            "marker": {
             "colorbar": {
              "outlinewidth": 0,
              "ticks": ""
             }
            },
            "type": "scatterternary"
           }
          ],
          "surface": [
           {
            "colorbar": {
             "outlinewidth": 0,
             "ticks": ""
            },
            "colorscale": [
             [
              0,
              "#0d0887"
             ],
             [
              0.1111111111111111,
              "#46039f"
             ],
             [
              0.2222222222222222,
              "#7201a8"
             ],
             [
              0.3333333333333333,
              "#9c179e"
             ],
             [
              0.4444444444444444,
              "#bd3786"
             ],
             [
              0.5555555555555556,
              "#d8576b"
             ],
             [
              0.6666666666666666,
              "#ed7953"
             ],
             [
              0.7777777777777778,
              "#fb9f3a"
             ],
             [
              0.8888888888888888,
              "#fdca26"
             ],
             [
              1,
              "#f0f921"
             ]
            ],
            "type": "surface"
           }
          ],
          "table": [
           {
            "cells": {
             "fill": {
              "color": "#EBF0F8"
             },
             "line": {
              "color": "white"
             }
            },
            "header": {
             "fill": {
              "color": "#C8D4E3"
             },
             "line": {
              "color": "white"
             }
            },
            "type": "table"
           }
          ]
         },
         "layout": {
          "annotationdefaults": {
           "arrowcolor": "#2a3f5f",
           "arrowhead": 0,
           "arrowwidth": 1
          },
          "autotypenumbers": "strict",
          "coloraxis": {
           "colorbar": {
            "outlinewidth": 0,
            "ticks": ""
           }
          },
          "colorscale": {
           "diverging": [
            [
             0,
             "#8e0152"
            ],
            [
             0.1,
             "#c51b7d"
            ],
            [
             0.2,
             "#de77ae"
            ],
            [
             0.3,
             "#f1b6da"
            ],
            [
             0.4,
             "#fde0ef"
            ],
            [
             0.5,
             "#f7f7f7"
            ],
            [
             0.6,
             "#e6f5d0"
            ],
            [
             0.7,
             "#b8e186"
            ],
            [
             0.8,
             "#7fbc41"
            ],
            [
             0.9,
             "#4d9221"
            ],
            [
             1,
             "#276419"
            ]
           ],
           "sequential": [
            [
             0,
             "#0d0887"
            ],
            [
             0.1111111111111111,
             "#46039f"
            ],
            [
             0.2222222222222222,
             "#7201a8"
            ],
            [
             0.3333333333333333,
             "#9c179e"
            ],
            [
             0.4444444444444444,
             "#bd3786"
            ],
            [
             0.5555555555555556,
             "#d8576b"
            ],
            [
             0.6666666666666666,
             "#ed7953"
            ],
            [
             0.7777777777777778,
             "#fb9f3a"
            ],
            [
             0.8888888888888888,
             "#fdca26"
            ],
            [
             1,
             "#f0f921"
            ]
           ],
           "sequentialminus": [
            [
             0,
             "#0d0887"
            ],
            [
             0.1111111111111111,
             "#46039f"
            ],
            [
             0.2222222222222222,
             "#7201a8"
            ],
            [
             0.3333333333333333,
             "#9c179e"
            ],
            [
             0.4444444444444444,
             "#bd3786"
            ],
            [
             0.5555555555555556,
             "#d8576b"
            ],
            [
             0.6666666666666666,
             "#ed7953"
            ],
            [
             0.7777777777777778,
             "#fb9f3a"
            ],
            [
             0.8888888888888888,
             "#fdca26"
            ],
            [
             1,
             "#f0f921"
            ]
           ]
          },
          "colorway": [
           "#636efa",
           "#EF553B",
           "#00cc96",
           "#ab63fa",
           "#FFA15A",
           "#19d3f3",
           "#FF6692",
           "#B6E880",
           "#FF97FF",
           "#FECB52"
          ],
          "font": {
           "color": "#2a3f5f"
          },
          "geo": {
           "bgcolor": "white",
           "lakecolor": "white",
           "landcolor": "#E5ECF6",
           "showlakes": true,
           "showland": true,
           "subunitcolor": "white"
          },
          "hoverlabel": {
           "align": "left"
          },
          "hovermode": "closest",
          "mapbox": {
           "style": "light"
          },
          "paper_bgcolor": "white",
          "plot_bgcolor": "#E5ECF6",
          "polar": {
           "angularaxis": {
            "gridcolor": "white",
            "linecolor": "white",
            "ticks": ""
           },
           "bgcolor": "#E5ECF6",
           "radialaxis": {
            "gridcolor": "white",
            "linecolor": "white",
            "ticks": ""
           }
          },
          "scene": {
           "xaxis": {
            "backgroundcolor": "#E5ECF6",
            "gridcolor": "white",
            "gridwidth": 2,
            "linecolor": "white",
            "showbackground": true,
            "ticks": "",
            "zerolinecolor": "white"
           },
           "yaxis": {
            "backgroundcolor": "#E5ECF6",
            "gridcolor": "white",
            "gridwidth": 2,
            "linecolor": "white",
            "showbackground": true,
            "ticks": "",
            "zerolinecolor": "white"
           },
           "zaxis": {
            "backgroundcolor": "#E5ECF6",
            "gridcolor": "white",
            "gridwidth": 2,
            "linecolor": "white",
            "showbackground": true,
            "ticks": "",
            "zerolinecolor": "white"
           }
          },
          "shapedefaults": {
           "line": {
            "color": "#2a3f5f"
           }
          },
          "ternary": {
           "aaxis": {
            "gridcolor": "white",
            "linecolor": "white",
            "ticks": ""
           },
           "baxis": {
            "gridcolor": "white",
            "linecolor": "white",
            "ticks": ""
           },
           "bgcolor": "#E5ECF6",
           "caxis": {
            "gridcolor": "white",
            "linecolor": "white",
            "ticks": ""
           }
          },
          "title": {
           "x": 0.05
          },
          "xaxis": {
           "automargin": true,
           "gridcolor": "white",
           "linecolor": "white",
           "ticks": "",
           "title": {
            "standoff": 15
           },
           "zerolinecolor": "white",
           "zerolinewidth": 2
          },
          "yaxis": {
           "automargin": true,
           "gridcolor": "white",
           "linecolor": "white",
           "ticks": "",
           "title": {
            "standoff": 15
           },
           "zerolinecolor": "white",
           "zerolinewidth": 2
          }
         }
        },
        "title": {
         "text": "Slice Plot"
        },
        "width": 2100,
        "xaxis": {
         "anchor": "y",
         "domain": [
          0,
          0.1183673469387755
         ],
         "title": {
          "text": "max_depth"
         }
        },
        "xaxis2": {
         "anchor": "y2",
         "categoryarray": [
          "sqrt",
          "log2"
         ],
         "categoryorder": "array",
         "domain": [
          0.14693877551020407,
          0.26530612244897955
         ],
         "title": {
          "text": "max_features"
         },
         "type": "category"
        },
        "xaxis3": {
         "anchor": "y3",
         "domain": [
          0.29387755102040813,
          0.4122448979591836
         ],
         "title": {
          "text": "min_samples_leaf"
         }
        },
        "xaxis4": {
         "anchor": "y4",
         "domain": [
          0.4408163265306122,
          0.5591836734693877
         ],
         "title": {
          "text": "min_samples_split"
         }
        },
        "xaxis5": {
         "anchor": "y5",
         "domain": [
          0.5877551020408163,
          0.7061224489795918
         ],
         "title": {
          "text": "n_estimators"
         }
        },
        "xaxis6": {
         "anchor": "y6",
         "domain": [
          0.7346938775510204,
          0.8530612244897959
         ],
         "title": {
          "text": "n_pca_components"
         }
        },
        "xaxis7": {
         "anchor": "y7",
         "categoryarray": [
          "True",
          "False"
         ],
         "categoryorder": "array",
         "domain": [
          0.8816326530612244,
          0.9999999999999999
         ],
         "title": {
          "text": "use_pca"
         },
         "type": "category"
        },
        "yaxis": {
         "anchor": "x",
         "domain": [
          0,
          1
         ],
         "title": {
          "text": "Objective Value"
         }
        },
        "yaxis2": {
         "anchor": "x2",
         "domain": [
          0,
          1
         ],
         "matches": "y",
         "showticklabels": false
        },
        "yaxis3": {
         "anchor": "x3",
         "domain": [
          0,
          1
         ],
         "matches": "y",
         "showticklabels": false
        },
        "yaxis4": {
         "anchor": "x4",
         "domain": [
          0,
          1
         ],
         "matches": "y",
         "showticklabels": false
        },
        "yaxis5": {
         "anchor": "x5",
         "domain": [
          0,
          1
         ],
         "matches": "y",
         "showticklabels": false
        },
        "yaxis6": {
         "anchor": "x6",
         "domain": [
          0,
          1
         ],
         "matches": "y",
         "showticklabels": false
        },
        "yaxis7": {
         "anchor": "x7",
         "domain": [
          0,
          1
         ],
         "matches": "y",
         "showticklabels": false
        }
       }
      }
     },
     "metadata": {},
     "output_type": "display_data"
    }
   ],
   "source": [
    "import numpy as np\n",
    "from sklearn.model_selection import train_test_split\n",
    "from sklearn.preprocessing import StandardScaler\n",
    "from sklearn.metrics import accuracy_score\n",
    "from sklearn.decomposition import PCA, KernelPCA\n",
    "from sklearn.ensemble import RandomForestClassifier\n",
    "import optuna\n",
    "import optuna.visualization as vis\n",
    "\n",
    "n = 9\n",
    "\n",
    "X = np.load('Datasets/kryptonite-%s-X.npy'%(n))\n",
    "y = np.load('Datasets/kryptonite-%s-y.npy'%(n))\n",
    "\n",
    "def denoise_bernoulli_data(X):\n",
    "    \"\"\"Denoise data by converting to binary values\"\"\"\n",
    "    return (X >= 0.5).astype(float)\n",
    "\n",
    "def objective(trial):\n",
    "    ### ========== Shuffle and Split Data ========== ###\n",
    "\n",
    "    X_train, X_val, y_train, y_val = train_test_split(X, y, test_size=0.8, random_state=42)\n",
    "\n",
    "    scaler = StandardScaler()\n",
    "    X_train_scaled = scaler.fit_transform(X_train)\n",
    "    X_val_scaled = scaler.transform(X_val)\n",
    "\n",
    "    # Suggest dimensionality reduction and kernel parameters\n",
    "    use_pca = trial.suggest_categorical('use_pca', ['True', 'False'])\n",
    "    \n",
    "    params_pca = {}\n",
    "\n",
    "    if use_pca == 'True':\n",
    "        # kernel_pca = trial.suggest_categorical('pca_kernel', ['linear', 'poly', 'rbf', 'sigmoid', 'cosine'])\n",
    "        # kernel_pca = 'linear'\n",
    "\n",
    "        # if kernel_pca == 'poly':\n",
    "        #     params_pca['degree'] = trial.suggest_int('degree_pca', 1, 10)\n",
    "        # if kernel_pca in ['poly', 'rbf', 'sigmoid']:\n",
    "        #     params_pca['gamma'] = trial.suggest_float('gamma_pca', 0.1, 10)\n",
    "\n",
    "        # params_pca['n_jobs'] = -1\n",
    "        params_pca['n_components'] = trial.suggest_int('n_pca_components', 1, max(1, X_train_scaled.shape[1]))\n",
    "\n",
    "\n",
    "    ### ========== Dimensionality Reduction ========== ###\n",
    "\n",
    "    if use_pca == 'True':\n",
    "        pca = PCA(**params_pca)\n",
    "\n",
    "        X_train_scaled = pca.fit_transform(X_train_scaled)\n",
    "        X_val_scaled = pca.transform(X_val)\n",
    "\n",
    "    # Random Forest hyperparameters\n",
    "    n_estimators = trial.suggest_int('n_estimators', 100, 300, step=50)\n",
    "    max_depth = trial.suggest_int('max_depth', 5, 30, step=5)\n",
    "    min_samples_split = trial.suggest_int('min_samples_split', 2, 20)\n",
    "    min_samples_leaf = trial.suggest_int('min_samples_leaf', 1, 10)\n",
    "    max_features = trial.suggest_categorical('max_features', ['sqrt', 'log2'])\n",
    "\n",
    "    # Define and train classifier\n",
    "    classifier = RandomForestClassifier(\n",
    "        n_estimators=n_estimators,\n",
    "        max_depth=max_depth,\n",
    "        min_samples_split=min_samples_split,\n",
    "        min_samples_leaf=min_samples_leaf,\n",
    "        max_features=max_features,\n",
    "        n_jobs=-1\n",
    "    )\n",
    "\n",
    "    # Train the classifier\n",
    "    classifier.fit(X_train_scaled, y_train)\n",
    "\n",
    "    # Evaluate on the val set\n",
    "    y_val_pred = classifier.predict(X_val_scaled)\n",
    "    val_accuracy = accuracy_score(y_val, y_val_pred)\n",
    "\n",
    "    # Report validation accuracy for pruning\n",
    "    trial.report(val_accuracy, step=0)\n",
    "\n",
    "    # Check if the trial should be pruned\n",
    "    if trial.should_prune():\n",
    "        raise optuna.TrialPruned()\n",
    "\n",
    "\n",
    "    return val_accuracy\n",
    "\n",
    "# Create a study object with a pruner\n",
    "pruner = optuna.pruners.MedianPruner()\n",
    "study = optuna.create_study(direction=\"maximize\", pruner=pruner)\n",
    "\n",
    "# Optimize the objective function\n",
    "study.optimize(objective, n_trials=100)\n",
    "\n",
    "print(\"Best hyperparameters:\", study.best_params)\n",
    "print(\"Best value:\", study.best_value)\n",
    "\n",
    "# Visualize the optimization history and parameter importances\n",
    "vis.plot_optimization_history(study).show()\n",
    "vis.plot_param_importances(study).show()\n",
    "vis.plot_slice(study).show()"
   ]
  }
 ],
 "metadata": {
  "kernelspec": {
   "display_name": "venv",
   "language": "python",
   "name": "python3"
  },
  "language_info": {
   "codemirror_mode": {
    "name": "ipython",
    "version": 3
   },
   "file_extension": ".py",
   "mimetype": "text/x-python",
   "name": "python",
   "nbconvert_exporter": "python",
   "pygments_lexer": "ipython3",
   "version": "3.12.3"
  }
 },
 "nbformat": 4,
 "nbformat_minor": 2
}
