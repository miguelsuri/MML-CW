{
 "cells": [
  {
   "cell_type": "code",
   "execution_count": 3,
   "metadata": {},
   "outputs": [
    {
     "name": "stderr",
     "output_type": "stream",
     "text": [
      "[I 2024-11-11 19:55:25,311] A new study created in memory with name: no-name-8328c0bb-d1c4-48e3-aa95-55714923acaa\n",
      "[I 2024-11-11 19:55:34,953] Trial 0 finished with value: 0.4957638888888889 and parameters: {'use_tsne': 'True', 'tsne_perplexity': 24.990599854162944, 'tsne_learning_rate': 816.6523540618197, 'n_neighbors': 48, 'weights': 'uniform'}. Best is trial 0 with value: 0.4957638888888889.\n",
      "[I 2024-11-11 19:55:35,319] Trial 1 finished with value: 0.7863194444444445 and parameters: {'use_tsne': 'False', 'n_neighbors': 9, 'weights': 'uniform'}. Best is trial 1 with value: 0.7863194444444445.\n",
      "[I 2024-11-11 19:55:35,702] Trial 2 finished with value: 0.6763194444444445 and parameters: {'use_tsne': 'False', 'n_neighbors': 11, 'weights': 'uniform'}. Best is trial 1 with value: 0.7863194444444445.\n",
      "[I 2024-11-11 19:55:45,331] Trial 3 finished with value: 0.5169444444444444 and parameters: {'use_tsne': 'True', 'tsne_perplexity': 11.95286250331376, 'tsne_learning_rate': 774.7383861740881, 'n_neighbors': 6, 'weights': 'uniform'}. Best is trial 1 with value: 0.7863194444444445.\n",
      "[I 2024-11-11 19:55:45,802] Trial 4 finished with value: 0.5070138888888889 and parameters: {'use_tsne': 'False', 'n_neighbors': 14, 'weights': 'uniform'}. Best is trial 1 with value: 0.7863194444444445.\n",
      "[I 2024-11-11 19:55:46,381] Trial 5 pruned. \n",
      "[I 2024-11-11 19:55:59,260] Trial 6 pruned. \n",
      "[I 2024-11-11 19:56:12,177] Trial 7 pruned. \n",
      "[I 2024-11-11 19:56:12,692] Trial 8 pruned. \n",
      "[I 2024-11-11 19:56:23,587] Trial 9 pruned. \n",
      "[I 2024-11-11 19:56:23,797] Trial 10 finished with value: 0.7983333333333333 and parameters: {'use_tsne': 'False', 'n_neighbors': 21, 'weights': 'distance'}. Best is trial 10 with value: 0.7983333333333333.\n",
      "[I 2024-11-11 19:56:23,996] Trial 11 finished with value: 0.8088888888888889 and parameters: {'use_tsne': 'False', 'n_neighbors': 20, 'weights': 'distance'}. Best is trial 11 with value: 0.8088888888888889.\n",
      "[I 2024-11-11 19:56:24,197] Trial 12 finished with value: 0.8088888888888889 and parameters: {'use_tsne': 'False', 'n_neighbors': 20, 'weights': 'distance'}. Best is trial 11 with value: 0.8088888888888889.\n",
      "[I 2024-11-11 19:56:24,442] Trial 13 finished with value: 0.8088888888888889 and parameters: {'use_tsne': 'False', 'n_neighbors': 20, 'weights': 'distance'}. Best is trial 11 with value: 0.8088888888888889.\n",
      "[I 2024-11-11 19:56:24,636] Trial 14 finished with value: 0.7983333333333333 and parameters: {'use_tsne': 'False', 'n_neighbors': 21, 'weights': 'distance'}. Best is trial 11 with value: 0.8088888888888889.\n",
      "[I 2024-11-11 19:56:24,849] Trial 15 pruned. \n",
      "[I 2024-11-11 19:56:25,041] Trial 16 finished with value: 0.8419444444444445 and parameters: {'use_tsne': 'False', 'n_neighbors': 17, 'weights': 'distance'}. Best is trial 16 with value: 0.8419444444444445.\n",
      "[I 2024-11-11 19:56:25,213] Trial 17 finished with value: 0.8816666666666667 and parameters: {'use_tsne': 'False', 'n_neighbors': 14, 'weights': 'distance'}. Best is trial 17 with value: 0.8816666666666667.\n",
      "[I 2024-11-11 19:56:25,385] Trial 18 finished with value: 0.8671527777777778 and parameters: {'use_tsne': 'False', 'n_neighbors': 15, 'weights': 'distance'}. Best is trial 17 with value: 0.8816666666666667.\n",
      "[I 2024-11-11 19:56:25,554] Trial 19 finished with value: 0.8816666666666667 and parameters: {'use_tsne': 'False', 'n_neighbors': 14, 'weights': 'distance'}. Best is trial 17 with value: 0.8816666666666667.\n",
      "[I 2024-11-11 19:56:25,780] Trial 20 pruned. \n",
      "[I 2024-11-11 19:56:25,982] Trial 21 finished with value: 0.8913194444444444 and parameters: {'use_tsne': 'False', 'n_neighbors': 13, 'weights': 'distance'}. Best is trial 21 with value: 0.8913194444444444.\n",
      "[I 2024-11-11 19:56:26,161] Trial 22 finished with value: 0.9015972222222223 and parameters: {'use_tsne': 'False', 'n_neighbors': 12, 'weights': 'distance'}. Best is trial 22 with value: 0.9015972222222223.\n",
      "[I 2024-11-11 19:56:26,256] Trial 23 finished with value: 0.9518055555555556 and parameters: {'use_tsne': 'False', 'n_neighbors': 5, 'weights': 'distance'}. Best is trial 23 with value: 0.9518055555555556.\n",
      "[I 2024-11-11 19:56:26,342] Trial 24 finished with value: 0.9496527777777778 and parameters: {'use_tsne': 'False', 'n_neighbors': 6, 'weights': 'distance'}. Best is trial 23 with value: 0.9518055555555556.\n",
      "[I 2024-11-11 19:56:26,435] Trial 25 finished with value: 0.9518055555555556 and parameters: {'use_tsne': 'False', 'n_neighbors': 5, 'weights': 'distance'}. Best is trial 23 with value: 0.9518055555555556.\n",
      "[I 2024-11-11 19:56:34,431] Trial 26 pruned. \n",
      "[I 2024-11-11 19:56:34,534] Trial 27 finished with value: 0.9518055555555556 and parameters: {'use_tsne': 'False', 'n_neighbors': 5, 'weights': 'distance'}. Best is trial 23 with value: 0.9518055555555556.\n",
      "[I 2024-11-11 19:56:34,623] Trial 28 finished with value: 0.9518055555555556 and parameters: {'use_tsne': 'False', 'n_neighbors': 5, 'weights': 'distance'}. Best is trial 23 with value: 0.9518055555555556.\n",
      "[I 2024-11-11 19:56:45,724] Trial 29 pruned. \n",
      "[I 2024-11-11 19:56:45,857] Trial 30 finished with value: 0.9397916666666667 and parameters: {'use_tsne': 'False', 'n_neighbors': 8, 'weights': 'distance'}. Best is trial 23 with value: 0.9518055555555556.\n",
      "[I 2024-11-11 19:56:45,949] Trial 31 finished with value: 0.9518055555555556 and parameters: {'use_tsne': 'False', 'n_neighbors': 5, 'weights': 'distance'}. Best is trial 23 with value: 0.9518055555555556.\n",
      "[I 2024-11-11 19:56:46,239] Trial 32 pruned. \n",
      "[I 2024-11-11 19:56:46,434] Trial 33 finished with value: 0.9215972222222222 and parameters: {'use_tsne': 'False', 'n_neighbors': 10, 'weights': 'distance'}. Best is trial 23 with value: 0.9518055555555556.\n",
      "[I 2024-11-11 19:56:46,627] Trial 34 finished with value: 0.9465277777777777 and parameters: {'use_tsne': 'False', 'n_neighbors': 7, 'weights': 'distance'}. Best is trial 23 with value: 0.9518055555555556.\n",
      "[I 2024-11-11 19:56:46,794] Trial 35 finished with value: 0.913125 and parameters: {'use_tsne': 'False', 'n_neighbors': 11, 'weights': 'distance'}. Best is trial 23 with value: 0.9518055555555556.\n",
      "[I 2024-11-11 19:56:46,993] Trial 36 pruned. \n",
      "[I 2024-11-11 19:56:58,187] Trial 37 pruned. \n",
      "[I 2024-11-11 19:56:58,315] Trial 38 finished with value: 0.9397916666666667 and parameters: {'use_tsne': 'False', 'n_neighbors': 8, 'weights': 'distance'}. Best is trial 23 with value: 0.9518055555555556.\n",
      "[I 2024-11-11 19:56:58,838] Trial 39 pruned. \n",
      "[I 2024-11-11 19:57:07,667] Trial 40 pruned. \n",
      "[I 2024-11-11 19:57:07,744] Trial 41 finished with value: 0.9518055555555556 and parameters: {'use_tsne': 'False', 'n_neighbors': 5, 'weights': 'distance'}. Best is trial 23 with value: 0.9518055555555556.\n",
      "[I 2024-11-11 19:57:07,839] Trial 42 finished with value: 0.9465277777777777 and parameters: {'use_tsne': 'False', 'n_neighbors': 7, 'weights': 'distance'}. Best is trial 23 with value: 0.9518055555555556.\n",
      "[I 2024-11-11 19:57:08,000] Trial 43 finished with value: 0.913125 and parameters: {'use_tsne': 'False', 'n_neighbors': 11, 'weights': 'distance'}. Best is trial 23 with value: 0.9518055555555556.\n",
      "[I 2024-11-11 19:57:08,074] Trial 44 finished with value: 0.9518055555555556 and parameters: {'use_tsne': 'False', 'n_neighbors': 5, 'weights': 'distance'}. Best is trial 23 with value: 0.9518055555555556.\n",
      "[I 2024-11-11 19:57:08,335] Trial 45 pruned. \n",
      "[I 2024-11-11 19:57:08,803] Trial 46 pruned. \n",
      "[I 2024-11-11 19:57:08,951] Trial 47 finished with value: 0.9397916666666667 and parameters: {'use_tsne': 'False', 'n_neighbors': 8, 'weights': 'distance'}. Best is trial 23 with value: 0.9518055555555556.\n",
      "[I 2024-11-11 19:57:20,912] Trial 48 pruned. \n",
      "[I 2024-11-11 19:57:21,324] Trial 49 pruned. \n",
      "[I 2024-11-11 19:57:21,473] Trial 50 finished with value: 0.9215972222222222 and parameters: {'use_tsne': 'False', 'n_neighbors': 10, 'weights': 'distance'}. Best is trial 23 with value: 0.9518055555555556.\n",
      "[I 2024-11-11 19:57:21,559] Trial 51 finished with value: 0.9518055555555556 and parameters: {'use_tsne': 'False', 'n_neighbors': 5, 'weights': 'distance'}. Best is trial 23 with value: 0.9518055555555556.\n",
      "[I 2024-11-11 19:57:21,698] Trial 52 finished with value: 0.9465277777777777 and parameters: {'use_tsne': 'False', 'n_neighbors': 7, 'weights': 'distance'}. Best is trial 23 with value: 0.9518055555555556.\n",
      "[I 2024-11-11 19:57:21,799] Trial 53 finished with value: 0.9518055555555556 and parameters: {'use_tsne': 'False', 'n_neighbors': 5, 'weights': 'distance'}. Best is trial 23 with value: 0.9518055555555556.\n",
      "[I 2024-11-11 19:57:21,937] Trial 54 finished with value: 0.9313888888888889 and parameters: {'use_tsne': 'False', 'n_neighbors': 9, 'weights': 'distance'}. Best is trial 23 with value: 0.9518055555555556.\n",
      "[I 2024-11-11 19:57:22,143] Trial 55 pruned. \n",
      "[I 2024-11-11 19:57:22,258] Trial 56 finished with value: 0.9465277777777777 and parameters: {'use_tsne': 'False', 'n_neighbors': 7, 'weights': 'distance'}. Best is trial 23 with value: 0.9518055555555556.\n",
      "[I 2024-11-11 19:57:22,434] Trial 57 pruned. \n",
      "[I 2024-11-11 19:57:22,565] Trial 58 finished with value: 0.9397916666666667 and parameters: {'use_tsne': 'False', 'n_neighbors': 8, 'weights': 'distance'}. Best is trial 23 with value: 0.9518055555555556.\n",
      "[I 2024-11-11 19:57:22,656] Trial 59 finished with value: 0.9518055555555556 and parameters: {'use_tsne': 'False', 'n_neighbors': 5, 'weights': 'distance'}. Best is trial 23 with value: 0.9518055555555556.\n",
      "[I 2024-11-11 19:57:33,168] Trial 60 pruned. \n",
      "[I 2024-11-11 19:57:33,266] Trial 61 finished with value: 0.9496527777777778 and parameters: {'use_tsne': 'False', 'n_neighbors': 6, 'weights': 'distance'}. Best is trial 23 with value: 0.9518055555555556.\n",
      "[I 2024-11-11 19:57:33,345] Trial 62 finished with value: 0.9518055555555556 and parameters: {'use_tsne': 'False', 'n_neighbors': 5, 'weights': 'distance'}. Best is trial 23 with value: 0.9518055555555556.\n",
      "[I 2024-11-11 19:57:33,446] Trial 63 finished with value: 0.9496527777777778 and parameters: {'use_tsne': 'False', 'n_neighbors': 6, 'weights': 'distance'}. Best is trial 23 with value: 0.9518055555555556.\n",
      "[I 2024-11-11 19:57:33,597] Trial 64 pruned. \n",
      "[I 2024-11-11 19:57:33,847] Trial 65 pruned. \n",
      "[I 2024-11-11 19:57:34,032] Trial 66 pruned. \n",
      "[I 2024-11-11 19:57:34,150] Trial 67 finished with value: 0.9496527777777778 and parameters: {'use_tsne': 'False', 'n_neighbors': 6, 'weights': 'distance'}. Best is trial 23 with value: 0.9518055555555556.\n",
      "[I 2024-11-11 19:57:34,404] Trial 68 pruned. \n",
      "[I 2024-11-11 19:57:34,535] Trial 69 pruned. \n",
      "[I 2024-11-11 19:57:34,647] Trial 70 finished with value: 0.9465277777777777 and parameters: {'use_tsne': 'False', 'n_neighbors': 7, 'weights': 'distance'}. Best is trial 23 with value: 0.9518055555555556.\n",
      "[I 2024-11-11 19:57:34,734] Trial 71 finished with value: 0.9518055555555556 and parameters: {'use_tsne': 'False', 'n_neighbors': 5, 'weights': 'distance'}. Best is trial 23 with value: 0.9518055555555556.\n",
      "[I 2024-11-11 19:57:34,813] Trial 72 finished with value: 0.9518055555555556 and parameters: {'use_tsne': 'False', 'n_neighbors': 5, 'weights': 'distance'}. Best is trial 23 with value: 0.9518055555555556.\n",
      "[I 2024-11-11 19:57:34,936] Trial 73 finished with value: 0.9465277777777777 and parameters: {'use_tsne': 'False', 'n_neighbors': 7, 'weights': 'distance'}. Best is trial 23 with value: 0.9518055555555556.\n",
      "[I 2024-11-11 19:57:35,055] Trial 74 finished with value: 0.9397916666666667 and parameters: {'use_tsne': 'False', 'n_neighbors': 8, 'weights': 'distance'}. Best is trial 23 with value: 0.9518055555555556.\n",
      "[I 2024-11-11 19:57:35,309] Trial 75 pruned. \n",
      "[I 2024-11-11 19:57:47,240] Trial 76 pruned. \n",
      "[I 2024-11-11 19:57:47,330] Trial 77 finished with value: 0.9518055555555556 and parameters: {'use_tsne': 'False', 'n_neighbors': 5, 'weights': 'distance'}. Best is trial 23 with value: 0.9518055555555556.\n",
      "[I 2024-11-11 19:57:47,713] Trial 78 pruned. \n",
      "[I 2024-11-11 19:57:47,856] Trial 79 pruned. \n",
      "[I 2024-11-11 19:57:48,036] Trial 80 pruned. \n",
      "[I 2024-11-11 19:57:48,123] Trial 81 finished with value: 0.9518055555555556 and parameters: {'use_tsne': 'False', 'n_neighbors': 5, 'weights': 'distance'}. Best is trial 23 with value: 0.9518055555555556.\n",
      "[I 2024-11-11 19:57:48,223] Trial 82 finished with value: 0.9496527777777778 and parameters: {'use_tsne': 'False', 'n_neighbors': 6, 'weights': 'distance'}. Best is trial 23 with value: 0.9518055555555556.\n",
      "[I 2024-11-11 19:57:48,368] Trial 83 pruned. \n",
      "[I 2024-11-11 19:57:48,471] Trial 84 finished with value: 0.9465277777777777 and parameters: {'use_tsne': 'False', 'n_neighbors': 7, 'weights': 'distance'}. Best is trial 23 with value: 0.9518055555555556.\n",
      "[I 2024-11-11 19:57:48,651] Trial 85 pruned. \n",
      "[I 2024-11-11 19:57:48,728] Trial 86 finished with value: 0.9518055555555556 and parameters: {'use_tsne': 'False', 'n_neighbors': 5, 'weights': 'distance'}. Best is trial 23 with value: 0.9518055555555556.\n",
      "[I 2024-11-11 19:57:56,989] Trial 87 pruned. \n",
      "[I 2024-11-11 19:57:57,156] Trial 88 pruned. \n",
      "[I 2024-11-11 19:57:57,561] Trial 89 pruned. \n",
      "[I 2024-11-11 19:57:57,674] Trial 90 finished with value: 0.9465277777777777 and parameters: {'use_tsne': 'False', 'n_neighbors': 7, 'weights': 'distance'}. Best is trial 23 with value: 0.9518055555555556.\n",
      "[I 2024-11-11 19:57:57,752] Trial 91 finished with value: 0.9518055555555556 and parameters: {'use_tsne': 'False', 'n_neighbors': 5, 'weights': 'distance'}. Best is trial 23 with value: 0.9518055555555556.\n",
      "[I 2024-11-11 19:57:57,863] Trial 92 finished with value: 0.9496527777777778 and parameters: {'use_tsne': 'False', 'n_neighbors': 6, 'weights': 'distance'}. Best is trial 23 with value: 0.9518055555555556.\n",
      "[I 2024-11-11 19:57:57,993] Trial 93 pruned. \n",
      "[I 2024-11-11 19:57:58,080] Trial 94 finished with value: 0.9518055555555556 and parameters: {'use_tsne': 'False', 'n_neighbors': 5, 'weights': 'distance'}. Best is trial 23 with value: 0.9518055555555556.\n",
      "[I 2024-11-11 19:57:58,203] Trial 95 pruned. \n",
      "[I 2024-11-11 19:57:58,315] Trial 96 finished with value: 0.9496527777777778 and parameters: {'use_tsne': 'False', 'n_neighbors': 6, 'weights': 'distance'}. Best is trial 23 with value: 0.9518055555555556.\n",
      "[I 2024-11-11 19:57:58,438] Trial 97 finished with value: 0.9465277777777777 and parameters: {'use_tsne': 'False', 'n_neighbors': 7, 'weights': 'distance'}. Best is trial 23 with value: 0.9518055555555556.\n",
      "[I 2024-11-11 19:57:58,579] Trial 98 pruned. \n",
      "[I 2024-11-11 19:57:58,665] Trial 99 finished with value: 0.9518055555555556 and parameters: {'use_tsne': 'False', 'n_neighbors': 5, 'weights': 'distance'}. Best is trial 23 with value: 0.9518055555555556.\n"
     ]
    },
    {
     "name": "stdout",
     "output_type": "stream",
     "text": [
      "Best hyperparameters: {'use_tsne': 'False', 'n_neighbors': 5, 'weights': 'distance'}\n",
      "Best value: 0.9518055555555556\n"
     ]
    },
    {
     "data": {
      "application/vnd.plotly.v1+json": {
       "config": {
        "plotlyServerURL": "https://plot.ly"
       },
       "data": [
        {
         "mode": "markers",
         "name": "Objective Value",
         "type": "scatter",
         "x": [
          0,
          1,
          2,
          3,
          4,
          10,
          11,
          12,
          13,
          14,
          16,
          17,
          18,
          19,
          21,
          22,
          23,
          24,
          25,
          27,
          28,
          30,
          31,
          33,
          34,
          35,
          38,
          41,
          42,
          43,
          44,
          47,
          50,
          51,
          52,
          53,
          54,
          56,
          58,
          59,
          61,
          62,
          63,
          67,
          70,
          71,
          72,
          73,
          74,
          77,
          81,
          82,
          84,
          86,
          90,
          91,
          92,
          94,
          96,
          97,
          99
         ],
         "y": [
          0.4957638888888889,
          0.7863194444444445,
          0.6763194444444445,
          0.5169444444444444,
          0.5070138888888889,
          0.7983333333333333,
          0.8088888888888889,
          0.8088888888888889,
          0.8088888888888889,
          0.7983333333333333,
          0.8419444444444445,
          0.8816666666666667,
          0.8671527777777778,
          0.8816666666666667,
          0.8913194444444444,
          0.9015972222222223,
          0.9518055555555556,
          0.9496527777777778,
          0.9518055555555556,
          0.9518055555555556,
          0.9518055555555556,
          0.9397916666666667,
          0.9518055555555556,
          0.9215972222222222,
          0.9465277777777777,
          0.913125,
          0.9397916666666667,
          0.9518055555555556,
          0.9465277777777777,
          0.913125,
          0.9518055555555556,
          0.9397916666666667,
          0.9215972222222222,
          0.9518055555555556,
          0.9465277777777777,
          0.9518055555555556,
          0.9313888888888889,
          0.9465277777777777,
          0.9397916666666667,
          0.9518055555555556,
          0.9496527777777778,
          0.9518055555555556,
          0.9496527777777778,
          0.9496527777777778,
          0.9465277777777777,
          0.9518055555555556,
          0.9518055555555556,
          0.9465277777777777,
          0.9397916666666667,
          0.9518055555555556,
          0.9518055555555556,
          0.9496527777777778,
          0.9465277777777777,
          0.9518055555555556,
          0.9465277777777777,
          0.9518055555555556,
          0.9496527777777778,
          0.9518055555555556,
          0.9496527777777778,
          0.9465277777777777,
          0.9518055555555556
         ]
        },
        {
         "mode": "lines",
         "name": "Best Value",
         "type": "scatter",
         "x": [
          0,
          1,
          2,
          3,
          4,
          5,
          6,
          7,
          8,
          9,
          10,
          11,
          12,
          13,
          14,
          15,
          16,
          17,
          18,
          19,
          20,
          21,
          22,
          23,
          24,
          25,
          26,
          27,
          28,
          29,
          30,
          31,
          32,
          33,
          34,
          35,
          36,
          37,
          38,
          39,
          40,
          41,
          42,
          43,
          44,
          45,
          46,
          47,
          48,
          49,
          50,
          51,
          52,
          53,
          54,
          55,
          56,
          57,
          58,
          59,
          60,
          61,
          62,
          63,
          64,
          65,
          66,
          67,
          68,
          69,
          70,
          71,
          72,
          73,
          74,
          75,
          76,
          77,
          78,
          79,
          80,
          81,
          82,
          83,
          84,
          85,
          86,
          87,
          88,
          89,
          90,
          91,
          92,
          93,
          94,
          95,
          96,
          97,
          98,
          99
         ],
         "y": [
          0.4957638888888889,
          0.7863194444444445,
          0.7863194444444445,
          0.7863194444444445,
          0.7863194444444445,
          0.7863194444444445,
          0.7863194444444445,
          0.7863194444444445,
          0.7863194444444445,
          0.7863194444444445,
          0.7983333333333333,
          0.8088888888888889,
          0.8088888888888889,
          0.8088888888888889,
          0.8088888888888889,
          0.8088888888888889,
          0.8419444444444445,
          0.8816666666666667,
          0.8816666666666667,
          0.8816666666666667,
          0.8816666666666667,
          0.8913194444444444,
          0.9015972222222223,
          0.9518055555555556,
          0.9518055555555556,
          0.9518055555555556,
          0.9518055555555556,
          0.9518055555555556,
          0.9518055555555556,
          0.9518055555555556,
          0.9518055555555556,
          0.9518055555555556,
          0.9518055555555556,
          0.9518055555555556,
          0.9518055555555556,
          0.9518055555555556,
          0.9518055555555556,
          0.9518055555555556,
          0.9518055555555556,
          0.9518055555555556,
          0.9518055555555556,
          0.9518055555555556,
          0.9518055555555556,
          0.9518055555555556,
          0.9518055555555556,
          0.9518055555555556,
          0.9518055555555556,
          0.9518055555555556,
          0.9518055555555556,
          0.9518055555555556,
          0.9518055555555556,
          0.9518055555555556,
          0.9518055555555556,
          0.9518055555555556,
          0.9518055555555556,
          0.9518055555555556,
          0.9518055555555556,
          0.9518055555555556,
          0.9518055555555556,
          0.9518055555555556,
          0.9518055555555556,
          0.9518055555555556,
          0.9518055555555556,
          0.9518055555555556,
          0.9518055555555556,
          0.9518055555555556,
          0.9518055555555556,
          0.9518055555555556,
          0.9518055555555556,
          0.9518055555555556,
          0.9518055555555556,
          0.9518055555555556,
          0.9518055555555556,
          0.9518055555555556,
          0.9518055555555556,
          0.9518055555555556,
          0.9518055555555556,
          0.9518055555555556,
          0.9518055555555556,
          0.9518055555555556,
          0.9518055555555556,
          0.9518055555555556,
          0.9518055555555556,
          0.9518055555555556,
          0.9518055555555556,
          0.9518055555555556,
          0.9518055555555556,
          0.9518055555555556,
          0.9518055555555556,
          0.9518055555555556,
          0.9518055555555556,
          0.9518055555555556,
          0.9518055555555556,
          0.9518055555555556,
          0.9518055555555556,
          0.9518055555555556,
          0.9518055555555556,
          0.9518055555555556,
          0.9518055555555556,
          0.9518055555555556
         ]
        },
        {
         "marker": {
          "color": "#cccccc"
         },
         "mode": "markers",
         "name": "Infeasible Trial",
         "showlegend": false,
         "type": "scatter",
         "x": [],
         "y": []
        }
       ],
       "layout": {
        "template": {
         "data": {
          "bar": [
           {
            "error_x": {
             "color": "#2a3f5f"
            },
            "error_y": {
             "color": "#2a3f5f"
            },
            "marker": {
             "line": {
              "color": "#E5ECF6",
              "width": 0.5
             },
             "pattern": {
              "fillmode": "overlay",
              "size": 10,
              "solidity": 0.2
             }
            },
            "type": "bar"
           }
          ],
          "barpolar": [
           {
            "marker": {
             "line": {
              "color": "#E5ECF6",
              "width": 0.5
             },
             "pattern": {
              "fillmode": "overlay",
              "size": 10,
              "solidity": 0.2
             }
            },
            "type": "barpolar"
           }
          ],
          "carpet": [
           {
            "aaxis": {
             "endlinecolor": "#2a3f5f",
             "gridcolor": "white",
             "linecolor": "white",
             "minorgridcolor": "white",
             "startlinecolor": "#2a3f5f"
            },
            "baxis": {
             "endlinecolor": "#2a3f5f",
             "gridcolor": "white",
             "linecolor": "white",
             "minorgridcolor": "white",
             "startlinecolor": "#2a3f5f"
            },
            "type": "carpet"
           }
          ],
          "choropleth": [
           {
            "colorbar": {
             "outlinewidth": 0,
             "ticks": ""
            },
            "type": "choropleth"
           }
          ],
          "contour": [
           {
            "colorbar": {
             "outlinewidth": 0,
             "ticks": ""
            },
            "colorscale": [
             [
              0,
              "#0d0887"
             ],
             [
              0.1111111111111111,
              "#46039f"
             ],
             [
              0.2222222222222222,
              "#7201a8"
             ],
             [
              0.3333333333333333,
              "#9c179e"
             ],
             [
              0.4444444444444444,
              "#bd3786"
             ],
             [
              0.5555555555555556,
              "#d8576b"
             ],
             [
              0.6666666666666666,
              "#ed7953"
             ],
             [
              0.7777777777777778,
              "#fb9f3a"
             ],
             [
              0.8888888888888888,
              "#fdca26"
             ],
             [
              1,
              "#f0f921"
             ]
            ],
            "type": "contour"
           }
          ],
          "contourcarpet": [
           {
            "colorbar": {
             "outlinewidth": 0,
             "ticks": ""
            },
            "type": "contourcarpet"
           }
          ],
          "heatmap": [
           {
            "colorbar": {
             "outlinewidth": 0,
             "ticks": ""
            },
            "colorscale": [
             [
              0,
              "#0d0887"
             ],
             [
              0.1111111111111111,
              "#46039f"
             ],
             [
              0.2222222222222222,
              "#7201a8"
             ],
             [
              0.3333333333333333,
              "#9c179e"
             ],
             [
              0.4444444444444444,
              "#bd3786"
             ],
             [
              0.5555555555555556,
              "#d8576b"
             ],
             [
              0.6666666666666666,
              "#ed7953"
             ],
             [
              0.7777777777777778,
              "#fb9f3a"
             ],
             [
              0.8888888888888888,
              "#fdca26"
             ],
             [
              1,
              "#f0f921"
             ]
            ],
            "type": "heatmap"
           }
          ],
          "heatmapgl": [
           {
            "colorbar": {
             "outlinewidth": 0,
             "ticks": ""
            },
            "colorscale": [
             [
              0,
              "#0d0887"
             ],
             [
              0.1111111111111111,
              "#46039f"
             ],
             [
              0.2222222222222222,
              "#7201a8"
             ],
             [
              0.3333333333333333,
              "#9c179e"
             ],
             [
              0.4444444444444444,
              "#bd3786"
             ],
             [
              0.5555555555555556,
              "#d8576b"
             ],
             [
              0.6666666666666666,
              "#ed7953"
             ],
             [
              0.7777777777777778,
              "#fb9f3a"
             ],
             [
              0.8888888888888888,
              "#fdca26"
             ],
             [
              1,
              "#f0f921"
             ]
            ],
            "type": "heatmapgl"
           }
          ],
          "histogram": [
           {
            "marker": {
             "pattern": {
              "fillmode": "overlay",
              "size": 10,
              "solidity": 0.2
             }
            },
            "type": "histogram"
           }
          ],
          "histogram2d": [
           {
            "colorbar": {
             "outlinewidth": 0,
             "ticks": ""
            },
            "colorscale": [
             [
              0,
              "#0d0887"
             ],
             [
              0.1111111111111111,
              "#46039f"
             ],
             [
              0.2222222222222222,
              "#7201a8"
             ],
             [
              0.3333333333333333,
              "#9c179e"
             ],
             [
              0.4444444444444444,
              "#bd3786"
             ],
             [
              0.5555555555555556,
              "#d8576b"
             ],
             [
              0.6666666666666666,
              "#ed7953"
             ],
             [
              0.7777777777777778,
              "#fb9f3a"
             ],
             [
              0.8888888888888888,
              "#fdca26"
             ],
             [
              1,
              "#f0f921"
             ]
            ],
            "type": "histogram2d"
           }
          ],
          "histogram2dcontour": [
           {
            "colorbar": {
             "outlinewidth": 0,
             "ticks": ""
            },
            "colorscale": [
             [
              0,
              "#0d0887"
             ],
             [
              0.1111111111111111,
              "#46039f"
             ],
             [
              0.2222222222222222,
              "#7201a8"
             ],
             [
              0.3333333333333333,
              "#9c179e"
             ],
             [
              0.4444444444444444,
              "#bd3786"
             ],
             [
              0.5555555555555556,
              "#d8576b"
             ],
             [
              0.6666666666666666,
              "#ed7953"
             ],
             [
              0.7777777777777778,
              "#fb9f3a"
             ],
             [
              0.8888888888888888,
              "#fdca26"
             ],
             [
              1,
              "#f0f921"
             ]
            ],
            "type": "histogram2dcontour"
           }
          ],
          "mesh3d": [
           {
            "colorbar": {
             "outlinewidth": 0,
             "ticks": ""
            },
            "type": "mesh3d"
           }
          ],
          "parcoords": [
           {
            "line": {
             "colorbar": {
              "outlinewidth": 0,
              "ticks": ""
             }
            },
            "type": "parcoords"
           }
          ],
          "pie": [
           {
            "automargin": true,
            "type": "pie"
           }
          ],
          "scatter": [
           {
            "fillpattern": {
             "fillmode": "overlay",
             "size": 10,
             "solidity": 0.2
            },
            "type": "scatter"
           }
          ],
          "scatter3d": [
           {
            "line": {
             "colorbar": {
              "outlinewidth": 0,
              "ticks": ""
             }
            },
            "marker": {
             "colorbar": {
              "outlinewidth": 0,
              "ticks": ""
             }
            },
            "type": "scatter3d"
           }
          ],
          "scattercarpet": [
           {
            "marker": {
             "colorbar": {
              "outlinewidth": 0,
              "ticks": ""
             }
            },
            "type": "scattercarpet"
           }
          ],
          "scattergeo": [
           {
            "marker": {
             "colorbar": {
              "outlinewidth": 0,
              "ticks": ""
             }
            },
            "type": "scattergeo"
           }
          ],
          "scattergl": [
           {
            "marker": {
             "colorbar": {
              "outlinewidth": 0,
              "ticks": ""
             }
            },
            "type": "scattergl"
           }
          ],
          "scattermapbox": [
           {
            "marker": {
             "colorbar": {
              "outlinewidth": 0,
              "ticks": ""
             }
            },
            "type": "scattermapbox"
           }
          ],
          "scatterpolar": [
           {
            "marker": {
             "colorbar": {
              "outlinewidth": 0,
              "ticks": ""
             }
            },
            "type": "scatterpolar"
           }
          ],
          "scatterpolargl": [
           {
            "marker": {
             "colorbar": {
              "outlinewidth": 0,
              "ticks": ""
             }
            },
            "type": "scatterpolargl"
           }
          ],
          "scatterternary": [
           {
            "marker": {
             "colorbar": {
              "outlinewidth": 0,
              "ticks": ""
             }
            },
            "type": "scatterternary"
           }
          ],
          "surface": [
           {
            "colorbar": {
             "outlinewidth": 0,
             "ticks": ""
            },
            "colorscale": [
             [
              0,
              "#0d0887"
             ],
             [
              0.1111111111111111,
              "#46039f"
             ],
             [
              0.2222222222222222,
              "#7201a8"
             ],
             [
              0.3333333333333333,
              "#9c179e"
             ],
             [
              0.4444444444444444,
              "#bd3786"
             ],
             [
              0.5555555555555556,
              "#d8576b"
             ],
             [
              0.6666666666666666,
              "#ed7953"
             ],
             [
              0.7777777777777778,
              "#fb9f3a"
             ],
             [
              0.8888888888888888,
              "#fdca26"
             ],
             [
              1,
              "#f0f921"
             ]
            ],
            "type": "surface"
           }
          ],
          "table": [
           {
            "cells": {
             "fill": {
              "color": "#EBF0F8"
             },
             "line": {
              "color": "white"
             }
            },
            "header": {
             "fill": {
              "color": "#C8D4E3"
             },
             "line": {
              "color": "white"
             }
            },
            "type": "table"
           }
          ]
         },
         "layout": {
          "annotationdefaults": {
           "arrowcolor": "#2a3f5f",
           "arrowhead": 0,
           "arrowwidth": 1
          },
          "autotypenumbers": "strict",
          "coloraxis": {
           "colorbar": {
            "outlinewidth": 0,
            "ticks": ""
           }
          },
          "colorscale": {
           "diverging": [
            [
             0,
             "#8e0152"
            ],
            [
             0.1,
             "#c51b7d"
            ],
            [
             0.2,
             "#de77ae"
            ],
            [
             0.3,
             "#f1b6da"
            ],
            [
             0.4,
             "#fde0ef"
            ],
            [
             0.5,
             "#f7f7f7"
            ],
            [
             0.6,
             "#e6f5d0"
            ],
            [
             0.7,
             "#b8e186"
            ],
            [
             0.8,
             "#7fbc41"
            ],
            [
             0.9,
             "#4d9221"
            ],
            [
             1,
             "#276419"
            ]
           ],
           "sequential": [
            [
             0,
             "#0d0887"
            ],
            [
             0.1111111111111111,
             "#46039f"
            ],
            [
             0.2222222222222222,
             "#7201a8"
            ],
            [
             0.3333333333333333,
             "#9c179e"
            ],
            [
             0.4444444444444444,
             "#bd3786"
            ],
            [
             0.5555555555555556,
             "#d8576b"
            ],
            [
             0.6666666666666666,
             "#ed7953"
            ],
            [
             0.7777777777777778,
             "#fb9f3a"
            ],
            [
             0.8888888888888888,
             "#fdca26"
            ],
            [
             1,
             "#f0f921"
            ]
           ],
           "sequentialminus": [
            [
             0,
             "#0d0887"
            ],
            [
             0.1111111111111111,
             "#46039f"
            ],
            [
             0.2222222222222222,
             "#7201a8"
            ],
            [
             0.3333333333333333,
             "#9c179e"
            ],
            [
             0.4444444444444444,
             "#bd3786"
            ],
            [
             0.5555555555555556,
             "#d8576b"
            ],
            [
             0.6666666666666666,
             "#ed7953"
            ],
            [
             0.7777777777777778,
             "#fb9f3a"
            ],
            [
             0.8888888888888888,
             "#fdca26"
            ],
            [
             1,
             "#f0f921"
            ]
           ]
          },
          "colorway": [
           "#636efa",
           "#EF553B",
           "#00cc96",
           "#ab63fa",
           "#FFA15A",
           "#19d3f3",
           "#FF6692",
           "#B6E880",
           "#FF97FF",
           "#FECB52"
          ],
          "font": {
           "color": "#2a3f5f"
          },
          "geo": {
           "bgcolor": "white",
           "lakecolor": "white",
           "landcolor": "#E5ECF6",
           "showlakes": true,
           "showland": true,
           "subunitcolor": "white"
          },
          "hoverlabel": {
           "align": "left"
          },
          "hovermode": "closest",
          "mapbox": {
           "style": "light"
          },
          "paper_bgcolor": "white",
          "plot_bgcolor": "#E5ECF6",
          "polar": {
           "angularaxis": {
            "gridcolor": "white",
            "linecolor": "white",
            "ticks": ""
           },
           "bgcolor": "#E5ECF6",
           "radialaxis": {
            "gridcolor": "white",
            "linecolor": "white",
            "ticks": ""
           }
          },
          "scene": {
           "xaxis": {
            "backgroundcolor": "#E5ECF6",
            "gridcolor": "white",
            "gridwidth": 2,
            "linecolor": "white",
            "showbackground": true,
            "ticks": "",
            "zerolinecolor": "white"
           },
           "yaxis": {
            "backgroundcolor": "#E5ECF6",
            "gridcolor": "white",
            "gridwidth": 2,
            "linecolor": "white",
            "showbackground": true,
            "ticks": "",
            "zerolinecolor": "white"
           },
           "zaxis": {
            "backgroundcolor": "#E5ECF6",
            "gridcolor": "white",
            "gridwidth": 2,
            "linecolor": "white",
            "showbackground": true,
            "ticks": "",
            "zerolinecolor": "white"
           }
          },
          "shapedefaults": {
           "line": {
            "color": "#2a3f5f"
           }
          },
          "ternary": {
           "aaxis": {
            "gridcolor": "white",
            "linecolor": "white",
            "ticks": ""
           },
           "baxis": {
            "gridcolor": "white",
            "linecolor": "white",
            "ticks": ""
           },
           "bgcolor": "#E5ECF6",
           "caxis": {
            "gridcolor": "white",
            "linecolor": "white",
            "ticks": ""
           }
          },
          "title": {
           "x": 0.05
          },
          "xaxis": {
           "automargin": true,
           "gridcolor": "white",
           "linecolor": "white",
           "ticks": "",
           "title": {
            "standoff": 15
           },
           "zerolinecolor": "white",
           "zerolinewidth": 2
          },
          "yaxis": {
           "automargin": true,
           "gridcolor": "white",
           "linecolor": "white",
           "ticks": "",
           "title": {
            "standoff": 15
           },
           "zerolinecolor": "white",
           "zerolinewidth": 2
          }
         }
        },
        "title": {
         "text": "Optimization History Plot"
        },
        "xaxis": {
         "title": {
          "text": "Trial"
         }
        },
        "yaxis": {
         "title": {
          "text": "Objective Value"
         }
        }
       }
      }
     },
     "metadata": {},
     "output_type": "display_data"
    },
    {
     "data": {
      "application/vnd.plotly.v1+json": {
       "config": {
        "plotlyServerURL": "https://plot.ly"
       },
       "data": [
        {
         "cliponaxis": false,
         "hovertemplate": [
          "use_tsne (CategoricalDistribution): 0.07843012017363186<extra></extra>",
          "n_neighbors (IntDistribution): 0.13231931098341237<extra></extra>",
          "weights (CategoricalDistribution): 0.7892505688429557<extra></extra>"
         ],
         "name": "Objective Value",
         "orientation": "h",
         "text": [
          "0.08",
          "0.13",
          "0.79"
         ],
         "textposition": "outside",
         "type": "bar",
         "x": [
          0.07843012017363186,
          0.13231931098341237,
          0.7892505688429557
         ],
         "y": [
          "use_tsne",
          "n_neighbors",
          "weights"
         ]
        }
       ],
       "layout": {
        "template": {
         "data": {
          "bar": [
           {
            "error_x": {
             "color": "#2a3f5f"
            },
            "error_y": {
             "color": "#2a3f5f"
            },
            "marker": {
             "line": {
              "color": "#E5ECF6",
              "width": 0.5
             },
             "pattern": {
              "fillmode": "overlay",
              "size": 10,
              "solidity": 0.2
             }
            },
            "type": "bar"
           }
          ],
          "barpolar": [
           {
            "marker": {
             "line": {
              "color": "#E5ECF6",
              "width": 0.5
             },
             "pattern": {
              "fillmode": "overlay",
              "size": 10,
              "solidity": 0.2
             }
            },
            "type": "barpolar"
           }
          ],
          "carpet": [
           {
            "aaxis": {
             "endlinecolor": "#2a3f5f",
             "gridcolor": "white",
             "linecolor": "white",
             "minorgridcolor": "white",
             "startlinecolor": "#2a3f5f"
            },
            "baxis": {
             "endlinecolor": "#2a3f5f",
             "gridcolor": "white",
             "linecolor": "white",
             "minorgridcolor": "white",
             "startlinecolor": "#2a3f5f"
            },
            "type": "carpet"
           }
          ],
          "choropleth": [
           {
            "colorbar": {
             "outlinewidth": 0,
             "ticks": ""
            },
            "type": "choropleth"
           }
          ],
          "contour": [
           {
            "colorbar": {
             "outlinewidth": 0,
             "ticks": ""
            },
            "colorscale": [
             [
              0,
              "#0d0887"
             ],
             [
              0.1111111111111111,
              "#46039f"
             ],
             [
              0.2222222222222222,
              "#7201a8"
             ],
             [
              0.3333333333333333,
              "#9c179e"
             ],
             [
              0.4444444444444444,
              "#bd3786"
             ],
             [
              0.5555555555555556,
              "#d8576b"
             ],
             [
              0.6666666666666666,
              "#ed7953"
             ],
             [
              0.7777777777777778,
              "#fb9f3a"
             ],
             [
              0.8888888888888888,
              "#fdca26"
             ],
             [
              1,
              "#f0f921"
             ]
            ],
            "type": "contour"
           }
          ],
          "contourcarpet": [
           {
            "colorbar": {
             "outlinewidth": 0,
             "ticks": ""
            },
            "type": "contourcarpet"
           }
          ],
          "heatmap": [
           {
            "colorbar": {
             "outlinewidth": 0,
             "ticks": ""
            },
            "colorscale": [
             [
              0,
              "#0d0887"
             ],
             [
              0.1111111111111111,
              "#46039f"
             ],
             [
              0.2222222222222222,
              "#7201a8"
             ],
             [
              0.3333333333333333,
              "#9c179e"
             ],
             [
              0.4444444444444444,
              "#bd3786"
             ],
             [
              0.5555555555555556,
              "#d8576b"
             ],
             [
              0.6666666666666666,
              "#ed7953"
             ],
             [
              0.7777777777777778,
              "#fb9f3a"
             ],
             [
              0.8888888888888888,
              "#fdca26"
             ],
             [
              1,
              "#f0f921"
             ]
            ],
            "type": "heatmap"
           }
          ],
          "heatmapgl": [
           {
            "colorbar": {
             "outlinewidth": 0,
             "ticks": ""
            },
            "colorscale": [
             [
              0,
              "#0d0887"
             ],
             [
              0.1111111111111111,
              "#46039f"
             ],
             [
              0.2222222222222222,
              "#7201a8"
             ],
             [
              0.3333333333333333,
              "#9c179e"
             ],
             [
              0.4444444444444444,
              "#bd3786"
             ],
             [
              0.5555555555555556,
              "#d8576b"
             ],
             [
              0.6666666666666666,
              "#ed7953"
             ],
             [
              0.7777777777777778,
              "#fb9f3a"
             ],
             [
              0.8888888888888888,
              "#fdca26"
             ],
             [
              1,
              "#f0f921"
             ]
            ],
            "type": "heatmapgl"
           }
          ],
          "histogram": [
           {
            "marker": {
             "pattern": {
              "fillmode": "overlay",
              "size": 10,
              "solidity": 0.2
             }
            },
            "type": "histogram"
           }
          ],
          "histogram2d": [
           {
            "colorbar": {
             "outlinewidth": 0,
             "ticks": ""
            },
            "colorscale": [
             [
              0,
              "#0d0887"
             ],
             [
              0.1111111111111111,
              "#46039f"
             ],
             [
              0.2222222222222222,
              "#7201a8"
             ],
             [
              0.3333333333333333,
              "#9c179e"
             ],
             [
              0.4444444444444444,
              "#bd3786"
             ],
             [
              0.5555555555555556,
              "#d8576b"
             ],
             [
              0.6666666666666666,
              "#ed7953"
             ],
             [
              0.7777777777777778,
              "#fb9f3a"
             ],
             [
              0.8888888888888888,
              "#fdca26"
             ],
             [
              1,
              "#f0f921"
             ]
            ],
            "type": "histogram2d"
           }
          ],
          "histogram2dcontour": [
           {
            "colorbar": {
             "outlinewidth": 0,
             "ticks": ""
            },
            "colorscale": [
             [
              0,
              "#0d0887"
             ],
             [
              0.1111111111111111,
              "#46039f"
             ],
             [
              0.2222222222222222,
              "#7201a8"
             ],
             [
              0.3333333333333333,
              "#9c179e"
             ],
             [
              0.4444444444444444,
              "#bd3786"
             ],
             [
              0.5555555555555556,
              "#d8576b"
             ],
             [
              0.6666666666666666,
              "#ed7953"
             ],
             [
              0.7777777777777778,
              "#fb9f3a"
             ],
             [
              0.8888888888888888,
              "#fdca26"
             ],
             [
              1,
              "#f0f921"
             ]
            ],
            "type": "histogram2dcontour"
           }
          ],
          "mesh3d": [
           {
            "colorbar": {
             "outlinewidth": 0,
             "ticks": ""
            },
            "type": "mesh3d"
           }
          ],
          "parcoords": [
           {
            "line": {
             "colorbar": {
              "outlinewidth": 0,
              "ticks": ""
             }
            },
            "type": "parcoords"
           }
          ],
          "pie": [
           {
            "automargin": true,
            "type": "pie"
           }
          ],
          "scatter": [
           {
            "fillpattern": {
             "fillmode": "overlay",
             "size": 10,
             "solidity": 0.2
            },
            "type": "scatter"
           }
          ],
          "scatter3d": [
           {
            "line": {
             "colorbar": {
              "outlinewidth": 0,
              "ticks": ""
             }
            },
            "marker": {
             "colorbar": {
              "outlinewidth": 0,
              "ticks": ""
             }
            },
            "type": "scatter3d"
           }
          ],
          "scattercarpet": [
           {
            "marker": {
             "colorbar": {
              "outlinewidth": 0,
              "ticks": ""
             }
            },
            "type": "scattercarpet"
           }
          ],
          "scattergeo": [
           {
            "marker": {
             "colorbar": {
              "outlinewidth": 0,
              "ticks": ""
             }
            },
            "type": "scattergeo"
           }
          ],
          "scattergl": [
           {
            "marker": {
             "colorbar": {
              "outlinewidth": 0,
              "ticks": ""
             }
            },
            "type": "scattergl"
           }
          ],
          "scattermapbox": [
           {
            "marker": {
             "colorbar": {
              "outlinewidth": 0,
              "ticks": ""
             }
            },
            "type": "scattermapbox"
           }
          ],
          "scatterpolar": [
           {
            "marker": {
             "colorbar": {
              "outlinewidth": 0,
              "ticks": ""
             }
            },
            "type": "scatterpolar"
           }
          ],
          "scatterpolargl": [
           {
            "marker": {
             "colorbar": {
              "outlinewidth": 0,
              "ticks": ""
             }
            },
            "type": "scatterpolargl"
           }
          ],
          "scatterternary": [
           {
            "marker": {
             "colorbar": {
              "outlinewidth": 0,
              "ticks": ""
             }
            },
            "type": "scatterternary"
           }
          ],
          "surface": [
           {
            "colorbar": {
             "outlinewidth": 0,
             "ticks": ""
            },
            "colorscale": [
             [
              0,
              "#0d0887"
             ],
             [
              0.1111111111111111,
              "#46039f"
             ],
             [
              0.2222222222222222,
              "#7201a8"
             ],
             [
              0.3333333333333333,
              "#9c179e"
             ],
             [
              0.4444444444444444,
              "#bd3786"
             ],
             [
              0.5555555555555556,
              "#d8576b"
             ],
             [
              0.6666666666666666,
              "#ed7953"
             ],
             [
              0.7777777777777778,
              "#fb9f3a"
             ],
             [
              0.8888888888888888,
              "#fdca26"
             ],
             [
              1,
              "#f0f921"
             ]
            ],
            "type": "surface"
           }
          ],
          "table": [
           {
            "cells": {
             "fill": {
              "color": "#EBF0F8"
             },
             "line": {
              "color": "white"
             }
            },
            "header": {
             "fill": {
              "color": "#C8D4E3"
             },
             "line": {
              "color": "white"
             }
            },
            "type": "table"
           }
          ]
         },
         "layout": {
          "annotationdefaults": {
           "arrowcolor": "#2a3f5f",
           "arrowhead": 0,
           "arrowwidth": 1
          },
          "autotypenumbers": "strict",
          "coloraxis": {
           "colorbar": {
            "outlinewidth": 0,
            "ticks": ""
           }
          },
          "colorscale": {
           "diverging": [
            [
             0,
             "#8e0152"
            ],
            [
             0.1,
             "#c51b7d"
            ],
            [
             0.2,
             "#de77ae"
            ],
            [
             0.3,
             "#f1b6da"
            ],
            [
             0.4,
             "#fde0ef"
            ],
            [
             0.5,
             "#f7f7f7"
            ],
            [
             0.6,
             "#e6f5d0"
            ],
            [
             0.7,
             "#b8e186"
            ],
            [
             0.8,
             "#7fbc41"
            ],
            [
             0.9,
             "#4d9221"
            ],
            [
             1,
             "#276419"
            ]
           ],
           "sequential": [
            [
             0,
             "#0d0887"
            ],
            [
             0.1111111111111111,
             "#46039f"
            ],
            [
             0.2222222222222222,
             "#7201a8"
            ],
            [
             0.3333333333333333,
             "#9c179e"
            ],
            [
             0.4444444444444444,
             "#bd3786"
            ],
            [
             0.5555555555555556,
             "#d8576b"
            ],
            [
             0.6666666666666666,
             "#ed7953"
            ],
            [
             0.7777777777777778,
             "#fb9f3a"
            ],
            [
             0.8888888888888888,
             "#fdca26"
            ],
            [
             1,
             "#f0f921"
            ]
           ],
           "sequentialminus": [
            [
             0,
             "#0d0887"
            ],
            [
             0.1111111111111111,
             "#46039f"
            ],
            [
             0.2222222222222222,
             "#7201a8"
            ],
            [
             0.3333333333333333,
             "#9c179e"
            ],
            [
             0.4444444444444444,
             "#bd3786"
            ],
            [
             0.5555555555555556,
             "#d8576b"
            ],
            [
             0.6666666666666666,
             "#ed7953"
            ],
            [
             0.7777777777777778,
             "#fb9f3a"
            ],
            [
             0.8888888888888888,
             "#fdca26"
            ],
            [
             1,
             "#f0f921"
            ]
           ]
          },
          "colorway": [
           "#636efa",
           "#EF553B",
           "#00cc96",
           "#ab63fa",
           "#FFA15A",
           "#19d3f3",
           "#FF6692",
           "#B6E880",
           "#FF97FF",
           "#FECB52"
          ],
          "font": {
           "color": "#2a3f5f"
          },
          "geo": {
           "bgcolor": "white",
           "lakecolor": "white",
           "landcolor": "#E5ECF6",
           "showlakes": true,
           "showland": true,
           "subunitcolor": "white"
          },
          "hoverlabel": {
           "align": "left"
          },
          "hovermode": "closest",
          "mapbox": {
           "style": "light"
          },
          "paper_bgcolor": "white",
          "plot_bgcolor": "#E5ECF6",
          "polar": {
           "angularaxis": {
            "gridcolor": "white",
            "linecolor": "white",
            "ticks": ""
           },
           "bgcolor": "#E5ECF6",
           "radialaxis": {
            "gridcolor": "white",
            "linecolor": "white",
            "ticks": ""
           }
          },
          "scene": {
           "xaxis": {
            "backgroundcolor": "#E5ECF6",
            "gridcolor": "white",
            "gridwidth": 2,
            "linecolor": "white",
            "showbackground": true,
            "ticks": "",
            "zerolinecolor": "white"
           },
           "yaxis": {
            "backgroundcolor": "#E5ECF6",
            "gridcolor": "white",
            "gridwidth": 2,
            "linecolor": "white",
            "showbackground": true,
            "ticks": "",
            "zerolinecolor": "white"
           },
           "zaxis": {
            "backgroundcolor": "#E5ECF6",
            "gridcolor": "white",
            "gridwidth": 2,
            "linecolor": "white",
            "showbackground": true,
            "ticks": "",
            "zerolinecolor": "white"
           }
          },
          "shapedefaults": {
           "line": {
            "color": "#2a3f5f"
           }
          },
          "ternary": {
           "aaxis": {
            "gridcolor": "white",
            "linecolor": "white",
            "ticks": ""
           },
           "baxis": {
            "gridcolor": "white",
            "linecolor": "white",
            "ticks": ""
           },
           "bgcolor": "#E5ECF6",
           "caxis": {
            "gridcolor": "white",
            "linecolor": "white",
            "ticks": ""
           }
          },
          "title": {
           "x": 0.05
          },
          "xaxis": {
           "automargin": true,
           "gridcolor": "white",
           "linecolor": "white",
           "ticks": "",
           "title": {
            "standoff": 15
           },
           "zerolinecolor": "white",
           "zerolinewidth": 2
          },
          "yaxis": {
           "automargin": true,
           "gridcolor": "white",
           "linecolor": "white",
           "ticks": "",
           "title": {
            "standoff": 15
           },
           "zerolinecolor": "white",
           "zerolinewidth": 2
          }
         }
        },
        "title": {
         "text": "Hyperparameter Importances"
        },
        "xaxis": {
         "title": {
          "text": "Hyperparameter Importance"
         }
        },
        "yaxis": {
         "title": {
          "text": "Hyperparameter"
         }
        }
       }
      }
     },
     "metadata": {},
     "output_type": "display_data"
    },
    {
     "data": {
      "application/vnd.plotly.v1+json": {
       "config": {
        "plotlyServerURL": "https://plot.ly"
       },
       "data": [
        {
         "marker": {
          "color": [
           0,
           1,
           2,
           3,
           4,
           10,
           11,
           12,
           13,
           14,
           16,
           17,
           18,
           19,
           21,
           22,
           23,
           24,
           25,
           27,
           28,
           30,
           31,
           33,
           34,
           35,
           38,
           41,
           42,
           43,
           44,
           47,
           50,
           51,
           52,
           53,
           54,
           56,
           58,
           59,
           61,
           62,
           63,
           67,
           70,
           71,
           72,
           73,
           74,
           77,
           81,
           82,
           84,
           86,
           90,
           91,
           92,
           94,
           96,
           97,
           99
          ],
          "colorbar": {
           "title": {
            "text": "Trial"
           },
           "x": 1,
           "xpad": 40
          },
          "colorscale": [
           [
            0,
            "rgb(247,251,255)"
           ],
           [
            0.125,
            "rgb(222,235,247)"
           ],
           [
            0.25,
            "rgb(198,219,239)"
           ],
           [
            0.375,
            "rgb(158,202,225)"
           ],
           [
            0.5,
            "rgb(107,174,214)"
           ],
           [
            0.625,
            "rgb(66,146,198)"
           ],
           [
            0.75,
            "rgb(33,113,181)"
           ],
           [
            0.875,
            "rgb(8,81,156)"
           ],
           [
            1,
            "rgb(8,48,107)"
           ]
          ],
          "line": {
           "color": "Grey",
           "width": 0.5
          },
          "showscale": true
         },
         "mode": "markers",
         "name": "Feasible Trial",
         "showlegend": false,
         "type": "scatter",
         "x": [
          48,
          9,
          11,
          6,
          14,
          21,
          20,
          20,
          20,
          21,
          17,
          14,
          15,
          14,
          13,
          12,
          5,
          6,
          5,
          5,
          5,
          8,
          5,
          10,
          7,
          11,
          8,
          5,
          7,
          11,
          5,
          8,
          10,
          5,
          7,
          5,
          9,
          7,
          8,
          5,
          6,
          5,
          6,
          6,
          7,
          5,
          5,
          7,
          8,
          5,
          5,
          6,
          7,
          5,
          7,
          5,
          6,
          5,
          6,
          7,
          5
         ],
         "xaxis": "x",
         "y": [
          0.4957638888888889,
          0.7863194444444445,
          0.6763194444444445,
          0.5169444444444444,
          0.5070138888888889,
          0.7983333333333333,
          0.8088888888888889,
          0.8088888888888889,
          0.8088888888888889,
          0.7983333333333333,
          0.8419444444444445,
          0.8816666666666667,
          0.8671527777777778,
          0.8816666666666667,
          0.8913194444444444,
          0.9015972222222223,
          0.9518055555555556,
          0.9496527777777778,
          0.9518055555555556,
          0.9518055555555556,
          0.9518055555555556,
          0.9397916666666667,
          0.9518055555555556,
          0.9215972222222222,
          0.9465277777777777,
          0.913125,
          0.9397916666666667,
          0.9518055555555556,
          0.9465277777777777,
          0.913125,
          0.9518055555555556,
          0.9397916666666667,
          0.9215972222222222,
          0.9518055555555556,
          0.9465277777777777,
          0.9518055555555556,
          0.9313888888888889,
          0.9465277777777777,
          0.9397916666666667,
          0.9518055555555556,
          0.9496527777777778,
          0.9518055555555556,
          0.9496527777777778,
          0.9496527777777778,
          0.9465277777777777,
          0.9518055555555556,
          0.9518055555555556,
          0.9465277777777777,
          0.9397916666666667,
          0.9518055555555556,
          0.9518055555555556,
          0.9496527777777778,
          0.9465277777777777,
          0.9518055555555556,
          0.9465277777777777,
          0.9518055555555556,
          0.9496527777777778,
          0.9518055555555556,
          0.9496527777777778,
          0.9465277777777777,
          0.9518055555555556
         ],
         "yaxis": "y"
        },
        {
         "marker": {
          "color": [
           0,
           3
          ],
          "colorbar": {
           "title": {
            "text": "Trial"
           },
           "x": 1,
           "xpad": 40
          },
          "colorscale": [
           [
            0,
            "rgb(247,251,255)"
           ],
           [
            0.125,
            "rgb(222,235,247)"
           ],
           [
            0.25,
            "rgb(198,219,239)"
           ],
           [
            0.375,
            "rgb(158,202,225)"
           ],
           [
            0.5,
            "rgb(107,174,214)"
           ],
           [
            0.625,
            "rgb(66,146,198)"
           ],
           [
            0.75,
            "rgb(33,113,181)"
           ],
           [
            0.875,
            "rgb(8,81,156)"
           ],
           [
            1,
            "rgb(8,48,107)"
           ]
          ],
          "line": {
           "color": "Grey",
           "width": 0.5
          },
          "showscale": false
         },
         "mode": "markers",
         "name": "Feasible Trial",
         "showlegend": false,
         "type": "scatter",
         "x": [
          816.6523540618197,
          774.7383861740881
         ],
         "xaxis": "x2",
         "y": [
          0.4957638888888889,
          0.5169444444444444
         ],
         "yaxis": "y2"
        },
        {
         "marker": {
          "color": [
           0,
           3
          ],
          "colorbar": {
           "title": {
            "text": "Trial"
           },
           "x": 1,
           "xpad": 40
          },
          "colorscale": [
           [
            0,
            "rgb(247,251,255)"
           ],
           [
            0.125,
            "rgb(222,235,247)"
           ],
           [
            0.25,
            "rgb(198,219,239)"
           ],
           [
            0.375,
            "rgb(158,202,225)"
           ],
           [
            0.5,
            "rgb(107,174,214)"
           ],
           [
            0.625,
            "rgb(66,146,198)"
           ],
           [
            0.75,
            "rgb(33,113,181)"
           ],
           [
            0.875,
            "rgb(8,81,156)"
           ],
           [
            1,
            "rgb(8,48,107)"
           ]
          ],
          "line": {
           "color": "Grey",
           "width": 0.5
          },
          "showscale": false
         },
         "mode": "markers",
         "name": "Feasible Trial",
         "showlegend": false,
         "type": "scatter",
         "x": [
          24.990599854162944,
          11.95286250331376
         ],
         "xaxis": "x3",
         "y": [
          0.4957638888888889,
          0.5169444444444444
         ],
         "yaxis": "y3"
        },
        {
         "marker": {
          "color": [
           0,
           1,
           2,
           3,
           4,
           10,
           11,
           12,
           13,
           14,
           16,
           17,
           18,
           19,
           21,
           22,
           23,
           24,
           25,
           27,
           28,
           30,
           31,
           33,
           34,
           35,
           38,
           41,
           42,
           43,
           44,
           47,
           50,
           51,
           52,
           53,
           54,
           56,
           58,
           59,
           61,
           62,
           63,
           67,
           70,
           71,
           72,
           73,
           74,
           77,
           81,
           82,
           84,
           86,
           90,
           91,
           92,
           94,
           96,
           97,
           99
          ],
          "colorbar": {
           "title": {
            "text": "Trial"
           },
           "x": 1,
           "xpad": 40
          },
          "colorscale": [
           [
            0,
            "rgb(247,251,255)"
           ],
           [
            0.125,
            "rgb(222,235,247)"
           ],
           [
            0.25,
            "rgb(198,219,239)"
           ],
           [
            0.375,
            "rgb(158,202,225)"
           ],
           [
            0.5,
            "rgb(107,174,214)"
           ],
           [
            0.625,
            "rgb(66,146,198)"
           ],
           [
            0.75,
            "rgb(33,113,181)"
           ],
           [
            0.875,
            "rgb(8,81,156)"
           ],
           [
            1,
            "rgb(8,48,107)"
           ]
          ],
          "line": {
           "color": "Grey",
           "width": 0.5
          },
          "showscale": false
         },
         "mode": "markers",
         "name": "Feasible Trial",
         "showlegend": false,
         "type": "scatter",
         "x": [
          "True",
          "False",
          "False",
          "True",
          "False",
          "False",
          "False",
          "False",
          "False",
          "False",
          "False",
          "False",
          "False",
          "False",
          "False",
          "False",
          "False",
          "False",
          "False",
          "False",
          "False",
          "False",
          "False",
          "False",
          "False",
          "False",
          "False",
          "False",
          "False",
          "False",
          "False",
          "False",
          "False",
          "False",
          "False",
          "False",
          "False",
          "False",
          "False",
          "False",
          "False",
          "False",
          "False",
          "False",
          "False",
          "False",
          "False",
          "False",
          "False",
          "False",
          "False",
          "False",
          "False",
          "False",
          "False",
          "False",
          "False",
          "False",
          "False",
          "False",
          "False"
         ],
         "xaxis": "x4",
         "y": [
          0.4957638888888889,
          0.7863194444444445,
          0.6763194444444445,
          0.5169444444444444,
          0.5070138888888889,
          0.7983333333333333,
          0.8088888888888889,
          0.8088888888888889,
          0.8088888888888889,
          0.7983333333333333,
          0.8419444444444445,
          0.8816666666666667,
          0.8671527777777778,
          0.8816666666666667,
          0.8913194444444444,
          0.9015972222222223,
          0.9518055555555556,
          0.9496527777777778,
          0.9518055555555556,
          0.9518055555555556,
          0.9518055555555556,
          0.9397916666666667,
          0.9518055555555556,
          0.9215972222222222,
          0.9465277777777777,
          0.913125,
          0.9397916666666667,
          0.9518055555555556,
          0.9465277777777777,
          0.913125,
          0.9518055555555556,
          0.9397916666666667,
          0.9215972222222222,
          0.9518055555555556,
          0.9465277777777777,
          0.9518055555555556,
          0.9313888888888889,
          0.9465277777777777,
          0.9397916666666667,
          0.9518055555555556,
          0.9496527777777778,
          0.9518055555555556,
          0.9496527777777778,
          0.9496527777777778,
          0.9465277777777777,
          0.9518055555555556,
          0.9518055555555556,
          0.9465277777777777,
          0.9397916666666667,
          0.9518055555555556,
          0.9518055555555556,
          0.9496527777777778,
          0.9465277777777777,
          0.9518055555555556,
          0.9465277777777777,
          0.9518055555555556,
          0.9496527777777778,
          0.9518055555555556,
          0.9496527777777778,
          0.9465277777777777,
          0.9518055555555556
         ],
         "yaxis": "y4"
        },
        {
         "marker": {
          "color": [
           0,
           1,
           2,
           3,
           4,
           10,
           11,
           12,
           13,
           14,
           16,
           17,
           18,
           19,
           21,
           22,
           23,
           24,
           25,
           27,
           28,
           30,
           31,
           33,
           34,
           35,
           38,
           41,
           42,
           43,
           44,
           47,
           50,
           51,
           52,
           53,
           54,
           56,
           58,
           59,
           61,
           62,
           63,
           67,
           70,
           71,
           72,
           73,
           74,
           77,
           81,
           82,
           84,
           86,
           90,
           91,
           92,
           94,
           96,
           97,
           99
          ],
          "colorbar": {
           "title": {
            "text": "Trial"
           },
           "x": 1,
           "xpad": 40
          },
          "colorscale": [
           [
            0,
            "rgb(247,251,255)"
           ],
           [
            0.125,
            "rgb(222,235,247)"
           ],
           [
            0.25,
            "rgb(198,219,239)"
           ],
           [
            0.375,
            "rgb(158,202,225)"
           ],
           [
            0.5,
            "rgb(107,174,214)"
           ],
           [
            0.625,
            "rgb(66,146,198)"
           ],
           [
            0.75,
            "rgb(33,113,181)"
           ],
           [
            0.875,
            "rgb(8,81,156)"
           ],
           [
            1,
            "rgb(8,48,107)"
           ]
          ],
          "line": {
           "color": "Grey",
           "width": 0.5
          },
          "showscale": false
         },
         "mode": "markers",
         "name": "Feasible Trial",
         "showlegend": false,
         "type": "scatter",
         "x": [
          "uniform",
          "uniform",
          "uniform",
          "uniform",
          "uniform",
          "distance",
          "distance",
          "distance",
          "distance",
          "distance",
          "distance",
          "distance",
          "distance",
          "distance",
          "distance",
          "distance",
          "distance",
          "distance",
          "distance",
          "distance",
          "distance",
          "distance",
          "distance",
          "distance",
          "distance",
          "distance",
          "distance",
          "distance",
          "distance",
          "distance",
          "distance",
          "distance",
          "distance",
          "distance",
          "distance",
          "distance",
          "distance",
          "distance",
          "distance",
          "distance",
          "distance",
          "distance",
          "distance",
          "distance",
          "distance",
          "distance",
          "distance",
          "distance",
          "distance",
          "distance",
          "distance",
          "distance",
          "distance",
          "distance",
          "distance",
          "distance",
          "distance",
          "distance",
          "distance",
          "distance",
          "distance"
         ],
         "xaxis": "x5",
         "y": [
          0.4957638888888889,
          0.7863194444444445,
          0.6763194444444445,
          0.5169444444444444,
          0.5070138888888889,
          0.7983333333333333,
          0.8088888888888889,
          0.8088888888888889,
          0.8088888888888889,
          0.7983333333333333,
          0.8419444444444445,
          0.8816666666666667,
          0.8671527777777778,
          0.8816666666666667,
          0.8913194444444444,
          0.9015972222222223,
          0.9518055555555556,
          0.9496527777777778,
          0.9518055555555556,
          0.9518055555555556,
          0.9518055555555556,
          0.9397916666666667,
          0.9518055555555556,
          0.9215972222222222,
          0.9465277777777777,
          0.913125,
          0.9397916666666667,
          0.9518055555555556,
          0.9465277777777777,
          0.913125,
          0.9518055555555556,
          0.9397916666666667,
          0.9215972222222222,
          0.9518055555555556,
          0.9465277777777777,
          0.9518055555555556,
          0.9313888888888889,
          0.9465277777777777,
          0.9397916666666667,
          0.9518055555555556,
          0.9496527777777778,
          0.9518055555555556,
          0.9496527777777778,
          0.9496527777777778,
          0.9465277777777777,
          0.9518055555555556,
          0.9518055555555556,
          0.9465277777777777,
          0.9397916666666667,
          0.9518055555555556,
          0.9518055555555556,
          0.9496527777777778,
          0.9465277777777777,
          0.9518055555555556,
          0.9465277777777777,
          0.9518055555555556,
          0.9496527777777778,
          0.9518055555555556,
          0.9496527777777778,
          0.9465277777777777,
          0.9518055555555556
         ],
         "yaxis": "y5"
        }
       ],
       "layout": {
        "template": {
         "data": {
          "bar": [
           {
            "error_x": {
             "color": "#2a3f5f"
            },
            "error_y": {
             "color": "#2a3f5f"
            },
            "marker": {
             "line": {
              "color": "#E5ECF6",
              "width": 0.5
             },
             "pattern": {
              "fillmode": "overlay",
              "size": 10,
              "solidity": 0.2
             }
            },
            "type": "bar"
           }
          ],
          "barpolar": [
           {
            "marker": {
             "line": {
              "color": "#E5ECF6",
              "width": 0.5
             },
             "pattern": {
              "fillmode": "overlay",
              "size": 10,
              "solidity": 0.2
             }
            },
            "type": "barpolar"
           }
          ],
          "carpet": [
           {
            "aaxis": {
             "endlinecolor": "#2a3f5f",
             "gridcolor": "white",
             "linecolor": "white",
             "minorgridcolor": "white",
             "startlinecolor": "#2a3f5f"
            },
            "baxis": {
             "endlinecolor": "#2a3f5f",
             "gridcolor": "white",
             "linecolor": "white",
             "minorgridcolor": "white",
             "startlinecolor": "#2a3f5f"
            },
            "type": "carpet"
           }
          ],
          "choropleth": [
           {
            "colorbar": {
             "outlinewidth": 0,
             "ticks": ""
            },
            "type": "choropleth"
           }
          ],
          "contour": [
           {
            "colorbar": {
             "outlinewidth": 0,
             "ticks": ""
            },
            "colorscale": [
             [
              0,
              "#0d0887"
             ],
             [
              0.1111111111111111,
              "#46039f"
             ],
             [
              0.2222222222222222,
              "#7201a8"
             ],
             [
              0.3333333333333333,
              "#9c179e"
             ],
             [
              0.4444444444444444,
              "#bd3786"
             ],
             [
              0.5555555555555556,
              "#d8576b"
             ],
             [
              0.6666666666666666,
              "#ed7953"
             ],
             [
              0.7777777777777778,
              "#fb9f3a"
             ],
             [
              0.8888888888888888,
              "#fdca26"
             ],
             [
              1,
              "#f0f921"
             ]
            ],
            "type": "contour"
           }
          ],
          "contourcarpet": [
           {
            "colorbar": {
             "outlinewidth": 0,
             "ticks": ""
            },
            "type": "contourcarpet"
           }
          ],
          "heatmap": [
           {
            "colorbar": {
             "outlinewidth": 0,
             "ticks": ""
            },
            "colorscale": [
             [
              0,
              "#0d0887"
             ],
             [
              0.1111111111111111,
              "#46039f"
             ],
             [
              0.2222222222222222,
              "#7201a8"
             ],
             [
              0.3333333333333333,
              "#9c179e"
             ],
             [
              0.4444444444444444,
              "#bd3786"
             ],
             [
              0.5555555555555556,
              "#d8576b"
             ],
             [
              0.6666666666666666,
              "#ed7953"
             ],
             [
              0.7777777777777778,
              "#fb9f3a"
             ],
             [
              0.8888888888888888,
              "#fdca26"
             ],
             [
              1,
              "#f0f921"
             ]
            ],
            "type": "heatmap"
           }
          ],
          "heatmapgl": [
           {
            "colorbar": {
             "outlinewidth": 0,
             "ticks": ""
            },
            "colorscale": [
             [
              0,
              "#0d0887"
             ],
             [
              0.1111111111111111,
              "#46039f"
             ],
             [
              0.2222222222222222,
              "#7201a8"
             ],
             [
              0.3333333333333333,
              "#9c179e"
             ],
             [
              0.4444444444444444,
              "#bd3786"
             ],
             [
              0.5555555555555556,
              "#d8576b"
             ],
             [
              0.6666666666666666,
              "#ed7953"
             ],
             [
              0.7777777777777778,
              "#fb9f3a"
             ],
             [
              0.8888888888888888,
              "#fdca26"
             ],
             [
              1,
              "#f0f921"
             ]
            ],
            "type": "heatmapgl"
           }
          ],
          "histogram": [
           {
            "marker": {
             "pattern": {
              "fillmode": "overlay",
              "size": 10,
              "solidity": 0.2
             }
            },
            "type": "histogram"
           }
          ],
          "histogram2d": [
           {
            "colorbar": {
             "outlinewidth": 0,
             "ticks": ""
            },
            "colorscale": [
             [
              0,
              "#0d0887"
             ],
             [
              0.1111111111111111,
              "#46039f"
             ],
             [
              0.2222222222222222,
              "#7201a8"
             ],
             [
              0.3333333333333333,
              "#9c179e"
             ],
             [
              0.4444444444444444,
              "#bd3786"
             ],
             [
              0.5555555555555556,
              "#d8576b"
             ],
             [
              0.6666666666666666,
              "#ed7953"
             ],
             [
              0.7777777777777778,
              "#fb9f3a"
             ],
             [
              0.8888888888888888,
              "#fdca26"
             ],
             [
              1,
              "#f0f921"
             ]
            ],
            "type": "histogram2d"
           }
          ],
          "histogram2dcontour": [
           {
            "colorbar": {
             "outlinewidth": 0,
             "ticks": ""
            },
            "colorscale": [
             [
              0,
              "#0d0887"
             ],
             [
              0.1111111111111111,
              "#46039f"
             ],
             [
              0.2222222222222222,
              "#7201a8"
             ],
             [
              0.3333333333333333,
              "#9c179e"
             ],
             [
              0.4444444444444444,
              "#bd3786"
             ],
             [
              0.5555555555555556,
              "#d8576b"
             ],
             [
              0.6666666666666666,
              "#ed7953"
             ],
             [
              0.7777777777777778,
              "#fb9f3a"
             ],
             [
              0.8888888888888888,
              "#fdca26"
             ],
             [
              1,
              "#f0f921"
             ]
            ],
            "type": "histogram2dcontour"
           }
          ],
          "mesh3d": [
           {
            "colorbar": {
             "outlinewidth": 0,
             "ticks": ""
            },
            "type": "mesh3d"
           }
          ],
          "parcoords": [
           {
            "line": {
             "colorbar": {
              "outlinewidth": 0,
              "ticks": ""
             }
            },
            "type": "parcoords"
           }
          ],
          "pie": [
           {
            "automargin": true,
            "type": "pie"
           }
          ],
          "scatter": [
           {
            "fillpattern": {
             "fillmode": "overlay",
             "size": 10,
             "solidity": 0.2
            },
            "type": "scatter"
           }
          ],
          "scatter3d": [
           {
            "line": {
             "colorbar": {
              "outlinewidth": 0,
              "ticks": ""
             }
            },
            "marker": {
             "colorbar": {
              "outlinewidth": 0,
              "ticks": ""
             }
            },
            "type": "scatter3d"
           }
          ],
          "scattercarpet": [
           {
            "marker": {
             "colorbar": {
              "outlinewidth": 0,
              "ticks": ""
             }
            },
            "type": "scattercarpet"
           }
          ],
          "scattergeo": [
           {
            "marker": {
             "colorbar": {
              "outlinewidth": 0,
              "ticks": ""
             }
            },
            "type": "scattergeo"
           }
          ],
          "scattergl": [
           {
            "marker": {
             "colorbar": {
              "outlinewidth": 0,
              "ticks": ""
             }
            },
            "type": "scattergl"
           }
          ],
          "scattermapbox": [
           {
            "marker": {
             "colorbar": {
              "outlinewidth": 0,
              "ticks": ""
             }
            },
            "type": "scattermapbox"
           }
          ],
          "scatterpolar": [
           {
            "marker": {
             "colorbar": {
              "outlinewidth": 0,
              "ticks": ""
             }
            },
            "type": "scatterpolar"
           }
          ],
          "scatterpolargl": [
           {
            "marker": {
             "colorbar": {
              "outlinewidth": 0,
              "ticks": ""
             }
            },
            "type": "scatterpolargl"
           }
          ],
          "scatterternary": [
           {
            "marker": {
             "colorbar": {
              "outlinewidth": 0,
              "ticks": ""
             }
            },
            "type": "scatterternary"
           }
          ],
          "surface": [
           {
            "colorbar": {
             "outlinewidth": 0,
             "ticks": ""
            },
            "colorscale": [
             [
              0,
              "#0d0887"
             ],
             [
              0.1111111111111111,
              "#46039f"
             ],
             [
              0.2222222222222222,
              "#7201a8"
             ],
             [
              0.3333333333333333,
              "#9c179e"
             ],
             [
              0.4444444444444444,
              "#bd3786"
             ],
             [
              0.5555555555555556,
              "#d8576b"
             ],
             [
              0.6666666666666666,
              "#ed7953"
             ],
             [
              0.7777777777777778,
              "#fb9f3a"
             ],
             [
              0.8888888888888888,
              "#fdca26"
             ],
             [
              1,
              "#f0f921"
             ]
            ],
            "type": "surface"
           }
          ],
          "table": [
           {
            "cells": {
             "fill": {
              "color": "#EBF0F8"
             },
             "line": {
              "color": "white"
             }
            },
            "header": {
             "fill": {
              "color": "#C8D4E3"
             },
             "line": {
              "color": "white"
             }
            },
            "type": "table"
           }
          ]
         },
         "layout": {
          "annotationdefaults": {
           "arrowcolor": "#2a3f5f",
           "arrowhead": 0,
           "arrowwidth": 1
          },
          "autotypenumbers": "strict",
          "coloraxis": {
           "colorbar": {
            "outlinewidth": 0,
            "ticks": ""
           }
          },
          "colorscale": {
           "diverging": [
            [
             0,
             "#8e0152"
            ],
            [
             0.1,
             "#c51b7d"
            ],
            [
             0.2,
             "#de77ae"
            ],
            [
             0.3,
             "#f1b6da"
            ],
            [
             0.4,
             "#fde0ef"
            ],
            [
             0.5,
             "#f7f7f7"
            ],
            [
             0.6,
             "#e6f5d0"
            ],
            [
             0.7,
             "#b8e186"
            ],
            [
             0.8,
             "#7fbc41"
            ],
            [
             0.9,
             "#4d9221"
            ],
            [
             1,
             "#276419"
            ]
           ],
           "sequential": [
            [
             0,
             "#0d0887"
            ],
            [
             0.1111111111111111,
             "#46039f"
            ],
            [
             0.2222222222222222,
             "#7201a8"
            ],
            [
             0.3333333333333333,
             "#9c179e"
            ],
            [
             0.4444444444444444,
             "#bd3786"
            ],
            [
             0.5555555555555556,
             "#d8576b"
            ],
            [
             0.6666666666666666,
             "#ed7953"
            ],
            [
             0.7777777777777778,
             "#fb9f3a"
            ],
            [
             0.8888888888888888,
             "#fdca26"
            ],
            [
             1,
             "#f0f921"
            ]
           ],
           "sequentialminus": [
            [
             0,
             "#0d0887"
            ],
            [
             0.1111111111111111,
             "#46039f"
            ],
            [
             0.2222222222222222,
             "#7201a8"
            ],
            [
             0.3333333333333333,
             "#9c179e"
            ],
            [
             0.4444444444444444,
             "#bd3786"
            ],
            [
             0.5555555555555556,
             "#d8576b"
            ],
            [
             0.6666666666666666,
             "#ed7953"
            ],
            [
             0.7777777777777778,
             "#fb9f3a"
            ],
            [
             0.8888888888888888,
             "#fdca26"
            ],
            [
             1,
             "#f0f921"
            ]
           ]
          },
          "colorway": [
           "#636efa",
           "#EF553B",
           "#00cc96",
           "#ab63fa",
           "#FFA15A",
           "#19d3f3",
           "#FF6692",
           "#B6E880",
           "#FF97FF",
           "#FECB52"
          ],
          "font": {
           "color": "#2a3f5f"
          },
          "geo": {
           "bgcolor": "white",
           "lakecolor": "white",
           "landcolor": "#E5ECF6",
           "showlakes": true,
           "showland": true,
           "subunitcolor": "white"
          },
          "hoverlabel": {
           "align": "left"
          },
          "hovermode": "closest",
          "mapbox": {
           "style": "light"
          },
          "paper_bgcolor": "white",
          "plot_bgcolor": "#E5ECF6",
          "polar": {
           "angularaxis": {
            "gridcolor": "white",
            "linecolor": "white",
            "ticks": ""
           },
           "bgcolor": "#E5ECF6",
           "radialaxis": {
            "gridcolor": "white",
            "linecolor": "white",
            "ticks": ""
           }
          },
          "scene": {
           "xaxis": {
            "backgroundcolor": "#E5ECF6",
            "gridcolor": "white",
            "gridwidth": 2,
            "linecolor": "white",
            "showbackground": true,
            "ticks": "",
            "zerolinecolor": "white"
           },
           "yaxis": {
            "backgroundcolor": "#E5ECF6",
            "gridcolor": "white",
            "gridwidth": 2,
            "linecolor": "white",
            "showbackground": true,
            "ticks": "",
            "zerolinecolor": "white"
           },
           "zaxis": {
            "backgroundcolor": "#E5ECF6",
            "gridcolor": "white",
            "gridwidth": 2,
            "linecolor": "white",
            "showbackground": true,
            "ticks": "",
            "zerolinecolor": "white"
           }
          },
          "shapedefaults": {
           "line": {
            "color": "#2a3f5f"
           }
          },
          "ternary": {
           "aaxis": {
            "gridcolor": "white",
            "linecolor": "white",
            "ticks": ""
           },
           "baxis": {
            "gridcolor": "white",
            "linecolor": "white",
            "ticks": ""
           },
           "bgcolor": "#E5ECF6",
           "caxis": {
            "gridcolor": "white",
            "linecolor": "white",
            "ticks": ""
           }
          },
          "title": {
           "x": 0.05
          },
          "xaxis": {
           "automargin": true,
           "gridcolor": "white",
           "linecolor": "white",
           "ticks": "",
           "title": {
            "standoff": 15
           },
           "zerolinecolor": "white",
           "zerolinewidth": 2
          },
          "yaxis": {
           "automargin": true,
           "gridcolor": "white",
           "linecolor": "white",
           "ticks": "",
           "title": {
            "standoff": 15
           },
           "zerolinecolor": "white",
           "zerolinewidth": 2
          }
         }
        },
        "title": {
         "text": "Slice Plot"
        },
        "width": 1500,
        "xaxis": {
         "anchor": "y",
         "domain": [
          0,
          0.16799999999999998
         ],
         "title": {
          "text": "n_neighbors"
         }
        },
        "xaxis2": {
         "anchor": "y2",
         "domain": [
          0.208,
          0.376
         ],
         "title": {
          "text": "tsne_learning_rate"
         }
        },
        "xaxis3": {
         "anchor": "y3",
         "domain": [
          0.416,
          0.584
         ],
         "title": {
          "text": "tsne_perplexity"
         }
        },
        "xaxis4": {
         "anchor": "y4",
         "categoryarray": [
          "True",
          "False"
         ],
         "categoryorder": "array",
         "domain": [
          0.624,
          0.792
         ],
         "title": {
          "text": "use_tsne"
         },
         "type": "category"
        },
        "xaxis5": {
         "anchor": "y5",
         "categoryarray": [
          "uniform",
          "distance"
         ],
         "categoryorder": "array",
         "domain": [
          0.832,
          1
         ],
         "title": {
          "text": "weights"
         },
         "type": "category"
        },
        "yaxis": {
         "anchor": "x",
         "domain": [
          0,
          1
         ],
         "title": {
          "text": "Objective Value"
         }
        },
        "yaxis2": {
         "anchor": "x2",
         "domain": [
          0,
          1
         ],
         "matches": "y",
         "showticklabels": false
        },
        "yaxis3": {
         "anchor": "x3",
         "domain": [
          0,
          1
         ],
         "matches": "y",
         "showticklabels": false
        },
        "yaxis4": {
         "anchor": "x4",
         "domain": [
          0,
          1
         ],
         "matches": "y",
         "showticklabels": false
        },
        "yaxis5": {
         "anchor": "x5",
         "domain": [
          0,
          1
         ],
         "matches": "y",
         "showticklabels": false
        }
       }
      }
     },
     "metadata": {},
     "output_type": "display_data"
    }
   ],
   "source": [
    "import numpy as np\n",
    "from sklearn.model_selection import train_test_split\n",
    "from sklearn.preprocessing import StandardScaler\n",
    "from sklearn.metrics import accuracy_score\n",
    "from sklearn.manifold import TSNE\n",
    "from sklearn.neighbors import KNeighborsClassifier\n",
    "import optuna\n",
    "import optuna.visualization as vis\n",
    "\n",
    "n = 9\n",
    "\n",
    "# Load dataset\n",
    "X = np.load(f'Datasets/kryptonite-{n}-X.npy')\n",
    "y = np.load(f'Datasets/kryptonite-{n}-y.npy')\n",
    "\n",
    "def objective(trial):\n",
    "    ### ========== Shuffle and Split Data ========== ###\n",
    "    \n",
    "    X_train, X_val, y_train, y_val = train_test_split(X, y, test_size=0.8, random_state=42)\n",
    "    \n",
    "    scaler = StandardScaler()\n",
    "    X_train_scaled = scaler.fit_transform(X_train)\n",
    "    X_val_scaled = scaler.transform(X_val)\n",
    "    \n",
    "    # Suggest whether to use t-SNE and its parameters\n",
    "    use_tsne = trial.suggest_categorical('use_tsne', ['True', 'False'])\n",
    "    \n",
    "    if use_tsne == 'True':\n",
    "        tsne_perplexity = trial.suggest_float('tsne_perplexity', 5, 50)\n",
    "        tsne_learning_rate = trial.suggest_float('tsne_learning_rate', 10, 1000)\n",
    "        \n",
    "        # Perform t-SNE dimensionality reduction to 2 components\n",
    "        tsne = TSNE(\n",
    "            n_components=2,\n",
    "            perplexity=tsne_perplexity,\n",
    "            learning_rate=tsne_learning_rate,\n",
    "            max_iter=250,\n",
    "            random_state=42\n",
    "        )\n",
    "        \n",
    "        X_train_scaled = tsne.fit_transform(X_train_scaled)\n",
    "        X_val_scaled = tsne.fit_transform(X_val_scaled)\n",
    "\n",
    "    ### ========== KNN Classifier ========== ###\n",
    "    \n",
    "    # KNN Classifier parameters\n",
    "    classifier = KNeighborsClassifier(\n",
    "        n_neighbors=trial.suggest_int('n_neighbors', 5, 50),\n",
    "        weights=trial.suggest_categorical('weights', ['uniform', 'distance']),\n",
    "        n_jobs=-1\n",
    "    )\n",
    "    \n",
    "    # Train the classifier\n",
    "    classifier.fit(X_train_scaled, y_train)\n",
    "    \n",
    "    # Evaluate on the validation set\n",
    "    y_val_pred = classifier.predict(X_val_scaled)\n",
    "    val_accuracy = accuracy_score(y_val, y_val_pred)\n",
    "    \n",
    "    # Report validation accuracy for pruning\n",
    "    trial.report(val_accuracy, step=0)\n",
    "    \n",
    "    # Check if the trial should be pruned\n",
    "    if trial.should_prune():\n",
    "        raise optuna.TrialPruned()\n",
    "    \n",
    "    return val_accuracy\n",
    "\n",
    "# Create a study object with a pruner\n",
    "pruner = optuna.pruners.MedianPruner()\n",
    "study = optuna.create_study(direction=\"maximize\", pruner=pruner)\n",
    "\n",
    "# Optimize the objective function\n",
    "study.optimize(objective, n_trials=100)\n",
    "\n",
    "print(\"Best hyperparameters:\", study.best_params)\n",
    "print(\"Best value:\", study.best_value)\n",
    "\n",
    "# Visualize the optimization history and parameter importances\n",
    "vis.plot_optimization_history(study).show()\n",
    "vis.plot_param_importances(study).show()\n",
    "vis.plot_slice(study).show()\n"
   ]
  }
 ],
 "metadata": {
  "kernelspec": {
   "display_name": ".venv",
   "language": "python",
   "name": "python3"
  },
  "language_info": {
   "codemirror_mode": {
    "name": "ipython",
    "version": 3
   },
   "file_extension": ".py",
   "mimetype": "text/x-python",
   "name": "python",
   "nbconvert_exporter": "python",
   "pygments_lexer": "ipython3",
   "version": "3.12.0"
  }
 },
 "nbformat": 4,
 "nbformat_minor": 2
}
