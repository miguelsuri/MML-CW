{
 "cells": [
  {
   "cell_type": "code",
   "execution_count": 3,
   "metadata": {},
   "outputs": [
    {
     "name": "stdout",
     "output_type": "stream",
     "text": [
      "Original Score: 0.810\n",
      "Permutation Scores: 0.505 +/- 0.057\n",
      "P-value: 0.010\n"
     ]
    }
   ],
   "source": [
    "from sklearn.datasets import make_classification\n",
    "from sklearn.linear_model import LogisticRegression\n",
    "from sklearn.model_selection import permutation_test_score\n",
    "from sklearn.metrics import accuracy_score\n",
    "\n",
    "X, y = make_classification(random_state=0)\n",
    "\n",
    "estimator = LogisticRegression()\n",
    "\n",
    "score, permutation_scores, pvalue = permutation_test_score(\n",
    "    estimator, X, y, random_state=0, scoring=\"accuracy\"\n",
    ")\n",
    "\n",
    "print(f\"Original Score: {score:.3f}\")\n",
    "\n",
    "print(\n",
    "    f\"Permutation Scores: {permutation_scores.mean():.3f} +/- \"\n",
    "    f\"{permutation_scores.std():.3f}\"\n",
    ")\n",
    "\n",
    "print(f\"P-value: {pvalue:.3f}\")"
   ]
  }
 ],
 "metadata": {
  "kernelspec": {
   "display_name": ".venv",
   "language": "python",
   "name": "python3"
  },
  "language_info": {
   "codemirror_mode": {
    "name": "ipython",
    "version": 3
   },
   "file_extension": ".py",
   "mimetype": "text/x-python",
   "name": "python",
   "nbconvert_exporter": "python",
   "pygments_lexer": "ipython3",
   "version": "3.12.0"
  }
 },
 "nbformat": 4,
 "nbformat_minor": 2
}
