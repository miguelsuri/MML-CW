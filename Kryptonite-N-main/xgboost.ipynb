{
 "cells": [
  {
   "cell_type": "code",
   "execution_count": 10,
   "metadata": {},
   "outputs": [
    {
     "name": "stderr",
     "output_type": "stream",
     "text": [
      "[I 2024-11-11 19:19:10,743] A new study created in memory with name: no-name-73712545-e992-474c-872e-246f869e9d76\n",
      "[I 2024-11-11 19:19:11,008] Trial 0 finished with value: 0.5010416666666667 and parameters: {'use_pca': 'False', 'n_pca_components': 2, 'n_estimators': 850, 'max_depth': 3, 'learning_rate': 0.16381553414696418, 'subsample': 0.500745775238304, 'colsample_bytree': 0.9757307338993106, 'gamma': 1.8202260775291301, 'min_child_weight': 9}. Best is trial 0 with value: 0.5010416666666667.\n",
      "[I 2024-11-11 19:19:11,077] Trial 1 finished with value: 0.4895833333333333 and parameters: {'use_pca': 'False', 'n_pca_components': 8, 'n_estimators': 275, 'max_depth': 10, 'learning_rate': 0.12828841467704616, 'subsample': 0.990500097833556, 'colsample_bytree': 0.7022195429832396, 'gamma': 4.069975823839852, 'min_child_weight': 6}. Best is trial 0 with value: 0.5010416666666667.\n"
     ]
    },
    {
     "name": "stdout",
     "output_type": "stream",
     "text": [
      "Test Accuracy: 0.5010\n",
      "Test Accuracy: 0.5054\n"
     ]
    },
    {
     "name": "stderr",
     "output_type": "stream",
     "text": [
      "[I 2024-11-11 19:19:11,269] Trial 2 finished with value: 0.4986111111111111 and parameters: {'use_pca': 'False', 'n_pca_components': 3, 'n_estimators': 225, 'max_depth': 7, 'learning_rate': 0.012873581281138557, 'subsample': 0.5418287527181729, 'colsample_bytree': 0.7783085253473125, 'gamma': 1.54886598295775, 'min_child_weight': 3}. Best is trial 0 with value: 0.5010416666666667.\n"
     ]
    },
    {
     "name": "stdout",
     "output_type": "stream",
     "text": [
      "Test Accuracy: 0.5000\n",
      "Test Accuracy: 0.4990\n"
     ]
    },
    {
     "name": "stderr",
     "output_type": "stream",
     "text": [
      "[I 2024-11-11 19:19:11,454] Trial 3 finished with value: 0.48993055555555554 and parameters: {'use_pca': 'False', 'n_pca_components': 1, 'n_estimators': 950, 'max_depth': 7, 'learning_rate': 0.22185929263550513, 'subsample': 0.9126962312877088, 'colsample_bytree': 0.7681313905260758, 'gamma': 4.980562413973632, 'min_child_weight': 8}. Best is trial 0 with value: 0.5010416666666667.\n",
      "[I 2024-11-11 19:19:11,613] Trial 4 finished with value: 0.484375 and parameters: {'use_pca': 'True', 'n_pca_components': 2, 'n_estimators': 925, 'max_depth': 6, 'learning_rate': 0.1808865028418688, 'subsample': 0.9804992248182063, 'colsample_bytree': 0.6209453491577708, 'gamma': 0.7952936473297612, 'min_child_weight': 2}. Best is trial 0 with value: 0.5010416666666667.\n",
      "[I 2024-11-11 19:19:11,742] Trial 5 finished with value: 0.5079861111111111 and parameters: {'use_pca': 'False', 'n_pca_components': 6, 'n_estimators': 475, 'max_depth': 6, 'learning_rate': 0.11023538155276708, 'subsample': 0.5821751675509483, 'colsample_bytree': 0.7154064294192766, 'gamma': 4.474309577440063, 'min_child_weight': 6}. Best is trial 5 with value: 0.5079861111111111.\n"
     ]
    },
    {
     "name": "stdout",
     "output_type": "stream",
     "text": [
      "Test Accuracy: 0.4995\n",
      "Test Accuracy: 0.5046\n"
     ]
    },
    {
     "name": "stderr",
     "output_type": "stream",
     "text": [
      "[I 2024-11-11 19:19:11,931] Trial 6 finished with value: 0.5045138888888889 and parameters: {'use_pca': 'False', 'n_pca_components': 8, 'n_estimators': 950, 'max_depth': 4, 'learning_rate': 0.050408717859956945, 'subsample': 0.9838923143789651, 'colsample_bytree': 0.7469350534897372, 'gamma': 2.3979865752457052, 'min_child_weight': 8}. Best is trial 5 with value: 0.5079861111111111.\n",
      "[I 2024-11-11 19:19:12,108] Trial 7 finished with value: 0.5013888888888889 and parameters: {'use_pca': 'True', 'n_pca_components': 9, 'n_estimators': 625, 'max_depth': 3, 'learning_rate': 0.27952909226411055, 'subsample': 0.869167680927639, 'colsample_bytree': 0.536453382523387, 'gamma': 0.6928723429424832, 'min_child_weight': 2}. Best is trial 5 with value: 0.5079861111111111.\n"
     ]
    },
    {
     "name": "stdout",
     "output_type": "stream",
     "text": [
      "Test Accuracy: 0.5049\n",
      "Test Accuracy: 0.4924\n"
     ]
    },
    {
     "name": "stderr",
     "output_type": "stream",
     "text": [
      "[I 2024-11-11 19:19:12,152] Trial 8 finished with value: 0.4986111111111111 and parameters: {'use_pca': 'False', 'n_pca_components': 1, 'n_estimators': 100, 'max_depth': 6, 'learning_rate': 0.11302633802608993, 'subsample': 0.9122755318818592, 'colsample_bytree': 0.7865873014697833, 'gamma': 3.794494313608941, 'min_child_weight': 9}. Best is trial 5 with value: 0.5079861111111111.\n"
     ]
    },
    {
     "name": "stdout",
     "output_type": "stream",
     "text": [
      "Test Accuracy: 0.5038\n"
     ]
    },
    {
     "name": "stderr",
     "output_type": "stream",
     "text": [
      "[I 2024-11-11 19:19:12,443] Trial 9 finished with value: 0.4892361111111111 and parameters: {'use_pca': 'True', 'n_pca_components': 7, 'n_estimators': 425, 'max_depth': 6, 'learning_rate': 0.04098524433971425, 'subsample': 0.7687285853252248, 'colsample_bytree': 0.6156929604355859, 'gamma': 0.2998242900322873, 'min_child_weight': 5}. Best is trial 5 with value: 0.5079861111111111.\n",
      "[I 2024-11-11 19:19:12,610] Trial 10 finished with value: 0.5041666666666667 and parameters: {'use_pca': 'True', 'n_pca_components': 5, 'n_estimators': 625, 'max_depth': 9, 'learning_rate': 0.09043059273721196, 'subsample': 0.6356329474573763, 'colsample_bytree': 0.9048139152201577, 'gamma': 3.300392333201014, 'min_child_weight': 5}. Best is trial 5 with value: 0.5079861111111111.\n"
     ]
    },
    {
     "name": "stdout",
     "output_type": "stream",
     "text": [
      "Test Accuracy: 0.4981\n",
      "Test Accuracy: 0.5008\n"
     ]
    },
    {
     "name": "stderr",
     "output_type": "stream",
     "text": [
      "[I 2024-11-11 19:19:12,851] Trial 11 finished with value: 0.5027777777777778 and parameters: {'use_pca': 'False', 'n_pca_components': 6, 'n_estimators': 725, 'max_depth': 4, 'learning_rate': 0.05807899007188128, 'subsample': 0.688174651148324, 'colsample_bytree': 0.8714305848942256, 'gamma': 2.5877513319763548, 'min_child_weight': 7}. Best is trial 5 with value: 0.5079861111111111.\n",
      "[I 2024-11-11 19:19:13,000] Trial 12 finished with value: 0.515625 and parameters: {'use_pca': 'False', 'n_pca_components': 5, 'n_estimators': 450, 'max_depth': 5, 'learning_rate': 0.08517109302802063, 'subsample': 0.7920331693784277, 'colsample_bytree': 0.6863393660255054, 'gamma': 2.7044727427362925, 'min_child_weight': 10}. Best is trial 12 with value: 0.515625.\n"
     ]
    },
    {
     "name": "stdout",
     "output_type": "stream",
     "text": [
      "Test Accuracy: 0.5047\n",
      "Test Accuracy: 0.5009\n"
     ]
    },
    {
     "name": "stderr",
     "output_type": "stream",
     "text": [
      "[I 2024-11-11 19:19:13,127] Trial 13 finished with value: 0.496875 and parameters: {'use_pca': 'False', 'n_pca_components': 5, 'n_estimators': 450, 'max_depth': 5, 'learning_rate': 0.09400710706090157, 'subsample': 0.7759687707442696, 'colsample_bytree': 0.636117947680732, 'gamma': 4.830653722746143, 'min_child_weight': 10}. Best is trial 12 with value: 0.515625.\n",
      "[I 2024-11-11 19:19:13,283] Trial 14 finished with value: 0.509375 and parameters: {'use_pca': 'False', 'n_pca_components': 4, 'n_estimators': 450, 'max_depth': 8, 'learning_rate': 0.13542614965382396, 'subsample': 0.6080168123274212, 'colsample_bytree': 0.5117171955270641, 'gamma': 3.1666187572026487, 'min_child_weight': 10}. Best is trial 12 with value: 0.515625.\n"
     ]
    },
    {
     "name": "stdout",
     "output_type": "stream",
     "text": [
      "Test Accuracy: 0.4983\n",
      "Test Accuracy: 0.5045\n"
     ]
    },
    {
     "name": "stderr",
     "output_type": "stream",
     "text": [
      "[I 2024-11-11 19:19:13,408] Trial 15 finished with value: 0.5065972222222223 and parameters: {'use_pca': 'False', 'n_pca_components': 4, 'n_estimators': 325, 'max_depth': 8, 'learning_rate': 0.19510766022663092, 'subsample': 0.686850841998336, 'colsample_bytree': 0.5097819286235009, 'gamma': 3.169158797822165, 'min_child_weight': 10}. Best is trial 12 with value: 0.515625.\n",
      "[I 2024-11-11 19:19:13,569] Trial 16 finished with value: 0.5020833333333333 and parameters: {'use_pca': 'False', 'n_pca_components': 4, 'n_estimators': 575, 'max_depth': 8, 'learning_rate': 0.1369282175768972, 'subsample': 0.8303640667189494, 'colsample_bytree': 0.5741028230658477, 'gamma': 2.7977288852279414, 'min_child_weight': 10}. Best is trial 12 with value: 0.515625.\n"
     ]
    },
    {
     "name": "stdout",
     "output_type": "stream",
     "text": [
      "Test Accuracy: 0.5037\n",
      "Test Accuracy: 0.5018\n"
     ]
    },
    {
     "name": "stderr",
     "output_type": "stream",
     "text": [
      "[I 2024-11-11 19:19:13,797] Trial 17 finished with value: 0.5 and parameters: {'use_pca': 'False', 'n_pca_components': 4, 'n_estimators': 725, 'max_depth': 8, 'learning_rate': 0.22921456939317025, 'subsample': 0.7016153793566247, 'colsample_bytree': 0.6705615461743876, 'gamma': 2.090387936401927, 'min_child_weight': 8}. Best is trial 12 with value: 0.515625.\n",
      "[I 2024-11-11 19:19:13,920] Trial 18 finished with value: 0.5055555555555555 and parameters: {'use_pca': 'True', 'n_pca_components': 6, 'n_estimators': 350, 'max_depth': 10, 'learning_rate': 0.07471583528392714, 'subsample': 0.6093037387809433, 'colsample_bytree': 0.5622151959404001, 'gamma': 3.5483254813507754, 'min_child_weight': 4}. Best is trial 12 with value: 0.515625.\n"
     ]
    },
    {
     "name": "stdout",
     "output_type": "stream",
     "text": [
      "Test Accuracy: 0.5048\n",
      "Test Accuracy: 0.4989\n"
     ]
    },
    {
     "name": "stderr",
     "output_type": "stream",
     "text": [
      "[I 2024-11-11 19:19:14,046] Trial 19 finished with value: 0.5069444444444444 and parameters: {'use_pca': 'False', 'n_pca_components': 3, 'n_estimators': 175, 'max_depth': 5, 'learning_rate': 0.1575391660802265, 'subsample': 0.8041155912130526, 'colsample_bytree': 0.8573167823666674, 'gamma': 1.291596765330683, 'min_child_weight': 9}. Best is trial 12 with value: 0.515625.\n"
     ]
    },
    {
     "name": "stdout",
     "output_type": "stream",
     "text": [
      "Test Accuracy: 0.5092\n"
     ]
    },
    {
     "name": "stderr",
     "output_type": "stream",
     "text": [
      "[I 2024-11-11 19:19:14,328] Trial 20 finished with value: 0.5072916666666667 and parameters: {'use_pca': 'False', 'n_pca_components': 5, 'n_estimators': 525, 'max_depth': 9, 'learning_rate': 0.015866474044718082, 'subsample': 0.6415887427979888, 'colsample_bytree': 0.5848602071036386, 'gamma': 3.010601862522528, 'min_child_weight': 1}. Best is trial 12 with value: 0.515625.\n",
      "[I 2024-11-11 19:19:14,474] Trial 21 finished with value: 0.5125 and parameters: {'use_pca': 'False', 'n_pca_components': 6, 'n_estimators': 425, 'max_depth': 5, 'learning_rate': 0.10839814548865509, 'subsample': 0.5666246055614294, 'colsample_bytree': 0.708491107825477, 'gamma': 4.277667142501089, 'min_child_weight': 7}. Best is trial 12 with value: 0.515625.\n"
     ]
    },
    {
     "name": "stdout",
     "output_type": "stream",
     "text": [
      "Test Accuracy: 0.5049\n",
      "Test Accuracy: 0.5043\n"
     ]
    },
    {
     "name": "stderr",
     "output_type": "stream",
     "text": [
      "[I 2024-11-11 19:19:14,613] Trial 22 finished with value: 0.5055555555555555 and parameters: {'use_pca': 'False', 'n_pca_components': 7, 'n_estimators': 375, 'max_depth': 5, 'learning_rate': 0.12878650676807063, 'subsample': 0.5525458517479734, 'colsample_bytree': 0.6723325916599471, 'gamma': 4.299522181803559, 'min_child_weight': 7}. Best is trial 12 with value: 0.515625.\n",
      "[I 2024-11-11 19:19:14,783] Trial 23 finished with value: 0.49409722222222224 and parameters: {'use_pca': 'False', 'n_pca_components': 6, 'n_estimators': 525, 'max_depth': 4, 'learning_rate': 0.08131079777808566, 'subsample': 0.7238015777119393, 'colsample_bytree': 0.8148523024803656, 'gamma': 3.745301222091501, 'min_child_weight': 7}. Best is trial 12 with value: 0.515625.\n"
     ]
    },
    {
     "name": "stdout",
     "output_type": "stream",
     "text": [
      "Test Accuracy: 0.4999\n",
      "Test Accuracy: 0.5044\n"
     ]
    },
    {
     "name": "stderr",
     "output_type": "stream",
     "text": [
      "[I 2024-11-11 19:19:14,939] Trial 24 finished with value: 0.5125 and parameters: {'use_pca': 'False', 'n_pca_components': 4, 'n_estimators': 400, 'max_depth': 7, 'learning_rate': 0.14107247319208868, 'subsample': 0.6512865894771804, 'colsample_bytree': 0.7147101561821246, 'gamma': 3.391193878023484, 'min_child_weight': 9}. Best is trial 12 with value: 0.515625.\n",
      "[I 2024-11-11 19:19:15,087] Trial 25 finished with value: 0.5131944444444444 and parameters: {'use_pca': 'False', 'n_pca_components': 5, 'n_estimators': 300, 'max_depth': 5, 'learning_rate': 0.10515625420014164, 'subsample': 0.6635760118585833, 'colsample_bytree': 0.7226572120082122, 'gamma': 2.265967056803878, 'min_child_weight': 9}. Best is trial 12 with value: 0.515625.\n"
     ]
    },
    {
     "name": "stdout",
     "output_type": "stream",
     "text": [
      "Test Accuracy: 0.5030\n",
      "Test Accuracy: 0.5056\n"
     ]
    },
    {
     "name": "stderr",
     "output_type": "stream",
     "text": [
      "[I 2024-11-11 19:19:15,223] Trial 26 finished with value: 0.4930555555555556 and parameters: {'use_pca': 'True', 'n_pca_components': 7, 'n_estimators': 275, 'max_depth': 5, 'learning_rate': 0.09977198581102106, 'subsample': 0.7420007345367191, 'colsample_bytree': 0.6632416721745916, 'gamma': 2.0975832110087, 'min_child_weight': 8}. Best is trial 12 with value: 0.515625.\n",
      "[I 2024-11-11 19:19:15,333] Trial 27 finished with value: 0.5138888888888888 and parameters: {'use_pca': 'False', 'n_pca_components': 5, 'n_estimators': 150, 'max_depth': 4, 'learning_rate': 0.0719739807759899, 'subsample': 0.5238891155566623, 'colsample_bytree': 0.7286285293696704, 'gamma': 1.3385953647573896, 'min_child_weight': 7}. Best is trial 12 with value: 0.515625.\n"
     ]
    },
    {
     "name": "stdout",
     "output_type": "stream",
     "text": [
      "Test Accuracy: 0.4924\n",
      "Test Accuracy: 0.5027\n",
      "Test Accuracy: 0.4992\n"
     ]
    },
    {
     "name": "stderr",
     "output_type": "stream",
     "text": [
      "[I 2024-11-11 19:19:15,423] Trial 28 finished with value: 0.5138888888888888 and parameters: {'use_pca': 'False', 'n_pca_components': 3, 'n_estimators': 100, 'max_depth': 4, 'learning_rate': 0.0707711182771712, 'subsample': 0.5056426165600917, 'colsample_bytree': 0.822409472968413, 'gamma': 1.1631359924543474, 'min_child_weight': 9}. Best is trial 12 with value: 0.515625.\n",
      "[I 2024-11-11 19:19:15,510] Trial 29 finished with value: 0.5045138888888889 and parameters: {'use_pca': 'False', 'n_pca_components': 3, 'n_estimators': 100, 'max_depth': 3, 'learning_rate': 0.031643234575583296, 'subsample': 0.5166900863091595, 'colsample_bytree': 0.9925882148772001, 'gamma': 1.3017490462728754, 'min_child_weight': 9}. Best is trial 12 with value: 0.515625.\n",
      "[I 2024-11-11 19:19:15,644] Trial 30 finished with value: 0.4965277777777778 and parameters: {'use_pca': 'False', 'n_pca_components': 2, 'n_estimators': 175, 'max_depth': 4, 'learning_rate': 0.06935288501129638, 'subsample': 0.5031688397450995, 'colsample_bytree': 0.943094544593428, 'gamma': 1.7759562894245775, 'min_child_weight': 6}. Best is trial 12 with value: 0.515625.\n"
     ]
    },
    {
     "name": "stdout",
     "output_type": "stream",
     "text": [
      "Test Accuracy: 0.5067\n",
      "Test Accuracy: 0.5034\n"
     ]
    },
    {
     "name": "stderr",
     "output_type": "stream",
     "text": [
      "[I 2024-11-11 19:19:15,747] Trial 31 finished with value: 0.5142361111111111 and parameters: {'use_pca': 'False', 'n_pca_components': 5, 'n_estimators': 175, 'max_depth': 3, 'learning_rate': 0.06151330180927929, 'subsample': 0.5280897437685128, 'colsample_bytree': 0.82216044741193, 'gamma': 1.097682426061245, 'min_child_weight': 9}. Best is trial 12 with value: 0.515625.\n",
      "[I 2024-11-11 19:19:15,858] Trial 32 finished with value: 0.503125 and parameters: {'use_pca': 'False', 'n_pca_components': 5, 'n_estimators': 175, 'max_depth': 3, 'learning_rate': 0.06145948057834075, 'subsample': 0.536374697963228, 'colsample_bytree': 0.8243790711164262, 'gamma': 0.8652520841667211, 'min_child_weight': 10}. Best is trial 12 with value: 0.515625.\n"
     ]
    },
    {
     "name": "stdout",
     "output_type": "stream",
     "text": [
      "Test Accuracy: 0.5008\n",
      "Test Accuracy: 0.5012\n"
     ]
    },
    {
     "name": "stderr",
     "output_type": "stream",
     "text": [
      "[I 2024-11-11 19:19:15,966] Trial 33 finished with value: 0.5034722222222222 and parameters: {'use_pca': 'False', 'n_pca_components': 2, 'n_estimators': 200, 'max_depth': 3, 'learning_rate': 0.03234965079234392, 'subsample': 0.5958154663341185, 'colsample_bytree': 0.8189280202629085, 'gamma': 0.14932624617096235, 'min_child_weight': 8}. Best is trial 12 with value: 0.515625.\n",
      "[I 2024-11-11 19:19:16,108] Trial 34 finished with value: 0.521875 and parameters: {'use_pca': 'False', 'n_pca_components': 3, 'n_estimators': 250, 'max_depth': 4, 'learning_rate': 0.07350165663524394, 'subsample': 0.5034807232290209, 'colsample_bytree': 0.7500179789211482, 'gamma': 1.2516337304761098, 'min_child_weight': 10}. Best is trial 34 with value: 0.521875.\n"
     ]
    },
    {
     "name": "stdout",
     "output_type": "stream",
     "text": [
      "Test Accuracy: 0.5041\n",
      "Test Accuracy: 0.5005\n"
     ]
    },
    {
     "name": "stderr",
     "output_type": "stream",
     "text": [
      "[I 2024-11-11 19:19:16,254] Trial 35 finished with value: 0.509375 and parameters: {'use_pca': 'False', 'n_pca_components': 5, 'n_estimators': 250, 'max_depth': 4, 'learning_rate': 0.048559276384738725, 'subsample': 0.5495057373470968, 'colsample_bytree': 0.7438402304131052, 'gamma': 1.6898949900408062, 'min_child_weight': 10}. Best is trial 34 with value: 0.521875.\n",
      "[I 2024-11-11 19:19:16,374] Trial 36 finished with value: 0.5010416666666667 and parameters: {'use_pca': 'False', 'n_pca_components': 4, 'n_estimators': 225, 'max_depth': 3, 'learning_rate': 0.02570306176224918, 'subsample': 0.5242505817757687, 'colsample_bytree': 0.7748205005882774, 'gamma': 0.4189818255893214, 'min_child_weight': 9}. Best is trial 34 with value: 0.521875.\n"
     ]
    },
    {
     "name": "stdout",
     "output_type": "stream",
     "text": [
      "Test Accuracy: 0.5048\n",
      "Test Accuracy: 0.5022\n"
     ]
    },
    {
     "name": "stderr",
     "output_type": "stream",
     "text": [
      "[I 2024-11-11 19:19:16,485] Trial 37 finished with value: 0.5013888888888889 and parameters: {'use_pca': 'False', 'n_pca_components': 3, 'n_estimators': 150, 'max_depth': 4, 'learning_rate': 0.12011673545657219, 'subsample': 0.5754556282710814, 'colsample_bytree': 0.7500640615480901, 'gamma': 1.1076030972380788, 'min_child_weight': 8}. Best is trial 34 with value: 0.521875.\n",
      "[I 2024-11-11 19:19:16,580] Trial 38 finished with value: 0.49409722222222224 and parameters: {'use_pca': 'True', 'n_pca_components': 1, 'n_estimators': 275, 'max_depth': 3, 'learning_rate': 0.08569433369940219, 'subsample': 0.8474300217581532, 'colsample_bytree': 0.6897395573991293, 'gamma': 1.4177436633223197, 'min_child_weight': 10}. Best is trial 34 with value: 0.521875.\n"
     ]
    },
    {
     "name": "stdout",
     "output_type": "stream",
     "text": [
      "Test Accuracy: 0.5042\n",
      "Test Accuracy: 0.5036\n"
     ]
    },
    {
     "name": "stderr",
     "output_type": "stream",
     "text": [
      "[I 2024-11-11 19:19:16,749] Trial 39 finished with value: 0.5024305555555556 and parameters: {'use_pca': 'False', 'n_pca_components': 6, 'n_estimators': 325, 'max_depth': 4, 'learning_rate': 0.17382846485610165, 'subsample': 0.9056652739517619, 'colsample_bytree': 0.7928376153219875, 'gamma': 0.5851690267925491, 'min_child_weight': 7}. Best is trial 34 with value: 0.521875.\n",
      "[I 2024-11-11 19:19:16,923] Trial 40 finished with value: 0.5045138888888889 and parameters: {'use_pca': 'False', 'n_pca_components': 8, 'n_estimators': 225, 'max_depth': 6, 'learning_rate': 0.012976449828074554, 'subsample': 0.7959090536766991, 'colsample_bytree': 0.8563133669213306, 'gamma': 0.9498721811738466, 'min_child_weight': 8}. Best is trial 34 with value: 0.521875.\n"
     ]
    },
    {
     "name": "stdout",
     "output_type": "stream",
     "text": [
      "Test Accuracy: 0.5039\n",
      "Test Accuracy: 0.5033\n"
     ]
    },
    {
     "name": "stderr",
     "output_type": "stream",
     "text": [
      "[I 2024-11-11 19:19:17,023] Trial 41 finished with value: 0.5076388888888889 and parameters: {'use_pca': 'False', 'n_pca_components': 3, 'n_estimators': 125, 'max_depth': 4, 'learning_rate': 0.07130648639538147, 'subsample': 0.5195608474019827, 'colsample_bytree': 0.74416932595104, 'gamma': 1.555898187946729, 'min_child_weight': 9}. Best is trial 34 with value: 0.521875.\n",
      "[I 2024-11-11 19:19:17,138] Trial 42 finished with value: 0.5107638888888889 and parameters: {'use_pca': 'False', 'n_pca_components': 3, 'n_estimators': 100, 'max_depth': 3, 'learning_rate': 0.04809571759927219, 'subsample': 0.5487284808541146, 'colsample_bytree': 0.895311530537379, 'gamma': 1.9799390949620268, 'min_child_weight': 9}. Best is trial 34 with value: 0.521875.\n"
     ]
    },
    {
     "name": "stdout",
     "output_type": "stream",
     "text": [
      "Test Accuracy: 0.5018\n",
      "Test Accuracy: 0.5005\n"
     ]
    },
    {
     "name": "stderr",
     "output_type": "stream",
     "text": [
      "[I 2024-11-11 19:19:17,254] Trial 43 finished with value: 0.5086805555555556 and parameters: {'use_pca': 'False', 'n_pca_components': 2, 'n_estimators': 125, 'max_depth': 4, 'learning_rate': 0.06008849259483262, 'subsample': 0.506541417473193, 'colsample_bytree': 0.8093288564650152, 'gamma': 1.0977450712964705, 'min_child_weight': 10}. Best is trial 34 with value: 0.521875.\n"
     ]
    },
    {
     "name": "stdout",
     "output_type": "stream",
     "text": [
      "Test Accuracy: 0.4980\n",
      "Test Accuracy: 0.5047\n"
     ]
    },
    {
     "name": "stderr",
     "output_type": "stream",
     "text": [
      "[I 2024-11-11 19:19:17,431] Trial 44 finished with value: 0.5069444444444444 and parameters: {'use_pca': 'False', 'n_pca_components': 4, 'n_estimators': 225, 'max_depth': 5, 'learning_rate': 0.0855211517010297, 'subsample': 0.5010816108260524, 'colsample_bytree': 0.8375970576036564, 'gamma': 2.54561989827331, 'min_child_weight': 4}. Best is trial 34 with value: 0.521875.\n",
      "[I 2024-11-11 19:19:17,532] Trial 45 finished with value: 0.49201388888888886 and parameters: {'use_pca': 'True', 'n_pca_components': 1, 'n_estimators': 150, 'max_depth': 4, 'learning_rate': 0.06566545023118057, 'subsample': 0.5656101284180994, 'colsample_bytree': 0.7889672518444402, 'gamma': 0.034690977413338375, 'min_child_weight': 9}. Best is trial 34 with value: 0.521875.\n"
     ]
    },
    {
     "name": "stdout",
     "output_type": "stream",
     "text": [
      "Test Accuracy: 0.4944\n"
     ]
    },
    {
     "name": "stderr",
     "output_type": "stream",
     "text": [
      "[I 2024-11-11 19:19:17,866] Trial 46 finished with value: 0.5100694444444445 and parameters: {'use_pca': 'False', 'n_pca_components': 2, 'n_estimators': 900, 'max_depth': 3, 'learning_rate': 0.29865946356567685, 'subsample': 0.6221891532584923, 'colsample_bytree': 0.762264904842977, 'gamma': 0.6126342073660869, 'min_child_weight': 6}. Best is trial 34 with value: 0.521875.\n"
     ]
    },
    {
     "name": "stdout",
     "output_type": "stream",
     "text": [
      "Test Accuracy: 0.5032\n"
     ]
    },
    {
     "name": "stderr",
     "output_type": "stream",
     "text": [
      "[I 2024-11-11 19:19:18,249] Trial 47 finished with value: 0.5041666666666667 and parameters: {'use_pca': 'False', 'n_pca_components': 9, 'n_estimators': 1000, 'max_depth': 4, 'learning_rate': 0.04905833272249993, 'subsample': 0.5892100591971569, 'colsample_bytree': 0.6396045747102271, 'gamma': 1.868126120340639, 'min_child_weight': 8}. Best is trial 34 with value: 0.521875.\n"
     ]
    },
    {
     "name": "stdout",
     "output_type": "stream",
     "text": [
      "Test Accuracy: 0.5043\n"
     ]
    },
    {
     "name": "stderr",
     "output_type": "stream",
     "text": [
      "[I 2024-11-11 19:19:18,647] Trial 48 finished with value: 0.5083333333333333 and parameters: {'use_pca': 'False', 'n_pca_components': 7, 'n_estimators': 675, 'max_depth': 6, 'learning_rate': 0.11852000729588083, 'subsample': 0.5419850421624124, 'colsample_bytree': 0.8926707074766674, 'gamma': 1.074056487251993, 'min_child_weight': 10}. Best is trial 34 with value: 0.521875.\n",
      "[I 2024-11-11 19:19:18,763] Trial 49 finished with value: 0.5065972222222223 and parameters: {'use_pca': 'True', 'n_pca_components': 5, 'n_estimators': 250, 'max_depth': 3, 'learning_rate': 0.09664646467068772, 'subsample': 0.5384460955321064, 'colsample_bytree': 0.7270578021033993, 'gamma': 1.6060091432793373, 'min_child_weight': 9}. Best is trial 34 with value: 0.521875.\n"
     ]
    },
    {
     "name": "stdout",
     "output_type": "stream",
     "text": [
      "Test Accuracy: 0.5052\n",
      "Test Accuracy: 0.5008\n"
     ]
    },
    {
     "name": "stderr",
     "output_type": "stream",
     "text": [
      "[I 2024-11-11 19:19:18,966] Trial 50 finished with value: 0.50625 and parameters: {'use_pca': 'False', 'n_pca_components': 4, 'n_estimators': 825, 'max_depth': 5, 'learning_rate': 0.035912252242328246, 'subsample': 0.9481756224077158, 'colsample_bytree': 0.6941395700677678, 'gamma': 2.79906842621026, 'min_child_weight': 10}. Best is trial 34 with value: 0.521875.\n",
      "[I 2024-11-11 19:19:19,127] Trial 51 finished with value: 0.496875 and parameters: {'use_pca': 'False', 'n_pca_components': 5, 'n_estimators': 300, 'max_depth': 5, 'learning_rate': 0.07957106810230163, 'subsample': 0.6532020064617078, 'colsample_bytree': 0.7634066477755573, 'gamma': 2.286795192685412, 'min_child_weight': 9}. Best is trial 34 with value: 0.521875.\n"
     ]
    },
    {
     "name": "stdout",
     "output_type": "stream",
     "text": [
      "Test Accuracy: 0.5061\n",
      "Test Accuracy: 0.5000\n"
     ]
    },
    {
     "name": "stderr",
     "output_type": "stream",
     "text": [
      "[I 2024-11-11 19:19:19,294] Trial 52 finished with value: 0.5107638888888889 and parameters: {'use_pca': 'False', 'n_pca_components': 6, 'n_estimators': 325, 'max_depth': 4, 'learning_rate': 0.10799042225445019, 'subsample': 0.7382784488919292, 'colsample_bytree': 0.7315229558803324, 'gamma': 1.4921911260986633, 'min_child_weight': 8}. Best is trial 34 with value: 0.521875.\n",
      "[I 2024-11-11 19:19:19,425] Trial 53 finished with value: 0.5038194444444445 and parameters: {'use_pca': 'False', 'n_pca_components': 5, 'n_estimators': 200, 'max_depth': 5, 'learning_rate': 0.1001379727663201, 'subsample': 0.5265329515423909, 'colsample_bytree': 0.6527175848455858, 'gamma': 2.319476877557341, 'min_child_weight': 9}. Best is trial 34 with value: 0.521875.\n"
     ]
    },
    {
     "name": "stdout",
     "output_type": "stream",
     "text": [
      "Test Accuracy: 0.5036\n",
      "Test Accuracy: 0.5009\n"
     ]
    },
    {
     "name": "stderr",
     "output_type": "stream",
     "text": [
      "[I 2024-11-11 19:19:19,649] Trial 54 finished with value: 0.5055555555555555 and parameters: {'use_pca': 'False', 'n_pca_components': 4, 'n_estimators': 375, 'max_depth': 6, 'learning_rate': 0.09041639421718549, 'subsample': 0.7822853754638134, 'colsample_bytree': 0.6929217725951816, 'gamma': 1.273805446617567, 'min_child_weight': 10}. Best is trial 34 with value: 0.521875.\n"
     ]
    },
    {
     "name": "stdout",
     "output_type": "stream",
     "text": [
      "Test Accuracy: 0.5002\n",
      "Test Accuracy: 0.4980\n"
     ]
    },
    {
     "name": "stderr",
     "output_type": "stream",
     "text": [
      "[I 2024-11-11 19:19:19,851] Trial 55 finished with value: 0.5013888888888889 and parameters: {'use_pca': 'False', 'n_pca_components': 5, 'n_estimators': 475, 'max_depth': 5, 'learning_rate': 0.054990878948800066, 'subsample': 0.6794065627154391, 'colsample_bytree': 0.9379287510457077, 'gamma': 2.8198601967338632, 'min_child_weight': 9}. Best is trial 34 with value: 0.521875.\n",
      "[I 2024-11-11 19:19:19,961] Trial 56 finished with value: 0.5027777777777778 and parameters: {'use_pca': 'False', 'n_pca_components': 3, 'n_estimators': 150, 'max_depth': 4, 'learning_rate': 0.0749673645992156, 'subsample': 0.828532105886923, 'colsample_bytree': 0.8016398224144262, 'gamma': 0.743784295791099, 'min_child_weight': 6}. Best is trial 34 with value: 0.521875.\n",
      "[I 2024-11-11 19:19:20,123] Trial 57 finished with value: 0.503125 and parameters: {'use_pca': 'False', 'n_pca_components': 6, 'n_estimators': 300, 'max_depth': 5, 'learning_rate': 0.145205134165461, 'subsample': 0.5602992606347252, 'colsample_bytree': 0.609540521603555, 'gamma': 2.1783217365427836, 'min_child_weight': 10}. Best is trial 34 with value: 0.521875.\n"
     ]
    },
    {
     "name": "stdout",
     "output_type": "stream",
     "text": [
      "Test Accuracy: 0.5004\n",
      "Test Accuracy: 0.5074\n"
     ]
    },
    {
     "name": "stderr",
     "output_type": "stream",
     "text": [
      "[I 2024-11-11 19:19:20,307] Trial 58 finished with value: 0.5065972222222223 and parameters: {'use_pca': 'False', 'n_pca_components': 5, 'n_estimators': 200, 'max_depth': 7, 'learning_rate': 0.24557438727023673, 'subsample': 0.7558055306738402, 'colsample_bytree': 0.8478974696875713, 'gamma': 0.43453448291722185, 'min_child_weight': 7}. Best is trial 34 with value: 0.521875.\n"
     ]
    },
    {
     "name": "stdout",
     "output_type": "stream",
     "text": [
      "Test Accuracy: 0.5000\n"
     ]
    },
    {
     "name": "stderr",
     "output_type": "stream",
     "text": [
      "[I 2024-11-11 19:19:20,531] Trial 59 finished with value: 0.4777777777777778 and parameters: {'use_pca': 'True', 'n_pca_components': 4, 'n_estimators': 575, 'max_depth': 4, 'learning_rate': 0.02345204092661335, 'subsample': 0.5843767768149039, 'colsample_bytree': 0.8791297883661408, 'gamma': 1.8432217503070072, 'min_child_weight': 8}. Best is trial 34 with value: 0.521875.\n",
      "[I 2024-11-11 19:19:20,626] Trial 60 finished with value: 0.5079861111111111 and parameters: {'use_pca': 'False', 'n_pca_components': 6, 'n_estimators': 125, 'max_depth': 3, 'learning_rate': 0.042461762684528295, 'subsample': 0.5272548808844959, 'colsample_bytree': 0.7235022657180342, 'gamma': 1.2628424027575622, 'min_child_weight': 5}. Best is trial 34 with value: 0.521875.\n"
     ]
    },
    {
     "name": "stdout",
     "output_type": "stream",
     "text": [
      "Test Accuracy: 0.4864\n",
      "Test Accuracy: 0.4951\n"
     ]
    },
    {
     "name": "stderr",
     "output_type": "stream",
     "text": [
      "[I 2024-11-11 19:19:20,774] Trial 61 finished with value: 0.5145833333333333 and parameters: {'use_pca': 'False', 'n_pca_components': 6, 'n_estimators': 400, 'max_depth': 5, 'learning_rate': 0.10930130546231799, 'subsample': 0.5677472133458771, 'colsample_bytree': 0.7125944538150538, 'gamma': 4.015055119335882, 'min_child_weight': 7}. Best is trial 34 with value: 0.521875.\n",
      "[I 2024-11-11 19:19:20,916] Trial 62 finished with value: 0.5055555555555555 and parameters: {'use_pca': 'False', 'n_pca_components': 7, 'n_estimators': 400, 'max_depth': 6, 'learning_rate': 0.12381041587664371, 'subsample': 0.5002883914607135, 'colsample_bytree': 0.6790595457926777, 'gamma': 4.7421178423881996, 'min_child_weight': 7}. Best is trial 34 with value: 0.521875.\n"
     ]
    },
    {
     "name": "stdout",
     "output_type": "stream",
     "text": [
      "Test Accuracy: 0.5007\n",
      "Test Accuracy: 0.5042\n"
     ]
    },
    {
     "name": "stderr",
     "output_type": "stream",
     "text": [
      "[I 2024-11-11 19:19:21,146] Trial 63 finished with value: 0.5131944444444444 and parameters: {'use_pca': 'False', 'n_pca_components': 5, 'n_estimators': 350, 'max_depth': 5, 'learning_rate': 0.10320934179380503, 'subsample': 0.6097290473900081, 'colsample_bytree': 0.7095904651987833, 'gamma': 0.952528784255945, 'min_child_weight': 4}. Best is trial 34 with value: 0.521875.\n",
      "[I 2024-11-11 19:19:21,308] Trial 64 finished with value: 0.5239583333333333 and parameters: {'use_pca': 'False', 'n_pca_components': 6, 'n_estimators': 475, 'max_depth': 5, 'learning_rate': 0.06573112349097421, 'subsample': 0.7092188509117748, 'colsample_bytree': 0.7749961483199131, 'gamma': 3.74455549146501, 'min_child_weight': 3}. Best is trial 64 with value: 0.5239583333333333.\n"
     ]
    },
    {
     "name": "stdout",
     "output_type": "stream",
     "text": [
      "Test Accuracy: 0.5096\n",
      "Test Accuracy: 0.5038\n"
     ]
    },
    {
     "name": "stderr",
     "output_type": "stream",
     "text": [
      "[I 2024-11-11 19:19:21,465] Trial 65 finished with value: 0.5090277777777777 and parameters: {'use_pca': 'False', 'n_pca_components': 6, 'n_estimators': 500, 'max_depth': 4, 'learning_rate': 0.06959882906039354, 'subsample': 0.8741137168572551, 'colsample_bytree': 0.7779869849246953, 'gamma': 3.853283342110797, 'min_child_weight': 2}. Best is trial 64 with value: 0.5239583333333333.\n",
      "[I 2024-11-11 19:19:21,627] Trial 66 finished with value: 0.5038194444444445 and parameters: {'use_pca': 'False', 'n_pca_components': 7, 'n_estimators': 450, 'max_depth': 6, 'learning_rate': 0.05930506862814183, 'subsample': 0.7165868256711598, 'colsample_bytree': 0.8340049537709722, 'gamma': 3.9261102105083774, 'min_child_weight': 3}. Best is trial 64 with value: 0.5239583333333333.\n"
     ]
    },
    {
     "name": "stdout",
     "output_type": "stream",
     "text": [
      "Test Accuracy: 0.5010\n",
      "Test Accuracy: 0.5038\n"
     ]
    },
    {
     "name": "stderr",
     "output_type": "stream",
     "text": [
      "[I 2024-11-11 19:19:21,825] Trial 67 finished with value: 0.4954861111111111 and parameters: {'use_pca': 'False', 'n_pca_components': 6, 'n_estimators': 575, 'max_depth': 5, 'learning_rate': 0.0806870817734065, 'subsample': 0.5695126354520018, 'colsample_bytree': 0.7485584647880145, 'gamma': 4.111537152526584, 'min_child_weight': 6}. Best is trial 64 with value: 0.5239583333333333.\n"
     ]
    },
    {
     "name": "stdout",
     "output_type": "stream",
     "text": [
      "Test Accuracy: 0.5016\n",
      "Test Accuracy: 0.4990\n"
     ]
    },
    {
     "name": "stderr",
     "output_type": "stream",
     "text": [
      "[I 2024-11-11 19:19:22,033] Trial 68 finished with value: 0.5024305555555556 and parameters: {'use_pca': 'False', 'n_pca_components': 8, 'n_estimators': 525, 'max_depth': 4, 'learning_rate': 0.08861607371197565, 'subsample': 0.5180737948448466, 'colsample_bytree': 0.7982057676401673, 'gamma': 3.6532967725125, 'min_child_weight': 1}. Best is trial 64 with value: 0.5239583333333333.\n",
      "[I 2024-11-11 19:19:22,179] Trial 69 finished with value: 0.5055555555555555 and parameters: {'use_pca': 'False', 'n_pca_components': 7, 'n_estimators': 450, 'max_depth': 7, 'learning_rate': 0.20122046526599718, 'subsample': 0.8215133150236795, 'colsample_bytree': 0.77340076050605, 'gamma': 3.4303294262754793, 'min_child_weight': 5}. Best is trial 64 with value: 0.5239583333333333.\n",
      "[I 2024-11-11 19:19:22,332] Trial 70 finished with value: 0.49583333333333335 and parameters: {'use_pca': 'False', 'n_pca_components': 6, 'n_estimators': 400, 'max_depth': 3, 'learning_rate': 0.06586921481858662, 'subsample': 0.6276449915595317, 'colsample_bytree': 0.7363035718896265, 'gamma': 4.484887449254064, 'min_child_weight': 3}. Best is trial 64 with value: 0.5239583333333333.\n"
     ]
    },
    {
     "name": "stdout",
     "output_type": "stream",
     "text": [
      "Test Accuracy: 0.5037\n",
      "Test Accuracy: 0.5052\n"
     ]
    },
    {
     "name": "stderr",
     "output_type": "stream",
     "text": [
      "[I 2024-11-11 19:19:22,488] Trial 71 finished with value: 0.48819444444444443 and parameters: {'use_pca': 'False', 'n_pca_components': 5, 'n_estimators': 275, 'max_depth': 5, 'learning_rate': 0.10912079283192501, 'subsample': 0.6609629331408595, 'colsample_bytree': 0.704505322419421, 'gamma': 4.016792377898646, 'min_child_weight': 9}. Best is trial 64 with value: 0.5239583333333333.\n",
      "[I 2024-11-11 19:19:22,616] Trial 72 finished with value: 0.5038194444444445 and parameters: {'use_pca': 'False', 'n_pca_components': 4, 'n_estimators': 250, 'max_depth': 6, 'learning_rate': 0.0925789478645235, 'subsample': 0.7598310089338182, 'colsample_bytree': 0.7623208837051327, 'gamma': 3.181930774645225, 'min_child_weight': 10}. Best is trial 64 with value: 0.5239583333333333.\n"
     ]
    },
    {
     "name": "stdout",
     "output_type": "stream",
     "text": [
      "Test Accuracy: 0.5043\n",
      "Test Accuracy: 0.5000\n"
     ]
    },
    {
     "name": "stderr",
     "output_type": "stream",
     "text": [
      "[I 2024-11-11 19:19:22,724] Trial 73 finished with value: 0.5013888888888889 and parameters: {'use_pca': 'False', 'n_pca_components': 5, 'n_estimators': 100, 'max_depth': 5, 'learning_rate': 0.04063891774947359, 'subsample': 0.7274729659646569, 'colsample_bytree': 0.7178579288257401, 'gamma': 1.4222934627004393, 'min_child_weight': 7}. Best is trial 64 with value: 0.5239583333333333.\n",
      "[I 2024-11-11 19:19:22,833] Trial 74 finished with value: 0.49409722222222224 and parameters: {'use_pca': 'False', 'n_pca_components': 6, 'n_estimators': 175, 'max_depth': 4, 'learning_rate': 0.07424897689153875, 'subsample': 0.7054169782762543, 'colsample_bytree': 0.6758449064634228, 'gamma': 4.2796775476917785, 'min_child_weight': 10}. Best is trial 64 with value: 0.5239583333333333.\n"
     ]
    },
    {
     "name": "stdout",
     "output_type": "stream",
     "text": [
      "Test Accuracy: 0.5018\n",
      "Test Accuracy: 0.5077\n"
     ]
    },
    {
     "name": "stderr",
     "output_type": "stream",
     "text": [
      "[I 2024-11-11 19:19:23,040] Trial 75 finished with value: 0.49756944444444445 and parameters: {'use_pca': 'False', 'n_pca_components': 3, 'n_estimators': 500, 'max_depth': 4, 'learning_rate': 0.1506909714578979, 'subsample': 0.679898840722572, 'colsample_bytree': 0.7567674174267247, 'gamma': 3.036506586911333, 'min_child_weight': 9}. Best is trial 64 with value: 0.5239583333333333.\n",
      "[I 2024-11-11 19:19:23,200] Trial 76 finished with value: 0.509375 and parameters: {'use_pca': 'True', 'n_pca_components': 5, 'n_estimators': 425, 'max_depth': 5, 'learning_rate': 0.054068770237484576, 'subsample': 0.5315193123538041, 'colsample_bytree': 0.6489991622294193, 'gamma': 2.647998939701229, 'min_child_weight': 8}. Best is trial 64 with value: 0.5239583333333333.\n"
     ]
    },
    {
     "name": "stdout",
     "output_type": "stream",
     "text": [
      "Test Accuracy: 0.5015\n",
      "Test Accuracy: 0.4997\n"
     ]
    },
    {
     "name": "stderr",
     "output_type": "stream",
     "text": [
      "[I 2024-11-11 19:19:23,358] Trial 77 finished with value: 0.5027777777777778 and parameters: {'use_pca': 'False', 'n_pca_components': 4, 'n_estimators': 350, 'max_depth': 3, 'learning_rate': 0.1267227644735442, 'subsample': 0.5570038041137962, 'colsample_bytree': 0.7843619245979923, 'gamma': 1.1494440058587447, 'min_child_weight': 5}. Best is trial 64 with value: 0.5239583333333333.\n",
      "[I 2024-11-11 19:19:23,532] Trial 78 finished with value: 0.5010416666666667 and parameters: {'use_pca': 'False', 'n_pca_components': 2, 'n_estimators': 225, 'max_depth': 6, 'learning_rate': 0.13477393528423803, 'subsample': 0.5113167421995332, 'colsample_bytree': 0.8218242266712618, 'gamma': 0.8368843985678498, 'min_child_weight': 10}. Best is trial 64 with value: 0.5239583333333333.\n"
     ]
    },
    {
     "name": "stdout",
     "output_type": "stream",
     "text": [
      "Test Accuracy: 0.5058\n",
      "Test Accuracy: 0.5075\n"
     ]
    },
    {
     "name": "stderr",
     "output_type": "stream",
     "text": [
      "[I 2024-11-11 19:19:23,702] Trial 79 finished with value: 0.515625 and parameters: {'use_pca': 'False', 'n_pca_components': 5, 'n_estimators': 300, 'max_depth': 4, 'learning_rate': 0.11768919313400507, 'subsample': 0.6055898883809497, 'colsample_bytree': 0.7393789561682614, 'gamma': 1.9959534609675966, 'min_child_weight': 8}. Best is trial 64 with value: 0.5239583333333333.\n",
      "[I 2024-11-11 19:19:23,811] Trial 80 finished with value: 0.5114583333333333 and parameters: {'use_pca': 'False', 'n_pca_components': 6, 'n_estimators': 150, 'max_depth': 3, 'learning_rate': 0.11515919561175784, 'subsample': 0.5984449127539138, 'colsample_bytree': 0.8064866345670114, 'gamma': 1.684004121845957, 'min_child_weight': 7}. Best is trial 64 with value: 0.5239583333333333.\n"
     ]
    },
    {
     "name": "stdout",
     "output_type": "stream",
     "text": [
      "Test Accuracy: 0.5082\n",
      "Test Accuracy: 0.4918\n"
     ]
    },
    {
     "name": "stderr",
     "output_type": "stream",
     "text": [
      "[I 2024-11-11 19:19:23,970] Trial 81 finished with value: 0.5215277777777778 and parameters: {'use_pca': 'False', 'n_pca_components': 5, 'n_estimators': 300, 'max_depth': 4, 'learning_rate': 0.10357876692295076, 'subsample': 0.5448798443131728, 'colsample_bytree': 0.7303435609769402, 'gamma': 1.951864640868684, 'min_child_weight': 8}. Best is trial 64 with value: 0.5239583333333333.\n"
     ]
    },
    {
     "name": "stdout",
     "output_type": "stream",
     "text": [
      "Test Accuracy: 0.4984\n",
      "Test Accuracy: 0.5030\n"
     ]
    },
    {
     "name": "stderr",
     "output_type": "stream",
     "text": [
      "[I 2024-11-11 19:19:24,151] Trial 82 finished with value: 0.509375 and parameters: {'use_pca': 'False', 'n_pca_components': 5, 'n_estimators': 375, 'max_depth': 4, 'learning_rate': 0.07959670852087682, 'subsample': 0.5456595551545524, 'colsample_bytree': 0.7421513882886122, 'gamma': 1.910528319140364, 'min_child_weight': 8}. Best is trial 64 with value: 0.5239583333333333.\n",
      "[I 2024-11-11 19:19:24,318] Trial 83 finished with value: 0.5100694444444445 and parameters: {'use_pca': 'False', 'n_pca_components': 6, 'n_estimators': 325, 'max_depth': 4, 'learning_rate': 0.06433500018758279, 'subsample': 0.5780824811523442, 'colsample_bytree': 0.6869639323813896, 'gamma': 2.0414243432906587, 'min_child_weight': 8}. Best is trial 64 with value: 0.5239583333333333.\n",
      "[I 2024-11-11 19:19:24,445] Trial 84 finished with value: 0.5003472222222223 and parameters: {'use_pca': 'False', 'n_pca_components': 4, 'n_estimators': 200, 'max_depth': 4, 'learning_rate': 0.0962101984376047, 'subsample': 0.5360723248876001, 'colsample_bytree': 0.7010008532956421, 'gamma': 1.7098113842030864, 'min_child_weight': 7}. Best is trial 64 with value: 0.5239583333333333.\n"
     ]
    },
    {
     "name": "stdout",
     "output_type": "stream",
     "text": [
      "Test Accuracy: 0.4964\n",
      "Test Accuracy: 0.5019\n"
     ]
    },
    {
     "name": "stderr",
     "output_type": "stream",
     "text": [
      "[I 2024-11-11 19:19:24,579] Trial 85 finished with value: 0.5013888888888889 and parameters: {'use_pca': 'False', 'n_pca_components': 5, 'n_estimators': 275, 'max_depth': 10, 'learning_rate': 0.08578264068943936, 'subsample': 0.5154702529819704, 'colsample_bytree': 0.7165809500684869, 'gamma': 4.509085386626842, 'min_child_weight': 8}. Best is trial 64 with value: 0.5239583333333333.\n",
      "[I 2024-11-11 19:19:24,728] Trial 86 finished with value: 0.5052083333333334 and parameters: {'use_pca': 'False', 'n_pca_components': 3, 'n_estimators': 250, 'max_depth': 4, 'learning_rate': 0.11146953645727674, 'subsample': 0.5650178298741794, 'colsample_bytree': 0.7557201519020884, 'gamma': 0.9805640749343905, 'min_child_weight': 9}. Best is trial 64 with value: 0.5239583333333333.\n"
     ]
    },
    {
     "name": "stdout",
     "output_type": "stream",
     "text": [
      "Test Accuracy: 0.5018\n",
      "Test Accuracy: 0.5016\n"
     ]
    },
    {
     "name": "stderr",
     "output_type": "stream",
     "text": [
      "[I 2024-11-11 19:19:24,908] Trial 87 finished with value: 0.5055555555555555 and parameters: {'use_pca': 'False', 'n_pca_components': 5, 'n_estimators': 425, 'max_depth': 3, 'learning_rate': 0.07483628640138573, 'subsample': 0.5504399103981541, 'colsample_bytree': 0.7316417942979526, 'gamma': 1.3875028243420398, 'min_child_weight': 7}. Best is trial 64 with value: 0.5239583333333333.\n",
      "[I 2024-11-11 19:19:25,038] Trial 88 finished with value: 0.4822916666666667 and parameters: {'use_pca': 'True', 'n_pca_components': 4, 'n_estimators': 300, 'max_depth': 4, 'learning_rate': 0.10266494898428832, 'subsample': 0.8016413302186477, 'colsample_bytree': 0.7727917439371208, 'gamma': 1.1936741371841706, 'min_child_weight': 9}. Best is trial 64 with value: 0.5239583333333333.\n"
     ]
    },
    {
     "name": "stdout",
     "output_type": "stream",
     "text": [
      "Test Accuracy: 0.5033\n",
      "Test Accuracy: 0.4923\n"
     ]
    },
    {
     "name": "stderr",
     "output_type": "stream",
     "text": [
      "[I 2024-11-11 19:19:25,177] Trial 89 finished with value: 0.5090277777777777 and parameters: {'use_pca': 'False', 'n_pca_components': 7, 'n_estimators': 175, 'max_depth': 9, 'learning_rate': 0.04411492364221956, 'subsample': 0.78145266596203, 'colsample_bytree': 0.6595226354020433, 'gamma': 2.4720114146665093, 'min_child_weight': 6}. Best is trial 64 with value: 0.5239583333333333.\n"
     ]
    },
    {
     "name": "stdout",
     "output_type": "stream",
     "text": [
      "Test Accuracy: 0.5089\n",
      "Test Accuracy: 0.5079\n"
     ]
    },
    {
     "name": "stderr",
     "output_type": "stream",
     "text": [
      "[I 2024-11-11 19:19:25,352] Trial 90 finished with value: 0.5034722222222222 and parameters: {'use_pca': 'False', 'n_pca_components': 5, 'n_estimators': 475, 'max_depth': 5, 'learning_rate': 0.05482431360613923, 'subsample': 0.6010719597953285, 'colsample_bytree': 0.7869812158185917, 'gamma': 3.595083134747381, 'min_child_weight': 8}. Best is trial 64 with value: 0.5239583333333333.\n",
      "[I 2024-11-11 19:19:25,524] Trial 91 finished with value: 0.4982638888888889 and parameters: {'use_pca': 'False', 'n_pca_components': 5, 'n_estimators': 375, 'max_depth': 5, 'learning_rate': 0.13232745486692604, 'subsample': 0.6630847174261822, 'colsample_bytree': 0.7351735340070092, 'gamma': 2.254707274086397, 'min_child_weight': 9}. Best is trial 64 with value: 0.5239583333333333.\n",
      "[I 2024-11-11 19:19:25,644] Trial 92 finished with value: 0.5138888888888888 and parameters: {'use_pca': 'False', 'n_pca_components': 5, 'n_estimators': 125, 'max_depth': 5, 'learning_rate': 0.10487981712868909, 'subsample': 0.6169944772341044, 'colsample_bytree': 0.7169280456793633, 'gamma': 2.64452875915071, 'min_child_weight': 9}. Best is trial 64 with value: 0.5239583333333333.\n"
     ]
    },
    {
     "name": "stdout",
     "output_type": "stream",
     "text": [
      "Test Accuracy: 0.5075\n",
      "Test Accuracy: 0.5015\n",
      "Test Accuracy: 0.4965\n"
     ]
    },
    {
     "name": "stderr",
     "output_type": "stream",
     "text": [
      "[I 2024-11-11 19:19:25,736] Trial 93 finished with value: 0.5100694444444445 and parameters: {'use_pca': 'False', 'n_pca_components': 6, 'n_estimators': 100, 'max_depth': 4, 'learning_rate': 0.0938267587869687, 'subsample': 0.6197128373499211, 'colsample_bytree': 0.7029131978628355, 'gamma': 2.618761054793633, 'min_child_weight': 8}. Best is trial 64 with value: 0.5239583333333333.\n",
      "[I 2024-11-11 19:19:25,842] Trial 94 finished with value: 0.5041666666666667 and parameters: {'use_pca': 'False', 'n_pca_components': 5, 'n_estimators': 125, 'max_depth': 5, 'learning_rate': 0.11792511756334895, 'subsample': 0.574968099404608, 'colsample_bytree': 0.832464992870737, 'gamma': 2.927476806475282, 'min_child_weight': 10}. Best is trial 64 with value: 0.5239583333333333.\n",
      "[I 2024-11-11 19:19:25,952] Trial 95 finished with value: 0.5138888888888888 and parameters: {'use_pca': 'False', 'n_pca_components': 4, 'n_estimators': 150, 'max_depth': 4, 'learning_rate': 0.16142182173497718, 'subsample': 0.5881757271338951, 'colsample_bytree': 0.7444464798221246, 'gamma': 1.557981754935664, 'min_child_weight': 9}. Best is trial 64 with value: 0.5239583333333333.\n"
     ]
    },
    {
     "name": "stdout",
     "output_type": "stream",
     "text": [
      "Test Accuracy: 0.4997\n",
      "Test Accuracy: 0.5001\n"
     ]
    },
    {
     "name": "stderr",
     "output_type": "stream",
     "text": [
      "[I 2024-11-11 19:19:26,063] Trial 96 finished with value: 0.5204861111111111 and parameters: {'use_pca': 'False', 'n_pca_components': 6, 'n_estimators': 200, 'max_depth': 3, 'learning_rate': 0.08066565106575409, 'subsample': 0.5285664703678903, 'colsample_bytree': 0.684467168981229, 'gamma': 2.466423210059281, 'min_child_weight': 8}. Best is trial 64 with value: 0.5239583333333333.\n",
      "[I 2024-11-11 19:19:26,183] Trial 97 finished with value: 0.5125 and parameters: {'use_pca': 'False', 'n_pca_components': 6, 'n_estimators': 225, 'max_depth': 3, 'learning_rate': 0.08169382080861645, 'subsample': 0.528099320736802, 'colsample_bytree': 0.8674901330248097, 'gamma': 2.1664304456171606, 'min_child_weight': 8}. Best is trial 64 with value: 0.5239583333333333.\n"
     ]
    },
    {
     "name": "stdout",
     "output_type": "stream",
     "text": [
      "Test Accuracy: 0.5016\n",
      "Test Accuracy: 0.5019\n"
     ]
    },
    {
     "name": "stderr",
     "output_type": "stream",
     "text": [
      "[I 2024-11-11 19:19:26,300] Trial 98 finished with value: 0.5076388888888889 and parameters: {'use_pca': 'False', 'n_pca_components': 6, 'n_estimators': 200, 'max_depth': 3, 'learning_rate': 0.06872773594696467, 'subsample': 0.5099043370188685, 'colsample_bytree': 0.6822859062410329, 'gamma': 1.335199098780267, 'min_child_weight': 7}. Best is trial 64 with value: 0.5239583333333333.\n",
      "[I 2024-11-11 19:19:26,426] Trial 99 finished with value: 0.5006944444444444 and parameters: {'use_pca': 'False', 'n_pca_components': 7, 'n_estimators': 250, 'max_depth': 3, 'learning_rate': 0.06039040188875827, 'subsample': 0.5415200517314215, 'colsample_bytree': 0.6667718294744542, 'gamma': 2.389690340580567, 'min_child_weight': 8}. Best is trial 64 with value: 0.5239583333333333.\n"
     ]
    },
    {
     "name": "stdout",
     "output_type": "stream",
     "text": [
      "Test Accuracy: 0.4966\n",
      "Test Accuracy: 0.4960\n",
      "Best hyperparameters: {'use_pca': 'False', 'n_pca_components': 6, 'n_estimators': 475, 'max_depth': 5, 'learning_rate': 0.06573112349097421, 'subsample': 0.7092188509117748, 'colsample_bytree': 0.7749961483199131, 'gamma': 3.74455549146501, 'min_child_weight': 3}\n",
      "Best value: 0.5239583333333333\n"
     ]
    },
    {
     "data": {
      "application/vnd.plotly.v1+json": {
       "config": {
        "plotlyServerURL": "https://plot.ly"
       },
       "data": [
        {
         "mode": "markers",
         "name": "Objective Value",
         "type": "scatter",
         "x": [
          0,
          1,
          2,
          3,
          4,
          5,
          6,
          7,
          8,
          9,
          10,
          11,
          12,
          13,
          14,
          15,
          16,
          17,
          18,
          19,
          20,
          21,
          22,
          23,
          24,
          25,
          26,
          27,
          28,
          29,
          30,
          31,
          32,
          33,
          34,
          35,
          36,
          37,
          38,
          39,
          40,
          41,
          42,
          43,
          44,
          45,
          46,
          47,
          48,
          49,
          50,
          51,
          52,
          53,
          54,
          55,
          56,
          57,
          58,
          59,
          60,
          61,
          62,
          63,
          64,
          65,
          66,
          67,
          68,
          69,
          70,
          71,
          72,
          73,
          74,
          75,
          76,
          77,
          78,
          79,
          80,
          81,
          82,
          83,
          84,
          85,
          86,
          87,
          88,
          89,
          90,
          91,
          92,
          93,
          94,
          95,
          96,
          97,
          98,
          99
         ],
         "y": [
          0.5010416666666667,
          0.4895833333333333,
          0.4986111111111111,
          0.48993055555555554,
          0.484375,
          0.5079861111111111,
          0.5045138888888889,
          0.5013888888888889,
          0.4986111111111111,
          0.4892361111111111,
          0.5041666666666667,
          0.5027777777777778,
          0.515625,
          0.496875,
          0.509375,
          0.5065972222222223,
          0.5020833333333333,
          0.5,
          0.5055555555555555,
          0.5069444444444444,
          0.5072916666666667,
          0.5125,
          0.5055555555555555,
          0.49409722222222224,
          0.5125,
          0.5131944444444444,
          0.4930555555555556,
          0.5138888888888888,
          0.5138888888888888,
          0.5045138888888889,
          0.4965277777777778,
          0.5142361111111111,
          0.503125,
          0.5034722222222222,
          0.521875,
          0.509375,
          0.5010416666666667,
          0.5013888888888889,
          0.49409722222222224,
          0.5024305555555556,
          0.5045138888888889,
          0.5076388888888889,
          0.5107638888888889,
          0.5086805555555556,
          0.5069444444444444,
          0.49201388888888886,
          0.5100694444444445,
          0.5041666666666667,
          0.5083333333333333,
          0.5065972222222223,
          0.50625,
          0.496875,
          0.5107638888888889,
          0.5038194444444445,
          0.5055555555555555,
          0.5013888888888889,
          0.5027777777777778,
          0.503125,
          0.5065972222222223,
          0.4777777777777778,
          0.5079861111111111,
          0.5145833333333333,
          0.5055555555555555,
          0.5131944444444444,
          0.5239583333333333,
          0.5090277777777777,
          0.5038194444444445,
          0.4954861111111111,
          0.5024305555555556,
          0.5055555555555555,
          0.49583333333333335,
          0.48819444444444443,
          0.5038194444444445,
          0.5013888888888889,
          0.49409722222222224,
          0.49756944444444445,
          0.509375,
          0.5027777777777778,
          0.5010416666666667,
          0.515625,
          0.5114583333333333,
          0.5215277777777778,
          0.509375,
          0.5100694444444445,
          0.5003472222222223,
          0.5013888888888889,
          0.5052083333333334,
          0.5055555555555555,
          0.4822916666666667,
          0.5090277777777777,
          0.5034722222222222,
          0.4982638888888889,
          0.5138888888888888,
          0.5100694444444445,
          0.5041666666666667,
          0.5138888888888888,
          0.5204861111111111,
          0.5125,
          0.5076388888888889,
          0.5006944444444444
         ]
        },
        {
         "mode": "lines",
         "name": "Best Value",
         "type": "scatter",
         "x": [
          0,
          1,
          2,
          3,
          4,
          5,
          6,
          7,
          8,
          9,
          10,
          11,
          12,
          13,
          14,
          15,
          16,
          17,
          18,
          19,
          20,
          21,
          22,
          23,
          24,
          25,
          26,
          27,
          28,
          29,
          30,
          31,
          32,
          33,
          34,
          35,
          36,
          37,
          38,
          39,
          40,
          41,
          42,
          43,
          44,
          45,
          46,
          47,
          48,
          49,
          50,
          51,
          52,
          53,
          54,
          55,
          56,
          57,
          58,
          59,
          60,
          61,
          62,
          63,
          64,
          65,
          66,
          67,
          68,
          69,
          70,
          71,
          72,
          73,
          74,
          75,
          76,
          77,
          78,
          79,
          80,
          81,
          82,
          83,
          84,
          85,
          86,
          87,
          88,
          89,
          90,
          91,
          92,
          93,
          94,
          95,
          96,
          97,
          98,
          99
         ],
         "y": [
          0.5010416666666667,
          0.5010416666666667,
          0.5010416666666667,
          0.5010416666666667,
          0.5010416666666667,
          0.5079861111111111,
          0.5079861111111111,
          0.5079861111111111,
          0.5079861111111111,
          0.5079861111111111,
          0.5079861111111111,
          0.5079861111111111,
          0.515625,
          0.515625,
          0.515625,
          0.515625,
          0.515625,
          0.515625,
          0.515625,
          0.515625,
          0.515625,
          0.515625,
          0.515625,
          0.515625,
          0.515625,
          0.515625,
          0.515625,
          0.515625,
          0.515625,
          0.515625,
          0.515625,
          0.515625,
          0.515625,
          0.515625,
          0.521875,
          0.521875,
          0.521875,
          0.521875,
          0.521875,
          0.521875,
          0.521875,
          0.521875,
          0.521875,
          0.521875,
          0.521875,
          0.521875,
          0.521875,
          0.521875,
          0.521875,
          0.521875,
          0.521875,
          0.521875,
          0.521875,
          0.521875,
          0.521875,
          0.521875,
          0.521875,
          0.521875,
          0.521875,
          0.521875,
          0.521875,
          0.521875,
          0.521875,
          0.521875,
          0.5239583333333333,
          0.5239583333333333,
          0.5239583333333333,
          0.5239583333333333,
          0.5239583333333333,
          0.5239583333333333,
          0.5239583333333333,
          0.5239583333333333,
          0.5239583333333333,
          0.5239583333333333,
          0.5239583333333333,
          0.5239583333333333,
          0.5239583333333333,
          0.5239583333333333,
          0.5239583333333333,
          0.5239583333333333,
          0.5239583333333333,
          0.5239583333333333,
          0.5239583333333333,
          0.5239583333333333,
          0.5239583333333333,
          0.5239583333333333,
          0.5239583333333333,
          0.5239583333333333,
          0.5239583333333333,
          0.5239583333333333,
          0.5239583333333333,
          0.5239583333333333,
          0.5239583333333333,
          0.5239583333333333,
          0.5239583333333333,
          0.5239583333333333,
          0.5239583333333333,
          0.5239583333333333,
          0.5239583333333333,
          0.5239583333333333
         ]
        },
        {
         "marker": {
          "color": "#cccccc"
         },
         "mode": "markers",
         "name": "Infeasible Trial",
         "showlegend": false,
         "type": "scatter",
         "x": [],
         "y": []
        }
       ],
       "layout": {
        "template": {
         "data": {
          "bar": [
           {
            "error_x": {
             "color": "#2a3f5f"
            },
            "error_y": {
             "color": "#2a3f5f"
            },
            "marker": {
             "line": {
              "color": "#E5ECF6",
              "width": 0.5
             },
             "pattern": {
              "fillmode": "overlay",
              "size": 10,
              "solidity": 0.2
             }
            },
            "type": "bar"
           }
          ],
          "barpolar": [
           {
            "marker": {
             "line": {
              "color": "#E5ECF6",
              "width": 0.5
             },
             "pattern": {
              "fillmode": "overlay",
              "size": 10,
              "solidity": 0.2
             }
            },
            "type": "barpolar"
           }
          ],
          "carpet": [
           {
            "aaxis": {
             "endlinecolor": "#2a3f5f",
             "gridcolor": "white",
             "linecolor": "white",
             "minorgridcolor": "white",
             "startlinecolor": "#2a3f5f"
            },
            "baxis": {
             "endlinecolor": "#2a3f5f",
             "gridcolor": "white",
             "linecolor": "white",
             "minorgridcolor": "white",
             "startlinecolor": "#2a3f5f"
            },
            "type": "carpet"
           }
          ],
          "choropleth": [
           {
            "colorbar": {
             "outlinewidth": 0,
             "ticks": ""
            },
            "type": "choropleth"
           }
          ],
          "contour": [
           {
            "colorbar": {
             "outlinewidth": 0,
             "ticks": ""
            },
            "colorscale": [
             [
              0,
              "#0d0887"
             ],
             [
              0.1111111111111111,
              "#46039f"
             ],
             [
              0.2222222222222222,
              "#7201a8"
             ],
             [
              0.3333333333333333,
              "#9c179e"
             ],
             [
              0.4444444444444444,
              "#bd3786"
             ],
             [
              0.5555555555555556,
              "#d8576b"
             ],
             [
              0.6666666666666666,
              "#ed7953"
             ],
             [
              0.7777777777777778,
              "#fb9f3a"
             ],
             [
              0.8888888888888888,
              "#fdca26"
             ],
             [
              1,
              "#f0f921"
             ]
            ],
            "type": "contour"
           }
          ],
          "contourcarpet": [
           {
            "colorbar": {
             "outlinewidth": 0,
             "ticks": ""
            },
            "type": "contourcarpet"
           }
          ],
          "heatmap": [
           {
            "colorbar": {
             "outlinewidth": 0,
             "ticks": ""
            },
            "colorscale": [
             [
              0,
              "#0d0887"
             ],
             [
              0.1111111111111111,
              "#46039f"
             ],
             [
              0.2222222222222222,
              "#7201a8"
             ],
             [
              0.3333333333333333,
              "#9c179e"
             ],
             [
              0.4444444444444444,
              "#bd3786"
             ],
             [
              0.5555555555555556,
              "#d8576b"
             ],
             [
              0.6666666666666666,
              "#ed7953"
             ],
             [
              0.7777777777777778,
              "#fb9f3a"
             ],
             [
              0.8888888888888888,
              "#fdca26"
             ],
             [
              1,
              "#f0f921"
             ]
            ],
            "type": "heatmap"
           }
          ],
          "heatmapgl": [
           {
            "colorbar": {
             "outlinewidth": 0,
             "ticks": ""
            },
            "colorscale": [
             [
              0,
              "#0d0887"
             ],
             [
              0.1111111111111111,
              "#46039f"
             ],
             [
              0.2222222222222222,
              "#7201a8"
             ],
             [
              0.3333333333333333,
              "#9c179e"
             ],
             [
              0.4444444444444444,
              "#bd3786"
             ],
             [
              0.5555555555555556,
              "#d8576b"
             ],
             [
              0.6666666666666666,
              "#ed7953"
             ],
             [
              0.7777777777777778,
              "#fb9f3a"
             ],
             [
              0.8888888888888888,
              "#fdca26"
             ],
             [
              1,
              "#f0f921"
             ]
            ],
            "type": "heatmapgl"
           }
          ],
          "histogram": [
           {
            "marker": {
             "pattern": {
              "fillmode": "overlay",
              "size": 10,
              "solidity": 0.2
             }
            },
            "type": "histogram"
           }
          ],
          "histogram2d": [
           {
            "colorbar": {
             "outlinewidth": 0,
             "ticks": ""
            },
            "colorscale": [
             [
              0,
              "#0d0887"
             ],
             [
              0.1111111111111111,
              "#46039f"
             ],
             [
              0.2222222222222222,
              "#7201a8"
             ],
             [
              0.3333333333333333,
              "#9c179e"
             ],
             [
              0.4444444444444444,
              "#bd3786"
             ],
             [
              0.5555555555555556,
              "#d8576b"
             ],
             [
              0.6666666666666666,
              "#ed7953"
             ],
             [
              0.7777777777777778,
              "#fb9f3a"
             ],
             [
              0.8888888888888888,
              "#fdca26"
             ],
             [
              1,
              "#f0f921"
             ]
            ],
            "type": "histogram2d"
           }
          ],
          "histogram2dcontour": [
           {
            "colorbar": {
             "outlinewidth": 0,
             "ticks": ""
            },
            "colorscale": [
             [
              0,
              "#0d0887"
             ],
             [
              0.1111111111111111,
              "#46039f"
             ],
             [
              0.2222222222222222,
              "#7201a8"
             ],
             [
              0.3333333333333333,
              "#9c179e"
             ],
             [
              0.4444444444444444,
              "#bd3786"
             ],
             [
              0.5555555555555556,
              "#d8576b"
             ],
             [
              0.6666666666666666,
              "#ed7953"
             ],
             [
              0.7777777777777778,
              "#fb9f3a"
             ],
             [
              0.8888888888888888,
              "#fdca26"
             ],
             [
              1,
              "#f0f921"
             ]
            ],
            "type": "histogram2dcontour"
           }
          ],
          "mesh3d": [
           {
            "colorbar": {
             "outlinewidth": 0,
             "ticks": ""
            },
            "type": "mesh3d"
           }
          ],
          "parcoords": [
           {
            "line": {
             "colorbar": {
              "outlinewidth": 0,
              "ticks": ""
             }
            },
            "type": "parcoords"
           }
          ],
          "pie": [
           {
            "automargin": true,
            "type": "pie"
           }
          ],
          "scatter": [
           {
            "fillpattern": {
             "fillmode": "overlay",
             "size": 10,
             "solidity": 0.2
            },
            "type": "scatter"
           }
          ],
          "scatter3d": [
           {
            "line": {
             "colorbar": {
              "outlinewidth": 0,
              "ticks": ""
             }
            },
            "marker": {
             "colorbar": {
              "outlinewidth": 0,
              "ticks": ""
             }
            },
            "type": "scatter3d"
           }
          ],
          "scattercarpet": [
           {
            "marker": {
             "colorbar": {
              "outlinewidth": 0,
              "ticks": ""
             }
            },
            "type": "scattercarpet"
           }
          ],
          "scattergeo": [
           {
            "marker": {
             "colorbar": {
              "outlinewidth": 0,
              "ticks": ""
             }
            },
            "type": "scattergeo"
           }
          ],
          "scattergl": [
           {
            "marker": {
             "colorbar": {
              "outlinewidth": 0,
              "ticks": ""
             }
            },
            "type": "scattergl"
           }
          ],
          "scattermapbox": [
           {
            "marker": {
             "colorbar": {
              "outlinewidth": 0,
              "ticks": ""
             }
            },
            "type": "scattermapbox"
           }
          ],
          "scatterpolar": [
           {
            "marker": {
             "colorbar": {
              "outlinewidth": 0,
              "ticks": ""
             }
            },
            "type": "scatterpolar"
           }
          ],
          "scatterpolargl": [
           {
            "marker": {
             "colorbar": {
              "outlinewidth": 0,
              "ticks": ""
             }
            },
            "type": "scatterpolargl"
           }
          ],
          "scatterternary": [
           {
            "marker": {
             "colorbar": {
              "outlinewidth": 0,
              "ticks": ""
             }
            },
            "type": "scatterternary"
           }
          ],
          "surface": [
           {
            "colorbar": {
             "outlinewidth": 0,
             "ticks": ""
            },
            "colorscale": [
             [
              0,
              "#0d0887"
             ],
             [
              0.1111111111111111,
              "#46039f"
             ],
             [
              0.2222222222222222,
              "#7201a8"
             ],
             [
              0.3333333333333333,
              "#9c179e"
             ],
             [
              0.4444444444444444,
              "#bd3786"
             ],
             [
              0.5555555555555556,
              "#d8576b"
             ],
             [
              0.6666666666666666,
              "#ed7953"
             ],
             [
              0.7777777777777778,
              "#fb9f3a"
             ],
             [
              0.8888888888888888,
              "#fdca26"
             ],
             [
              1,
              "#f0f921"
             ]
            ],
            "type": "surface"
           }
          ],
          "table": [
           {
            "cells": {
             "fill": {
              "color": "#EBF0F8"
             },
             "line": {
              "color": "white"
             }
            },
            "header": {
             "fill": {
              "color": "#C8D4E3"
             },
             "line": {
              "color": "white"
             }
            },
            "type": "table"
           }
          ]
         },
         "layout": {
          "annotationdefaults": {
           "arrowcolor": "#2a3f5f",
           "arrowhead": 0,
           "arrowwidth": 1
          },
          "autotypenumbers": "strict",
          "coloraxis": {
           "colorbar": {
            "outlinewidth": 0,
            "ticks": ""
           }
          },
          "colorscale": {
           "diverging": [
            [
             0,
             "#8e0152"
            ],
            [
             0.1,
             "#c51b7d"
            ],
            [
             0.2,
             "#de77ae"
            ],
            [
             0.3,
             "#f1b6da"
            ],
            [
             0.4,
             "#fde0ef"
            ],
            [
             0.5,
             "#f7f7f7"
            ],
            [
             0.6,
             "#e6f5d0"
            ],
            [
             0.7,
             "#b8e186"
            ],
            [
             0.8,
             "#7fbc41"
            ],
            [
             0.9,
             "#4d9221"
            ],
            [
             1,
             "#276419"
            ]
           ],
           "sequential": [
            [
             0,
             "#0d0887"
            ],
            [
             0.1111111111111111,
             "#46039f"
            ],
            [
             0.2222222222222222,
             "#7201a8"
            ],
            [
             0.3333333333333333,
             "#9c179e"
            ],
            [
             0.4444444444444444,
             "#bd3786"
            ],
            [
             0.5555555555555556,
             "#d8576b"
            ],
            [
             0.6666666666666666,
             "#ed7953"
            ],
            [
             0.7777777777777778,
             "#fb9f3a"
            ],
            [
             0.8888888888888888,
             "#fdca26"
            ],
            [
             1,
             "#f0f921"
            ]
           ],
           "sequentialminus": [
            [
             0,
             "#0d0887"
            ],
            [
             0.1111111111111111,
             "#46039f"
            ],
            [
             0.2222222222222222,
             "#7201a8"
            ],
            [
             0.3333333333333333,
             "#9c179e"
            ],
            [
             0.4444444444444444,
             "#bd3786"
            ],
            [
             0.5555555555555556,
             "#d8576b"
            ],
            [
             0.6666666666666666,
             "#ed7953"
            ],
            [
             0.7777777777777778,
             "#fb9f3a"
            ],
            [
             0.8888888888888888,
             "#fdca26"
            ],
            [
             1,
             "#f0f921"
            ]
           ]
          },
          "colorway": [
           "#636efa",
           "#EF553B",
           "#00cc96",
           "#ab63fa",
           "#FFA15A",
           "#19d3f3",
           "#FF6692",
           "#B6E880",
           "#FF97FF",
           "#FECB52"
          ],
          "font": {
           "color": "#2a3f5f"
          },
          "geo": {
           "bgcolor": "white",
           "lakecolor": "white",
           "landcolor": "#E5ECF6",
           "showlakes": true,
           "showland": true,
           "subunitcolor": "white"
          },
          "hoverlabel": {
           "align": "left"
          },
          "hovermode": "closest",
          "mapbox": {
           "style": "light"
          },
          "paper_bgcolor": "white",
          "plot_bgcolor": "#E5ECF6",
          "polar": {
           "angularaxis": {
            "gridcolor": "white",
            "linecolor": "white",
            "ticks": ""
           },
           "bgcolor": "#E5ECF6",
           "radialaxis": {
            "gridcolor": "white",
            "linecolor": "white",
            "ticks": ""
           }
          },
          "scene": {
           "xaxis": {
            "backgroundcolor": "#E5ECF6",
            "gridcolor": "white",
            "gridwidth": 2,
            "linecolor": "white",
            "showbackground": true,
            "ticks": "",
            "zerolinecolor": "white"
           },
           "yaxis": {
            "backgroundcolor": "#E5ECF6",
            "gridcolor": "white",
            "gridwidth": 2,
            "linecolor": "white",
            "showbackground": true,
            "ticks": "",
            "zerolinecolor": "white"
           },
           "zaxis": {
            "backgroundcolor": "#E5ECF6",
            "gridcolor": "white",
            "gridwidth": 2,
            "linecolor": "white",
            "showbackground": true,
            "ticks": "",
            "zerolinecolor": "white"
           }
          },
          "shapedefaults": {
           "line": {
            "color": "#2a3f5f"
           }
          },
          "ternary": {
           "aaxis": {
            "gridcolor": "white",
            "linecolor": "white",
            "ticks": ""
           },
           "baxis": {
            "gridcolor": "white",
            "linecolor": "white",
            "ticks": ""
           },
           "bgcolor": "#E5ECF6",
           "caxis": {
            "gridcolor": "white",
            "linecolor": "white",
            "ticks": ""
           }
          },
          "title": {
           "x": 0.05
          },
          "xaxis": {
           "automargin": true,
           "gridcolor": "white",
           "linecolor": "white",
           "ticks": "",
           "title": {
            "standoff": 15
           },
           "zerolinecolor": "white",
           "zerolinewidth": 2
          },
          "yaxis": {
           "automargin": true,
           "gridcolor": "white",
           "linecolor": "white",
           "ticks": "",
           "title": {
            "standoff": 15
           },
           "zerolinecolor": "white",
           "zerolinewidth": 2
          }
         }
        },
        "title": {
         "text": "Optimization History Plot"
        },
        "xaxis": {
         "title": {
          "text": "Trial"
         }
        },
        "yaxis": {
         "title": {
          "text": "Objective Value"
         }
        }
       }
      }
     },
     "metadata": {},
     "output_type": "display_data"
    },
    {
     "data": {
      "application/vnd.plotly.v1+json": {
       "config": {
        "plotlyServerURL": "https://plot.ly"
       },
       "data": [
        {
         "cliponaxis": false,
         "hovertemplate": [
          "max_depth (IntDistribution): 0.016568876385311994<extra></extra>",
          "n_estimators (IntDistribution): 0.020300086282881522<extra></extra>",
          "min_child_weight (IntDistribution): 0.023491288278212556<extra></extra>",
          "learning_rate (FloatDistribution): 0.04330026153686201<extra></extra>",
          "colsample_bytree (FloatDistribution): 0.05248487953946925<extra></extra>",
          "n_pca_components (IntDistribution): 0.13543229084620756<extra></extra>",
          "subsample (FloatDistribution): 0.15024244873399192<extra></extra>",
          "gamma (FloatDistribution): 0.16107993055113096<extra></extra>",
          "use_pca (CategoricalDistribution): 0.39709993784593245<extra></extra>"
         ],
         "name": "Objective Value",
         "orientation": "h",
         "text": [
          "0.02",
          "0.02",
          "0.02",
          "0.04",
          "0.05",
          "0.14",
          "0.15",
          "0.16",
          "0.40"
         ],
         "textposition": "outside",
         "type": "bar",
         "x": [
          0.016568876385311994,
          0.020300086282881522,
          0.023491288278212556,
          0.04330026153686201,
          0.05248487953946925,
          0.13543229084620756,
          0.15024244873399192,
          0.16107993055113096,
          0.39709993784593245
         ],
         "y": [
          "max_depth",
          "n_estimators",
          "min_child_weight",
          "learning_rate",
          "colsample_bytree",
          "n_pca_components",
          "subsample",
          "gamma",
          "use_pca"
         ]
        }
       ],
       "layout": {
        "template": {
         "data": {
          "bar": [
           {
            "error_x": {
             "color": "#2a3f5f"
            },
            "error_y": {
             "color": "#2a3f5f"
            },
            "marker": {
             "line": {
              "color": "#E5ECF6",
              "width": 0.5
             },
             "pattern": {
              "fillmode": "overlay",
              "size": 10,
              "solidity": 0.2
             }
            },
            "type": "bar"
           }
          ],
          "barpolar": [
           {
            "marker": {
             "line": {
              "color": "#E5ECF6",
              "width": 0.5
             },
             "pattern": {
              "fillmode": "overlay",
              "size": 10,
              "solidity": 0.2
             }
            },
            "type": "barpolar"
           }
          ],
          "carpet": [
           {
            "aaxis": {
             "endlinecolor": "#2a3f5f",
             "gridcolor": "white",
             "linecolor": "white",
             "minorgridcolor": "white",
             "startlinecolor": "#2a3f5f"
            },
            "baxis": {
             "endlinecolor": "#2a3f5f",
             "gridcolor": "white",
             "linecolor": "white",
             "minorgridcolor": "white",
             "startlinecolor": "#2a3f5f"
            },
            "type": "carpet"
           }
          ],
          "choropleth": [
           {
            "colorbar": {
             "outlinewidth": 0,
             "ticks": ""
            },
            "type": "choropleth"
           }
          ],
          "contour": [
           {
            "colorbar": {
             "outlinewidth": 0,
             "ticks": ""
            },
            "colorscale": [
             [
              0,
              "#0d0887"
             ],
             [
              0.1111111111111111,
              "#46039f"
             ],
             [
              0.2222222222222222,
              "#7201a8"
             ],
             [
              0.3333333333333333,
              "#9c179e"
             ],
             [
              0.4444444444444444,
              "#bd3786"
             ],
             [
              0.5555555555555556,
              "#d8576b"
             ],
             [
              0.6666666666666666,
              "#ed7953"
             ],
             [
              0.7777777777777778,
              "#fb9f3a"
             ],
             [
              0.8888888888888888,
              "#fdca26"
             ],
             [
              1,
              "#f0f921"
             ]
            ],
            "type": "contour"
           }
          ],
          "contourcarpet": [
           {
            "colorbar": {
             "outlinewidth": 0,
             "ticks": ""
            },
            "type": "contourcarpet"
           }
          ],
          "heatmap": [
           {
            "colorbar": {
             "outlinewidth": 0,
             "ticks": ""
            },
            "colorscale": [
             [
              0,
              "#0d0887"
             ],
             [
              0.1111111111111111,
              "#46039f"
             ],
             [
              0.2222222222222222,
              "#7201a8"
             ],
             [
              0.3333333333333333,
              "#9c179e"
             ],
             [
              0.4444444444444444,
              "#bd3786"
             ],
             [
              0.5555555555555556,
              "#d8576b"
             ],
             [
              0.6666666666666666,
              "#ed7953"
             ],
             [
              0.7777777777777778,
              "#fb9f3a"
             ],
             [
              0.8888888888888888,
              "#fdca26"
             ],
             [
              1,
              "#f0f921"
             ]
            ],
            "type": "heatmap"
           }
          ],
          "heatmapgl": [
           {
            "colorbar": {
             "outlinewidth": 0,
             "ticks": ""
            },
            "colorscale": [
             [
              0,
              "#0d0887"
             ],
             [
              0.1111111111111111,
              "#46039f"
             ],
             [
              0.2222222222222222,
              "#7201a8"
             ],
             [
              0.3333333333333333,
              "#9c179e"
             ],
             [
              0.4444444444444444,
              "#bd3786"
             ],
             [
              0.5555555555555556,
              "#d8576b"
             ],
             [
              0.6666666666666666,
              "#ed7953"
             ],
             [
              0.7777777777777778,
              "#fb9f3a"
             ],
             [
              0.8888888888888888,
              "#fdca26"
             ],
             [
              1,
              "#f0f921"
             ]
            ],
            "type": "heatmapgl"
           }
          ],
          "histogram": [
           {
            "marker": {
             "pattern": {
              "fillmode": "overlay",
              "size": 10,
              "solidity": 0.2
             }
            },
            "type": "histogram"
           }
          ],
          "histogram2d": [
           {
            "colorbar": {
             "outlinewidth": 0,
             "ticks": ""
            },
            "colorscale": [
             [
              0,
              "#0d0887"
             ],
             [
              0.1111111111111111,
              "#46039f"
             ],
             [
              0.2222222222222222,
              "#7201a8"
             ],
             [
              0.3333333333333333,
              "#9c179e"
             ],
             [
              0.4444444444444444,
              "#bd3786"
             ],
             [
              0.5555555555555556,
              "#d8576b"
             ],
             [
              0.6666666666666666,
              "#ed7953"
             ],
             [
              0.7777777777777778,
              "#fb9f3a"
             ],
             [
              0.8888888888888888,
              "#fdca26"
             ],
             [
              1,
              "#f0f921"
             ]
            ],
            "type": "histogram2d"
           }
          ],
          "histogram2dcontour": [
           {
            "colorbar": {
             "outlinewidth": 0,
             "ticks": ""
            },
            "colorscale": [
             [
              0,
              "#0d0887"
             ],
             [
              0.1111111111111111,
              "#46039f"
             ],
             [
              0.2222222222222222,
              "#7201a8"
             ],
             [
              0.3333333333333333,
              "#9c179e"
             ],
             [
              0.4444444444444444,
              "#bd3786"
             ],
             [
              0.5555555555555556,
              "#d8576b"
             ],
             [
              0.6666666666666666,
              "#ed7953"
             ],
             [
              0.7777777777777778,
              "#fb9f3a"
             ],
             [
              0.8888888888888888,
              "#fdca26"
             ],
             [
              1,
              "#f0f921"
             ]
            ],
            "type": "histogram2dcontour"
           }
          ],
          "mesh3d": [
           {
            "colorbar": {
             "outlinewidth": 0,
             "ticks": ""
            },
            "type": "mesh3d"
           }
          ],
          "parcoords": [
           {
            "line": {
             "colorbar": {
              "outlinewidth": 0,
              "ticks": ""
             }
            },
            "type": "parcoords"
           }
          ],
          "pie": [
           {
            "automargin": true,
            "type": "pie"
           }
          ],
          "scatter": [
           {
            "fillpattern": {
             "fillmode": "overlay",
             "size": 10,
             "solidity": 0.2
            },
            "type": "scatter"
           }
          ],
          "scatter3d": [
           {
            "line": {
             "colorbar": {
              "outlinewidth": 0,
              "ticks": ""
             }
            },
            "marker": {
             "colorbar": {
              "outlinewidth": 0,
              "ticks": ""
             }
            },
            "type": "scatter3d"
           }
          ],
          "scattercarpet": [
           {
            "marker": {
             "colorbar": {
              "outlinewidth": 0,
              "ticks": ""
             }
            },
            "type": "scattercarpet"
           }
          ],
          "scattergeo": [
           {
            "marker": {
             "colorbar": {
              "outlinewidth": 0,
              "ticks": ""
             }
            },
            "type": "scattergeo"
           }
          ],
          "scattergl": [
           {
            "marker": {
             "colorbar": {
              "outlinewidth": 0,
              "ticks": ""
             }
            },
            "type": "scattergl"
           }
          ],
          "scattermapbox": [
           {
            "marker": {
             "colorbar": {
              "outlinewidth": 0,
              "ticks": ""
             }
            },
            "type": "scattermapbox"
           }
          ],
          "scatterpolar": [
           {
            "marker": {
             "colorbar": {
              "outlinewidth": 0,
              "ticks": ""
             }
            },
            "type": "scatterpolar"
           }
          ],
          "scatterpolargl": [
           {
            "marker": {
             "colorbar": {
              "outlinewidth": 0,
              "ticks": ""
             }
            },
            "type": "scatterpolargl"
           }
          ],
          "scatterternary": [
           {
            "marker": {
             "colorbar": {
              "outlinewidth": 0,
              "ticks": ""
             }
            },
            "type": "scatterternary"
           }
          ],
          "surface": [
           {
            "colorbar": {
             "outlinewidth": 0,
             "ticks": ""
            },
            "colorscale": [
             [
              0,
              "#0d0887"
             ],
             [
              0.1111111111111111,
              "#46039f"
             ],
             [
              0.2222222222222222,
              "#7201a8"
             ],
             [
              0.3333333333333333,
              "#9c179e"
             ],
             [
              0.4444444444444444,
              "#bd3786"
             ],
             [
              0.5555555555555556,
              "#d8576b"
             ],
             [
              0.6666666666666666,
              "#ed7953"
             ],
             [
              0.7777777777777778,
              "#fb9f3a"
             ],
             [
              0.8888888888888888,
              "#fdca26"
             ],
             [
              1,
              "#f0f921"
             ]
            ],
            "type": "surface"
           }
          ],
          "table": [
           {
            "cells": {
             "fill": {
              "color": "#EBF0F8"
             },
             "line": {
              "color": "white"
             }
            },
            "header": {
             "fill": {
              "color": "#C8D4E3"
             },
             "line": {
              "color": "white"
             }
            },
            "type": "table"
           }
          ]
         },
         "layout": {
          "annotationdefaults": {
           "arrowcolor": "#2a3f5f",
           "arrowhead": 0,
           "arrowwidth": 1
          },
          "autotypenumbers": "strict",
          "coloraxis": {
           "colorbar": {
            "outlinewidth": 0,
            "ticks": ""
           }
          },
          "colorscale": {
           "diverging": [
            [
             0,
             "#8e0152"
            ],
            [
             0.1,
             "#c51b7d"
            ],
            [
             0.2,
             "#de77ae"
            ],
            [
             0.3,
             "#f1b6da"
            ],
            [
             0.4,
             "#fde0ef"
            ],
            [
             0.5,
             "#f7f7f7"
            ],
            [
             0.6,
             "#e6f5d0"
            ],
            [
             0.7,
             "#b8e186"
            ],
            [
             0.8,
             "#7fbc41"
            ],
            [
             0.9,
             "#4d9221"
            ],
            [
             1,
             "#276419"
            ]
           ],
           "sequential": [
            [
             0,
             "#0d0887"
            ],
            [
             0.1111111111111111,
             "#46039f"
            ],
            [
             0.2222222222222222,
             "#7201a8"
            ],
            [
             0.3333333333333333,
             "#9c179e"
            ],
            [
             0.4444444444444444,
             "#bd3786"
            ],
            [
             0.5555555555555556,
             "#d8576b"
            ],
            [
             0.6666666666666666,
             "#ed7953"
            ],
            [
             0.7777777777777778,
             "#fb9f3a"
            ],
            [
             0.8888888888888888,
             "#fdca26"
            ],
            [
             1,
             "#f0f921"
            ]
           ],
           "sequentialminus": [
            [
             0,
             "#0d0887"
            ],
            [
             0.1111111111111111,
             "#46039f"
            ],
            [
             0.2222222222222222,
             "#7201a8"
            ],
            [
             0.3333333333333333,
             "#9c179e"
            ],
            [
             0.4444444444444444,
             "#bd3786"
            ],
            [
             0.5555555555555556,
             "#d8576b"
            ],
            [
             0.6666666666666666,
             "#ed7953"
            ],
            [
             0.7777777777777778,
             "#fb9f3a"
            ],
            [
             0.8888888888888888,
             "#fdca26"
            ],
            [
             1,
             "#f0f921"
            ]
           ]
          },
          "colorway": [
           "#636efa",
           "#EF553B",
           "#00cc96",
           "#ab63fa",
           "#FFA15A",
           "#19d3f3",
           "#FF6692",
           "#B6E880",
           "#FF97FF",
           "#FECB52"
          ],
          "font": {
           "color": "#2a3f5f"
          },
          "geo": {
           "bgcolor": "white",
           "lakecolor": "white",
           "landcolor": "#E5ECF6",
           "showlakes": true,
           "showland": true,
           "subunitcolor": "white"
          },
          "hoverlabel": {
           "align": "left"
          },
          "hovermode": "closest",
          "mapbox": {
           "style": "light"
          },
          "paper_bgcolor": "white",
          "plot_bgcolor": "#E5ECF6",
          "polar": {
           "angularaxis": {
            "gridcolor": "white",
            "linecolor": "white",
            "ticks": ""
           },
           "bgcolor": "#E5ECF6",
           "radialaxis": {
            "gridcolor": "white",
            "linecolor": "white",
            "ticks": ""
           }
          },
          "scene": {
           "xaxis": {
            "backgroundcolor": "#E5ECF6",
            "gridcolor": "white",
            "gridwidth": 2,
            "linecolor": "white",
            "showbackground": true,
            "ticks": "",
            "zerolinecolor": "white"
           },
           "yaxis": {
            "backgroundcolor": "#E5ECF6",
            "gridcolor": "white",
            "gridwidth": 2,
            "linecolor": "white",
            "showbackground": true,
            "ticks": "",
            "zerolinecolor": "white"
           },
           "zaxis": {
            "backgroundcolor": "#E5ECF6",
            "gridcolor": "white",
            "gridwidth": 2,
            "linecolor": "white",
            "showbackground": true,
            "ticks": "",
            "zerolinecolor": "white"
           }
          },
          "shapedefaults": {
           "line": {
            "color": "#2a3f5f"
           }
          },
          "ternary": {
           "aaxis": {
            "gridcolor": "white",
            "linecolor": "white",
            "ticks": ""
           },
           "baxis": {
            "gridcolor": "white",
            "linecolor": "white",
            "ticks": ""
           },
           "bgcolor": "#E5ECF6",
           "caxis": {
            "gridcolor": "white",
            "linecolor": "white",
            "ticks": ""
           }
          },
          "title": {
           "x": 0.05
          },
          "xaxis": {
           "automargin": true,
           "gridcolor": "white",
           "linecolor": "white",
           "ticks": "",
           "title": {
            "standoff": 15
           },
           "zerolinecolor": "white",
           "zerolinewidth": 2
          },
          "yaxis": {
           "automargin": true,
           "gridcolor": "white",
           "linecolor": "white",
           "ticks": "",
           "title": {
            "standoff": 15
           },
           "zerolinecolor": "white",
           "zerolinewidth": 2
          }
         }
        },
        "title": {
         "text": "Hyperparameter Importances"
        },
        "xaxis": {
         "title": {
          "text": "Hyperparameter Importance"
         }
        },
        "yaxis": {
         "title": {
          "text": "Hyperparameter"
         }
        }
       }
      }
     },
     "metadata": {},
     "output_type": "display_data"
    },
    {
     "data": {
      "application/vnd.plotly.v1+json": {
       "config": {
        "plotlyServerURL": "https://plot.ly"
       },
       "data": [
        {
         "marker": {
          "color": [
           0,
           1,
           2,
           3,
           4,
           5,
           6,
           7,
           8,
           9,
           10,
           11,
           12,
           13,
           14,
           15,
           16,
           17,
           18,
           19,
           20,
           21,
           22,
           23,
           24,
           25,
           26,
           27,
           28,
           29,
           30,
           31,
           32,
           33,
           34,
           35,
           36,
           37,
           38,
           39,
           40,
           41,
           42,
           43,
           44,
           45,
           46,
           47,
           48,
           49,
           50,
           51,
           52,
           53,
           54,
           55,
           56,
           57,
           58,
           59,
           60,
           61,
           62,
           63,
           64,
           65,
           66,
           67,
           68,
           69,
           70,
           71,
           72,
           73,
           74,
           75,
           76,
           77,
           78,
           79,
           80,
           81,
           82,
           83,
           84,
           85,
           86,
           87,
           88,
           89,
           90,
           91,
           92,
           93,
           94,
           95,
           96,
           97,
           98,
           99
          ],
          "colorbar": {
           "title": {
            "text": "Trial"
           },
           "x": 1,
           "xpad": 40
          },
          "colorscale": [
           [
            0,
            "rgb(247,251,255)"
           ],
           [
            0.125,
            "rgb(222,235,247)"
           ],
           [
            0.25,
            "rgb(198,219,239)"
           ],
           [
            0.375,
            "rgb(158,202,225)"
           ],
           [
            0.5,
            "rgb(107,174,214)"
           ],
           [
            0.625,
            "rgb(66,146,198)"
           ],
           [
            0.75,
            "rgb(33,113,181)"
           ],
           [
            0.875,
            "rgb(8,81,156)"
           ],
           [
            1,
            "rgb(8,48,107)"
           ]
          ],
          "line": {
           "color": "Grey",
           "width": 0.5
          },
          "showscale": true
         },
         "mode": "markers",
         "name": "Feasible Trial",
         "showlegend": false,
         "type": "scatter",
         "x": [
          0.9757307338993106,
          0.7022195429832396,
          0.7783085253473125,
          0.7681313905260758,
          0.6209453491577708,
          0.7154064294192766,
          0.7469350534897372,
          0.536453382523387,
          0.7865873014697833,
          0.6156929604355859,
          0.9048139152201577,
          0.8714305848942256,
          0.6863393660255054,
          0.636117947680732,
          0.5117171955270641,
          0.5097819286235009,
          0.5741028230658477,
          0.6705615461743876,
          0.5622151959404001,
          0.8573167823666674,
          0.5848602071036386,
          0.708491107825477,
          0.6723325916599471,
          0.8148523024803656,
          0.7147101561821246,
          0.7226572120082122,
          0.6632416721745916,
          0.7286285293696704,
          0.822409472968413,
          0.9925882148772001,
          0.943094544593428,
          0.82216044741193,
          0.8243790711164262,
          0.8189280202629085,
          0.7500179789211482,
          0.7438402304131052,
          0.7748205005882774,
          0.7500640615480901,
          0.6897395573991293,
          0.7928376153219875,
          0.8563133669213306,
          0.74416932595104,
          0.895311530537379,
          0.8093288564650152,
          0.8375970576036564,
          0.7889672518444402,
          0.762264904842977,
          0.6396045747102271,
          0.8926707074766674,
          0.7270578021033993,
          0.6941395700677678,
          0.7634066477755573,
          0.7315229558803324,
          0.6527175848455858,
          0.6929217725951816,
          0.9379287510457077,
          0.8016398224144262,
          0.609540521603555,
          0.8478974696875713,
          0.8791297883661408,
          0.7235022657180342,
          0.7125944538150538,
          0.6790595457926777,
          0.7095904651987833,
          0.7749961483199131,
          0.7779869849246953,
          0.8340049537709722,
          0.7485584647880145,
          0.7982057676401673,
          0.77340076050605,
          0.7363035718896265,
          0.704505322419421,
          0.7623208837051327,
          0.7178579288257401,
          0.6758449064634228,
          0.7567674174267247,
          0.6489991622294193,
          0.7843619245979923,
          0.8218242266712618,
          0.7393789561682614,
          0.8064866345670114,
          0.7303435609769402,
          0.7421513882886122,
          0.6869639323813896,
          0.7010008532956421,
          0.7165809500684869,
          0.7557201519020884,
          0.7316417942979526,
          0.7727917439371208,
          0.6595226354020433,
          0.7869812158185917,
          0.7351735340070092,
          0.7169280456793633,
          0.7029131978628355,
          0.832464992870737,
          0.7444464798221246,
          0.684467168981229,
          0.8674901330248097,
          0.6822859062410329,
          0.6667718294744542
         ],
         "xaxis": "x",
         "y": [
          0.5010416666666667,
          0.4895833333333333,
          0.4986111111111111,
          0.48993055555555554,
          0.484375,
          0.5079861111111111,
          0.5045138888888889,
          0.5013888888888889,
          0.4986111111111111,
          0.4892361111111111,
          0.5041666666666667,
          0.5027777777777778,
          0.515625,
          0.496875,
          0.509375,
          0.5065972222222223,
          0.5020833333333333,
          0.5,
          0.5055555555555555,
          0.5069444444444444,
          0.5072916666666667,
          0.5125,
          0.5055555555555555,
          0.49409722222222224,
          0.5125,
          0.5131944444444444,
          0.4930555555555556,
          0.5138888888888888,
          0.5138888888888888,
          0.5045138888888889,
          0.4965277777777778,
          0.5142361111111111,
          0.503125,
          0.5034722222222222,
          0.521875,
          0.509375,
          0.5010416666666667,
          0.5013888888888889,
          0.49409722222222224,
          0.5024305555555556,
          0.5045138888888889,
          0.5076388888888889,
          0.5107638888888889,
          0.5086805555555556,
          0.5069444444444444,
          0.49201388888888886,
          0.5100694444444445,
          0.5041666666666667,
          0.5083333333333333,
          0.5065972222222223,
          0.50625,
          0.496875,
          0.5107638888888889,
          0.5038194444444445,
          0.5055555555555555,
          0.5013888888888889,
          0.5027777777777778,
          0.503125,
          0.5065972222222223,
          0.4777777777777778,
          0.5079861111111111,
          0.5145833333333333,
          0.5055555555555555,
          0.5131944444444444,
          0.5239583333333333,
          0.5090277777777777,
          0.5038194444444445,
          0.4954861111111111,
          0.5024305555555556,
          0.5055555555555555,
          0.49583333333333335,
          0.48819444444444443,
          0.5038194444444445,
          0.5013888888888889,
          0.49409722222222224,
          0.49756944444444445,
          0.509375,
          0.5027777777777778,
          0.5010416666666667,
          0.515625,
          0.5114583333333333,
          0.5215277777777778,
          0.509375,
          0.5100694444444445,
          0.5003472222222223,
          0.5013888888888889,
          0.5052083333333334,
          0.5055555555555555,
          0.4822916666666667,
          0.5090277777777777,
          0.5034722222222222,
          0.4982638888888889,
          0.5138888888888888,
          0.5100694444444445,
          0.5041666666666667,
          0.5138888888888888,
          0.5204861111111111,
          0.5125,
          0.5076388888888889,
          0.5006944444444444
         ],
         "yaxis": "y"
        },
        {
         "marker": {
          "color": [
           0,
           1,
           2,
           3,
           4,
           5,
           6,
           7,
           8,
           9,
           10,
           11,
           12,
           13,
           14,
           15,
           16,
           17,
           18,
           19,
           20,
           21,
           22,
           23,
           24,
           25,
           26,
           27,
           28,
           29,
           30,
           31,
           32,
           33,
           34,
           35,
           36,
           37,
           38,
           39,
           40,
           41,
           42,
           43,
           44,
           45,
           46,
           47,
           48,
           49,
           50,
           51,
           52,
           53,
           54,
           55,
           56,
           57,
           58,
           59,
           60,
           61,
           62,
           63,
           64,
           65,
           66,
           67,
           68,
           69,
           70,
           71,
           72,
           73,
           74,
           75,
           76,
           77,
           78,
           79,
           80,
           81,
           82,
           83,
           84,
           85,
           86,
           87,
           88,
           89,
           90,
           91,
           92,
           93,
           94,
           95,
           96,
           97,
           98,
           99
          ],
          "colorbar": {
           "title": {
            "text": "Trial"
           },
           "x": 1,
           "xpad": 40
          },
          "colorscale": [
           [
            0,
            "rgb(247,251,255)"
           ],
           [
            0.125,
            "rgb(222,235,247)"
           ],
           [
            0.25,
            "rgb(198,219,239)"
           ],
           [
            0.375,
            "rgb(158,202,225)"
           ],
           [
            0.5,
            "rgb(107,174,214)"
           ],
           [
            0.625,
            "rgb(66,146,198)"
           ],
           [
            0.75,
            "rgb(33,113,181)"
           ],
           [
            0.875,
            "rgb(8,81,156)"
           ],
           [
            1,
            "rgb(8,48,107)"
           ]
          ],
          "line": {
           "color": "Grey",
           "width": 0.5
          },
          "showscale": false
         },
         "mode": "markers",
         "name": "Feasible Trial",
         "showlegend": false,
         "type": "scatter",
         "x": [
          1.8202260775291301,
          4.069975823839852,
          1.54886598295775,
          4.980562413973632,
          0.7952936473297612,
          4.474309577440063,
          2.3979865752457052,
          0.6928723429424832,
          3.794494313608941,
          0.2998242900322873,
          3.300392333201014,
          2.5877513319763548,
          2.7044727427362925,
          4.830653722746143,
          3.1666187572026487,
          3.169158797822165,
          2.7977288852279414,
          2.090387936401927,
          3.5483254813507754,
          1.291596765330683,
          3.010601862522528,
          4.277667142501089,
          4.299522181803559,
          3.745301222091501,
          3.391193878023484,
          2.265967056803878,
          2.0975832110087,
          1.3385953647573896,
          1.1631359924543474,
          1.3017490462728754,
          1.7759562894245775,
          1.097682426061245,
          0.8652520841667211,
          0.14932624617096235,
          1.2516337304761098,
          1.6898949900408062,
          0.4189818255893214,
          1.1076030972380788,
          1.4177436633223197,
          0.5851690267925491,
          0.9498721811738466,
          1.555898187946729,
          1.9799390949620268,
          1.0977450712964705,
          2.54561989827331,
          0.034690977413338375,
          0.6126342073660869,
          1.868126120340639,
          1.074056487251993,
          1.6060091432793373,
          2.79906842621026,
          2.286795192685412,
          1.4921911260986633,
          2.319476877557341,
          1.273805446617567,
          2.8198601967338632,
          0.743784295791099,
          2.1783217365427836,
          0.43453448291722185,
          1.8432217503070072,
          1.2628424027575622,
          4.015055119335882,
          4.7421178423881996,
          0.952528784255945,
          3.74455549146501,
          3.853283342110797,
          3.9261102105083774,
          4.111537152526584,
          3.6532967725125,
          3.4303294262754793,
          4.484887449254064,
          4.016792377898646,
          3.181930774645225,
          1.4222934627004393,
          4.2796775476917785,
          3.036506586911333,
          2.647998939701229,
          1.1494440058587447,
          0.8368843985678498,
          1.9959534609675966,
          1.684004121845957,
          1.951864640868684,
          1.910528319140364,
          2.0414243432906587,
          1.7098113842030864,
          4.509085386626842,
          0.9805640749343905,
          1.3875028243420398,
          1.1936741371841706,
          2.4720114146665093,
          3.595083134747381,
          2.254707274086397,
          2.64452875915071,
          2.618761054793633,
          2.927476806475282,
          1.557981754935664,
          2.466423210059281,
          2.1664304456171606,
          1.335199098780267,
          2.389690340580567
         ],
         "xaxis": "x2",
         "y": [
          0.5010416666666667,
          0.4895833333333333,
          0.4986111111111111,
          0.48993055555555554,
          0.484375,
          0.5079861111111111,
          0.5045138888888889,
          0.5013888888888889,
          0.4986111111111111,
          0.4892361111111111,
          0.5041666666666667,
          0.5027777777777778,
          0.515625,
          0.496875,
          0.509375,
          0.5065972222222223,
          0.5020833333333333,
          0.5,
          0.5055555555555555,
          0.5069444444444444,
          0.5072916666666667,
          0.5125,
          0.5055555555555555,
          0.49409722222222224,
          0.5125,
          0.5131944444444444,
          0.4930555555555556,
          0.5138888888888888,
          0.5138888888888888,
          0.5045138888888889,
          0.4965277777777778,
          0.5142361111111111,
          0.503125,
          0.5034722222222222,
          0.521875,
          0.509375,
          0.5010416666666667,
          0.5013888888888889,
          0.49409722222222224,
          0.5024305555555556,
          0.5045138888888889,
          0.5076388888888889,
          0.5107638888888889,
          0.5086805555555556,
          0.5069444444444444,
          0.49201388888888886,
          0.5100694444444445,
          0.5041666666666667,
          0.5083333333333333,
          0.5065972222222223,
          0.50625,
          0.496875,
          0.5107638888888889,
          0.5038194444444445,
          0.5055555555555555,
          0.5013888888888889,
          0.5027777777777778,
          0.503125,
          0.5065972222222223,
          0.4777777777777778,
          0.5079861111111111,
          0.5145833333333333,
          0.5055555555555555,
          0.5131944444444444,
          0.5239583333333333,
          0.5090277777777777,
          0.5038194444444445,
          0.4954861111111111,
          0.5024305555555556,
          0.5055555555555555,
          0.49583333333333335,
          0.48819444444444443,
          0.5038194444444445,
          0.5013888888888889,
          0.49409722222222224,
          0.49756944444444445,
          0.509375,
          0.5027777777777778,
          0.5010416666666667,
          0.515625,
          0.5114583333333333,
          0.5215277777777778,
          0.509375,
          0.5100694444444445,
          0.5003472222222223,
          0.5013888888888889,
          0.5052083333333334,
          0.5055555555555555,
          0.4822916666666667,
          0.5090277777777777,
          0.5034722222222222,
          0.4982638888888889,
          0.5138888888888888,
          0.5100694444444445,
          0.5041666666666667,
          0.5138888888888888,
          0.5204861111111111,
          0.5125,
          0.5076388888888889,
          0.5006944444444444
         ],
         "yaxis": "y2"
        },
        {
         "marker": {
          "color": [
           0,
           1,
           2,
           3,
           4,
           5,
           6,
           7,
           8,
           9,
           10,
           11,
           12,
           13,
           14,
           15,
           16,
           17,
           18,
           19,
           20,
           21,
           22,
           23,
           24,
           25,
           26,
           27,
           28,
           29,
           30,
           31,
           32,
           33,
           34,
           35,
           36,
           37,
           38,
           39,
           40,
           41,
           42,
           43,
           44,
           45,
           46,
           47,
           48,
           49,
           50,
           51,
           52,
           53,
           54,
           55,
           56,
           57,
           58,
           59,
           60,
           61,
           62,
           63,
           64,
           65,
           66,
           67,
           68,
           69,
           70,
           71,
           72,
           73,
           74,
           75,
           76,
           77,
           78,
           79,
           80,
           81,
           82,
           83,
           84,
           85,
           86,
           87,
           88,
           89,
           90,
           91,
           92,
           93,
           94,
           95,
           96,
           97,
           98,
           99
          ],
          "colorbar": {
           "title": {
            "text": "Trial"
           },
           "x": 1,
           "xpad": 40
          },
          "colorscale": [
           [
            0,
            "rgb(247,251,255)"
           ],
           [
            0.125,
            "rgb(222,235,247)"
           ],
           [
            0.25,
            "rgb(198,219,239)"
           ],
           [
            0.375,
            "rgb(158,202,225)"
           ],
           [
            0.5,
            "rgb(107,174,214)"
           ],
           [
            0.625,
            "rgb(66,146,198)"
           ],
           [
            0.75,
            "rgb(33,113,181)"
           ],
           [
            0.875,
            "rgb(8,81,156)"
           ],
           [
            1,
            "rgb(8,48,107)"
           ]
          ],
          "line": {
           "color": "Grey",
           "width": 0.5
          },
          "showscale": false
         },
         "mode": "markers",
         "name": "Feasible Trial",
         "showlegend": false,
         "type": "scatter",
         "x": [
          0.16381553414696418,
          0.12828841467704616,
          0.012873581281138557,
          0.22185929263550513,
          0.1808865028418688,
          0.11023538155276708,
          0.050408717859956945,
          0.27952909226411055,
          0.11302633802608993,
          0.04098524433971425,
          0.09043059273721196,
          0.05807899007188128,
          0.08517109302802063,
          0.09400710706090157,
          0.13542614965382396,
          0.19510766022663092,
          0.1369282175768972,
          0.22921456939317025,
          0.07471583528392714,
          0.1575391660802265,
          0.015866474044718082,
          0.10839814548865509,
          0.12878650676807063,
          0.08131079777808566,
          0.14107247319208868,
          0.10515625420014164,
          0.09977198581102106,
          0.0719739807759899,
          0.0707711182771712,
          0.031643234575583296,
          0.06935288501129638,
          0.06151330180927929,
          0.06145948057834075,
          0.03234965079234392,
          0.07350165663524394,
          0.048559276384738725,
          0.02570306176224918,
          0.12011673545657219,
          0.08569433369940219,
          0.17382846485610165,
          0.012976449828074554,
          0.07130648639538147,
          0.04809571759927219,
          0.06008849259483262,
          0.0855211517010297,
          0.06566545023118057,
          0.29865946356567685,
          0.04905833272249993,
          0.11852000729588083,
          0.09664646467068772,
          0.035912252242328246,
          0.07957106810230163,
          0.10799042225445019,
          0.1001379727663201,
          0.09041639421718549,
          0.054990878948800066,
          0.0749673645992156,
          0.145205134165461,
          0.24557438727023673,
          0.02345204092661335,
          0.042461762684528295,
          0.10930130546231799,
          0.12381041587664371,
          0.10320934179380503,
          0.06573112349097421,
          0.06959882906039354,
          0.05930506862814183,
          0.0806870817734065,
          0.08861607371197565,
          0.20122046526599718,
          0.06586921481858662,
          0.10912079283192501,
          0.0925789478645235,
          0.04063891774947359,
          0.07424897689153875,
          0.1506909714578979,
          0.054068770237484576,
          0.1267227644735442,
          0.13477393528423803,
          0.11768919313400507,
          0.11515919561175784,
          0.10357876692295076,
          0.07959670852087682,
          0.06433500018758279,
          0.0962101984376047,
          0.08578264068943936,
          0.11146953645727674,
          0.07483628640138573,
          0.10266494898428832,
          0.04411492364221956,
          0.05482431360613923,
          0.13232745486692604,
          0.10487981712868909,
          0.0938267587869687,
          0.11792511756334895,
          0.16142182173497718,
          0.08066565106575409,
          0.08169382080861645,
          0.06872773594696467,
          0.06039040188875827
         ],
         "xaxis": "x3",
         "y": [
          0.5010416666666667,
          0.4895833333333333,
          0.4986111111111111,
          0.48993055555555554,
          0.484375,
          0.5079861111111111,
          0.5045138888888889,
          0.5013888888888889,
          0.4986111111111111,
          0.4892361111111111,
          0.5041666666666667,
          0.5027777777777778,
          0.515625,
          0.496875,
          0.509375,
          0.5065972222222223,
          0.5020833333333333,
          0.5,
          0.5055555555555555,
          0.5069444444444444,
          0.5072916666666667,
          0.5125,
          0.5055555555555555,
          0.49409722222222224,
          0.5125,
          0.5131944444444444,
          0.4930555555555556,
          0.5138888888888888,
          0.5138888888888888,
          0.5045138888888889,
          0.4965277777777778,
          0.5142361111111111,
          0.503125,
          0.5034722222222222,
          0.521875,
          0.509375,
          0.5010416666666667,
          0.5013888888888889,
          0.49409722222222224,
          0.5024305555555556,
          0.5045138888888889,
          0.5076388888888889,
          0.5107638888888889,
          0.5086805555555556,
          0.5069444444444444,
          0.49201388888888886,
          0.5100694444444445,
          0.5041666666666667,
          0.5083333333333333,
          0.5065972222222223,
          0.50625,
          0.496875,
          0.5107638888888889,
          0.5038194444444445,
          0.5055555555555555,
          0.5013888888888889,
          0.5027777777777778,
          0.503125,
          0.5065972222222223,
          0.4777777777777778,
          0.5079861111111111,
          0.5145833333333333,
          0.5055555555555555,
          0.5131944444444444,
          0.5239583333333333,
          0.5090277777777777,
          0.5038194444444445,
          0.4954861111111111,
          0.5024305555555556,
          0.5055555555555555,
          0.49583333333333335,
          0.48819444444444443,
          0.5038194444444445,
          0.5013888888888889,
          0.49409722222222224,
          0.49756944444444445,
          0.509375,
          0.5027777777777778,
          0.5010416666666667,
          0.515625,
          0.5114583333333333,
          0.5215277777777778,
          0.509375,
          0.5100694444444445,
          0.5003472222222223,
          0.5013888888888889,
          0.5052083333333334,
          0.5055555555555555,
          0.4822916666666667,
          0.5090277777777777,
          0.5034722222222222,
          0.4982638888888889,
          0.5138888888888888,
          0.5100694444444445,
          0.5041666666666667,
          0.5138888888888888,
          0.5204861111111111,
          0.5125,
          0.5076388888888889,
          0.5006944444444444
         ],
         "yaxis": "y3"
        },
        {
         "marker": {
          "color": [
           0,
           1,
           2,
           3,
           4,
           5,
           6,
           7,
           8,
           9,
           10,
           11,
           12,
           13,
           14,
           15,
           16,
           17,
           18,
           19,
           20,
           21,
           22,
           23,
           24,
           25,
           26,
           27,
           28,
           29,
           30,
           31,
           32,
           33,
           34,
           35,
           36,
           37,
           38,
           39,
           40,
           41,
           42,
           43,
           44,
           45,
           46,
           47,
           48,
           49,
           50,
           51,
           52,
           53,
           54,
           55,
           56,
           57,
           58,
           59,
           60,
           61,
           62,
           63,
           64,
           65,
           66,
           67,
           68,
           69,
           70,
           71,
           72,
           73,
           74,
           75,
           76,
           77,
           78,
           79,
           80,
           81,
           82,
           83,
           84,
           85,
           86,
           87,
           88,
           89,
           90,
           91,
           92,
           93,
           94,
           95,
           96,
           97,
           98,
           99
          ],
          "colorbar": {
           "title": {
            "text": "Trial"
           },
           "x": 1,
           "xpad": 40
          },
          "colorscale": [
           [
            0,
            "rgb(247,251,255)"
           ],
           [
            0.125,
            "rgb(222,235,247)"
           ],
           [
            0.25,
            "rgb(198,219,239)"
           ],
           [
            0.375,
            "rgb(158,202,225)"
           ],
           [
            0.5,
            "rgb(107,174,214)"
           ],
           [
            0.625,
            "rgb(66,146,198)"
           ],
           [
            0.75,
            "rgb(33,113,181)"
           ],
           [
            0.875,
            "rgb(8,81,156)"
           ],
           [
            1,
            "rgb(8,48,107)"
           ]
          ],
          "line": {
           "color": "Grey",
           "width": 0.5
          },
          "showscale": false
         },
         "mode": "markers",
         "name": "Feasible Trial",
         "showlegend": false,
         "type": "scatter",
         "x": [
          3,
          10,
          7,
          7,
          6,
          6,
          4,
          3,
          6,
          6,
          9,
          4,
          5,
          5,
          8,
          8,
          8,
          8,
          10,
          5,
          9,
          5,
          5,
          4,
          7,
          5,
          5,
          4,
          4,
          3,
          4,
          3,
          3,
          3,
          4,
          4,
          3,
          4,
          3,
          4,
          6,
          4,
          3,
          4,
          5,
          4,
          3,
          4,
          6,
          3,
          5,
          5,
          4,
          5,
          6,
          5,
          4,
          5,
          7,
          4,
          3,
          5,
          6,
          5,
          5,
          4,
          6,
          5,
          4,
          7,
          3,
          5,
          6,
          5,
          4,
          4,
          5,
          3,
          6,
          4,
          3,
          4,
          4,
          4,
          4,
          10,
          4,
          3,
          4,
          9,
          5,
          5,
          5,
          4,
          5,
          4,
          3,
          3,
          3,
          3
         ],
         "xaxis": "x4",
         "y": [
          0.5010416666666667,
          0.4895833333333333,
          0.4986111111111111,
          0.48993055555555554,
          0.484375,
          0.5079861111111111,
          0.5045138888888889,
          0.5013888888888889,
          0.4986111111111111,
          0.4892361111111111,
          0.5041666666666667,
          0.5027777777777778,
          0.515625,
          0.496875,
          0.509375,
          0.5065972222222223,
          0.5020833333333333,
          0.5,
          0.5055555555555555,
          0.5069444444444444,
          0.5072916666666667,
          0.5125,
          0.5055555555555555,
          0.49409722222222224,
          0.5125,
          0.5131944444444444,
          0.4930555555555556,
          0.5138888888888888,
          0.5138888888888888,
          0.5045138888888889,
          0.4965277777777778,
          0.5142361111111111,
          0.503125,
          0.5034722222222222,
          0.521875,
          0.509375,
          0.5010416666666667,
          0.5013888888888889,
          0.49409722222222224,
          0.5024305555555556,
          0.5045138888888889,
          0.5076388888888889,
          0.5107638888888889,
          0.5086805555555556,
          0.5069444444444444,
          0.49201388888888886,
          0.5100694444444445,
          0.5041666666666667,
          0.5083333333333333,
          0.5065972222222223,
          0.50625,
          0.496875,
          0.5107638888888889,
          0.5038194444444445,
          0.5055555555555555,
          0.5013888888888889,
          0.5027777777777778,
          0.503125,
          0.5065972222222223,
          0.4777777777777778,
          0.5079861111111111,
          0.5145833333333333,
          0.5055555555555555,
          0.5131944444444444,
          0.5239583333333333,
          0.5090277777777777,
          0.5038194444444445,
          0.4954861111111111,
          0.5024305555555556,
          0.5055555555555555,
          0.49583333333333335,
          0.48819444444444443,
          0.5038194444444445,
          0.5013888888888889,
          0.49409722222222224,
          0.49756944444444445,
          0.509375,
          0.5027777777777778,
          0.5010416666666667,
          0.515625,
          0.5114583333333333,
          0.5215277777777778,
          0.509375,
          0.5100694444444445,
          0.5003472222222223,
          0.5013888888888889,
          0.5052083333333334,
          0.5055555555555555,
          0.4822916666666667,
          0.5090277777777777,
          0.5034722222222222,
          0.4982638888888889,
          0.5138888888888888,
          0.5100694444444445,
          0.5041666666666667,
          0.5138888888888888,
          0.5204861111111111,
          0.5125,
          0.5076388888888889,
          0.5006944444444444
         ],
         "yaxis": "y4"
        },
        {
         "marker": {
          "color": [
           0,
           1,
           2,
           3,
           4,
           5,
           6,
           7,
           8,
           9,
           10,
           11,
           12,
           13,
           14,
           15,
           16,
           17,
           18,
           19,
           20,
           21,
           22,
           23,
           24,
           25,
           26,
           27,
           28,
           29,
           30,
           31,
           32,
           33,
           34,
           35,
           36,
           37,
           38,
           39,
           40,
           41,
           42,
           43,
           44,
           45,
           46,
           47,
           48,
           49,
           50,
           51,
           52,
           53,
           54,
           55,
           56,
           57,
           58,
           59,
           60,
           61,
           62,
           63,
           64,
           65,
           66,
           67,
           68,
           69,
           70,
           71,
           72,
           73,
           74,
           75,
           76,
           77,
           78,
           79,
           80,
           81,
           82,
           83,
           84,
           85,
           86,
           87,
           88,
           89,
           90,
           91,
           92,
           93,
           94,
           95,
           96,
           97,
           98,
           99
          ],
          "colorbar": {
           "title": {
            "text": "Trial"
           },
           "x": 1,
           "xpad": 40
          },
          "colorscale": [
           [
            0,
            "rgb(247,251,255)"
           ],
           [
            0.125,
            "rgb(222,235,247)"
           ],
           [
            0.25,
            "rgb(198,219,239)"
           ],
           [
            0.375,
            "rgb(158,202,225)"
           ],
           [
            0.5,
            "rgb(107,174,214)"
           ],
           [
            0.625,
            "rgb(66,146,198)"
           ],
           [
            0.75,
            "rgb(33,113,181)"
           ],
           [
            0.875,
            "rgb(8,81,156)"
           ],
           [
            1,
            "rgb(8,48,107)"
           ]
          ],
          "line": {
           "color": "Grey",
           "width": 0.5
          },
          "showscale": false
         },
         "mode": "markers",
         "name": "Feasible Trial",
         "showlegend": false,
         "type": "scatter",
         "x": [
          9,
          6,
          3,
          8,
          2,
          6,
          8,
          2,
          9,
          5,
          5,
          7,
          10,
          10,
          10,
          10,
          10,
          8,
          4,
          9,
          1,
          7,
          7,
          7,
          9,
          9,
          8,
          7,
          9,
          9,
          6,
          9,
          10,
          8,
          10,
          10,
          9,
          8,
          10,
          7,
          8,
          9,
          9,
          10,
          4,
          9,
          6,
          8,
          10,
          9,
          10,
          9,
          8,
          9,
          10,
          9,
          6,
          10,
          7,
          8,
          5,
          7,
          7,
          4,
          3,
          2,
          3,
          6,
          1,
          5,
          3,
          9,
          10,
          7,
          10,
          9,
          8,
          5,
          10,
          8,
          7,
          8,
          8,
          8,
          7,
          8,
          9,
          7,
          9,
          6,
          8,
          9,
          9,
          8,
          10,
          9,
          8,
          8,
          7,
          8
         ],
         "xaxis": "x5",
         "y": [
          0.5010416666666667,
          0.4895833333333333,
          0.4986111111111111,
          0.48993055555555554,
          0.484375,
          0.5079861111111111,
          0.5045138888888889,
          0.5013888888888889,
          0.4986111111111111,
          0.4892361111111111,
          0.5041666666666667,
          0.5027777777777778,
          0.515625,
          0.496875,
          0.509375,
          0.5065972222222223,
          0.5020833333333333,
          0.5,
          0.5055555555555555,
          0.5069444444444444,
          0.5072916666666667,
          0.5125,
          0.5055555555555555,
          0.49409722222222224,
          0.5125,
          0.5131944444444444,
          0.4930555555555556,
          0.5138888888888888,
          0.5138888888888888,
          0.5045138888888889,
          0.4965277777777778,
          0.5142361111111111,
          0.503125,
          0.5034722222222222,
          0.521875,
          0.509375,
          0.5010416666666667,
          0.5013888888888889,
          0.49409722222222224,
          0.5024305555555556,
          0.5045138888888889,
          0.5076388888888889,
          0.5107638888888889,
          0.5086805555555556,
          0.5069444444444444,
          0.49201388888888886,
          0.5100694444444445,
          0.5041666666666667,
          0.5083333333333333,
          0.5065972222222223,
          0.50625,
          0.496875,
          0.5107638888888889,
          0.5038194444444445,
          0.5055555555555555,
          0.5013888888888889,
          0.5027777777777778,
          0.503125,
          0.5065972222222223,
          0.4777777777777778,
          0.5079861111111111,
          0.5145833333333333,
          0.5055555555555555,
          0.5131944444444444,
          0.5239583333333333,
          0.5090277777777777,
          0.5038194444444445,
          0.4954861111111111,
          0.5024305555555556,
          0.5055555555555555,
          0.49583333333333335,
          0.48819444444444443,
          0.5038194444444445,
          0.5013888888888889,
          0.49409722222222224,
          0.49756944444444445,
          0.509375,
          0.5027777777777778,
          0.5010416666666667,
          0.515625,
          0.5114583333333333,
          0.5215277777777778,
          0.509375,
          0.5100694444444445,
          0.5003472222222223,
          0.5013888888888889,
          0.5052083333333334,
          0.5055555555555555,
          0.4822916666666667,
          0.5090277777777777,
          0.5034722222222222,
          0.4982638888888889,
          0.5138888888888888,
          0.5100694444444445,
          0.5041666666666667,
          0.5138888888888888,
          0.5204861111111111,
          0.5125,
          0.5076388888888889,
          0.5006944444444444
         ],
         "yaxis": "y5"
        },
        {
         "marker": {
          "color": [
           0,
           1,
           2,
           3,
           4,
           5,
           6,
           7,
           8,
           9,
           10,
           11,
           12,
           13,
           14,
           15,
           16,
           17,
           18,
           19,
           20,
           21,
           22,
           23,
           24,
           25,
           26,
           27,
           28,
           29,
           30,
           31,
           32,
           33,
           34,
           35,
           36,
           37,
           38,
           39,
           40,
           41,
           42,
           43,
           44,
           45,
           46,
           47,
           48,
           49,
           50,
           51,
           52,
           53,
           54,
           55,
           56,
           57,
           58,
           59,
           60,
           61,
           62,
           63,
           64,
           65,
           66,
           67,
           68,
           69,
           70,
           71,
           72,
           73,
           74,
           75,
           76,
           77,
           78,
           79,
           80,
           81,
           82,
           83,
           84,
           85,
           86,
           87,
           88,
           89,
           90,
           91,
           92,
           93,
           94,
           95,
           96,
           97,
           98,
           99
          ],
          "colorbar": {
           "title": {
            "text": "Trial"
           },
           "x": 1,
           "xpad": 40
          },
          "colorscale": [
           [
            0,
            "rgb(247,251,255)"
           ],
           [
            0.125,
            "rgb(222,235,247)"
           ],
           [
            0.25,
            "rgb(198,219,239)"
           ],
           [
            0.375,
            "rgb(158,202,225)"
           ],
           [
            0.5,
            "rgb(107,174,214)"
           ],
           [
            0.625,
            "rgb(66,146,198)"
           ],
           [
            0.75,
            "rgb(33,113,181)"
           ],
           [
            0.875,
            "rgb(8,81,156)"
           ],
           [
            1,
            "rgb(8,48,107)"
           ]
          ],
          "line": {
           "color": "Grey",
           "width": 0.5
          },
          "showscale": false
         },
         "mode": "markers",
         "name": "Feasible Trial",
         "showlegend": false,
         "type": "scatter",
         "x": [
          850,
          275,
          225,
          950,
          925,
          475,
          950,
          625,
          100,
          425,
          625,
          725,
          450,
          450,
          450,
          325,
          575,
          725,
          350,
          175,
          525,
          425,
          375,
          525,
          400,
          300,
          275,
          150,
          100,
          100,
          175,
          175,
          175,
          200,
          250,
          250,
          225,
          150,
          275,
          325,
          225,
          125,
          100,
          125,
          225,
          150,
          900,
          1000,
          675,
          250,
          825,
          300,
          325,
          200,
          375,
          475,
          150,
          300,
          200,
          575,
          125,
          400,
          400,
          350,
          475,
          500,
          450,
          575,
          525,
          450,
          400,
          275,
          250,
          100,
          175,
          500,
          425,
          350,
          225,
          300,
          150,
          300,
          375,
          325,
          200,
          275,
          250,
          425,
          300,
          175,
          475,
          375,
          125,
          100,
          125,
          150,
          200,
          225,
          200,
          250
         ],
         "xaxis": "x6",
         "y": [
          0.5010416666666667,
          0.4895833333333333,
          0.4986111111111111,
          0.48993055555555554,
          0.484375,
          0.5079861111111111,
          0.5045138888888889,
          0.5013888888888889,
          0.4986111111111111,
          0.4892361111111111,
          0.5041666666666667,
          0.5027777777777778,
          0.515625,
          0.496875,
          0.509375,
          0.5065972222222223,
          0.5020833333333333,
          0.5,
          0.5055555555555555,
          0.5069444444444444,
          0.5072916666666667,
          0.5125,
          0.5055555555555555,
          0.49409722222222224,
          0.5125,
          0.5131944444444444,
          0.4930555555555556,
          0.5138888888888888,
          0.5138888888888888,
          0.5045138888888889,
          0.4965277777777778,
          0.5142361111111111,
          0.503125,
          0.5034722222222222,
          0.521875,
          0.509375,
          0.5010416666666667,
          0.5013888888888889,
          0.49409722222222224,
          0.5024305555555556,
          0.5045138888888889,
          0.5076388888888889,
          0.5107638888888889,
          0.5086805555555556,
          0.5069444444444444,
          0.49201388888888886,
          0.5100694444444445,
          0.5041666666666667,
          0.5083333333333333,
          0.5065972222222223,
          0.50625,
          0.496875,
          0.5107638888888889,
          0.5038194444444445,
          0.5055555555555555,
          0.5013888888888889,
          0.5027777777777778,
          0.503125,
          0.5065972222222223,
          0.4777777777777778,
          0.5079861111111111,
          0.5145833333333333,
          0.5055555555555555,
          0.5131944444444444,
          0.5239583333333333,
          0.5090277777777777,
          0.5038194444444445,
          0.4954861111111111,
          0.5024305555555556,
          0.5055555555555555,
          0.49583333333333335,
          0.48819444444444443,
          0.5038194444444445,
          0.5013888888888889,
          0.49409722222222224,
          0.49756944444444445,
          0.509375,
          0.5027777777777778,
          0.5010416666666667,
          0.515625,
          0.5114583333333333,
          0.5215277777777778,
          0.509375,
          0.5100694444444445,
          0.5003472222222223,
          0.5013888888888889,
          0.5052083333333334,
          0.5055555555555555,
          0.4822916666666667,
          0.5090277777777777,
          0.5034722222222222,
          0.4982638888888889,
          0.5138888888888888,
          0.5100694444444445,
          0.5041666666666667,
          0.5138888888888888,
          0.5204861111111111,
          0.5125,
          0.5076388888888889,
          0.5006944444444444
         ],
         "yaxis": "y6"
        },
        {
         "marker": {
          "color": [
           0,
           1,
           2,
           3,
           4,
           5,
           6,
           7,
           8,
           9,
           10,
           11,
           12,
           13,
           14,
           15,
           16,
           17,
           18,
           19,
           20,
           21,
           22,
           23,
           24,
           25,
           26,
           27,
           28,
           29,
           30,
           31,
           32,
           33,
           34,
           35,
           36,
           37,
           38,
           39,
           40,
           41,
           42,
           43,
           44,
           45,
           46,
           47,
           48,
           49,
           50,
           51,
           52,
           53,
           54,
           55,
           56,
           57,
           58,
           59,
           60,
           61,
           62,
           63,
           64,
           65,
           66,
           67,
           68,
           69,
           70,
           71,
           72,
           73,
           74,
           75,
           76,
           77,
           78,
           79,
           80,
           81,
           82,
           83,
           84,
           85,
           86,
           87,
           88,
           89,
           90,
           91,
           92,
           93,
           94,
           95,
           96,
           97,
           98,
           99
          ],
          "colorbar": {
           "title": {
            "text": "Trial"
           },
           "x": 1,
           "xpad": 40
          },
          "colorscale": [
           [
            0,
            "rgb(247,251,255)"
           ],
           [
            0.125,
            "rgb(222,235,247)"
           ],
           [
            0.25,
            "rgb(198,219,239)"
           ],
           [
            0.375,
            "rgb(158,202,225)"
           ],
           [
            0.5,
            "rgb(107,174,214)"
           ],
           [
            0.625,
            "rgb(66,146,198)"
           ],
           [
            0.75,
            "rgb(33,113,181)"
           ],
           [
            0.875,
            "rgb(8,81,156)"
           ],
           [
            1,
            "rgb(8,48,107)"
           ]
          ],
          "line": {
           "color": "Grey",
           "width": 0.5
          },
          "showscale": false
         },
         "mode": "markers",
         "name": "Feasible Trial",
         "showlegend": false,
         "type": "scatter",
         "x": [
          2,
          8,
          3,
          1,
          2,
          6,
          8,
          9,
          1,
          7,
          5,
          6,
          5,
          5,
          4,
          4,
          4,
          4,
          6,
          3,
          5,
          6,
          7,
          6,
          4,
          5,
          7,
          5,
          3,
          3,
          2,
          5,
          5,
          2,
          3,
          5,
          4,
          3,
          1,
          6,
          8,
          3,
          3,
          2,
          4,
          1,
          2,
          9,
          7,
          5,
          4,
          5,
          6,
          5,
          4,
          5,
          3,
          6,
          5,
          4,
          6,
          6,
          7,
          5,
          6,
          6,
          7,
          6,
          8,
          7,
          6,
          5,
          4,
          5,
          6,
          3,
          5,
          4,
          2,
          5,
          6,
          5,
          5,
          6,
          4,
          5,
          3,
          5,
          4,
          7,
          5,
          5,
          5,
          6,
          5,
          4,
          6,
          6,
          6,
          7
         ],
         "xaxis": "x7",
         "y": [
          0.5010416666666667,
          0.4895833333333333,
          0.4986111111111111,
          0.48993055555555554,
          0.484375,
          0.5079861111111111,
          0.5045138888888889,
          0.5013888888888889,
          0.4986111111111111,
          0.4892361111111111,
          0.5041666666666667,
          0.5027777777777778,
          0.515625,
          0.496875,
          0.509375,
          0.5065972222222223,
          0.5020833333333333,
          0.5,
          0.5055555555555555,
          0.5069444444444444,
          0.5072916666666667,
          0.5125,
          0.5055555555555555,
          0.49409722222222224,
          0.5125,
          0.5131944444444444,
          0.4930555555555556,
          0.5138888888888888,
          0.5138888888888888,
          0.5045138888888889,
          0.4965277777777778,
          0.5142361111111111,
          0.503125,
          0.5034722222222222,
          0.521875,
          0.509375,
          0.5010416666666667,
          0.5013888888888889,
          0.49409722222222224,
          0.5024305555555556,
          0.5045138888888889,
          0.5076388888888889,
          0.5107638888888889,
          0.5086805555555556,
          0.5069444444444444,
          0.49201388888888886,
          0.5100694444444445,
          0.5041666666666667,
          0.5083333333333333,
          0.5065972222222223,
          0.50625,
          0.496875,
          0.5107638888888889,
          0.5038194444444445,
          0.5055555555555555,
          0.5013888888888889,
          0.5027777777777778,
          0.503125,
          0.5065972222222223,
          0.4777777777777778,
          0.5079861111111111,
          0.5145833333333333,
          0.5055555555555555,
          0.5131944444444444,
          0.5239583333333333,
          0.5090277777777777,
          0.5038194444444445,
          0.4954861111111111,
          0.5024305555555556,
          0.5055555555555555,
          0.49583333333333335,
          0.48819444444444443,
          0.5038194444444445,
          0.5013888888888889,
          0.49409722222222224,
          0.49756944444444445,
          0.509375,
          0.5027777777777778,
          0.5010416666666667,
          0.515625,
          0.5114583333333333,
          0.5215277777777778,
          0.509375,
          0.5100694444444445,
          0.5003472222222223,
          0.5013888888888889,
          0.5052083333333334,
          0.5055555555555555,
          0.4822916666666667,
          0.5090277777777777,
          0.5034722222222222,
          0.4982638888888889,
          0.5138888888888888,
          0.5100694444444445,
          0.5041666666666667,
          0.5138888888888888,
          0.5204861111111111,
          0.5125,
          0.5076388888888889,
          0.5006944444444444
         ],
         "yaxis": "y7"
        },
        {
         "marker": {
          "color": [
           0,
           1,
           2,
           3,
           4,
           5,
           6,
           7,
           8,
           9,
           10,
           11,
           12,
           13,
           14,
           15,
           16,
           17,
           18,
           19,
           20,
           21,
           22,
           23,
           24,
           25,
           26,
           27,
           28,
           29,
           30,
           31,
           32,
           33,
           34,
           35,
           36,
           37,
           38,
           39,
           40,
           41,
           42,
           43,
           44,
           45,
           46,
           47,
           48,
           49,
           50,
           51,
           52,
           53,
           54,
           55,
           56,
           57,
           58,
           59,
           60,
           61,
           62,
           63,
           64,
           65,
           66,
           67,
           68,
           69,
           70,
           71,
           72,
           73,
           74,
           75,
           76,
           77,
           78,
           79,
           80,
           81,
           82,
           83,
           84,
           85,
           86,
           87,
           88,
           89,
           90,
           91,
           92,
           93,
           94,
           95,
           96,
           97,
           98,
           99
          ],
          "colorbar": {
           "title": {
            "text": "Trial"
           },
           "x": 1,
           "xpad": 40
          },
          "colorscale": [
           [
            0,
            "rgb(247,251,255)"
           ],
           [
            0.125,
            "rgb(222,235,247)"
           ],
           [
            0.25,
            "rgb(198,219,239)"
           ],
           [
            0.375,
            "rgb(158,202,225)"
           ],
           [
            0.5,
            "rgb(107,174,214)"
           ],
           [
            0.625,
            "rgb(66,146,198)"
           ],
           [
            0.75,
            "rgb(33,113,181)"
           ],
           [
            0.875,
            "rgb(8,81,156)"
           ],
           [
            1,
            "rgb(8,48,107)"
           ]
          ],
          "line": {
           "color": "Grey",
           "width": 0.5
          },
          "showscale": false
         },
         "mode": "markers",
         "name": "Feasible Trial",
         "showlegend": false,
         "type": "scatter",
         "x": [
          0.500745775238304,
          0.990500097833556,
          0.5418287527181729,
          0.9126962312877088,
          0.9804992248182063,
          0.5821751675509483,
          0.9838923143789651,
          0.869167680927639,
          0.9122755318818592,
          0.7687285853252248,
          0.6356329474573763,
          0.688174651148324,
          0.7920331693784277,
          0.7759687707442696,
          0.6080168123274212,
          0.686850841998336,
          0.8303640667189494,
          0.7016153793566247,
          0.6093037387809433,
          0.8041155912130526,
          0.6415887427979888,
          0.5666246055614294,
          0.5525458517479734,
          0.7238015777119393,
          0.6512865894771804,
          0.6635760118585833,
          0.7420007345367191,
          0.5238891155566623,
          0.5056426165600917,
          0.5166900863091595,
          0.5031688397450995,
          0.5280897437685128,
          0.536374697963228,
          0.5958154663341185,
          0.5034807232290209,
          0.5495057373470968,
          0.5242505817757687,
          0.5754556282710814,
          0.8474300217581532,
          0.9056652739517619,
          0.7959090536766991,
          0.5195608474019827,
          0.5487284808541146,
          0.506541417473193,
          0.5010816108260524,
          0.5656101284180994,
          0.6221891532584923,
          0.5892100591971569,
          0.5419850421624124,
          0.5384460955321064,
          0.9481756224077158,
          0.6532020064617078,
          0.7382784488919292,
          0.5265329515423909,
          0.7822853754638134,
          0.6794065627154391,
          0.828532105886923,
          0.5602992606347252,
          0.7558055306738402,
          0.5843767768149039,
          0.5272548808844959,
          0.5677472133458771,
          0.5002883914607135,
          0.6097290473900081,
          0.7092188509117748,
          0.8741137168572551,
          0.7165868256711598,
          0.5695126354520018,
          0.5180737948448466,
          0.8215133150236795,
          0.6276449915595317,
          0.6609629331408595,
          0.7598310089338182,
          0.7274729659646569,
          0.7054169782762543,
          0.679898840722572,
          0.5315193123538041,
          0.5570038041137962,
          0.5113167421995332,
          0.6055898883809497,
          0.5984449127539138,
          0.5448798443131728,
          0.5456595551545524,
          0.5780824811523442,
          0.5360723248876001,
          0.5154702529819704,
          0.5650178298741794,
          0.5504399103981541,
          0.8016413302186477,
          0.78145266596203,
          0.6010719597953285,
          0.6630847174261822,
          0.6169944772341044,
          0.6197128373499211,
          0.574968099404608,
          0.5881757271338951,
          0.5285664703678903,
          0.528099320736802,
          0.5099043370188685,
          0.5415200517314215
         ],
         "xaxis": "x8",
         "y": [
          0.5010416666666667,
          0.4895833333333333,
          0.4986111111111111,
          0.48993055555555554,
          0.484375,
          0.5079861111111111,
          0.5045138888888889,
          0.5013888888888889,
          0.4986111111111111,
          0.4892361111111111,
          0.5041666666666667,
          0.5027777777777778,
          0.515625,
          0.496875,
          0.509375,
          0.5065972222222223,
          0.5020833333333333,
          0.5,
          0.5055555555555555,
          0.5069444444444444,
          0.5072916666666667,
          0.5125,
          0.5055555555555555,
          0.49409722222222224,
          0.5125,
          0.5131944444444444,
          0.4930555555555556,
          0.5138888888888888,
          0.5138888888888888,
          0.5045138888888889,
          0.4965277777777778,
          0.5142361111111111,
          0.503125,
          0.5034722222222222,
          0.521875,
          0.509375,
          0.5010416666666667,
          0.5013888888888889,
          0.49409722222222224,
          0.5024305555555556,
          0.5045138888888889,
          0.5076388888888889,
          0.5107638888888889,
          0.5086805555555556,
          0.5069444444444444,
          0.49201388888888886,
          0.5100694444444445,
          0.5041666666666667,
          0.5083333333333333,
          0.5065972222222223,
          0.50625,
          0.496875,
          0.5107638888888889,
          0.5038194444444445,
          0.5055555555555555,
          0.5013888888888889,
          0.5027777777777778,
          0.503125,
          0.5065972222222223,
          0.4777777777777778,
          0.5079861111111111,
          0.5145833333333333,
          0.5055555555555555,
          0.5131944444444444,
          0.5239583333333333,
          0.5090277777777777,
          0.5038194444444445,
          0.4954861111111111,
          0.5024305555555556,
          0.5055555555555555,
          0.49583333333333335,
          0.48819444444444443,
          0.5038194444444445,
          0.5013888888888889,
          0.49409722222222224,
          0.49756944444444445,
          0.509375,
          0.5027777777777778,
          0.5010416666666667,
          0.515625,
          0.5114583333333333,
          0.5215277777777778,
          0.509375,
          0.5100694444444445,
          0.5003472222222223,
          0.5013888888888889,
          0.5052083333333334,
          0.5055555555555555,
          0.4822916666666667,
          0.5090277777777777,
          0.5034722222222222,
          0.4982638888888889,
          0.5138888888888888,
          0.5100694444444445,
          0.5041666666666667,
          0.5138888888888888,
          0.5204861111111111,
          0.5125,
          0.5076388888888889,
          0.5006944444444444
         ],
         "yaxis": "y8"
        },
        {
         "marker": {
          "color": [
           0,
           1,
           2,
           3,
           4,
           5,
           6,
           7,
           8,
           9,
           10,
           11,
           12,
           13,
           14,
           15,
           16,
           17,
           18,
           19,
           20,
           21,
           22,
           23,
           24,
           25,
           26,
           27,
           28,
           29,
           30,
           31,
           32,
           33,
           34,
           35,
           36,
           37,
           38,
           39,
           40,
           41,
           42,
           43,
           44,
           45,
           46,
           47,
           48,
           49,
           50,
           51,
           52,
           53,
           54,
           55,
           56,
           57,
           58,
           59,
           60,
           61,
           62,
           63,
           64,
           65,
           66,
           67,
           68,
           69,
           70,
           71,
           72,
           73,
           74,
           75,
           76,
           77,
           78,
           79,
           80,
           81,
           82,
           83,
           84,
           85,
           86,
           87,
           88,
           89,
           90,
           91,
           92,
           93,
           94,
           95,
           96,
           97,
           98,
           99
          ],
          "colorbar": {
           "title": {
            "text": "Trial"
           },
           "x": 1,
           "xpad": 40
          },
          "colorscale": [
           [
            0,
            "rgb(247,251,255)"
           ],
           [
            0.125,
            "rgb(222,235,247)"
           ],
           [
            0.25,
            "rgb(198,219,239)"
           ],
           [
            0.375,
            "rgb(158,202,225)"
           ],
           [
            0.5,
            "rgb(107,174,214)"
           ],
           [
            0.625,
            "rgb(66,146,198)"
           ],
           [
            0.75,
            "rgb(33,113,181)"
           ],
           [
            0.875,
            "rgb(8,81,156)"
           ],
           [
            1,
            "rgb(8,48,107)"
           ]
          ],
          "line": {
           "color": "Grey",
           "width": 0.5
          },
          "showscale": false
         },
         "mode": "markers",
         "name": "Feasible Trial",
         "showlegend": false,
         "type": "scatter",
         "x": [
          "False",
          "False",
          "False",
          "False",
          "True",
          "False",
          "False",
          "True",
          "False",
          "True",
          "True",
          "False",
          "False",
          "False",
          "False",
          "False",
          "False",
          "False",
          "True",
          "False",
          "False",
          "False",
          "False",
          "False",
          "False",
          "False",
          "True",
          "False",
          "False",
          "False",
          "False",
          "False",
          "False",
          "False",
          "False",
          "False",
          "False",
          "False",
          "True",
          "False",
          "False",
          "False",
          "False",
          "False",
          "False",
          "True",
          "False",
          "False",
          "False",
          "True",
          "False",
          "False",
          "False",
          "False",
          "False",
          "False",
          "False",
          "False",
          "False",
          "True",
          "False",
          "False",
          "False",
          "False",
          "False",
          "False",
          "False",
          "False",
          "False",
          "False",
          "False",
          "False",
          "False",
          "False",
          "False",
          "False",
          "True",
          "False",
          "False",
          "False",
          "False",
          "False",
          "False",
          "False",
          "False",
          "False",
          "False",
          "False",
          "True",
          "False",
          "False",
          "False",
          "False",
          "False",
          "False",
          "False",
          "False",
          "False",
          "False",
          "False"
         ],
         "xaxis": "x9",
         "y": [
          0.5010416666666667,
          0.4895833333333333,
          0.4986111111111111,
          0.48993055555555554,
          0.484375,
          0.5079861111111111,
          0.5045138888888889,
          0.5013888888888889,
          0.4986111111111111,
          0.4892361111111111,
          0.5041666666666667,
          0.5027777777777778,
          0.515625,
          0.496875,
          0.509375,
          0.5065972222222223,
          0.5020833333333333,
          0.5,
          0.5055555555555555,
          0.5069444444444444,
          0.5072916666666667,
          0.5125,
          0.5055555555555555,
          0.49409722222222224,
          0.5125,
          0.5131944444444444,
          0.4930555555555556,
          0.5138888888888888,
          0.5138888888888888,
          0.5045138888888889,
          0.4965277777777778,
          0.5142361111111111,
          0.503125,
          0.5034722222222222,
          0.521875,
          0.509375,
          0.5010416666666667,
          0.5013888888888889,
          0.49409722222222224,
          0.5024305555555556,
          0.5045138888888889,
          0.5076388888888889,
          0.5107638888888889,
          0.5086805555555556,
          0.5069444444444444,
          0.49201388888888886,
          0.5100694444444445,
          0.5041666666666667,
          0.5083333333333333,
          0.5065972222222223,
          0.50625,
          0.496875,
          0.5107638888888889,
          0.5038194444444445,
          0.5055555555555555,
          0.5013888888888889,
          0.5027777777777778,
          0.503125,
          0.5065972222222223,
          0.4777777777777778,
          0.5079861111111111,
          0.5145833333333333,
          0.5055555555555555,
          0.5131944444444444,
          0.5239583333333333,
          0.5090277777777777,
          0.5038194444444445,
          0.4954861111111111,
          0.5024305555555556,
          0.5055555555555555,
          0.49583333333333335,
          0.48819444444444443,
          0.5038194444444445,
          0.5013888888888889,
          0.49409722222222224,
          0.49756944444444445,
          0.509375,
          0.5027777777777778,
          0.5010416666666667,
          0.515625,
          0.5114583333333333,
          0.5215277777777778,
          0.509375,
          0.5100694444444445,
          0.5003472222222223,
          0.5013888888888889,
          0.5052083333333334,
          0.5055555555555555,
          0.4822916666666667,
          0.5090277777777777,
          0.5034722222222222,
          0.4982638888888889,
          0.5138888888888888,
          0.5100694444444445,
          0.5041666666666667,
          0.5138888888888888,
          0.5204861111111111,
          0.5125,
          0.5076388888888889,
          0.5006944444444444
         ],
         "yaxis": "y9"
        }
       ],
       "layout": {
        "template": {
         "data": {
          "bar": [
           {
            "error_x": {
             "color": "#2a3f5f"
            },
            "error_y": {
             "color": "#2a3f5f"
            },
            "marker": {
             "line": {
              "color": "#E5ECF6",
              "width": 0.5
             },
             "pattern": {
              "fillmode": "overlay",
              "size": 10,
              "solidity": 0.2
             }
            },
            "type": "bar"
           }
          ],
          "barpolar": [
           {
            "marker": {
             "line": {
              "color": "#E5ECF6",
              "width": 0.5
             },
             "pattern": {
              "fillmode": "overlay",
              "size": 10,
              "solidity": 0.2
             }
            },
            "type": "barpolar"
           }
          ],
          "carpet": [
           {
            "aaxis": {
             "endlinecolor": "#2a3f5f",
             "gridcolor": "white",
             "linecolor": "white",
             "minorgridcolor": "white",
             "startlinecolor": "#2a3f5f"
            },
            "baxis": {
             "endlinecolor": "#2a3f5f",
             "gridcolor": "white",
             "linecolor": "white",
             "minorgridcolor": "white",
             "startlinecolor": "#2a3f5f"
            },
            "type": "carpet"
           }
          ],
          "choropleth": [
           {
            "colorbar": {
             "outlinewidth": 0,
             "ticks": ""
            },
            "type": "choropleth"
           }
          ],
          "contour": [
           {
            "colorbar": {
             "outlinewidth": 0,
             "ticks": ""
            },
            "colorscale": [
             [
              0,
              "#0d0887"
             ],
             [
              0.1111111111111111,
              "#46039f"
             ],
             [
              0.2222222222222222,
              "#7201a8"
             ],
             [
              0.3333333333333333,
              "#9c179e"
             ],
             [
              0.4444444444444444,
              "#bd3786"
             ],
             [
              0.5555555555555556,
              "#d8576b"
             ],
             [
              0.6666666666666666,
              "#ed7953"
             ],
             [
              0.7777777777777778,
              "#fb9f3a"
             ],
             [
              0.8888888888888888,
              "#fdca26"
             ],
             [
              1,
              "#f0f921"
             ]
            ],
            "type": "contour"
           }
          ],
          "contourcarpet": [
           {
            "colorbar": {
             "outlinewidth": 0,
             "ticks": ""
            },
            "type": "contourcarpet"
           }
          ],
          "heatmap": [
           {
            "colorbar": {
             "outlinewidth": 0,
             "ticks": ""
            },
            "colorscale": [
             [
              0,
              "#0d0887"
             ],
             [
              0.1111111111111111,
              "#46039f"
             ],
             [
              0.2222222222222222,
              "#7201a8"
             ],
             [
              0.3333333333333333,
              "#9c179e"
             ],
             [
              0.4444444444444444,
              "#bd3786"
             ],
             [
              0.5555555555555556,
              "#d8576b"
             ],
             [
              0.6666666666666666,
              "#ed7953"
             ],
             [
              0.7777777777777778,
              "#fb9f3a"
             ],
             [
              0.8888888888888888,
              "#fdca26"
             ],
             [
              1,
              "#f0f921"
             ]
            ],
            "type": "heatmap"
           }
          ],
          "heatmapgl": [
           {
            "colorbar": {
             "outlinewidth": 0,
             "ticks": ""
            },
            "colorscale": [
             [
              0,
              "#0d0887"
             ],
             [
              0.1111111111111111,
              "#46039f"
             ],
             [
              0.2222222222222222,
              "#7201a8"
             ],
             [
              0.3333333333333333,
              "#9c179e"
             ],
             [
              0.4444444444444444,
              "#bd3786"
             ],
             [
              0.5555555555555556,
              "#d8576b"
             ],
             [
              0.6666666666666666,
              "#ed7953"
             ],
             [
              0.7777777777777778,
              "#fb9f3a"
             ],
             [
              0.8888888888888888,
              "#fdca26"
             ],
             [
              1,
              "#f0f921"
             ]
            ],
            "type": "heatmapgl"
           }
          ],
          "histogram": [
           {
            "marker": {
             "pattern": {
              "fillmode": "overlay",
              "size": 10,
              "solidity": 0.2
             }
            },
            "type": "histogram"
           }
          ],
          "histogram2d": [
           {
            "colorbar": {
             "outlinewidth": 0,
             "ticks": ""
            },
            "colorscale": [
             [
              0,
              "#0d0887"
             ],
             [
              0.1111111111111111,
              "#46039f"
             ],
             [
              0.2222222222222222,
              "#7201a8"
             ],
             [
              0.3333333333333333,
              "#9c179e"
             ],
             [
              0.4444444444444444,
              "#bd3786"
             ],
             [
              0.5555555555555556,
              "#d8576b"
             ],
             [
              0.6666666666666666,
              "#ed7953"
             ],
             [
              0.7777777777777778,
              "#fb9f3a"
             ],
             [
              0.8888888888888888,
              "#fdca26"
             ],
             [
              1,
              "#f0f921"
             ]
            ],
            "type": "histogram2d"
           }
          ],
          "histogram2dcontour": [
           {
            "colorbar": {
             "outlinewidth": 0,
             "ticks": ""
            },
            "colorscale": [
             [
              0,
              "#0d0887"
             ],
             [
              0.1111111111111111,
              "#46039f"
             ],
             [
              0.2222222222222222,
              "#7201a8"
             ],
             [
              0.3333333333333333,
              "#9c179e"
             ],
             [
              0.4444444444444444,
              "#bd3786"
             ],
             [
              0.5555555555555556,
              "#d8576b"
             ],
             [
              0.6666666666666666,
              "#ed7953"
             ],
             [
              0.7777777777777778,
              "#fb9f3a"
             ],
             [
              0.8888888888888888,
              "#fdca26"
             ],
             [
              1,
              "#f0f921"
             ]
            ],
            "type": "histogram2dcontour"
           }
          ],
          "mesh3d": [
           {
            "colorbar": {
             "outlinewidth": 0,
             "ticks": ""
            },
            "type": "mesh3d"
           }
          ],
          "parcoords": [
           {
            "line": {
             "colorbar": {
              "outlinewidth": 0,
              "ticks": ""
             }
            },
            "type": "parcoords"
           }
          ],
          "pie": [
           {
            "automargin": true,
            "type": "pie"
           }
          ],
          "scatter": [
           {
            "fillpattern": {
             "fillmode": "overlay",
             "size": 10,
             "solidity": 0.2
            },
            "type": "scatter"
           }
          ],
          "scatter3d": [
           {
            "line": {
             "colorbar": {
              "outlinewidth": 0,
              "ticks": ""
             }
            },
            "marker": {
             "colorbar": {
              "outlinewidth": 0,
              "ticks": ""
             }
            },
            "type": "scatter3d"
           }
          ],
          "scattercarpet": [
           {
            "marker": {
             "colorbar": {
              "outlinewidth": 0,
              "ticks": ""
             }
            },
            "type": "scattercarpet"
           }
          ],
          "scattergeo": [
           {
            "marker": {
             "colorbar": {
              "outlinewidth": 0,
              "ticks": ""
             }
            },
            "type": "scattergeo"
           }
          ],
          "scattergl": [
           {
            "marker": {
             "colorbar": {
              "outlinewidth": 0,
              "ticks": ""
             }
            },
            "type": "scattergl"
           }
          ],
          "scattermapbox": [
           {
            "marker": {
             "colorbar": {
              "outlinewidth": 0,
              "ticks": ""
             }
            },
            "type": "scattermapbox"
           }
          ],
          "scatterpolar": [
           {
            "marker": {
             "colorbar": {
              "outlinewidth": 0,
              "ticks": ""
             }
            },
            "type": "scatterpolar"
           }
          ],
          "scatterpolargl": [
           {
            "marker": {
             "colorbar": {
              "outlinewidth": 0,
              "ticks": ""
             }
            },
            "type": "scatterpolargl"
           }
          ],
          "scatterternary": [
           {
            "marker": {
             "colorbar": {
              "outlinewidth": 0,
              "ticks": ""
             }
            },
            "type": "scatterternary"
           }
          ],
          "surface": [
           {
            "colorbar": {
             "outlinewidth": 0,
             "ticks": ""
            },
            "colorscale": [
             [
              0,
              "#0d0887"
             ],
             [
              0.1111111111111111,
              "#46039f"
             ],
             [
              0.2222222222222222,
              "#7201a8"
             ],
             [
              0.3333333333333333,
              "#9c179e"
             ],
             [
              0.4444444444444444,
              "#bd3786"
             ],
             [
              0.5555555555555556,
              "#d8576b"
             ],
             [
              0.6666666666666666,
              "#ed7953"
             ],
             [
              0.7777777777777778,
              "#fb9f3a"
             ],
             [
              0.8888888888888888,
              "#fdca26"
             ],
             [
              1,
              "#f0f921"
             ]
            ],
            "type": "surface"
           }
          ],
          "table": [
           {
            "cells": {
             "fill": {
              "color": "#EBF0F8"
             },
             "line": {
              "color": "white"
             }
            },
            "header": {
             "fill": {
              "color": "#C8D4E3"
             },
             "line": {
              "color": "white"
             }
            },
            "type": "table"
           }
          ]
         },
         "layout": {
          "annotationdefaults": {
           "arrowcolor": "#2a3f5f",
           "arrowhead": 0,
           "arrowwidth": 1
          },
          "autotypenumbers": "strict",
          "coloraxis": {
           "colorbar": {
            "outlinewidth": 0,
            "ticks": ""
           }
          },
          "colorscale": {
           "diverging": [
            [
             0,
             "#8e0152"
            ],
            [
             0.1,
             "#c51b7d"
            ],
            [
             0.2,
             "#de77ae"
            ],
            [
             0.3,
             "#f1b6da"
            ],
            [
             0.4,
             "#fde0ef"
            ],
            [
             0.5,
             "#f7f7f7"
            ],
            [
             0.6,
             "#e6f5d0"
            ],
            [
             0.7,
             "#b8e186"
            ],
            [
             0.8,
             "#7fbc41"
            ],
            [
             0.9,
             "#4d9221"
            ],
            [
             1,
             "#276419"
            ]
           ],
           "sequential": [
            [
             0,
             "#0d0887"
            ],
            [
             0.1111111111111111,
             "#46039f"
            ],
            [
             0.2222222222222222,
             "#7201a8"
            ],
            [
             0.3333333333333333,
             "#9c179e"
            ],
            [
             0.4444444444444444,
             "#bd3786"
            ],
            [
             0.5555555555555556,
             "#d8576b"
            ],
            [
             0.6666666666666666,
             "#ed7953"
            ],
            [
             0.7777777777777778,
             "#fb9f3a"
            ],
            [
             0.8888888888888888,
             "#fdca26"
            ],
            [
             1,
             "#f0f921"
            ]
           ],
           "sequentialminus": [
            [
             0,
             "#0d0887"
            ],
            [
             0.1111111111111111,
             "#46039f"
            ],
            [
             0.2222222222222222,
             "#7201a8"
            ],
            [
             0.3333333333333333,
             "#9c179e"
            ],
            [
             0.4444444444444444,
             "#bd3786"
            ],
            [
             0.5555555555555556,
             "#d8576b"
            ],
            [
             0.6666666666666666,
             "#ed7953"
            ],
            [
             0.7777777777777778,
             "#fb9f3a"
            ],
            [
             0.8888888888888888,
             "#fdca26"
            ],
            [
             1,
             "#f0f921"
            ]
           ]
          },
          "colorway": [
           "#636efa",
           "#EF553B",
           "#00cc96",
           "#ab63fa",
           "#FFA15A",
           "#19d3f3",
           "#FF6692",
           "#B6E880",
           "#FF97FF",
           "#FECB52"
          ],
          "font": {
           "color": "#2a3f5f"
          },
          "geo": {
           "bgcolor": "white",
           "lakecolor": "white",
           "landcolor": "#E5ECF6",
           "showlakes": true,
           "showland": true,
           "subunitcolor": "white"
          },
          "hoverlabel": {
           "align": "left"
          },
          "hovermode": "closest",
          "mapbox": {
           "style": "light"
          },
          "paper_bgcolor": "white",
          "plot_bgcolor": "#E5ECF6",
          "polar": {
           "angularaxis": {
            "gridcolor": "white",
            "linecolor": "white",
            "ticks": ""
           },
           "bgcolor": "#E5ECF6",
           "radialaxis": {
            "gridcolor": "white",
            "linecolor": "white",
            "ticks": ""
           }
          },
          "scene": {
           "xaxis": {
            "backgroundcolor": "#E5ECF6",
            "gridcolor": "white",
            "gridwidth": 2,
            "linecolor": "white",
            "showbackground": true,
            "ticks": "",
            "zerolinecolor": "white"
           },
           "yaxis": {
            "backgroundcolor": "#E5ECF6",
            "gridcolor": "white",
            "gridwidth": 2,
            "linecolor": "white",
            "showbackground": true,
            "ticks": "",
            "zerolinecolor": "white"
           },
           "zaxis": {
            "backgroundcolor": "#E5ECF6",
            "gridcolor": "white",
            "gridwidth": 2,
            "linecolor": "white",
            "showbackground": true,
            "ticks": "",
            "zerolinecolor": "white"
           }
          },
          "shapedefaults": {
           "line": {
            "color": "#2a3f5f"
           }
          },
          "ternary": {
           "aaxis": {
            "gridcolor": "white",
            "linecolor": "white",
            "ticks": ""
           },
           "baxis": {
            "gridcolor": "white",
            "linecolor": "white",
            "ticks": ""
           },
           "bgcolor": "#E5ECF6",
           "caxis": {
            "gridcolor": "white",
            "linecolor": "white",
            "ticks": ""
           }
          },
          "title": {
           "x": 0.05
          },
          "xaxis": {
           "automargin": true,
           "gridcolor": "white",
           "linecolor": "white",
           "ticks": "",
           "title": {
            "standoff": 15
           },
           "zerolinecolor": "white",
           "zerolinewidth": 2
          },
          "yaxis": {
           "automargin": true,
           "gridcolor": "white",
           "linecolor": "white",
           "ticks": "",
           "title": {
            "standoff": 15
           },
           "zerolinecolor": "white",
           "zerolinewidth": 2
          }
         }
        },
        "title": {
         "text": "Slice Plot"
        },
        "width": 2700,
        "xaxis": {
         "anchor": "y",
         "domain": [
          0,
          0.09135802469135802
         ],
         "title": {
          "text": "colsample_bytree"
         }
        },
        "xaxis2": {
         "anchor": "y2",
         "domain": [
          0.11358024691358025,
          0.20493827160493827
         ],
         "title": {
          "text": "gamma"
         }
        },
        "xaxis3": {
         "anchor": "y3",
         "domain": [
          0.2271604938271605,
          0.31851851851851853
         ],
         "title": {
          "text": "learning_rate"
         }
        },
        "xaxis4": {
         "anchor": "y4",
         "domain": [
          0.34074074074074073,
          0.43209876543209874
         ],
         "title": {
          "text": "max_depth"
         }
        },
        "xaxis5": {
         "anchor": "y5",
         "domain": [
          0.454320987654321,
          0.5456790123456791
         ],
         "title": {
          "text": "min_child_weight"
         }
        },
        "xaxis6": {
         "anchor": "y6",
         "domain": [
          0.5679012345679012,
          0.6592592592592592
         ],
         "title": {
          "text": "n_estimators"
         }
        },
        "xaxis7": {
         "anchor": "y7",
         "domain": [
          0.6814814814814815,
          0.7728395061728395
         ],
         "title": {
          "text": "n_pca_components"
         }
        },
        "xaxis8": {
         "anchor": "y8",
         "domain": [
          0.7950617283950617,
          0.8864197530864197
         ],
         "title": {
          "text": "subsample"
         }
        },
        "xaxis9": {
         "anchor": "y9",
         "categoryarray": [
          "True",
          "False"
         ],
         "categoryorder": "array",
         "domain": [
          0.908641975308642,
          1
         ],
         "title": {
          "text": "use_pca"
         },
         "type": "category"
        },
        "yaxis": {
         "anchor": "x",
         "domain": [
          0,
          1
         ],
         "title": {
          "text": "Objective Value"
         }
        },
        "yaxis2": {
         "anchor": "x2",
         "domain": [
          0,
          1
         ],
         "matches": "y",
         "showticklabels": false
        },
        "yaxis3": {
         "anchor": "x3",
         "domain": [
          0,
          1
         ],
         "matches": "y",
         "showticklabels": false
        },
        "yaxis4": {
         "anchor": "x4",
         "domain": [
          0,
          1
         ],
         "matches": "y",
         "showticklabels": false
        },
        "yaxis5": {
         "anchor": "x5",
         "domain": [
          0,
          1
         ],
         "matches": "y",
         "showticklabels": false
        },
        "yaxis6": {
         "anchor": "x6",
         "domain": [
          0,
          1
         ],
         "matches": "y",
         "showticklabels": false
        },
        "yaxis7": {
         "anchor": "x7",
         "domain": [
          0,
          1
         ],
         "matches": "y",
         "showticklabels": false
        },
        "yaxis8": {
         "anchor": "x8",
         "domain": [
          0,
          1
         ],
         "matches": "y",
         "showticklabels": false
        },
        "yaxis9": {
         "anchor": "x9",
         "domain": [
          0,
          1
         ],
         "matches": "y",
         "showticklabels": false
        }
       }
      }
     },
     "metadata": {},
     "output_type": "display_data"
    }
   ],
   "source": [
    "import numpy as np\n",
    "from sklearn.model_selection import train_test_split\n",
    "from sklearn.preprocessing import StandardScaler\n",
    "from sklearn.metrics import accuracy_score\n",
    "from sklearn.decomposition import PCA\n",
    "import xgboost as xgb\n",
    "import optuna\n",
    "import optuna.visualization as vis\n",
    "\n",
    "n = 9\n",
    "\n",
    "X = np.load('Datasets/kryptonite-%s-X.npy'%(n))\n",
    "y = np.load('Datasets/kryptonite-%s-y.npy'%(n))\n",
    "\n",
    "def objective(trial):\n",
    "\n",
    "    if trial.should_prune():\n",
    "        raise optuna.TrialPruned()\n",
    "\n",
    "    ### ========== Shuffle and Split Data ========== ###\n",
    "\n",
    "    X_train, X_temp, y_train, y_temp = train_test_split(X, y, test_size=0.8, random_state=42)  # 60% training\n",
    "    X_val, X_test, y_val, y_test = train_test_split(X_temp, y_temp, test_size=0.8, random_state=42)  # 20% validation, 20% test\n",
    "\n",
    "    scaler = StandardScaler()\n",
    "    X_train_scaled = scaler.fit_transform(X_train)\n",
    "    X_val_scaled = scaler.transform(X_val)\n",
    "    X_test_scaled = scaler.transform(X_test)\n",
    "\n",
    "    use_pca = trial.suggest_categorical('use_pca', ['True', 'False'])\n",
    "    n_components_pca = trial.suggest_int('n_pca_components', 1, max(1, X_train_scaled.shape[1]))\n",
    "\n",
    "\n",
    "    ### ========== Train and Evaluate Model ========== ###\n",
    "\n",
    "    if use_pca == 'True':\n",
    "        pca = PCA(\n",
    "            n_components=n_components_pca\n",
    "        )\n",
    "        X_train_scaled = pca.fit_transform(X_train_scaled)\n",
    "        X_val_scaled = pca.transform(X_val)\n",
    "        X_test_scaled = pca.transform(X_test)\n",
    "\n",
    "    params = {\n",
    "            'n_estimators': trial.suggest_int('n_estimators', 100, 1000, step=25),\n",
    "            'max_depth': trial.suggest_int('max_depth', 3, 10),\n",
    "            'learning_rate': trial.suggest_float('learning_rate', 0.01, 0.3),\n",
    "            'subsample': trial.suggest_float('subsample', 0.5, 1.0),\n",
    "            'colsample_bytree': trial.suggest_float('colsample_bytree', 0.5, 1.0),\n",
    "            'gamma': trial.suggest_float('gamma', 0, 5),\n",
    "            'min_child_weight': trial.suggest_int('min_child_weight', 1, 10),\n",
    "            'n_jobs': -1\n",
    "        }\n",
    "\n",
    "    # Initialize and train classifier\n",
    "    classifier = xgb.XGBClassifier(**params)\n",
    "\n",
    "    classifier.fit(X_train_scaled, y_train)\n",
    "\n",
    "    # Evaluate on the validation set\n",
    "    y_val_pred = classifier.predict(X_val_scaled)\n",
    "    val_accuracy = accuracy_score(y_val, y_val_pred)\n",
    "    # print(f\"Validation Accuracy: {val_accuracy:.4f}\")\n",
    "\n",
    "    # Evaluate on the test set\n",
    "    y_test_pred = classifier.predict(X_test_scaled)\n",
    "    test_accuracy = accuracy_score(y_test, y_test_pred)\n",
    "    print(f\"Test Accuracy: {test_accuracy:.4f}\")\n",
    "\n",
    "    return val_accuracy\n",
    "\n",
    "\n",
    "# Create a study object\n",
    "pruner = optuna.pruners.MedianPruner()\n",
    "study = optuna.create_study(direction=\"maximize\", pruner=pruner)\n",
    "\n",
    "# Optimize the objective function\n",
    "study.optimize(objective, n_trials=100)\n",
    "\n",
    "print(\"Best hyperparameters:\", study.best_params)\n",
    "print(\"Best value:\", study.best_value)\n",
    "\n",
    "vis.plot_optimization_history(study).show()\n",
    "vis.plot_param_importances(study).show()\n",
    "vis.plot_slice(study).show()\n",
    "# vis.plot_intermediate_values(study)"
   ]
  }
 ],
 "metadata": {
  "kernelspec": {
   "display_name": ".venv",
   "language": "python",
   "name": "python3"
  },
  "language_info": {
   "codemirror_mode": {
    "name": "ipython",
    "version": 3
   },
   "file_extension": ".py",
   "mimetype": "text/x-python",
   "name": "python",
   "nbconvert_exporter": "python",
   "pygments_lexer": "ipython3",
   "version": "3.12.0"
  }
 },
 "nbformat": 4,
 "nbformat_minor": 2
}
