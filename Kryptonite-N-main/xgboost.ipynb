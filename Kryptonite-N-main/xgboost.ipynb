{
 "cells": [
  {
   "cell_type": "code",
   "execution_count": 1,
   "metadata": {},
   "outputs": [
    {
     "name": "stderr",
     "output_type": "stream",
     "text": [
      "  0%|          | 0/1 [00:00<?, ?it/s]"
     ]
    },
    {
     "name": "stdout",
     "output_type": "stream",
     "text": [
      "n:[9], e:[1]\n",
      "XGBClassifier(base_score=None, booster=None, callbacks=None,\n",
      "              colsample_bylevel=None, colsample_bynode=None,\n",
      "              colsample_bytree=0.8, device=None, early_stopping_rounds=None,\n",
      "              enable_categorical=False, eval_metric=None, feature_types=None,\n",
      "              gamma=None, grow_policy=None, importance_type=None,\n",
      "              interaction_constraints=None, learning_rate=0.1, max_bin=None,\n",
      "              max_cat_threshold=None, max_cat_to_onehot=None,\n",
      "              max_delta_step=None, max_depth=20, max_leaves=None,\n",
      "              min_child_weight=None, missing=nan, monotone_constraints=None,\n",
      "              multi_strategy=None, n_estimators=200, n_jobs=-1,\n",
      "              num_parallel_tree=None, random_state=None, ...)\n"
     ]
    },
    {
     "name": "stderr",
     "output_type": "stream",
     "text": [
      "100%|██████████| 1/1 [00:01<00:00,  1.74s/it]\n",
      "100%|██████████| 1/1 [00:01<00:00,  1.75s/it]"
     ]
    },
    {
     "name": "stdout",
     "output_type": "stream",
     "text": [
      "Fit Model\n",
      "Validation Accuracy: 0.4996\n",
      "Test Accuracy: 0.5117\n",
      "[[0.5116666666666667]]\n"
     ]
    },
    {
     "name": "stderr",
     "output_type": "stream",
     "text": [
      "\n"
     ]
    }
   ],
   "source": [
    "import numpy as np\n",
    "from sklearn.model_selection import train_test_split\n",
    "from sklearn.preprocessing import StandardScaler\n",
    "from sklearn.metrics import accuracy_score\n",
    "import xgboost as xgb\n",
    "\n",
    "possible_n_vals = [9]\n",
    "possible_e_vals = [1]\n",
    "\n",
    "\n",
    "def run_model(n, e):\n",
    "\n",
    "    X = np.load('Datasets/kryptonite-%s-X.npy'%(n))\n",
    "    y = np.load('Datasets/kryptonite-%s-y.npy'%(n))\n",
    "\n",
    "    # Shuffle and split the data\n",
    "    X_train, X_temp, y_train, y_temp = train_test_split(X, y, test_size=0.6, random_state=42)  # 60% training\n",
    "    X_val, X_test, y_val, y_test = train_test_split(X_temp, y_temp, test_size=0.5, random_state=42)  # 20% validation, 20% test\n",
    "\n",
    "\n",
    "    scaler = StandardScaler()\n",
    "    X_train_scaled = scaler.fit_transform(X_train)\n",
    "    X_val_scaled = scaler.transform(X_val)\n",
    "    x_test_scaled = scaler.transform(X_test)\n",
    "\n",
    "    # print(np.mean(X_train_scaled, axis=0))\n",
    "    # print(np.std(X_train_scaled, axis=0))\n",
    "\n",
    "    # feature_creator = PCA(n_components=min(e, X_train.shape[1]))\n",
    "    # X_train_features = feature_creator.fit_transform(X_train_scaled)\n",
    "    # X_val_features = feature_creator.transform(X_val_scaled)\n",
    "    # X_test_features = feature_creator.transform(x_test_scaled)\n",
    "    # print(X_train_features.shape)\n",
    "    \n",
    "    # print(\"Created features\")\n",
    "\n",
    "\n",
    "\n",
    "\n",
    "    features = X_train_scaled.shape[-1]\n",
    "\n",
    "    print(f'n:[{n}], e:[{e}]')\n",
    "\n",
    "    # Initialize and fit\n",
    "    grid = {'base_score':0.5, 'colsample_bylevel':1, 'colsample_bytree':1,\n",
    "       'gamma':0, 'learning_rate':0.1, 'max_delta_step':0, 'max_depth':5,\n",
    "       'min_child_weight':1, 'missing':0, 'n_estimators':1000, 'nthread':-1,\n",
    "       'objective':'binary:logistic', 'reg_alpha':0, 'reg_lambda':1,\n",
    "       'scale_pos_weight':1, 'seed':0, 'silent':True, 'subsample':1}\n",
    "\n",
    "    grid = {'n_estimators':500, 'n_jobs':-1, 'booster': 'gbtree'}\n",
    "\n",
    "    classifier = xgb.XGBClassifier(n_estimators=200, max_depth=20, learning_rate=0.1, subsample=0.8, colsample_bytree=0.8, n_jobs=-1)\n",
    "\n",
    "    print(classifier)\n",
    "    classifier.fit(X_train_scaled, y_train)\n",
    "    print(\"Fit Model\")\n",
    "\n",
    "    # Evaluate on the validation set\n",
    "    y_val_pred = classifier.predict(X_val_scaled)\n",
    "    val_accuracy = accuracy_score(y_val, y_val_pred)\n",
    "    print(f\"Validation Accuracy: {val_accuracy:.4f}\")\n",
    "\n",
    "    # Evaluate on the test set\n",
    "    y_test_pred = classifier.predict(x_test_scaled)\n",
    "    test_accuracy = accuracy_score(y_test, y_test_pred)\n",
    "    print(f\"Test Accuracy: {test_accuracy:.4f}\")\n",
    "    return test_accuracy, features\n",
    "        \n",
    "\n",
    "\n",
    "from tqdm import tqdm\n",
    "\n",
    "acc_by_n = []\n",
    "feat_by_n = []\n",
    "for n in tqdm(possible_n_vals):\n",
    "    single_n = []\n",
    "    single_feat = []\n",
    "    for e in tqdm(possible_e_vals):\n",
    "        acc, feat = run_model(n, e)\n",
    "        single_n.append(acc)\n",
    "        single_feat.append(feat)\n",
    "    acc_by_n.append(single_n)\n",
    "    feat_by_n.append(single_feat)\n",
    "\n",
    "print(acc_by_n)"
   ]
  },
  {
   "cell_type": "code",
   "execution_count": 2,
   "metadata": {},
   "outputs": [
    {
     "name": "stdout",
     "output_type": "stream",
     "text": [
      "Accuracy: 100.00%\n"
     ]
    },
    {
     "name": "stderr",
     "output_type": "stream",
     "text": [
      "/homes/fb224/fb224/MML-CW/venv/lib/python3.12/site-packages/xgboost/core.py:158: UserWarning: [18:55:10] WARNING: /workspace/src/learner.cc:740: \n",
      "Parameters: { \"use_label_encoder\" } are not used.\n",
      "\n",
      "  warnings.warn(smsg, UserWarning)\n"
     ]
    }
   ],
   "source": [
    "# Import necessary libraries\n",
    "from xgboost import XGBClassifier\n",
    "from sklearn.datasets import load_iris\n",
    "from sklearn.model_selection import train_test_split\n",
    "from sklearn.metrics import accuracy_score\n",
    "\n",
    "# Load a sample dataset (Iris dataset in this case)\n",
    "data = load_iris()\n",
    "X = data.data\n",
    "y = data.target\n",
    "\n",
    "# Split the data into training and testing sets\n",
    "X_train, X_test, y_train, y_test = train_test_split(X, y, test_size=0.2, random_state=42)\n",
    "\n",
    "# Initialize the XGBClassifier\n",
    "model = XGBClassifier(use_label_encoder=False, eval_metric=\"mlogloss\")\n",
    "\n",
    "# Train the model on the training data\n",
    "model.fit(X_train, y_train)\n",
    "\n",
    "# Make predictions on the test data\n",
    "y_pred = model.predict(X_test)\n",
    "\n",
    "# Evaluate the model's accuracy\n",
    "accuracy = accuracy_score(y_test, y_pred)\n",
    "print(f\"Accuracy: {accuracy * 100:.2f}%\")"
   ]
  },
  {
   "cell_type": "code",
   "execution_count": 3,
   "metadata": {},
   "outputs": [
    {
     "name": "stderr",
     "output_type": "stream",
     "text": [
      "/homes/fb224/fb224/MML-CW/venv/lib/python3.12/site-packages/tqdm/auto.py:21: TqdmWarning: IProgress not found. Please update jupyter and ipywidgets. See https://ipywidgets.readthedocs.io/en/stable/user_install.html\n",
      "  from .autonotebook import tqdm as notebook_tqdm\n",
      "[I 2024-11-07 18:55:11,438] A new study created in memory with name: no-name-67bb2bc1-5394-4aac-9d2a-63283c65df9f\n",
      "[I 2024-11-07 18:55:11,603] Trial 0 finished with value: 0.6573426573426573 and parameters: {'booster': 'dart', 'lambda': 0.031014380421931033, 'alpha': 1.919456871600701e-08, 'subsample': 0.9778746763396537, 'colsample_bytree': 0.8450870999723714, 'max_depth': 5, 'min_child_weight': 5, 'eta': 3.942512249990728e-07, 'gamma': 0.02043756715058513, 'grow_policy': 'depthwise', 'sample_type': 'weighted', 'normalize_type': 'tree', 'rate_drop': 0.2583352806247043, 'skip_drop': 0.004963739817831114}. Best is trial 0 with value: 0.6573426573426573.\n",
      "[I 2024-11-07 18:55:11,614] Trial 1 finished with value: 0.6573426573426573 and parameters: {'booster': 'gblinear', 'lambda': 1.6507551583271398e-08, 'alpha': 0.0013362317481975742, 'subsample': 0.46169990872598876, 'colsample_bytree': 0.258015255689735}. Best is trial 0 with value: 0.6573426573426573.\n",
      "[I 2024-11-07 18:55:11,628] Trial 2 finished with value: 0.916083916083916 and parameters: {'booster': 'gblinear', 'lambda': 2.565993519209105e-08, 'alpha': 0.009429321221109514, 'subsample': 0.46459905414910185, 'colsample_bytree': 0.2481955626868321}. Best is trial 2 with value: 0.916083916083916.\n",
      "[I 2024-11-07 18:55:11,641] Trial 3 finished with value: 0.8951048951048951 and parameters: {'booster': 'gblinear', 'lambda': 4.809565086398276e-06, 'alpha': 0.004032510885197968, 'subsample': 0.5439270733566941, 'colsample_bytree': 0.8311233723904461}. Best is trial 2 with value: 0.916083916083916.\n",
      "[I 2024-11-07 18:55:11,656] Trial 4 finished with value: 0.6643356643356644 and parameters: {'booster': 'gbtree', 'lambda': 0.00010184340541218504, 'alpha': 4.802588719288759e-05, 'subsample': 0.22536190425570768, 'colsample_bytree': 0.5664726496487111, 'max_depth': 3, 'min_child_weight': 4, 'eta': 0.00043431613304426893, 'gamma': 1.0409835557756919e-07, 'grow_policy': 'lossguide'}. Best is trial 2 with value: 0.916083916083916.\n",
      "[I 2024-11-07 18:55:11,671] Trial 5 finished with value: 0.958041958041958 and parameters: {'booster': 'gbtree', 'lambda': 0.8090116814340731, 'alpha': 4.8478105535218665e-05, 'subsample': 0.7774617443821596, 'colsample_bytree': 0.5552667772226221, 'max_depth': 9, 'min_child_weight': 8, 'eta': 0.7705088542698754, 'gamma': 0.0001377214319163696, 'grow_policy': 'lossguide'}. Best is trial 5 with value: 0.958041958041958.\n",
      "[I 2024-11-07 18:55:11,682] Trial 6 finished with value: 0.9090909090909091 and parameters: {'booster': 'gblinear', 'lambda': 0.2442116824318852, 'alpha': 0.26559820369289383, 'subsample': 0.4147283581442334, 'colsample_bytree': 0.6855282829333991}. Best is trial 5 with value: 0.958041958041958.\n",
      "[I 2024-11-07 18:55:11,703] Trial 7 finished with value: 0.6923076923076923 and parameters: {'booster': 'gbtree', 'lambda': 6.011473988363502e-05, 'alpha': 1.8743845408661804e-06, 'subsample': 0.864269747455302, 'colsample_bytree': 0.6857082029185465, 'max_depth': 3, 'min_child_weight': 6, 'eta': 0.003705116075199172, 'gamma': 3.801759726128511e-08, 'grow_policy': 'lossguide'}. Best is trial 5 with value: 0.958041958041958.\n",
      "[I 2024-11-07 18:55:11,721] Trial 8 finished with value: 0.6223776223776224 and parameters: {'booster': 'dart', 'lambda': 6.058802703093435e-08, 'alpha': 1.7790388633545766e-05, 'subsample': 0.24268292702009236, 'colsample_bytree': 0.36843591626098005, 'max_depth': 9, 'min_child_weight': 10, 'eta': 1.797349619719857e-07, 'gamma': 0.007171896935662718, 'grow_policy': 'lossguide', 'sample_type': 'weighted', 'normalize_type': 'forest', 'rate_drop': 4.841908648229943e-06, 'skip_drop': 0.005659081001881707}. Best is trial 5 with value: 0.958041958041958.\n",
      "[I 2024-11-07 18:55:11,739] Trial 9 finished with value: 0.6363636363636364 and parameters: {'booster': 'dart', 'lambda': 0.0484417327353787, 'alpha': 0.17309797708923483, 'subsample': 0.5059586007142416, 'colsample_bytree': 0.8734736686612872, 'max_depth': 7, 'min_child_weight': 5, 'eta': 0.00032928385169100693, 'gamma': 3.980473459886525e-06, 'grow_policy': 'lossguide', 'sample_type': 'weighted', 'normalize_type': 'forest', 'rate_drop': 0.0020889422560864813, 'skip_drop': 0.000615478920006901}. Best is trial 5 with value: 0.958041958041958.\n",
      "[I 2024-11-07 18:55:11,772] Trial 10 finished with value: 0.9230769230769231 and parameters: {'booster': 'gbtree', 'lambda': 0.002415805690501367, 'alpha': 1.8648582290698947e-07, 'subsample': 0.7482019852415536, 'colsample_bytree': 0.4868622234542688, 'max_depth': 9, 'min_child_weight': 9, 'eta': 0.7069771784512261, 'gamma': 0.0001873677512381926, 'grow_policy': 'depthwise'}. Best is trial 5 with value: 0.958041958041958.\n",
      "[I 2024-11-07 18:55:11,814] Trial 11 finished with value: 0.916083916083916 and parameters: {'booster': 'gbtree', 'lambda': 0.002671386535904872, 'alpha': 1.4050631956714274e-07, 'subsample': 0.727699336693111, 'colsample_bytree': 0.4971163296050236, 'max_depth': 9, 'min_child_weight': 9, 'eta': 0.9029064788927283, 'gamma': 0.0001397947849095622, 'grow_policy': 'depthwise'}. Best is trial 5 with value: 0.958041958041958.\n",
      "[I 2024-11-07 18:55:11,853] Trial 12 finished with value: 0.951048951048951 and parameters: {'booster': 'gbtree', 'lambda': 0.9293348939787796, 'alpha': 9.755577617596429e-07, 'subsample': 0.7131389521671687, 'colsample_bytree': 0.451277032716666, 'max_depth': 9, 'min_child_weight': 8, 'eta': 0.5471995450858267, 'gamma': 0.00014283598878331557, 'grow_policy': 'depthwise'}. Best is trial 5 with value: 0.958041958041958.\n",
      "[I 2024-11-07 18:55:11,889] Trial 13 finished with value: 0.9090909090909091 and parameters: {'booster': 'gbtree', 'lambda': 0.8778619657176024, 'alpha': 3.253946088733652e-06, 'subsample': 0.6945540114742447, 'colsample_bytree': 0.4010211681875368, 'max_depth': 7, 'min_child_weight': 8, 'eta': 0.045657502095808024, 'gamma': 0.7682706609993272, 'grow_policy': 'depthwise'}. Best is trial 5 with value: 0.958041958041958.\n",
      "[I 2024-11-07 18:55:11,925] Trial 14 finished with value: 0.9090909090909091 and parameters: {'booster': 'gbtree', 'lambda': 0.009369774150310577, 'alpha': 0.0001907211664566682, 'subsample': 0.8768268904118279, 'colsample_bytree': 0.7106226175605812, 'max_depth': 7, 'min_child_weight': 7, 'eta': 0.029285104452898867, 'gamma': 3.683964128659661e-06, 'grow_policy': 'lossguide'}. Best is trial 5 with value: 0.958041958041958.\n",
      "[I 2024-11-07 18:55:11,960] Trial 15 finished with value: 0.5874125874125874 and parameters: {'booster': 'gbtree', 'lambda': 0.7648316529147831, 'alpha': 2.7785876592236927e-06, 'subsample': 0.6348096084224151, 'colsample_bytree': 0.38109248623980985, 'max_depth': 9, 'min_child_weight': 7, 'eta': 5.402704568992952e-06, 'gamma': 0.0016264530757756888, 'grow_policy': 'depthwise'}. Best is trial 5 with value: 0.958041958041958.\n",
      "[I 2024-11-07 18:55:12,001] Trial 16 finished with value: 0.951048951048951 and parameters: {'booster': 'gbtree', 'lambda': 0.0005117535337600967, 'alpha': 0.00024554700335627645, 'subsample': 0.8246594453546993, 'colsample_bytree': 0.5761184250238331, 'max_depth': 5, 'min_child_weight': 2, 'eta': 0.05300452196908887, 'gamma': 3.262236613502557e-06, 'grow_policy': 'depthwise'}. Best is trial 5 with value: 0.958041958041958.\n",
      "[I 2024-11-07 18:55:12,038] Trial 17 finished with value: 0.6293706293706294 and parameters: {'booster': 'gbtree', 'lambda': 0.09046385982385616, 'alpha': 2.3316374566687e-07, 'subsample': 0.9927858166710195, 'colsample_bytree': 0.9909024059706447, 'max_depth': 9, 'min_child_weight': 8, 'eta': 1.2587579161844273e-05, 'gamma': 2.2793797189184192e-05, 'grow_policy': 'lossguide'}. Best is trial 5 with value: 0.958041958041958.\n",
      "[I 2024-11-07 18:55:12,072] Trial 18 finished with value: 0.6643356643356644 and parameters: {'booster': 'gbtree', 'lambda': 3.2911105919124e-06, 'alpha': 1.5813459420277537e-08, 'subsample': 0.5993876520914325, 'colsample_bytree': 0.4743626016081349, 'max_depth': 7, 'min_child_weight': 10, 'eta': 0.004090033218711065, 'gamma': 0.0007800322485694766, 'grow_policy': 'lossguide'}. Best is trial 5 with value: 0.958041958041958.\n",
      "[I 2024-11-07 18:55:12,111] Trial 19 finished with value: 0.9300699300699301 and parameters: {'booster': 'dart', 'lambda': 0.013096618567759306, 'alpha': 2.8937703772213928e-05, 'subsample': 0.7840952798446942, 'colsample_bytree': 0.31310654551096007, 'max_depth': 9, 'min_child_weight': 8, 'eta': 0.8943361191527938, 'gamma': 0.06550053641664785, 'grow_policy': 'depthwise', 'sample_type': 'uniform', 'normalize_type': 'tree', 'rate_drop': 2.572501965783007e-07, 'skip_drop': 2.4103549116628566e-08}. Best is trial 5 with value: 0.958041958041958.\n",
      "[I 2024-11-07 18:55:12,146] Trial 20 finished with value: 0.6853146853146853 and parameters: {'booster': 'gbtree', 'lambda': 0.19142606778720594, 'alpha': 7.778586251081131e-07, 'subsample': 0.36359850795805704, 'colsample_bytree': 0.6373818793828511, 'max_depth': 5, 'min_child_weight': 7, 'eta': 1.8621222400183194e-08, 'gamma': 3.0833574136767697e-07, 'grow_policy': 'lossguide'}. Best is trial 5 with value: 0.958041958041958.\n",
      "[I 2024-11-07 18:55:12,241] Trial 21 finished with value: 0.958041958041958 and parameters: {'booster': 'gbtree', 'lambda': 0.00047135420570271463, 'alpha': 0.00033828309036423464, 'subsample': 0.8437892442840378, 'colsample_bytree': 0.568924693644721, 'max_depth': 5, 'min_child_weight': 2, 'eta': 0.05882869540598478, 'gamma': 1.246251788255789e-05, 'grow_policy': 'depthwise'}. Best is trial 5 with value: 0.958041958041958.\n",
      "[I 2024-11-07 18:55:12,278] Trial 22 finished with value: 0.958041958041958 and parameters: {'booster': 'gbtree', 'lambda': 4.5706386055466133e-07, 'alpha': 0.0008916162512910892, 'subsample': 0.8853229125674478, 'colsample_bytree': 0.5300287676092315, 'max_depth': 5, 'min_child_weight': 2, 'eta': 0.0869095798299131, 'gamma': 2.978573727128049e-05, 'grow_policy': 'depthwise'}. Best is trial 5 with value: 0.958041958041958.\n",
      "[I 2024-11-07 18:55:12,318] Trial 23 finished with value: 0.6433566433566433 and parameters: {'booster': 'gbtree', 'lambda': 1.999938350906232e-07, 'alpha': 0.0010895736134992934, 'subsample': 0.9282286415899581, 'colsample_bytree': 0.547646551639013, 'max_depth': 5, 'min_child_weight': 2, 'eta': 0.008540701261447748, 'gamma': 1.7142997266152308e-05, 'grow_policy': 'depthwise'}. Best is trial 5 with value: 0.958041958041958.\n",
      "[I 2024-11-07 18:55:12,355] Trial 24 finished with value: 0.972027972027972 and parameters: {'booster': 'gbtree', 'lambda': 1.4104851049294982e-06, 'alpha': 0.021615372588108313, 'subsample': 0.9023245785689064, 'colsample_bytree': 0.7506136321638328, 'max_depth': 3, 'min_child_weight': 3, 'eta': 0.11537977006813474, 'gamma': 2.257733696312107e-05, 'grow_policy': 'depthwise'}. Best is trial 24 with value: 0.972027972027972.\n",
      "[I 2024-11-07 18:55:12,394] Trial 25 finished with value: 0.9300699300699301 and parameters: {'booster': 'gbtree', 'lambda': 4.95666233883091e-06, 'alpha': 0.03270342058769572, 'subsample': 0.8064109209687295, 'colsample_bytree': 0.7631697809525307, 'max_depth': 3, 'min_child_weight': 3, 'eta': 0.10672475861519512, 'gamma': 6.561471293910947e-07, 'grow_policy': 'depthwise'}. Best is trial 24 with value: 0.972027972027972.\n",
      "[I 2024-11-07 18:55:12,434] Trial 26 finished with value: 0.5874125874125874 and parameters: {'booster': 'gbtree', 'lambda': 3.88664255922567e-05, 'alpha': 0.043854225444636526, 'subsample': 0.9359147750347427, 'colsample_bytree': 0.6243997335210918, 'max_depth': 3, 'min_child_weight': 3, 'eta': 0.001084404709540948, 'gamma': 0.002312988847230368, 'grow_policy': 'depthwise'}. Best is trial 24 with value: 0.972027972027972.\n",
      "[I 2024-11-07 18:55:12,475] Trial 27 finished with value: 0.6363636363636364 and parameters: {'booster': 'dart', 'lambda': 6.604375576175819e-07, 'alpha': 9.591410629899428e-06, 'subsample': 0.6657563407050653, 'colsample_bytree': 0.7699767880319094, 'max_depth': 3, 'min_child_weight': 3, 'eta': 5.860725908802338e-05, 'gamma': 0.0005850071692891305, 'grow_policy': 'lossguide', 'sample_type': 'uniform', 'normalize_type': 'forest', 'rate_drop': 0.0014303306608725763, 'skip_drop': 1.3437386745304833e-07}. Best is trial 24 with value: 0.972027972027972.\n",
      "[I 2024-11-07 18:55:12,506] Trial 28 finished with value: 0.916083916083916 and parameters: {'booster': 'gblinear', 'lambda': 0.00031679495013464605, 'alpha': 0.00017048797256122232, 'subsample': 0.7774628448160773, 'colsample_bytree': 0.6207425666051196}. Best is trial 24 with value: 0.972027972027972.\n",
      "[I 2024-11-07 18:55:12,546] Trial 29 finished with value: 0.965034965034965 and parameters: {'booster': 'gbtree', 'lambda': 1.1680358709391387e-05, 'alpha': 0.005904267863968261, 'subsample': 0.9593973615674445, 'colsample_bytree': 0.909895345415626, 'max_depth': 5, 'min_child_weight': 4, 'eta': 0.13410436355260497, 'gamma': 2.8518162819114772e-05, 'grow_policy': 'depthwise'}. Best is trial 24 with value: 0.972027972027972.\n",
      "[I 2024-11-07 18:55:12,591] Trial 30 finished with value: 0.916083916083916 and parameters: {'booster': 'dart', 'lambda': 1.631677446021535e-05, 'alpha': 0.02008188038725033, 'subsample': 0.9408046178443857, 'colsample_bytree': 0.9621639740013392, 'max_depth': 7, 'min_child_weight': 4, 'eta': 0.22172034609552735, 'gamma': 4.440531826221891e-05, 'grow_policy': 'depthwise', 'sample_type': 'uniform', 'normalize_type': 'tree', 'rate_drop': 1.9587860735296376e-08, 'skip_drop': 0.6393592126288192}. Best is trial 24 with value: 0.972027972027972.\n",
      "[I 2024-11-07 18:55:12,633] Trial 31 finished with value: 0.6503496503496503 and parameters: {'booster': 'gbtree', 'lambda': 1.2994988633846788e-06, 'alpha': 0.0033645500480532476, 'subsample': 0.8415415933678261, 'colsample_bytree': 0.9118921038872372, 'max_depth': 5, 'min_child_weight': 4, 'eta': 0.015599283703058438, 'gamma': 1.3474917847570972e-06, 'grow_policy': 'depthwise'}. Best is trial 24 with value: 0.972027972027972.\n",
      "[I 2024-11-07 18:55:12,676] Trial 32 finished with value: 0.9370629370629371 and parameters: {'booster': 'gbtree', 'lambda': 1.6156531012745994e-05, 'alpha': 0.6522950847930251, 'subsample': 0.998480615958225, 'colsample_bytree': 0.7956165322951213, 'max_depth': 5, 'min_child_weight': 3, 'eta': 0.20532711575455972, 'gamma': 6.071920629214897e-06, 'grow_policy': 'depthwise'}. Best is trial 24 with value: 0.972027972027972.\n",
      "[I 2024-11-07 18:55:12,722] Trial 33 finished with value: 0.9300699300699301 and parameters: {'booster': 'gbtree', 'lambda': 1.2977977288831422e-07, 'alpha': 0.000527130786321764, 'subsample': 0.9270566211875194, 'colsample_bytree': 0.9158611156095542, 'max_depth': 3, 'min_child_weight': 5, 'eta': 0.16559406332449214, 'gamma': 9.30488427775537e-06, 'grow_policy': 'depthwise'}. Best is trial 24 with value: 0.972027972027972.\n",
      "[I 2024-11-07 18:55:12,747] Trial 34 finished with value: 0.8671328671328671 and parameters: {'booster': 'gblinear', 'lambda': 0.0004767627837139123, 'alpha': 0.004224738462061511, 'subsample': 0.8894558214988744, 'colsample_bytree': 0.7355697892539392}. Best is trial 24 with value: 0.972027972027972.\n",
      "[I 2024-11-07 18:55:12,787] Trial 35 finished with value: 0.7132867132867133 and parameters: {'booster': 'gbtree', 'lambda': 1.758323347676846e-06, 'alpha': 0.09378849613552183, 'subsample': 0.7612906497666971, 'colsample_bytree': 0.8474800629064982, 'max_depth': 5, 'min_child_weight': 2, 'eta': 0.00722647581736457, 'gamma': 5.8708822241136446e-05, 'grow_policy': 'depthwise'}. Best is trial 24 with value: 0.972027972027972.\n",
      "[I 2024-11-07 18:55:12,812] Trial 36 finished with value: 0.9300699300699301 and parameters: {'booster': 'gblinear', 'lambda': 0.00015834949942095529, 'alpha': 0.007218452683255724, 'subsample': 0.9642657808396272, 'colsample_bytree': 0.6751099894429248}. Best is trial 24 with value: 0.972027972027972.\n",
      "[I 2024-11-07 18:55:12,854] Trial 37 finished with value: 0.965034965034965 and parameters: {'booster': 'gbtree', 'lambda': 1.6248825134598058e-08, 'alpha': 0.01277415896919211, 'subsample': 0.8398574185239297, 'colsample_bytree': 0.806016993384733, 'max_depth': 7, 'min_child_weight': 4, 'eta': 0.19092321586228567, 'gamma': 0.0003692191822639933, 'grow_policy': 'depthwise'}. Best is trial 24 with value: 0.972027972027972.\n",
      "[I 2024-11-07 18:55:12,893] Trial 38 finished with value: 0.9300699300699301 and parameters: {'booster': 'gbtree', 'lambda': 5.74955352949012e-08, 'alpha': 7.691577754234905e-05, 'subsample': 0.9001933365907839, 'colsample_bytree': 0.8153974633929932, 'max_depth': 7, 'min_child_weight': 6, 'eta': 0.2467803141613265, 'gamma': 0.00031820647271257326, 'grow_policy': 'depthwise'}. Best is trial 24 with value: 0.972027972027972.\n",
      "[I 2024-11-07 18:55:12,918] Trial 39 finished with value: 0.9370629370629371 and parameters: {'booster': 'gblinear', 'lambda': 1.1307134556304121e-08, 'alpha': 0.014067024455688313, 'subsample': 0.8132458237518375, 'colsample_bytree': 0.8367666334242346}. Best is trial 24 with value: 0.972027972027972.\n",
      "[I 2024-11-07 18:55:12,956] Trial 40 finished with value: 0.6153846153846154 and parameters: {'booster': 'gbtree', 'lambda': 9.346420650323742e-06, 'alpha': 0.002423472148327703, 'subsample': 0.5621570530657384, 'colsample_bytree': 0.8933723048627823, 'max_depth': 7, 'min_child_weight': 4, 'eta': 0.0010919717285893028, 'gamma': 0.02317688663214606, 'grow_policy': 'lossguide'}. Best is trial 24 with value: 0.972027972027972.\n",
      "[I 2024-11-07 18:55:13,000] Trial 41 finished with value: 0.8811188811188811 and parameters: {'booster': 'gbtree', 'lambda': 3.8117796212730636e-05, 'alpha': 0.00043210408992490373, 'subsample': 0.8354084624093747, 'colsample_bytree': 0.6577005642920981, 'max_depth': 5, 'min_child_weight': 3, 'eta': 0.0268538385159249, 'gamma': 6.663901955678245e-05, 'grow_policy': 'depthwise'}. Best is trial 24 with value: 0.972027972027972.\n",
      "[I 2024-11-07 18:55:13,038] Trial 42 finished with value: 0.8951048951048951 and parameters: {'booster': 'gbtree', 'lambda': 4.112564394445211e-08, 'alpha': 0.07516707472932031, 'subsample': 0.85025653877112, 'colsample_bytree': 0.5885235319740336, 'max_depth': 3, 'min_child_weight': 5, 'eta': 0.32381134233684344, 'gamma': 9.963727664502187e-06, 'grow_policy': 'depthwise'}. Best is trial 24 with value: 0.972027972027972.\n",
      "[I 2024-11-07 18:55:13,075] Trial 43 finished with value: 0.951048951048951 and parameters: {'booster': 'gbtree', 'lambda': 2.247260672350241e-07, 'alpha': 0.007226354478274546, 'subsample': 0.9638341289486576, 'colsample_bytree': 0.7396687871829357, 'max_depth': 3, 'min_child_weight': 4, 'eta': 0.065844673222983, 'gamma': 0.0020209907278820284, 'grow_policy': 'depthwise'}. Best is trial 24 with value: 0.972027972027972.\n",
      "[I 2024-11-07 18:55:13,114] Trial 44 finished with value: 0.6293706293706294 and parameters: {'booster': 'gbtree', 'lambda': 0.0009982753073137496, 'alpha': 0.0017226301200782962, 'subsample': 0.8993179344364474, 'colsample_bytree': 0.2070831964162262, 'max_depth': 5, 'min_child_weight': 5, 'eta': 0.02150870045135852, 'gamma': 1.912433077078699e-08, 'grow_policy': 'lossguide'}. Best is trial 24 with value: 0.972027972027972.\n",
      "[I 2024-11-07 18:55:13,152] Trial 45 finished with value: 0.5664335664335665 and parameters: {'booster': 'gbtree', 'lambda': 0.00012999053232104116, 'alpha': 0.3239715534628969, 'subsample': 0.744992378114637, 'colsample_bytree': 0.9489434598462239, 'max_depth': 7, 'min_child_weight': 3, 'eta': 0.0016486086069491838, 'gamma': 0.00031357513133050167, 'grow_policy': 'depthwise'}. Best is trial 24 with value: 0.972027972027972.\n",
      "[I 2024-11-07 18:55:13,248] Trial 46 finished with value: 0.9020979020979021 and parameters: {'booster': 'dart', 'lambda': 1.8918532807266172e-08, 'alpha': 7.030153922657741e-06, 'subsample': 0.864233107709233, 'colsample_bytree': 0.8594341511083995, 'max_depth': 5, 'min_child_weight': 6, 'eta': 0.10614002132902149, 'gamma': 1.739067786443306e-07, 'grow_policy': 'lossguide', 'sample_type': 'uniform', 'normalize_type': 'forest', 'rate_drop': 0.6266671636605485, 'skip_drop': 3.785444129757597e-06}. Best is trial 24 with value: 0.972027972027972.\n",
      "[I 2024-11-07 18:55:13,437] Trial 47 finished with value: 0.951048951048951 and parameters: {'booster': 'gbtree', 'lambda': 0.0032870993281385423, 'alpha': 6.519096779196989e-05, 'subsample': 0.7009167208316529, 'colsample_bytree': 0.4358904602503613, 'max_depth': 7, 'min_child_weight': 4, 'eta': 0.4100789348383065, 'gamma': 1.4856089180294418e-06, 'grow_policy': 'depthwise'}. Best is trial 24 with value: 0.972027972027972.\n",
      "[I 2024-11-07 18:55:13,475] Trial 48 finished with value: 0.972027972027972 and parameters: {'booster': 'gbtree', 'lambda': 7.361044513731733e-07, 'alpha': 0.01703892474421095, 'subsample': 0.7822570425634003, 'colsample_bytree': 0.5074110822963984, 'max_depth': 9, 'min_child_weight': 2, 'eta': 0.8924898619060053, 'gamma': 7.16813701110476e-05, 'grow_policy': 'depthwise'}. Best is trial 24 with value: 0.972027972027972.\n",
      "[I 2024-11-07 18:55:13,512] Trial 49 finished with value: 0.965034965034965 and parameters: {'booster': 'gbtree', 'lambda': 1.229107460986876e-06, 'alpha': 0.16746652446318921, 'subsample': 0.6695387103800675, 'colsample_bytree': 0.5256994436256719, 'max_depth': 9, 'min_child_weight': 3, 'eta': 0.9271948709853938, 'gamma': 0.00013022783416772904, 'grow_policy': 'lossguide'}. Best is trial 24 with value: 0.972027972027972.\n",
      "[I 2024-11-07 18:55:13,549] Trial 50 finished with value: 0.9790209790209791 and parameters: {'booster': 'gbtree', 'lambda': 4.847074429120417e-07, 'alpha': 0.15251042312504312, 'subsample': 0.6403432440208243, 'colsample_bytree': 0.5154710013899216, 'max_depth': 9, 'min_child_weight': 3, 'eta': 0.5957765528886596, 'gamma': 7.578466557717011e-05, 'grow_policy': 'depthwise'}. Best is trial 50 with value: 0.9790209790209791.\n",
      "[I 2024-11-07 18:55:13,586] Trial 51 finished with value: 0.9790209790209791 and parameters: {'booster': 'gbtree', 'lambda': 6.733986209207609e-07, 'alpha': 0.9786345738980836, 'subsample': 0.6407720900496472, 'colsample_bytree': 0.5152004367987199, 'max_depth': 9, 'min_child_weight': 3, 'eta': 0.971009787544318, 'gamma': 0.00010887731994311818, 'grow_policy': 'depthwise'}. Best is trial 50 with value: 0.9790209790209791.\n",
      "[I 2024-11-07 18:55:13,623] Trial 52 finished with value: 0.986013986013986 and parameters: {'booster': 'gbtree', 'lambda': 4.0627169874393963e-07, 'alpha': 0.691680412114956, 'subsample': 0.49583830792730366, 'colsample_bytree': 0.4333525932651625, 'max_depth': 9, 'min_child_weight': 4, 'eta': 0.3631077530061857, 'gamma': 4.465268498962337e-05, 'grow_policy': 'depthwise'}. Best is trial 52 with value: 0.986013986013986.\n",
      "[I 2024-11-07 18:55:13,661] Trial 53 finished with value: 0.9440559440559441 and parameters: {'booster': 'gbtree', 'lambda': 5.852529800914036e-07, 'alpha': 0.821193272154871, 'subsample': 0.42092205619414863, 'colsample_bytree': 0.40493866914385374, 'max_depth': 9, 'min_child_weight': 2, 'eta': 0.5376835643798161, 'gamma': 7.836781073069757e-05, 'grow_policy': 'depthwise'}. Best is trial 52 with value: 0.986013986013986.\n",
      "[I 2024-11-07 18:55:13,699] Trial 54 finished with value: 0.965034965034965 and parameters: {'booster': 'gbtree', 'lambda': 3.0342741539439073e-06, 'alpha': 0.3845354412269955, 'subsample': 0.49531079298375297, 'colsample_bytree': 0.5072454306095888, 'max_depth': 9, 'min_child_weight': 3, 'eta': 0.3940677997807403, 'gamma': 3.4609004102179297e-05, 'grow_policy': 'depthwise'}. Best is trial 52 with value: 0.986013986013986.\n",
      "[I 2024-11-07 18:55:13,738] Trial 55 finished with value: 0.965034965034965 and parameters: {'booster': 'gbtree', 'lambda': 3.2175102976625195e-07, 'alpha': 0.13896876872787775, 'subsample': 0.5585218098340324, 'colsample_bytree': 0.32635101125857635, 'max_depth': 9, 'min_child_weight': 2, 'eta': 0.8193948186456164, 'gamma': 0.00017233779781956679, 'grow_policy': 'depthwise'}. Best is trial 52 with value: 0.986013986013986.\n",
      "[I 2024-11-07 18:55:13,776] Trial 56 finished with value: 0.6643356643356644 and parameters: {'booster': 'gbtree', 'lambda': 1.1897772417135724e-07, 'alpha': 0.05315425321369887, 'subsample': 0.6039636188359029, 'colsample_bytree': 0.45070705976966385, 'max_depth': 9, 'min_child_weight': 4, 'eta': 7.110799415035028e-07, 'gamma': 2.233563414484172e-05, 'grow_policy': 'depthwise'}. Best is trial 52 with value: 0.986013986013986.\n",
      "[I 2024-11-07 18:55:13,814] Trial 57 finished with value: 0.958041958041958 and parameters: {'booster': 'gbtree', 'lambda': 5.6296659531780354e-06, 'alpha': 0.9436618297082742, 'subsample': 0.6081226067546659, 'colsample_bytree': 0.4672993004380439, 'max_depth': 9, 'min_child_weight': 3, 'eta': 0.11146771574326589, 'gamma': 2.2338393939616142e-06, 'grow_policy': 'depthwise'}. Best is trial 52 with value: 0.986013986013986.\n",
      "[I 2024-11-07 18:55:13,859] Trial 58 finished with value: 0.951048951048951 and parameters: {'booster': 'dart', 'lambda': 2.161790410218815e-06, 'alpha': 0.026571787150443994, 'subsample': 0.5137100367418126, 'colsample_bytree': 0.42387882405233296, 'max_depth': 9, 'min_child_weight': 2, 'eta': 0.44698277681995713, 'gamma': 0.0010175337270001202, 'grow_policy': 'depthwise', 'sample_type': 'weighted', 'normalize_type': 'tree', 'rate_drop': 4.119307461962864e-05, 'skip_drop': 0.9394270860930317}. Best is trial 52 with value: 0.986013986013986.\n",
      "[I 2024-11-07 18:55:13,896] Trial 59 finished with value: 0.6223776223776224 and parameters: {'booster': 'gbtree', 'lambda': 9.561286254802923e-07, 'alpha': 0.39790551752480396, 'subsample': 0.3444841574198324, 'colsample_bytree': 0.369320663567327, 'max_depth': 9, 'min_child_weight': 5, 'eta': 0.016506609199436598, 'gamma': 0.00010149728186102537, 'grow_policy': 'depthwise'}. Best is trial 52 with value: 0.986013986013986.\n",
      "[I 2024-11-07 18:55:13,920] Trial 60 finished with value: 0.8881118881118881 and parameters: {'booster': 'gblinear', 'lambda': 9.712165217125955e-08, 'alpha': 0.20817284557414972, 'subsample': 0.4549032466591235, 'colsample_bytree': 0.504987775999893}. Best is trial 52 with value: 0.986013986013986.\n",
      "[I 2024-11-07 18:55:13,958] Trial 61 finished with value: 0.951048951048951 and parameters: {'booster': 'gbtree', 'lambda': 3.5508024420054983e-07, 'alpha': 0.016018567966330027, 'subsample': 0.6355377208420746, 'colsample_bytree': 0.5455421483767117, 'max_depth': 9, 'min_child_weight': 4, 'eta': 0.22172298546798522, 'gamma': 0.00031204076556474026, 'grow_policy': 'depthwise'}. Best is trial 52 with value: 0.986013986013986.\n",
      "[I 2024-11-07 18:55:13,996] Trial 62 finished with value: 0.8811188811188811 and parameters: {'booster': 'gbtree', 'lambda': 2.6342199474288726e-08, 'alpha': 0.05957671107384731, 'subsample': 0.7308703550682738, 'colsample_bytree': 0.3294870003665706, 'max_depth': 9, 'min_child_weight': 4, 'eta': 0.04302574814764132, 'gamma': 0.0040629966662962215, 'grow_policy': 'depthwise'}. Best is trial 52 with value: 0.986013986013986.\n",
      "[I 2024-11-07 18:55:14,036] Trial 63 finished with value: 0.958041958041958 and parameters: {'booster': 'gbtree', 'lambda': 8.428580005160619e-06, 'alpha': 0.009830308754912179, 'subsample': 0.7964512509856134, 'colsample_bytree': 0.48152157631527726, 'max_depth': 9, 'min_child_weight': 3, 'eta': 0.8160498695597119, 'gamma': 0.0004462316554964606, 'grow_policy': 'depthwise'}. Best is trial 52 with value: 0.986013986013986.\n",
      "[I 2024-11-07 18:55:14,078] Trial 64 finished with value: 0.916083916083916 and parameters: {'booster': 'gbtree', 'lambda': 8.607672095353116e-07, 'alpha': 0.10020232893669122, 'subsample': 0.6642430899234475, 'colsample_bytree': 0.5928954393435305, 'max_depth': 7, 'min_child_weight': 5, 'eta': 0.1382014650429371, 'gamma': 4.225692936295158e-05, 'grow_policy': 'depthwise'}. Best is trial 52 with value: 0.986013986013986.\n",
      "[I 2024-11-07 18:55:14,121] Trial 65 finished with value: 0.9370629370629371 and parameters: {'booster': 'gbtree', 'lambda': 2.2741143052925612e-07, 'alpha': 0.5454005797200232, 'subsample': 0.5702297897791982, 'colsample_bytree': 0.7072442108963947, 'max_depth': 9, 'min_child_weight': 3, 'eta': 0.3762070952863351, 'gamma': 5.7067096419454654e-06, 'grow_policy': 'depthwise'}. Best is trial 52 with value: 0.986013986013986.\n",
      "[I 2024-11-07 18:55:14,161] Trial 66 finished with value: 0.9230769230769231 and parameters: {'booster': 'gbtree', 'lambda': 2.7366669007127594e-06, 'alpha': 0.03600135004297126, 'subsample': 0.2707546414701195, 'colsample_bytree': 0.7973643128769639, 'max_depth': 9, 'min_child_weight': 2, 'eta': 0.0465885009679531, 'gamma': 1.746370897061999e-05, 'grow_policy': 'depthwise'}. Best is trial 52 with value: 0.986013986013986.\n",
      "[I 2024-11-07 18:55:14,204] Trial 67 finished with value: 0.6433566433566433 and parameters: {'booster': 'gbtree', 'lambda': 7.420016052237823e-08, 'alpha': 0.22755602584868226, 'subsample': 0.9210909672846903, 'colsample_bytree': 0.9896087578289863, 'max_depth': 7, 'min_child_weight': 4, 'eta': 6.106817259201985e-05, 'gamma': 0.00012487770816375056, 'grow_policy': 'depthwise'}. Best is trial 52 with value: 0.986013986013986.\n",
      "[I 2024-11-07 18:55:14,248] Trial 68 finished with value: 0.916083916083916 and parameters: {'booster': 'gbtree', 'lambda': 2.4062849300923447e-05, 'alpha': 0.004682825732799484, 'subsample': 0.5357703599907488, 'colsample_bytree': 0.8825102895420062, 'max_depth': 9, 'min_child_weight': 3, 'eta': 0.17138419750025646, 'gamma': 0.0009528930501147176, 'grow_policy': 'depthwise'}. Best is trial 52 with value: 0.986013986013986.\n",
      "[I 2024-11-07 18:55:14,295] Trial 69 finished with value: 0.6223776223776224 and parameters: {'booster': 'dart', 'lambda': 5.982948708479163e-07, 'alpha': 0.12104604338185787, 'subsample': 0.9684026814434634, 'colsample_bytree': 0.5675871612445124, 'max_depth': 7, 'min_child_weight': 6, 'eta': 0.00020142738207778928, 'gamma': 0.00017275709254238304, 'grow_policy': 'depthwise', 'sample_type': 'uniform', 'normalize_type': 'forest', 'rate_drop': 0.00966779332651359, 'skip_drop': 1.1509826273603493e-05}. Best is trial 52 with value: 0.986013986013986.\n",
      "[I 2024-11-07 18:55:14,362] Trial 70 finished with value: 0.6223776223776224 and parameters: {'booster': 'gbtree', 'lambda': 4.356315975824519e-08, 'alpha': 0.0286999471368172, 'subsample': 0.6329264838407402, 'colsample_bytree': 0.6161739198225268, 'max_depth': 9, 'min_child_weight': 4, 'eta': 0.009553240621929531, 'gamma': 2.6477041552844e-05, 'grow_policy': 'depthwise'}. Best is trial 52 with value: 0.986013986013986.\n",
      "[I 2024-11-07 18:55:14,399] Trial 71 finished with value: 0.965034965034965 and parameters: {'booster': 'gbtree', 'lambda': 1.391397305850999e-06, 'alpha': 0.2669598627728494, 'subsample': 0.6766385235477742, 'colsample_bytree': 0.5227341516825943, 'max_depth': 9, 'min_child_weight': 3, 'eta': 0.9106400358179747, 'gamma': 8.554111703289932e-05, 'grow_policy': 'lossguide'}. Best is trial 52 with value: 0.986013986013986.\n",
      "[I 2024-11-07 18:55:14,437] Trial 72 finished with value: 0.9370629370629371 and parameters: {'booster': 'gbtree', 'lambda': 1.0935128403687069e-06, 'alpha': 0.9849041783638411, 'subsample': 0.6786544164778668, 'colsample_bytree': 0.5240601682338917, 'max_depth': 9, 'min_child_weight': 3, 'eta': 0.9607910472737338, 'gamma': 0.000163900056263172, 'grow_policy': 'lossguide'}. Best is trial 52 with value: 0.986013986013986.\n",
      "[I 2024-11-07 18:55:14,477] Trial 73 finished with value: 0.958041958041958 and parameters: {'booster': 'gbtree', 'lambda': 6.821115675330034e-06, 'alpha': 0.166495661033483, 'subsample': 0.6433737700168884, 'colsample_bytree': 0.48896606516552005, 'max_depth': 9, 'min_child_weight': 2, 'eta': 0.3098615678026232, 'gamma': 5.1120014261361615e-05, 'grow_policy': 'lossguide'}. Best is trial 52 with value: 0.986013986013986.\n",
      "[I 2024-11-07 18:55:14,520] Trial 74 finished with value: 0.9300699300699301 and parameters: {'booster': 'gbtree', 'lambda': 1.6385588927468943e-07, 'alpha': 0.011450465975201114, 'subsample': 0.7739578598056622, 'colsample_bytree': 0.5455891929165533, 'max_depth': 9, 'min_child_weight': 3, 'eta': 0.11099357031357433, 'gamma': 0.00026714527759628655, 'grow_policy': 'depthwise'}. Best is trial 52 with value: 0.986013986013986.\n",
      "[I 2024-11-07 18:55:14,558] Trial 75 finished with value: 0.9230769230769231 and parameters: {'booster': 'gbtree', 'lambda': 3.7802905274888766e-06, 'alpha': 0.5673832449992011, 'subsample': 0.5860075987413698, 'colsample_bytree': 0.42691147739675417, 'max_depth': 9, 'min_child_weight': 4, 'eta': 0.6301035617198251, 'gamma': 1.2694228172275969e-05, 'grow_policy': 'depthwise'}. Best is trial 52 with value: 0.986013986013986.\n",
      "[I 2024-11-07 18:55:14,593] Trial 76 finished with value: 0.916083916083916 and parameters: {'booster': 'gblinear', 'lambda': 3.844532980449046e-07, 'alpha': 0.04415654013547893, 'subsample': 0.8769805329800759, 'colsample_bytree': 0.450229080702521}. Best is trial 52 with value: 0.986013986013986.\n",
      "[I 2024-11-07 18:55:14,631] Trial 77 finished with value: 0.951048951048951 and parameters: {'booster': 'gbtree', 'lambda': 2.343527063733917e-06, 'alpha': 0.09565870126350125, 'subsample': 0.731534669077347, 'colsample_bytree': 0.6424406870501131, 'max_depth': 3, 'min_child_weight': 2, 'eta': 0.06880344214912086, 'gamma': 0.0006261117392617759, 'grow_policy': 'lossguide'}. Best is trial 52 with value: 0.986013986013986.\n",
      "[I 2024-11-07 18:55:14,672] Trial 78 finished with value: 0.9370629370629371 and parameters: {'booster': 'gbtree', 'lambda': 1.1800981272849217e-05, 'alpha': 0.4981308253391891, 'subsample': 0.7093100889856815, 'colsample_bytree': 0.9411392191111282, 'max_depth': 7, 'min_child_weight': 3, 'eta': 0.2686822776819539, 'gamma': 0.661103937523899, 'grow_policy': 'depthwise'}. Best is trial 52 with value: 0.986013986013986.\n",
      "[I 2024-11-07 18:55:14,711] Trial 79 finished with value: 0.9440559440559441 and parameters: {'booster': 'gbtree', 'lambda': 6.662016658791031e-07, 'alpha': 0.019077692237992314, 'subsample': 0.9085421481390584, 'colsample_bytree': 0.40672624096637566, 'max_depth': 9, 'min_child_weight': 9, 'eta': 0.5361131806943656, 'gamma': 5.2910533291171485e-06, 'grow_policy': 'depthwise'}. Best is trial 52 with value: 0.986013986013986.\n",
      "[I 2024-11-07 18:55:14,751] Trial 80 finished with value: 0.9020979020979021 and parameters: {'booster': 'gbtree', 'lambda': 5.941113453824124e-05, 'alpha': 0.00686203523446596, 'subsample': 0.949101345152628, 'colsample_bytree': 0.5059426124973532, 'max_depth': 9, 'min_child_weight': 4, 'eta': 0.035640885056428165, 'gamma': 8.824076211250016e-05, 'grow_policy': 'depthwise'}. Best is trial 52 with value: 0.986013986013986.\n",
      "[I 2024-11-07 18:55:14,790] Trial 81 finished with value: 0.965034965034965 and parameters: {'booster': 'gbtree', 'lambda': 4.00357303659363e-06, 'alpha': 0.3587425698050658, 'subsample': 0.45347627356795045, 'colsample_bytree': 0.5229006919426112, 'max_depth': 9, 'min_child_weight': 3, 'eta': 0.48236725218533216, 'gamma': 3.0477509522491205e-05, 'grow_policy': 'depthwise'}. Best is trial 52 with value: 0.986013986013986.\n",
      "[I 2024-11-07 18:55:14,834] Trial 82 finished with value: 0.951048951048951 and parameters: {'booster': 'gbtree', 'lambda': 1.6343489330507084e-06, 'alpha': 0.1874718740940728, 'subsample': 0.4776783462261217, 'colsample_bytree': 0.46749160849360866, 'max_depth': 9, 'min_child_weight': 3, 'eta': 0.1879491063113682, 'gamma': 3.9457470283815524e-05, 'grow_policy': 'depthwise'}. Best is trial 52 with value: 0.986013986013986.\n",
      "[I 2024-11-07 18:55:14,878] Trial 83 finished with value: 0.965034965034965 and parameters: {'booster': 'gbtree', 'lambda': 2.953006577420868e-06, 'alpha': 0.06786762938626616, 'subsample': 0.5022406572140998, 'colsample_bytree': 0.5010488568527921, 'max_depth': 9, 'min_child_weight': 2, 'eta': 0.31214735754604017, 'gamma': 1.0689977115620637e-05, 'grow_policy': 'depthwise'}. Best is trial 52 with value: 0.986013986013986.\n",
      "[I 2024-11-07 18:55:14,918] Trial 84 finished with value: 0.958041958041958 and parameters: {'booster': 'gbtree', 'lambda': 2.4750260327591344e-07, 'alpha': 3.290732514512637e-08, 'subsample': 0.8174345937331123, 'colsample_bytree': 0.5622350200096945, 'max_depth': 9, 'min_child_weight': 3, 'eta': 0.9526744676541944, 'gamma': 5.813559515753275e-05, 'grow_policy': 'depthwise'}. Best is trial 52 with value: 0.986013986013986.\n",
      "[I 2024-11-07 18:55:14,961] Trial 85 finished with value: 0.9300699300699301 and parameters: {'booster': 'gbtree', 'lambda': 9.9562858793716e-07, 'alpha': 0.3203051332664758, 'subsample': 0.6166657799562217, 'colsample_bytree': 0.6091946868865851, 'max_depth': 3, 'min_child_weight': 3, 'eta': 0.08530539918819281, 'gamma': 0.0002398187452307669, 'grow_policy': 'lossguide'}. Best is trial 52 with value: 0.986013986013986.\n",
      "[I 2024-11-07 18:55:15,005] Trial 86 finished with value: 0.965034965034965 and parameters: {'booster': 'gbtree', 'lambda': 2.223912265891423e-05, 'alpha': 0.0023924253528570514, 'subsample': 0.5401315698007534, 'colsample_bytree': 0.8150367990117939, 'max_depth': 9, 'min_child_weight': 2, 'eta': 0.4895592091223577, 'gamma': 1.8303661032127674e-05, 'grow_policy': 'depthwise'}. Best is trial 52 with value: 0.986013986013986.\n",
      "[I 2024-11-07 18:55:15,051] Trial 87 finished with value: 0.6433566433566433 and parameters: {'booster': 'dart', 'lambda': 1.0298077385715897e-08, 'alpha': 0.1399302081631518, 'subsample': 0.4173946047671128, 'colsample_bytree': 0.5775387156555271, 'max_depth': 9, 'min_child_weight': 4, 'eta': 7.993159441393354e-06, 'gamma': 0.00011373748746217719, 'grow_policy': 'depthwise', 'sample_type': 'weighted', 'normalize_type': 'tree', 'rate_drop': 1.6409531732342329e-06, 'skip_drop': 1.7115118204043576e-06}. Best is trial 52 with value: 0.986013986013986.\n",
      "[I 2024-11-07 18:55:15,090] Trial 88 finished with value: 0.9230769230769231 and parameters: {'booster': 'gbtree', 'lambda': 4.48393411290272e-07, 'alpha': 0.6296264540158336, 'subsample': 0.8548465027987193, 'colsample_bytree': 0.7519500886709409, 'max_depth': 7, 'min_child_weight': 5, 'eta': 0.14722130005904366, 'gamma': 0.0004145674990414186, 'grow_policy': 'depthwise'}. Best is trial 52 with value: 0.986013986013986.\n",
      "[I 2024-11-07 18:55:15,121] Trial 89 finished with value: 0.8881118881118881 and parameters: {'booster': 'gblinear', 'lambda': 1.7323728505161646e-06, 'alpha': 0.023527003445794302, 'subsample': 0.485149819736036, 'colsample_bytree': 0.5388953331271452}. Best is trial 52 with value: 0.986013986013986.\n",
      "[I 2024-11-07 18:55:15,164] Trial 90 finished with value: 0.5664335664335665 and parameters: {'booster': 'gbtree', 'lambda': 1.2118058573598488e-05, 'alpha': 0.061968205196945535, 'subsample': 0.3873357850733743, 'colsample_bytree': 0.863301156345197, 'max_depth': 5, 'min_child_weight': 3, 'eta': 4.0155924880263586e-08, 'gamma': 4.218210277505565e-05, 'grow_policy': 'depthwise'}. Best is trial 52 with value: 0.986013986013986.\n",
      "[I 2024-11-07 18:55:15,282] Trial 91 finished with value: 0.951048951048951 and parameters: {'booster': 'gbtree', 'lambda': 3.1604017722525785e-07, 'alpha': 0.12769006498281282, 'subsample': 0.5641631213151141, 'colsample_bytree': 0.29738803922982876, 'max_depth': 9, 'min_child_weight': 2, 'eta': 0.6270790470341365, 'gamma': 0.00017896527190111898, 'grow_policy': 'depthwise'}. Best is trial 52 with value: 0.986013986013986.\n",
      "[I 2024-11-07 18:55:15,321] Trial 92 finished with value: 0.9370629370629371 and parameters: {'booster': 'gbtree', 'lambda': 1.5619195963579414e-07, 'alpha': 0.3863149932739616, 'subsample': 0.58086526196507, 'colsample_bytree': 0.3515963708258283, 'max_depth': 9, 'min_child_weight': 2, 'eta': 0.2994124574565422, 'gamma': 2.8849311969831246e-05, 'grow_policy': 'depthwise'}. Best is trial 52 with value: 0.986013986013986.\n",
      "[I 2024-11-07 18:55:15,360] Trial 93 finished with value: 0.9370629370629371 and parameters: {'booster': 'gbtree', 'lambda': 7.407153553044421e-07, 'alpha': 0.228832937341003, 'subsample': 0.5328123746791098, 'colsample_bytree': 0.3878974041912836, 'max_depth': 9, 'min_child_weight': 2, 'eta': 0.9273725240002848, 'gamma': 7.71611237416282e-05, 'grow_policy': 'depthwise'}. Best is trial 52 with value: 0.986013986013986.\n",
      "[I 2024-11-07 18:55:15,400] Trial 94 finished with value: 0.9370629370629371 and parameters: {'booster': 'gbtree', 'lambda': 7.675778452929742e-08, 'alpha': 0.03592556390819393, 'subsample': 0.6520789616157905, 'colsample_bytree': 0.2552242974825706, 'max_depth': 9, 'min_child_weight': 7, 'eta': 0.21590874590169673, 'gamma': 8.326667725122683e-06, 'grow_policy': 'depthwise'}. Best is trial 52 with value: 0.986013986013986.\n",
      "[I 2024-11-07 18:55:15,438] Trial 95 finished with value: 0.9230769230769231 and parameters: {'booster': 'gbtree', 'lambda': 5.128423911126782e-06, 'alpha': 0.7063128138239518, 'subsample': 0.4361277842438084, 'colsample_bytree': 0.22324840123879186, 'max_depth': 9, 'min_child_weight': 3, 'eta': 0.4248183930100612, 'gamma': 0.0011972853076300167, 'grow_policy': 'depthwise'}. Best is trial 52 with value: 0.986013986013986.\n",
      "[I 2024-11-07 18:55:15,477] Trial 96 finished with value: 0.9300699300699301 and parameters: {'booster': 'gbtree', 'lambda': 2.6121632079772957e-08, 'alpha': 0.0009307859889577601, 'subsample': 0.5162944972339035, 'colsample_bytree': 0.28138204097742026, 'max_depth': 9, 'min_child_weight': 4, 'eta': 0.6165335119600517, 'gamma': 0.00014825248310971977, 'grow_policy': 'lossguide'}. Best is trial 52 with value: 0.986013986013986.\n",
      "[I 2024-11-07 18:55:15,516] Trial 97 finished with value: 0.8951048951048951 and parameters: {'booster': 'gbtree', 'lambda': 4.692049508045804e-07, 'alpha': 0.09507020249284531, 'subsample': 0.4928995969667044, 'colsample_bytree': 0.342684357221107, 'max_depth': 3, 'min_child_weight': 2, 'eta': 0.0721284155944647, 'gamma': 0.0005212612893199064, 'grow_policy': 'depthwise'}. Best is trial 52 with value: 0.986013986013986.\n",
      "[I 2024-11-07 18:55:15,556] Trial 98 finished with value: 0.9790209790209791 and parameters: {'booster': 'gbtree', 'lambda': 3.125898040044989e-07, 'alpha': 0.14916918174372176, 'subsample': 0.5562325183880672, 'colsample_bytree': 0.46870392543240436, 'max_depth': 9, 'min_child_weight': 3, 'eta': 0.14416045158399649, 'gamma': 3.0358096815458743e-06, 'grow_policy': 'depthwise'}. Best is trial 52 with value: 0.986013986013986.\n",
      "[I 2024-11-07 18:55:15,603] Trial 99 finished with value: 0.916083916083916 and parameters: {'booster': 'gbtree', 'lambda': 1.349060231111184e-06, 'alpha': 0.004960739088223786, 'subsample': 0.9886811719138974, 'colsample_bytree': 0.46742662270619106, 'max_depth': 7, 'min_child_weight': 4, 'eta': 0.16447458621004596, 'gamma': 2.9773814500487564e-06, 'grow_policy': 'depthwise'}. Best is trial 52 with value: 0.986013986013986.\n"
     ]
    },
    {
     "name": "stdout",
     "output_type": "stream",
     "text": [
      "Number of finished trials:  100\n",
      "Best trial:\n",
      "  Value: 0.986013986013986\n",
      "  Params: \n",
      "    booster: gbtree\n",
      "    lambda: 4.0627169874393963e-07\n",
      "    alpha: 0.691680412114956\n",
      "    subsample: 0.49583830792730366\n",
      "    colsample_bytree: 0.4333525932651625\n",
      "    max_depth: 9\n",
      "    min_child_weight: 4\n",
      "    eta: 0.3631077530061857\n",
      "    gamma: 4.465268498962337e-05\n",
      "    grow_policy: depthwise\n"
     ]
    }
   ],
   "source": [
    "\"\"\"\n",
    "Optuna example that optimizes a classifier configuration for cancer dataset\n",
    "using XGBoost.\n",
    "\n",
    "In this example, we optimize the validation accuracy of cancer detection\n",
    "using XGBoost. We optimize both the choice of booster model and its\n",
    "hyperparameters.\n",
    "\n",
    "\"\"\"\n",
    "\n",
    "import numpy as np\n",
    "import optuna\n",
    "\n",
    "import sklearn.datasets\n",
    "import sklearn.metrics\n",
    "from sklearn.model_selection import train_test_split\n",
    "import xgboost as xgb\n",
    "\n",
    "\n",
    "def objective(trial):\n",
    "    (data, target) = sklearn.datasets.load_breast_cancer(return_X_y=True)\n",
    "    train_x, valid_x, train_y, valid_y = train_test_split(data, target, test_size=0.25)\n",
    "    dtrain = xgb.DMatrix(train_x, label=train_y)\n",
    "    dvalid = xgb.DMatrix(valid_x, label=valid_y)\n",
    "\n",
    "    param = {\n",
    "        \"verbosity\": 0,\n",
    "        \"objective\": \"binary:logistic\",\n",
    "        # use exact for small dataset.\n",
    "        \"tree_method\": \"exact\",\n",
    "        # defines booster, gblinear for linear functions.\n",
    "        \"booster\": trial.suggest_categorical(\"booster\", [\"gbtree\", \"gblinear\", \"dart\"]),\n",
    "        # L2 regularization weight.\n",
    "        \"lambda\": trial.suggest_float(\"lambda\", 1e-8, 1.0, log=True),\n",
    "        # L1 regularization weight.\n",
    "        \"alpha\": trial.suggest_float(\"alpha\", 1e-8, 1.0, log=True),\n",
    "        # sampling ratio for training data.\n",
    "        \"subsample\": trial.suggest_float(\"subsample\", 0.2, 1.0),\n",
    "        # sampling according to each tree.\n",
    "        \"colsample_bytree\": trial.suggest_float(\"colsample_bytree\", 0.2, 1.0),\n",
    "    }\n",
    "\n",
    "    if param[\"booster\"] in [\"gbtree\", \"dart\"]:\n",
    "        # maximum depth of the tree, signifies complexity of the tree.\n",
    "        param[\"max_depth\"] = trial.suggest_int(\"max_depth\", 3, 9, step=2)\n",
    "        # minimum child weight, larger the term more conservative the tree.\n",
    "        param[\"min_child_weight\"] = trial.suggest_int(\"min_child_weight\", 2, 10)\n",
    "        param[\"eta\"] = trial.suggest_float(\"eta\", 1e-8, 1.0, log=True)\n",
    "        # defines how selective algorithm is.\n",
    "        param[\"gamma\"] = trial.suggest_float(\"gamma\", 1e-8, 1.0, log=True)\n",
    "        param[\"grow_policy\"] = trial.suggest_categorical(\"grow_policy\", [\"depthwise\", \"lossguide\"])\n",
    "\n",
    "    if param[\"booster\"] == \"dart\":\n",
    "        param[\"sample_type\"] = trial.suggest_categorical(\"sample_type\", [\"uniform\", \"weighted\"])\n",
    "        param[\"normalize_type\"] = trial.suggest_categorical(\"normalize_type\", [\"tree\", \"forest\"])\n",
    "        param[\"rate_drop\"] = trial.suggest_float(\"rate_drop\", 1e-8, 1.0, log=True)\n",
    "        param[\"skip_drop\"] = trial.suggest_float(\"skip_drop\", 1e-8, 1.0, log=True)\n",
    "\n",
    "    bst = xgb.train(param, dtrain)\n",
    "    preds = bst.predict(dvalid)\n",
    "    pred_labels = np.rint(preds)\n",
    "    accuracy = sklearn.metrics.accuracy_score(valid_y, pred_labels)\n",
    "    return accuracy\n",
    "\n",
    "\n",
    "if __name__ == \"__main__\":\n",
    "    study = optuna.create_study(direction=\"maximize\")\n",
    "    study.optimize(objective, n_trials=100, timeout=600)\n",
    "\n",
    "    print(\"Number of finished trials: \", len(study.trials))\n",
    "    print(\"Best trial:\")\n",
    "    trial = study.best_trial\n",
    "\n",
    "    print(\"  Value: {}\".format(trial.value))\n",
    "    print(\"  Params: \")\n",
    "    for key, value in trial.params.items():\n",
    "        print(\"    {}: {}\".format(key, value))"
   ]
  },
  {
   "cell_type": "code",
   "execution_count": 9,
   "metadata": {},
   "outputs": [],
   "source": [
    "from sklearn.datasets import make_regression\n",
    "\n",
    "data = make_regression()"
   ]
  },
  {
   "cell_type": "code",
   "execution_count": 11,
   "metadata": {},
   "outputs": [
    {
     "name": "stderr",
     "output_type": "stream",
     "text": [
      "[I 2024-11-07 18:59:38,879] A new study created in memory with name: no-name-ac4809da-1f22-4aee-98fd-d161c98d505b\n",
      "[I 2024-11-07 18:59:38,887] Trial 0 finished with value: 11462.74867595377 and parameters: {'alpha': 0.2548922724375373, 'l1_ratio': 0.7687210280285625}. Best is trial 0 with value: 11462.74867595377.\n",
      "/homes/fb224/fb224/MML-CW/venv/lib/python3.12/site-packages/sklearn/linear_model/_coordinate_descent.py:697: ConvergenceWarning:\n",
      "\n",
      "Objective did not converge. You might want to increase the number of iterations, check the scale of the features or consider increasing regularisation. Duality gap: 3.892e+02, tolerance: 3.002e+02\n",
      "\n",
      "[I 2024-11-07 18:59:38,903] Trial 1 finished with value: 7937.368314204487 and parameters: {'alpha': 0.005258832929089907, 'l1_ratio': 0.8756038210274348}. Best is trial 1 with value: 7937.368314204487.\n",
      "[I 2024-11-07 18:59:38,910] Trial 2 finished with value: 12337.183617786914 and parameters: {'alpha': 0.4893870766495918, 'l1_ratio': 0.7577739161216243}. Best is trial 1 with value: 7937.368314204487.\n",
      "[I 2024-11-07 18:59:38,915] Trial 3 finished with value: 4522.293025864972 and parameters: {'alpha': 0.20902067193355411, 'l1_ratio': 0.9131514243823348}. Best is trial 3 with value: 4522.293025864972.\n",
      "[I 2024-11-07 18:59:38,919] Trial 4 finished with value: 4947.9464272379755 and parameters: {'alpha': 0.5240773562528951, 'l1_ratio': 0.9144306972911291}. Best is trial 3 with value: 4522.293025864972.\n",
      "[I 2024-11-07 18:59:38,922] Trial 5 finished with value: 18433.794081375167 and parameters: {'alpha': 0.6415085373520704, 'l1_ratio': 0.13634129728839806}. Best is trial 3 with value: 4522.293025864972.\n",
      "[I 2024-11-07 18:59:38,927] Trial 6 finished with value: 17232.74638091786 and parameters: {'alpha': 0.8013668688526598, 'l1_ratio': 0.46115229880028663}. Best is trial 3 with value: 4522.293025864972.\n",
      "[I 2024-11-07 18:59:38,931] Trial 7 finished with value: 15639.340282986983 and parameters: {'alpha': 0.43935115883440046, 'l1_ratio': 0.5004007116619755}. Best is trial 3 with value: 4522.293025864972.\n",
      "[I 2024-11-07 18:59:38,933] Trial 8 finished with value: 16040.916334896658 and parameters: {'alpha': 0.31510492945917457, 'l1_ratio': 0.35488936082879285}. Best is trial 3 with value: 4522.293025864972.\n",
      "[I 2024-11-07 18:59:38,936] Trial 9 finished with value: 14143.600973135335 and parameters: {'alpha': 0.6618852270666269, 'l1_ratio': 0.6907155143551863}. Best is trial 3 with value: 4522.293025864972.\n",
      "[I 2024-11-07 18:59:38,950] Trial 10 finished with value: 0.010201955199925374 and parameters: {'alpha': 0.020267948070574082, 'l1_ratio': 0.9949933731454388}. Best is trial 10 with value: 0.010201955199925374.\n",
      "[I 2024-11-07 18:59:38,962] Trial 11 finished with value: 0.005328238307579821 and parameters: {'alpha': 0.014191135183176084, 'l1_ratio': 0.9954243029423632}. Best is trial 11 with value: 0.005328238307579821.\n",
      "[I 2024-11-07 18:59:38,975] Trial 12 finished with value: 1315.910783866103 and parameters: {'alpha': 0.009458358568793396, 'l1_ratio': 0.9844936290269471}. Best is trial 11 with value: 0.005328238307579821.\n",
      "[I 2024-11-07 18:59:38,983] Trial 13 finished with value: 16237.787620198525 and parameters: {'alpha': 0.9994487308256522, 'l1_ratio': 0.6142882981822853}. Best is trial 11 with value: 0.005328238307579821.\n",
      "[I 2024-11-07 18:59:38,992] Trial 14 finished with value: 16231.136227675686 and parameters: {'alpha': 0.14695785106465198, 'l1_ratio': 0.004630598821688814}. Best is trial 11 with value: 0.005328238307579821.\n",
      "[I 2024-11-07 18:59:39,000] Trial 15 finished with value: 2.99189470294042 and parameters: {'alpha': 0.10583751937886737, 'l1_ratio': 0.9780601488612265}. Best is trial 11 with value: 0.005328238307579821.\n",
      "[I 2024-11-07 18:59:39,007] Trial 16 finished with value: 11050.97188702743 and parameters: {'alpha': 0.36654722665438827, 'l1_ratio': 0.7945351623463558}. Best is trial 11 with value: 0.005328238307579821.\n",
      "[I 2024-11-07 18:59:39,015] Trial 17 finished with value: 13660.41702845142 and parameters: {'alpha': 0.12544159083720688, 'l1_ratio': 0.5913927365665783}. Best is trial 11 with value: 0.005328238307579821.\n",
      "[I 2024-11-07 18:59:39,025] Trial 18 finished with value: 15129.908929902773 and parameters: {'alpha': 0.008327318481041152, 'l1_ratio': 0.2895125397925941}. Best is trial 11 with value: 0.005328238307579821.\n",
      "[I 2024-11-07 18:59:39,033] Trial 19 finished with value: 8794.915324613068 and parameters: {'alpha': 0.21879865647140273, 'l1_ratio': 0.8471099195010999}. Best is trial 11 with value: 0.005328238307579821.\n",
      "[I 2024-11-07 18:59:39,041] Trial 20 finished with value: 0.1756434351218061 and parameters: {'alpha': 0.10555190188051344, 'l1_ratio': 0.9982148228260753}. Best is trial 11 with value: 0.005328238307579821.\n",
      "[I 2024-11-07 18:59:39,050] Trial 21 finished with value: 0.395055764429493 and parameters: {'alpha': 0.11601896765249246, 'l1_ratio': 0.9923593162889035}. Best is trial 11 with value: 0.005328238307579821.\n",
      "[I 2024-11-07 18:59:39,059] Trial 22 finished with value: 8015.398930935524 and parameters: {'alpha': 0.08350642429991635, 'l1_ratio': 0.8599809192496253}. Best is trial 11 with value: 0.005328238307579821.\n",
      "[I 2024-11-07 18:59:39,067] Trial 23 finished with value: 12422.06714312035 and parameters: {'alpha': 0.2769492655071148, 'l1_ratio': 0.7246139768765043}. Best is trial 11 with value: 0.005328238307579821.\n",
      "[I 2024-11-07 18:59:39,077] Trial 24 finished with value: 0.10419564432503763 and parameters: {'alpha': 0.05828010889713423, 'l1_ratio': 0.9921906075786657}. Best is trial 11 with value: 0.005328238307579821.\n",
      "[I 2024-11-07 18:59:39,085] Trial 25 finished with value: 12961.775803080433 and parameters: {'alpha': 0.19544312474260472, 'l1_ratio': 0.674517934640136}. Best is trial 11 with value: 0.005328238307579821.\n",
      "[I 2024-11-07 18:59:39,093] Trial 26 finished with value: 10445.383451949328 and parameters: {'alpha': 0.36235624414633355, 'l1_ratio': 0.8136297937001995}. Best is trial 11 with value: 0.005328238307579821.\n",
      "[I 2024-11-07 18:59:39,102] Trial 27 finished with value: 4281.048465615425 and parameters: {'alpha': 0.049792657067501266, 'l1_ratio': 0.9162233949730352}. Best is trial 11 with value: 0.005328238307579821.\n",
      "[I 2024-11-07 18:59:39,111] Trial 28 finished with value: 3070.6329736498083 and parameters: {'alpha': 0.18154267643877445, 'l1_ratio': 0.9279395682813725}. Best is trial 11 with value: 0.005328238307579821.\n",
      "[I 2024-11-07 18:59:39,118] Trial 29 finished with value: 10758.055654349335 and parameters: {'alpha': 0.2886766518018771, 'l1_ratio': 0.7984188719744992}. Best is trial 11 with value: 0.005328238307579821.\n",
      "[I 2024-11-07 18:59:39,127] Trial 30 finished with value: 13584.208390769858 and parameters: {'alpha': 0.05909848296695352, 'l1_ratio': 0.5869747378626338}. Best is trial 11 with value: 0.005328238307579821.\n",
      "[I 2024-11-07 18:59:39,136] Trial 31 finished with value: 14.67225743200273 and parameters: {'alpha': 0.08737814919448524, 'l1_ratio': 0.9708564745255853}. Best is trial 11 with value: 0.005328238307579821.\n",
      "[I 2024-11-07 18:59:39,148] Trial 32 finished with value: 7335.342196573882 and parameters: {'alpha': 0.013033401634430883, 'l1_ratio': 0.8754101010323665}. Best is trial 11 with value: 0.005328238307579821.\n",
      "[I 2024-11-07 18:59:39,157] Trial 33 finished with value: 1.6542483130532963 and parameters: {'alpha': 0.15161943310668494, 'l1_ratio': 0.9856097436162029}. Best is trial 11 with value: 0.005328238307579821.\n",
      "[I 2024-11-07 18:59:39,164] Trial 34 finished with value: 4418.10510247657 and parameters: {'alpha': 0.23848648498296138, 'l1_ratio': 0.9146229803770023}. Best is trial 11 with value: 0.005328238307579821.\n",
      "[I 2024-11-07 18:59:39,173] Trial 35 finished with value: 11250.119209270108 and parameters: {'alpha': 0.05292572509575795, 'l1_ratio': 0.7617002478028407}. Best is trial 11 with value: 0.005328238307579821.\n",
      "[I 2024-11-07 18:59:39,182] Trial 36 finished with value: 8734.72717551146 and parameters: {'alpha': 0.16788919580862693, 'l1_ratio': 0.8463133447001967}. Best is trial 11 with value: 0.005328238307579821.\n",
      "[I 2024-11-07 18:59:39,191] Trial 37 finished with value: 19037.863754301925 and parameters: {'alpha': 0.000832478182778814, 'l1_ratio': 0.9274161058858837}. Best is trial 11 with value: 0.005328238307579821.\n",
      "[I 2024-11-07 18:59:39,201] Trial 38 finished with value: 2840.150461498541 and parameters: {'alpha': 0.538977081325239, 'l1_ratio': 0.9362053178527573}. Best is trial 11 with value: 0.005328238307579821.\n",
      "[I 2024-11-07 18:59:39,212] Trial 39 finished with value: 6936.6774218491755 and parameters: {'alpha': 0.35075346883873293, 'l1_ratio': 0.8855172835814205}. Best is trial 11 with value: 0.005328238307579821.\n",
      "[I 2024-11-07 18:59:39,220] Trial 40 finished with value: 16968.983689336714 and parameters: {'alpha': 0.433195183829872, 'l1_ratio': 0.2781939806562254}. Best is trial 11 with value: 0.005328238307579821.\n",
      "[I 2024-11-07 18:59:39,228] Trial 41 finished with value: 0.22508578644305535 and parameters: {'alpha': 0.09441211052746624, 'l1_ratio': 0.9938547421229005}. Best is trial 11 with value: 0.005328238307579821.\n",
      "[I 2024-11-07 18:59:39,238] Trial 42 finished with value: 0.06949449207431622 and parameters: {'alpha': 0.06274771537631109, 'l1_ratio': 0.9974646733588433}. Best is trial 11 with value: 0.005328238307579821.\n",
      "[I 2024-11-07 18:59:39,247] Trial 43 finished with value: 1689.8945383340247 and parameters: {'alpha': 0.05483690487376582, 'l1_ratio': 0.9422157977763106}. Best is trial 11 with value: 0.005328238307579821.\n",
      "[I 2024-11-07 18:59:39,255] Trial 44 finished with value: 10657.267466773417 and parameters: {'alpha': 0.7905444231944836, 'l1_ratio': 0.8343413740949234}. Best is trial 11 with value: 0.005328238307579821.\n",
      "[I 2024-11-07 18:59:39,263] Trial 45 finished with value: 6503.518829882696 and parameters: {'alpha': 0.12625569704668113, 'l1_ratio': 0.8865154380086383}. Best is trial 11 with value: 0.005328238307579821.\n",
      "[I 2024-11-07 18:59:39,270] Trial 46 finished with value: 15031.49576787327 and parameters: {'alpha': 0.2399762652766987, 'l1_ratio': 0.46407851841537984}. Best is trial 11 with value: 0.005328238307579821.\n",
      "[I 2024-11-07 18:59:39,282] Trial 47 finished with value: 662.2691934006035 and parameters: {'alpha': 0.04178716135223155, 'l1_ratio': 0.9534275217182511}. Best is trial 11 with value: 0.005328238307579821.\n",
      "[I 2024-11-07 18:59:39,290] Trial 48 finished with value: 12346.162336297897 and parameters: {'alpha': 0.17574650417004226, 'l1_ratio': 0.7136248662511059}. Best is trial 11 with value: 0.005328238307579821.\n",
      "[I 2024-11-07 18:59:39,303] Trial 49 finished with value: 18937.99173778821 and parameters: {'alpha': 0.001595387815078432, 'l1_ratio': 0.9988848060488653}. Best is trial 11 with value: 0.005328238307579821.\n",
      "[I 2024-11-07 18:59:39,313] Trial 50 finished with value: 6086.9676578074605 and parameters: {'alpha': 0.12532558676286154, 'l1_ratio': 0.8926235787076864}. Best is trial 11 with value: 0.005328238307579821.\n",
      "[I 2024-11-07 18:59:39,321] Trial 51 finished with value: 0.10071347966511414 and parameters: {'alpha': 0.08139317467037638, 'l1_ratio': 0.9986660479780686}. Best is trial 11 with value: 0.005328238307579821.\n",
      "[I 2024-11-07 18:59:39,332] Trial 52 finished with value: 133.73010957509138 and parameters: {'alpha': 0.0793202371622569, 'l1_ratio': 0.9623381862413626}. Best is trial 11 with value: 0.005328238307579821.\n",
      "[I 2024-11-07 18:59:39,345] Trial 53 finished with value: 837.1232269475681 and parameters: {'alpha': 0.040154301950527625, 'l1_ratio': 0.951623512909866}. Best is trial 11 with value: 0.005328238307579821.\n",
      "[I 2024-11-07 18:59:39,352] Trial 54 finished with value: 5653.045225734268 and parameters: {'alpha': 0.13068437079707612, 'l1_ratio': 0.8985882773987289}. Best is trial 11 with value: 0.005328238307579821.\n",
      "[I 2024-11-07 18:59:39,362] Trial 55 finished with value: 0.6223398341122383 and parameters: {'alpha': 0.2078522991049772, 'l1_ratio': 0.998916503517227}. Best is trial 11 with value: 0.005328238307579821.\n",
      "[I 2024-11-07 18:59:39,369] Trial 56 finished with value: 15746.226401644315 and parameters: {'alpha': 0.09155334717504421, 'l1_ratio': 0.0418167796101695}. Best is trial 11 with value: 0.005328238307579821.\n",
      "[I 2024-11-07 18:59:39,381] Trial 57 finished with value: 9700.838831816396 and parameters: {'alpha': 0.027950175458297387, 'l1_ratio': 0.820072541086482}. Best is trial 11 with value: 0.005328238307579821.\n",
      "[I 2024-11-07 18:59:39,391] Trial 58 finished with value: 1356.2315934011815 and parameters: {'alpha': 0.6791025691873045, 'l1_ratio': 0.9537777383124407}. Best is trial 11 with value: 0.005328238307579821.\n",
      "[I 2024-11-07 18:59:39,400] Trial 59 finished with value: 10920.469454596248 and parameters: {'alpha': 0.14833437198743882, 'l1_ratio': 0.7806868636678503}. Best is trial 11 with value: 0.005328238307579821.\n",
      "[I 2024-11-07 18:59:39,408] Trial 60 finished with value: 14820.674326723127 and parameters: {'alpha': 0.09117793743292069, 'l1_ratio': 0.3712316262360933}. Best is trial 11 with value: 0.005328238307579821.\n",
      "[I 2024-11-07 18:59:39,416] Trial 61 finished with value: 16.88885078413036 and parameters: {'alpha': 0.9527335425933225, 'l1_ratio': 0.9965900606918043}. Best is trial 11 with value: 0.005328238307579821.\n",
      "[I 2024-11-07 18:59:39,425] Trial 62 finished with value: 8084.880043017293 and parameters: {'alpha': 0.07277138403002298, 'l1_ratio': 0.8586909887514753}. Best is trial 11 with value: 0.005328238307579821.\n",
      "[I 2024-11-07 18:59:39,434] Trial 63 finished with value: 80.85545606691518 and parameters: {'alpha': 0.09737856345724677, 'l1_ratio': 0.9639287373176754}. Best is trial 11 with value: 0.005328238307579821.\n",
      "[I 2024-11-07 18:59:39,445] Trial 64 finished with value: 4303.19459478262 and parameters: {'alpha': 0.028787474079545114, 'l1_ratio': 0.9178824583643269}. Best is trial 11 with value: 0.005328238307579821.\n",
      "[I 2024-11-07 18:59:39,454] Trial 65 finished with value: 55.94602059005724 and parameters: {'alpha': 0.16377117123854337, 'l1_ratio': 0.9684028320040514}. Best is trial 11 with value: 0.005328238307579821.\n",
      "[I 2024-11-07 18:59:39,463] Trial 66 finished with value: 4913.678198988041 and parameters: {'alpha': 0.11052433252501571, 'l1_ratio': 0.908013780994842}. Best is trial 11 with value: 0.005328238307579821.\n",
      "[I 2024-11-07 18:59:39,471] Trial 67 finished with value: 1.038001754196584 and parameters: {'alpha': 0.26900421311725126, 'l1_ratio': 0.9989543480376197}. Best is trial 11 with value: 0.005328238307579821.\n",
      "[I 2024-11-07 18:59:39,480] Trial 68 finished with value: 7619.288133686719 and parameters: {'alpha': 0.20292665288971817, 'l1_ratio': 0.8698186900446465}. Best is trial 11 with value: 0.005328238307579821.\n",
      "[I 2024-11-07 18:59:39,488] Trial 69 finished with value: 13160.730735086474 and parameters: {'alpha': 0.06645650223776037, 'l1_ratio': 0.6335178341366808}. Best is trial 11 with value: 0.005328238307579821.\n",
      "[I 2024-11-07 18:59:39,500] Trial 70 finished with value: 2800.5884606833815 and parameters: {'alpha': 0.027355002909148753, 'l1_ratio': 0.9337098216685807}. Best is trial 11 with value: 0.005328238307579821.\n",
      "[I 2024-11-07 18:59:39,508] Trial 71 finished with value: 41.96159118882134 and parameters: {'alpha': 0.12553841910463576, 'l1_ratio': 0.9682467507480599}. Best is trial 11 with value: 0.005328238307579821.\n",
      "[I 2024-11-07 18:59:39,517] Trial 72 finished with value: 19185.282140720883 and parameters: {'alpha': 0.0008628116598091151, 'l1_ratio': 0.9984397564701875}. Best is trial 11 with value: 0.005328238307579821.\n",
      "[I 2024-11-07 18:59:39,527] Trial 73 finished with value: 1994.083367050008 and parameters: {'alpha': 0.06267975907193679, 'l1_ratio': 0.9389685914095502}. Best is trial 11 with value: 0.005328238307579821.\n",
      "[I 2024-11-07 18:59:39,535] Trial 74 finished with value: 5347.201008388352 and parameters: {'alpha': 0.31380326440211553, 'l1_ratio': 0.9052552856025945}. Best is trial 11 with value: 0.005328238307579821.\n",
      "[I 2024-11-07 18:59:39,543] Trial 75 finished with value: 14015.861031245315 and parameters: {'alpha': 0.10802794035039973, 'l1_ratio': 0.5389241852419593}. Best is trial 11 with value: 0.005328238307579821.\n",
      "[I 2024-11-07 18:59:39,552] Trial 76 finished with value: 13.956900839527718 and parameters: {'alpha': 0.1541749740024574, 'l1_ratio': 0.9739254537346144}. Best is trial 11 with value: 0.005328238307579821.\n",
      "[I 2024-11-07 18:59:39,562] Trial 77 finished with value: 2232.9452346849553 and parameters: {'alpha': 0.18539510952530736, 'l1_ratio': 0.9356264763601344}. Best is trial 11 with value: 0.005328238307579821.\n",
      "[I 2024-11-07 18:59:39,572] Trial 78 finished with value: 9103.241285086026 and parameters: {'alpha': 0.04211328045184039, 'l1_ratio': 0.8360505981847428}. Best is trial 11 with value: 0.005328238307579821.\n",
      "[I 2024-11-07 18:59:39,581] Trial 79 finished with value: 8374.299476756481 and parameters: {'alpha': 0.5745294829483564, 'l1_ratio': 0.8702947838587676}. Best is trial 11 with value: 0.005328238307579821.\n",
      "[I 2024-11-07 18:59:39,592] Trial 80 finished with value: 14.935061750234073 and parameters: {'alpha': 0.06846119508574364, 'l1_ratio': 0.9695618441952729}. Best is trial 11 with value: 0.005328238307579821.\n",
      "[I 2024-11-07 18:59:39,600] Trial 81 finished with value: 1.0400917982051527 and parameters: {'alpha': 0.2036679727680072, 'l1_ratio': 0.9938153614472918}. Best is trial 11 with value: 0.005328238307579821.\n",
      "[I 2024-11-07 18:59:39,608] Trial 82 finished with value: 10.528370946011043 and parameters: {'alpha': 0.2273745549810353, 'l1_ratio': 0.9791178750467826}. Best is trial 11 with value: 0.005328238307579821.\n",
      "[I 2024-11-07 18:59:39,618] Trial 83 finished with value: 1348.2833597744261 and parameters: {'alpha': 0.10728202866938263, 'l1_ratio': 0.9442236445905194}. Best is trial 11 with value: 0.005328238307579821.\n",
      "[I 2024-11-07 18:59:39,626] Trial 84 finished with value: 0.2803211522193759 and parameters: {'alpha': 0.1463269262694349, 'l1_ratio': 0.9997359584791945}. Best is trial 11 with value: 0.005328238307579821.\n",
      "[I 2024-11-07 18:59:39,638] Trial 85 finished with value: 4511.8902133906095 and parameters: {'alpha': 0.02151728888548088, 'l1_ratio': 0.9170710241845995}. Best is trial 11 with value: 0.005328238307579821.\n",
      "[I 2024-11-07 18:59:39,647] Trial 86 finished with value: 6190.133397966525 and parameters: {'alpha': 0.13646656167268198, 'l1_ratio': 0.8912276731940458}. Best is trial 11 with value: 0.005328238307579821.\n",
      "[I 2024-11-07 18:59:39,655] Trial 87 finished with value: 1834.921212773068 and parameters: {'alpha': 0.4414618718127265, 'l1_ratio': 0.9440570088615644}. Best is trial 11 with value: 0.005328238307579821.\n",
      "[I 2024-11-07 18:59:39,664] Trial 88 finished with value: 18.146340299976966 and parameters: {'alpha': 0.09247696461013179, 'l1_ratio': 0.9702792391022699}. Best is trial 11 with value: 0.005328238307579821.\n",
      "[I 2024-11-07 18:59:39,675] Trial 89 finished with value: 3608.8687061894134 and parameters: {'alpha': 0.04961591814213368, 'l1_ratio': 0.9233643235247353}. Best is trial 11 with value: 0.005328238307579821.\n",
      "[I 2024-11-07 18:59:39,684] Trial 90 finished with value: 8.863559054420788 and parameters: {'alpha': 0.16856983437165476, 'l1_ratio': 0.9766957703577247}. Best is trial 11 with value: 0.005328238307579821.\n",
      "[I 2024-11-07 18:59:39,696] Trial 91 finished with value: 0.1025653833287135 and parameters: {'alpha': 0.0756511292334494, 'l1_ratio': 0.9971345619479804}. Best is trial 11 with value: 0.005328238307579821.\n",
      "[I 2024-11-07 18:59:39,706] Trial 92 finished with value: 1110.7612925940368 and parameters: {'alpha': 0.080075655029062, 'l1_ratio': 0.9469592336632563}. Best is trial 11 with value: 0.005328238307579821.\n",
      "[I 2024-11-07 18:59:39,717] Trial 93 finished with value: 0.231948879998522 and parameters: {'alpha': 0.11786500060783678, 'l1_ratio': 0.9977267912577816}. Best is trial 11 with value: 0.005328238307579821.\n",
      "[I 2024-11-07 18:59:39,726] Trial 94 finished with value: 15194.428748499224 and parameters: {'alpha': 0.02084064043188976, 'l1_ratio': 0.23201317862361193}. Best is trial 11 with value: 0.005328238307579821.\n",
      "[I 2024-11-07 18:59:39,736] Trial 95 finished with value: 3.87035772863251 and parameters: {'alpha': 0.138964140582321, 'l1_ratio': 0.9796785988024739}. Best is trial 11 with value: 0.005328238307579821.\n",
      "[I 2024-11-07 18:59:39,746] Trial 96 finished with value: 0.038082621800058815 and parameters: {'alpha': 0.05024516520551861, 'l1_ratio': 0.9986953115108359}. Best is trial 11 with value: 0.005328238307579821.\n",
      "[I 2024-11-07 18:59:39,756] Trial 97 finished with value: 5665.7644210430735 and parameters: {'alpha': 0.04647665664979983, 'l1_ratio': 0.8992914948324161}. Best is trial 11 with value: 0.005328238307579821.\n",
      "[I 2024-11-07 18:59:39,766] Trial 98 finished with value: 887.6680677958377 and parameters: {'alpha': 0.07063841777409714, 'l1_ratio': 0.9496533972577735}. Best is trial 11 with value: 0.005328238307579821.\n",
      "[I 2024-11-07 18:59:39,778] Trial 99 finished with value: 4640.410632796857 and parameters: {'alpha': 0.013998835595671978, 'l1_ratio': 0.9194370292328107}. Best is trial 11 with value: 0.005328238307579821.\n"
     ]
    },
    {
     "name": "stdout",
     "output_type": "stream",
     "text": [
      "Best hyperparameters: {'alpha': 0.014191135183176084, 'l1_ratio': 0.9954243029423632}\n",
      "Best value: 0.005328238307579821\n"
     ]
    },
    {
     "data": {
      "application/vnd.plotly.v1+json": {
       "config": {
        "plotlyServerURL": "https://plot.ly"
       },
       "data": [
        {
         "marker": {
          "color": [
           0,
           1,
           2,
           3,
           4,
           5,
           6,
           7,
           8,
           9,
           10,
           11,
           12,
           13,
           14,
           15,
           16,
           17,
           18,
           19,
           20,
           21,
           22,
           23,
           24,
           25,
           26,
           27,
           28,
           29,
           30,
           31,
           32,
           33,
           34,
           35,
           36,
           37,
           38,
           39,
           40,
           41,
           42,
           43,
           44,
           45,
           46,
           47,
           48,
           49,
           50,
           51,
           52,
           53,
           54,
           55,
           56,
           57,
           58,
           59,
           60,
           61,
           62,
           63,
           64,
           65,
           66,
           67,
           68,
           69,
           70,
           71,
           72,
           73,
           74,
           75,
           76,
           77,
           78,
           79,
           80,
           81,
           82,
           83,
           84,
           85,
           86,
           87,
           88,
           89,
           90,
           91,
           92,
           93,
           94,
           95,
           96,
           97,
           98,
           99
          ],
          "colorbar": {
           "title": {
            "text": "Trial"
           },
           "x": 1,
           "xpad": 40
          },
          "colorscale": [
           [
            0,
            "rgb(247,251,255)"
           ],
           [
            0.125,
            "rgb(222,235,247)"
           ],
           [
            0.25,
            "rgb(198,219,239)"
           ],
           [
            0.375,
            "rgb(158,202,225)"
           ],
           [
            0.5,
            "rgb(107,174,214)"
           ],
           [
            0.625,
            "rgb(66,146,198)"
           ],
           [
            0.75,
            "rgb(33,113,181)"
           ],
           [
            0.875,
            "rgb(8,81,156)"
           ],
           [
            1,
            "rgb(8,48,107)"
           ]
          ],
          "line": {
           "color": "Grey",
           "width": 0.5
          },
          "showscale": true
         },
         "mode": "markers",
         "name": "Feasible Trial",
         "showlegend": false,
         "type": "scatter",
         "x": [
          0.2548922724375373,
          0.005258832929089907,
          0.4893870766495918,
          0.20902067193355411,
          0.5240773562528951,
          0.6415085373520704,
          0.8013668688526598,
          0.43935115883440046,
          0.31510492945917457,
          0.6618852270666269,
          0.020267948070574082,
          0.014191135183176084,
          0.009458358568793396,
          0.9994487308256522,
          0.14695785106465198,
          0.10583751937886737,
          0.36654722665438827,
          0.12544159083720688,
          0.008327318481041152,
          0.21879865647140273,
          0.10555190188051344,
          0.11601896765249246,
          0.08350642429991635,
          0.2769492655071148,
          0.05828010889713423,
          0.19544312474260472,
          0.36235624414633355,
          0.049792657067501266,
          0.18154267643877445,
          0.2886766518018771,
          0.05909848296695352,
          0.08737814919448524,
          0.013033401634430883,
          0.15161943310668494,
          0.23848648498296138,
          0.05292572509575795,
          0.16788919580862693,
          0.000832478182778814,
          0.538977081325239,
          0.35075346883873293,
          0.433195183829872,
          0.09441211052746624,
          0.06274771537631109,
          0.05483690487376582,
          0.7905444231944836,
          0.12625569704668113,
          0.2399762652766987,
          0.04178716135223155,
          0.17574650417004226,
          0.001595387815078432,
          0.12532558676286154,
          0.08139317467037638,
          0.0793202371622569,
          0.040154301950527625,
          0.13068437079707612,
          0.2078522991049772,
          0.09155334717504421,
          0.027950175458297387,
          0.6791025691873045,
          0.14833437198743882,
          0.09117793743292069,
          0.9527335425933225,
          0.07277138403002298,
          0.09737856345724677,
          0.028787474079545114,
          0.16377117123854337,
          0.11052433252501571,
          0.26900421311725126,
          0.20292665288971817,
          0.06645650223776037,
          0.027355002909148753,
          0.12553841910463576,
          0.0008628116598091151,
          0.06267975907193679,
          0.31380326440211553,
          0.10802794035039973,
          0.1541749740024574,
          0.18539510952530736,
          0.04211328045184039,
          0.5745294829483564,
          0.06846119508574364,
          0.2036679727680072,
          0.2273745549810353,
          0.10728202866938263,
          0.1463269262694349,
          0.02151728888548088,
          0.13646656167268198,
          0.4414618718127265,
          0.09247696461013179,
          0.04961591814213368,
          0.16856983437165476,
          0.0756511292334494,
          0.080075655029062,
          0.11786500060783678,
          0.02084064043188976,
          0.138964140582321,
          0.05024516520551861,
          0.04647665664979983,
          0.07063841777409714,
          0.013998835595671978
         ],
         "xaxis": "x",
         "y": [
          11462.74867595377,
          7937.368314204487,
          12337.183617786914,
          4522.293025864972,
          4947.9464272379755,
          18433.794081375167,
          17232.74638091786,
          15639.340282986983,
          16040.916334896658,
          14143.600973135335,
          0.010201955199925374,
          0.005328238307579821,
          1315.910783866103,
          16237.787620198525,
          16231.136227675686,
          2.99189470294042,
          11050.97188702743,
          13660.41702845142,
          15129.908929902773,
          8794.915324613068,
          0.1756434351218061,
          0.395055764429493,
          8015.398930935524,
          12422.06714312035,
          0.10419564432503763,
          12961.775803080433,
          10445.383451949328,
          4281.048465615425,
          3070.6329736498083,
          10758.055654349335,
          13584.208390769858,
          14.67225743200273,
          7335.342196573882,
          1.6542483130532963,
          4418.10510247657,
          11250.119209270108,
          8734.72717551146,
          19037.863754301925,
          2840.150461498541,
          6936.6774218491755,
          16968.983689336714,
          0.22508578644305535,
          0.06949449207431622,
          1689.8945383340247,
          10657.267466773417,
          6503.518829882696,
          15031.49576787327,
          662.2691934006035,
          12346.162336297897,
          18937.99173778821,
          6086.9676578074605,
          0.10071347966511414,
          133.73010957509138,
          837.1232269475681,
          5653.045225734268,
          0.6223398341122383,
          15746.226401644315,
          9700.838831816396,
          1356.2315934011815,
          10920.469454596248,
          14820.674326723127,
          16.88885078413036,
          8084.880043017293,
          80.85545606691518,
          4303.19459478262,
          55.94602059005724,
          4913.678198988041,
          1.038001754196584,
          7619.288133686719,
          13160.730735086474,
          2800.5884606833815,
          41.96159118882134,
          19185.282140720883,
          1994.083367050008,
          5347.201008388352,
          14015.861031245315,
          13.956900839527718,
          2232.9452346849553,
          9103.241285086026,
          8374.299476756481,
          14.935061750234073,
          1.0400917982051527,
          10.528370946011043,
          1348.2833597744261,
          0.2803211522193759,
          4511.8902133906095,
          6190.133397966525,
          1834.921212773068,
          18.146340299976966,
          3608.8687061894134,
          8.863559054420788,
          0.1025653833287135,
          1110.7612925940368,
          0.231948879998522,
          15194.428748499224,
          3.87035772863251,
          0.038082621800058815,
          5665.7644210430735,
          887.6680677958377,
          4640.410632796857
         ],
         "yaxis": "y"
        },
        {
         "marker": {
          "color": [
           0,
           1,
           2,
           3,
           4,
           5,
           6,
           7,
           8,
           9,
           10,
           11,
           12,
           13,
           14,
           15,
           16,
           17,
           18,
           19,
           20,
           21,
           22,
           23,
           24,
           25,
           26,
           27,
           28,
           29,
           30,
           31,
           32,
           33,
           34,
           35,
           36,
           37,
           38,
           39,
           40,
           41,
           42,
           43,
           44,
           45,
           46,
           47,
           48,
           49,
           50,
           51,
           52,
           53,
           54,
           55,
           56,
           57,
           58,
           59,
           60,
           61,
           62,
           63,
           64,
           65,
           66,
           67,
           68,
           69,
           70,
           71,
           72,
           73,
           74,
           75,
           76,
           77,
           78,
           79,
           80,
           81,
           82,
           83,
           84,
           85,
           86,
           87,
           88,
           89,
           90,
           91,
           92,
           93,
           94,
           95,
           96,
           97,
           98,
           99
          ],
          "colorbar": {
           "title": {
            "text": "Trial"
           },
           "x": 1,
           "xpad": 40
          },
          "colorscale": [
           [
            0,
            "rgb(247,251,255)"
           ],
           [
            0.125,
            "rgb(222,235,247)"
           ],
           [
            0.25,
            "rgb(198,219,239)"
           ],
           [
            0.375,
            "rgb(158,202,225)"
           ],
           [
            0.5,
            "rgb(107,174,214)"
           ],
           [
            0.625,
            "rgb(66,146,198)"
           ],
           [
            0.75,
            "rgb(33,113,181)"
           ],
           [
            0.875,
            "rgb(8,81,156)"
           ],
           [
            1,
            "rgb(8,48,107)"
           ]
          ],
          "line": {
           "color": "Grey",
           "width": 0.5
          },
          "showscale": false
         },
         "mode": "markers",
         "name": "Feasible Trial",
         "showlegend": false,
         "type": "scatter",
         "x": [
          0.7687210280285625,
          0.8756038210274348,
          0.7577739161216243,
          0.9131514243823348,
          0.9144306972911291,
          0.13634129728839806,
          0.46115229880028663,
          0.5004007116619755,
          0.35488936082879285,
          0.6907155143551863,
          0.9949933731454388,
          0.9954243029423632,
          0.9844936290269471,
          0.6142882981822853,
          0.004630598821688814,
          0.9780601488612265,
          0.7945351623463558,
          0.5913927365665783,
          0.2895125397925941,
          0.8471099195010999,
          0.9982148228260753,
          0.9923593162889035,
          0.8599809192496253,
          0.7246139768765043,
          0.9921906075786657,
          0.674517934640136,
          0.8136297937001995,
          0.9162233949730352,
          0.9279395682813725,
          0.7984188719744992,
          0.5869747378626338,
          0.9708564745255853,
          0.8754101010323665,
          0.9856097436162029,
          0.9146229803770023,
          0.7617002478028407,
          0.8463133447001967,
          0.9274161058858837,
          0.9362053178527573,
          0.8855172835814205,
          0.2781939806562254,
          0.9938547421229005,
          0.9974646733588433,
          0.9422157977763106,
          0.8343413740949234,
          0.8865154380086383,
          0.46407851841537984,
          0.9534275217182511,
          0.7136248662511059,
          0.9988848060488653,
          0.8926235787076864,
          0.9986660479780686,
          0.9623381862413626,
          0.951623512909866,
          0.8985882773987289,
          0.998916503517227,
          0.0418167796101695,
          0.820072541086482,
          0.9537777383124407,
          0.7806868636678503,
          0.3712316262360933,
          0.9965900606918043,
          0.8586909887514753,
          0.9639287373176754,
          0.9178824583643269,
          0.9684028320040514,
          0.908013780994842,
          0.9989543480376197,
          0.8698186900446465,
          0.6335178341366808,
          0.9337098216685807,
          0.9682467507480599,
          0.9984397564701875,
          0.9389685914095502,
          0.9052552856025945,
          0.5389241852419593,
          0.9739254537346144,
          0.9356264763601344,
          0.8360505981847428,
          0.8702947838587676,
          0.9695618441952729,
          0.9938153614472918,
          0.9791178750467826,
          0.9442236445905194,
          0.9997359584791945,
          0.9170710241845995,
          0.8912276731940458,
          0.9440570088615644,
          0.9702792391022699,
          0.9233643235247353,
          0.9766957703577247,
          0.9971345619479804,
          0.9469592336632563,
          0.9977267912577816,
          0.23201317862361193,
          0.9796785988024739,
          0.9986953115108359,
          0.8992914948324161,
          0.9496533972577735,
          0.9194370292328107
         ],
         "xaxis": "x2",
         "y": [
          11462.74867595377,
          7937.368314204487,
          12337.183617786914,
          4522.293025864972,
          4947.9464272379755,
          18433.794081375167,
          17232.74638091786,
          15639.340282986983,
          16040.916334896658,
          14143.600973135335,
          0.010201955199925374,
          0.005328238307579821,
          1315.910783866103,
          16237.787620198525,
          16231.136227675686,
          2.99189470294042,
          11050.97188702743,
          13660.41702845142,
          15129.908929902773,
          8794.915324613068,
          0.1756434351218061,
          0.395055764429493,
          8015.398930935524,
          12422.06714312035,
          0.10419564432503763,
          12961.775803080433,
          10445.383451949328,
          4281.048465615425,
          3070.6329736498083,
          10758.055654349335,
          13584.208390769858,
          14.67225743200273,
          7335.342196573882,
          1.6542483130532963,
          4418.10510247657,
          11250.119209270108,
          8734.72717551146,
          19037.863754301925,
          2840.150461498541,
          6936.6774218491755,
          16968.983689336714,
          0.22508578644305535,
          0.06949449207431622,
          1689.8945383340247,
          10657.267466773417,
          6503.518829882696,
          15031.49576787327,
          662.2691934006035,
          12346.162336297897,
          18937.99173778821,
          6086.9676578074605,
          0.10071347966511414,
          133.73010957509138,
          837.1232269475681,
          5653.045225734268,
          0.6223398341122383,
          15746.226401644315,
          9700.838831816396,
          1356.2315934011815,
          10920.469454596248,
          14820.674326723127,
          16.88885078413036,
          8084.880043017293,
          80.85545606691518,
          4303.19459478262,
          55.94602059005724,
          4913.678198988041,
          1.038001754196584,
          7619.288133686719,
          13160.730735086474,
          2800.5884606833815,
          41.96159118882134,
          19185.282140720883,
          1994.083367050008,
          5347.201008388352,
          14015.861031245315,
          13.956900839527718,
          2232.9452346849553,
          9103.241285086026,
          8374.299476756481,
          14.935061750234073,
          1.0400917982051527,
          10.528370946011043,
          1348.2833597744261,
          0.2803211522193759,
          4511.8902133906095,
          6190.133397966525,
          1834.921212773068,
          18.146340299976966,
          3608.8687061894134,
          8.863559054420788,
          0.1025653833287135,
          1110.7612925940368,
          0.231948879998522,
          15194.428748499224,
          3.87035772863251,
          0.038082621800058815,
          5665.7644210430735,
          887.6680677958377,
          4640.410632796857
         ],
         "yaxis": "y2"
        }
       ],
       "layout": {
        "template": {
         "data": {
          "bar": [
           {
            "error_x": {
             "color": "#2a3f5f"
            },
            "error_y": {
             "color": "#2a3f5f"
            },
            "marker": {
             "line": {
              "color": "#E5ECF6",
              "width": 0.5
             },
             "pattern": {
              "fillmode": "overlay",
              "size": 10,
              "solidity": 0.2
             }
            },
            "type": "bar"
           }
          ],
          "barpolar": [
           {
            "marker": {
             "line": {
              "color": "#E5ECF6",
              "width": 0.5
             },
             "pattern": {
              "fillmode": "overlay",
              "size": 10,
              "solidity": 0.2
             }
            },
            "type": "barpolar"
           }
          ],
          "carpet": [
           {
            "aaxis": {
             "endlinecolor": "#2a3f5f",
             "gridcolor": "white",
             "linecolor": "white",
             "minorgridcolor": "white",
             "startlinecolor": "#2a3f5f"
            },
            "baxis": {
             "endlinecolor": "#2a3f5f",
             "gridcolor": "white",
             "linecolor": "white",
             "minorgridcolor": "white",
             "startlinecolor": "#2a3f5f"
            },
            "type": "carpet"
           }
          ],
          "choropleth": [
           {
            "colorbar": {
             "outlinewidth": 0,
             "ticks": ""
            },
            "type": "choropleth"
           }
          ],
          "contour": [
           {
            "colorbar": {
             "outlinewidth": 0,
             "ticks": ""
            },
            "colorscale": [
             [
              0,
              "#0d0887"
             ],
             [
              0.1111111111111111,
              "#46039f"
             ],
             [
              0.2222222222222222,
              "#7201a8"
             ],
             [
              0.3333333333333333,
              "#9c179e"
             ],
             [
              0.4444444444444444,
              "#bd3786"
             ],
             [
              0.5555555555555556,
              "#d8576b"
             ],
             [
              0.6666666666666666,
              "#ed7953"
             ],
             [
              0.7777777777777778,
              "#fb9f3a"
             ],
             [
              0.8888888888888888,
              "#fdca26"
             ],
             [
              1,
              "#f0f921"
             ]
            ],
            "type": "contour"
           }
          ],
          "contourcarpet": [
           {
            "colorbar": {
             "outlinewidth": 0,
             "ticks": ""
            },
            "type": "contourcarpet"
           }
          ],
          "heatmap": [
           {
            "colorbar": {
             "outlinewidth": 0,
             "ticks": ""
            },
            "colorscale": [
             [
              0,
              "#0d0887"
             ],
             [
              0.1111111111111111,
              "#46039f"
             ],
             [
              0.2222222222222222,
              "#7201a8"
             ],
             [
              0.3333333333333333,
              "#9c179e"
             ],
             [
              0.4444444444444444,
              "#bd3786"
             ],
             [
              0.5555555555555556,
              "#d8576b"
             ],
             [
              0.6666666666666666,
              "#ed7953"
             ],
             [
              0.7777777777777778,
              "#fb9f3a"
             ],
             [
              0.8888888888888888,
              "#fdca26"
             ],
             [
              1,
              "#f0f921"
             ]
            ],
            "type": "heatmap"
           }
          ],
          "heatmapgl": [
           {
            "colorbar": {
             "outlinewidth": 0,
             "ticks": ""
            },
            "colorscale": [
             [
              0,
              "#0d0887"
             ],
             [
              0.1111111111111111,
              "#46039f"
             ],
             [
              0.2222222222222222,
              "#7201a8"
             ],
             [
              0.3333333333333333,
              "#9c179e"
             ],
             [
              0.4444444444444444,
              "#bd3786"
             ],
             [
              0.5555555555555556,
              "#d8576b"
             ],
             [
              0.6666666666666666,
              "#ed7953"
             ],
             [
              0.7777777777777778,
              "#fb9f3a"
             ],
             [
              0.8888888888888888,
              "#fdca26"
             ],
             [
              1,
              "#f0f921"
             ]
            ],
            "type": "heatmapgl"
           }
          ],
          "histogram": [
           {
            "marker": {
             "pattern": {
              "fillmode": "overlay",
              "size": 10,
              "solidity": 0.2
             }
            },
            "type": "histogram"
           }
          ],
          "histogram2d": [
           {
            "colorbar": {
             "outlinewidth": 0,
             "ticks": ""
            },
            "colorscale": [
             [
              0,
              "#0d0887"
             ],
             [
              0.1111111111111111,
              "#46039f"
             ],
             [
              0.2222222222222222,
              "#7201a8"
             ],
             [
              0.3333333333333333,
              "#9c179e"
             ],
             [
              0.4444444444444444,
              "#bd3786"
             ],
             [
              0.5555555555555556,
              "#d8576b"
             ],
             [
              0.6666666666666666,
              "#ed7953"
             ],
             [
              0.7777777777777778,
              "#fb9f3a"
             ],
             [
              0.8888888888888888,
              "#fdca26"
             ],
             [
              1,
              "#f0f921"
             ]
            ],
            "type": "histogram2d"
           }
          ],
          "histogram2dcontour": [
           {
            "colorbar": {
             "outlinewidth": 0,
             "ticks": ""
            },
            "colorscale": [
             [
              0,
              "#0d0887"
             ],
             [
              0.1111111111111111,
              "#46039f"
             ],
             [
              0.2222222222222222,
              "#7201a8"
             ],
             [
              0.3333333333333333,
              "#9c179e"
             ],
             [
              0.4444444444444444,
              "#bd3786"
             ],
             [
              0.5555555555555556,
              "#d8576b"
             ],
             [
              0.6666666666666666,
              "#ed7953"
             ],
             [
              0.7777777777777778,
              "#fb9f3a"
             ],
             [
              0.8888888888888888,
              "#fdca26"
             ],
             [
              1,
              "#f0f921"
             ]
            ],
            "type": "histogram2dcontour"
           }
          ],
          "mesh3d": [
           {
            "colorbar": {
             "outlinewidth": 0,
             "ticks": ""
            },
            "type": "mesh3d"
           }
          ],
          "parcoords": [
           {
            "line": {
             "colorbar": {
              "outlinewidth": 0,
              "ticks": ""
             }
            },
            "type": "parcoords"
           }
          ],
          "pie": [
           {
            "automargin": true,
            "type": "pie"
           }
          ],
          "scatter": [
           {
            "fillpattern": {
             "fillmode": "overlay",
             "size": 10,
             "solidity": 0.2
            },
            "type": "scatter"
           }
          ],
          "scatter3d": [
           {
            "line": {
             "colorbar": {
              "outlinewidth": 0,
              "ticks": ""
             }
            },
            "marker": {
             "colorbar": {
              "outlinewidth": 0,
              "ticks": ""
             }
            },
            "type": "scatter3d"
           }
          ],
          "scattercarpet": [
           {
            "marker": {
             "colorbar": {
              "outlinewidth": 0,
              "ticks": ""
             }
            },
            "type": "scattercarpet"
           }
          ],
          "scattergeo": [
           {
            "marker": {
             "colorbar": {
              "outlinewidth": 0,
              "ticks": ""
             }
            },
            "type": "scattergeo"
           }
          ],
          "scattergl": [
           {
            "marker": {
             "colorbar": {
              "outlinewidth": 0,
              "ticks": ""
             }
            },
            "type": "scattergl"
           }
          ],
          "scattermapbox": [
           {
            "marker": {
             "colorbar": {
              "outlinewidth": 0,
              "ticks": ""
             }
            },
            "type": "scattermapbox"
           }
          ],
          "scatterpolar": [
           {
            "marker": {
             "colorbar": {
              "outlinewidth": 0,
              "ticks": ""
             }
            },
            "type": "scatterpolar"
           }
          ],
          "scatterpolargl": [
           {
            "marker": {
             "colorbar": {
              "outlinewidth": 0,
              "ticks": ""
             }
            },
            "type": "scatterpolargl"
           }
          ],
          "scatterternary": [
           {
            "marker": {
             "colorbar": {
              "outlinewidth": 0,
              "ticks": ""
             }
            },
            "type": "scatterternary"
           }
          ],
          "surface": [
           {
            "colorbar": {
             "outlinewidth": 0,
             "ticks": ""
            },
            "colorscale": [
             [
              0,
              "#0d0887"
             ],
             [
              0.1111111111111111,
              "#46039f"
             ],
             [
              0.2222222222222222,
              "#7201a8"
             ],
             [
              0.3333333333333333,
              "#9c179e"
             ],
             [
              0.4444444444444444,
              "#bd3786"
             ],
             [
              0.5555555555555556,
              "#d8576b"
             ],
             [
              0.6666666666666666,
              "#ed7953"
             ],
             [
              0.7777777777777778,
              "#fb9f3a"
             ],
             [
              0.8888888888888888,
              "#fdca26"
             ],
             [
              1,
              "#f0f921"
             ]
            ],
            "type": "surface"
           }
          ],
          "table": [
           {
            "cells": {
             "fill": {
              "color": "#EBF0F8"
             },
             "line": {
              "color": "white"
             }
            },
            "header": {
             "fill": {
              "color": "#C8D4E3"
             },
             "line": {
              "color": "white"
             }
            },
            "type": "table"
           }
          ]
         },
         "layout": {
          "annotationdefaults": {
           "arrowcolor": "#2a3f5f",
           "arrowhead": 0,
           "arrowwidth": 1
          },
          "autotypenumbers": "strict",
          "coloraxis": {
           "colorbar": {
            "outlinewidth": 0,
            "ticks": ""
           }
          },
          "colorscale": {
           "diverging": [
            [
             0,
             "#8e0152"
            ],
            [
             0.1,
             "#c51b7d"
            ],
            [
             0.2,
             "#de77ae"
            ],
            [
             0.3,
             "#f1b6da"
            ],
            [
             0.4,
             "#fde0ef"
            ],
            [
             0.5,
             "#f7f7f7"
            ],
            [
             0.6,
             "#e6f5d0"
            ],
            [
             0.7,
             "#b8e186"
            ],
            [
             0.8,
             "#7fbc41"
            ],
            [
             0.9,
             "#4d9221"
            ],
            [
             1,
             "#276419"
            ]
           ],
           "sequential": [
            [
             0,
             "#0d0887"
            ],
            [
             0.1111111111111111,
             "#46039f"
            ],
            [
             0.2222222222222222,
             "#7201a8"
            ],
            [
             0.3333333333333333,
             "#9c179e"
            ],
            [
             0.4444444444444444,
             "#bd3786"
            ],
            [
             0.5555555555555556,
             "#d8576b"
            ],
            [
             0.6666666666666666,
             "#ed7953"
            ],
            [
             0.7777777777777778,
             "#fb9f3a"
            ],
            [
             0.8888888888888888,
             "#fdca26"
            ],
            [
             1,
             "#f0f921"
            ]
           ],
           "sequentialminus": [
            [
             0,
             "#0d0887"
            ],
            [
             0.1111111111111111,
             "#46039f"
            ],
            [
             0.2222222222222222,
             "#7201a8"
            ],
            [
             0.3333333333333333,
             "#9c179e"
            ],
            [
             0.4444444444444444,
             "#bd3786"
            ],
            [
             0.5555555555555556,
             "#d8576b"
            ],
            [
             0.6666666666666666,
             "#ed7953"
            ],
            [
             0.7777777777777778,
             "#fb9f3a"
            ],
            [
             0.8888888888888888,
             "#fdca26"
            ],
            [
             1,
             "#f0f921"
            ]
           ]
          },
          "colorway": [
           "#636efa",
           "#EF553B",
           "#00cc96",
           "#ab63fa",
           "#FFA15A",
           "#19d3f3",
           "#FF6692",
           "#B6E880",
           "#FF97FF",
           "#FECB52"
          ],
          "font": {
           "color": "#2a3f5f"
          },
          "geo": {
           "bgcolor": "white",
           "lakecolor": "white",
           "landcolor": "#E5ECF6",
           "showlakes": true,
           "showland": true,
           "subunitcolor": "white"
          },
          "hoverlabel": {
           "align": "left"
          },
          "hovermode": "closest",
          "mapbox": {
           "style": "light"
          },
          "paper_bgcolor": "white",
          "plot_bgcolor": "#E5ECF6",
          "polar": {
           "angularaxis": {
            "gridcolor": "white",
            "linecolor": "white",
            "ticks": ""
           },
           "bgcolor": "#E5ECF6",
           "radialaxis": {
            "gridcolor": "white",
            "linecolor": "white",
            "ticks": ""
           }
          },
          "scene": {
           "xaxis": {
            "backgroundcolor": "#E5ECF6",
            "gridcolor": "white",
            "gridwidth": 2,
            "linecolor": "white",
            "showbackground": true,
            "ticks": "",
            "zerolinecolor": "white"
           },
           "yaxis": {
            "backgroundcolor": "#E5ECF6",
            "gridcolor": "white",
            "gridwidth": 2,
            "linecolor": "white",
            "showbackground": true,
            "ticks": "",
            "zerolinecolor": "white"
           },
           "zaxis": {
            "backgroundcolor": "#E5ECF6",
            "gridcolor": "white",
            "gridwidth": 2,
            "linecolor": "white",
            "showbackground": true,
            "ticks": "",
            "zerolinecolor": "white"
           }
          },
          "shapedefaults": {
           "line": {
            "color": "#2a3f5f"
           }
          },
          "ternary": {
           "aaxis": {
            "gridcolor": "white",
            "linecolor": "white",
            "ticks": ""
           },
           "baxis": {
            "gridcolor": "white",
            "linecolor": "white",
            "ticks": ""
           },
           "bgcolor": "#E5ECF6",
           "caxis": {
            "gridcolor": "white",
            "linecolor": "white",
            "ticks": ""
           }
          },
          "title": {
           "x": 0.05
          },
          "xaxis": {
           "automargin": true,
           "gridcolor": "white",
           "linecolor": "white",
           "ticks": "",
           "title": {
            "standoff": 15
           },
           "zerolinecolor": "white",
           "zerolinewidth": 2
          },
          "yaxis": {
           "automargin": true,
           "gridcolor": "white",
           "linecolor": "white",
           "ticks": "",
           "title": {
            "standoff": 15
           },
           "zerolinecolor": "white",
           "zerolinewidth": 2
          }
         }
        },
        "title": {
         "text": "Slice Plot"
        },
        "xaxis": {
         "anchor": "y",
         "domain": [
          0,
          0.45
         ],
         "title": {
          "text": "alpha"
         }
        },
        "xaxis2": {
         "anchor": "y2",
         "domain": [
          0.55,
          1
         ],
         "title": {
          "text": "l1_ratio"
         }
        },
        "yaxis": {
         "anchor": "x",
         "domain": [
          0,
          1
         ],
         "title": {
          "text": "Objective Value"
         }
        },
        "yaxis2": {
         "anchor": "x2",
         "domain": [
          0,
          1
         ],
         "matches": "y",
         "showticklabels": false
        }
       }
      }
     },
     "metadata": {},
     "output_type": "display_data"
    }
   ],
   "source": [
    "import optuna\n",
    "import optuna.visualization as vis\n",
    "\n",
    "import numpy as np\n",
    "\n",
    "from sklearn.linear_model import ElasticNet\n",
    "from sklearn.metrics import mean_squared_error\n",
    "from sklearn.model_selection import train_test_split\n",
    "\n",
    "\n",
    "def objective(trial):\n",
    "    # Load dataset\n",
    "    \n",
    "    X, y = data\n",
    "    X_train, X_test, y_train, y_test = train_test_split(X, y, test_size=0.3, random_state=42)\n",
    "    # Suggest hyperparameters\n",
    "    alpha = trial.suggest_float(\"alpha\", 0.0, 1.0)\n",
    "    l1_ratio = trial.suggest_float(\"l1_ratio\", 0.0, 1.0)\n",
    "    # Train and evaluate model\n",
    "    model = ElasticNet(alpha=alpha, l1_ratio=l1_ratio)\n",
    "    model.fit(X_train, y_train)\n",
    "    y_pred = model.predict(X_test)\n",
    "    score = mean_squared_error(y_test, y_pred)\n",
    "    return score\n",
    "\n",
    "\n",
    "# Create a study object\n",
    "pruner = optuna.pruners.MedianPruner()\n",
    "study = optuna.create_study(direction=\"minimize\", pruner=pruner)\n",
    "\n",
    "# Optimize the objective function\n",
    "study.optimize(objective, n_trials=100)\n",
    "\n",
    "print(\"Best hyperparameters:\", study.best_params)\n",
    "print(\"Best value:\", study.best_value)\n",
    "\n",
    "vis.plot_optimization_history(study)\n",
    "vis.plot_param_importances(study)\n",
    "vis.plot_slice(study)"
   ]
  }
 ],
 "metadata": {
  "kernelspec": {
   "display_name": "venv",
   "language": "python",
   "name": "python3"
  },
  "language_info": {
   "codemirror_mode": {
    "name": "ipython",
    "version": 3
   },
   "file_extension": ".py",
   "mimetype": "text/x-python",
   "name": "python",
   "nbconvert_exporter": "python",
   "pygments_lexer": "ipython3",
   "version": "3.12.3"
  }
 },
 "nbformat": 4,
 "nbformat_minor": 2
}
