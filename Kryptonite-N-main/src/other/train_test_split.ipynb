{
 "cells": [
  {
   "cell_type": "markdown",
   "metadata": {},
   "source": [
    "### Create Train-Test Split\n",
    "Note: This code was used to generate the training set, which was used for hyperparameter searching, and the testing set, which was used for the McNemar test"
   ]
  },
  {
   "cell_type": "code",
   "execution_count": 1,
   "metadata": {},
   "outputs": [],
   "source": [
    "import numpy as np\n",
    "from sklearn.model_selection import train_test_split"
   ]
  },
  {
   "cell_type": "code",
   "execution_count": null,
   "metadata": {},
   "outputs": [],
   "source": [
    "RUN_TRAIN_TEST_SPLIT = False\n",
    "\n",
    "list_n = [9, 12, 15, 18]\n",
    "list_n = [9]\n",
    "\n",
    "save_loc = f'../../Datasets_Train_Test_Split/'"
   ]
  },
  {
   "cell_type": "code",
   "execution_count": null,
   "metadata": {},
   "outputs": [
    {
     "name": "stdout",
     "output_type": "stream",
     "text": [
      "n: [9] (14400, 9) (3600, 9) (14400,) (3600,)\n"
     ]
    }
   ],
   "source": [
    "if RUN_TRAIN_TEST_SPLIT:\n",
    "    for n in list_n:\n",
    "        X = np.load('../../Datasets/kryptonite-%s-X.npy' % n)\n",
    "        y = np.load('../../Datasets/kryptonite-%s-y.npy' % n)\n",
    "\n",
    "        X_train, X_test, y_train, y_test = train_test_split(X, y, test_size=0.2, random_state=42)  # 20% of all data for final model evaluation\n",
    "\n",
    "        print(f'n: [{n}]', X_train.shape, X_test.shape, y_train.shape, y_test.shape)\n",
    "\n",
    "        np.save('%skryptonite-%s-X_train.npy' % (save_loc, n), X_train)\n",
    "        np.save('%skryptonite-%s-X_test.npy' % (save_loc, n), X_test)\n",
    "        np.save('%skryptonite-%s-y_train.npy' % (save_loc, n), y_train)\n",
    "        np.save('%skryptonite-%s-y_test.npy' % (save_loc, n), y_test)"
   ]
  }
 ],
 "metadata": {
  "kernelspec": {
   "display_name": ".venv",
   "language": "python",
   "name": "python3"
  },
  "language_info": {
   "codemirror_mode": {
    "name": "ipython",
    "version": 3
   },
   "file_extension": ".py",
   "mimetype": "text/x-python",
   "name": "python",
   "nbconvert_exporter": "python",
   "pygments_lexer": "ipython3",
   "version": "3.12.0"
  }
 },
 "nbformat": 4,
 "nbformat_minor": 2
}
