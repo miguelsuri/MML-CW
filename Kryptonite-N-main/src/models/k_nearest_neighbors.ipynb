{
 "cells": [
  {
   "metadata": {},
   "cell_type": "code",
   "outputs": [],
   "execution_count": null,
   "source": [
    "import numpy as np\n",
    "import joblib  # for saving the model\n",
    "from sklearn.model_selection import train_test_split\n",
    "from sklearn.preprocessing import StandardScaler\n",
    "from sklearn.metrics import accuracy_score\n",
    "from sklearn.decomposition import PCA\n",
    "from sklearn.neighbors import KNeighborsClassifier\n",
    "import optuna\n",
    "import optuna.visualization as vis"
   ]
  },
  {
   "metadata": {},
   "cell_type": "code",
   "outputs": [],
   "execution_count": null,
   "source": [
    "n = 9\n",
    "\n",
    "X = np.load('Datasets_Train_Test_Split/kryptonite-%s-X.npy' % (n))\n",
    "y = np.load('Datasets_Train_Test_Split/kryptonite-%s-y.npy' % (n))\n",
    "\n",
    "X_train_total, X_test, y_train_total, y_test = train_test_split(X, y, test_size=0.1, random_state=42)  # 10% of all data for final model evaluation\n",
    "\n",
    "# To hold the best model and accuracy score\n",
    "best_model = None\n",
    "best_accuracy = -1"
   ]
  },
  {
   "metadata": {},
   "cell_type": "code",
   "outputs": [],
   "execution_count": null,
   "source": [
    "def objective(trial):\n",
    "    global best_model, best_scaler, best_accuracy, best_pca\n",
    "\n",
    "    # Shuffle and split data\n",
    "    X_train, X_val, y_train, y_val = train_test_split(X_train_total, y_train_total, test_size=0.8, random_state=42)\n",
    "\n",
    "    scaler = StandardScaler()\n",
    "    X_train_scaled = scaler.fit_transform(X_train)\n",
    "    X_val_scaled = scaler.transform(X_val)\n",
    "\n",
    "    pca = PCA(n_components=trial.suggest_int('n_components', 1, X_train_scaled.shape[1]))\n",
    "    X_train_scaled = pca.fit_transform(X_train_scaled)\n",
    "    X_val_scaled = pca.transform(X_val_scaled)\n",
    "\n",
    "    # KNN Classifier parameters\n",
    "    classifier = KNeighborsClassifier(\n",
    "        n_neighbors=trial.suggest_int('n_neighbors', 1, 50),\n",
    "        weights=trial.suggest_categorical('weights', ['uniform', 'distance']),\n",
    "        n_jobs=-1\n",
    "    )\n",
    "\n",
    "    # Train the classifier\n",
    "    classifier.fit(X_train_scaled, y_train)\n",
    "\n",
    "    # Evaluate on the validation set\n",
    "    y_val_pred = classifier.predict(X_val_scaled)\n",
    "    val_accuracy = accuracy_score(y_val, y_val_pred)\n",
    "\n",
    "    # Report validation accuracy for pruning\n",
    "    trial.report(val_accuracy, step=0)\n",
    "\n",
    "    # Check if the trial should be pruned\n",
    "    if trial.should_prune():\n",
    "        raise optuna.TrialPruned()\n",
    "\n",
    "    # If this is the best model so far, save it\n",
    "    if val_accuracy > best_accuracy:\n",
    "        best_accuracy = val_accuracy\n",
    "        best_model = classifier  # Update the best model\n",
    "        best_scaler = scaler\n",
    "        best_pca = pca\n",
    "\n",
    "        # Save the best model\n",
    "        joblib.dump(best_model, 'best_knn_model.joblib')\n",
    "        print(f\"New best model saved with accuracy: {best_accuracy:.4f}\")\n",
    "\n",
    "    return val_accuracy"
   ]
  },
  {
   "cell_type": "code",
   "execution_count": null,
   "metadata": {},
   "outputs": [
    {
     "name": "stderr",
     "output_type": "stream",
     "text": [
      "[I 2024-11-13 22:30:20,830] A new study created in memory with name: no-name-ee940110-43e1-44c6-ad90-f8557f63d72f\n",
      "[I 2024-11-13 22:30:21,107] Trial 0 finished with value: 0.8283179012345679 and parameters: {'n_components': 4, 'n_neighbors': 3, 'weights': 'uniform'}. Best is trial 0 with value: 0.8283179012345679.\n",
      "[I 2024-11-13 22:30:21,198] Trial 1 finished with value: 0.6993055555555555 and parameters: {'n_components': 3, 'n_neighbors': 27, 'weights': 'distance'}. Best is trial 0 with value: 0.8283179012345679.\n",
      "[I 2024-11-13 22:30:21,253] Trial 2 finished with value: 0.7043981481481482 and parameters: {'n_components': 3, 'n_neighbors': 18, 'weights': 'distance'}. Best is trial 0 with value: 0.8283179012345679.\n"
     ]
    },
    {
     "name": "stdout",
     "output_type": "stream",
     "text": [
      "New best model saved with accuracy: 0.8283\n"
     ]
    },
    {
     "name": "stderr",
     "output_type": "stream",
     "text": [
      "[I 2024-11-13 22:30:21,575] Trial 3 finished with value: 0.6345679012345679 and parameters: {'n_components': 3, 'n_neighbors': 41, 'weights': 'uniform'}. Best is trial 0 with value: 0.8283179012345679.\n",
      "[I 2024-11-13 22:30:22,049] Trial 4 finished with value: 0.2169753086419753 and parameters: {'n_components': 9, 'n_neighbors': 21, 'weights': 'uniform'}. Best is trial 0 with value: 0.8283179012345679.\n",
      "[I 2024-11-13 22:30:22,294] Trial 5 finished with value: 0.8517746913580246 and parameters: {'n_components': 7, 'n_neighbors': 19, 'weights': 'distance'}. Best is trial 5 with value: 0.8517746913580246.\n"
     ]
    },
    {
     "name": "stdout",
     "output_type": "stream",
     "text": [
      "New best model saved with accuracy: 0.8518\n"
     ]
    },
    {
     "name": "stderr",
     "output_type": "stream",
     "text": [
      "[I 2024-11-13 22:30:22,724] Trial 6 finished with value: 0.3090277777777778 and parameters: {'n_components': 7, 'n_neighbors': 26, 'weights': 'uniform'}. Best is trial 5 with value: 0.8517746913580246.\n",
      "[I 2024-11-13 22:30:23,040] Trial 7 finished with value: 0.625 and parameters: {'n_components': 3, 'n_neighbors': 49, 'weights': 'uniform'}. Best is trial 5 with value: 0.8517746913580246.\n",
      "[I 2024-11-13 22:30:23,370] Trial 8 finished with value: 0.6787808641975308 and parameters: {'n_components': 5, 'n_neighbors': 20, 'weights': 'uniform'}. Best is trial 5 with value: 0.8517746913580246.\n",
      "[I 2024-11-13 22:30:23,639] Trial 9 finished with value: 0.5528549382716049 and parameters: {'n_components': 2, 'n_neighbors': 9, 'weights': 'uniform'}. Best is trial 5 with value: 0.8517746913580246.\n",
      "[I 2024-11-13 22:30:23,924] Trial 10 finished with value: 0.7659722222222223 and parameters: {'n_components': 7, 'n_neighbors': 33, 'weights': 'distance'}. Best is trial 5 with value: 0.8517746913580246.\n",
      "[I 2024-11-13 22:30:23,990] Trial 11 finished with value: 0.9339506172839506 and parameters: {'n_components': 6, 'n_neighbors': 3, 'weights': 'distance'}. Best is trial 11 with value: 0.9339506172839506.\n",
      "[I 2024-11-13 22:30:24,114] Trial 12 finished with value: 0.9059413580246913 and parameters: {'n_components': 6, 'n_neighbors': 10, 'weights': 'distance'}. Best is trial 11 with value: 0.9339506172839506.\n",
      "[I 2024-11-13 22:30:24,160] Trial 13 finished with value: 0.9195216049382716 and parameters: {'n_components': 6, 'n_neighbors': 1, 'weights': 'distance'}. Best is trial 11 with value: 0.9339506172839506.\n"
     ]
    },
    {
     "name": "stdout",
     "output_type": "stream",
     "text": [
      "New best model saved with accuracy: 0.9340\n"
     ]
    },
    {
     "name": "stderr",
     "output_type": "stream",
     "text": [
      "[I 2024-11-13 22:30:24,210] Trial 14 finished with value: 0.9232253086419753 and parameters: {'n_components': 9, 'n_neighbors': 1, 'weights': 'distance'}. Best is trial 11 with value: 0.9339506172839506.\n",
      "[I 2024-11-13 22:30:24,481] Trial 15 finished with value: 0.8863425925925926 and parameters: {'n_components': 9, 'n_neighbors': 11, 'weights': 'distance'}. Best is trial 11 with value: 0.9339506172839506.\n",
      "[I 2024-11-13 22:30:24,596] Trial 16 finished with value: 0.9305555555555556 and parameters: {'n_components': 8, 'n_neighbors': 6, 'weights': 'distance'}. Best is trial 11 with value: 0.9339506172839506.\n",
      "[I 2024-11-13 22:30:24,751] Trial 17 finished with value: 0.9202160493827161 and parameters: {'n_components': 8, 'n_neighbors': 8, 'weights': 'distance'}. Best is trial 11 with value: 0.9339506172839506.\n",
      "[I 2024-11-13 22:30:24,859] Trial 18 finished with value: 0.8471450617283951 and parameters: {'n_components': 5, 'n_neighbors': 14, 'weights': 'distance'}. Best is trial 11 with value: 0.9339506172839506.\n",
      "[I 2024-11-13 22:30:24,903] Trial 19 pruned. \n",
      "[I 2024-11-13 22:30:25,182] Trial 20 pruned. \n",
      "[I 2024-11-13 22:30:25,231] Trial 21 finished with value: 0.9218364197530864 and parameters: {'n_components': 8, 'n_neighbors': 1, 'weights': 'distance'}. Best is trial 11 with value: 0.9339506172839506.\n",
      "[I 2024-11-13 22:30:25,354] Trial 22 finished with value: 0.9362654320987654 and parameters: {'n_components': 9, 'n_neighbors': 5, 'weights': 'distance'}. Best is trial 22 with value: 0.9362654320987654.\n",
      "[I 2024-11-13 22:30:25,499] Trial 23 finished with value: 0.8878858024691358 and parameters: {'n_components': 6, 'n_neighbors': 14, 'weights': 'distance'}. Best is trial 22 with value: 0.9362654320987654.\n"
     ]
    },
    {
     "name": "stdout",
     "output_type": "stream",
     "text": [
      "New best model saved with accuracy: 0.9363\n"
     ]
    },
    {
     "name": "stderr",
     "output_type": "stream",
     "text": [
      "[I 2024-11-13 22:30:25,634] Trial 24 finished with value: 0.9255401234567902 and parameters: {'n_components': 8, 'n_neighbors': 7, 'weights': 'distance'}. Best is trial 22 with value: 0.9362654320987654.\n",
      "[I 2024-11-13 22:30:25,897] Trial 25 pruned. \n",
      "[I 2024-11-13 22:30:25,997] Trial 26 finished with value: 0.9330246913580247 and parameters: {'n_components': 7, 'n_neighbors': 6, 'weights': 'distance'}. Best is trial 22 with value: 0.9362654320987654.\n",
      "[I 2024-11-13 22:30:26,092] Trial 27 finished with value: 0.937037037037037 and parameters: {'n_components': 7, 'n_neighbors': 5, 'weights': 'distance'}. Best is trial 27 with value: 0.937037037037037.\n",
      "[I 2024-11-13 22:30:26,233] Trial 28 finished with value: 0.8925154320987654 and parameters: {'n_components': 6, 'n_neighbors': 13, 'weights': 'distance'}. Best is trial 27 with value: 0.937037037037037.\n"
     ]
    },
    {
     "name": "stdout",
     "output_type": "stream",
     "text": [
      "New best model saved with accuracy: 0.9370\n"
     ]
    },
    {
     "name": "stderr",
     "output_type": "stream",
     "text": [
      "[I 2024-11-13 22:30:26,293] Trial 29 pruned. \n",
      "[I 2024-11-13 22:30:26,368] Trial 30 finished with value: 0.9010802469135802 and parameters: {'n_components': 5, 'n_neighbors': 4, 'weights': 'distance'}. Best is trial 27 with value: 0.937037037037037.\n",
      "[I 2024-11-13 22:30:26,445] Trial 31 finished with value: 0.9368827160493827 and parameters: {'n_components': 7, 'n_neighbors': 4, 'weights': 'distance'}. Best is trial 27 with value: 0.937037037037037.\n",
      "[I 2024-11-13 22:30:26,514] Trial 32 finished with value: 0.939429012345679 and parameters: {'n_components': 7, 'n_neighbors': 3, 'weights': 'distance'}. Best is trial 32 with value: 0.939429012345679.\n",
      "[I 2024-11-13 22:30:26,669] Trial 33 finished with value: 0.908641975308642 and parameters: {'n_components': 7, 'n_neighbors': 10, 'weights': 'distance'}. Best is trial 32 with value: 0.939429012345679.\n"
     ]
    },
    {
     "name": "stdout",
     "output_type": "stream",
     "text": [
      "New best model saved with accuracy: 0.9394\n"
     ]
    },
    {
     "name": "stderr",
     "output_type": "stream",
     "text": [
      "[I 2024-11-13 22:30:26,751] Trial 34 pruned. \n",
      "[I 2024-11-13 22:30:26,981] Trial 35 pruned. \n",
      "[I 2024-11-13 22:30:27,365] Trial 36 pruned. \n",
      "[I 2024-11-13 22:30:27,464] Trial 37 finished with value: 0.9361882716049382 and parameters: {'n_components': 9, 'n_neighbors': 4, 'weights': 'distance'}. Best is trial 32 with value: 0.939429012345679.\n",
      "[I 2024-11-13 22:30:27,566] Trial 38 pruned. \n",
      "[I 2024-11-13 22:30:28,055] Trial 39 pruned. \n",
      "[I 2024-11-13 22:30:28,343] Trial 40 pruned. \n",
      "[I 2024-11-13 22:30:28,437] Trial 41 finished with value: 0.9361882716049382 and parameters: {'n_components': 9, 'n_neighbors': 4, 'weights': 'distance'}. Best is trial 32 with value: 0.939429012345679.\n",
      "[I 2024-11-13 22:30:28,549] Trial 42 finished with value: 0.9362654320987654 and parameters: {'n_components': 9, 'n_neighbors': 5, 'weights': 'distance'}. Best is trial 32 with value: 0.939429012345679.\n",
      "[I 2024-11-13 22:30:28,786] Trial 43 pruned. \n",
      "[I 2024-11-13 22:30:28,845] Trial 44 finished with value: 0.9232253086419753 and parameters: {'n_components': 9, 'n_neighbors': 1, 'weights': 'distance'}. Best is trial 32 with value: 0.939429012345679.\n",
      "[I 2024-11-13 22:30:29,016] Trial 45 finished with value: 0.9155092592592593 and parameters: {'n_components': 7, 'n_neighbors': 9, 'weights': 'distance'}. Best is trial 32 with value: 0.939429012345679.\n",
      "[I 2024-11-13 22:30:29,089] Trial 46 finished with value: 0.9399691358024691 and parameters: {'n_components': 8, 'n_neighbors': 3, 'weights': 'distance'}. Best is trial 46 with value: 0.9399691358024691.\n"
     ]
    },
    {
     "name": "stdout",
     "output_type": "stream",
     "text": [
      "New best model saved with accuracy: 0.9400\n"
     ]
    },
    {
     "name": "stderr",
     "output_type": "stream",
     "text": [
      "[I 2024-11-13 22:30:29,404] Trial 47 pruned. \n",
      "[I 2024-11-13 22:30:29,529] Trial 48 pruned. \n",
      "[I 2024-11-13 22:30:29,650] Trial 49 finished with value: 0.9277006172839506 and parameters: {'n_components': 7, 'n_neighbors': 7, 'weights': 'distance'}. Best is trial 46 with value: 0.9399691358024691.\n",
      "[I 2024-11-13 22:30:29,718] Trial 50 finished with value: 0.9399691358024691 and parameters: {'n_components': 8, 'n_neighbors': 3, 'weights': 'distance'}. Best is trial 46 with value: 0.9399691358024691.\n",
      "[I 2024-11-13 22:30:29,787] Trial 51 finished with value: 0.9399691358024691 and parameters: {'n_components': 8, 'n_neighbors': 3, 'weights': 'distance'}. Best is trial 46 with value: 0.9399691358024691.\n",
      "[I 2024-11-13 22:30:29,857] Trial 52 finished with value: 0.9218364197530864 and parameters: {'n_components': 8, 'n_neighbors': 2, 'weights': 'distance'}. Best is trial 46 with value: 0.9399691358024691.\n",
      "[I 2024-11-13 22:30:29,926] Trial 53 finished with value: 0.939429012345679 and parameters: {'n_components': 7, 'n_neighbors': 3, 'weights': 'distance'}. Best is trial 46 with value: 0.9399691358024691.\n",
      "[I 2024-11-13 22:30:29,996] Trial 54 finished with value: 0.9399691358024691 and parameters: {'n_components': 8, 'n_neighbors': 3, 'weights': 'distance'}. Best is trial 46 with value: 0.9399691358024691.\n",
      "[I 2024-11-13 22:30:30,056] Trial 55 finished with value: 0.9218364197530864 and parameters: {'n_components': 8, 'n_neighbors': 2, 'weights': 'distance'}. Best is trial 46 with value: 0.9399691358024691.\n",
      "[I 2024-11-13 22:30:30,197] Trial 56 pruned. \n",
      "[I 2024-11-13 22:30:30,279] Trial 57 finished with value: 0.9399691358024691 and parameters: {'n_components': 8, 'n_neighbors': 3, 'weights': 'distance'}. Best is trial 46 with value: 0.9399691358024691.\n",
      "[I 2024-11-13 22:30:30,670] Trial 58 pruned. \n",
      "[I 2024-11-13 22:30:30,726] Trial 59 finished with value: 0.9218364197530864 and parameters: {'n_components': 8, 'n_neighbors': 1, 'weights': 'distance'}. Best is trial 46 with value: 0.9399691358024691.\n",
      "[I 2024-11-13 22:30:31,067] Trial 60 pruned. \n",
      "[I 2024-11-13 22:30:31,135] Trial 61 finished with value: 0.939429012345679 and parameters: {'n_components': 7, 'n_neighbors': 3, 'weights': 'distance'}. Best is trial 46 with value: 0.9399691358024691.\n",
      "[I 2024-11-13 22:30:31,269] Trial 62 finished with value: 0.9255401234567902 and parameters: {'n_components': 8, 'n_neighbors': 7, 'weights': 'distance'}. Best is trial 46 with value: 0.9399691358024691.\n",
      "[I 2024-11-13 22:30:31,339] Trial 63 finished with value: 0.9399691358024691 and parameters: {'n_components': 8, 'n_neighbors': 3, 'weights': 'distance'}. Best is trial 46 with value: 0.9399691358024691.\n",
      "[I 2024-11-13 22:30:31,471] Trial 64 finished with value: 0.9255401234567902 and parameters: {'n_components': 8, 'n_neighbors': 7, 'weights': 'distance'}. Best is trial 46 with value: 0.9399691358024691.\n",
      "[I 2024-11-13 22:30:31,574] Trial 65 finished with value: 0.9362654320987654 and parameters: {'n_components': 9, 'n_neighbors': 5, 'weights': 'distance'}. Best is trial 46 with value: 0.9399691358024691.\n",
      "[I 2024-11-13 22:30:31,624] Trial 66 pruned. \n",
      "[I 2024-11-13 22:30:31,657] Trial 67 pruned. \n",
      "[I 2024-11-13 22:30:31,821] Trial 68 pruned. \n",
      "[I 2024-11-13 22:30:31,896] Trial 69 finished with value: 0.9398148148148148 and parameters: {'n_components': 9, 'n_neighbors': 3, 'weights': 'distance'}. Best is trial 46 with value: 0.9399691358024691.\n",
      "[I 2024-11-13 22:30:32,133] Trial 70 pruned. \n",
      "[I 2024-11-13 22:30:32,201] Trial 71 finished with value: 0.9232253086419753 and parameters: {'n_components': 9, 'n_neighbors': 2, 'weights': 'distance'}. Best is trial 46 with value: 0.9399691358024691.\n",
      "[I 2024-11-13 22:30:32,271] Trial 72 finished with value: 0.9399691358024691 and parameters: {'n_components': 8, 'n_neighbors': 3, 'weights': 'distance'}. Best is trial 46 with value: 0.9399691358024691.\n",
      "[I 2024-11-13 22:30:32,388] Trial 73 finished with value: 0.9305555555555556 and parameters: {'n_components': 8, 'n_neighbors': 6, 'weights': 'distance'}. Best is trial 46 with value: 0.9399691358024691.\n",
      "[I 2024-11-13 22:30:32,463] Trial 74 finished with value: 0.9398148148148148 and parameters: {'n_components': 9, 'n_neighbors': 3, 'weights': 'distance'}. Best is trial 46 with value: 0.9399691358024691.\n",
      "[I 2024-11-13 22:30:32,564] Trial 75 finished with value: 0.9368055555555556 and parameters: {'n_components': 8, 'n_neighbors': 5, 'weights': 'distance'}. Best is trial 46 with value: 0.9399691358024691.\n",
      "[I 2024-11-13 22:30:32,620] Trial 76 pruned. \n",
      "[I 2024-11-13 22:30:32,722] Trial 77 pruned. \n",
      "[I 2024-11-13 22:30:33,214] Trial 78 pruned. \n",
      "[I 2024-11-13 22:30:33,290] Trial 79 finished with value: 0.9368827160493827 and parameters: {'n_components': 7, 'n_neighbors': 4, 'weights': 'distance'}. Best is trial 46 with value: 0.9399691358024691.\n",
      "[I 2024-11-13 22:30:33,469] Trial 80 pruned. \n",
      "[I 2024-11-13 22:30:33,541] Trial 81 finished with value: 0.9398148148148148 and parameters: {'n_components': 9, 'n_neighbors': 3, 'weights': 'distance'}. Best is trial 46 with value: 0.9399691358024691.\n",
      "[I 2024-11-13 22:30:33,614] Trial 82 finished with value: 0.9398148148148148 and parameters: {'n_components': 9, 'n_neighbors': 3, 'weights': 'distance'}. Best is trial 46 with value: 0.9399691358024691.\n",
      "[I 2024-11-13 22:30:33,705] Trial 83 finished with value: 0.9368055555555556 and parameters: {'n_components': 8, 'n_neighbors': 5, 'weights': 'distance'}. Best is trial 46 with value: 0.9399691358024691.\n",
      "[I 2024-11-13 22:30:33,948] Trial 84 pruned. \n",
      "[I 2024-11-13 22:30:34,015] Trial 85 pruned. \n",
      "[I 2024-11-13 22:30:34,148] Trial 86 finished with value: 0.9305555555555556 and parameters: {'n_components': 8, 'n_neighbors': 6, 'weights': 'distance'}. Best is trial 46 with value: 0.9399691358024691.\n",
      "[I 2024-11-13 22:30:34,236] Trial 87 finished with value: 0.9361882716049382 and parameters: {'n_components': 9, 'n_neighbors': 4, 'weights': 'distance'}. Best is trial 46 with value: 0.9399691358024691.\n",
      "[I 2024-11-13 22:30:34,287] Trial 88 pruned. \n",
      "[I 2024-11-13 22:30:34,422] Trial 89 pruned. \n",
      "[I 2024-11-13 22:30:34,731] Trial 90 finished with value: 0.9271604938271605 and parameters: {'n_components': 9, 'n_neighbors': 3, 'weights': 'uniform'}. Best is trial 46 with value: 0.9399691358024691.\n",
      "[I 2024-11-13 22:30:34,802] Trial 91 finished with value: 0.9398148148148148 and parameters: {'n_components': 9, 'n_neighbors': 3, 'weights': 'distance'}. Best is trial 46 with value: 0.9399691358024691.\n",
      "[I 2024-11-13 22:30:34,932] Trial 92 finished with value: 0.9362654320987654 and parameters: {'n_components': 9, 'n_neighbors': 5, 'weights': 'distance'}. Best is trial 46 with value: 0.9399691358024691.\n",
      "[I 2024-11-13 22:30:35,002] Trial 93 pruned. \n",
      "[I 2024-11-13 22:30:35,083] Trial 94 finished with value: 0.9361882716049382 and parameters: {'n_components': 9, 'n_neighbors': 4, 'weights': 'distance'}. Best is trial 46 with value: 0.9399691358024691.\n",
      "[I 2024-11-13 22:30:35,279] Trial 95 pruned. \n",
      "[I 2024-11-13 22:30:35,573] Trial 96 pruned. \n",
      "[I 2024-11-13 22:30:35,654] Trial 97 finished with value: 0.9399691358024691 and parameters: {'n_components': 8, 'n_neighbors': 3, 'weights': 'distance'}. Best is trial 46 with value: 0.9399691358024691.\n",
      "[I 2024-11-13 22:30:35,756] Trial 98 finished with value: 0.9330246913580247 and parameters: {'n_components': 7, 'n_neighbors': 6, 'weights': 'distance'}. Best is trial 46 with value: 0.9399691358024691.\n",
      "[I 2024-11-13 22:30:35,814] Trial 99 pruned. \n"
     ]
    },
    {
     "name": "stdout",
     "output_type": "stream",
     "text": [
      "Best hyperparameters: {'n_components': 8, 'n_neighbors': 3, 'weights': 'distance'}\n",
      "Best value: 0.9399691358024691\n",
      "accuracy on test set:0.9383333333333334\n"
     ]
    },
    {
     "data": {
      "application/vnd.plotly.v1+json": {
       "config": {
        "plotlyServerURL": "https://plot.ly"
       },
       "data": [
        {
         "mode": "markers",
         "name": "Objective Value",
         "type": "scatter",
         "x": [
          0,
          1,
          2,
          3,
          4,
          5,
          6,
          7,
          8,
          9,
          10,
          11,
          12,
          13,
          14,
          15,
          16,
          17,
          18,
          21,
          22,
          23,
          24,
          26,
          27,
          28,
          30,
          31,
          32,
          33,
          37,
          41,
          42,
          44,
          45,
          46,
          49,
          50,
          51,
          52,
          53,
          54,
          55,
          57,
          59,
          61,
          62,
          63,
          64,
          65,
          69,
          71,
          72,
          73,
          74,
          75,
          79,
          81,
          82,
          83,
          86,
          87,
          90,
          91,
          92,
          94,
          97,
          98
         ],
         "y": [
          0.8283179012345679,
          0.6993055555555555,
          0.7043981481481482,
          0.6345679012345679,
          0.2169753086419753,
          0.8517746913580246,
          0.3090277777777778,
          0.625,
          0.6787808641975308,
          0.5528549382716049,
          0.7659722222222223,
          0.9339506172839506,
          0.9059413580246913,
          0.9195216049382716,
          0.9232253086419753,
          0.8863425925925926,
          0.9305555555555556,
          0.9202160493827161,
          0.8471450617283951,
          0.9218364197530864,
          0.9362654320987654,
          0.8878858024691358,
          0.9255401234567902,
          0.9330246913580247,
          0.937037037037037,
          0.8925154320987654,
          0.9010802469135802,
          0.9368827160493827,
          0.939429012345679,
          0.908641975308642,
          0.9361882716049382,
          0.9361882716049382,
          0.9362654320987654,
          0.9232253086419753,
          0.9155092592592593,
          0.9399691358024691,
          0.9277006172839506,
          0.9399691358024691,
          0.9399691358024691,
          0.9218364197530864,
          0.939429012345679,
          0.9399691358024691,
          0.9218364197530864,
          0.9399691358024691,
          0.9218364197530864,
          0.939429012345679,
          0.9255401234567902,
          0.9399691358024691,
          0.9255401234567902,
          0.9362654320987654,
          0.9398148148148148,
          0.9232253086419753,
          0.9399691358024691,
          0.9305555555555556,
          0.9398148148148148,
          0.9368055555555556,
          0.9368827160493827,
          0.9398148148148148,
          0.9398148148148148,
          0.9368055555555556,
          0.9305555555555556,
          0.9361882716049382,
          0.9271604938271605,
          0.9398148148148148,
          0.9362654320987654,
          0.9361882716049382,
          0.9399691358024691,
          0.9330246913580247
         ]
        },
        {
         "mode": "lines",
         "name": "Best Value",
         "type": "scatter",
         "x": [
          0,
          1,
          2,
          3,
          4,
          5,
          6,
          7,
          8,
          9,
          10,
          11,
          12,
          13,
          14,
          15,
          16,
          17,
          18,
          19,
          20,
          21,
          22,
          23,
          24,
          25,
          26,
          27,
          28,
          29,
          30,
          31,
          32,
          33,
          34,
          35,
          36,
          37,
          38,
          39,
          40,
          41,
          42,
          43,
          44,
          45,
          46,
          47,
          48,
          49,
          50,
          51,
          52,
          53,
          54,
          55,
          56,
          57,
          58,
          59,
          60,
          61,
          62,
          63,
          64,
          65,
          66,
          67,
          68,
          69,
          70,
          71,
          72,
          73,
          74,
          75,
          76,
          77,
          78,
          79,
          80,
          81,
          82,
          83,
          84,
          85,
          86,
          87,
          88,
          89,
          90,
          91,
          92,
          93,
          94,
          95,
          96,
          97,
          98,
          99
         ],
         "y": [
          0.8283179012345679,
          0.8283179012345679,
          0.8283179012345679,
          0.8283179012345679,
          0.8283179012345679,
          0.8517746913580246,
          0.8517746913580246,
          0.8517746913580246,
          0.8517746913580246,
          0.8517746913580246,
          0.8517746913580246,
          0.9339506172839506,
          0.9339506172839506,
          0.9339506172839506,
          0.9339506172839506,
          0.9339506172839506,
          0.9339506172839506,
          0.9339506172839506,
          0.9339506172839506,
          0.9339506172839506,
          0.9339506172839506,
          0.9339506172839506,
          0.9362654320987654,
          0.9362654320987654,
          0.9362654320987654,
          0.9362654320987654,
          0.9362654320987654,
          0.937037037037037,
          0.937037037037037,
          0.937037037037037,
          0.937037037037037,
          0.937037037037037,
          0.939429012345679,
          0.939429012345679,
          0.939429012345679,
          0.939429012345679,
          0.939429012345679,
          0.939429012345679,
          0.939429012345679,
          0.939429012345679,
          0.939429012345679,
          0.939429012345679,
          0.939429012345679,
          0.939429012345679,
          0.939429012345679,
          0.939429012345679,
          0.9399691358024691,
          0.9399691358024691,
          0.9399691358024691,
          0.9399691358024691,
          0.9399691358024691,
          0.9399691358024691,
          0.9399691358024691,
          0.9399691358024691,
          0.9399691358024691,
          0.9399691358024691,
          0.9399691358024691,
          0.9399691358024691,
          0.9399691358024691,
          0.9399691358024691,
          0.9399691358024691,
          0.9399691358024691,
          0.9399691358024691,
          0.9399691358024691,
          0.9399691358024691,
          0.9399691358024691,
          0.9399691358024691,
          0.9399691358024691,
          0.9399691358024691,
          0.9399691358024691,
          0.9399691358024691,
          0.9399691358024691,
          0.9399691358024691,
          0.9399691358024691,
          0.9399691358024691,
          0.9399691358024691,
          0.9399691358024691,
          0.9399691358024691,
          0.9399691358024691,
          0.9399691358024691,
          0.9399691358024691,
          0.9399691358024691,
          0.9399691358024691,
          0.9399691358024691,
          0.9399691358024691,
          0.9399691358024691,
          0.9399691358024691,
          0.9399691358024691,
          0.9399691358024691,
          0.9399691358024691,
          0.9399691358024691,
          0.9399691358024691,
          0.9399691358024691,
          0.9399691358024691,
          0.9399691358024691,
          0.9399691358024691,
          0.9399691358024691,
          0.9399691358024691,
          0.9399691358024691,
          0.9399691358024691
         ]
        },
        {
         "marker": {
          "color": "#cccccc"
         },
         "mode": "markers",
         "name": "Infeasible Trial",
         "showlegend": false,
         "type": "scatter",
         "x": [],
         "y": []
        }
       ],
       "layout": {
        "template": {
         "data": {
          "bar": [
           {
            "error_x": {
             "color": "#2a3f5f"
            },
            "error_y": {
             "color": "#2a3f5f"
            },
            "marker": {
             "line": {
              "color": "#E5ECF6",
              "width": 0.5
             },
             "pattern": {
              "fillmode": "overlay",
              "size": 10,
              "solidity": 0.2
             }
            },
            "type": "bar"
           }
          ],
          "barpolar": [
           {
            "marker": {
             "line": {
              "color": "#E5ECF6",
              "width": 0.5
             },
             "pattern": {
              "fillmode": "overlay",
              "size": 10,
              "solidity": 0.2
             }
            },
            "type": "barpolar"
           }
          ],
          "carpet": [
           {
            "aaxis": {
             "endlinecolor": "#2a3f5f",
             "gridcolor": "white",
             "linecolor": "white",
             "minorgridcolor": "white",
             "startlinecolor": "#2a3f5f"
            },
            "baxis": {
             "endlinecolor": "#2a3f5f",
             "gridcolor": "white",
             "linecolor": "white",
             "minorgridcolor": "white",
             "startlinecolor": "#2a3f5f"
            },
            "type": "carpet"
           }
          ],
          "choropleth": [
           {
            "colorbar": {
             "outlinewidth": 0,
             "ticks": ""
            },
            "type": "choropleth"
           }
          ],
          "contour": [
           {
            "colorbar": {
             "outlinewidth": 0,
             "ticks": ""
            },
            "colorscale": [
             [
              0,
              "#0d0887"
             ],
             [
              0.1111111111111111,
              "#46039f"
             ],
             [
              0.2222222222222222,
              "#7201a8"
             ],
             [
              0.3333333333333333,
              "#9c179e"
             ],
             [
              0.4444444444444444,
              "#bd3786"
             ],
             [
              0.5555555555555556,
              "#d8576b"
             ],
             [
              0.6666666666666666,
              "#ed7953"
             ],
             [
              0.7777777777777778,
              "#fb9f3a"
             ],
             [
              0.8888888888888888,
              "#fdca26"
             ],
             [
              1,
              "#f0f921"
             ]
            ],
            "type": "contour"
           }
          ],
          "contourcarpet": [
           {
            "colorbar": {
             "outlinewidth": 0,
             "ticks": ""
            },
            "type": "contourcarpet"
           }
          ],
          "heatmap": [
           {
            "colorbar": {
             "outlinewidth": 0,
             "ticks": ""
            },
            "colorscale": [
             [
              0,
              "#0d0887"
             ],
             [
              0.1111111111111111,
              "#46039f"
             ],
             [
              0.2222222222222222,
              "#7201a8"
             ],
             [
              0.3333333333333333,
              "#9c179e"
             ],
             [
              0.4444444444444444,
              "#bd3786"
             ],
             [
              0.5555555555555556,
              "#d8576b"
             ],
             [
              0.6666666666666666,
              "#ed7953"
             ],
             [
              0.7777777777777778,
              "#fb9f3a"
             ],
             [
              0.8888888888888888,
              "#fdca26"
             ],
             [
              1,
              "#f0f921"
             ]
            ],
            "type": "heatmap"
           }
          ],
          "heatmapgl": [
           {
            "colorbar": {
             "outlinewidth": 0,
             "ticks": ""
            },
            "colorscale": [
             [
              0,
              "#0d0887"
             ],
             [
              0.1111111111111111,
              "#46039f"
             ],
             [
              0.2222222222222222,
              "#7201a8"
             ],
             [
              0.3333333333333333,
              "#9c179e"
             ],
             [
              0.4444444444444444,
              "#bd3786"
             ],
             [
              0.5555555555555556,
              "#d8576b"
             ],
             [
              0.6666666666666666,
              "#ed7953"
             ],
             [
              0.7777777777777778,
              "#fb9f3a"
             ],
             [
              0.8888888888888888,
              "#fdca26"
             ],
             [
              1,
              "#f0f921"
             ]
            ],
            "type": "heatmapgl"
           }
          ],
          "histogram": [
           {
            "marker": {
             "pattern": {
              "fillmode": "overlay",
              "size": 10,
              "solidity": 0.2
             }
            },
            "type": "histogram"
           }
          ],
          "histogram2d": [
           {
            "colorbar": {
             "outlinewidth": 0,
             "ticks": ""
            },
            "colorscale": [
             [
              0,
              "#0d0887"
             ],
             [
              0.1111111111111111,
              "#46039f"
             ],
             [
              0.2222222222222222,
              "#7201a8"
             ],
             [
              0.3333333333333333,
              "#9c179e"
             ],
             [
              0.4444444444444444,
              "#bd3786"
             ],
             [
              0.5555555555555556,
              "#d8576b"
             ],
             [
              0.6666666666666666,
              "#ed7953"
             ],
             [
              0.7777777777777778,
              "#fb9f3a"
             ],
             [
              0.8888888888888888,
              "#fdca26"
             ],
             [
              1,
              "#f0f921"
             ]
            ],
            "type": "histogram2d"
           }
          ],
          "histogram2dcontour": [
           {
            "colorbar": {
             "outlinewidth": 0,
             "ticks": ""
            },
            "colorscale": [
             [
              0,
              "#0d0887"
             ],
             [
              0.1111111111111111,
              "#46039f"
             ],
             [
              0.2222222222222222,
              "#7201a8"
             ],
             [
              0.3333333333333333,
              "#9c179e"
             ],
             [
              0.4444444444444444,
              "#bd3786"
             ],
             [
              0.5555555555555556,
              "#d8576b"
             ],
             [
              0.6666666666666666,
              "#ed7953"
             ],
             [
              0.7777777777777778,
              "#fb9f3a"
             ],
             [
              0.8888888888888888,
              "#fdca26"
             ],
             [
              1,
              "#f0f921"
             ]
            ],
            "type": "histogram2dcontour"
           }
          ],
          "mesh3d": [
           {
            "colorbar": {
             "outlinewidth": 0,
             "ticks": ""
            },
            "type": "mesh3d"
           }
          ],
          "parcoords": [
           {
            "line": {
             "colorbar": {
              "outlinewidth": 0,
              "ticks": ""
             }
            },
            "type": "parcoords"
           }
          ],
          "pie": [
           {
            "automargin": true,
            "type": "pie"
           }
          ],
          "scatter": [
           {
            "fillpattern": {
             "fillmode": "overlay",
             "size": 10,
             "solidity": 0.2
            },
            "type": "scatter"
           }
          ],
          "scatter3d": [
           {
            "line": {
             "colorbar": {
              "outlinewidth": 0,
              "ticks": ""
             }
            },
            "marker": {
             "colorbar": {
              "outlinewidth": 0,
              "ticks": ""
             }
            },
            "type": "scatter3d"
           }
          ],
          "scattercarpet": [
           {
            "marker": {
             "colorbar": {
              "outlinewidth": 0,
              "ticks": ""
             }
            },
            "type": "scattercarpet"
           }
          ],
          "scattergeo": [
           {
            "marker": {
             "colorbar": {
              "outlinewidth": 0,
              "ticks": ""
             }
            },
            "type": "scattergeo"
           }
          ],
          "scattergl": [
           {
            "marker": {
             "colorbar": {
              "outlinewidth": 0,
              "ticks": ""
             }
            },
            "type": "scattergl"
           }
          ],
          "scattermapbox": [
           {
            "marker": {
             "colorbar": {
              "outlinewidth": 0,
              "ticks": ""
             }
            },
            "type": "scattermapbox"
           }
          ],
          "scatterpolar": [
           {
            "marker": {
             "colorbar": {
              "outlinewidth": 0,
              "ticks": ""
             }
            },
            "type": "scatterpolar"
           }
          ],
          "scatterpolargl": [
           {
            "marker": {
             "colorbar": {
              "outlinewidth": 0,
              "ticks": ""
             }
            },
            "type": "scatterpolargl"
           }
          ],
          "scatterternary": [
           {
            "marker": {
             "colorbar": {
              "outlinewidth": 0,
              "ticks": ""
             }
            },
            "type": "scatterternary"
           }
          ],
          "surface": [
           {
            "colorbar": {
             "outlinewidth": 0,
             "ticks": ""
            },
            "colorscale": [
             [
              0,
              "#0d0887"
             ],
             [
              0.1111111111111111,
              "#46039f"
             ],
             [
              0.2222222222222222,
              "#7201a8"
             ],
             [
              0.3333333333333333,
              "#9c179e"
             ],
             [
              0.4444444444444444,
              "#bd3786"
             ],
             [
              0.5555555555555556,
              "#d8576b"
             ],
             [
              0.6666666666666666,
              "#ed7953"
             ],
             [
              0.7777777777777778,
              "#fb9f3a"
             ],
             [
              0.8888888888888888,
              "#fdca26"
             ],
             [
              1,
              "#f0f921"
             ]
            ],
            "type": "surface"
           }
          ],
          "table": [
           {
            "cells": {
             "fill": {
              "color": "#EBF0F8"
             },
             "line": {
              "color": "white"
             }
            },
            "header": {
             "fill": {
              "color": "#C8D4E3"
             },
             "line": {
              "color": "white"
             }
            },
            "type": "table"
           }
          ]
         },
         "layout": {
          "annotationdefaults": {
           "arrowcolor": "#2a3f5f",
           "arrowhead": 0,
           "arrowwidth": 1
          },
          "autotypenumbers": "strict",
          "coloraxis": {
           "colorbar": {
            "outlinewidth": 0,
            "ticks": ""
           }
          },
          "colorscale": {
           "diverging": [
            [
             0,
             "#8e0152"
            ],
            [
             0.1,
             "#c51b7d"
            ],
            [
             0.2,
             "#de77ae"
            ],
            [
             0.3,
             "#f1b6da"
            ],
            [
             0.4,
             "#fde0ef"
            ],
            [
             0.5,
             "#f7f7f7"
            ],
            [
             0.6,
             "#e6f5d0"
            ],
            [
             0.7,
             "#b8e186"
            ],
            [
             0.8,
             "#7fbc41"
            ],
            [
             0.9,
             "#4d9221"
            ],
            [
             1,
             "#276419"
            ]
           ],
           "sequential": [
            [
             0,
             "#0d0887"
            ],
            [
             0.1111111111111111,
             "#46039f"
            ],
            [
             0.2222222222222222,
             "#7201a8"
            ],
            [
             0.3333333333333333,
             "#9c179e"
            ],
            [
             0.4444444444444444,
             "#bd3786"
            ],
            [
             0.5555555555555556,
             "#d8576b"
            ],
            [
             0.6666666666666666,
             "#ed7953"
            ],
            [
             0.7777777777777778,
             "#fb9f3a"
            ],
            [
             0.8888888888888888,
             "#fdca26"
            ],
            [
             1,
             "#f0f921"
            ]
           ],
           "sequentialminus": [
            [
             0,
             "#0d0887"
            ],
            [
             0.1111111111111111,
             "#46039f"
            ],
            [
             0.2222222222222222,
             "#7201a8"
            ],
            [
             0.3333333333333333,
             "#9c179e"
            ],
            [
             0.4444444444444444,
             "#bd3786"
            ],
            [
             0.5555555555555556,
             "#d8576b"
            ],
            [
             0.6666666666666666,
             "#ed7953"
            ],
            [
             0.7777777777777778,
             "#fb9f3a"
            ],
            [
             0.8888888888888888,
             "#fdca26"
            ],
            [
             1,
             "#f0f921"
            ]
           ]
          },
          "colorway": [
           "#636efa",
           "#EF553B",
           "#00cc96",
           "#ab63fa",
           "#FFA15A",
           "#19d3f3",
           "#FF6692",
           "#B6E880",
           "#FF97FF",
           "#FECB52"
          ],
          "font": {
           "color": "#2a3f5f"
          },
          "geo": {
           "bgcolor": "white",
           "lakecolor": "white",
           "landcolor": "#E5ECF6",
           "showlakes": true,
           "showland": true,
           "subunitcolor": "white"
          },
          "hoverlabel": {
           "align": "left"
          },
          "hovermode": "closest",
          "mapbox": {
           "style": "light"
          },
          "paper_bgcolor": "white",
          "plot_bgcolor": "#E5ECF6",
          "polar": {
           "angularaxis": {
            "gridcolor": "white",
            "linecolor": "white",
            "ticks": ""
           },
           "bgcolor": "#E5ECF6",
           "radialaxis": {
            "gridcolor": "white",
            "linecolor": "white",
            "ticks": ""
           }
          },
          "scene": {
           "xaxis": {
            "backgroundcolor": "#E5ECF6",
            "gridcolor": "white",
            "gridwidth": 2,
            "linecolor": "white",
            "showbackground": true,
            "ticks": "",
            "zerolinecolor": "white"
           },
           "yaxis": {
            "backgroundcolor": "#E5ECF6",
            "gridcolor": "white",
            "gridwidth": 2,
            "linecolor": "white",
            "showbackground": true,
            "ticks": "",
            "zerolinecolor": "white"
           },
           "zaxis": {
            "backgroundcolor": "#E5ECF6",
            "gridcolor": "white",
            "gridwidth": 2,
            "linecolor": "white",
            "showbackground": true,
            "ticks": "",
            "zerolinecolor": "white"
           }
          },
          "shapedefaults": {
           "line": {
            "color": "#2a3f5f"
           }
          },
          "ternary": {
           "aaxis": {
            "gridcolor": "white",
            "linecolor": "white",
            "ticks": ""
           },
           "baxis": {
            "gridcolor": "white",
            "linecolor": "white",
            "ticks": ""
           },
           "bgcolor": "#E5ECF6",
           "caxis": {
            "gridcolor": "white",
            "linecolor": "white",
            "ticks": ""
           }
          },
          "title": {
           "x": 0.05
          },
          "xaxis": {
           "automargin": true,
           "gridcolor": "white",
           "linecolor": "white",
           "ticks": "",
           "title": {
            "standoff": 15
           },
           "zerolinecolor": "white",
           "zerolinewidth": 2
          },
          "yaxis": {
           "automargin": true,
           "gridcolor": "white",
           "linecolor": "white",
           "ticks": "",
           "title": {
            "standoff": 15
           },
           "zerolinecolor": "white",
           "zerolinewidth": 2
          }
         }
        },
        "title": {
         "text": "Optimization History Plot"
        },
        "xaxis": {
         "title": {
          "text": "Trial"
         }
        },
        "yaxis": {
         "title": {
          "text": "Objective Value"
         }
        }
       }
      }
     },
     "metadata": {},
     "output_type": "display_data"
    },
    {
     "data": {
      "application/vnd.plotly.v1+json": {
       "config": {
        "plotlyServerURL": "https://plot.ly"
       },
       "data": [
        {
         "cliponaxis": false,
         "hovertemplate": [
          "weights (CategoricalDistribution): 0.23926473060226297<extra></extra>",
          "n_components (IntDistribution): 0.3052805708785893<extra></extra>",
          "n_neighbors (IntDistribution): 0.4554546985191479<extra></extra>"
         ],
         "name": "Objective Value",
         "orientation": "h",
         "text": [
          "0.24",
          "0.31",
          "0.46"
         ],
         "textposition": "outside",
         "type": "bar",
         "x": [
          0.23926473060226297,
          0.3052805708785893,
          0.4554546985191479
         ],
         "y": [
          "weights",
          "n_components",
          "n_neighbors"
         ]
        }
       ],
       "layout": {
        "template": {
         "data": {
          "bar": [
           {
            "error_x": {
             "color": "#2a3f5f"
            },
            "error_y": {
             "color": "#2a3f5f"
            },
            "marker": {
             "line": {
              "color": "#E5ECF6",
              "width": 0.5
             },
             "pattern": {
              "fillmode": "overlay",
              "size": 10,
              "solidity": 0.2
             }
            },
            "type": "bar"
           }
          ],
          "barpolar": [
           {
            "marker": {
             "line": {
              "color": "#E5ECF6",
              "width": 0.5
             },
             "pattern": {
              "fillmode": "overlay",
              "size": 10,
              "solidity": 0.2
             }
            },
            "type": "barpolar"
           }
          ],
          "carpet": [
           {
            "aaxis": {
             "endlinecolor": "#2a3f5f",
             "gridcolor": "white",
             "linecolor": "white",
             "minorgridcolor": "white",
             "startlinecolor": "#2a3f5f"
            },
            "baxis": {
             "endlinecolor": "#2a3f5f",
             "gridcolor": "white",
             "linecolor": "white",
             "minorgridcolor": "white",
             "startlinecolor": "#2a3f5f"
            },
            "type": "carpet"
           }
          ],
          "choropleth": [
           {
            "colorbar": {
             "outlinewidth": 0,
             "ticks": ""
            },
            "type": "choropleth"
           }
          ],
          "contour": [
           {
            "colorbar": {
             "outlinewidth": 0,
             "ticks": ""
            },
            "colorscale": [
             [
              0,
              "#0d0887"
             ],
             [
              0.1111111111111111,
              "#46039f"
             ],
             [
              0.2222222222222222,
              "#7201a8"
             ],
             [
              0.3333333333333333,
              "#9c179e"
             ],
             [
              0.4444444444444444,
              "#bd3786"
             ],
             [
              0.5555555555555556,
              "#d8576b"
             ],
             [
              0.6666666666666666,
              "#ed7953"
             ],
             [
              0.7777777777777778,
              "#fb9f3a"
             ],
             [
              0.8888888888888888,
              "#fdca26"
             ],
             [
              1,
              "#f0f921"
             ]
            ],
            "type": "contour"
           }
          ],
          "contourcarpet": [
           {
            "colorbar": {
             "outlinewidth": 0,
             "ticks": ""
            },
            "type": "contourcarpet"
           }
          ],
          "heatmap": [
           {
            "colorbar": {
             "outlinewidth": 0,
             "ticks": ""
            },
            "colorscale": [
             [
              0,
              "#0d0887"
             ],
             [
              0.1111111111111111,
              "#46039f"
             ],
             [
              0.2222222222222222,
              "#7201a8"
             ],
             [
              0.3333333333333333,
              "#9c179e"
             ],
             [
              0.4444444444444444,
              "#bd3786"
             ],
             [
              0.5555555555555556,
              "#d8576b"
             ],
             [
              0.6666666666666666,
              "#ed7953"
             ],
             [
              0.7777777777777778,
              "#fb9f3a"
             ],
             [
              0.8888888888888888,
              "#fdca26"
             ],
             [
              1,
              "#f0f921"
             ]
            ],
            "type": "heatmap"
           }
          ],
          "heatmapgl": [
           {
            "colorbar": {
             "outlinewidth": 0,
             "ticks": ""
            },
            "colorscale": [
             [
              0,
              "#0d0887"
             ],
             [
              0.1111111111111111,
              "#46039f"
             ],
             [
              0.2222222222222222,
              "#7201a8"
             ],
             [
              0.3333333333333333,
              "#9c179e"
             ],
             [
              0.4444444444444444,
              "#bd3786"
             ],
             [
              0.5555555555555556,
              "#d8576b"
             ],
             [
              0.6666666666666666,
              "#ed7953"
             ],
             [
              0.7777777777777778,
              "#fb9f3a"
             ],
             [
              0.8888888888888888,
              "#fdca26"
             ],
             [
              1,
              "#f0f921"
             ]
            ],
            "type": "heatmapgl"
           }
          ],
          "histogram": [
           {
            "marker": {
             "pattern": {
              "fillmode": "overlay",
              "size": 10,
              "solidity": 0.2
             }
            },
            "type": "histogram"
           }
          ],
          "histogram2d": [
           {
            "colorbar": {
             "outlinewidth": 0,
             "ticks": ""
            },
            "colorscale": [
             [
              0,
              "#0d0887"
             ],
             [
              0.1111111111111111,
              "#46039f"
             ],
             [
              0.2222222222222222,
              "#7201a8"
             ],
             [
              0.3333333333333333,
              "#9c179e"
             ],
             [
              0.4444444444444444,
              "#bd3786"
             ],
             [
              0.5555555555555556,
              "#d8576b"
             ],
             [
              0.6666666666666666,
              "#ed7953"
             ],
             [
              0.7777777777777778,
              "#fb9f3a"
             ],
             [
              0.8888888888888888,
              "#fdca26"
             ],
             [
              1,
              "#f0f921"
             ]
            ],
            "type": "histogram2d"
           }
          ],
          "histogram2dcontour": [
           {
            "colorbar": {
             "outlinewidth": 0,
             "ticks": ""
            },
            "colorscale": [
             [
              0,
              "#0d0887"
             ],
             [
              0.1111111111111111,
              "#46039f"
             ],
             [
              0.2222222222222222,
              "#7201a8"
             ],
             [
              0.3333333333333333,
              "#9c179e"
             ],
             [
              0.4444444444444444,
              "#bd3786"
             ],
             [
              0.5555555555555556,
              "#d8576b"
             ],
             [
              0.6666666666666666,
              "#ed7953"
             ],
             [
              0.7777777777777778,
              "#fb9f3a"
             ],
             [
              0.8888888888888888,
              "#fdca26"
             ],
             [
              1,
              "#f0f921"
             ]
            ],
            "type": "histogram2dcontour"
           }
          ],
          "mesh3d": [
           {
            "colorbar": {
             "outlinewidth": 0,
             "ticks": ""
            },
            "type": "mesh3d"
           }
          ],
          "parcoords": [
           {
            "line": {
             "colorbar": {
              "outlinewidth": 0,
              "ticks": ""
             }
            },
            "type": "parcoords"
           }
          ],
          "pie": [
           {
            "automargin": true,
            "type": "pie"
           }
          ],
          "scatter": [
           {
            "fillpattern": {
             "fillmode": "overlay",
             "size": 10,
             "solidity": 0.2
            },
            "type": "scatter"
           }
          ],
          "scatter3d": [
           {
            "line": {
             "colorbar": {
              "outlinewidth": 0,
              "ticks": ""
             }
            },
            "marker": {
             "colorbar": {
              "outlinewidth": 0,
              "ticks": ""
             }
            },
            "type": "scatter3d"
           }
          ],
          "scattercarpet": [
           {
            "marker": {
             "colorbar": {
              "outlinewidth": 0,
              "ticks": ""
             }
            },
            "type": "scattercarpet"
           }
          ],
          "scattergeo": [
           {
            "marker": {
             "colorbar": {
              "outlinewidth": 0,
              "ticks": ""
             }
            },
            "type": "scattergeo"
           }
          ],
          "scattergl": [
           {
            "marker": {
             "colorbar": {
              "outlinewidth": 0,
              "ticks": ""
             }
            },
            "type": "scattergl"
           }
          ],
          "scattermapbox": [
           {
            "marker": {
             "colorbar": {
              "outlinewidth": 0,
              "ticks": ""
             }
            },
            "type": "scattermapbox"
           }
          ],
          "scatterpolar": [
           {
            "marker": {
             "colorbar": {
              "outlinewidth": 0,
              "ticks": ""
             }
            },
            "type": "scatterpolar"
           }
          ],
          "scatterpolargl": [
           {
            "marker": {
             "colorbar": {
              "outlinewidth": 0,
              "ticks": ""
             }
            },
            "type": "scatterpolargl"
           }
          ],
          "scatterternary": [
           {
            "marker": {
             "colorbar": {
              "outlinewidth": 0,
              "ticks": ""
             }
            },
            "type": "scatterternary"
           }
          ],
          "surface": [
           {
            "colorbar": {
             "outlinewidth": 0,
             "ticks": ""
            },
            "colorscale": [
             [
              0,
              "#0d0887"
             ],
             [
              0.1111111111111111,
              "#46039f"
             ],
             [
              0.2222222222222222,
              "#7201a8"
             ],
             [
              0.3333333333333333,
              "#9c179e"
             ],
             [
              0.4444444444444444,
              "#bd3786"
             ],
             [
              0.5555555555555556,
              "#d8576b"
             ],
             [
              0.6666666666666666,
              "#ed7953"
             ],
             [
              0.7777777777777778,
              "#fb9f3a"
             ],
             [
              0.8888888888888888,
              "#fdca26"
             ],
             [
              1,
              "#f0f921"
             ]
            ],
            "type": "surface"
           }
          ],
          "table": [
           {
            "cells": {
             "fill": {
              "color": "#EBF0F8"
             },
             "line": {
              "color": "white"
             }
            },
            "header": {
             "fill": {
              "color": "#C8D4E3"
             },
             "line": {
              "color": "white"
             }
            },
            "type": "table"
           }
          ]
         },
         "layout": {
          "annotationdefaults": {
           "arrowcolor": "#2a3f5f",
           "arrowhead": 0,
           "arrowwidth": 1
          },
          "autotypenumbers": "strict",
          "coloraxis": {
           "colorbar": {
            "outlinewidth": 0,
            "ticks": ""
           }
          },
          "colorscale": {
           "diverging": [
            [
             0,
             "#8e0152"
            ],
            [
             0.1,
             "#c51b7d"
            ],
            [
             0.2,
             "#de77ae"
            ],
            [
             0.3,
             "#f1b6da"
            ],
            [
             0.4,
             "#fde0ef"
            ],
            [
             0.5,
             "#f7f7f7"
            ],
            [
             0.6,
             "#e6f5d0"
            ],
            [
             0.7,
             "#b8e186"
            ],
            [
             0.8,
             "#7fbc41"
            ],
            [
             0.9,
             "#4d9221"
            ],
            [
             1,
             "#276419"
            ]
           ],
           "sequential": [
            [
             0,
             "#0d0887"
            ],
            [
             0.1111111111111111,
             "#46039f"
            ],
            [
             0.2222222222222222,
             "#7201a8"
            ],
            [
             0.3333333333333333,
             "#9c179e"
            ],
            [
             0.4444444444444444,
             "#bd3786"
            ],
            [
             0.5555555555555556,
             "#d8576b"
            ],
            [
             0.6666666666666666,
             "#ed7953"
            ],
            [
             0.7777777777777778,
             "#fb9f3a"
            ],
            [
             0.8888888888888888,
             "#fdca26"
            ],
            [
             1,
             "#f0f921"
            ]
           ],
           "sequentialminus": [
            [
             0,
             "#0d0887"
            ],
            [
             0.1111111111111111,
             "#46039f"
            ],
            [
             0.2222222222222222,
             "#7201a8"
            ],
            [
             0.3333333333333333,
             "#9c179e"
            ],
            [
             0.4444444444444444,
             "#bd3786"
            ],
            [
             0.5555555555555556,
             "#d8576b"
            ],
            [
             0.6666666666666666,
             "#ed7953"
            ],
            [
             0.7777777777777778,
             "#fb9f3a"
            ],
            [
             0.8888888888888888,
             "#fdca26"
            ],
            [
             1,
             "#f0f921"
            ]
           ]
          },
          "colorway": [
           "#636efa",
           "#EF553B",
           "#00cc96",
           "#ab63fa",
           "#FFA15A",
           "#19d3f3",
           "#FF6692",
           "#B6E880",
           "#FF97FF",
           "#FECB52"
          ],
          "font": {
           "color": "#2a3f5f"
          },
          "geo": {
           "bgcolor": "white",
           "lakecolor": "white",
           "landcolor": "#E5ECF6",
           "showlakes": true,
           "showland": true,
           "subunitcolor": "white"
          },
          "hoverlabel": {
           "align": "left"
          },
          "hovermode": "closest",
          "mapbox": {
           "style": "light"
          },
          "paper_bgcolor": "white",
          "plot_bgcolor": "#E5ECF6",
          "polar": {
           "angularaxis": {
            "gridcolor": "white",
            "linecolor": "white",
            "ticks": ""
           },
           "bgcolor": "#E5ECF6",
           "radialaxis": {
            "gridcolor": "white",
            "linecolor": "white",
            "ticks": ""
           }
          },
          "scene": {
           "xaxis": {
            "backgroundcolor": "#E5ECF6",
            "gridcolor": "white",
            "gridwidth": 2,
            "linecolor": "white",
            "showbackground": true,
            "ticks": "",
            "zerolinecolor": "white"
           },
           "yaxis": {
            "backgroundcolor": "#E5ECF6",
            "gridcolor": "white",
            "gridwidth": 2,
            "linecolor": "white",
            "showbackground": true,
            "ticks": "",
            "zerolinecolor": "white"
           },
           "zaxis": {
            "backgroundcolor": "#E5ECF6",
            "gridcolor": "white",
            "gridwidth": 2,
            "linecolor": "white",
            "showbackground": true,
            "ticks": "",
            "zerolinecolor": "white"
           }
          },
          "shapedefaults": {
           "line": {
            "color": "#2a3f5f"
           }
          },
          "ternary": {
           "aaxis": {
            "gridcolor": "white",
            "linecolor": "white",
            "ticks": ""
           },
           "baxis": {
            "gridcolor": "white",
            "linecolor": "white",
            "ticks": ""
           },
           "bgcolor": "#E5ECF6",
           "caxis": {
            "gridcolor": "white",
            "linecolor": "white",
            "ticks": ""
           }
          },
          "title": {
           "x": 0.05
          },
          "xaxis": {
           "automargin": true,
           "gridcolor": "white",
           "linecolor": "white",
           "ticks": "",
           "title": {
            "standoff": 15
           },
           "zerolinecolor": "white",
           "zerolinewidth": 2
          },
          "yaxis": {
           "automargin": true,
           "gridcolor": "white",
           "linecolor": "white",
           "ticks": "",
           "title": {
            "standoff": 15
           },
           "zerolinecolor": "white",
           "zerolinewidth": 2
          }
         }
        },
        "title": {
         "text": "Hyperparameter Importances"
        },
        "xaxis": {
         "title": {
          "text": "Hyperparameter Importance"
         }
        },
        "yaxis": {
         "title": {
          "text": "Hyperparameter"
         }
        }
       }
      }
     },
     "metadata": {},
     "output_type": "display_data"
    },
    {
     "data": {
      "application/vnd.plotly.v1+json": {
       "config": {
        "plotlyServerURL": "https://plot.ly"
       },
       "data": [
        {
         "marker": {
          "color": [
           0,
           1,
           2,
           3,
           4,
           5,
           6,
           7,
           8,
           9,
           10,
           11,
           12,
           13,
           14,
           15,
           16,
           17,
           18,
           21,
           22,
           23,
           24,
           26,
           27,
           28,
           30,
           31,
           32,
           33,
           37,
           41,
           42,
           44,
           45,
           46,
           49,
           50,
           51,
           52,
           53,
           54,
           55,
           57,
           59,
           61,
           62,
           63,
           64,
           65,
           69,
           71,
           72,
           73,
           74,
           75,
           79,
           81,
           82,
           83,
           86,
           87,
           90,
           91,
           92,
           94,
           97,
           98
          ],
          "colorbar": {
           "title": {
            "text": "Trial"
           },
           "x": 1,
           "xpad": 40
          },
          "colorscale": [
           [
            0,
            "rgb(247,251,255)"
           ],
           [
            0.125,
            "rgb(222,235,247)"
           ],
           [
            0.25,
            "rgb(198,219,239)"
           ],
           [
            0.375,
            "rgb(158,202,225)"
           ],
           [
            0.5,
            "rgb(107,174,214)"
           ],
           [
            0.625,
            "rgb(66,146,198)"
           ],
           [
            0.75,
            "rgb(33,113,181)"
           ],
           [
            0.875,
            "rgb(8,81,156)"
           ],
           [
            1,
            "rgb(8,48,107)"
           ]
          ],
          "line": {
           "color": "Grey",
           "width": 0.5
          },
          "showscale": true
         },
         "mode": "markers",
         "name": "Feasible Trial",
         "showlegend": false,
         "type": "scatter",
         "x": [
          4,
          3,
          3,
          3,
          9,
          7,
          7,
          3,
          5,
          2,
          7,
          6,
          6,
          6,
          9,
          9,
          8,
          8,
          5,
          8,
          9,
          6,
          8,
          7,
          7,
          6,
          5,
          7,
          7,
          7,
          9,
          9,
          9,
          9,
          7,
          8,
          7,
          8,
          8,
          8,
          7,
          8,
          8,
          8,
          8,
          7,
          8,
          8,
          8,
          9,
          9,
          9,
          8,
          8,
          9,
          8,
          7,
          9,
          9,
          8,
          8,
          9,
          9,
          9,
          9,
          9,
          8,
          7
         ],
         "xaxis": "x",
         "y": [
          0.8283179012345679,
          0.6993055555555555,
          0.7043981481481482,
          0.6345679012345679,
          0.2169753086419753,
          0.8517746913580246,
          0.3090277777777778,
          0.625,
          0.6787808641975308,
          0.5528549382716049,
          0.7659722222222223,
          0.9339506172839506,
          0.9059413580246913,
          0.9195216049382716,
          0.9232253086419753,
          0.8863425925925926,
          0.9305555555555556,
          0.9202160493827161,
          0.8471450617283951,
          0.9218364197530864,
          0.9362654320987654,
          0.8878858024691358,
          0.9255401234567902,
          0.9330246913580247,
          0.937037037037037,
          0.8925154320987654,
          0.9010802469135802,
          0.9368827160493827,
          0.939429012345679,
          0.908641975308642,
          0.9361882716049382,
          0.9361882716049382,
          0.9362654320987654,
          0.9232253086419753,
          0.9155092592592593,
          0.9399691358024691,
          0.9277006172839506,
          0.9399691358024691,
          0.9399691358024691,
          0.9218364197530864,
          0.939429012345679,
          0.9399691358024691,
          0.9218364197530864,
          0.9399691358024691,
          0.9218364197530864,
          0.939429012345679,
          0.9255401234567902,
          0.9399691358024691,
          0.9255401234567902,
          0.9362654320987654,
          0.9398148148148148,
          0.9232253086419753,
          0.9399691358024691,
          0.9305555555555556,
          0.9398148148148148,
          0.9368055555555556,
          0.9368827160493827,
          0.9398148148148148,
          0.9398148148148148,
          0.9368055555555556,
          0.9305555555555556,
          0.9361882716049382,
          0.9271604938271605,
          0.9398148148148148,
          0.9362654320987654,
          0.9361882716049382,
          0.9399691358024691,
          0.9330246913580247
         ],
         "yaxis": "y"
        },
        {
         "marker": {
          "color": [
           0,
           1,
           2,
           3,
           4,
           5,
           6,
           7,
           8,
           9,
           10,
           11,
           12,
           13,
           14,
           15,
           16,
           17,
           18,
           21,
           22,
           23,
           24,
           26,
           27,
           28,
           30,
           31,
           32,
           33,
           37,
           41,
           42,
           44,
           45,
           46,
           49,
           50,
           51,
           52,
           53,
           54,
           55,
           57,
           59,
           61,
           62,
           63,
           64,
           65,
           69,
           71,
           72,
           73,
           74,
           75,
           79,
           81,
           82,
           83,
           86,
           87,
           90,
           91,
           92,
           94,
           97,
           98
          ],
          "colorbar": {
           "title": {
            "text": "Trial"
           },
           "x": 1,
           "xpad": 40
          },
          "colorscale": [
           [
            0,
            "rgb(247,251,255)"
           ],
           [
            0.125,
            "rgb(222,235,247)"
           ],
           [
            0.25,
            "rgb(198,219,239)"
           ],
           [
            0.375,
            "rgb(158,202,225)"
           ],
           [
            0.5,
            "rgb(107,174,214)"
           ],
           [
            0.625,
            "rgb(66,146,198)"
           ],
           [
            0.75,
            "rgb(33,113,181)"
           ],
           [
            0.875,
            "rgb(8,81,156)"
           ],
           [
            1,
            "rgb(8,48,107)"
           ]
          ],
          "line": {
           "color": "Grey",
           "width": 0.5
          },
          "showscale": false
         },
         "mode": "markers",
         "name": "Feasible Trial",
         "showlegend": false,
         "type": "scatter",
         "x": [
          3,
          27,
          18,
          41,
          21,
          19,
          26,
          49,
          20,
          9,
          33,
          3,
          10,
          1,
          1,
          11,
          6,
          8,
          14,
          1,
          5,
          14,
          7,
          6,
          5,
          13,
          4,
          4,
          3,
          10,
          4,
          4,
          5,
          1,
          9,
          3,
          7,
          3,
          3,
          2,
          3,
          3,
          2,
          3,
          1,
          3,
          7,
          3,
          7,
          5,
          3,
          2,
          3,
          6,
          3,
          5,
          4,
          3,
          3,
          5,
          6,
          4,
          3,
          3,
          5,
          4,
          3,
          6
         ],
         "xaxis": "x2",
         "y": [
          0.8283179012345679,
          0.6993055555555555,
          0.7043981481481482,
          0.6345679012345679,
          0.2169753086419753,
          0.8517746913580246,
          0.3090277777777778,
          0.625,
          0.6787808641975308,
          0.5528549382716049,
          0.7659722222222223,
          0.9339506172839506,
          0.9059413580246913,
          0.9195216049382716,
          0.9232253086419753,
          0.8863425925925926,
          0.9305555555555556,
          0.9202160493827161,
          0.8471450617283951,
          0.9218364197530864,
          0.9362654320987654,
          0.8878858024691358,
          0.9255401234567902,
          0.9330246913580247,
          0.937037037037037,
          0.8925154320987654,
          0.9010802469135802,
          0.9368827160493827,
          0.939429012345679,
          0.908641975308642,
          0.9361882716049382,
          0.9361882716049382,
          0.9362654320987654,
          0.9232253086419753,
          0.9155092592592593,
          0.9399691358024691,
          0.9277006172839506,
          0.9399691358024691,
          0.9399691358024691,
          0.9218364197530864,
          0.939429012345679,
          0.9399691358024691,
          0.9218364197530864,
          0.9399691358024691,
          0.9218364197530864,
          0.939429012345679,
          0.9255401234567902,
          0.9399691358024691,
          0.9255401234567902,
          0.9362654320987654,
          0.9398148148148148,
          0.9232253086419753,
          0.9399691358024691,
          0.9305555555555556,
          0.9398148148148148,
          0.9368055555555556,
          0.9368827160493827,
          0.9398148148148148,
          0.9398148148148148,
          0.9368055555555556,
          0.9305555555555556,
          0.9361882716049382,
          0.9271604938271605,
          0.9398148148148148,
          0.9362654320987654,
          0.9361882716049382,
          0.9399691358024691,
          0.9330246913580247
         ],
         "yaxis": "y2"
        },
        {
         "marker": {
          "color": [
           0,
           1,
           2,
           3,
           4,
           5,
           6,
           7,
           8,
           9,
           10,
           11,
           12,
           13,
           14,
           15,
           16,
           17,
           18,
           21,
           22,
           23,
           24,
           26,
           27,
           28,
           30,
           31,
           32,
           33,
           37,
           41,
           42,
           44,
           45,
           46,
           49,
           50,
           51,
           52,
           53,
           54,
           55,
           57,
           59,
           61,
           62,
           63,
           64,
           65,
           69,
           71,
           72,
           73,
           74,
           75,
           79,
           81,
           82,
           83,
           86,
           87,
           90,
           91,
           92,
           94,
           97,
           98
          ],
          "colorbar": {
           "title": {
            "text": "Trial"
           },
           "x": 1,
           "xpad": 40
          },
          "colorscale": [
           [
            0,
            "rgb(247,251,255)"
           ],
           [
            0.125,
            "rgb(222,235,247)"
           ],
           [
            0.25,
            "rgb(198,219,239)"
           ],
           [
            0.375,
            "rgb(158,202,225)"
           ],
           [
            0.5,
            "rgb(107,174,214)"
           ],
           [
            0.625,
            "rgb(66,146,198)"
           ],
           [
            0.75,
            "rgb(33,113,181)"
           ],
           [
            0.875,
            "rgb(8,81,156)"
           ],
           [
            1,
            "rgb(8,48,107)"
           ]
          ],
          "line": {
           "color": "Grey",
           "width": 0.5
          },
          "showscale": false
         },
         "mode": "markers",
         "name": "Feasible Trial",
         "showlegend": false,
         "type": "scatter",
         "x": [
          "uniform",
          "distance",
          "distance",
          "uniform",
          "uniform",
          "distance",
          "uniform",
          "uniform",
          "uniform",
          "uniform",
          "distance",
          "distance",
          "distance",
          "distance",
          "distance",
          "distance",
          "distance",
          "distance",
          "distance",
          "distance",
          "distance",
          "distance",
          "distance",
          "distance",
          "distance",
          "distance",
          "distance",
          "distance",
          "distance",
          "distance",
          "distance",
          "distance",
          "distance",
          "distance",
          "distance",
          "distance",
          "distance",
          "distance",
          "distance",
          "distance",
          "distance",
          "distance",
          "distance",
          "distance",
          "distance",
          "distance",
          "distance",
          "distance",
          "distance",
          "distance",
          "distance",
          "distance",
          "distance",
          "distance",
          "distance",
          "distance",
          "distance",
          "distance",
          "distance",
          "distance",
          "distance",
          "distance",
          "uniform",
          "distance",
          "distance",
          "distance",
          "distance",
          "distance"
         ],
         "xaxis": "x3",
         "y": [
          0.8283179012345679,
          0.6993055555555555,
          0.7043981481481482,
          0.6345679012345679,
          0.2169753086419753,
          0.8517746913580246,
          0.3090277777777778,
          0.625,
          0.6787808641975308,
          0.5528549382716049,
          0.7659722222222223,
          0.9339506172839506,
          0.9059413580246913,
          0.9195216049382716,
          0.9232253086419753,
          0.8863425925925926,
          0.9305555555555556,
          0.9202160493827161,
          0.8471450617283951,
          0.9218364197530864,
          0.9362654320987654,
          0.8878858024691358,
          0.9255401234567902,
          0.9330246913580247,
          0.937037037037037,
          0.8925154320987654,
          0.9010802469135802,
          0.9368827160493827,
          0.939429012345679,
          0.908641975308642,
          0.9361882716049382,
          0.9361882716049382,
          0.9362654320987654,
          0.9232253086419753,
          0.9155092592592593,
          0.9399691358024691,
          0.9277006172839506,
          0.9399691358024691,
          0.9399691358024691,
          0.9218364197530864,
          0.939429012345679,
          0.9399691358024691,
          0.9218364197530864,
          0.9399691358024691,
          0.9218364197530864,
          0.939429012345679,
          0.9255401234567902,
          0.9399691358024691,
          0.9255401234567902,
          0.9362654320987654,
          0.9398148148148148,
          0.9232253086419753,
          0.9399691358024691,
          0.9305555555555556,
          0.9398148148148148,
          0.9368055555555556,
          0.9368827160493827,
          0.9398148148148148,
          0.9398148148148148,
          0.9368055555555556,
          0.9305555555555556,
          0.9361882716049382,
          0.9271604938271605,
          0.9398148148148148,
          0.9362654320987654,
          0.9361882716049382,
          0.9399691358024691,
          0.9330246913580247
         ],
         "yaxis": "y3"
        }
       ],
       "layout": {
        "template": {
         "data": {
          "bar": [
           {
            "error_x": {
             "color": "#2a3f5f"
            },
            "error_y": {
             "color": "#2a3f5f"
            },
            "marker": {
             "line": {
              "color": "#E5ECF6",
              "width": 0.5
             },
             "pattern": {
              "fillmode": "overlay",
              "size": 10,
              "solidity": 0.2
             }
            },
            "type": "bar"
           }
          ],
          "barpolar": [
           {
            "marker": {
             "line": {
              "color": "#E5ECF6",
              "width": 0.5
             },
             "pattern": {
              "fillmode": "overlay",
              "size": 10,
              "solidity": 0.2
             }
            },
            "type": "barpolar"
           }
          ],
          "carpet": [
           {
            "aaxis": {
             "endlinecolor": "#2a3f5f",
             "gridcolor": "white",
             "linecolor": "white",
             "minorgridcolor": "white",
             "startlinecolor": "#2a3f5f"
            },
            "baxis": {
             "endlinecolor": "#2a3f5f",
             "gridcolor": "white",
             "linecolor": "white",
             "minorgridcolor": "white",
             "startlinecolor": "#2a3f5f"
            },
            "type": "carpet"
           }
          ],
          "choropleth": [
           {
            "colorbar": {
             "outlinewidth": 0,
             "ticks": ""
            },
            "type": "choropleth"
           }
          ],
          "contour": [
           {
            "colorbar": {
             "outlinewidth": 0,
             "ticks": ""
            },
            "colorscale": [
             [
              0,
              "#0d0887"
             ],
             [
              0.1111111111111111,
              "#46039f"
             ],
             [
              0.2222222222222222,
              "#7201a8"
             ],
             [
              0.3333333333333333,
              "#9c179e"
             ],
             [
              0.4444444444444444,
              "#bd3786"
             ],
             [
              0.5555555555555556,
              "#d8576b"
             ],
             [
              0.6666666666666666,
              "#ed7953"
             ],
             [
              0.7777777777777778,
              "#fb9f3a"
             ],
             [
              0.8888888888888888,
              "#fdca26"
             ],
             [
              1,
              "#f0f921"
             ]
            ],
            "type": "contour"
           }
          ],
          "contourcarpet": [
           {
            "colorbar": {
             "outlinewidth": 0,
             "ticks": ""
            },
            "type": "contourcarpet"
           }
          ],
          "heatmap": [
           {
            "colorbar": {
             "outlinewidth": 0,
             "ticks": ""
            },
            "colorscale": [
             [
              0,
              "#0d0887"
             ],
             [
              0.1111111111111111,
              "#46039f"
             ],
             [
              0.2222222222222222,
              "#7201a8"
             ],
             [
              0.3333333333333333,
              "#9c179e"
             ],
             [
              0.4444444444444444,
              "#bd3786"
             ],
             [
              0.5555555555555556,
              "#d8576b"
             ],
             [
              0.6666666666666666,
              "#ed7953"
             ],
             [
              0.7777777777777778,
              "#fb9f3a"
             ],
             [
              0.8888888888888888,
              "#fdca26"
             ],
             [
              1,
              "#f0f921"
             ]
            ],
            "type": "heatmap"
           }
          ],
          "heatmapgl": [
           {
            "colorbar": {
             "outlinewidth": 0,
             "ticks": ""
            },
            "colorscale": [
             [
              0,
              "#0d0887"
             ],
             [
              0.1111111111111111,
              "#46039f"
             ],
             [
              0.2222222222222222,
              "#7201a8"
             ],
             [
              0.3333333333333333,
              "#9c179e"
             ],
             [
              0.4444444444444444,
              "#bd3786"
             ],
             [
              0.5555555555555556,
              "#d8576b"
             ],
             [
              0.6666666666666666,
              "#ed7953"
             ],
             [
              0.7777777777777778,
              "#fb9f3a"
             ],
             [
              0.8888888888888888,
              "#fdca26"
             ],
             [
              1,
              "#f0f921"
             ]
            ],
            "type": "heatmapgl"
           }
          ],
          "histogram": [
           {
            "marker": {
             "pattern": {
              "fillmode": "overlay",
              "size": 10,
              "solidity": 0.2
             }
            },
            "type": "histogram"
           }
          ],
          "histogram2d": [
           {
            "colorbar": {
             "outlinewidth": 0,
             "ticks": ""
            },
            "colorscale": [
             [
              0,
              "#0d0887"
             ],
             [
              0.1111111111111111,
              "#46039f"
             ],
             [
              0.2222222222222222,
              "#7201a8"
             ],
             [
              0.3333333333333333,
              "#9c179e"
             ],
             [
              0.4444444444444444,
              "#bd3786"
             ],
             [
              0.5555555555555556,
              "#d8576b"
             ],
             [
              0.6666666666666666,
              "#ed7953"
             ],
             [
              0.7777777777777778,
              "#fb9f3a"
             ],
             [
              0.8888888888888888,
              "#fdca26"
             ],
             [
              1,
              "#f0f921"
             ]
            ],
            "type": "histogram2d"
           }
          ],
          "histogram2dcontour": [
           {
            "colorbar": {
             "outlinewidth": 0,
             "ticks": ""
            },
            "colorscale": [
             [
              0,
              "#0d0887"
             ],
             [
              0.1111111111111111,
              "#46039f"
             ],
             [
              0.2222222222222222,
              "#7201a8"
             ],
             [
              0.3333333333333333,
              "#9c179e"
             ],
             [
              0.4444444444444444,
              "#bd3786"
             ],
             [
              0.5555555555555556,
              "#d8576b"
             ],
             [
              0.6666666666666666,
              "#ed7953"
             ],
             [
              0.7777777777777778,
              "#fb9f3a"
             ],
             [
              0.8888888888888888,
              "#fdca26"
             ],
             [
              1,
              "#f0f921"
             ]
            ],
            "type": "histogram2dcontour"
           }
          ],
          "mesh3d": [
           {
            "colorbar": {
             "outlinewidth": 0,
             "ticks": ""
            },
            "type": "mesh3d"
           }
          ],
          "parcoords": [
           {
            "line": {
             "colorbar": {
              "outlinewidth": 0,
              "ticks": ""
             }
            },
            "type": "parcoords"
           }
          ],
          "pie": [
           {
            "automargin": true,
            "type": "pie"
           }
          ],
          "scatter": [
           {
            "fillpattern": {
             "fillmode": "overlay",
             "size": 10,
             "solidity": 0.2
            },
            "type": "scatter"
           }
          ],
          "scatter3d": [
           {
            "line": {
             "colorbar": {
              "outlinewidth": 0,
              "ticks": ""
             }
            },
            "marker": {
             "colorbar": {
              "outlinewidth": 0,
              "ticks": ""
             }
            },
            "type": "scatter3d"
           }
          ],
          "scattercarpet": [
           {
            "marker": {
             "colorbar": {
              "outlinewidth": 0,
              "ticks": ""
             }
            },
            "type": "scattercarpet"
           }
          ],
          "scattergeo": [
           {
            "marker": {
             "colorbar": {
              "outlinewidth": 0,
              "ticks": ""
             }
            },
            "type": "scattergeo"
           }
          ],
          "scattergl": [
           {
            "marker": {
             "colorbar": {
              "outlinewidth": 0,
              "ticks": ""
             }
            },
            "type": "scattergl"
           }
          ],
          "scattermapbox": [
           {
            "marker": {
             "colorbar": {
              "outlinewidth": 0,
              "ticks": ""
             }
            },
            "type": "scattermapbox"
           }
          ],
          "scatterpolar": [
           {
            "marker": {
             "colorbar": {
              "outlinewidth": 0,
              "ticks": ""
             }
            },
            "type": "scatterpolar"
           }
          ],
          "scatterpolargl": [
           {
            "marker": {
             "colorbar": {
              "outlinewidth": 0,
              "ticks": ""
             }
            },
            "type": "scatterpolargl"
           }
          ],
          "scatterternary": [
           {
            "marker": {
             "colorbar": {
              "outlinewidth": 0,
              "ticks": ""
             }
            },
            "type": "scatterternary"
           }
          ],
          "surface": [
           {
            "colorbar": {
             "outlinewidth": 0,
             "ticks": ""
            },
            "colorscale": [
             [
              0,
              "#0d0887"
             ],
             [
              0.1111111111111111,
              "#46039f"
             ],
             [
              0.2222222222222222,
              "#7201a8"
             ],
             [
              0.3333333333333333,
              "#9c179e"
             ],
             [
              0.4444444444444444,
              "#bd3786"
             ],
             [
              0.5555555555555556,
              "#d8576b"
             ],
             [
              0.6666666666666666,
              "#ed7953"
             ],
             [
              0.7777777777777778,
              "#fb9f3a"
             ],
             [
              0.8888888888888888,
              "#fdca26"
             ],
             [
              1,
              "#f0f921"
             ]
            ],
            "type": "surface"
           }
          ],
          "table": [
           {
            "cells": {
             "fill": {
              "color": "#EBF0F8"
             },
             "line": {
              "color": "white"
             }
            },
            "header": {
             "fill": {
              "color": "#C8D4E3"
             },
             "line": {
              "color": "white"
             }
            },
            "type": "table"
           }
          ]
         },
         "layout": {
          "annotationdefaults": {
           "arrowcolor": "#2a3f5f",
           "arrowhead": 0,
           "arrowwidth": 1
          },
          "autotypenumbers": "strict",
          "coloraxis": {
           "colorbar": {
            "outlinewidth": 0,
            "ticks": ""
           }
          },
          "colorscale": {
           "diverging": [
            [
             0,
             "#8e0152"
            ],
            [
             0.1,
             "#c51b7d"
            ],
            [
             0.2,
             "#de77ae"
            ],
            [
             0.3,
             "#f1b6da"
            ],
            [
             0.4,
             "#fde0ef"
            ],
            [
             0.5,
             "#f7f7f7"
            ],
            [
             0.6,
             "#e6f5d0"
            ],
            [
             0.7,
             "#b8e186"
            ],
            [
             0.8,
             "#7fbc41"
            ],
            [
             0.9,
             "#4d9221"
            ],
            [
             1,
             "#276419"
            ]
           ],
           "sequential": [
            [
             0,
             "#0d0887"
            ],
            [
             0.1111111111111111,
             "#46039f"
            ],
            [
             0.2222222222222222,
             "#7201a8"
            ],
            [
             0.3333333333333333,
             "#9c179e"
            ],
            [
             0.4444444444444444,
             "#bd3786"
            ],
            [
             0.5555555555555556,
             "#d8576b"
            ],
            [
             0.6666666666666666,
             "#ed7953"
            ],
            [
             0.7777777777777778,
             "#fb9f3a"
            ],
            [
             0.8888888888888888,
             "#fdca26"
            ],
            [
             1,
             "#f0f921"
            ]
           ],
           "sequentialminus": [
            [
             0,
             "#0d0887"
            ],
            [
             0.1111111111111111,
             "#46039f"
            ],
            [
             0.2222222222222222,
             "#7201a8"
            ],
            [
             0.3333333333333333,
             "#9c179e"
            ],
            [
             0.4444444444444444,
             "#bd3786"
            ],
            [
             0.5555555555555556,
             "#d8576b"
            ],
            [
             0.6666666666666666,
             "#ed7953"
            ],
            [
             0.7777777777777778,
             "#fb9f3a"
            ],
            [
             0.8888888888888888,
             "#fdca26"
            ],
            [
             1,
             "#f0f921"
            ]
           ]
          },
          "colorway": [
           "#636efa",
           "#EF553B",
           "#00cc96",
           "#ab63fa",
           "#FFA15A",
           "#19d3f3",
           "#FF6692",
           "#B6E880",
           "#FF97FF",
           "#FECB52"
          ],
          "font": {
           "color": "#2a3f5f"
          },
          "geo": {
           "bgcolor": "white",
           "lakecolor": "white",
           "landcolor": "#E5ECF6",
           "showlakes": true,
           "showland": true,
           "subunitcolor": "white"
          },
          "hoverlabel": {
           "align": "left"
          },
          "hovermode": "closest",
          "mapbox": {
           "style": "light"
          },
          "paper_bgcolor": "white",
          "plot_bgcolor": "#E5ECF6",
          "polar": {
           "angularaxis": {
            "gridcolor": "white",
            "linecolor": "white",
            "ticks": ""
           },
           "bgcolor": "#E5ECF6",
           "radialaxis": {
            "gridcolor": "white",
            "linecolor": "white",
            "ticks": ""
           }
          },
          "scene": {
           "xaxis": {
            "backgroundcolor": "#E5ECF6",
            "gridcolor": "white",
            "gridwidth": 2,
            "linecolor": "white",
            "showbackground": true,
            "ticks": "",
            "zerolinecolor": "white"
           },
           "yaxis": {
            "backgroundcolor": "#E5ECF6",
            "gridcolor": "white",
            "gridwidth": 2,
            "linecolor": "white",
            "showbackground": true,
            "ticks": "",
            "zerolinecolor": "white"
           },
           "zaxis": {
            "backgroundcolor": "#E5ECF6",
            "gridcolor": "white",
            "gridwidth": 2,
            "linecolor": "white",
            "showbackground": true,
            "ticks": "",
            "zerolinecolor": "white"
           }
          },
          "shapedefaults": {
           "line": {
            "color": "#2a3f5f"
           }
          },
          "ternary": {
           "aaxis": {
            "gridcolor": "white",
            "linecolor": "white",
            "ticks": ""
           },
           "baxis": {
            "gridcolor": "white",
            "linecolor": "white",
            "ticks": ""
           },
           "bgcolor": "#E5ECF6",
           "caxis": {
            "gridcolor": "white",
            "linecolor": "white",
            "ticks": ""
           }
          },
          "title": {
           "x": 0.05
          },
          "xaxis": {
           "automargin": true,
           "gridcolor": "white",
           "linecolor": "white",
           "ticks": "",
           "title": {
            "standoff": 15
           },
           "zerolinecolor": "white",
           "zerolinewidth": 2
          },
          "yaxis": {
           "automargin": true,
           "gridcolor": "white",
           "linecolor": "white",
           "ticks": "",
           "title": {
            "standoff": 15
           },
           "zerolinecolor": "white",
           "zerolinewidth": 2
          }
         }
        },
        "title": {
         "text": "Slice Plot"
        },
        "xaxis": {
         "anchor": "y",
         "domain": [
          0,
          0.2888888888888889
         ],
         "title": {
          "text": "n_components"
         }
        },
        "xaxis2": {
         "anchor": "y2",
         "domain": [
          0.35555555555555557,
          0.6444444444444445
         ],
         "title": {
          "text": "n_neighbors"
         }
        },
        "xaxis3": {
         "anchor": "y3",
         "categoryarray": [
          "uniform",
          "distance"
         ],
         "categoryorder": "array",
         "domain": [
          0.7111111111111111,
          1
         ],
         "title": {
          "text": "weights"
         },
         "type": "category"
        },
        "yaxis": {
         "anchor": "x",
         "domain": [
          0,
          1
         ],
         "title": {
          "text": "Objective Value"
         }
        },
        "yaxis2": {
         "anchor": "x2",
         "domain": [
          0,
          1
         ],
         "matches": "y",
         "showticklabels": false
        },
        "yaxis3": {
         "anchor": "x3",
         "domain": [
          0,
          1
         ],
         "matches": "y",
         "showticklabels": false
        }
       }
      }
     },
     "metadata": {},
     "output_type": "display_data"
    }
   ],
   "source": [
    "# Create a study object with a pruner\n",
    "pruner = optuna.pruners.MedianPruner(n_startup_trials=10)\n",
    "study = optuna.create_study(direction=\"maximize\", pruner=pruner)\n",
    "\n",
    "# Optimize the objective function\n",
    "study.optimize(objective, n_trials=100)\n",
    "\n",
    "print(\"Best hyperparameters:\", study.best_params)\n",
    "print(\"Best value:\", study.best_value)\n",
    "\n",
    "# Evaluate on the validation set\n",
    "X_test_scaled = best_scaler.transform(X_test)\n",
    "X_test_scaled = best_pca.transform(X_test_scaled)\n",
    "y_test_pred = best_model.predict(X_test_scaled)\n",
    "test_accuracy = accuracy_score(y_test, y_test_pred)\n",
    "print(f'accuracy on test set:{test_accuracy}')\n",
    "\n",
    "# Optional: Visualize optimization results\n",
    "vis.plot_optimization_history(study).show()\n",
    "vis.plot_param_importances(study).show()\n",
    "vis.plot_slice(study).show()"
   ]
  }
 ],
 "metadata": {
  "kernelspec": {
   "display_name": ".venv",
   "language": "python",
   "name": "python3"
  },
  "language_info": {
   "codemirror_mode": {
    "name": "ipython",
    "version": 3
   },
   "file_extension": ".py",
   "mimetype": "text/x-python",
   "name": "python",
   "nbconvert_exporter": "python",
   "pygments_lexer": "ipython3",
   "version": "3.12.0"
  }
 },
 "nbformat": 4,
 "nbformat_minor": 2
}
