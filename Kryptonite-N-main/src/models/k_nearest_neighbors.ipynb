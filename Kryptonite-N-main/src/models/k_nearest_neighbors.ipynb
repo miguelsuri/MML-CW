{
 "cells": [
  {
   "cell_type": "code",
   "execution_count": 1,
   "metadata": {},
   "outputs": [
    {
     "name": "stderr",
     "output_type": "stream",
     "text": [
      "c:\\Users\\berma\\Documents\\Mathematics for Machine Learning\\MML-CW\\.venv\\Lib\\site-packages\\tqdm\\auto.py:21: TqdmWarning: IProgress not found. Please update jupyter and ipywidgets. See https://ipywidgets.readthedocs.io/en/stable/user_install.html\n",
      "  from .autonotebook import tqdm as notebook_tqdm\n"
     ]
    }
   ],
   "source": [
    "import numpy as np\n",
    "import joblib  # for saving the model\n",
    "from sklearn.model_selection import train_test_split\n",
    "from sklearn.preprocessing import StandardScaler\n",
    "from sklearn.metrics import accuracy_score\n",
    "from sklearn.decomposition import KernelPCA, PCA\n",
    "from sklearn.neighbors import KNeighborsClassifier\n",
    "import optuna\n",
    "import optuna.visualization as vis"
   ]
  },
  {
   "cell_type": "code",
   "execution_count": 5,
   "metadata": {},
   "outputs": [],
   "source": [
    "n = 9\n",
    "\n",
    "X = np.load('../../Datasets_Train_Test_Split/kryptonite-%s-X_train.npy' % n)\n",
    "y = np.load('../../Datasets_Train_Test_Split/kryptonite-%s-y_train.npy' % n)\n",
    "\n",
    "X_train_total, X_test, y_train_total, y_test = train_test_split(X, y, test_size=0.1, random_state=42)  # 10% of all data for final model evaluation\n",
    "\n",
    "# To hold the best model and accuracy score\n",
    "best_model = None\n",
    "best_accuracy = -1\n",
    "SAVE_BEST_MODEL = False"
   ]
  },
  {
   "cell_type": "code",
   "execution_count": 7,
   "metadata": {},
   "outputs": [],
   "source": [
    "def objective(trial):\n",
    "    global best_model, best_scaler, best_accuracy, best_pca\n",
    "\n",
    "    # Shuffle and split data\n",
    "    X_train, X_val, y_train, y_val = train_test_split(X_train_total, y_train_total, test_size=0.8, random_state=42)\n",
    "\n",
    "    scaler = StandardScaler()\n",
    "    X_train_scaled = scaler.fit_transform(X_train)\n",
    "    X_val_scaled = scaler.transform(X_val)\n",
    "\n",
    "    pca = PCA(n_components=trial.suggest_int('n_components', 1, X_train_scaled.shape[1]))\n",
    "    X_train_scaled = pca.fit_transform(X_train_scaled)\n",
    "    X_val_scaled = pca.transform(X_val_scaled)\n",
    "\n",
    "    # KNN Classifier parameters\n",
    "    classifier = KNeighborsClassifier(\n",
    "        n_neighbors=trial.suggest_int('n_neighbors', 1, 50),\n",
    "        weights=trial.suggest_categorical('weights', ['uniform', 'distance']),\n",
    "        n_jobs=-1\n",
    "    )\n",
    "\n",
    "    # Train the classifier\n",
    "    classifier.fit(X_train_scaled, y_train)\n",
    "\n",
    "    # Evaluate on the validation set\n",
    "    y_val_pred = classifier.predict(X_val_scaled)\n",
    "    val_accuracy = accuracy_score(y_val, y_val_pred)\n",
    "\n",
    "    # Report validation accuracy for pruning\n",
    "    trial.report(val_accuracy, step=0)\n",
    "\n",
    "    # Check if the trial should be pruned\n",
    "    if trial.should_prune():\n",
    "        raise optuna.TrialPruned()\n",
    "\n",
    "    # If this is the best model so far, save it\n",
    "    if val_accuracy > best_accuracy:\n",
    "        best_accuracy = val_accuracy\n",
    "        best_model = classifier  # Update the best model\n",
    "        best_scaler = scaler\n",
    "        best_pca = pca\n",
    "\n",
    "        if SAVE_BEST_MODEL:\n",
    "            # Save the best model\n",
    "            joblib.dump(best_model, 'best_knn_model.joblib')\n",
    "            print(f\"New best model saved with accuracy: {best_accuracy:.4f}\")\n",
    "\n",
    "    return val_accuracy"
   ]
  },
  {
   "cell_type": "code",
   "execution_count": 8,
   "metadata": {},
   "outputs": [
    {
     "name": "stderr",
     "output_type": "stream",
     "text": [
      "[I 2024-11-25 17:22:13,828] A new study created in memory with name: no-name-be0f4f11-7958-41ff-8b17-3034a5f1bc96\n",
      "[I 2024-11-25 17:22:14,215] Trial 0 finished with value: 0.3160686728395062 and parameters: {'n_components': 9, 'n_neighbors': 37, 'weights': 'uniform'}. Best is trial 0 with value: 0.3160686728395062.\n",
      "[I 2024-11-25 17:22:14,493] Trial 1 finished with value: 0.7199074074074074 and parameters: {'n_components': 6, 'n_neighbors': 11, 'weights': 'uniform'}. Best is trial 1 with value: 0.7199074074074074.\n",
      "[I 2024-11-25 17:22:14,712] Trial 2 finished with value: 0.4923804012345679 and parameters: {'n_components': 2, 'n_neighbors': 26, 'weights': 'uniform'}. Best is trial 1 with value: 0.7199074074074074.\n",
      "[I 2024-11-25 17:22:15,102] Trial 3 finished with value: 0.3150077160493827 and parameters: {'n_components': 9, 'n_neighbors': 36, 'weights': 'uniform'}. Best is trial 1 with value: 0.7199074074074074.\n",
      "[I 2024-11-25 17:22:15,203] Trial 4 finished with value: 0.7515432098765432 and parameters: {'n_components': 4, 'n_neighbors': 45, 'weights': 'distance'}. Best is trial 4 with value: 0.7515432098765432.\n",
      "[I 2024-11-25 17:22:15,510] Trial 5 finished with value: 0.40248842592592593 and parameters: {'n_components': 6, 'n_neighbors': 31, 'weights': 'uniform'}. Best is trial 4 with value: 0.7515432098765432.\n",
      "[I 2024-11-25 17:22:15,754] Trial 6 finished with value: 0.6847029320987654 and parameters: {'n_components': 4, 'n_neighbors': 22, 'weights': 'uniform'}. Best is trial 4 with value: 0.7515432098765432.\n",
      "[I 2024-11-25 17:22:16,141] Trial 7 finished with value: 0.31356095679012347 and parameters: {'n_components': 9, 'n_neighbors': 38, 'weights': 'uniform'}. Best is trial 4 with value: 0.7515432098765432.\n",
      "[I 2024-11-25 17:22:16,303] Trial 8 finished with value: 0.697241512345679 and parameters: {'n_components': 6, 'n_neighbors': 46, 'weights': 'distance'}. Best is trial 4 with value: 0.7515432098765432.\n",
      "[I 2024-11-25 17:22:16,393] Trial 9 finished with value: 0.7061149691358025 and parameters: {'n_components': 3, 'n_neighbors': 45, 'weights': 'distance'}. Best is trial 4 with value: 0.7515432098765432.\n",
      "[I 2024-11-25 17:22:16,435] Trial 10 pruned. \n",
      "[I 2024-11-25 17:22:16,585] Trial 11 finished with value: 0.8885030864197531 and parameters: {'n_components': 5, 'n_neighbors': 9, 'weights': 'distance'}. Best is trial 11 with value: 0.8885030864197531.\n",
      "[I 2024-11-25 17:22:16,653] Trial 12 finished with value: 0.8101851851851852 and parameters: {'n_components': 4, 'n_neighbors': 15, 'weights': 'distance'}. Best is trial 11 with value: 0.8885030864197531.\n",
      "[I 2024-11-25 17:22:16,727] Trial 13 finished with value: 0.8708526234567902 and parameters: {'n_components': 5, 'n_neighbors': 14, 'weights': 'distance'}. Best is trial 11 with value: 0.8885030864197531.\n",
      "[I 2024-11-25 17:22:16,808] Trial 14 finished with value: 0.9418402777777778 and parameters: {'n_components': 7, 'n_neighbors': 5, 'weights': 'distance'}. Best is trial 14 with value: 0.9418402777777778.\n",
      "[I 2024-11-25 17:22:16,861] Trial 15 finished with value: 0.9464699074074074 and parameters: {'n_components': 7, 'n_neighbors': 3, 'weights': 'distance'}. Best is trial 15 with value: 0.9464699074074074.\n",
      "[I 2024-11-25 17:22:16,901] Trial 16 finished with value: 0.9224537037037037 and parameters: {'n_components': 7, 'n_neighbors': 1, 'weights': 'distance'}. Best is trial 15 with value: 0.9464699074074074.\n",
      "[I 2024-11-25 17:22:16,996] Trial 17 finished with value: 0.9293981481481481 and parameters: {'n_components': 8, 'n_neighbors': 6, 'weights': 'distance'}. Best is trial 15 with value: 0.9464699074074074.\n",
      "[I 2024-11-25 17:22:17,162] Trial 18 finished with value: 0.8019868827160493 and parameters: {'n_components': 7, 'n_neighbors': 21, 'weights': 'distance'}. Best is trial 15 with value: 0.9464699074074074.\n",
      "[I 2024-11-25 17:22:17,248] Trial 19 finished with value: 0.9345100308641975 and parameters: {'n_components': 7, 'n_neighbors': 6, 'weights': 'distance'}. Best is trial 15 with value: 0.9464699074074074.\n",
      "[I 2024-11-25 17:22:17,405] Trial 20 finished with value: 0.7549189814814815 and parameters: {'n_components': 8, 'n_neighbors': 17, 'weights': 'distance'}. Best is trial 15 with value: 0.9464699074074074.\n",
      "[I 2024-11-25 17:22:17,496] Trial 21 finished with value: 0.9345100308641975 and parameters: {'n_components': 7, 'n_neighbors': 6, 'weights': 'distance'}. Best is trial 15 with value: 0.9464699074074074.\n",
      "[I 2024-11-25 17:22:17,591] Trial 22 finished with value: 0.9293981481481481 and parameters: {'n_components': 8, 'n_neighbors': 6, 'weights': 'distance'}. Best is trial 15 with value: 0.9464699074074074.\n",
      "[I 2024-11-25 17:22:17,634] Trial 23 finished with value: 0.9224537037037037 and parameters: {'n_components': 7, 'n_neighbors': 2, 'weights': 'distance'}. Best is trial 15 with value: 0.9464699074074074.\n",
      "[I 2024-11-25 17:22:17,730] Trial 24 finished with value: 0.9036458333333334 and parameters: {'n_components': 6, 'n_neighbors': 10, 'weights': 'distance'}. Best is trial 15 with value: 0.9464699074074074.\n",
      "[I 2024-11-25 17:22:17,814] Trial 25 finished with value: 0.9385609567901234 and parameters: {'n_components': 8, 'n_neighbors': 5, 'weights': 'distance'}. Best is trial 15 with value: 0.9464699074074074.\n",
      "[I 2024-11-25 17:22:17,953] Trial 26 finished with value: 0.8272569444444444 and parameters: {'n_components': 8, 'n_neighbors': 12, 'weights': 'distance'}. Best is trial 15 with value: 0.9464699074074074.\n",
      "[I 2024-11-25 17:22:18,110] Trial 27 pruned. \n",
      "[I 2024-11-25 17:22:18,197] Trial 28 finished with value: 0.9425154320987654 and parameters: {'n_components': 9, 'n_neighbors': 4, 'weights': 'distance'}. Best is trial 15 with value: 0.9464699074074074.\n",
      "[I 2024-11-25 17:22:18,390] Trial 29 pruned. \n",
      "[I 2024-11-25 17:22:18,541] Trial 30 finished with value: 0.8797260802469136 and parameters: {'n_components': 9, 'n_neighbors': 9, 'weights': 'distance'}. Best is trial 15 with value: 0.9464699074074074.\n",
      "[I 2024-11-25 17:22:18,597] Trial 31 finished with value: 0.9475308641975309 and parameters: {'n_components': 8, 'n_neighbors': 3, 'weights': 'distance'}. Best is trial 31 with value: 0.9475308641975309.\n",
      "[I 2024-11-25 17:22:18,682] Trial 32 finished with value: 0.9425154320987654 and parameters: {'n_components': 9, 'n_neighbors': 4, 'weights': 'distance'}. Best is trial 31 with value: 0.9475308641975309.\n",
      "[I 2024-11-25 17:22:18,729] Trial 33 finished with value: 0.9219714506172839 and parameters: {'n_components': 9, 'n_neighbors': 2, 'weights': 'distance'}. Best is trial 31 with value: 0.9475308641975309.\n",
      "[I 2024-11-25 17:22:19,101] Trial 34 pruned. \n",
      "[I 2024-11-25 17:22:19,220] Trial 35 finished with value: 0.8992091049382716 and parameters: {'n_components': 8, 'n_neighbors': 8, 'weights': 'distance'}. Best is trial 31 with value: 0.9475308641975309.\n",
      "[I 2024-11-25 17:22:19,456] Trial 36 finished with value: 0.9368248456790124 and parameters: {'n_components': 9, 'n_neighbors': 3, 'weights': 'uniform'}. Best is trial 31 with value: 0.9475308641975309.\n",
      "[I 2024-11-25 17:22:19,619] Trial 37 pruned. \n",
      "[I 2024-11-25 17:22:19,975] Trial 38 pruned. \n",
      "[I 2024-11-25 17:22:20,121] Trial 39 pruned. \n",
      "[I 2024-11-25 17:22:20,381] Trial 40 finished with value: 0.8996913580246914 and parameters: {'n_components': 9, 'n_neighbors': 4, 'weights': 'uniform'}. Best is trial 31 with value: 0.9475308641975309.\n",
      "[I 2024-11-25 17:22:20,518] Trial 41 finished with value: 0.9126157407407407 and parameters: {'n_components': 7, 'n_neighbors': 8, 'weights': 'distance'}. Best is trial 31 with value: 0.9475308641975309.\n",
      "[I 2024-11-25 17:22:20,587] Trial 42 finished with value: 0.9412615740740741 and parameters: {'n_components': 8, 'n_neighbors': 4, 'weights': 'distance'}. Best is trial 31 with value: 0.9475308641975309.\n",
      "[I 2024-11-25 17:22:20,630] Trial 43 finished with value: 0.9224537037037037 and parameters: {'n_components': 7, 'n_neighbors': 1, 'weights': 'distance'}. Best is trial 31 with value: 0.9475308641975309.\n",
      "[I 2024-11-25 17:22:20,794] Trial 44 pruned. \n",
      "[I 2024-11-25 17:22:20,912] Trial 45 pruned. \n",
      "[I 2024-11-25 17:22:20,965] Trial 46 finished with value: 0.9206211419753086 and parameters: {'n_components': 5, 'n_neighbors': 4, 'weights': 'distance'}. Best is trial 31 with value: 0.9475308641975309.\n",
      "[I 2024-11-25 17:22:21,014] Trial 47 pruned. \n",
      "[I 2024-11-25 17:22:21,346] Trial 48 pruned. \n",
      "[I 2024-11-25 17:22:21,453] Trial 49 finished with value: 0.9126157407407407 and parameters: {'n_components': 7, 'n_neighbors': 8, 'weights': 'distance'}. Best is trial 31 with value: 0.9475308641975309.\n",
      "[I 2024-11-25 17:22:21,501] Trial 50 finished with value: 0.9219714506172839 and parameters: {'n_components': 9, 'n_neighbors': 1, 'weights': 'distance'}. Best is trial 31 with value: 0.9475308641975309.\n",
      "[I 2024-11-25 17:22:21,566] Trial 51 finished with value: 0.9412615740740741 and parameters: {'n_components': 8, 'n_neighbors': 4, 'weights': 'distance'}. Best is trial 31 with value: 0.9475308641975309.\n",
      "[I 2024-11-25 17:22:21,662] Trial 52 finished with value: 0.9293981481481481 and parameters: {'n_components': 8, 'n_neighbors': 6, 'weights': 'distance'}. Best is trial 31 with value: 0.9475308641975309.\n",
      "[I 2024-11-25 17:22:21,717] Trial 53 finished with value: 0.9464699074074074 and parameters: {'n_components': 7, 'n_neighbors': 3, 'weights': 'distance'}. Best is trial 31 with value: 0.9475308641975309.\n",
      "[I 2024-11-25 17:22:21,771] Trial 54 finished with value: 0.9458912037037037 and parameters: {'n_components': 6, 'n_neighbors': 3, 'weights': 'distance'}. Best is trial 31 with value: 0.9475308641975309.\n",
      "[I 2024-11-25 17:22:21,815] Trial 55 finished with value: 0.9221643518518519 and parameters: {'n_components': 6, 'n_neighbors': 2, 'weights': 'distance'}. Best is trial 31 with value: 0.9475308641975309.\n",
      "[I 2024-11-25 17:22:21,875] Trial 56 pruned. \n",
      "[I 2024-11-25 17:22:21,906] Trial 57 pruned. \n",
      "[I 2024-11-25 17:22:21,950] Trial 58 finished with value: 0.9221643518518519 and parameters: {'n_components': 6, 'n_neighbors': 1, 'weights': 'distance'}. Best is trial 31 with value: 0.9475308641975309.\n",
      "[I 2024-11-25 17:22:22,116] Trial 59 pruned. \n",
      "[I 2024-11-25 17:22:22,194] Trial 60 pruned. \n",
      "[I 2024-11-25 17:22:22,300] Trial 61 finished with value: 0.9345100308641975 and parameters: {'n_components': 7, 'n_neighbors': 6, 'weights': 'distance'}. Best is trial 31 with value: 0.9475308641975309.\n",
      "[I 2024-11-25 17:22:22,367] Trial 62 finished with value: 0.943383487654321 and parameters: {'n_components': 7, 'n_neighbors': 4, 'weights': 'distance'}. Best is trial 31 with value: 0.9475308641975309.\n",
      "[I 2024-11-25 17:22:22,423] Trial 63 finished with value: 0.9464699074074074 and parameters: {'n_components': 7, 'n_neighbors': 3, 'weights': 'distance'}. Best is trial 31 with value: 0.9475308641975309.\n",
      "[I 2024-11-25 17:22:22,473] Trial 64 finished with value: 0.9464699074074074 and parameters: {'n_components': 7, 'n_neighbors': 3, 'weights': 'distance'}. Best is trial 31 with value: 0.9475308641975309.\n",
      "[I 2024-11-25 17:22:22,527] Trial 65 finished with value: 0.9464699074074074 and parameters: {'n_components': 7, 'n_neighbors': 3, 'weights': 'distance'}. Best is trial 31 with value: 0.9475308641975309.\n",
      "[I 2024-11-25 17:22:22,575] Trial 66 finished with value: 0.9221643518518519 and parameters: {'n_components': 6, 'n_neighbors': 2, 'weights': 'distance'}. Best is trial 31 with value: 0.9475308641975309.\n",
      "[I 2024-11-25 17:22:22,729] Trial 67 pruned. \n",
      "[I 2024-11-25 17:22:22,812] Trial 68 finished with value: 0.9281442901234568 and parameters: {'n_components': 6, 'n_neighbors': 7, 'weights': 'distance'}. Best is trial 31 with value: 0.9475308641975309.\n",
      "[I 2024-11-25 17:22:23,112] Trial 69 pruned. \n",
      "[I 2024-11-25 17:22:23,224] Trial 70 pruned. \n",
      "[I 2024-11-25 17:22:23,302] Trial 71 finished with value: 0.9418402777777778 and parameters: {'n_components': 7, 'n_neighbors': 5, 'weights': 'distance'}. Best is trial 31 with value: 0.9475308641975309.\n",
      "[I 2024-11-25 17:22:23,353] Trial 72 finished with value: 0.9464699074074074 and parameters: {'n_components': 7, 'n_neighbors': 3, 'weights': 'distance'}. Best is trial 31 with value: 0.9475308641975309.\n",
      "[I 2024-11-25 17:22:23,408] Trial 73 finished with value: 0.9464699074074074 and parameters: {'n_components': 7, 'n_neighbors': 3, 'weights': 'distance'}. Best is trial 31 with value: 0.9475308641975309.\n",
      "[I 2024-11-25 17:22:23,454] Trial 74 finished with value: 0.9224537037037037 and parameters: {'n_components': 7, 'n_neighbors': 1, 'weights': 'distance'}. Best is trial 31 with value: 0.9475308641975309.\n",
      "[I 2024-11-25 17:22:23,540] Trial 75 finished with value: 0.9345100308641975 and parameters: {'n_components': 7, 'n_neighbors': 6, 'weights': 'distance'}. Best is trial 31 with value: 0.9475308641975309.\n",
      "[I 2024-11-25 17:22:23,596] Trial 76 finished with value: 0.9475308641975309 and parameters: {'n_components': 8, 'n_neighbors': 3, 'weights': 'distance'}. Best is trial 31 with value: 0.9475308641975309.\n",
      "[I 2024-11-25 17:22:23,672] Trial 77 finished with value: 0.9385609567901234 and parameters: {'n_components': 8, 'n_neighbors': 5, 'weights': 'distance'}. Best is trial 31 with value: 0.9475308641975309.\n",
      "[I 2024-11-25 17:22:23,827] Trial 78 pruned. \n",
      "[I 2024-11-25 17:22:23,937] Trial 79 pruned. \n",
      "[I 2024-11-25 17:22:24,316] Trial 80 pruned. \n",
      "[I 2024-11-25 17:22:24,367] Trial 81 finished with value: 0.9464699074074074 and parameters: {'n_components': 7, 'n_neighbors': 3, 'weights': 'distance'}. Best is trial 31 with value: 0.9475308641975309.\n",
      "[I 2024-11-25 17:22:24,413] Trial 82 finished with value: 0.9224537037037037 and parameters: {'n_components': 7, 'n_neighbors': 2, 'weights': 'distance'}. Best is trial 31 with value: 0.9475308641975309.\n",
      "[I 2024-11-25 17:22:24,468] Trial 83 finished with value: 0.9464699074074074 and parameters: {'n_components': 7, 'n_neighbors': 3, 'weights': 'distance'}. Best is trial 31 with value: 0.9475308641975309.\n",
      "[I 2024-11-25 17:22:24,543] Trial 84 finished with value: 0.9418402777777778 and parameters: {'n_components': 7, 'n_neighbors': 5, 'weights': 'distance'}. Best is trial 31 with value: 0.9475308641975309.\n",
      "[I 2024-11-25 17:22:24,587] Trial 85 finished with value: 0.923804012345679 and parameters: {'n_components': 8, 'n_neighbors': 1, 'weights': 'distance'}. Best is trial 31 with value: 0.9475308641975309.\n",
      "[I 2024-11-25 17:22:24,694] Trial 86 pruned. \n",
      "[I 2024-11-25 17:22:24,747] Trial 87 pruned. \n",
      "[I 2024-11-25 17:22:24,804] Trial 88 finished with value: 0.9458912037037037 and parameters: {'n_components': 6, 'n_neighbors': 3, 'weights': 'distance'}. Best is trial 31 with value: 0.9475308641975309.\n",
      "[I 2024-11-25 17:22:24,877] Trial 89 finished with value: 0.9418402777777778 and parameters: {'n_components': 7, 'n_neighbors': 5, 'weights': 'distance'}. Best is trial 31 with value: 0.9475308641975309.\n",
      "[I 2024-11-25 17:22:25,000] Trial 90 pruned. \n",
      "[I 2024-11-25 17:22:25,063] Trial 91 finished with value: 0.9464699074074074 and parameters: {'n_components': 7, 'n_neighbors': 3, 'weights': 'distance'}. Best is trial 31 with value: 0.9475308641975309.\n",
      "[I 2024-11-25 17:22:25,110] Trial 92 pruned. \n",
      "[I 2024-11-25 17:22:25,200] Trial 93 finished with value: 0.9418402777777778 and parameters: {'n_components': 7, 'n_neighbors': 5, 'weights': 'distance'}. Best is trial 31 with value: 0.9475308641975309.\n",
      "[I 2024-11-25 17:22:25,253] Trial 94 finished with value: 0.9464699074074074 and parameters: {'n_components': 7, 'n_neighbors': 3, 'weights': 'distance'}. Best is trial 31 with value: 0.9475308641975309.\n",
      "[I 2024-11-25 17:22:25,296] Trial 95 pruned. \n",
      "[I 2024-11-25 17:22:25,359] Trial 96 finished with value: 0.9441550925925926 and parameters: {'n_components': 6, 'n_neighbors': 4, 'weights': 'distance'}. Best is trial 31 with value: 0.9475308641975309.\n",
      "[I 2024-11-25 17:22:25,637] Trial 97 pruned. \n",
      "[I 2024-11-25 17:22:25,689] Trial 98 pruned. \n",
      "[I 2024-11-25 17:22:25,768] Trial 99 finished with value: 0.9352816358024691 and parameters: {'n_components': 6, 'n_neighbors': 6, 'weights': 'distance'}. Best is trial 31 with value: 0.9475308641975309.\n"
     ]
    },
    {
     "name": "stdout",
     "output_type": "stream",
     "text": [
      "Best hyperparameters: {'n_components': 8, 'n_neighbors': 3, 'weights': 'distance'}\n",
      "Best value: 0.9475308641975309\n",
      "accuracy on test set:0.9506944444444444\n"
     ]
    },
    {
     "data": {
      "application/vnd.plotly.v1+json": {
       "config": {
        "plotlyServerURL": "https://plot.ly"
       },
       "data": [
        {
         "mode": "markers",
         "name": "Objective Value",
         "type": "scatter",
         "x": [
          0,
          1,
          2,
          3,
          4,
          5,
          6,
          7,
          8,
          9,
          11,
          12,
          13,
          14,
          15,
          16,
          17,
          18,
          19,
          20,
          21,
          22,
          23,
          24,
          25,
          26,
          28,
          30,
          31,
          32,
          33,
          35,
          36,
          40,
          41,
          42,
          43,
          46,
          49,
          50,
          51,
          52,
          53,
          54,
          55,
          58,
          61,
          62,
          63,
          64,
          65,
          66,
          68,
          71,
          72,
          73,
          74,
          75,
          76,
          77,
          81,
          82,
          83,
          84,
          85,
          88,
          89,
          91,
          93,
          94,
          96,
          99
         ],
         "y": [
          0.3160686728395062,
          0.7199074074074074,
          0.4923804012345679,
          0.3150077160493827,
          0.7515432098765432,
          0.40248842592592593,
          0.6847029320987654,
          0.31356095679012347,
          0.697241512345679,
          0.7061149691358025,
          0.8885030864197531,
          0.8101851851851852,
          0.8708526234567902,
          0.9418402777777778,
          0.9464699074074074,
          0.9224537037037037,
          0.9293981481481481,
          0.8019868827160493,
          0.9345100308641975,
          0.7549189814814815,
          0.9345100308641975,
          0.9293981481481481,
          0.9224537037037037,
          0.9036458333333334,
          0.9385609567901234,
          0.8272569444444444,
          0.9425154320987654,
          0.8797260802469136,
          0.9475308641975309,
          0.9425154320987654,
          0.9219714506172839,
          0.8992091049382716,
          0.9368248456790124,
          0.8996913580246914,
          0.9126157407407407,
          0.9412615740740741,
          0.9224537037037037,
          0.9206211419753086,
          0.9126157407407407,
          0.9219714506172839,
          0.9412615740740741,
          0.9293981481481481,
          0.9464699074074074,
          0.9458912037037037,
          0.9221643518518519,
          0.9221643518518519,
          0.9345100308641975,
          0.943383487654321,
          0.9464699074074074,
          0.9464699074074074,
          0.9464699074074074,
          0.9221643518518519,
          0.9281442901234568,
          0.9418402777777778,
          0.9464699074074074,
          0.9464699074074074,
          0.9224537037037037,
          0.9345100308641975,
          0.9475308641975309,
          0.9385609567901234,
          0.9464699074074074,
          0.9224537037037037,
          0.9464699074074074,
          0.9418402777777778,
          0.923804012345679,
          0.9458912037037037,
          0.9418402777777778,
          0.9464699074074074,
          0.9418402777777778,
          0.9464699074074074,
          0.9441550925925926,
          0.9352816358024691
         ]
        },
        {
         "mode": "lines",
         "name": "Best Value",
         "type": "scatter",
         "x": [
          0,
          1,
          2,
          3,
          4,
          5,
          6,
          7,
          8,
          9,
          10,
          11,
          12,
          13,
          14,
          15,
          16,
          17,
          18,
          19,
          20,
          21,
          22,
          23,
          24,
          25,
          26,
          27,
          28,
          29,
          30,
          31,
          32,
          33,
          34,
          35,
          36,
          37,
          38,
          39,
          40,
          41,
          42,
          43,
          44,
          45,
          46,
          47,
          48,
          49,
          50,
          51,
          52,
          53,
          54,
          55,
          56,
          57,
          58,
          59,
          60,
          61,
          62,
          63,
          64,
          65,
          66,
          67,
          68,
          69,
          70,
          71,
          72,
          73,
          74,
          75,
          76,
          77,
          78,
          79,
          80,
          81,
          82,
          83,
          84,
          85,
          86,
          87,
          88,
          89,
          90,
          91,
          92,
          93,
          94,
          95,
          96,
          97,
          98,
          99
         ],
         "y": [
          0.3160686728395062,
          0.7199074074074074,
          0.7199074074074074,
          0.7199074074074074,
          0.7515432098765432,
          0.7515432098765432,
          0.7515432098765432,
          0.7515432098765432,
          0.7515432098765432,
          0.7515432098765432,
          0.7515432098765432,
          0.8885030864197531,
          0.8885030864197531,
          0.8885030864197531,
          0.9418402777777778,
          0.9464699074074074,
          0.9464699074074074,
          0.9464699074074074,
          0.9464699074074074,
          0.9464699074074074,
          0.9464699074074074,
          0.9464699074074074,
          0.9464699074074074,
          0.9464699074074074,
          0.9464699074074074,
          0.9464699074074074,
          0.9464699074074074,
          0.9464699074074074,
          0.9464699074074074,
          0.9464699074074074,
          0.9464699074074074,
          0.9475308641975309,
          0.9475308641975309,
          0.9475308641975309,
          0.9475308641975309,
          0.9475308641975309,
          0.9475308641975309,
          0.9475308641975309,
          0.9475308641975309,
          0.9475308641975309,
          0.9475308641975309,
          0.9475308641975309,
          0.9475308641975309,
          0.9475308641975309,
          0.9475308641975309,
          0.9475308641975309,
          0.9475308641975309,
          0.9475308641975309,
          0.9475308641975309,
          0.9475308641975309,
          0.9475308641975309,
          0.9475308641975309,
          0.9475308641975309,
          0.9475308641975309,
          0.9475308641975309,
          0.9475308641975309,
          0.9475308641975309,
          0.9475308641975309,
          0.9475308641975309,
          0.9475308641975309,
          0.9475308641975309,
          0.9475308641975309,
          0.9475308641975309,
          0.9475308641975309,
          0.9475308641975309,
          0.9475308641975309,
          0.9475308641975309,
          0.9475308641975309,
          0.9475308641975309,
          0.9475308641975309,
          0.9475308641975309,
          0.9475308641975309,
          0.9475308641975309,
          0.9475308641975309,
          0.9475308641975309,
          0.9475308641975309,
          0.9475308641975309,
          0.9475308641975309,
          0.9475308641975309,
          0.9475308641975309,
          0.9475308641975309,
          0.9475308641975309,
          0.9475308641975309,
          0.9475308641975309,
          0.9475308641975309,
          0.9475308641975309,
          0.9475308641975309,
          0.9475308641975309,
          0.9475308641975309,
          0.9475308641975309,
          0.9475308641975309,
          0.9475308641975309,
          0.9475308641975309,
          0.9475308641975309,
          0.9475308641975309,
          0.9475308641975309,
          0.9475308641975309,
          0.9475308641975309,
          0.9475308641975309,
          0.9475308641975309
         ]
        },
        {
         "marker": {
          "color": "#cccccc"
         },
         "mode": "markers",
         "name": "Infeasible Trial",
         "showlegend": false,
         "type": "scatter",
         "x": [],
         "y": []
        }
       ],
       "layout": {
        "template": {
         "data": {
          "bar": [
           {
            "error_x": {
             "color": "#2a3f5f"
            },
            "error_y": {
             "color": "#2a3f5f"
            },
            "marker": {
             "line": {
              "color": "#E5ECF6",
              "width": 0.5
             },
             "pattern": {
              "fillmode": "overlay",
              "size": 10,
              "solidity": 0.2
             }
            },
            "type": "bar"
           }
          ],
          "barpolar": [
           {
            "marker": {
             "line": {
              "color": "#E5ECF6",
              "width": 0.5
             },
             "pattern": {
              "fillmode": "overlay",
              "size": 10,
              "solidity": 0.2
             }
            },
            "type": "barpolar"
           }
          ],
          "carpet": [
           {
            "aaxis": {
             "endlinecolor": "#2a3f5f",
             "gridcolor": "white",
             "linecolor": "white",
             "minorgridcolor": "white",
             "startlinecolor": "#2a3f5f"
            },
            "baxis": {
             "endlinecolor": "#2a3f5f",
             "gridcolor": "white",
             "linecolor": "white",
             "minorgridcolor": "white",
             "startlinecolor": "#2a3f5f"
            },
            "type": "carpet"
           }
          ],
          "choropleth": [
           {
            "colorbar": {
             "outlinewidth": 0,
             "ticks": ""
            },
            "type": "choropleth"
           }
          ],
          "contour": [
           {
            "colorbar": {
             "outlinewidth": 0,
             "ticks": ""
            },
            "colorscale": [
             [
              0,
              "#0d0887"
             ],
             [
              0.1111111111111111,
              "#46039f"
             ],
             [
              0.2222222222222222,
              "#7201a8"
             ],
             [
              0.3333333333333333,
              "#9c179e"
             ],
             [
              0.4444444444444444,
              "#bd3786"
             ],
             [
              0.5555555555555556,
              "#d8576b"
             ],
             [
              0.6666666666666666,
              "#ed7953"
             ],
             [
              0.7777777777777778,
              "#fb9f3a"
             ],
             [
              0.8888888888888888,
              "#fdca26"
             ],
             [
              1,
              "#f0f921"
             ]
            ],
            "type": "contour"
           }
          ],
          "contourcarpet": [
           {
            "colorbar": {
             "outlinewidth": 0,
             "ticks": ""
            },
            "type": "contourcarpet"
           }
          ],
          "heatmap": [
           {
            "colorbar": {
             "outlinewidth": 0,
             "ticks": ""
            },
            "colorscale": [
             [
              0,
              "#0d0887"
             ],
             [
              0.1111111111111111,
              "#46039f"
             ],
             [
              0.2222222222222222,
              "#7201a8"
             ],
             [
              0.3333333333333333,
              "#9c179e"
             ],
             [
              0.4444444444444444,
              "#bd3786"
             ],
             [
              0.5555555555555556,
              "#d8576b"
             ],
             [
              0.6666666666666666,
              "#ed7953"
             ],
             [
              0.7777777777777778,
              "#fb9f3a"
             ],
             [
              0.8888888888888888,
              "#fdca26"
             ],
             [
              1,
              "#f0f921"
             ]
            ],
            "type": "heatmap"
           }
          ],
          "heatmapgl": [
           {
            "colorbar": {
             "outlinewidth": 0,
             "ticks": ""
            },
            "colorscale": [
             [
              0,
              "#0d0887"
             ],
             [
              0.1111111111111111,
              "#46039f"
             ],
             [
              0.2222222222222222,
              "#7201a8"
             ],
             [
              0.3333333333333333,
              "#9c179e"
             ],
             [
              0.4444444444444444,
              "#bd3786"
             ],
             [
              0.5555555555555556,
              "#d8576b"
             ],
             [
              0.6666666666666666,
              "#ed7953"
             ],
             [
              0.7777777777777778,
              "#fb9f3a"
             ],
             [
              0.8888888888888888,
              "#fdca26"
             ],
             [
              1,
              "#f0f921"
             ]
            ],
            "type": "heatmapgl"
           }
          ],
          "histogram": [
           {
            "marker": {
             "pattern": {
              "fillmode": "overlay",
              "size": 10,
              "solidity": 0.2
             }
            },
            "type": "histogram"
           }
          ],
          "histogram2d": [
           {
            "colorbar": {
             "outlinewidth": 0,
             "ticks": ""
            },
            "colorscale": [
             [
              0,
              "#0d0887"
             ],
             [
              0.1111111111111111,
              "#46039f"
             ],
             [
              0.2222222222222222,
              "#7201a8"
             ],
             [
              0.3333333333333333,
              "#9c179e"
             ],
             [
              0.4444444444444444,
              "#bd3786"
             ],
             [
              0.5555555555555556,
              "#d8576b"
             ],
             [
              0.6666666666666666,
              "#ed7953"
             ],
             [
              0.7777777777777778,
              "#fb9f3a"
             ],
             [
              0.8888888888888888,
              "#fdca26"
             ],
             [
              1,
              "#f0f921"
             ]
            ],
            "type": "histogram2d"
           }
          ],
          "histogram2dcontour": [
           {
            "colorbar": {
             "outlinewidth": 0,
             "ticks": ""
            },
            "colorscale": [
             [
              0,
              "#0d0887"
             ],
             [
              0.1111111111111111,
              "#46039f"
             ],
             [
              0.2222222222222222,
              "#7201a8"
             ],
             [
              0.3333333333333333,
              "#9c179e"
             ],
             [
              0.4444444444444444,
              "#bd3786"
             ],
             [
              0.5555555555555556,
              "#d8576b"
             ],
             [
              0.6666666666666666,
              "#ed7953"
             ],
             [
              0.7777777777777778,
              "#fb9f3a"
             ],
             [
              0.8888888888888888,
              "#fdca26"
             ],
             [
              1,
              "#f0f921"
             ]
            ],
            "type": "histogram2dcontour"
           }
          ],
          "mesh3d": [
           {
            "colorbar": {
             "outlinewidth": 0,
             "ticks": ""
            },
            "type": "mesh3d"
           }
          ],
          "parcoords": [
           {
            "line": {
             "colorbar": {
              "outlinewidth": 0,
              "ticks": ""
             }
            },
            "type": "parcoords"
           }
          ],
          "pie": [
           {
            "automargin": true,
            "type": "pie"
           }
          ],
          "scatter": [
           {
            "fillpattern": {
             "fillmode": "overlay",
             "size": 10,
             "solidity": 0.2
            },
            "type": "scatter"
           }
          ],
          "scatter3d": [
           {
            "line": {
             "colorbar": {
              "outlinewidth": 0,
              "ticks": ""
             }
            },
            "marker": {
             "colorbar": {
              "outlinewidth": 0,
              "ticks": ""
             }
            },
            "type": "scatter3d"
           }
          ],
          "scattercarpet": [
           {
            "marker": {
             "colorbar": {
              "outlinewidth": 0,
              "ticks": ""
             }
            },
            "type": "scattercarpet"
           }
          ],
          "scattergeo": [
           {
            "marker": {
             "colorbar": {
              "outlinewidth": 0,
              "ticks": ""
             }
            },
            "type": "scattergeo"
           }
          ],
          "scattergl": [
           {
            "marker": {
             "colorbar": {
              "outlinewidth": 0,
              "ticks": ""
             }
            },
            "type": "scattergl"
           }
          ],
          "scattermapbox": [
           {
            "marker": {
             "colorbar": {
              "outlinewidth": 0,
              "ticks": ""
             }
            },
            "type": "scattermapbox"
           }
          ],
          "scatterpolar": [
           {
            "marker": {
             "colorbar": {
              "outlinewidth": 0,
              "ticks": ""
             }
            },
            "type": "scatterpolar"
           }
          ],
          "scatterpolargl": [
           {
            "marker": {
             "colorbar": {
              "outlinewidth": 0,
              "ticks": ""
             }
            },
            "type": "scatterpolargl"
           }
          ],
          "scatterternary": [
           {
            "marker": {
             "colorbar": {
              "outlinewidth": 0,
              "ticks": ""
             }
            },
            "type": "scatterternary"
           }
          ],
          "surface": [
           {
            "colorbar": {
             "outlinewidth": 0,
             "ticks": ""
            },
            "colorscale": [
             [
              0,
              "#0d0887"
             ],
             [
              0.1111111111111111,
              "#46039f"
             ],
             [
              0.2222222222222222,
              "#7201a8"
             ],
             [
              0.3333333333333333,
              "#9c179e"
             ],
             [
              0.4444444444444444,
              "#bd3786"
             ],
             [
              0.5555555555555556,
              "#d8576b"
             ],
             [
              0.6666666666666666,
              "#ed7953"
             ],
             [
              0.7777777777777778,
              "#fb9f3a"
             ],
             [
              0.8888888888888888,
              "#fdca26"
             ],
             [
              1,
              "#f0f921"
             ]
            ],
            "type": "surface"
           }
          ],
          "table": [
           {
            "cells": {
             "fill": {
              "color": "#EBF0F8"
             },
             "line": {
              "color": "white"
             }
            },
            "header": {
             "fill": {
              "color": "#C8D4E3"
             },
             "line": {
              "color": "white"
             }
            },
            "type": "table"
           }
          ]
         },
         "layout": {
          "annotationdefaults": {
           "arrowcolor": "#2a3f5f",
           "arrowhead": 0,
           "arrowwidth": 1
          },
          "autotypenumbers": "strict",
          "coloraxis": {
           "colorbar": {
            "outlinewidth": 0,
            "ticks": ""
           }
          },
          "colorscale": {
           "diverging": [
            [
             0,
             "#8e0152"
            ],
            [
             0.1,
             "#c51b7d"
            ],
            [
             0.2,
             "#de77ae"
            ],
            [
             0.3,
             "#f1b6da"
            ],
            [
             0.4,
             "#fde0ef"
            ],
            [
             0.5,
             "#f7f7f7"
            ],
            [
             0.6,
             "#e6f5d0"
            ],
            [
             0.7,
             "#b8e186"
            ],
            [
             0.8,
             "#7fbc41"
            ],
            [
             0.9,
             "#4d9221"
            ],
            [
             1,
             "#276419"
            ]
           ],
           "sequential": [
            [
             0,
             "#0d0887"
            ],
            [
             0.1111111111111111,
             "#46039f"
            ],
            [
             0.2222222222222222,
             "#7201a8"
            ],
            [
             0.3333333333333333,
             "#9c179e"
            ],
            [
             0.4444444444444444,
             "#bd3786"
            ],
            [
             0.5555555555555556,
             "#d8576b"
            ],
            [
             0.6666666666666666,
             "#ed7953"
            ],
            [
             0.7777777777777778,
             "#fb9f3a"
            ],
            [
             0.8888888888888888,
             "#fdca26"
            ],
            [
             1,
             "#f0f921"
            ]
           ],
           "sequentialminus": [
            [
             0,
             "#0d0887"
            ],
            [
             0.1111111111111111,
             "#46039f"
            ],
            [
             0.2222222222222222,
             "#7201a8"
            ],
            [
             0.3333333333333333,
             "#9c179e"
            ],
            [
             0.4444444444444444,
             "#bd3786"
            ],
            [
             0.5555555555555556,
             "#d8576b"
            ],
            [
             0.6666666666666666,
             "#ed7953"
            ],
            [
             0.7777777777777778,
             "#fb9f3a"
            ],
            [
             0.8888888888888888,
             "#fdca26"
            ],
            [
             1,
             "#f0f921"
            ]
           ]
          },
          "colorway": [
           "#636efa",
           "#EF553B",
           "#00cc96",
           "#ab63fa",
           "#FFA15A",
           "#19d3f3",
           "#FF6692",
           "#B6E880",
           "#FF97FF",
           "#FECB52"
          ],
          "font": {
           "color": "#2a3f5f"
          },
          "geo": {
           "bgcolor": "white",
           "lakecolor": "white",
           "landcolor": "#E5ECF6",
           "showlakes": true,
           "showland": true,
           "subunitcolor": "white"
          },
          "hoverlabel": {
           "align": "left"
          },
          "hovermode": "closest",
          "mapbox": {
           "style": "light"
          },
          "paper_bgcolor": "white",
          "plot_bgcolor": "#E5ECF6",
          "polar": {
           "angularaxis": {
            "gridcolor": "white",
            "linecolor": "white",
            "ticks": ""
           },
           "bgcolor": "#E5ECF6",
           "radialaxis": {
            "gridcolor": "white",
            "linecolor": "white",
            "ticks": ""
           }
          },
          "scene": {
           "xaxis": {
            "backgroundcolor": "#E5ECF6",
            "gridcolor": "white",
            "gridwidth": 2,
            "linecolor": "white",
            "showbackground": true,
            "ticks": "",
            "zerolinecolor": "white"
           },
           "yaxis": {
            "backgroundcolor": "#E5ECF6",
            "gridcolor": "white",
            "gridwidth": 2,
            "linecolor": "white",
            "showbackground": true,
            "ticks": "",
            "zerolinecolor": "white"
           },
           "zaxis": {
            "backgroundcolor": "#E5ECF6",
            "gridcolor": "white",
            "gridwidth": 2,
            "linecolor": "white",
            "showbackground": true,
            "ticks": "",
            "zerolinecolor": "white"
           }
          },
          "shapedefaults": {
           "line": {
            "color": "#2a3f5f"
           }
          },
          "ternary": {
           "aaxis": {
            "gridcolor": "white",
            "linecolor": "white",
            "ticks": ""
           },
           "baxis": {
            "gridcolor": "white",
            "linecolor": "white",
            "ticks": ""
           },
           "bgcolor": "#E5ECF6",
           "caxis": {
            "gridcolor": "white",
            "linecolor": "white",
            "ticks": ""
           }
          },
          "title": {
           "x": 0.05
          },
          "xaxis": {
           "automargin": true,
           "gridcolor": "white",
           "linecolor": "white",
           "ticks": "",
           "title": {
            "standoff": 15
           },
           "zerolinecolor": "white",
           "zerolinewidth": 2
          },
          "yaxis": {
           "automargin": true,
           "gridcolor": "white",
           "linecolor": "white",
           "ticks": "",
           "title": {
            "standoff": 15
           },
           "zerolinecolor": "white",
           "zerolinewidth": 2
          }
         }
        },
        "title": {
         "text": "Optimization History Plot"
        },
        "xaxis": {
         "title": {
          "text": "Trial"
         }
        },
        "yaxis": {
         "title": {
          "text": "Objective Value"
         }
        }
       }
      }
     },
     "metadata": {},
     "output_type": "display_data"
    },
    {
     "data": {
      "application/vnd.plotly.v1+json": {
       "config": {
        "plotlyServerURL": "https://plot.ly"
       },
       "data": [
        {
         "cliponaxis": false,
         "hovertemplate": [
          "weights (CategoricalDistribution): 0.11974453024764027<extra></extra>",
          "n_components (IntDistribution): 0.12687191861269664<extra></extra>",
          "n_neighbors (IntDistribution): 0.7533835511396632<extra></extra>"
         ],
         "name": "Objective Value",
         "orientation": "h",
         "text": [
          "0.12",
          "0.13",
          "0.75"
         ],
         "textposition": "outside",
         "type": "bar",
         "x": [
          0.11974453024764027,
          0.12687191861269664,
          0.7533835511396632
         ],
         "y": [
          "weights",
          "n_components",
          "n_neighbors"
         ]
        }
       ],
       "layout": {
        "template": {
         "data": {
          "bar": [
           {
            "error_x": {
             "color": "#2a3f5f"
            },
            "error_y": {
             "color": "#2a3f5f"
            },
            "marker": {
             "line": {
              "color": "#E5ECF6",
              "width": 0.5
             },
             "pattern": {
              "fillmode": "overlay",
              "size": 10,
              "solidity": 0.2
             }
            },
            "type": "bar"
           }
          ],
          "barpolar": [
           {
            "marker": {
             "line": {
              "color": "#E5ECF6",
              "width": 0.5
             },
             "pattern": {
              "fillmode": "overlay",
              "size": 10,
              "solidity": 0.2
             }
            },
            "type": "barpolar"
           }
          ],
          "carpet": [
           {
            "aaxis": {
             "endlinecolor": "#2a3f5f",
             "gridcolor": "white",
             "linecolor": "white",
             "minorgridcolor": "white",
             "startlinecolor": "#2a3f5f"
            },
            "baxis": {
             "endlinecolor": "#2a3f5f",
             "gridcolor": "white",
             "linecolor": "white",
             "minorgridcolor": "white",
             "startlinecolor": "#2a3f5f"
            },
            "type": "carpet"
           }
          ],
          "choropleth": [
           {
            "colorbar": {
             "outlinewidth": 0,
             "ticks": ""
            },
            "type": "choropleth"
           }
          ],
          "contour": [
           {
            "colorbar": {
             "outlinewidth": 0,
             "ticks": ""
            },
            "colorscale": [
             [
              0,
              "#0d0887"
             ],
             [
              0.1111111111111111,
              "#46039f"
             ],
             [
              0.2222222222222222,
              "#7201a8"
             ],
             [
              0.3333333333333333,
              "#9c179e"
             ],
             [
              0.4444444444444444,
              "#bd3786"
             ],
             [
              0.5555555555555556,
              "#d8576b"
             ],
             [
              0.6666666666666666,
              "#ed7953"
             ],
             [
              0.7777777777777778,
              "#fb9f3a"
             ],
             [
              0.8888888888888888,
              "#fdca26"
             ],
             [
              1,
              "#f0f921"
             ]
            ],
            "type": "contour"
           }
          ],
          "contourcarpet": [
           {
            "colorbar": {
             "outlinewidth": 0,
             "ticks": ""
            },
            "type": "contourcarpet"
           }
          ],
          "heatmap": [
           {
            "colorbar": {
             "outlinewidth": 0,
             "ticks": ""
            },
            "colorscale": [
             [
              0,
              "#0d0887"
             ],
             [
              0.1111111111111111,
              "#46039f"
             ],
             [
              0.2222222222222222,
              "#7201a8"
             ],
             [
              0.3333333333333333,
              "#9c179e"
             ],
             [
              0.4444444444444444,
              "#bd3786"
             ],
             [
              0.5555555555555556,
              "#d8576b"
             ],
             [
              0.6666666666666666,
              "#ed7953"
             ],
             [
              0.7777777777777778,
              "#fb9f3a"
             ],
             [
              0.8888888888888888,
              "#fdca26"
             ],
             [
              1,
              "#f0f921"
             ]
            ],
            "type": "heatmap"
           }
          ],
          "heatmapgl": [
           {
            "colorbar": {
             "outlinewidth": 0,
             "ticks": ""
            },
            "colorscale": [
             [
              0,
              "#0d0887"
             ],
             [
              0.1111111111111111,
              "#46039f"
             ],
             [
              0.2222222222222222,
              "#7201a8"
             ],
             [
              0.3333333333333333,
              "#9c179e"
             ],
             [
              0.4444444444444444,
              "#bd3786"
             ],
             [
              0.5555555555555556,
              "#d8576b"
             ],
             [
              0.6666666666666666,
              "#ed7953"
             ],
             [
              0.7777777777777778,
              "#fb9f3a"
             ],
             [
              0.8888888888888888,
              "#fdca26"
             ],
             [
              1,
              "#f0f921"
             ]
            ],
            "type": "heatmapgl"
           }
          ],
          "histogram": [
           {
            "marker": {
             "pattern": {
              "fillmode": "overlay",
              "size": 10,
              "solidity": 0.2
             }
            },
            "type": "histogram"
           }
          ],
          "histogram2d": [
           {
            "colorbar": {
             "outlinewidth": 0,
             "ticks": ""
            },
            "colorscale": [
             [
              0,
              "#0d0887"
             ],
             [
              0.1111111111111111,
              "#46039f"
             ],
             [
              0.2222222222222222,
              "#7201a8"
             ],
             [
              0.3333333333333333,
              "#9c179e"
             ],
             [
              0.4444444444444444,
              "#bd3786"
             ],
             [
              0.5555555555555556,
              "#d8576b"
             ],
             [
              0.6666666666666666,
              "#ed7953"
             ],
             [
              0.7777777777777778,
              "#fb9f3a"
             ],
             [
              0.8888888888888888,
              "#fdca26"
             ],
             [
              1,
              "#f0f921"
             ]
            ],
            "type": "histogram2d"
           }
          ],
          "histogram2dcontour": [
           {
            "colorbar": {
             "outlinewidth": 0,
             "ticks": ""
            },
            "colorscale": [
             [
              0,
              "#0d0887"
             ],
             [
              0.1111111111111111,
              "#46039f"
             ],
             [
              0.2222222222222222,
              "#7201a8"
             ],
             [
              0.3333333333333333,
              "#9c179e"
             ],
             [
              0.4444444444444444,
              "#bd3786"
             ],
             [
              0.5555555555555556,
              "#d8576b"
             ],
             [
              0.6666666666666666,
              "#ed7953"
             ],
             [
              0.7777777777777778,
              "#fb9f3a"
             ],
             [
              0.8888888888888888,
              "#fdca26"
             ],
             [
              1,
              "#f0f921"
             ]
            ],
            "type": "histogram2dcontour"
           }
          ],
          "mesh3d": [
           {
            "colorbar": {
             "outlinewidth": 0,
             "ticks": ""
            },
            "type": "mesh3d"
           }
          ],
          "parcoords": [
           {
            "line": {
             "colorbar": {
              "outlinewidth": 0,
              "ticks": ""
             }
            },
            "type": "parcoords"
           }
          ],
          "pie": [
           {
            "automargin": true,
            "type": "pie"
           }
          ],
          "scatter": [
           {
            "fillpattern": {
             "fillmode": "overlay",
             "size": 10,
             "solidity": 0.2
            },
            "type": "scatter"
           }
          ],
          "scatter3d": [
           {
            "line": {
             "colorbar": {
              "outlinewidth": 0,
              "ticks": ""
             }
            },
            "marker": {
             "colorbar": {
              "outlinewidth": 0,
              "ticks": ""
             }
            },
            "type": "scatter3d"
           }
          ],
          "scattercarpet": [
           {
            "marker": {
             "colorbar": {
              "outlinewidth": 0,
              "ticks": ""
             }
            },
            "type": "scattercarpet"
           }
          ],
          "scattergeo": [
           {
            "marker": {
             "colorbar": {
              "outlinewidth": 0,
              "ticks": ""
             }
            },
            "type": "scattergeo"
           }
          ],
          "scattergl": [
           {
            "marker": {
             "colorbar": {
              "outlinewidth": 0,
              "ticks": ""
             }
            },
            "type": "scattergl"
           }
          ],
          "scattermapbox": [
           {
            "marker": {
             "colorbar": {
              "outlinewidth": 0,
              "ticks": ""
             }
            },
            "type": "scattermapbox"
           }
          ],
          "scatterpolar": [
           {
            "marker": {
             "colorbar": {
              "outlinewidth": 0,
              "ticks": ""
             }
            },
            "type": "scatterpolar"
           }
          ],
          "scatterpolargl": [
           {
            "marker": {
             "colorbar": {
              "outlinewidth": 0,
              "ticks": ""
             }
            },
            "type": "scatterpolargl"
           }
          ],
          "scatterternary": [
           {
            "marker": {
             "colorbar": {
              "outlinewidth": 0,
              "ticks": ""
             }
            },
            "type": "scatterternary"
           }
          ],
          "surface": [
           {
            "colorbar": {
             "outlinewidth": 0,
             "ticks": ""
            },
            "colorscale": [
             [
              0,
              "#0d0887"
             ],
             [
              0.1111111111111111,
              "#46039f"
             ],
             [
              0.2222222222222222,
              "#7201a8"
             ],
             [
              0.3333333333333333,
              "#9c179e"
             ],
             [
              0.4444444444444444,
              "#bd3786"
             ],
             [
              0.5555555555555556,
              "#d8576b"
             ],
             [
              0.6666666666666666,
              "#ed7953"
             ],
             [
              0.7777777777777778,
              "#fb9f3a"
             ],
             [
              0.8888888888888888,
              "#fdca26"
             ],
             [
              1,
              "#f0f921"
             ]
            ],
            "type": "surface"
           }
          ],
          "table": [
           {
            "cells": {
             "fill": {
              "color": "#EBF0F8"
             },
             "line": {
              "color": "white"
             }
            },
            "header": {
             "fill": {
              "color": "#C8D4E3"
             },
             "line": {
              "color": "white"
             }
            },
            "type": "table"
           }
          ]
         },
         "layout": {
          "annotationdefaults": {
           "arrowcolor": "#2a3f5f",
           "arrowhead": 0,
           "arrowwidth": 1
          },
          "autotypenumbers": "strict",
          "coloraxis": {
           "colorbar": {
            "outlinewidth": 0,
            "ticks": ""
           }
          },
          "colorscale": {
           "diverging": [
            [
             0,
             "#8e0152"
            ],
            [
             0.1,
             "#c51b7d"
            ],
            [
             0.2,
             "#de77ae"
            ],
            [
             0.3,
             "#f1b6da"
            ],
            [
             0.4,
             "#fde0ef"
            ],
            [
             0.5,
             "#f7f7f7"
            ],
            [
             0.6,
             "#e6f5d0"
            ],
            [
             0.7,
             "#b8e186"
            ],
            [
             0.8,
             "#7fbc41"
            ],
            [
             0.9,
             "#4d9221"
            ],
            [
             1,
             "#276419"
            ]
           ],
           "sequential": [
            [
             0,
             "#0d0887"
            ],
            [
             0.1111111111111111,
             "#46039f"
            ],
            [
             0.2222222222222222,
             "#7201a8"
            ],
            [
             0.3333333333333333,
             "#9c179e"
            ],
            [
             0.4444444444444444,
             "#bd3786"
            ],
            [
             0.5555555555555556,
             "#d8576b"
            ],
            [
             0.6666666666666666,
             "#ed7953"
            ],
            [
             0.7777777777777778,
             "#fb9f3a"
            ],
            [
             0.8888888888888888,
             "#fdca26"
            ],
            [
             1,
             "#f0f921"
            ]
           ],
           "sequentialminus": [
            [
             0,
             "#0d0887"
            ],
            [
             0.1111111111111111,
             "#46039f"
            ],
            [
             0.2222222222222222,
             "#7201a8"
            ],
            [
             0.3333333333333333,
             "#9c179e"
            ],
            [
             0.4444444444444444,
             "#bd3786"
            ],
            [
             0.5555555555555556,
             "#d8576b"
            ],
            [
             0.6666666666666666,
             "#ed7953"
            ],
            [
             0.7777777777777778,
             "#fb9f3a"
            ],
            [
             0.8888888888888888,
             "#fdca26"
            ],
            [
             1,
             "#f0f921"
            ]
           ]
          },
          "colorway": [
           "#636efa",
           "#EF553B",
           "#00cc96",
           "#ab63fa",
           "#FFA15A",
           "#19d3f3",
           "#FF6692",
           "#B6E880",
           "#FF97FF",
           "#FECB52"
          ],
          "font": {
           "color": "#2a3f5f"
          },
          "geo": {
           "bgcolor": "white",
           "lakecolor": "white",
           "landcolor": "#E5ECF6",
           "showlakes": true,
           "showland": true,
           "subunitcolor": "white"
          },
          "hoverlabel": {
           "align": "left"
          },
          "hovermode": "closest",
          "mapbox": {
           "style": "light"
          },
          "paper_bgcolor": "white",
          "plot_bgcolor": "#E5ECF6",
          "polar": {
           "angularaxis": {
            "gridcolor": "white",
            "linecolor": "white",
            "ticks": ""
           },
           "bgcolor": "#E5ECF6",
           "radialaxis": {
            "gridcolor": "white",
            "linecolor": "white",
            "ticks": ""
           }
          },
          "scene": {
           "xaxis": {
            "backgroundcolor": "#E5ECF6",
            "gridcolor": "white",
            "gridwidth": 2,
            "linecolor": "white",
            "showbackground": true,
            "ticks": "",
            "zerolinecolor": "white"
           },
           "yaxis": {
            "backgroundcolor": "#E5ECF6",
            "gridcolor": "white",
            "gridwidth": 2,
            "linecolor": "white",
            "showbackground": true,
            "ticks": "",
            "zerolinecolor": "white"
           },
           "zaxis": {
            "backgroundcolor": "#E5ECF6",
            "gridcolor": "white",
            "gridwidth": 2,
            "linecolor": "white",
            "showbackground": true,
            "ticks": "",
            "zerolinecolor": "white"
           }
          },
          "shapedefaults": {
           "line": {
            "color": "#2a3f5f"
           }
          },
          "ternary": {
           "aaxis": {
            "gridcolor": "white",
            "linecolor": "white",
            "ticks": ""
           },
           "baxis": {
            "gridcolor": "white",
            "linecolor": "white",
            "ticks": ""
           },
           "bgcolor": "#E5ECF6",
           "caxis": {
            "gridcolor": "white",
            "linecolor": "white",
            "ticks": ""
           }
          },
          "title": {
           "x": 0.05
          },
          "xaxis": {
           "automargin": true,
           "gridcolor": "white",
           "linecolor": "white",
           "ticks": "",
           "title": {
            "standoff": 15
           },
           "zerolinecolor": "white",
           "zerolinewidth": 2
          },
          "yaxis": {
           "automargin": true,
           "gridcolor": "white",
           "linecolor": "white",
           "ticks": "",
           "title": {
            "standoff": 15
           },
           "zerolinecolor": "white",
           "zerolinewidth": 2
          }
         }
        },
        "title": {
         "text": "Hyperparameter Importances"
        },
        "xaxis": {
         "title": {
          "text": "Hyperparameter Importance"
         }
        },
        "yaxis": {
         "title": {
          "text": "Hyperparameter"
         }
        }
       }
      }
     },
     "metadata": {},
     "output_type": "display_data"
    },
    {
     "data": {
      "application/vnd.plotly.v1+json": {
       "config": {
        "plotlyServerURL": "https://plot.ly"
       },
       "data": [
        {
         "marker": {
          "color": [
           0,
           1,
           2,
           3,
           4,
           5,
           6,
           7,
           8,
           9,
           11,
           12,
           13,
           14,
           15,
           16,
           17,
           18,
           19,
           20,
           21,
           22,
           23,
           24,
           25,
           26,
           28,
           30,
           31,
           32,
           33,
           35,
           36,
           40,
           41,
           42,
           43,
           46,
           49,
           50,
           51,
           52,
           53,
           54,
           55,
           58,
           61,
           62,
           63,
           64,
           65,
           66,
           68,
           71,
           72,
           73,
           74,
           75,
           76,
           77,
           81,
           82,
           83,
           84,
           85,
           88,
           89,
           91,
           93,
           94,
           96,
           99
          ],
          "colorbar": {
           "title": {
            "text": "Trial"
           },
           "x": 1,
           "xpad": 40
          },
          "colorscale": [
           [
            0,
            "rgb(247,251,255)"
           ],
           [
            0.125,
            "rgb(222,235,247)"
           ],
           [
            0.25,
            "rgb(198,219,239)"
           ],
           [
            0.375,
            "rgb(158,202,225)"
           ],
           [
            0.5,
            "rgb(107,174,214)"
           ],
           [
            0.625,
            "rgb(66,146,198)"
           ],
           [
            0.75,
            "rgb(33,113,181)"
           ],
           [
            0.875,
            "rgb(8,81,156)"
           ],
           [
            1,
            "rgb(8,48,107)"
           ]
          ],
          "line": {
           "color": "Grey",
           "width": 0.5
          },
          "showscale": true
         },
         "mode": "markers",
         "name": "Feasible Trial",
         "showlegend": false,
         "type": "scatter",
         "x": [
          9,
          6,
          2,
          9,
          4,
          6,
          4,
          9,
          6,
          3,
          5,
          4,
          5,
          7,
          7,
          7,
          8,
          7,
          7,
          8,
          7,
          8,
          7,
          6,
          8,
          8,
          9,
          9,
          8,
          9,
          9,
          8,
          9,
          9,
          7,
          8,
          7,
          5,
          7,
          9,
          8,
          8,
          7,
          6,
          6,
          6,
          7,
          7,
          7,
          7,
          7,
          6,
          6,
          7,
          7,
          7,
          7,
          7,
          8,
          8,
          7,
          7,
          7,
          7,
          8,
          6,
          7,
          7,
          7,
          7,
          6,
          6
         ],
         "xaxis": "x",
         "y": [
          0.3160686728395062,
          0.7199074074074074,
          0.4923804012345679,
          0.3150077160493827,
          0.7515432098765432,
          0.40248842592592593,
          0.6847029320987654,
          0.31356095679012347,
          0.697241512345679,
          0.7061149691358025,
          0.8885030864197531,
          0.8101851851851852,
          0.8708526234567902,
          0.9418402777777778,
          0.9464699074074074,
          0.9224537037037037,
          0.9293981481481481,
          0.8019868827160493,
          0.9345100308641975,
          0.7549189814814815,
          0.9345100308641975,
          0.9293981481481481,
          0.9224537037037037,
          0.9036458333333334,
          0.9385609567901234,
          0.8272569444444444,
          0.9425154320987654,
          0.8797260802469136,
          0.9475308641975309,
          0.9425154320987654,
          0.9219714506172839,
          0.8992091049382716,
          0.9368248456790124,
          0.8996913580246914,
          0.9126157407407407,
          0.9412615740740741,
          0.9224537037037037,
          0.9206211419753086,
          0.9126157407407407,
          0.9219714506172839,
          0.9412615740740741,
          0.9293981481481481,
          0.9464699074074074,
          0.9458912037037037,
          0.9221643518518519,
          0.9221643518518519,
          0.9345100308641975,
          0.943383487654321,
          0.9464699074074074,
          0.9464699074074074,
          0.9464699074074074,
          0.9221643518518519,
          0.9281442901234568,
          0.9418402777777778,
          0.9464699074074074,
          0.9464699074074074,
          0.9224537037037037,
          0.9345100308641975,
          0.9475308641975309,
          0.9385609567901234,
          0.9464699074074074,
          0.9224537037037037,
          0.9464699074074074,
          0.9418402777777778,
          0.923804012345679,
          0.9458912037037037,
          0.9418402777777778,
          0.9464699074074074,
          0.9418402777777778,
          0.9464699074074074,
          0.9441550925925926,
          0.9352816358024691
         ],
         "yaxis": "y"
        },
        {
         "marker": {
          "color": [
           0,
           1,
           2,
           3,
           4,
           5,
           6,
           7,
           8,
           9,
           11,
           12,
           13,
           14,
           15,
           16,
           17,
           18,
           19,
           20,
           21,
           22,
           23,
           24,
           25,
           26,
           28,
           30,
           31,
           32,
           33,
           35,
           36,
           40,
           41,
           42,
           43,
           46,
           49,
           50,
           51,
           52,
           53,
           54,
           55,
           58,
           61,
           62,
           63,
           64,
           65,
           66,
           68,
           71,
           72,
           73,
           74,
           75,
           76,
           77,
           81,
           82,
           83,
           84,
           85,
           88,
           89,
           91,
           93,
           94,
           96,
           99
          ],
          "colorbar": {
           "title": {
            "text": "Trial"
           },
           "x": 1,
           "xpad": 40
          },
          "colorscale": [
           [
            0,
            "rgb(247,251,255)"
           ],
           [
            0.125,
            "rgb(222,235,247)"
           ],
           [
            0.25,
            "rgb(198,219,239)"
           ],
           [
            0.375,
            "rgb(158,202,225)"
           ],
           [
            0.5,
            "rgb(107,174,214)"
           ],
           [
            0.625,
            "rgb(66,146,198)"
           ],
           [
            0.75,
            "rgb(33,113,181)"
           ],
           [
            0.875,
            "rgb(8,81,156)"
           ],
           [
            1,
            "rgb(8,48,107)"
           ]
          ],
          "line": {
           "color": "Grey",
           "width": 0.5
          },
          "showscale": false
         },
         "mode": "markers",
         "name": "Feasible Trial",
         "showlegend": false,
         "type": "scatter",
         "x": [
          37,
          11,
          26,
          36,
          45,
          31,
          22,
          38,
          46,
          45,
          9,
          15,
          14,
          5,
          3,
          1,
          6,
          21,
          6,
          17,
          6,
          6,
          2,
          10,
          5,
          12,
          4,
          9,
          3,
          4,
          2,
          8,
          3,
          4,
          8,
          4,
          1,
          4,
          8,
          1,
          4,
          6,
          3,
          3,
          2,
          1,
          6,
          4,
          3,
          3,
          3,
          2,
          7,
          5,
          3,
          3,
          1,
          6,
          3,
          5,
          3,
          2,
          3,
          5,
          1,
          3,
          5,
          3,
          5,
          3,
          4,
          6
         ],
         "xaxis": "x2",
         "y": [
          0.3160686728395062,
          0.7199074074074074,
          0.4923804012345679,
          0.3150077160493827,
          0.7515432098765432,
          0.40248842592592593,
          0.6847029320987654,
          0.31356095679012347,
          0.697241512345679,
          0.7061149691358025,
          0.8885030864197531,
          0.8101851851851852,
          0.8708526234567902,
          0.9418402777777778,
          0.9464699074074074,
          0.9224537037037037,
          0.9293981481481481,
          0.8019868827160493,
          0.9345100308641975,
          0.7549189814814815,
          0.9345100308641975,
          0.9293981481481481,
          0.9224537037037037,
          0.9036458333333334,
          0.9385609567901234,
          0.8272569444444444,
          0.9425154320987654,
          0.8797260802469136,
          0.9475308641975309,
          0.9425154320987654,
          0.9219714506172839,
          0.8992091049382716,
          0.9368248456790124,
          0.8996913580246914,
          0.9126157407407407,
          0.9412615740740741,
          0.9224537037037037,
          0.9206211419753086,
          0.9126157407407407,
          0.9219714506172839,
          0.9412615740740741,
          0.9293981481481481,
          0.9464699074074074,
          0.9458912037037037,
          0.9221643518518519,
          0.9221643518518519,
          0.9345100308641975,
          0.943383487654321,
          0.9464699074074074,
          0.9464699074074074,
          0.9464699074074074,
          0.9221643518518519,
          0.9281442901234568,
          0.9418402777777778,
          0.9464699074074074,
          0.9464699074074074,
          0.9224537037037037,
          0.9345100308641975,
          0.9475308641975309,
          0.9385609567901234,
          0.9464699074074074,
          0.9224537037037037,
          0.9464699074074074,
          0.9418402777777778,
          0.923804012345679,
          0.9458912037037037,
          0.9418402777777778,
          0.9464699074074074,
          0.9418402777777778,
          0.9464699074074074,
          0.9441550925925926,
          0.9352816358024691
         ],
         "yaxis": "y2"
        },
        {
         "marker": {
          "color": [
           0,
           1,
           2,
           3,
           4,
           5,
           6,
           7,
           8,
           9,
           11,
           12,
           13,
           14,
           15,
           16,
           17,
           18,
           19,
           20,
           21,
           22,
           23,
           24,
           25,
           26,
           28,
           30,
           31,
           32,
           33,
           35,
           36,
           40,
           41,
           42,
           43,
           46,
           49,
           50,
           51,
           52,
           53,
           54,
           55,
           58,
           61,
           62,
           63,
           64,
           65,
           66,
           68,
           71,
           72,
           73,
           74,
           75,
           76,
           77,
           81,
           82,
           83,
           84,
           85,
           88,
           89,
           91,
           93,
           94,
           96,
           99
          ],
          "colorbar": {
           "title": {
            "text": "Trial"
           },
           "x": 1,
           "xpad": 40
          },
          "colorscale": [
           [
            0,
            "rgb(247,251,255)"
           ],
           [
            0.125,
            "rgb(222,235,247)"
           ],
           [
            0.25,
            "rgb(198,219,239)"
           ],
           [
            0.375,
            "rgb(158,202,225)"
           ],
           [
            0.5,
            "rgb(107,174,214)"
           ],
           [
            0.625,
            "rgb(66,146,198)"
           ],
           [
            0.75,
            "rgb(33,113,181)"
           ],
           [
            0.875,
            "rgb(8,81,156)"
           ],
           [
            1,
            "rgb(8,48,107)"
           ]
          ],
          "line": {
           "color": "Grey",
           "width": 0.5
          },
          "showscale": false
         },
         "mode": "markers",
         "name": "Feasible Trial",
         "showlegend": false,
         "type": "scatter",
         "x": [
          "uniform",
          "uniform",
          "uniform",
          "uniform",
          "distance",
          "uniform",
          "uniform",
          "uniform",
          "distance",
          "distance",
          "distance",
          "distance",
          "distance",
          "distance",
          "distance",
          "distance",
          "distance",
          "distance",
          "distance",
          "distance",
          "distance",
          "distance",
          "distance",
          "distance",
          "distance",
          "distance",
          "distance",
          "distance",
          "distance",
          "distance",
          "distance",
          "distance",
          "uniform",
          "uniform",
          "distance",
          "distance",
          "distance",
          "distance",
          "distance",
          "distance",
          "distance",
          "distance",
          "distance",
          "distance",
          "distance",
          "distance",
          "distance",
          "distance",
          "distance",
          "distance",
          "distance",
          "distance",
          "distance",
          "distance",
          "distance",
          "distance",
          "distance",
          "distance",
          "distance",
          "distance",
          "distance",
          "distance",
          "distance",
          "distance",
          "distance",
          "distance",
          "distance",
          "distance",
          "distance",
          "distance",
          "distance",
          "distance"
         ],
         "xaxis": "x3",
         "y": [
          0.3160686728395062,
          0.7199074074074074,
          0.4923804012345679,
          0.3150077160493827,
          0.7515432098765432,
          0.40248842592592593,
          0.6847029320987654,
          0.31356095679012347,
          0.697241512345679,
          0.7061149691358025,
          0.8885030864197531,
          0.8101851851851852,
          0.8708526234567902,
          0.9418402777777778,
          0.9464699074074074,
          0.9224537037037037,
          0.9293981481481481,
          0.8019868827160493,
          0.9345100308641975,
          0.7549189814814815,
          0.9345100308641975,
          0.9293981481481481,
          0.9224537037037037,
          0.9036458333333334,
          0.9385609567901234,
          0.8272569444444444,
          0.9425154320987654,
          0.8797260802469136,
          0.9475308641975309,
          0.9425154320987654,
          0.9219714506172839,
          0.8992091049382716,
          0.9368248456790124,
          0.8996913580246914,
          0.9126157407407407,
          0.9412615740740741,
          0.9224537037037037,
          0.9206211419753086,
          0.9126157407407407,
          0.9219714506172839,
          0.9412615740740741,
          0.9293981481481481,
          0.9464699074074074,
          0.9458912037037037,
          0.9221643518518519,
          0.9221643518518519,
          0.9345100308641975,
          0.943383487654321,
          0.9464699074074074,
          0.9464699074074074,
          0.9464699074074074,
          0.9221643518518519,
          0.9281442901234568,
          0.9418402777777778,
          0.9464699074074074,
          0.9464699074074074,
          0.9224537037037037,
          0.9345100308641975,
          0.9475308641975309,
          0.9385609567901234,
          0.9464699074074074,
          0.9224537037037037,
          0.9464699074074074,
          0.9418402777777778,
          0.923804012345679,
          0.9458912037037037,
          0.9418402777777778,
          0.9464699074074074,
          0.9418402777777778,
          0.9464699074074074,
          0.9441550925925926,
          0.9352816358024691
         ],
         "yaxis": "y3"
        }
       ],
       "layout": {
        "template": {
         "data": {
          "bar": [
           {
            "error_x": {
             "color": "#2a3f5f"
            },
            "error_y": {
             "color": "#2a3f5f"
            },
            "marker": {
             "line": {
              "color": "#E5ECF6",
              "width": 0.5
             },
             "pattern": {
              "fillmode": "overlay",
              "size": 10,
              "solidity": 0.2
             }
            },
            "type": "bar"
           }
          ],
          "barpolar": [
           {
            "marker": {
             "line": {
              "color": "#E5ECF6",
              "width": 0.5
             },
             "pattern": {
              "fillmode": "overlay",
              "size": 10,
              "solidity": 0.2
             }
            },
            "type": "barpolar"
           }
          ],
          "carpet": [
           {
            "aaxis": {
             "endlinecolor": "#2a3f5f",
             "gridcolor": "white",
             "linecolor": "white",
             "minorgridcolor": "white",
             "startlinecolor": "#2a3f5f"
            },
            "baxis": {
             "endlinecolor": "#2a3f5f",
             "gridcolor": "white",
             "linecolor": "white",
             "minorgridcolor": "white",
             "startlinecolor": "#2a3f5f"
            },
            "type": "carpet"
           }
          ],
          "choropleth": [
           {
            "colorbar": {
             "outlinewidth": 0,
             "ticks": ""
            },
            "type": "choropleth"
           }
          ],
          "contour": [
           {
            "colorbar": {
             "outlinewidth": 0,
             "ticks": ""
            },
            "colorscale": [
             [
              0,
              "#0d0887"
             ],
             [
              0.1111111111111111,
              "#46039f"
             ],
             [
              0.2222222222222222,
              "#7201a8"
             ],
             [
              0.3333333333333333,
              "#9c179e"
             ],
             [
              0.4444444444444444,
              "#bd3786"
             ],
             [
              0.5555555555555556,
              "#d8576b"
             ],
             [
              0.6666666666666666,
              "#ed7953"
             ],
             [
              0.7777777777777778,
              "#fb9f3a"
             ],
             [
              0.8888888888888888,
              "#fdca26"
             ],
             [
              1,
              "#f0f921"
             ]
            ],
            "type": "contour"
           }
          ],
          "contourcarpet": [
           {
            "colorbar": {
             "outlinewidth": 0,
             "ticks": ""
            },
            "type": "contourcarpet"
           }
          ],
          "heatmap": [
           {
            "colorbar": {
             "outlinewidth": 0,
             "ticks": ""
            },
            "colorscale": [
             [
              0,
              "#0d0887"
             ],
             [
              0.1111111111111111,
              "#46039f"
             ],
             [
              0.2222222222222222,
              "#7201a8"
             ],
             [
              0.3333333333333333,
              "#9c179e"
             ],
             [
              0.4444444444444444,
              "#bd3786"
             ],
             [
              0.5555555555555556,
              "#d8576b"
             ],
             [
              0.6666666666666666,
              "#ed7953"
             ],
             [
              0.7777777777777778,
              "#fb9f3a"
             ],
             [
              0.8888888888888888,
              "#fdca26"
             ],
             [
              1,
              "#f0f921"
             ]
            ],
            "type": "heatmap"
           }
          ],
          "heatmapgl": [
           {
            "colorbar": {
             "outlinewidth": 0,
             "ticks": ""
            },
            "colorscale": [
             [
              0,
              "#0d0887"
             ],
             [
              0.1111111111111111,
              "#46039f"
             ],
             [
              0.2222222222222222,
              "#7201a8"
             ],
             [
              0.3333333333333333,
              "#9c179e"
             ],
             [
              0.4444444444444444,
              "#bd3786"
             ],
             [
              0.5555555555555556,
              "#d8576b"
             ],
             [
              0.6666666666666666,
              "#ed7953"
             ],
             [
              0.7777777777777778,
              "#fb9f3a"
             ],
             [
              0.8888888888888888,
              "#fdca26"
             ],
             [
              1,
              "#f0f921"
             ]
            ],
            "type": "heatmapgl"
           }
          ],
          "histogram": [
           {
            "marker": {
             "pattern": {
              "fillmode": "overlay",
              "size": 10,
              "solidity": 0.2
             }
            },
            "type": "histogram"
           }
          ],
          "histogram2d": [
           {
            "colorbar": {
             "outlinewidth": 0,
             "ticks": ""
            },
            "colorscale": [
             [
              0,
              "#0d0887"
             ],
             [
              0.1111111111111111,
              "#46039f"
             ],
             [
              0.2222222222222222,
              "#7201a8"
             ],
             [
              0.3333333333333333,
              "#9c179e"
             ],
             [
              0.4444444444444444,
              "#bd3786"
             ],
             [
              0.5555555555555556,
              "#d8576b"
             ],
             [
              0.6666666666666666,
              "#ed7953"
             ],
             [
              0.7777777777777778,
              "#fb9f3a"
             ],
             [
              0.8888888888888888,
              "#fdca26"
             ],
             [
              1,
              "#f0f921"
             ]
            ],
            "type": "histogram2d"
           }
          ],
          "histogram2dcontour": [
           {
            "colorbar": {
             "outlinewidth": 0,
             "ticks": ""
            },
            "colorscale": [
             [
              0,
              "#0d0887"
             ],
             [
              0.1111111111111111,
              "#46039f"
             ],
             [
              0.2222222222222222,
              "#7201a8"
             ],
             [
              0.3333333333333333,
              "#9c179e"
             ],
             [
              0.4444444444444444,
              "#bd3786"
             ],
             [
              0.5555555555555556,
              "#d8576b"
             ],
             [
              0.6666666666666666,
              "#ed7953"
             ],
             [
              0.7777777777777778,
              "#fb9f3a"
             ],
             [
              0.8888888888888888,
              "#fdca26"
             ],
             [
              1,
              "#f0f921"
             ]
            ],
            "type": "histogram2dcontour"
           }
          ],
          "mesh3d": [
           {
            "colorbar": {
             "outlinewidth": 0,
             "ticks": ""
            },
            "type": "mesh3d"
           }
          ],
          "parcoords": [
           {
            "line": {
             "colorbar": {
              "outlinewidth": 0,
              "ticks": ""
             }
            },
            "type": "parcoords"
           }
          ],
          "pie": [
           {
            "automargin": true,
            "type": "pie"
           }
          ],
          "scatter": [
           {
            "fillpattern": {
             "fillmode": "overlay",
             "size": 10,
             "solidity": 0.2
            },
            "type": "scatter"
           }
          ],
          "scatter3d": [
           {
            "line": {
             "colorbar": {
              "outlinewidth": 0,
              "ticks": ""
             }
            },
            "marker": {
             "colorbar": {
              "outlinewidth": 0,
              "ticks": ""
             }
            },
            "type": "scatter3d"
           }
          ],
          "scattercarpet": [
           {
            "marker": {
             "colorbar": {
              "outlinewidth": 0,
              "ticks": ""
             }
            },
            "type": "scattercarpet"
           }
          ],
          "scattergeo": [
           {
            "marker": {
             "colorbar": {
              "outlinewidth": 0,
              "ticks": ""
             }
            },
            "type": "scattergeo"
           }
          ],
          "scattergl": [
           {
            "marker": {
             "colorbar": {
              "outlinewidth": 0,
              "ticks": ""
             }
            },
            "type": "scattergl"
           }
          ],
          "scattermapbox": [
           {
            "marker": {
             "colorbar": {
              "outlinewidth": 0,
              "ticks": ""
             }
            },
            "type": "scattermapbox"
           }
          ],
          "scatterpolar": [
           {
            "marker": {
             "colorbar": {
              "outlinewidth": 0,
              "ticks": ""
             }
            },
            "type": "scatterpolar"
           }
          ],
          "scatterpolargl": [
           {
            "marker": {
             "colorbar": {
              "outlinewidth": 0,
              "ticks": ""
             }
            },
            "type": "scatterpolargl"
           }
          ],
          "scatterternary": [
           {
            "marker": {
             "colorbar": {
              "outlinewidth": 0,
              "ticks": ""
             }
            },
            "type": "scatterternary"
           }
          ],
          "surface": [
           {
            "colorbar": {
             "outlinewidth": 0,
             "ticks": ""
            },
            "colorscale": [
             [
              0,
              "#0d0887"
             ],
             [
              0.1111111111111111,
              "#46039f"
             ],
             [
              0.2222222222222222,
              "#7201a8"
             ],
             [
              0.3333333333333333,
              "#9c179e"
             ],
             [
              0.4444444444444444,
              "#bd3786"
             ],
             [
              0.5555555555555556,
              "#d8576b"
             ],
             [
              0.6666666666666666,
              "#ed7953"
             ],
             [
              0.7777777777777778,
              "#fb9f3a"
             ],
             [
              0.8888888888888888,
              "#fdca26"
             ],
             [
              1,
              "#f0f921"
             ]
            ],
            "type": "surface"
           }
          ],
          "table": [
           {
            "cells": {
             "fill": {
              "color": "#EBF0F8"
             },
             "line": {
              "color": "white"
             }
            },
            "header": {
             "fill": {
              "color": "#C8D4E3"
             },
             "line": {
              "color": "white"
             }
            },
            "type": "table"
           }
          ]
         },
         "layout": {
          "annotationdefaults": {
           "arrowcolor": "#2a3f5f",
           "arrowhead": 0,
           "arrowwidth": 1
          },
          "autotypenumbers": "strict",
          "coloraxis": {
           "colorbar": {
            "outlinewidth": 0,
            "ticks": ""
           }
          },
          "colorscale": {
           "diverging": [
            [
             0,
             "#8e0152"
            ],
            [
             0.1,
             "#c51b7d"
            ],
            [
             0.2,
             "#de77ae"
            ],
            [
             0.3,
             "#f1b6da"
            ],
            [
             0.4,
             "#fde0ef"
            ],
            [
             0.5,
             "#f7f7f7"
            ],
            [
             0.6,
             "#e6f5d0"
            ],
            [
             0.7,
             "#b8e186"
            ],
            [
             0.8,
             "#7fbc41"
            ],
            [
             0.9,
             "#4d9221"
            ],
            [
             1,
             "#276419"
            ]
           ],
           "sequential": [
            [
             0,
             "#0d0887"
            ],
            [
             0.1111111111111111,
             "#46039f"
            ],
            [
             0.2222222222222222,
             "#7201a8"
            ],
            [
             0.3333333333333333,
             "#9c179e"
            ],
            [
             0.4444444444444444,
             "#bd3786"
            ],
            [
             0.5555555555555556,
             "#d8576b"
            ],
            [
             0.6666666666666666,
             "#ed7953"
            ],
            [
             0.7777777777777778,
             "#fb9f3a"
            ],
            [
             0.8888888888888888,
             "#fdca26"
            ],
            [
             1,
             "#f0f921"
            ]
           ],
           "sequentialminus": [
            [
             0,
             "#0d0887"
            ],
            [
             0.1111111111111111,
             "#46039f"
            ],
            [
             0.2222222222222222,
             "#7201a8"
            ],
            [
             0.3333333333333333,
             "#9c179e"
            ],
            [
             0.4444444444444444,
             "#bd3786"
            ],
            [
             0.5555555555555556,
             "#d8576b"
            ],
            [
             0.6666666666666666,
             "#ed7953"
            ],
            [
             0.7777777777777778,
             "#fb9f3a"
            ],
            [
             0.8888888888888888,
             "#fdca26"
            ],
            [
             1,
             "#f0f921"
            ]
           ]
          },
          "colorway": [
           "#636efa",
           "#EF553B",
           "#00cc96",
           "#ab63fa",
           "#FFA15A",
           "#19d3f3",
           "#FF6692",
           "#B6E880",
           "#FF97FF",
           "#FECB52"
          ],
          "font": {
           "color": "#2a3f5f"
          },
          "geo": {
           "bgcolor": "white",
           "lakecolor": "white",
           "landcolor": "#E5ECF6",
           "showlakes": true,
           "showland": true,
           "subunitcolor": "white"
          },
          "hoverlabel": {
           "align": "left"
          },
          "hovermode": "closest",
          "mapbox": {
           "style": "light"
          },
          "paper_bgcolor": "white",
          "plot_bgcolor": "#E5ECF6",
          "polar": {
           "angularaxis": {
            "gridcolor": "white",
            "linecolor": "white",
            "ticks": ""
           },
           "bgcolor": "#E5ECF6",
           "radialaxis": {
            "gridcolor": "white",
            "linecolor": "white",
            "ticks": ""
           }
          },
          "scene": {
           "xaxis": {
            "backgroundcolor": "#E5ECF6",
            "gridcolor": "white",
            "gridwidth": 2,
            "linecolor": "white",
            "showbackground": true,
            "ticks": "",
            "zerolinecolor": "white"
           },
           "yaxis": {
            "backgroundcolor": "#E5ECF6",
            "gridcolor": "white",
            "gridwidth": 2,
            "linecolor": "white",
            "showbackground": true,
            "ticks": "",
            "zerolinecolor": "white"
           },
           "zaxis": {
            "backgroundcolor": "#E5ECF6",
            "gridcolor": "white",
            "gridwidth": 2,
            "linecolor": "white",
            "showbackground": true,
            "ticks": "",
            "zerolinecolor": "white"
           }
          },
          "shapedefaults": {
           "line": {
            "color": "#2a3f5f"
           }
          },
          "ternary": {
           "aaxis": {
            "gridcolor": "white",
            "linecolor": "white",
            "ticks": ""
           },
           "baxis": {
            "gridcolor": "white",
            "linecolor": "white",
            "ticks": ""
           },
           "bgcolor": "#E5ECF6",
           "caxis": {
            "gridcolor": "white",
            "linecolor": "white",
            "ticks": ""
           }
          },
          "title": {
           "x": 0.05
          },
          "xaxis": {
           "automargin": true,
           "gridcolor": "white",
           "linecolor": "white",
           "ticks": "",
           "title": {
            "standoff": 15
           },
           "zerolinecolor": "white",
           "zerolinewidth": 2
          },
          "yaxis": {
           "automargin": true,
           "gridcolor": "white",
           "linecolor": "white",
           "ticks": "",
           "title": {
            "standoff": 15
           },
           "zerolinecolor": "white",
           "zerolinewidth": 2
          }
         }
        },
        "title": {
         "text": "Slice Plot"
        },
        "xaxis": {
         "anchor": "y",
         "domain": [
          0,
          0.2888888888888889
         ],
         "title": {
          "text": "n_components"
         }
        },
        "xaxis2": {
         "anchor": "y2",
         "domain": [
          0.35555555555555557,
          0.6444444444444445
         ],
         "title": {
          "text": "n_neighbors"
         }
        },
        "xaxis3": {
         "anchor": "y3",
         "categoryarray": [
          "uniform",
          "distance"
         ],
         "categoryorder": "array",
         "domain": [
          0.7111111111111111,
          1
         ],
         "title": {
          "text": "weights"
         },
         "type": "category"
        },
        "yaxis": {
         "anchor": "x",
         "domain": [
          0,
          1
         ],
         "title": {
          "text": "Objective Value"
         }
        },
        "yaxis2": {
         "anchor": "x2",
         "domain": [
          0,
          1
         ],
         "matches": "y",
         "showticklabels": false
        },
        "yaxis3": {
         "anchor": "x3",
         "domain": [
          0,
          1
         ],
         "matches": "y",
         "showticklabels": false
        }
       }
      }
     },
     "metadata": {},
     "output_type": "display_data"
    }
   ],
   "source": [
    "# Create a study object with a pruner\n",
    "pruner = optuna.pruners.MedianPruner(n_startup_trials=10)\n",
    "study = optuna.create_study(direction=\"maximize\", pruner=pruner)\n",
    "\n",
    "# Optimize the objective function\n",
    "study.optimize(objective, n_trials=100)\n",
    "\n",
    "print(\"Best hyperparameters:\", study.best_params)\n",
    "print(\"Best value:\", study.best_value)\n",
    "\n",
    "# Evaluate on the validation set\n",
    "X_test_scaled = best_scaler.transform(X_test)\n",
    "X_test_scaled = best_pca.transform(X_test_scaled)\n",
    "y_test_pred = best_model.predict(X_test_scaled)\n",
    "test_accuracy = accuracy_score(y_test, y_test_pred)\n",
    "print(f'accuracy on test set:{test_accuracy}')\n",
    "\n",
    "# Optional: Visualize optimization results\n",
    "vis.plot_optimization_history(study).show()\n",
    "vis.plot_param_importances(study).show()\n",
    "vis.plot_slice(study).show()"
   ]
  }
 ],
 "metadata": {
  "kernelspec": {
   "display_name": ".venv",
   "language": "python",
   "name": "python3"
  },
  "language_info": {
   "codemirror_mode": {
    "name": "ipython",
    "version": 3
   },
   "file_extension": ".py",
   "mimetype": "text/x-python",
   "name": "python",
   "nbconvert_exporter": "python",
   "pygments_lexer": "ipython3",
   "version": "3.12.0"
  }
 },
 "nbformat": 4,
 "nbformat_minor": 2
}
