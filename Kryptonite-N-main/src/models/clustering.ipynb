{
 "cells": [
  {
   "cell_type": "code",
   "execution_count": 1,
   "id": "8d1452affa418d93",
   "metadata": {},
   "outputs": [],
   "source": [
    "import numpy as np\n",
    "from sklearn.mixture import GaussianMixture\n",
    "from sklearn.model_selection import train_test_split\n",
    "from sklearn.metrics import accuracy_score\n",
    "from skopt import BayesSearchCV"
   ]
  },
  {
   "cell_type": "code",
   "execution_count": 2,
   "id": "352b0f24",
   "metadata": {},
   "outputs": [],
   "source": [
    "def denoise_bernoulli_data(X):\n",
    "    \"\"\"Denoise data by converting to binary values\"\"\"\n",
    "    return (X >= 0.5).astype(float)\n",
    "\n",
    "def run_clustering(n):\n",
    "    # Load input data and labels\n",
    "    X = np.load('Datasets/kryptonite-%s-X.npy'%(n))\n",
    "    y = np.load('Datasets/kryptonite-%s-y.npy'%(n))\n",
    "    \n",
    "    # Denoise input data\n",
    "    denoise_bernoulli_data(X)\n",
    "    \n",
    "    # Split data into training and test sets\n",
    "    X_train, X_test, y_train, y_test = train_test_split(X, y, test_size=0.2, random_state=42)  # 80% training, 20% test\n",
    "\n",
    "    # Define parameter space for Gaussian Mixture Model\n",
    "    param_space = {\n",
    "        'n_components': (20, 50),\n",
    "        'covariance_type': ['full', 'tied', 'diag', 'spherical'],\n",
    "        'tol': (1e-4, 1e-2, 'log-uniform')\n",
    "    }\n",
    "    \n",
    "    # Split data into class 0 and class 1\n",
    "    X_train_class0 = X_train[y_train == 0]\n",
    "    X_train_class1 = X_train[y_train == 1]\n",
    "    \n",
    "    gmm = GaussianMixture()\n",
    "    \n",
    "    # Train Gaussian Mixture Model for class 0\n",
    "    bayes_search_class0 = BayesSearchCV(\n",
    "        estimator = gmm,\n",
    "        search_spaces = param_space,\n",
    "        n_iter = 20,\n",
    "        cv = 10,\n",
    "        random_state = 42\n",
    "    )\n",
    "    bayes_search_class0.fit(X_train_class0)\n",
    "    best_gmm_class0 = bayes_search_class0.best_estimator_\n",
    "    \n",
    "    # Train Gaussian Mixture Model for class 1\n",
    "    bayes_search_class1 = BayesSearchCV(\n",
    "        estimator = gmm,\n",
    "        search_spaces = param_space,\n",
    "        n_iter = 20,\n",
    "        cv = 10,\n",
    "        random_state = 42\n",
    "    )\n",
    "    bayes_search_class1.fit(X_train_class1)\n",
    "    best_gmm_class1 = bayes_search_class1.best_estimator_\n",
    "    \n",
    "    # Evaluate the model on the test set\n",
    "    log_likelihood_class0 = best_gmm_class0.score_samples(X_test)\n",
    "    log_likelihood_class1 = best_gmm_class1.score_samples(X_test)\n",
    "    \n",
    "    # Predict the class with the highest log likelihood\n",
    "    y_pred = (log_likelihood_class1 > log_likelihood_class0).astype(int)\n",
    "    \n",
    "    # Calculate the accuracy of the model\n",
    "    test_accuracy = accuracy_score(y_test, y_pred)\n",
    "    print(f\"Test Accuracy: {test_accuracy:.4f}\")"
   ]
  },
  {
   "cell_type": "code",
   "execution_count": 3,
   "id": "30c1a7263641e676",
   "metadata": {},
   "outputs": [
    {
     "name": "stdout",
     "output_type": "stream",
     "text": [
      "Running for 9 features\n"
     ]
    },
    {
     "ename": "FileNotFoundError",
     "evalue": "[Errno 2] No such file or directory: 'Datasets/kryptonite-9-X.npy'",
     "output_type": "error",
     "traceback": [
      "\u001b[1;31m---------------------------------------------------------------------------\u001b[0m",
      "\u001b[1;31mFileNotFoundError\u001b[0m                         Traceback (most recent call last)",
      "Cell \u001b[1;32mIn[3], line 6\u001b[0m\n\u001b[0;32m      4\u001b[0m \u001b[38;5;28;01mfor\u001b[39;00m n_val \u001b[38;5;129;01min\u001b[39;00m possible_n_vals:\n\u001b[0;32m      5\u001b[0m     \u001b[38;5;28mprint\u001b[39m(\u001b[38;5;124mf\u001b[39m\u001b[38;5;124m\"\u001b[39m\u001b[38;5;124mRunning for \u001b[39m\u001b[38;5;132;01m{\u001b[39;00mn_val\u001b[38;5;132;01m}\u001b[39;00m\u001b[38;5;124m features\u001b[39m\u001b[38;5;124m\"\u001b[39m)\n\u001b[1;32m----> 6\u001b[0m     \u001b[43mrun_clustering\u001b[49m\u001b[43m(\u001b[49m\u001b[43mn_val\u001b[49m\u001b[43m)\u001b[49m\n",
      "Cell \u001b[1;32mIn[2], line 7\u001b[0m, in \u001b[0;36mrun_clustering\u001b[1;34m(n)\u001b[0m\n\u001b[0;32m      5\u001b[0m \u001b[38;5;28;01mdef\u001b[39;00m \u001b[38;5;21mrun_clustering\u001b[39m(n):\n\u001b[0;32m      6\u001b[0m     \u001b[38;5;66;03m# Load input data and labels\u001b[39;00m\n\u001b[1;32m----> 7\u001b[0m     X \u001b[38;5;241m=\u001b[39m \u001b[43mnp\u001b[49m\u001b[38;5;241;43m.\u001b[39;49m\u001b[43mload\u001b[49m\u001b[43m(\u001b[49m\u001b[38;5;124;43m'\u001b[39;49m\u001b[38;5;124;43mDatasets/kryptonite-\u001b[39;49m\u001b[38;5;132;43;01m%s\u001b[39;49;00m\u001b[38;5;124;43m-X.npy\u001b[39;49m\u001b[38;5;124;43m'\u001b[39;49m\u001b[38;5;241;43m%\u001b[39;49m\u001b[43m(\u001b[49m\u001b[43mn\u001b[49m\u001b[43m)\u001b[49m\u001b[43m)\u001b[49m\n\u001b[0;32m      8\u001b[0m     y \u001b[38;5;241m=\u001b[39m np\u001b[38;5;241m.\u001b[39mload(\u001b[38;5;124m'\u001b[39m\u001b[38;5;124mDatasets/kryptonite-\u001b[39m\u001b[38;5;132;01m%s\u001b[39;00m\u001b[38;5;124m-y.npy\u001b[39m\u001b[38;5;124m'\u001b[39m\u001b[38;5;241m%\u001b[39m(n))\n\u001b[0;32m     10\u001b[0m     \u001b[38;5;66;03m# Denoise input data\u001b[39;00m\n",
      "File \u001b[1;32mc:\\Users\\berma\\Documents\\Mathematics for Machine Learning\\MML-CW\\.venv\\Lib\\site-packages\\numpy\\lib\\_npyio_impl.py:459\u001b[0m, in \u001b[0;36mload\u001b[1;34m(file, mmap_mode, allow_pickle, fix_imports, encoding, max_header_size)\u001b[0m\n\u001b[0;32m    457\u001b[0m     own_fid \u001b[38;5;241m=\u001b[39m \u001b[38;5;28;01mFalse\u001b[39;00m\n\u001b[0;32m    458\u001b[0m \u001b[38;5;28;01melse\u001b[39;00m:\n\u001b[1;32m--> 459\u001b[0m     fid \u001b[38;5;241m=\u001b[39m stack\u001b[38;5;241m.\u001b[39menter_context(\u001b[38;5;28;43mopen\u001b[39;49m\u001b[43m(\u001b[49m\u001b[43mos\u001b[49m\u001b[38;5;241;43m.\u001b[39;49m\u001b[43mfspath\u001b[49m\u001b[43m(\u001b[49m\u001b[43mfile\u001b[49m\u001b[43m)\u001b[49m\u001b[43m,\u001b[49m\u001b[43m \u001b[49m\u001b[38;5;124;43m\"\u001b[39;49m\u001b[38;5;124;43mrb\u001b[39;49m\u001b[38;5;124;43m\"\u001b[39;49m\u001b[43m)\u001b[49m)\n\u001b[0;32m    460\u001b[0m     own_fid \u001b[38;5;241m=\u001b[39m \u001b[38;5;28;01mTrue\u001b[39;00m\n\u001b[0;32m    462\u001b[0m \u001b[38;5;66;03m# Code to distinguish from NumPy binary files and pickles.\u001b[39;00m\n",
      "\u001b[1;31mFileNotFoundError\u001b[0m: [Errno 2] No such file or directory: 'Datasets/kryptonite-9-X.npy'"
     ]
    }
   ],
   "source": [
    "possible_n_vals = [9, 12, 15, 18]\n",
    "\n",
    "# Run clustering for different number of features\n",
    "for n_val in possible_n_vals:\n",
    "    print(f\"Running for {n_val} features\")\n",
    "    run_clustering(n_val)"
   ]
  }
 ],
 "metadata": {
  "kernelspec": {
   "display_name": ".venv",
   "language": "python",
   "name": "python3"
  },
  "language_info": {
   "codemirror_mode": {
    "name": "ipython",
    "version": 3
   },
   "file_extension": ".py",
   "mimetype": "text/x-python",
   "name": "python",
   "nbconvert_exporter": "python",
   "pygments_lexer": "ipython3",
   "version": "3.12.0"
  }
 },
 "nbformat": 4,
 "nbformat_minor": 5
}
