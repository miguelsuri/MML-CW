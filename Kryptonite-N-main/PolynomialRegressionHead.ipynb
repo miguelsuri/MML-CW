{
 "cells": [
  {
   "cell_type": "code",
   "execution_count": 2,
   "id": "61355864",
   "metadata": {},
   "outputs": [
    {
     "name": "stdout",
     "output_type": "stream",
     "text": [
      "(12600, 768)\n",
      "(12600,)\n",
      "(1000, 768)\n",
      "(1000,)\n",
      "(1000, 768)\n",
      "(1000,)\n",
      "-----\n",
      "(12600, 769)\n",
      "Created features\n",
      "Fit Model\n",
      "Validation Accuracy: 0.5010\n",
      "Test Accuracy: 0.5020\n"
     ]
    },
    {
     "name": "stderr",
     "output_type": "stream",
     "text": [
      "/Users/matthewwicker/opt/anaconda3/lib/python3.9/site-packages/sklearn/linear_model/_sag.py:352: ConvergenceWarning: The max_iter was reached which means the coef_ did not converge\n",
      "  warnings.warn(\n"
     ]
    }
   ],
   "source": [
    "import numpy as np\n",
    "from sklearn.model_selection import train_test_split\n",
    "from sklearn.preprocessing import PolynomialFeatures\n",
    "from sklearn.linear_model import LogisticRegression\n",
    "from sklearn.metrics import accuracy_score\n",
    "\n",
    "X_train = np.squeeze(np.load('Datasets/kryptonite-9-X-train-GPT2.npy'))\n",
    "y_train = np.squeeze(np.load('Datasets/kryptonite-9-y-train-GPT2.npy'))\n",
    "\n",
    "X_val = np.squeeze(np.load('Datasets/kryptonite-9-X-valid-GPT2.npy'))\n",
    "y_val = np.squeeze(np.load('Datasets/kryptonite-9-y-valid-GPT2.npy'))\n",
    "\n",
    "X_test = np.squeeze(np.load('Datasets/kryptonite-9-X-test-GPT2.npy'))\n",
    "y_test = np.squeeze(np.load('Datasets/kryptonite-9-y-test-GPT2.npy'))\n",
    "\n",
    "print(X_train.shape)\n",
    "print(y_train.shape)\n",
    "\n",
    "print(X_val.shape)\n",
    "print(y_val.shape)\n",
    "\n",
    "print(X_test.shape)\n",
    "print(y_test.shape)\n",
    "\n",
    "print(\"-----\")\n",
    "\n",
    "# Create polynomial features (set degree as desired)\n",
    "degree = 1\n",
    "poly = PolynomialFeatures(degree)\n",
    "X_train_poly = poly.fit_transform(X_train)\n",
    "X_val_poly = poly.transform(X_val)\n",
    "X_test_poly = poly.transform(X_test)\n",
    "print(X_train_poly.shape)\n",
    "features = X_train_poly.shape[-1]\n",
    "print(\"Created features\")\n",
    "\n",
    "# Initialize and fit logistic regression\n",
    "logreg = LogisticRegression(max_iter=2000, solver='sag', C=0.85)\n",
    "logreg.fit(X_train_poly, y_train)\n",
    "print(\"Fit Model\")\n",
    "\n",
    "# Evaluate on the validation set\n",
    "y_val_pred = logreg.predict(X_val_poly)\n",
    "val_accuracy = accuracy_score(y_val, y_val_pred)\n",
    "print(f\"Validation Accuracy: {val_accuracy:.4f}\")\n",
    "\n",
    "# Evaluate on the test set\n",
    "y_test_pred = logreg.predict(X_test_poly)\n",
    "test_accuracy = accuracy_score(y_test, y_test_pred)\n",
    "print(f\"Test Accuracy: {test_accuracy:.4f}\")\n",
    "\n"
   ]
  }
 ],
 "metadata": {
  "kernelspec": {
   "display_name": "Python 3 (ipykernel)",
   "language": "python",
   "name": "python3"
  },
  "language_info": {
   "codemirror_mode": {
    "name": "ipython",
    "version": 3
   },
   "file_extension": ".py",
   "mimetype": "text/x-python",
   "name": "python",
   "nbconvert_exporter": "python",
   "pygments_lexer": "ipython3",
   "version": "3.9.12"
  }
 },
 "nbformat": 4,
 "nbformat_minor": 5
}
